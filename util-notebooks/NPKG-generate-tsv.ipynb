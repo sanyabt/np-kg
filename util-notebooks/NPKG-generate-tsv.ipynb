{
 "cells": [
  {
   "cell_type": "markdown",
   "id": "532700da-731d-4e09-9d7c-afdd7cb288e5",
   "metadata": {},
   "source": [
    "## Code to generate TSV from NP-KG gpickle graph"
   ]
  },
  {
   "cell_type": "code",
   "execution_count": null,
   "id": "6672dd83-2f1e-469a-839a-23e8164d28fc",
   "metadata": {},
   "outputs": [],
   "source": [
    "# # uncomment and run to install any required modules from np-kg/requirements.txt\n",
    "# import sys\n",
    "# !{sys.executable} -m pip install -r requirements.txt"
   ]
  },
  {
   "cell_type": "code",
   "execution_count": 1,
   "id": "20e84a96-5ef3-4341-902f-1d07c3fe196d",
   "metadata": {},
   "outputs": [],
   "source": [
    "import os\n",
    "import os.path\n",
    "import networkx as nx\n",
    "import json\n",
    "import urllib\n",
    "import traceback\n",
    "from itertools import islice\n",
    "from rdflib import Graph, URIRef, BNode, Namespace, Literal\n",
    "from rdflib.namespace import RDF, OWL\n",
    "from tqdm import tqdm\n",
    "import json"
   ]
  },
  {
   "cell_type": "code",
   "execution_count": 2,
   "id": "f23c3f71-6d6e-443b-8ad2-4b582c8bf955",
   "metadata": {},
   "outputs": [],
   "source": [
    "import hashlib"
   ]
  },
  {
   "cell_type": "code",
   "execution_count": 3,
   "id": "a333fd09-7078-4ca8-9893-bc5a3287518e",
   "metadata": {},
   "outputs": [],
   "source": [
    "import pickle\n",
    "import pandas as pd\n",
    "import numpy as np"
   ]
  },
  {
   "cell_type": "code",
   "execution_count": 4,
   "id": "4e015db0-0385-4ba1-a870-de6514646b3e",
   "metadata": {},
   "outputs": [],
   "source": [
    "KG_PATH = '../resources/knowledge_graphs/'\n",
    "NodeLabelsFile = KG_PATH + 'nodeLabels_v1.0.1.pickle'\n",
    "KG_NAME_MERGED = 'PheKnowLator_machine_read_merged_instance_based_OWLNETS_v1.0.1.gpickle'"
   ]
  },
  {
   "cell_type": "code",
   "execution_count": 7,
   "id": "3bf7e5eb-0817-44bd-8eca-3439bd978591",
   "metadata": {},
   "outputs": [],
   "source": [
    "with open(NodeLabelsFile, 'rb') as filep:\n",
    "    nodeLabels = pickle.load(filep)"
   ]
  },
  {
   "cell_type": "code",
   "execution_count": 8,
   "id": "0332903a-c93f-456d-8e1f-ae8c0f8eccb4",
   "metadata": {},
   "outputs": [
    {
     "data": {
      "text/plain": [
       "757826"
      ]
     },
     "execution_count": 8,
     "metadata": {},
     "output_type": "execute_result"
    }
   ],
   "source": [
    "##labels for nodes = 753,369, edges = 7,249,576\n",
    "len(nodeLabels)"
   ]
  },
  {
   "cell_type": "code",
   "execution_count": 9,
   "id": "ba6cce33-8707-4b98-8a0a-72f6f7a038ce",
   "metadata": {},
   "outputs": [],
   "source": [
    "def get_graph_stats(kg):\n",
    "    nodes = nx.number_of_nodes(kg)\n",
    "    edges = nx.number_of_edges(kg)\n",
    "    self_loops = nx.number_of_selfloops(kg)\n",
    "\n",
    "    print('There are {} nodes, {} edges, and {} self-loop(s)'.format(nodes, edges, self_loops))\n",
    "    # get degree information\n",
    "    avg_degree = float(edges) / nodes\n",
    "    print('The Average Degree is {}'.format(avg_degree))\n",
    "    \n",
    "    print('Nodes with highest degree:')\n",
    "    n_deg = sorted([(str(x[0]), x[1]) for x in  kg.degree], key=lambda x: x[1], reverse=1)[:6]\n",
    "\n",
    "    for x in n_deg:\n",
    "        print('Label: {}'.format(nodeLabels[x[0]]))\n",
    "        print('{} (degree={})'.format(x[0], x[1]))\n",
    "    # get network density\n",
    "    density = nx.density(kg)\n",
    "\n",
    "    print('The density of the graph is: {}'.format(density))"
   ]
  },
  {
   "cell_type": "code",
   "execution_count": 10,
   "id": "53c80a3e-923d-426a-8174-3cbdbc4e28eb",
   "metadata": {},
   "outputs": [],
   "source": [
    "##READ MERGED GRAPH\n",
    "nx_graph = nx.read_gpickle(KG_PATH+KG_NAME_MERGED)"
   ]
  },
  {
   "cell_type": "code",
   "execution_count": 11,
   "id": "6063a99c-0a8d-4cb6-add5-2df162df66bb",
   "metadata": {},
   "outputs": [
    {
     "name": "stdout",
     "output_type": "stream",
     "text": [
      "There are 745512 nodes, 7249576 edges, and 521 self-loop(s)\n",
      "The Average Degree is 9.724291493631222\n",
      "Nodes with highest degree:\n",
      "Label: transcript\n",
      "http://purl.obolibrary.org/obo/SO_0000673 (degree=190860)\n",
      "Label: SNV\n",
      "http://purl.obolibrary.org/obo/SO_0001483 (degree=121020)\n",
      "Label: Homo sapiens\n",
      "http://purl.obolibrary.org/obo/NCBITaxon_9606 (degree=116704)\n",
      "Label: protein_coding_gene\n",
      "http://purl.obolibrary.org/obo/SO_0001217 (degree=105046)\n",
      "Label: testis\n",
      "http://purl.obolibrary.org/obo/UBERON_0000473 (degree=43818)\n",
      "Label: lncRNA_with_retained_intron\n",
      "http://purl.obolibrary.org/obo/SO_0002113 (degree=29340)\n",
      "The density of the graph is: 1.3043793443196979e-05\n"
     ]
    }
   ],
   "source": [
    "get_graph_stats(nx_graph)"
   ]
  },
  {
   "cell_type": "code",
   "execution_count": 12,
   "id": "d283fab5-ff8b-483b-83c6-699e50d900b3",
   "metadata": {},
   "outputs": [],
   "source": [
    "npkgdict = {\n",
    "    'subject': [],\n",
    "    'predicate': [],\n",
    "    'object': []\n",
    "}\n",
    "nodelist = []\n",
    "missing_nodes = []\n",
    "relation_list = []"
   ]
  },
  {
   "cell_type": "code",
   "execution_count": 13,
   "id": "9b071440-89b4-4890-8b2b-c2df853b994c",
   "metadata": {},
   "outputs": [],
   "source": [
    "OUTFILE = KG_PATH + 'PheKnowLator_machine_read_merged_instance_based_OWLNETS_v1.0.1.tsv'"
   ]
  },
  {
   "cell_type": "code",
   "execution_count": null,
   "id": "c2d9f9b7-3e54-418b-9c3f-4c8f994d377e",
   "metadata": {},
   "outputs": [],
   "source": [
    "#nx.write_edgelist(nx_graph, KG_PATH+'nx_edgelist_test.gz', data=True, delimiter='\\t')"
   ]
  },
  {
   "cell_type": "code",
   "execution_count": 14,
   "id": "9005c0af-ef7c-4a25-8e60-c471d154e005",
   "metadata": {},
   "outputs": [
    {
     "name": "stdout",
     "output_type": "stream",
     "text": [
      "Completed edges:  100000\n",
      "Saved edges:  100000\n",
      "Completed edges:  200000\n",
      "Saved edges:  200000\n",
      "Completed edges:  300000\n",
      "Saved edges:  300000\n",
      "Completed edges:  400000\n",
      "Saved edges:  400000\n",
      "Completed edges:  500000\n",
      "Saved edges:  500000\n",
      "Completed edges:  600000\n",
      "Saved edges:  600000\n",
      "Completed edges:  700000\n",
      "Saved edges:  700000\n",
      "Completed edges:  800000\n",
      "Saved edges:  800000\n",
      "Completed edges:  900000\n",
      "Saved edges:  900000\n",
      "Completed edges:  1000000\n",
      "Saved edges:  1000000\n",
      "Completed edges:  1100000\n",
      "Saved edges:  1100000\n",
      "Completed edges:  1200000\n",
      "Saved edges:  1200000\n",
      "Completed edges:  1300000\n",
      "Saved edges:  1300000\n",
      "Completed edges:  1400000\n",
      "Saved edges:  1400000\n",
      "Completed edges:  1500000\n",
      "Saved edges:  1500000\n",
      "Completed edges:  1600000\n",
      "Saved edges:  1600000\n",
      "Completed edges:  1700000\n",
      "Saved edges:  1700000\n",
      "Completed edges:  1800000\n",
      "Saved edges:  1800000\n",
      "Completed edges:  1900000\n",
      "Saved edges:  1900000\n",
      "Completed edges:  2000000\n",
      "Saved edges:  2000000\n",
      "Completed edges:  2100000\n",
      "Saved edges:  2100000\n",
      "Completed edges:  2200000\n",
      "Saved edges:  2200000\n",
      "Completed edges:  2300000\n",
      "Saved edges:  2300000\n",
      "Completed edges:  2400000\n",
      "Saved edges:  2400000\n",
      "Completed edges:  2500000\n",
      "Saved edges:  2500000\n",
      "Completed edges:  2600000\n",
      "Saved edges:  2600000\n",
      "Completed edges:  2700000\n",
      "Saved edges:  2700000\n",
      "Completed edges:  2800000\n",
      "Saved edges:  2800000\n",
      "Completed edges:  2900000\n",
      "Saved edges:  2900000\n",
      "Completed edges:  3000000\n",
      "Saved edges:  3000000\n",
      "Completed edges:  3100000\n",
      "Saved edges:  3100000\n",
      "Completed edges:  3200000\n",
      "Saved edges:  3200000\n",
      "Completed edges:  3300000\n",
      "Saved edges:  3300000\n",
      "Completed edges:  3400000\n",
      "Saved edges:  3400000\n",
      "Completed edges:  3500000\n",
      "Saved edges:  3500000\n",
      "Completed edges:  3600000\n",
      "Saved edges:  3600000\n",
      "Completed edges:  3700000\n",
      "Saved edges:  3700000\n",
      "Completed edges:  3800000\n",
      "Saved edges:  3800000\n",
      "Completed edges:  3900000\n",
      "Saved edges:  3900000\n",
      "Completed edges:  4000000\n",
      "Saved edges:  4000000\n",
      "Completed edges:  4100000\n",
      "Saved edges:  4100000\n",
      "Completed edges:  4200000\n",
      "Saved edges:  4200000\n",
      "Completed edges:  4300000\n",
      "Saved edges:  4300000\n",
      "Completed edges:  4400000\n",
      "Saved edges:  4400000\n",
      "Completed edges:  4500000\n",
      "Saved edges:  4500000\n",
      "Completed edges:  4600000\n",
      "Saved edges:  4600000\n",
      "Completed edges:  4700000\n",
      "Saved edges:  4700000\n",
      "Completed edges:  4800000\n",
      "Saved edges:  4800000\n",
      "Completed edges:  4900000\n",
      "Saved edges:  4900000\n",
      "Completed edges:  5000000\n",
      "Saved edges:  5000000\n",
      "Completed edges:  5100000\n",
      "Saved edges:  5100000\n",
      "Completed edges:  5200000\n",
      "Saved edges:  5200000\n",
      "Completed edges:  5300000\n",
      "Saved edges:  5300000\n",
      "Completed edges:  5400000\n",
      "Saved edges:  5400000\n",
      "Completed edges:  5500000\n",
      "Saved edges:  5500000\n",
      "Completed edges:  5600000\n",
      "Saved edges:  5600000\n",
      "Completed edges:  5700000\n",
      "Saved edges:  5700000\n",
      "Completed edges:  5800000\n",
      "Saved edges:  5800000\n",
      "Completed edges:  5900000\n",
      "Saved edges:  5900000\n",
      "Completed edges:  6000000\n",
      "Saved edges:  6000000\n",
      "Completed edges:  6100000\n",
      "Saved edges:  6100000\n",
      "Completed edges:  6200000\n",
      "Saved edges:  6200000\n",
      "Completed edges:  6300000\n",
      "Saved edges:  6300000\n",
      "Completed edges:  6400000\n",
      "Saved edges:  6400000\n",
      "Completed edges:  6500000\n",
      "Saved edges:  6500000\n",
      "Completed edges:  6600000\n",
      "Saved edges:  6600000\n",
      "Completed edges:  6700000\n",
      "Saved edges:  6700000\n",
      "Completed edges:  6800000\n",
      "Saved edges:  6800000\n",
      "Completed edges:  6900000\n",
      "Saved edges:  6900000\n",
      "Completed edges:  7000000\n",
      "Saved edges:  7000000\n",
      "Completed edges:  7100000\n",
      "Saved edges:  7100000\n",
      "Completed edges:  7200000\n",
      "Saved edges:  7200000\n",
      "Completed edges:  7249576\n",
      "Saved edges:  7249576\n"
     ]
    }
   ],
   "source": [
    "i = 0\n",
    "for edge in nx_graph.edges():\n",
    "    edgelist = list(nx_graph.get_edge_data(edge[0], edge[1]))\n",
    "    if edgelist:\n",
    "        subj = str(edge[0])\n",
    "        obj = str(edge[1])\n",
    "        if subj not in nodelist:\n",
    "            nodelist.append(subj)\n",
    "            if subj not in nodeLabels:\n",
    "                missing_nodes.append(subj)\n",
    "        if obj not in nodelist:\n",
    "            nodelist.append(obj)\n",
    "            if obj not in nodeLabels:\n",
    "                missing_nodes.append(obj)\n",
    "        for item in edgelist:\n",
    "            npkgdict['subject'].append(subj)\n",
    "            npkgdict['object'].append(obj)\n",
    "            npkgdict['predicate'].append(str(item))\n",
    "            if str(item) not in relation_list:\n",
    "                relation_list.append(str(item))\n",
    "                if str(item) not in nodeLabels:\n",
    "                    missing_nodes.append(str(item))\n",
    "    i = i+1\n",
    "    if i%100000 == 0:\n",
    "        print('Completed edges: ', i)\n",
    "        df = pd.DataFrame.from_dict(npkgdict)\n",
    "        df = df.drop_duplicates(ignore_index=True)\n",
    "        df.to_csv(OUTFILE, sep='\\t', mode='a', index=False, header=False)\n",
    "        npkgdict['subject'] = []\n",
    "        npkgdict['predicate'] = []\n",
    "        npkgdict['object'] = []\n",
    "        print('Saved edges: ', i)\n",
    "print('Completed edges: ', i)\n",
    "df = pd.DataFrame.from_dict(npkgdict)\n",
    "df = df.drop_duplicates(ignore_index=True)\n",
    "df.to_csv(OUTFILE, sep='\\t', mode='a', index=False, header=False)\n",
    "print('Saved edges: ', i)"
   ]
  },
  {
   "cell_type": "code",
   "execution_count": 15,
   "id": "79e8c511-b681-4c85-94a5-1f208643324d",
   "metadata": {},
   "outputs": [
    {
     "data": {
      "text/plain": [
       "745512"
      ]
     },
     "execution_count": 15,
     "metadata": {},
     "output_type": "execute_result"
    }
   ],
   "source": [
    "#start time: 7.08pm approx (20220820)\n",
    "len(nodelist)"
   ]
  },
  {
   "cell_type": "code",
   "execution_count": 16,
   "id": "7b92f726-3a2e-4ab3-a6dd-3e04261acfbf",
   "metadata": {},
   "outputs": [
    {
     "data": {
      "text/plain": [
       "299"
      ]
     },
     "execution_count": 16,
     "metadata": {},
     "output_type": "execute_result"
    }
   ],
   "source": [
    "len(relation_list)"
   ]
  },
  {
   "cell_type": "code",
   "execution_count": 17,
   "id": "c3b2b99f-a8f9-41d6-98eb-c100fbd0a95a",
   "metadata": {},
   "outputs": [
    {
     "data": {
      "text/plain": [
       "0"
      ]
     },
     "execution_count": 17,
     "metadata": {},
     "output_type": "execute_result"
    }
   ],
   "source": [
    "len(missing_nodes)"
   ]
  },
  {
   "cell_type": "code",
   "execution_count": 18,
   "id": "beb5ddfe-b106-4944-9017-fd304b3e91f6",
   "metadata": {},
   "outputs": [
    {
     "name": "stdout",
     "output_type": "stream",
     "text": [
      "49604 49604 49604\n"
     ]
    }
   ],
   "source": [
    "print(len(npkgdict['subject']), len(npkgdict['predicate']), len(npkgdict['object']))"
   ]
  },
  {
   "cell_type": "code",
   "execution_count": 19,
   "id": "c5f689ee-82cb-4e72-8e2e-9245eeb9f772",
   "metadata": {},
   "outputs": [],
   "source": [
    "with open('../resources/NPKG_nodelist.txt', 'w') as fileo:\n",
    "    for item in nodelist:\n",
    "        fileo.write(item+'\\n')"
   ]
  },
  {
   "cell_type": "code",
   "execution_count": 20,
   "id": "06d294f8-ab38-4dd6-be45-cc57f004d7fb",
   "metadata": {},
   "outputs": [],
   "source": [
    "with open('../resources/NPKG_relationlist.txt', 'w') as fileo2:\n",
    "    for item in relation_list:\n",
    "        fileo2.write(item+'\\n')"
   ]
  },
  {
   "cell_type": "code",
   "execution_count": 21,
   "id": "038e3cfd-8a2d-4414-95fd-1ac034763d55",
   "metadata": {},
   "outputs": [],
   "source": [
    "with open('../resources/NPKG_missing_nodelabels.txt', 'w') as fileo3:\n",
    "    for item in missing_nodes:\n",
    "        fileo3.write(item+'\\n')"
   ]
  },
  {
   "cell_type": "markdown",
   "id": "e50201fd-842e-49dc-a559-223add784616",
   "metadata": {},
   "source": [
    "### Save TSV with only CURIES (solve issue #5)"
   ]
  },
  {
   "cell_type": "code",
   "execution_count": 7,
   "id": "953b6889-361a-4546-84d7-0c6fd948ce76",
   "metadata": {},
   "outputs": [],
   "source": [
    "INFILE = KG_PATH + 'PheKnowLator_machine_read_merged_instance_based_OWLNETS_v1.0.1.tsv'\n",
    "OUTFILE = KG_PATH + 'NP-KG-merged-instance-based-OWLNETS-CURIE-only-v1.0.1.tsv'"
   ]
  },
  {
   "cell_type": "code",
   "execution_count": 6,
   "id": "bcee0c3c-7396-4b36-a13c-175077b5140b",
   "metadata": {},
   "outputs": [],
   "source": [
    "import csv"
   ]
  },
  {
   "cell_type": "code",
   "execution_count": 8,
   "id": "a15fca14-948f-47fc-a942-c4db716c2e46",
   "metadata": {},
   "outputs": [
    {
     "data": {
      "text/plain": [
       "745512"
      ]
     },
     "execution_count": 8,
     "metadata": {},
     "output_type": "execute_result"
    }
   ],
   "source": [
    "##find all node prefixes\n",
    "##see Notion (NP-KG TSV Processing)\n",
    "with open('../resources/NPKG_nodelist.txt', 'r') as filei:\n",
    "    nodes = filei.readlines()\n",
    "len(nodes)"
   ]
  },
  {
   "cell_type": "code",
   "execution_count": 13,
   "id": "4d0a649b-ff19-4d9e-91c6-36130902aa36",
   "metadata": {},
   "outputs": [
    {
     "name": "stdout",
     "output_type": "stream",
     "text": [
      "365987\n",
      "46\n"
     ]
    }
   ],
   "source": [
    "prefixlist = []\n",
    "curielist = []\n",
    "for node in nodes:\n",
    "    if 'http://purl.obolibrary.org/obo/' in node:\n",
    "        onto = node.strip().replace('http://purl.obolibrary.org/obo/', '')\n",
    "        curie = onto.split('_')[0]\n",
    "        if curie not in curielist:\n",
    "            curielist.append(curie)\n",
    "    else:\n",
    "        prefixlist.append(node.strip())\n",
    "print(len(prefixlist))\n",
    "print(len(curielist))"
   ]
  },
  {
   "cell_type": "code",
   "execution_count": 14,
   "id": "3dfa4fe2-9fe4-498e-8d6b-f3898850ba60",
   "metadata": {},
   "outputs": [
    {
     "data": {
      "text/plain": [
       "['CHEBI',\n",
       " 'PR',\n",
       " 'GO',\n",
       " 'HP',\n",
       " 'MONDO',\n",
       " 'NCBITaxon',\n",
       " 'CL',\n",
       " 'UBERON',\n",
       " 'CLO',\n",
       " 'SO',\n",
       " 'SLC47A1SYNONYM',\n",
       " 'DOID',\n",
       " 'PO',\n",
       " 'FOODON',\n",
       " 'PW',\n",
       " 'PATO',\n",
       " 'BFO',\n",
       " 'MPATH',\n",
       " 'SLC47A1[SYNONYM',\n",
       " 'SLC47A1',\n",
       " 'CARO',\n",
       " 'http',\n",
       " 'NBO',\n",
       " 'OBO',\n",
       " 'ECTO',\n",
       " 'OGG',\n",
       " 'MOD',\n",
       " 'MF',\n",
       " 'GNO',\n",
       " 'ENVO',\n",
       " 'ExO',\n",
       " 'MFOMD',\n",
       " 'NCIT',\n",
       " 'OAE',\n",
       " 'HsapDv',\n",
       " 'MFOEM',\n",
       " 'OGMS',\n",
       " 'VO',\n",
       " 'FBbt',\n",
       " 'MAXO',\n",
       " 'PCO',\n",
       " 'CP',\n",
       " 'OBA',\n",
       " 'UMLS',\n",
       " 'UPHENO',\n",
       " 'FMA']"
      ]
     },
     "execution_count": 14,
     "metadata": {},
     "output_type": "execute_result"
    }
   ],
   "source": [
    "curielist"
   ]
  },
  {
   "cell_type": "code",
   "execution_count": 27,
   "id": "d7296136-e457-4a8a-a001-c5a9e06209ba",
   "metadata": {},
   "outputs": [
    {
     "data": {
      "text/plain": [
       "22"
      ]
     },
     "execution_count": 27,
     "metadata": {},
     "output_type": "execute_result"
    }
   ],
   "source": [
    "prefixlist2 = []\n",
    "for prefix in prefixlist:\n",
    "    if 'napdi' in prefix or 'https://reactome.org/content/detail/' in prefix \\\n",
    "    or 'http://www.ncbi.nlm.nih.gov/gene/' in prefix or 'https://uswest.ensembl.org/Homo_sapiens/Transcript/Summary?' \\\n",
    "    in prefix or 'http://www.ebi.ac.uk/cellline#' in prefix or 'http://www.ebi.ac.uk/efo/' in prefix or \\\n",
    "    'https://www.ncbi.nlm.nih.gov/snp/' in prefix or 'http://ihtsdo.org/snomedct/' in prefix:\n",
    "        continue\n",
    "    else:\n",
    "        prefixlist2.append(prefix)\n",
    "len(prefixlist2)"
   ]
  },
  {
   "cell_type": "code",
   "execution_count": 26,
   "id": "3fdae8dc-c221-40e1-8206-a0e045f68db8",
   "metadata": {},
   "outputs": [
    {
     "data": {
      "text/plain": [
       "['http://ncicb.nci.nih.gov/xml/owl/EVS/Thesaurus.owl#Amniotic_Fluid',\n",
       " 'http://www.w3.org/2002/07/owl#Nothing',\n",
       " 'http://sig.uw.edu/fma#Calcaneal_tendon',\n",
       " 'http://ncicb.nci.nih.gov/xml/owl/EVS/Thesaurus.owl#Amniotic_Sac',\n",
       " 'http://ncicb.nci.nih.gov/xml/owl/EVS/Thesaurus.owl#Embryonic_Fluid',\n",
       " 'http://sig.uw.edu/fma#Umbilicus',\n",
       " 'http://sig.uw.edu/fma#Common_iliac_artery',\n",
       " 'http://www.genenames.org/cgi-bin/gene_symbol_report?hgnc_id=33204',\n",
       " 'http://sig.uw.edu/fma#Trachealis',\n",
       " 'http://sig.uw.edu/fma#Iliac_crest',\n",
       " 'http://ncicb.nci.nih.gov/xml/owl/EVS/Thesaurus.owl#Gonad',\n",
       " 'http://ncicb.nci.nih.gov/xml/owl/EVS/Thesaurus.owl#Iliac_Vein',\n",
       " 'http://sig.uw.edu/fma#External_genitalia',\n",
       " 'http://sig.uw.edu/fma#Tunica_albuginea_of_testis',\n",
       " 'http://sig.uw.edu/fma#Amnion',\n",
       " 'http://sig.uw.edu/fma#Ischium',\n",
       " 'http://purl.bioontology.org/ontology/SNOMEDCT/277441005',\n",
       " 'http://www.genenames.org/cgi-bin/gene_symbol_report?hgnc_id=53650',\n",
       " 'http://ncicb.nci.nih.gov/xml/owl/EVS/Thesaurus.owl#Chorionic_Villus',\n",
       " 'http://www.genenames.org/cgi-bin/gene_symbol_report?hgnc_id=51846',\n",
       " 'http://sig.uw.edu/fma#Scalp',\n",
       " 'http://sig.uw.edu/fma#Right_ischium']"
      ]
     },
     "execution_count": 26,
     "metadata": {},
     "output_type": "execute_result"
    }
   ],
   "source": [
    "prefixlist3"
   ]
  },
  {
   "cell_type": "code",
   "execution_count": null,
   "id": "e058a82d-bb25-4a31-a148-39ee6737d8e4",
   "metadata": {},
   "outputs": [],
   "source": []
  },
  {
   "cell_type": "code",
   "execution_count": 37,
   "id": "a0daf060-5df2-4995-85f7-724a5e114f2e",
   "metadata": {},
   "outputs": [],
   "source": [
    "def relation_curie(rel):\n",
    "    newrel = rel\n",
    "    if 'uberon' in rel:\n",
    "        newrel = 'uberon:'+rel.split('#')[1]\n",
    "    elif 'rdf-schema' in rel:\n",
    "        newrel = 'rdfs:'+rel.split('#')[1]\n",
    "    elif 'rdf-syntax' in rel:\n",
    "        newrel = 'rdf:'+rel.split('#')[1]\n",
    "    elif 'ro.owl' in rel:\n",
    "        newrel = 'ro:'+rel.split('#')[1]\n",
    "    else:\n",
    "        temp = rel.split('/')[-1]\n",
    "        newrel = temp.replace('_', ':').lower()\n",
    "    return newrel"
   ]
  },
  {
   "cell_type": "code",
   "execution_count": 38,
   "id": "05e23c91-0d42-4462-afe2-2f6d47474152",
   "metadata": {},
   "outputs": [],
   "source": [
    "def node_curie(node):\n",
    "    nodecurie = node\n",
    "    if 'SLC47A1SYNONYM' in node or 'SLC47A1[SYNONYM' in node or 'SLC47A1' in node:\n",
    "        return node\n",
    "    elif 'http://purl.obolibrary.org/obo/http' in node:\n",
    "        return node\n",
    "    elif 'http://purl.obolibrary.org/obo/OBO_' in node:\n",
    "        tempnode = node.replace('http://purl.obolibrary.org/obo/OBO_', '')\n",
    "        nodecurie = tempnode.replace('_',':').lower()\n",
    "    elif 'napdi' in node:\n",
    "        nodecurie = node.split('/')[-1]\n",
    "    elif 'reactome' in node:\n",
    "        nodecurie = 'reactome:'+node.split('/')[-1]\n",
    "    elif 'http://www.ncbi.nlm.nih.gov/gene/' in node:\n",
    "        nodecurie = 'ncbigene:'+node.split('/')[-1]\n",
    "    elif 'https://uswest.ensembl.org/Homo_sapiens/Transcript/Summary?' in node:\n",
    "        nodecurie = node.replace('https://uswest.ensembl.org/Homo_sapiens/Transcript/Summary?t=', 'ensembl:')\n",
    "    elif 'http://www.ebi.ac.uk/efo/' in node:\n",
    "        tempnode = node.split('/')[-1]\n",
    "        nodecurie = tempnode.replace('_',':').lower()\n",
    "    elif 'http://ihtsdo.org/snomedct/' in node or 'http://purl.bioontology.org/ontology/SNOMEDCT/' in node:\n",
    "        nodecurie = 'snomedct:'+node.split('/')[-1]\n",
    "    elif 'https://www.ncbi.nlm.nih.gov/snp/' in node:\n",
    "        nodecurie = 'dbsnp:'+node.split('/')[-1]\n",
    "    elif 'http://www.w3.org/2002/07/' in node:\n",
    "        tempnode = node.split('/')[-1]\n",
    "        nodecurie = 'owl:'+tempnode.split('#')[-1]\n",
    "    elif 'hgnc_id' in node:\n",
    "        nodecurie = 'hgnc:'+node.split('=')[-1]\n",
    "    elif 'http://sig.uw.edu/fma' in node:\n",
    "        tempnode = node.split('/')[-1]\n",
    "        nodecurie = 'fma:'+tempnode.split('#')[-1]\n",
    "    elif 'http://ncicb.nci.nih.gov/xml/owl/EVS/Thesaurus.owl' in node:\n",
    "        tempnode = node.replace('http://ncicb.nci.nih.gov/xml/owl/EVS/Thesaurus.owl#', '')\n",
    "        nodecurie = 'ncit:'+tempnode\n",
    "    else:\n",
    "        tempnode = node.replace('http://purl.obolibrary.org/obo/', '')\n",
    "        nodecurie = tempnode.replace('_',':').lower()\n",
    "    return nodecurie"
   ]
  },
  {
   "cell_type": "code",
   "execution_count": null,
   "id": "b0abb8e5-dbe6-4444-8b9f-9539c31b72d1",
   "metadata": {},
   "outputs": [],
   "source": [
    "##also create new nodelabels with curies"
   ]
  },
  {
   "cell_type": "code",
   "execution_count": 59,
   "id": "a79c4f7d-2e29-469c-a07c-d022b1389de4",
   "metadata": {},
   "outputs": [
    {
     "name": "stdout",
     "output_type": "stream",
     "text": [
      "Completed edges:  100000\n",
      "Completed edges:  200000\n",
      "Completed edges:  300000\n",
      "Completed edges:  400000\n",
      "Completed edges:  500000\n",
      "Completed edges:  600000\n",
      "Completed edges:  700000\n",
      "Completed edges:  800000\n",
      "Completed edges:  900000\n",
      "Completed edges:  1000000\n",
      "Completed edges:  1100000\n",
      "Completed edges:  1200000\n",
      "Completed edges:  1300000\n",
      "Completed edges:  1400000\n",
      "Completed edges:  1500000\n",
      "Completed edges:  1600000\n",
      "Completed edges:  1700000\n",
      "Completed edges:  1800000\n",
      "Completed edges:  1900000\n",
      "Completed edges:  2000000\n",
      "Completed edges:  2100000\n",
      "Completed edges:  2200000\n",
      "Completed edges:  2300000\n",
      "Completed edges:  2400000\n",
      "Completed edges:  2500000\n",
      "Completed edges:  2600000\n",
      "Completed edges:  2700000\n",
      "Completed edges:  2800000\n",
      "Completed edges:  2900000\n",
      "Completed edges:  3000000\n",
      "Completed edges:  3100000\n",
      "Completed edges:  3200000\n",
      "Completed edges:  3300000\n",
      "Completed edges:  3400000\n",
      "Completed edges:  3500000\n",
      "Completed edges:  3600000\n",
      "Completed edges:  3700000\n",
      "Completed edges:  3800000\n",
      "Completed edges:  3900000\n",
      "Completed edges:  4000000\n",
      "Completed edges:  4100000\n",
      "Completed edges:  4200000\n",
      "Completed edges:  4300000\n",
      "Completed edges:  4400000\n",
      "Completed edges:  4500000\n",
      "Completed edges:  4600000\n",
      "Completed edges:  4700000\n",
      "Completed edges:  4800000\n",
      "Completed edges:  4900000\n",
      "Completed edges:  5000000\n",
      "Completed edges:  5100000\n",
      "Completed edges:  5200000\n",
      "Completed edges:  5300000\n",
      "Completed edges:  5400000\n",
      "Completed edges:  5500000\n",
      "Completed edges:  5600000\n",
      "Completed edges:  5700000\n",
      "Completed edges:  5800000\n",
      "Completed edges:  5900000\n",
      "Completed edges:  6000000\n",
      "Completed edges:  6100000\n",
      "Completed edges:  6200000\n",
      "Completed edges:  6300000\n",
      "Completed edges:  6400000\n",
      "Completed edges:  6500000\n",
      "Completed edges:  6600000\n",
      "Completed edges:  6700000\n",
      "Completed edges:  6800000\n",
      "Completed edges:  6900000\n",
      "Completed edges:  7000000\n",
      "Completed edges:  7100000\n",
      "Completed edges:  7200000\n"
     ]
    }
   ],
   "source": [
    "with open(INFILE, 'r') as fin, open(OUTFILE, 'w') as fout:\n",
    "    freader = csv.reader(fin, delimiter='\\t')\n",
    "    fwriter = csv.writer(fout, delimiter='\\t')\n",
    "    fwriter.writerow(['source', 'relation', 'target'])\n",
    "    idx = 1\n",
    "    for row in freader:\n",
    "        try:\n",
    "            npkg_subject = row[0]\n",
    "            npkg_relation = row[1]\n",
    "            npkg_object = row[2]\n",
    "            rel_curie = relation_curie(npkg_relation)\n",
    "            subject_curie = node_curie(npkg_subject)\n",
    "            object_curie = node_curie(npkg_object)\n",
    "            fwriter.writerow([subject_curie, rel_curie, object_curie])\n",
    "        except Exception as e:\n",
    "            print('Error: ', e)\n",
    "            print(idx)\n",
    "            print(row)\n",
    "        idx+=1\n",
    "        if idx%100000 == 0:\n",
    "            print('Completed edges: ', idx)"
   ]
  },
  {
   "cell_type": "code",
   "execution_count": 60,
   "id": "f23ae404-158b-4573-bc01-ce1be7b29b51",
   "metadata": {},
   "outputs": [],
   "source": [
    "NODEINFILE = KG_PATH + 'nodeLabels_v1.0.1.tsv'\n",
    "NODEOUTFILE = KG_PATH + 'nodeLabels_CURIE_v1.0.1.tsv'"
   ]
  },
  {
   "cell_type": "code",
   "execution_count": 61,
   "id": "23f1765f-63f2-4e73-afe8-4234d352ceac",
   "metadata": {},
   "outputs": [
    {
     "name": "stdout",
     "output_type": "stream",
     "text": [
      "Completed nodes:  10000\n",
      "Completed nodes:  20000\n",
      "Completed nodes:  30000\n",
      "Completed nodes:  40000\n",
      "Completed nodes:  50000\n",
      "Completed nodes:  60000\n",
      "Completed nodes:  70000\n",
      "Completed nodes:  80000\n",
      "Completed nodes:  90000\n",
      "Completed nodes:  100000\n",
      "Completed nodes:  110000\n",
      "Completed nodes:  120000\n",
      "Completed nodes:  130000\n",
      "Completed nodes:  140000\n",
      "Completed nodes:  150000\n",
      "Completed nodes:  160000\n",
      "Completed nodes:  170000\n",
      "Completed nodes:  180000\n",
      "Completed nodes:  190000\n",
      "Completed nodes:  200000\n",
      "Completed nodes:  210000\n",
      "Completed nodes:  220000\n",
      "Completed nodes:  230000\n",
      "Completed nodes:  240000\n",
      "Completed nodes:  250000\n",
      "Completed nodes:  260000\n",
      "Completed nodes:  270000\n",
      "Completed nodes:  280000\n",
      "Completed nodes:  290000\n",
      "Completed nodes:  300000\n",
      "Completed nodes:  310000\n",
      "Completed nodes:  320000\n",
      "Completed nodes:  330000\n",
      "Completed nodes:  340000\n",
      "Completed nodes:  350000\n",
      "Completed nodes:  360000\n",
      "Completed nodes:  370000\n",
      "Completed nodes:  380000\n",
      "Completed nodes:  390000\n",
      "Completed nodes:  400000\n",
      "Completed nodes:  410000\n",
      "Completed nodes:  420000\n",
      "Completed nodes:  430000\n",
      "Completed nodes:  440000\n",
      "Completed nodes:  450000\n",
      "Completed nodes:  460000\n",
      "Completed nodes:  470000\n",
      "Completed nodes:  480000\n",
      "Completed nodes:  490000\n",
      "Completed nodes:  500000\n",
      "Completed nodes:  510000\n",
      "Completed nodes:  520000\n",
      "Completed nodes:  530000\n",
      "Completed nodes:  540000\n",
      "Completed nodes:  550000\n",
      "Completed nodes:  560000\n",
      "Completed nodes:  570000\n",
      "Completed nodes:  580000\n",
      "Completed nodes:  590000\n",
      "Completed nodes:  600000\n",
      "Completed nodes:  610000\n",
      "Completed nodes:  620000\n",
      "Completed nodes:  630000\n",
      "Completed nodes:  640000\n",
      "Completed nodes:  650000\n",
      "Completed nodes:  660000\n",
      "Completed nodes:  670000\n",
      "Completed nodes:  680000\n",
      "Completed nodes:  690000\n",
      "Completed nodes:  700000\n",
      "Completed nodes:  710000\n",
      "Completed nodes:  720000\n",
      "Completed nodes:  730000\n",
      "Completed nodes:  740000\n",
      "Completed nodes:  750000\n"
     ]
    }
   ],
   "source": [
    "##node labels with CURIEs\n",
    "with open(NODEINFILE, 'r') as nodein, open(NODEOUTFILE, 'w') as nodeout:\n",
    "    freader = csv.reader(nodein, delimiter='\\t')\n",
    "    fwriter = csv.writer(nodeout, delimiter='\\t')\n",
    "    fwriter.writerow(['source', 'entity_label'])\n",
    "    next(freader)\n",
    "    idx = 1\n",
    "    for row in freader:\n",
    "        try:\n",
    "            npkg_node = row[0]\n",
    "            npkg_label = row[1]\n",
    "            nodecurie = node_curie(npkg_node)\n",
    "            fwriter.writerow([nodecurie, npkg_label])\n",
    "        except Exception as e:\n",
    "            print('Error: ', e)\n",
    "            print(idx)\n",
    "            print(row)\n",
    "        idx+=1\n",
    "        if idx%10000 == 0:\n",
    "            print('Completed nodes: ', idx)"
   ]
  },
  {
   "cell_type": "code",
   "execution_count": null,
   "id": "f91dfac4-16f7-4e11-bed7-f94c0d64a855",
   "metadata": {},
   "outputs": [],
   "source": []
  }
 ],
 "metadata": {
  "kernelspec": {
   "display_name": "Python 3",
   "language": "python",
   "name": "python3"
  },
  "language_info": {
   "codemirror_mode": {
    "name": "ipython",
    "version": 3
   },
   "file_extension": ".py",
   "mimetype": "text/x-python",
   "name": "python",
   "nbconvert_exporter": "python",
   "pygments_lexer": "ipython3",
   "version": "3.6.13"
  }
 },
 "nbformat": 4,
 "nbformat_minor": 5
}
