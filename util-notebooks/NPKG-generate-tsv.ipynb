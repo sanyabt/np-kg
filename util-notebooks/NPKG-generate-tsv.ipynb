{
 "cells": [
  {
   "attachments": {},
   "cell_type": "markdown",
   "id": "dental-demonstration",
   "metadata": {},
   "source": [
    "## Code to generate TSV from NP-KG gpickle graph\n",
    "\n",
    "1. Load merged pickle graph.\n",
    "2. Create TSV with URIs.\n",
    "3. Create TSV with CURIEs.\n",
    "4. Create node labels with CURIEs.\n",
    "\n",
    "See weighting experiments for TSV files with weights."
   ]
  },
  {
   "cell_type": "code",
   "execution_count": null,
   "id": "affecting-retreat",
   "metadata": {},
   "outputs": [],
   "source": [
    "# # uncomment and run to install any required modules from np-kg/requirements.txt\n",
    "# import sys\n",
    "# !{sys.executable} -m pip install -r requirements.txt"
   ]
  },
  {
   "cell_type": "code",
   "execution_count": 1,
   "id": "grand-member",
   "metadata": {},
   "outputs": [],
   "source": [
    "import os\n",
    "import os.path\n",
    "import networkx as nx\n",
    "import json\n",
    "import urllib\n",
    "import traceback\n",
    "from itertools import islice\n",
    "from rdflib import Graph, URIRef, BNode, Namespace, Literal\n",
    "from rdflib.namespace import RDF, OWL\n",
    "from tqdm import tqdm\n",
    "import json"
   ]
  },
  {
   "cell_type": "code",
   "execution_count": 2,
   "id": "convertible-oregon",
   "metadata": {},
   "outputs": [],
   "source": [
    "import hashlib"
   ]
  },
  {
   "cell_type": "code",
   "execution_count": 3,
   "id": "enabling-textbook",
   "metadata": {},
   "outputs": [],
   "source": [
    "import pickle\n",
    "import pandas as pd\n",
    "import numpy as np"
   ]
  },
  {
   "cell_type": "code",
   "execution_count": 4,
   "id": "elect-viewer",
   "metadata": {},
   "outputs": [],
   "source": [
    "KG_PATH = '../resources/knowledge_graphs/'\n",
    "NodeLabelsFile = KG_PATH + 'nodeLabels_v3.0.0.pickle'\n",
    "KG_NAME_MERGED = 'NP-KG_v3.0.0.gpickle'"
   ]
  },
  {
   "cell_type": "code",
   "execution_count": 5,
   "id": "distinct-gambling",
   "metadata": {},
   "outputs": [],
   "source": [
    "with open(NodeLabelsFile, 'rb') as filep:\n",
    "    nodeLabels = pickle.load(filep)"
   ]
  },
  {
   "cell_type": "code",
   "execution_count": 6,
   "id": "qualified-speaking",
   "metadata": {},
   "outputs": [
    {
     "data": {
      "text/plain": [
       "1089472"
      ]
     },
     "execution_count": 6,
     "metadata": {},
     "output_type": "execute_result"
    }
   ],
   "source": [
    "##N (v1.0.1) = 757826\n",
    "len(nodeLabels)"
   ]
  },
  {
   "cell_type": "code",
   "execution_count": 7,
   "id": "faced-november",
   "metadata": {},
   "outputs": [],
   "source": [
    "def get_graph_stats(kg):\n",
    "    nodes = nx.number_of_nodes(kg)\n",
    "    edges = nx.number_of_edges(kg)\n",
    "    self_loops = nx.number_of_selfloops(kg)\n",
    "\n",
    "    print('There are {} nodes, {} edges, and {} self-loop(s)'.format(nodes, edges, self_loops))\n",
    "    # get degree information\n",
    "    avg_degree = float(edges) / nodes\n",
    "    print('The Average Degree is {}'.format(avg_degree))\n",
    "    \n",
    "    print('Nodes with highest degree:')\n",
    "    n_deg = sorted([(str(x[0]), x[1]) for x in  kg.degree], key=lambda x: x[1], reverse=1)[:6]\n",
    "\n",
    "    for x in n_deg:\n",
    "        print('Label: {}'.format(nodeLabels[x[0]]))\n",
    "        print('{} (degree={})'.format(x[0], x[1]))\n",
    "    # get network density\n",
    "    density = nx.density(kg)\n",
    "\n",
    "    print('The density of the graph is: {}'.format(density))"
   ]
  },
  {
   "cell_type": "code",
   "execution_count": 8,
   "id": "assumed-kuwait",
   "metadata": {},
   "outputs": [],
   "source": [
    "##READ MERGED GRAPH\n",
    "with open(KG_PATH+KG_NAME_MERGED, 'rb') as filep:\n",
    "    nx_graph = pickle.load(filep)"
   ]
  },
  {
   "cell_type": "code",
   "execution_count": 9,
   "id": "comprehensive-warner",
   "metadata": {},
   "outputs": [
    {
     "name": "stdout",
     "output_type": "stream",
     "text": [
      "There are 1089139 nodes, 7836115 edges, and 658 self-loop(s)\n",
      "The Average Degree is 7.194779546045087\n",
      "Nodes with highest degree:\n",
      "Label: SNV\n",
      "http://purl.obolibrary.org/obo/SO_0001483 (degree=214261)\n",
      "Label: protein_coding_gene\n",
      "http://purl.obolibrary.org/obo/SO_0001217 (degree=189350)\n",
      "Label: transcript\n",
      "http://purl.obolibrary.org/obo/SO_0000673 (degree=178310)\n",
      "Label: Homo sapiens\n",
      "http://purl.obolibrary.org/obo/NCBITaxon_9606 (degree=91924)\n",
      "Label: protein\n",
      "http://purl.obolibrary.org/obo/PR_000000001 (degree=56361)\n",
      "Label: Mus musculus\n",
      "http://purl.obolibrary.org/obo/NCBITaxon_10090 (degree=53597)\n",
      "The density of the graph is: 6.605939326371026e-06\n"
     ]
    }
   ],
   "source": [
    "get_graph_stats(nx_graph)"
   ]
  },
  {
   "cell_type": "code",
   "execution_count": 10,
   "id": "solid-summer",
   "metadata": {},
   "outputs": [],
   "source": [
    "npkgdict = {\n",
    "    'subject': [],\n",
    "    'predicate': [],\n",
    "    'object': []\n",
    "}\n",
    "nodelist = []\n",
    "missing_nodes = []\n",
    "relation_list = []"
   ]
  },
  {
   "cell_type": "code",
   "execution_count": 11,
   "id": "solar-classic",
   "metadata": {},
   "outputs": [],
   "source": [
    "OUTFILE = KG_PATH + 'NP-KG_v3.0.0.tsv'"
   ]
  },
  {
   "cell_type": "code",
   "execution_count": 12,
   "id": "middle-freeware",
   "metadata": {},
   "outputs": [
    {
     "name": "stdout",
     "output_type": "stream",
     "text": [
      "Completed edges:  100000\n",
      "Saved edges:  100000\n",
      "Completed edges:  200000\n",
      "Saved edges:  200000\n",
      "Completed edges:  300000\n",
      "Saved edges:  300000\n",
      "Completed edges:  400000\n",
      "Saved edges:  400000\n",
      "Completed edges:  500000\n",
      "Saved edges:  500000\n",
      "Completed edges:  600000\n",
      "Saved edges:  600000\n",
      "Completed edges:  700000\n",
      "Saved edges:  700000\n",
      "Completed edges:  800000\n",
      "Saved edges:  800000\n",
      "Completed edges:  900000\n",
      "Saved edges:  900000\n",
      "Completed edges:  1000000\n",
      "Saved edges:  1000000\n",
      "Completed edges:  1100000\n",
      "Saved edges:  1100000\n",
      "Completed edges:  1200000\n",
      "Saved edges:  1200000\n",
      "Completed edges:  1300000\n",
      "Saved edges:  1300000\n",
      "Completed edges:  1400000\n",
      "Saved edges:  1400000\n",
      "Completed edges:  1500000\n",
      "Saved edges:  1500000\n",
      "Completed edges:  1600000\n",
      "Saved edges:  1600000\n",
      "Completed edges:  1700000\n",
      "Saved edges:  1700000\n",
      "Completed edges:  1800000\n",
      "Saved edges:  1800000\n",
      "Completed edges:  1900000\n",
      "Saved edges:  1900000\n",
      "Completed edges:  2000000\n",
      "Saved edges:  2000000\n",
      "Completed edges:  2100000\n",
      "Saved edges:  2100000\n",
      "Completed edges:  2200000\n",
      "Saved edges:  2200000\n",
      "Completed edges:  2300000\n",
      "Saved edges:  2300000\n",
      "Completed edges:  2400000\n",
      "Saved edges:  2400000\n",
      "Completed edges:  2500000\n",
      "Saved edges:  2500000\n",
      "Completed edges:  2600000\n",
      "Saved edges:  2600000\n",
      "Completed edges:  2700000\n",
      "Saved edges:  2700000\n",
      "Completed edges:  2800000\n",
      "Saved edges:  2800000\n",
      "Completed edges:  2900000\n",
      "Saved edges:  2900000\n",
      "Completed edges:  3000000\n",
      "Saved edges:  3000000\n",
      "Completed edges:  3100000\n",
      "Saved edges:  3100000\n",
      "Completed edges:  3200000\n",
      "Saved edges:  3200000\n",
      "Completed edges:  3300000\n",
      "Saved edges:  3300000\n",
      "Completed edges:  3400000\n",
      "Saved edges:  3400000\n",
      "Completed edges:  3500000\n",
      "Saved edges:  3500000\n",
      "Completed edges:  3600000\n",
      "Saved edges:  3600000\n",
      "Completed edges:  3700000\n",
      "Saved edges:  3700000\n",
      "Completed edges:  3800000\n",
      "Saved edges:  3800000\n",
      "Completed edges:  3900000\n",
      "Saved edges:  3900000\n",
      "Completed edges:  4000000\n",
      "Saved edges:  4000000\n",
      "Completed edges:  4100000\n",
      "Saved edges:  4100000\n",
      "Completed edges:  4200000\n",
      "Saved edges:  4200000\n",
      "Completed edges:  4300000\n",
      "Saved edges:  4300000\n",
      "Completed edges:  4400000\n",
      "Saved edges:  4400000\n",
      "Completed edges:  4500000\n",
      "Saved edges:  4500000\n",
      "Completed edges:  4600000\n",
      "Saved edges:  4600000\n",
      "Completed edges:  4700000\n",
      "Saved edges:  4700000\n",
      "Completed edges:  4800000\n",
      "Saved edges:  4800000\n",
      "Completed edges:  4900000\n",
      "Saved edges:  4900000\n",
      "Completed edges:  5000000\n",
      "Saved edges:  5000000\n",
      "Completed edges:  5100000\n",
      "Saved edges:  5100000\n",
      "Completed edges:  5200000\n",
      "Saved edges:  5200000\n",
      "Completed edges:  5300000\n",
      "Saved edges:  5300000\n",
      "Completed edges:  5400000\n",
      "Saved edges:  5400000\n",
      "Completed edges:  5500000\n",
      "Saved edges:  5500000\n",
      "Completed edges:  5600000\n",
      "Saved edges:  5600000\n",
      "Completed edges:  5700000\n",
      "Saved edges:  5700000\n",
      "Completed edges:  5800000\n",
      "Saved edges:  5800000\n",
      "Completed edges:  5900000\n",
      "Saved edges:  5900000\n",
      "Completed edges:  6000000\n",
      "Saved edges:  6000000\n",
      "Completed edges:  6100000\n",
      "Saved edges:  6100000\n",
      "Completed edges:  6200000\n",
      "Saved edges:  6200000\n",
      "Completed edges:  6300000\n",
      "Saved edges:  6300000\n",
      "Completed edges:  6400000\n",
      "Saved edges:  6400000\n",
      "Completed edges:  6500000\n",
      "Saved edges:  6500000\n",
      "Completed edges:  6600000\n",
      "Saved edges:  6600000\n",
      "Completed edges:  6700000\n",
      "Saved edges:  6700000\n",
      "Completed edges:  6800000\n",
      "Saved edges:  6800000\n",
      "Completed edges:  6900000\n",
      "Saved edges:  6900000\n",
      "Completed edges:  7000000\n",
      "Saved edges:  7000000\n",
      "Completed edges:  7100000\n",
      "Saved edges:  7100000\n",
      "Completed edges:  7200000\n",
      "Saved edges:  7200000\n",
      "Completed edges:  7300000\n",
      "Saved edges:  7300000\n",
      "Completed edges:  7400000\n",
      "Saved edges:  7400000\n",
      "Completed edges:  7500000\n",
      "Saved edges:  7500000\n",
      "Completed edges:  7600000\n",
      "Saved edges:  7600000\n",
      "Completed edges:  7700000\n",
      "Saved edges:  7700000\n",
      "Completed edges:  7800000\n",
      "Saved edges:  7800000\n",
      "Completed edges:  7836115\n",
      "Saved edges:  7836115\n"
     ]
    }
   ],
   "source": [
    "i = 0\n",
    "for edge in nx_graph.edges():\n",
    "    edgelist = list(nx_graph.get_edge_data(edge[0], edge[1]))\n",
    "    if edgelist:\n",
    "        subj = str(edge[0])\n",
    "        obj = str(edge[1])\n",
    "        if subj not in nodelist:\n",
    "            nodelist.append(subj)\n",
    "            if subj not in nodeLabels:\n",
    "                missing_nodes.append(subj)\n",
    "        if obj not in nodelist:\n",
    "            nodelist.append(obj)\n",
    "            if obj not in nodeLabels:\n",
    "                missing_nodes.append(obj)\n",
    "        for item in edgelist:\n",
    "            npkgdict['subject'].append(subj)\n",
    "            npkgdict['object'].append(obj)\n",
    "            npkgdict['predicate'].append(str(item))\n",
    "            if str(item) not in relation_list:\n",
    "                relation_list.append(str(item))\n",
    "                if str(item) not in nodeLabels:\n",
    "                    missing_nodes.append(str(item))\n",
    "    i = i+1\n",
    "    if i%100000 == 0:\n",
    "        print('Completed edges: ', i)\n",
    "        df = pd.DataFrame.from_dict(npkgdict)\n",
    "        df = df.drop_duplicates(ignore_index=True)\n",
    "        df.to_csv(OUTFILE, sep='\\t', mode='a', index=False, header=False)\n",
    "        npkgdict['subject'] = []\n",
    "        npkgdict['predicate'] = []\n",
    "        npkgdict['object'] = []\n",
    "        print('Saved edges: ', i)\n",
    "print('Completed edges: ', i)\n",
    "df = pd.DataFrame.from_dict(npkgdict)\n",
    "df = df.drop_duplicates(ignore_index=True)\n",
    "df.to_csv(OUTFILE, sep='\\t', mode='a', index=False, header=False)\n",
    "print('Saved edges: ', i)"
   ]
  },
  {
   "cell_type": "code",
   "execution_count": 13,
   "id": "fossil-issue",
   "metadata": {},
   "outputs": [
    {
     "data": {
      "text/plain": [
       "1089139"
      ]
     },
     "execution_count": 13,
     "metadata": {},
     "output_type": "execute_result"
    }
   ],
   "source": [
    "len(nodelist)"
   ]
  },
  {
   "cell_type": "code",
   "execution_count": 14,
   "id": "occupied-vermont",
   "metadata": {},
   "outputs": [
    {
     "data": {
      "text/plain": [
       "356"
      ]
     },
     "execution_count": 14,
     "metadata": {},
     "output_type": "execute_result"
    }
   ],
   "source": [
    "len(relation_list)"
   ]
  },
  {
   "cell_type": "code",
   "execution_count": 15,
   "id": "measured-spectacular",
   "metadata": {},
   "outputs": [
    {
     "data": {
      "text/plain": [
       "14"
      ]
     },
     "execution_count": 15,
     "metadata": {},
     "output_type": "execute_result"
    }
   ],
   "source": [
    "len(missing_nodes)"
   ]
  },
  {
   "cell_type": "code",
   "execution_count": 16,
   "id": "boolean-binding",
   "metadata": {},
   "outputs": [
    {
     "name": "stdout",
     "output_type": "stream",
     "text": [
      "37077 37077 37077\n"
     ]
    }
   ],
   "source": [
    "print(len(npkgdict['subject']), len(npkgdict['predicate']), len(npkgdict['object']))"
   ]
  },
  {
   "cell_type": "code",
   "execution_count": 17,
   "id": "short-lawrence",
   "metadata": {},
   "outputs": [],
   "source": [
    "with open('../resources/NPKG_nodelist.txt', 'w') as fileo:\n",
    "    for item in nodelist:\n",
    "        fileo.write(item+'\\n')"
   ]
  },
  {
   "cell_type": "code",
   "execution_count": 18,
   "id": "happy-livestock",
   "metadata": {},
   "outputs": [],
   "source": [
    "with open('../resources/NPKG_relationlist.txt', 'w') as fileo2:\n",
    "    for item in relation_list:\n",
    "        fileo2.write(item+'\\n')"
   ]
  },
  {
   "cell_type": "code",
   "execution_count": 19,
   "id": "piano-studio",
   "metadata": {},
   "outputs": [],
   "source": [
    "with open('../resources/NPKG_missing_nodelabels.txt', 'w') as fileo3:\n",
    "    for item in missing_nodes:\n",
    "        fileo3.write(item+'\\n')"
   ]
  },
  {
   "cell_type": "markdown",
   "id": "seeing-gravity",
   "metadata": {},
   "source": [
    "### Save TSV with only CURIES (solve issue #5)"
   ]
  },
  {
   "cell_type": "code",
   "execution_count": 20,
   "id": "demonstrated-bowling",
   "metadata": {},
   "outputs": [],
   "source": [
    "KG_PATH = '../resources/knowledge_graphs/'"
   ]
  },
  {
   "cell_type": "code",
   "execution_count": 21,
   "id": "violent-newton",
   "metadata": {},
   "outputs": [],
   "source": [
    "INFILE = KG_PATH + 'NP-KG_v3.0.0.tsv'\n",
    "OUTFILE = KG_PATH + 'NP-KG-CURIE-only-v3.0.0.tsv'"
   ]
  },
  {
   "cell_type": "code",
   "execution_count": 22,
   "id": "northern-chest",
   "metadata": {},
   "outputs": [],
   "source": [
    "import csv"
   ]
  },
  {
   "cell_type": "code",
   "execution_count": 23,
   "id": "theoretical-guinea",
   "metadata": {},
   "outputs": [
    {
     "data": {
      "text/plain": [
       "1089139"
      ]
     },
     "execution_count": 23,
     "metadata": {},
     "output_type": "execute_result"
    }
   ],
   "source": [
    "##find all node prefixes\n",
    "with open('../resources/NPKG_nodelist.txt', 'r') as filei:\n",
    "    nodes = filei.readlines()\n",
    "len(nodes)"
   ]
  },
  {
   "cell_type": "code",
   "execution_count": 24,
   "id": "prerequisite-encoding",
   "metadata": {},
   "outputs": [
    {
     "name": "stdout",
     "output_type": "stream",
     "text": [
      "534358\n",
      "51\n"
     ]
    }
   ],
   "source": [
    "prefixlist = []\n",
    "curielist = []\n",
    "for node in nodes:\n",
    "    if 'http://purl.obolibrary.org/obo/' in node:\n",
    "        onto = node.strip().replace('http://purl.obolibrary.org/obo/', '')\n",
    "        curie = onto.split('_')[0]\n",
    "        if curie not in curielist:\n",
    "            curielist.append(curie)\n",
    "    else:\n",
    "        prefixlist.append(node.strip())\n",
    "print(len(prefixlist))\n",
    "print(len(curielist))"
   ]
  },
  {
   "cell_type": "code",
   "execution_count": 25,
   "id": "breeding-satin",
   "metadata": {},
   "outputs": [
    {
     "data": {
      "text/plain": [
       "['SO',\n",
       " 'NCBITaxon',\n",
       " 'GO',\n",
       " 'HP',\n",
       " 'MONDO',\n",
       " 'CHEBI',\n",
       " 'PR',\n",
       " 'CL',\n",
       " 'CLO',\n",
       " 'UBERON',\n",
       " 'CARO',\n",
       " 'MOD',\n",
       " 'GNO',\n",
       " 'PW',\n",
       " 'BFO',\n",
       " 'PATO',\n",
       " 'CHR',\n",
       " 'NBO',\n",
       " 'FOODON',\n",
       " 'DOID',\n",
       " 'OAE',\n",
       " 'ENVO',\n",
       " 'ECTO',\n",
       " 'MPATH',\n",
       " 'NCIT',\n",
       " 'DIDEO',\n",
       " 'GAZ',\n",
       " 'CHMO',\n",
       " 'DRON',\n",
       " 'IDO',\n",
       " 'ERO',\n",
       " 'FMA',\n",
       " 'APOLLO',\n",
       " 'UO',\n",
       " 'PDRO/PDRO.owl#PDRO',\n",
       " 'INO',\n",
       " 'EnsemblBacteria#',\n",
       " 'MFOMD',\n",
       " 'VO',\n",
       " 'HsapDv',\n",
       " 'OGMS',\n",
       " 'PO',\n",
       " 'MF',\n",
       " 'ExO',\n",
       " 'OGG',\n",
       " 'MAXO',\n",
       " 'MOP',\n",
       " 'Ensembl#',\n",
       " 'PCO',\n",
       " 'UPHENO',\n",
       " 'STATO']"
      ]
     },
     "execution_count": 25,
     "metadata": {},
     "output_type": "execute_result"
    }
   ],
   "source": [
    "curielist"
   ]
  },
  {
   "cell_type": "code",
   "execution_count": 26,
   "id": "particular-highland",
   "metadata": {},
   "outputs": [
    {
     "data": {
      "text/plain": [
       "37301"
      ]
     },
     "execution_count": 26,
     "metadata": {},
     "output_type": "execute_result"
    }
   ],
   "source": [
    "prefixlist2 = []\n",
    "for prefix in prefixlist:\n",
    "    if 'napdi' in prefix or 'https://reactome.org/content/detail/' in prefix \\\n",
    "    or 'http://www.ncbi.nlm.nih.gov/gene/' in prefix or 'https://uswest.ensembl.org/Homo_sapiens/Transcript/Summary?' \\\n",
    "    in prefix or 'http://www.ebi.ac.uk/cellline#' in prefix or 'http://www.ebi.ac.uk/efo/' in prefix or \\\n",
    "    'https://www.ncbi.nlm.nih.gov/snp/' in prefix or 'http://ihtsdo.org/snomedct/' in prefix \\\n",
    "    or 'https://bar.utoronto.ca/' in prefix or 'http://flybase.org/' in prefix \\\n",
    "    or 'http://dictybase.org/gene/' in prefix or 'http://rgd.mcw.edu/rgdweb/report/gene/' in prefix\\\n",
    "    or 'http://zfin.org/action/marker/view/' in prefix or 'http://birdgenenames.org/cgnc/' in prefix:\n",
    "        continue\n",
    "    else:\n",
    "        prefixlist2.append(prefix)\n",
    "len(prefixlist2)"
   ]
  },
  {
   "cell_type": "code",
   "execution_count": 27,
   "id": "339f46c6-d000-49fd-be05-0d3c291a854f",
   "metadata": {},
   "outputs": [
    {
     "data": {
      "text/plain": [
       "8"
      ]
     },
     "execution_count": 27,
     "metadata": {},
     "output_type": "execute_result"
    }
   ],
   "source": [
    "prefixlist2 = []\n",
    "for prefix in prefixlist:\n",
    "    if 'napdi' in prefix or 'https://reactome.org/content/detail/' in prefix \\\n",
    "    or 'http://www.ncbi.nlm.nih.gov/gene/' in prefix or 'https://uswest.ensembl.org/Homo_sapiens/Transcript/Summary?' \\\n",
    "    in prefix or 'http://www.ebi.ac.uk/cellline#' in prefix or 'http://www.ebi.ac.uk/efo/' in prefix or \\\n",
    "    'https://www.ncbi.nlm.nih.gov/snp/' in prefix or 'http://ihtsdo.org/snomedct/' in prefix \\\n",
    "    or 'http://dictybase.org/gene/' in prefix or 'https://bar.utoronto.ca/' in prefix\\\n",
    "    or 'http://rgd.mcw.edu/rgdweb/report/gene/' in prefix \\\n",
    "    or 'http://flybase.org/' in prefix or 'http://zfin.org/action/marker/view/' in prefix \\\n",
    "    or 'http://birdgenenames.org/cgnc/' in prefix or 'wormbase' in prefix or 'informatics' in prefix\\\n",
    "    or 'yeastgenome' in prefix or 'ecogene' in prefix or 'pombase' in prefix\\\n",
    "    or 'ensembl' in prefix:\n",
    "        continue\n",
    "    else:\n",
    "        prefixlist2.append(prefix)\n",
    "len(prefixlist2)"
   ]
  },
  {
   "cell_type": "code",
   "execution_count": 28,
   "id": "c3c56e39-07fe-4ddd-9dde-d311036f5b7d",
   "metadata": {},
   "outputs": [
    {
     "data": {
      "text/plain": [
       "['http://www.geneontology.org/formats/oboInOwl#Subset',\n",
       " 'http://www.geneontology.org/formats/oboInOwl#SynonymType',\n",
       " 'http://www.geneontology.org/formats/oboInOwl#DbXref',\n",
       " 'http://www.geneontology.org/formats/oboInOwl#Synonym',\n",
       " 'http://www.geneontology.org/formats/oboInOwl#Definition',\n",
       " 'https://ghr.nlm.nih.gov/condition/saddan',\n",
       " 'http://www.genenames.org/cgi-bin/gene_symbol_report?hgnc_id=55921',\n",
       " 'https://rarediseases.info.nih.gov/diseases/9644/multicentric-castleman-disease']"
      ]
     },
     "execution_count": 28,
     "metadata": {},
     "output_type": "execute_result"
    }
   ],
   "source": [
    "prefixlist2[:10]"
   ]
  },
  {
   "cell_type": "code",
   "execution_count": 29,
   "id": "personalized-nation",
   "metadata": {},
   "outputs": [],
   "source": [
    "def relation_curie(rel):\n",
    "    newrel = rel\n",
    "    if 'uberon' in rel:\n",
    "        newrel = 'uberon:'+rel.split('#')[1]\n",
    "    elif 'rdf-schema' in rel:\n",
    "        newrel = 'rdfs:'+rel.split('#')[1]\n",
    "    elif 'rdf-syntax' in rel:\n",
    "        newrel = 'rdf:'+rel.split('#')[1]\n",
    "    elif 'ro.owl' in rel:\n",
    "        newrel = 'ro:'+rel.split('#')[1]\n",
    "    else:\n",
    "        temp = rel.split('/')[-1]\n",
    "        if '#' in temp:\n",
    "            temp = temp.split('#')\n",
    "            newrel = temp[0]+':'+temp[1]\n",
    "        else:\n",
    "            newrel = temp.replace('_', ':').lower()\n",
    "    return newrel"
   ]
  },
  {
   "cell_type": "code",
   "execution_count": 30,
   "id": "selective-ticket",
   "metadata": {},
   "outputs": [],
   "source": [
    "def get_node_curie(node):\n",
    "    nodecurie = node\n",
    "    if 'http://purl.obolibrary.org/obo/OBO_' in node:\n",
    "        tempnode = node.replace('http://purl.obolibrary.org/obo/OBO_', '')\n",
    "        nodecurie = tempnode.replace('_',':').lower()\n",
    "    elif 'napdi' in node:\n",
    "        nodecurie = node.split('/')[-1]\n",
    "    elif 'reactome' in node:\n",
    "        nodecurie = 'reactome:'+node.split('/')[-1]\n",
    "    elif 'http://www.ncbi.nlm.nih.gov/gene/' in node:\n",
    "        nodecurie = 'ncbigene:'+node.split('/')[-1]\n",
    "    elif 'https://uswest.ensembl.org/Homo_sapiens/Transcript/Summary?' in node:\n",
    "        nodecurie = node.replace('https://uswest.ensembl.org/Homo_sapiens/Transcript/Summary?t=', 'ensembl:')\n",
    "    elif 'ensembl' in node:\n",
    "        nodecurie = 'ensembl:'+node.split('/')[-1]\n",
    "    elif 'http://www.ebi.ac.uk/efo/' in node:\n",
    "        tempnode = node.split('/')[-1]\n",
    "        nodecurie = tempnode.replace('_',':').lower()\n",
    "    elif 'http://ihtsdo.org/snomedct/' in node or 'http://purl.bioontology.org/ontology/SNOMEDCT/' in node:\n",
    "        nodecurie = 'snomedct:'+node.split('/')[-1]\n",
    "    elif 'https://www.ncbi.nlm.nih.gov/snp/' in node:\n",
    "        nodecurie = 'dbsnp:'+node.split('/')[-1]\n",
    "    elif 'http://www.w3.org/2002/07/' in node:\n",
    "        tempnode = node.split('/')[-1]\n",
    "        nodecurie = 'owl:'+tempnode.split('#')[-1]\n",
    "    elif 'hgnc_id' in node:\n",
    "        nodecurie = 'hgnc:'+node.split('=')[-1]\n",
    "    elif 'http://sig.uw.edu/fma' in node:\n",
    "        tempnode = node.split('/')[-1]\n",
    "        nodecurie = 'fma:'+tempnode.split('#')[-1]\n",
    "    elif 'http://ncicb.nci.nih.gov/xml/owl/EVS/Thesaurus.owl' in node:\n",
    "        tempnode = node.replace('http://ncicb.nci.nih.gov/xml/owl/EVS/Thesaurus.owl#', '')\n",
    "        nodecurie = 'ncit:'+tempnode\n",
    "    elif 'https://bar.utoronto.ca/' in node:\n",
    "        nodecurie = 'bar:'+node.split('=')[-1]\n",
    "    elif 'http://flybase.org/' in node:\n",
    "        nodecurie = 'flybase:'+node.split('/')[-1]\n",
    "    elif 'http://dictybase.org/gene/' in node:\n",
    "        nodecurie = 'dictyBase:'+node.split('/')[-1]\n",
    "    elif 'http://rgd.mcw.edu/rgdweb/report/gene/' in node:\n",
    "        nodecurie = 'rgd:'+node.split('/')[-1]\n",
    "    elif 'http://zfin.org/action/marker/view/' in node:\n",
    "        nodecurie = 'zfin:'+node.split('/')[-1]\n",
    "    elif 'http://birdgenenames.org/cgnc/' in node:\n",
    "        nodecurie = 'birdgenenames:'+node.split('=')[-1]\n",
    "    elif 'informatics' in node:\n",
    "        tempnode = node.split('/')[-1]\n",
    "        nodecurie = 'mgi:'+tempnode.split(':')[-1]\n",
    "    elif 'wormbase' in node:\n",
    "        nodecurie = 'wormbase:'+node.split('/')[-1]\n",
    "    elif 'yeastgenome' in node:\n",
    "        nodecurie = 'yeastgenome:'+node.split('/')[-1]\n",
    "    elif 'ecogene' in node:\n",
    "        nodecurie = 'ecogene:'+node.split('/')[-1]\n",
    "    elif 'pombase' in node:\n",
    "        nodecurie = 'pombase:'+node.split('/')[-1]\n",
    "    elif 'https://ghr.nlm.nih.gov/condition/' in node:\n",
    "        nodecurie = 'ghr:'+node.split('/')[-1]\n",
    "    elif 'https://rarediseases.info.nih.gov/diseases/' in node:\n",
    "        nodecurie = 'rare:'+node.split('/')[-1]\n",
    "    elif 'PDRO/PDRO.owl#PDRO' in node:\n",
    "        temp = node.split('#')[-1]\n",
    "        nodecurie = 'pdro:'+temp.split('_')[-1]\n",
    "    else:\n",
    "        tempnode = node.replace('http://purl.obolibrary.org/obo/', '')\n",
    "        nodecurie = tempnode.replace('_',':').lower()\n",
    "    return nodecurie"
   ]
  },
  {
   "attachments": {},
   "cell_type": "markdown",
   "id": "17d6d46e",
   "metadata": {},
   "source": [
    "### Save to TSV"
   ]
  },
  {
   "cell_type": "code",
   "execution_count": 31,
   "id": "grand-quebec",
   "metadata": {},
   "outputs": [
    {
     "name": "stdout",
     "output_type": "stream",
     "text": [
      "Completed edges:  100000\n",
      "Completed edges:  200000\n",
      "Completed edges:  300000\n",
      "Completed edges:  400000\n",
      "Completed edges:  500000\n",
      "Completed edges:  600000\n",
      "Completed edges:  700000\n",
      "Completed edges:  800000\n",
      "Completed edges:  900000\n",
      "Completed edges:  1000000\n",
      "Completed edges:  1100000\n",
      "Completed edges:  1200000\n",
      "Completed edges:  1300000\n",
      "Completed edges:  1400000\n",
      "Completed edges:  1500000\n",
      "Completed edges:  1600000\n",
      "Completed edges:  1700000\n",
      "Completed edges:  1800000\n",
      "Completed edges:  1900000\n",
      "Completed edges:  2000000\n",
      "Completed edges:  2100000\n",
      "Completed edges:  2200000\n",
      "Completed edges:  2300000\n",
      "Completed edges:  2400000\n",
      "Completed edges:  2500000\n",
      "Completed edges:  2600000\n",
      "Completed edges:  2700000\n",
      "Completed edges:  2800000\n",
      "Completed edges:  2900000\n",
      "Completed edges:  3000000\n",
      "Completed edges:  3100000\n",
      "Completed edges:  3200000\n",
      "Completed edges:  3300000\n",
      "Completed edges:  3400000\n",
      "Completed edges:  3500000\n",
      "Completed edges:  3600000\n",
      "Completed edges:  3700000\n",
      "Completed edges:  3800000\n",
      "Completed edges:  3900000\n",
      "Completed edges:  4000000\n",
      "Completed edges:  4100000\n",
      "Completed edges:  4200000\n",
      "Completed edges:  4300000\n",
      "Completed edges:  4400000\n",
      "Completed edges:  4500000\n",
      "Completed edges:  4600000\n",
      "Completed edges:  4700000\n",
      "Completed edges:  4800000\n",
      "Completed edges:  4900000\n",
      "Completed edges:  5000000\n",
      "Completed edges:  5100000\n",
      "Completed edges:  5200000\n",
      "Completed edges:  5300000\n",
      "Completed edges:  5400000\n",
      "Completed edges:  5500000\n",
      "Completed edges:  5600000\n",
      "Completed edges:  5700000\n",
      "Completed edges:  5800000\n",
      "Completed edges:  5900000\n",
      "Completed edges:  6000000\n",
      "Completed edges:  6100000\n",
      "Completed edges:  6200000\n",
      "Completed edges:  6300000\n",
      "Completed edges:  6400000\n",
      "Completed edges:  6500000\n",
      "Completed edges:  6600000\n",
      "Completed edges:  6700000\n",
      "Completed edges:  6800000\n",
      "Completed edges:  6900000\n",
      "Completed edges:  7000000\n",
      "Completed edges:  7100000\n",
      "Completed edges:  7200000\n",
      "Completed edges:  7300000\n",
      "Completed edges:  7400000\n",
      "Completed edges:  7500000\n",
      "Completed edges:  7600000\n",
      "Completed edges:  7700000\n",
      "Completed edges:  7800000\n"
     ]
    }
   ],
   "source": [
    "with open(INFILE, 'r') as fin, open(OUTFILE, 'w') as fout:\n",
    "    freader = csv.reader(fin, delimiter='\\t')\n",
    "    fwriter = csv.writer(fout, delimiter='\\t')\n",
    "    fwriter.writerow(['source', 'relation', 'target'])\n",
    "    idx = 1\n",
    "    for row in freader:\n",
    "        try:\n",
    "            npkg_subject = row[0]\n",
    "            npkg_relation = row[1]\n",
    "            npkg_object = row[2]\n",
    "            rel_curie = relation_curie(npkg_relation)\n",
    "            subject_curie = get_node_curie(npkg_subject)\n",
    "            object_curie = get_node_curie(npkg_object)\n",
    "            fwriter.writerow([subject_curie, rel_curie, object_curie])\n",
    "        except Exception as e:\n",
    "            print('Error: ', e)\n",
    "            print(idx)\n",
    "            print(row)\n",
    "        idx+=1\n",
    "        if idx%100000 == 0:\n",
    "            print('Completed edges: ', idx)"
   ]
  },
  {
   "attachments": {},
   "cell_type": "markdown",
   "id": "4400f08e",
   "metadata": {},
   "source": [
    "## Create new nodelabels with curies\n",
    "\n",
    "#### Also create URI to CURIE map and vice versa"
   ]
  },
  {
   "cell_type": "code",
   "execution_count": 32,
   "id": "falling-behavior",
   "metadata": {},
   "outputs": [],
   "source": [
    "NODEINFILE = KG_PATH + 'nodeLabels_v3.0.0.tsv'\n",
    "NODEOUTFILE = KG_PATH + 'nodeLabels_CURIE_v3.0.0.tsv'"
   ]
  },
  {
   "cell_type": "code",
   "execution_count": 33,
   "id": "extra-partnership",
   "metadata": {},
   "outputs": [
    {
     "name": "stdout",
     "output_type": "stream",
     "text": [
      "Completed nodes:  10000\n",
      "Completed nodes:  20000\n",
      "Completed nodes:  30000\n",
      "Completed nodes:  40000\n",
      "Completed nodes:  50000\n",
      "Completed nodes:  60000\n",
      "Completed nodes:  70000\n",
      "Completed nodes:  80000\n",
      "Completed nodes:  90000\n",
      "Completed nodes:  100000\n",
      "Completed nodes:  110000\n",
      "Completed nodes:  120000\n",
      "Completed nodes:  130000\n",
      "Completed nodes:  140000\n",
      "Completed nodes:  150000\n",
      "Completed nodes:  160000\n",
      "Completed nodes:  170000\n",
      "Completed nodes:  180000\n",
      "Completed nodes:  190000\n",
      "Completed nodes:  200000\n",
      "Completed nodes:  210000\n",
      "Completed nodes:  220000\n",
      "Completed nodes:  230000\n",
      "Completed nodes:  240000\n",
      "Completed nodes:  250000\n",
      "Completed nodes:  260000\n",
      "Completed nodes:  270000\n",
      "Completed nodes:  280000\n",
      "Completed nodes:  290000\n",
      "Completed nodes:  300000\n",
      "Completed nodes:  310000\n",
      "Completed nodes:  320000\n",
      "Completed nodes:  330000\n",
      "Completed nodes:  340000\n",
      "Completed nodes:  350000\n",
      "Completed nodes:  360000\n",
      "Completed nodes:  370000\n",
      "Completed nodes:  380000\n",
      "Completed nodes:  390000\n",
      "Completed nodes:  400000\n",
      "Completed nodes:  410000\n",
      "Completed nodes:  420000\n",
      "Completed nodes:  430000\n",
      "Completed nodes:  440000\n",
      "Completed nodes:  450000\n",
      "Completed nodes:  460000\n",
      "Completed nodes:  470000\n",
      "Completed nodes:  480000\n",
      "Completed nodes:  490000\n",
      "Completed nodes:  500000\n",
      "Completed nodes:  510000\n",
      "Completed nodes:  520000\n",
      "Completed nodes:  530000\n",
      "Completed nodes:  540000\n",
      "Completed nodes:  550000\n",
      "Completed nodes:  560000\n",
      "Completed nodes:  570000\n",
      "Completed nodes:  580000\n",
      "Completed nodes:  590000\n",
      "Completed nodes:  600000\n",
      "Completed nodes:  610000\n",
      "Completed nodes:  620000\n",
      "Completed nodes:  630000\n",
      "Completed nodes:  640000\n",
      "Completed nodes:  650000\n",
      "Completed nodes:  660000\n",
      "Completed nodes:  670000\n",
      "Completed nodes:  680000\n",
      "Completed nodes:  690000\n",
      "Completed nodes:  700000\n",
      "Completed nodes:  710000\n",
      "Completed nodes:  720000\n",
      "Completed nodes:  730000\n",
      "Completed nodes:  740000\n",
      "Completed nodes:  750000\n",
      "Completed nodes:  760000\n",
      "Completed nodes:  770000\n",
      "Completed nodes:  780000\n",
      "Completed nodes:  790000\n",
      "Completed nodes:  800000\n",
      "Completed nodes:  810000\n",
      "Completed nodes:  820000\n",
      "Completed nodes:  830000\n",
      "Completed nodes:  840000\n",
      "Completed nodes:  850000\n",
      "Completed nodes:  860000\n",
      "Completed nodes:  870000\n",
      "Completed nodes:  880000\n",
      "Completed nodes:  890000\n",
      "Completed nodes:  900000\n",
      "Completed nodes:  910000\n",
      "Completed nodes:  920000\n",
      "Completed nodes:  930000\n",
      "Completed nodes:  940000\n",
      "Completed nodes:  950000\n",
      "Completed nodes:  960000\n",
      "Completed nodes:  970000\n",
      "Completed nodes:  980000\n",
      "Completed nodes:  990000\n",
      "Completed nodes:  1000000\n",
      "Completed nodes:  1010000\n",
      "Completed nodes:  1020000\n",
      "Completed nodes:  1030000\n",
      "Completed nodes:  1040000\n",
      "Completed nodes:  1050000\n",
      "Completed nodes:  1060000\n",
      "Completed nodes:  1070000\n",
      "Completed nodes:  1080000\n"
     ]
    }
   ],
   "source": [
    "##node labels with CURIEs\n",
    "\n",
    "uri_to_curie_dict = {}\n",
    "curie_to_uri_dict = {}\n",
    "\n",
    "with open(NODEINFILE, 'r') as nodein, open(NODEOUTFILE, 'w') as nodeout:\n",
    "    freader = csv.reader(nodein, delimiter='\\t')\n",
    "    fwriter = csv.writer(nodeout, delimiter='\\t')\n",
    "    fwriter.writerow(['source', 'entity_label'])\n",
    "    next(freader)\n",
    "    idx = 1\n",
    "    for row in freader:\n",
    "        try:\n",
    "            npkg_node = row[0]\n",
    "            npkg_label = row[1]\n",
    "            nodecurie = get_node_curie(npkg_node)\n",
    "            fwriter.writerow([nodecurie, npkg_label])\n",
    "            uri_to_curie_dict[npkg_node] = nodecurie\n",
    "            curie_to_uri_dict[nodecurie] = npkg_node\n",
    "        except Exception as e:\n",
    "            print('Error: ', e)\n",
    "            print(idx)\n",
    "            print(row)\n",
    "        idx+=1\n",
    "        if idx%10000 == 0:\n",
    "            print('Completed nodes: ', idx)"
   ]
  },
  {
   "cell_type": "code",
   "execution_count": 34,
   "id": "e8dd433a",
   "metadata": {},
   "outputs": [],
   "source": [
    "##save dictionaries as TSV files\n",
    "with open(KG_PATH+'uri_to_curie_map.tsv', 'w') as fileo:\n",
    "    for key, value in uri_to_curie_dict.items():\n",
    "        fileo.write(key+'\\t'+value+'\\n')\n",
    "\n",
    "with open(KG_PATH+'curie_to_uri_map.tsv', 'w') as fileo:\n",
    "    for key, value in curie_to_uri_dict.items():\n",
    "        fileo.write(key+'\\t'+value+'\\n')"
   ]
  },
  {
   "cell_type": "markdown",
   "id": "royal-television",
   "metadata": {},
   "source": [
    "### Convert relation CURIEs to labels\n"
   ]
  },
  {
   "cell_type": "code",
   "execution_count": 33,
   "id": "analyzed-contrary",
   "metadata": {},
   "outputs": [],
   "source": [
    "KG_PATH = '../resources/knowledge_graphs/'\n",
    "INFILE = KG_PATH + 'NP-KG-CURIE-only-v3.0.0.tsv'\n",
    "OUTFILE = KG_PATH + 'NP-KG-CURIE-with-relations-v3.0.0.tsv'\n",
    "nodeLabelsFile = KG_PATH + 'nodeLabels_CURIE_v3.0.0.tsv'"
   ]
  },
  {
   "cell_type": "code",
   "execution_count": 34,
   "id": "tired-speaking",
   "metadata": {},
   "outputs": [],
   "source": [
    "import pandas as pd"
   ]
  },
  {
   "cell_type": "code",
   "execution_count": 35,
   "id": "acting-alberta",
   "metadata": {},
   "outputs": [
    {
     "name": "stdout",
     "output_type": "stream",
     "text": [
      "<class 'pandas.core.frame.DataFrame'>\n",
      "RangeIndex: 1090470 entries, 0 to 1090469\n",
      "Data columns (total 2 columns):\n",
      " #   Column        Non-Null Count    Dtype \n",
      "---  ------        --------------    ----- \n",
      " 0   source        1090470 non-null  object\n",
      " 1   entity_label  1089225 non-null  object\n",
      "dtypes: object(2)\n",
      "memory usage: 16.6+ MB\n"
     ]
    }
   ],
   "source": [
    "nodedf = pd.read_csv(nodeLabelsFile, sep='\\t')\n",
    "nodedf.info()"
   ]
  },
  {
   "cell_type": "code",
   "execution_count": 36,
   "id": "extended-receipt",
   "metadata": {},
   "outputs": [
    {
     "data": {
      "text/html": [
       "<div>\n",
       "<style scoped>\n",
       "    .dataframe tbody tr th:only-of-type {\n",
       "        vertical-align: middle;\n",
       "    }\n",
       "\n",
       "    .dataframe tbody tr th {\n",
       "        vertical-align: top;\n",
       "    }\n",
       "\n",
       "    .dataframe thead th {\n",
       "        text-align: right;\n",
       "    }\n",
       "</style>\n",
       "<table border=\"1\" class=\"dataframe\">\n",
       "  <thead>\n",
       "    <tr style=\"text-align: right;\">\n",
       "      <th></th>\n",
       "      <th>source</th>\n",
       "      <th>entity_label</th>\n",
       "    </tr>\n",
       "  </thead>\n",
       "  <tbody>\n",
       "    <tr>\n",
       "      <th>0</th>\n",
       "      <td>cl:0000594</td>\n",
       "      <td>skeletal muscle satellite cell</td>\n",
       "    </tr>\n",
       "    <tr>\n",
       "      <th>1</th>\n",
       "      <td>ensembl:ENST00000456565</td>\n",
       "      <td>DARS1-206</td>\n",
       "    </tr>\n",
       "    <tr>\n",
       "      <th>2</th>\n",
       "      <td>dbsnp:rs750861887</td>\n",
       "      <td>NM_000256.3(MYBPC3):c.1944C&gt;T (p.His648=)</td>\n",
       "    </tr>\n",
       "    <tr>\n",
       "      <th>3</th>\n",
       "      <td>pr:q8wu43</td>\n",
       "      <td>uncharacterized protein C2orf15 (human)</td>\n",
       "    </tr>\n",
       "    <tr>\n",
       "      <th>4</th>\n",
       "      <td>pr:q9m9h3</td>\n",
       "      <td>embryogenesis-like protein (Arabidopsis thaliana)</td>\n",
       "    </tr>\n",
       "  </tbody>\n",
       "</table>\n",
       "</div>"
      ],
      "text/plain": [
       "                    source                                       entity_label\n",
       "0               cl:0000594                     skeletal muscle satellite cell\n",
       "1  ensembl:ENST00000456565                                          DARS1-206\n",
       "2        dbsnp:rs750861887          NM_000256.3(MYBPC3):c.1944C>T (p.His648=)\n",
       "3                pr:q8wu43            uncharacterized protein C2orf15 (human)\n",
       "4                pr:q9m9h3  embryogenesis-like protein (Arabidopsis thaliana)"
      ]
     },
     "execution_count": 36,
     "metadata": {},
     "output_type": "execute_result"
    }
   ],
   "source": [
    "nodedf.head()"
   ]
  },
  {
   "cell_type": "code",
   "execution_count": 39,
   "id": "sorted-remainder",
   "metadata": {},
   "outputs": [],
   "source": [
    "##need to fix none issue in new version (N=17k approx errors in relations propagated from PheKnowLator)\n",
    "relations_dict = {\n",
    "    'rdfs:subClassOf': 'rdfs:subClassOf',\n",
    "    'rdf:type': 'rdf:type',\n",
    "    'sio:000420': 'has expression'\n",
    "}"
   ]
  },
  {
   "cell_type": "code",
   "execution_count": 40,
   "id": "identical-observer",
   "metadata": {},
   "outputs": [],
   "source": [
    "import ast\n",
    "import csv"
   ]
  },
  {
   "cell_type": "code",
   "execution_count": 41,
   "id": "yellow-latest",
   "metadata": {},
   "outputs": [
    {
     "name": "stdout",
     "output_type": "stream",
     "text": [
      "Completed edges:  100000\n",
      "Completed edges:  200000\n",
      "Completed edges:  300000\n",
      "Completed edges:  400000\n",
      "Completed edges:  500000\n",
      "Completed edges:  600000\n",
      "Completed edges:  700000\n",
      "Completed edges:  800000\n",
      "Completed edges:  900000\n",
      "Completed edges:  1000000\n",
      "Completed edges:  1100000\n",
      "Completed edges:  1200000\n",
      "Completed edges:  1300000\n",
      "Completed edges:  1400000\n",
      "Completed edges:  1500000\n",
      "Completed edges:  1600000\n",
      "Completed edges:  1700000\n",
      "Completed edges:  1800000\n",
      "Completed edges:  1900000\n",
      "Completed edges:  2000000\n",
      "Completed edges:  2100000\n",
      "Completed edges:  2200000\n",
      "Completed edges:  2300000\n",
      "Completed edges:  2400000\n",
      "Completed edges:  2500000\n",
      "Completed edges:  2600000\n",
      "Completed edges:  2700000\n",
      "Completed edges:  2800000\n",
      "Completed edges:  2900000\n",
      "Completed edges:  3000000\n",
      "Completed edges:  3100000\n",
      "Completed edges:  3200000\n",
      "Completed edges:  3300000\n",
      "Completed edges:  3400000\n",
      "Completed edges:  3500000\n",
      "Completed edges:  3600000\n",
      "Completed edges:  3700000\n",
      "Completed edges:  3800000\n",
      "Completed edges:  3900000\n",
      "Completed edges:  4000000\n",
      "Completed edges:  4100000\n",
      "Completed edges:  4200000\n",
      "Completed edges:  4300000\n",
      "Completed edges:  4400000\n",
      "Completed edges:  4500000\n",
      "Completed edges:  4600000\n",
      "Completed edges:  4700000\n",
      "Completed edges:  4800000\n",
      "Completed edges:  4900000\n",
      "Completed edges:  5000000\n",
      "Completed edges:  5100000\n",
      "Completed edges:  5200000\n",
      "Completed edges:  5300000\n",
      "Completed edges:  5400000\n",
      "Completed edges:  5500000\n",
      "Completed edges:  5600000\n",
      "Completed edges:  5700000\n",
      "Completed edges:  5800000\n",
      "Completed edges:  5900000\n",
      "Completed edges:  6000000\n",
      "Completed edges:  6100000\n",
      "Completed edges:  6200000\n",
      "Completed edges:  6300000\n",
      "Completed edges:  6400000\n",
      "Completed edges:  6500000\n",
      "Completed edges:  6600000\n",
      "Completed edges:  6700000\n",
      "Completed edges:  6800000\n",
      "Completed edges:  6900000\n",
      "Completed edges:  7000000\n",
      "Completed edges:  7100000\n",
      "Completed edges:  7200000\n",
      "Completed edges:  7300000\n",
      "Completed edges:  7400000\n",
      "Completed edges:  7500000\n",
      "Completed edges:  7600000\n",
      "Completed edges:  7700000\n",
      "Completed edges:  7800000\n",
      "Completed edges:  7900000\n"
     ]
    }
   ],
   "source": [
    "with open(INFILE, 'r') as fin, open(OUTFILE, 'w') as fout:\n",
    "    freader = csv.reader(fin, delimiter='\\t')\n",
    "    fwriter = csv.writer(fout, delimiter='\\t')\n",
    "    fwriter.writerow(['source', 'relation', 'target'])\n",
    "    idx = 1\n",
    "    next(freader)\n",
    "    for row in freader:\n",
    "        try:\n",
    "            npkg_subject = row[0]\n",
    "            npkg_relation = row[1]\n",
    "            npkg_object = row[2]\n",
    "            rel_label = npkg_relation\n",
    "            if npkg_relation in relations_dict:\n",
    "                rel_label = relations_dict[npkg_relation]\n",
    "            else:\n",
    "                rel_row = nodedf.loc[nodedf['source'] == npkg_relation]\n",
    "                if not rel_row.empty:\n",
    "                    rel_label = rel_row['entity_label'].values[0]\n",
    "                    if 'entity_type' in rel_label:\n",
    "                        rel_dict = ast.literal_eval(rel_label)\n",
    "                        rel_label = rel_dict['label']\n",
    "                    relations_dict[npkg_relation] = rel_label\n",
    "            fwriter.writerow([npkg_subject, rel_label, npkg_object])\n",
    "        except Exception as e:\n",
    "            print('Error: ', e)\n",
    "            print(idx)\n",
    "            print(row)\n",
    "        idx+=1\n",
    "        if idx%100000 == 0:\n",
    "            print('Completed edges: ', idx)"
   ]
  },
  {
   "cell_type": "code",
   "execution_count": 42,
   "id": "turned-connectivity",
   "metadata": {},
   "outputs": [],
   "source": [
    "##write out rows with errors to file\n",
    "with open(OUTFILE, 'a') as f:\n",
    "    fwriter = csv.writer(f, delimiter='\\t')\n",
    "    fwriter.writerow(['envo:00002203', 'envo:has_increased_levels_of', 'chebi:24835'])\n",
    "    fwriter.writerow(['envo:00002202', 'envo:has_increased_levels_of', 'chebi:50860'])\n",
    "    fwriter.writerow(['envo:00002186', 'envo:has_increased_levels_of', 'chebi:24431'])\n",
    "    fwriter.writerow(['envo:01000676', 'envo:has_increased_levels_of', 'chebi:24431'])\n",
    "    fwriter.writerow(['envo:01001040', 'envo:has_increased_levels_of', 'chebi:26710'])\n",
    "    fwriter.writerow(['envo:00002114', 'envo:has_increased_levels_of', 'chebi:24431'])\n",
    "    fwriter.writerow(['envo:00002010', 'envo:has_increased_levels_of', 'chebi:26710'])\n",
    "    fwriter.writerow(['mfomd:0000024', 'mf:manifestationof', 'mfomd:0000004'])"
   ]
  },
  {
   "cell_type": "code",
   "execution_count": 12,
   "id": "4cd6caf6",
   "metadata": {},
   "outputs": [],
   "source": [
    "import csv"
   ]
  },
  {
   "attachments": {},
   "cell_type": "markdown",
   "id": "da0f468a",
   "metadata": {},
   "source": [
    "## Create node type dictionary"
   ]
  },
  {
   "cell_type": "code",
   "execution_count": 35,
   "id": "31f428ca",
   "metadata": {},
   "outputs": [],
   "source": [
    "curie_to_node_type_dict = {\n",
    "'ensembl': 'sequence',\n",
    "'uberon': 'anatomy',\n",
    "'pr':'protein',\n",
    "'reactome':'pathway',\n",
    "'so':'sequence',\n",
    "'chebi':'chemical',\n",
    "'go':'process',\n",
    "'mondo':'disease',\n",
    "'dbsnp': 'variant',\n",
    "'hp':'phenotype',\n",
    "'ncbigene':'gene',\n",
    "'bar':'sequence',\n",
    "'ncbitaxon':'organism',\n",
    "'clo':'cell_line',\n",
    "'mgi':'other',\n",
    "'cl':'cell',\n",
    "'dideo':'drug_drug_interaction',\n",
    "'rgd':'rat_genome',\n",
    "'flybase':'fly',\n",
    "'pw':'pathway',\n",
    "'oae':'adverse_event',\n",
    "'pato':'trait',\n",
    "'ecogene':'ecoli_gene',\n",
    "'pombase':'yeast_genome',\n",
    "'yeastgenome':'yeast_genome',\n",
    "'mod':'other',\n",
    "'po':'plant',\n",
    "'caro':'other',\n",
    "'dictyBase':'dictyo_genome',\n",
    "'envo':'env',\n",
    "'zfin':'zebrafish',\n",
    "'wormbase':'worm',\n",
    "'efo':'other',\n",
    "'gno':'other',\n",
    "'napdi_srs_imports':'napdi',\n",
    "'birdgenenames':'bird_gene',\n",
    "'mpath':'mouse_pathology',\n",
    "'ensemblbacteria#':'bacteria',\n",
    "'doid':'disease',\n",
    "'ecto':'env',\n",
    "'exo':'other',\n",
    "'foodon':'food',\n",
    "'apollo':'other',\n",
    "'http':'other',\n",
    "'chr':'other',\n",
    "'uo':'other',\n",
    "'nbo':'behavior',\n",
    "'ncit':'ncit',\n",
    "'pdro':'other',\n",
    "'ensembl#':'sequence',\n",
    "'hsapdv':'dev_stage',\n",
    "'mfomd':'other',\n",
    "'gaz':'other',\n",
    "'dron':'drug',\n",
    "'ogg':'other',\n",
    "'ino':'other',\n",
    "'ido':'other',\n",
    "'fma':'other',\n",
    "'vo':'vaccine',\n",
    "'mf':'other',\n",
    "'ero':'other',\n",
    "'ghr':'other',\n",
    "'pco':'other',\n",
    "'ogms':'other',\n",
    "'chmo':'other',\n",
    "'hgnc':'gene',\n",
    "'maxo':'other',\n",
    "'stato':'other',\n",
    "'mop':'other',\n",
    "'upheno':'other',\n",
    "'rare':'other'\n",
    "}"
   ]
  },
  {
   "cell_type": "code",
   "execution_count": 36,
   "id": "320e7409",
   "metadata": {},
   "outputs": [],
   "source": [
    "INFILE = KG_PATH + 'nodeLabels_CURIE_v3.0.0.tsv'\n",
    "OUTFILE = KG_PATH + 'nodeTypes_CURIE_v3.0.0.tsv'"
   ]
  },
  {
   "cell_type": "code",
   "execution_count": 37,
   "id": "c51bdf1c",
   "metadata": {},
   "outputs": [
    {
     "name": "stdout",
     "output_type": "stream",
     "text": [
      "Completed nodes:  100000\n",
      "Completed nodes:  200000\n",
      "Completed nodes:  300000\n",
      "Completed nodes:  400000\n",
      "Completed nodes:  500000\n",
      "Completed nodes:  600000\n",
      "Completed nodes:  700000\n",
      "Completed nodes:  800000\n",
      "Completed nodes:  900000\n",
      "Completed nodes:  1000000\n"
     ]
    }
   ],
   "source": [
    "with open(INFILE, 'r') as fin, open(OUTFILE, 'w') as fout:\n",
    "    freader = csv.reader(fin, delimiter='\\t')\n",
    "    fwriter = csv.writer(fout, delimiter='\\t')\n",
    "    fwriter.writerow(['curie', 'category'])\n",
    "    idx = 1\n",
    "    next(freader)\n",
    "    for row in freader:\n",
    "        try:\n",
    "            node_curie = row[0]\n",
    "            node_type = node_curie.split(':')[0]\n",
    "            if node_type in curie_to_node_type_dict:\n",
    "                node_type = curie_to_node_type_dict[node_type]\n",
    "            else:\n",
    "                node_type = 'other'\n",
    "            fwriter.writerow([node_curie, node_type])\n",
    "        except Exception as e:\n",
    "            print('Error: ', e)\n",
    "            print(idx)\n",
    "            print(row)\n",
    "        idx+=1\n",
    "        if idx%100000 == 0:\n",
    "            print('Completed nodes: ', idx)"
   ]
  },
  {
   "cell_type": "code",
   "execution_count": 38,
   "id": "95f6b6d8",
   "metadata": {},
   "outputs": [],
   "source": [
    "NODEINFILE = KG_PATH + 'nodeLabels_v3.0.0.tsv'\n",
    "NODEOUTFILE = KG_PATH + 'nodeTypes_v3.0.0.tsv'"
   ]
  },
  {
   "cell_type": "code",
   "execution_count": 39,
   "id": "eeecf738",
   "metadata": {},
   "outputs": [],
   "source": [
    "#load mapping dicts\n",
    "uri_to_curie_dict = {}\n",
    "curie_to_uri_dict = {}\n",
    "with open(KG_PATH+'uri_to_curie_map.tsv', 'r') as file1:\n",
    "    for line in file1:\n",
    "        uri_to_curie_dict[line.split('\\t')[0]] = line.split('\\t')[1].strip()\n",
    "\n",
    "with open(KG_PATH+'curie_to_uri_map.tsv', 'r') as file2:\n",
    "    for line in file2:\n",
    "        curie_to_uri_dict[line.split('\\t')[0]] = line.split('\\t')[1].strip()"
   ]
  },
  {
   "cell_type": "code",
   "execution_count": 40,
   "id": "f3f16a8e",
   "metadata": {},
   "outputs": [
    {
     "name": "stdout",
     "output_type": "stream",
     "text": [
      "clo:0035452 http://purl.obolibrary.org/obo/CLO_0035452\n"
     ]
    }
   ],
   "source": [
    "for key in curie_to_uri_dict:\n",
    "    print(key, curie_to_uri_dict[key])\n",
    "    break"
   ]
  },
  {
   "cell_type": "code",
   "execution_count": 41,
   "id": "95b4c47e",
   "metadata": {},
   "outputs": [
    {
     "name": "stdout",
     "output_type": "stream",
     "text": [
      "Completed nodes:  100000\n",
      "Completed nodes:  200000\n",
      "Completed nodes:  300000\n",
      "Completed nodes:  400000\n",
      "Completed nodes:  500000\n",
      "Completed nodes:  600000\n",
      "Completed nodes:  700000\n",
      "Completed nodes:  800000\n",
      "Completed nodes:  900000\n",
      "Completed nodes:  1000000\n"
     ]
    }
   ],
   "source": [
    "with open(NODEINFILE, 'r') as fin, open(NODEOUTFILE, 'w') as fout:\n",
    "    freader = csv.reader(fin, delimiter='\\t')\n",
    "    fwriter = csv.writer(fout, delimiter='\\t')\n",
    "    fwriter.writerow(['uri', 'category'])\n",
    "    idx = 1\n",
    "    next(freader)\n",
    "    for row in freader:\n",
    "        try:\n",
    "            node_uri = row[0]\n",
    "            node_curie = uri_to_curie_dict.get(node_uri, node_uri)\n",
    "            node_type = node_curie.split(':')[0]\n",
    "            if node_type in curie_to_node_type_dict:\n",
    "                node_type = curie_to_node_type_dict[node_type]\n",
    "            else:\n",
    "                node_type = 'other'\n",
    "            fwriter.writerow([node_uri, node_type])\n",
    "        except Exception as e:\n",
    "            print('Error: ', e)\n",
    "            print(idx)\n",
    "            print(row)\n",
    "        idx+=1\n",
    "        if idx%100000 == 0:\n",
    "            print('Completed nodes: ', idx)"
   ]
  },
  {
   "cell_type": "code",
   "execution_count": null,
   "id": "f1bd3d8e",
   "metadata": {},
   "outputs": [],
   "source": []
  },
  {
   "cell_type": "markdown",
   "metadata": {},
   "source": [
    "### Load in GRAPE to test"
   ]
  },
  {
   "cell_type": "code",
   "execution_count": 1,
   "metadata": {},
   "outputs": [],
   "source": [
    "from grape import Graph"
   ]
  },
  {
   "cell_type": "code",
   "execution_count": 3,
   "metadata": {},
   "outputs": [],
   "source": [
    "KG_PATH = '../resources/knowledge_graphs/'"
   ]
  },
  {
   "cell_type": "code",
   "execution_count": 35,
   "metadata": {},
   "outputs": [],
   "source": [
    "#load without node and edge labels (time=~11 secs)\n",
    "npkg = Graph.from_csv(\n",
    "        node_path=KG_PATH+'nodeTypes_CURIE_v3.0.0.tsv',\n",
    "        node_list_node_types_column_number=1,\n",
    "        nodes_column_number=0,\n",
    "        node_list_separator='\\t',\n",
    "        node_list_header=True,\n",
    "        edge_path=KG_PATH+'NP-KG-CURIE_v3.0.0.tsv',\n",
    "        edge_list_separator='\\t',\n",
    "        edge_list_header=True,\n",
    "        edge_list_edge_types_column_number=1,\n",
    "        sources_column_number=0,\n",
    "        destinations_column_number=2,\n",
    "        directed=True,\n",
    "        verbose=True\n",
    "    )"
   ]
  },
  {
   "cell_type": "code",
   "execution_count": 5,
   "metadata": {},
   "outputs": [],
   "source": [
    "import csv"
   ]
  },
  {
   "cell_type": "code",
   "execution_count": 34,
   "metadata": {},
   "outputs": [
    {
     "name": "stdout",
     "output_type": "stream",
     "text": [
      "Completed edges:  100000\n",
      "Completed edges:  200000\n",
      "Completed edges:  300000\n",
      "Completed edges:  400000\n",
      "Completed edges:  500000\n",
      "Completed edges:  600000\n",
      "Completed edges:  700000\n",
      "Completed edges:  800000\n",
      "Completed edges:  900000\n",
      "Completed edges:  1000000\n",
      "Completed edges:  1100000\n",
      "Completed edges:  1200000\n",
      "Completed edges:  1300000\n",
      "Completed edges:  1400000\n",
      "Completed edges:  1500000\n",
      "Completed edges:  1600000\n",
      "Completed edges:  1700000\n",
      "Completed edges:  1800000\n",
      "Completed edges:  1900000\n",
      "Completed edges:  2000000\n",
      "Completed edges:  2100000\n",
      "Completed edges:  2200000\n",
      "Completed edges:  2300000\n",
      "Completed edges:  2400000\n",
      "Completed edges:  2500000\n",
      "Completed edges:  2600000\n",
      "Completed edges:  2700000\n",
      "Completed edges:  2800000\n",
      "Completed edges:  2900000\n",
      "Completed edges:  3000000\n",
      "Completed edges:  3100000\n",
      "Completed edges:  3200000\n",
      "Completed edges:  3300000\n",
      "Completed edges:  3400000\n",
      "Completed edges:  3500000\n",
      "Completed edges:  3600000\n",
      "Completed edges:  3700000\n",
      "Completed edges:  3800000\n",
      "Completed edges:  3900000\n",
      "Completed edges:  4000000\n",
      "Completed edges:  4100000\n",
      "Completed edges:  4200000\n",
      "Completed edges:  4300000\n",
      "Completed edges:  4400000\n",
      "Completed edges:  4500000\n",
      "Completed edges:  4600000\n",
      "Completed edges:  4700000\n",
      "Completed edges:  4800000\n",
      "Completed edges:  4900000\n",
      "Completed edges:  5000000\n",
      "Completed edges:  5100000\n",
      "Completed edges:  5200000\n",
      "Completed edges:  5300000\n",
      "Completed edges:  5400000\n",
      "Completed edges:  5500000\n",
      "Completed edges:  5600000\n",
      "Completed edges:  5700000\n",
      "Completed edges:  5800000\n",
      "Completed edges:  5900000\n",
      "Completed edges:  6000000\n",
      "Completed edges:  6100000\n",
      "Completed edges:  6200000\n",
      "Completed edges:  6300000\n",
      "Completed edges:  6400000\n",
      "Completed edges:  6500000\n",
      "Completed edges:  6600000\n",
      "Completed edges:  6700000\n",
      "Completed edges:  6800000\n",
      "Completed edges:  6900000\n",
      "Completed edges:  7000000\n",
      "Completed edges:  7100000\n",
      "Completed edges:  7200000\n",
      "Completed edges:  7300000\n",
      "Completed edges:  7400000\n",
      "Completed edges:  7500000\n",
      "Completed edges:  7600000\n",
      "Completed edges:  7700000\n",
      "Completed edges:  7800000\n"
     ]
    }
   ],
   "source": [
    "##remove nodes with unknown or non-existent identifers from TSV file\n",
    "nodes_to_remove = ['pr:p0110014', 'chebi:1723062', 'pr:p3535483', 'napdi_srs_imports:trigonella_foenum',\n",
    "                   'chebi:56627491', 'chebi:2652316', 'pr:q9y6l68', 'chebi:272265', 'chebi:343852',\n",
    "                   'go:00085599', 'chebi:381555', 'chebi:633175', 'pr:00004538209', 'pr:00004538214']\n",
    "INFILE = KG_PATH + 'NP-KG-CURIE-only-v3.0.0.tsv'\n",
    "OUTFILE = KG_PATH + 'NP-KG-CURIE_v3.0.0.tsv'\n",
    "with open(INFILE, 'r') as fin, open(OUTFILE, 'w') as fout:\n",
    "    freader = csv.reader(fin, delimiter='\\t')\n",
    "    fwriter = csv.writer(fout, delimiter='\\t')\n",
    "    fwriter.writerow(['source', 'relation', 'target'])\n",
    "    idx = 1\n",
    "    #skip header\n",
    "    next(freader)\n",
    "    for row in freader:\n",
    "        try:\n",
    "            npkg_subject = row[0]\n",
    "            npkg_relation = row[1]\n",
    "            npkg_object = row[2]\n",
    "            if npkg_subject in nodes_to_remove or npkg_object in nodes_to_remove:\n",
    "                continue\n",
    "            fwriter.writerow([npkg_subject, npkg_relation, npkg_object])\n",
    "        except Exception as e:\n",
    "            print('Error: ', e)\n",
    "            print(idx)\n",
    "            print(row)\n",
    "        idx+=1\n",
    "        if idx%100000 == 0:\n",
    "            print('Completed edges: ', idx)"
   ]
  },
  {
   "cell_type": "code",
   "execution_count": 36,
   "metadata": {},
   "outputs": [
    {
     "data": {
      "text/html": [
       "<div class=\"graph-report\"><style>.graph-report li {margin: 0.5em 0 0.5em 0;}.graph-report .paragraph {text-align: justify;word-break: break-all;}.graph-report .small-columns {column-count: 4;column-gap: 2em;}.graph-report .medium-columns {column-count: 3;column-gap: 2em;}.graph-report .large-columns {column-count: 2;column-gap: 2em;}.graph-report .single-column {}@media only screen and (max-width: 600px) {.graph-report .small-columns {column-count: 1;}.graph-report .medium-columns {column-count: 1;}.graph-report .large-columns {column-count: 1;}}@media only screen and (min-width: 600px) and (max-width: 800px) {.graph-report .small-columns {column-count: 2;}.graph-report .medium-columns {column-count: 1;}.graph-report .large-columns {column-count: 1;}}@media only screen and (min-width: 800px) and (max-width: 1024px) {.graph-report .small-columns {column-count: 3;}.graph-report .medium-columns {column-count: 2;}.graph-report .large-columns {column-count: 1;}}</style><p class=\"paragraph\">The directed multigraph has 1.09M heterogeneous nodes and 7.84M heterogeneous edges. The RAM requirements for the nodes and edges data structures are 131.51MB and 40.06MB respectively.</p><h3 style=\"margin: 1em 0 0 0;\">Degree centrality</h3><p class=\"paragraph\">The minimum node degree is 0, the maximum node degree is 21.25K, the mode degree is 2, the mean degree is 7.19 and the node degree median is 2.</p><p class=\"paragraph\">The nodes with the highest degree centrality are <a href='http://purl.obolibrary.org/obo/UBERON_0000473' target='_blank' title='Go to Uberon multi-species anatomy ontology to get more informations about uberon:0000473'>uberon:0000473</a> (degree 21.25K and node type anatomy), <a href='http://amigo.geneontology.org/amigo/term/go:0005515' target='_blank' title='Go to Gene Ontology to get more informations about go:0005515'>go:0005515</a> (degree 12.33K and node type process), <a href='http://purl.obolibrary.org/obo/UBERON_0001323' target='_blank' title='Go to Uberon multi-species anatomy ontology to get more informations about uberon:0001323'>uberon:0001323</a> (degree 11.21K and node type anatomy), <a href='http://purl.obolibrary.org/obo/UBERON_0000007' target='_blank' title='Go to Uberon multi-species anatomy ontology to get more informations about uberon:0000007'>uberon:0000007</a> (degree 11.21K and node type anatomy) and <a href='http://purl.obolibrary.org/obo/UBERON_0002046' target='_blank' title='Go to Uberon multi-species anatomy ontology to get more informations about uberon:0002046'>uberon:0002046</a> (degree 11.20K and node type anatomy).</p><h3 style=\"margin: 1em 0 0 0;\">Node types</h3><p class=\"paragraph\">The graph has 36 node types, of which the 10 most common are variant (236.16K nodes, 21.68%), protein (227.10K nodes, 20.85%), sequence (197.38K nodes, 18.12%), chemical (163.78K nodes, 15.03%), process (43.27K nodes, 3.97%), cell_line (39.08K nodes, 3.59%), gene (31.63K nodes, 2.90%), disease (24.09K nodes, 2.21%), other (18.80K nodes, 1.73%) and phenotype (17.14K nodes, 1.57%). The RAM requirement for the node types data structure is 78.45MB.</p><h3 style=\"margin: 1em 0 0 0;\">Edge types</h3><p class=\"paragraph\">The graph has 356 edge types, of which the 10 most common are rdfs:subClassOf (1.57M edges, 20.07%), ro:0002436 (976.45K edges, 12.46%), ro:0001025 (681.38K edges, 8.70%), ro:0001015 (681.19K edges, 8.69%), ro:0002200 (433.59K edges, 5.53%), ro:0002201 (433.59K edges, 5.53%), ro:0000057 (381.14K edges, 4.86%), ro:0000056 (381.13K edges, 4.86%), ro:0002160 (286.88K edges, 3.66%) and ro:0002566 (238.65K edges, 3.05%). The RAM requirement for the edge types data structure is 31.38MB.</p><h4 style=\"margin: 1em 0 0 0;\">Singleton edge types</h4><p class=\"paragraph\">Singleton edge types are edge types that are assigned exclusively to a single edge, making the edge type relatively meaningless, as it adds no more information than the name of edge itself. The graph contains 41 edges with singleton edge types, which are ro:proper_part_of, ro:0002482, ro:0002497, ro:0019001, uberon:posteriorly_connected_to, ro:0002336, ro:0002481, bspo:0015012, mondo:disease_has_basis_in_accumulation_of and ro:0002352, plus other 31 edges with singleton edge types. </p><h3 style=\"margin: 1em 0 0 0;\">Topological Oddities</h3><p class=\"paragraph\">A topological oddity is a set of nodes in the graph that <i>may be derived</i> by an error during the generation of the edge list of the graph and, depending on the task, could bias the results of topology-based models. Note that in a directed graph we only support the detection of isomorphic nodes and edges. In the following paragraph, we will describe the detected topological oddities.</p><h4 style=\"margin: 1em 0 0 0;\">Singleton nodes</h4><p class=\"paragraph\">A singleton node is a node disconnected from all other nodes. We have detected 347 singleton nodes in the graph, involving a total of 347 nodes (0.03%). The detected singleton nodes are:</p><ul class=\"small-columns\"><li><p class=\"paragraph\">so#has:quality (node type other)</p></li>\n",
       "<li><p class=\"paragraph\"><a href='http://purl.obolibrary.org/obo/RO_0002322' target='_blank' title='Go to Relation Ontology to get more informations about ro:0002322'>ro:0002322</a> (node type other)</p></li>\n",
       "<li><p class=\"paragraph\"><a href='http://purl.obolibrary.org/obo/RO_0004001' target='_blank' title='Go to Relation Ontology to get more informations about ro:0004001'>ro:0004001</a> (node type other)</p></li>\n",
       "<li><p class=\"paragraph\"><a href='http://purl.obolibrary.org/obo/RO_0002007' target='_blank' title='Go to Relation Ontology to get more informations about ro:0002007'>ro:0002007</a> (node type other)</p></li>\n",
       "<li><p class=\"paragraph\">uberon&#x2f;core#in:outermost:side:of (node type other)</p></li>\n",
       "<li><p class=\"paragraph\">mondo#has:onset:during:or:after (node type other)</p></li>\n",
       "<li><p class=\"paragraph\"><a href='http://purl.obolibrary.org/obo/RO_0002451' target='_blank' title='Go to Relation Ontology to get more informations about ro:0002451'>ro:0002451</a> (node type other)</p></li>\n",
       "<li><p class=\"paragraph\"><a href='http://purl.obolibrary.org/obo/NCIT_r81' target='_blank' title='Go to NCI Thesaurus OBO Edition to get more informations about ncit:r81'>ncit:r81</a> (node type ncit)</p></li>\n",
       "<li><p class=\"paragraph\"><a href='http://purl.obolibrary.org/obo/BSPO_0000120' target='_blank' title='Go to Biological Spatial Ontology to get more informations about bspo:0000120'>bspo:0000120</a> (node type other)</p></li>\n",
       "<li><p class=\"paragraph\"><a href='http://purl.obolibrary.org/obo/RO_0003000' target='_blank' title='Go to Relation Ontology to get more informations about ro:0003000'>ro:0003000</a> (node type other)</p></li>\n",
       "<li><p class=\"paragraph\"><a href='http://purl.obolibrary.org/obo/NCIT_r82' target='_blank' title='Go to NCI Thesaurus OBO Edition to get more informations about ncit:r82'>ncit:r82</a> (node type ncit)</p></li>\n",
       "<li><p class=\"paragraph\"><a href='http://purl.obolibrary.org/obo/RO_0002596' target='_blank' title='Go to Relation Ontology to get more informations about ro:0002596'>ro:0002596</a> (node type other)</p></li>\n",
       "<li><p class=\"paragraph\"><a href='http://purl.obolibrary.org/obo/CLO_0037210' target='_blank' title='Go to Cell Line Ontology to get more informations about clo:0037210'>clo:0037210</a> (node type cell_line)</p></li>\n",
       "<li><p class=\"paragraph\"><a href='http://purl.obolibrary.org/obo/RO_0002202' target='_blank' title='Go to Relation Ontology to get more informations about ro:0002202'>ro:0002202</a> (node type other)</p></li>\n",
       "<li><p class=\"paragraph\"><a href='http://purl.obolibrary.org/obo/BSPO_0000097' target='_blank' title='Go to Biological Spatial Ontology to get more informations about bspo:0000097'>bspo:0000097</a> (node type other)</p></li></ul><p class=\"paragraph\">And other 332 singleton nodes.</p><h4 style=\"margin: 1em 0 0 0;\">Trap nodes</h4><p class=\"paragraph\">In a directed graph, a trap node is a node that blocks a random walk, having a some inbound edges and no outbound edges. We have detected 186 trap nodes in the graph, involving a total of 186 nodes (0.02%) and 1.89K edges (0.02%). The detected trap nodes are:</p><ul class=\"small-columns\"><li><p class=\"paragraph\"><a href='http://purl.obolibrary.org/obo/BFO_0000001' target='_blank' title='Go to Basic Formal Ontology to get more informations about bfo:0000001'>bfo:0000001</a> (node type other)</p></li>\n",
       "<li><p class=\"paragraph\"><a href='http://purl.obolibrary.org/obo/OAE_0001804' target='_blank' title='Go to Ontology of Adverse Events to get more informations about oae:0001804'>oae:0001804</a> (node type adverse_event)</p></li>\n",
       "<li><p class=\"paragraph\"><a href='http://amigo.geneontology.org/amigo/term/go:0008132' target='_blank' title='Go to Gene Ontology to get more informations about go:0008132'>go:0008132</a> (node type process)</p></li>\n",
       "<li><p class=\"paragraph\"><a href='http://amigo.geneontology.org/amigo/term/go:0005087' target='_blank' title='Go to Gene Ontology to get more informations about go:0005087'>go:0005087</a> (node type process)</p></li>\n",
       "<li><p class=\"paragraph\"><a href='http://amigo.geneontology.org/amigo/term/go:0009844' target='_blank' title='Go to Gene Ontology to get more informations about go:0009844'>go:0009844</a> (node type process)</p></li>\n",
       "<li><p class=\"paragraph\"><a href='https://www.ncbi.nlm.nih.gov/taxonomy/?term=41568' target='_blank' title='Go to NCBI Taxonomy to get more informations about ncbitaxon:41568'>ncbitaxon:41568</a> (node type organism)</p></li>\n",
       "<li><p class=\"paragraph\"><a href='http://amigo.geneontology.org/amigo/term/go:0001404' target='_blank' title='Go to Gene Ontology to get more informations about go:0001404'>go:0001404</a> (node type process)</p></li>\n",
       "<li><p class=\"paragraph\"><a href='https://www.ncbi.nlm.nih.gov/taxonomy/?term=157914' target='_blank' title='Go to NCBI Taxonomy to get more informations about ncbitaxon:157914'>ncbitaxon:157914</a> (node type organism)</p></li>\n",
       "<li><p class=\"paragraph\"><a href='http://amigo.geneontology.org/amigo/term/go:1990774' target='_blank' title='Go to Gene Ontology to get more informations about go:1990774'>go:1990774</a> (node type process)</p></li>\n",
       "<li><p class=\"paragraph\"><a href='http://amigo.geneontology.org/amigo/term/go:0042616' target='_blank' title='Go to Gene Ontology to get more informations about go:0042616'>go:0042616</a> (node type process)</p></li>\n",
       "<li><p class=\"paragraph\"><a href='https://www.ncbi.nlm.nih.gov/taxonomy/?term=8224' target='_blank' title='Go to NCBI Taxonomy to get more informations about ncbitaxon:8224'>ncbitaxon:8224</a> (node type organism)</p></li>\n",
       "<li><p class=\"paragraph\"><a href='https://www.ncbi.nlm.nih.gov/taxonomy/?term=1772' target='_blank' title='Go to NCBI Taxonomy to get more informations about ncbitaxon:1772'>ncbitaxon:1772</a> (node type organism)</p></li>\n",
       "<li><p class=\"paragraph\"><a href='https://www.ncbi.nlm.nih.gov/taxonomy/?term=172918' target='_blank' title='Go to NCBI Taxonomy to get more informations about ncbitaxon:172918'>ncbitaxon:172918</a> (node type organism)</p></li>\n",
       "<li><p class=\"paragraph\"><a href='http://purl.obolibrary.org/obo/PR_a5fyz9' target='_blank' title='Go to PRotein Ontology (PRO) to get more informations about pr:a5fyz9'>pr:a5fyz9</a> (node type protein)</p></li>\n",
       "<li><p class=\"paragraph\"><a href='http://purl.obolibrary.org/obo/PR_p26295' target='_blank' title='Go to PRotein Ontology (PRO) to get more informations about pr:p26295'>pr:p26295</a> (node type protein)</p></li></ul><p class=\"paragraph\">And other 171 trap nodes.</p><h4 style=\"margin: 1em 0 0 0;\">Singleton nodes with self-loops</h4><p class=\"paragraph\">In a directed graph, a trap node with selfloops is a node that traps a random walk, having a some inbound edges and only outbound edges to itself. Therefore, the random walk can continue ad infinitum, but forever trapped in the same node. We have detected 186 singleton nodes with self-loops in the graph, involving a total of 186 nodes (0.02%). The detected singleton nodes with self-loops are:</p><ul class=\"small-columns\"></ul><p class=\"paragraph\">And other 171 singleton nodes with self-loops.</p><h4 style=\"margin: 1em 0 0 0;\">Isomorphic node groups</h4><p class=\"paragraph\">Isomorphic node groups are nodes with exactly the same neighbours, node types, edge types and weights (if present in the graph). Nodes in such groups are topologically indistinguishable, that is swapping their ID would not change the graph topology. We have detected 1.22K isomorphic node groups in the graph, involving a total of 13.05K nodes (1.20%) and 515.06K edges (6.57%), with the largest one involving 758 nodes and 41.69K edges. The detected isomorphic node groups, sorted by decreasing size, are:</p><ol class=\"medium-columns\"><li><p class=\"paragraph\">Group with 758 nodes (degree 55 and node type sequence): <a href='https://www.ensembl.org/Gene/Summary?g=ENST00000384086' target='_blank' title='Go to ENSEMBL to get more informations about ensembl:ENST00000384086'>ensembl:ENST00000384086</a>, <a href='https://www.ensembl.org/Gene/Summary?g=ENST00000364204' target='_blank' title='Go to ENSEMBL to get more informations about ensembl:ENST00000364204'>ensembl:ENST00000364204</a>, <a href='https://www.ensembl.org/Gene/Summary?g=ENST00000384562' target='_blank' title='Go to ENSEMBL to get more informations about ensembl:ENST00000384562'>ensembl:ENST00000384562</a>, <a href='https://www.ensembl.org/Gene/Summary?g=ENST00000364665' target='_blank' title='Go to ENSEMBL to get more informations about ensembl:ENST00000364665'>ensembl:ENST00000364665</a>, <a href='https://www.ensembl.org/Gene/Summary?g=ENST00000363566' target='_blank' title='Go to ENSEMBL to get more informations about ensembl:ENST00000363566'>ensembl:ENST00000363566</a> and other 753.</p></li>\n",
       "<li><p class=\"paragraph\">Group with 508 nodes (degree 56 and node type sequence): <a href='https://www.ensembl.org/Gene/Summary?g=ENST00000664396' target='_blank' title='Go to ENSEMBL to get more informations about ensembl:ENST00000664396'>ensembl:ENST00000664396</a>, <a href='https://www.ensembl.org/Gene/Summary?g=ENST00000521399' target='_blank' title='Go to ENSEMBL to get more informations about ensembl:ENST00000521399'>ensembl:ENST00000521399</a>, <a href='https://www.ensembl.org/Gene/Summary?g=ENST00000664881' target='_blank' title='Go to ENSEMBL to get more informations about ensembl:ENST00000664881'>ensembl:ENST00000664881</a>, <a href='https://www.ensembl.org/Gene/Summary?g=ENST00000671608' target='_blank' title='Go to ENSEMBL to get more informations about ensembl:ENST00000671608'>ensembl:ENST00000671608</a>, <a href='https://www.ensembl.org/Gene/Summary?g=ENST00000652946' target='_blank' title='Go to ENSEMBL to get more informations about ensembl:ENST00000652946'>ensembl:ENST00000652946</a> and other 503.</p></li>\n",
       "<li><p class=\"paragraph\">Group with 295 nodes (degree 56 and node type sequence): <a href='https://www.ensembl.org/Gene/Summary?g=ENST00000439670' target='_blank' title='Go to ENSEMBL to get more informations about ensembl:ENST00000439670'>ensembl:ENST00000439670</a>, <a href='https://www.ensembl.org/Gene/Summary?g=ENST00000630522' target='_blank' title='Go to ENSEMBL to get more informations about ensembl:ENST00000630522'>ensembl:ENST00000630522</a>, <a href='https://www.ensembl.org/Gene/Summary?g=ENST00000692564' target='_blank' title='Go to ENSEMBL to get more informations about ensembl:ENST00000692564'>ensembl:ENST00000692564</a>, <a href='https://www.ensembl.org/Gene/Summary?g=ENST00000701533' target='_blank' title='Go to ENSEMBL to get more informations about ensembl:ENST00000701533'>ensembl:ENST00000701533</a>, <a href='https://www.ensembl.org/Gene/Summary?g=ENST00000596259' target='_blank' title='Go to ENSEMBL to get more informations about ensembl:ENST00000596259'>ensembl:ENST00000596259</a> and other 290.</p></li>\n",
       "<li><p class=\"paragraph\">Group with 258 nodes (degree 46 and node type sequence): <a href='https://www.ensembl.org/Gene/Summary?g=ENST00000667374' target='_blank' title='Go to ENSEMBL to get more informations about ensembl:ENST00000667374'>ensembl:ENST00000667374</a>, <a href='https://www.ensembl.org/Gene/Summary?g=ENST00000657710' target='_blank' title='Go to ENSEMBL to get more informations about ensembl:ENST00000657710'>ensembl:ENST00000657710</a>, <a href='https://www.ensembl.org/Gene/Summary?g=ENST00000697939' target='_blank' title='Go to ENSEMBL to get more informations about ensembl:ENST00000697939'>ensembl:ENST00000697939</a>, <a href='https://www.ensembl.org/Gene/Summary?g=ENST00000662622' target='_blank' title='Go to ENSEMBL to get more informations about ensembl:ENST00000662622'>ensembl:ENST00000662622</a>, <a href='https://www.ensembl.org/Gene/Summary?g=ENST00000697974' target='_blank' title='Go to ENSEMBL to get more informations about ensembl:ENST00000697974'>ensembl:ENST00000697974</a> and other 253.</p></li>\n",
       "<li><p class=\"paragraph\">Group with 142 nodes (degree 54 and node type sequence): <a href='https://www.ensembl.org/Gene/Summary?g=ENST00000664256' target='_blank' title='Go to ENSEMBL to get more informations about ensembl:ENST00000664256'>ensembl:ENST00000664256</a>, <a href='https://www.ensembl.org/Gene/Summary?g=ENST00000669928' target='_blank' title='Go to ENSEMBL to get more informations about ensembl:ENST00000669928'>ensembl:ENST00000669928</a>, <a href='https://www.ensembl.org/Gene/Summary?g=ENST00000424208' target='_blank' title='Go to ENSEMBL to get more informations about ensembl:ENST00000424208'>ensembl:ENST00000424208</a>, <a href='https://www.ensembl.org/Gene/Summary?g=ENST00000666663' target='_blank' title='Go to ENSEMBL to get more informations about ensembl:ENST00000666663'>ensembl:ENST00000666663</a>, <a href='https://www.ensembl.org/Gene/Summary?g=ENST00000655461' target='_blank' title='Go to ENSEMBL to get more informations about ensembl:ENST00000655461'>ensembl:ENST00000655461</a> and other 137.</p></li>\n",
       "<li><p class=\"paragraph\">Group with 170 nodes (degree 44 and node type sequence): <a href='https://www.ensembl.org/Gene/Summary?g=ENST00000616394' target='_blank' title='Go to ENSEMBL to get more informations about ensembl:ENST00000616394'>ensembl:ENST00000616394</a>, <a href='https://www.ensembl.org/Gene/Summary?g=ENST00000613464' target='_blank' title='Go to ENSEMBL to get more informations about ensembl:ENST00000613464'>ensembl:ENST00000613464</a>, <a href='https://www.ensembl.org/Gene/Summary?g=ENST00000612810' target='_blank' title='Go to ENSEMBL to get more informations about ensembl:ENST00000612810'>ensembl:ENST00000612810</a>, <a href='https://www.ensembl.org/Gene/Summary?g=ENST00000612530' target='_blank' title='Go to ENSEMBL to get more informations about ensembl:ENST00000612530'>ensembl:ENST00000612530</a>, <a href='https://www.ensembl.org/Gene/Summary?g=ENST00000613387' target='_blank' title='Go to ENSEMBL to get more informations about ensembl:ENST00000613387'>ensembl:ENST00000613387</a> and other 165.</p></li>\n",
       "<li><p class=\"paragraph\">Group with 115 nodes (degree 57 and node type sequence): <a href='https://www.ensembl.org/Gene/Summary?g=ENST00000436764' target='_blank' title='Go to ENSEMBL to get more informations about ensembl:ENST00000436764'>ensembl:ENST00000436764</a>, <a href='https://www.ensembl.org/Gene/Summary?g=ENST00000668482' target='_blank' title='Go to ENSEMBL to get more informations about ensembl:ENST00000668482'>ensembl:ENST00000668482</a>, <a href='https://www.ensembl.org/Gene/Summary?g=ENST00000701941' target='_blank' title='Go to ENSEMBL to get more informations about ensembl:ENST00000701941'>ensembl:ENST00000701941</a>, <a href='https://www.ensembl.org/Gene/Summary?g=ENST00000653938' target='_blank' title='Go to ENSEMBL to get more informations about ensembl:ENST00000653938'>ensembl:ENST00000653938</a>, <a href='https://www.ensembl.org/Gene/Summary?g=ENST00000657216' target='_blank' title='Go to ENSEMBL to get more informations about ensembl:ENST00000657216'>ensembl:ENST00000657216</a> and other 110.</p></li>\n",
       "<li><p class=\"paragraph\">Group with 190 nodes (degree 34 and node type sequence): <a href='https://www.ensembl.org/Gene/Summary?g=ENST00000660631' target='_blank' title='Go to ENSEMBL to get more informations about ensembl:ENST00000660631'>ensembl:ENST00000660631</a>, <a href='https://www.ensembl.org/Gene/Summary?g=ENST00000517525' target='_blank' title='Go to ENSEMBL to get more informations about ensembl:ENST00000517525'>ensembl:ENST00000517525</a>, <a href='https://www.ensembl.org/Gene/Summary?g=ENST00000668123' target='_blank' title='Go to ENSEMBL to get more informations about ensembl:ENST00000668123'>ensembl:ENST00000668123</a>, <a href='https://www.ensembl.org/Gene/Summary?g=ENST00000524165' target='_blank' title='Go to ENSEMBL to get more informations about ensembl:ENST00000524165'>ensembl:ENST00000524165</a>, <a href='https://www.ensembl.org/Gene/Summary?g=ENST00000685634' target='_blank' title='Go to ENSEMBL to get more informations about ensembl:ENST00000685634'>ensembl:ENST00000685634</a> and other 185.</p></li>\n",
       "<li><p class=\"paragraph\">Group with 107 nodes (degree 53 and node type sequence): <a href='https://www.ensembl.org/Gene/Summary?g=ENST00000529804' target='_blank' title='Go to ENSEMBL to get more informations about ensembl:ENST00000529804'>ensembl:ENST00000529804</a>, <a href='https://www.ensembl.org/Gene/Summary?g=ENST00000693154' target='_blank' title='Go to ENSEMBL to get more informations about ensembl:ENST00000693154'>ensembl:ENST00000693154</a>, <a href='https://www.ensembl.org/Gene/Summary?g=ENST00000689894' target='_blank' title='Go to ENSEMBL to get more informations about ensembl:ENST00000689894'>ensembl:ENST00000689894</a>, <a href='https://www.ensembl.org/Gene/Summary?g=ENST00000670374' target='_blank' title='Go to ENSEMBL to get more informations about ensembl:ENST00000670374'>ensembl:ENST00000670374</a>, <a href='https://www.ensembl.org/Gene/Summary?g=ENST00000665519' target='_blank' title='Go to ENSEMBL to get more informations about ensembl:ENST00000665519'>ensembl:ENST00000665519</a> and other 102.</p></li>\n",
       "<li><p class=\"paragraph\">Group with 107 nodes (degree 43 and node type sequence): <a href='https://www.ensembl.org/Gene/Summary?g=ENST00000656303' target='_blank' title='Go to ENSEMBL to get more informations about ensembl:ENST00000656303'>ensembl:ENST00000656303</a>, <a href='https://www.ensembl.org/Gene/Summary?g=ENST00000673843' target='_blank' title='Go to ENSEMBL to get more informations about ensembl:ENST00000673843'>ensembl:ENST00000673843</a>, <a href='https://www.ensembl.org/Gene/Summary?g=ENST00000667670' target='_blank' title='Go to ENSEMBL to get more informations about ensembl:ENST00000667670'>ensembl:ENST00000667670</a>, <a href='https://www.ensembl.org/Gene/Summary?g=ENST00000674070' target='_blank' title='Go to ENSEMBL to get more informations about ensembl:ENST00000674070'>ensembl:ENST00000674070</a>, <a href='https://www.ensembl.org/Gene/Summary?g=ENST00000669917' target='_blank' title='Go to ENSEMBL to get more informations about ensembl:ENST00000669917'>ensembl:ENST00000669917</a> and other 102.</p></li>\n",
       "<li><p class=\"paragraph\">Group with 79 nodes (degree 57 and node type sequence): <a href='https://www.ensembl.org/Gene/Summary?g=ENST00000662864' target='_blank' title='Go to ENSEMBL to get more informations about ensembl:ENST00000662864'>ensembl:ENST00000662864</a>, <a href='https://www.ensembl.org/Gene/Summary?g=ENST00000661084' target='_blank' title='Go to ENSEMBL to get more informations about ensembl:ENST00000661084'>ensembl:ENST00000661084</a>, <a href='https://www.ensembl.org/Gene/Summary?g=ENST00000651451' target='_blank' title='Go to ENSEMBL to get more informations about ensembl:ENST00000651451'>ensembl:ENST00000651451</a>, <a href='https://www.ensembl.org/Gene/Summary?g=ENST00000656041' target='_blank' title='Go to ENSEMBL to get more informations about ensembl:ENST00000656041'>ensembl:ENST00000656041</a>, <a href='https://www.ensembl.org/Gene/Summary?g=ENST00000653018' target='_blank' title='Go to ENSEMBL to get more informations about ensembl:ENST00000653018'>ensembl:ENST00000653018</a> and other 74.</p></li>\n",
       "<li><p class=\"paragraph\">Group with 76 nodes (degree 55 and node type sequence): <a href='https://www.ensembl.org/Gene/Summary?g=ENST00000702693' target='_blank' title='Go to ENSEMBL to get more informations about ensembl:ENST00000702693'>ensembl:ENST00000702693</a>, <a href='https://www.ensembl.org/Gene/Summary?g=ENST00000688238' target='_blank' title='Go to ENSEMBL to get more informations about ensembl:ENST00000688238'>ensembl:ENST00000688238</a>, <a href='https://www.ensembl.org/Gene/Summary?g=ENST00000690253' target='_blank' title='Go to ENSEMBL to get more informations about ensembl:ENST00000690253'>ensembl:ENST00000690253</a>, <a href='https://www.ensembl.org/Gene/Summary?g=ENST00000702199' target='_blank' title='Go to ENSEMBL to get more informations about ensembl:ENST00000702199'>ensembl:ENST00000702199</a>, <a href='https://www.ensembl.org/Gene/Summary?g=ENST00000687826' target='_blank' title='Go to ENSEMBL to get more informations about ensembl:ENST00000687826'>ensembl:ENST00000687826</a> and other 71.</p></li>\n",
       "<li><p class=\"paragraph\">Group with 80 nodes (degree 52 and node type sequence): <a href='https://www.ensembl.org/Gene/Summary?g=ENST00000654151' target='_blank' title='Go to ENSEMBL to get more informations about ensembl:ENST00000654151'>ensembl:ENST00000654151</a>, <a href='https://www.ensembl.org/Gene/Summary?g=ENST00000586248' target='_blank' title='Go to ENSEMBL to get more informations about ensembl:ENST00000586248'>ensembl:ENST00000586248</a>, <a href='https://www.ensembl.org/Gene/Summary?g=ENST00000670572' target='_blank' title='Go to ENSEMBL to get more informations about ensembl:ENST00000670572'>ensembl:ENST00000670572</a>, <a href='https://www.ensembl.org/Gene/Summary?g=ENST00000655166' target='_blank' title='Go to ENSEMBL to get more informations about ensembl:ENST00000655166'>ensembl:ENST00000655166</a>, <a href='https://www.ensembl.org/Gene/Summary?g=ENST00000690384' target='_blank' title='Go to ENSEMBL to get more informations about ensembl:ENST00000690384'>ensembl:ENST00000690384</a> and other 75.</p></li>\n",
       "<li><p class=\"paragraph\">Group with 72 nodes (degree 57 and node type sequence): <a href='https://www.ensembl.org/Gene/Summary?g=ENST00000707028' target='_blank' title='Go to ENSEMBL to get more informations about ensembl:ENST00000707028'>ensembl:ENST00000707028</a>, <a href='https://www.ensembl.org/Gene/Summary?g=ENST00000707024' target='_blank' title='Go to ENSEMBL to get more informations about ensembl:ENST00000707024'>ensembl:ENST00000707024</a>, <a href='https://www.ensembl.org/Gene/Summary?g=ENST00000707026' target='_blank' title='Go to ENSEMBL to get more informations about ensembl:ENST00000707026'>ensembl:ENST00000707026</a>, <a href='https://www.ensembl.org/Gene/Summary?g=ENST00000707027' target='_blank' title='Go to ENSEMBL to get more informations about ensembl:ENST00000707027'>ensembl:ENST00000707027</a>, <a href='https://www.ensembl.org/Gene/Summary?g=ENST00000707018' target='_blank' title='Go to ENSEMBL to get more informations about ensembl:ENST00000707018'>ensembl:ENST00000707018</a> and other 67.</p></li>\n",
       "<li><p class=\"paragraph\">Group with 85 nodes (degree 48 and node type sequence): <a href='https://www.ensembl.org/Gene/Summary?g=ENST00000602985' target='_blank' title='Go to ENSEMBL to get more informations about ensembl:ENST00000602985'>ensembl:ENST00000602985</a>, <a href='https://www.ensembl.org/Gene/Summary?g=ENST00000670503' target='_blank' title='Go to ENSEMBL to get more informations about ensembl:ENST00000670503'>ensembl:ENST00000670503</a>, <a href='https://www.ensembl.org/Gene/Summary?g=ENST00000670192' target='_blank' title='Go to ENSEMBL to get more informations about ensembl:ENST00000670192'>ensembl:ENST00000670192</a>, <a href='https://www.ensembl.org/Gene/Summary?g=ENST00000655994' target='_blank' title='Go to ENSEMBL to get more informations about ensembl:ENST00000655994'>ensembl:ENST00000655994</a>, <a href='https://www.ensembl.org/Gene/Summary?g=ENST00000666059' target='_blank' title='Go to ENSEMBL to get more informations about ensembl:ENST00000666059'>ensembl:ENST00000666059</a> and other 80.</p></li></ol><p class=\"paragraph\">And other 1.21K isomorphic node groups.</p></div>"
      ],
      "text/plain": [
       "<div class=\"graph-report\"><style>.graph-report li {margin: 0.5em 0 0.5em 0;}.graph-report .paragraph {text-align: justify;word-break: break-all;}.graph-report .small-columns {column-count: 4;column-gap: 2em;}.graph-report .medium-columns {column-count: 3;column-gap: 2em;}.graph-report .large-columns {column-count: 2;column-gap: 2em;}.graph-report .single-column {}@media only screen and (max-width: 600px) {.graph-report .small-columns {column-count: 1;}.graph-report .medium-columns {column-count: 1;}.graph-report .large-columns {column-count: 1;}}@media only screen and (min-width: 600px) and (max-width: 800px) {.graph-report .small-columns {column-count: 2;}.graph-report .medium-columns {column-count: 1;}.graph-report .large-columns {column-count: 1;}}@media only screen and (min-width: 800px) and (max-width: 1024px) {.graph-report .small-columns {column-count: 3;}.graph-report .medium-columns {column-count: 2;}.graph-report .large-columns {column-count: 1;}}</style><p class=\"paragraph\">The directed multigraph has 1.09M heterogeneous nodes and 7.84M heterogeneous edges. The RAM requirements for the nodes and edges data structures are 131.51MB and 40.06MB respectively.</p><h3 style=\"margin: 1em 0 0 0;\">Degree centrality</h3><p class=\"paragraph\">The minimum node degree is 0, the maximum node degree is 21.25K, the mode degree is 2, the mean degree is 7.19 and the node degree median is 2.</p><p class=\"paragraph\">The nodes with the highest degree centrality are <a href='http://purl.obolibrary.org/obo/UBERON_0000473' target='_blank' title='Go to Uberon multi-species anatomy ontology to get more informations about uberon:0000473'>uberon:0000473</a> (degree 21.25K and node type anatomy), <a href='http://amigo.geneontology.org/amigo/term/go:0005515' target='_blank' title='Go to Gene Ontology to get more informations about go:0005515'>go:0005515</a> (degree 12.33K and node type process), <a href='http://purl.obolibrary.org/obo/UBERON_0001323' target='_blank' title='Go to Uberon multi-species anatomy ontology to get more informations about uberon:0001323'>uberon:0001323</a> (degree 11.21K and node type anatomy), <a href='http://purl.obolibrary.org/obo/UBERON_0000007' target='_blank' title='Go to Uberon multi-species anatomy ontology to get more informations about uberon:0000007'>uberon:0000007</a> (degree 11.21K and node type anatomy) and <a href='http://purl.obolibrary.org/obo/UBERON_0002046' target='_blank' title='Go to Uberon multi-species anatomy ontology to get more informations about uberon:0002046'>uberon:0002046</a> (degree 11.20K and node type anatomy).</p><h3 style=\"margin: 1em 0 0 0;\">Node types</h3><p class=\"paragraph\">The graph has 36 node types, of which the 10 most common are variant (236.16K nodes, 21.68%), protein (227.10K nodes, 20.85%), sequence (197.38K nodes, 18.12%), chemical (163.78K nodes, 15.03%), process (43.27K nodes, 3.97%), cell_line (39.08K nodes, 3.59%), gene (31.63K nodes, 2.90%), disease (24.09K nodes, 2.21%), other (18.80K nodes, 1.73%) and phenotype (17.14K nodes, 1.57%). The RAM requirement for the node types data structure is 78.45MB.</p><h3 style=\"margin: 1em 0 0 0;\">Edge types</h3><p class=\"paragraph\">The graph has 356 edge types, of which the 10 most common are rdfs:subClassOf (1.57M edges, 20.07%), ro:0002436 (976.45K edges, 12.46%), ro:0001025 (681.38K edges, 8.70%), ro:0001015 (681.19K edges, 8.69%), ro:0002201 (433.59K edges, 5.53%), ro:0002200 (433.59K edges, 5.53%), ro:0000057 (381.14K edges, 4.86%), ro:0000056 (381.13K edges, 4.86%), ro:0002160 (286.88K edges, 3.66%) and ro:0002566 (238.65K edges, 3.05%). The RAM requirement for the edge types data structure is 31.38MB.</p><h4 style=\"margin: 1em 0 0 0;\">Singleton edge types</h4><p class=\"paragraph\">Singleton edge types are edge types that are assigned exclusively to a single edge, making the edge type relatively meaningless, as it adds no more information than the name of edge itself. The graph contains 41 edges with singleton edge types, which are ro:proper_part_of, ro:0002482, ro:0002497, ro:0019001, uberon:posteriorly_connected_to, ro:0002336, ro:0002481, bspo:0015012, mondo:disease_has_basis_in_accumulation_of and ro:0002352, plus other 31 edges with singleton edge types. </p><h3 style=\"margin: 1em 0 0 0;\">Topological Oddities</h3><p class=\"paragraph\">A topological oddity is a set of nodes in the graph that <i>may be derived</i> by an error during the generation of the edge list of the graph and, depending on the task, could bias the results of topology-based models. Note that in a directed graph we only support the detection of isomorphic nodes and edges. In the following paragraph, we will describe the detected topological oddities.</p><h4 style=\"margin: 1em 0 0 0;\">Singleton nodes</h4><p class=\"paragraph\">A singleton node is a node disconnected from all other nodes. We have detected 347 singleton nodes in the graph, involving a total of 347 nodes (0.03%). The detected singleton nodes are:</p><ul class=\"small-columns\"><li><p class=\"paragraph\">so#has:quality (node type other)</p></li>\n",
       "<li><p class=\"paragraph\"><a href='http://purl.obolibrary.org/obo/RO_0002322' target='_blank' title='Go to Relation Ontology to get more informations about ro:0002322'>ro:0002322</a> (node type other)</p></li>\n",
       "<li><p class=\"paragraph\"><a href='http://purl.obolibrary.org/obo/RO_0004001' target='_blank' title='Go to Relation Ontology to get more informations about ro:0004001'>ro:0004001</a> (node type other)</p></li>\n",
       "<li><p class=\"paragraph\"><a href='http://purl.obolibrary.org/obo/RO_0002007' target='_blank' title='Go to Relation Ontology to get more informations about ro:0002007'>ro:0002007</a> (node type other)</p></li>\n",
       "<li><p class=\"paragraph\">uberon&#x2f;core#in:outermost:side:of (node type other)</p></li>\n",
       "<li><p class=\"paragraph\">mondo#has:onset:during:or:after (node type other)</p></li>\n",
       "<li><p class=\"paragraph\"><a href='http://purl.obolibrary.org/obo/RO_0002451' target='_blank' title='Go to Relation Ontology to get more informations about ro:0002451'>ro:0002451</a> (node type other)</p></li>\n",
       "<li><p class=\"paragraph\"><a href='http://purl.obolibrary.org/obo/NCIT_r81' target='_blank' title='Go to NCI Thesaurus OBO Edition to get more informations about ncit:r81'>ncit:r81</a> (node type ncit)</p></li>\n",
       "<li><p class=\"paragraph\"><a href='http://purl.obolibrary.org/obo/BSPO_0000120' target='_blank' title='Go to Biological Spatial Ontology to get more informations about bspo:0000120'>bspo:0000120</a> (node type other)</p></li>\n",
       "<li><p class=\"paragraph\"><a href='http://purl.obolibrary.org/obo/RO_0003000' target='_blank' title='Go to Relation Ontology to get more informations about ro:0003000'>ro:0003000</a> (node type other)</p></li>\n",
       "<li><p class=\"paragraph\"><a href='http://purl.obolibrary.org/obo/NCIT_r82' target='_blank' title='Go to NCI Thesaurus OBO Edition to get more informations about ncit:r82'>ncit:r82</a> (node type ncit)</p></li>\n",
       "<li><p class=\"paragraph\"><a href='http://purl.obolibrary.org/obo/RO_0002596' target='_blank' title='Go to Relation Ontology to get more informations about ro:0002596'>ro:0002596</a> (node type other)</p></li>\n",
       "<li><p class=\"paragraph\"><a href='http://purl.obolibrary.org/obo/CLO_0037210' target='_blank' title='Go to Cell Line Ontology to get more informations about clo:0037210'>clo:0037210</a> (node type cell_line)</p></li>\n",
       "<li><p class=\"paragraph\"><a href='http://purl.obolibrary.org/obo/RO_0002202' target='_blank' title='Go to Relation Ontology to get more informations about ro:0002202'>ro:0002202</a> (node type other)</p></li>\n",
       "<li><p class=\"paragraph\"><a href='http://purl.obolibrary.org/obo/BSPO_0000097' target='_blank' title='Go to Biological Spatial Ontology to get more informations about bspo:0000097'>bspo:0000097</a> (node type other)</p></li></ul><p class=\"paragraph\">And other 332 singleton nodes.</p><h4 style=\"margin: 1em 0 0 0;\">Trap nodes</h4><p class=\"paragraph\">In a directed graph, a trap node is a node that blocks a random walk, having a some inbound edges and no outbound edges. We have detected 186 trap nodes in the graph, involving a total of 186 nodes (0.02%) and 1.89K edges (0.02%). The detected trap nodes are:</p><ul class=\"small-columns\"><li><p class=\"paragraph\"><a href='http://purl.obolibrary.org/obo/BFO_0000001' target='_blank' title='Go to Basic Formal Ontology to get more informations about bfo:0000001'>bfo:0000001</a> (node type other)</p></li>\n",
       "<li><p class=\"paragraph\"><a href='http://purl.obolibrary.org/obo/OAE_0001804' target='_blank' title='Go to Ontology of Adverse Events to get more informations about oae:0001804'>oae:0001804</a> (node type adverse_event)</p></li>\n",
       "<li><p class=\"paragraph\"><a href='http://amigo.geneontology.org/amigo/term/go:0008132' target='_blank' title='Go to Gene Ontology to get more informations about go:0008132'>go:0008132</a> (node type process)</p></li>\n",
       "<li><p class=\"paragraph\"><a href='http://amigo.geneontology.org/amigo/term/go:0005087' target='_blank' title='Go to Gene Ontology to get more informations about go:0005087'>go:0005087</a> (node type process)</p></li>\n",
       "<li><p class=\"paragraph\"><a href='http://amigo.geneontology.org/amigo/term/go:0009844' target='_blank' title='Go to Gene Ontology to get more informations about go:0009844'>go:0009844</a> (node type process)</p></li>\n",
       "<li><p class=\"paragraph\"><a href='https://www.ncbi.nlm.nih.gov/taxonomy/?term=41568' target='_blank' title='Go to NCBI Taxonomy to get more informations about ncbitaxon:41568'>ncbitaxon:41568</a> (node type organism)</p></li>\n",
       "<li><p class=\"paragraph\"><a href='http://amigo.geneontology.org/amigo/term/go:0001404' target='_blank' title='Go to Gene Ontology to get more informations about go:0001404'>go:0001404</a> (node type process)</p></li>\n",
       "<li><p class=\"paragraph\"><a href='https://www.ncbi.nlm.nih.gov/taxonomy/?term=157914' target='_blank' title='Go to NCBI Taxonomy to get more informations about ncbitaxon:157914'>ncbitaxon:157914</a> (node type organism)</p></li>\n",
       "<li><p class=\"paragraph\"><a href='http://amigo.geneontology.org/amigo/term/go:1990774' target='_blank' title='Go to Gene Ontology to get more informations about go:1990774'>go:1990774</a> (node type process)</p></li>\n",
       "<li><p class=\"paragraph\"><a href='http://amigo.geneontology.org/amigo/term/go:0042616' target='_blank' title='Go to Gene Ontology to get more informations about go:0042616'>go:0042616</a> (node type process)</p></li>\n",
       "<li><p class=\"paragraph\"><a href='https://www.ncbi.nlm.nih.gov/taxonomy/?term=8224' target='_blank' title='Go to NCBI Taxonomy to get more informations about ncbitaxon:8224'>ncbitaxon:8224</a> (node type organism)</p></li>\n",
       "<li><p class=\"paragraph\"><a href='https://www.ncbi.nlm.nih.gov/taxonomy/?term=1772' target='_blank' title='Go to NCBI Taxonomy to get more informations about ncbitaxon:1772'>ncbitaxon:1772</a> (node type organism)</p></li>\n",
       "<li><p class=\"paragraph\"><a href='https://www.ncbi.nlm.nih.gov/taxonomy/?term=172918' target='_blank' title='Go to NCBI Taxonomy to get more informations about ncbitaxon:172918'>ncbitaxon:172918</a> (node type organism)</p></li>\n",
       "<li><p class=\"paragraph\"><a href='http://purl.obolibrary.org/obo/PR_a5fyz9' target='_blank' title='Go to PRotein Ontology (PRO) to get more informations about pr:a5fyz9'>pr:a5fyz9</a> (node type protein)</p></li>\n",
       "<li><p class=\"paragraph\"><a href='http://purl.obolibrary.org/obo/PR_p26295' target='_blank' title='Go to PRotein Ontology (PRO) to get more informations about pr:p26295'>pr:p26295</a> (node type protein)</p></li></ul><p class=\"paragraph\">And other 171 trap nodes.</p><h4 style=\"margin: 1em 0 0 0;\">Singleton nodes with self-loops</h4><p class=\"paragraph\">In a directed graph, a trap node with selfloops is a node that traps a random walk, having a some inbound edges and only outbound edges to itself. Therefore, the random walk can continue ad infinitum, but forever trapped in the same node. We have detected 186 singleton nodes with self-loops in the graph, involving a total of 186 nodes (0.02%). The detected singleton nodes with self-loops are:</p><ul class=\"small-columns\"></ul><p class=\"paragraph\">And other 171 singleton nodes with self-loops.</p><h4 style=\"margin: 1em 0 0 0;\">Isomorphic node groups</h4><p class=\"paragraph\">Isomorphic node groups are nodes with exactly the same neighbours, node types, edge types and weights (if present in the graph). Nodes in such groups are topologically indistinguishable, that is swapping their ID would not change the graph topology. We have detected 1.22K isomorphic node groups in the graph, involving a total of 13.05K nodes (1.20%) and 515.06K edges (6.57%), with the largest one involving 758 nodes and 41.69K edges. The detected isomorphic node groups, sorted by decreasing size, are:</p><ol class=\"medium-columns\"><li><p class=\"paragraph\">Group with 758 nodes (degree 55 and node type sequence): <a href='https://www.ensembl.org/Gene/Summary?g=ENST00000384086' target='_blank' title='Go to ENSEMBL to get more informations about ensembl:ENST00000384086'>ensembl:ENST00000384086</a>, <a href='https://www.ensembl.org/Gene/Summary?g=ENST00000364204' target='_blank' title='Go to ENSEMBL to get more informations about ensembl:ENST00000364204'>ensembl:ENST00000364204</a>, <a href='https://www.ensembl.org/Gene/Summary?g=ENST00000384562' target='_blank' title='Go to ENSEMBL to get more informations about ensembl:ENST00000384562'>ensembl:ENST00000384562</a>, <a href='https://www.ensembl.org/Gene/Summary?g=ENST00000364665' target='_blank' title='Go to ENSEMBL to get more informations about ensembl:ENST00000364665'>ensembl:ENST00000364665</a>, <a href='https://www.ensembl.org/Gene/Summary?g=ENST00000363566' target='_blank' title='Go to ENSEMBL to get more informations about ensembl:ENST00000363566'>ensembl:ENST00000363566</a> and other 753.</p></li>\n",
       "<li><p class=\"paragraph\">Group with 508 nodes (degree 56 and node type sequence): <a href='https://www.ensembl.org/Gene/Summary?g=ENST00000664396' target='_blank' title='Go to ENSEMBL to get more informations about ensembl:ENST00000664396'>ensembl:ENST00000664396</a>, <a href='https://www.ensembl.org/Gene/Summary?g=ENST00000521399' target='_blank' title='Go to ENSEMBL to get more informations about ensembl:ENST00000521399'>ensembl:ENST00000521399</a>, <a href='https://www.ensembl.org/Gene/Summary?g=ENST00000664881' target='_blank' title='Go to ENSEMBL to get more informations about ensembl:ENST00000664881'>ensembl:ENST00000664881</a>, <a href='https://www.ensembl.org/Gene/Summary?g=ENST00000671608' target='_blank' title='Go to ENSEMBL to get more informations about ensembl:ENST00000671608'>ensembl:ENST00000671608</a>, <a href='https://www.ensembl.org/Gene/Summary?g=ENST00000652946' target='_blank' title='Go to ENSEMBL to get more informations about ensembl:ENST00000652946'>ensembl:ENST00000652946</a> and other 503.</p></li>\n",
       "<li><p class=\"paragraph\">Group with 295 nodes (degree 56 and node type sequence): <a href='https://www.ensembl.org/Gene/Summary?g=ENST00000439670' target='_blank' title='Go to ENSEMBL to get more informations about ensembl:ENST00000439670'>ensembl:ENST00000439670</a>, <a href='https://www.ensembl.org/Gene/Summary?g=ENST00000630522' target='_blank' title='Go to ENSEMBL to get more informations about ensembl:ENST00000630522'>ensembl:ENST00000630522</a>, <a href='https://www.ensembl.org/Gene/Summary?g=ENST00000692564' target='_blank' title='Go to ENSEMBL to get more informations about ensembl:ENST00000692564'>ensembl:ENST00000692564</a>, <a href='https://www.ensembl.org/Gene/Summary?g=ENST00000701533' target='_blank' title='Go to ENSEMBL to get more informations about ensembl:ENST00000701533'>ensembl:ENST00000701533</a>, <a href='https://www.ensembl.org/Gene/Summary?g=ENST00000596259' target='_blank' title='Go to ENSEMBL to get more informations about ensembl:ENST00000596259'>ensembl:ENST00000596259</a> and other 290.</p></li>\n",
       "<li><p class=\"paragraph\">Group with 258 nodes (degree 46 and node type sequence): <a href='https://www.ensembl.org/Gene/Summary?g=ENST00000667374' target='_blank' title='Go to ENSEMBL to get more informations about ensembl:ENST00000667374'>ensembl:ENST00000667374</a>, <a href='https://www.ensembl.org/Gene/Summary?g=ENST00000657710' target='_blank' title='Go to ENSEMBL to get more informations about ensembl:ENST00000657710'>ensembl:ENST00000657710</a>, <a href='https://www.ensembl.org/Gene/Summary?g=ENST00000697939' target='_blank' title='Go to ENSEMBL to get more informations about ensembl:ENST00000697939'>ensembl:ENST00000697939</a>, <a href='https://www.ensembl.org/Gene/Summary?g=ENST00000662622' target='_blank' title='Go to ENSEMBL to get more informations about ensembl:ENST00000662622'>ensembl:ENST00000662622</a>, <a href='https://www.ensembl.org/Gene/Summary?g=ENST00000697974' target='_blank' title='Go to ENSEMBL to get more informations about ensembl:ENST00000697974'>ensembl:ENST00000697974</a> and other 253.</p></li>\n",
       "<li><p class=\"paragraph\">Group with 142 nodes (degree 54 and node type sequence): <a href='https://www.ensembl.org/Gene/Summary?g=ENST00000664256' target='_blank' title='Go to ENSEMBL to get more informations about ensembl:ENST00000664256'>ensembl:ENST00000664256</a>, <a href='https://www.ensembl.org/Gene/Summary?g=ENST00000669928' target='_blank' title='Go to ENSEMBL to get more informations about ensembl:ENST00000669928'>ensembl:ENST00000669928</a>, <a href='https://www.ensembl.org/Gene/Summary?g=ENST00000424208' target='_blank' title='Go to ENSEMBL to get more informations about ensembl:ENST00000424208'>ensembl:ENST00000424208</a>, <a href='https://www.ensembl.org/Gene/Summary?g=ENST00000666663' target='_blank' title='Go to ENSEMBL to get more informations about ensembl:ENST00000666663'>ensembl:ENST00000666663</a>, <a href='https://www.ensembl.org/Gene/Summary?g=ENST00000655461' target='_blank' title='Go to ENSEMBL to get more informations about ensembl:ENST00000655461'>ensembl:ENST00000655461</a> and other 137.</p></li>\n",
       "<li><p class=\"paragraph\">Group with 170 nodes (degree 44 and node type sequence): <a href='https://www.ensembl.org/Gene/Summary?g=ENST00000616394' target='_blank' title='Go to ENSEMBL to get more informations about ensembl:ENST00000616394'>ensembl:ENST00000616394</a>, <a href='https://www.ensembl.org/Gene/Summary?g=ENST00000613464' target='_blank' title='Go to ENSEMBL to get more informations about ensembl:ENST00000613464'>ensembl:ENST00000613464</a>, <a href='https://www.ensembl.org/Gene/Summary?g=ENST00000612810' target='_blank' title='Go to ENSEMBL to get more informations about ensembl:ENST00000612810'>ensembl:ENST00000612810</a>, <a href='https://www.ensembl.org/Gene/Summary?g=ENST00000612530' target='_blank' title='Go to ENSEMBL to get more informations about ensembl:ENST00000612530'>ensembl:ENST00000612530</a>, <a href='https://www.ensembl.org/Gene/Summary?g=ENST00000613387' target='_blank' title='Go to ENSEMBL to get more informations about ensembl:ENST00000613387'>ensembl:ENST00000613387</a> and other 165.</p></li>\n",
       "<li><p class=\"paragraph\">Group with 115 nodes (degree 57 and node type sequence): <a href='https://www.ensembl.org/Gene/Summary?g=ENST00000436764' target='_blank' title='Go to ENSEMBL to get more informations about ensembl:ENST00000436764'>ensembl:ENST00000436764</a>, <a href='https://www.ensembl.org/Gene/Summary?g=ENST00000668482' target='_blank' title='Go to ENSEMBL to get more informations about ensembl:ENST00000668482'>ensembl:ENST00000668482</a>, <a href='https://www.ensembl.org/Gene/Summary?g=ENST00000701941' target='_blank' title='Go to ENSEMBL to get more informations about ensembl:ENST00000701941'>ensembl:ENST00000701941</a>, <a href='https://www.ensembl.org/Gene/Summary?g=ENST00000653938' target='_blank' title='Go to ENSEMBL to get more informations about ensembl:ENST00000653938'>ensembl:ENST00000653938</a>, <a href='https://www.ensembl.org/Gene/Summary?g=ENST00000657216' target='_blank' title='Go to ENSEMBL to get more informations about ensembl:ENST00000657216'>ensembl:ENST00000657216</a> and other 110.</p></li>\n",
       "<li><p class=\"paragraph\">Group with 190 nodes (degree 34 and node type sequence): <a href='https://www.ensembl.org/Gene/Summary?g=ENST00000660631' target='_blank' title='Go to ENSEMBL to get more informations about ensembl:ENST00000660631'>ensembl:ENST00000660631</a>, <a href='https://www.ensembl.org/Gene/Summary?g=ENST00000517525' target='_blank' title='Go to ENSEMBL to get more informations about ensembl:ENST00000517525'>ensembl:ENST00000517525</a>, <a href='https://www.ensembl.org/Gene/Summary?g=ENST00000668123' target='_blank' title='Go to ENSEMBL to get more informations about ensembl:ENST00000668123'>ensembl:ENST00000668123</a>, <a href='https://www.ensembl.org/Gene/Summary?g=ENST00000524165' target='_blank' title='Go to ENSEMBL to get more informations about ensembl:ENST00000524165'>ensembl:ENST00000524165</a>, <a href='https://www.ensembl.org/Gene/Summary?g=ENST00000685634' target='_blank' title='Go to ENSEMBL to get more informations about ensembl:ENST00000685634'>ensembl:ENST00000685634</a> and other 185.</p></li>\n",
       "<li><p class=\"paragraph\">Group with 107 nodes (degree 53 and node type sequence): <a href='https://www.ensembl.org/Gene/Summary?g=ENST00000529804' target='_blank' title='Go to ENSEMBL to get more informations about ensembl:ENST00000529804'>ensembl:ENST00000529804</a>, <a href='https://www.ensembl.org/Gene/Summary?g=ENST00000693154' target='_blank' title='Go to ENSEMBL to get more informations about ensembl:ENST00000693154'>ensembl:ENST00000693154</a>, <a href='https://www.ensembl.org/Gene/Summary?g=ENST00000689894' target='_blank' title='Go to ENSEMBL to get more informations about ensembl:ENST00000689894'>ensembl:ENST00000689894</a>, <a href='https://www.ensembl.org/Gene/Summary?g=ENST00000670374' target='_blank' title='Go to ENSEMBL to get more informations about ensembl:ENST00000670374'>ensembl:ENST00000670374</a>, <a href='https://www.ensembl.org/Gene/Summary?g=ENST00000665519' target='_blank' title='Go to ENSEMBL to get more informations about ensembl:ENST00000665519'>ensembl:ENST00000665519</a> and other 102.</p></li>\n",
       "<li><p class=\"paragraph\">Group with 107 nodes (degree 43 and node type sequence): <a href='https://www.ensembl.org/Gene/Summary?g=ENST00000656303' target='_blank' title='Go to ENSEMBL to get more informations about ensembl:ENST00000656303'>ensembl:ENST00000656303</a>, <a href='https://www.ensembl.org/Gene/Summary?g=ENST00000673843' target='_blank' title='Go to ENSEMBL to get more informations about ensembl:ENST00000673843'>ensembl:ENST00000673843</a>, <a href='https://www.ensembl.org/Gene/Summary?g=ENST00000667670' target='_blank' title='Go to ENSEMBL to get more informations about ensembl:ENST00000667670'>ensembl:ENST00000667670</a>, <a href='https://www.ensembl.org/Gene/Summary?g=ENST00000674070' target='_blank' title='Go to ENSEMBL to get more informations about ensembl:ENST00000674070'>ensembl:ENST00000674070</a>, <a href='https://www.ensembl.org/Gene/Summary?g=ENST00000669917' target='_blank' title='Go to ENSEMBL to get more informations about ensembl:ENST00000669917'>ensembl:ENST00000669917</a> and other 102.</p></li>\n",
       "<li><p class=\"paragraph\">Group with 79 nodes (degree 57 and node type sequence): <a href='https://www.ensembl.org/Gene/Summary?g=ENST00000662864' target='_blank' title='Go to ENSEMBL to get more informations about ensembl:ENST00000662864'>ensembl:ENST00000662864</a>, <a href='https://www.ensembl.org/Gene/Summary?g=ENST00000661084' target='_blank' title='Go to ENSEMBL to get more informations about ensembl:ENST00000661084'>ensembl:ENST00000661084</a>, <a href='https://www.ensembl.org/Gene/Summary?g=ENST00000651451' target='_blank' title='Go to ENSEMBL to get more informations about ensembl:ENST00000651451'>ensembl:ENST00000651451</a>, <a href='https://www.ensembl.org/Gene/Summary?g=ENST00000656041' target='_blank' title='Go to ENSEMBL to get more informations about ensembl:ENST00000656041'>ensembl:ENST00000656041</a>, <a href='https://www.ensembl.org/Gene/Summary?g=ENST00000653018' target='_blank' title='Go to ENSEMBL to get more informations about ensembl:ENST00000653018'>ensembl:ENST00000653018</a> and other 74.</p></li>\n",
       "<li><p class=\"paragraph\">Group with 76 nodes (degree 55 and node type sequence): <a href='https://www.ensembl.org/Gene/Summary?g=ENST00000702693' target='_blank' title='Go to ENSEMBL to get more informations about ensembl:ENST00000702693'>ensembl:ENST00000702693</a>, <a href='https://www.ensembl.org/Gene/Summary?g=ENST00000688238' target='_blank' title='Go to ENSEMBL to get more informations about ensembl:ENST00000688238'>ensembl:ENST00000688238</a>, <a href='https://www.ensembl.org/Gene/Summary?g=ENST00000690253' target='_blank' title='Go to ENSEMBL to get more informations about ensembl:ENST00000690253'>ensembl:ENST00000690253</a>, <a href='https://www.ensembl.org/Gene/Summary?g=ENST00000702199' target='_blank' title='Go to ENSEMBL to get more informations about ensembl:ENST00000702199'>ensembl:ENST00000702199</a>, <a href='https://www.ensembl.org/Gene/Summary?g=ENST00000687826' target='_blank' title='Go to ENSEMBL to get more informations about ensembl:ENST00000687826'>ensembl:ENST00000687826</a> and other 71.</p></li>\n",
       "<li><p class=\"paragraph\">Group with 80 nodes (degree 52 and node type sequence): <a href='https://www.ensembl.org/Gene/Summary?g=ENST00000654151' target='_blank' title='Go to ENSEMBL to get more informations about ensembl:ENST00000654151'>ensembl:ENST00000654151</a>, <a href='https://www.ensembl.org/Gene/Summary?g=ENST00000586248' target='_blank' title='Go to ENSEMBL to get more informations about ensembl:ENST00000586248'>ensembl:ENST00000586248</a>, <a href='https://www.ensembl.org/Gene/Summary?g=ENST00000670572' target='_blank' title='Go to ENSEMBL to get more informations about ensembl:ENST00000670572'>ensembl:ENST00000670572</a>, <a href='https://www.ensembl.org/Gene/Summary?g=ENST00000655166' target='_blank' title='Go to ENSEMBL to get more informations about ensembl:ENST00000655166'>ensembl:ENST00000655166</a>, <a href='https://www.ensembl.org/Gene/Summary?g=ENST00000690384' target='_blank' title='Go to ENSEMBL to get more informations about ensembl:ENST00000690384'>ensembl:ENST00000690384</a> and other 75.</p></li>\n",
       "<li><p class=\"paragraph\">Group with 72 nodes (degree 57 and node type sequence): <a href='https://www.ensembl.org/Gene/Summary?g=ENST00000707028' target='_blank' title='Go to ENSEMBL to get more informations about ensembl:ENST00000707028'>ensembl:ENST00000707028</a>, <a href='https://www.ensembl.org/Gene/Summary?g=ENST00000707024' target='_blank' title='Go to ENSEMBL to get more informations about ensembl:ENST00000707024'>ensembl:ENST00000707024</a>, <a href='https://www.ensembl.org/Gene/Summary?g=ENST00000707026' target='_blank' title='Go to ENSEMBL to get more informations about ensembl:ENST00000707026'>ensembl:ENST00000707026</a>, <a href='https://www.ensembl.org/Gene/Summary?g=ENST00000707027' target='_blank' title='Go to ENSEMBL to get more informations about ensembl:ENST00000707027'>ensembl:ENST00000707027</a>, <a href='https://www.ensembl.org/Gene/Summary?g=ENST00000707018' target='_blank' title='Go to ENSEMBL to get more informations about ensembl:ENST00000707018'>ensembl:ENST00000707018</a> and other 67.</p></li>\n",
       "<li><p class=\"paragraph\">Group with 85 nodes (degree 48 and node type sequence): <a href='https://www.ensembl.org/Gene/Summary?g=ENST00000602985' target='_blank' title='Go to ENSEMBL to get more informations about ensembl:ENST00000602985'>ensembl:ENST00000602985</a>, <a href='https://www.ensembl.org/Gene/Summary?g=ENST00000670503' target='_blank' title='Go to ENSEMBL to get more informations about ensembl:ENST00000670503'>ensembl:ENST00000670503</a>, <a href='https://www.ensembl.org/Gene/Summary?g=ENST00000670192' target='_blank' title='Go to ENSEMBL to get more informations about ensembl:ENST00000670192'>ensembl:ENST00000670192</a>, <a href='https://www.ensembl.org/Gene/Summary?g=ENST00000655994' target='_blank' title='Go to ENSEMBL to get more informations about ensembl:ENST00000655994'>ensembl:ENST00000655994</a>, <a href='https://www.ensembl.org/Gene/Summary?g=ENST00000666059' target='_blank' title='Go to ENSEMBL to get more informations about ensembl:ENST00000666059'>ensembl:ENST00000666059</a> and other 80.</p></li></ol><p class=\"paragraph\">And other 1.21K isomorphic node groups.</p></div>"
      ]
     },
     "execution_count": 36,
     "metadata": {},
     "output_type": "execute_result"
    }
   ],
   "source": [
    "npkg"
   ]
  },
  {
   "cell_type": "code",
   "execution_count": null,
   "metadata": {},
   "outputs": [],
   "source": []
  }
 ],
 "metadata": {
  "kernelspec": {
   "display_name": "Python 3.6.13 ('sanya_kg')",
   "language": "python",
   "name": "python3"
  },
  "language_info": {
   "codemirror_mode": {
    "name": "ipython",
    "version": 3
   },
   "file_extension": ".py",
   "mimetype": "text/x-python",
   "name": "python",
   "nbconvert_exporter": "python",
   "pygments_lexer": "ipython3",
   "version": "3.8.0"
  },
  "vscode": {
   "interpreter": {
    "hash": "41f6dbb4620f1287d918c6d619d0adb09c41576ea2dff392e8096d45e1460f3a"
   }
  }
 },
 "nbformat": 4,
 "nbformat_minor": 5
}
