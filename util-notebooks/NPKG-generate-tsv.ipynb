{
 "cells": [
  {
   "cell_type": "markdown",
   "id": "dental-demonstration",
   "metadata": {},
   "source": [
    "## Code to generate TSV from NP-KG gpickle graph"
   ]
  },
  {
   "cell_type": "code",
   "execution_count": 1,
   "id": "affecting-retreat",
   "metadata": {},
   "outputs": [],
   "source": [
    "# # uncomment and run to install any required modules from np-kg/requirements.txt\n",
    "# import sys\n",
    "# !{sys.executable} -m pip install -r requirements.txt"
   ]
  },
  {
   "cell_type": "code",
   "execution_count": 1,
   "id": "grand-member",
   "metadata": {},
   "outputs": [],
   "source": [
    "import os\n",
    "import os.path\n",
    "import networkx as nx\n",
    "import json\n",
    "import urllib\n",
    "import traceback\n",
    "from itertools import islice\n",
    "from rdflib import Graph, URIRef, BNode, Namespace, Literal\n",
    "from rdflib.namespace import RDF, OWL\n",
    "from tqdm import tqdm\n",
    "import json"
   ]
  },
  {
   "cell_type": "code",
   "execution_count": 2,
   "id": "convertible-oregon",
   "metadata": {},
   "outputs": [],
   "source": [
    "import hashlib"
   ]
  },
  {
   "cell_type": "code",
   "execution_count": 3,
   "id": "enabling-textbook",
   "metadata": {},
   "outputs": [],
   "source": [
    "import pickle\n",
    "import pandas as pd\n",
    "import numpy as np"
   ]
  },
  {
   "cell_type": "code",
   "execution_count": 4,
   "id": "elect-viewer",
   "metadata": {},
   "outputs": [],
   "source": [
    "KG_PATH = '../resources/knowledge_graphs/'\n",
    "NodeLabelsFile = KG_PATH + 'nodeLabels_v2.0.0.pickle'\n",
    "KG_NAME_MERGED = 'NP-KG_v2.0.0.gpickle'"
   ]
  },
  {
   "cell_type": "code",
   "execution_count": 7,
   "id": "distinct-gambling",
   "metadata": {},
   "outputs": [],
   "source": [
    "with open(NodeLabelsFile, 'rb') as filep:\n",
    "    nodeLabels = pickle.load(filep)"
   ]
  },
  {
   "cell_type": "code",
   "execution_count": 8,
   "id": "qualified-speaking",
   "metadata": {},
   "outputs": [
    {
     "data": {
      "text/plain": [
       "1078163"
      ]
     },
     "execution_count": 8,
     "metadata": {},
     "output_type": "execute_result"
    }
   ],
   "source": [
    "##N (v1.0.1) = 757826\n",
    "len(nodeLabels)"
   ]
  },
  {
   "cell_type": "code",
   "execution_count": 8,
   "id": "faced-november",
   "metadata": {},
   "outputs": [],
   "source": [
    "def get_graph_stats(kg):\n",
    "    nodes = nx.number_of_nodes(kg)\n",
    "    edges = nx.number_of_edges(kg)\n",
    "    self_loops = nx.number_of_selfloops(kg)\n",
    "\n",
    "    print('There are {} nodes, {} edges, and {} self-loop(s)'.format(nodes, edges, self_loops))\n",
    "    # get degree information\n",
    "    avg_degree = float(edges) / nodes\n",
    "    print('The Average Degree is {}'.format(avg_degree))\n",
    "    \n",
    "    print('Nodes with highest degree:')\n",
    "    n_deg = sorted([(str(x[0]), x[1]) for x in  kg.degree], key=lambda x: x[1], reverse=1)[:6]\n",
    "\n",
    "    for x in n_deg:\n",
    "        print('Label: {}'.format(nodeLabels[x[0]]))\n",
    "        print('{} (degree={})'.format(x[0], x[1]))\n",
    "    # get network density\n",
    "    density = nx.density(kg)\n",
    "\n",
    "    print('The density of the graph is: {}'.format(density))"
   ]
  },
  {
   "cell_type": "code",
   "execution_count": 9,
   "id": "assumed-kuwait",
   "metadata": {},
   "outputs": [],
   "source": [
    "##READ MERGED GRAPH\n",
    "nx_graph = nx.read_gpickle(KG_PATH+KG_NAME_MERGED)"
   ]
  },
  {
   "cell_type": "code",
   "execution_count": 10,
   "id": "comprehensive-warner",
   "metadata": {},
   "outputs": [
    {
     "name": "stdout",
     "output_type": "stream",
     "text": [
      "There are 1090173 nodes, 7934518 edges, and 606 self-loop(s)\n",
      "The Average Degree is 7.278219145034779\n",
      "Nodes with highest degree:\n",
      "Label: SNV\n",
      "http://purl.obolibrary.org/obo/SO_0001483 (degree=214261)\n",
      "Label: protein_coding_gene\n",
      "http://purl.obolibrary.org/obo/SO_0001217 (degree=189453)\n",
      "Label: transcript\n",
      "http://purl.obolibrary.org/obo/SO_0000673 (degree=178302)\n",
      "Label: Homo sapiens\n",
      "http://purl.obolibrary.org/obo/NCBITaxon_9606 (degree=91536)\n",
      "Label: protein\n",
      "http://purl.obolibrary.org/obo/PR_000000001 (degree=56340)\n",
      "Label: Mus musculus\n",
      "http://purl.obolibrary.org/obo/NCBITaxon_10090 (degree=53645)\n",
      "The density of the graph is: 6.676211776705675e-06\n"
     ]
    }
   ],
   "source": [
    "get_graph_stats(nx_graph)"
   ]
  },
  {
   "cell_type": "code",
   "execution_count": 12,
   "id": "solid-summer",
   "metadata": {},
   "outputs": [],
   "source": [
    "npkgdict = {\n",
    "    'subject': [],\n",
    "    'predicate': [],\n",
    "    'object': []\n",
    "}\n",
    "nodelist = []\n",
    "missing_nodes = []\n",
    "relation_list = []"
   ]
  },
  {
   "cell_type": "code",
   "execution_count": 13,
   "id": "solar-classic",
   "metadata": {},
   "outputs": [],
   "source": [
    "OUTFILE = KG_PATH + 'NP-KG_v2.0.0.tsv'"
   ]
  },
  {
   "cell_type": "code",
   "execution_count": null,
   "id": "senior-drink",
   "metadata": {},
   "outputs": [],
   "source": [
    "#nx.write_edgelist(nx_graph, KG_PATH+'nx_edgelist_test.tsv', data=True, delimiter='\\t')"
   ]
  },
  {
   "cell_type": "code",
   "execution_count": 14,
   "id": "middle-freeware",
   "metadata": {},
   "outputs": [
    {
     "name": "stdout",
     "output_type": "stream",
     "text": [
      "Completed edges:  100000\n",
      "Saved edges:  100000\n",
      "Completed edges:  200000\n",
      "Saved edges:  200000\n",
      "Completed edges:  300000\n",
      "Saved edges:  300000\n",
      "Completed edges:  400000\n",
      "Saved edges:  400000\n",
      "Completed edges:  500000\n",
      "Saved edges:  500000\n",
      "Completed edges:  600000\n",
      "Saved edges:  600000\n",
      "Completed edges:  700000\n",
      "Saved edges:  700000\n",
      "Completed edges:  800000\n",
      "Saved edges:  800000\n",
      "Completed edges:  900000\n",
      "Saved edges:  900000\n",
      "Completed edges:  1000000\n",
      "Saved edges:  1000000\n",
      "Completed edges:  1100000\n",
      "Saved edges:  1100000\n",
      "Completed edges:  1200000\n",
      "Saved edges:  1200000\n",
      "Completed edges:  1300000\n",
      "Saved edges:  1300000\n",
      "Completed edges:  1400000\n",
      "Saved edges:  1400000\n",
      "Completed edges:  1500000\n",
      "Saved edges:  1500000\n",
      "Completed edges:  1600000\n",
      "Saved edges:  1600000\n",
      "Completed edges:  1700000\n",
      "Saved edges:  1700000\n",
      "Completed edges:  1800000\n",
      "Saved edges:  1800000\n",
      "Completed edges:  1900000\n",
      "Saved edges:  1900000\n",
      "Completed edges:  2000000\n",
      "Saved edges:  2000000\n",
      "Completed edges:  2100000\n",
      "Saved edges:  2100000\n",
      "Completed edges:  2200000\n",
      "Saved edges:  2200000\n",
      "Completed edges:  2300000\n",
      "Saved edges:  2300000\n",
      "Completed edges:  2400000\n",
      "Saved edges:  2400000\n",
      "Completed edges:  2500000\n",
      "Saved edges:  2500000\n",
      "Completed edges:  2600000\n",
      "Saved edges:  2600000\n",
      "Completed edges:  2700000\n",
      "Saved edges:  2700000\n",
      "Completed edges:  2800000\n",
      "Saved edges:  2800000\n",
      "Completed edges:  2900000\n",
      "Saved edges:  2900000\n",
      "Completed edges:  3000000\n",
      "Saved edges:  3000000\n",
      "Completed edges:  3100000\n",
      "Saved edges:  3100000\n",
      "Completed edges:  3200000\n",
      "Saved edges:  3200000\n",
      "Completed edges:  3300000\n",
      "Saved edges:  3300000\n",
      "Completed edges:  3400000\n",
      "Saved edges:  3400000\n",
      "Completed edges:  3500000\n",
      "Saved edges:  3500000\n",
      "Completed edges:  3600000\n",
      "Saved edges:  3600000\n",
      "Completed edges:  3700000\n",
      "Saved edges:  3700000\n",
      "Completed edges:  3800000\n",
      "Saved edges:  3800000\n",
      "Completed edges:  3900000\n",
      "Saved edges:  3900000\n",
      "Completed edges:  4000000\n",
      "Saved edges:  4000000\n",
      "Completed edges:  4100000\n",
      "Saved edges:  4100000\n",
      "Completed edges:  4200000\n",
      "Saved edges:  4200000\n",
      "Completed edges:  4300000\n",
      "Saved edges:  4300000\n",
      "Completed edges:  4400000\n",
      "Saved edges:  4400000\n",
      "Completed edges:  4500000\n",
      "Saved edges:  4500000\n",
      "Completed edges:  4600000\n",
      "Saved edges:  4600000\n",
      "Completed edges:  4700000\n",
      "Saved edges:  4700000\n",
      "Completed edges:  4800000\n",
      "Saved edges:  4800000\n",
      "Completed edges:  4900000\n",
      "Saved edges:  4900000\n",
      "Completed edges:  5000000\n",
      "Saved edges:  5000000\n",
      "Completed edges:  5100000\n",
      "Saved edges:  5100000\n",
      "Completed edges:  5200000\n",
      "Saved edges:  5200000\n",
      "Completed edges:  5300000\n",
      "Saved edges:  5300000\n",
      "Completed edges:  5400000\n",
      "Saved edges:  5400000\n",
      "Completed edges:  5500000\n",
      "Saved edges:  5500000\n",
      "Completed edges:  5600000\n",
      "Saved edges:  5600000\n",
      "Completed edges:  5700000\n",
      "Saved edges:  5700000\n",
      "Completed edges:  5800000\n",
      "Saved edges:  5800000\n",
      "Completed edges:  5900000\n",
      "Saved edges:  5900000\n",
      "Completed edges:  6000000\n",
      "Saved edges:  6000000\n",
      "Completed edges:  6100000\n",
      "Saved edges:  6100000\n",
      "Completed edges:  6200000\n",
      "Saved edges:  6200000\n",
      "Completed edges:  6300000\n",
      "Saved edges:  6300000\n",
      "Completed edges:  6400000\n",
      "Saved edges:  6400000\n",
      "Completed edges:  6500000\n",
      "Saved edges:  6500000\n",
      "Completed edges:  6600000\n",
      "Saved edges:  6600000\n",
      "Completed edges:  6700000\n",
      "Saved edges:  6700000\n",
      "Completed edges:  6800000\n",
      "Saved edges:  6800000\n",
      "Completed edges:  6900000\n",
      "Saved edges:  6900000\n",
      "Completed edges:  7000000\n",
      "Saved edges:  7000000\n",
      "Completed edges:  7100000\n",
      "Saved edges:  7100000\n",
      "Completed edges:  7200000\n",
      "Saved edges:  7200000\n",
      "Completed edges:  7300000\n",
      "Saved edges:  7300000\n",
      "Completed edges:  7400000\n",
      "Saved edges:  7400000\n",
      "Completed edges:  7500000\n",
      "Saved edges:  7500000\n",
      "Completed edges:  7600000\n",
      "Saved edges:  7600000\n",
      "Completed edges:  7700000\n",
      "Saved edges:  7700000\n",
      "Completed edges:  7800000\n",
      "Saved edges:  7800000\n"
     ]
    }
   ],
   "source": [
    "i = 0\n",
    "for edge in nx_graph.edges():\n",
    "    edgelist = list(nx_graph.get_edge_data(edge[0], edge[1]))\n",
    "    if edgelist:\n",
    "        subj = str(edge[0])\n",
    "        obj = str(edge[1])\n",
    "        if subj not in nodelist:\n",
    "            nodelist.append(subj)\n",
    "            if subj not in nodeLabels:\n",
    "                missing_nodes.append(subj)\n",
    "        if obj not in nodelist:\n",
    "            nodelist.append(obj)\n",
    "            if obj not in nodeLabels:\n",
    "                missing_nodes.append(obj)\n",
    "        for item in edgelist:\n",
    "            npkgdict['subject'].append(subj)\n",
    "            npkgdict['object'].append(obj)\n",
    "            npkgdict['predicate'].append(str(item))\n",
    "            if str(item) not in relation_list:\n",
    "                relation_list.append(str(item))\n",
    "                if str(item) not in nodeLabels:\n",
    "                    missing_nodes.append(str(item))\n",
    "    i = i+1\n",
    "    if i%100000 == 0:\n",
    "        print('Completed edges: ', i)\n",
    "        df = pd.DataFrame.from_dict(npkgdict)\n",
    "        df = df.drop_duplicates(ignore_index=True)\n",
    "        df.to_csv(OUTFILE, sep='\\t', mode='a', index=False, header=False)\n",
    "        npkgdict['subject'] = []\n",
    "        npkgdict['predicate'] = []\n",
    "        npkgdict['object'] = []\n",
    "        print('Saved edges: ', i)\n",
    "print('Completed edges: ', i)\n",
    "df = pd.DataFrame.from_dict(npkgdict)\n",
    "df = df.drop_duplicates(ignore_index=True)\n",
    "df.to_csv(OUTFILE, sep='\\t', mode='a', index=False, header=False)\n",
    "print('Saved edges: ', i)"
   ]
  },
  {
   "cell_type": "code",
   "execution_count": null,
   "id": "fossil-issue",
   "metadata": {},
   "outputs": [
    {
     "data": {
      "text/plain": [
       "745512"
      ]
     },
     "execution_count": 15,
     "metadata": {},
     "output_type": "execute_result"
    }
   ],
   "source": [
    "len(nodelist)"
   ]
  },
  {
   "cell_type": "code",
   "execution_count": null,
   "id": "occupied-vermont",
   "metadata": {},
   "outputs": [
    {
     "data": {
      "text/plain": [
       "299"
      ]
     },
     "execution_count": 16,
     "metadata": {},
     "output_type": "execute_result"
    }
   ],
   "source": [
    "len(relation_list)"
   ]
  },
  {
   "cell_type": "code",
   "execution_count": null,
   "id": "measured-spectacular",
   "metadata": {},
   "outputs": [
    {
     "data": {
      "text/plain": [
       "0"
      ]
     },
     "execution_count": 17,
     "metadata": {},
     "output_type": "execute_result"
    }
   ],
   "source": [
    "len(missing_nodes)"
   ]
  },
  {
   "cell_type": "code",
   "execution_count": null,
   "id": "boolean-binding",
   "metadata": {},
   "outputs": [
    {
     "name": "stdout",
     "output_type": "stream",
     "text": [
      "49604 49604 49604\n"
     ]
    }
   ],
   "source": [
    "print(len(npkgdict['subject']), len(npkgdict['predicate']), len(npkgdict['object']))"
   ]
  },
  {
   "cell_type": "code",
   "execution_count": null,
   "id": "short-lawrence",
   "metadata": {},
   "outputs": [],
   "source": [
    "with open('../resources/NPKG_nodelist.txt', 'w') as fileo:\n",
    "    for item in nodelist:\n",
    "        fileo.write(item+'\\n')"
   ]
  },
  {
   "cell_type": "code",
   "execution_count": null,
   "id": "happy-livestock",
   "metadata": {},
   "outputs": [],
   "source": [
    "with open('../resources/NPKG_relationlist.txt', 'w') as fileo2:\n",
    "    for item in relation_list:\n",
    "        fileo2.write(item+'\\n')"
   ]
  },
  {
   "cell_type": "code",
   "execution_count": null,
   "id": "piano-studio",
   "metadata": {},
   "outputs": [],
   "source": [
    "with open('../resources/NPKG_missing_nodelabels.txt', 'w') as fileo3:\n",
    "    for item in missing_nodes:\n",
    "        fileo3.write(item+'\\n')"
   ]
  },
  {
   "cell_type": "markdown",
   "id": "seeing-gravity",
   "metadata": {},
   "source": [
    "### Save TSV with only CURIES (solve issue #5)"
   ]
  },
  {
   "cell_type": "code",
   "execution_count": 1,
   "id": "demonstrated-bowling",
   "metadata": {},
   "outputs": [],
   "source": [
    "KG_PATH = '../resources/knowledge_graphs/'"
   ]
  },
  {
   "cell_type": "code",
   "execution_count": 4,
   "id": "violent-newton",
   "metadata": {},
   "outputs": [],
   "source": [
    "INFILE = KG_PATH + 'PheKnowLator_machine_read_merged_instance_based_OWLNETS_v1.0.1.tsv'\n",
    "OUTFILE = KG_PATH + 'NP-KG-merged-instance-based-OWLNETS-CURIE-only-v1.0.1.tsv'"
   ]
  },
  {
   "cell_type": "code",
   "execution_count": 2,
   "id": "northern-chest",
   "metadata": {},
   "outputs": [],
   "source": [
    "import csv"
   ]
  },
  {
   "cell_type": "code",
   "execution_count": 8,
   "id": "theoretical-guinea",
   "metadata": {},
   "outputs": [
    {
     "data": {
      "text/plain": [
       "745512"
      ]
     },
     "execution_count": 8,
     "metadata": {},
     "output_type": "execute_result"
    }
   ],
   "source": [
    "##find all node prefixes\n",
    "##see Notion (NP-KG TSV Processing)\n",
    "with open('../resources/NPKG_nodelist.txt', 'r') as filei:\n",
    "    nodes = filei.readlines()\n",
    "len(nodes)"
   ]
  },
  {
   "cell_type": "code",
   "execution_count": 13,
   "id": "prerequisite-encoding",
   "metadata": {},
   "outputs": [
    {
     "name": "stdout",
     "output_type": "stream",
     "text": [
      "365987\n",
      "46\n"
     ]
    }
   ],
   "source": [
    "prefixlist = []\n",
    "curielist = []\n",
    "for node in nodes:\n",
    "    if 'http://purl.obolibrary.org/obo/' in node:\n",
    "        onto = node.strip().replace('http://purl.obolibrary.org/obo/', '')\n",
    "        curie = onto.split('_')[0]\n",
    "        if curie not in curielist:\n",
    "            curielist.append(curie)\n",
    "    else:\n",
    "        prefixlist.append(node.strip())\n",
    "print(len(prefixlist))\n",
    "print(len(curielist))"
   ]
  },
  {
   "cell_type": "code",
   "execution_count": 14,
   "id": "breeding-satin",
   "metadata": {},
   "outputs": [
    {
     "data": {
      "text/plain": [
       "['CHEBI',\n",
       " 'PR',\n",
       " 'GO',\n",
       " 'HP',\n",
       " 'MONDO',\n",
       " 'NCBITaxon',\n",
       " 'CL',\n",
       " 'UBERON',\n",
       " 'CLO',\n",
       " 'SO',\n",
       " 'SLC47A1SYNONYM',\n",
       " 'DOID',\n",
       " 'PO',\n",
       " 'FOODON',\n",
       " 'PW',\n",
       " 'PATO',\n",
       " 'BFO',\n",
       " 'MPATH',\n",
       " 'SLC47A1[SYNONYM',\n",
       " 'SLC47A1',\n",
       " 'CARO',\n",
       " 'http',\n",
       " 'NBO',\n",
       " 'OBO',\n",
       " 'ECTO',\n",
       " 'OGG',\n",
       " 'MOD',\n",
       " 'MF',\n",
       " 'GNO',\n",
       " 'ENVO',\n",
       " 'ExO',\n",
       " 'MFOMD',\n",
       " 'NCIT',\n",
       " 'OAE',\n",
       " 'HsapDv',\n",
       " 'MFOEM',\n",
       " 'OGMS',\n",
       " 'VO',\n",
       " 'FBbt',\n",
       " 'MAXO',\n",
       " 'PCO',\n",
       " 'CP',\n",
       " 'OBA',\n",
       " 'UMLS',\n",
       " 'UPHENO',\n",
       " 'FMA']"
      ]
     },
     "execution_count": 14,
     "metadata": {},
     "output_type": "execute_result"
    }
   ],
   "source": [
    "curielist"
   ]
  },
  {
   "cell_type": "code",
   "execution_count": 27,
   "id": "particular-highland",
   "metadata": {},
   "outputs": [
    {
     "data": {
      "text/plain": [
       "22"
      ]
     },
     "execution_count": 27,
     "metadata": {},
     "output_type": "execute_result"
    }
   ],
   "source": [
    "prefixlist2 = []\n",
    "for prefix in prefixlist:\n",
    "    if 'napdi' in prefix or 'https://reactome.org/content/detail/' in prefix \\\n",
    "    or 'http://www.ncbi.nlm.nih.gov/gene/' in prefix or 'https://uswest.ensembl.org/Homo_sapiens/Transcript/Summary?' \\\n",
    "    in prefix or 'http://www.ebi.ac.uk/cellline#' in prefix or 'http://www.ebi.ac.uk/efo/' in prefix or \\\n",
    "    'https://www.ncbi.nlm.nih.gov/snp/' in prefix or 'http://ihtsdo.org/snomedct/' in prefix:\n",
    "        continue\n",
    "    else:\n",
    "        prefixlist2.append(prefix)\n",
    "len(prefixlist2)"
   ]
  },
  {
   "cell_type": "code",
   "execution_count": 26,
   "id": "behind-tyler",
   "metadata": {},
   "outputs": [
    {
     "data": {
      "text/plain": [
       "['http://ncicb.nci.nih.gov/xml/owl/EVS/Thesaurus.owl#Amniotic_Fluid',\n",
       " 'http://www.w3.org/2002/07/owl#Nothing',\n",
       " 'http://sig.uw.edu/fma#Calcaneal_tendon',\n",
       " 'http://ncicb.nci.nih.gov/xml/owl/EVS/Thesaurus.owl#Amniotic_Sac',\n",
       " 'http://ncicb.nci.nih.gov/xml/owl/EVS/Thesaurus.owl#Embryonic_Fluid',\n",
       " 'http://sig.uw.edu/fma#Umbilicus',\n",
       " 'http://sig.uw.edu/fma#Common_iliac_artery',\n",
       " 'http://www.genenames.org/cgi-bin/gene_symbol_report?hgnc_id=33204',\n",
       " 'http://sig.uw.edu/fma#Trachealis',\n",
       " 'http://sig.uw.edu/fma#Iliac_crest',\n",
       " 'http://ncicb.nci.nih.gov/xml/owl/EVS/Thesaurus.owl#Gonad',\n",
       " 'http://ncicb.nci.nih.gov/xml/owl/EVS/Thesaurus.owl#Iliac_Vein',\n",
       " 'http://sig.uw.edu/fma#External_genitalia',\n",
       " 'http://sig.uw.edu/fma#Tunica_albuginea_of_testis',\n",
       " 'http://sig.uw.edu/fma#Amnion',\n",
       " 'http://sig.uw.edu/fma#Ischium',\n",
       " 'http://purl.bioontology.org/ontology/SNOMEDCT/277441005',\n",
       " 'http://www.genenames.org/cgi-bin/gene_symbol_report?hgnc_id=53650',\n",
       " 'http://ncicb.nci.nih.gov/xml/owl/EVS/Thesaurus.owl#Chorionic_Villus',\n",
       " 'http://www.genenames.org/cgi-bin/gene_symbol_report?hgnc_id=51846',\n",
       " 'http://sig.uw.edu/fma#Scalp',\n",
       " 'http://sig.uw.edu/fma#Right_ischium']"
      ]
     },
     "execution_count": 26,
     "metadata": {},
     "output_type": "execute_result"
    }
   ],
   "source": [
    "prefixlist3"
   ]
  },
  {
   "cell_type": "code",
   "execution_count": null,
   "id": "classified-patent",
   "metadata": {},
   "outputs": [],
   "source": []
  },
  {
   "cell_type": "code",
   "execution_count": 37,
   "id": "personalized-nation",
   "metadata": {},
   "outputs": [],
   "source": [
    "def relation_curie(rel):\n",
    "    newrel = rel\n",
    "    if 'uberon' in rel:\n",
    "        newrel = 'uberon:'+rel.split('#')[1]\n",
    "    elif 'rdf-schema' in rel:\n",
    "        newrel = 'rdfs:'+rel.split('#')[1]\n",
    "    elif 'rdf-syntax' in rel:\n",
    "        newrel = 'rdf:'+rel.split('#')[1]\n",
    "    elif 'ro.owl' in rel:\n",
    "        newrel = 'ro:'+rel.split('#')[1]\n",
    "    else:\n",
    "        temp = rel.split('/')[-1]\n",
    "        newrel = temp.replace('_', ':').lower()\n",
    "    return newrel"
   ]
  },
  {
   "cell_type": "code",
   "execution_count": 38,
   "id": "selective-ticket",
   "metadata": {},
   "outputs": [],
   "source": [
    "def node_curie(node):\n",
    "    nodecurie = node\n",
    "    if 'SLC47A1SYNONYM' in node or 'SLC47A1[SYNONYM' in node or 'SLC47A1' in node:\n",
    "        return node\n",
    "    elif 'http://purl.obolibrary.org/obo/http' in node:\n",
    "        return node\n",
    "    elif 'http://purl.obolibrary.org/obo/OBO_' in node:\n",
    "        tempnode = node.replace('http://purl.obolibrary.org/obo/OBO_', '')\n",
    "        nodecurie = tempnode.replace('_',':').lower()\n",
    "    elif 'napdi' in node:\n",
    "        nodecurie = node.split('/')[-1]\n",
    "    elif 'reactome' in node:\n",
    "        nodecurie = 'reactome:'+node.split('/')[-1]\n",
    "    elif 'http://www.ncbi.nlm.nih.gov/gene/' in node:\n",
    "        nodecurie = 'ncbigene:'+node.split('/')[-1]\n",
    "    elif 'https://uswest.ensembl.org/Homo_sapiens/Transcript/Summary?' in node:\n",
    "        nodecurie = node.replace('https://uswest.ensembl.org/Homo_sapiens/Transcript/Summary?t=', 'ensembl:')\n",
    "    elif 'http://www.ebi.ac.uk/efo/' in node:\n",
    "        tempnode = node.split('/')[-1]\n",
    "        nodecurie = tempnode.replace('_',':').lower()\n",
    "    elif 'http://ihtsdo.org/snomedct/' in node or 'http://purl.bioontology.org/ontology/SNOMEDCT/' in node:\n",
    "        nodecurie = 'snomedct:'+node.split('/')[-1]\n",
    "    elif 'https://www.ncbi.nlm.nih.gov/snp/' in node:\n",
    "        nodecurie = 'dbsnp:'+node.split('/')[-1]\n",
    "    elif 'http://www.w3.org/2002/07/' in node:\n",
    "        tempnode = node.split('/')[-1]\n",
    "        nodecurie = 'owl:'+tempnode.split('#')[-1]\n",
    "    elif 'hgnc_id' in node:\n",
    "        nodecurie = 'hgnc:'+node.split('=')[-1]\n",
    "    elif 'http://sig.uw.edu/fma' in node:\n",
    "        tempnode = node.split('/')[-1]\n",
    "        nodecurie = 'fma:'+tempnode.split('#')[-1]\n",
    "    elif 'http://ncicb.nci.nih.gov/xml/owl/EVS/Thesaurus.owl' in node:\n",
    "        tempnode = node.replace('http://ncicb.nci.nih.gov/xml/owl/EVS/Thesaurus.owl#', '')\n",
    "        nodecurie = 'ncit:'+tempnode\n",
    "    else:\n",
    "        tempnode = node.replace('http://purl.obolibrary.org/obo/', '')\n",
    "        nodecurie = tempnode.replace('_',':').lower()\n",
    "    return nodecurie"
   ]
  },
  {
   "cell_type": "code",
   "execution_count": null,
   "id": "recovered-keyboard",
   "metadata": {},
   "outputs": [],
   "source": [
    "##also create new nodelabels with curies"
   ]
  },
  {
   "cell_type": "code",
   "execution_count": 59,
   "id": "grand-quebec",
   "metadata": {},
   "outputs": [
    {
     "name": "stdout",
     "output_type": "stream",
     "text": [
      "Completed edges:  100000\n",
      "Completed edges:  200000\n",
      "Completed edges:  300000\n",
      "Completed edges:  400000\n",
      "Completed edges:  500000\n",
      "Completed edges:  600000\n",
      "Completed edges:  700000\n",
      "Completed edges:  800000\n",
      "Completed edges:  900000\n",
      "Completed edges:  1000000\n",
      "Completed edges:  1100000\n",
      "Completed edges:  1200000\n",
      "Completed edges:  1300000\n",
      "Completed edges:  1400000\n",
      "Completed edges:  1500000\n",
      "Completed edges:  1600000\n",
      "Completed edges:  1700000\n",
      "Completed edges:  1800000\n",
      "Completed edges:  1900000\n",
      "Completed edges:  2000000\n",
      "Completed edges:  2100000\n",
      "Completed edges:  2200000\n",
      "Completed edges:  2300000\n",
      "Completed edges:  2400000\n",
      "Completed edges:  2500000\n",
      "Completed edges:  2600000\n",
      "Completed edges:  2700000\n",
      "Completed edges:  2800000\n",
      "Completed edges:  2900000\n",
      "Completed edges:  3000000\n",
      "Completed edges:  3100000\n",
      "Completed edges:  3200000\n",
      "Completed edges:  3300000\n",
      "Completed edges:  3400000\n",
      "Completed edges:  3500000\n",
      "Completed edges:  3600000\n",
      "Completed edges:  3700000\n",
      "Completed edges:  3800000\n",
      "Completed edges:  3900000\n",
      "Completed edges:  4000000\n",
      "Completed edges:  4100000\n",
      "Completed edges:  4200000\n",
      "Completed edges:  4300000\n",
      "Completed edges:  4400000\n",
      "Completed edges:  4500000\n",
      "Completed edges:  4600000\n",
      "Completed edges:  4700000\n",
      "Completed edges:  4800000\n",
      "Completed edges:  4900000\n",
      "Completed edges:  5000000\n",
      "Completed edges:  5100000\n",
      "Completed edges:  5200000\n",
      "Completed edges:  5300000\n",
      "Completed edges:  5400000\n",
      "Completed edges:  5500000\n",
      "Completed edges:  5600000\n",
      "Completed edges:  5700000\n",
      "Completed edges:  5800000\n",
      "Completed edges:  5900000\n",
      "Completed edges:  6000000\n",
      "Completed edges:  6100000\n",
      "Completed edges:  6200000\n",
      "Completed edges:  6300000\n",
      "Completed edges:  6400000\n",
      "Completed edges:  6500000\n",
      "Completed edges:  6600000\n",
      "Completed edges:  6700000\n",
      "Completed edges:  6800000\n",
      "Completed edges:  6900000\n",
      "Completed edges:  7000000\n",
      "Completed edges:  7100000\n",
      "Completed edges:  7200000\n"
     ]
    }
   ],
   "source": [
    "with open(INFILE, 'r') as fin, open(OUTFILE, 'w') as fout:\n",
    "    freader = csv.reader(fin, delimiter='\\t')\n",
    "    fwriter = csv.writer(fout, delimiter='\\t')\n",
    "    fwriter.writerow(['source', 'relation', 'target'])\n",
    "    idx = 1\n",
    "    for row in freader:\n",
    "        try:\n",
    "            npkg_subject = row[0]\n",
    "            npkg_relation = row[1]\n",
    "            npkg_object = row[2]\n",
    "            rel_curie = relation_curie(npkg_relation)\n",
    "            subject_curie = node_curie(npkg_subject)\n",
    "            object_curie = node_curie(npkg_object)\n",
    "            fwriter.writerow([subject_curie, rel_curie, object_curie])\n",
    "        except Exception as e:\n",
    "            print('Error: ', e)\n",
    "            print(idx)\n",
    "            print(row)\n",
    "        idx+=1\n",
    "        if idx%100000 == 0:\n",
    "            print('Completed edges: ', idx)"
   ]
  },
  {
   "cell_type": "code",
   "execution_count": 60,
   "id": "falling-behavior",
   "metadata": {},
   "outputs": [],
   "source": [
    "NODEINFILE = KG_PATH + 'nodeLabels_v1.0.1.tsv'\n",
    "NODEOUTFILE = KG_PATH + 'nodeLabels_CURIE_v1.0.1.tsv'"
   ]
  },
  {
   "cell_type": "code",
   "execution_count": 61,
   "id": "extra-partnership",
   "metadata": {},
   "outputs": [
    {
     "name": "stdout",
     "output_type": "stream",
     "text": [
      "Completed nodes:  10000\n",
      "Completed nodes:  20000\n",
      "Completed nodes:  30000\n",
      "Completed nodes:  40000\n",
      "Completed nodes:  50000\n",
      "Completed nodes:  60000\n",
      "Completed nodes:  70000\n",
      "Completed nodes:  80000\n",
      "Completed nodes:  90000\n",
      "Completed nodes:  100000\n",
      "Completed nodes:  110000\n",
      "Completed nodes:  120000\n",
      "Completed nodes:  130000\n",
      "Completed nodes:  140000\n",
      "Completed nodes:  150000\n",
      "Completed nodes:  160000\n",
      "Completed nodes:  170000\n",
      "Completed nodes:  180000\n",
      "Completed nodes:  190000\n",
      "Completed nodes:  200000\n",
      "Completed nodes:  210000\n",
      "Completed nodes:  220000\n",
      "Completed nodes:  230000\n",
      "Completed nodes:  240000\n",
      "Completed nodes:  250000\n",
      "Completed nodes:  260000\n",
      "Completed nodes:  270000\n",
      "Completed nodes:  280000\n",
      "Completed nodes:  290000\n",
      "Completed nodes:  300000\n",
      "Completed nodes:  310000\n",
      "Completed nodes:  320000\n",
      "Completed nodes:  330000\n",
      "Completed nodes:  340000\n",
      "Completed nodes:  350000\n",
      "Completed nodes:  360000\n",
      "Completed nodes:  370000\n",
      "Completed nodes:  380000\n",
      "Completed nodes:  390000\n",
      "Completed nodes:  400000\n",
      "Completed nodes:  410000\n",
      "Completed nodes:  420000\n",
      "Completed nodes:  430000\n",
      "Completed nodes:  440000\n",
      "Completed nodes:  450000\n",
      "Completed nodes:  460000\n",
      "Completed nodes:  470000\n",
      "Completed nodes:  480000\n",
      "Completed nodes:  490000\n",
      "Completed nodes:  500000\n",
      "Completed nodes:  510000\n",
      "Completed nodes:  520000\n",
      "Completed nodes:  530000\n",
      "Completed nodes:  540000\n",
      "Completed nodes:  550000\n",
      "Completed nodes:  560000\n",
      "Completed nodes:  570000\n",
      "Completed nodes:  580000\n",
      "Completed nodes:  590000\n",
      "Completed nodes:  600000\n",
      "Completed nodes:  610000\n",
      "Completed nodes:  620000\n",
      "Completed nodes:  630000\n",
      "Completed nodes:  640000\n",
      "Completed nodes:  650000\n",
      "Completed nodes:  660000\n",
      "Completed nodes:  670000\n",
      "Completed nodes:  680000\n",
      "Completed nodes:  690000\n",
      "Completed nodes:  700000\n",
      "Completed nodes:  710000\n",
      "Completed nodes:  720000\n",
      "Completed nodes:  730000\n",
      "Completed nodes:  740000\n",
      "Completed nodes:  750000\n"
     ]
    }
   ],
   "source": [
    "##node labels with CURIEs\n",
    "with open(NODEINFILE, 'r') as nodein, open(NODEOUTFILE, 'w') as nodeout:\n",
    "    freader = csv.reader(nodein, delimiter='\\t')\n",
    "    fwriter = csv.writer(nodeout, delimiter='\\t')\n",
    "    fwriter.writerow(['source', 'entity_label'])\n",
    "    next(freader)\n",
    "    idx = 1\n",
    "    for row in freader:\n",
    "        try:\n",
    "            npkg_node = row[0]\n",
    "            npkg_label = row[1]\n",
    "            nodecurie = node_curie(npkg_node)\n",
    "            fwriter.writerow([nodecurie, npkg_label])\n",
    "        except Exception as e:\n",
    "            print('Error: ', e)\n",
    "            print(idx)\n",
    "            print(row)\n",
    "        idx+=1\n",
    "        if idx%10000 == 0:\n",
    "            print('Completed nodes: ', idx)"
   ]
  },
  {
   "cell_type": "markdown",
   "id": "royal-television",
   "metadata": {},
   "source": [
    "### Convert relation CURIEs to labels\n"
   ]
  },
  {
   "cell_type": "code",
   "execution_count": 5,
   "id": "analyzed-contrary",
   "metadata": {},
   "outputs": [],
   "source": [
    "KG_PATH = '../resources/knowledge_graphs/'\n",
    "INFILE = KG_PATH + 'NP-KG-merged-instance-based-OWLNETS-CURIE-only-v1.0.1.tsv'\n",
    "OUTFILE = KG_PATH + 'NP-KG-merged-instance-based-OWLNETS-CURIE-with-relations-v1.0.1.tsv'\n",
    "nodeLabelsFile = KG_PATH + 'nodeLabels_CURIE_v1.0.1.tsv'"
   ]
  },
  {
   "cell_type": "code",
   "execution_count": 6,
   "id": "tired-speaking",
   "metadata": {},
   "outputs": [],
   "source": [
    "import pandas as pd"
   ]
  },
  {
   "cell_type": "code",
   "execution_count": 7,
   "id": "acting-alberta",
   "metadata": {},
   "outputs": [
    {
     "name": "stdout",
     "output_type": "stream",
     "text": [
      "<class 'pandas.core.frame.DataFrame'>\n",
      "RangeIndex: 757826 entries, 0 to 757825\n",
      "Data columns (total 2 columns):\n",
      " #   Column        Non-Null Count   Dtype \n",
      "---  ------        --------------   ----- \n",
      " 0   source        757826 non-null  object\n",
      " 1   entity_label  757756 non-null  object\n",
      "dtypes: object(2)\n",
      "memory usage: 11.6+ MB\n"
     ]
    }
   ],
   "source": [
    "nodedf = pd.read_csv(nodeLabelsFile, sep='\\t')\n",
    "nodedf.info()"
   ]
  },
  {
   "cell_type": "code",
   "execution_count": 8,
   "id": "extended-receipt",
   "metadata": {},
   "outputs": [
    {
     "data": {
      "text/html": [
       "<div>\n",
       "<style scoped>\n",
       "    .dataframe tbody tr th:only-of-type {\n",
       "        vertical-align: middle;\n",
       "    }\n",
       "\n",
       "    .dataframe tbody tr th {\n",
       "        vertical-align: top;\n",
       "    }\n",
       "\n",
       "    .dataframe thead th {\n",
       "        text-align: right;\n",
       "    }\n",
       "</style>\n",
       "<table border=\"1\" class=\"dataframe\">\n",
       "  <thead>\n",
       "    <tr style=\"text-align: right;\">\n",
       "      <th></th>\n",
       "      <th>source</th>\n",
       "      <th>entity_label</th>\n",
       "    </tr>\n",
       "  </thead>\n",
       "  <tbody>\n",
       "    <tr>\n",
       "      <th>0</th>\n",
       "      <td>ensembl:ENST00000558233</td>\n",
       "      <td>IPO4-205</td>\n",
       "    </tr>\n",
       "    <tr>\n",
       "      <th>1</th>\n",
       "      <td>dbsnp:rs777826971</td>\n",
       "      <td>NM_002397.5(MEF2C):c.860C&gt;T (p.Ser287Leu)</td>\n",
       "    </tr>\n",
       "    <tr>\n",
       "      <th>2</th>\n",
       "      <td>dbsnp:rs781825074</td>\n",
       "      <td>NM_000489.5(ATRX):c.3218G&gt;C (p.Ser1073Thr)</td>\n",
       "    </tr>\n",
       "    <tr>\n",
       "      <th>3</th>\n",
       "      <td>chebi:136208</td>\n",
       "      <td>phosphatidylethanolamine (P-18:0/18:3)</td>\n",
       "    </tr>\n",
       "    <tr>\n",
       "      <th>4</th>\n",
       "      <td>pr:o15079-1</td>\n",
       "      <td>syntaphilin isoform h1 (human)</td>\n",
       "    </tr>\n",
       "  </tbody>\n",
       "</table>\n",
       "</div>"
      ],
      "text/plain": [
       "                    source                                entity_label\n",
       "0  ensembl:ENST00000558233                                    IPO4-205\n",
       "1        dbsnp:rs777826971   NM_002397.5(MEF2C):c.860C>T (p.Ser287Leu)\n",
       "2        dbsnp:rs781825074  NM_000489.5(ATRX):c.3218G>C (p.Ser1073Thr)\n",
       "3             chebi:136208      phosphatidylethanolamine (P-18:0/18:3)\n",
       "4              pr:o15079-1              syntaphilin isoform h1 (human)"
      ]
     },
     "execution_count": 8,
     "metadata": {},
     "output_type": "execute_result"
    }
   ],
   "source": [
    "nodedf.head()"
   ]
  },
  {
   "cell_type": "code",
   "execution_count": 9,
   "id": "sorted-remainder",
   "metadata": {},
   "outputs": [],
   "source": [
    "relations_dict = {\n",
    "    'rdfs:subClassOf': 'rdfs:subClassOf',\n",
    "    'rdf:type': 'rdf:type',\n",
    "    'sio:000420': 'has expression'\n",
    "}"
   ]
  },
  {
   "cell_type": "code",
   "execution_count": 12,
   "id": "identical-observer",
   "metadata": {},
   "outputs": [],
   "source": [
    "import ast\n",
    "import csv"
   ]
  },
  {
   "cell_type": "code",
   "execution_count": null,
   "id": "yellow-latest",
   "metadata": {},
   "outputs": [],
   "source": [
    "with open(INFILE, 'r') as fin, open(OUTFILE, 'w') as fout:\n",
    "    freader = csv.reader(fin, delimiter='\\t')\n",
    "    fwriter = csv.writer(fout, delimiter='\\t')\n",
    "    fwriter.writerow(['source', 'relation', 'target'])\n",
    "    idx = 1\n",
    "    next(freader)\n",
    "    for row in freader:\n",
    "        try:\n",
    "            npkg_subject = row[0]\n",
    "            npkg_relation = row[1]\n",
    "            npkg_object = row[2]\n",
    "            rel_label = npkg_relation\n",
    "            if npkg_relation in relations_dict:\n",
    "                rel_label = relations_dict[npkg_relation]\n",
    "            else:\n",
    "                rel_row = nodedf.loc[nodedf['source'] == npkg_relation]\n",
    "                if not rel_row.empty:\n",
    "                    rel_label = rel_row['entity_label'].values[0]\n",
    "                    if 'entity_type' in rel_label:\n",
    "                        rel_dict = ast.literal_eval(rel_label)\n",
    "                        rel_label = rel_dict['label']\n",
    "                    \n",
    "                    relations_dict[npkg_relation] = rel_label\n",
    "                else:\n",
    "                    print('Label not found for relation: ', npkg_relation)\n",
    "            fwriter.writerow([npkg_subject, rel_label, npkg_object])\n",
    "        except Exception as e:\n",
    "            print('Error: ', e)\n",
    "            print(idx)\n",
    "            print(row)\n",
    "        idx+=1\n",
    "        if idx%100000 == 0:\n",
    "            print('Completed edges: ', idx)"
   ]
  },
  {
   "cell_type": "code",
   "execution_count": 14,
   "id": "turned-connectivity",
   "metadata": {},
   "outputs": [],
   "source": [
    "##write out rows with errors to file\n",
    "with open(OUTFILE, 'a') as f:\n",
    "    fwriter = csv.writer(f)\n",
    "    fwriter.writerow(['envo:00002203', 'envo:has_increased_levels_of', 'chebi:24835'])\n",
    "    fwriter.writerow(['envo:00002202', 'envo:has_increased_levels_of', 'chebi:50860'])\n",
    "    fwriter.writerow(['envo:00002186', 'envo:has_increased_levels_of', 'chebi:24431'])\n",
    "    fwriter.writerow(['envo:01000676', 'envo:has_increased_levels_of', 'chebi:24431'])\n",
    "    fwriter.writerow(['envo:01001040', 'envo:has_increased_levels_of', 'chebi:26710'])\n",
    "    fwriter.writerow(['envo:00002114', 'envo:has_increased_levels_of', 'chebi:24431'])\n",
    "    fwriter.writerow(['envo:00002010', 'envo:has_increased_levels_of', 'chebi:26710'])"
   ]
  },
  {
   "cell_type": "code",
   "execution_count": null,
   "id": "optimum-experiment",
   "metadata": {},
   "outputs": [],
   "source": []
  }
 ],
 "metadata": {
  "kernelspec": {
   "display_name": "Python 3.6.13 ('sanya_kg')",
   "language": "python",
   "name": "python3"
  },
  "language_info": {
   "codemirror_mode": {
    "name": "ipython",
    "version": 3
   },
   "file_extension": ".py",
   "mimetype": "text/x-python",
   "name": "python",
   "nbconvert_exporter": "python",
   "pygments_lexer": "ipython3",
   "version": "3.6.13"
  },
  "vscode": {
   "interpreter": {
    "hash": "41f6dbb4620f1287d918c6d619d0adb09c41576ea2dff392e8096d45e1460f3a"
   }
  }
 },
 "nbformat": 4,
 "nbformat_minor": 5
}
