{
 "cells": [
  {
   "cell_type": "code",
   "execution_count": 6,
   "metadata": {},
   "outputs": [],
   "source": [
    "import pandas as pd\n",
    "import pickle\n",
    "from rdflib import Graph, URIRef, BNode, Namespace, Literal"
   ]
  },
  {
   "cell_type": "markdown",
   "metadata": {},
   "source": [
    "Create string to OBO identifier dictionary to search in KG for all natural product nodes and constituents. Also included are some common enzymes, transporters and drugs."
   ]
  },
  {
   "cell_type": "code",
   "execution_count": 3,
   "metadata": {},
   "outputs": [],
   "source": [
    "PATHIN = '../resources/'"
   ]
  },
  {
   "cell_type": "code",
   "execution_count": 4,
   "metadata": {},
   "outputs": [
    {
     "data": {
      "text/plain": [
       "40"
      ]
     },
     "execution_count": 4,
     "metadata": {},
     "output_type": "execute_result"
    }
   ],
   "source": [
    "##open existing dictionary\n",
    "with open(PATHIN+'strToOBOdict_v1.0.0.pickle', 'rb') as filep:\n",
    "    obodict = pickle.load(filep)\n",
    "len(obodict)"
   ]
  },
  {
   "cell_type": "code",
   "execution_count": 5,
   "metadata": {},
   "outputs": [
    {
     "data": {
      "text/html": [
       "<div>\n",
       "<style scoped>\n",
       "    .dataframe tbody tr th:only-of-type {\n",
       "        vertical-align: middle;\n",
       "    }\n",
       "\n",
       "    .dataframe tbody tr th {\n",
       "        vertical-align: top;\n",
       "    }\n",
       "\n",
       "    .dataframe thead th {\n",
       "        text-align: right;\n",
       "    }\n",
       "</style>\n",
       "<table border=\"1\" class=\"dataframe\">\n",
       "  <thead>\n",
       "    <tr style=\"text-align: right;\">\n",
       "      <th></th>\n",
       "      <th>constituent_name</th>\n",
       "      <th>URI</th>\n",
       "    </tr>\n",
       "  </thead>\n",
       "  <tbody>\n",
       "    <tr>\n",
       "      <th>0</th>\n",
       "      <td>12beta-acetoxycimigenol 3-o-beta-d-xylopyranoside</td>\n",
       "      <td>http://napdi.org/napdi_srs_imports:12beta_acet...</td>\n",
       "    </tr>\n",
       "    <tr>\n",
       "      <th>1</th>\n",
       "      <td>2'-o-acetylactein</td>\n",
       "      <td>http://napdi.org/napdi_srs_imports:2_o_acetyla...</td>\n",
       "    </tr>\n",
       "    <tr>\n",
       "      <th>2</th>\n",
       "      <td>2'-o-acetylcimicifugoside h1</td>\n",
       "      <td>http://napdi.org/napdi_srs_imports:2_o_acetylc...</td>\n",
       "    </tr>\n",
       "    <tr>\n",
       "      <th>3</th>\n",
       "      <td>23-o-acetylshengmanol</td>\n",
       "      <td>http://napdi.org/napdi_srs_imports:23_o_acetyl...</td>\n",
       "    </tr>\n",
       "    <tr>\n",
       "      <th>4</th>\n",
       "      <td>23-o-acetylshengmanol-3-o-alpha-l-arabinoside</td>\n",
       "      <td>http://napdi.org/napdi_srs_imports:23_o_acetyl...</td>\n",
       "    </tr>\n",
       "  </tbody>\n",
       "</table>\n",
       "</div>"
      ],
      "text/plain": [
       "                                    constituent_name  \\\n",
       "0  12beta-acetoxycimigenol 3-o-beta-d-xylopyranoside   \n",
       "1                                  2'-o-acetylactein   \n",
       "2                       2'-o-acetylcimicifugoside h1   \n",
       "3                              23-o-acetylshengmanol   \n",
       "4      23-o-acetylshengmanol-3-o-alpha-l-arabinoside   \n",
       "\n",
       "                                                 URI  \n",
       "0  http://napdi.org/napdi_srs_imports:12beta_acet...  \n",
       "1  http://napdi.org/napdi_srs_imports:2_o_acetyla...  \n",
       "2  http://napdi.org/napdi_srs_imports:2_o_acetylc...  \n",
       "3  http://napdi.org/napdi_srs_imports:23_o_acetyl...  \n",
       "4  http://napdi.org/napdi_srs_imports:23_o_acetyl...  "
      ]
     },
     "execution_count": 5,
     "metadata": {},
     "output_type": "execute_result"
    }
   ],
   "source": [
    "##read in TSV file with NP names and constituents\n",
    "filename = 'chebi-extensions-constituents-and-NP-20230405.tsv'\n",
    "df = pd.read_csv(PATHIN+filename, sep='\\t')\n",
    "df.head()"
   ]
  },
  {
   "cell_type": "code",
   "execution_count": 7,
   "metadata": {},
   "outputs": [
    {
     "data": {
      "text/plain": [
       "629"
      ]
     },
     "execution_count": 7,
     "metadata": {},
     "output_type": "execute_result"
    }
   ],
   "source": [
    "obodict_new = {}\n",
    "for i in range(len(df.index)):\n",
    "    name = df.at[i, 'constituent_name']\n",
    "    uri = df.at[i, 'URI']\n",
    "    uriref = URIRef(uri)\n",
    "    obodict_new[name] = uriref\n",
    "len(obodict_new)"
   ]
  },
  {
   "cell_type": "code",
   "execution_count": 8,
   "metadata": {},
   "outputs": [
    {
     "data": {
      "text/plain": [
       "rdflib.term.URIRef('http://purl.obolibrary.org/obo/CHEBI_90')"
      ]
     },
     "execution_count": 8,
     "metadata": {},
     "output_type": "execute_result"
    }
   ],
   "source": [
    "obodict_new['(-)-epicatechin']"
   ]
  },
  {
   "cell_type": "code",
   "execution_count": 9,
   "metadata": {},
   "outputs": [
    {
     "data": {
      "text/plain": [
       "rdflib.term.URIRef('http://napdi.org/napdi_srs_imports:camellia_sinensis')"
      ]
     },
     "execution_count": 9,
     "metadata": {},
     "output_type": "execute_result"
    }
   ],
   "source": [
    "obodict_new['camellia sinensis']"
   ]
  },
  {
   "cell_type": "code",
   "execution_count": 11,
   "metadata": {},
   "outputs": [
    {
     "data": {
      "text/plain": [
       "659"
      ]
     },
     "execution_count": 11,
     "metadata": {},
     "output_type": "execute_result"
    }
   ],
   "source": [
    "prots = ['CYP3A4', 'CYP3A5', 'CYP1A2', 'CYP2C8', 'CYP1A1', 'CYP2E1', 'CYP2C19', 'CYP2D6', 'CYP2B6', 'CYP2C9', 'UGT', 'UGT1A1', 'UGT1A4', 'UGT1A6', 'UGT1A8', 'UGT1A10', 'UGT1A9', 'UGT2B7', 'PGP', 'SULT1A1', 'SULT1A3', 'MATE1', 'MATE2K', 'OCT1', 'OCT2', 'OATP1B1', 'OATP1A2', 'OATP1B3', 'CYP2A6', 'glycoprotein']\n",
    "for prot in prots:\n",
    "    obodict_new[prot] = obodict[prot]\n",
    "len(obodict_new)"
   ]
  },
  {
   "cell_type": "code",
   "execution_count": 12,
   "metadata": {},
   "outputs": [],
   "source": [
    "##save pickle\n",
    "with open(PATHIN+'strToOBOdict_v2.0.0.pickle', 'wb') as filep2:\n",
    "    pickle.dump(obodict_new, filep2)"
   ]
  },
  {
   "cell_type": "code",
   "execution_count": null,
   "metadata": {},
   "outputs": [],
   "source": []
  }
 ],
 "metadata": {
  "kernelspec": {
   "display_name": "Python 3.8.0 ('kg-embed')",
   "language": "python",
   "name": "python3"
  },
  "language_info": {
   "codemirror_mode": {
    "name": "ipython",
    "version": 3
   },
   "file_extension": ".py",
   "mimetype": "text/x-python",
   "name": "python",
   "nbconvert_exporter": "python",
   "pygments_lexer": "ipython3",
   "version": "3.8.0"
  },
  "orig_nbformat": 4,
  "vscode": {
   "interpreter": {
    "hash": "96e4f617bfd8d41f7b09e4ea5db07380f9a5a2c21add6996766b0d6e42ab68c1"
   }
  }
 },
 "nbformat": 4,
 "nbformat_minor": 2
}
