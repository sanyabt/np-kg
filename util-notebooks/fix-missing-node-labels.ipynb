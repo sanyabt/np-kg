{
 "cells": [
  {
   "cell_type": "markdown",
   "id": "ffa49b1d-2e34-4c46-bd9c-483cbcb7b6f1",
   "metadata": {},
   "source": [
    "## Fix missing node labels from all node labels files"
   ]
  },
  {
   "cell_type": "code",
   "execution_count": 1,
   "id": "ab19a5aa-fd28-4d9c-b9d9-a7487ab8ca3e",
   "metadata": {},
   "outputs": [],
   "source": [
    "import os\n",
    "import os.path\n",
    "import networkx as nx\n",
    "import json\n",
    "import urllib\n",
    "import traceback\n",
    "from itertools import islice\n",
    "from rdflib import Graph, URIRef, BNode, Namespace, Literal\n",
    "from rdflib.namespace import RDF, OWL\n",
    "from tqdm import tqdm\n",
    "import json"
   ]
  },
  {
   "cell_type": "code",
   "execution_count": 2,
   "id": "578ffbf6-7acb-4743-a462-a8e0323260d8",
   "metadata": {},
   "outputs": [],
   "source": [
    "import hashlib"
   ]
  },
  {
   "cell_type": "code",
   "execution_count": 3,
   "id": "81fe73f8-9fd4-46d2-9160-88734e16ede2",
   "metadata": {},
   "outputs": [],
   "source": [
    "import pickle\n",
    "import pandas as pd\n",
    "import numpy as np"
   ]
  },
  {
   "cell_type": "code",
   "execution_count": 4,
   "id": "00f663ac-f0cc-4daa-93bb-077548a945d3",
   "metadata": {},
   "outputs": [],
   "source": [
    "KG_PATH = '../resources/knowledge_graphs/'\n",
    "NodeLabelsFile = KG_PATH + 'nodeLabels_v1.0.pickle'"
   ]
  },
  {
   "cell_type": "code",
   "execution_count": 5,
   "id": "27f2497e-a07d-46ff-8e82-ee80f847769c",
   "metadata": {},
   "outputs": [],
   "source": [
    "with open(NodeLabelsFile, 'rb') as filep:\n",
    "    nodeLabels = pickle.load(filep)"
   ]
  },
  {
   "cell_type": "code",
   "execution_count": 6,
   "id": "3d798445-4726-4752-be32-2434e57fd04c",
   "metadata": {},
   "outputs": [
    {
     "data": {
      "text/plain": [
       "753369"
      ]
     },
     "execution_count": 6,
     "metadata": {},
     "output_type": "execute_result"
    }
   ],
   "source": [
    "len(nodeLabels)"
   ]
  },
  {
   "cell_type": "code",
   "execution_count": 7,
   "id": "2aece859-80ee-464d-8f34-f5872c76f9f5",
   "metadata": {},
   "outputs": [
    {
     "data": {
      "text/plain": [
       "4457"
      ]
     },
     "execution_count": 7,
     "metadata": {},
     "output_type": "execute_result"
    }
   ],
   "source": [
    "#missing labels for nodes = 4457\n",
    "with open('../resources/NPKG_missing_nodelabels.txt') as filei:\n",
    "    missing_labels = filei.readlines()\n",
    "len(missing_labels)"
   ]
  },
  {
   "cell_type": "code",
   "execution_count": 8,
   "id": "16967255-92ab-4c4d-b1a2-f1243764775f",
   "metadata": {},
   "outputs": [],
   "source": [
    "nodeLabelsPatch = {}"
   ]
  },
  {
   "cell_type": "code",
   "execution_count": 10,
   "id": "c6a96f9c-4ab0-4944-8932-fe21382fda8e",
   "metadata": {},
   "outputs": [],
   "source": [
    "#check in pheknowlator\n",
    "PL_PATH = 'PheKnowLatorv3/'\n",
    "nodesplfile = PL_PATH + 'resources/knowledge_graphs/PheKnowLator_v3.0.0_full_instance_inverseRelations_OWLNETS_NodeLabels.txt'"
   ]
  },
  {
   "cell_type": "code",
   "execution_count": 11,
   "id": "882243e1-0a4c-49f4-aa4d-81759e12e517",
   "metadata": {},
   "outputs": [],
   "source": [
    "nodespl = pd.read_csv(nodesplfile, sep='\\t')"
   ]
  },
  {
   "cell_type": "code",
   "execution_count": 12,
   "id": "e6f5952f-ad1c-4564-a55d-de6552437ea4",
   "metadata": {},
   "outputs": [
    {
     "name": "stdout",
     "output_type": "stream",
     "text": [
      "<class 'pandas.core.frame.DataFrame'>\n",
      "RangeIndex: 743399 entries, 0 to 743398\n",
      "Data columns (total 6 columns):\n",
      " #   Column                  Non-Null Count   Dtype \n",
      "---  ------                  --------------   ----- \n",
      " 0   entity_type             743285 non-null  object\n",
      " 1   integer_id              743367 non-null  object\n",
      " 2   entity_uri              743317 non-null  object\n",
      " 3   label                   743214 non-null  object\n",
      " 4   description/definition  743208 non-null  object\n",
      " 5   synonym                 743157 non-null  object\n",
      "dtypes: object(6)\n",
      "memory usage: 34.0+ MB\n"
     ]
    }
   ],
   "source": [
    "nodespl.info()"
   ]
  },
  {
   "cell_type": "code",
   "execution_count": 21,
   "id": "29af8695-7fc7-4d02-a9b9-a9c64dcc04dd",
   "metadata": {},
   "outputs": [
    {
     "data": {
      "text/plain": [
       "743399"
      ]
     },
     "execution_count": 21,
     "metadata": {},
     "output_type": "execute_result"
    }
   ],
   "source": [
    "nodespllist = nodespl.entity_uri.tolist()\n",
    "len(nodespllist)"
   ]
  },
  {
   "cell_type": "code",
   "execution_count": 24,
   "id": "456d1cd2-5e72-4c96-b110-b5f59392d306",
   "metadata": {},
   "outputs": [],
   "source": [
    "found_in_pl = []\n",
    "still_missing = []\n",
    "for item in missing_labels:\n",
    "    entity = item.strip()\n",
    "    if '<'+entity+'>' in nodespllist:\n",
    "        found_in_pl.append(entity)\n",
    "    else:\n",
    "        still_missing.append(entity)"
   ]
  },
  {
   "cell_type": "code",
   "execution_count": 26,
   "id": "28467070-4771-4fd9-87f1-7ae39f076e86",
   "metadata": {},
   "outputs": [
    {
     "data": {
      "text/plain": [
       "4429"
      ]
     },
     "execution_count": 26,
     "metadata": {},
     "output_type": "execute_result"
    }
   ],
   "source": [
    "len(found_in_pl)"
   ]
  },
  {
   "cell_type": "code",
   "execution_count": 36,
   "id": "58eff215-0791-42ac-aa2d-c85870373cc3",
   "metadata": {},
   "outputs": [
    {
     "data": {
      "text/plain": [
       "4429"
      ]
     },
     "execution_count": 36,
     "metadata": {},
     "output_type": "execute_result"
    }
   ],
   "source": [
    "for item in found_in_pl:\n",
    "    entity = '<'+item+'>'\n",
    "    label = nodespl.loc[nodespl['entity_uri'] == entity]['label']\n",
    "    if not label.empty:\n",
    "        nodeLabelsPatch[item] = label.values[0]\n",
    "        nodeLabels[item] = label.values[0]\n",
    "    else:\n",
    "        still_missing.append(item)\n",
    "len(nodeLabelsPatch)"
   ]
  },
  {
   "cell_type": "code",
   "execution_count": 37,
   "id": "553a40ed-777e-4ead-b05e-a09cc7dd0011",
   "metadata": {},
   "outputs": [
    {
     "data": {
      "text/plain": [
       "28"
      ]
     },
     "execution_count": 37,
     "metadata": {},
     "output_type": "execute_result"
    }
   ],
   "source": [
    "len(still_missing)"
   ]
  },
  {
   "cell_type": "code",
   "execution_count": 30,
   "id": "8eab2595-7ee4-43b2-94e1-458ad54a604c",
   "metadata": {},
   "outputs": [
    {
     "data": {
      "text/plain": [
       "['http://purl.obolibrary.org/obo/CHEBI_230539',\n",
       " 'http://purl.obolibrary.org/obo/CHEBI_14581053',\n",
       " 'http://purl.obolibrary.org/obo/CHEBI_172345',\n",
       " 'http://purl.obolibrary.org/obo/CHEBI_172341',\n",
       " 'http://purl.obolibrary.org/obo/CHEBI_168569',\n",
       " 'http://purl.obolibrary.org/obo/CHEBI_3855995',\n",
       " 'http://purl.obolibrary.org/obo/CHEBI_3855960',\n",
       " 'http://purl.obolibrary.org/obo/CHEBI_385590',\n",
       " 'http://purl.obolibrary.org/obo/CHEBI_385594',\n",
       " 'http://purl.obolibrary.org/obo/SLC47A1',\n",
       " 'http://purl.obolibrary.org/obo/CHEBI_273632',\n",
       " 'http://purl.obolibrary.org/obo/CHEBI_6416',\n",
       " 'http://purl.obolibrary.org/obo/CHEBI_1757421',\n",
       " 'http://purl.obolibrary.org/obo/http_//www.ebi.ac.uk/cellline',\n",
       " 'https://www.ncbi.nlm.nih.gov/snp/rs369019849',\n",
       " 'https://www.ncbi.nlm.nih.gov/snp/rs756952607',\n",
       " 'https://uswest.ensembl.org/Homo_sapiens/Transcript/Summary?t=ENST00000651398',\n",
       " 'https://uswest.ensembl.org/Homo_sapiens/Transcript/Summary?t=ENST00000564319',\n",
       " 'http://purl.obolibrary.org/obo/CHEBI_35373',\n",
       " 'https://uswest.ensembl.org/Homo_sapiens/Transcript/Summary?t=ENST00000510441',\n",
       " 'http://purl.obolibrary.org/obo/GO_0070871',\n",
       " 'http://purl.obolibrary.org/obo/PR_000050360',\n",
       " 'http://purl.obolibrary.org/obo/PR_000048538',\n",
       " 'http://purl.obolibrary.org/obo/CHEBI_81152',\n",
       " 'https://reactome.org/content/detail/R-HSA-5693540',\n",
       " 'http://purl.obolibrary.org/obo/SO_0001885',\n",
       " 'http://purl.obolibrary.org/obo/UBERON_4300184',\n",
       " 'http://purl.obolibrary.org/obo/OAE_0004475']"
      ]
     },
     "execution_count": 30,
     "metadata": {},
     "output_type": "execute_result"
    }
   ],
   "source": [
    "###add the missing ones manually\n",
    "##not available N=9\n",
    "still_missing"
   ]
  },
  {
   "cell_type": "code",
   "execution_count": 55,
   "id": "3253ca53-2090-4d44-8a4f-7a5fc3bf6e6c",
   "metadata": {},
   "outputs": [],
   "source": [
    "nodeLabelsPatch['http://purl.obolibrary.org/obo/CHEBI_230539'] = 'NaN'\n",
    "nodeLabelsPatch['http://purl.obolibrary.org/obo/CHEBI_14581053'] = 'NaN'\n",
    "nodeLabelsPatch['http://purl.obolibrary.org/obo/CHEBI_172345'] ='chaetoglobosin P'\n",
    "nodeLabelsPatch['http://purl.obolibrary.org/obo/CHEBI_172341']='Luotonin A'\n",
    "nodeLabelsPatch['http://purl.obolibrary.org/obo/CHEBI_168569']='Cadabicine methyl ether'\n",
    "nodeLabelsPatch['http://purl.obolibrary.org/obo/CHEBI_3855995']='NaN'\n",
    "nodeLabelsPatch['http://purl.obolibrary.org/obo/CHEBI_3855960']='NaN'\n",
    "nodeLabelsPatch['http://purl.obolibrary.org/obo/CHEBI_385590']='NaN'\n",
    "nodeLabelsPatch['http://purl.obolibrary.org/obo/CHEBI_385594']='NaN'\n",
    "nodeLabelsPatch['http://purl.obolibrary.org/obo/SLC47A1']='SLC47A1'\n",
    "nodeLabelsPatch['http://purl.obolibrary.org/obo/CHEBI_273632']='NaN'\n",
    "nodeLabelsPatch['http://purl.obolibrary.org/obo/CHEBI_6416']='leucocyanidin'\n",
    "nodeLabelsPatch['http://purl.obolibrary.org/obo/CHEBI_1757421']='NaN'\n",
    "nodeLabelsPatch['http://purl.obolibrary.org/obo/http_//www.ebi.ac.uk/cellline']='NaN'\n",
    "nodeLabelsPatch['https://www.ncbi.nlm.nih.gov/snp/rs369019849']='rs369019849'\n",
    "nodeLabelsPatch['https://www.ncbi.nlm.nih.gov/snp/rs756952607']='rs756952607'\n",
    "nodeLabelsPatch['https://uswest.ensembl.org/Homo_sapiens/Transcript/Summary?t=ENST00000651398']='family with sequence similarity 153 member C, pseudogene'\n",
    "nodeLabelsPatch['https://uswest.ensembl.org/Homo_sapiens/Transcript/Summary?t=ENST00000564319']='MTOR associated protein, LST8 homolog'\n",
    "nodeLabelsPatch['http://purl.obolibrary.org/obo/CHEBI_35373']='D-glucosaminide'\n",
    "nodeLabelsPatch['https://uswest.ensembl.org/Homo_sapiens/Transcript/Summary?t=ENST00000510441']='exocyst complex component 3'\n",
    "nodeLabelsPatch['http://purl.obolibrary.org/obo/GO_0070871']='cell wall organization involved in conjugation with cellular fusion'\n",
    "nodeLabelsPatch['http://purl.obolibrary.org/obo/PR_000050360']='macro CK type 2 (human)'\n",
    "nodeLabelsPatch['http://purl.obolibrary.org/obo/PR_000048538']='hNDUFA11/InitMet'\n",
    "nodeLabelsPatch['http://purl.obolibrary.org/obo/CHEBI_81152']='Amaroswerin'\n",
    "nodeLabelsPatch['https://reactome.org/content/detail/R-HSA-5693540']='MRN activates ATM'\n",
    "nodeLabelsPatch['http://purl.obolibrary.org/obo/SO_0001885']='TFBS_translocation'\n",
    "nodeLabelsPatch['http://purl.obolibrary.org/obo/UBERON_4300184']='neural spine 5'\n",
    "nodeLabelsPatch['http://purl.obolibrary.org/obo/OAE_0004475']='acute prerenal failure AE'"
   ]
  },
  {
   "cell_type": "code",
   "execution_count": 56,
   "id": "596d9aa2-ba9c-42b4-8e78-dd1b150a82d7",
   "metadata": {},
   "outputs": [
    {
     "data": {
      "text/plain": [
       "4457"
      ]
     },
     "execution_count": 56,
     "metadata": {},
     "output_type": "execute_result"
    }
   ],
   "source": [
    "len(nodeLabelsPatch)"
   ]
  },
  {
   "cell_type": "code",
   "execution_count": 57,
   "id": "46f8bcda-c57e-4f8f-bed8-af6898df784f",
   "metadata": {},
   "outputs": [],
   "source": [
    "nodeLabels['http://purl.obolibrary.org/obo/CHEBI_230539'] = 'NaN'\n",
    "nodeLabels['http://purl.obolibrary.org/obo/CHEBI_14581053'] = 'NaN'\n",
    "nodeLabels['http://purl.obolibrary.org/obo/CHEBI_172345'] ='chaetoglobosin P'\n",
    "nodeLabels['http://purl.obolibrary.org/obo/CHEBI_172341']='Luotonin A'\n",
    "nodeLabels['http://purl.obolibrary.org/obo/CHEBI_168569']='Cadabicine methyl ether'\n",
    "nodeLabels['http://purl.obolibrary.org/obo/CHEBI_3855995']='NaN'\n",
    "nodeLabels['http://purl.obolibrary.org/obo/CHEBI_3855960']='NaN'\n",
    "nodeLabels['http://purl.obolibrary.org/obo/CHEBI_385590']='NaN'\n",
    "nodeLabels['http://purl.obolibrary.org/obo/CHEBI_385594']='NaN'\n",
    "nodeLabels['http://purl.obolibrary.org/obo/SLC47A1']='SLC47A1'\n",
    "nodeLabels['http://purl.obolibrary.org/obo/CHEBI_273632']='NaN'\n",
    "nodeLabels['http://purl.obolibrary.org/obo/CHEBI_6416']='leucocyanidin'\n",
    "nodeLabels['http://purl.obolibrary.org/obo/CHEBI_1757421']='NaN'\n",
    "nodeLabels['http://purl.obolibrary.org/obo/http_//www.ebi.ac.uk/cellline']='NaN'\n",
    "nodeLabels['https://www.ncbi.nlm.nih.gov/snp/rs369019849']='rs369019849'\n",
    "nodeLabels['https://www.ncbi.nlm.nih.gov/snp/rs756952607']='rs756952607'\n",
    "nodeLabels['https://uswest.ensembl.org/Homo_sapiens/Transcript/Summary?t=ENST00000651398']='family with sequence similarity 153 member C, pseudogene'\n",
    "nodeLabels['https://uswest.ensembl.org/Homo_sapiens/Transcript/Summary?t=ENST00000564319']='MTOR associated protein, LST8 homolog'\n",
    "nodeLabels['http://purl.obolibrary.org/obo/CHEBI_35373']='D-glucosaminide'\n",
    "nodeLabels['https://uswest.ensembl.org/Homo_sapiens/Transcript/Summary?t=ENST00000510441']='exocyst complex component 3'\n",
    "nodeLabels['http://purl.obolibrary.org/obo/GO_0070871']='cell wall organization involved in conjugation with cellular fusion'\n",
    "nodeLabels['http://purl.obolibrary.org/obo/PR_000050360']='macro CK type 2 (human)'\n",
    "nodeLabels['http://purl.obolibrary.org/obo/PR_000048538']='hNDUFA11/InitMet'\n",
    "nodeLabels['http://purl.obolibrary.org/obo/CHEBI_81152']='Amaroswerin'\n",
    "nodeLabels['https://reactome.org/content/detail/R-HSA-5693540']='MRN activates ATM'\n",
    "nodeLabels['http://purl.obolibrary.org/obo/SO_0001885']='TFBS_translocation'\n",
    "nodeLabels['http://purl.obolibrary.org/obo/UBERON_4300184']='neural spine 5'\n",
    "nodeLabels['http://purl.obolibrary.org/obo/OAE_0004475']='acute prerenal failure AE'"
   ]
  },
  {
   "cell_type": "code",
   "execution_count": 58,
   "id": "cbf37a50-e957-4e2e-85cc-cc50b8e7b919",
   "metadata": {},
   "outputs": [
    {
     "data": {
      "text/plain": [
       "757826"
      ]
     },
     "execution_count": 58,
     "metadata": {},
     "output_type": "execute_result"
    }
   ],
   "source": [
    "len(nodeLabels)"
   ]
  },
  {
   "cell_type": "code",
   "execution_count": 60,
   "id": "105148f8-9e14-4610-aa80-c18a9b5a3a65",
   "metadata": {},
   "outputs": [],
   "source": [
    "with open(KG_PATH+'nodeLabels_v1.0.1.pickle', 'wb') as fileo:\n",
    "    pickle.dump(nodeLabels, fileo)"
   ]
  },
  {
   "cell_type": "code",
   "execution_count": null,
   "id": "473f9113-073b-45a6-bc45-a5d63105e44e",
   "metadata": {},
   "outputs": [],
   "source": []
  }
 ],
 "metadata": {
  "kernelspec": {
   "display_name": "Python 3",
   "language": "python",
   "name": "python3"
  },
  "language_info": {
   "codemirror_mode": {
    "name": "ipython",
    "version": 3
   },
   "file_extension": ".py",
   "mimetype": "text/x-python",
   "name": "python",
   "nbconvert_exporter": "python",
   "pygments_lexer": "ipython3",
   "version": "3.6.13"
  }
 },
 "nbformat": 4,
 "nbformat_minor": 5
}
