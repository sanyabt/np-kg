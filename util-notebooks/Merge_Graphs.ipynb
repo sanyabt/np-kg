{
 "cells": [
  {
   "cell_type": "markdown",
   "metadata": {},
   "source": [
    "## Merge ontology-grounded and literature-based graphs"
   ]
  },
  {
   "cell_type": "code",
   "execution_count": 1,
   "metadata": {},
   "outputs": [],
   "source": [
    "import pandas as pd\n",
    "import numpy as np\n",
    "import pickle\n",
    "from rdflib.namespace import OWL, RDF, RDFS\n",
    "import os\n",
    "import pickle, json\n",
    "\n",
    "#Create networkx graph from triples\n",
    "import glob\n",
    "import hashlib\n",
    "import json\n",
    "import networkx as nx  # type: ignore\n",
    "\n",
    "from rdflib import BNode, Graph, Literal, Namespace, URIRef  # type: ignore\n",
    "from rdflib.namespace import OWL, RDF, RDFS  # type: ignore\n",
    "from rdflib.plugins.serializers.nt import _quoteLiteral  # type: ignore\n",
    "\n",
    "from tqdm import tqdm  # type: ignore"
   ]
  },
  {
   "cell_type": "code",
   "execution_count": 2,
   "metadata": {},
   "outputs": [],
   "source": [
    "def get_stats(g):\n",
    "    nodes = nx.number_of_nodes(g)\n",
    "    edges = nx.number_of_edges(g)\n",
    "    density = nx.density(g)\n",
    "    avg_deg = float(edges)/nodes\n",
    "    print('Number of nodes: ', nodes)\n",
    "    print('Number of edges: ', edges)\n",
    "    print('Density of graph: ', density)\n",
    "    print('Average degree: ', avg_deg)"
   ]
  },
  {
   "cell_type": "code",
   "execution_count": 3,
   "metadata": {},
   "outputs": [],
   "source": [
    "KG_PATH = '../resources/knowledge_graphs/'\n",
    "MR_KG_PATH = '../literature-graphs/output_graphs/'"
   ]
  },
  {
   "cell_type": "markdown",
   "metadata": {},
   "source": [
    "### Merge gpickle graphs"
   ]
  },
  {
   "cell_type": "markdown",
   "id": "e18fd0f1",
   "metadata": {},
   "source": [
    "Load merged machine read graph, PheKnowLator KG and node labels files"
   ]
  },
  {
   "cell_type": "code",
   "execution_count": 4,
   "id": "19f4c100",
   "metadata": {},
   "outputs": [],
   "source": [
    "KG_PATH = '../resources/knowledge_graphs/'\n",
    "MR_PATH = '../literature-graphs/output_graphs/'\n",
    "KG_NAME = 'PheKnowLator_v3.1.2_full_instance_inverseRelations_OWLNETS_NetworkxMultiDiGraph.gpickle'\n",
    "MR_KG_NAME = 'machine_read_merged_version2.gpickle'"
   ]
  },
  {
   "cell_type": "code",
   "execution_count": 5,
   "id": "26890692",
   "metadata": {},
   "outputs": [],
   "source": [
    "NodeLabelsFilePL = 'PheKnowLator_v3.1.2_full_instance_inverseRelations_OWLNETS_NodeLabels.txt'\n",
    "NodeLabelsFileMR = 'machine_read_merged_NodeLabels_version2.pickle'"
   ]
  },
  {
   "cell_type": "code",
   "execution_count": 6,
   "id": "32cfbe92",
   "metadata": {},
   "outputs": [
    {
     "data": {
      "text/plain": [
       "1088871"
      ]
     },
     "execution_count": 6,
     "metadata": {},
     "output_type": "execute_result"
    }
   ],
   "source": [
    "#pandas function leads to missing nodes\n",
    "#nodespl = pd.read_csv(KG_PATH+NodeLabelsFilePL, sep='\\t')\n",
    "#nodespl.head()\n",
    "with open(KG_PATH+NodeLabelsFilePL, 'r') as filep:\n",
    "    nodespl = filep.readlines()\n",
    "len(nodespl)"
   ]
  },
  {
   "cell_type": "code",
   "execution_count": 7,
   "metadata": {},
   "outputs": [
    {
     "data": {
      "text/plain": [
       "1088870"
      ]
     },
     "execution_count": 7,
     "metadata": {},
     "output_type": "execute_result"
    }
   ],
   "source": [
    "nodespl = [x.strip() for x in nodespl[1:]]\n",
    "len(nodespl)"
   ]
  },
  {
   "cell_type": "code",
   "execution_count": 8,
   "metadata": {},
   "outputs": [
    {
     "data": {
      "text/plain": [
       "'NODES\\t1011189\\t<http://purl.obolibrary.org/obo/CLO_0035452>\\tND10852 cell\\tNone\\tNone'"
      ]
     },
     "execution_count": 8,
     "metadata": {},
     "output_type": "execute_result"
    }
   ],
   "source": [
    "nodespl[0]"
   ]
  },
  {
   "cell_type": "code",
   "execution_count": 9,
   "metadata": {},
   "outputs": [
    {
     "data": {
      "text/plain": [
       "1088870"
      ]
     },
     "execution_count": 9,
     "metadata": {},
     "output_type": "execute_result"
    }
   ],
   "source": [
    "#split nodespl by \\t and save to dictionary\n",
    "nodespl_dict = {}\n",
    "for node in nodespl:\n",
    "    node = node.split('\\t')\n",
    "    nodespl_dict[node[2].replace('>', '').replace('<', '')] = node[3]\n",
    "len(nodespl_dict)"
   ]
  },
  {
   "cell_type": "code",
   "execution_count": 10,
   "metadata": {},
   "outputs": [
    {
     "name": "stdout",
     "output_type": "stream",
     "text": [
      "http://purl.obolibrary.org/obo/CLO_0035452 ND10852 cell\n"
     ]
    }
   ],
   "source": [
    "for key in nodespl_dict:\n",
    "    print(key, nodespl_dict[key])\n",
    "    break"
   ]
  },
  {
   "cell_type": "code",
   "execution_count": 10,
   "metadata": {},
   "outputs": [
    {
     "data": {
      "text/plain": [
       "387263"
      ]
     },
     "execution_count": 10,
     "metadata": {},
     "output_type": "execute_result"
    }
   ],
   "source": [
    "##fix foreign characters with bad_node_patch.json - fixed in v3.1.0\n",
    "#with open(KG_PATH+'bad_node_patch.json') as f:\n",
    "#    bad_node_patch = json.load(f)\n",
    "#len(bad_node_patch)\n",
    "# for key in bad_node_patch:\n",
    "#    newkey = key.replace('<','').replace('>','')\n",
    "#    if newkey in nodespldict:\n",
    "#        print(newkey)\n",
    "#        print(bad_node_patch[key])\n",
    "#        print(nodespldict[newkey])\n",
    "#        break\n",
    "##fix foreign characters in nodespldict with bad_node_patch.json\n",
    "#count = 0\n",
    "#for key in bad_node_patch:\n",
    "#    newkey = key.replace('<','').replace('>','')\n",
    "#    if newkey in nodespldict:\n",
    "#        nodespldict[newkey] = bad_node_patch[key]['label']\n",
    "#        count += 1\n",
    "#print(count)"
   ]
  },
  {
   "cell_type": "code",
   "execution_count": 11,
   "id": "11460ae5",
   "metadata": {},
   "outputs": [
    {
     "data": {
      "text/plain": [
       "12201"
      ]
     },
     "execution_count": 11,
     "metadata": {},
     "output_type": "execute_result"
    }
   ],
   "source": [
    "import pickle\n",
    "with open(MR_PATH+NodeLabelsFileMR, 'rb') as filep:\n",
    "    nodesmr = pickle.load(filep)\n",
    "len(nodesmr)"
   ]
  },
  {
   "cell_type": "code",
   "execution_count": 12,
   "metadata": {},
   "outputs": [
    {
     "name": "stdout",
     "output_type": "stream",
     "text": [
      "http://purl.obolibrary.org/obo/CHEBI_38559 {'entity_type': 'NODES', 'label': 'Cytochrome P450', 'cui': 'C0010762'}\n"
     ]
    }
   ],
   "source": [
    "for key in nodesmr:\n",
    "    print(key, nodesmr[key])\n",
    "    break"
   ]
  },
  {
   "cell_type": "code",
   "execution_count": 13,
   "id": "824dcd08",
   "metadata": {},
   "outputs": [
    {
     "data": {
      "text/plain": [
       "1089472"
      ]
     },
     "execution_count": 13,
     "metadata": {},
     "output_type": "execute_result"
    }
   ],
   "source": [
    "##combine node labels from both KGs\n",
    "for key in nodesmr:\n",
    "    if key not in nodespl_dict:\n",
    "        nodespl_dict[key] = nodesmr[key]['label']\n",
    "len(nodespl_dict)"
   ]
  },
  {
   "cell_type": "code",
   "execution_count": 14,
   "id": "067eb579",
   "metadata": {},
   "outputs": [],
   "source": [
    "with open(KG_PATH+'nodeLabels_v3.0.0.pickle', 'wb') as filep:\n",
    "    pickle.dump(nodespl_dict, filep)"
   ]
  },
  {
   "cell_type": "code",
   "execution_count": 15,
   "id": "eaf92bcd",
   "metadata": {},
   "outputs": [],
   "source": [
    "nodeLabels = nodespl_dict"
   ]
  },
  {
   "cell_type": "code",
   "execution_count": 16,
   "id": "6ed2c779",
   "metadata": {},
   "outputs": [],
   "source": [
    "##read in PL graph - 3.1.2\n",
    "pkl = nx.read_gpickle(KG_PATH+KG_NAME)"
   ]
  },
  {
   "cell_type": "code",
   "execution_count": 17,
   "id": "a0e5ebd4",
   "metadata": {},
   "outputs": [
    {
     "name": "stdout",
     "output_type": "stream",
     "text": [
      "Number of nodes:  1088531\n",
      "Number of edges:  7716032\n",
      "Density of graph:  6.511976364992758e-06\n",
      "Average degree:  7.088481632585567\n"
     ]
    }
   ],
   "source": [
    "#v1.0.1: 980240, 7765868, 8.082125806864853e-06, 7.922414918795397\n",
    "#v3.1.0: 1089614, 7850306, 6.612133825320617e-06, 7.204666973809074\n",
    "#v3.1.1: 1089613, 7836662, 6.600653910666818e-06, 7.192151708909494\n",
    "get_stats(pkl)"
   ]
  },
  {
   "cell_type": "code",
   "execution_count": 18,
   "id": "3b7933e8",
   "metadata": {},
   "outputs": [],
   "source": [
    "mrkg = nx.read_gpickle(MR_PATH+MR_KG_NAME)"
   ]
  },
  {
   "cell_type": "code",
   "execution_count": 19,
   "id": "9226db9e",
   "metadata": {},
   "outputs": [
    {
     "name": "stdout",
     "output_type": "stream",
     "text": [
      "Number of nodes:  12190\n",
      "Number of edges:  120371\n",
      "Density of graph:  0.0008101213650926268\n",
      "Average degree:  9.874569319114029\n"
     ]
    }
   ],
   "source": [
    "get_stats(mrkg)"
   ]
  },
  {
   "cell_type": "code",
   "execution_count": 20,
   "id": "56d74467",
   "metadata": {},
   "outputs": [],
   "source": [
    "##combine graphs\n",
    "nxgraph = nx.compose_all([pkl, mrkg])"
   ]
  },
  {
   "cell_type": "code",
   "execution_count": 21,
   "id": "02eb7c55",
   "metadata": {},
   "outputs": [
    {
     "name": "stdout",
     "output_type": "stream",
     "text": [
      "Number of nodes:  1089139\n",
      "Number of edges:  7836115\n",
      "Density of graph:  6.605939326371026e-06\n",
      "Average degree:  7.194779546045087\n"
     ]
    }
   ],
   "source": [
    "get_stats(nxgraph)"
   ]
  },
  {
   "cell_type": "code",
   "execution_count": 22,
   "metadata": {},
   "outputs": [],
   "source": [
    "#save graph\n",
    "OUTFILENAME = 'NP-KG_v3.0.0.gpickle'\n",
    "with open(KG_PATH+OUTFILENAME, 'wb') as filenx:\n",
    "    pickle.dump(nxgraph, filenx)"
   ]
  },
  {
   "attachments": {},
   "cell_type": "markdown",
   "metadata": {},
   "source": [
    "### Save node labels as TSV"
   ]
  },
  {
   "cell_type": "code",
   "execution_count": 23,
   "metadata": {},
   "outputs": [
    {
     "data": {
      "text/plain": [
       "1089472"
      ]
     },
     "execution_count": 23,
     "metadata": {},
     "output_type": "execute_result"
    }
   ],
   "source": [
    "with open(KG_PATH+'nodeLabels_v3.0.0.pickle', 'rb') as filep:\n",
    "    nodeLabels = pickle.load(filep)\n",
    "len(nodeLabels)"
   ]
  },
  {
   "cell_type": "code",
   "execution_count": 24,
   "metadata": {},
   "outputs": [
    {
     "data": {
      "text/html": [
       "<div>\n",
       "<style scoped>\n",
       "    .dataframe tbody tr th:only-of-type {\n",
       "        vertical-align: middle;\n",
       "    }\n",
       "\n",
       "    .dataframe tbody tr th {\n",
       "        vertical-align: top;\n",
       "    }\n",
       "\n",
       "    .dataframe thead th {\n",
       "        text-align: right;\n",
       "    }\n",
       "</style>\n",
       "<table border=\"1\" class=\"dataframe\">\n",
       "  <thead>\n",
       "    <tr style=\"text-align: right;\">\n",
       "      <th></th>\n",
       "      <th>label</th>\n",
       "    </tr>\n",
       "  </thead>\n",
       "  <tbody>\n",
       "    <tr>\n",
       "      <th>http://purl.obolibrary.org/obo/CLO_0035452</th>\n",
       "      <td>ND10852 cell</td>\n",
       "    </tr>\n",
       "    <tr>\n",
       "      <th>https://uswest.ensembl.org/Homo_sapiens/Transcript/Summary?t=ENST00000256362</th>\n",
       "      <td>VRTN-201</td>\n",
       "    </tr>\n",
       "    <tr>\n",
       "      <th>https://www.ncbi.nlm.nih.gov/snp/rs1057517106</th>\n",
       "      <td>NM_003060.4(SLC22A5):c.394-1G&gt;T</td>\n",
       "    </tr>\n",
       "    <tr>\n",
       "      <th>https://uswest.ensembl.org/Homo_sapiens/Transcript/Summary?t=ENST00000555563</th>\n",
       "      <td>SHMT2-219</td>\n",
       "    </tr>\n",
       "    <tr>\n",
       "      <th>http://purl.obolibrary.org/obo/CHEBI_129885</th>\n",
       "      <td>(2S)-2-[(4R,5S)-8-[3-(dimethylamino)prop-1-yny...</td>\n",
       "    </tr>\n",
       "  </tbody>\n",
       "</table>\n",
       "</div>"
      ],
      "text/plain": [
       "                                                                                                label\n",
       "http://purl.obolibrary.org/obo/CLO_0035452                                               ND10852 cell\n",
       "https://uswest.ensembl.org/Homo_sapiens/Transcr...                                           VRTN-201\n",
       "https://www.ncbi.nlm.nih.gov/snp/rs1057517106                         NM_003060.4(SLC22A5):c.394-1G>T\n",
       "https://uswest.ensembl.org/Homo_sapiens/Transcr...                                          SHMT2-219\n",
       "http://purl.obolibrary.org/obo/CHEBI_129885         (2S)-2-[(4R,5S)-8-[3-(dimethylamino)prop-1-yny..."
      ]
     },
     "execution_count": 24,
     "metadata": {},
     "output_type": "execute_result"
    }
   ],
   "source": [
    "##convert dictionary to dataframe with columns 'entity_uri' and 'label'\n",
    "nodelabelsdf = pd.DataFrame.from_dict(nodeLabels, orient='index', columns=['label'])\n",
    "nodelabelsdf.head()"
   ]
  },
  {
   "cell_type": "code",
   "execution_count": 25,
   "metadata": {},
   "outputs": [
    {
     "data": {
      "text/html": [
       "<div>\n",
       "<style scoped>\n",
       "    .dataframe tbody tr th:only-of-type {\n",
       "        vertical-align: middle;\n",
       "    }\n",
       "\n",
       "    .dataframe tbody tr th {\n",
       "        vertical-align: top;\n",
       "    }\n",
       "\n",
       "    .dataframe thead th {\n",
       "        text-align: right;\n",
       "    }\n",
       "</style>\n",
       "<table border=\"1\" class=\"dataframe\">\n",
       "  <thead>\n",
       "    <tr style=\"text-align: right;\">\n",
       "      <th></th>\n",
       "      <th>index</th>\n",
       "      <th>label</th>\n",
       "    </tr>\n",
       "  </thead>\n",
       "  <tbody>\n",
       "    <tr>\n",
       "      <th>0</th>\n",
       "      <td>http://purl.obolibrary.org/obo/CLO_0035452</td>\n",
       "      <td>ND10852 cell</td>\n",
       "    </tr>\n",
       "    <tr>\n",
       "      <th>1</th>\n",
       "      <td>https://uswest.ensembl.org/Homo_sapiens/Transc...</td>\n",
       "      <td>VRTN-201</td>\n",
       "    </tr>\n",
       "    <tr>\n",
       "      <th>2</th>\n",
       "      <td>https://www.ncbi.nlm.nih.gov/snp/rs1057517106</td>\n",
       "      <td>NM_003060.4(SLC22A5):c.394-1G&gt;T</td>\n",
       "    </tr>\n",
       "    <tr>\n",
       "      <th>3</th>\n",
       "      <td>https://uswest.ensembl.org/Homo_sapiens/Transc...</td>\n",
       "      <td>SHMT2-219</td>\n",
       "    </tr>\n",
       "    <tr>\n",
       "      <th>4</th>\n",
       "      <td>http://purl.obolibrary.org/obo/CHEBI_129885</td>\n",
       "      <td>(2S)-2-[(4R,5S)-8-[3-(dimethylamino)prop-1-yny...</td>\n",
       "    </tr>\n",
       "  </tbody>\n",
       "</table>\n",
       "</div>"
      ],
      "text/plain": [
       "                                               index  \\\n",
       "0         http://purl.obolibrary.org/obo/CLO_0035452   \n",
       "1  https://uswest.ensembl.org/Homo_sapiens/Transc...   \n",
       "2      https://www.ncbi.nlm.nih.gov/snp/rs1057517106   \n",
       "3  https://uswest.ensembl.org/Homo_sapiens/Transc...   \n",
       "4        http://purl.obolibrary.org/obo/CHEBI_129885   \n",
       "\n",
       "                                               label  \n",
       "0                                       ND10852 cell  \n",
       "1                                           VRTN-201  \n",
       "2                    NM_003060.4(SLC22A5):c.394-1G>T  \n",
       "3                                          SHMT2-219  \n",
       "4  (2S)-2-[(4R,5S)-8-[3-(dimethylamino)prop-1-yny...  "
      ]
     },
     "execution_count": 25,
     "metadata": {},
     "output_type": "execute_result"
    }
   ],
   "source": [
    "nodelabelsdf = nodelabelsdf.reset_index()\n",
    "nodelabelsdf.head()"
   ]
  },
  {
   "cell_type": "code",
   "execution_count": 26,
   "metadata": {},
   "outputs": [
    {
     "name": "stdout",
     "output_type": "stream",
     "text": [
      "<class 'pandas.core.frame.DataFrame'>\n",
      "RangeIndex: 1089472 entries, 0 to 1089471\n",
      "Data columns (total 2 columns):\n",
      " #   Column      Non-Null Count    Dtype \n",
      "---  ------      --------------    ----- \n",
      " 0   entity_uri  1089472 non-null  object\n",
      " 1   label       1089472 non-null  object\n",
      "dtypes: object(2)\n",
      "memory usage: 16.6+ MB\n"
     ]
    }
   ],
   "source": [
    "##rename index as 'entity_uri'\n",
    "nodelabelsdf = nodelabelsdf.rename(columns={'index':'entity_uri'})\n",
    "nodelabelsdf.info()"
   ]
  },
  {
   "cell_type": "code",
   "execution_count": 27,
   "metadata": {},
   "outputs": [],
   "source": [
    "##save as tsv\n",
    "nodelabelsdf.to_csv(KG_PATH+'nodeLabels_v3.0.0.tsv', sep='\\t', index=False)"
   ]
  },
  {
   "attachments": {},
   "cell_type": "markdown",
   "metadata": {},
   "source": [
    "### Merge serialized graphs"
   ]
  },
  {
   "cell_type": "code",
   "execution_count": 28,
   "id": "d8ee0b36-fd85-44f1-9499-05875ce80c32",
   "metadata": {},
   "outputs": [],
   "source": [
    "pl_file = KG_PATH+'PheKnowLator_v3.1.2_full_instance_inverseRelations_OWLNETS.nt'\n",
    "mr_file = MR_KG_PATH+'machine_read_merged_with_closure_version2.nt'\n",
    "outfile_merged = KG_PATH+'NP-KG_v3.0.0.nt'"
   ]
  },
  {
   "cell_type": "code",
   "execution_count": 29,
   "id": "f954d304-f74a-4b4d-9543-f56d87a18784",
   "metadata": {},
   "outputs": [],
   "source": [
    "with open(pl_file,'r') as filep:\n",
    "    g = filep.read()\n",
    "pl = g.split('\\n')"
   ]
  },
  {
   "cell_type": "code",
   "execution_count": 30,
   "id": "693d6d9b-8958-4b6d-8ef8-1873e2edb5ae",
   "metadata": {},
   "outputs": [
    {
     "data": {
      "text/plain": [
       "7716033"
      ]
     },
     "execution_count": 30,
     "metadata": {},
     "output_type": "execute_result"
    }
   ],
   "source": [
    "len(pl)"
   ]
  },
  {
   "cell_type": "code",
   "execution_count": 31,
   "id": "a9604eb6-6c2b-4aa6-a4ef-b977f44109df",
   "metadata": {},
   "outputs": [],
   "source": [
    "with open(mr_file,'r') as filem:\n",
    "    g = filem.read()\n",
    "mr = g.split('\\n')"
   ]
  },
  {
   "cell_type": "code",
   "execution_count": 32,
   "id": "b139b32c-a49b-4031-9d1e-90a0a6aebfee",
   "metadata": {},
   "outputs": [
    {
     "data": {
      "text/plain": [
       "155742"
      ]
     },
     "execution_count": 32,
     "metadata": {},
     "output_type": "execute_result"
    }
   ],
   "source": [
    "len(mr)"
   ]
  },
  {
   "cell_type": "code",
   "execution_count": 36,
   "id": "ab870d0c-f4eb-471b-b79b-d83c591f32dc",
   "metadata": {},
   "outputs": [],
   "source": [
    "##not writing labels to file\n",
    "with open(outfile_merged, 'w') as fileout:\n",
    "    newline = ''\n",
    "    for i in range(0, len(pl)-1):\n",
    "        if pl[i] == '':\n",
    "            continue\n",
    "        else:\n",
    "            fileout.write(newline+pl[i])\n",
    "            newline = '\\n'\n",
    "    newline = '\\n'\n",
    "    for i in range(0, len(mr)-1):\n",
    "        if 'label' in mr[i] or mr[i] == '':\n",
    "            continue\n",
    "        else:\n",
    "            fileout.write(newline+mr[i])\n",
    "            newline = '\\n'\n",
    "fileout.close()"
   ]
  },
  {
   "cell_type": "code",
   "execution_count": 37,
   "id": "5086255d-0392-473d-b2ea-a9b827bc877a",
   "metadata": {},
   "outputs": [
    {
     "data": {
      "text/plain": [
       "7855336"
      ]
     },
     "execution_count": 37,
     "metadata": {},
     "output_type": "execute_result"
    }
   ],
   "source": [
    "##check file\n",
    "with open(outfile_merged, 'r') as filein:\n",
    "    g = filein.read()\n",
    "merged = g.split('\\n')\n",
    "len(merged)"
   ]
  },
  {
   "cell_type": "code",
   "execution_count": 38,
   "id": "088ee974-4646-457c-891f-d19d35d788ee",
   "metadata": {},
   "outputs": [
    {
     "data": {
      "text/plain": [
       "'<http://purl.obolibrary.org/obo/CHEBI_17347> <http://purl.obolibrary.org/obo/RO_0002436> <http://purl.obolibrary.org/obo/GO_0006412'"
      ]
     },
     "execution_count": 38,
     "metadata": {},
     "output_type": "execute_result"
    }
   ],
   "source": [
    "merged[-1]"
   ]
  },
  {
   "cell_type": "code",
   "execution_count": 39,
   "id": "588e1ba2-1bf7-4649-a60b-9c7b01fec1c7",
   "metadata": {},
   "outputs": [
    {
     "data": {
      "text/plain": [
       "'<http://www.informatics.jax.org/marker/MGI:1913508> <http://www.w3.org/2000/01/rdf-schema#subClassOf> <http://purl.obolibrary.org/obo/SO_0001217> .'"
      ]
     },
     "execution_count": 39,
     "metadata": {},
     "output_type": "execute_result"
    }
   ],
   "source": [
    "merged[0]"
   ]
  },
  {
   "cell_type": "code",
   "execution_count": 40,
   "metadata": {},
   "outputs": [
    {
     "data": {
      "text/plain": [
       "1089472"
      ]
     },
     "execution_count": 40,
     "metadata": {},
     "output_type": "execute_result"
    }
   ],
   "source": [
    "with open(KG_PATH+'nodeLabels_v3.0.0.pickle', 'rb') as filep:\n",
    "    nodeLabels = pickle.load(filep)\n",
    "len(nodeLabels)"
   ]
  },
  {
   "cell_type": "code",
   "execution_count": 41,
   "metadata": {},
   "outputs": [
    {
     "name": "stdout",
     "output_type": "stream",
     "text": [
      "http://purl.obolibrary.org/obo/CLO_0035452 ND10852 cell\n"
     ]
    }
   ],
   "source": [
    "for key in nodeLabels:\n",
    "    print(key, nodeLabels[key])\n",
    "    break"
   ]
  },
  {
   "cell_type": "code",
   "execution_count": 44,
   "metadata": {},
   "outputs": [
    {
     "data": {
      "text/plain": [
       "'ND10852 cell'"
      ]
     },
     "execution_count": 44,
     "metadata": {},
     "output_type": "execute_result"
    }
   ],
   "source": [
    "nodeLabels['http://purl.obolibrary.org/obo/CLO_0035452']"
   ]
  },
  {
   "cell_type": "code",
   "execution_count": 48,
   "id": "68596deb-4a8f-4462-b167-b42165696f10",
   "metadata": {},
   "outputs": [
    {
     "name": "stdout",
     "output_type": "stream",
     "text": [
      "'str' object has no attribute 'language'\n",
      "http://purl.obolibrary.org/obo/CLO_0035452 ND10852 cell\n"
     ]
    }
   ],
   "source": [
    "##save file with labels -- NOT DONE FOR VERSION 3 due to error\n",
    "outfile_merged_new = KG_PATH+'NP-KG_with_labels_v3.0.0.nt'\n",
    "with open(outfile_merged_new, 'w') as fileout:\n",
    "    newline = ''\n",
    "    for triple in merged:\n",
    "        if triple == '':\n",
    "            continue\n",
    "        else:\n",
    "            fileout.write(newline+triple)\n",
    "            newline = '\\n'\n",
    "    newline = '\\n'\n",
    "    for key in nodeLabels:\n",
    "        try:\n",
    "            newkey = '<'+key+'>'\n",
    "            fileout.write(newline+newkey+' <http://www.w3.org/2000/01/rdf-schema#label> '+_quoteLiteral(nodeLabels[key].replace(' ', '_')))\n",
    "        except Exception as e:\n",
    "            print(e)\n",
    "            print(key, nodeLabels[key])\n",
    "            break"
   ]
  },
  {
   "attachments": {},
   "cell_type": "markdown",
   "metadata": {},
   "source": [
    "### Check for 'None' relations"
   ]
  },
  {
   "cell_type": "code",
   "execution_count": 49,
   "metadata": {},
   "outputs": [],
   "source": [
    "##checking if None relations exist in PKL v3.1.1 (bug found and fixed in PKL v3.1.0)\n",
    "for source, target, key, edge_data in pkl.edges(keys=True, data=True):\n",
    "    if key == URIRef('None'):\n",
    "        print(source, target, key, edge_data)\n",
    "        break"
   ]
  },
  {
   "cell_type": "code",
   "execution_count": null,
   "metadata": {},
   "outputs": [],
   "source": []
  }
 ],
 "metadata": {
  "kernelspec": {
   "display_name": "Python 3.8.0 ('kg-embed')",
   "language": "python",
   "name": "python3"
  },
  "language_info": {
   "codemirror_mode": {
    "name": "ipython",
    "version": 3
   },
   "file_extension": ".py",
   "mimetype": "text/x-python",
   "name": "python",
   "nbconvert_exporter": "python",
   "pygments_lexer": "ipython3",
   "version": "3.6.13"
  },
  "orig_nbformat": 4,
  "vscode": {
   "interpreter": {
    "hash": "96e4f617bfd8d41f7b09e4ea5db07380f9a5a2c21add6996766b0d6e42ab68c1"
   }
  }
 },
 "nbformat": 4,
 "nbformat_minor": 2
}
