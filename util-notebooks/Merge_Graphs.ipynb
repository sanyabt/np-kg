{
 "cells": [
  {
   "cell_type": "markdown",
   "metadata": {},
   "source": [
    "## Merge ontology-grounded and literature-based graphs"
   ]
  },
  {
   "cell_type": "code",
   "execution_count": 1,
   "metadata": {},
   "outputs": [],
   "source": [
    "import pandas as pd\n",
    "import numpy as np\n",
    "import pickle\n",
    "from rdflib.namespace import OWL, RDF, RDFS\n",
    "import os\n",
    "import pickle, json\n",
    "\n",
    "#Create networkx graph from triples\n",
    "import glob\n",
    "import hashlib\n",
    "import json\n",
    "import networkx as nx  # type: ignore\n",
    "\n",
    "from rdflib import BNode, Graph, Literal, Namespace, URIRef  # type: ignore\n",
    "from rdflib.namespace import OWL, RDF, RDFS  # type: ignore\n",
    "from rdflib.plugins.serializers.nt import _quoteLiteral  # type: ignore\n",
    "\n",
    "from tqdm import tqdm  # type: ignore"
   ]
  },
  {
   "cell_type": "code",
   "execution_count": 19,
   "metadata": {},
   "outputs": [],
   "source": [
    "def get_stats(g):\n",
    "    nodes = nx.number_of_nodes(g)\n",
    "    edges = nx.number_of_edges(g)\n",
    "    density = nx.density(g)\n",
    "    avg_deg = float(edges)/nodes\n",
    "    print('Number of nodes: ', nodes)\n",
    "    print('Number of edges: ', edges)\n",
    "    print('Density of graph: ', density)\n",
    "    print('Average degree: ', avg_deg)"
   ]
  },
  {
   "cell_type": "code",
   "execution_count": 30,
   "metadata": {},
   "outputs": [],
   "source": [
    "KG_PATH = '../resources/knowledge_graphs/'\n",
    "MR_KG_PATH = '../literature-graphs/output_graphs/'"
   ]
  },
  {
   "cell_type": "markdown",
   "metadata": {},
   "source": [
    "### Merge gpickle graphs"
   ]
  },
  {
   "cell_type": "markdown",
   "id": "e18fd0f1",
   "metadata": {},
   "source": [
    "Load merged machine read graph, PheKnowLator KG and node labels files"
   ]
  },
  {
   "cell_type": "code",
   "execution_count": 12,
   "id": "19f4c100",
   "metadata": {},
   "outputs": [],
   "source": [
    "KG_PATH = '../resources/knowledge_graphs/'\n",
    "MR_PATH = '../literature-graphs/output_graphs/'\n",
    "KG_NAME = 'PheKnowLator_v3.1.0_full_instance_inverseRelations_OWLNETS_NetworkxMultiDiGraph.gpickle'\n",
    "MR_KG_NAME = 'machine_read_merged_v2.0.0.gpickle'"
   ]
  },
  {
   "cell_type": "code",
   "execution_count": 5,
   "id": "26890692",
   "metadata": {},
   "outputs": [],
   "source": [
    "NodeLabelsFilePL = 'PheKnowLator_v3.1.0_full_instance_inverseRelations_OWLNETS_NodeLabels.txt'\n",
    "NodeLabelsFileMR = 'machine_read_merged_v2.0.0_NodeLabels.pickle'"
   ]
  },
  {
   "cell_type": "code",
   "execution_count": 6,
   "id": "32cfbe92",
   "metadata": {},
   "outputs": [
    {
     "data": {
      "text/html": [
       "<div>\n",
       "<style scoped>\n",
       "    .dataframe tbody tr th:only-of-type {\n",
       "        vertical-align: middle;\n",
       "    }\n",
       "\n",
       "    .dataframe tbody tr th {\n",
       "        vertical-align: top;\n",
       "    }\n",
       "\n",
       "    .dataframe thead th {\n",
       "        text-align: right;\n",
       "    }\n",
       "</style>\n",
       "<table border=\"1\" class=\"dataframe\">\n",
       "  <thead>\n",
       "    <tr style=\"text-align: right;\">\n",
       "      <th></th>\n",
       "      <th>entity_type</th>\n",
       "      <th>integer_id</th>\n",
       "      <th>entity_uri</th>\n",
       "      <th>label</th>\n",
       "      <th>description/definition</th>\n",
       "      <th>synonym</th>\n",
       "    </tr>\n",
       "  </thead>\n",
       "  <tbody>\n",
       "    <tr>\n",
       "      <th>0</th>\n",
       "      <td>NODES</td>\n",
       "      <td>1000933</td>\n",
       "      <td>&lt;https://uswest.ensembl.org/Homo_sapiens/Trans...</td>\n",
       "      <td>THEMIS2-207</td>\n",
       "      <td>Transcript THEMIS2-207 is classified as type '...</td>\n",
       "      <td>None</td>\n",
       "    </tr>\n",
       "    <tr>\n",
       "      <th>1</th>\n",
       "      <td>NODES</td>\n",
       "      <td>908489</td>\n",
       "      <td>&lt;http://purl.obolibrary.org/obo/CHEBI_177842&gt;</td>\n",
       "      <td>nostocyclamide</td>\n",
       "      <td>A keratan 6'-sulfate that has formula C20H22N6...</td>\n",
       "      <td>(4S,18R)-4,7-dimethyl-18-propan-2-yl-6-oxa-13,...</td>\n",
       "    </tr>\n",
       "    <tr>\n",
       "      <th>2</th>\n",
       "      <td>NODES</td>\n",
       "      <td>511717</td>\n",
       "      <td>&lt;http://purl.obolibrary.org/obo/PR_Q93V61&gt;</td>\n",
       "      <td>phospholipase A(1) LCAT3 (Arabidopsis thaliana)</td>\n",
       "      <td>A protein that is a translation product of the...</td>\n",
       "      <td>At-LCAT3|LCAT3|T21P5.27|lecithin-cholesterol a...</td>\n",
       "    </tr>\n",
       "    <tr>\n",
       "      <th>3</th>\n",
       "      <td>NODES</td>\n",
       "      <td>459007</td>\n",
       "      <td>&lt;https://www.ncbi.nlm.nih.gov/snp/rs771399009&gt;</td>\n",
       "      <td>NM_003995.4(NPR2):c.2351G&gt;A (p.Gly784Asp)</td>\n",
       "      <td>This variant is a germline single nucleotide v...</td>\n",
       "      <td>None</td>\n",
       "    </tr>\n",
       "    <tr>\n",
       "      <th>4</th>\n",
       "      <td>NODES</td>\n",
       "      <td>1039541</td>\n",
       "      <td>&lt;http://purl.obolibrary.org/obo/PR_P97792-1&gt;</td>\n",
       "      <td>coxsackievirus and adenovirus receptor homolog...</td>\n",
       "      <td>A coxsackievirus and adenovirus receptor isofo...</td>\n",
       "      <td>mCXADR/iso:1</td>\n",
       "    </tr>\n",
       "  </tbody>\n",
       "</table>\n",
       "</div>"
      ],
      "text/plain": [
       "  entity_type  integer_id                                         entity_uri  \\\n",
       "0       NODES     1000933  <https://uswest.ensembl.org/Homo_sapiens/Trans...   \n",
       "1       NODES      908489      <http://purl.obolibrary.org/obo/CHEBI_177842>   \n",
       "2       NODES      511717         <http://purl.obolibrary.org/obo/PR_Q93V61>   \n",
       "3       NODES      459007     <https://www.ncbi.nlm.nih.gov/snp/rs771399009>   \n",
       "4       NODES     1039541       <http://purl.obolibrary.org/obo/PR_P97792-1>   \n",
       "\n",
       "                                               label  \\\n",
       "0                                        THEMIS2-207   \n",
       "1                                     nostocyclamide   \n",
       "2    phospholipase A(1) LCAT3 (Arabidopsis thaliana)   \n",
       "3          NM_003995.4(NPR2):c.2351G>A (p.Gly784Asp)   \n",
       "4  coxsackievirus and adenovirus receptor homolog...   \n",
       "\n",
       "                              description/definition  \\\n",
       "0  Transcript THEMIS2-207 is classified as type '...   \n",
       "1  A keratan 6'-sulfate that has formula C20H22N6...   \n",
       "2  A protein that is a translation product of the...   \n",
       "3  This variant is a germline single nucleotide v...   \n",
       "4  A coxsackievirus and adenovirus receptor isofo...   \n",
       "\n",
       "                                             synonym  \n",
       "0                                               None  \n",
       "1  (4S,18R)-4,7-dimethyl-18-propan-2-yl-6-oxa-13,...  \n",
       "2  At-LCAT3|LCAT3|T21P5.27|lecithin-cholesterol a...  \n",
       "3                                               None  \n",
       "4                                       mCXADR/iso:1  "
      ]
     },
     "execution_count": 6,
     "metadata": {},
     "output_type": "execute_result"
    }
   ],
   "source": [
    "nodespl = pd.read_csv(KG_PATH+NodeLabelsFilePL, sep='\\t')\n",
    "nodespl.head()"
   ]
  },
  {
   "cell_type": "code",
   "execution_count": 7,
   "id": "08bee9ec",
   "metadata": {},
   "outputs": [
    {
     "data": {
      "text/html": [
       "<div>\n",
       "<style scoped>\n",
       "    .dataframe tbody tr th:only-of-type {\n",
       "        vertical-align: middle;\n",
       "    }\n",
       "\n",
       "    .dataframe tbody tr th {\n",
       "        vertical-align: top;\n",
       "    }\n",
       "\n",
       "    .dataframe thead th {\n",
       "        text-align: right;\n",
       "    }\n",
       "</style>\n",
       "<table border=\"1\" class=\"dataframe\">\n",
       "  <thead>\n",
       "    <tr style=\"text-align: right;\">\n",
       "      <th></th>\n",
       "      <th>entity_type</th>\n",
       "      <th>integer_id</th>\n",
       "      <th>entity_uri</th>\n",
       "      <th>label</th>\n",
       "      <th>description/definition</th>\n",
       "      <th>synonym</th>\n",
       "    </tr>\n",
       "  </thead>\n",
       "  <tbody>\n",
       "  </tbody>\n",
       "</table>\n",
       "</div>"
      ],
      "text/plain": [
       "Empty DataFrame\n",
       "Columns: [entity_type, integer_id, entity_uri, label, description/definition, synonym]\n",
       "Index: []"
      ]
     },
     "execution_count": 7,
     "metadata": {},
     "output_type": "execute_result"
    }
   ],
   "source": [
    "nodespl.loc[nodespl['entity_uri'].isna()]"
   ]
  },
  {
   "cell_type": "code",
   "execution_count": 8,
   "id": "bd258088",
   "metadata": {},
   "outputs": [
    {
     "data": {
      "text/plain": [
       "(1087706, 6)"
      ]
     },
     "execution_count": 8,
     "metadata": {},
     "output_type": "execute_result"
    }
   ],
   "source": [
    "nodespl.shape"
   ]
  },
  {
   "cell_type": "code",
   "execution_count": 9,
   "id": "9abced75",
   "metadata": {},
   "outputs": [
    {
     "data": {
      "text/plain": [
       "1087706"
      ]
     },
     "execution_count": 9,
     "metadata": {},
     "output_type": "execute_result"
    }
   ],
   "source": [
    "nodespldict = {}\n",
    "for i in range(len(nodespl.index)):\n",
    "    #entity_type = nodespl.at[i, 'entity_type']\n",
    "    entity_uri = nodespl.at[i, 'entity_uri']\n",
    "    if isinstance(entity_uri, str):\n",
    "        entity_uri = entity_uri.replace('<','').replace('>','')\n",
    "        nodelabel = nodespl.at[i, 'label']\n",
    "        if entity_uri not in nodespldict:\n",
    "            nodespldict[entity_uri] = nodelabel\n",
    "        #nodespldict[entity_uri]['entity_type'] = entity_type\n",
    "len(nodespldict)"
   ]
  },
  {
   "cell_type": "code",
   "execution_count": 10,
   "metadata": {},
   "outputs": [
    {
     "name": "stdout",
     "output_type": "stream",
     "text": [
      "https://uswest.ensembl.org/Homo_sapiens/Transcript/Summary?t=ENST00000456990 THEMIS2-207\n"
     ]
    }
   ],
   "source": [
    "for key in nodespldict:\n",
    "    print(key, nodespldict[key])\n",
    "    break"
   ]
  },
  {
   "cell_type": "code",
   "execution_count": 10,
   "metadata": {},
   "outputs": [
    {
     "data": {
      "text/plain": [
       "387263"
      ]
     },
     "execution_count": 10,
     "metadata": {},
     "output_type": "execute_result"
    }
   ],
   "source": [
    "##fix foreign characters with bad_node_patch.json - not needed in v3.1.0\n",
    "#with open(KG_PATH+'bad_node_patch.json') as f:\n",
    "#    bad_node_patch = json.load(f)\n",
    "#len(bad_node_patch)\n",
    "# for key in bad_node_patch:\n",
    "#    newkey = key.replace('<','').replace('>','')\n",
    "#    if newkey in nodespldict:\n",
    "#        print(newkey)\n",
    "#        print(bad_node_patch[key])\n",
    "#        print(nodespldict[newkey])\n",
    "#        break\n",
    "##fix foreign characters in nodespldict with bad_node_patch.json\n",
    "#count = 0\n",
    "#for key in bad_node_patch:\n",
    "#    newkey = key.replace('<','').replace('>','')\n",
    "#    if newkey in nodespldict:\n",
    "#        nodespldict[newkey] = bad_node_patch[key]['label']\n",
    "#        count += 1\n",
    "#print(count)"
   ]
  },
  {
   "cell_type": "code",
   "execution_count": 13,
   "id": "11460ae5",
   "metadata": {},
   "outputs": [
    {
     "data": {
      "text/plain": [
       "8758"
      ]
     },
     "execution_count": 13,
     "metadata": {},
     "output_type": "execute_result"
    }
   ],
   "source": [
    "import pickle\n",
    "with open(MR_PATH+NodeLabelsFileMR, 'rb') as filep:\n",
    "    nodesmr = pickle.load(filep)\n",
    "len(nodesmr)"
   ]
  },
  {
   "cell_type": "code",
   "execution_count": 14,
   "metadata": {},
   "outputs": [
    {
     "name": "stdout",
     "output_type": "stream",
     "text": [
      "http://purl.obolibrary.org/obo/CHEBI_38559 {'entity_type': 'NODES', 'label': 'Cytochrome P450', 'cui': 'C0010762'}\n"
     ]
    }
   ],
   "source": [
    "for key in nodesmr:\n",
    "    print(key, nodesmr[key])\n",
    "    break"
   ]
  },
  {
   "cell_type": "code",
   "execution_count": 15,
   "id": "824dcd08",
   "metadata": {},
   "outputs": [
    {
     "data": {
      "text/plain": [
       "1088248"
      ]
     },
     "execution_count": 15,
     "metadata": {},
     "output_type": "execute_result"
    }
   ],
   "source": [
    "##combine node labels from both KGs\n",
    "for key in nodesmr:\n",
    "    if key not in nodespldict:\n",
    "        nodespldict[key] = nodesmr[key]['label']\n",
    "len(nodespldict)"
   ]
  },
  {
   "cell_type": "code",
   "execution_count": 16,
   "id": "067eb579",
   "metadata": {},
   "outputs": [],
   "source": [
    "with open(KG_PATH+'nodeLabels_v2.0.0.pickle', 'wb') as filep:\n",
    "    pickle.dump(nodespldict, filep)"
   ]
  },
  {
   "cell_type": "code",
   "execution_count": 17,
   "id": "eaf92bcd",
   "metadata": {},
   "outputs": [],
   "source": [
    "nodeLabels = nodespldict"
   ]
  },
  {
   "cell_type": "code",
   "execution_count": 18,
   "id": "6ed2c779",
   "metadata": {},
   "outputs": [],
   "source": [
    "##read in PL graph\n",
    "pkl = nx.read_gpickle(KG_PATH+KG_NAME)"
   ]
  },
  {
   "cell_type": "code",
   "execution_count": 20,
   "id": "a0e5ebd4",
   "metadata": {},
   "outputs": [
    {
     "name": "stdout",
     "output_type": "stream",
     "text": [
      "Number of nodes:  1089614\n",
      "Number of edges:  7632027\n",
      "Density of graph:  6.428282398477236e-06\n",
      "Average degree:  7.004340069051977\n"
     ]
    }
   ],
   "source": [
    "#v1.0.1: 980240, 7765868, 8.082125806864853e-06, 7.922414918795397\n",
    "get_stats(pkl)"
   ]
  },
  {
   "cell_type": "code",
   "execution_count": 21,
   "id": "3b7933e8",
   "metadata": {},
   "outputs": [],
   "source": [
    "mrkg = nx.read_gpickle(MR_PATH+MR_KG_NAME)"
   ]
  },
  {
   "cell_type": "code",
   "execution_count": 22,
   "id": "9226db9e",
   "metadata": {},
   "outputs": [
    {
     "name": "stdout",
     "output_type": "stream",
     "text": [
      "Number of nodes:  8782\n",
      "Number of edges:  84569\n",
      "Density of graph:  0.0010966645002845241\n",
      "Average degree:  9.629810976998407\n"
     ]
    }
   ],
   "source": [
    "get_stats(mrkg)"
   ]
  },
  {
   "cell_type": "code",
   "execution_count": 23,
   "id": "56d74467",
   "metadata": {},
   "outputs": [],
   "source": [
    "##combine graphs\n",
    "nxgraph = nx.compose_all([pkl, mrkg])"
   ]
  },
  {
   "cell_type": "code",
   "execution_count": 24,
   "id": "02eb7c55",
   "metadata": {},
   "outputs": [
    {
     "name": "stdout",
     "output_type": "stream",
     "text": [
      "Number of nodes:  1090173\n",
      "Number of edges:  7716284\n",
      "Density of graph:  6.492586709514752e-06\n",
      "Average degree:  7.078036238285116\n"
     ]
    }
   ],
   "source": [
    "get_stats(nxgraph)"
   ]
  },
  {
   "cell_type": "code",
   "execution_count": 25,
   "id": "5e8fb7d8",
   "metadata": {},
   "outputs": [],
   "source": [
    "##save graph\n",
    "OUTFILENAME = 'NP-KG_v2.0.0.gpickle'\n",
    "nx.write_gpickle(nxgraph, KG_PATH+OUTFILENAME)"
   ]
  },
  {
   "cell_type": "markdown",
   "metadata": {},
   "source": [
    "### Merge serialized graphs"
   ]
  },
  {
   "cell_type": "code",
   "execution_count": 32,
   "id": "d8ee0b36-fd85-44f1-9499-05875ce80c32",
   "metadata": {},
   "outputs": [],
   "source": [
    "pl_file = KG_PATH+'PheKnowLator_v3.1.0_full_instance_inverseRelations_OWLNETS.nt'\n",
    "mr_file = MR_KG_PATH+'machine_read_merged_with_closure_v2.0.0.nt'\n",
    "outfile_merged = KG_PATH+'NP-KG_v2.0.0.nt'"
   ]
  },
  {
   "cell_type": "code",
   "execution_count": 27,
   "id": "f954d304-f74a-4b4d-9543-f56d87a18784",
   "metadata": {},
   "outputs": [],
   "source": [
    "with open(pl_file,'r') as filep:\n",
    "    g = filep.read()\n",
    "pl = g.split('\\n')"
   ]
  },
  {
   "cell_type": "code",
   "execution_count": 28,
   "id": "693d6d9b-8958-4b6d-8ef8-1873e2edb5ae",
   "metadata": {},
   "outputs": [
    {
     "data": {
      "text/plain": [
       "7632028"
      ]
     },
     "execution_count": 28,
     "metadata": {},
     "output_type": "execute_result"
    }
   ],
   "source": [
    "len(pl)"
   ]
  },
  {
   "cell_type": "code",
   "execution_count": 33,
   "id": "a9604eb6-6c2b-4aa6-a4ef-b977f44109df",
   "metadata": {},
   "outputs": [],
   "source": [
    "with open(mr_file,'r') as filem:\n",
    "    g = filem.read()\n",
    "mr = g.split('\\n')"
   ]
  },
  {
   "cell_type": "code",
   "execution_count": 34,
   "id": "b139b32c-a49b-4031-9d1e-90a0a6aebfee",
   "metadata": {},
   "outputs": [
    {
     "data": {
      "text/plain": [
       "107056"
      ]
     },
     "execution_count": 34,
     "metadata": {},
     "output_type": "execute_result"
    }
   ],
   "source": [
    "len(mr)"
   ]
  },
  {
   "cell_type": "code",
   "execution_count": 37,
   "id": "b9dd07ed-3c7d-4239-9e45-1f515a864f59",
   "metadata": {},
   "outputs": [
    {
     "data": {
      "text/plain": [
       "'<http://purl.obolibrary.org/obo/CHEBI_47519> <http://purl.obolibrary.org/obo/RO_0002436> <http://purl.obolibrary.org/obo/CHEBI_6931> .'"
      ]
     },
     "execution_count": 37,
     "metadata": {},
     "output_type": "execute_result"
    }
   ],
   "source": [
    "mr[-2]"
   ]
  },
  {
   "cell_type": "code",
   "execution_count": 38,
   "id": "ab870d0c-f4eb-471b-b79b-d83c591f32dc",
   "metadata": {},
   "outputs": [],
   "source": [
    "##not writing labels to file\n",
    "with open(outfile_merged, 'w') as fileout:\n",
    "    newline = ''\n",
    "    for i in range(0, len(pl)-1):\n",
    "        if pl[i] == '':\n",
    "            continue\n",
    "        else:\n",
    "            fileout.write(newline+pl[i])\n",
    "            newline = '\\n'\n",
    "    newline = '\\n'\n",
    "    for i in range(0, len(mr)-1):\n",
    "        if 'label' in mr[i] or mr[i] == '':\n",
    "            continue\n",
    "        else:\n",
    "            fileout.write(newline+mr[i])\n",
    "            newline = '\\n'\n",
    "fileout.close()"
   ]
  },
  {
   "cell_type": "code",
   "execution_count": null,
   "id": "26101ec1-5e0b-4080-b671-d7d283dd842d",
   "metadata": {},
   "outputs": [],
   "source": [
    "#merged == 21725642 ()\n",
    "#no labels = 21720940"
   ]
  },
  {
   "cell_type": "code",
   "execution_count": 39,
   "id": "5086255d-0392-473d-b2ea-a9b827bc877a",
   "metadata": {},
   "outputs": [
    {
     "data": {
      "text/plain": [
       "7727497"
      ]
     },
     "execution_count": 39,
     "metadata": {},
     "output_type": "execute_result"
    }
   ],
   "source": [
    "##check file\n",
    "with open(outfile_merged, 'r') as filein:\n",
    "    g = filein.read()\n",
    "merged = g.split('\\n')\n",
    "len(merged)"
   ]
  },
  {
   "cell_type": "code",
   "execution_count": 40,
   "id": "088ee974-4646-457c-891f-d19d35d788ee",
   "metadata": {},
   "outputs": [
    {
     "data": {
      "text/plain": [
       "'<http://purl.obolibrary.org/obo/CHEBI_47519> <http://purl.obolibrary.org/obo/RO_0002436> <http://purl.obolibrary.org/obo/CHEBI_6931> .'"
      ]
     },
     "execution_count": 40,
     "metadata": {},
     "output_type": "execute_result"
    }
   ],
   "source": [
    "merged[-1]"
   ]
  },
  {
   "cell_type": "code",
   "execution_count": 41,
   "id": "588e1ba2-1bf7-4649-a60b-9c7b01fec1c7",
   "metadata": {},
   "outputs": [
    {
     "data": {
      "text/plain": [
       "'<http://purl.obolibrary.org/obo/MONDO_0010777> <http://www.w3.org/2000/01/rdf-schema#subClassOf> <http://purl.obolibrary.org/obo/MONDO_0003847> .'"
      ]
     },
     "execution_count": 41,
     "metadata": {},
     "output_type": "execute_result"
    }
   ],
   "source": [
    "merged[0]"
   ]
  },
  {
   "cell_type": "code",
   "execution_count": null,
   "id": "68596deb-4a8f-4462-b167-b42165696f10",
   "metadata": {},
   "outputs": [],
   "source": []
  }
 ],
 "metadata": {
  "kernelspec": {
   "display_name": "Python 3.8.0 ('kg-embed')",
   "language": "python",
   "name": "python3"
  },
  "language_info": {
   "codemirror_mode": {
    "name": "ipython",
    "version": 3
   },
   "file_extension": ".py",
   "mimetype": "text/x-python",
   "name": "python",
   "nbconvert_exporter": "python",
   "pygments_lexer": "ipython3",
   "version": "3.6.13"
  },
  "orig_nbformat": 4,
  "vscode": {
   "interpreter": {
    "hash": "96e4f617bfd8d41f7b09e4ea5db07380f9a5a2c21add6996766b0d6e42ab68c1"
   }
  }
 },
 "nbformat": 4,
 "nbformat_minor": 2
}
