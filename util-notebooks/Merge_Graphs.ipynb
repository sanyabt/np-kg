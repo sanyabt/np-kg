{
 "cells": [
  {
   "cell_type": "markdown",
   "metadata": {},
   "source": [
    "## Merge ontology-grounded and literature-based graphs"
   ]
  },
  {
   "cell_type": "code",
   "execution_count": 1,
   "metadata": {},
   "outputs": [],
   "source": [
    "import pandas as pd\n",
    "import numpy as np\n",
    "import pickle\n",
    "from rdflib.namespace import OWL, RDF, RDFS\n",
    "import os\n",
    "import pickle, json\n",
    "\n",
    "#Create networkx graph from triples\n",
    "import glob\n",
    "import hashlib\n",
    "import json\n",
    "import networkx as nx  # type: ignore\n",
    "\n",
    "from rdflib import BNode, Graph, Literal, Namespace, URIRef  # type: ignore\n",
    "from rdflib.namespace import OWL, RDF, RDFS  # type: ignore\n",
    "from rdflib.plugins.serializers.nt import _quoteLiteral  # type: ignore\n",
    "\n",
    "from tqdm import tqdm  # type: ignore"
   ]
  },
  {
   "cell_type": "code",
   "execution_count": 3,
   "metadata": {},
   "outputs": [],
   "source": [
    "def get_stats(g):\n",
    "    nodes = nx.number_of_nodes(g)\n",
    "    edges = nx.number_of_edges(g)\n",
    "    density = nx.density(g)\n",
    "    avg_deg = float(edges)/nodes\n",
    "    print('Number of nodes: ', nodes)\n",
    "    print('Number of edges: ', edges)\n",
    "    print('Density of graph: ', density)\n",
    "    print('Average degree: ', avg_deg)"
   ]
  },
  {
   "cell_type": "code",
   "execution_count": 2,
   "metadata": {},
   "outputs": [],
   "source": [
    "KG_PATH = '../resources/knowledge_graphs/'\n",
    "MR_KG_PATH = '../literature-graphs/output_graphs/'"
   ]
  },
  {
   "cell_type": "markdown",
   "metadata": {},
   "source": [
    "### Merge gpickle graphs"
   ]
  },
  {
   "cell_type": "markdown",
   "id": "e18fd0f1",
   "metadata": {},
   "source": [
    "Load merged machine read graph, PheKnowLator KG and node labels files"
   ]
  },
  {
   "cell_type": "code",
   "execution_count": 3,
   "id": "19f4c100",
   "metadata": {},
   "outputs": [],
   "source": [
    "KG_PATH = '../resources/knowledge_graphs/'\n",
    "MR_PATH = '../literature-graphs/output_graphs/'\n",
    "KG_NAME = 'PheKnowLator_v3.1.0_full_instance_inverseRelations_OWLNETS_NetworkxMultiDiGraph.gpickle'\n",
    "MR_KG_NAME = 'machine_read_merged_v2.0.0.gpickle'"
   ]
  },
  {
   "cell_type": "code",
   "execution_count": 4,
   "id": "26890692",
   "metadata": {},
   "outputs": [],
   "source": [
    "NodeLabelsFilePL = 'PheKnowLator_v3.1.0_full_instance_inverseRelations_OWLNETS_NodeLabels.txt'\n",
    "NodeLabelsFileMR = 'machine_read_merged_v2.0.0_NodeLabels.pickle'"
   ]
  },
  {
   "cell_type": "code",
   "execution_count": 7,
   "id": "32cfbe92",
   "metadata": {},
   "outputs": [
    {
     "data": {
      "text/html": [
       "<div>\n",
       "<style scoped>\n",
       "    .dataframe tbody tr th:only-of-type {\n",
       "        vertical-align: middle;\n",
       "    }\n",
       "\n",
       "    .dataframe tbody tr th {\n",
       "        vertical-align: top;\n",
       "    }\n",
       "\n",
       "    .dataframe thead th {\n",
       "        text-align: right;\n",
       "    }\n",
       "</style>\n",
       "<table border=\"1\" class=\"dataframe\">\n",
       "  <thead>\n",
       "    <tr style=\"text-align: right;\">\n",
       "      <th></th>\n",
       "      <th>entity_type</th>\n",
       "      <th>integer_id</th>\n",
       "      <th>entity_uri</th>\n",
       "      <th>label</th>\n",
       "      <th>description/definition</th>\n",
       "      <th>synonym</th>\n",
       "    </tr>\n",
       "  </thead>\n",
       "  <tbody>\n",
       "    <tr>\n",
       "      <th>0</th>\n",
       "      <td>NODES</td>\n",
       "      <td>143063</td>\n",
       "      <td>&lt;https://uswest.ensembl.org/Homo_sapiens/Trans...</td>\n",
       "      <td>NPW-201</td>\n",
       "      <td>Transcript NPW-201 is classified as type 'prot...</td>\n",
       "      <td>None</td>\n",
       "    </tr>\n",
       "    <tr>\n",
       "      <th>1</th>\n",
       "      <td>NODES</td>\n",
       "      <td>675205</td>\n",
       "      <td>&lt;https://reactome.org/content/detail/R-HSA-381...</td>\n",
       "      <td>IGFBP2 binds IGF forming IGF:IGFBP2</td>\n",
       "      <td>None</td>\n",
       "      <td>IGFBP2 binds IGF forming IGF:IGFBP2</td>\n",
       "    </tr>\n",
       "    <tr>\n",
       "      <th>2</th>\n",
       "      <td>NODES</td>\n",
       "      <td>546647</td>\n",
       "      <td>&lt;http://purl.obolibrary.org/obo/PR_000034889&gt;</td>\n",
       "      <td>uncharacterized HTH-type transcriptional regul...</td>\n",
       "      <td>A protein that is a translation product of the...</td>\n",
       "      <td>ybeF</td>\n",
       "    </tr>\n",
       "    <tr>\n",
       "      <th>3</th>\n",
       "      <td>NODES</td>\n",
       "      <td>326737</td>\n",
       "      <td>&lt;http://purl.obolibrary.org/obo/PR_000039150&gt;</td>\n",
       "      <td>probable ATP-dependent RNA helicase DDX6 isofo...</td>\n",
       "      <td>A probable ATP-dependent RNA helicase DDX6 tha...</td>\n",
       "      <td>DDX6/iso:1</td>\n",
       "    </tr>\n",
       "    <tr>\n",
       "      <th>4</th>\n",
       "      <td>NODES</td>\n",
       "      <td>178266</td>\n",
       "      <td>&lt;https://www.ncbi.nlm.nih.gov/snp/rs2048521407&gt;</td>\n",
       "      <td>NM_000419.5(ITGA2B):c.2975_2979del (p.Glu992fs)</td>\n",
       "      <td>This variant is a germline Deletion located on...</td>\n",
       "      <td>None</td>\n",
       "    </tr>\n",
       "  </tbody>\n",
       "</table>\n",
       "</div>"
      ],
      "text/plain": [
       "  entity_type  integer_id                                         entity_uri  \\\n",
       "0       NODES      143063  <https://uswest.ensembl.org/Homo_sapiens/Trans...   \n",
       "1       NODES      675205  <https://reactome.org/content/detail/R-HSA-381...   \n",
       "2       NODES      546647      <http://purl.obolibrary.org/obo/PR_000034889>   \n",
       "3       NODES      326737      <http://purl.obolibrary.org/obo/PR_000039150>   \n",
       "4       NODES      178266    <https://www.ncbi.nlm.nih.gov/snp/rs2048521407>   \n",
       "\n",
       "                                               label  \\\n",
       "0                                            NPW-201   \n",
       "1                IGFBP2 binds IGF forming IGF:IGFBP2   \n",
       "2  uncharacterized HTH-type transcriptional regul...   \n",
       "3  probable ATP-dependent RNA helicase DDX6 isofo...   \n",
       "4    NM_000419.5(ITGA2B):c.2975_2979del (p.Glu992fs)   \n",
       "\n",
       "                              description/definition  \\\n",
       "0  Transcript NPW-201 is classified as type 'prot...   \n",
       "1                                               None   \n",
       "2  A protein that is a translation product of the...   \n",
       "3  A probable ATP-dependent RNA helicase DDX6 tha...   \n",
       "4  This variant is a germline Deletion located on...   \n",
       "\n",
       "                               synonym  \n",
       "0                                 None  \n",
       "1  IGFBP2 binds IGF forming IGF:IGFBP2  \n",
       "2                                 ybeF  \n",
       "3                           DDX6/iso:1  \n",
       "4                                 None  "
      ]
     },
     "execution_count": 7,
     "metadata": {},
     "output_type": "execute_result"
    }
   ],
   "source": [
    "nodespl = pd.read_csv(KG_PATH+NodeLabelsFilePL, sep='\\t')\n",
    "nodespl.head()"
   ]
  },
  {
   "cell_type": "code",
   "execution_count": 8,
   "id": "08bee9ec",
   "metadata": {},
   "outputs": [
    {
     "data": {
      "text/html": [
       "<div>\n",
       "<style scoped>\n",
       "    .dataframe tbody tr th:only-of-type {\n",
       "        vertical-align: middle;\n",
       "    }\n",
       "\n",
       "    .dataframe tbody tr th {\n",
       "        vertical-align: top;\n",
       "    }\n",
       "\n",
       "    .dataframe thead th {\n",
       "        text-align: right;\n",
       "    }\n",
       "</style>\n",
       "<table border=\"1\" class=\"dataframe\">\n",
       "  <thead>\n",
       "    <tr style=\"text-align: right;\">\n",
       "      <th></th>\n",
       "      <th>entity_type</th>\n",
       "      <th>integer_id</th>\n",
       "      <th>entity_uri</th>\n",
       "      <th>label</th>\n",
       "      <th>description/definition</th>\n",
       "      <th>synonym</th>\n",
       "    </tr>\n",
       "  </thead>\n",
       "  <tbody>\n",
       "  </tbody>\n",
       "</table>\n",
       "</div>"
      ],
      "text/plain": [
       "Empty DataFrame\n",
       "Columns: [entity_type, integer_id, entity_uri, label, description/definition, synonym]\n",
       "Index: []"
      ]
     },
     "execution_count": 8,
     "metadata": {},
     "output_type": "execute_result"
    }
   ],
   "source": [
    "nodespl.loc[nodespl['entity_uri'].isna()]"
   ]
  },
  {
   "cell_type": "code",
   "execution_count": 9,
   "id": "bd258088",
   "metadata": {},
   "outputs": [
    {
     "data": {
      "text/plain": [
       "(1077550, 6)"
      ]
     },
     "execution_count": 9,
     "metadata": {},
     "output_type": "execute_result"
    }
   ],
   "source": [
    "nodespl.shape"
   ]
  },
  {
   "cell_type": "code",
   "execution_count": 10,
   "id": "9abced75",
   "metadata": {},
   "outputs": [
    {
     "data": {
      "text/plain": [
       "1077550"
      ]
     },
     "execution_count": 10,
     "metadata": {},
     "output_type": "execute_result"
    }
   ],
   "source": [
    "nodespldict = {}\n",
    "for i in range(len(nodespl.index)):\n",
    "    #entity_type = nodespl.at[i, 'entity_type']\n",
    "    entity_uri = nodespl.at[i, 'entity_uri']\n",
    "    if isinstance(entity_uri, str):\n",
    "        entity_uri = entity_uri.replace('<','').replace('>','')\n",
    "        nodelabel = nodespl.at[i, 'label']\n",
    "        if entity_uri not in nodespldict:\n",
    "            nodespldict[entity_uri] = nodelabel\n",
    "        #nodespldict[entity_uri]['entity_type'] = entity_type\n",
    "len(nodespldict)"
   ]
  },
  {
   "cell_type": "code",
   "execution_count": 11,
   "metadata": {},
   "outputs": [
    {
     "name": "stdout",
     "output_type": "stream",
     "text": [
      "https://uswest.ensembl.org/Homo_sapiens/Transcript/Summary?t=ENST00000566435 NPW-201\n"
     ]
    }
   ],
   "source": [
    "for key in nodespldict:\n",
    "    print(key, nodespldict[key])\n",
    "    break"
   ]
  },
  {
   "cell_type": "code",
   "execution_count": 10,
   "metadata": {},
   "outputs": [
    {
     "data": {
      "text/plain": [
       "387263"
      ]
     },
     "execution_count": 10,
     "metadata": {},
     "output_type": "execute_result"
    }
   ],
   "source": [
    "##fix foreign characters with bad_node_patch.json - fixed in v3.1.0\n",
    "#with open(KG_PATH+'bad_node_patch.json') as f:\n",
    "#    bad_node_patch = json.load(f)\n",
    "#len(bad_node_patch)\n",
    "# for key in bad_node_patch:\n",
    "#    newkey = key.replace('<','').replace('>','')\n",
    "#    if newkey in nodespldict:\n",
    "#        print(newkey)\n",
    "#        print(bad_node_patch[key])\n",
    "#        print(nodespldict[newkey])\n",
    "#        break\n",
    "##fix foreign characters in nodespldict with bad_node_patch.json\n",
    "#count = 0\n",
    "#for key in bad_node_patch:\n",
    "#    newkey = key.replace('<','').replace('>','')\n",
    "#    if newkey in nodespldict:\n",
    "#        nodespldict[newkey] = bad_node_patch[key]['label']\n",
    "#        count += 1\n",
    "#print(count)"
   ]
  },
  {
   "cell_type": "code",
   "execution_count": 12,
   "id": "11460ae5",
   "metadata": {},
   "outputs": [
    {
     "data": {
      "text/plain": [
       "8758"
      ]
     },
     "execution_count": 12,
     "metadata": {},
     "output_type": "execute_result"
    }
   ],
   "source": [
    "import pickle\n",
    "with open(MR_PATH+NodeLabelsFileMR, 'rb') as filep:\n",
    "    nodesmr = pickle.load(filep)\n",
    "len(nodesmr)"
   ]
  },
  {
   "cell_type": "code",
   "execution_count": 13,
   "metadata": {},
   "outputs": [
    {
     "name": "stdout",
     "output_type": "stream",
     "text": [
      "http://purl.obolibrary.org/obo/CHEBI_38559 {'entity_type': 'NODES', 'label': 'Cytochrome P450', 'cui': 'C0010762'}\n"
     ]
    }
   ],
   "source": [
    "for key in nodesmr:\n",
    "    print(key, nodesmr[key])\n",
    "    break"
   ]
  },
  {
   "cell_type": "code",
   "execution_count": 14,
   "id": "824dcd08",
   "metadata": {},
   "outputs": [
    {
     "data": {
      "text/plain": [
       "1078163"
      ]
     },
     "execution_count": 14,
     "metadata": {},
     "output_type": "execute_result"
    }
   ],
   "source": [
    "##combine node labels from both KGs\n",
    "for key in nodesmr:\n",
    "    if key not in nodespldict:\n",
    "        nodespldict[key] = nodesmr[key]['label']\n",
    "len(nodespldict)"
   ]
  },
  {
   "cell_type": "code",
   "execution_count": 15,
   "id": "067eb579",
   "metadata": {},
   "outputs": [],
   "source": [
    "with open(KG_PATH+'nodeLabels_v2.0.0.pickle', 'wb') as filep:\n",
    "    pickle.dump(nodespldict, filep)"
   ]
  },
  {
   "cell_type": "code",
   "execution_count": 16,
   "id": "eaf92bcd",
   "metadata": {},
   "outputs": [],
   "source": [
    "nodeLabels = nodespldict"
   ]
  },
  {
   "cell_type": "code",
   "execution_count": 17,
   "id": "6ed2c779",
   "metadata": {},
   "outputs": [],
   "source": [
    "##read in PL graph\n",
    "pkl = nx.read_gpickle(KG_PATH+KG_NAME)"
   ]
  },
  {
   "cell_type": "code",
   "execution_count": 18,
   "id": "a0e5ebd4",
   "metadata": {},
   "outputs": [
    {
     "name": "stdout",
     "output_type": "stream",
     "text": [
      "Number of nodes:  1089614\n",
      "Number of edges:  7850306\n",
      "Density of graph:  6.612133825320617e-06\n",
      "Average degree:  7.204666973809074\n"
     ]
    }
   ],
   "source": [
    "#v1.0.1: 980240, 7765868, 8.082125806864853e-06, 7.922414918795397\n",
    "get_stats(pkl)"
   ]
  },
  {
   "cell_type": "code",
   "execution_count": 19,
   "id": "3b7933e8",
   "metadata": {},
   "outputs": [],
   "source": [
    "mrkg = nx.read_gpickle(MR_PATH+MR_KG_NAME)"
   ]
  },
  {
   "cell_type": "code",
   "execution_count": 20,
   "id": "9226db9e",
   "metadata": {},
   "outputs": [
    {
     "name": "stdout",
     "output_type": "stream",
     "text": [
      "Number of nodes:  8782\n",
      "Number of edges:  84569\n",
      "Density of graph:  0.0010966645002845241\n",
      "Average degree:  9.629810976998407\n"
     ]
    }
   ],
   "source": [
    "get_stats(mrkg)"
   ]
  },
  {
   "cell_type": "code",
   "execution_count": 21,
   "id": "56d74467",
   "metadata": {},
   "outputs": [],
   "source": [
    "##combine graphs\n",
    "nxgraph = nx.compose_all([pkl, mrkg])"
   ]
  },
  {
   "cell_type": "code",
   "execution_count": 22,
   "id": "02eb7c55",
   "metadata": {},
   "outputs": [
    {
     "name": "stdout",
     "output_type": "stream",
     "text": [
      "Number of nodes:  1090173\n",
      "Number of edges:  7934518\n",
      "Density of graph:  6.676211776705675e-06\n",
      "Average degree:  7.278219145034779\n"
     ]
    }
   ],
   "source": [
    "get_stats(nxgraph)"
   ]
  },
  {
   "cell_type": "code",
   "execution_count": 23,
   "id": "5e8fb7d8",
   "metadata": {},
   "outputs": [],
   "source": [
    "##save graph\n",
    "OUTFILENAME = 'NP-KG_v2.0.0.gpickle'\n",
    "nx.write_gpickle(nxgraph, KG_PATH+OUTFILENAME)"
   ]
  },
  {
   "attachments": {},
   "cell_type": "markdown",
   "metadata": {},
   "source": [
    "### Save node labels as TSV"
   ]
  },
  {
   "cell_type": "code",
   "execution_count": 5,
   "metadata": {},
   "outputs": [
    {
     "data": {
      "text/plain": [
       "1078163"
      ]
     },
     "execution_count": 5,
     "metadata": {},
     "output_type": "execute_result"
    }
   ],
   "source": [
    "with open(KG_PATH+'nodeLabels_v2.0.0.pickle', 'rb') as filep:\n",
    "    nodeLabels = pickle.load(filep)\n",
    "len(nodeLabels)"
   ]
  },
  {
   "cell_type": "code",
   "execution_count": 7,
   "metadata": {},
   "outputs": [
    {
     "data": {
      "text/html": [
       "<div>\n",
       "<style scoped>\n",
       "    .dataframe tbody tr th:only-of-type {\n",
       "        vertical-align: middle;\n",
       "    }\n",
       "\n",
       "    .dataframe tbody tr th {\n",
       "        vertical-align: top;\n",
       "    }\n",
       "\n",
       "    .dataframe thead th {\n",
       "        text-align: right;\n",
       "    }\n",
       "</style>\n",
       "<table border=\"1\" class=\"dataframe\">\n",
       "  <thead>\n",
       "    <tr style=\"text-align: right;\">\n",
       "      <th></th>\n",
       "      <th>label</th>\n",
       "    </tr>\n",
       "  </thead>\n",
       "  <tbody>\n",
       "    <tr>\n",
       "      <th>https://uswest.ensembl.org/Homo_sapiens/Transcript/Summary?t=ENST00000566435</th>\n",
       "      <td>NPW-201</td>\n",
       "    </tr>\n",
       "    <tr>\n",
       "      <th>https://reactome.org/content/detail/R-HSA-381412</th>\n",
       "      <td>IGFBP2 binds IGF forming IGF:IGFBP2</td>\n",
       "    </tr>\n",
       "    <tr>\n",
       "      <th>http://purl.obolibrary.org/obo/PR_000034889</th>\n",
       "      <td>uncharacterized HTH-type transcriptional regul...</td>\n",
       "    </tr>\n",
       "    <tr>\n",
       "      <th>http://purl.obolibrary.org/obo/PR_000039150</th>\n",
       "      <td>probable ATP-dependent RNA helicase DDX6 isofo...</td>\n",
       "    </tr>\n",
       "    <tr>\n",
       "      <th>https://www.ncbi.nlm.nih.gov/snp/rs2048521407</th>\n",
       "      <td>NM_000419.5(ITGA2B):c.2975_2979del (p.Glu992fs)</td>\n",
       "    </tr>\n",
       "  </tbody>\n",
       "</table>\n",
       "</div>"
      ],
      "text/plain": [
       "                                                                                                label\n",
       "https://uswest.ensembl.org/Homo_sapiens/Transcr...                                            NPW-201\n",
       "https://reactome.org/content/detail/R-HSA-381412                  IGFBP2 binds IGF forming IGF:IGFBP2\n",
       "http://purl.obolibrary.org/obo/PR_000034889         uncharacterized HTH-type transcriptional regul...\n",
       "http://purl.obolibrary.org/obo/PR_000039150         probable ATP-dependent RNA helicase DDX6 isofo...\n",
       "https://www.ncbi.nlm.nih.gov/snp/rs2048521407         NM_000419.5(ITGA2B):c.2975_2979del (p.Glu992fs)"
      ]
     },
     "execution_count": 7,
     "metadata": {},
     "output_type": "execute_result"
    }
   ],
   "source": [
    "##convert dictionary to dataframe with columns 'entity_uri' and 'label'\n",
    "nodelabelsdf = pd.DataFrame.from_dict(nodeLabels, orient='index', columns=['label'])\n",
    "nodelabelsdf.head()"
   ]
  },
  {
   "cell_type": "code",
   "execution_count": 8,
   "metadata": {},
   "outputs": [
    {
     "data": {
      "text/html": [
       "<div>\n",
       "<style scoped>\n",
       "    .dataframe tbody tr th:only-of-type {\n",
       "        vertical-align: middle;\n",
       "    }\n",
       "\n",
       "    .dataframe tbody tr th {\n",
       "        vertical-align: top;\n",
       "    }\n",
       "\n",
       "    .dataframe thead th {\n",
       "        text-align: right;\n",
       "    }\n",
       "</style>\n",
       "<table border=\"1\" class=\"dataframe\">\n",
       "  <thead>\n",
       "    <tr style=\"text-align: right;\">\n",
       "      <th></th>\n",
       "      <th>index</th>\n",
       "      <th>label</th>\n",
       "    </tr>\n",
       "  </thead>\n",
       "  <tbody>\n",
       "    <tr>\n",
       "      <th>0</th>\n",
       "      <td>https://uswest.ensembl.org/Homo_sapiens/Transc...</td>\n",
       "      <td>NPW-201</td>\n",
       "    </tr>\n",
       "    <tr>\n",
       "      <th>1</th>\n",
       "      <td>https://reactome.org/content/detail/R-HSA-381412</td>\n",
       "      <td>IGFBP2 binds IGF forming IGF:IGFBP2</td>\n",
       "    </tr>\n",
       "    <tr>\n",
       "      <th>2</th>\n",
       "      <td>http://purl.obolibrary.org/obo/PR_000034889</td>\n",
       "      <td>uncharacterized HTH-type transcriptional regul...</td>\n",
       "    </tr>\n",
       "    <tr>\n",
       "      <th>3</th>\n",
       "      <td>http://purl.obolibrary.org/obo/PR_000039150</td>\n",
       "      <td>probable ATP-dependent RNA helicase DDX6 isofo...</td>\n",
       "    </tr>\n",
       "    <tr>\n",
       "      <th>4</th>\n",
       "      <td>https://www.ncbi.nlm.nih.gov/snp/rs2048521407</td>\n",
       "      <td>NM_000419.5(ITGA2B):c.2975_2979del (p.Glu992fs)</td>\n",
       "    </tr>\n",
       "  </tbody>\n",
       "</table>\n",
       "</div>"
      ],
      "text/plain": [
       "                                               index  \\\n",
       "0  https://uswest.ensembl.org/Homo_sapiens/Transc...   \n",
       "1   https://reactome.org/content/detail/R-HSA-381412   \n",
       "2        http://purl.obolibrary.org/obo/PR_000034889   \n",
       "3        http://purl.obolibrary.org/obo/PR_000039150   \n",
       "4      https://www.ncbi.nlm.nih.gov/snp/rs2048521407   \n",
       "\n",
       "                                               label  \n",
       "0                                            NPW-201  \n",
       "1                IGFBP2 binds IGF forming IGF:IGFBP2  \n",
       "2  uncharacterized HTH-type transcriptional regul...  \n",
       "3  probable ATP-dependent RNA helicase DDX6 isofo...  \n",
       "4    NM_000419.5(ITGA2B):c.2975_2979del (p.Glu992fs)  "
      ]
     },
     "execution_count": 8,
     "metadata": {},
     "output_type": "execute_result"
    }
   ],
   "source": [
    "nodelabelsdf = nodelabelsdf.reset_index()\n",
    "nodelabelsdf.head()"
   ]
  },
  {
   "cell_type": "code",
   "execution_count": 9,
   "metadata": {},
   "outputs": [
    {
     "data": {
      "text/html": [
       "<div>\n",
       "<style scoped>\n",
       "    .dataframe tbody tr th:only-of-type {\n",
       "        vertical-align: middle;\n",
       "    }\n",
       "\n",
       "    .dataframe tbody tr th {\n",
       "        vertical-align: top;\n",
       "    }\n",
       "\n",
       "    .dataframe thead th {\n",
       "        text-align: right;\n",
       "    }\n",
       "</style>\n",
       "<table border=\"1\" class=\"dataframe\">\n",
       "  <thead>\n",
       "    <tr style=\"text-align: right;\">\n",
       "      <th></th>\n",
       "      <th>entity_uri</th>\n",
       "      <th>label</th>\n",
       "    </tr>\n",
       "  </thead>\n",
       "  <tbody>\n",
       "    <tr>\n",
       "      <th>0</th>\n",
       "      <td>https://uswest.ensembl.org/Homo_sapiens/Transc...</td>\n",
       "      <td>NPW-201</td>\n",
       "    </tr>\n",
       "    <tr>\n",
       "      <th>1</th>\n",
       "      <td>https://reactome.org/content/detail/R-HSA-381412</td>\n",
       "      <td>IGFBP2 binds IGF forming IGF:IGFBP2</td>\n",
       "    </tr>\n",
       "    <tr>\n",
       "      <th>2</th>\n",
       "      <td>http://purl.obolibrary.org/obo/PR_000034889</td>\n",
       "      <td>uncharacterized HTH-type transcriptional regul...</td>\n",
       "    </tr>\n",
       "    <tr>\n",
       "      <th>3</th>\n",
       "      <td>http://purl.obolibrary.org/obo/PR_000039150</td>\n",
       "      <td>probable ATP-dependent RNA helicase DDX6 isofo...</td>\n",
       "    </tr>\n",
       "    <tr>\n",
       "      <th>4</th>\n",
       "      <td>https://www.ncbi.nlm.nih.gov/snp/rs2048521407</td>\n",
       "      <td>NM_000419.5(ITGA2B):c.2975_2979del (p.Glu992fs)</td>\n",
       "    </tr>\n",
       "  </tbody>\n",
       "</table>\n",
       "</div>"
      ],
      "text/plain": [
       "                                          entity_uri  \\\n",
       "0  https://uswest.ensembl.org/Homo_sapiens/Transc...   \n",
       "1   https://reactome.org/content/detail/R-HSA-381412   \n",
       "2        http://purl.obolibrary.org/obo/PR_000034889   \n",
       "3        http://purl.obolibrary.org/obo/PR_000039150   \n",
       "4      https://www.ncbi.nlm.nih.gov/snp/rs2048521407   \n",
       "\n",
       "                                               label  \n",
       "0                                            NPW-201  \n",
       "1                IGFBP2 binds IGF forming IGF:IGFBP2  \n",
       "2  uncharacterized HTH-type transcriptional regul...  \n",
       "3  probable ATP-dependent RNA helicase DDX6 isofo...  \n",
       "4    NM_000419.5(ITGA2B):c.2975_2979del (p.Glu992fs)  "
      ]
     },
     "execution_count": 9,
     "metadata": {},
     "output_type": "execute_result"
    }
   ],
   "source": [
    "##rename index as 'entity_uri'\n",
    "nodelabelsdf = nodelabelsdf.rename(columns={'index':'entity_uri'})\n",
    "nodelabelsdf.head()"
   ]
  },
  {
   "cell_type": "code",
   "execution_count": 10,
   "metadata": {},
   "outputs": [],
   "source": [
    "##save as tsv\n",
    "nodelabelsdf.to_csv(KG_PATH+'nodeLabels_v2.0.0.tsv', sep='\\t', index=False)"
   ]
  },
  {
   "attachments": {},
   "cell_type": "markdown",
   "metadata": {},
   "source": [
    "### Merge serialized graphs - there is some issue with counts in serialized file of PheKnowLator KG"
   ]
  },
  {
   "cell_type": "code",
   "execution_count": 24,
   "id": "d8ee0b36-fd85-44f1-9499-05875ce80c32",
   "metadata": {},
   "outputs": [],
   "source": [
    "pl_file = KG_PATH+'PheKnowLator_v3.1.0_full_instance_inverseRelations_OWLNETS.nt'\n",
    "mr_file = MR_KG_PATH+'machine_read_merged_with_closure_v2.0.0.nt'\n",
    "outfile_merged = KG_PATH+'NP-KG_v2.0.0.nt'"
   ]
  },
  {
   "cell_type": "code",
   "execution_count": 25,
   "id": "f954d304-f74a-4b4d-9543-f56d87a18784",
   "metadata": {},
   "outputs": [],
   "source": [
    "with open(pl_file,'r') as filep:\n",
    "    g = filep.read()\n",
    "pl = g.split('\\n')"
   ]
  },
  {
   "cell_type": "code",
   "execution_count": 26,
   "id": "693d6d9b-8958-4b6d-8ef8-1873e2edb5ae",
   "metadata": {},
   "outputs": [
    {
     "data": {
      "text/plain": [
       "15482334"
      ]
     },
     "execution_count": 26,
     "metadata": {},
     "output_type": "execute_result"
    }
   ],
   "source": [
    "len(pl)"
   ]
  },
  {
   "cell_type": "code",
   "execution_count": 27,
   "id": "a9604eb6-6c2b-4aa6-a4ef-b977f44109df",
   "metadata": {},
   "outputs": [],
   "source": [
    "with open(mr_file,'r') as filem:\n",
    "    g = filem.read()\n",
    "mr = g.split('\\n')"
   ]
  },
  {
   "cell_type": "code",
   "execution_count": 28,
   "id": "b139b32c-a49b-4031-9d1e-90a0a6aebfee",
   "metadata": {},
   "outputs": [
    {
     "data": {
      "text/plain": [
       "107056"
      ]
     },
     "execution_count": 28,
     "metadata": {},
     "output_type": "execute_result"
    }
   ],
   "source": [
    "len(mr)"
   ]
  },
  {
   "cell_type": "code",
   "execution_count": 29,
   "id": "b9dd07ed-3c7d-4239-9e45-1f515a864f59",
   "metadata": {},
   "outputs": [
    {
     "data": {
      "text/plain": [
       "'<http://purl.obolibrary.org/obo/CHEBI_47519> <http://purl.obolibrary.org/obo/RO_0002436> <http://purl.obolibrary.org/obo/CHEBI_6931> .'"
      ]
     },
     "execution_count": 29,
     "metadata": {},
     "output_type": "execute_result"
    }
   ],
   "source": [
    "mr[-2]"
   ]
  },
  {
   "cell_type": "code",
   "execution_count": 30,
   "id": "ab870d0c-f4eb-471b-b79b-d83c591f32dc",
   "metadata": {},
   "outputs": [],
   "source": [
    "##not writing labels to file\n",
    "with open(outfile_merged, 'w') as fileout:\n",
    "    newline = ''\n",
    "    for i in range(0, len(pl)-1):\n",
    "        if pl[i] == '':\n",
    "            continue\n",
    "        else:\n",
    "            fileout.write(newline+pl[i])\n",
    "            newline = '\\n'\n",
    "    newline = '\\n'\n",
    "    for i in range(0, len(mr)-1):\n",
    "        if 'label' in mr[i] or mr[i] == '':\n",
    "            continue\n",
    "        else:\n",
    "            fileout.write(newline+mr[i])\n",
    "            newline = '\\n'\n",
    "fileout.close()"
   ]
  },
  {
   "cell_type": "code",
   "execution_count": 31,
   "id": "26101ec1-5e0b-4080-b671-d7d283dd842d",
   "metadata": {},
   "outputs": [],
   "source": [
    "#merged == 21725642 ()\n",
    "#no labels = 21720940"
   ]
  },
  {
   "cell_type": "code",
   "execution_count": 32,
   "id": "5086255d-0392-473d-b2ea-a9b827bc877a",
   "metadata": {},
   "outputs": [
    {
     "data": {
      "text/plain": [
       "15577803"
      ]
     },
     "execution_count": 32,
     "metadata": {},
     "output_type": "execute_result"
    }
   ],
   "source": [
    "##check file\n",
    "with open(outfile_merged, 'r') as filein:\n",
    "    g = filein.read()\n",
    "merged = g.split('\\n')\n",
    "len(merged)"
   ]
  },
  {
   "cell_type": "code",
   "execution_count": 33,
   "id": "088ee974-4646-457c-891f-d19d35d788ee",
   "metadata": {},
   "outputs": [
    {
     "data": {
      "text/plain": [
       "'<http://purl.obolibrary.org/obo/CHEBI_47519> <http://purl.obolibrary.org/obo/RO_0002436> <http://purl.obolibrary.org/obo/CHEBI_6931> .'"
      ]
     },
     "execution_count": 33,
     "metadata": {},
     "output_type": "execute_result"
    }
   ],
   "source": [
    "merged[-1]"
   ]
  },
  {
   "cell_type": "code",
   "execution_count": 34,
   "id": "588e1ba2-1bf7-4649-a60b-9c7b01fec1c7",
   "metadata": {},
   "outputs": [
    {
     "data": {
      "text/plain": [
       "'<http://purl.obolibrary.org/obo/MONDO_0010777> <http://www.w3.org/2000/01/rdf-schema#subClassOf> <http://purl.obolibrary.org/obo/MONDO_0003847> .'"
      ]
     },
     "execution_count": 34,
     "metadata": {},
     "output_type": "execute_result"
    }
   ],
   "source": [
    "merged[0]"
   ]
  },
  {
   "cell_type": "code",
   "execution_count": null,
   "id": "68596deb-4a8f-4462-b167-b42165696f10",
   "metadata": {},
   "outputs": [],
   "source": []
  }
 ],
 "metadata": {
  "kernelspec": {
   "display_name": "Python 3.8.0 ('kg-embed')",
   "language": "python",
   "name": "python3"
  },
  "language_info": {
   "codemirror_mode": {
    "name": "ipython",
    "version": 3
   },
   "file_extension": ".py",
   "mimetype": "text/x-python",
   "name": "python",
   "nbconvert_exporter": "python",
   "pygments_lexer": "ipython3",
   "version": "3.6.13"
  },
  "orig_nbformat": 4,
  "vscode": {
   "interpreter": {
    "hash": "96e4f617bfd8d41f7b09e4ea5db07380f9a5a2c21add6996766b0d6e42ab68c1"
   }
  }
 },
 "nbformat": 4,
 "nbformat_minor": 2
}
