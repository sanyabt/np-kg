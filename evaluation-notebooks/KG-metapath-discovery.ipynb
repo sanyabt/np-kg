{
 "cells": [
  {
   "cell_type": "markdown",
   "id": "3a233d8d-2956-40c8-8910-e5af3ce14c3c",
   "metadata": {},
   "source": [
    "## Notebook to search metapaths in the KG for clinical case studies.\n",
    "\n",
    "PheKnowLator and MR graphs are combined in the original Path Search notebook and loaded here as the combined graph."
   ]
  },
  {
   "cell_type": "markdown",
   "id": "63d0ccc5-8fbf-4a19-8466-f6418954ddf7",
   "metadata": {
    "tags": []
   },
   "source": [
    "## Meta Path Searches - with predicate restrictions"
   ]
  },
  {
   "cell_type": "code",
   "execution_count": null,
   "id": "f149f626-625e-4390-83c3-81123b1757f4",
   "metadata": {},
   "outputs": [],
   "source": [
    "# # uncomment and run to install any required modules from np-kg/requirements.txt if any of the packages below \n",
    "# give import errors\n",
    "# import sys\n",
    "# !{sys.executable} -m pip install -r requirements.txt"
   ]
  },
  {
   "cell_type": "code",
   "execution_count": null,
   "id": "1f4e7cf1-56aa-4b52-a075-3cc1404cf632",
   "metadata": {},
   "outputs": [],
   "source": [
    "import os\n",
    "import os.path\n",
    "import networkx as nx\n",
    "import json\n",
    "import urllib\n",
    "import traceback\n",
    "from itertools import islice\n",
    "from rdflib import Graph, URIRef, BNode, Namespace, Literal\n",
    "from rdflib.namespace import RDF, OWL\n",
    "from tqdm import tqdm\n",
    "import json"
   ]
  },
  {
   "cell_type": "code",
   "execution_count": null,
   "id": "0c195fb6-1782-4294-92c5-258c4cf79267",
   "metadata": {},
   "outputs": [],
   "source": [
    "import hashlib"
   ]
  },
  {
   "cell_type": "code",
   "execution_count": null,
   "id": "488adaf8-4136-494f-bc0f-2e3f82a8bbe3",
   "metadata": {},
   "outputs": [],
   "source": [
    "import pickle\n",
    "import pandas as pd\n",
    "import numpy as np\n",
    "import KG_path_searches"
   ]
  },
  {
   "cell_type": "code",
   "execution_count": null,
   "id": "c0689ea5-eff1-47db-b131-fd0c4bde684b",
   "metadata": {},
   "outputs": [],
   "source": [
    "KG_PATH = '../resources/knowledge_graphs/'\n",
    "NodeLabelsFile = KG_PATH + 'nodeLabels_v1.0.pickle'\n",
    "KG_NAME_MERGED = 'PheKnowLator_machine_read_merged_instance_based_OWLNETS_v1.0.gpickle'"
   ]
  },
  {
   "cell_type": "code",
   "execution_count": null,
   "id": "afc477eb-0ed3-4695-96f7-28eb1d26e658",
   "metadata": {},
   "outputs": [],
   "source": [
    "with open(NodeLabelsFile, 'rb') as filep:\n",
    "    nodeLabels = pickle.load(filep)"
   ]
  },
  {
   "cell_type": "code",
   "execution_count": null,
   "id": "cd97380d-d24d-4911-a701-fdde6ecca9ef",
   "metadata": {},
   "outputs": [],
   "source": [
    "##READ MERGED GRAPH\n",
    "nx_graph = nx.read_gpickle(KG_PATH+KG_NAME_MERGED)"
   ]
  },
  {
   "cell_type": "code",
   "execution_count": null,
   "id": "2d851324-319b-40c2-81d4-2c7926062d5a",
   "metadata": {},
   "outputs": [],
   "source": [
    "DIR_OUT = ''\n",
    "obo = Namespace('http://purl.obolibrary.org/obo/')\n",
    "napdi = Namespace('http://napdi.org/napdi_srs_imports:')"
   ]
  },
  {
   "cell_type": "code",
   "execution_count": null,
   "id": "812ab146-d5c2-4f7c-b794-b09a540061e4",
   "metadata": {},
   "outputs": [],
   "source": [
    "##read in pickle dictionary with OBO identifiers\n",
    "with open(KG_PATH+'strToOBOdict.pickle','rb') as filep:\n",
    "    obodict = pickle.load(filep)\n",
    "len(obodict)"
   ]
  },
  {
   "cell_type": "code",
   "execution_count": null,
   "id": "62e82a41-d68b-40d4-9cf6-f0a03952c0c2",
   "metadata": {},
   "outputs": [],
   "source": []
  },
  {
   "cell_type": "markdown",
   "id": "0f05277b-1bcb-40fc-a240-8eb4e131a8cd",
   "metadata": {
    "tags": []
   },
   "source": [
    "## Green Tea-Raloxifene"
   ]
  },
  {
   "cell_type": "code",
   "execution_count": null,
   "id": "21a4e40f-0ccc-4931-a46b-91c3407dc6bd",
   "metadata": {},
   "outputs": [],
   "source": [
    "#list of green tea nodes\n",
    "gtnodes = [\n",
    "    obodict['greentea'][0],\n",
    "    obodict['EGCG'][0],\n",
    "    obodict['EGCG'][1],\n",
    "    obodict['ECG'][0],\n",
    "    obodict['epicatechin'][0],\n",
    "    obodict['catechin'][0],\n",
    "    obodict['catechin'][1],\n",
    "    obodict['epigallocatechin'][0],\n",
    "    obodict['gallocatechin'][0],\n",
    "    obodict['gallocatechin'][1]\n",
    "]\n",
    "raloxifene = obo.CHEBI_8772"
   ]
  },
  {
   "cell_type": "code",
   "execution_count": null,
   "id": "8525865b-2de5-4cfc-8719-2508bf05e400",
   "metadata": {},
   "outputs": [],
   "source": [
    "'''RELATIONS OF INTEREST\n",
    "directly regulates activity of2448\n",
    "positively regulates2213\n",
    "capable of regulating2596\n",
    "capable of positively regulating2598\n",
    "interacts with2434\n",
    "molecularly interacts with2436\n",
    "correlated with2610\n",
    "regulates activity of11002\n",
    "is substrate of DIDEO_00000041\n",
    "transports RO_0002020\n",
    "'''\n",
    "relations = [obo.RO_0002610,\n",
    "             obo.RO_0002434,\n",
    "             obo.RO_0002213,\n",
    "             obo.RO_0002448,\n",
    "             obo.RO_0002436,\n",
    "             obo.RO_0011002,\n",
    "             obo.RO_0002596,\n",
    "             obo.RO_0002598,\n",
    "            obo.RO_0002449,\n",
    "            obo.DIDEO_00000041,\n",
    "            obo.RO_0002020]"
   ]
  },
  {
   "cell_type": "code",
   "execution_count": null,
   "id": "7196f488-1864-4b64-a56a-bcd0f6c5533c",
   "metadata": {},
   "outputs": [],
   "source": [
    "#get all neighbors of a node\n",
    "def get_neighbors_meta(nx_graph, node):\n",
    "    neighs = nx.neighbors(nx_graph, node)\n",
    "    neighs_list = []\n",
    "    for item in neighs:\n",
    "        #nodestr = nodeLabels[str(node)]\n",
    "        #neighbor = nodeLabels[str(item)]\n",
    "        edge_result = nx_graph.get_edge_data(node, item)\n",
    "        edge_keys = list(edge_result.keys())\n",
    "        for edge in edge_keys:\n",
    "            edgestr = nodeLabels[str(edge)]\n",
    "            edgevalue = edge_result[edge]\n",
    "            result = [node, edge, item]\n",
    "            if 'source_graph' in edgevalue:\n",
    "                result.append(edgevalue['source_graph'])\n",
    "            if 'timestamp' in edgevalue:\n",
    "                result.append(edgevalue['timestamp'])\n",
    "            neighs_list.append(result)\n",
    "    return neighs_list"
   ]
  },
  {
   "cell_type": "code",
   "execution_count": null,
   "id": "7dbb6124-7ca9-4a52-a685-f1d760bbdcd8",
   "metadata": {},
   "outputs": [],
   "source": [
    "## for nodes of green tea and green tea constituents, get all neighbors with \n",
    "## edge in relations and object in PR or GO\n",
    "gtneighs = {}\n",
    "for node in gtnodes:\n",
    "    if str(node) in nodeLabels:\n",
    "        nodestr = nodeLabels[str(node)]\n",
    "    else:\n",
    "        nodestr = str(node)\n",
    "    neighbors = get_neighbors_meta(nx_graph, node)\n",
    "    if nodestr in gtneighs:\n",
    "        gtneighs[nodestr].extend(neighbors)\n",
    "    else:\n",
    "        gtneighs[nodestr] = neighbors\n",
    "len(gtneighs)"
   ]
  },
  {
   "cell_type": "code",
   "execution_count": null,
   "id": "5885f3d0-6f81-455a-90f2-61202a93f03d",
   "metadata": {},
   "outputs": [],
   "source": [
    "for key in gtneighs:\n",
    "    print(key, len(gtneighs[key]))"
   ]
  },
  {
   "cell_type": "code",
   "execution_count": null,
   "id": "48d4f7ec-e8e8-4607-ad77-9f67d68af5de",
   "metadata": {},
   "outputs": [],
   "source": [
    "##checking if direct edge to nadolol\n",
    "for node in gtnodes:\n",
    "    edge_res = nx_graph.get_edge_data(node, raloxifene)\n",
    "    if edge_res:\n",
    "        print(nodeLabels[str(node)])\n",
    "        print(node)\n",
    "        print(edge_res)"
   ]
  },
  {
   "cell_type": "code",
   "execution_count": null,
   "id": "fd63769f-e444-4a70-aa1e-e3c9099aba3e",
   "metadata": {},
   "outputs": [],
   "source": [
    "#filter neighboring triples to only relations of interest and proteins as objects\n",
    "gtneighs_filt = {}\n",
    "for key in gtneighs:\n",
    "    gtneighs_filt[key] = []\n",
    "    for item in gtneighs[key]:\n",
    "        pred = item[1]\n",
    "        obj_id = str(item[2]).split('/')[-1].split('_')[0]\n",
    "        if pred in relations and obj_id == 'PR':\n",
    "            gtneighs_filt[key].append(item)"
   ]
  },
  {
   "cell_type": "code",
   "execution_count": null,
   "id": "dad8cfea-1b0a-483b-9f0b-0e9a2e7a11e3",
   "metadata": {},
   "outputs": [],
   "source": [
    "for key in gtneighs_filt:\n",
    "    print(key, len(gtneighs_filt[key]))"
   ]
  },
  {
   "cell_type": "code",
   "execution_count": null,
   "id": "711fafad-7aad-4e53-a64e-d8c49c128844",
   "metadata": {},
   "outputs": [],
   "source": [
    "with open(DIR_OUT+'greentea_metapath2.pickle', 'wb') as fileo:\n",
    "    pickle.dump(gtneighs_filt, fileo)"
   ]
  },
  {
   "cell_type": "code",
   "execution_count": null,
   "id": "a8c743cf-a259-44f0-aac7-77331fbbd13c",
   "metadata": {},
   "outputs": [],
   "source": [
    "prlist = []\n",
    "for key in gtneighs_filt:\n",
    "    for item in gtneighs_filt[key]:\n",
    "        prlist.append(item[2])\n",
    "len(prlist)"
   ]
  },
  {
   "cell_type": "code",
   "execution_count": null,
   "id": "65180055-119d-4a16-b17a-b3a595a080eb",
   "metadata": {},
   "outputs": [],
   "source": [
    "prots = list(set(prlist))"
   ]
  },
  {
   "cell_type": "code",
   "execution_count": null,
   "id": "32f2a0ca-3927-4ef8-a312-0bdf7aab4a9a",
   "metadata": {},
   "outputs": [],
   "source": [
    "len(prots)"
   ]
  },
  {
   "cell_type": "code",
   "execution_count": null,
   "id": "7c87c56d-b53c-4e57-a0f1-9311993b8fd6",
   "metadata": {},
   "outputs": [],
   "source": [
    "protslabels = []\n",
    "for item in prots:\n",
    "    if str(item) in nodeLabels:\n",
    "        if isinstance(nodeLabels[str(item)], str):\n",
    "            protslabels.append(nodeLabels[str(item)])\n",
    "        else:\n",
    "            protslabels.append(nodeLabels[str(item)]['label'])\n",
    "    else:\n",
    "        print(item)\n",
    "        protslabels.append(str(item))\n",
    "len(protslabels)"
   ]
  },
  {
   "cell_type": "code",
   "execution_count": null,
   "id": "6bca8f1a-2325-4fdb-b04b-6251b54ec0ac",
   "metadata": {},
   "outputs": [],
   "source": [
    "for item in protslabels:\n",
    "    if isinstance(item, dict):\n",
    "        print(item)"
   ]
  },
  {
   "cell_type": "code",
   "execution_count": null,
   "id": "e865d108-4fa6-4986-88cd-74582532de2a",
   "metadata": {},
   "outputs": [],
   "source": [
    "with open(DIR_OUT+'greentea_protein_labels_with_inhibits.txt', 'w') as file2:\n",
    "    for label in protslabels:\n",
    "        file2.write(label)\n",
    "        file2.write('\\n')"
   ]
  },
  {
   "cell_type": "code",
   "execution_count": null,
   "id": "75f8592b-3970-40e1-a867-027983efeee4",
   "metadata": {},
   "outputs": [],
   "source": [
    "## for nodes of green tea and green tea constituents, get all neighbors with \n",
    "## edge in relations and object in PR or GO\n",
    "protneighs = {}\n",
    "for node in prots:\n",
    "    if str(node) in nodeLabels:\n",
    "        if isinstance(nodeLabels[str(node)], str):\n",
    "            nodestr = nodeLabels[str(node)]\n",
    "        else:\n",
    "            nodestr = nodeLabels[str(node)]['label']\n",
    "    else:\n",
    "        nodestr = str(node)\n",
    "    neighbors = get_neighbors_meta(nx_graph, node)\n",
    "    if nodestr in protneighs:\n",
    "        protneighs[nodestr].extend(neighbors)\n",
    "    else:\n",
    "        protneighs[nodestr] = neighbors\n",
    "len(protneighs)"
   ]
  },
  {
   "cell_type": "code",
   "execution_count": null,
   "id": "9107ae9d-cfc7-4277-8bae-7d840af43a5f",
   "metadata": {},
   "outputs": [],
   "source": [
    "#filter neighboring triples to only relations of interest and proteins as objects\n",
    "prots_filt = []\n",
    "for key in protneighs:\n",
    "    for item in protneighs[key]:\n",
    "        pred = item[1]\n",
    "        obj = item[2]\n",
    "        if pred in relations and obj == raloxifene:\n",
    "            prots_filt.append(key)\n",
    "len(prots_filt)"
   ]
  },
  {
   "cell_type": "code",
   "execution_count": null,
   "id": "da4f5c9c-b829-4750-844d-5c636db24051",
   "metadata": {},
   "outputs": [],
   "source": [
    "prots_filt"
   ]
  },
  {
   "cell_type": "code",
   "execution_count": null,
   "id": "995c04b7-d033-401f-ab2e-6f4fdbef22b7",
   "metadata": {},
   "outputs": [],
   "source": [
    "def get_neighbors(nx_graph, node):\n",
    "    neighs = nx.neighbors(nx_graph, node)\n",
    "    neighs_list = []\n",
    "    for item in neighs:\n",
    "        nodestr = nodeLabels[str(node)]\n",
    "        neighbor = nodeLabels[str(item)]\n",
    "        edge_result = nx_graph.get_edge_data(node, item)\n",
    "        edge_keys = list(edge_result.keys())\n",
    "        for edge in edge_keys:\n",
    "            edgestr = nodeLabels[str(edge)]\n",
    "            edgevalue = edge_result[edge]\n",
    "            result = [nodestr, edgestr, neighbor]\n",
    "            if 'source_graph' in edgevalue:\n",
    "                result.append(edgevalue['source_graph'])\n",
    "            if 'timestamp' in edgevalue:\n",
    "                result.append(edgevalue['timestamp'])\n",
    "            if 'pmid' in edgevalue:\n",
    "                result.append(edgevalue['pmid'])\n",
    "            neighs_list.append(result)\n",
    "    return neighs_list"
   ]
  },
  {
   "cell_type": "code",
   "execution_count": null,
   "id": "779f3987-08fc-4b98-ad4a-443aa16c8853",
   "metadata": {},
   "outputs": [],
   "source": [
    "len(prots)"
   ]
  },
  {
   "cell_type": "code",
   "execution_count": null,
   "id": "a904acad-f9fc-4a60-bccd-a7c7eb6a9fbc",
   "metadata": {},
   "outputs": [],
   "source": [
    "raloneighs = get_neighbors_meta(nx_graph, raloxifene)\n",
    "raloprots1 = []\n",
    "raloprots2 = []\n",
    "for item in raloneighs:\n",
    "    pred = item[1]\n",
    "    obj = item[2]\n",
    "    obj_id = str(obj).split('/')[-1].split('_')[0]\n",
    "    if pred in relations and obj_id == 'PR':\n",
    "        raloprots1.append(obj)\n",
    "    if pred in relations and obj in prots:\n",
    "        raloprots2.append(obj)\n",
    "print(len(raloprots1), len(raloprots2))"
   ]
  },
  {
   "cell_type": "code",
   "execution_count": null,
   "id": "62e1c507-d817-4ac7-99fe-572a73c5c4de",
   "metadata": {},
   "outputs": [],
   "source": [
    "###prots1 = raloxifene - predicate - PR\n",
    "##prots2 = raloxifene - predicate - PR, gt - predicate - PR\n",
    "for item in raloprots1:\n",
    "    print(nodeLabels[str(item)])\n",
    "    print(nx_graph.get_edge_data(raloxifene, item))"
   ]
  },
  {
   "cell_type": "code",
   "execution_count": null,
   "id": "b899fb82-9b5e-4953-b0c0-c587b35f418e",
   "metadata": {},
   "outputs": [],
   "source": [
    "for item in raloprots2:\n",
    "    print(nodeLabels[str(item)])\n",
    "    print(nx_graph.get_edge_data(raloxifene, item))"
   ]
  },
  {
   "cell_type": "code",
   "execution_count": null,
   "id": "d83af345-0591-4123-8226-62a0db5aa6d8",
   "metadata": {},
   "outputs": [],
   "source": [
    "for node in gtnodes:\n",
    "    for item in raloprots1:\n",
    "        edge_res = nx_graph.get_edge_data(node, item)\n",
    "        if edge_res:\n",
    "            print(nodeLabels[str(node)], nodeLabels[str(item)])\n",
    "            print(nx_graph.get_edge_data(node, item))"
   ]
  },
  {
   "cell_type": "code",
   "execution_count": null,
   "id": "cebef57a-ccd5-4fed-a68f-0544b9535ba5",
   "metadata": {},
   "outputs": [],
   "source": [
    "for node in gtnodes:\n",
    "    for item in raloprots2:\n",
    "        edge_res = nx_graph.get_edge_data(node, item)\n",
    "        if edge_res:\n",
    "            print(nodeLabels[str(node)], nodeLabels[str(item)])\n",
    "            print(nx_graph.get_edge_data(node, item))"
   ]
  },
  {
   "cell_type": "markdown",
   "id": "05876e62-5631-4094-9947-8989554a5186",
   "metadata": {
    "tags": []
   },
   "source": [
    "## UGT searches"
   ]
  },
  {
   "cell_type": "code",
   "execution_count": null,
   "id": "83896079-65ad-4134-a223-4837c46f31df",
   "metadata": {},
   "outputs": [],
   "source": [
    "##get interacting drugs for UGT\n",
    "obodict['UGT']"
   ]
  },
  {
   "cell_type": "code",
   "execution_count": null,
   "id": "fac2f640-d995-4e54-b6f8-89ca268dcf2d",
   "metadata": {},
   "outputs": [],
   "source": [
    "get_neighbors(nx_graph, obodict['UGT'][1])"
   ]
  },
  {
   "cell_type": "code",
   "execution_count": null,
   "id": "7d58d7bd-7f10-43d3-a278-96f2578ebff3",
   "metadata": {},
   "outputs": [],
   "source": [
    "len(get_neighbors(nx_graph, obodict['UGT'][2]))"
   ]
  },
  {
   "cell_type": "code",
   "execution_count": null,
   "id": "71a262aa-a5fc-41ee-bd54-d2c49246ae1b",
   "metadata": {},
   "outputs": [],
   "source": [
    "raloneighs = get_neighbors_meta(nx_graph, obodict['UGT'][2])\n",
    "raloprots1 = []\n",
    "for item in raloneighs:\n",
    "    pred = item[1]\n",
    "    obj = item[2]\n",
    "    if pred in relations:\n",
    "        raloprots1.append(obj)\n",
    "raloprots1"
   ]
  },
  {
   "cell_type": "code",
   "execution_count": null,
   "id": "a122be52-aa0a-47d8-8c70-af5b883bab65",
   "metadata": {},
   "outputs": [],
   "source": [
    "for item in raloprots1:\n",
    "    print(nodeLabels[str(item)])"
   ]
  },
  {
   "cell_type": "code",
   "execution_count": null,
   "id": "d02c1763-3bf2-4124-95ec-9293f6324db6",
   "metadata": {},
   "outputs": [],
   "source": [
    "for item in raloneighs:\n",
    "    pred = item[1]\n",
    "    obj = item[2]\n",
    "    obj_id = str(item[2]).split('/')[-1].split('_')[0]\n",
    "    if obj_id == 'CHEBI':\n",
    "        print(nodeLabels[str(pred)])\n",
    "        print(nodeLabels[str(obj)])"
   ]
  },
  {
   "cell_type": "markdown",
   "id": "8039c0f2-6b90-414f-9b4a-96b80d5cab06",
   "metadata": {
    "tags": []
   },
   "source": [
    "## Green tea-nadolol"
   ]
  },
  {
   "cell_type": "code",
   "execution_count": null,
   "id": "ce82e5fd-e633-453a-a63f-067a9042bbb4",
   "metadata": {},
   "outputs": [],
   "source": [
    "nadolol = obo.CHEBI_7444\n",
    "nodeLabels[str(nadolol)]"
   ]
  },
  {
   "cell_type": "code",
   "execution_count": null,
   "id": "932e6bf5-f4ae-41e5-af7c-ab9abf25660c",
   "metadata": {},
   "outputs": [],
   "source": [
    "##Metapath - \n",
    "#Green tea | Green tea constituent - \n",
    "#interacts with | associated with | molecularly interacts with - \n",
    "#Enzyme or Transporter - \n",
    "#interacts with | associated with | molecularly interacts with | - \n",
    "#Nadolol"
   ]
  },
  {
   "cell_type": "code",
   "execution_count": null,
   "id": "af2ff1d1-a0ef-4808-83b9-8836b48fdd40",
   "metadata": {},
   "outputs": [],
   "source": [
    "#list of green tea nodes\n",
    "gtnodes = [\n",
    "    obodict['greentea'][0],\n",
    "    obodict['EGCG'][0],\n",
    "    obodict['EGCG'][1],\n",
    "    obodict['ECG'][0],\n",
    "    obodict['epicatechin'][0],\n",
    "    obodict['catechin'][0],\n",
    "    obodict['catechin'][1],\n",
    "    obodict['epigallocatechin'][0],\n",
    "    obodict['gallocatechin'][0],\n",
    "    obodict['gallocatechin'][1]\n",
    "]"
   ]
  },
  {
   "cell_type": "code",
   "execution_count": null,
   "id": "4db6bc80-1159-4c9b-bd5c-9645b7cfb9be",
   "metadata": {},
   "outputs": [],
   "source": [
    "'''RELATIONS OF INTEREST\n",
    "directly regulates activity of2448\n",
    "positively regulates2213\n",
    "capable of regulating2596\n",
    "capable of positively regulating2598\n",
    "interacts with2434\n",
    "molecularly interacts with2436\n",
    "correlated with2610\n",
    "regulates activity of11002\n",
    "is substrate of DIDEO_00000041\n",
    "transports RO_0002020\n",
    "'''\n",
    "relations = [obo.RO_0002610,\n",
    "             obo.RO_0002434,\n",
    "             obo.RO_0002213,\n",
    "             obo.RO_0002448,\n",
    "             obo.RO_0002436,\n",
    "             obo.RO_0011002,\n",
    "             obo.RO_0002596,\n",
    "             obo.RO_0002598,\n",
    "            obo.RO_0002449,\n",
    "            obo.DIDEO_00000041,\n",
    "            obo.RO_0002020]"
   ]
  },
  {
   "cell_type": "code",
   "execution_count": null,
   "id": "003b3af0-c56a-42bc-a767-fc15abfd7916",
   "metadata": {},
   "outputs": [],
   "source": [
    "#get all neighbors of a node\n",
    "def get_neighbors_meta(nx_graph, node):\n",
    "    neighs = nx.neighbors(nx_graph, node)\n",
    "    neighs_list = []\n",
    "    for item in neighs:\n",
    "        #nodestr = nodeLabels[str(node)]\n",
    "        #neighbor = nodeLabels[str(item)]\n",
    "        edge_result = nx_graph.get_edge_data(node, item)\n",
    "        edge_keys = list(edge_result.keys())\n",
    "        for edge in edge_keys:\n",
    "            edgestr = nodeLabels[str(edge)]\n",
    "            edgevalue = edge_result[edge]\n",
    "            result = [node, edge, item]\n",
    "            if 'source_graph' in edgevalue:\n",
    "                result.append(edgevalue['source_graph'])\n",
    "            if 'timestamp' in edgevalue:\n",
    "                result.append(edgevalue['timestamp'])\n",
    "            neighs_list.append(result)\n",
    "    return neighs_list"
   ]
  },
  {
   "cell_type": "code",
   "execution_count": null,
   "id": "f15cbc45-71e0-44a4-b16a-6576b847ccc3",
   "metadata": {},
   "outputs": [],
   "source": [
    "## for nodes of green tea and green tea constituents, get all neighbors with \n",
    "## edge in relations and object in PR or GO\n",
    "gtneighs = {}\n",
    "for node in gtnodes:\n",
    "    if str(node) in nodeLabels:\n",
    "        nodestr = nodeLabels[str(node)]\n",
    "    else:\n",
    "        nodestr = str(node)\n",
    "    neighbors = get_neighbors_meta(nx_graph, node)\n",
    "    if nodestr in gtneighs:\n",
    "        gtneighs[nodestr].extend(neighbors)\n",
    "    else:\n",
    "        gtneighs[nodestr] = neighbors\n",
    "len(gtneighs)"
   ]
  },
  {
   "cell_type": "code",
   "execution_count": null,
   "id": "7d5baca4-d2be-439b-bf6e-3a29a33fff71",
   "metadata": {},
   "outputs": [],
   "source": [
    "for key in gtneighs:\n",
    "    print(key, len(gtneighs[key]))"
   ]
  },
  {
   "cell_type": "code",
   "execution_count": null,
   "id": "5619b9f5-d1fc-4fa9-af12-f8d1224d993e",
   "metadata": {},
   "outputs": [],
   "source": [
    "##checking if direct edge to nadolol\n",
    "for node in gtnodes:\n",
    "    edge_res = nx_graph.get_edge_data(node, nadolol)\n",
    "    if edge_res:\n",
    "        print(node)\n",
    "        print(edge_res)"
   ]
  },
  {
   "cell_type": "code",
   "execution_count": null,
   "id": "72bf103c-ea63-4cc8-aa3a-c2296829fcfa",
   "metadata": {},
   "outputs": [],
   "source": [
    "#filter neighboring triples to only relations of interest and proteins as objects\n",
    "gtneighs_filt = {}\n",
    "for key in gtneighs:\n",
    "    gtneighs_filt[key] = []\n",
    "    for item in gtneighs[key]:\n",
    "        pred = item[1]\n",
    "        obj_id = str(item[2]).split('/')[-1].split('_')[0]\n",
    "        if pred in relations and obj_id == 'PR':\n",
    "            gtneighs_filt[key].append(item)"
   ]
  },
  {
   "cell_type": "code",
   "execution_count": null,
   "id": "312461b9-8d13-4d62-9685-ca70846fc0a3",
   "metadata": {},
   "outputs": [],
   "source": [
    "for key in gtneighs_filt:\n",
    "    print(key, len(gtneighs_filt[key]))"
   ]
  },
  {
   "cell_type": "code",
   "execution_count": null,
   "id": "a395d689-376f-403c-b61e-15ed1f62d016",
   "metadata": {},
   "outputs": [],
   "source": [
    "with open(DIR_OUT+'greentea_metapath2.pickle', 'wb') as fileo:\n",
    "    pickle.dump(gtneighs_filt, fileo)"
   ]
  },
  {
   "cell_type": "code",
   "execution_count": null,
   "id": "3c81049a-2e38-45c2-b0c3-a95577d61703",
   "metadata": {},
   "outputs": [],
   "source": [
    "prlist = []\n",
    "for key in gtneighs_filt:\n",
    "    for item in gtneighs_filt[key]:\n",
    "        prlist.append(item[2])\n",
    "len(prlist)"
   ]
  },
  {
   "cell_type": "code",
   "execution_count": null,
   "id": "8480c0f9-b3c4-487f-94ad-fe0257068a18",
   "metadata": {},
   "outputs": [],
   "source": [
    "prots = list(set(prlist))"
   ]
  },
  {
   "cell_type": "code",
   "execution_count": null,
   "id": "02ddd5ca-35ca-4a7d-be48-deead0c50134",
   "metadata": {},
   "outputs": [],
   "source": [
    "len(prots)"
   ]
  },
  {
   "cell_type": "code",
   "execution_count": null,
   "id": "d2173208-6c78-4b1f-8986-170d69781d65",
   "metadata": {},
   "outputs": [],
   "source": [
    "protslabels = []\n",
    "for item in prots:\n",
    "    if str(item) in nodeLabels:\n",
    "        if isinstance(nodeLabels[str(item)], str):\n",
    "            protslabels.append(nodeLabels[str(item)])\n",
    "        else:\n",
    "            protslabels.append(nodeLabels[str(item)]['label'])\n",
    "    else:\n",
    "        print(item)\n",
    "        protslabels.append(str(item))\n",
    "len(protslabels)"
   ]
  },
  {
   "cell_type": "code",
   "execution_count": null,
   "id": "80e3ffa9-6f1a-4305-b7f0-5fedf01dcc3b",
   "metadata": {},
   "outputs": [],
   "source": [
    "for item in protslabels:\n",
    "    if isinstance(item, dict):\n",
    "        print(item)"
   ]
  },
  {
   "cell_type": "code",
   "execution_count": null,
   "id": "051ac2b7-61fb-47d2-b9fd-c2354bcbabc2",
   "metadata": {},
   "outputs": [],
   "source": [
    "with open(DIR_OUT+'greentea_protein_labels_with_inhibits.txt', 'w') as file2:\n",
    "    for label in protslabels:\n",
    "        file2.write(label)\n",
    "        file2.write('\\n')"
   ]
  },
  {
   "cell_type": "code",
   "execution_count": null,
   "id": "6cb4878e-9361-4f91-90be-4f8dff2c47b4",
   "metadata": {},
   "outputs": [],
   "source": [
    "## for nodes of green tea and green tea constituents, get all neighbors with \n",
    "## edge in relations and object in PR or GO\n",
    "protneighs = {}\n",
    "for node in prots:\n",
    "    if str(node) in nodeLabels:\n",
    "        if isinstance(nodeLabels[str(node)], str):\n",
    "            nodestr = nodeLabels[str(node)]\n",
    "        else:\n",
    "            nodestr = nodeLabels[str(node)]['label']\n",
    "    else:\n",
    "        nodestr = str(node)\n",
    "    neighbors = get_neighbors_meta(nx_graph, node)\n",
    "    if nodestr in protneighs:\n",
    "        protneighs[nodestr].extend(neighbors)\n",
    "    else:\n",
    "        protneighs[nodestr] = neighbors\n",
    "len(protneighs)"
   ]
  },
  {
   "cell_type": "code",
   "execution_count": null,
   "id": "0267f037-a310-4a56-a79e-fe2b61bfb0cb",
   "metadata": {},
   "outputs": [],
   "source": [
    "#filter neighboring triples to only relations of interest and proteins as objects\n",
    "prots_filt = []\n",
    "for key in protneighs:\n",
    "    for item in protneighs[key]:\n",
    "        pred = item[1]\n",
    "        obj = item[2]\n",
    "        if pred in relations and obj == nadolol:\n",
    "            prots_filt.append(key)\n",
    "len(prots_filt)"
   ]
  },
  {
   "cell_type": "code",
   "execution_count": null,
   "id": "cca59354-1318-43be-853d-8374345767a2",
   "metadata": {},
   "outputs": [],
   "source": [
    "prots_filt"
   ]
  },
  {
   "cell_type": "code",
   "execution_count": null,
   "id": "0e8f7087-23ad-4595-a5f7-d8c1b17ce596",
   "metadata": {},
   "outputs": [],
   "source": [
    "def get_neighbors(nx_graph, node):\n",
    "    neighs = nx.neighbors(nx_graph, node)\n",
    "    neighs_list = []\n",
    "    for item in neighs:\n",
    "        nodestr = nodeLabels[str(node)]\n",
    "        neighbor = nodeLabels[str(item)]\n",
    "        edge_result = nx_graph.get_edge_data(node, item)\n",
    "        edge_keys = list(edge_result.keys())\n",
    "        for edge in edge_keys:\n",
    "            edgestr = nodeLabels[str(edge)]\n",
    "            edgevalue = edge_result[edge]\n",
    "            result = [nodestr, edgestr, neighbor]\n",
    "            if 'source_graph' in edgevalue:\n",
    "                result.append(edgevalue['source_graph'])\n",
    "            if 'timestamp' in edgevalue:\n",
    "                result.append(edgevalue['timestamp'])\n",
    "            if 'pmid' in edgevalue:\n",
    "                result.append(edgevalue['pmid'])\n",
    "            neighs_list.append(result)\n",
    "    return neighs_list"
   ]
  },
  {
   "cell_type": "code",
   "execution_count": null,
   "id": "bb2a0b72-ea7c-4208-b2c0-388ac8cd7ed4",
   "metadata": {},
   "outputs": [],
   "source": [
    "len(prots)"
   ]
  },
  {
   "cell_type": "code",
   "execution_count": null,
   "id": "c701bdbf-db15-4715-afb2-74195cae9ebc",
   "metadata": {},
   "outputs": [],
   "source": [
    "nadoneighs = get_neighbors_meta(nx_graph, nadolol)\n",
    "nadoprots1 = []\n",
    "nadoprots2 = []\n",
    "for item in nadoneighs:\n",
    "    pred = item[1]\n",
    "    obj = item[2]\n",
    "    obj_id = str(obj).split('/')[-1].split('_')[0]\n",
    "    if pred in relations and obj_id == 'PR':\n",
    "        nadoprots1.append(obj)\n",
    "    if pred in relations and obj in prots:\n",
    "        nadoprots2.append(obj)\n",
    "print(len(nadoprots1), len(nadoprots2))"
   ]
  },
  {
   "cell_type": "code",
   "execution_count": null,
   "id": "bb22e292-4a75-4d1c-9dd2-e9f3bd0494ca",
   "metadata": {},
   "outputs": [],
   "source": [
    "with open(DIR_OUT+'gt-pred-pr-nadolol-pred-pr-protein_list.txt', 'w') as fileo:\n",
    "    for item in nadoprots2:\n",
    "        if str(item) in nodeLabels:\n",
    "            if isinstance(nodeLabels[str(item)], str):\n",
    "                nodestr = nodeLabels[str(item)]\n",
    "            else:\n",
    "                nodestr = nodeLabels[str(item)]['label']\n",
    "        fileo.write(str(item)+'\\t'+nodestr+'\\n')"
   ]
  },
  {
   "cell_type": "code",
   "execution_count": null,
   "id": "f2668f1d-8e54-4db7-99cc-70ccdd111fc8",
   "metadata": {},
   "outputs": [],
   "source": [
    "with open(DIR_OUT+'nadolol-pred-pr-protein_list.txt', 'w') as fileo2:\n",
    "    for item in nadoprots1:\n",
    "        if str(item) in nodeLabels:\n",
    "            if isinstance(nodeLabels[str(item)], str):\n",
    "                nodestr = nodeLabels[str(item)]\n",
    "            else:\n",
    "                nodestr = nodeLabels[str(item)]['label']\n",
    "        fileo2.write(str(item)+'\\t'+nodestr+'\\n')"
   ]
  },
  {
   "cell_type": "code",
   "execution_count": null,
   "id": "17d37a58-73aa-4df3-b84e-7b457d83bedc",
   "metadata": {},
   "outputs": [],
   "source": [
    "nadoneighs[0]"
   ]
  },
  {
   "cell_type": "code",
   "execution_count": null,
   "id": "d1fdb0f7-854e-439a-82f2-f3c61181cf59",
   "metadata": {},
   "outputs": [],
   "source": [
    "##Nadolol-green tea direct edges\n",
    "nadoneighs = get_neighbors_meta(nx_graph, nadolol)\n",
    "direct = []\n",
    "for item in nadoneighs:\n",
    "    pred = item[1]\n",
    "    obj = item[2]\n",
    "    if pred in relations and obj in gtnodes:\n",
    "        direct.append(item)\n",
    "len(direct)"
   ]
  },
  {
   "cell_type": "code",
   "execution_count": null,
   "id": "4c2c007d-5a1c-4ce2-bfac-c7506dbdbeb2",
   "metadata": {},
   "outputs": [],
   "source": [
    "direct"
   ]
  },
  {
   "cell_type": "markdown",
   "id": "9493b6ba-504b-49da-8de4-8945506f7f6a",
   "metadata": {
    "tags": []
   },
   "source": [
    "## Kratom-midazolam"
   ]
  },
  {
   "cell_type": "code",
   "execution_count": null,
   "id": "bd5dc8c6-ccb2-44db-9611-fb0aaf1c9c2b",
   "metadata": {},
   "outputs": [],
   "source": [
    "midazolam = obo.CHEBI_6931\n",
    "nodeLabels[str(midazolam)]"
   ]
  },
  {
   "cell_type": "code",
   "execution_count": null,
   "id": "7ac7e5ec-acbc-4b83-80b4-b73e5d39dfcf",
   "metadata": {},
   "outputs": [],
   "source": [
    "obodict.keys()"
   ]
  },
  {
   "cell_type": "code",
   "execution_count": null,
   "id": "f0151109-f010-4032-bfb9-f11f8d088475",
   "metadata": {},
   "outputs": [],
   "source": [
    "#list of green tea nodes\n",
    "ktnodes = [\n",
    "    obodict['kratom'][0],\n",
    "    obodict['mitragynine'][0],\n",
    "    obodict['hydroxy_mitragynine'][0],\n",
    "    obodict['hydroxy_mitragynine'][1]\n",
    "]"
   ]
  },
  {
   "cell_type": "code",
   "execution_count": null,
   "id": "6a47aa48-7ea8-4afb-b74c-83436dced1e7",
   "metadata": {},
   "outputs": [],
   "source": [
    "'''RELATIONS OF INTEREST\n",
    "directly regulates activity of2448\n",
    "positively regulates2213\n",
    "capable of regulating2596\n",
    "capable of positively regulating2598\n",
    "interacts with2434\n",
    "molecularly interacts with2436\n",
    "correlated with2610\n",
    "regulates activity of11002\n",
    "'''\n",
    "relations = [obo.RO_0002610,\n",
    "             obo.RO_0002434,\n",
    "             obo.RO_0002213,\n",
    "             obo.RO_0002448,\n",
    "             obo.RO_0002436,\n",
    "             obo.RO_0011002,\n",
    "             obo.RO_0002596,\n",
    "             obo.RO_0002598,\n",
    "            obo.RO_0002449,\n",
    "            obo.DIDEO_00000041,\n",
    "            obo.RO_0002020]"
   ]
  },
  {
   "cell_type": "code",
   "execution_count": null,
   "id": "1d76f1ca-6e24-4c2d-a16e-8f798bceef25",
   "metadata": {},
   "outputs": [],
   "source": [
    "#get all neighbors of a node\n",
    "def get_neighbors_meta(nx_graph, node):\n",
    "    neighs = nx.neighbors(nx_graph, node)\n",
    "    neighs_list = []\n",
    "    for item in neighs:\n",
    "        #nodestr = nodeLabels[str(node)]\n",
    "        #neighbor = nodeLabels[str(item)]\n",
    "        edge_result = nx_graph.get_edge_data(node, item)\n",
    "        edge_keys = list(edge_result.keys())\n",
    "        for edge in edge_keys:\n",
    "            edgestr = nodeLabels[str(edge)]\n",
    "            edgevalue = edge_result[edge]\n",
    "            result = [node, edge, item]\n",
    "            if 'source_graph' in edgevalue:\n",
    "                result.append(edgevalue['source_graph'])\n",
    "            if 'timestamp' in edgevalue:\n",
    "                result.append(edgevalue['timestamp'])\n",
    "            neighs_list.append(result)\n",
    "    return neighs_list"
   ]
  },
  {
   "cell_type": "code",
   "execution_count": null,
   "id": "79e9d1b8-dfdc-415e-9cac-4a65f3638d10",
   "metadata": {},
   "outputs": [],
   "source": [
    "## for nodes of green tea and green tea constituents, get all neighbors with \n",
    "## edge in relations and object in PR or GO\n",
    "ktneighs = {}\n",
    "for node in ktnodes:\n",
    "    if str(node) in nodeLabels:\n",
    "        if isinstance(nodeLabels[str(node)], str):\n",
    "            nodestr = nodeLabels[str(node)]\n",
    "        else:\n",
    "            nodestr = nodeLabels[str(node)]['label']\n",
    "    else:\n",
    "        nodestr = str(node)\n",
    "    neighbors = get_neighbors_meta(nx_graph, node)\n",
    "    if nodestr in ktneighs:\n",
    "        ktneighs[nodestr].extend(neighbors)\n",
    "    else:\n",
    "        ktneighs[nodestr] = neighbors\n",
    "len(ktneighs)"
   ]
  },
  {
   "cell_type": "code",
   "execution_count": null,
   "id": "a4cd1268-f5e1-410b-92f2-d811cf1a1e95",
   "metadata": {},
   "outputs": [],
   "source": [
    "for key in ktneighs:\n",
    "    print(key, len(ktneighs[key]))"
   ]
  },
  {
   "cell_type": "code",
   "execution_count": null,
   "id": "ccefc785-d118-4c43-b117-b6978c104854",
   "metadata": {},
   "outputs": [],
   "source": [
    "##checking if direct edge to midazolam\n",
    "for node in ktnodes:\n",
    "    edge_res = nx_graph.get_edge_data(node, midazolam)\n",
    "    if edge_res:\n",
    "        print(node)\n",
    "        print(edge_res)"
   ]
  },
  {
   "cell_type": "code",
   "execution_count": null,
   "id": "61939d6a-8b40-4edd-880b-15ff6bdb5ee0",
   "metadata": {},
   "outputs": [],
   "source": [
    "#filter neighboring triples to only relations of interest and proteins as objects\n",
    "ktneighs_filt = {}\n",
    "for key in ktneighs:\n",
    "    ktneighs_filt[key] = []\n",
    "    for item in ktneighs[key]:\n",
    "        pred = item[1]\n",
    "        obj_id = str(item[2]).split('/')[-1].split('_')[0]\n",
    "        if pred in relations and obj_id == 'PR':\n",
    "            ktneighs_filt[key].append(item)"
   ]
  },
  {
   "cell_type": "code",
   "execution_count": null,
   "id": "8158e2b7-fb94-4f9b-8db2-ea684b711ea4",
   "metadata": {},
   "outputs": [],
   "source": [
    "for key in ktneighs_filt:\n",
    "    print(key, len(ktneighs_filt[key]))"
   ]
  },
  {
   "cell_type": "code",
   "execution_count": null,
   "id": "3b62162b-b236-4d3c-9890-762865c21b03",
   "metadata": {},
   "outputs": [],
   "source": [
    "with open(DIR_OUT+'kratom_metapath1.pickle', 'wb') as fileo:\n",
    "    pickle.dump(ktneighs_filt, fileo)"
   ]
  },
  {
   "cell_type": "code",
   "execution_count": null,
   "id": "e4551701-c962-402a-8ac4-f25218cd260d",
   "metadata": {},
   "outputs": [],
   "source": [
    "prlist = []\n",
    "for key in ktneighs_filt:\n",
    "    for item in ktneighs_filt[key]:\n",
    "        prlist.append(item[2])\n",
    "len(prlist)"
   ]
  },
  {
   "cell_type": "code",
   "execution_count": null,
   "id": "7313bb83-23f0-44ea-8e93-ae0c67426171",
   "metadata": {},
   "outputs": [],
   "source": [
    "prots = list(set(prlist))"
   ]
  },
  {
   "cell_type": "code",
   "execution_count": null,
   "id": "9937241f-4caf-4874-acbf-58ad669ad7e1",
   "metadata": {},
   "outputs": [],
   "source": [
    "len(prots)"
   ]
  },
  {
   "cell_type": "code",
   "execution_count": null,
   "id": "64ab1bc3-69da-4221-8893-1849325e72ab",
   "metadata": {},
   "outputs": [],
   "source": [
    "protslabels = []\n",
    "for item in prots:\n",
    "    if str(item) in nodeLabels:\n",
    "        if isinstance(nodeLabels[str(item)], str):\n",
    "            protslabels.append(nodeLabels[str(item)])\n",
    "        else:\n",
    "            protslabels.append(nodeLabels[str(item)]['label'])\n",
    "    else:\n",
    "        print(item)\n",
    "        protslabels.append(str(item))\n",
    "len(protslabels)"
   ]
  },
  {
   "cell_type": "code",
   "execution_count": null,
   "id": "51a350cd-28ba-4b68-ad05-c806cb912889",
   "metadata": {},
   "outputs": [],
   "source": [
    "for item in protslabels:\n",
    "    if isinstance(item, dict):\n",
    "        print(item)"
   ]
  },
  {
   "cell_type": "code",
   "execution_count": null,
   "id": "37b601da-ddb0-44ba-bc1e-916e6d376daf",
   "metadata": {},
   "outputs": [],
   "source": [
    "with open(DIR_OUT+'kratom_protein_labels.txt', 'w') as file2:\n",
    "    for label in protslabels:\n",
    "        file2.write(label)\n",
    "        file2.write('\\n')"
   ]
  },
  {
   "cell_type": "code",
   "execution_count": null,
   "id": "fce107e4-9ac6-4c1f-8b7b-00f33e3b0c90",
   "metadata": {},
   "outputs": [],
   "source": [
    "## for nodes of green tea and green tea constituents, get all neighbors with \n",
    "## edge in relations and object in PR or GO\n",
    "protneighs = {}\n",
    "for node in prots:\n",
    "    if str(node) in nodeLabels:\n",
    "        if isinstance(nodeLabels[str(node)], str):\n",
    "            nodestr = nodeLabels[str(node)]\n",
    "        else:\n",
    "            nodestr = nodeLabels[str(node)]['label']\n",
    "    else:\n",
    "        nodestr = str(node)\n",
    "    neighbors = get_neighbors_meta(nx_graph, node)\n",
    "    if nodestr in protneighs:\n",
    "        protneighs[nodestr].extend(neighbors)\n",
    "    else:\n",
    "        protneighs[nodestr] = neighbors\n",
    "len(protneighs)"
   ]
  },
  {
   "cell_type": "code",
   "execution_count": null,
   "id": "fa50a874-d05f-4bb4-9f57-a84c857b8a9d",
   "metadata": {},
   "outputs": [],
   "source": [
    "#filter neighboring triples to only relations of interest and proteins as objects\n",
    "prots_filt = []\n",
    "for key in protneighs:\n",
    "    for item in protneighs[key]:\n",
    "        pred = item[1]\n",
    "        obj = item[2]\n",
    "        if pred in relations and obj == midazolam:\n",
    "            prots_filt.append(key)\n",
    "len(prots_filt)"
   ]
  },
  {
   "cell_type": "code",
   "execution_count": null,
   "id": "264fdd73-acfa-492e-8f04-8abf21cb28ea",
   "metadata": {},
   "outputs": [],
   "source": [
    "prots_filt"
   ]
  },
  {
   "cell_type": "code",
   "execution_count": null,
   "id": "63c85e0c-d24a-46fd-96d9-18dc2e8cd47b",
   "metadata": {},
   "outputs": [],
   "source": [
    "def get_neighbors(nx_graph, node):\n",
    "    neighs = nx.neighbors(nx_graph, node)\n",
    "    neighs_list = []\n",
    "    for item in neighs:\n",
    "        nodestr = nodeLabels[str(node)]\n",
    "        neighbor = nodeLabels[str(item)]\n",
    "        edge_result = nx_graph.get_edge_data(node, item)\n",
    "        edge_keys = list(edge_result.keys())\n",
    "        for edge in edge_keys:\n",
    "            edgestr = nodeLabels[str(edge)]\n",
    "            edgevalue = edge_result[edge]\n",
    "            result = [nodestr, edgestr, neighbor]\n",
    "            if 'source_graph' in edgevalue:\n",
    "                result.append(edgevalue['source_graph'])\n",
    "            if 'timestamp' in edgevalue:\n",
    "                result.append(edgevalue['timestamp'])\n",
    "            if 'pmid' in edgevalue:\n",
    "                result.append(edgevalue['pmid'])\n",
    "            neighs_list.append(result)\n",
    "    return neighs_list"
   ]
  },
  {
   "cell_type": "code",
   "execution_count": null,
   "id": "a04df812-9f05-4bbb-911f-17df2c081bbc",
   "metadata": {},
   "outputs": [],
   "source": [
    "len(prots)"
   ]
  },
  {
   "cell_type": "code",
   "execution_count": null,
   "id": "47d5c277-20ea-42eb-97ea-15867cda64d5",
   "metadata": {},
   "outputs": [],
   "source": [
    "neighs = get_neighbors_meta(nx_graph, midazolam)\n",
    "prots1 = []\n",
    "prots2 = []\n",
    "prots3 = []\n",
    "for item in neighs:\n",
    "    pred = item[1]\n",
    "    obj = item[2]\n",
    "    obj_id = str(obj).split('/')[-1].split('_')[0]\n",
    "    \n",
    "    if pred in relations and obj_id == 'PR':\n",
    "        prots1.append(obj)\n",
    "    if pred in relations and obj in prots:\n",
    "        prots2.append(obj)\n",
    "    if pred in relations:\n",
    "        prots3.append(obj)\n",
    "print(len(prots1), len(prots2), len(prots3))"
   ]
  },
  {
   "cell_type": "code",
   "execution_count": null,
   "id": "85642f7a-339d-4986-88da-7913d7332ff0",
   "metadata": {},
   "outputs": [],
   "source": [
    "##prots1 = midazolam - predicate - PR\n",
    "##prots2 = midazolam - predicate - PR, kratom - predicate - PR\n",
    "##prots3 = midazolam - predicate - object"
   ]
  },
  {
   "cell_type": "code",
   "execution_count": null,
   "id": "d485c09a-f79b-4b71-8bed-d93c08a19db2",
   "metadata": {},
   "outputs": [],
   "source": [
    "for item in prots1:\n",
    "    print(nodeLabels[str(item)])\n",
    "    print(nx_graph.get_edge_data(midazolam, item))"
   ]
  },
  {
   "cell_type": "code",
   "execution_count": null,
   "id": "eb394ab4-1275-4728-9d37-1fcca70e1b39",
   "metadata": {},
   "outputs": [],
   "source": [
    "for item in prots2:\n",
    "    print(nodeLabels[str(item)])\n",
    "    print(nx_graph.get_edge_data(midazolam, item))"
   ]
  },
  {
   "cell_type": "code",
   "execution_count": null,
   "id": "b9e07c93-b074-44c6-8c3c-59a93ba5e62f",
   "metadata": {},
   "outputs": [],
   "source": [
    "for node in ktnodes:\n",
    "    for item in prots1:\n",
    "        edge_res = nx_graph.get_edge_data(node, item)\n",
    "        if edge_res:\n",
    "            print(nodeLabels[str(node)], nodeLabels[str(item)])\n",
    "            print(edge_res)"
   ]
  },
  {
   "cell_type": "code",
   "execution_count": null,
   "id": "42e97901-65eb-446f-888b-ba0457438e5b",
   "metadata": {},
   "outputs": [],
   "source": [
    "for node in ktnodes:\n",
    "    for item in prots2:\n",
    "        edge_res = nx_graph.get_edge_data(node, item)\n",
    "        if edge_res:\n",
    "            print(nodeLabels[str(node)], nodeLabels[str(item)])\n",
    "            print(edge_res)"
   ]
  },
  {
   "cell_type": "code",
   "execution_count": null,
   "id": "57e47091-0905-4b6c-8807-055e0be43302",
   "metadata": {},
   "outputs": [],
   "source": [
    "##Nadolol-green tea direct edges\n",
    "midazoneighs = get_neighbors_meta(nx_graph, midazolam)\n",
    "direct = []\n",
    "for item in midazoneighs:\n",
    "    pred = item[1]\n",
    "    obj = item[2]\n",
    "    if pred in relations and obj in ktnodes:\n",
    "        direct.append(item)\n",
    "len(direct)"
   ]
  },
  {
   "cell_type": "code",
   "execution_count": null,
   "id": "865c8efd-38fb-4999-a078-a9bb1d45ec6a",
   "metadata": {},
   "outputs": [],
   "source": [
    "direct"
   ]
  },
  {
   "cell_type": "code",
   "execution_count": null,
   "id": "4fbb0b32-52f3-4785-8b62-3e4df160a3a0",
   "metadata": {},
   "outputs": [],
   "source": []
  },
  {
   "cell_type": "code",
   "execution_count": null,
   "id": "69f149f7-76a9-4b7f-8ad4-e4a5846854c1",
   "metadata": {},
   "outputs": [],
   "source": [
    "bupr = obo.CHEBI_3216\n",
    "nodeLabels[str(bupr)]"
   ]
  },
  {
   "cell_type": "code",
   "execution_count": null,
   "id": "57ff4d40-8e89-4c4c-8a60-f801c1b6b943",
   "metadata": {},
   "outputs": [],
   "source": [
    "#list of green tea nodes\n",
    "ktnodes = [\n",
    "    obodict['kratom'][0],\n",
    "    obodict['mitragynine'][0],\n",
    "    obodict['hydroxy_mitragynine'][0],\n",
    "    obodict['hydroxy_mitragynine'][1]\n",
    "]"
   ]
  },
  {
   "cell_type": "code",
   "execution_count": null,
   "id": "09e61aad-8630-473f-b03f-1114136864c9",
   "metadata": {},
   "outputs": [],
   "source": [
    "'''RELATIONS OF INTEREST\n",
    "directly regulates activity of2448\n",
    "positively regulates2213\n",
    "capable of regulating2596\n",
    "capable of positively regulating2598\n",
    "interacts with2434\n",
    "molecularly interacts with2436\n",
    "correlated with2610\n",
    "regulates activity of11002\n",
    "'''\n",
    "relations = [obo.RO_0002610,\n",
    "             obo.RO_0002434,\n",
    "             obo.RO_0002213,\n",
    "             obo.RO_0002448,\n",
    "             obo.RO_0002436,\n",
    "             obo.RO_0011002,\n",
    "             obo.RO_0002596,\n",
    "             obo.RO_0002598,\n",
    "            obo.RO_0002449]"
   ]
  },
  {
   "cell_type": "code",
   "execution_count": null,
   "id": "09f1e822-cc1b-47d4-8e4a-589e723e992d",
   "metadata": {},
   "outputs": [],
   "source": [
    "#get all neighbors of a node\n",
    "def get_neighbors_meta(nx_graph, node):\n",
    "    neighs = nx.neighbors(nx_graph, node)\n",
    "    neighs_list = []\n",
    "    for item in neighs:\n",
    "        #nodestr = nodeLabels[str(node)]\n",
    "        #neighbor = nodeLabels[str(item)]\n",
    "        edge_result = nx_graph.get_edge_data(node, item)\n",
    "        edge_keys = list(edge_result.keys())\n",
    "        for edge in edge_keys:\n",
    "            edgestr = nodeLabels[str(edge)]\n",
    "            edgevalue = edge_result[edge]\n",
    "            result = [node, edge, item]\n",
    "            if 'source_graph' in edgevalue:\n",
    "                result.append(edgevalue['source_graph'])\n",
    "            if 'timestamp' in edgevalue:\n",
    "                result.append(edgevalue['timestamp'])\n",
    "            neighs_list.append(result)\n",
    "    return neighs_list"
   ]
  },
  {
   "cell_type": "code",
   "execution_count": null,
   "id": "98b52f4b-fc2d-4265-a2a0-d1553d67efc0",
   "metadata": {},
   "outputs": [],
   "source": [
    "ktneighs = {}\n",
    "for node in ktnodes:\n",
    "    if str(node) in nodeLabels:\n",
    "        if isinstance(nodeLabels[str(node)], str):\n",
    "            nodestr = nodeLabels[str(node)]\n",
    "        else:\n",
    "            nodestr = nodeLabels[str(node)]['label']\n",
    "    else:\n",
    "        nodestr = str(node)\n",
    "    neighbors = get_neighbors_meta(nx_graph, node)\n",
    "    if nodestr in ktneighs:\n",
    "        ktneighs[nodestr].extend(neighbors)\n",
    "    else:\n",
    "        ktneighs[nodestr] = neighbors\n",
    "len(ktneighs)"
   ]
  },
  {
   "cell_type": "code",
   "execution_count": null,
   "id": "4435e42c-4ba3-47bd-898e-521f0ad9b2eb",
   "metadata": {},
   "outputs": [],
   "source": [
    "for key in ktneighs:\n",
    "    print(key, len(ktneighs[key]))"
   ]
  },
  {
   "cell_type": "code",
   "execution_count": null,
   "id": "4e50949b-9136-45d8-b49d-18861522a900",
   "metadata": {},
   "outputs": [],
   "source": [
    "##checking if direct edge to midazolam\n",
    "for node in ktnodes:\n",
    "    edge_res = nx_graph.get_edge_data(node, bupr)\n",
    "    if edge_res:\n",
    "        print(node)\n",
    "        print(edge_res)"
   ]
  },
  {
   "cell_type": "code",
   "execution_count": null,
   "id": "58aafc8c-b88b-44c0-b01e-ff5efc8e3a84",
   "metadata": {},
   "outputs": [],
   "source": [
    "#filter neighboring triples to only relations of interest and proteins as objects\n",
    "ktneighs_filt = {}\n",
    "for key in ktneighs:\n",
    "    ktneighs_filt[key] = []\n",
    "    for item in ktneighs[key]:\n",
    "        pred = item[1]\n",
    "        obj_id = str(item[2]).split('/')[-1].split('_')[0]\n",
    "        if pred in relations and obj_id == 'PR':\n",
    "            ktneighs_filt[key].append(item)"
   ]
  },
  {
   "cell_type": "code",
   "execution_count": null,
   "id": "4c0aee31-8c09-4caf-9959-d05678b2ccb1",
   "metadata": {},
   "outputs": [],
   "source": [
    "for key in ktneighs_filt:\n",
    "    print(key, len(ktneighs_filt[key]))"
   ]
  },
  {
   "cell_type": "code",
   "execution_count": null,
   "id": "36ea9bbf-f8a5-4722-97ce-61fb8496e0c8",
   "metadata": {},
   "outputs": [],
   "source": [
    "with open(DIR_OUT+'kratom_metapath1.pickle', 'wb') as fileo:\n",
    "    pickle.dump(ktneighs_filt, fileo)"
   ]
  },
  {
   "cell_type": "code",
   "execution_count": null,
   "id": "4dd094a9-ade0-4e39-acb7-bcee05a6dd1b",
   "metadata": {},
   "outputs": [],
   "source": [
    "prlist = []\n",
    "for key in ktneighs_filt:\n",
    "    for item in ktneighs_filt[key]:\n",
    "        prlist.append(item[2])\n",
    "len(prlist)"
   ]
  },
  {
   "cell_type": "code",
   "execution_count": null,
   "id": "d1d26e8d-8e3a-490d-a10e-527324858cce",
   "metadata": {},
   "outputs": [],
   "source": [
    "prots = list(set(prlist))"
   ]
  },
  {
   "cell_type": "code",
   "execution_count": null,
   "id": "5fe20884-7d44-4252-85d8-aeb5af9ca79b",
   "metadata": {},
   "outputs": [],
   "source": [
    "len(prots)"
   ]
  },
  {
   "cell_type": "code",
   "execution_count": null,
   "id": "a17cca00-ca77-409e-9f82-c9a59630407f",
   "metadata": {},
   "outputs": [],
   "source": [
    "protslabels = []\n",
    "for item in prots:\n",
    "    if str(item) in nodeLabels:\n",
    "        if isinstance(nodeLabels[str(item)], str):\n",
    "            protslabels.append(nodeLabels[str(item)])\n",
    "        else:\n",
    "            protslabels.append(nodeLabels[str(item)]['label'])\n",
    "    else:\n",
    "        print(item)\n",
    "        protslabels.append(str(item))\n",
    "len(protslabels)"
   ]
  },
  {
   "cell_type": "code",
   "execution_count": null,
   "id": "a2d73b0c-fab8-4b4f-86a1-37d2a1760e4a",
   "metadata": {},
   "outputs": [],
   "source": [
    "for item in protslabels:\n",
    "    if isinstance(item, dict):\n",
    "        print(item)"
   ]
  },
  {
   "cell_type": "code",
   "execution_count": null,
   "id": "c3035715-353a-4a10-93c2-b136f24629b1",
   "metadata": {},
   "outputs": [],
   "source": [
    "with open(DIR_OUT+'kratom_protein_labels.txt', 'w') as file2:\n",
    "    for label in protslabels:\n",
    "        file2.write(label)\n",
    "        file2.write('\\n')"
   ]
  },
  {
   "cell_type": "code",
   "execution_count": null,
   "id": "3a430b47-afb0-40a5-aa16-fdcd5bcf1a76",
   "metadata": {},
   "outputs": [],
   "source": [
    "## for nodes of green tea and green tea constituents, get all neighbors with \n",
    "## edge in relations and object in PR or GO\n",
    "protneighs = {}\n",
    "for node in prots:\n",
    "    if str(node) in nodeLabels:\n",
    "        if isinstance(nodeLabels[str(node)], str):\n",
    "            nodestr = nodeLabels[str(node)]\n",
    "        else:\n",
    "            nodestr = nodeLabels[str(node)]['label']\n",
    "    else:\n",
    "        nodestr = str(node)\n",
    "    neighbors = get_neighbors_meta(nx_graph, node)\n",
    "    if nodestr in protneighs:\n",
    "        protneighs[nodestr].extend(neighbors)\n",
    "    else:\n",
    "        protneighs[nodestr] = neighbors\n",
    "len(protneighs)"
   ]
  },
  {
   "cell_type": "code",
   "execution_count": null,
   "id": "531f665c-6f84-45a3-8713-5702c30eec92",
   "metadata": {},
   "outputs": [],
   "source": [
    "#filter neighboring triples to only relations of interest and proteins as objects\n",
    "prots_filt = []\n",
    "for key in protneighs:\n",
    "    for item in protneighs[key]:\n",
    "        pred = item[1]\n",
    "        obj = item[2]\n",
    "        if pred in relations and obj == bupr:\n",
    "            prots_filt.append(key)\n",
    "len(prots_filt)"
   ]
  },
  {
   "cell_type": "code",
   "execution_count": null,
   "id": "cc4be859-a3d7-450f-8b19-ceeeae3a45fc",
   "metadata": {},
   "outputs": [],
   "source": [
    "prots_filt"
   ]
  },
  {
   "cell_type": "code",
   "execution_count": null,
   "id": "6b6ca6e8-58dd-456f-94d7-138d7f98bc07",
   "metadata": {},
   "outputs": [],
   "source": [
    "def get_neighbors(nx_graph, node):\n",
    "    neighs = nx.neighbors(nx_graph, node)\n",
    "    neighs_list = []\n",
    "    for item in neighs:\n",
    "        nodestr = nodeLabels[str(node)]\n",
    "        neighbor = nodeLabels[str(item)]\n",
    "        edge_result = nx_graph.get_edge_data(node, item)\n",
    "        edge_keys = list(edge_result.keys())\n",
    "        for edge in edge_keys:\n",
    "            edgestr = nodeLabels[str(edge)]\n",
    "            edgevalue = edge_result[edge]\n",
    "            result = [nodestr, edgestr, neighbor]\n",
    "            if 'source_graph' in edgevalue:\n",
    "                result.append(edgevalue['source_graph'])\n",
    "            if 'timestamp' in edgevalue:\n",
    "                result.append(edgevalue['timestamp'])\n",
    "            if 'pmid' in edgevalue:\n",
    "                result.append(edgevalue['pmid'])\n",
    "            neighs_list.append(result)\n",
    "    return neighs_list"
   ]
  },
  {
   "cell_type": "code",
   "execution_count": null,
   "id": "56834f75-99d6-4d93-8f32-f72382ca7c5d",
   "metadata": {},
   "outputs": [],
   "source": [
    "len(prots)"
   ]
  },
  {
   "cell_type": "code",
   "execution_count": null,
   "id": "54c3d2f4-d51f-4221-b70d-4e364d273ccb",
   "metadata": {},
   "outputs": [],
   "source": [
    "neighs = get_neighbors_meta(nx_graph, bupr)\n",
    "prots1 = []\n",
    "prots2 = []\n",
    "prots3 = []\n",
    "for item in neighs:\n",
    "    pred = item[1]\n",
    "    obj = item[2]\n",
    "    obj_id = str(obj).split('/')[-1].split('_')[0]\n",
    "    \n",
    "    if pred in relations and obj_id == 'PR':\n",
    "        prots1.append(obj)\n",
    "    if pred in relations and obj in prots:\n",
    "        prots2.append(obj)\n",
    "    if pred in relations:\n",
    "        prots3.append(obj)\n",
    "print(len(prots1), len(prots2), len(prots3))"
   ]
  },
  {
   "cell_type": "code",
   "execution_count": null,
   "id": "3451fff3-8d42-4b2d-acb6-f9fd4426f98e",
   "metadata": {},
   "outputs": [],
   "source": [
    "##prots1 = midazolam - predicate - PR\n",
    "##prots2 = midazolam - predicate - PR, kratom - predicate - PR\n",
    "##prots3 = midazolam - predicate - object"
   ]
  },
  {
   "cell_type": "code",
   "execution_count": null,
   "id": "2857caa9-43ad-40fc-84ff-d4b341119d00",
   "metadata": {},
   "outputs": [],
   "source": [
    "for item in prots1:\n",
    "    print(nodeLabels[str(item)])"
   ]
  },
  {
   "cell_type": "code",
   "execution_count": null,
   "id": "cf071ea5-d649-45f1-807d-074178934a87",
   "metadata": {},
   "outputs": [],
   "source": [
    "for item in prots2:\n",
    "    print(nodeLabels[str(item)])"
   ]
  },
  {
   "cell_type": "code",
   "execution_count": null,
   "id": "90e6cf35-f33f-48eb-a5cd-bd722b86fbc9",
   "metadata": {},
   "outputs": [],
   "source": [
    "for item in prots3:\n",
    "    print(nodeLabels[str(item)])"
   ]
  },
  {
   "cell_type": "code",
   "execution_count": null,
   "id": "bc587e85-0a56-43a8-9295-dca5ad335dea",
   "metadata": {},
   "outputs": [],
   "source": [
    "buprneighs = get_neighbors_meta(nx_graph, bupr)\n",
    "direct = []\n",
    "for item in buprneighs:\n",
    "    pred = item[1]\n",
    "    obj = item[2]\n",
    "    if pred in relations and obj in ktnodes:\n",
    "        direct.append(item)\n",
    "len(direct)"
   ]
  },
  {
   "cell_type": "code",
   "execution_count": null,
   "id": "503ccb85-58e8-4e82-a5c8-7f7fd1e3dda2",
   "metadata": {},
   "outputs": [],
   "source": [
    "direct"
   ]
  },
  {
   "cell_type": "code",
   "execution_count": null,
   "id": "254efd6d-7e7c-4dc2-8515-75c1779cc7c9",
   "metadata": {},
   "outputs": [],
   "source": [
    "midazolam = obo.CHEBI_3216\n",
    "nodeLabels[str(midazolam)]"
   ]
  },
  {
   "cell_type": "code",
   "execution_count": null,
   "id": "371c591f-69c7-4ca1-ae0a-a1f7fc1e541d",
   "metadata": {},
   "outputs": [],
   "source": [
    "#list of green tea nodes\n",
    "ktnodes = [\n",
    "    obodict['kratom'][0],\n",
    "    obodict['mitragynine'][0],\n",
    "    obodict['hydroxy_mitragynine'][0],\n",
    "    obodict['hydroxy_mitragynine'][1]\n",
    "]"
   ]
  },
  {
   "cell_type": "code",
   "execution_count": null,
   "id": "e6afcba6-df3e-4d02-8279-37db24b50b5d",
   "metadata": {},
   "outputs": [],
   "source": [
    "'''RELATIONS OF INTEREST\n",
    "directly regulates activity of2448\n",
    "positively regulates2213\n",
    "capable of regulating2596\n",
    "capable of positively regulating2598\n",
    "interacts with2434\n",
    "molecularly interacts with2436\n",
    "correlated with2610\n",
    "regulates activity of11002\n",
    "'''\n",
    "relations = [obo.RO_0002610,\n",
    "             obo.RO_0002434,\n",
    "             obo.RO_0002213,\n",
    "             obo.RO_0002448,\n",
    "             obo.RO_0002436,\n",
    "             obo.RO_0011002,\n",
    "             obo.RO_0002596,\n",
    "             obo.RO_0002598,\n",
    "            obo.RO_0002449]"
   ]
  },
  {
   "cell_type": "code",
   "execution_count": null,
   "id": "038b1155-8ab9-4b6f-8946-d5d9e872cefe",
   "metadata": {},
   "outputs": [],
   "source": [
    "#get all neighbors of a node\n",
    "def get_neighbors_meta(nx_graph, node):\n",
    "    neighs = nx.neighbors(nx_graph, node)\n",
    "    neighs_list = []\n",
    "    for item in neighs:\n",
    "        #nodestr = nodeLabels[str(node)]\n",
    "        #neighbor = nodeLabels[str(item)]\n",
    "        edge_result = nx_graph.get_edge_data(node, item)\n",
    "        edge_keys = list(edge_result.keys())\n",
    "        for edge in edge_keys:\n",
    "            edgestr = nodeLabels[str(edge)]\n",
    "            edgevalue = edge_result[edge]\n",
    "            result = [node, edge, item]\n",
    "            if 'source_graph' in edgevalue:\n",
    "                result.append(edgevalue['source_graph'])\n",
    "            if 'timestamp' in edgevalue:\n",
    "                result.append(edgevalue['timestamp'])\n",
    "            neighs_list.append(result)\n",
    "    return neighs_list"
   ]
  },
  {
   "cell_type": "code",
   "execution_count": null,
   "id": "ae9576e7-71e4-46d2-92e8-264fd944e907",
   "metadata": {},
   "outputs": [],
   "source": [
    "## for nodes of green tea and green tea constituents, get all neighbors with \n",
    "## edge in relations and object in PR or GO\n",
    "ktneighs = {}\n",
    "for node in ktnodes:\n",
    "    if str(node) in nodeLabels:\n",
    "        nodestr = nodeLabels[str(node)]\n",
    "    else:\n",
    "        nodestr = str(node)\n",
    "    neighbors = get_neighbors_meta(nx_graph, node)\n",
    "    if nodestr in ktneighs:\n",
    "        ktneighs[nodestr].extend(neighbors)\n",
    "    else:\n",
    "        ktneighs[nodestr] = neighbors\n",
    "len(ktneighs)"
   ]
  },
  {
   "cell_type": "code",
   "execution_count": null,
   "id": "9adfbd50-86da-45e5-8305-c187c26e2a5b",
   "metadata": {},
   "outputs": [],
   "source": [
    "for key in ktneighs:\n",
    "    print(key, len(ktneighs[key]))"
   ]
  },
  {
   "cell_type": "code",
   "execution_count": null,
   "id": "9e7c462b-65dd-4042-8fa7-e14df0513e11",
   "metadata": {},
   "outputs": [],
   "source": [
    "##checking if direct edge to midazolam\n",
    "for node in ktnodes:\n",
    "    edge_res = nx_graph.get_edge_data(node, midazolam)\n",
    "    if edge_res:\n",
    "        print(node)\n",
    "        print(edge_res)"
   ]
  },
  {
   "cell_type": "code",
   "execution_count": null,
   "id": "536f420e-8743-47cd-909e-ed6ffb975b74",
   "metadata": {},
   "outputs": [],
   "source": [
    "#filter neighboring triples to only relations of interest and proteins as objects\n",
    "ktneighs_filt = {}\n",
    "for key in ktneighs:\n",
    "    ktneighs_filt[key] = []\n",
    "    for item in ktneighs[key]:\n",
    "        pred = item[1]\n",
    "        obj_id = str(item[2]).split('/')[-1].split('_')[0]\n",
    "        if pred in relations and obj_id == 'PR':\n",
    "            ktneighs_filt[key].append(item)"
   ]
  },
  {
   "cell_type": "code",
   "execution_count": null,
   "id": "76d8cc1b-49cf-4998-99dd-006c57f905ef",
   "metadata": {},
   "outputs": [],
   "source": [
    "for key in ktneighs_filt:\n",
    "    print(key, len(ktneighs_filt[key]))"
   ]
  },
  {
   "cell_type": "code",
   "execution_count": null,
   "id": "fc17dafe-e08e-4191-970f-90a5379999fc",
   "metadata": {},
   "outputs": [],
   "source": [
    "with open(DIR_OUT+'kratom_metapath1.pickle', 'wb') as fileo:\n",
    "    pickle.dump(ktneighs_filt, fileo)"
   ]
  },
  {
   "cell_type": "code",
   "execution_count": null,
   "id": "3e84ba3c-b478-4508-9cc3-3e77a946f057",
   "metadata": {},
   "outputs": [],
   "source": [
    "prlist = []\n",
    "for key in ktneighs_filt:\n",
    "    for item in ktneighs_filt[key]:\n",
    "        prlist.append(item[2])\n",
    "len(prlist)"
   ]
  },
  {
   "cell_type": "code",
   "execution_count": null,
   "id": "26443e4d-f609-4a52-ab6c-b4482e51828b",
   "metadata": {},
   "outputs": [],
   "source": [
    "prots = list(set(prlist))"
   ]
  },
  {
   "cell_type": "code",
   "execution_count": null,
   "id": "eab77a36-aa11-4c0a-9d41-38a2309b7ef0",
   "metadata": {},
   "outputs": [],
   "source": [
    "len(prots)"
   ]
  },
  {
   "cell_type": "code",
   "execution_count": null,
   "id": "e4c9464f-e8e5-4321-9ecb-03630ca9c00f",
   "metadata": {},
   "outputs": [],
   "source": [
    "protslabels = []\n",
    "for item in prots:\n",
    "    if str(item) in nodeLabels:\n",
    "        if isinstance(nodeLabels[str(item)], str):\n",
    "            protslabels.append(nodeLabels[str(item)])\n",
    "        else:\n",
    "            protslabels.append(nodeLabels[str(item)]['label'])\n",
    "    else:\n",
    "        print(item)\n",
    "        protslabels.append(str(item))\n",
    "len(protslabels)"
   ]
  },
  {
   "cell_type": "code",
   "execution_count": null,
   "id": "7af60a72-d89a-47fb-ba8f-0f164808b635",
   "metadata": {},
   "outputs": [],
   "source": [
    "for item in protslabels:\n",
    "    if isinstance(item, dict):\n",
    "        print(item)"
   ]
  },
  {
   "cell_type": "code",
   "execution_count": null,
   "id": "017a0de4-6de8-4fce-b852-6aa8311d32ad",
   "metadata": {},
   "outputs": [],
   "source": [
    "with open(DIR_OUT+'kratom_protein_labels.txt', 'w') as file2:\n",
    "    for label in protslabels:\n",
    "        file2.write(label)\n",
    "        file2.write('\\n')"
   ]
  },
  {
   "cell_type": "code",
   "execution_count": null,
   "id": "a8270192-b9e7-4a25-9aba-9a3b84fbf4bd",
   "metadata": {},
   "outputs": [],
   "source": [
    "## for nodes of green tea and green tea constituents, get all neighbors with \n",
    "## edge in relations and object in PR or GO\n",
    "protneighs = {}\n",
    "for node in prots:\n",
    "    if str(node) in nodeLabels:\n",
    "        if isinstance(nodeLabels[str(node)], str):\n",
    "            nodestr = nodeLabels[str(node)]\n",
    "        else:\n",
    "            nodestr = nodeLabels[str(node)]['label']\n",
    "    else:\n",
    "        nodestr = str(node)\n",
    "    neighbors = get_neighbors_meta(nx_graph, node)\n",
    "    if nodestr in protneighs:\n",
    "        protneighs[nodestr].extend(neighbors)\n",
    "    else:\n",
    "        protneighs[nodestr] = neighbors\n",
    "len(protneighs)"
   ]
  },
  {
   "cell_type": "code",
   "execution_count": null,
   "id": "4ad82d2d-d3ae-48bc-b268-7289eca6dd17",
   "metadata": {},
   "outputs": [],
   "source": [
    "#filter neighboring triples to only relations of interest and proteins as objects\n",
    "prots_filt = []\n",
    "for key in protneighs:\n",
    "    for item in protneighs[key]:\n",
    "        pred = item[1]\n",
    "        obj = item[2]\n",
    "        if pred in relations and obj == midazolam:\n",
    "            prots_filt.append(key)\n",
    "len(prots_filt)"
   ]
  },
  {
   "cell_type": "code",
   "execution_count": null,
   "id": "197d2317-9600-45e5-85a9-1f0c5b73e559",
   "metadata": {},
   "outputs": [],
   "source": [
    "prots_filt"
   ]
  },
  {
   "cell_type": "code",
   "execution_count": null,
   "id": "fafbc94b-871d-4cac-9d08-78f7a8e6a764",
   "metadata": {},
   "outputs": [],
   "source": [
    "def get_neighbors(nx_graph, node):\n",
    "    neighs = nx.neighbors(nx_graph, node)\n",
    "    neighs_list = []\n",
    "    for item in neighs:\n",
    "        nodestr = nodeLabels[str(node)]\n",
    "        neighbor = nodeLabels[str(item)]\n",
    "        edge_result = nx_graph.get_edge_data(node, item)\n",
    "        edge_keys = list(edge_result.keys())\n",
    "        for edge in edge_keys:\n",
    "            edgestr = nodeLabels[str(edge)]\n",
    "            edgevalue = edge_result[edge]\n",
    "            result = [nodestr, edgestr, neighbor]\n",
    "            if 'source_graph' in edgevalue:\n",
    "                result.append(edgevalue['source_graph'])\n",
    "            if 'timestamp' in edgevalue:\n",
    "                result.append(edgevalue['timestamp'])\n",
    "            if 'pmid' in edgevalue:\n",
    "                result.append(edgevalue['pmid'])\n",
    "            neighs_list.append(result)\n",
    "    return neighs_list"
   ]
  },
  {
   "cell_type": "code",
   "execution_count": null,
   "id": "6c227048-9e13-4423-9f85-ba3e5af423ea",
   "metadata": {},
   "outputs": [],
   "source": [
    "len(prots)"
   ]
  },
  {
   "cell_type": "code",
   "execution_count": null,
   "id": "13ee5a15-2f41-4379-980a-acc9351a54d8",
   "metadata": {},
   "outputs": [],
   "source": [
    "neighs = get_neighbors_meta(nx_graph, midazolam)\n",
    "prots1 = []\n",
    "prots2 = []\n",
    "prots3 = []\n",
    "for item in neighs:\n",
    "    pred = item[1]\n",
    "    obj = item[2]\n",
    "    obj_id = str(obj).split('/')[-1].split('_')[0]\n",
    "    \n",
    "    if pred in relations and obj_id == 'PR':\n",
    "        prots1.append(obj)\n",
    "    if pred in relations and obj in prots:\n",
    "        prots2.append(obj)\n",
    "    if pred in relations:\n",
    "        prots3.append(obj)\n",
    "print(len(prots1), len(prots2), len(prots3))"
   ]
  },
  {
   "cell_type": "code",
   "execution_count": null,
   "id": "a8c83bf1-dfa3-4701-a39f-6bb1d4bd1f7d",
   "metadata": {},
   "outputs": [],
   "source": [
    "##prots1 = midazolam - predicate - PR\n",
    "##prots2 = midazolam - predicate - PR, kratom - predicate - PR\n",
    "##prots3 = midazolam - predicate - object"
   ]
  },
  {
   "cell_type": "code",
   "execution_count": null,
   "id": "6c1a119d-a1a2-42ec-bdaf-8a3863d2cef7",
   "metadata": {},
   "outputs": [],
   "source": [
    "for item in prots1:\n",
    "    print(nodeLabels[str(item)])"
   ]
  },
  {
   "cell_type": "code",
   "execution_count": null,
   "id": "cc59e7be-36ac-405e-acf3-d060470a9200",
   "metadata": {},
   "outputs": [],
   "source": [
    "for item in prots2:\n",
    "    print(nodeLabels[str(item)])"
   ]
  },
  {
   "cell_type": "code",
   "execution_count": null,
   "id": "05fc52f9-5578-4bce-993d-dceb1a4fc2a7",
   "metadata": {},
   "outputs": [],
   "source": [
    "for item in prots3:\n",
    "    print(nodeLabels[str(item)])"
   ]
  },
  {
   "cell_type": "code",
   "execution_count": null,
   "id": "72d60d6f-53f1-47e8-aa52-4d1010923b5b",
   "metadata": {},
   "outputs": [],
   "source": [
    "##Nadolol-green tea direct edges\n",
    "midazoneighs = get_neighbors_meta(nx_graph, midazolam)\n",
    "direct = []\n",
    "for item in midazoneighs:\n",
    "    pred = item[1]\n",
    "    obj = item[2]\n",
    "    if pred in relations and obj in ktnodes:\n",
    "        direct.append(item)\n",
    "len(direct)"
   ]
  },
  {
   "cell_type": "code",
   "execution_count": null,
   "id": "bd38ca7a-f7af-4485-a9c6-3330b7209d0c",
   "metadata": {},
   "outputs": [],
   "source": [
    "direct"
   ]
  },
  {
   "cell_type": "code",
   "execution_count": null,
   "id": "ca8b3196-f26f-4882-8c47-73d596e0c25b",
   "metadata": {},
   "outputs": [],
   "source": []
  },
  {
   "cell_type": "code",
   "execution_count": null,
   "id": "77f9dd7a-04a6-405a-8d4c-900e5a70c9ef",
   "metadata": {},
   "outputs": [],
   "source": [
    "naloxone = obo.CHEBI_7459\n",
    "nodeLabels[str(naloxone)]"
   ]
  },
  {
   "cell_type": "code",
   "execution_count": null,
   "id": "af42d981-3706-40e8-86bf-7f2878735ae3",
   "metadata": {},
   "outputs": [],
   "source": [
    "#list of green tea nodes\n",
    "ktnodes = [\n",
    "    obodict['kratom'][0],\n",
    "    obodict['mitragynine'][0],\n",
    "    obodict['hydroxy_mitragynine'][0],\n",
    "    obodict['hydroxy_mitragynine'][1]\n",
    "]"
   ]
  },
  {
   "cell_type": "code",
   "execution_count": null,
   "id": "156564a6-6f5f-49ff-8ec4-545f13dafdd7",
   "metadata": {},
   "outputs": [],
   "source": [
    "'''RELATIONS OF INTEREST\n",
    "directly regulates activity of2448\n",
    "positively regulates2213\n",
    "capable of regulating2596\n",
    "capable of positively regulating2598\n",
    "interacts with2434\n",
    "molecularly interacts with2436\n",
    "correlated with2610\n",
    "regulates activity of11002\n",
    "'''\n",
    "relations = [obo.RO_0002610,\n",
    "             obo.RO_0002434,\n",
    "             obo.RO_0002213,\n",
    "             obo.RO_0002448,\n",
    "             obo.RO_0002436,\n",
    "             obo.RO_0011002,\n",
    "             obo.RO_0002596,\n",
    "             obo.RO_0002598,\n",
    "            obo.RO_0002449]"
   ]
  },
  {
   "cell_type": "code",
   "execution_count": null,
   "id": "4403b85b-3252-4475-ba92-12825e720a0b",
   "metadata": {},
   "outputs": [],
   "source": [
    "#get all neighbors of a node\n",
    "def get_neighbors_meta(nx_graph, node):\n",
    "    neighs = nx.neighbors(nx_graph, node)\n",
    "    neighs_list = []\n",
    "    for item in neighs:\n",
    "        #nodestr = nodeLabels[str(node)]\n",
    "        #neighbor = nodeLabels[str(item)]\n",
    "        edge_result = nx_graph.get_edge_data(node, item)\n",
    "        edge_keys = list(edge_result.keys())\n",
    "        for edge in edge_keys:\n",
    "            edgestr = nodeLabels[str(edge)]\n",
    "            edgevalue = edge_result[edge]\n",
    "            result = [node, edge, item]\n",
    "            if 'source_graph' in edgevalue:\n",
    "                result.append(edgevalue['source_graph'])\n",
    "            if 'timestamp' in edgevalue:\n",
    "                result.append(edgevalue['timestamp'])\n",
    "            neighs_list.append(result)\n",
    "    return neighs_list"
   ]
  },
  {
   "cell_type": "code",
   "execution_count": null,
   "id": "ebc58a4c-df86-4f52-b855-16cfed130982",
   "metadata": {},
   "outputs": [],
   "source": [
    "ktneighs = {}\n",
    "for node in ktnodes:\n",
    "    if str(node) in nodeLabels:\n",
    "        if isinstance(nodeLabels[str(node)], str):\n",
    "            nodestr = nodeLabels[str(node)]\n",
    "        else:\n",
    "            nodestr = nodeLabels[str(node)]['label']\n",
    "    else:\n",
    "        nodestr = str(node)\n",
    "    neighbors = get_neighbors_meta(nx_graph, node)\n",
    "    if nodestr in ktneighs:\n",
    "        ktneighs[nodestr].extend(neighbors)\n",
    "    else:\n",
    "        ktneighs[nodestr] = neighbors\n",
    "len(ktneighs)"
   ]
  },
  {
   "cell_type": "code",
   "execution_count": null,
   "id": "17457961-a4d4-4013-8829-d1fd26822e96",
   "metadata": {},
   "outputs": [],
   "source": [
    "for key in ktneighs:\n",
    "    print(key, len(ktneighs[key]))"
   ]
  },
  {
   "cell_type": "code",
   "execution_count": null,
   "id": "c4718e8d-8efd-4d31-8c68-98bdb6a0779d",
   "metadata": {},
   "outputs": [],
   "source": [
    "##checking if direct edge to midazolam\n",
    "for node in ktnodes:\n",
    "    edge_res = nx_graph.get_edge_data(node, naloxone)\n",
    "    if edge_res:\n",
    "        print(node)\n",
    "        print(edge_res)"
   ]
  },
  {
   "cell_type": "code",
   "execution_count": null,
   "id": "5027c6ec-ccb3-4ae1-ad3b-4c4e7b72f1da",
   "metadata": {},
   "outputs": [],
   "source": [
    "#filter neighboring triples to only relations of interest and proteins as objects\n",
    "ktneighs_filt = {}\n",
    "for key in ktneighs:\n",
    "    ktneighs_filt[key] = []\n",
    "    for item in ktneighs[key]:\n",
    "        pred = item[1]\n",
    "        obj_id = str(item[2]).split('/')[-1].split('_')[0]\n",
    "        if pred in relations and obj_id == 'PR':\n",
    "            ktneighs_filt[key].append(item)"
   ]
  },
  {
   "cell_type": "code",
   "execution_count": null,
   "id": "fa80c566-6766-4740-b80e-796808b10ab3",
   "metadata": {},
   "outputs": [],
   "source": [
    "for key in ktneighs_filt:\n",
    "    print(key, len(ktneighs_filt[key]))"
   ]
  },
  {
   "cell_type": "code",
   "execution_count": null,
   "id": "e481082a-163f-434d-9d10-6d6be6b90429",
   "metadata": {},
   "outputs": [],
   "source": [
    "with open(DIR_OUT+'kratom_metapath1.pickle', 'wb') as fileo:\n",
    "    pickle.dump(ktneighs_filt, fileo)"
   ]
  },
  {
   "cell_type": "code",
   "execution_count": null,
   "id": "ac36fede-5ca3-4b24-9532-8d593880b5b4",
   "metadata": {},
   "outputs": [],
   "source": [
    "prlist = []\n",
    "for key in ktneighs_filt:\n",
    "    for item in ktneighs_filt[key]:\n",
    "        prlist.append(item[2])\n",
    "len(prlist)"
   ]
  },
  {
   "cell_type": "code",
   "execution_count": null,
   "id": "3f62fc2d-0cfe-4688-8a8d-a4becff42d97",
   "metadata": {},
   "outputs": [],
   "source": [
    "prots = list(set(prlist))"
   ]
  },
  {
   "cell_type": "code",
   "execution_count": null,
   "id": "fffaa77f-fd93-4fcb-a0a3-48fbb309e6e7",
   "metadata": {},
   "outputs": [],
   "source": [
    "len(prots)"
   ]
  },
  {
   "cell_type": "code",
   "execution_count": null,
   "id": "feb7e786-4622-4796-a26a-64fa5cc4257c",
   "metadata": {},
   "outputs": [],
   "source": [
    "protslabels = []\n",
    "for item in prots:\n",
    "    if str(item) in nodeLabels:\n",
    "        if isinstance(nodeLabels[str(item)], str):\n",
    "            protslabels.append(nodeLabels[str(item)])\n",
    "        else:\n",
    "            protslabels.append(nodeLabels[str(item)]['label'])\n",
    "    else:\n",
    "        print(item)\n",
    "        protslabels.append(str(item))\n",
    "len(protslabels)"
   ]
  },
  {
   "cell_type": "code",
   "execution_count": null,
   "id": "78526877-d954-4c60-b7c1-0b949b9c6031",
   "metadata": {},
   "outputs": [],
   "source": [
    "for item in protslabels:\n",
    "    if isinstance(item, dict):\n",
    "        print(item)"
   ]
  },
  {
   "cell_type": "code",
   "execution_count": null,
   "id": "45eda277-5814-4088-9dd5-f97e5a858d74",
   "metadata": {},
   "outputs": [],
   "source": [
    "with open(DIR_OUT+'kratom_protein_labels.txt', 'w') as file2:\n",
    "    for label in protslabels:\n",
    "        file2.write(label)\n",
    "        file2.write('\\n')"
   ]
  },
  {
   "cell_type": "code",
   "execution_count": null,
   "id": "a84d6f91-1770-4b8e-bcb0-7737031771c3",
   "metadata": {},
   "outputs": [],
   "source": [
    "## for nodes of green tea and green tea constituents, get all neighbors with \n",
    "## edge in relations and object in PR or GO\n",
    "protneighs = {}\n",
    "for node in prots:\n",
    "    if str(node) in nodeLabels:\n",
    "        if isinstance(nodeLabels[str(node)], str):\n",
    "            nodestr = nodeLabels[str(node)]\n",
    "        else:\n",
    "            nodestr = nodeLabels[str(node)]['label']\n",
    "    else:\n",
    "        nodestr = str(node)\n",
    "    neighbors = get_neighbors_meta(nx_graph, node)\n",
    "    if nodestr in protneighs:\n",
    "        protneighs[nodestr].extend(neighbors)\n",
    "    else:\n",
    "        protneighs[nodestr] = neighbors\n",
    "len(protneighs)"
   ]
  },
  {
   "cell_type": "code",
   "execution_count": null,
   "id": "8343f105-0fed-42a9-8100-742046262e6d",
   "metadata": {},
   "outputs": [],
   "source": [
    "#filter neighboring triples to only relations of interest and proteins as objects\n",
    "prots_filt = []\n",
    "for key in protneighs:\n",
    "    for item in protneighs[key]:\n",
    "        pred = item[1]\n",
    "        obj = item[2]\n",
    "        if pred in relations and obj == naloxone:\n",
    "            prots_filt.append(key)\n",
    "len(prots_filt)"
   ]
  },
  {
   "cell_type": "code",
   "execution_count": null,
   "id": "a01e0d8f-ed2a-4cac-9825-f1e374519b6f",
   "metadata": {},
   "outputs": [],
   "source": [
    "prots_filt"
   ]
  },
  {
   "cell_type": "code",
   "execution_count": null,
   "id": "a43fb1f0-21a6-4ba6-b08a-13f2771de94a",
   "metadata": {},
   "outputs": [],
   "source": [
    "def get_neighbors(nx_graph, node):\n",
    "    neighs = nx.neighbors(nx_graph, node)\n",
    "    neighs_list = []\n",
    "    for item in neighs:\n",
    "        nodestr = nodeLabels[str(node)]\n",
    "        neighbor = nodeLabels[str(item)]\n",
    "        edge_result = nx_graph.get_edge_data(node, item)\n",
    "        edge_keys = list(edge_result.keys())\n",
    "        for edge in edge_keys:\n",
    "            edgestr = nodeLabels[str(edge)]\n",
    "            edgevalue = edge_result[edge]\n",
    "            result = [nodestr, edgestr, neighbor]\n",
    "            if 'source_graph' in edgevalue:\n",
    "                result.append(edgevalue['source_graph'])\n",
    "            if 'timestamp' in edgevalue:\n",
    "                result.append(edgevalue['timestamp'])\n",
    "            if 'pmid' in edgevalue:\n",
    "                result.append(edgevalue['pmid'])\n",
    "            neighs_list.append(result)\n",
    "    return neighs_list"
   ]
  },
  {
   "cell_type": "code",
   "execution_count": null,
   "id": "629dae97-446a-4738-9195-cc47970873e6",
   "metadata": {},
   "outputs": [],
   "source": [
    "len(prots)"
   ]
  },
  {
   "cell_type": "code",
   "execution_count": null,
   "id": "835f7eb5-80b4-4e6c-b980-9b5f7a76392a",
   "metadata": {},
   "outputs": [],
   "source": [
    "neighs = get_neighbors_meta(nx_graph, naloxone)\n",
    "prots1 = []\n",
    "prots2 = []\n",
    "prots3 = []\n",
    "for item in neighs:\n",
    "    pred = item[1]\n",
    "    obj = item[2]\n",
    "    obj_id = str(obj).split('/')[-1].split('_')[0]\n",
    "    \n",
    "    if pred in relations and obj_id == 'PR':\n",
    "        prots1.append(obj)\n",
    "    if pred in relations and obj in prots:\n",
    "        prots2.append(obj)\n",
    "    if pred in relations:\n",
    "        prots3.append(obj)\n",
    "print(len(prots1), len(prots2), len(prots3))"
   ]
  },
  {
   "cell_type": "code",
   "execution_count": null,
   "id": "fef9c76a-0f3b-4487-a25f-a13d65b3a36b",
   "metadata": {},
   "outputs": [],
   "source": [
    "##prots1 = naloxone - predicate - PR\n",
    "##prots2 = naloxone - predicate - PR, kratom - predicate - PR\n",
    "##prots3 = naloxone - predicate - object"
   ]
  },
  {
   "cell_type": "code",
   "execution_count": null,
   "id": "53314be5-eb76-4ba2-bf62-24b2caf822d8",
   "metadata": {},
   "outputs": [],
   "source": [
    "for item in prots1:\n",
    "    print(nodeLabels[str(item)])"
   ]
  },
  {
   "cell_type": "code",
   "execution_count": null,
   "id": "bfaf02d3-cbbe-4697-8ad1-2b8e0559f4ef",
   "metadata": {},
   "outputs": [],
   "source": [
    "for item in prots2:\n",
    "    print(nodeLabels[str(item)])"
   ]
  },
  {
   "cell_type": "code",
   "execution_count": null,
   "id": "3965f9d7-66f8-4d0b-b370-ecbb38118bc0",
   "metadata": {},
   "outputs": [],
   "source": [
    "for item in prots3:\n",
    "    print(nodeLabels[str(item)])"
   ]
  },
  {
   "cell_type": "code",
   "execution_count": null,
   "id": "f09c67d0-829f-4ce7-bdb3-8a495f3662a4",
   "metadata": {},
   "outputs": [],
   "source": [
    "naloneighs = get_neighbors_meta(nx_graph, naloxone)\n",
    "direct = []\n",
    "for item in naloneighs:\n",
    "    pred = item[1]\n",
    "    obj = item[2]\n",
    "    if pred in relations and obj in ktnodes:\n",
    "        direct.append(item)\n",
    "len(direct)"
   ]
  },
  {
   "cell_type": "code",
   "execution_count": null,
   "id": "a7f40779-9022-4af5-b918-035c20a8e89a",
   "metadata": {},
   "outputs": [],
   "source": [
    "direct"
   ]
  },
  {
   "cell_type": "markdown",
   "id": "609f0e42-3c37-4d26-8d3f-d768f32ca2e6",
   "metadata": {
    "tags": []
   },
   "source": [
    "## Kratom-quetiapine"
   ]
  },
  {
   "cell_type": "code",
   "execution_count": null,
   "id": "504831b7-05a9-464f-9ed9-fe04df99b246",
   "metadata": {},
   "outputs": [],
   "source": []
  },
  {
   "cell_type": "code",
   "execution_count": null,
   "id": "ccc1173e-dc0e-4648-9b26-bf405bad1288",
   "metadata": {},
   "outputs": [],
   "source": [
    "quet = obo.CHEBI_8707\n",
    "nodeLabels[str(quet)]"
   ]
  },
  {
   "cell_type": "code",
   "execution_count": null,
   "id": "84a529a5-79b4-47f2-9ba3-98d6200e0f9b",
   "metadata": {},
   "outputs": [],
   "source": [
    "#list of green tea nodes\n",
    "ktnodes = [\n",
    "    obodict['kratom'][0],\n",
    "    obodict['mitragynine'][0],\n",
    "    obodict['hydroxy_mitragynine'][0],\n",
    "    obodict['hydroxy_mitragynine'][1]\n",
    "]"
   ]
  },
  {
   "cell_type": "code",
   "execution_count": null,
   "id": "1ed9ec05-4a77-42a1-9387-287a3bf25af4",
   "metadata": {},
   "outputs": [],
   "source": [
    "'''RELATIONS OF INTEREST\n",
    "directly regulates activity of2448\n",
    "positively regulates2213\n",
    "capable of regulating2596\n",
    "capable of positively regulating2598\n",
    "interacts with2434\n",
    "molecularly interacts with2436\n",
    "correlated with2610\n",
    "regulates activity of11002\n",
    "'''\n",
    "relations = [obo.RO_0002610,\n",
    "             obo.RO_0002434,\n",
    "             obo.RO_0002213,\n",
    "             obo.RO_0002448,\n",
    "             obo.RO_0002436,\n",
    "             obo.RO_0011002,\n",
    "             obo.RO_0002596,\n",
    "             obo.RO_0002598,\n",
    "            obo.RO_0002449,\n",
    "            obo.DIDEO_00000041,\n",
    "            obo.RO_0002020]"
   ]
  },
  {
   "cell_type": "code",
   "execution_count": null,
   "id": "4eedb2d3-1c26-4119-8eed-9e92f9e90cbc",
   "metadata": {},
   "outputs": [],
   "source": [
    "#get all neighbors of a node\n",
    "def get_neighbors_meta(nx_graph, node):\n",
    "    neighs = nx.neighbors(nx_graph, node)\n",
    "    neighs_list = []\n",
    "    for item in neighs:\n",
    "        #nodestr = nodeLabels[str(node)]\n",
    "        #neighbor = nodeLabels[str(item)]\n",
    "        edge_result = nx_graph.get_edge_data(node, item)\n",
    "        edge_keys = list(edge_result.keys())\n",
    "        for edge in edge_keys:\n",
    "            edgestr = nodeLabels[str(edge)]\n",
    "            edgevalue = edge_result[edge]\n",
    "            result = [node, edge, item]\n",
    "            if 'source_graph' in edgevalue:\n",
    "                result.append(edgevalue['source_graph'])\n",
    "            if 'timestamp' in edgevalue:\n",
    "                result.append(edgevalue['timestamp'])\n",
    "            neighs_list.append(result)\n",
    "    return neighs_list"
   ]
  },
  {
   "cell_type": "code",
   "execution_count": null,
   "id": "5cb16075-a8d6-453b-8f34-4c76d0c825f2",
   "metadata": {},
   "outputs": [],
   "source": [
    "ktneighs = {}\n",
    "for node in ktnodes:\n",
    "    if str(node) in nodeLabels:\n",
    "        if isinstance(nodeLabels[str(node)], str):\n",
    "            nodestr = nodeLabels[str(node)]\n",
    "        else:\n",
    "            nodestr = nodeLabels[str(node)]['label']\n",
    "    else:\n",
    "        nodestr = str(node)\n",
    "    neighbors = get_neighbors_meta(nx_graph, node)\n",
    "    if nodestr in ktneighs:\n",
    "        ktneighs[nodestr].extend(neighbors)\n",
    "    else:\n",
    "        ktneighs[nodestr] = neighbors\n",
    "len(ktneighs)"
   ]
  },
  {
   "cell_type": "code",
   "execution_count": null,
   "id": "2f73f25a-2639-47ad-b758-e000bfc5b71e",
   "metadata": {},
   "outputs": [],
   "source": [
    "for key in ktneighs:\n",
    "    print(key, len(ktneighs[key]))"
   ]
  },
  {
   "cell_type": "code",
   "execution_count": null,
   "id": "8a2f310c-9fa9-44a2-b170-d7912bed6219",
   "metadata": {},
   "outputs": [],
   "source": [
    "##checking if direct edge\n",
    "for node in ktnodes:\n",
    "    edge_res = nx_graph.get_edge_data(node, quet)\n",
    "    if edge_res:\n",
    "        print(node)\n",
    "        print(edge_res)"
   ]
  },
  {
   "cell_type": "code",
   "execution_count": null,
   "id": "df849f3d-f0cd-4fdc-bb5e-6b2bbcc61e66",
   "metadata": {},
   "outputs": [],
   "source": [
    "for node in ktnodes:\n",
    "    edge_res = nx_graph.get_edge_data(quet, node)\n",
    "    if edge_res:\n",
    "        print(node)\n",
    "        print(edge_res)"
   ]
  },
  {
   "cell_type": "code",
   "execution_count": null,
   "id": "9703b067-6b89-4304-ae57-bc883e10f42c",
   "metadata": {},
   "outputs": [],
   "source": [
    "#filter neighboring triples to only relations of interest and proteins as objects\n",
    "ktneighs_filt = {}\n",
    "for key in ktneighs:\n",
    "    ktneighs_filt[key] = []\n",
    "    for item in ktneighs[key]:\n",
    "        pred = item[1]\n",
    "        obj_id = str(item[2]).split('/')[-1].split('_')[0]\n",
    "        if pred in relations and obj_id == 'PR':\n",
    "            ktneighs_filt[key].append(item)"
   ]
  },
  {
   "cell_type": "code",
   "execution_count": null,
   "id": "51b3e54d-2838-40c3-bd94-c9bf6a82079e",
   "metadata": {},
   "outputs": [],
   "source": [
    "for key in ktneighs_filt:\n",
    "    print(key, len(ktneighs_filt[key]))"
   ]
  },
  {
   "cell_type": "code",
   "execution_count": null,
   "id": "dff0b1cb-a37b-42ed-bc40-1e61482dfce9",
   "metadata": {},
   "outputs": [],
   "source": [
    "for item in ktneighs_filt['Mitragynine']:\n",
    "    pred = item[1]\n",
    "    obj = item[2]\n",
    "    print(nodeLabels[str(pred)], nodeLabels[str(obj)])"
   ]
  },
  {
   "cell_type": "code",
   "execution_count": null,
   "id": "ce215ff9-f50e-4aa8-8709-995672e30432",
   "metadata": {},
   "outputs": [],
   "source": [
    "with open(DIR_OUT+'kratom_metapath1.pickle', 'wb') as fileo:\n",
    "    pickle.dump(ktneighs_filt, fileo)"
   ]
  },
  {
   "cell_type": "code",
   "execution_count": null,
   "id": "3c4ac494-7b3c-4da6-a0ed-06f191f12d51",
   "metadata": {},
   "outputs": [],
   "source": [
    "prlist = []\n",
    "for key in ktneighs_filt:\n",
    "    for item in ktneighs_filt[key]:\n",
    "        prlist.append(item[2])\n",
    "len(prlist)"
   ]
  },
  {
   "cell_type": "code",
   "execution_count": null,
   "id": "986f32c3-48a9-4065-ad3a-aff57f3104d0",
   "metadata": {},
   "outputs": [],
   "source": [
    "prots = list(set(prlist))"
   ]
  },
  {
   "cell_type": "code",
   "execution_count": null,
   "id": "7828248c-8314-4c91-a09e-f44334597835",
   "metadata": {},
   "outputs": [],
   "source": [
    "len(prots)"
   ]
  },
  {
   "cell_type": "code",
   "execution_count": null,
   "id": "d8545270-efe9-4855-bf79-cb432aa3de60",
   "metadata": {},
   "outputs": [],
   "source": [
    "protslabels = []\n",
    "for item in prots:\n",
    "    if str(item) in nodeLabels:\n",
    "        if isinstance(nodeLabels[str(item)], str):\n",
    "            protslabels.append(nodeLabels[str(item)])\n",
    "        else:\n",
    "            protslabels.append(nodeLabels[str(item)]['label'])\n",
    "    else:\n",
    "        print(item)\n",
    "        protslabels.append(str(item))\n",
    "len(protslabels)"
   ]
  },
  {
   "cell_type": "code",
   "execution_count": null,
   "id": "2e5d08fc-0376-41dd-860b-e4e6f2e09b0c",
   "metadata": {},
   "outputs": [],
   "source": [
    "for item in protslabels:\n",
    "    if isinstance(item, dict):\n",
    "        print(item)"
   ]
  },
  {
   "cell_type": "code",
   "execution_count": null,
   "id": "ce9817f9-3953-47dd-8f3e-672b983a5fbf",
   "metadata": {},
   "outputs": [],
   "source": [
    "with open(DIR_OUT+'kratom_protein_labels.txt', 'w') as file2:\n",
    "    for label in protslabels:\n",
    "        file2.write(label)\n",
    "        file2.write('\\n')"
   ]
  },
  {
   "cell_type": "code",
   "execution_count": null,
   "id": "e0e94d1a-8866-40c9-bd39-e65f90925330",
   "metadata": {},
   "outputs": [],
   "source": [
    "## for nodes of green tea and green tea constituents, get all neighbors with \n",
    "## edge in relations and object in PR or GO\n",
    "protneighs = {}\n",
    "for node in prots:\n",
    "    if str(node) in nodeLabels:\n",
    "        if isinstance(nodeLabels[str(node)], str):\n",
    "            nodestr = nodeLabels[str(node)]\n",
    "        else:\n",
    "            nodestr = nodeLabels[str(node)]['label']\n",
    "    else:\n",
    "        nodestr = str(node)\n",
    "    neighbors = get_neighbors_meta(nx_graph, node)\n",
    "    if nodestr in protneighs:\n",
    "        protneighs[nodestr].extend(neighbors)\n",
    "    else:\n",
    "        protneighs[nodestr] = neighbors\n",
    "len(protneighs)"
   ]
  },
  {
   "cell_type": "code",
   "execution_count": null,
   "id": "4b213886-7760-456f-ae3c-aa4efdd07eec",
   "metadata": {},
   "outputs": [],
   "source": [
    "#filter neighboring triples to only relations of interest and proteins as objects\n",
    "prots_filt = []\n",
    "for key in protneighs:\n",
    "    for item in protneighs[key]:\n",
    "        pred = item[1]\n",
    "        obj = item[2]\n",
    "        if pred in relations and obj == quet:\n",
    "            prots_filt.append(key)\n",
    "len(prots_filt)"
   ]
  },
  {
   "cell_type": "code",
   "execution_count": null,
   "id": "e1e7b282-3ba2-4650-8ce8-27d4409fb871",
   "metadata": {},
   "outputs": [],
   "source": [
    "prots_filt"
   ]
  },
  {
   "cell_type": "code",
   "execution_count": null,
   "id": "ec1d411f-8004-4e31-84cf-729673407aa7",
   "metadata": {},
   "outputs": [],
   "source": [
    "def get_neighbors(nx_graph, node):\n",
    "    neighs = nx.neighbors(nx_graph, node)\n",
    "    neighs_list = []\n",
    "    for item in neighs:\n",
    "        nodestr = nodeLabels[str(node)]\n",
    "        neighbor = nodeLabels[str(item)]\n",
    "        edge_result = nx_graph.get_edge_data(node, item)\n",
    "        edge_keys = list(edge_result.keys())\n",
    "        for edge in edge_keys:\n",
    "            edgestr = nodeLabels[str(edge)]\n",
    "            edgevalue = edge_result[edge]\n",
    "            result = [nodestr, edgestr, neighbor]\n",
    "            if 'source_graph' in edgevalue:\n",
    "                result.append(edgevalue['source_graph'])\n",
    "            if 'timestamp' in edgevalue:\n",
    "                result.append(edgevalue['timestamp'])\n",
    "            if 'pmid' in edgevalue:\n",
    "                result.append(edgevalue['pmid'])\n",
    "            neighs_list.append(result)\n",
    "    return neighs_list"
   ]
  },
  {
   "cell_type": "code",
   "execution_count": null,
   "id": "d61f75e7-ccec-4166-a211-10b4c3f5ede2",
   "metadata": {},
   "outputs": [],
   "source": [
    "len(prots)"
   ]
  },
  {
   "cell_type": "code",
   "execution_count": null,
   "id": "d3b5552d-4ffd-47fd-b566-ade7e36d6631",
   "metadata": {},
   "outputs": [],
   "source": [
    "neighs = get_neighbors_meta(nx_graph, quet)\n",
    "prots1 = []\n",
    "prots2 = []\n",
    "prots3 = []\n",
    "for item in neighs:\n",
    "    pred = item[1]\n",
    "    obj = item[2]\n",
    "    obj_id = str(obj).split('/')[-1].split('_')[0]\n",
    "    \n",
    "    if pred in relations and obj_id == 'PR':\n",
    "        prots1.append(obj)\n",
    "    if pred in relations and obj in prots:\n",
    "        prots2.append(obj)\n",
    "    if pred in relations:\n",
    "        prots3.append(obj)\n",
    "print(len(prots1), len(prots2), len(prots3))"
   ]
  },
  {
   "cell_type": "code",
   "execution_count": null,
   "id": "44a17680-594e-4860-ad9e-72c3a977806f",
   "metadata": {},
   "outputs": [],
   "source": [
    "##prots1 = naloxone - predicate - PR\n",
    "##prots2 = naloxone - predicate - PR, kratom - predicate - PR\n",
    "##prots3 = naloxone - predicate - object"
   ]
  },
  {
   "cell_type": "code",
   "execution_count": null,
   "id": "babbdb8e-f766-4e57-8a51-9c78faf20592",
   "metadata": {},
   "outputs": [],
   "source": [
    "for item in prots1:\n",
    "    print(nodeLabels[str(item)])\n",
    "    print(nx_graph.get_edge_data(quet, item))"
   ]
  },
  {
   "cell_type": "code",
   "execution_count": null,
   "id": "4bdbd66b-cfe9-4573-8c4a-e8c3b4d8992f",
   "metadata": {},
   "outputs": [],
   "source": [
    "for item in prots2:\n",
    "    print(nodeLabels[str(item)])\n",
    "    print(nx_graph.get_edge_data(quet, item))"
   ]
  },
  {
   "cell_type": "code",
   "execution_count": null,
   "id": "d28865f5-e4ed-49f3-ac8e-9494c920d7a4",
   "metadata": {},
   "outputs": [],
   "source": [
    "for item in prots3:\n",
    "    print(nodeLabels[str(item)])\n",
    "    print(nx_graph.get_edge_data(quet, item))"
   ]
  },
  {
   "cell_type": "code",
   "execution_count": null,
   "id": "47b68e4e-6350-4814-a987-195050de799e",
   "metadata": {},
   "outputs": [],
   "source": [
    "quetneigh = get_neighbors_meta(nx_graph, quet)\n",
    "direct = []\n",
    "for item in quetneigh:\n",
    "    pred = item[1]\n",
    "    obj = item[2]\n",
    "    if pred in relations and obj in ktnodes:\n",
    "        direct.append(item)\n",
    "len(direct)"
   ]
  },
  {
   "cell_type": "code",
   "execution_count": null,
   "id": "9be52ce2-ef6a-4078-84b1-ea9fbedb0e51",
   "metadata": {},
   "outputs": [],
   "source": [
    "direct"
   ]
  },
  {
   "cell_type": "markdown",
   "id": "f5c72db0-436c-41dd-88d9-98814a20d3bc",
   "metadata": {
    "tags": []
   },
   "source": [
    "## Kratom-venlafaxine"
   ]
  },
  {
   "cell_type": "code",
   "execution_count": null,
   "id": "977dfe46-6a87-40e8-aed4-35934feb4207",
   "metadata": {},
   "outputs": [],
   "source": [
    "venla = obo.CHEBI_9943\n",
    "nodeLabels[str(venla)]"
   ]
  },
  {
   "cell_type": "code",
   "execution_count": null,
   "id": "b6176487-8e68-4939-a356-ab55b94f8970",
   "metadata": {},
   "outputs": [],
   "source": [
    "#list of green tea nodes\n",
    "ktnodes = [\n",
    "    obodict['kratom'][0],\n",
    "    obodict['mitragynine'][0],\n",
    "    obodict['hydroxy_mitragynine'][0],\n",
    "    obodict['hydroxy_mitragynine'][1]\n",
    "]"
   ]
  },
  {
   "cell_type": "code",
   "execution_count": null,
   "id": "068ec194-7594-487a-a478-efc4a785dd4e",
   "metadata": {},
   "outputs": [],
   "source": [
    "'''RELATIONS OF INTEREST\n",
    "directly regulates activity of2448\n",
    "positively regulates2213\n",
    "capable of regulating2596\n",
    "capable of positively regulating2598\n",
    "interacts with2434\n",
    "molecularly interacts with2436\n",
    "correlated with2610\n",
    "regulates activity of11002\n",
    "'''\n",
    "relations = [obo.RO_0002610,\n",
    "             obo.RO_0002434,\n",
    "             obo.RO_0002213,\n",
    "             obo.RO_0002448,\n",
    "             obo.RO_0002436,\n",
    "             obo.RO_0011002,\n",
    "             obo.RO_0002596,\n",
    "             obo.RO_0002598,\n",
    "            obo.RO_0002449,\n",
    "            obo.DIDEO_00000041,\n",
    "            obo.RO_0002020]"
   ]
  },
  {
   "cell_type": "code",
   "execution_count": null,
   "id": "171702e0-1d00-4cc6-80ba-7cc05b845643",
   "metadata": {},
   "outputs": [],
   "source": [
    "#get all neighbors of a node\n",
    "def get_neighbors_meta(nx_graph, node):\n",
    "    neighs = nx.neighbors(nx_graph, node)\n",
    "    neighs_list = []\n",
    "    for item in neighs:\n",
    "        #nodestr = nodeLabels[str(node)]\n",
    "        #neighbor = nodeLabels[str(item)]\n",
    "        edge_result = nx_graph.get_edge_data(node, item)\n",
    "        edge_keys = list(edge_result.keys())\n",
    "        for edge in edge_keys:\n",
    "            edgestr = nodeLabels[str(edge)]\n",
    "            edgevalue = edge_result[edge]\n",
    "            result = [node, edge, item]\n",
    "            if 'source_graph' in edgevalue:\n",
    "                result.append(edgevalue['source_graph'])\n",
    "            if 'timestamp' in edgevalue:\n",
    "                result.append(edgevalue['timestamp'])\n",
    "            neighs_list.append(result)\n",
    "    return neighs_list"
   ]
  },
  {
   "cell_type": "code",
   "execution_count": null,
   "id": "06758dd7-5131-40d2-a2b0-a5a2eff7e683",
   "metadata": {},
   "outputs": [],
   "source": [
    "ktneighs = {}\n",
    "for node in ktnodes:\n",
    "    if str(node) in nodeLabels:\n",
    "        if isinstance(nodeLabels[str(node)], str):\n",
    "            nodestr = nodeLabels[str(node)]\n",
    "        else:\n",
    "            nodestr = nodeLabels[str(node)]['label']\n",
    "    else:\n",
    "        nodestr = str(node)\n",
    "    neighbors = get_neighbors_meta(nx_graph, node)\n",
    "    if nodestr in ktneighs:\n",
    "        ktneighs[nodestr].extend(neighbors)\n",
    "    else:\n",
    "        ktneighs[nodestr] = neighbors\n",
    "len(ktneighs)"
   ]
  },
  {
   "cell_type": "code",
   "execution_count": null,
   "id": "b9d05d4d-88de-4fd8-9522-54014c8fc378",
   "metadata": {},
   "outputs": [],
   "source": [
    "for key in ktneighs:\n",
    "    print(key, len(ktneighs[key]))"
   ]
  },
  {
   "cell_type": "code",
   "execution_count": null,
   "id": "11f0d969-850a-4ace-9f86-422af0f2a59c",
   "metadata": {},
   "outputs": [],
   "source": [
    "##checking if direct edge\n",
    "for node in ktnodes:\n",
    "    edge_res = nx_graph.get_edge_data(node, venla)\n",
    "    if edge_res:\n",
    "        print(node)\n",
    "        print(edge_res)"
   ]
  },
  {
   "cell_type": "code",
   "execution_count": null,
   "id": "148a23bc-932b-4258-930a-42ce9b35c0e5",
   "metadata": {},
   "outputs": [],
   "source": [
    "for node in ktnodes:\n",
    "    edge_res = nx_graph.get_edge_data(quet, venla)\n",
    "    if edge_res:\n",
    "        print(node)\n",
    "        print(edge_res)"
   ]
  },
  {
   "cell_type": "code",
   "execution_count": null,
   "id": "5a536f5e-bca3-4d94-bb68-d9929d013f89",
   "metadata": {},
   "outputs": [],
   "source": [
    "#filter neighboring triples to only relations of interest and proteins as objects\n",
    "ktneighs_filt = {}\n",
    "for key in ktneighs:\n",
    "    ktneighs_filt[key] = []\n",
    "    for item in ktneighs[key]:\n",
    "        pred = item[1]\n",
    "        obj_id = str(item[2]).split('/')[-1].split('_')[0]\n",
    "        if pred in relations and obj_id == 'PR':\n",
    "            ktneighs_filt[key].append(item)"
   ]
  },
  {
   "cell_type": "code",
   "execution_count": null,
   "id": "e65b70ce-3fe4-4c02-9dc7-9702b8697673",
   "metadata": {},
   "outputs": [],
   "source": [
    "for key in ktneighs_filt:\n",
    "    print(key, len(ktneighs_filt[key]))"
   ]
  },
  {
   "cell_type": "code",
   "execution_count": null,
   "id": "58d7d821-61f7-4933-ad0f-934e6962ccc4",
   "metadata": {},
   "outputs": [],
   "source": [
    "for item in ktneighs_filt['Mitragynine']:\n",
    "    pred = item[1]\n",
    "    obj = item[2]\n",
    "    print(nodeLabels[str(pred)], nodeLabels[str(obj)])"
   ]
  },
  {
   "cell_type": "code",
   "execution_count": null,
   "id": "c6e9be93-2bc5-41f7-be70-08245b077cc9",
   "metadata": {},
   "outputs": [],
   "source": [
    "with open(DIR_OUT+'kratom_metapath1.pickle', 'wb') as fileo:\n",
    "    pickle.dump(ktneighs_filt, fileo)"
   ]
  },
  {
   "cell_type": "code",
   "execution_count": null,
   "id": "8a59e898-23a6-4766-84c2-8e376593c37e",
   "metadata": {},
   "outputs": [],
   "source": [
    "prlist = []\n",
    "for key in ktneighs_filt:\n",
    "    for item in ktneighs_filt[key]:\n",
    "        prlist.append(item[2])\n",
    "len(prlist)"
   ]
  },
  {
   "cell_type": "code",
   "execution_count": null,
   "id": "03ded7b4-92fa-4bf4-bfda-c9e1b45e285c",
   "metadata": {},
   "outputs": [],
   "source": [
    "prots = list(set(prlist))"
   ]
  },
  {
   "cell_type": "code",
   "execution_count": null,
   "id": "be31a25e-65c4-42ab-9b54-75614c4d0007",
   "metadata": {},
   "outputs": [],
   "source": [
    "len(prots)"
   ]
  },
  {
   "cell_type": "code",
   "execution_count": null,
   "id": "2f10f795-5876-4347-b31f-203d98356328",
   "metadata": {},
   "outputs": [],
   "source": [
    "protslabels = []\n",
    "for item in prots:\n",
    "    if str(item) in nodeLabels:\n",
    "        if isinstance(nodeLabels[str(item)], str):\n",
    "            protslabels.append(nodeLabels[str(item)])\n",
    "        else:\n",
    "            protslabels.append(nodeLabels[str(item)]['label'])\n",
    "    else:\n",
    "        print(item)\n",
    "        protslabels.append(str(item))\n",
    "len(protslabels)"
   ]
  },
  {
   "cell_type": "code",
   "execution_count": null,
   "id": "4b901233-6005-4290-a01b-b1ce759dfbbc",
   "metadata": {},
   "outputs": [],
   "source": [
    "for item in protslabels:\n",
    "    if isinstance(item, dict):\n",
    "        print(item)"
   ]
  },
  {
   "cell_type": "code",
   "execution_count": null,
   "id": "870f4887-0543-43c3-a871-03f444cb6e8b",
   "metadata": {},
   "outputs": [],
   "source": [
    "with open(DIR_OUT+'kratom_protein_labels.txt', 'w') as file2:\n",
    "    for label in protslabels:\n",
    "        file2.write(label)\n",
    "        file2.write('\\n')"
   ]
  },
  {
   "cell_type": "code",
   "execution_count": null,
   "id": "52c8dc61-7c5f-466f-b61b-e8d80832d1d1",
   "metadata": {},
   "outputs": [],
   "source": [
    "## for nodes of green tea and green tea constituents, get all neighbors with \n",
    "## edge in relations and object in PR or GO\n",
    "protneighs = {}\n",
    "for node in prots:\n",
    "    if str(node) in nodeLabels:\n",
    "        if isinstance(nodeLabels[str(node)], str):\n",
    "            nodestr = nodeLabels[str(node)]\n",
    "        else:\n",
    "            nodestr = nodeLabels[str(node)]['label']\n",
    "    else:\n",
    "        nodestr = str(node)\n",
    "    neighbors = get_neighbors_meta(nx_graph, node)\n",
    "    if nodestr in protneighs:\n",
    "        protneighs[nodestr].extend(neighbors)\n",
    "    else:\n",
    "        protneighs[nodestr] = neighbors\n",
    "len(protneighs)"
   ]
  },
  {
   "cell_type": "code",
   "execution_count": null,
   "id": "3f80378e-d5f4-40cf-ae54-8b830815ac43",
   "metadata": {},
   "outputs": [],
   "source": [
    "#filter neighboring triples to only relations of interest and proteins as objects\n",
    "prots_filt = []\n",
    "for key in protneighs:\n",
    "    for item in protneighs[key]:\n",
    "        pred = item[1]\n",
    "        obj = item[2]\n",
    "        if pred in relations and obj == venla:\n",
    "            prots_filt.append(key)\n",
    "len(prots_filt)"
   ]
  },
  {
   "cell_type": "code",
   "execution_count": null,
   "id": "a7a685be-ffba-4c04-bfb1-60d34d3f9a85",
   "metadata": {},
   "outputs": [],
   "source": [
    "prots_filt"
   ]
  },
  {
   "cell_type": "code",
   "execution_count": null,
   "id": "18fa0e9f-d75a-409d-8384-a64f1071eb15",
   "metadata": {},
   "outputs": [],
   "source": [
    "def get_neighbors(nx_graph, node):\n",
    "    neighs = nx.neighbors(nx_graph, node)\n",
    "    neighs_list = []\n",
    "    for item in neighs:\n",
    "        nodestr = nodeLabels[str(node)]\n",
    "        neighbor = nodeLabels[str(item)]\n",
    "        edge_result = nx_graph.get_edge_data(node, item)\n",
    "        edge_keys = list(edge_result.keys())\n",
    "        for edge in edge_keys:\n",
    "            edgestr = nodeLabels[str(edge)]\n",
    "            edgevalue = edge_result[edge]\n",
    "            result = [nodestr, edgestr, neighbor]\n",
    "            if 'source_graph' in edgevalue:\n",
    "                result.append(edgevalue['source_graph'])\n",
    "            if 'timestamp' in edgevalue:\n",
    "                result.append(edgevalue['timestamp'])\n",
    "            if 'pmid' in edgevalue:\n",
    "                result.append(edgevalue['pmid'])\n",
    "            neighs_list.append(result)\n",
    "    return neighs_list"
   ]
  },
  {
   "cell_type": "code",
   "execution_count": null,
   "id": "d839601c-0dcd-49d0-8aa7-d286081814cd",
   "metadata": {},
   "outputs": [],
   "source": [
    "len(prots)"
   ]
  },
  {
   "cell_type": "code",
   "execution_count": null,
   "id": "4bca80ed-dc09-492b-a1e7-1fa7babf29ed",
   "metadata": {},
   "outputs": [],
   "source": [
    "neighs = get_neighbors_meta(nx_graph, venla)\n",
    "prots1 = []\n",
    "prots2 = []\n",
    "prots3 = []\n",
    "for item in neighs:\n",
    "    pred = item[1]\n",
    "    obj = item[2]\n",
    "    obj_id = str(obj).split('/')[-1].split('_')[0]\n",
    "    \n",
    "    if pred in relations and obj_id == 'PR':\n",
    "        prots1.append(obj)\n",
    "    if pred in relations and obj in prots:\n",
    "        prots2.append(obj)\n",
    "    if pred in relations:\n",
    "        prots3.append(obj)\n",
    "print(len(prots1), len(prots2), len(prots3))"
   ]
  },
  {
   "cell_type": "code",
   "execution_count": null,
   "id": "e8cd3810-6c63-4144-a1c3-9602876c3d96",
   "metadata": {},
   "outputs": [],
   "source": [
    "##prots1 = naloxone - predicate - PR\n",
    "##prots2 = naloxone - predicate - PR, kratom - predicate - PR\n",
    "##prots3 = naloxone - predicate - object"
   ]
  },
  {
   "cell_type": "code",
   "execution_count": null,
   "id": "83600b55-f9fe-477e-8f0a-feb2943313aa",
   "metadata": {},
   "outputs": [],
   "source": [
    "for item in prots1:\n",
    "    print(nodeLabels[str(item)])\n",
    "    print(nx_graph.get_edge_data(venla, item))"
   ]
  },
  {
   "cell_type": "code",
   "execution_count": null,
   "id": "5753d779-a7da-452c-8531-5b8914c6b0a3",
   "metadata": {},
   "outputs": [],
   "source": [
    "for item in prots2:\n",
    "    print(nodeLabels[str(item)])\n",
    "    print(nx_graph.get_edge_data(venla, item))"
   ]
  },
  {
   "cell_type": "code",
   "execution_count": null,
   "id": "a2c51fc4-3d77-4abd-b266-5be0a94943de",
   "metadata": {},
   "outputs": [],
   "source": [
    "for item in prots3:\n",
    "    print(nodeLabels[str(item)])\n",
    "    print(nx_graph.get_edge_data(venla, item))"
   ]
  },
  {
   "cell_type": "code",
   "execution_count": null,
   "id": "566cc799-6071-4907-b352-302bccaf79df",
   "metadata": {},
   "outputs": [],
   "source": [
    "venlaneigh = get_neighbors_meta(nx_graph, venla)\n",
    "direct = []\n",
    "for item in venlaneigh:\n",
    "    pred = item[1]\n",
    "    obj = item[2]\n",
    "    if pred in relations and obj in ktnodes:\n",
    "        direct.append(item)\n",
    "len(direct)"
   ]
  },
  {
   "cell_type": "code",
   "execution_count": null,
   "id": "75d34802-3036-4442-b87e-6be5ffe2a234",
   "metadata": {},
   "outputs": [],
   "source": [
    "direct"
   ]
  },
  {
   "cell_type": "code",
   "execution_count": null,
   "id": "157f15e8-1426-4588-9d06-f4ec7a83a4b5",
   "metadata": {},
   "outputs": [],
   "source": [
    "prot"
   ]
  }
 ],
 "metadata": {
  "kernelspec": {
   "display_name": "Python 3 (ipykernel)",
   "language": "python",
   "name": "python3"
  },
  "language_info": {
   "codemirror_mode": {
    "name": "ipython",
    "version": 3
   },
   "file_extension": ".py",
   "mimetype": "text/x-python",
   "name": "python",
   "nbconvert_exporter": "python",
   "pygments_lexer": "ipython3",
   "version": "3.9.12"
  }
 },
 "nbformat": 4,
 "nbformat_minor": 5
}
