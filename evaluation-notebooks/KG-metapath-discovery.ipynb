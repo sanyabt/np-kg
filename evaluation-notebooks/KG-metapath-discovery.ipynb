{
 "cells": [
  {
   "cell_type": "markdown",
   "id": "efficient-honey",
   "metadata": {},
   "source": [
    "## Notebook to search metapaths in the KG for clinical case studies.\n",
    "\n",
    "### Case Studies (Natural Product-Drug Pairs)\n",
    "1. Green tea-raloxifene\n",
    "2. Green tea-nadolol\n",
    "3. Kratom-midazolam\n",
    "4. Kratom-quetiapene\n",
    "5. Kratom-venlafaxine"
   ]
  },
  {
   "cell_type": "markdown",
   "id": "dedicated-adapter",
   "metadata": {
    "tags": []
   },
   "source": [
    "## Meta Path Searches - with predicate restrictions"
   ]
  },
  {
   "cell_type": "code",
   "execution_count": null,
   "id": "deluxe-mediterranean",
   "metadata": {},
   "outputs": [],
   "source": [
    "# # uncomment and run to install any required modules from np-kg/requirements.txt if any of the packages below \n",
    "# give import errors\n",
    "# import sys\n",
    "# !{sys.executable} -m pip install -r requirements.txt"
   ]
  },
  {
   "cell_type": "code",
   "execution_count": null,
   "id": "crude-powell",
   "metadata": {},
   "outputs": [],
   "source": [
    "import os\n",
    "import os.path\n",
    "import networkx as nx\n",
    "import json\n",
    "import urllib\n",
    "import traceback\n",
    "from itertools import islice\n",
    "from rdflib import Graph, URIRef, BNode, Namespace, Literal\n",
    "from rdflib.namespace import RDF, OWL\n",
    "from tqdm import tqdm\n",
    "import json"
   ]
  },
  {
   "cell_type": "code",
   "execution_count": null,
   "id": "honest-function",
   "metadata": {},
   "outputs": [],
   "source": [
    "import hashlib"
   ]
  },
  {
   "cell_type": "code",
   "execution_count": null,
   "id": "certified-finder",
   "metadata": {},
   "outputs": [],
   "source": [
    "import pickle\n",
    "import pandas as pd\n",
    "import numpy as np\n",
    "import KG_path_searches"
   ]
  },
  {
   "cell_type": "code",
   "execution_count": null,
   "id": "joint-rebound",
   "metadata": {},
   "outputs": [],
   "source": [
    "KG_PATH = '../resources/knowledge_graphs/'\n",
    "NodeLabelsFile = KG_PATH + 'nodeLabels_v1.0.pickle'\n",
    "KG_NAME_MERGED = 'PheKnowLator_machine_read_merged_instance_based_OWLNETS_v1.0.gpickle'"
   ]
  },
  {
   "cell_type": "code",
   "execution_count": null,
   "id": "recorded-block",
   "metadata": {},
   "outputs": [],
   "source": [
    "with open(NodeLabelsFile, 'rb') as filep:\n",
    "    nodeLabels = pickle.load(filep)"
   ]
  },
  {
   "cell_type": "code",
   "execution_count": null,
   "id": "bacterial-category",
   "metadata": {},
   "outputs": [],
   "source": [
    "##READ MERGED GRAPH\n",
    "nx_graph = nx.read_gpickle(KG_PATH+KG_NAME_MERGED)"
   ]
  },
  {
   "cell_type": "code",
   "execution_count": null,
   "id": "nonprofit-matthew",
   "metadata": {},
   "outputs": [],
   "source": [
    "# output directory (created if does not exist)\n",
    "DIR_OUT = '../output_files/'\n",
    "if not os.path.exists(DIR_OUT): os.mkdir(DIR_OUT)"
   ]
  },
  {
   "cell_type": "code",
   "execution_count": null,
   "id": "detailed-davis",
   "metadata": {},
   "outputs": [],
   "source": [
    "obo = Namespace('http://purl.obolibrary.org/obo/')\n",
    "napdi = Namespace('http://napdi.org/napdi_srs_imports:')"
   ]
  },
  {
   "cell_type": "code",
   "execution_count": null,
   "id": "shared-potential",
   "metadata": {},
   "outputs": [],
   "source": [
    "##read in pickle dictionary with OBO identifiers\n",
    "with open(KG_PATH+'strToOBOdict.pickle','rb') as filep:\n",
    "    obodict = pickle.load(filep)\n",
    "len(obodict)"
   ]
  },
  {
   "cell_type": "code",
   "execution_count": null,
   "id": "enclosed-possession",
   "metadata": {},
   "outputs": [],
   "source": []
  },
  {
   "cell_type": "markdown",
   "id": "sudden-correlation",
   "metadata": {
    "tags": []
   },
   "source": [
    "## Green Tea-Raloxifene"
   ]
  },
  {
   "cell_type": "code",
   "execution_count": null,
   "id": "vocal-cologne",
   "metadata": {},
   "outputs": [],
   "source": [
    "#list of green tea nodes\n",
    "gtnodes = [\n",
    "    obodict['greentea'][0],\n",
    "    obodict['EGCG'][0],\n",
    "    obodict['EGCG'][1],\n",
    "    obodict['ECG'][0],\n",
    "    obodict['epicatechin'][0],\n",
    "    obodict['catechin'][0],\n",
    "    obodict['catechin'][1],\n",
    "    obodict['epigallocatechin'][0],\n",
    "    obodict['gallocatechin'][0],\n",
    "    obodict['gallocatechin'][1]\n",
    "]\n",
    "raloxifene = obo.CHEBI_8772"
   ]
  },
  {
   "cell_type": "code",
   "execution_count": null,
   "id": "controlled-silicon",
   "metadata": {},
   "outputs": [],
   "source": [
    "'''RELATIONS OF INTEREST\n",
    "directly regulates activity of2448\n",
    "positively regulates2213\n",
    "capable of regulating2596\n",
    "capable of positively regulating2598\n",
    "interacts with2434\n",
    "molecularly interacts with2436\n",
    "correlated with2610\n",
    "regulates activity of11002\n",
    "is substrate of DIDEO_00000041\n",
    "transports RO_0002020\n",
    "'''\n",
    "relations = [obo.RO_0002610,\n",
    "             obo.RO_0002434,\n",
    "             obo.RO_0002213,\n",
    "             obo.RO_0002448,\n",
    "             obo.RO_0002436,\n",
    "             obo.RO_0011002,\n",
    "             obo.RO_0002596,\n",
    "             obo.RO_0002598,\n",
    "            obo.RO_0002449,\n",
    "            obo.DIDEO_00000041,\n",
    "            obo.RO_0002020]"
   ]
  },
  {
   "cell_type": "code",
   "execution_count": null,
   "id": "backed-brush",
   "metadata": {},
   "outputs": [],
   "source": [
    "#get all neighbors of a node\n",
    "def get_neighbors_meta(nx_graph, node):\n",
    "    neighs = nx.neighbors(nx_graph, node)\n",
    "    neighs_list = []\n",
    "    for item in neighs:\n",
    "        #nodestr = nodeLabels[str(node)]\n",
    "        #neighbor = nodeLabels[str(item)]\n",
    "        edge_result = nx_graph.get_edge_data(node, item)\n",
    "        edge_keys = list(edge_result.keys())\n",
    "        for edge in edge_keys:\n",
    "            edgestr = nodeLabels[str(edge)]\n",
    "            edgevalue = edge_result[edge]\n",
    "            result = [node, edge, item]\n",
    "            if 'source_graph' in edgevalue:\n",
    "                result.append(edgevalue['source_graph'])\n",
    "            if 'timestamp' in edgevalue:\n",
    "                result.append(edgevalue['timestamp'])\n",
    "            neighs_list.append(result)\n",
    "    return neighs_list"
   ]
  },
  {
   "cell_type": "code",
   "execution_count": null,
   "id": "physical-olive",
   "metadata": {},
   "outputs": [],
   "source": [
    "## for nodes of green tea and green tea constituents, get all neighbors with \n",
    "## edge in relations and object in PR or GO\n",
    "gtneighs = {}\n",
    "for node in gtnodes:\n",
    "    if str(node) in nodeLabels:\n",
    "        nodestr = nodeLabels[str(node)]\n",
    "    else:\n",
    "        nodestr = str(node)\n",
    "    neighbors = get_neighbors_meta(nx_graph, node)\n",
    "    if nodestr in gtneighs:\n",
    "        gtneighs[nodestr].extend(neighbors)\n",
    "    else:\n",
    "        gtneighs[nodestr] = neighbors\n",
    "len(gtneighs)"
   ]
  },
  {
   "cell_type": "code",
   "execution_count": null,
   "id": "wooden-security",
   "metadata": {},
   "outputs": [],
   "source": [
    "for key in gtneighs:\n",
    "    print(key, len(gtneighs[key]))"
   ]
  },
  {
   "cell_type": "code",
   "execution_count": null,
   "id": "promising-effort",
   "metadata": {},
   "outputs": [],
   "source": [
    "##checking if direct edge to nadolol\n",
    "for node in gtnodes:\n",
    "    edge_res = nx_graph.get_edge_data(node, raloxifene)\n",
    "    if edge_res:\n",
    "        print(nodeLabels[str(node)])\n",
    "        print(node)\n",
    "        print(edge_res)"
   ]
  },
  {
   "cell_type": "code",
   "execution_count": null,
   "id": "modified-thanksgiving",
   "metadata": {},
   "outputs": [],
   "source": [
    "#filter neighboring triples to only relations of interest and proteins as objects\n",
    "gtneighs_filt = {}\n",
    "for key in gtneighs:\n",
    "    gtneighs_filt[key] = []\n",
    "    for item in gtneighs[key]:\n",
    "        pred = item[1]\n",
    "        obj_id = str(item[2]).split('/')[-1].split('_')[0]\n",
    "        if pred in relations and obj_id == 'PR':\n",
    "            gtneighs_filt[key].append(item)"
   ]
  },
  {
   "cell_type": "code",
   "execution_count": null,
   "id": "decimal-dinner",
   "metadata": {},
   "outputs": [],
   "source": [
    "for key in gtneighs_filt:\n",
    "    print(key, len(gtneighs_filt[key]))"
   ]
  },
  {
   "cell_type": "code",
   "execution_count": null,
   "id": "smaller-discharge",
   "metadata": {},
   "outputs": [],
   "source": [
    "with open(DIR_OUT+'greentea_metapath2.pickle', 'wb') as fileo:\n",
    "    pickle.dump(gtneighs_filt, fileo)"
   ]
  },
  {
   "cell_type": "code",
   "execution_count": null,
   "id": "gross-ontario",
   "metadata": {},
   "outputs": [],
   "source": [
    "prlist = []\n",
    "for key in gtneighs_filt:\n",
    "    for item in gtneighs_filt[key]:\n",
    "        prlist.append(item[2])\n",
    "len(prlist)"
   ]
  },
  {
   "cell_type": "code",
   "execution_count": null,
   "id": "daily-forge",
   "metadata": {},
   "outputs": [],
   "source": [
    "prots = list(set(prlist))"
   ]
  },
  {
   "cell_type": "code",
   "execution_count": null,
   "id": "small-holmes",
   "metadata": {},
   "outputs": [],
   "source": [
    "len(prots)"
   ]
  },
  {
   "cell_type": "code",
   "execution_count": null,
   "id": "effective-omega",
   "metadata": {},
   "outputs": [],
   "source": [
    "protslabels = []\n",
    "for item in prots:\n",
    "    if str(item) in nodeLabels:\n",
    "        if isinstance(nodeLabels[str(item)], str):\n",
    "            protslabels.append(nodeLabels[str(item)])\n",
    "        else:\n",
    "            protslabels.append(nodeLabels[str(item)]['label'])\n",
    "    else:\n",
    "        print(item)\n",
    "        protslabels.append(str(item))\n",
    "len(protslabels)"
   ]
  },
  {
   "cell_type": "code",
   "execution_count": null,
   "id": "mobile-tract",
   "metadata": {},
   "outputs": [],
   "source": [
    "for item in protslabels:\n",
    "    if isinstance(item, dict):\n",
    "        print(item)"
   ]
  },
  {
   "cell_type": "code",
   "execution_count": null,
   "id": "descending-algorithm",
   "metadata": {},
   "outputs": [],
   "source": [
    "with open(DIR_OUT+'greentea_protein_labels_with_inhibits.txt', 'w') as file2:\n",
    "    for label in protslabels:\n",
    "        file2.write(label)\n",
    "        file2.write('\\n')"
   ]
  },
  {
   "cell_type": "code",
   "execution_count": null,
   "id": "widespread-message",
   "metadata": {},
   "outputs": [],
   "source": [
    "## for nodes of green tea and green tea constituents, get all neighbors with \n",
    "## edge in relations and object in PR or GO\n",
    "protneighs = {}\n",
    "for node in prots:\n",
    "    if str(node) in nodeLabels:\n",
    "        if isinstance(nodeLabels[str(node)], str):\n",
    "            nodestr = nodeLabels[str(node)]\n",
    "        else:\n",
    "            nodestr = nodeLabels[str(node)]['label']\n",
    "    else:\n",
    "        nodestr = str(node)\n",
    "    neighbors = get_neighbors_meta(nx_graph, node)\n",
    "    if nodestr in protneighs:\n",
    "        protneighs[nodestr].extend(neighbors)\n",
    "    else:\n",
    "        protneighs[nodestr] = neighbors\n",
    "len(protneighs)"
   ]
  },
  {
   "cell_type": "code",
   "execution_count": null,
   "id": "anonymous-recommendation",
   "metadata": {},
   "outputs": [],
   "source": [
    "#filter neighboring triples to only relations of interest and proteins as objects\n",
    "prots_filt = []\n",
    "for key in protneighs:\n",
    "    for item in protneighs[key]:\n",
    "        pred = item[1]\n",
    "        obj = item[2]\n",
    "        if pred in relations and obj == raloxifene:\n",
    "            prots_filt.append(key)\n",
    "len(prots_filt)"
   ]
  },
  {
   "cell_type": "code",
   "execution_count": null,
   "id": "unknown-tutorial",
   "metadata": {},
   "outputs": [],
   "source": [
    "prots_filt"
   ]
  },
  {
   "cell_type": "code",
   "execution_count": null,
   "id": "satisfactory-concern",
   "metadata": {},
   "outputs": [],
   "source": [
    "def get_neighbors(nx_graph, node):\n",
    "    neighs = nx.neighbors(nx_graph, node)\n",
    "    neighs_list = []\n",
    "    for item in neighs:\n",
    "        nodestr = nodeLabels[str(node)]\n",
    "        neighbor = nodeLabels[str(item)]\n",
    "        edge_result = nx_graph.get_edge_data(node, item)\n",
    "        edge_keys = list(edge_result.keys())\n",
    "        for edge in edge_keys:\n",
    "            edgestr = nodeLabels[str(edge)]\n",
    "            edgevalue = edge_result[edge]\n",
    "            result = [nodestr, edgestr, neighbor]\n",
    "            if 'source_graph' in edgevalue:\n",
    "                result.append(edgevalue['source_graph'])\n",
    "            if 'timestamp' in edgevalue:\n",
    "                result.append(edgevalue['timestamp'])\n",
    "            if 'pmid' in edgevalue:\n",
    "                result.append(edgevalue['pmid'])\n",
    "            neighs_list.append(result)\n",
    "    return neighs_list"
   ]
  },
  {
   "cell_type": "code",
   "execution_count": null,
   "id": "valid-asbestos",
   "metadata": {},
   "outputs": [],
   "source": [
    "len(prots)"
   ]
  },
  {
   "cell_type": "code",
   "execution_count": null,
   "id": "legitimate-challenge",
   "metadata": {},
   "outputs": [],
   "source": [
    "raloneighs = get_neighbors_meta(nx_graph, raloxifene)\n",
    "raloprots1 = []\n",
    "raloprots2 = []\n",
    "for item in raloneighs:\n",
    "    pred = item[1]\n",
    "    obj = item[2]\n",
    "    obj_id = str(obj).split('/')[-1].split('_')[0]\n",
    "    if pred in relations and obj_id == 'PR':\n",
    "        raloprots1.append(obj)\n",
    "    if pred in relations and obj in prots:\n",
    "        raloprots2.append(obj)\n",
    "print(len(raloprots1), len(raloprots2))"
   ]
  },
  {
   "cell_type": "code",
   "execution_count": null,
   "id": "polyphonic-maine",
   "metadata": {},
   "outputs": [],
   "source": [
    "###prots1 = raloxifene - predicate - PR\n",
    "##prots2 = raloxifene - predicate - PR, gt - predicate - PR\n",
    "for item in raloprots1:\n",
    "    print(nodeLabels[str(item)])\n",
    "    print(nx_graph.get_edge_data(raloxifene, item))"
   ]
  },
  {
   "cell_type": "code",
   "execution_count": null,
   "id": "still-juvenile",
   "metadata": {},
   "outputs": [],
   "source": [
    "for item in raloprots2:\n",
    "    print(nodeLabels[str(item)])\n",
    "    print(nx_graph.get_edge_data(raloxifene, item))"
   ]
  },
  {
   "cell_type": "code",
   "execution_count": null,
   "id": "widespread-morgan",
   "metadata": {},
   "outputs": [],
   "source": [
    "for node in gtnodes:\n",
    "    for item in raloprots1:\n",
    "        edge_res = nx_graph.get_edge_data(node, item)\n",
    "        if edge_res:\n",
    "            print(nodeLabels[str(node)], nodeLabels[str(item)])\n",
    "            print(nx_graph.get_edge_data(node, item))"
   ]
  },
  {
   "cell_type": "code",
   "execution_count": null,
   "id": "large-alabama",
   "metadata": {},
   "outputs": [],
   "source": [
    "for node in gtnodes:\n",
    "    for item in raloprots2:\n",
    "        edge_res = nx_graph.get_edge_data(node, item)\n",
    "        if edge_res:\n",
    "            print(nodeLabels[str(node)], nodeLabels[str(item)])\n",
    "            print(nx_graph.get_edge_data(node, item))"
   ]
  },
  {
   "cell_type": "markdown",
   "id": "freelance-antique",
   "metadata": {
    "tags": []
   },
   "source": [
    "## UGT searches"
   ]
  },
  {
   "cell_type": "code",
   "execution_count": null,
   "id": "trying-queensland",
   "metadata": {},
   "outputs": [],
   "source": [
    "##get interacting drugs for UGT\n",
    "obodict['UGT']"
   ]
  },
  {
   "cell_type": "code",
   "execution_count": null,
   "id": "colonial-czech",
   "metadata": {},
   "outputs": [],
   "source": [
    "get_neighbors(nx_graph, obodict['UGT'][1])"
   ]
  },
  {
   "cell_type": "code",
   "execution_count": null,
   "id": "portable-begin",
   "metadata": {},
   "outputs": [],
   "source": [
    "len(get_neighbors(nx_graph, obodict['UGT'][2]))"
   ]
  },
  {
   "cell_type": "code",
   "execution_count": null,
   "id": "numerical-cargo",
   "metadata": {},
   "outputs": [],
   "source": [
    "raloneighs = get_neighbors_meta(nx_graph, obodict['UGT'][2])\n",
    "raloprots1 = []\n",
    "for item in raloneighs:\n",
    "    pred = item[1]\n",
    "    obj = item[2]\n",
    "    if pred in relations:\n",
    "        raloprots1.append(obj)\n",
    "raloprots1"
   ]
  },
  {
   "cell_type": "code",
   "execution_count": null,
   "id": "weighted-resolution",
   "metadata": {},
   "outputs": [],
   "source": [
    "for item in raloprots1:\n",
    "    print(nodeLabels[str(item)])"
   ]
  },
  {
   "cell_type": "code",
   "execution_count": null,
   "id": "governing-rehabilitation",
   "metadata": {},
   "outputs": [],
   "source": [
    "for item in raloneighs:\n",
    "    pred = item[1]\n",
    "    obj = item[2]\n",
    "    obj_id = str(item[2]).split('/')[-1].split('_')[0]\n",
    "    if obj_id == 'CHEBI':\n",
    "        print(nodeLabels[str(pred)])\n",
    "        print(nodeLabels[str(obj)])"
   ]
  },
  {
   "cell_type": "markdown",
   "id": "interracial-chambers",
   "metadata": {
    "tags": []
   },
   "source": [
    "## Green tea-nadolol"
   ]
  },
  {
   "cell_type": "code",
   "execution_count": null,
   "id": "strong-fortune",
   "metadata": {},
   "outputs": [],
   "source": [
    "nadolol = obo.CHEBI_7444\n",
    "nodeLabels[str(nadolol)]"
   ]
  },
  {
   "cell_type": "code",
   "execution_count": null,
   "id": "treated-mandate",
   "metadata": {},
   "outputs": [],
   "source": [
    "##Metapath - \n",
    "#Green tea | Green tea constituent - \n",
    "#interacts with | associated with | molecularly interacts with - \n",
    "#Enzyme or Transporter - \n",
    "#interacts with | associated with | molecularly interacts with | - \n",
    "#Nadolol"
   ]
  },
  {
   "cell_type": "code",
   "execution_count": null,
   "id": "recreational-guinea",
   "metadata": {},
   "outputs": [],
   "source": [
    "#list of green tea nodes\n",
    "gtnodes = [\n",
    "    obodict['greentea'][0],\n",
    "    obodict['EGCG'][0],\n",
    "    obodict['EGCG'][1],\n",
    "    obodict['ECG'][0],\n",
    "    obodict['epicatechin'][0],\n",
    "    obodict['catechin'][0],\n",
    "    obodict['catechin'][1],\n",
    "    obodict['epigallocatechin'][0],\n",
    "    obodict['gallocatechin'][0],\n",
    "    obodict['gallocatechin'][1]\n",
    "]"
   ]
  },
  {
   "cell_type": "code",
   "execution_count": null,
   "id": "pediatric-hierarchy",
   "metadata": {},
   "outputs": [],
   "source": [
    "'''RELATIONS OF INTEREST\n",
    "directly regulates activity of2448\n",
    "positively regulates2213\n",
    "capable of regulating2596\n",
    "capable of positively regulating2598\n",
    "interacts with2434\n",
    "molecularly interacts with2436\n",
    "correlated with2610\n",
    "regulates activity of11002\n",
    "is substrate of DIDEO_00000041\n",
    "transports RO_0002020\n",
    "'''\n",
    "relations = [obo.RO_0002610,\n",
    "             obo.RO_0002434,\n",
    "             obo.RO_0002213,\n",
    "             obo.RO_0002448,\n",
    "             obo.RO_0002436,\n",
    "             obo.RO_0011002,\n",
    "             obo.RO_0002596,\n",
    "             obo.RO_0002598,\n",
    "            obo.RO_0002449,\n",
    "            obo.DIDEO_00000041,\n",
    "            obo.RO_0002020]"
   ]
  },
  {
   "cell_type": "code",
   "execution_count": null,
   "id": "portable-underwear",
   "metadata": {},
   "outputs": [],
   "source": [
    "#get all neighbors of a node\n",
    "def get_neighbors_meta(nx_graph, node):\n",
    "    neighs = nx.neighbors(nx_graph, node)\n",
    "    neighs_list = []\n",
    "    for item in neighs:\n",
    "        #nodestr = nodeLabels[str(node)]\n",
    "        #neighbor = nodeLabels[str(item)]\n",
    "        edge_result = nx_graph.get_edge_data(node, item)\n",
    "        edge_keys = list(edge_result.keys())\n",
    "        for edge in edge_keys:\n",
    "            edgestr = nodeLabels[str(edge)]\n",
    "            edgevalue = edge_result[edge]\n",
    "            result = [node, edge, item]\n",
    "            if 'source_graph' in edgevalue:\n",
    "                result.append(edgevalue['source_graph'])\n",
    "            if 'timestamp' in edgevalue:\n",
    "                result.append(edgevalue['timestamp'])\n",
    "            neighs_list.append(result)\n",
    "    return neighs_list"
   ]
  },
  {
   "cell_type": "code",
   "execution_count": null,
   "id": "incorporated-fluid",
   "metadata": {},
   "outputs": [],
   "source": [
    "## for nodes of green tea and green tea constituents, get all neighbors with \n",
    "## edge in relations and object in PR or GO\n",
    "gtneighs = {}\n",
    "for node in gtnodes:\n",
    "    if str(node) in nodeLabels:\n",
    "        nodestr = nodeLabels[str(node)]\n",
    "    else:\n",
    "        nodestr = str(node)\n",
    "    neighbors = get_neighbors_meta(nx_graph, node)\n",
    "    if nodestr in gtneighs:\n",
    "        gtneighs[nodestr].extend(neighbors)\n",
    "    else:\n",
    "        gtneighs[nodestr] = neighbors\n",
    "len(gtneighs)"
   ]
  },
  {
   "cell_type": "code",
   "execution_count": null,
   "id": "electronic-intensity",
   "metadata": {},
   "outputs": [],
   "source": [
    "for key in gtneighs:\n",
    "    print(key, len(gtneighs[key]))"
   ]
  },
  {
   "cell_type": "code",
   "execution_count": null,
   "id": "metropolitan-validation",
   "metadata": {},
   "outputs": [],
   "source": [
    "##checking if direct edge to nadolol\n",
    "for node in gtnodes:\n",
    "    edge_res = nx_graph.get_edge_data(node, nadolol)\n",
    "    if edge_res:\n",
    "        print(node)\n",
    "        print(edge_res)"
   ]
  },
  {
   "cell_type": "code",
   "execution_count": null,
   "id": "indoor-march",
   "metadata": {},
   "outputs": [],
   "source": [
    "#filter neighboring triples to only relations of interest and proteins as objects\n",
    "gtneighs_filt = {}\n",
    "for key in gtneighs:\n",
    "    gtneighs_filt[key] = []\n",
    "    for item in gtneighs[key]:\n",
    "        pred = item[1]\n",
    "        obj_id = str(item[2]).split('/')[-1].split('_')[0]\n",
    "        if pred in relations and obj_id == 'PR':\n",
    "            gtneighs_filt[key].append(item)"
   ]
  },
  {
   "cell_type": "code",
   "execution_count": null,
   "id": "major-exchange",
   "metadata": {},
   "outputs": [],
   "source": [
    "for key in gtneighs_filt:\n",
    "    print(key, len(gtneighs_filt[key]))"
   ]
  },
  {
   "cell_type": "code",
   "execution_count": null,
   "id": "planned-argentina",
   "metadata": {},
   "outputs": [],
   "source": [
    "with open(DIR_OUT+'greentea_metapath2.pickle', 'wb') as fileo:\n",
    "    pickle.dump(gtneighs_filt, fileo)"
   ]
  },
  {
   "cell_type": "code",
   "execution_count": null,
   "id": "smart-pillow",
   "metadata": {},
   "outputs": [],
   "source": [
    "prlist = []\n",
    "for key in gtneighs_filt:\n",
    "    for item in gtneighs_filt[key]:\n",
    "        prlist.append(item[2])\n",
    "len(prlist)"
   ]
  },
  {
   "cell_type": "code",
   "execution_count": null,
   "id": "joined-engineering",
   "metadata": {},
   "outputs": [],
   "source": [
    "prots = list(set(prlist))"
   ]
  },
  {
   "cell_type": "code",
   "execution_count": null,
   "id": "about-wallet",
   "metadata": {},
   "outputs": [],
   "source": [
    "len(prots)"
   ]
  },
  {
   "cell_type": "code",
   "execution_count": null,
   "id": "bigger-teach",
   "metadata": {},
   "outputs": [],
   "source": [
    "protslabels = []\n",
    "for item in prots:\n",
    "    if str(item) in nodeLabels:\n",
    "        if isinstance(nodeLabels[str(item)], str):\n",
    "            protslabels.append(nodeLabels[str(item)])\n",
    "        else:\n",
    "            protslabels.append(nodeLabels[str(item)]['label'])\n",
    "    else:\n",
    "        print(item)\n",
    "        protslabels.append(str(item))\n",
    "len(protslabels)"
   ]
  },
  {
   "cell_type": "code",
   "execution_count": null,
   "id": "labeled-hawaii",
   "metadata": {},
   "outputs": [],
   "source": [
    "for item in protslabels:\n",
    "    if isinstance(item, dict):\n",
    "        print(item)"
   ]
  },
  {
   "cell_type": "code",
   "execution_count": null,
   "id": "available-representative",
   "metadata": {},
   "outputs": [],
   "source": [
    "with open(DIR_OUT+'greentea_protein_labels_with_inhibits.txt', 'w') as file2:\n",
    "    for label in protslabels:\n",
    "        file2.write(label)\n",
    "        file2.write('\\n')"
   ]
  },
  {
   "cell_type": "code",
   "execution_count": null,
   "id": "continental-hawaii",
   "metadata": {},
   "outputs": [],
   "source": [
    "## for nodes of green tea and green tea constituents, get all neighbors with \n",
    "## edge in relations and object in PR or GO\n",
    "protneighs = {}\n",
    "for node in prots:\n",
    "    if str(node) in nodeLabels:\n",
    "        if isinstance(nodeLabels[str(node)], str):\n",
    "            nodestr = nodeLabels[str(node)]\n",
    "        else:\n",
    "            nodestr = nodeLabels[str(node)]['label']\n",
    "    else:\n",
    "        nodestr = str(node)\n",
    "    neighbors = get_neighbors_meta(nx_graph, node)\n",
    "    if nodestr in protneighs:\n",
    "        protneighs[nodestr].extend(neighbors)\n",
    "    else:\n",
    "        protneighs[nodestr] = neighbors\n",
    "len(protneighs)"
   ]
  },
  {
   "cell_type": "code",
   "execution_count": null,
   "id": "competent-passing",
   "metadata": {},
   "outputs": [],
   "source": [
    "#filter neighboring triples to only relations of interest and proteins as objects\n",
    "prots_filt = []\n",
    "for key in protneighs:\n",
    "    for item in protneighs[key]:\n",
    "        pred = item[1]\n",
    "        obj = item[2]\n",
    "        if pred in relations and obj == nadolol:\n",
    "            prots_filt.append(key)\n",
    "len(prots_filt)"
   ]
  },
  {
   "cell_type": "code",
   "execution_count": null,
   "id": "threaded-balance",
   "metadata": {},
   "outputs": [],
   "source": [
    "prots_filt"
   ]
  },
  {
   "cell_type": "code",
   "execution_count": null,
   "id": "charming-bracket",
   "metadata": {},
   "outputs": [],
   "source": [
    "def get_neighbors(nx_graph, node):\n",
    "    neighs = nx.neighbors(nx_graph, node)\n",
    "    neighs_list = []\n",
    "    for item in neighs:\n",
    "        nodestr = nodeLabels[str(node)]\n",
    "        neighbor = nodeLabels[str(item)]\n",
    "        edge_result = nx_graph.get_edge_data(node, item)\n",
    "        edge_keys = list(edge_result.keys())\n",
    "        for edge in edge_keys:\n",
    "            edgestr = nodeLabels[str(edge)]\n",
    "            edgevalue = edge_result[edge]\n",
    "            result = [nodestr, edgestr, neighbor]\n",
    "            if 'source_graph' in edgevalue:\n",
    "                result.append(edgevalue['source_graph'])\n",
    "            if 'timestamp' in edgevalue:\n",
    "                result.append(edgevalue['timestamp'])\n",
    "            if 'pmid' in edgevalue:\n",
    "                result.append(edgevalue['pmid'])\n",
    "            neighs_list.append(result)\n",
    "    return neighs_list"
   ]
  },
  {
   "cell_type": "code",
   "execution_count": null,
   "id": "moral-scientist",
   "metadata": {},
   "outputs": [],
   "source": [
    "len(prots)"
   ]
  },
  {
   "cell_type": "code",
   "execution_count": null,
   "id": "physical-removal",
   "metadata": {},
   "outputs": [],
   "source": [
    "nadoneighs = get_neighbors_meta(nx_graph, nadolol)\n",
    "nadoprots1 = []\n",
    "nadoprots2 = []\n",
    "for item in nadoneighs:\n",
    "    pred = item[1]\n",
    "    obj = item[2]\n",
    "    obj_id = str(obj).split('/')[-1].split('_')[0]\n",
    "    if pred in relations and obj_id == 'PR':\n",
    "        nadoprots1.append(obj)\n",
    "    if pred in relations and obj in prots:\n",
    "        nadoprots2.append(obj)\n",
    "print(len(nadoprots1), len(nadoprots2))"
   ]
  },
  {
   "cell_type": "code",
   "execution_count": null,
   "id": "civil-surrey",
   "metadata": {},
   "outputs": [],
   "source": [
    "with open(DIR_OUT+'gt-pred-pr-nadolol-pred-pr-protein_list.txt', 'w') as fileo:\n",
    "    for item in nadoprots2:\n",
    "        if str(item) in nodeLabels:\n",
    "            if isinstance(nodeLabels[str(item)], str):\n",
    "                nodestr = nodeLabels[str(item)]\n",
    "            else:\n",
    "                nodestr = nodeLabels[str(item)]['label']\n",
    "        fileo.write(str(item)+'\\t'+nodestr+'\\n')"
   ]
  },
  {
   "cell_type": "code",
   "execution_count": null,
   "id": "american-acceptance",
   "metadata": {},
   "outputs": [],
   "source": [
    "with open(DIR_OUT+'nadolol-pred-pr-protein_list.txt', 'w') as fileo2:\n",
    "    for item in nadoprots1:\n",
    "        if str(item) in nodeLabels:\n",
    "            if isinstance(nodeLabels[str(item)], str):\n",
    "                nodestr = nodeLabels[str(item)]\n",
    "            else:\n",
    "                nodestr = nodeLabels[str(item)]['label']\n",
    "        fileo2.write(str(item)+'\\t'+nodestr+'\\n')"
   ]
  },
  {
   "cell_type": "code",
   "execution_count": null,
   "id": "answering-labor",
   "metadata": {},
   "outputs": [],
   "source": [
    "nadoneighs[0]"
   ]
  },
  {
   "cell_type": "code",
   "execution_count": null,
   "id": "stuffed-crack",
   "metadata": {},
   "outputs": [],
   "source": [
    "##Nadolol-green tea direct edges\n",
    "nadoneighs = get_neighbors_meta(nx_graph, nadolol)\n",
    "direct = []\n",
    "for item in nadoneighs:\n",
    "    pred = item[1]\n",
    "    obj = item[2]\n",
    "    if pred in relations and obj in gtnodes:\n",
    "        direct.append(item)\n",
    "len(direct)"
   ]
  },
  {
   "cell_type": "code",
   "execution_count": null,
   "id": "residential-sharing",
   "metadata": {},
   "outputs": [],
   "source": [
    "direct"
   ]
  },
  {
   "cell_type": "markdown",
   "id": "amateur-southwest",
   "metadata": {
    "tags": []
   },
   "source": [
    "## Kratom-midazolam"
   ]
  },
  {
   "cell_type": "code",
   "execution_count": null,
   "id": "handed-nickel",
   "metadata": {},
   "outputs": [],
   "source": [
    "midazolam = obo.CHEBI_6931\n",
    "nodeLabels[str(midazolam)]"
   ]
  },
  {
   "cell_type": "code",
   "execution_count": null,
   "id": "tested-magic",
   "metadata": {},
   "outputs": [],
   "source": [
    "obodict.keys()"
   ]
  },
  {
   "cell_type": "code",
   "execution_count": null,
   "id": "handed-banking",
   "metadata": {},
   "outputs": [],
   "source": [
    "#list of green tea nodes\n",
    "ktnodes = [\n",
    "    obodict['kratom'][0],\n",
    "    obodict['mitragynine'][0],\n",
    "    obodict['hydroxy_mitragynine'][0],\n",
    "    obodict['hydroxy_mitragynine'][1]\n",
    "]"
   ]
  },
  {
   "cell_type": "code",
   "execution_count": null,
   "id": "molecular-feedback",
   "metadata": {},
   "outputs": [],
   "source": [
    "'''RELATIONS OF INTEREST\n",
    "directly regulates activity of2448\n",
    "positively regulates2213\n",
    "capable of regulating2596\n",
    "capable of positively regulating2598\n",
    "interacts with2434\n",
    "molecularly interacts with2436\n",
    "correlated with2610\n",
    "regulates activity of11002\n",
    "'''\n",
    "relations = [obo.RO_0002610,\n",
    "             obo.RO_0002434,\n",
    "             obo.RO_0002213,\n",
    "             obo.RO_0002448,\n",
    "             obo.RO_0002436,\n",
    "             obo.RO_0011002,\n",
    "             obo.RO_0002596,\n",
    "             obo.RO_0002598,\n",
    "            obo.RO_0002449,\n",
    "            obo.DIDEO_00000041,\n",
    "            obo.RO_0002020]"
   ]
  },
  {
   "cell_type": "code",
   "execution_count": null,
   "id": "hidden-canada",
   "metadata": {},
   "outputs": [],
   "source": [
    "#get all neighbors of a node\n",
    "def get_neighbors_meta(nx_graph, node):\n",
    "    neighs = nx.neighbors(nx_graph, node)\n",
    "    neighs_list = []\n",
    "    for item in neighs:\n",
    "        #nodestr = nodeLabels[str(node)]\n",
    "        #neighbor = nodeLabels[str(item)]\n",
    "        edge_result = nx_graph.get_edge_data(node, item)\n",
    "        edge_keys = list(edge_result.keys())\n",
    "        for edge in edge_keys:\n",
    "            edgestr = nodeLabels[str(edge)]\n",
    "            edgevalue = edge_result[edge]\n",
    "            result = [node, edge, item]\n",
    "            if 'source_graph' in edgevalue:\n",
    "                result.append(edgevalue['source_graph'])\n",
    "            if 'timestamp' in edgevalue:\n",
    "                result.append(edgevalue['timestamp'])\n",
    "            neighs_list.append(result)\n",
    "    return neighs_list"
   ]
  },
  {
   "cell_type": "code",
   "execution_count": null,
   "id": "rotary-prediction",
   "metadata": {},
   "outputs": [],
   "source": [
    "## for nodes of green tea and green tea constituents, get all neighbors with \n",
    "## edge in relations and object in PR or GO\n",
    "ktneighs = {}\n",
    "for node in ktnodes:\n",
    "    if str(node) in nodeLabels:\n",
    "        if isinstance(nodeLabels[str(node)], str):\n",
    "            nodestr = nodeLabels[str(node)]\n",
    "        else:\n",
    "            nodestr = nodeLabels[str(node)]['label']\n",
    "    else:\n",
    "        nodestr = str(node)\n",
    "    neighbors = get_neighbors_meta(nx_graph, node)\n",
    "    if nodestr in ktneighs:\n",
    "        ktneighs[nodestr].extend(neighbors)\n",
    "    else:\n",
    "        ktneighs[nodestr] = neighbors\n",
    "len(ktneighs)"
   ]
  },
  {
   "cell_type": "code",
   "execution_count": null,
   "id": "floppy-flood",
   "metadata": {},
   "outputs": [],
   "source": [
    "for key in ktneighs:\n",
    "    print(key, len(ktneighs[key]))"
   ]
  },
  {
   "cell_type": "code",
   "execution_count": null,
   "id": "opponent-distributor",
   "metadata": {},
   "outputs": [],
   "source": [
    "##checking if direct edge to midazolam\n",
    "for node in ktnodes:\n",
    "    edge_res = nx_graph.get_edge_data(node, midazolam)\n",
    "    if edge_res:\n",
    "        print(node)\n",
    "        print(edge_res)"
   ]
  },
  {
   "cell_type": "code",
   "execution_count": null,
   "id": "dental-hungarian",
   "metadata": {},
   "outputs": [],
   "source": [
    "#filter neighboring triples to only relations of interest and proteins as objects\n",
    "ktneighs_filt = {}\n",
    "for key in ktneighs:\n",
    "    ktneighs_filt[key] = []\n",
    "    for item in ktneighs[key]:\n",
    "        pred = item[1]\n",
    "        obj_id = str(item[2]).split('/')[-1].split('_')[0]\n",
    "        if pred in relations and obj_id == 'PR':\n",
    "            ktneighs_filt[key].append(item)"
   ]
  },
  {
   "cell_type": "code",
   "execution_count": null,
   "id": "regulation-slovenia",
   "metadata": {},
   "outputs": [],
   "source": [
    "for key in ktneighs_filt:\n",
    "    print(key, len(ktneighs_filt[key]))"
   ]
  },
  {
   "cell_type": "code",
   "execution_count": null,
   "id": "graphic-kennedy",
   "metadata": {},
   "outputs": [],
   "source": [
    "with open(DIR_OUT+'kratom_metapath1.pickle', 'wb') as fileo:\n",
    "    pickle.dump(ktneighs_filt, fileo)"
   ]
  },
  {
   "cell_type": "code",
   "execution_count": null,
   "id": "understood-aging",
   "metadata": {},
   "outputs": [],
   "source": [
    "prlist = []\n",
    "for key in ktneighs_filt:\n",
    "    for item in ktneighs_filt[key]:\n",
    "        prlist.append(item[2])\n",
    "len(prlist)"
   ]
  },
  {
   "cell_type": "code",
   "execution_count": null,
   "id": "outside-usage",
   "metadata": {},
   "outputs": [],
   "source": [
    "prots = list(set(prlist))"
   ]
  },
  {
   "cell_type": "code",
   "execution_count": null,
   "id": "coordinated-level",
   "metadata": {},
   "outputs": [],
   "source": [
    "len(prots)"
   ]
  },
  {
   "cell_type": "code",
   "execution_count": null,
   "id": "genuine-cruise",
   "metadata": {},
   "outputs": [],
   "source": [
    "protslabels = []\n",
    "for item in prots:\n",
    "    if str(item) in nodeLabels:\n",
    "        if isinstance(nodeLabels[str(item)], str):\n",
    "            protslabels.append(nodeLabels[str(item)])\n",
    "        else:\n",
    "            protslabels.append(nodeLabels[str(item)]['label'])\n",
    "    else:\n",
    "        print(item)\n",
    "        protslabels.append(str(item))\n",
    "len(protslabels)"
   ]
  },
  {
   "cell_type": "code",
   "execution_count": null,
   "id": "absolute-spain",
   "metadata": {},
   "outputs": [],
   "source": [
    "for item in protslabels:\n",
    "    if isinstance(item, dict):\n",
    "        print(item)"
   ]
  },
  {
   "cell_type": "code",
   "execution_count": null,
   "id": "typical-polymer",
   "metadata": {},
   "outputs": [],
   "source": [
    "with open(DIR_OUT+'kratom_protein_labels.txt', 'w') as file2:\n",
    "    for label in protslabels:\n",
    "        file2.write(label)\n",
    "        file2.write('\\n')"
   ]
  },
  {
   "cell_type": "code",
   "execution_count": null,
   "id": "introductory-circulation",
   "metadata": {},
   "outputs": [],
   "source": [
    "## for nodes of green tea and green tea constituents, get all neighbors with \n",
    "## edge in relations and object in PR or GO\n",
    "protneighs = {}\n",
    "for node in prots:\n",
    "    if str(node) in nodeLabels:\n",
    "        if isinstance(nodeLabels[str(node)], str):\n",
    "            nodestr = nodeLabels[str(node)]\n",
    "        else:\n",
    "            nodestr = nodeLabels[str(node)]['label']\n",
    "    else:\n",
    "        nodestr = str(node)\n",
    "    neighbors = get_neighbors_meta(nx_graph, node)\n",
    "    if nodestr in protneighs:\n",
    "        protneighs[nodestr].extend(neighbors)\n",
    "    else:\n",
    "        protneighs[nodestr] = neighbors\n",
    "len(protneighs)"
   ]
  },
  {
   "cell_type": "code",
   "execution_count": null,
   "id": "hydraulic-skating",
   "metadata": {},
   "outputs": [],
   "source": [
    "#filter neighboring triples to only relations of interest and proteins as objects\n",
    "prots_filt = []\n",
    "for key in protneighs:\n",
    "    for item in protneighs[key]:\n",
    "        pred = item[1]\n",
    "        obj = item[2]\n",
    "        if pred in relations and obj == midazolam:\n",
    "            prots_filt.append(key)\n",
    "len(prots_filt)"
   ]
  },
  {
   "cell_type": "code",
   "execution_count": null,
   "id": "close-elizabeth",
   "metadata": {},
   "outputs": [],
   "source": [
    "prots_filt"
   ]
  },
  {
   "cell_type": "code",
   "execution_count": null,
   "id": "ideal-canadian",
   "metadata": {},
   "outputs": [],
   "source": [
    "def get_neighbors(nx_graph, node):\n",
    "    neighs = nx.neighbors(nx_graph, node)\n",
    "    neighs_list = []\n",
    "    for item in neighs:\n",
    "        nodestr = nodeLabels[str(node)]\n",
    "        neighbor = nodeLabels[str(item)]\n",
    "        edge_result = nx_graph.get_edge_data(node, item)\n",
    "        edge_keys = list(edge_result.keys())\n",
    "        for edge in edge_keys:\n",
    "            edgestr = nodeLabels[str(edge)]\n",
    "            edgevalue = edge_result[edge]\n",
    "            result = [nodestr, edgestr, neighbor]\n",
    "            if 'source_graph' in edgevalue:\n",
    "                result.append(edgevalue['source_graph'])\n",
    "            if 'timestamp' in edgevalue:\n",
    "                result.append(edgevalue['timestamp'])\n",
    "            if 'pmid' in edgevalue:\n",
    "                result.append(edgevalue['pmid'])\n",
    "            neighs_list.append(result)\n",
    "    return neighs_list"
   ]
  },
  {
   "cell_type": "code",
   "execution_count": null,
   "id": "understood-front",
   "metadata": {},
   "outputs": [],
   "source": [
    "len(prots)"
   ]
  },
  {
   "cell_type": "code",
   "execution_count": null,
   "id": "verified-wallet",
   "metadata": {},
   "outputs": [],
   "source": [
    "neighs = get_neighbors_meta(nx_graph, midazolam)\n",
    "prots1 = []\n",
    "prots2 = []\n",
    "prots3 = []\n",
    "for item in neighs:\n",
    "    pred = item[1]\n",
    "    obj = item[2]\n",
    "    obj_id = str(obj).split('/')[-1].split('_')[0]\n",
    "    \n",
    "    if pred in relations and obj_id == 'PR':\n",
    "        prots1.append(obj)\n",
    "    if pred in relations and obj in prots:\n",
    "        prots2.append(obj)\n",
    "    if pred in relations:\n",
    "        prots3.append(obj)\n",
    "print(len(prots1), len(prots2), len(prots3))"
   ]
  },
  {
   "cell_type": "code",
   "execution_count": null,
   "id": "handmade-playlist",
   "metadata": {},
   "outputs": [],
   "source": [
    "##prots1 = midazolam - predicate - PR\n",
    "##prots2 = midazolam - predicate - PR, kratom - predicate - PR\n",
    "##prots3 = midazolam - predicate - object"
   ]
  },
  {
   "cell_type": "code",
   "execution_count": null,
   "id": "measured-taiwan",
   "metadata": {},
   "outputs": [],
   "source": [
    "for item in prots1:\n",
    "    print(nodeLabels[str(item)])\n",
    "    print(nx_graph.get_edge_data(midazolam, item))"
   ]
  },
  {
   "cell_type": "code",
   "execution_count": null,
   "id": "domestic-prototype",
   "metadata": {},
   "outputs": [],
   "source": [
    "for item in prots2:\n",
    "    print(nodeLabels[str(item)])\n",
    "    print(nx_graph.get_edge_data(midazolam, item))"
   ]
  },
  {
   "cell_type": "code",
   "execution_count": null,
   "id": "medieval-photographer",
   "metadata": {},
   "outputs": [],
   "source": [
    "for node in ktnodes:\n",
    "    for item in prots1:\n",
    "        edge_res = nx_graph.get_edge_data(node, item)\n",
    "        if edge_res:\n",
    "            print(nodeLabels[str(node)], nodeLabels[str(item)])\n",
    "            print(edge_res)"
   ]
  },
  {
   "cell_type": "code",
   "execution_count": null,
   "id": "opened-given",
   "metadata": {},
   "outputs": [],
   "source": [
    "for node in ktnodes:\n",
    "    for item in prots2:\n",
    "        edge_res = nx_graph.get_edge_data(node, item)\n",
    "        if edge_res:\n",
    "            print(nodeLabels[str(node)], nodeLabels[str(item)])\n",
    "            print(edge_res)"
   ]
  },
  {
   "cell_type": "code",
   "execution_count": null,
   "id": "hired-struggle",
   "metadata": {},
   "outputs": [],
   "source": [
    "##Nadolol-green tea direct edges\n",
    "midazoneighs = get_neighbors_meta(nx_graph, midazolam)\n",
    "direct = []\n",
    "for item in midazoneighs:\n",
    "    pred = item[1]\n",
    "    obj = item[2]\n",
    "    if pred in relations and obj in ktnodes:\n",
    "        direct.append(item)\n",
    "len(direct)"
   ]
  },
  {
   "cell_type": "code",
   "execution_count": null,
   "id": "damaged-begin",
   "metadata": {},
   "outputs": [],
   "source": [
    "direct"
   ]
  },
  {
   "cell_type": "code",
   "execution_count": null,
   "id": "complete-subsection",
   "metadata": {},
   "outputs": [],
   "source": []
  },
  {
   "cell_type": "code",
   "execution_count": null,
   "id": "overhead-painting",
   "metadata": {},
   "outputs": [],
   "source": [
    "bupr = obo.CHEBI_3216\n",
    "nodeLabels[str(bupr)]"
   ]
  },
  {
   "cell_type": "code",
   "execution_count": null,
   "id": "native-democrat",
   "metadata": {},
   "outputs": [],
   "source": [
    "#list of green tea nodes\n",
    "ktnodes = [\n",
    "    obodict['kratom'][0],\n",
    "    obodict['mitragynine'][0],\n",
    "    obodict['hydroxy_mitragynine'][0],\n",
    "    obodict['hydroxy_mitragynine'][1]\n",
    "]"
   ]
  },
  {
   "cell_type": "code",
   "execution_count": null,
   "id": "distant-cream",
   "metadata": {},
   "outputs": [],
   "source": [
    "'''RELATIONS OF INTEREST\n",
    "directly regulates activity of2448\n",
    "positively regulates2213\n",
    "capable of regulating2596\n",
    "capable of positively regulating2598\n",
    "interacts with2434\n",
    "molecularly interacts with2436\n",
    "correlated with2610\n",
    "regulates activity of11002\n",
    "'''\n",
    "relations = [obo.RO_0002610,\n",
    "             obo.RO_0002434,\n",
    "             obo.RO_0002213,\n",
    "             obo.RO_0002448,\n",
    "             obo.RO_0002436,\n",
    "             obo.RO_0011002,\n",
    "             obo.RO_0002596,\n",
    "             obo.RO_0002598,\n",
    "            obo.RO_0002449]"
   ]
  },
  {
   "cell_type": "code",
   "execution_count": null,
   "id": "casual-workplace",
   "metadata": {},
   "outputs": [],
   "source": [
    "#get all neighbors of a node\n",
    "def get_neighbors_meta(nx_graph, node):\n",
    "    neighs = nx.neighbors(nx_graph, node)\n",
    "    neighs_list = []\n",
    "    for item in neighs:\n",
    "        #nodestr = nodeLabels[str(node)]\n",
    "        #neighbor = nodeLabels[str(item)]\n",
    "        edge_result = nx_graph.get_edge_data(node, item)\n",
    "        edge_keys = list(edge_result.keys())\n",
    "        for edge in edge_keys:\n",
    "            edgestr = nodeLabels[str(edge)]\n",
    "            edgevalue = edge_result[edge]\n",
    "            result = [node, edge, item]\n",
    "            if 'source_graph' in edgevalue:\n",
    "                result.append(edgevalue['source_graph'])\n",
    "            if 'timestamp' in edgevalue:\n",
    "                result.append(edgevalue['timestamp'])\n",
    "            neighs_list.append(result)\n",
    "    return neighs_list"
   ]
  },
  {
   "cell_type": "code",
   "execution_count": null,
   "id": "appreciated-scale",
   "metadata": {},
   "outputs": [],
   "source": [
    "ktneighs = {}\n",
    "for node in ktnodes:\n",
    "    if str(node) in nodeLabels:\n",
    "        if isinstance(nodeLabels[str(node)], str):\n",
    "            nodestr = nodeLabels[str(node)]\n",
    "        else:\n",
    "            nodestr = nodeLabels[str(node)]['label']\n",
    "    else:\n",
    "        nodestr = str(node)\n",
    "    neighbors = get_neighbors_meta(nx_graph, node)\n",
    "    if nodestr in ktneighs:\n",
    "        ktneighs[nodestr].extend(neighbors)\n",
    "    else:\n",
    "        ktneighs[nodestr] = neighbors\n",
    "len(ktneighs)"
   ]
  },
  {
   "cell_type": "code",
   "execution_count": null,
   "id": "rapid-valuation",
   "metadata": {},
   "outputs": [],
   "source": [
    "for key in ktneighs:\n",
    "    print(key, len(ktneighs[key]))"
   ]
  },
  {
   "cell_type": "code",
   "execution_count": null,
   "id": "extraordinary-korea",
   "metadata": {},
   "outputs": [],
   "source": [
    "##checking if direct edge to midazolam\n",
    "for node in ktnodes:\n",
    "    edge_res = nx_graph.get_edge_data(node, bupr)\n",
    "    if edge_res:\n",
    "        print(node)\n",
    "        print(edge_res)"
   ]
  },
  {
   "cell_type": "code",
   "execution_count": null,
   "id": "subtle-texas",
   "metadata": {},
   "outputs": [],
   "source": [
    "#filter neighboring triples to only relations of interest and proteins as objects\n",
    "ktneighs_filt = {}\n",
    "for key in ktneighs:\n",
    "    ktneighs_filt[key] = []\n",
    "    for item in ktneighs[key]:\n",
    "        pred = item[1]\n",
    "        obj_id = str(item[2]).split('/')[-1].split('_')[0]\n",
    "        if pred in relations and obj_id == 'PR':\n",
    "            ktneighs_filt[key].append(item)"
   ]
  },
  {
   "cell_type": "code",
   "execution_count": null,
   "id": "registered-running",
   "metadata": {},
   "outputs": [],
   "source": [
    "for key in ktneighs_filt:\n",
    "    print(key, len(ktneighs_filt[key]))"
   ]
  },
  {
   "cell_type": "code",
   "execution_count": null,
   "id": "occasional-burning",
   "metadata": {},
   "outputs": [],
   "source": [
    "with open(DIR_OUT+'kratom_metapath1.pickle', 'wb') as fileo:\n",
    "    pickle.dump(ktneighs_filt, fileo)"
   ]
  },
  {
   "cell_type": "code",
   "execution_count": null,
   "id": "changed-cookbook",
   "metadata": {},
   "outputs": [],
   "source": [
    "prlist = []\n",
    "for key in ktneighs_filt:\n",
    "    for item in ktneighs_filt[key]:\n",
    "        prlist.append(item[2])\n",
    "len(prlist)"
   ]
  },
  {
   "cell_type": "code",
   "execution_count": null,
   "id": "retired-warren",
   "metadata": {},
   "outputs": [],
   "source": [
    "prots = list(set(prlist))"
   ]
  },
  {
   "cell_type": "code",
   "execution_count": null,
   "id": "korean-celebration",
   "metadata": {},
   "outputs": [],
   "source": [
    "len(prots)"
   ]
  },
  {
   "cell_type": "code",
   "execution_count": null,
   "id": "catholic-colonial",
   "metadata": {},
   "outputs": [],
   "source": [
    "protslabels = []\n",
    "for item in prots:\n",
    "    if str(item) in nodeLabels:\n",
    "        if isinstance(nodeLabels[str(item)], str):\n",
    "            protslabels.append(nodeLabels[str(item)])\n",
    "        else:\n",
    "            protslabels.append(nodeLabels[str(item)]['label'])\n",
    "    else:\n",
    "        print(item)\n",
    "        protslabels.append(str(item))\n",
    "len(protslabels)"
   ]
  },
  {
   "cell_type": "code",
   "execution_count": null,
   "id": "automotive-romantic",
   "metadata": {},
   "outputs": [],
   "source": [
    "for item in protslabels:\n",
    "    if isinstance(item, dict):\n",
    "        print(item)"
   ]
  },
  {
   "cell_type": "code",
   "execution_count": null,
   "id": "informal-tomato",
   "metadata": {},
   "outputs": [],
   "source": [
    "with open(DIR_OUT+'kratom_protein_labels.txt', 'w') as file2:\n",
    "    for label in protslabels:\n",
    "        file2.write(label)\n",
    "        file2.write('\\n')"
   ]
  },
  {
   "cell_type": "code",
   "execution_count": null,
   "id": "national-missile",
   "metadata": {},
   "outputs": [],
   "source": [
    "## for nodes of green tea and green tea constituents, get all neighbors with \n",
    "## edge in relations and object in PR or GO\n",
    "protneighs = {}\n",
    "for node in prots:\n",
    "    if str(node) in nodeLabels:\n",
    "        if isinstance(nodeLabels[str(node)], str):\n",
    "            nodestr = nodeLabels[str(node)]\n",
    "        else:\n",
    "            nodestr = nodeLabels[str(node)]['label']\n",
    "    else:\n",
    "        nodestr = str(node)\n",
    "    neighbors = get_neighbors_meta(nx_graph, node)\n",
    "    if nodestr in protneighs:\n",
    "        protneighs[nodestr].extend(neighbors)\n",
    "    else:\n",
    "        protneighs[nodestr] = neighbors\n",
    "len(protneighs)"
   ]
  },
  {
   "cell_type": "code",
   "execution_count": null,
   "id": "romance-brisbane",
   "metadata": {},
   "outputs": [],
   "source": [
    "#filter neighboring triples to only relations of interest and proteins as objects\n",
    "prots_filt = []\n",
    "for key in protneighs:\n",
    "    for item in protneighs[key]:\n",
    "        pred = item[1]\n",
    "        obj = item[2]\n",
    "        if pred in relations and obj == bupr:\n",
    "            prots_filt.append(key)\n",
    "len(prots_filt)"
   ]
  },
  {
   "cell_type": "code",
   "execution_count": null,
   "id": "strategic-approach",
   "metadata": {},
   "outputs": [],
   "source": [
    "prots_filt"
   ]
  },
  {
   "cell_type": "code",
   "execution_count": null,
   "id": "determined-triangle",
   "metadata": {},
   "outputs": [],
   "source": [
    "def get_neighbors(nx_graph, node):\n",
    "    neighs = nx.neighbors(nx_graph, node)\n",
    "    neighs_list = []\n",
    "    for item in neighs:\n",
    "        nodestr = nodeLabels[str(node)]\n",
    "        neighbor = nodeLabels[str(item)]\n",
    "        edge_result = nx_graph.get_edge_data(node, item)\n",
    "        edge_keys = list(edge_result.keys())\n",
    "        for edge in edge_keys:\n",
    "            edgestr = nodeLabels[str(edge)]\n",
    "            edgevalue = edge_result[edge]\n",
    "            result = [nodestr, edgestr, neighbor]\n",
    "            if 'source_graph' in edgevalue:\n",
    "                result.append(edgevalue['source_graph'])\n",
    "            if 'timestamp' in edgevalue:\n",
    "                result.append(edgevalue['timestamp'])\n",
    "            if 'pmid' in edgevalue:\n",
    "                result.append(edgevalue['pmid'])\n",
    "            neighs_list.append(result)\n",
    "    return neighs_list"
   ]
  },
  {
   "cell_type": "code",
   "execution_count": null,
   "id": "simplified-robertson",
   "metadata": {},
   "outputs": [],
   "source": [
    "len(prots)"
   ]
  },
  {
   "cell_type": "code",
   "execution_count": null,
   "id": "constant-moscow",
   "metadata": {},
   "outputs": [],
   "source": [
    "neighs = get_neighbors_meta(nx_graph, bupr)\n",
    "prots1 = []\n",
    "prots2 = []\n",
    "prots3 = []\n",
    "for item in neighs:\n",
    "    pred = item[1]\n",
    "    obj = item[2]\n",
    "    obj_id = str(obj).split('/')[-1].split('_')[0]\n",
    "    \n",
    "    if pred in relations and obj_id == 'PR':\n",
    "        prots1.append(obj)\n",
    "    if pred in relations and obj in prots:\n",
    "        prots2.append(obj)\n",
    "    if pred in relations:\n",
    "        prots3.append(obj)\n",
    "print(len(prots1), len(prots2), len(prots3))"
   ]
  },
  {
   "cell_type": "code",
   "execution_count": null,
   "id": "confirmed-junior",
   "metadata": {},
   "outputs": [],
   "source": [
    "##prots1 = midazolam - predicate - PR\n",
    "##prots2 = midazolam - predicate - PR, kratom - predicate - PR\n",
    "##prots3 = midazolam - predicate - object"
   ]
  },
  {
   "cell_type": "code",
   "execution_count": null,
   "id": "acceptable-neutral",
   "metadata": {},
   "outputs": [],
   "source": [
    "for item in prots1:\n",
    "    print(nodeLabels[str(item)])"
   ]
  },
  {
   "cell_type": "code",
   "execution_count": null,
   "id": "equipped-federal",
   "metadata": {},
   "outputs": [],
   "source": [
    "for item in prots2:\n",
    "    print(nodeLabels[str(item)])"
   ]
  },
  {
   "cell_type": "code",
   "execution_count": null,
   "id": "latin-grant",
   "metadata": {},
   "outputs": [],
   "source": [
    "for item in prots3:\n",
    "    print(nodeLabels[str(item)])"
   ]
  },
  {
   "cell_type": "code",
   "execution_count": null,
   "id": "aggressive-marble",
   "metadata": {},
   "outputs": [],
   "source": [
    "buprneighs = get_neighbors_meta(nx_graph, bupr)\n",
    "direct = []\n",
    "for item in buprneighs:\n",
    "    pred = item[1]\n",
    "    obj = item[2]\n",
    "    if pred in relations and obj in ktnodes:\n",
    "        direct.append(item)\n",
    "len(direct)"
   ]
  },
  {
   "cell_type": "code",
   "execution_count": null,
   "id": "deadly-september",
   "metadata": {},
   "outputs": [],
   "source": [
    "direct"
   ]
  },
  {
   "cell_type": "code",
   "execution_count": null,
   "id": "competent-remainder",
   "metadata": {},
   "outputs": [],
   "source": [
    "midazolam = obo.CHEBI_3216\n",
    "nodeLabels[str(midazolam)]"
   ]
  },
  {
   "cell_type": "code",
   "execution_count": null,
   "id": "chubby-express",
   "metadata": {},
   "outputs": [],
   "source": [
    "#list of green tea nodes\n",
    "ktnodes = [\n",
    "    obodict['kratom'][0],\n",
    "    obodict['mitragynine'][0],\n",
    "    obodict['hydroxy_mitragynine'][0],\n",
    "    obodict['hydroxy_mitragynine'][1]\n",
    "]"
   ]
  },
  {
   "cell_type": "code",
   "execution_count": null,
   "id": "automatic-trouble",
   "metadata": {},
   "outputs": [],
   "source": [
    "'''RELATIONS OF INTEREST\n",
    "directly regulates activity of2448\n",
    "positively regulates2213\n",
    "capable of regulating2596\n",
    "capable of positively regulating2598\n",
    "interacts with2434\n",
    "molecularly interacts with2436\n",
    "correlated with2610\n",
    "regulates activity of11002\n",
    "'''\n",
    "relations = [obo.RO_0002610,\n",
    "             obo.RO_0002434,\n",
    "             obo.RO_0002213,\n",
    "             obo.RO_0002448,\n",
    "             obo.RO_0002436,\n",
    "             obo.RO_0011002,\n",
    "             obo.RO_0002596,\n",
    "             obo.RO_0002598,\n",
    "            obo.RO_0002449]"
   ]
  },
  {
   "cell_type": "code",
   "execution_count": null,
   "id": "continuous-poison",
   "metadata": {},
   "outputs": [],
   "source": [
    "#get all neighbors of a node\n",
    "def get_neighbors_meta(nx_graph, node):\n",
    "    neighs = nx.neighbors(nx_graph, node)\n",
    "    neighs_list = []\n",
    "    for item in neighs:\n",
    "        #nodestr = nodeLabels[str(node)]\n",
    "        #neighbor = nodeLabels[str(item)]\n",
    "        edge_result = nx_graph.get_edge_data(node, item)\n",
    "        edge_keys = list(edge_result.keys())\n",
    "        for edge in edge_keys:\n",
    "            edgestr = nodeLabels[str(edge)]\n",
    "            edgevalue = edge_result[edge]\n",
    "            result = [node, edge, item]\n",
    "            if 'source_graph' in edgevalue:\n",
    "                result.append(edgevalue['source_graph'])\n",
    "            if 'timestamp' in edgevalue:\n",
    "                result.append(edgevalue['timestamp'])\n",
    "            neighs_list.append(result)\n",
    "    return neighs_list"
   ]
  },
  {
   "cell_type": "code",
   "execution_count": null,
   "id": "moral-prospect",
   "metadata": {},
   "outputs": [],
   "source": [
    "## for nodes of green tea and green tea constituents, get all neighbors with \n",
    "## edge in relations and object in PR or GO\n",
    "ktneighs = {}\n",
    "for node in ktnodes:\n",
    "    if str(node) in nodeLabels:\n",
    "        nodestr = nodeLabels[str(node)]\n",
    "    else:\n",
    "        nodestr = str(node)\n",
    "    neighbors = get_neighbors_meta(nx_graph, node)\n",
    "    if nodestr in ktneighs:\n",
    "        ktneighs[nodestr].extend(neighbors)\n",
    "    else:\n",
    "        ktneighs[nodestr] = neighbors\n",
    "len(ktneighs)"
   ]
  },
  {
   "cell_type": "code",
   "execution_count": null,
   "id": "applicable-shopping",
   "metadata": {},
   "outputs": [],
   "source": [
    "for key in ktneighs:\n",
    "    print(key, len(ktneighs[key]))"
   ]
  },
  {
   "cell_type": "code",
   "execution_count": null,
   "id": "seeing-country",
   "metadata": {},
   "outputs": [],
   "source": [
    "##checking if direct edge to midazolam\n",
    "for node in ktnodes:\n",
    "    edge_res = nx_graph.get_edge_data(node, midazolam)\n",
    "    if edge_res:\n",
    "        print(node)\n",
    "        print(edge_res)"
   ]
  },
  {
   "cell_type": "code",
   "execution_count": null,
   "id": "sound-feeding",
   "metadata": {},
   "outputs": [],
   "source": [
    "#filter neighboring triples to only relations of interest and proteins as objects\n",
    "ktneighs_filt = {}\n",
    "for key in ktneighs:\n",
    "    ktneighs_filt[key] = []\n",
    "    for item in ktneighs[key]:\n",
    "        pred = item[1]\n",
    "        obj_id = str(item[2]).split('/')[-1].split('_')[0]\n",
    "        if pred in relations and obj_id == 'PR':\n",
    "            ktneighs_filt[key].append(item)"
   ]
  },
  {
   "cell_type": "code",
   "execution_count": null,
   "id": "younger-resort",
   "metadata": {},
   "outputs": [],
   "source": [
    "for key in ktneighs_filt:\n",
    "    print(key, len(ktneighs_filt[key]))"
   ]
  },
  {
   "cell_type": "code",
   "execution_count": null,
   "id": "associate-fence",
   "metadata": {},
   "outputs": [],
   "source": [
    "with open(DIR_OUT+'kratom_metapath1.pickle', 'wb') as fileo:\n",
    "    pickle.dump(ktneighs_filt, fileo)"
   ]
  },
  {
   "cell_type": "code",
   "execution_count": null,
   "id": "computational-backup",
   "metadata": {},
   "outputs": [],
   "source": [
    "prlist = []\n",
    "for key in ktneighs_filt:\n",
    "    for item in ktneighs_filt[key]:\n",
    "        prlist.append(item[2])\n",
    "len(prlist)"
   ]
  },
  {
   "cell_type": "code",
   "execution_count": null,
   "id": "finite-break",
   "metadata": {},
   "outputs": [],
   "source": [
    "prots = list(set(prlist))"
   ]
  },
  {
   "cell_type": "code",
   "execution_count": null,
   "id": "applicable-killer",
   "metadata": {},
   "outputs": [],
   "source": [
    "len(prots)"
   ]
  },
  {
   "cell_type": "code",
   "execution_count": null,
   "id": "immediate-salem",
   "metadata": {},
   "outputs": [],
   "source": [
    "protslabels = []\n",
    "for item in prots:\n",
    "    if str(item) in nodeLabels:\n",
    "        if isinstance(nodeLabels[str(item)], str):\n",
    "            protslabels.append(nodeLabels[str(item)])\n",
    "        else:\n",
    "            protslabels.append(nodeLabels[str(item)]['label'])\n",
    "    else:\n",
    "        print(item)\n",
    "        protslabels.append(str(item))\n",
    "len(protslabels)"
   ]
  },
  {
   "cell_type": "code",
   "execution_count": null,
   "id": "arabic-speed",
   "metadata": {},
   "outputs": [],
   "source": [
    "for item in protslabels:\n",
    "    if isinstance(item, dict):\n",
    "        print(item)"
   ]
  },
  {
   "cell_type": "code",
   "execution_count": null,
   "id": "interesting-senegal",
   "metadata": {},
   "outputs": [],
   "source": [
    "with open(DIR_OUT+'kratom_protein_labels.txt', 'w') as file2:\n",
    "    for label in protslabels:\n",
    "        file2.write(label)\n",
    "        file2.write('\\n')"
   ]
  },
  {
   "cell_type": "code",
   "execution_count": null,
   "id": "breeding-surge",
   "metadata": {},
   "outputs": [],
   "source": [
    "## for nodes of green tea and green tea constituents, get all neighbors with \n",
    "## edge in relations and object in PR or GO\n",
    "protneighs = {}\n",
    "for node in prots:\n",
    "    if str(node) in nodeLabels:\n",
    "        if isinstance(nodeLabels[str(node)], str):\n",
    "            nodestr = nodeLabels[str(node)]\n",
    "        else:\n",
    "            nodestr = nodeLabels[str(node)]['label']\n",
    "    else:\n",
    "        nodestr = str(node)\n",
    "    neighbors = get_neighbors_meta(nx_graph, node)\n",
    "    if nodestr in protneighs:\n",
    "        protneighs[nodestr].extend(neighbors)\n",
    "    else:\n",
    "        protneighs[nodestr] = neighbors\n",
    "len(protneighs)"
   ]
  },
  {
   "cell_type": "code",
   "execution_count": null,
   "id": "aggressive-exception",
   "metadata": {},
   "outputs": [],
   "source": [
    "#filter neighboring triples to only relations of interest and proteins as objects\n",
    "prots_filt = []\n",
    "for key in protneighs:\n",
    "    for item in protneighs[key]:\n",
    "        pred = item[1]\n",
    "        obj = item[2]\n",
    "        if pred in relations and obj == midazolam:\n",
    "            prots_filt.append(key)\n",
    "len(prots_filt)"
   ]
  },
  {
   "cell_type": "code",
   "execution_count": null,
   "id": "departmental-warren",
   "metadata": {},
   "outputs": [],
   "source": [
    "prots_filt"
   ]
  },
  {
   "cell_type": "code",
   "execution_count": null,
   "id": "dietary-temperature",
   "metadata": {},
   "outputs": [],
   "source": [
    "def get_neighbors(nx_graph, node):\n",
    "    neighs = nx.neighbors(nx_graph, node)\n",
    "    neighs_list = []\n",
    "    for item in neighs:\n",
    "        nodestr = nodeLabels[str(node)]\n",
    "        neighbor = nodeLabels[str(item)]\n",
    "        edge_result = nx_graph.get_edge_data(node, item)\n",
    "        edge_keys = list(edge_result.keys())\n",
    "        for edge in edge_keys:\n",
    "            edgestr = nodeLabels[str(edge)]\n",
    "            edgevalue = edge_result[edge]\n",
    "            result = [nodestr, edgestr, neighbor]\n",
    "            if 'source_graph' in edgevalue:\n",
    "                result.append(edgevalue['source_graph'])\n",
    "            if 'timestamp' in edgevalue:\n",
    "                result.append(edgevalue['timestamp'])\n",
    "            if 'pmid' in edgevalue:\n",
    "                result.append(edgevalue['pmid'])\n",
    "            neighs_list.append(result)\n",
    "    return neighs_list"
   ]
  },
  {
   "cell_type": "code",
   "execution_count": null,
   "id": "civil-gravity",
   "metadata": {},
   "outputs": [],
   "source": [
    "len(prots)"
   ]
  },
  {
   "cell_type": "code",
   "execution_count": null,
   "id": "manufactured-knitting",
   "metadata": {},
   "outputs": [],
   "source": [
    "neighs = get_neighbors_meta(nx_graph, midazolam)\n",
    "prots1 = []\n",
    "prots2 = []\n",
    "prots3 = []\n",
    "for item in neighs:\n",
    "    pred = item[1]\n",
    "    obj = item[2]\n",
    "    obj_id = str(obj).split('/')[-1].split('_')[0]\n",
    "    \n",
    "    if pred in relations and obj_id == 'PR':\n",
    "        prots1.append(obj)\n",
    "    if pred in relations and obj in prots:\n",
    "        prots2.append(obj)\n",
    "    if pred in relations:\n",
    "        prots3.append(obj)\n",
    "print(len(prots1), len(prots2), len(prots3))"
   ]
  },
  {
   "cell_type": "code",
   "execution_count": null,
   "id": "serial-stroke",
   "metadata": {},
   "outputs": [],
   "source": [
    "##prots1 = midazolam - predicate - PR\n",
    "##prots2 = midazolam - predicate - PR, kratom - predicate - PR\n",
    "##prots3 = midazolam - predicate - object"
   ]
  },
  {
   "cell_type": "code",
   "execution_count": null,
   "id": "cognitive-documentation",
   "metadata": {},
   "outputs": [],
   "source": [
    "for item in prots1:\n",
    "    print(nodeLabels[str(item)])"
   ]
  },
  {
   "cell_type": "code",
   "execution_count": null,
   "id": "wireless-companion",
   "metadata": {},
   "outputs": [],
   "source": [
    "for item in prots2:\n",
    "    print(nodeLabels[str(item)])"
   ]
  },
  {
   "cell_type": "code",
   "execution_count": null,
   "id": "uniform-consciousness",
   "metadata": {},
   "outputs": [],
   "source": [
    "for item in prots3:\n",
    "    print(nodeLabels[str(item)])"
   ]
  },
  {
   "cell_type": "code",
   "execution_count": null,
   "id": "appreciated-edmonton",
   "metadata": {},
   "outputs": [],
   "source": [
    "##Nadolol-green tea direct edges\n",
    "midazoneighs = get_neighbors_meta(nx_graph, midazolam)\n",
    "direct = []\n",
    "for item in midazoneighs:\n",
    "    pred = item[1]\n",
    "    obj = item[2]\n",
    "    if pred in relations and obj in ktnodes:\n",
    "        direct.append(item)\n",
    "len(direct)"
   ]
  },
  {
   "cell_type": "code",
   "execution_count": null,
   "id": "finished-agriculture",
   "metadata": {},
   "outputs": [],
   "source": [
    "direct"
   ]
  },
  {
   "cell_type": "code",
   "execution_count": null,
   "id": "negative-giving",
   "metadata": {},
   "outputs": [],
   "source": []
  },
  {
   "cell_type": "code",
   "execution_count": null,
   "id": "lonely-arizona",
   "metadata": {},
   "outputs": [],
   "source": [
    "naloxone = obo.CHEBI_7459\n",
    "nodeLabels[str(naloxone)]"
   ]
  },
  {
   "cell_type": "code",
   "execution_count": null,
   "id": "bottom-participation",
   "metadata": {},
   "outputs": [],
   "source": [
    "#list of green tea nodes\n",
    "ktnodes = [\n",
    "    obodict['kratom'][0],\n",
    "    obodict['mitragynine'][0],\n",
    "    obodict['hydroxy_mitragynine'][0],\n",
    "    obodict['hydroxy_mitragynine'][1]\n",
    "]"
   ]
  },
  {
   "cell_type": "code",
   "execution_count": null,
   "id": "documentary-fishing",
   "metadata": {},
   "outputs": [],
   "source": [
    "'''RELATIONS OF INTEREST\n",
    "directly regulates activity of2448\n",
    "positively regulates2213\n",
    "capable of regulating2596\n",
    "capable of positively regulating2598\n",
    "interacts with2434\n",
    "molecularly interacts with2436\n",
    "correlated with2610\n",
    "regulates activity of11002\n",
    "'''\n",
    "relations = [obo.RO_0002610,\n",
    "             obo.RO_0002434,\n",
    "             obo.RO_0002213,\n",
    "             obo.RO_0002448,\n",
    "             obo.RO_0002436,\n",
    "             obo.RO_0011002,\n",
    "             obo.RO_0002596,\n",
    "             obo.RO_0002598,\n",
    "            obo.RO_0002449]"
   ]
  },
  {
   "cell_type": "code",
   "execution_count": null,
   "id": "approved-delhi",
   "metadata": {},
   "outputs": [],
   "source": [
    "#get all neighbors of a node\n",
    "def get_neighbors_meta(nx_graph, node):\n",
    "    neighs = nx.neighbors(nx_graph, node)\n",
    "    neighs_list = []\n",
    "    for item in neighs:\n",
    "        #nodestr = nodeLabels[str(node)]\n",
    "        #neighbor = nodeLabels[str(item)]\n",
    "        edge_result = nx_graph.get_edge_data(node, item)\n",
    "        edge_keys = list(edge_result.keys())\n",
    "        for edge in edge_keys:\n",
    "            edgestr = nodeLabels[str(edge)]\n",
    "            edgevalue = edge_result[edge]\n",
    "            result = [node, edge, item]\n",
    "            if 'source_graph' in edgevalue:\n",
    "                result.append(edgevalue['source_graph'])\n",
    "            if 'timestamp' in edgevalue:\n",
    "                result.append(edgevalue['timestamp'])\n",
    "            neighs_list.append(result)\n",
    "    return neighs_list"
   ]
  },
  {
   "cell_type": "code",
   "execution_count": null,
   "id": "received-packing",
   "metadata": {},
   "outputs": [],
   "source": [
    "ktneighs = {}\n",
    "for node in ktnodes:\n",
    "    if str(node) in nodeLabels:\n",
    "        if isinstance(nodeLabels[str(node)], str):\n",
    "            nodestr = nodeLabels[str(node)]\n",
    "        else:\n",
    "            nodestr = nodeLabels[str(node)]['label']\n",
    "    else:\n",
    "        nodestr = str(node)\n",
    "    neighbors = get_neighbors_meta(nx_graph, node)\n",
    "    if nodestr in ktneighs:\n",
    "        ktneighs[nodestr].extend(neighbors)\n",
    "    else:\n",
    "        ktneighs[nodestr] = neighbors\n",
    "len(ktneighs)"
   ]
  },
  {
   "cell_type": "code",
   "execution_count": null,
   "id": "genuine-sight",
   "metadata": {},
   "outputs": [],
   "source": [
    "for key in ktneighs:\n",
    "    print(key, len(ktneighs[key]))"
   ]
  },
  {
   "cell_type": "code",
   "execution_count": null,
   "id": "sorted-reminder",
   "metadata": {},
   "outputs": [],
   "source": [
    "##checking if direct edge to midazolam\n",
    "for node in ktnodes:\n",
    "    edge_res = nx_graph.get_edge_data(node, naloxone)\n",
    "    if edge_res:\n",
    "        print(node)\n",
    "        print(edge_res)"
   ]
  },
  {
   "cell_type": "code",
   "execution_count": null,
   "id": "polish-quarter",
   "metadata": {},
   "outputs": [],
   "source": [
    "#filter neighboring triples to only relations of interest and proteins as objects\n",
    "ktneighs_filt = {}\n",
    "for key in ktneighs:\n",
    "    ktneighs_filt[key] = []\n",
    "    for item in ktneighs[key]:\n",
    "        pred = item[1]\n",
    "        obj_id = str(item[2]).split('/')[-1].split('_')[0]\n",
    "        if pred in relations and obj_id == 'PR':\n",
    "            ktneighs_filt[key].append(item)"
   ]
  },
  {
   "cell_type": "code",
   "execution_count": null,
   "id": "normal-guitar",
   "metadata": {},
   "outputs": [],
   "source": [
    "for key in ktneighs_filt:\n",
    "    print(key, len(ktneighs_filt[key]))"
   ]
  },
  {
   "cell_type": "code",
   "execution_count": null,
   "id": "civic-cargo",
   "metadata": {},
   "outputs": [],
   "source": [
    "with open(DIR_OUT+'kratom_metapath1.pickle', 'wb') as fileo:\n",
    "    pickle.dump(ktneighs_filt, fileo)"
   ]
  },
  {
   "cell_type": "code",
   "execution_count": null,
   "id": "preliminary-technique",
   "metadata": {},
   "outputs": [],
   "source": [
    "prlist = []\n",
    "for key in ktneighs_filt:\n",
    "    for item in ktneighs_filt[key]:\n",
    "        prlist.append(item[2])\n",
    "len(prlist)"
   ]
  },
  {
   "cell_type": "code",
   "execution_count": null,
   "id": "retired-vancouver",
   "metadata": {},
   "outputs": [],
   "source": [
    "prots = list(set(prlist))"
   ]
  },
  {
   "cell_type": "code",
   "execution_count": null,
   "id": "noticed-washington",
   "metadata": {},
   "outputs": [],
   "source": [
    "len(prots)"
   ]
  },
  {
   "cell_type": "code",
   "execution_count": null,
   "id": "partial-confidence",
   "metadata": {},
   "outputs": [],
   "source": [
    "protslabels = []\n",
    "for item in prots:\n",
    "    if str(item) in nodeLabels:\n",
    "        if isinstance(nodeLabels[str(item)], str):\n",
    "            protslabels.append(nodeLabels[str(item)])\n",
    "        else:\n",
    "            protslabels.append(nodeLabels[str(item)]['label'])\n",
    "    else:\n",
    "        print(item)\n",
    "        protslabels.append(str(item))\n",
    "len(protslabels)"
   ]
  },
  {
   "cell_type": "code",
   "execution_count": null,
   "id": "military-institute",
   "metadata": {},
   "outputs": [],
   "source": [
    "for item in protslabels:\n",
    "    if isinstance(item, dict):\n",
    "        print(item)"
   ]
  },
  {
   "cell_type": "code",
   "execution_count": null,
   "id": "built-instruction",
   "metadata": {},
   "outputs": [],
   "source": [
    "with open(DIR_OUT+'kratom_protein_labels.txt', 'w') as file2:\n",
    "    for label in protslabels:\n",
    "        file2.write(label)\n",
    "        file2.write('\\n')"
   ]
  },
  {
   "cell_type": "code",
   "execution_count": null,
   "id": "judicial-retreat",
   "metadata": {},
   "outputs": [],
   "source": [
    "## for nodes of green tea and green tea constituents, get all neighbors with \n",
    "## edge in relations and object in PR or GO\n",
    "protneighs = {}\n",
    "for node in prots:\n",
    "    if str(node) in nodeLabels:\n",
    "        if isinstance(nodeLabels[str(node)], str):\n",
    "            nodestr = nodeLabels[str(node)]\n",
    "        else:\n",
    "            nodestr = nodeLabels[str(node)]['label']\n",
    "    else:\n",
    "        nodestr = str(node)\n",
    "    neighbors = get_neighbors_meta(nx_graph, node)\n",
    "    if nodestr in protneighs:\n",
    "        protneighs[nodestr].extend(neighbors)\n",
    "    else:\n",
    "        protneighs[nodestr] = neighbors\n",
    "len(protneighs)"
   ]
  },
  {
   "cell_type": "code",
   "execution_count": null,
   "id": "exterior-utility",
   "metadata": {},
   "outputs": [],
   "source": [
    "#filter neighboring triples to only relations of interest and proteins as objects\n",
    "prots_filt = []\n",
    "for key in protneighs:\n",
    "    for item in protneighs[key]:\n",
    "        pred = item[1]\n",
    "        obj = item[2]\n",
    "        if pred in relations and obj == naloxone:\n",
    "            prots_filt.append(key)\n",
    "len(prots_filt)"
   ]
  },
  {
   "cell_type": "code",
   "execution_count": null,
   "id": "regional-berkeley",
   "metadata": {},
   "outputs": [],
   "source": [
    "prots_filt"
   ]
  },
  {
   "cell_type": "code",
   "execution_count": null,
   "id": "adjusted-centre",
   "metadata": {},
   "outputs": [],
   "source": [
    "def get_neighbors(nx_graph, node):\n",
    "    neighs = nx.neighbors(nx_graph, node)\n",
    "    neighs_list = []\n",
    "    for item in neighs:\n",
    "        nodestr = nodeLabels[str(node)]\n",
    "        neighbor = nodeLabels[str(item)]\n",
    "        edge_result = nx_graph.get_edge_data(node, item)\n",
    "        edge_keys = list(edge_result.keys())\n",
    "        for edge in edge_keys:\n",
    "            edgestr = nodeLabels[str(edge)]\n",
    "            edgevalue = edge_result[edge]\n",
    "            result = [nodestr, edgestr, neighbor]\n",
    "            if 'source_graph' in edgevalue:\n",
    "                result.append(edgevalue['source_graph'])\n",
    "            if 'timestamp' in edgevalue:\n",
    "                result.append(edgevalue['timestamp'])\n",
    "            if 'pmid' in edgevalue:\n",
    "                result.append(edgevalue['pmid'])\n",
    "            neighs_list.append(result)\n",
    "    return neighs_list"
   ]
  },
  {
   "cell_type": "code",
   "execution_count": null,
   "id": "concrete-production",
   "metadata": {},
   "outputs": [],
   "source": [
    "len(prots)"
   ]
  },
  {
   "cell_type": "code",
   "execution_count": null,
   "id": "infinite-village",
   "metadata": {},
   "outputs": [],
   "source": [
    "neighs = get_neighbors_meta(nx_graph, naloxone)\n",
    "prots1 = []\n",
    "prots2 = []\n",
    "prots3 = []\n",
    "for item in neighs:\n",
    "    pred = item[1]\n",
    "    obj = item[2]\n",
    "    obj_id = str(obj).split('/')[-1].split('_')[0]\n",
    "    \n",
    "    if pred in relations and obj_id == 'PR':\n",
    "        prots1.append(obj)\n",
    "    if pred in relations and obj in prots:\n",
    "        prots2.append(obj)\n",
    "    if pred in relations:\n",
    "        prots3.append(obj)\n",
    "print(len(prots1), len(prots2), len(prots3))"
   ]
  },
  {
   "cell_type": "code",
   "execution_count": null,
   "id": "threaded-tuition",
   "metadata": {},
   "outputs": [],
   "source": [
    "##prots1 = naloxone - predicate - PR\n",
    "##prots2 = naloxone - predicate - PR, kratom - predicate - PR\n",
    "##prots3 = naloxone - predicate - object"
   ]
  },
  {
   "cell_type": "code",
   "execution_count": null,
   "id": "humanitarian-listening",
   "metadata": {},
   "outputs": [],
   "source": [
    "for item in prots1:\n",
    "    print(nodeLabels[str(item)])"
   ]
  },
  {
   "cell_type": "code",
   "execution_count": null,
   "id": "casual-roads",
   "metadata": {},
   "outputs": [],
   "source": [
    "for item in prots2:\n",
    "    print(nodeLabels[str(item)])"
   ]
  },
  {
   "cell_type": "code",
   "execution_count": null,
   "id": "large-buffer",
   "metadata": {},
   "outputs": [],
   "source": [
    "for item in prots3:\n",
    "    print(nodeLabels[str(item)])"
   ]
  },
  {
   "cell_type": "code",
   "execution_count": null,
   "id": "lonely-midwest",
   "metadata": {},
   "outputs": [],
   "source": [
    "naloneighs = get_neighbors_meta(nx_graph, naloxone)\n",
    "direct = []\n",
    "for item in naloneighs:\n",
    "    pred = item[1]\n",
    "    obj = item[2]\n",
    "    if pred in relations and obj in ktnodes:\n",
    "        direct.append(item)\n",
    "len(direct)"
   ]
  },
  {
   "cell_type": "code",
   "execution_count": null,
   "id": "previous-columbus",
   "metadata": {},
   "outputs": [],
   "source": [
    "direct"
   ]
  },
  {
   "cell_type": "markdown",
   "id": "opposite-shoulder",
   "metadata": {
    "tags": []
   },
   "source": [
    "## Kratom-quetiapine"
   ]
  },
  {
   "cell_type": "code",
   "execution_count": null,
   "id": "differential-yacht",
   "metadata": {},
   "outputs": [],
   "source": []
  },
  {
   "cell_type": "code",
   "execution_count": null,
   "id": "satisfactory-genre",
   "metadata": {},
   "outputs": [],
   "source": [
    "quet = obo.CHEBI_8707\n",
    "nodeLabels[str(quet)]"
   ]
  },
  {
   "cell_type": "code",
   "execution_count": null,
   "id": "sound-blame",
   "metadata": {},
   "outputs": [],
   "source": [
    "#list of green tea nodes\n",
    "ktnodes = [\n",
    "    obodict['kratom'][0],\n",
    "    obodict['mitragynine'][0],\n",
    "    obodict['hydroxy_mitragynine'][0],\n",
    "    obodict['hydroxy_mitragynine'][1]\n",
    "]"
   ]
  },
  {
   "cell_type": "code",
   "execution_count": null,
   "id": "stock-dryer",
   "metadata": {},
   "outputs": [],
   "source": [
    "'''RELATIONS OF INTEREST\n",
    "directly regulates activity of2448\n",
    "positively regulates2213\n",
    "capable of regulating2596\n",
    "capable of positively regulating2598\n",
    "interacts with2434\n",
    "molecularly interacts with2436\n",
    "correlated with2610\n",
    "regulates activity of11002\n",
    "'''\n",
    "relations = [obo.RO_0002610,\n",
    "             obo.RO_0002434,\n",
    "             obo.RO_0002213,\n",
    "             obo.RO_0002448,\n",
    "             obo.RO_0002436,\n",
    "             obo.RO_0011002,\n",
    "             obo.RO_0002596,\n",
    "             obo.RO_0002598,\n",
    "            obo.RO_0002449,\n",
    "            obo.DIDEO_00000041,\n",
    "            obo.RO_0002020]"
   ]
  },
  {
   "cell_type": "code",
   "execution_count": null,
   "id": "christian-interface",
   "metadata": {},
   "outputs": [],
   "source": [
    "#get all neighbors of a node\n",
    "def get_neighbors_meta(nx_graph, node):\n",
    "    neighs = nx.neighbors(nx_graph, node)\n",
    "    neighs_list = []\n",
    "    for item in neighs:\n",
    "        #nodestr = nodeLabels[str(node)]\n",
    "        #neighbor = nodeLabels[str(item)]\n",
    "        edge_result = nx_graph.get_edge_data(node, item)\n",
    "        edge_keys = list(edge_result.keys())\n",
    "        for edge in edge_keys:\n",
    "            edgestr = nodeLabels[str(edge)]\n",
    "            edgevalue = edge_result[edge]\n",
    "            result = [node, edge, item]\n",
    "            if 'source_graph' in edgevalue:\n",
    "                result.append(edgevalue['source_graph'])\n",
    "            if 'timestamp' in edgevalue:\n",
    "                result.append(edgevalue['timestamp'])\n",
    "            neighs_list.append(result)\n",
    "    return neighs_list"
   ]
  },
  {
   "cell_type": "code",
   "execution_count": null,
   "id": "ultimate-denial",
   "metadata": {},
   "outputs": [],
   "source": [
    "ktneighs = {}\n",
    "for node in ktnodes:\n",
    "    if str(node) in nodeLabels:\n",
    "        if isinstance(nodeLabels[str(node)], str):\n",
    "            nodestr = nodeLabels[str(node)]\n",
    "        else:\n",
    "            nodestr = nodeLabels[str(node)]['label']\n",
    "    else:\n",
    "        nodestr = str(node)\n",
    "    neighbors = get_neighbors_meta(nx_graph, node)\n",
    "    if nodestr in ktneighs:\n",
    "        ktneighs[nodestr].extend(neighbors)\n",
    "    else:\n",
    "        ktneighs[nodestr] = neighbors\n",
    "len(ktneighs)"
   ]
  },
  {
   "cell_type": "code",
   "execution_count": null,
   "id": "national-teddy",
   "metadata": {},
   "outputs": [],
   "source": [
    "for key in ktneighs:\n",
    "    print(key, len(ktneighs[key]))"
   ]
  },
  {
   "cell_type": "code",
   "execution_count": null,
   "id": "facial-pocket",
   "metadata": {},
   "outputs": [],
   "source": [
    "##checking if direct edge\n",
    "for node in ktnodes:\n",
    "    edge_res = nx_graph.get_edge_data(node, quet)\n",
    "    if edge_res:\n",
    "        print(node)\n",
    "        print(edge_res)"
   ]
  },
  {
   "cell_type": "code",
   "execution_count": null,
   "id": "dynamic-milan",
   "metadata": {},
   "outputs": [],
   "source": [
    "for node in ktnodes:\n",
    "    edge_res = nx_graph.get_edge_data(quet, node)\n",
    "    if edge_res:\n",
    "        print(node)\n",
    "        print(edge_res)"
   ]
  },
  {
   "cell_type": "code",
   "execution_count": null,
   "id": "earlier-cocktail",
   "metadata": {},
   "outputs": [],
   "source": [
    "#filter neighboring triples to only relations of interest and proteins as objects\n",
    "ktneighs_filt = {}\n",
    "for key in ktneighs:\n",
    "    ktneighs_filt[key] = []\n",
    "    for item in ktneighs[key]:\n",
    "        pred = item[1]\n",
    "        obj_id = str(item[2]).split('/')[-1].split('_')[0]\n",
    "        if pred in relations and obj_id == 'PR':\n",
    "            ktneighs_filt[key].append(item)"
   ]
  },
  {
   "cell_type": "code",
   "execution_count": null,
   "id": "creative-fabric",
   "metadata": {},
   "outputs": [],
   "source": [
    "for key in ktneighs_filt:\n",
    "    print(key, len(ktneighs_filt[key]))"
   ]
  },
  {
   "cell_type": "code",
   "execution_count": null,
   "id": "automatic-subscription",
   "metadata": {},
   "outputs": [],
   "source": [
    "for item in ktneighs_filt['Mitragynine']:\n",
    "    pred = item[1]\n",
    "    obj = item[2]\n",
    "    print(nodeLabels[str(pred)], nodeLabels[str(obj)])"
   ]
  },
  {
   "cell_type": "code",
   "execution_count": null,
   "id": "conservative-sunrise",
   "metadata": {},
   "outputs": [],
   "source": [
    "with open(DIR_OUT+'kratom_metapath1.pickle', 'wb') as fileo:\n",
    "    pickle.dump(ktneighs_filt, fileo)"
   ]
  },
  {
   "cell_type": "code",
   "execution_count": null,
   "id": "speaking-three",
   "metadata": {},
   "outputs": [],
   "source": [
    "prlist = []\n",
    "for key in ktneighs_filt:\n",
    "    for item in ktneighs_filt[key]:\n",
    "        prlist.append(item[2])\n",
    "len(prlist)"
   ]
  },
  {
   "cell_type": "code",
   "execution_count": null,
   "id": "hairy-consultation",
   "metadata": {},
   "outputs": [],
   "source": [
    "prots = list(set(prlist))"
   ]
  },
  {
   "cell_type": "code",
   "execution_count": null,
   "id": "flexible-potential",
   "metadata": {},
   "outputs": [],
   "source": [
    "len(prots)"
   ]
  },
  {
   "cell_type": "code",
   "execution_count": null,
   "id": "religious-reflection",
   "metadata": {},
   "outputs": [],
   "source": [
    "protslabels = []\n",
    "for item in prots:\n",
    "    if str(item) in nodeLabels:\n",
    "        if isinstance(nodeLabels[str(item)], str):\n",
    "            protslabels.append(nodeLabels[str(item)])\n",
    "        else:\n",
    "            protslabels.append(nodeLabels[str(item)]['label'])\n",
    "    else:\n",
    "        print(item)\n",
    "        protslabels.append(str(item))\n",
    "len(protslabels)"
   ]
  },
  {
   "cell_type": "code",
   "execution_count": null,
   "id": "visible-roads",
   "metadata": {},
   "outputs": [],
   "source": [
    "for item in protslabels:\n",
    "    if isinstance(item, dict):\n",
    "        print(item)"
   ]
  },
  {
   "cell_type": "code",
   "execution_count": null,
   "id": "alien-painting",
   "metadata": {},
   "outputs": [],
   "source": [
    "with open(DIR_OUT+'kratom_protein_labels.txt', 'w') as file2:\n",
    "    for label in protslabels:\n",
    "        file2.write(label)\n",
    "        file2.write('\\n')"
   ]
  },
  {
   "cell_type": "code",
   "execution_count": null,
   "id": "incomplete-israel",
   "metadata": {},
   "outputs": [],
   "source": [
    "## for nodes of green tea and green tea constituents, get all neighbors with \n",
    "## edge in relations and object in PR or GO\n",
    "protneighs = {}\n",
    "for node in prots:\n",
    "    if str(node) in nodeLabels:\n",
    "        if isinstance(nodeLabels[str(node)], str):\n",
    "            nodestr = nodeLabels[str(node)]\n",
    "        else:\n",
    "            nodestr = nodeLabels[str(node)]['label']\n",
    "    else:\n",
    "        nodestr = str(node)\n",
    "    neighbors = get_neighbors_meta(nx_graph, node)\n",
    "    if nodestr in protneighs:\n",
    "        protneighs[nodestr].extend(neighbors)\n",
    "    else:\n",
    "        protneighs[nodestr] = neighbors\n",
    "len(protneighs)"
   ]
  },
  {
   "cell_type": "code",
   "execution_count": null,
   "id": "outdoor-silver",
   "metadata": {},
   "outputs": [],
   "source": [
    "#filter neighboring triples to only relations of interest and proteins as objects\n",
    "prots_filt = []\n",
    "for key in protneighs:\n",
    "    for item in protneighs[key]:\n",
    "        pred = item[1]\n",
    "        obj = item[2]\n",
    "        if pred in relations and obj == quet:\n",
    "            prots_filt.append(key)\n",
    "len(prots_filt)"
   ]
  },
  {
   "cell_type": "code",
   "execution_count": null,
   "id": "satisfied-highland",
   "metadata": {},
   "outputs": [],
   "source": [
    "prots_filt"
   ]
  },
  {
   "cell_type": "code",
   "execution_count": null,
   "id": "realistic-identity",
   "metadata": {},
   "outputs": [],
   "source": [
    "def get_neighbors(nx_graph, node):\n",
    "    neighs = nx.neighbors(nx_graph, node)\n",
    "    neighs_list = []\n",
    "    for item in neighs:\n",
    "        nodestr = nodeLabels[str(node)]\n",
    "        neighbor = nodeLabels[str(item)]\n",
    "        edge_result = nx_graph.get_edge_data(node, item)\n",
    "        edge_keys = list(edge_result.keys())\n",
    "        for edge in edge_keys:\n",
    "            edgestr = nodeLabels[str(edge)]\n",
    "            edgevalue = edge_result[edge]\n",
    "            result = [nodestr, edgestr, neighbor]\n",
    "            if 'source_graph' in edgevalue:\n",
    "                result.append(edgevalue['source_graph'])\n",
    "            if 'timestamp' in edgevalue:\n",
    "                result.append(edgevalue['timestamp'])\n",
    "            if 'pmid' in edgevalue:\n",
    "                result.append(edgevalue['pmid'])\n",
    "            neighs_list.append(result)\n",
    "    return neighs_list"
   ]
  },
  {
   "cell_type": "code",
   "execution_count": null,
   "id": "twenty-crawford",
   "metadata": {},
   "outputs": [],
   "source": [
    "len(prots)"
   ]
  },
  {
   "cell_type": "code",
   "execution_count": null,
   "id": "intended-anthony",
   "metadata": {},
   "outputs": [],
   "source": [
    "neighs = get_neighbors_meta(nx_graph, quet)\n",
    "prots1 = []\n",
    "prots2 = []\n",
    "prots3 = []\n",
    "for item in neighs:\n",
    "    pred = item[1]\n",
    "    obj = item[2]\n",
    "    obj_id = str(obj).split('/')[-1].split('_')[0]\n",
    "    \n",
    "    if pred in relations and obj_id == 'PR':\n",
    "        prots1.append(obj)\n",
    "    if pred in relations and obj in prots:\n",
    "        prots2.append(obj)\n",
    "    if pred in relations:\n",
    "        prots3.append(obj)\n",
    "print(len(prots1), len(prots2), len(prots3))"
   ]
  },
  {
   "cell_type": "code",
   "execution_count": null,
   "id": "american-experiment",
   "metadata": {},
   "outputs": [],
   "source": [
    "##prots1 = naloxone - predicate - PR\n",
    "##prots2 = naloxone - predicate - PR, kratom - predicate - PR\n",
    "##prots3 = naloxone - predicate - object"
   ]
  },
  {
   "cell_type": "code",
   "execution_count": null,
   "id": "judicial-majority",
   "metadata": {},
   "outputs": [],
   "source": [
    "for item in prots1:\n",
    "    print(nodeLabels[str(item)])\n",
    "    print(nx_graph.get_edge_data(quet, item))"
   ]
  },
  {
   "cell_type": "code",
   "execution_count": null,
   "id": "reasonable-smell",
   "metadata": {},
   "outputs": [],
   "source": [
    "for item in prots2:\n",
    "    print(nodeLabels[str(item)])\n",
    "    print(nx_graph.get_edge_data(quet, item))"
   ]
  },
  {
   "cell_type": "code",
   "execution_count": null,
   "id": "pleased-illness",
   "metadata": {},
   "outputs": [],
   "source": [
    "for item in prots3:\n",
    "    print(nodeLabels[str(item)])\n",
    "    print(nx_graph.get_edge_data(quet, item))"
   ]
  },
  {
   "cell_type": "code",
   "execution_count": null,
   "id": "polished-folks",
   "metadata": {},
   "outputs": [],
   "source": [
    "quetneigh = get_neighbors_meta(nx_graph, quet)\n",
    "direct = []\n",
    "for item in quetneigh:\n",
    "    pred = item[1]\n",
    "    obj = item[2]\n",
    "    if pred in relations and obj in ktnodes:\n",
    "        direct.append(item)\n",
    "len(direct)"
   ]
  },
  {
   "cell_type": "code",
   "execution_count": null,
   "id": "purple-wiring",
   "metadata": {},
   "outputs": [],
   "source": [
    "direct"
   ]
  },
  {
   "cell_type": "markdown",
   "id": "built-caution",
   "metadata": {
    "tags": []
   },
   "source": [
    "## Kratom-venlafaxine"
   ]
  },
  {
   "cell_type": "code",
   "execution_count": null,
   "id": "genuine-header",
   "metadata": {},
   "outputs": [],
   "source": [
    "venla = obo.CHEBI_9943\n",
    "nodeLabels[str(venla)]"
   ]
  },
  {
   "cell_type": "code",
   "execution_count": null,
   "id": "attended-opposition",
   "metadata": {},
   "outputs": [],
   "source": [
    "#list of green tea nodes\n",
    "ktnodes = [\n",
    "    obodict['kratom'][0],\n",
    "    obodict['mitragynine'][0],\n",
    "    obodict['hydroxy_mitragynine'][0],\n",
    "    obodict['hydroxy_mitragynine'][1]\n",
    "]"
   ]
  },
  {
   "cell_type": "code",
   "execution_count": null,
   "id": "personalized-retention",
   "metadata": {},
   "outputs": [],
   "source": [
    "'''RELATIONS OF INTEREST\n",
    "directly regulates activity of2448\n",
    "positively regulates2213\n",
    "capable of regulating2596\n",
    "capable of positively regulating2598\n",
    "interacts with2434\n",
    "molecularly interacts with2436\n",
    "correlated with2610\n",
    "regulates activity of11002\n",
    "'''\n",
    "relations = [obo.RO_0002610,\n",
    "             obo.RO_0002434,\n",
    "             obo.RO_0002213,\n",
    "             obo.RO_0002448,\n",
    "             obo.RO_0002436,\n",
    "             obo.RO_0011002,\n",
    "             obo.RO_0002596,\n",
    "             obo.RO_0002598,\n",
    "            obo.RO_0002449,\n",
    "            obo.DIDEO_00000041,\n",
    "            obo.RO_0002020]"
   ]
  },
  {
   "cell_type": "code",
   "execution_count": null,
   "id": "laughing-castle",
   "metadata": {},
   "outputs": [],
   "source": [
    "#get all neighbors of a node\n",
    "def get_neighbors_meta(nx_graph, node):\n",
    "    neighs = nx.neighbors(nx_graph, node)\n",
    "    neighs_list = []\n",
    "    for item in neighs:\n",
    "        #nodestr = nodeLabels[str(node)]\n",
    "        #neighbor = nodeLabels[str(item)]\n",
    "        edge_result = nx_graph.get_edge_data(node, item)\n",
    "        edge_keys = list(edge_result.keys())\n",
    "        for edge in edge_keys:\n",
    "            edgestr = nodeLabels[str(edge)]\n",
    "            edgevalue = edge_result[edge]\n",
    "            result = [node, edge, item]\n",
    "            if 'source_graph' in edgevalue:\n",
    "                result.append(edgevalue['source_graph'])\n",
    "            if 'timestamp' in edgevalue:\n",
    "                result.append(edgevalue['timestamp'])\n",
    "            neighs_list.append(result)\n",
    "    return neighs_list"
   ]
  },
  {
   "cell_type": "code",
   "execution_count": null,
   "id": "extensive-swimming",
   "metadata": {},
   "outputs": [],
   "source": [
    "ktneighs = {}\n",
    "for node in ktnodes:\n",
    "    if str(node) in nodeLabels:\n",
    "        if isinstance(nodeLabels[str(node)], str):\n",
    "            nodestr = nodeLabels[str(node)]\n",
    "        else:\n",
    "            nodestr = nodeLabels[str(node)]['label']\n",
    "    else:\n",
    "        nodestr = str(node)\n",
    "    neighbors = get_neighbors_meta(nx_graph, node)\n",
    "    if nodestr in ktneighs:\n",
    "        ktneighs[nodestr].extend(neighbors)\n",
    "    else:\n",
    "        ktneighs[nodestr] = neighbors\n",
    "len(ktneighs)"
   ]
  },
  {
   "cell_type": "code",
   "execution_count": null,
   "id": "suitable-creek",
   "metadata": {},
   "outputs": [],
   "source": [
    "for key in ktneighs:\n",
    "    print(key, len(ktneighs[key]))"
   ]
  },
  {
   "cell_type": "code",
   "execution_count": null,
   "id": "developing-championship",
   "metadata": {},
   "outputs": [],
   "source": [
    "##checking if direct edge\n",
    "for node in ktnodes:\n",
    "    edge_res = nx_graph.get_edge_data(node, venla)\n",
    "    if edge_res:\n",
    "        print(node)\n",
    "        print(edge_res)"
   ]
  },
  {
   "cell_type": "code",
   "execution_count": null,
   "id": "everyday-bosnia",
   "metadata": {},
   "outputs": [],
   "source": [
    "for node in ktnodes:\n",
    "    edge_res = nx_graph.get_edge_data(quet, venla)\n",
    "    if edge_res:\n",
    "        print(node)\n",
    "        print(edge_res)"
   ]
  },
  {
   "cell_type": "code",
   "execution_count": null,
   "id": "incident-uncertainty",
   "metadata": {},
   "outputs": [],
   "source": [
    "#filter neighboring triples to only relations of interest and proteins as objects\n",
    "ktneighs_filt = {}\n",
    "for key in ktneighs:\n",
    "    ktneighs_filt[key] = []\n",
    "    for item in ktneighs[key]:\n",
    "        pred = item[1]\n",
    "        obj_id = str(item[2]).split('/')[-1].split('_')[0]\n",
    "        if pred in relations and obj_id == 'PR':\n",
    "            ktneighs_filt[key].append(item)"
   ]
  },
  {
   "cell_type": "code",
   "execution_count": null,
   "id": "trained-express",
   "metadata": {},
   "outputs": [],
   "source": [
    "for key in ktneighs_filt:\n",
    "    print(key, len(ktneighs_filt[key]))"
   ]
  },
  {
   "cell_type": "code",
   "execution_count": null,
   "id": "available-initial",
   "metadata": {},
   "outputs": [],
   "source": [
    "for item in ktneighs_filt['Mitragynine']:\n",
    "    pred = item[1]\n",
    "    obj = item[2]\n",
    "    print(nodeLabels[str(pred)], nodeLabels[str(obj)])"
   ]
  },
  {
   "cell_type": "code",
   "execution_count": null,
   "id": "fourth-petite",
   "metadata": {},
   "outputs": [],
   "source": [
    "with open(DIR_OUT+'kratom_metapath1.pickle', 'wb') as fileo:\n",
    "    pickle.dump(ktneighs_filt, fileo)"
   ]
  },
  {
   "cell_type": "code",
   "execution_count": null,
   "id": "comic-allowance",
   "metadata": {},
   "outputs": [],
   "source": [
    "prlist = []\n",
    "for key in ktneighs_filt:\n",
    "    for item in ktneighs_filt[key]:\n",
    "        prlist.append(item[2])\n",
    "len(prlist)"
   ]
  },
  {
   "cell_type": "code",
   "execution_count": null,
   "id": "designing-edwards",
   "metadata": {},
   "outputs": [],
   "source": [
    "prots = list(set(prlist))"
   ]
  },
  {
   "cell_type": "code",
   "execution_count": null,
   "id": "photographic-pharmacology",
   "metadata": {},
   "outputs": [],
   "source": [
    "len(prots)"
   ]
  },
  {
   "cell_type": "code",
   "execution_count": null,
   "id": "surrounded-aquatic",
   "metadata": {},
   "outputs": [],
   "source": [
    "protslabels = []\n",
    "for item in prots:\n",
    "    if str(item) in nodeLabels:\n",
    "        if isinstance(nodeLabels[str(item)], str):\n",
    "            protslabels.append(nodeLabels[str(item)])\n",
    "        else:\n",
    "            protslabels.append(nodeLabels[str(item)]['label'])\n",
    "    else:\n",
    "        print(item)\n",
    "        protslabels.append(str(item))\n",
    "len(protslabels)"
   ]
  },
  {
   "cell_type": "code",
   "execution_count": null,
   "id": "touched-trick",
   "metadata": {},
   "outputs": [],
   "source": [
    "for item in protslabels:\n",
    "    if isinstance(item, dict):\n",
    "        print(item)"
   ]
  },
  {
   "cell_type": "code",
   "execution_count": null,
   "id": "improving-specification",
   "metadata": {},
   "outputs": [],
   "source": [
    "with open(DIR_OUT+'kratom_protein_labels.txt', 'w') as file2:\n",
    "    for label in protslabels:\n",
    "        file2.write(label)\n",
    "        file2.write('\\n')"
   ]
  },
  {
   "cell_type": "code",
   "execution_count": null,
   "id": "intimate-austin",
   "metadata": {},
   "outputs": [],
   "source": [
    "## for nodes of green tea and green tea constituents, get all neighbors with \n",
    "## edge in relations and object in PR or GO\n",
    "protneighs = {}\n",
    "for node in prots:\n",
    "    if str(node) in nodeLabels:\n",
    "        if isinstance(nodeLabels[str(node)], str):\n",
    "            nodestr = nodeLabels[str(node)]\n",
    "        else:\n",
    "            nodestr = nodeLabels[str(node)]['label']\n",
    "    else:\n",
    "        nodestr = str(node)\n",
    "    neighbors = get_neighbors_meta(nx_graph, node)\n",
    "    if nodestr in protneighs:\n",
    "        protneighs[nodestr].extend(neighbors)\n",
    "    else:\n",
    "        protneighs[nodestr] = neighbors\n",
    "len(protneighs)"
   ]
  },
  {
   "cell_type": "code",
   "execution_count": null,
   "id": "premium-probe",
   "metadata": {},
   "outputs": [],
   "source": [
    "#filter neighboring triples to only relations of interest and proteins as objects\n",
    "prots_filt = []\n",
    "for key in protneighs:\n",
    "    for item in protneighs[key]:\n",
    "        pred = item[1]\n",
    "        obj = item[2]\n",
    "        if pred in relations and obj == venla:\n",
    "            prots_filt.append(key)\n",
    "len(prots_filt)"
   ]
  },
  {
   "cell_type": "code",
   "execution_count": null,
   "id": "perfect-implementation",
   "metadata": {},
   "outputs": [],
   "source": [
    "prots_filt"
   ]
  },
  {
   "cell_type": "code",
   "execution_count": null,
   "id": "decreased-joseph",
   "metadata": {},
   "outputs": [],
   "source": [
    "def get_neighbors(nx_graph, node):\n",
    "    neighs = nx.neighbors(nx_graph, node)\n",
    "    neighs_list = []\n",
    "    for item in neighs:\n",
    "        nodestr = nodeLabels[str(node)]\n",
    "        neighbor = nodeLabels[str(item)]\n",
    "        edge_result = nx_graph.get_edge_data(node, item)\n",
    "        edge_keys = list(edge_result.keys())\n",
    "        for edge in edge_keys:\n",
    "            edgestr = nodeLabels[str(edge)]\n",
    "            edgevalue = edge_result[edge]\n",
    "            result = [nodestr, edgestr, neighbor]\n",
    "            if 'source_graph' in edgevalue:\n",
    "                result.append(edgevalue['source_graph'])\n",
    "            if 'timestamp' in edgevalue:\n",
    "                result.append(edgevalue['timestamp'])\n",
    "            if 'pmid' in edgevalue:\n",
    "                result.append(edgevalue['pmid'])\n",
    "            neighs_list.append(result)\n",
    "    return neighs_list"
   ]
  },
  {
   "cell_type": "code",
   "execution_count": null,
   "id": "indie-placement",
   "metadata": {},
   "outputs": [],
   "source": [
    "len(prots)"
   ]
  },
  {
   "cell_type": "code",
   "execution_count": null,
   "id": "broke-novel",
   "metadata": {},
   "outputs": [],
   "source": [
    "neighs = get_neighbors_meta(nx_graph, venla)\n",
    "prots1 = []\n",
    "prots2 = []\n",
    "prots3 = []\n",
    "for item in neighs:\n",
    "    pred = item[1]\n",
    "    obj = item[2]\n",
    "    obj_id = str(obj).split('/')[-1].split('_')[0]\n",
    "    \n",
    "    if pred in relations and obj_id == 'PR':\n",
    "        prots1.append(obj)\n",
    "    if pred in relations and obj in prots:\n",
    "        prots2.append(obj)\n",
    "    if pred in relations:\n",
    "        prots3.append(obj)\n",
    "print(len(prots1), len(prots2), len(prots3))"
   ]
  },
  {
   "cell_type": "code",
   "execution_count": null,
   "id": "needed-reporter",
   "metadata": {},
   "outputs": [],
   "source": [
    "##prots1 = naloxone - predicate - PR\n",
    "##prots2 = naloxone - predicate - PR, kratom - predicate - PR\n",
    "##prots3 = naloxone - predicate - object"
   ]
  },
  {
   "cell_type": "code",
   "execution_count": null,
   "id": "alone-embassy",
   "metadata": {},
   "outputs": [],
   "source": [
    "for item in prots1:\n",
    "    print(nodeLabels[str(item)])\n",
    "    print(nx_graph.get_edge_data(venla, item))"
   ]
  },
  {
   "cell_type": "code",
   "execution_count": null,
   "id": "neutral-array",
   "metadata": {},
   "outputs": [],
   "source": [
    "for item in prots2:\n",
    "    print(nodeLabels[str(item)])\n",
    "    print(nx_graph.get_edge_data(venla, item))"
   ]
  },
  {
   "cell_type": "code",
   "execution_count": null,
   "id": "representative-majority",
   "metadata": {},
   "outputs": [],
   "source": [
    "for item in prots3:\n",
    "    print(nodeLabels[str(item)])\n",
    "    print(nx_graph.get_edge_data(venla, item))"
   ]
  },
  {
   "cell_type": "code",
   "execution_count": null,
   "id": "straight-mother",
   "metadata": {},
   "outputs": [],
   "source": [
    "venlaneigh = get_neighbors_meta(nx_graph, venla)\n",
    "direct = []\n",
    "for item in venlaneigh:\n",
    "    pred = item[1]\n",
    "    obj = item[2]\n",
    "    if pred in relations and obj in ktnodes:\n",
    "        direct.append(item)\n",
    "len(direct)"
   ]
  },
  {
   "cell_type": "code",
   "execution_count": null,
   "id": "fifty-thread",
   "metadata": {},
   "outputs": [],
   "source": [
    "direct"
   ]
  },
  {
   "cell_type": "code",
   "execution_count": null,
   "id": "broadband-trauma",
   "metadata": {},
   "outputs": [],
   "source": [
    "prot"
   ]
  }
 ],
 "metadata": {
  "kernelspec": {
   "display_name": "Python 3",
   "language": "python",
   "name": "python3"
  },
  "language_info": {
   "codemirror_mode": {
    "name": "ipython",
    "version": 3
   },
   "file_extension": ".py",
   "mimetype": "text/x-python",
   "name": "python",
   "nbconvert_exporter": "python",
   "pygments_lexer": "ipython3",
   "version": "3.8.0"
  }
 },
 "nbformat": 4,
 "nbformat_minor": 5
}
