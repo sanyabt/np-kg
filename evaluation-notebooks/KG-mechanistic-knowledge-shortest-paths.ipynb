{
 "cells": [
  {
   "cell_type": "markdown",
   "id": "meaningful-vessel",
   "metadata": {},
   "source": [
    "## Recapture knowledge from the KG about NPDIs and compare with NaPDI repo data (in vitro experiments) with shortest path searches"
   ]
  },
  {
   "cell_type": "markdown",
   "id": "resistant-clerk",
   "metadata": {},
   "source": [
    "## Shortest Path Searches"
   ]
  },
  {
   "cell_type": "code",
   "execution_count": null,
   "id": "atmospheric-blame",
   "metadata": {},
   "outputs": [],
   "source": [
    "# # uncomment and run to install any required modules from np-kg/requirements.txt if any of the packages below \n",
    "# give import errors\n",
    "# import sys\n",
    "# !{sys.executable} -m pip install -r requirements.txt"
   ]
  },
  {
   "cell_type": "code",
   "execution_count": null,
   "id": "spiritual-winner",
   "metadata": {},
   "outputs": [],
   "source": [
    "import os\n",
    "import os.path\n",
    "import networkx as nx\n",
    "import json\n",
    "import urllib\n",
    "import traceback\n",
    "from itertools import islice\n",
    "from rdflib import Graph, URIRef, BNode, Namespace, Literal\n",
    "from rdflib.namespace import RDF, OWL\n",
    "from tqdm import tqdm\n",
    "import json"
   ]
  },
  {
   "cell_type": "code",
   "execution_count": null,
   "id": "narrative-plaintiff",
   "metadata": {},
   "outputs": [],
   "source": [
    "import hashlib"
   ]
  },
  {
   "cell_type": "code",
   "execution_count": null,
   "id": "reported-jimmy",
   "metadata": {},
   "outputs": [],
   "source": [
    "import pickle\n",
    "import pandas as pd\n",
    "import numpy as np\n",
    "import KG_path_searches"
   ]
  },
  {
   "cell_type": "code",
   "execution_count": null,
   "id": "going-adelaide",
   "metadata": {},
   "outputs": [],
   "source": [
    "KG_PATH = '../resources/knowledge_graphs/'\n",
    "NodeLabelsFile = KG_PATH + 'nodeLabels_v1.0.pickle'\n",
    "KG_NAME_MERGED = 'PheKnowLator_machine_read_merged_instance_based_OWLNETS_v1.0.gpickle'"
   ]
  },
  {
   "cell_type": "code",
   "execution_count": null,
   "id": "dense-estonia",
   "metadata": {},
   "outputs": [],
   "source": [
    "with open(NodeLabelsFile, 'rb') as filep:\n",
    "    nodeLabels = pickle.load(filep)"
   ]
  },
  {
   "cell_type": "code",
   "execution_count": null,
   "id": "criminal-national",
   "metadata": {},
   "outputs": [],
   "source": [
    "##READ MERGED GRAPH\n",
    "nx_graph = nx.read_gpickle(KG_PATH+KG_NAME_MERGED)"
   ]
  },
  {
   "cell_type": "code",
   "execution_count": null,
   "id": "verbal-marijuana",
   "metadata": {},
   "outputs": [],
   "source": [
    "# output directory (created if does not exist)\n",
    "DIR_OUT = '../output_files/'\n",
    "if not os.path.exists(DIR_OUT): os.mkdir(DIR_OUT)"
   ]
  },
  {
   "cell_type": "code",
   "execution_count": null,
   "id": "crucial-liquid",
   "metadata": {},
   "outputs": [],
   "source": [
    "obo = Namespace('http://purl.obolibrary.org/obo/')\n",
    "napdi = Namespace('http://napdi.org/napdi_srs_imports:')"
   ]
  },
  {
   "cell_type": "code",
   "execution_count": null,
   "id": "technological-pledge",
   "metadata": {},
   "outputs": [],
   "source": [
    "##read in pickle dictionary with obo identifiers\n",
    "import pickle\n",
    "with open(KG_PATH+'strToOBOdict.pickle','rb') as filep:\n",
    "    obodict = pickle.load(filep)\n",
    "len(obodict)"
   ]
  },
  {
   "cell_type": "code",
   "execution_count": null,
   "id": "digital-throat",
   "metadata": {},
   "outputs": [],
   "source": [
    "def get_path_labels(nx_graph, path, nodeLabels):\n",
    "    path_labels = []\n",
    "    for edge in zip(path, path[1:]):\n",
    "        data = nx_graph.get_edge_data(*edge)\n",
    "        pred = list(data.keys())[0]\n",
    "        node1_lab = str(edge[0])\n",
    "        node2_lab = str(edge[1])\n",
    "        if node1_lab in nodeLabels:\n",
    "            node1_lab = nodeLabels[node1_lab]\n",
    "        if node2_lab in nodeLabels:\n",
    "            node2_lab = nodeLabels[node2_lab]\n",
    "        pred_lab = nodeLabels[str(pred)]\n",
    "        if list(data.values())[0]:\n",
    "            if 'source_graph' in list(data.values())[0]:\n",
    "                source_graph = 'machine_read'\n",
    "            else:\n",
    "                source_graph = ''\n",
    "        else:\n",
    "            source_graph = ''\n",
    "        labels = [node1_lab, pred_lab, node2_lab, source_graph]\n",
    "        path_labels.append(labels)\n",
    "    return path_labels"
   ]
  },
  {
   "cell_type": "code",
   "execution_count": null,
   "id": "bizarre-layout",
   "metadata": {},
   "outputs": [],
   "source": [
    "def get_path_uri(nx_graph, path):\n",
    "    path_uri = []\n",
    "    for edge in zip(path, path[1:]):\n",
    "        data = nx_graph.get_edge_data(*edge)\n",
    "        pred = list(data.keys())[0]\n",
    "        attribute = list(data.values())\n",
    "        uri = [str(edge[0]), str(pred), str(edge[1]), attribute]\n",
    "        path_uri.append(uri)\n",
    "    return path_uri"
   ]
  },
  {
   "cell_type": "code",
   "execution_count": null,
   "id": "absent-cable",
   "metadata": {},
   "outputs": [],
   "source": [
    "def get_bidirectional_shortest_path(G, source, target, nodeLabels):\n",
    "    print('Searching for path from {} - {}'.format(str(source), str(target)))\n",
    "    pathx = nx.bidirectional_shortest_path(G, source, target)\n",
    "\n",
    "    path_labels = get_path_labels(G, pathx, nodeLabels)\n",
    "    path_uri = get_path_uri(G, pathx)\n",
    "\n",
    "    return path_labels, path_uri"
   ]
  },
  {
   "cell_type": "markdown",
   "id": "available-pharmaceutical",
   "metadata": {
    "tags": []
   },
   "source": [
    "## Kratom - Shortest Paths"
   ]
  },
  {
   "cell_type": "markdown",
   "id": "mexican-service",
   "metadata": {
    "tags": []
   },
   "source": [
    "### Kratom"
   ]
  },
  {
   "cell_type": "code",
   "execution_count": null,
   "id": "ambient-fever",
   "metadata": {},
   "outputs": [],
   "source": [
    "nx_path1 = ''\n",
    "nx_path2 = ''\n",
    "nx_path3 = ''\n",
    "try:\n",
    "    nx_path1, nx_uri = get_bidirectional_shortest_path(nx_graph, obodict['kratom'][0], \n",
    "                                                            obodict['CYP2D6'][0], nodeLabels)\n",
    "except Exception as e:\n",
    "    print(e)\n",
    "try:\n",
    "    nx_path2, nx_uri = get_bidirectional_shortest_path(nx_graph, obodict['kratom'][0], \n",
    "                                                            obodict['CYP2D6'][1], nodeLabels)\n",
    "except Exception as e:\n",
    "    print(e)\n",
    "try:\n",
    "    nx_path3, nx_uri = get_bidirectional_shortest_path(nx_graph, obodict['kratom'][0], \n",
    "                                                            obodict['CYP2D6'][2], nodeLabels)\n",
    "except Exception as e:\n",
    "    print(e)\n",
    "nx_path1, nx_path2, nx_path3"
   ]
  },
  {
   "cell_type": "code",
   "execution_count": null,
   "id": "broken-employment",
   "metadata": {},
   "outputs": [],
   "source": [
    "nx_path1 = ''\n",
    "nx_path2 = ''\n",
    "nx_path3 = ''\n",
    "try:\n",
    "    nx_path1, nx_uri = get_bidirectional_shortest_path(nx_graph, obodict['mitragynine'][0], \n",
    "                                                            obodict['CYP2D6'][0], nodeLabels)\n",
    "except Exception as e:\n",
    "    print(e)\n",
    "try:\n",
    "    nx_path2, nx_uri = get_bidirectional_shortest_path(nx_graph, obodict['mitragynine'][0], \n",
    "                                                            obodict['CYP2D6'][1], nodeLabels)\n",
    "except Exception as e:\n",
    "    print(e)\n",
    "try:\n",
    "    nx_path3, nx_uri = get_bidirectional_shortest_path(nx_graph, obodict['mitragynine'][0], \n",
    "                                                            obodict['CYP2D6'][2], nodeLabels)\n",
    "except Exception as e:\n",
    "    print(e)\n",
    "nx_path1, nx_path2, nx_path3"
   ]
  },
  {
   "cell_type": "markdown",
   "id": "worse-ecuador",
   "metadata": {
    "tags": []
   },
   "source": [
    "### Mitragynine"
   ]
  },
  {
   "cell_type": "code",
   "execution_count": null,
   "id": "frequent-gothic",
   "metadata": {},
   "outputs": [],
   "source": []
  },
  {
   "cell_type": "code",
   "execution_count": null,
   "id": "hired-creek",
   "metadata": {},
   "outputs": [],
   "source": []
  },
  {
   "cell_type": "markdown",
   "id": "norman-morrison",
   "metadata": {},
   "source": [
    "### 7-hydroxy-mitragynine"
   ]
  },
  {
   "cell_type": "code",
   "execution_count": null,
   "id": "available-alert",
   "metadata": {},
   "outputs": [],
   "source": [
    "nx_path1 = ''\n",
    "nx_path2 = ''\n",
    "nx_path3 = ''\n",
    "nx_path4 = ''\n",
    "nx_path5 = ''\n",
    "nx_path6 = ''\n",
    "try:\n",
    "    nx_path1, nx_uri = get_bidirectional_shortest_path(nx_graph, obodict['hydroxy_mitragynine'][0], \n",
    "                                                            obodict['CYP2D6'][0], nodeLabels)\n",
    "except Exception as e:\n",
    "    print(e)\n",
    "try:\n",
    "    nx_path2, nx_uri = get_bidirectional_shortest_path(nx_graph, obodict['hydroxy_mitragynine'][0], \n",
    "                                                            obodict['CYP2D6'][1], nodeLabels)\n",
    "except Exception as e:\n",
    "    print(e)\n",
    "try:\n",
    "    nx_path3, nx_uri = get_bidirectional_shortest_path(nx_graph, obodict['hydroxy_mitragynine'][0], \n",
    "                                                            obodict['CYP2D6'][2], nodeLabels)\n",
    "except Exception as e:\n",
    "    print(e)\n",
    "try:\n",
    "    nx_path3, nx_uri = get_bidirectional_shortest_path(nx_graph, obodict['hydroxy_mitragynine'][1], \n",
    "                                                            obodict['CYP2D6'][2], nodeLabels)\n",
    "except Exception as e:\n",
    "    print(e)\n",
    "try:\n",
    "    nx_path3, nx_uri = get_bidirectional_shortest_path(nx_graph, obodict['hydroxy_mitragynine'][1], \n",
    "                                                            obodict['CYP2D6'][2], nodeLabels)\n",
    "except Exception as e:\n",
    "    print(e)\n",
    "try:\n",
    "    nx_path3, nx_uri = get_bidirectional_shortest_path(nx_graph, obodict['hydroxy_mitragynine'][1], \n",
    "                                                            obodict['CYP2D6'][2], nodeLabels)\n",
    "except Exception as e:\n",
    "    print(e)\n",
    "nx_path1, nx_path2, nx_path3, nx_path4, nx_path5, nx_path6"
   ]
  },
  {
   "cell_type": "markdown",
   "id": "ambient-listening",
   "metadata": {
    "tags": []
   },
   "source": [
    "## Green Tea - Shortest Paths"
   ]
  },
  {
   "cell_type": "markdown",
   "id": "designing-baker",
   "metadata": {
    "tags": []
   },
   "source": [
    "#### Green tea leaf"
   ]
  },
  {
   "cell_type": "code",
   "execution_count": null,
   "id": "military-stress",
   "metadata": {},
   "outputs": [],
   "source": [
    "nx_path1 = ''\n",
    "nx_path2 = ''\n",
    "nx_path3 = ''\n",
    "try:\n",
    "    nx_path1, nx_uri = get_bidirectional_shortest_path(nx_graph, obodict['greentea'][0], \n",
    "                                                            obodict['CYP2D6'][0], nodeLabels)\n",
    "except Exception as e:\n",
    "    print(e)\n",
    "try:\n",
    "    nx_path2, nx_uri = get_bidirectional_shortest_path(nx_graph, obodict['greentea'][0], \n",
    "                                                            obodict['CYP2D6'][1], nodeLabels)\n",
    "except Exception as e:\n",
    "    print(e)\n",
    "try:\n",
    "    nx_path3, nx_uri = get_bidirectional_shortest_path(nx_graph, obodict['greentea'][0], \n",
    "                                                            obodict['CYP2D6'][2], nodeLabels)\n",
    "except Exception as e:\n",
    "    print(e)\n",
    "nx_path1, nx_path2, nx_path3"
   ]
  },
  {
   "cell_type": "markdown",
   "id": "psychological-marina",
   "metadata": {
    "tags": []
   },
   "source": [
    "#### EGCG"
   ]
  },
  {
   "cell_type": "code",
   "execution_count": null,
   "id": "electrical-agriculture",
   "metadata": {},
   "outputs": [],
   "source": [
    "nx_path1 = ''\n",
    "nx_path2 = ''\n",
    "nx_path3 = ''\n",
    "nx_path4 = ''\n",
    "nx_path5 = ''\n",
    "nx_path6 = ''\n",
    "try:\n",
    "    nx_path1, nx_uri = get_bidirectional_shortest_path(nx_graph, obodict['EGCG'][0], \n",
    "                                                            obodict['CYP2D6'][0], nodeLabels)\n",
    "except Exception as e:\n",
    "    print(e)\n",
    "try:\n",
    "    nx_path2, nx_uri = get_bidirectional_shortest_path(nx_graph, obodict['EGCG'][0], \n",
    "                                                            obodict['CYP2D6'][1], nodeLabels)\n",
    "except Exception as e:\n",
    "    print(e)\n",
    "try:\n",
    "    nx_path3, nx_uri = get_bidirectional_shortest_path(nx_graph, obodict['EGCG'][0], \n",
    "                                                            obodict['CYP2D6'][2], nodeLabels)\n",
    "except Exception as e:\n",
    "    print(e)\n",
    "try:\n",
    "    nx_path3, nx_uri = get_bidirectional_shortest_path(nx_graph, obodict['EGCG'][1], \n",
    "                                                            obodict['CYP2D6'][2], nodeLabels)\n",
    "except Exception as e:\n",
    "    print(e)\n",
    "try:\n",
    "    nx_path3, nx_uri = get_bidirectional_shortest_path(nx_graph, obodict['EGCG'][1], \n",
    "                                                            obodict['CYP2D6'][2], nodeLabels)\n",
    "except Exception as e:\n",
    "    print(e)\n",
    "try:\n",
    "    nx_path3, nx_uri = get_bidirectional_shortest_path(nx_graph, obodict['EGCG'][1], \n",
    "                                                            obodict['CYP2D6'][2], nodeLabels)\n",
    "except Exception as e:\n",
    "    print(e)\n",
    "nx_path1, nx_path2, nx_path3, nx_path4, nx_path5, nx_path6"
   ]
  },
  {
   "cell_type": "code",
   "execution_count": null,
   "id": "incorrect-macintosh",
   "metadata": {},
   "outputs": [],
   "source": []
  },
  {
   "cell_type": "markdown",
   "id": "shaped-environment",
   "metadata": {
    "tags": []
   },
   "source": [
    "#### ECG"
   ]
  },
  {
   "cell_type": "code",
   "execution_count": null,
   "id": "ethical-bradley",
   "metadata": {},
   "outputs": [],
   "source": [
    "nx_path1 = ''\n",
    "nx_path2 = ''\n",
    "nx_path3 = ''\n",
    "try:\n",
    "    nx_path1, nx_uri = get_bidirectional_shortest_path(nx_graph, obodict['ECG'][0], \n",
    "                                                            obodict['CYP2D6'][0], nodeLabels)\n",
    "except Exception as e:\n",
    "    print(e)\n",
    "try:\n",
    "    nx_path2, nx_uri = get_bidirectional_shortest_path(nx_graph, obodict['ECG'][0], \n",
    "                                                            obodict['CYP2D6'][1], nodeLabels)\n",
    "except Exception as e:\n",
    "    print(e)\n",
    "try:\n",
    "    nx_path3, nx_uri = get_bidirectional_shortest_path(nx_graph, obodict['ECG'][0], \n",
    "                                                            obodict['CYP2D6'][2], nodeLabels)\n",
    "except Exception as e:\n",
    "    print(e)\n",
    "nx_path1, nx_path2, nx_path3"
   ]
  },
  {
   "cell_type": "markdown",
   "id": "departmental-indicator",
   "metadata": {
    "tags": []
   },
   "source": [
    "#### Epicatechin"
   ]
  },
  {
   "cell_type": "code",
   "execution_count": null,
   "id": "chief-brass",
   "metadata": {},
   "outputs": [],
   "source": [
    "nx_path1 = ''\n",
    "nx_path2 = ''\n",
    "nx_path3 = ''\n",
    "try:\n",
    "    nx_path1, nx_uri = get_bidirectional_shortest_path(nx_graph, obodict['epicatechin'][0], \n",
    "                                                            obodict['CYP2D6'][0], nodeLabels)\n",
    "except Exception as e:\n",
    "    print(e)\n",
    "try:\n",
    "    nx_path2, nx_uri = get_bidirectional_shortest_path(nx_graph, obodict['epicatechin'][0], \n",
    "                                                            obodict['CYP2D6'][1], nodeLabels)\n",
    "except Exception as e:\n",
    "    print(e)\n",
    "try:\n",
    "    nx_path3, nx_uri = get_bidirectional_shortest_path(nx_graph, obodict['epicatechin'][0], \n",
    "                                                            obodict['CYP2D6'][2], nodeLabels)\n",
    "except Exception as e:\n",
    "    print(e)\n",
    "nx_path1, nx_path2, nx_path3"
   ]
  },
  {
   "cell_type": "markdown",
   "id": "adaptive-accreditation",
   "metadata": {
    "tags": []
   },
   "source": [
    "#### Epigallocatechin"
   ]
  },
  {
   "cell_type": "code",
   "execution_count": null,
   "id": "olympic-screening",
   "metadata": {},
   "outputs": [],
   "source": [
    "nx_path1 = ''\n",
    "nx_path2 = ''\n",
    "nx_path3 = ''\n",
    "try:\n",
    "    nx_path1, nx_uri = get_bidirectional_shortest_path(nx_graph, obodict['epigallocatechin'][0], \n",
    "                                                            obodict['CYP2D6'][0], nodeLabels)\n",
    "except Exception as e:\n",
    "    print(e)\n",
    "try:\n",
    "    nx_path2, nx_uri = get_bidirectional_shortest_path(nx_graph, obodict['epigallocatechin'][0], \n",
    "                                                            obodict['CYP2D6'][1], nodeLabels)\n",
    "except Exception as e:\n",
    "    print(e)\n",
    "try:\n",
    "    nx_path3, nx_uri = get_bidirectional_shortest_path(nx_graph, obodict['epigallocatechin'][0], \n",
    "                                                            obodict['CYP2D6'][2], nodeLabels)\n",
    "except Exception as e:\n",
    "    print(e)\n",
    "nx_path1, nx_path2, nx_path3"
   ]
  },
  {
   "cell_type": "markdown",
   "id": "wrong-wilson",
   "metadata": {
    "tags": []
   },
   "source": [
    "#### Catechin"
   ]
  },
  {
   "cell_type": "code",
   "execution_count": null,
   "id": "female-recognition",
   "metadata": {},
   "outputs": [],
   "source": [
    "nx_path1 = ''\n",
    "nx_path2 = ''\n",
    "nx_path3 = ''\n",
    "nx_path4 = ''\n",
    "nx_path5 = ''\n",
    "nx_path6 = ''\n",
    "try:\n",
    "    nx_path1, nx_uri = get_bidirectional_shortest_path(nx_graph, obodict['catechin'][0], \n",
    "                                                            obodict['CYP2D6'][0], nodeLabels)\n",
    "except Exception as e:\n",
    "    print(e)\n",
    "try:\n",
    "    nx_path2, nx_uri = get_bidirectional_shortest_path(nx_graph, obodict['catechin'][0], \n",
    "                                                            obodict['CYP2D6'][1], nodeLabels)\n",
    "except Exception as e:\n",
    "    print(e)\n",
    "try:\n",
    "    nx_path3, nx_uri = get_bidirectional_shortest_path(nx_graph, obodict['catechin'][0], \n",
    "                                                            obodict['CYP2D6'][2], nodeLabels)\n",
    "except Exception as e:\n",
    "    print(e)\n",
    "try:\n",
    "    nx_path3, nx_uri = get_bidirectional_shortest_path(nx_graph, obodict['catechin'][1], \n",
    "                                                            obodict['CYP2D6'][2], nodeLabels)\n",
    "except Exception as e:\n",
    "    print(e)\n",
    "try:\n",
    "    nx_path3, nx_uri = get_bidirectional_shortest_path(nx_graph, obodict['catechin'][1], \n",
    "                                                            obodict['CYP2D6'][2], nodeLabels)\n",
    "except Exception as e:\n",
    "    print(e)\n",
    "try:\n",
    "    nx_path3, nx_uri = get_bidirectional_shortest_path(nx_graph, obodict['catechin'][1], \n",
    "                                                            obodict['CYP2D6'][2], nodeLabels)\n",
    "except Exception as e:\n",
    "    print(e)\n",
    "nx_path1, nx_path2, nx_path3, nx_path4, nx_path5, nx_path6"
   ]
  },
  {
   "cell_type": "markdown",
   "id": "average-ministry",
   "metadata": {
    "tags": []
   },
   "source": [
    "#### Gallocatechin"
   ]
  },
  {
   "cell_type": "code",
   "execution_count": null,
   "id": "reasonable-spirituality",
   "metadata": {},
   "outputs": [],
   "source": [
    "nx_path1 = ''\n",
    "nx_path2 = ''\n",
    "nx_path3 = ''\n",
    "nx_path4 = ''\n",
    "nx_path5 = ''\n",
    "nx_path6 = ''\n",
    "try:\n",
    "    nx_path1, nx_uri = get_bidirectional_shortest_path(nx_graph, obodict['gallocatechin'][0], \n",
    "                                                            obodict['UGT'][0], nodeLabels)\n",
    "except Exception as e:\n",
    "    print(e)\n",
    "try:\n",
    "    nx_path2, nx_uri = get_bidirectional_shortest_path(nx_graph, obodict['gallocatechin'][0], \n",
    "                                                            obodict['UGT'][1], nodeLabels)\n",
    "except Exception as e:\n",
    "    print(e)\n",
    "try:\n",
    "    nx_path3, nx_uri = get_bidirectional_shortest_path(nx_graph, obodict['gallocatechin'][0], \n",
    "                                                            obodict['UGT'][2], nodeLabels)\n",
    "except Exception as e:\n",
    "    print(e)\n",
    "try:\n",
    "    nx_path3, nx_uri = get_bidirectional_shortest_path(nx_graph, obodict['gallocatechin'][1], \n",
    "                                                            obodict['UGT'][2], nodeLabels)\n",
    "except Exception as e:\n",
    "    print(e)\n",
    "try:\n",
    "    nx_path3, nx_uri = get_bidirectional_shortest_path(nx_graph, obodict['gallocatechin'][1], \n",
    "                                                            obodict['UGT'][2], nodeLabels)\n",
    "except Exception as e:\n",
    "    print(e)\n",
    "try:\n",
    "    nx_path3, nx_uri = get_bidirectional_shortest_path(nx_graph, obodict['gallocatechin'][1], \n",
    "                                                            obodict['UGT'][2], nodeLabels)\n",
    "except Exception as e:\n",
    "    print(e)\n",
    "nx_path1, nx_path2, nx_path3, nx_path4, nx_path5, nx_path6"
   ]
  },
  {
   "cell_type": "code",
   "execution_count": null,
   "id": "selected-sacramento",
   "metadata": {},
   "outputs": [],
   "source": []
  }
 ],
 "metadata": {
  "kernelspec": {
   "display_name": "Python 3",
   "language": "python",
   "name": "python3"
  },
  "language_info": {
   "codemirror_mode": {
    "name": "ipython",
    "version": 3
   },
   "file_extension": ".py",
   "mimetype": "text/x-python",
   "name": "python",
   "nbconvert_exporter": "python",
   "pygments_lexer": "ipython3",
   "version": "3.8.0"
  }
 },
 "nbformat": 4,
 "nbformat_minor": 5
}
