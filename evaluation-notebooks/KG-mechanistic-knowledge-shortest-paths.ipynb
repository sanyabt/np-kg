{
 "cells": [
  {
   "cell_type": "markdown",
   "id": "296024c6-eb00-48f9-8508-17952a7c431e",
   "metadata": {},
   "source": [
    "## Recapture knowledge from the KG about NPDIs and compare with NaPDI repo data (in vitro experiments) with shortest path searches\n",
    "\n",
    "PheKnowLator and MR graphs are combined in the original Path Search notebook and loaded here as the combined graph."
   ]
  },
  {
   "cell_type": "markdown",
   "id": "8a79ceb0-aea7-4408-bc38-4ddeeb48780d",
   "metadata": {},
   "source": [
    "## Shortest Path Searches"
   ]
  },
  {
   "cell_type": "code",
   "execution_count": null,
   "id": "174cf3d3-46fb-4bca-a84a-c504c757c2a1",
   "metadata": {},
   "outputs": [],
   "source": [
    "# # uncomment and run to install any required modules from np-kg/requirements.txt if any of the packages below \n",
    "# give import errors\n",
    "# import sys\n",
    "# !{sys.executable} -m pip install -r requirements.txt"
   ]
  },
  {
   "cell_type": "code",
   "execution_count": null,
   "id": "2fd2e387-eb09-4c59-9812-249446b5a028",
   "metadata": {},
   "outputs": [],
   "source": [
    "import os\n",
    "import os.path\n",
    "import networkx as nx\n",
    "import json\n",
    "import urllib\n",
    "import traceback\n",
    "from itertools import islice\n",
    "from rdflib import Graph, URIRef, BNode, Namespace, Literal\n",
    "from rdflib.namespace import RDF, OWL\n",
    "from tqdm import tqdm\n",
    "import json"
   ]
  },
  {
   "cell_type": "code",
   "execution_count": null,
   "id": "2538e004-6b5f-4c3c-8b7d-f86c1eb18a44",
   "metadata": {},
   "outputs": [],
   "source": [
    "import hashlib"
   ]
  },
  {
   "cell_type": "code",
   "execution_count": null,
   "id": "0ff6ba47-d078-45b3-8993-7c6adcd8d5c3",
   "metadata": {},
   "outputs": [],
   "source": [
    "import pickle\n",
    "import pandas as pd\n",
    "import numpy as np\n",
    "import KG_path_searches"
   ]
  },
  {
   "cell_type": "code",
   "execution_count": null,
   "id": "dd17c6ad-4e4d-4380-a9f4-c2049a2fefb7",
   "metadata": {},
   "outputs": [],
   "source": [
    "KG_PATH = '../resources/knowledge_graphs/'\n",
    "NodeLabelsFile = KG_PATH + 'nodeLabels_v1.0.pickle'\n",
    "KG_NAME_MERGED = 'PheKnowLator_machine_read_merged_instance_based_OWLNETS_v1.0.gpickle'"
   ]
  },
  {
   "cell_type": "code",
   "execution_count": null,
   "id": "4e8ebc69-cc46-474b-b182-97116c35076b",
   "metadata": {},
   "outputs": [],
   "source": [
    "with open(NodeLabelsFile, 'rb') as filep:\n",
    "    nodeLabels = pickle.load(filep)"
   ]
  },
  {
   "cell_type": "code",
   "execution_count": null,
   "id": "ceda6e39-4f4a-4062-8aaa-7e254f0c99d5",
   "metadata": {},
   "outputs": [],
   "source": [
    "##READ MERGED GRAPH\n",
    "nx_graph = nx.read_gpickle(KG_PATH+KG_NAME_MERGED)"
   ]
  },
  {
   "cell_type": "code",
   "execution_count": null,
   "id": "bc7baa25",
   "metadata": {},
   "outputs": [],
   "source": [
    "# output directory (created if does not exist)\n",
    "DIR_OUT = '../output_files/'\n",
    "if not os.path.exists(DIR_OUT): os.mkdir(DIR_OUT)"
   ]
  },
  {
   "cell_type": "code",
   "execution_count": null,
   "id": "029a7aa6-aa2d-44fa-a316-e26be747885f",
   "metadata": {},
   "outputs": [],
   "source": [
    "obo = Namespace('http://purl.obolibrary.org/obo/')\n",
    "napdi = Namespace('http://napdi.org/napdi_srs_imports:')"
   ]
  },
  {
   "cell_type": "code",
   "execution_count": null,
   "id": "3fb0faaf-85ca-4431-a416-8ed16a3f6963",
   "metadata": {},
   "outputs": [],
   "source": [
    "##read in pickle dictionary with obo identifiers\n",
    "import pickle\n",
    "with open(KG_PATH+'strToOBOdict.pickle','rb') as filep:\n",
    "    obodict = pickle.load(filep)\n",
    "len(obodict)"
   ]
  },
  {
   "cell_type": "code",
   "execution_count": null,
   "id": "7de670a3-0282-4299-8319-17dff2de8735",
   "metadata": {},
   "outputs": [],
   "source": [
    "def get_path_labels(nx_graph, path, nodeLabels):\n",
    "    path_labels = []\n",
    "    for edge in zip(path, path[1:]):\n",
    "        data = nx_graph.get_edge_data(*edge)\n",
    "        pred = list(data.keys())[0]\n",
    "        node1_lab = str(edge[0])\n",
    "        node2_lab = str(edge[1])\n",
    "        if node1_lab in nodeLabels:\n",
    "            node1_lab = nodeLabels[node1_lab]\n",
    "        if node2_lab in nodeLabels:\n",
    "            node2_lab = nodeLabels[node2_lab]\n",
    "        pred_lab = nodeLabels[str(pred)]\n",
    "        if list(data.values())[0]:\n",
    "            if 'source_graph' in list(data.values())[0]:\n",
    "                source_graph = 'machine_read'\n",
    "            else:\n",
    "                source_graph = ''\n",
    "        else:\n",
    "            source_graph = ''\n",
    "        labels = [node1_lab, pred_lab, node2_lab, source_graph]\n",
    "        path_labels.append(labels)\n",
    "    return path_labels"
   ]
  },
  {
   "cell_type": "code",
   "execution_count": null,
   "id": "af80ddb4-7731-4155-8752-663c7a980124",
   "metadata": {},
   "outputs": [],
   "source": [
    "def get_path_uri(nx_graph, path):\n",
    "    path_uri = []\n",
    "    for edge in zip(path, path[1:]):\n",
    "        data = nx_graph.get_edge_data(*edge)\n",
    "        pred = list(data.keys())[0]\n",
    "        attribute = list(data.values())\n",
    "        uri = [str(edge[0]), str(pred), str(edge[1]), attribute]\n",
    "        path_uri.append(uri)\n",
    "    return path_uri"
   ]
  },
  {
   "cell_type": "code",
   "execution_count": null,
   "id": "eeff1a06-d038-4e71-a450-65b5cf43c097",
   "metadata": {},
   "outputs": [],
   "source": [
    "def get_bidirectional_shortest_path(G, source, target, nodeLabels):\n",
    "    print('Searching for path from {} - {}'.format(str(source), str(target)))\n",
    "    pathx = nx.bidirectional_shortest_path(G, source, target)\n",
    "\n",
    "    path_labels = get_path_labels(G, pathx, nodeLabels)\n",
    "    path_uri = get_path_uri(G, pathx)\n",
    "\n",
    "    return path_labels, path_uri"
   ]
  },
  {
   "cell_type": "markdown",
   "id": "f090727d-a583-475d-bb28-6e190efe380d",
   "metadata": {
    "tags": []
   },
   "source": [
    "## Kratom - Shortest Paths"
   ]
  },
  {
   "cell_type": "markdown",
   "id": "0ede8946-8766-4735-b1be-5d38d8c58635",
   "metadata": {
    "tags": []
   },
   "source": [
    "### Kratom"
   ]
  },
  {
   "cell_type": "code",
   "execution_count": null,
   "id": "d0cf3145-a5f5-4cb4-bf0f-a87362beddd3",
   "metadata": {},
   "outputs": [],
   "source": [
    "nx_path1 = ''\n",
    "nx_path2 = ''\n",
    "nx_path3 = ''\n",
    "try:\n",
    "    nx_path1, nx_uri = get_bidirectional_shortest_path(nx_graph, obodict['kratom'][0], \n",
    "                                                            obodict['CYP2D6'][0], nodeLabels)\n",
    "except Exception as e:\n",
    "    print(e)\n",
    "try:\n",
    "    nx_path2, nx_uri = get_bidirectional_shortest_path(nx_graph, obodict['kratom'][0], \n",
    "                                                            obodict['CYP2D6'][1], nodeLabels)\n",
    "except Exception as e:\n",
    "    print(e)\n",
    "try:\n",
    "    nx_path3, nx_uri = get_bidirectional_shortest_path(nx_graph, obodict['kratom'][0], \n",
    "                                                            obodict['CYP2D6'][2], nodeLabels)\n",
    "except Exception as e:\n",
    "    print(e)\n",
    "nx_path1, nx_path2, nx_path3"
   ]
  },
  {
   "cell_type": "code",
   "execution_count": null,
   "id": "7e7eacc5-979e-4adf-8151-84df91675354",
   "metadata": {},
   "outputs": [],
   "source": [
    "nx_path1 = ''\n",
    "nx_path2 = ''\n",
    "nx_path3 = ''\n",
    "try:\n",
    "    nx_path1, nx_uri = get_bidirectional_shortest_path(nx_graph, obodict['mitragynine'][0], \n",
    "                                                            obodict['CYP2D6'][0], nodeLabels)\n",
    "except Exception as e:\n",
    "    print(e)\n",
    "try:\n",
    "    nx_path2, nx_uri = get_bidirectional_shortest_path(nx_graph, obodict['mitragynine'][0], \n",
    "                                                            obodict['CYP2D6'][1], nodeLabels)\n",
    "except Exception as e:\n",
    "    print(e)\n",
    "try:\n",
    "    nx_path3, nx_uri = get_bidirectional_shortest_path(nx_graph, obodict['mitragynine'][0], \n",
    "                                                            obodict['CYP2D6'][2], nodeLabels)\n",
    "except Exception as e:\n",
    "    print(e)\n",
    "nx_path1, nx_path2, nx_path3"
   ]
  },
  {
   "cell_type": "markdown",
   "id": "74646118-983b-4337-9fa3-e0d7e18ba936",
   "metadata": {
    "tags": []
   },
   "source": [
    "### Mitragynine"
   ]
  },
  {
   "cell_type": "code",
   "execution_count": null,
   "id": "3800bd43-0249-4627-b160-9444baa1fe3d",
   "metadata": {},
   "outputs": [],
   "source": []
  },
  {
   "cell_type": "code",
   "execution_count": null,
   "id": "956a6e6a-31c5-4bef-8400-33e9b843e044",
   "metadata": {},
   "outputs": [],
   "source": []
  },
  {
   "cell_type": "markdown",
   "id": "cfc58464-170e-484a-a1fd-7b8f68254ee4",
   "metadata": {},
   "source": [
    "### 7-hydroxy-mitragynine"
   ]
  },
  {
   "cell_type": "code",
   "execution_count": null,
   "id": "f17596dd-e15d-4080-ae79-66a4a8a70d54",
   "metadata": {},
   "outputs": [],
   "source": [
    "nx_path1 = ''\n",
    "nx_path2 = ''\n",
    "nx_path3 = ''\n",
    "nx_path4 = ''\n",
    "nx_path5 = ''\n",
    "nx_path6 = ''\n",
    "try:\n",
    "    nx_path1, nx_uri = get_bidirectional_shortest_path(nx_graph, obodict['hydroxy_mitragynine'][0], \n",
    "                                                            obodict['CYP2D6'][0], nodeLabels)\n",
    "except Exception as e:\n",
    "    print(e)\n",
    "try:\n",
    "    nx_path2, nx_uri = get_bidirectional_shortest_path(nx_graph, obodict['hydroxy_mitragynine'][0], \n",
    "                                                            obodict['CYP2D6'][1], nodeLabels)\n",
    "except Exception as e:\n",
    "    print(e)\n",
    "try:\n",
    "    nx_path3, nx_uri = get_bidirectional_shortest_path(nx_graph, obodict['hydroxy_mitragynine'][0], \n",
    "                                                            obodict['CYP2D6'][2], nodeLabels)\n",
    "except Exception as e:\n",
    "    print(e)\n",
    "try:\n",
    "    nx_path3, nx_uri = get_bidirectional_shortest_path(nx_graph, obodict['hydroxy_mitragynine'][1], \n",
    "                                                            obodict['CYP2D6'][2], nodeLabels)\n",
    "except Exception as e:\n",
    "    print(e)\n",
    "try:\n",
    "    nx_path3, nx_uri = get_bidirectional_shortest_path(nx_graph, obodict['hydroxy_mitragynine'][1], \n",
    "                                                            obodict['CYP2D6'][2], nodeLabels)\n",
    "except Exception as e:\n",
    "    print(e)\n",
    "try:\n",
    "    nx_path3, nx_uri = get_bidirectional_shortest_path(nx_graph, obodict['hydroxy_mitragynine'][1], \n",
    "                                                            obodict['CYP2D6'][2], nodeLabels)\n",
    "except Exception as e:\n",
    "    print(e)\n",
    "nx_path1, nx_path2, nx_path3, nx_path4, nx_path5, nx_path6"
   ]
  },
  {
   "cell_type": "markdown",
   "id": "ee3cc19e-3194-4b7a-98fe-d064f671d2e2",
   "metadata": {
    "tags": []
   },
   "source": [
    "## Green Tea - Shortest Paths"
   ]
  },
  {
   "cell_type": "markdown",
   "id": "78c97ee6-c266-43bc-bca2-b5bce4d34012",
   "metadata": {
    "tags": []
   },
   "source": [
    "#### Green tea leaf"
   ]
  },
  {
   "cell_type": "code",
   "execution_count": null,
   "id": "887a3939-4c37-464b-a7de-84074b5c7f08",
   "metadata": {},
   "outputs": [],
   "source": [
    "nx_path1 = ''\n",
    "nx_path2 = ''\n",
    "nx_path3 = ''\n",
    "try:\n",
    "    nx_path1, nx_uri = get_bidirectional_shortest_path(nx_graph, obodict['greentea'][0], \n",
    "                                                            obodict['CYP2D6'][0], nodeLabels)\n",
    "except Exception as e:\n",
    "    print(e)\n",
    "try:\n",
    "    nx_path2, nx_uri = get_bidirectional_shortest_path(nx_graph, obodict['greentea'][0], \n",
    "                                                            obodict['CYP2D6'][1], nodeLabels)\n",
    "except Exception as e:\n",
    "    print(e)\n",
    "try:\n",
    "    nx_path3, nx_uri = get_bidirectional_shortest_path(nx_graph, obodict['greentea'][0], \n",
    "                                                            obodict['CYP2D6'][2], nodeLabels)\n",
    "except Exception as e:\n",
    "    print(e)\n",
    "nx_path1, nx_path2, nx_path3"
   ]
  },
  {
   "cell_type": "markdown",
   "id": "7d4405fb-df32-4e83-8bc0-42fb1b7d9c8c",
   "metadata": {
    "tags": []
   },
   "source": [
    "#### EGCG"
   ]
  },
  {
   "cell_type": "code",
   "execution_count": null,
   "id": "435c25cd-d89f-4b64-8a13-1b2d1a3b48ed",
   "metadata": {},
   "outputs": [],
   "source": [
    "nx_path1 = ''\n",
    "nx_path2 = ''\n",
    "nx_path3 = ''\n",
    "nx_path4 = ''\n",
    "nx_path5 = ''\n",
    "nx_path6 = ''\n",
    "try:\n",
    "    nx_path1, nx_uri = get_bidirectional_shortest_path(nx_graph, obodict['EGCG'][0], \n",
    "                                                            obodict['CYP2D6'][0], nodeLabels)\n",
    "except Exception as e:\n",
    "    print(e)\n",
    "try:\n",
    "    nx_path2, nx_uri = get_bidirectional_shortest_path(nx_graph, obodict['EGCG'][0], \n",
    "                                                            obodict['CYP2D6'][1], nodeLabels)\n",
    "except Exception as e:\n",
    "    print(e)\n",
    "try:\n",
    "    nx_path3, nx_uri = get_bidirectional_shortest_path(nx_graph, obodict['EGCG'][0], \n",
    "                                                            obodict['CYP2D6'][2], nodeLabels)\n",
    "except Exception as e:\n",
    "    print(e)\n",
    "try:\n",
    "    nx_path3, nx_uri = get_bidirectional_shortest_path(nx_graph, obodict['EGCG'][1], \n",
    "                                                            obodict['CYP2D6'][2], nodeLabels)\n",
    "except Exception as e:\n",
    "    print(e)\n",
    "try:\n",
    "    nx_path3, nx_uri = get_bidirectional_shortest_path(nx_graph, obodict['EGCG'][1], \n",
    "                                                            obodict['CYP2D6'][2], nodeLabels)\n",
    "except Exception as e:\n",
    "    print(e)\n",
    "try:\n",
    "    nx_path3, nx_uri = get_bidirectional_shortest_path(nx_graph, obodict['EGCG'][1], \n",
    "                                                            obodict['CYP2D6'][2], nodeLabels)\n",
    "except Exception as e:\n",
    "    print(e)\n",
    "nx_path1, nx_path2, nx_path3, nx_path4, nx_path5, nx_path6"
   ]
  },
  {
   "cell_type": "code",
   "execution_count": null,
   "id": "bc4231bd-b86f-413f-8c4f-b88b51d1ad0e",
   "metadata": {},
   "outputs": [],
   "source": []
  },
  {
   "cell_type": "markdown",
   "id": "e2935f66-daa5-431a-ac71-2771b06b76a0",
   "metadata": {
    "tags": []
   },
   "source": [
    "#### ECG"
   ]
  },
  {
   "cell_type": "code",
   "execution_count": null,
   "id": "d8123d2f-9768-43ee-8999-7ce3e52f2e62",
   "metadata": {},
   "outputs": [],
   "source": [
    "nx_path1 = ''\n",
    "nx_path2 = ''\n",
    "nx_path3 = ''\n",
    "try:\n",
    "    nx_path1, nx_uri = get_bidirectional_shortest_path(nx_graph, obodict['ECG'][0], \n",
    "                                                            obodict['CYP2D6'][0], nodeLabels)\n",
    "except Exception as e:\n",
    "    print(e)\n",
    "try:\n",
    "    nx_path2, nx_uri = get_bidirectional_shortest_path(nx_graph, obodict['ECG'][0], \n",
    "                                                            obodict['CYP2D6'][1], nodeLabels)\n",
    "except Exception as e:\n",
    "    print(e)\n",
    "try:\n",
    "    nx_path3, nx_uri = get_bidirectional_shortest_path(nx_graph, obodict['ECG'][0], \n",
    "                                                            obodict['CYP2D6'][2], nodeLabels)\n",
    "except Exception as e:\n",
    "    print(e)\n",
    "nx_path1, nx_path2, nx_path3"
   ]
  },
  {
   "cell_type": "markdown",
   "id": "e9f5f3c3-941f-429f-bfff-8a7ea02bc5d0",
   "metadata": {
    "tags": []
   },
   "source": [
    "#### Epicatechin"
   ]
  },
  {
   "cell_type": "code",
   "execution_count": null,
   "id": "834f212f-46bc-45a4-8b71-2b6ab60398d0",
   "metadata": {},
   "outputs": [],
   "source": [
    "nx_path1 = ''\n",
    "nx_path2 = ''\n",
    "nx_path3 = ''\n",
    "try:\n",
    "    nx_path1, nx_uri = get_bidirectional_shortest_path(nx_graph, obodict['epicatechin'][0], \n",
    "                                                            obodict['CYP2D6'][0], nodeLabels)\n",
    "except Exception as e:\n",
    "    print(e)\n",
    "try:\n",
    "    nx_path2, nx_uri = get_bidirectional_shortest_path(nx_graph, obodict['epicatechin'][0], \n",
    "                                                            obodict['CYP2D6'][1], nodeLabels)\n",
    "except Exception as e:\n",
    "    print(e)\n",
    "try:\n",
    "    nx_path3, nx_uri = get_bidirectional_shortest_path(nx_graph, obodict['epicatechin'][0], \n",
    "                                                            obodict['CYP2D6'][2], nodeLabels)\n",
    "except Exception as e:\n",
    "    print(e)\n",
    "nx_path1, nx_path2, nx_path3"
   ]
  },
  {
   "cell_type": "markdown",
   "id": "fc26bdc7-f695-4058-a53d-d584f53b409e",
   "metadata": {
    "tags": []
   },
   "source": [
    "#### Epigallocatechin"
   ]
  },
  {
   "cell_type": "code",
   "execution_count": null,
   "id": "346122b1-5387-47a5-bb87-e193412641e7",
   "metadata": {},
   "outputs": [],
   "source": [
    "nx_path1 = ''\n",
    "nx_path2 = ''\n",
    "nx_path3 = ''\n",
    "try:\n",
    "    nx_path1, nx_uri = get_bidirectional_shortest_path(nx_graph, obodict['epigallocatechin'][0], \n",
    "                                                            obodict['CYP2D6'][0], nodeLabels)\n",
    "except Exception as e:\n",
    "    print(e)\n",
    "try:\n",
    "    nx_path2, nx_uri = get_bidirectional_shortest_path(nx_graph, obodict['epigallocatechin'][0], \n",
    "                                                            obodict['CYP2D6'][1], nodeLabels)\n",
    "except Exception as e:\n",
    "    print(e)\n",
    "try:\n",
    "    nx_path3, nx_uri = get_bidirectional_shortest_path(nx_graph, obodict['epigallocatechin'][0], \n",
    "                                                            obodict['CYP2D6'][2], nodeLabels)\n",
    "except Exception as e:\n",
    "    print(e)\n",
    "nx_path1, nx_path2, nx_path3"
   ]
  },
  {
   "cell_type": "markdown",
   "id": "f75b9efe-0db5-4a65-b9cd-e0c3c7ded2df",
   "metadata": {
    "tags": []
   },
   "source": [
    "#### Catechin"
   ]
  },
  {
   "cell_type": "code",
   "execution_count": null,
   "id": "5416c1e4-b91f-4949-8e26-fc51ac79c60c",
   "metadata": {},
   "outputs": [],
   "source": [
    "nx_path1 = ''\n",
    "nx_path2 = ''\n",
    "nx_path3 = ''\n",
    "nx_path4 = ''\n",
    "nx_path5 = ''\n",
    "nx_path6 = ''\n",
    "try:\n",
    "    nx_path1, nx_uri = get_bidirectional_shortest_path(nx_graph, obodict['catechin'][0], \n",
    "                                                            obodict['CYP2D6'][0], nodeLabels)\n",
    "except Exception as e:\n",
    "    print(e)\n",
    "try:\n",
    "    nx_path2, nx_uri = get_bidirectional_shortest_path(nx_graph, obodict['catechin'][0], \n",
    "                                                            obodict['CYP2D6'][1], nodeLabels)\n",
    "except Exception as e:\n",
    "    print(e)\n",
    "try:\n",
    "    nx_path3, nx_uri = get_bidirectional_shortest_path(nx_graph, obodict['catechin'][0], \n",
    "                                                            obodict['CYP2D6'][2], nodeLabels)\n",
    "except Exception as e:\n",
    "    print(e)\n",
    "try:\n",
    "    nx_path3, nx_uri = get_bidirectional_shortest_path(nx_graph, obodict['catechin'][1], \n",
    "                                                            obodict['CYP2D6'][2], nodeLabels)\n",
    "except Exception as e:\n",
    "    print(e)\n",
    "try:\n",
    "    nx_path3, nx_uri = get_bidirectional_shortest_path(nx_graph, obodict['catechin'][1], \n",
    "                                                            obodict['CYP2D6'][2], nodeLabels)\n",
    "except Exception as e:\n",
    "    print(e)\n",
    "try:\n",
    "    nx_path3, nx_uri = get_bidirectional_shortest_path(nx_graph, obodict['catechin'][1], \n",
    "                                                            obodict['CYP2D6'][2], nodeLabels)\n",
    "except Exception as e:\n",
    "    print(e)\n",
    "nx_path1, nx_path2, nx_path3, nx_path4, nx_path5, nx_path6"
   ]
  },
  {
   "cell_type": "markdown",
   "id": "7b4b1fae-f17e-48d2-a798-ceea204fdae9",
   "metadata": {
    "tags": []
   },
   "source": [
    "#### Gallocatechin"
   ]
  },
  {
   "cell_type": "code",
   "execution_count": null,
   "id": "f76fd32e-af16-47b5-ba64-b09cfdbae7ae",
   "metadata": {},
   "outputs": [],
   "source": [
    "nx_path1 = ''\n",
    "nx_path2 = ''\n",
    "nx_path3 = ''\n",
    "nx_path4 = ''\n",
    "nx_path5 = ''\n",
    "nx_path6 = ''\n",
    "try:\n",
    "    nx_path1, nx_uri = get_bidirectional_shortest_path(nx_graph, obodict['gallocatechin'][0], \n",
    "                                                            obodict['UGT'][0], nodeLabels)\n",
    "except Exception as e:\n",
    "    print(e)\n",
    "try:\n",
    "    nx_path2, nx_uri = get_bidirectional_shortest_path(nx_graph, obodict['gallocatechin'][0], \n",
    "                                                            obodict['UGT'][1], nodeLabels)\n",
    "except Exception as e:\n",
    "    print(e)\n",
    "try:\n",
    "    nx_path3, nx_uri = get_bidirectional_shortest_path(nx_graph, obodict['gallocatechin'][0], \n",
    "                                                            obodict['UGT'][2], nodeLabels)\n",
    "except Exception as e:\n",
    "    print(e)\n",
    "try:\n",
    "    nx_path3, nx_uri = get_bidirectional_shortest_path(nx_graph, obodict['gallocatechin'][1], \n",
    "                                                            obodict['UGT'][2], nodeLabels)\n",
    "except Exception as e:\n",
    "    print(e)\n",
    "try:\n",
    "    nx_path3, nx_uri = get_bidirectional_shortest_path(nx_graph, obodict['gallocatechin'][1], \n",
    "                                                            obodict['UGT'][2], nodeLabels)\n",
    "except Exception as e:\n",
    "    print(e)\n",
    "try:\n",
    "    nx_path3, nx_uri = get_bidirectional_shortest_path(nx_graph, obodict['gallocatechin'][1], \n",
    "                                                            obodict['UGT'][2], nodeLabels)\n",
    "except Exception as e:\n",
    "    print(e)\n",
    "nx_path1, nx_path2, nx_path3, nx_path4, nx_path5, nx_path6"
   ]
  },
  {
   "cell_type": "code",
   "execution_count": null,
   "id": "36cdfb9c-729b-42c8-8087-db49bef29218",
   "metadata": {},
   "outputs": [],
   "source": []
  }
 ],
 "metadata": {
  "kernelspec": {
   "display_name": "Python 3 (ipykernel)",
   "language": "python",
   "name": "python3"
  },
  "language_info": {
   "codemirror_mode": {
    "name": "ipython",
    "version": 3
   },
   "file_extension": ".py",
   "mimetype": "text/x-python",
   "name": "python",
   "nbconvert_exporter": "python",
   "pygments_lexer": "ipython3",
   "version": "3.9.12"
  }
 },
 "nbformat": 4,
 "nbformat_minor": 5
}
