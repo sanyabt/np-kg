{
 "cells": [
  {
   "cell_type": "markdown",
   "id": "processed-designation",
   "metadata": {
    "tags": []
   },
   "source": [
    "## Recapture knowledge from the KG about NPDIs and compare with NaPDI repo data (in vitro experiments)\n",
    "\n",
    "Ontology-grounded and literature-based graphs are combined and saved in the merged gpickle file."
   ]
  },
  {
   "cell_type": "code",
   "execution_count": null,
   "id": "thorough-necessity",
   "metadata": {},
   "outputs": [],
   "source": [
    "# # uncomment and run to install any required modules from np-kg/requirements.txt if any of the packages below \n",
    "# give import errors\n",
    "# import sys\n",
    "# !{sys.executable} -m pip install -r requirements.txt"
   ]
  },
  {
   "cell_type": "code",
   "execution_count": null,
   "id": "public-roller",
   "metadata": {},
   "outputs": [],
   "source": [
    "import os\n",
    "import os.path\n",
    "import networkx as nx\n",
    "import json\n",
    "import urllib\n",
    "import traceback\n",
    "from itertools import islice\n",
    "from rdflib import Graph, URIRef, BNode, Namespace, Literal\n",
    "from rdflib.namespace import RDF, OWL\n",
    "from tqdm import tqdm\n",
    "import json"
   ]
  },
  {
   "cell_type": "code",
   "execution_count": null,
   "id": "compatible-surveillance",
   "metadata": {},
   "outputs": [],
   "source": [
    "import hashlib"
   ]
  },
  {
   "cell_type": "code",
   "execution_count": null,
   "id": "ultimate-meaning",
   "metadata": {},
   "outputs": [],
   "source": [
    "import pickle\n",
    "import pandas as pd\n",
    "import numpy as np\n",
    "import KG_path_searches"
   ]
  },
  {
   "cell_type": "code",
   "execution_count": null,
   "id": "subject-norway",
   "metadata": {},
   "outputs": [],
   "source": [
    "KG_PATH = '../resources/knowledge_graphs/'\n",
    "NodeLabelsFile = KG_PATH + 'nodeLabels_v1.0.pickle'\n",
    "KG_NAME_MERGED = 'PheKnowLator_machine_read_merged_instance_based_OWLNETS_v1.0.gpickle'"
   ]
  },
  {
   "cell_type": "code",
   "execution_count": null,
   "id": "dynamic-hungarian",
   "metadata": {},
   "outputs": [],
   "source": [
    "with open(NodeLabelsFile, 'rb') as filep:\n",
    "    nodeLabels = pickle.load(filep)"
   ]
  },
  {
   "cell_type": "code",
   "execution_count": null,
   "id": "ambient-paris",
   "metadata": {},
   "outputs": [],
   "source": [
    "def get_graph_stats(kg):\n",
    "    nodes = nx.number_of_nodes(kg)\n",
    "    edges = nx.number_of_edges(kg)\n",
    "    self_loops = nx.number_of_selfloops(kg)\n",
    "\n",
    "    print('There are {} nodes, {} edges, and {} self-loop(s)'.format(nodes, edges, self_loops))\n",
    "    # get degree information\n",
    "    avg_degree = float(edges) / nodes\n",
    "    print('The Average Degree is {}'.format(avg_degree))\n",
    "    \n",
    "    print('Nodes with highest degree:')\n",
    "    n_deg = sorted([(str(x[0]), x[1]) for x in  kg.degree], key=lambda x: x[1], reverse=1)[:6]\n",
    "\n",
    "    for x in n_deg:\n",
    "        print('Label: {}'.format(nodeLabels[x[0]]))\n",
    "        print('{} (degree={})'.format(x[0], x[1]))\n",
    "    # get network density\n",
    "    density = nx.density(kg)\n",
    "\n",
    "    print('The density of the graph is: {}'.format(density))"
   ]
  },
  {
   "cell_type": "code",
   "execution_count": null,
   "id": "collective-correspondence",
   "metadata": {},
   "outputs": [],
   "source": [
    "##READ MERGED GRAPH\n",
    "nx_graph = nx.read_gpickle(KG_PATH+KG_NAME_MERGED)"
   ]
  },
  {
   "cell_type": "code",
   "execution_count": null,
   "id": "corporate-bottle",
   "metadata": {},
   "outputs": [],
   "source": [
    "get_graph_stats(nx_graph)"
   ]
  },
  {
   "cell_type": "code",
   "execution_count": null,
   "id": "talented-climb",
   "metadata": {},
   "outputs": [],
   "source": [
    "# output directory (created if does not exist)\n",
    "DIR_OUT = '../output_files/'\n",
    "if not os.path.exists(DIR_OUT): os.mkdir(DIR_OUT)"
   ]
  },
  {
   "cell_type": "code",
   "execution_count": null,
   "id": "national-button",
   "metadata": {},
   "outputs": [],
   "source": [
    "obo = Namespace('http://purl.obolibrary.org/obo/')\n",
    "napdi = Namespace('http://napdi.org/napdi_srs_imports:')"
   ]
  },
  {
   "cell_type": "code",
   "execution_count": null,
   "id": "cutting-defendant",
   "metadata": {},
   "outputs": [],
   "source": [
    "##read in pickle dictionary with obo identifiers\n",
    "with open(KG_PATH+'strToOBOdict.pickle','rb') as filep:\n",
    "    obodict = pickle.load(filep)\n",
    "len(obodict)"
   ]
  },
  {
   "cell_type": "code",
   "execution_count": null,
   "id": "warming-protest",
   "metadata": {},
   "outputs": [],
   "source": [
    "def get_neighbors(nx_graph, node):\n",
    "    neighs = nx.neighbors(nx_graph, node)\n",
    "    neighs_list = []\n",
    "    for item in neighs:\n",
    "        nodestr = nodeLabels[str(node)]\n",
    "        neighbor = nodeLabels[str(item)]\n",
    "        edge_result = nx_graph.get_edge_data(node, item)\n",
    "        edge_keys = list(edge_result.keys())\n",
    "        for edge in edge_keys:\n",
    "            edgestr = nodeLabels[str(edge)]\n",
    "            edgevalue = edge_result[edge]\n",
    "            result = [nodestr, edgestr, neighbor]\n",
    "            if 'source_graph' in edgevalue:\n",
    "                result.append(edgevalue['source_graph'])\n",
    "            if 'timestamp' in edgevalue:\n",
    "                result.append(edgevalue['timestamp'])\n",
    "            neighs_list.append(result)\n",
    "    return neighs_list"
   ]
  },
  {
   "cell_type": "code",
   "execution_count": null,
   "id": "intimate-miracle",
   "metadata": {},
   "outputs": [],
   "source": [
    "inhibit_preds = [obo.RO_0002449, obo.RO_0002212, obo.RO_0002599, obo.RO_0011010]\n",
    "active_preds = [obo.RO_0002448, obo.RO_0002213, obo.RO_0011002, obo.RO_0002596, obo.RO_0002598, obo.RO_0011009, obo.RO_0002566]\n",
    "interact_preds = [obo.DIDEO_00000041, obo.RO_0002434, obo.RO_0002436, obo.RO_0002020, obo.RO_0003000, obo.RO_0000085, \n",
    "                  URIRef('http://purl.obolibrary.org/obo/chebi#has_functional_parent')]"
   ]
  },
  {
   "cell_type": "code",
   "execution_count": null,
   "id": "martial-software",
   "metadata": {},
   "outputs": [],
   "source": [
    "def get_neighbors_filtered(nx_graph, node):\n",
    "    neighs = nx.neighbors(nx_graph, node)\n",
    "    neighs_list = []\n",
    "    nodestr = ''\n",
    "    neighbor = ''\n",
    "    for item in neighs:\n",
    "        if str(node) in nodeLabels:\n",
    "            nodestr = nodeLabels[str(node)]\n",
    "        if str(item) in nodeLabels:\n",
    "            neighbor = nodeLabels[str(item)]\n",
    "        edge_result = nx_graph.get_edge_data(node, item)\n",
    "        edge_keys = list(edge_result.keys())\n",
    "        for edge in edge_keys:\n",
    "            if edge in inhibit_preds or edge in active_preds or edge in interact_preds:\n",
    "                edgestr = nodeLabels[str(edge)]\n",
    "                edgevalue = edge_result[edge]\n",
    "                result = [nodestr, edgestr, neighbor]\n",
    "                if 'source_graph' in edgevalue:\n",
    "                    result.append(edgevalue['source_graph'])\n",
    "                if 'timestamp' in edgevalue:\n",
    "                    result.append(edgevalue['timestamp'])\n",
    "                neighs_list.append(result)\n",
    "    return neighs_list"
   ]
  },
  {
   "cell_type": "code",
   "execution_count": null,
   "id": "colored-christianity",
   "metadata": {},
   "outputs": [],
   "source": [
    "list(nx_graph.get_edge_data(obodict['mitragynine'][0], obodict['CYP3A4'][0]).keys())"
   ]
  },
  {
   "cell_type": "markdown",
   "id": "conscious-granny",
   "metadata": {
    "jp-MarkdownHeadingCollapsed": true,
    "tags": []
   },
   "source": [
    "## Kratom - Mechanistic Exploration Part 1"
   ]
  },
  {
   "cell_type": "code",
   "execution_count": null,
   "id": "finnish-sheriff",
   "metadata": {},
   "outputs": [],
   "source": []
  },
  {
   "cell_type": "code",
   "execution_count": null,
   "id": "nearby-charge",
   "metadata": {},
   "outputs": [],
   "source": [
    "nx_graph.__getitem__(obodict['kratom'][0])"
   ]
  },
  {
   "cell_type": "code",
   "execution_count": null,
   "id": "temporal-identifier",
   "metadata": {},
   "outputs": [],
   "source": [
    "mit_neighbors = get_neighbors(nx_graph, obodict['mitragynine'][0])\n",
    "len(mit_neighbors)"
   ]
  },
  {
   "cell_type": "code",
   "execution_count": null,
   "id": "first-harrison",
   "metadata": {},
   "outputs": [],
   "source": [
    "mit_neighbors_filt = get_neighbors_filtered(nx_graph, obodict['mitragynine'][0])\n",
    "len(mit_neighbors_filt)"
   ]
  },
  {
   "cell_type": "code",
   "execution_count": null,
   "id": "sweet-worry",
   "metadata": {},
   "outputs": [],
   "source": [
    "edges = nx_graph.get_edge_data(obodict['mitragynine'][0], obodict['CYP3A4'][0])\n",
    "if edges:\n",
    "    for item in edges:\n",
    "        print(nodeLabels[str(item)])\n",
    "        print(edges[item])\n",
    "edges = nx_graph.get_edge_data(obodict['mitragynine'][0], obodict['CYP3A4'][1])\n",
    "if edges:\n",
    "    for item in edges:\n",
    "        print(nodeLabels[str(item)])\n",
    "        print(edges[item])"
   ]
  },
  {
   "cell_type": "code",
   "execution_count": null,
   "id": "involved-wrestling",
   "metadata": {},
   "outputs": [],
   "source": [
    "edges = nx_graph.get_edge_data(obodict['mitragynine'][0], obodict['CYP2D6'][0])\n",
    "if edges:\n",
    "    for item in edges:\n",
    "        print(nodeLabels[str(item)])\n",
    "        print(edges[item])\n",
    "edges = nx_graph.get_edge_data(obodict['mitragynine'][0], obodict['CYP2D6'][1])\n",
    "if edges:\n",
    "    for item in edges:\n",
    "        print(nodeLabels[str(item)])\n",
    "        print(edges[item])"
   ]
  },
  {
   "cell_type": "code",
   "execution_count": null,
   "id": "large-simpson",
   "metadata": {},
   "outputs": [],
   "source": [
    "edges = nx_graph.get_edge_data(obodict['mitragynine'][0], obodict['CYP2C19'][0])\n",
    "if edges:\n",
    "    for item in edges:\n",
    "        print(nodeLabels[str(item)])\n",
    "        print(edges[item])\n",
    "edges = nx_graph.get_edge_data(obodict['mitragynine'][0], obodict['CYP2C19'][1])\n",
    "if edges:\n",
    "    for item in edges:\n",
    "        print(nodeLabels[str(item)])\n",
    "        print(edges[item])"
   ]
  },
  {
   "cell_type": "code",
   "execution_count": null,
   "id": "artistic-intermediate",
   "metadata": {},
   "outputs": [],
   "source": [
    "edges = nx_graph.get_edge_data(obodict['mitragynine'][0], obodict['CYP2C9'][0])\n",
    "if edges:\n",
    "    for item in edges:\n",
    "        print(nodeLabels[str(item)])\n",
    "        print(edges[item])\n",
    "edges = nx_graph.get_edge_data(obodict['mitragynine'][0], obodict['CYP2C9'][1])\n",
    "if edges:\n",
    "    for item in edges:\n",
    "        print(nodeLabels[str(item)])\n",
    "        print(edges[item])"
   ]
  },
  {
   "cell_type": "code",
   "execution_count": null,
   "id": "tropical-burke",
   "metadata": {},
   "outputs": [],
   "source": [
    "edges = nx_graph.get_edge_data(obodict['mitragynine'][0], obodict['CYP1A2'][0])\n",
    "if edges:\n",
    "    for item in edges:\n",
    "        print(nodeLabels[str(item)])\n",
    "        print(edges[item])\n",
    "edges = nx_graph.get_edge_data(obodict['mitragynine'][0], obodict['CYP1A2'][1])\n",
    "if edges:\n",
    "    for item in edges:\n",
    "        print(nodeLabels[str(item)])\n",
    "        print(edges[item])"
   ]
  },
  {
   "cell_type": "code",
   "execution_count": null,
   "id": "meaningful-mechanism",
   "metadata": {},
   "outputs": [],
   "source": [
    "edges = nx_graph.get_edge_data(obodict['mitragynine'][0], obodict['UGT'][0])\n",
    "if edges:\n",
    "    for item in edges:\n",
    "        print(nodeLabels[str(item)])\n",
    "        print(edges[item])\n",
    "edges = nx_graph.get_edge_data(obodict['mitragynine'][0], obodict['UGT'][1])\n",
    "if edges:\n",
    "    for item in edges:\n",
    "        print(nodeLabels[str(item)])\n",
    "        print(edges[item])\n",
    "edges = nx_graph.get_edge_data(obodict['mitragynine'][0], obodict['UGT'][2])\n",
    "if edges:\n",
    "    for item in edges:\n",
    "        print(nodeLabels[str(item)])\n",
    "        print(edges[item])"
   ]
  },
  {
   "cell_type": "code",
   "execution_count": null,
   "id": "alternate-fancy",
   "metadata": {},
   "outputs": [],
   "source": [
    "edges = nx_graph.get_edge_data(obodict['mitragynine'][0], obodict['UGT1A1'][0])\n",
    "if edges:\n",
    "    for item in edges:\n",
    "        print(nodeLabels[str(item)])\n",
    "        print(edges[item])\n",
    "edges = nx_graph.get_edge_data(obodict['mitragynine'][0], obodict['UGT1A1'][1])\n",
    "if edges:\n",
    "    for item in edges:\n",
    "        print(nodeLabels[str(item)])\n",
    "        print(edges[item])"
   ]
  },
  {
   "cell_type": "code",
   "execution_count": null,
   "id": "standing-charger",
   "metadata": {},
   "outputs": [],
   "source": [
    "edges = nx_graph.get_edge_data(obodict['mitragynine'][0], obodict['UGT2B7'][0])\n",
    "if edges:\n",
    "    for item in edges:\n",
    "        print(nodeLabels[str(item)])\n",
    "        print(edges[item])\n",
    "edges = nx_graph.get_edge_data(obodict['mitragynine'][0], obodict['UGT2B7'][1])\n",
    "if edges:\n",
    "    for item in edges:\n",
    "        print(nodeLabels[str(item)])\n",
    "        print(edges[item])"
   ]
  },
  {
   "cell_type": "code",
   "execution_count": null,
   "id": "advised-colleague",
   "metadata": {},
   "outputs": [],
   "source": [
    "edges = nx_graph.get_edge_data(obodict['mitragynine'][0], obodict['PGP'][0])\n",
    "if edges:\n",
    "    for item in edges:\n",
    "        print(nodeLabels[str(item)])\n",
    "        print(edges[item])\n",
    "edges = nx_graph.get_edge_data(obodict['mitragynine'][0], obodict['PGP'][1])\n",
    "if edges:\n",
    "    for item in edges:\n",
    "        print(nodeLabels[str(item)])\n",
    "        print(edges[item])\n",
    "edges = nx_graph.get_edge_data(obodict['mitragynine'][0], obodict['PGP'][2])\n",
    "if edges:\n",
    "    for item in edges:\n",
    "        print(nodeLabels[str(item)])\n",
    "        print(edges[item])\n",
    "edges = nx_graph.get_edge_data(obodict['mitragynine'][0], obodict['PGP'][3])\n",
    "if edges:\n",
    "    for item in edges:\n",
    "        print(nodeLabels[str(item)])\n",
    "        print(edges[item])"
   ]
  },
  {
   "cell_type": "code",
   "execution_count": null,
   "id": "enclosed-payment",
   "metadata": {},
   "outputs": [],
   "source": [
    "edges = nx_graph.get_edge_data(obodict['mitragynine'][0], obodict['glycoprotein'][0])\n",
    "if edges:\n",
    "    for item in edges:\n",
    "        print(nodeLabels[str(item)])\n",
    "        print(edges[item])\n",
    "edges = nx_graph.get_edge_data(obodict['mitragynine'][0], obodict['glycoprotein'][1])\n",
    "if edges:\n",
    "    for item in edges:\n",
    "        print(nodeLabels[str(item)])\n",
    "        print(edges[item])"
   ]
  },
  {
   "cell_type": "code",
   "execution_count": null,
   "id": "individual-clearing",
   "metadata": {},
   "outputs": [],
   "source": [
    "get_neighbors(nx_graph, obodict['hydroxy_mitragynine'][0])"
   ]
  },
  {
   "cell_type": "code",
   "execution_count": null,
   "id": "consolidated-acquisition",
   "metadata": {},
   "outputs": [],
   "source": [
    "get_neighbors(nx_graph, obodict['hydroxy_mitragynine'][1])"
   ]
  },
  {
   "cell_type": "code",
   "execution_count": null,
   "id": "honest-anniversary",
   "metadata": {},
   "outputs": [],
   "source": [
    "edges = nx_graph.get_edge_data(obodict['hydroxy_mitragynine'][0], obodict['CYP2D6'][0])\n",
    "if edges:\n",
    "    for item in edges:\n",
    "        print(nodeLabels[str(item)])\n",
    "        print(edges[item])\n",
    "edges = nx_graph.get_edge_data(obodict['hydroxy_mitragynine'][0], obodict['CYP2D6'][1])\n",
    "if edges:\n",
    "    for item in edges:\n",
    "        print(nodeLabels[str(item)])\n",
    "        print(edges[item])"
   ]
  },
  {
   "cell_type": "code",
   "execution_count": null,
   "id": "solid-admission",
   "metadata": {},
   "outputs": [],
   "source": [
    "edges = nx_graph.get_edge_data(obodict['hydroxy_mitragynine'][1], obodict['CYP2D6'][0])\n",
    "if edges:\n",
    "    for item in edges:\n",
    "        print(nodeLabels[str(item)])\n",
    "        print(edges[item])\n",
    "edges = nx_graph.get_edge_data(obodict['hydroxy_mitragynine'][1], obodict['CYP2D6'][1])\n",
    "if edges:\n",
    "    for item in edges:\n",
    "        print(nodeLabels[str(item)])\n",
    "        print(edges[item])"
   ]
  },
  {
   "cell_type": "markdown",
   "id": "substantial-angola",
   "metadata": {
    "jp-MarkdownHeadingCollapsed": true,
    "tags": []
   },
   "source": [
    "## Green Tea - Mechanistic Exploration Part 1"
   ]
  },
  {
   "cell_type": "markdown",
   "id": "fifty-congress",
   "metadata": {
    "tags": []
   },
   "source": [
    "#### Green tea leaf"
   ]
  },
  {
   "cell_type": "code",
   "execution_count": null,
   "id": "painted-prefix",
   "metadata": {},
   "outputs": [],
   "source": [
    "edges = nx_graph.get_edge_data(obodict['greentea'][0], obo.CHEBI_17089)\n",
    "if edges:\n",
    "    for item in edges:\n",
    "        print(nodeLabels[str(item)])\n",
    "        print(edges[item])\n",
    "edges = nx_graph.get_edge_data(obodict['greentea'][0], obo.PR_000037069)\n",
    "if edges:\n",
    "    for item in edges:\n",
    "        print(nodeLabels[str(item)])\n",
    "        print(edges[item])"
   ]
  },
  {
   "cell_type": "code",
   "execution_count": null,
   "id": "assumed-scholar",
   "metadata": {},
   "outputs": [],
   "source": [
    "edges = nx_graph.get_edge_data(obodict['greentea'][0], obodict['UGT'][0])\n",
    "if edges:\n",
    "    for item in edges:\n",
    "        print(nodeLabels[str(item)])\n",
    "        print(edges[item])\n",
    "edges = nx_graph.get_edge_data(obodict['greentea'][0], obodict['UGT'][1])\n",
    "if edges:\n",
    "    for item in edges:\n",
    "        print(nodeLabels[str(item)])\n",
    "        print(edges[item])\n",
    "edges = nx_graph.get_edge_data(obodict['greentea'][0], obodict['UGT'][2])\n",
    "if edges:\n",
    "    for item in edges:\n",
    "        print(nodeLabels[str(item)])\n",
    "        print(edges[item])"
   ]
  },
  {
   "cell_type": "code",
   "execution_count": null,
   "id": "female-recipe",
   "metadata": {},
   "outputs": [],
   "source": [
    "edges = nx_graph.get_edge_data(obodict['greentea'][0], obodict['PGP'][3])\n",
    "if edges:\n",
    "    for item in edges:\n",
    "        print(nodeLabels[str(item)])\n",
    "        print(edges[item])"
   ]
  },
  {
   "cell_type": "code",
   "execution_count": null,
   "id": "public-breach",
   "metadata": {},
   "outputs": [],
   "source": [
    "get_neighbors_filtered(nx_graph, obodict['greentea'][0])"
   ]
  },
  {
   "cell_type": "markdown",
   "id": "round-turkish",
   "metadata": {
    "tags": []
   },
   "source": [
    "#### EGCG"
   ]
  },
  {
   "cell_type": "code",
   "execution_count": null,
   "id": "emerging-message",
   "metadata": {},
   "outputs": [],
   "source": [
    "edges = nx_graph.get_edge_data(obodict['EGCG'][0], obodict['CYP3A4'][0])\n",
    "if edges:\n",
    "    for item in edges:\n",
    "        print(nodeLabels[str(item)])\n",
    "        print(edges[item])\n",
    "edges = nx_graph.get_edge_data(obodict['EGCG'][1], obodict['CYP3A4'][0])\n",
    "if edges:\n",
    "    for item in edges:\n",
    "        print(nodeLabels[str(item)])\n",
    "        print(edges[item])\n",
    "edges = nx_graph.get_edge_data(obodict['EGCG'][0], obodict['CYP3A4'][1])\n",
    "if edges:\n",
    "    for item in edges:\n",
    "        print(nodeLabels[str(item)])\n",
    "        print(edges[item])\n",
    "edges = nx_graph.get_edge_data(obodict['EGCG'][1], obodict['CYP3A4'][1])\n",
    "if edges:\n",
    "    for item in edges:\n",
    "        print(nodeLabels[str(item)])\n",
    "        print(edges[item])"
   ]
  },
  {
   "cell_type": "code",
   "execution_count": null,
   "id": "romance-theology",
   "metadata": {},
   "outputs": [],
   "source": [
    "edges = nx_graph.get_edge_data(obodict['EGCG'][0], obodict['CYP1A1'][0])\n",
    "if edges:\n",
    "    for item in edges:\n",
    "        print(nodeLabels[str(item)])\n",
    "        print(edges[item])\n",
    "edges = nx_graph.get_edge_data(obodict['EGCG'][1], obodict['CYP1A1'][0])\n",
    "if edges:\n",
    "    for item in edges:\n",
    "        print(nodeLabels[str(item)])\n",
    "        print(edges[item])\n",
    "edges = nx_graph.get_edge_data(obodict['EGCG'][0], obodict['CYP1A1'][1])\n",
    "if edges:\n",
    "    for item in edges:\n",
    "        print(nodeLabels[str(item)])\n",
    "        print(edges[item])\n",
    "edges = nx_graph.get_edge_data(obodict['EGCG'][1], obodict['CYP1A1'][1])\n",
    "if edges:\n",
    "    for item in edges:\n",
    "        print(nodeLabels[str(item)])\n",
    "        print(edges[item])"
   ]
  },
  {
   "cell_type": "code",
   "execution_count": null,
   "id": "abstract-apparatus",
   "metadata": {},
   "outputs": [],
   "source": [
    "edges = nx_graph.get_edge_data(obodict['EGCG'][0], obodict['CYP2E1'][0])\n",
    "if edges:\n",
    "    for item in edges:\n",
    "        print(nodeLabels[str(item)])\n",
    "        print(edges[item])\n",
    "edges = nx_graph.get_edge_data(obodict['EGCG'][1], obodict['CYP2E1'][0])\n",
    "if edges:\n",
    "    for item in edges:\n",
    "        print(nodeLabels[str(item)])\n",
    "        print(edges[item])\n",
    "edges = nx_graph.get_edge_data(obodict['EGCG'][0], obodict['CYP2E1'][1])\n",
    "if edges:\n",
    "    for item in edges:\n",
    "        print(nodeLabels[str(item)])\n",
    "        print(edges[item])\n",
    "edges = nx_graph.get_edge_data(obodict['EGCG'][1], obodict['CYP2E1'][1])\n",
    "if edges:\n",
    "    for item in edges:\n",
    "        print(nodeLabels[str(item)])\n",
    "        print(edges[item])"
   ]
  },
  {
   "cell_type": "code",
   "execution_count": null,
   "id": "still-trunk",
   "metadata": {},
   "outputs": [],
   "source": [
    "edges = nx_graph.get_edge_data(obodict['EGCG'][0], obodict['UGT'][0])\n",
    "if edges:\n",
    "    for item in edges:\n",
    "        print(nodeLabels[str(item)])\n",
    "        print(edges[item])\n",
    "edges = nx_graph.get_edge_data(obodict['EGCG'][1], obodict['UGT'][0])\n",
    "if edges:\n",
    "    for item in edges:\n",
    "        print(nodeLabels[str(item)])\n",
    "        print(edges[item])\n"
   ]
  },
  {
   "cell_type": "code",
   "execution_count": null,
   "id": "narrative-sucking",
   "metadata": {},
   "outputs": [],
   "source": [
    "edges = nx_graph.get_edge_data(obodict['EGCG'][0], obodict['UGT1A8'][0])\n",
    "if edges:\n",
    "    for item in edges:\n",
    "        print(nodeLabels[str(item)])\n",
    "        print(edges[item])\n",
    "edges = nx_graph.get_edge_data(obodict['EGCG'][1], obodict['UGT1A8'][0])\n",
    "if edges:\n",
    "    for item in edges:\n",
    "        print(nodeLabels[str(item)])\n",
    "        print(edges[item])\n",
    "edges = nx_graph.get_edge_data(obodict['EGCG'][0], obodict['UGT1A8'][1])\n",
    "if edges:\n",
    "    for item in edges:\n",
    "        print(nodeLabels[str(item)])\n",
    "        print(edges[item])\n",
    "edges = nx_graph.get_edge_data(obodict['EGCG'][1], obodict['UGT1A8'][1])\n",
    "if edges:\n",
    "    for item in edges:\n",
    "        print(nodeLabels[str(item)])\n",
    "        print(edges[item])"
   ]
  },
  {
   "cell_type": "code",
   "execution_count": null,
   "id": "english-cliff",
   "metadata": {},
   "outputs": [],
   "source": [
    "edges = nx_graph.get_edge_data(obodict['EGCG'][0], obodict['OATP1B3'][0])\n",
    "if edges:\n",
    "    for item in edges:\n",
    "        print(nodeLabels[str(item)])\n",
    "        print(edges[item])\n",
    "edges = nx_graph.get_edge_data(obodict['EGCG'][1], obodict['OATP1B3'][0])\n",
    "if edges:\n",
    "    for item in edges:\n",
    "        print(nodeLabels[str(item)])\n",
    "        print(edges[item])\n",
    "edges = nx_graph.get_edge_data(obodict['EGCG'][0], obodict['OATP1B3'][1])\n",
    "if edges:\n",
    "    for item in edges:\n",
    "        print(nodeLabels[str(item)])\n",
    "        print(edges[item])\n",
    "edges = nx_graph.get_edge_data(obodict['EGCG'][1], obodict['OATP1B3'][1])\n",
    "if edges:\n",
    "    for item in edges:\n",
    "        print(nodeLabels[str(item)])\n",
    "        print(edges[item])"
   ]
  },
  {
   "cell_type": "code",
   "execution_count": null,
   "id": "diagnostic-requirement",
   "metadata": {},
   "outputs": [],
   "source": [
    "\n",
    "edges = nx_graph.get_edge_data(obodict['EGCG'][1], obo.CHEBI_17089)\n",
    "if edges:\n",
    "    for item in edges:\n",
    "        print(nodeLabels[str(item)])\n",
    "        print(edges[item])\n",
    "edges = nx_graph.get_edge_data(obodict['EGCG'][1], obo.PR_000037069)\n",
    "if edges:\n",
    "    for item in edges:\n",
    "        print(nodeLabels[str(item)])\n",
    "        print(edges[item])"
   ]
  },
  {
   "cell_type": "code",
   "execution_count": null,
   "id": "natural-drill",
   "metadata": {},
   "outputs": [],
   "source": [
    "edges = nx_graph.get_edge_data(obodict['EGCG'][1], obodict['UGT'][0])\n",
    "if edges:\n",
    "    for item in edges:\n",
    "        print(nodeLabels[str(item)])\n",
    "        print(edges[item])\n",
    "edges = nx_graph.get_edge_data(obodict['EGCG'][1], obodict['UGT'][1])\n",
    "if edges:\n",
    "    for item in edges:\n",
    "        print(nodeLabels[str(item)])\n",
    "        print(edges[item])\n",
    "edges = nx_graph.get_edge_data(obodict['EGCG'][1], obodict['UGT'][2])\n",
    "if edges:\n",
    "    for item in edges:\n",
    "        print(nodeLabels[str(item)])\n",
    "        print(edges[item])"
   ]
  },
  {
   "cell_type": "code",
   "execution_count": null,
   "id": "dangerous-isolation",
   "metadata": {},
   "outputs": [],
   "source": [
    "edges = nx_graph.get_edge_data(obodict['EGCG'][0], obodict['PGP'][3])\n",
    "if edges:\n",
    "    for item in edges:\n",
    "        print(nodeLabels[str(item)])\n",
    "        print(edges[item])\n",
    "edges = nx_graph.get_edge_data(obodict['EGCG'][1], obodict['PGP'][3])\n",
    "if edges:\n",
    "    for item in edges:\n",
    "        print(nodeLabels[str(item)])\n",
    "        print(edges[item])"
   ]
  },
  {
   "cell_type": "markdown",
   "id": "agricultural-middle",
   "metadata": {
    "tags": []
   },
   "source": [
    "#### ECG"
   ]
  },
  {
   "cell_type": "code",
   "execution_count": null,
   "id": "entitled-antibody",
   "metadata": {},
   "outputs": [],
   "source": [
    "edges = nx_graph.get_edge_data(obodict['ECG'][0], obodict['CYP2E1'][0])\n",
    "if edges:\n",
    "    for item in edges:\n",
    "        print(nodeLabels[str(item)])\n",
    "        print(edges[item])\n",
    "edges = nx_graph.get_edge_data(obodict['ECG'][0], obodict['CYP2E1'][1])\n",
    "if edges:\n",
    "    for item in edges:\n",
    "        print(nodeLabels[str(item)])\n",
    "        print(edges[item])"
   ]
  },
  {
   "cell_type": "code",
   "execution_count": null,
   "id": "cordless-broad",
   "metadata": {},
   "outputs": [],
   "source": [
    "edges = nx_graph.get_edge_data(obodict['ECG'][0], obodict['UGT1A8'][0])\n",
    "if edges:\n",
    "    for item in edges:\n",
    "        print(nodeLabels[str(item)])\n",
    "        print(edges[item])\n",
    "edges = nx_graph.get_edge_data(obodict['ECG'][0], obodict['UGT1A8'][1])\n",
    "if edges:\n",
    "    for item in edges:\n",
    "        print(nodeLabels[str(item)])\n",
    "        print(edges[item])"
   ]
  },
  {
   "cell_type": "code",
   "execution_count": null,
   "id": "attempted-auditor",
   "metadata": {},
   "outputs": [],
   "source": [
    "edges = nx_graph.get_edge_data(obodict['ECG'][0], obo.PR_P78381)\n",
    "if edges:\n",
    "    for item in edges:\n",
    "        print(nodeLabels[str(item)])\n",
    "        print(edges[item])"
   ]
  },
  {
   "cell_type": "code",
   "execution_count": null,
   "id": "copyrighted-graphics",
   "metadata": {},
   "outputs": [],
   "source": [
    "edges = nx_graph.get_edge_data(obodict['ECG'][0], obodict['PGP'][0])\n",
    "if edges:\n",
    "    for item in edges:\n",
    "        print(nodeLabels[str(item)])\n",
    "        print(edges[item])\n",
    "edges = nx_graph.get_edge_data(obodict['ECG'][0], obodict['PGP'][1])\n",
    "if edges:\n",
    "    for item in edges:\n",
    "        print(nodeLabels[str(item)])\n",
    "        print(edges[item])\n",
    "edges = nx_graph.get_edge_data(obodict['ECG'][0], obodict['PGP'][2])\n",
    "if edges:\n",
    "    for item in edges:\n",
    "        print(nodeLabels[str(item)])\n",
    "        print(edges[item])\n",
    "edges = nx_graph.get_edge_data(obodict['ECG'][0], obodict['PGP'][3])\n",
    "if edges:\n",
    "    for item in edges:\n",
    "        print(nodeLabels[str(item)])\n",
    "        print(edges[item])"
   ]
  },
  {
   "cell_type": "code",
   "execution_count": null,
   "id": "coral-matter",
   "metadata": {},
   "outputs": [],
   "source": [
    "get_neighbors_filtered(nx_graph, obodict['ECG'][0])"
   ]
  },
  {
   "cell_type": "markdown",
   "id": "floppy-image",
   "metadata": {
    "tags": []
   },
   "source": [
    "#### Epicatechin"
   ]
  },
  {
   "cell_type": "code",
   "execution_count": null,
   "id": "white-wrapping",
   "metadata": {},
   "outputs": [],
   "source": [
    "edges = nx_graph.get_edge_data(obodict['epicatechin'][0], obodict['CYP1A1'][0])\n",
    "if edges:\n",
    "    for item in edges:\n",
    "        print(nodeLabels[str(item)])\n",
    "        print(edges[item])\n",
    "edges = nx_graph.get_edge_data(obodict['epicatechin'][0], obodict['CYP1A1'][1])\n",
    "if edges:\n",
    "    for item in edges:\n",
    "        print(nodeLabels[str(item)])\n",
    "        print(edges[item])"
   ]
  },
  {
   "cell_type": "code",
   "execution_count": null,
   "id": "sealed-presence",
   "metadata": {},
   "outputs": [],
   "source": [
    "edges = nx_graph.get_edge_data(obodict['epicatechin'][0], obodict['UGT1A8'][0])\n",
    "if edges:\n",
    "    for item in edges:\n",
    "        print(nodeLabels[str(item)])\n",
    "        print(edges[item])\n",
    "edges = nx_graph.get_edge_data(obodict['epicatechin'][0], obodict['UGT1A8'][1])\n",
    "if edges:\n",
    "    for item in edges:\n",
    "        print(nodeLabels[str(item)])\n",
    "        print(edges[item])"
   ]
  },
  {
   "cell_type": "markdown",
   "id": "sealed-suspect",
   "metadata": {
    "tags": []
   },
   "source": [
    "#### Epigallocatechin"
   ]
  },
  {
   "cell_type": "code",
   "execution_count": null,
   "id": "technological-wound",
   "metadata": {},
   "outputs": [],
   "source": [
    "edges = nx_graph.get_edge_data(obodict['epigallocatechin'][0], obodict['UGT'][0])\n",
    "if edges:\n",
    "    for item in edges:\n",
    "        print(nodeLabels[str(item)])\n",
    "        print(edges[item])\n",
    "edges = nx_graph.get_edge_data(obodict['epigallocatechin'][0], obodict['UGT'][1])\n",
    "if edges:\n",
    "    for item in edges:\n",
    "        print(nodeLabels[str(item)])\n",
    "        print(edges[item])"
   ]
  },
  {
   "cell_type": "code",
   "execution_count": null,
   "id": "recorded-sunset",
   "metadata": {},
   "outputs": [],
   "source": [
    "get_neighbors_filtered(nx_graph, obodict['epigallocatechin'][0])"
   ]
  },
  {
   "cell_type": "markdown",
   "id": "contained-spanish",
   "metadata": {
    "tags": []
   },
   "source": [
    "#### Catechin"
   ]
  },
  {
   "cell_type": "code",
   "execution_count": null,
   "id": "handmade-minute",
   "metadata": {},
   "outputs": [],
   "source": [
    "edges = nx_graph.get_edge_data(obodict['catechin'][0], obodict['UGT1A8'][0])\n",
    "if edges:\n",
    "    for item in edges:\n",
    "        print(nodeLabels[str(item)])\n",
    "        print(edges[item])\n",
    "edges = nx_graph.get_edge_data(obodict['catechin'][0], obodict['UGT1A8'][1])\n",
    "if edges:\n",
    "    for item in edges:\n",
    "        print(nodeLabels[str(item)])\n",
    "        print(edges[item])\n",
    "edges = nx_graph.get_edge_data(obodict['catechin'][1], obodict['UGT1A8'][0])\n",
    "if edges:\n",
    "    for item in edges:\n",
    "        print(nodeLabels[str(item)])\n",
    "        print(edges[item])\n",
    "edges = nx_graph.get_edge_data(obodict['catechin'][1], obodict['UGT1A8'][1])\n",
    "if edges:\n",
    "    for item in edges:\n",
    "        print(nodeLabels[str(item)])\n",
    "        print(edges[item])"
   ]
  },
  {
   "cell_type": "code",
   "execution_count": null,
   "id": "stable-beverage",
   "metadata": {},
   "outputs": [],
   "source": [
    "len(get_neighbors_filtered(nx_graph, obodict['catechin'][0]))"
   ]
  },
  {
   "cell_type": "code",
   "execution_count": null,
   "id": "earlier-tackle",
   "metadata": {},
   "outputs": [],
   "source": [
    "len(get_neighbors_filtered(nx_graph, obodict['catechin'][1]))"
   ]
  },
  {
   "cell_type": "markdown",
   "id": "unauthorized-wales",
   "metadata": {
    "tags": []
   },
   "source": [
    "#### Gallocatechin"
   ]
  },
  {
   "cell_type": "code",
   "execution_count": null,
   "id": "innovative-supply",
   "metadata": {},
   "outputs": [],
   "source": [
    "get_neighbors(nx_graph, obodict['gallocatechin'][1])"
   ]
  },
  {
   "cell_type": "code",
   "execution_count": null,
   "id": "alleged-malawi",
   "metadata": {},
   "outputs": [],
   "source": [
    "edges = nx_graph.get_edge_data(obodict['gallocatechin'][0], obodict['UGT'][2])\n",
    "if edges:\n",
    "    for item in edges:\n",
    "        print(nodeLabels[str(item)])\n",
    "        print(edges[item])\n",
    "edges = nx_graph.get_edge_data(obodict['gallocatechin'][0], obodict['UGT'][2])\n",
    "if edges:\n",
    "    for item in edges:\n",
    "        print(nodeLabels[str(item)])\n",
    "        print(edges[item])\n",
    "edges = nx_graph.get_edge_data(obodict['gallocatechin'][1], obodict['UGT'][2])\n",
    "if edges:\n",
    "    for item in edges:\n",
    "        print(nodeLabels[str(item)])\n",
    "        print(edges[item])\n",
    "edges = nx_graph.get_edge_data(obodict['gallocatechin'][1], obodict['UGT'][2])\n",
    "if edges:\n",
    "    for item in edges:\n",
    "        print(nodeLabels[str(item)])\n",
    "        print(edges[item])"
   ]
  }
 ],
 "metadata": {
  "kernelspec": {
   "display_name": "Python 3",
   "language": "python",
   "name": "python3"
  },
  "language_info": {
   "codemirror_mode": {
    "name": "ipython",
    "version": 3
   },
   "file_extension": ".py",
   "mimetype": "text/x-python",
   "name": "python",
   "nbconvert_exporter": "python",
   "pygments_lexer": "ipython3",
   "version": "3.8.0"
  }
 },
 "nbformat": 4,
 "nbformat_minor": 5
}
