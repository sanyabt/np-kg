{
 "cells": [
  {
   "cell_type": "markdown",
   "id": "296024c6-eb00-48f9-8508-17952a7c431e",
   "metadata": {
    "tags": []
   },
   "source": [
    "## Recapture knowledge from the KG about NPDIs and compare with NaPDI repo data (in vitro experiments)\n",
    "\n",
    "PheKnowLator and MR graphs are combined in the original Path Search notebook and loaded here as the combined graph."
   ]
  },
  {
   "cell_type": "code",
   "execution_count": null,
   "id": "91641fcb-a743-403a-abfc-4c1178016e99",
   "metadata": {},
   "outputs": [],
   "source": [
    "# # uncomment and run to install any required modules from np-kg/requirements.txt if any of the packages below \n",
    "# give import errors\n",
    "# import sys\n",
    "# !{sys.executable} -m pip install -r requirements.txt"
   ]
  },
  {
   "cell_type": "code",
   "execution_count": null,
   "id": "2fd2e387-eb09-4c59-9812-249446b5a028",
   "metadata": {},
   "outputs": [],
   "source": [
    "import os\n",
    "import os.path\n",
    "import networkx as nx\n",
    "import json\n",
    "import urllib\n",
    "import traceback\n",
    "from itertools import islice\n",
    "from rdflib import Graph, URIRef, BNode, Namespace, Literal\n",
    "from rdflib.namespace import RDF, OWL\n",
    "from tqdm import tqdm\n",
    "import json"
   ]
  },
  {
   "cell_type": "code",
   "execution_count": null,
   "id": "2538e004-6b5f-4c3c-8b7d-f86c1eb18a44",
   "metadata": {},
   "outputs": [],
   "source": [
    "import hashlib"
   ]
  },
  {
   "cell_type": "code",
   "execution_count": null,
   "id": "0ff6ba47-d078-45b3-8993-7c6adcd8d5c3",
   "metadata": {},
   "outputs": [],
   "source": [
    "import pickle\n",
    "import pandas as pd\n",
    "import numpy as np\n",
    "import KG_path_searches"
   ]
  },
  {
   "cell_type": "code",
   "execution_count": null,
   "id": "dd17c6ad-4e4d-4380-a9f4-c2049a2fefb7",
   "metadata": {},
   "outputs": [],
   "source": [
    "KG_PATH = '../resources/knowledge_graphs/'\n",
    "NodeLabelsFile = KG_PATH + 'nodeLabels_v1.0.pickle'\n",
    "KG_NAME_MERGED = 'PheKnowLator_machine_read_merged_instance_based_OWLNETS_v1.0.gpickle'"
   ]
  },
  {
   "cell_type": "code",
   "execution_count": null,
   "id": "4e8ebc69-cc46-474b-b182-97116c35076b",
   "metadata": {},
   "outputs": [],
   "source": [
    "with open(NodeLabelsFile, 'rb') as filep:\n",
    "    nodeLabels = pickle.load(filep)"
   ]
  },
  {
   "cell_type": "code",
   "execution_count": null,
   "id": "151a8d33-f0d7-4a31-9d48-98dfa1b3b61b",
   "metadata": {},
   "outputs": [],
   "source": [
    "def get_graph_stats(kg):\n",
    "    nodes = nx.number_of_nodes(kg)\n",
    "    edges = nx.number_of_edges(kg)\n",
    "    self_loops = nx.number_of_selfloops(kg)\n",
    "\n",
    "    print('There are {} nodes, {} edges, and {} self-loop(s)'.format(nodes, edges, self_loops))\n",
    "    # get degree information\n",
    "    avg_degree = float(edges) / nodes\n",
    "    print('The Average Degree is {}'.format(avg_degree))\n",
    "    \n",
    "    print('Nodes with highest degree:')\n",
    "    n_deg = sorted([(str(x[0]), x[1]) for x in  kg.degree], key=lambda x: x[1], reverse=1)[:6]\n",
    "\n",
    "    for x in n_deg:\n",
    "        print('Label: {}'.format(nodeLabels[x[0]]))\n",
    "        print('{} (degree={})'.format(x[0], x[1]))\n",
    "    # get network density\n",
    "    density = nx.density(kg)\n",
    "\n",
    "    print('The density of the graph is: {}'.format(density))"
   ]
  },
  {
   "cell_type": "code",
   "execution_count": null,
   "id": "ceda6e39-4f4a-4062-8aaa-7e254f0c99d5",
   "metadata": {},
   "outputs": [],
   "source": [
    "##READ MERGED GRAPH\n",
    "nx_graph = nx.read_gpickle(KG_PATH+KG_NAME_MERGED)"
   ]
  },
  {
   "cell_type": "code",
   "execution_count": null,
   "id": "e237570c-0cf3-432a-81a8-983d200a0970",
   "metadata": {},
   "outputs": [],
   "source": [
    "get_graph_stats(nx_graph)"
   ]
  },
  {
   "cell_type": "code",
   "execution_count": null,
   "id": "217d1d91",
   "metadata": {},
   "outputs": [],
   "source": [
    "# output directory (created if does not exist)\n",
    "DIR_OUT = '../output_files/'\n",
    "if not os.path.exists(DIR_OUT): os.mkdir(DIR_OUT)"
   ]
  },
  {
   "cell_type": "code",
   "execution_count": null,
   "id": "029a7aa6-aa2d-44fa-a316-e26be747885f",
   "metadata": {},
   "outputs": [],
   "source": [
    "obo = Namespace('http://purl.obolibrary.org/obo/')\n",
    "napdi = Namespace('http://napdi.org/napdi_srs_imports:')"
   ]
  },
  {
   "cell_type": "code",
   "execution_count": null,
   "id": "3fb0faaf-85ca-4431-a416-8ed16a3f6963",
   "metadata": {},
   "outputs": [],
   "source": [
    "##read in pickle dictionary with obo identifiers\n",
    "with open(KG_PATH+'strToOBOdict.pickle','rb') as filep:\n",
    "    obodict = pickle.load(filep)\n",
    "len(obodict)"
   ]
  },
  {
   "cell_type": "code",
   "execution_count": null,
   "id": "7686ebae-5495-412a-b52c-861f2c02bcd1",
   "metadata": {},
   "outputs": [],
   "source": [
    "def get_neighbors(nx_graph, node):\n",
    "    neighs = nx.neighbors(nx_graph, node)\n",
    "    neighs_list = []\n",
    "    for item in neighs:\n",
    "        nodestr = nodeLabels[str(node)]\n",
    "        neighbor = nodeLabels[str(item)]\n",
    "        edge_result = nx_graph.get_edge_data(node, item)\n",
    "        edge_keys = list(edge_result.keys())\n",
    "        for edge in edge_keys:\n",
    "            edgestr = nodeLabels[str(edge)]\n",
    "            edgevalue = edge_result[edge]\n",
    "            result = [nodestr, edgestr, neighbor]\n",
    "            if 'source_graph' in edgevalue:\n",
    "                result.append(edgevalue['source_graph'])\n",
    "            if 'timestamp' in edgevalue:\n",
    "                result.append(edgevalue['timestamp'])\n",
    "            neighs_list.append(result)\n",
    "    return neighs_list"
   ]
  },
  {
   "cell_type": "code",
   "execution_count": null,
   "id": "8ff88302-98ad-4a33-9c28-48857f383296",
   "metadata": {},
   "outputs": [],
   "source": [
    "inhibit_preds = [obo.RO_0002449, obo.RO_0002212, obo.RO_0002599, obo.RO_0011010]\n",
    "active_preds = [obo.RO_0002448, obo.RO_0002213, obo.RO_0011002, obo.RO_0002596, obo.RO_0002598, obo.RO_0011009, obo.RO_0002566]\n",
    "interact_preds = [obo.DIDEO_00000041, obo.RO_0002434, obo.RO_0002436, obo.RO_0002020, obo.RO_0003000, obo.RO_0000085, \n",
    "                  URIRef('http://purl.obolibrary.org/obo/chebi#has_functional_parent')]"
   ]
  },
  {
   "cell_type": "code",
   "execution_count": null,
   "id": "69a540cc-0544-4baa-9709-1cfa8a166bb2",
   "metadata": {},
   "outputs": [],
   "source": [
    "def get_neighbors_filtered(nx_graph, node):\n",
    "    neighs = nx.neighbors(nx_graph, node)\n",
    "    neighs_list = []\n",
    "    nodestr = ''\n",
    "    neighbor = ''\n",
    "    for item in neighs:\n",
    "        if str(node) in nodeLabels:\n",
    "            nodestr = nodeLabels[str(node)]\n",
    "        if str(item) in nodeLabels:\n",
    "            neighbor = nodeLabels[str(item)]\n",
    "        edge_result = nx_graph.get_edge_data(node, item)\n",
    "        edge_keys = list(edge_result.keys())\n",
    "        for edge in edge_keys:\n",
    "            if edge in inhibit_preds or edge in active_preds or edge in interact_preds:\n",
    "                edgestr = nodeLabels[str(edge)]\n",
    "                edgevalue = edge_result[edge]\n",
    "                result = [nodestr, edgestr, neighbor]\n",
    "                if 'source_graph' in edgevalue:\n",
    "                    result.append(edgevalue['source_graph'])\n",
    "                if 'timestamp' in edgevalue:\n",
    "                    result.append(edgevalue['timestamp'])\n",
    "                neighs_list.append(result)\n",
    "    return neighs_list"
   ]
  },
  {
   "cell_type": "code",
   "execution_count": null,
   "id": "c05c8be4-043d-4b7b-a6ed-40346e28cff4",
   "metadata": {},
   "outputs": [],
   "source": [
    "list(nx_graph.get_edge_data(obodict['mitragynine'][0], obodict['CYP3A4'][0]).keys())"
   ]
  },
  {
   "cell_type": "markdown",
   "id": "f090727d-a583-475d-bb28-6e190efe380d",
   "metadata": {
    "jp-MarkdownHeadingCollapsed": true,
    "tags": []
   },
   "source": [
    "## Kratom - Mechanistic Exploration Part 1"
   ]
  },
  {
   "cell_type": "code",
   "execution_count": null,
   "id": "956a6e6a-31c5-4bef-8400-33e9b843e044",
   "metadata": {},
   "outputs": [],
   "source": []
  },
  {
   "cell_type": "code",
   "execution_count": null,
   "id": "b3005f27-2630-4aa2-ac6f-bafb4a196413",
   "metadata": {},
   "outputs": [],
   "source": [
    "nx_graph.__getitem__(obodict['kratom'][0])"
   ]
  },
  {
   "cell_type": "code",
   "execution_count": null,
   "id": "6d7ea4c2-2589-490d-b18b-2df4877a3eab",
   "metadata": {},
   "outputs": [],
   "source": [
    "mit_neighbors = get_neighbors(nx_graph, obodict['mitragynine'][0])\n",
    "len(mit_neighbors)"
   ]
  },
  {
   "cell_type": "code",
   "execution_count": null,
   "id": "3805c67d-901e-439f-a787-d952001fa684",
   "metadata": {},
   "outputs": [],
   "source": [
    "mit_neighbors_filt = get_neighbors_filtered(nx_graph, obodict['mitragynine'][0])\n",
    "len(mit_neighbors_filt)"
   ]
  },
  {
   "cell_type": "code",
   "execution_count": null,
   "id": "de79ddc0-8d13-417a-88ac-23f48ee916f0",
   "metadata": {},
   "outputs": [],
   "source": [
    "edges = nx_graph.get_edge_data(obodict['mitragynine'][0], obodict['CYP3A4'][0])\n",
    "if edges:\n",
    "    for item in edges:\n",
    "        print(nodeLabels[str(item)])\n",
    "        print(edges[item])\n",
    "edges = nx_graph.get_edge_data(obodict['mitragynine'][0], obodict['CYP3A4'][1])\n",
    "if edges:\n",
    "    for item in edges:\n",
    "        print(nodeLabels[str(item)])\n",
    "        print(edges[item])"
   ]
  },
  {
   "cell_type": "code",
   "execution_count": null,
   "id": "ff3525ec-7c03-4dde-a6c1-7a1a566d24be",
   "metadata": {},
   "outputs": [],
   "source": [
    "edges = nx_graph.get_edge_data(obodict['mitragynine'][0], obodict['CYP2D6'][0])\n",
    "if edges:\n",
    "    for item in edges:\n",
    "        print(nodeLabels[str(item)])\n",
    "        print(edges[item])\n",
    "edges = nx_graph.get_edge_data(obodict['mitragynine'][0], obodict['CYP2D6'][1])\n",
    "if edges:\n",
    "    for item in edges:\n",
    "        print(nodeLabels[str(item)])\n",
    "        print(edges[item])"
   ]
  },
  {
   "cell_type": "code",
   "execution_count": null,
   "id": "f3ffb8e0-a691-4cb6-bdb7-fe7289e9ea07",
   "metadata": {},
   "outputs": [],
   "source": [
    "edges = nx_graph.get_edge_data(obodict['mitragynine'][0], obodict['CYP2C19'][0])\n",
    "if edges:\n",
    "    for item in edges:\n",
    "        print(nodeLabels[str(item)])\n",
    "        print(edges[item])\n",
    "edges = nx_graph.get_edge_data(obodict['mitragynine'][0], obodict['CYP2C19'][1])\n",
    "if edges:\n",
    "    for item in edges:\n",
    "        print(nodeLabels[str(item)])\n",
    "        print(edges[item])"
   ]
  },
  {
   "cell_type": "code",
   "execution_count": null,
   "id": "cf7d1fa9-955c-4d90-be2a-8d0204e3a2a6",
   "metadata": {},
   "outputs": [],
   "source": [
    "edges = nx_graph.get_edge_data(obodict['mitragynine'][0], obodict['CYP2C9'][0])\n",
    "if edges:\n",
    "    for item in edges:\n",
    "        print(nodeLabels[str(item)])\n",
    "        print(edges[item])\n",
    "edges = nx_graph.get_edge_data(obodict['mitragynine'][0], obodict['CYP2C9'][1])\n",
    "if edges:\n",
    "    for item in edges:\n",
    "        print(nodeLabels[str(item)])\n",
    "        print(edges[item])"
   ]
  },
  {
   "cell_type": "code",
   "execution_count": null,
   "id": "387e0b99-870c-4c8d-b15e-e1d85a1ff823",
   "metadata": {},
   "outputs": [],
   "source": [
    "edges = nx_graph.get_edge_data(obodict['mitragynine'][0], obodict['CYP1A2'][0])\n",
    "if edges:\n",
    "    for item in edges:\n",
    "        print(nodeLabels[str(item)])\n",
    "        print(edges[item])\n",
    "edges = nx_graph.get_edge_data(obodict['mitragynine'][0], obodict['CYP1A2'][1])\n",
    "if edges:\n",
    "    for item in edges:\n",
    "        print(nodeLabels[str(item)])\n",
    "        print(edges[item])"
   ]
  },
  {
   "cell_type": "code",
   "execution_count": null,
   "id": "933489fb-ad4a-4fd1-a38b-d33b9110bc8c",
   "metadata": {},
   "outputs": [],
   "source": [
    "edges = nx_graph.get_edge_data(obodict['mitragynine'][0], obodict['UGT'][0])\n",
    "if edges:\n",
    "    for item in edges:\n",
    "        print(nodeLabels[str(item)])\n",
    "        print(edges[item])\n",
    "edges = nx_graph.get_edge_data(obodict['mitragynine'][0], obodict['UGT'][1])\n",
    "if edges:\n",
    "    for item in edges:\n",
    "        print(nodeLabels[str(item)])\n",
    "        print(edges[item])\n",
    "edges = nx_graph.get_edge_data(obodict['mitragynine'][0], obodict['UGT'][2])\n",
    "if edges:\n",
    "    for item in edges:\n",
    "        print(nodeLabels[str(item)])\n",
    "        print(edges[item])"
   ]
  },
  {
   "cell_type": "code",
   "execution_count": null,
   "id": "ff601fd8-29d7-4dc5-adfa-ccd23df9834f",
   "metadata": {},
   "outputs": [],
   "source": [
    "edges = nx_graph.get_edge_data(obodict['mitragynine'][0], obodict['UGT1A1'][0])\n",
    "if edges:\n",
    "    for item in edges:\n",
    "        print(nodeLabels[str(item)])\n",
    "        print(edges[item])\n",
    "edges = nx_graph.get_edge_data(obodict['mitragynine'][0], obodict['UGT1A1'][1])\n",
    "if edges:\n",
    "    for item in edges:\n",
    "        print(nodeLabels[str(item)])\n",
    "        print(edges[item])"
   ]
  },
  {
   "cell_type": "code",
   "execution_count": null,
   "id": "dc2418ed-2b29-447f-a989-6a38ee32a319",
   "metadata": {},
   "outputs": [],
   "source": [
    "edges = nx_graph.get_edge_data(obodict['mitragynine'][0], obodict['UGT2B7'][0])\n",
    "if edges:\n",
    "    for item in edges:\n",
    "        print(nodeLabels[str(item)])\n",
    "        print(edges[item])\n",
    "edges = nx_graph.get_edge_data(obodict['mitragynine'][0], obodict['UGT2B7'][1])\n",
    "if edges:\n",
    "    for item in edges:\n",
    "        print(nodeLabels[str(item)])\n",
    "        print(edges[item])"
   ]
  },
  {
   "cell_type": "code",
   "execution_count": null,
   "id": "fe07ad04-ed9f-4c39-83f1-22d76b9b46ac",
   "metadata": {},
   "outputs": [],
   "source": [
    "edges = nx_graph.get_edge_data(obodict['mitragynine'][0], obodict['PGP'][0])\n",
    "if edges:\n",
    "    for item in edges:\n",
    "        print(nodeLabels[str(item)])\n",
    "        print(edges[item])\n",
    "edges = nx_graph.get_edge_data(obodict['mitragynine'][0], obodict['PGP'][1])\n",
    "if edges:\n",
    "    for item in edges:\n",
    "        print(nodeLabels[str(item)])\n",
    "        print(edges[item])\n",
    "edges = nx_graph.get_edge_data(obodict['mitragynine'][0], obodict['PGP'][2])\n",
    "if edges:\n",
    "    for item in edges:\n",
    "        print(nodeLabels[str(item)])\n",
    "        print(edges[item])\n",
    "edges = nx_graph.get_edge_data(obodict['mitragynine'][0], obodict['PGP'][3])\n",
    "if edges:\n",
    "    for item in edges:\n",
    "        print(nodeLabels[str(item)])\n",
    "        print(edges[item])"
   ]
  },
  {
   "cell_type": "code",
   "execution_count": null,
   "id": "1024d812-422f-4ab6-8669-1770413fbec0",
   "metadata": {},
   "outputs": [],
   "source": [
    "edges = nx_graph.get_edge_data(obodict['mitragynine'][0], obodict['glycoprotein'][0])\n",
    "if edges:\n",
    "    for item in edges:\n",
    "        print(nodeLabels[str(item)])\n",
    "        print(edges[item])\n",
    "edges = nx_graph.get_edge_data(obodict['mitragynine'][0], obodict['glycoprotein'][1])\n",
    "if edges:\n",
    "    for item in edges:\n",
    "        print(nodeLabels[str(item)])\n",
    "        print(edges[item])"
   ]
  },
  {
   "cell_type": "code",
   "execution_count": null,
   "id": "92d461bb-83b1-4050-8cec-8e5f994c5090",
   "metadata": {},
   "outputs": [],
   "source": [
    "get_neighbors(nx_graph, obodict['hydroxy_mitragynine'][0])"
   ]
  },
  {
   "cell_type": "code",
   "execution_count": null,
   "id": "84656b45-7061-46d9-b646-58a0711d4626",
   "metadata": {},
   "outputs": [],
   "source": [
    "get_neighbors(nx_graph, obodict['hydroxy_mitragynine'][1])"
   ]
  },
  {
   "cell_type": "code",
   "execution_count": null,
   "id": "841812b9-cd2f-4404-8177-455d50c61696",
   "metadata": {},
   "outputs": [],
   "source": [
    "edges = nx_graph.get_edge_data(obodict['hydroxy_mitragynine'][0], obodict['CYP2D6'][0])\n",
    "if edges:\n",
    "    for item in edges:\n",
    "        print(nodeLabels[str(item)])\n",
    "        print(edges[item])\n",
    "edges = nx_graph.get_edge_data(obodict['hydroxy_mitragynine'][0], obodict['CYP2D6'][1])\n",
    "if edges:\n",
    "    for item in edges:\n",
    "        print(nodeLabels[str(item)])\n",
    "        print(edges[item])"
   ]
  },
  {
   "cell_type": "code",
   "execution_count": null,
   "id": "a036defe-62bb-42db-a10b-5a5a828fc8d8",
   "metadata": {},
   "outputs": [],
   "source": [
    "edges = nx_graph.get_edge_data(obodict['hydroxy_mitragynine'][1], obodict['CYP2D6'][0])\n",
    "if edges:\n",
    "    for item in edges:\n",
    "        print(nodeLabels[str(item)])\n",
    "        print(edges[item])\n",
    "edges = nx_graph.get_edge_data(obodict['hydroxy_mitragynine'][1], obodict['CYP2D6'][1])\n",
    "if edges:\n",
    "    for item in edges:\n",
    "        print(nodeLabels[str(item)])\n",
    "        print(edges[item])"
   ]
  },
  {
   "cell_type": "markdown",
   "id": "ee3cc19e-3194-4b7a-98fe-d064f671d2e2",
   "metadata": {
    "jp-MarkdownHeadingCollapsed": true,
    "tags": []
   },
   "source": [
    "## Green Tea - Mechanistic Exploration Part 1"
   ]
  },
  {
   "cell_type": "markdown",
   "id": "78c97ee6-c266-43bc-bca2-b5bce4d34012",
   "metadata": {
    "tags": []
   },
   "source": [
    "#### Green tea leaf"
   ]
  },
  {
   "cell_type": "code",
   "execution_count": null,
   "id": "d71b847d-3d7a-43be-aa55-b827c732c128",
   "metadata": {},
   "outputs": [],
   "source": [
    "edges = nx_graph.get_edge_data(obodict['greentea'][0], obo.CHEBI_17089)\n",
    "if edges:\n",
    "    for item in edges:\n",
    "        print(nodeLabels[str(item)])\n",
    "        print(edges[item])\n",
    "edges = nx_graph.get_edge_data(obodict['greentea'][0], obo.PR_000037069)\n",
    "if edges:\n",
    "    for item in edges:\n",
    "        print(nodeLabels[str(item)])\n",
    "        print(edges[item])"
   ]
  },
  {
   "cell_type": "code",
   "execution_count": null,
   "id": "7142ef42-3756-4f24-83c7-3ccd0c26a9bc",
   "metadata": {},
   "outputs": [],
   "source": [
    "edges = nx_graph.get_edge_data(obodict['greentea'][0], obodict['UGT'][0])\n",
    "if edges:\n",
    "    for item in edges:\n",
    "        print(nodeLabels[str(item)])\n",
    "        print(edges[item])\n",
    "edges = nx_graph.get_edge_data(obodict['greentea'][0], obodict['UGT'][1])\n",
    "if edges:\n",
    "    for item in edges:\n",
    "        print(nodeLabels[str(item)])\n",
    "        print(edges[item])\n",
    "edges = nx_graph.get_edge_data(obodict['greentea'][0], obodict['UGT'][2])\n",
    "if edges:\n",
    "    for item in edges:\n",
    "        print(nodeLabels[str(item)])\n",
    "        print(edges[item])"
   ]
  },
  {
   "cell_type": "code",
   "execution_count": null,
   "id": "9e1f019b-50ee-4f66-abf1-a1ec05195689",
   "metadata": {},
   "outputs": [],
   "source": [
    "edges = nx_graph.get_edge_data(obodict['greentea'][0], obodict['PGP'][3])\n",
    "if edges:\n",
    "    for item in edges:\n",
    "        print(nodeLabels[str(item)])\n",
    "        print(edges[item])"
   ]
  },
  {
   "cell_type": "code",
   "execution_count": null,
   "id": "6c736cb6-9b7e-4087-b3fb-4ff7469f3322",
   "metadata": {},
   "outputs": [],
   "source": [
    "get_neighbors_filtered(nx_graph, obodict['greentea'][0])"
   ]
  },
  {
   "cell_type": "markdown",
   "id": "7d4405fb-df32-4e83-8bc0-42fb1b7d9c8c",
   "metadata": {
    "tags": []
   },
   "source": [
    "#### EGCG"
   ]
  },
  {
   "cell_type": "code",
   "execution_count": null,
   "id": "bae04fa8-7f5d-4ab4-bdeb-cd9a853b3c7e",
   "metadata": {},
   "outputs": [],
   "source": [
    "edges = nx_graph.get_edge_data(obodict['EGCG'][0], obodict['CYP3A4'][0])\n",
    "if edges:\n",
    "    for item in edges:\n",
    "        print(nodeLabels[str(item)])\n",
    "        print(edges[item])\n",
    "edges = nx_graph.get_edge_data(obodict['EGCG'][1], obodict['CYP3A4'][0])\n",
    "if edges:\n",
    "    for item in edges:\n",
    "        print(nodeLabels[str(item)])\n",
    "        print(edges[item])\n",
    "edges = nx_graph.get_edge_data(obodict['EGCG'][0], obodict['CYP3A4'][1])\n",
    "if edges:\n",
    "    for item in edges:\n",
    "        print(nodeLabels[str(item)])\n",
    "        print(edges[item])\n",
    "edges = nx_graph.get_edge_data(obodict['EGCG'][1], obodict['CYP3A4'][1])\n",
    "if edges:\n",
    "    for item in edges:\n",
    "        print(nodeLabels[str(item)])\n",
    "        print(edges[item])"
   ]
  },
  {
   "cell_type": "code",
   "execution_count": null,
   "id": "3c854dcb-dc78-4dc4-9a22-a9ee7f256dd9",
   "metadata": {},
   "outputs": [],
   "source": [
    "edges = nx_graph.get_edge_data(obodict['EGCG'][0], obodict['CYP1A1'][0])\n",
    "if edges:\n",
    "    for item in edges:\n",
    "        print(nodeLabels[str(item)])\n",
    "        print(edges[item])\n",
    "edges = nx_graph.get_edge_data(obodict['EGCG'][1], obodict['CYP1A1'][0])\n",
    "if edges:\n",
    "    for item in edges:\n",
    "        print(nodeLabels[str(item)])\n",
    "        print(edges[item])\n",
    "edges = nx_graph.get_edge_data(obodict['EGCG'][0], obodict['CYP1A1'][1])\n",
    "if edges:\n",
    "    for item in edges:\n",
    "        print(nodeLabels[str(item)])\n",
    "        print(edges[item])\n",
    "edges = nx_graph.get_edge_data(obodict['EGCG'][1], obodict['CYP1A1'][1])\n",
    "if edges:\n",
    "    for item in edges:\n",
    "        print(nodeLabels[str(item)])\n",
    "        print(edges[item])"
   ]
  },
  {
   "cell_type": "code",
   "execution_count": null,
   "id": "6694153c-1e42-4a97-9bf3-b24c7300c930",
   "metadata": {},
   "outputs": [],
   "source": [
    "edges = nx_graph.get_edge_data(obodict['EGCG'][0], obodict['CYP2E1'][0])\n",
    "if edges:\n",
    "    for item in edges:\n",
    "        print(nodeLabels[str(item)])\n",
    "        print(edges[item])\n",
    "edges = nx_graph.get_edge_data(obodict['EGCG'][1], obodict['CYP2E1'][0])\n",
    "if edges:\n",
    "    for item in edges:\n",
    "        print(nodeLabels[str(item)])\n",
    "        print(edges[item])\n",
    "edges = nx_graph.get_edge_data(obodict['EGCG'][0], obodict['CYP2E1'][1])\n",
    "if edges:\n",
    "    for item in edges:\n",
    "        print(nodeLabels[str(item)])\n",
    "        print(edges[item])\n",
    "edges = nx_graph.get_edge_data(obodict['EGCG'][1], obodict['CYP2E1'][1])\n",
    "if edges:\n",
    "    for item in edges:\n",
    "        print(nodeLabels[str(item)])\n",
    "        print(edges[item])"
   ]
  },
  {
   "cell_type": "code",
   "execution_count": null,
   "id": "663068fe-6c48-4499-a094-4c2f72965b35",
   "metadata": {},
   "outputs": [],
   "source": [
    "edges = nx_graph.get_edge_data(obodict['EGCG'][0], obodict['UGT'][0])\n",
    "if edges:\n",
    "    for item in edges:\n",
    "        print(nodeLabels[str(item)])\n",
    "        print(edges[item])\n",
    "edges = nx_graph.get_edge_data(obodict['EGCG'][1], obodict['UGT'][0])\n",
    "if edges:\n",
    "    for item in edges:\n",
    "        print(nodeLabels[str(item)])\n",
    "        print(edges[item])\n"
   ]
  },
  {
   "cell_type": "code",
   "execution_count": null,
   "id": "fb373f03-28f0-4926-9ba4-24c530289321",
   "metadata": {},
   "outputs": [],
   "source": [
    "edges = nx_graph.get_edge_data(obodict['EGCG'][0], obodict['UGT1A8'][0])\n",
    "if edges:\n",
    "    for item in edges:\n",
    "        print(nodeLabels[str(item)])\n",
    "        print(edges[item])\n",
    "edges = nx_graph.get_edge_data(obodict['EGCG'][1], obodict['UGT1A8'][0])\n",
    "if edges:\n",
    "    for item in edges:\n",
    "        print(nodeLabels[str(item)])\n",
    "        print(edges[item])\n",
    "edges = nx_graph.get_edge_data(obodict['EGCG'][0], obodict['UGT1A8'][1])\n",
    "if edges:\n",
    "    for item in edges:\n",
    "        print(nodeLabels[str(item)])\n",
    "        print(edges[item])\n",
    "edges = nx_graph.get_edge_data(obodict['EGCG'][1], obodict['UGT1A8'][1])\n",
    "if edges:\n",
    "    for item in edges:\n",
    "        print(nodeLabels[str(item)])\n",
    "        print(edges[item])"
   ]
  },
  {
   "cell_type": "code",
   "execution_count": null,
   "id": "2ac33163-b3af-4c83-8ab0-954357d9cb4f",
   "metadata": {},
   "outputs": [],
   "source": [
    "edges = nx_graph.get_edge_data(obodict['EGCG'][0], obodict['OATP1B3'][0])\n",
    "if edges:\n",
    "    for item in edges:\n",
    "        print(nodeLabels[str(item)])\n",
    "        print(edges[item])\n",
    "edges = nx_graph.get_edge_data(obodict['EGCG'][1], obodict['OATP1B3'][0])\n",
    "if edges:\n",
    "    for item in edges:\n",
    "        print(nodeLabels[str(item)])\n",
    "        print(edges[item])\n",
    "edges = nx_graph.get_edge_data(obodict['EGCG'][0], obodict['OATP1B3'][1])\n",
    "if edges:\n",
    "    for item in edges:\n",
    "        print(nodeLabels[str(item)])\n",
    "        print(edges[item])\n",
    "edges = nx_graph.get_edge_data(obodict['EGCG'][1], obodict['OATP1B3'][1])\n",
    "if edges:\n",
    "    for item in edges:\n",
    "        print(nodeLabels[str(item)])\n",
    "        print(edges[item])"
   ]
  },
  {
   "cell_type": "code",
   "execution_count": null,
   "id": "7c182257-dc9b-471a-a75e-ca83b6b81361",
   "metadata": {},
   "outputs": [],
   "source": [
    "\n",
    "edges = nx_graph.get_edge_data(obodict['EGCG'][1], obo.CHEBI_17089)\n",
    "if edges:\n",
    "    for item in edges:\n",
    "        print(nodeLabels[str(item)])\n",
    "        print(edges[item])\n",
    "edges = nx_graph.get_edge_data(obodict['EGCG'][1], obo.PR_000037069)\n",
    "if edges:\n",
    "    for item in edges:\n",
    "        print(nodeLabels[str(item)])\n",
    "        print(edges[item])"
   ]
  },
  {
   "cell_type": "code",
   "execution_count": null,
   "id": "8f0e5e34-f0ee-4d72-b90d-3d2e80eea40f",
   "metadata": {},
   "outputs": [],
   "source": [
    "edges = nx_graph.get_edge_data(obodict['EGCG'][1], obodict['UGT'][0])\n",
    "if edges:\n",
    "    for item in edges:\n",
    "        print(nodeLabels[str(item)])\n",
    "        print(edges[item])\n",
    "edges = nx_graph.get_edge_data(obodict['EGCG'][1], obodict['UGT'][1])\n",
    "if edges:\n",
    "    for item in edges:\n",
    "        print(nodeLabels[str(item)])\n",
    "        print(edges[item])\n",
    "edges = nx_graph.get_edge_data(obodict['EGCG'][1], obodict['UGT'][2])\n",
    "if edges:\n",
    "    for item in edges:\n",
    "        print(nodeLabels[str(item)])\n",
    "        print(edges[item])"
   ]
  },
  {
   "cell_type": "code",
   "execution_count": null,
   "id": "8c711e6f-d5ab-4a00-af4b-1af271af7b3b",
   "metadata": {},
   "outputs": [],
   "source": [
    "edges = nx_graph.get_edge_data(obodict['EGCG'][0], obodict['PGP'][3])\n",
    "if edges:\n",
    "    for item in edges:\n",
    "        print(nodeLabels[str(item)])\n",
    "        print(edges[item])\n",
    "edges = nx_graph.get_edge_data(obodict['EGCG'][1], obodict['PGP'][3])\n",
    "if edges:\n",
    "    for item in edges:\n",
    "        print(nodeLabels[str(item)])\n",
    "        print(edges[item])"
   ]
  },
  {
   "cell_type": "markdown",
   "id": "e2935f66-daa5-431a-ac71-2771b06b76a0",
   "metadata": {
    "tags": []
   },
   "source": [
    "#### ECG"
   ]
  },
  {
   "cell_type": "code",
   "execution_count": null,
   "id": "a070fa5b-a992-4002-a6c7-fd4523ca669f",
   "metadata": {},
   "outputs": [],
   "source": [
    "edges = nx_graph.get_edge_data(obodict['ECG'][0], obodict['CYP2E1'][0])\n",
    "if edges:\n",
    "    for item in edges:\n",
    "        print(nodeLabels[str(item)])\n",
    "        print(edges[item])\n",
    "edges = nx_graph.get_edge_data(obodict['ECG'][0], obodict['CYP2E1'][1])\n",
    "if edges:\n",
    "    for item in edges:\n",
    "        print(nodeLabels[str(item)])\n",
    "        print(edges[item])"
   ]
  },
  {
   "cell_type": "code",
   "execution_count": null,
   "id": "3fcf82dc-e03e-4eee-9fd9-95ac8ec829bf",
   "metadata": {},
   "outputs": [],
   "source": [
    "edges = nx_graph.get_edge_data(obodict['ECG'][0], obodict['UGT1A8'][0])\n",
    "if edges:\n",
    "    for item in edges:\n",
    "        print(nodeLabels[str(item)])\n",
    "        print(edges[item])\n",
    "edges = nx_graph.get_edge_data(obodict['ECG'][0], obodict['UGT1A8'][1])\n",
    "if edges:\n",
    "    for item in edges:\n",
    "        print(nodeLabels[str(item)])\n",
    "        print(edges[item])"
   ]
  },
  {
   "cell_type": "code",
   "execution_count": null,
   "id": "7a18b57a-f988-40c8-9e18-e20b79b667c9",
   "metadata": {},
   "outputs": [],
   "source": [
    "edges = nx_graph.get_edge_data(obodict['ECG'][0], obo.PR_P78381)\n",
    "if edges:\n",
    "    for item in edges:\n",
    "        print(nodeLabels[str(item)])\n",
    "        print(edges[item])"
   ]
  },
  {
   "cell_type": "code",
   "execution_count": null,
   "id": "e0516ed0-f384-4bcc-a904-60a0b99e076e",
   "metadata": {},
   "outputs": [],
   "source": [
    "edges = nx_graph.get_edge_data(obodict['ECG'][0], obodict['PGP'][0])\n",
    "if edges:\n",
    "    for item in edges:\n",
    "        print(nodeLabels[str(item)])\n",
    "        print(edges[item])\n",
    "edges = nx_graph.get_edge_data(obodict['ECG'][0], obodict['PGP'][1])\n",
    "if edges:\n",
    "    for item in edges:\n",
    "        print(nodeLabels[str(item)])\n",
    "        print(edges[item])\n",
    "edges = nx_graph.get_edge_data(obodict['ECG'][0], obodict['PGP'][2])\n",
    "if edges:\n",
    "    for item in edges:\n",
    "        print(nodeLabels[str(item)])\n",
    "        print(edges[item])\n",
    "edges = nx_graph.get_edge_data(obodict['ECG'][0], obodict['PGP'][3])\n",
    "if edges:\n",
    "    for item in edges:\n",
    "        print(nodeLabels[str(item)])\n",
    "        print(edges[item])"
   ]
  },
  {
   "cell_type": "code",
   "execution_count": null,
   "id": "ca8bc7a7-82e9-4b09-9585-deee575ff5e6",
   "metadata": {},
   "outputs": [],
   "source": [
    "get_neighbors_filtered(nx_graph, obodict['ECG'][0])"
   ]
  },
  {
   "cell_type": "markdown",
   "id": "e9f5f3c3-941f-429f-bfff-8a7ea02bc5d0",
   "metadata": {
    "tags": []
   },
   "source": [
    "#### Epicatechin"
   ]
  },
  {
   "cell_type": "code",
   "execution_count": null,
   "id": "843ba469-c066-4406-8341-ca6f5e5c3ce3",
   "metadata": {},
   "outputs": [],
   "source": [
    "edges = nx_graph.get_edge_data(obodict['epicatechin'][0], obodict['CYP1A1'][0])\n",
    "if edges:\n",
    "    for item in edges:\n",
    "        print(nodeLabels[str(item)])\n",
    "        print(edges[item])\n",
    "edges = nx_graph.get_edge_data(obodict['epicatechin'][0], obodict['CYP1A1'][1])\n",
    "if edges:\n",
    "    for item in edges:\n",
    "        print(nodeLabels[str(item)])\n",
    "        print(edges[item])"
   ]
  },
  {
   "cell_type": "code",
   "execution_count": null,
   "id": "d967625c-32ac-4835-99eb-d12654679399",
   "metadata": {},
   "outputs": [],
   "source": [
    "edges = nx_graph.get_edge_data(obodict['epicatechin'][0], obodict['UGT1A8'][0])\n",
    "if edges:\n",
    "    for item in edges:\n",
    "        print(nodeLabels[str(item)])\n",
    "        print(edges[item])\n",
    "edges = nx_graph.get_edge_data(obodict['epicatechin'][0], obodict['UGT1A8'][1])\n",
    "if edges:\n",
    "    for item in edges:\n",
    "        print(nodeLabels[str(item)])\n",
    "        print(edges[item])"
   ]
  },
  {
   "cell_type": "markdown",
   "id": "fc26bdc7-f695-4058-a53d-d584f53b409e",
   "metadata": {
    "tags": []
   },
   "source": [
    "#### Epigallocatechin"
   ]
  },
  {
   "cell_type": "code",
   "execution_count": null,
   "id": "d6778d02-cdbf-444e-8a05-9d53d8c00f48",
   "metadata": {},
   "outputs": [],
   "source": [
    "edges = nx_graph.get_edge_data(obodict['epigallocatechin'][0], obodict['UGT'][0])\n",
    "if edges:\n",
    "    for item in edges:\n",
    "        print(nodeLabels[str(item)])\n",
    "        print(edges[item])\n",
    "edges = nx_graph.get_edge_data(obodict['epigallocatechin'][0], obodict['UGT'][1])\n",
    "if edges:\n",
    "    for item in edges:\n",
    "        print(nodeLabels[str(item)])\n",
    "        print(edges[item])"
   ]
  },
  {
   "cell_type": "code",
   "execution_count": null,
   "id": "7d96af93-33bf-4063-b88c-e764a04c8f99",
   "metadata": {},
   "outputs": [],
   "source": [
    "get_neighbors_filtered(nx_graph, obodict['epigallocatechin'][0])"
   ]
  },
  {
   "cell_type": "markdown",
   "id": "f75b9efe-0db5-4a65-b9cd-e0c3c7ded2df",
   "metadata": {
    "tags": []
   },
   "source": [
    "#### Catechin"
   ]
  },
  {
   "cell_type": "code",
   "execution_count": null,
   "id": "14ccc4ba-9de3-421d-9e2e-ec75d026c94d",
   "metadata": {},
   "outputs": [],
   "source": [
    "edges = nx_graph.get_edge_data(obodict['catechin'][0], obodict['UGT1A8'][0])\n",
    "if edges:\n",
    "    for item in edges:\n",
    "        print(nodeLabels[str(item)])\n",
    "        print(edges[item])\n",
    "edges = nx_graph.get_edge_data(obodict['catechin'][0], obodict['UGT1A8'][1])\n",
    "if edges:\n",
    "    for item in edges:\n",
    "        print(nodeLabels[str(item)])\n",
    "        print(edges[item])\n",
    "edges = nx_graph.get_edge_data(obodict['catechin'][1], obodict['UGT1A8'][0])\n",
    "if edges:\n",
    "    for item in edges:\n",
    "        print(nodeLabels[str(item)])\n",
    "        print(edges[item])\n",
    "edges = nx_graph.get_edge_data(obodict['catechin'][1], obodict['UGT1A8'][1])\n",
    "if edges:\n",
    "    for item in edges:\n",
    "        print(nodeLabels[str(item)])\n",
    "        print(edges[item])"
   ]
  },
  {
   "cell_type": "code",
   "execution_count": null,
   "id": "1e778007-adb2-4b1c-becf-bf4a66be1b06",
   "metadata": {},
   "outputs": [],
   "source": [
    "len(get_neighbors_filtered(nx_graph, obodict['catechin'][0]))"
   ]
  },
  {
   "cell_type": "code",
   "execution_count": null,
   "id": "efa3c257-1916-40b3-88ca-581fcbbac5e8",
   "metadata": {},
   "outputs": [],
   "source": [
    "len(get_neighbors_filtered(nx_graph, obodict['catechin'][1]))"
   ]
  },
  {
   "cell_type": "markdown",
   "id": "7b4b1fae-f17e-48d2-a798-ceea204fdae9",
   "metadata": {
    "tags": []
   },
   "source": [
    "#### Gallocatechin"
   ]
  },
  {
   "cell_type": "code",
   "execution_count": null,
   "id": "eec88ae4-f521-473d-90a2-30eac7edadad",
   "metadata": {},
   "outputs": [],
   "source": [
    "get_neighbors(nx_graph, obodict['gallocatechin'][1])"
   ]
  },
  {
   "cell_type": "code",
   "execution_count": null,
   "id": "fac8656f-1b03-4718-a4d1-17724379d2ec",
   "metadata": {},
   "outputs": [],
   "source": [
    "edges = nx_graph.get_edge_data(obodict['gallocatechin'][0], obodict['UGT'][2])\n",
    "if edges:\n",
    "    for item in edges:\n",
    "        print(nodeLabels[str(item)])\n",
    "        print(edges[item])\n",
    "edges = nx_graph.get_edge_data(obodict['gallocatechin'][0], obodict['UGT'][2])\n",
    "if edges:\n",
    "    for item in edges:\n",
    "        print(nodeLabels[str(item)])\n",
    "        print(edges[item])\n",
    "edges = nx_graph.get_edge_data(obodict['gallocatechin'][1], obodict['UGT'][2])\n",
    "if edges:\n",
    "    for item in edges:\n",
    "        print(nodeLabels[str(item)])\n",
    "        print(edges[item])\n",
    "edges = nx_graph.get_edge_data(obodict['gallocatechin'][1], obodict['UGT'][2])\n",
    "if edges:\n",
    "    for item in edges:\n",
    "        print(nodeLabels[str(item)])\n",
    "        print(edges[item])"
   ]
  }
 ],
 "metadata": {
  "kernelspec": {
   "display_name": "Python 3 (ipykernel)",
   "language": "python",
   "name": "python3"
  },
  "language_info": {
   "codemirror_mode": {
    "name": "ipython",
    "version": 3
   },
   "file_extension": ".py",
   "mimetype": "text/x-python",
   "name": "python",
   "nbconvert_exporter": "python",
   "pygments_lexer": "ipython3",
   "version": "3.9.12"
  }
 },
 "nbformat": 4,
 "nbformat_minor": 5
}
