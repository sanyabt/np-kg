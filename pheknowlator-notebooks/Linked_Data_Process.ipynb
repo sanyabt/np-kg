{
 "cells": [
  {
   "cell_type": "code",
   "execution_count": 1,
   "id": "domestic-franchise",
   "metadata": {},
   "outputs": [],
   "source": [
    "import pandas as pd\n",
    "import numpy as np"
   ]
  },
  {
   "attachments": {},
   "cell_type": "markdown",
   "id": "30926652",
   "metadata": {},
   "source": [
    "## Linked Data Processing \n",
    "Code to process linked data including FDA substrates and inhibitors, Drug Interaction Knowledge Base (DIKB) and Drug Central Data. Data have been preprocessed and combined with mappings prior to this notebook.\n"
   ]
  },
  {
   "attachments": {},
   "cell_type": "markdown",
   "id": "df2cc264",
   "metadata": {},
   "source": [
    "### FDA, DIKB, Drug Central"
   ]
  },
  {
   "cell_type": "code",
   "execution_count": 2,
   "id": "intelligent-shopper",
   "metadata": {},
   "outputs": [],
   "source": [
    "df = pd.read_csv('../resources/processed_data/unprocessed_data/staging_combined_new_202308101935.tsv', sep='\\t')"
   ]
  },
  {
   "cell_type": "code",
   "execution_count": 3,
   "id": "auburn-vacation",
   "metadata": {},
   "outputs": [
    {
     "name": "stdout",
     "output_type": "stream",
     "text": [
      "<class 'pandas.core.frame.DataFrame'>\n",
      "RangeIndex: 2167 entries, 0 to 2166\n",
      "Data columns (total 15 columns):\n",
      " #   Column             Non-Null Count  Dtype  \n",
      "---  ------             --------------  -----  \n",
      " 0   id                 2167 non-null   int64  \n",
      " 1   chemical_id        2167 non-null   object \n",
      " 2   chemical_name      2167 non-null   object \n",
      " 3   protein_id         2164 non-null   object \n",
      " 4   protein_name       2167 non-null   object \n",
      " 5   relation_name      2167 non-null   object \n",
      " 6   relation_id        2167 non-null   object \n",
      " 7   source             2167 non-null   object \n",
      " 8   dikb_id            437 non-null    float64\n",
      " 9   fda_id             878 non-null    float64\n",
      " 10  drugcentral_id     852 non-null    float64\n",
      " 11  reference          2080 non-null   object \n",
      " 12  year               2167 non-null   int64  \n",
      " 13  measurement_type   1160 non-null   object \n",
      " 14  measurement_value  1160 non-null   float64\n",
      "dtypes: float64(4), int64(2), object(9)\n",
      "memory usage: 254.1+ KB\n"
     ]
    }
   ],
   "source": [
    "df.info()"
   ]
  },
  {
   "cell_type": "code",
   "execution_count": 4,
   "id": "imposed-thread",
   "metadata": {},
   "outputs": [
    {
     "data": {
      "text/html": [
       "<div>\n",
       "<style scoped>\n",
       "    .dataframe tbody tr th:only-of-type {\n",
       "        vertical-align: middle;\n",
       "    }\n",
       "\n",
       "    .dataframe tbody tr th {\n",
       "        vertical-align: top;\n",
       "    }\n",
       "\n",
       "    .dataframe thead th {\n",
       "        text-align: right;\n",
       "    }\n",
       "</style>\n",
       "<table border=\"1\" class=\"dataframe\">\n",
       "  <thead>\n",
       "    <tr style=\"text-align: right;\">\n",
       "      <th></th>\n",
       "      <th>id</th>\n",
       "      <th>chemical_id</th>\n",
       "      <th>chemical_name</th>\n",
       "      <th>protein_id</th>\n",
       "      <th>protein_name</th>\n",
       "      <th>relation_name</th>\n",
       "      <th>relation_id</th>\n",
       "      <th>source</th>\n",
       "      <th>dikb_id</th>\n",
       "      <th>fda_id</th>\n",
       "      <th>drugcentral_id</th>\n",
       "      <th>reference</th>\n",
       "      <th>year</th>\n",
       "      <th>measurement_type</th>\n",
       "      <th>measurement_value</th>\n",
       "    </tr>\n",
       "  </thead>\n",
       "  <tbody>\n",
       "    <tr>\n",
       "      <th>0</th>\n",
       "      <td>2397</td>\n",
       "      <td>CHEBI_28901</td>\n",
       "      <td>busulfan</td>\n",
       "      <td>PR_P11509</td>\n",
       "      <td>CYP2A6</td>\n",
       "      <td>inhibits</td>\n",
       "      <td>RO_0002449</td>\n",
       "      <td>FDA</td>\n",
       "      <td>NaN</td>\n",
       "      <td>74.0</td>\n",
       "      <td>NaN</td>\n",
       "      <td>PL</td>\n",
       "      <td>2017</td>\n",
       "      <td>NaN</td>\n",
       "      <td>NaN</td>\n",
       "    </tr>\n",
       "    <tr>\n",
       "      <th>1</th>\n",
       "      <td>2398</td>\n",
       "      <td>CHEBI_8426</td>\n",
       "      <td>probenecid</td>\n",
       "      <td>PR_Q9UNQ0</td>\n",
       "      <td>BCRP</td>\n",
       "      <td>molecularly_interacts_with</td>\n",
       "      <td>RO_0002436</td>\n",
       "      <td>FDA</td>\n",
       "      <td>NaN</td>\n",
       "      <td>869.0</td>\n",
       "      <td>NaN</td>\n",
       "      <td>NaN</td>\n",
       "      <td>2017</td>\n",
       "      <td>NaN</td>\n",
       "      <td>NaN</td>\n",
       "    </tr>\n",
       "    <tr>\n",
       "      <th>2</th>\n",
       "      <td>359</td>\n",
       "      <td>CHEBI_7936</td>\n",
       "      <td>paroxetine</td>\n",
       "      <td>PR_P10635</td>\n",
       "      <td>cyp2d6</td>\n",
       "      <td>inhibits</td>\n",
       "      <td>RO_0002449</td>\n",
       "      <td>dikb</td>\n",
       "      <td>607.0</td>\n",
       "      <td>NaN</td>\n",
       "      <td>NaN</td>\n",
       "      <td>http://www.ncbi.nlm.nih.gov/pubmed/12173784</td>\n",
       "      <td>2017</td>\n",
       "      <td>NaN</td>\n",
       "      <td>NaN</td>\n",
       "    </tr>\n",
       "    <tr>\n",
       "      <th>3</th>\n",
       "      <td>2399</td>\n",
       "      <td>CHEBI_119573</td>\n",
       "      <td>delavirdine</td>\n",
       "      <td>PR_P08684</td>\n",
       "      <td>CYP3A4</td>\n",
       "      <td>inhibits</td>\n",
       "      <td>RO_0002449</td>\n",
       "      <td>FDA</td>\n",
       "      <td>NaN</td>\n",
       "      <td>13.0</td>\n",
       "      <td>NaN</td>\n",
       "      <td>PL</td>\n",
       "      <td>2017</td>\n",
       "      <td>NaN</td>\n",
       "      <td>NaN</td>\n",
       "    </tr>\n",
       "    <tr>\n",
       "      <th>4</th>\n",
       "      <td>438</td>\n",
       "      <td>CHEBI_135737</td>\n",
       "      <td>lacidipine</td>\n",
       "      <td>PR_P33261</td>\n",
       "      <td>Cytochrome P450 2C19</td>\n",
       "      <td>is_substrate_of</td>\n",
       "      <td>DIDEO_00000041</td>\n",
       "      <td>drug_central</td>\n",
       "      <td>NaN</td>\n",
       "      <td>NaN</td>\n",
       "      <td>356.0</td>\n",
       "      <td>DRUG MATRIX</td>\n",
       "      <td>2017</td>\n",
       "      <td>IC50</td>\n",
       "      <td>5.0</td>\n",
       "    </tr>\n",
       "  </tbody>\n",
       "</table>\n",
       "</div>"
      ],
      "text/plain": [
       "     id   chemical_id chemical_name protein_id          protein_name  \\\n",
       "0  2397   CHEBI_28901      busulfan  PR_P11509                CYP2A6   \n",
       "1  2398    CHEBI_8426    probenecid  PR_Q9UNQ0                  BCRP   \n",
       "2   359    CHEBI_7936    paroxetine  PR_P10635                cyp2d6   \n",
       "3  2399  CHEBI_119573   delavirdine  PR_P08684                CYP3A4   \n",
       "4   438  CHEBI_135737    lacidipine  PR_P33261  Cytochrome P450 2C19   \n",
       "\n",
       "                relation_name     relation_id        source  dikb_id  fda_id  \\\n",
       "0                    inhibits      RO_0002449           FDA      NaN    74.0   \n",
       "1  molecularly_interacts_with      RO_0002436           FDA      NaN   869.0   \n",
       "2                    inhibits      RO_0002449          dikb    607.0     NaN   \n",
       "3                    inhibits      RO_0002449           FDA      NaN    13.0   \n",
       "4             is_substrate_of  DIDEO_00000041  drug_central      NaN     NaN   \n",
       "\n",
       "   drugcentral_id                                    reference  year  \\\n",
       "0             NaN                                           PL  2017   \n",
       "1             NaN                                          NaN  2017   \n",
       "2             NaN  http://www.ncbi.nlm.nih.gov/pubmed/12173784  2017   \n",
       "3             NaN                                           PL  2017   \n",
       "4           356.0                                  DRUG MATRIX  2017   \n",
       "\n",
       "  measurement_type  measurement_value  \n",
       "0              NaN                NaN  \n",
       "1              NaN                NaN  \n",
       "2              NaN                NaN  \n",
       "3              NaN                NaN  \n",
       "4             IC50                5.0  "
      ]
     },
     "execution_count": 4,
     "metadata": {},
     "output_type": "execute_result"
    }
   ],
   "source": [
    "df.head()"
   ]
  },
  {
   "cell_type": "code",
   "execution_count": 5,
   "id": "proved-liabilities",
   "metadata": {},
   "outputs": [],
   "source": [
    "df = df.dropna(subset=['chemical_id', 'protein_id'])"
   ]
  },
  {
   "cell_type": "code",
   "execution_count": 6,
   "id": "informed-brooks",
   "metadata": {},
   "outputs": [
    {
     "name": "stdout",
     "output_type": "stream",
     "text": [
      "<class 'pandas.core.frame.DataFrame'>\n",
      "Int64Index: 2164 entries, 0 to 2166\n",
      "Data columns (total 15 columns):\n",
      " #   Column             Non-Null Count  Dtype  \n",
      "---  ------             --------------  -----  \n",
      " 0   id                 2164 non-null   int64  \n",
      " 1   chemical_id        2164 non-null   object \n",
      " 2   chemical_name      2164 non-null   object \n",
      " 3   protein_id         2164 non-null   object \n",
      " 4   protein_name       2164 non-null   object \n",
      " 5   relation_name      2164 non-null   object \n",
      " 6   relation_id        2164 non-null   object \n",
      " 7   source             2164 non-null   object \n",
      " 8   dikb_id            437 non-null    float64\n",
      " 9   fda_id             875 non-null    float64\n",
      " 10  drugcentral_id     852 non-null    float64\n",
      " 11  reference          2077 non-null   object \n",
      " 12  year               2164 non-null   int64  \n",
      " 13  measurement_type   1159 non-null   object \n",
      " 14  measurement_value  1159 non-null   float64\n",
      "dtypes: float64(4), int64(2), object(9)\n",
      "memory usage: 270.5+ KB\n"
     ]
    }
   ],
   "source": [
    "df.info()"
   ]
  },
  {
   "cell_type": "code",
   "execution_count": 7,
   "id": "continuous-mongolia",
   "metadata": {},
   "outputs": [],
   "source": [
    "transport = df.loc[df['relation_id'] == 'RO_0002020']"
   ]
  },
  {
   "cell_type": "code",
   "execution_count": 8,
   "id": "activated-triangle",
   "metadata": {},
   "outputs": [],
   "source": [
    "inhibitor = df.loc[df['relation_id'] == 'RO_0002449']\n",
    "molecule = df.loc[df['relation_id'] == 'RO_0002436']\n",
    "substrate = df.loc[df['relation_id'] == 'DIDEO_00000041']"
   ]
  },
  {
   "cell_type": "code",
   "execution_count": 9,
   "id": "familiar-victoria",
   "metadata": {},
   "outputs": [
    {
     "data": {
      "text/plain": [
       "Index(['id', 'chemical_id', 'chemical_name', 'protein_id', 'protein_name',\n",
       "       'relation_name', 'relation_id', 'source', 'dikb_id', 'fda_id',\n",
       "       'drugcentral_id', 'reference', 'year', 'measurement_type',\n",
       "       'measurement_value'],\n",
       "      dtype='object')"
      ]
     },
     "execution_count": 9,
     "metadata": {},
     "output_type": "execute_result"
    }
   ],
   "source": [
    "df.columns"
   ]
  },
  {
   "cell_type": "code",
   "execution_count": 10,
   "id": "adapted-proposal",
   "metadata": {},
   "outputs": [
    {
     "name": "stdout",
     "output_type": "stream",
     "text": [
      "<class 'pandas.core.frame.DataFrame'>\n",
      "Int64Index: 122 entries, 862 to 1172\n",
      "Data columns (total 2 columns):\n",
      " #   Column       Non-Null Count  Dtype \n",
      "---  ------       --------------  ----- \n",
      " 0   chemical_id  122 non-null    object\n",
      " 1   protein_id   122 non-null    object\n",
      "dtypes: object(2)\n",
      "memory usage: 2.9+ KB\n"
     ]
    }
   ],
   "source": [
    "transport = transport[['chemical_id', 'protein_id']]\n",
    "transport.info()"
   ]
  },
  {
   "cell_type": "code",
   "execution_count": 11,
   "id": "common-centre",
   "metadata": {},
   "outputs": [],
   "source": [
    "inhibitor = inhibitor[['chemical_id', 'protein_id']]\n",
    "molecule = molecule[['chemical_id', 'protein_id']]\n",
    "substrate = substrate[['chemical_id', 'protein_id']]"
   ]
  },
  {
   "cell_type": "code",
   "execution_count": 12,
   "id": "prescription-seventh",
   "metadata": {},
   "outputs": [
    {
     "data": {
      "text/html": [
       "<div>\n",
       "<style scoped>\n",
       "    .dataframe tbody tr th:only-of-type {\n",
       "        vertical-align: middle;\n",
       "    }\n",
       "\n",
       "    .dataframe tbody tr th {\n",
       "        vertical-align: top;\n",
       "    }\n",
       "\n",
       "    .dataframe thead th {\n",
       "        text-align: right;\n",
       "    }\n",
       "</style>\n",
       "<table border=\"1\" class=\"dataframe\">\n",
       "  <thead>\n",
       "    <tr style=\"text-align: right;\">\n",
       "      <th></th>\n",
       "      <th>chemical_id</th>\n",
       "      <th>protein_id</th>\n",
       "    </tr>\n",
       "  </thead>\n",
       "  <tbody>\n",
       "    <tr>\n",
       "      <th>0</th>\n",
       "      <td>CHEBI_38545</td>\n",
       "      <td>PR_Q9NPD5</td>\n",
       "    </tr>\n",
       "    <tr>\n",
       "      <th>1</th>\n",
       "      <td>CHEBI_8805</td>\n",
       "      <td>PR_P08183</td>\n",
       "    </tr>\n",
       "    <tr>\n",
       "      <th>2</th>\n",
       "      <td>CHEBI_5050</td>\n",
       "      <td>PR_O15245</td>\n",
       "    </tr>\n",
       "    <tr>\n",
       "      <th>3</th>\n",
       "      <td>CHEBI_70735</td>\n",
       "      <td>PR_P08183</td>\n",
       "    </tr>\n",
       "    <tr>\n",
       "      <th>4</th>\n",
       "      <td>CHEBI_82960</td>\n",
       "      <td>PR_P08183</td>\n",
       "    </tr>\n",
       "  </tbody>\n",
       "</table>\n",
       "</div>"
      ],
      "text/plain": [
       "   chemical_id protein_id\n",
       "0  CHEBI_38545  PR_Q9NPD5\n",
       "1   CHEBI_8805  PR_P08183\n",
       "2   CHEBI_5050  PR_O15245\n",
       "3  CHEBI_70735  PR_P08183\n",
       "4  CHEBI_82960  PR_P08183"
      ]
     },
     "execution_count": 12,
     "metadata": {},
     "output_type": "execute_result"
    }
   ],
   "source": [
    "transport = transport.reset_index(drop=True)\n",
    "transport.head()"
   ]
  },
  {
   "cell_type": "code",
   "execution_count": 13,
   "id": "interracial-bulgarian",
   "metadata": {},
   "outputs": [],
   "source": [
    "inhibitor = inhibitor.reset_index(drop=True)\n",
    "molecule = molecule.reset_index(drop=True)\n",
    "substrate = substrate.reset_index(drop=True)"
   ]
  },
  {
   "cell_type": "code",
   "execution_count": 14,
   "id": "bronze-month",
   "metadata": {},
   "outputs": [],
   "source": [
    "transport = transport.drop_duplicates()\n",
    "inhibitor = inhibitor.drop_duplicates()\n",
    "substrate = substrate.drop_duplicates()\n",
    "molecule = molecule.drop_duplicates()"
   ]
  },
  {
   "cell_type": "code",
   "execution_count": 15,
   "id": "statistical-philip",
   "metadata": {},
   "outputs": [],
   "source": [
    "processed_data_loc = '../resources/processed_data/'"
   ]
  },
  {
   "cell_type": "code",
   "execution_count": 16,
   "id": "nuclear-gibson",
   "metadata": {},
   "outputs": [],
   "source": [
    "transport.to_csv(processed_data_loc + 'CHEMICAL_TRANSPORTER.tsv', header=None, sep='\\t', index=False)\n",
    "inhibitor.to_csv(processed_data_loc + 'CHEMICAL_INHIBITOR.tsv', header=None, sep='\\t', index=False)\n",
    "molecule.to_csv(processed_data_loc + 'CHEMICAL_MOLECULE.tsv', header=None, sep='\\t', index=False)\n",
    "substrate.to_csv(processed_data_loc + 'CHEMICAL_SUBSTRATE.tsv', header=None, sep='\\t', index=False)"
   ]
  },
  {
   "attachments": {},
   "cell_type": "markdown",
   "id": "bcfb1b53",
   "metadata": {},
   "source": [
    "### repoDB"
   ]
  },
  {
   "cell_type": "code",
   "execution_count": 17,
   "id": "sharing-paste",
   "metadata": {},
   "outputs": [
    {
     "data": {
      "text/html": [
       "<div>\n",
       "<style scoped>\n",
       "    .dataframe tbody tr th:only-of-type {\n",
       "        vertical-align: middle;\n",
       "    }\n",
       "\n",
       "    .dataframe tbody tr th {\n",
       "        vertical-align: top;\n",
       "    }\n",
       "\n",
       "    .dataframe thead th {\n",
       "        text-align: right;\n",
       "    }\n",
       "</style>\n",
       "<table border=\"1\" class=\"dataframe\">\n",
       "  <thead>\n",
       "    <tr style=\"text-align: right;\">\n",
       "      <th></th>\n",
       "      <th>drug_name</th>\n",
       "      <th>drug_id</th>\n",
       "      <th>ind_name</th>\n",
       "      <th>ind_id</th>\n",
       "      <th>nct</th>\n",
       "      <th>status</th>\n",
       "      <th>phase</th>\n",
       "      <th>detailedstatus</th>\n",
       "      <th>drug_obo_id</th>\n",
       "      <th>ind_obo_id</th>\n",
       "    </tr>\n",
       "  </thead>\n",
       "  <tbody>\n",
       "    <tr>\n",
       "      <th>0</th>\n",
       "      <td>Lepirudin</td>\n",
       "      <td>DB00001</td>\n",
       "      <td>Heparin-induced thrombocytopenia with thrombosis</td>\n",
       "      <td>C0272275</td>\n",
       "      <td>NaN</td>\n",
       "      <td>Approved</td>\n",
       "      <td>NaN</td>\n",
       "      <td>NaN</td>\n",
       "      <td>CHEBI:142437</td>\n",
       "      <td>NaN</td>\n",
       "    </tr>\n",
       "    <tr>\n",
       "      <th>1</th>\n",
       "      <td>Cetuximab</td>\n",
       "      <td>DB00002</td>\n",
       "      <td>Squamous cell carcinoma of mouth</td>\n",
       "      <td>C0585362</td>\n",
       "      <td>NaN</td>\n",
       "      <td>Approved</td>\n",
       "      <td>NaN</td>\n",
       "      <td>NaN</td>\n",
       "      <td>NaN</td>\n",
       "      <td>MONDO:0004958</td>\n",
       "    </tr>\n",
       "    <tr>\n",
       "      <th>2</th>\n",
       "      <td>Cetuximab</td>\n",
       "      <td>DB00002</td>\n",
       "      <td>Squamous cell carcinoma of nose</td>\n",
       "      <td>C3163899</td>\n",
       "      <td>NaN</td>\n",
       "      <td>Approved</td>\n",
       "      <td>NaN</td>\n",
       "      <td>NaN</td>\n",
       "      <td>NaN</td>\n",
       "      <td>NaN</td>\n",
       "    </tr>\n",
       "    <tr>\n",
       "      <th>3</th>\n",
       "      <td>Cetuximab</td>\n",
       "      <td>DB00002</td>\n",
       "      <td>Squamous cell carcinoma of pharynx</td>\n",
       "      <td>C1319317</td>\n",
       "      <td>NaN</td>\n",
       "      <td>Approved</td>\n",
       "      <td>NaN</td>\n",
       "      <td>NaN</td>\n",
       "      <td>NaN</td>\n",
       "      <td>MONDO:0000536</td>\n",
       "    </tr>\n",
       "    <tr>\n",
       "      <th>4</th>\n",
       "      <td>Cetuximab</td>\n",
       "      <td>DB00002</td>\n",
       "      <td>Laryngeal Squamous Cell Carcinoma</td>\n",
       "      <td>C0280324</td>\n",
       "      <td>NaN</td>\n",
       "      <td>Approved</td>\n",
       "      <td>NaN</td>\n",
       "      <td>NaN</td>\n",
       "      <td>NaN</td>\n",
       "      <td>MONDO:0005595</td>\n",
       "    </tr>\n",
       "  </tbody>\n",
       "</table>\n",
       "</div>"
      ],
      "text/plain": [
       "   drug_name  drug_id                                          ind_name  \\\n",
       "0  Lepirudin  DB00001  Heparin-induced thrombocytopenia with thrombosis   \n",
       "1  Cetuximab  DB00002                  Squamous cell carcinoma of mouth   \n",
       "2  Cetuximab  DB00002                   Squamous cell carcinoma of nose   \n",
       "3  Cetuximab  DB00002                Squamous cell carcinoma of pharynx   \n",
       "4  Cetuximab  DB00002                 Laryngeal Squamous Cell Carcinoma   \n",
       "\n",
       "     ind_id  nct    status  phase  detailedstatus   drug_obo_id     ind_obo_id  \n",
       "0  C0272275  NaN  Approved    NaN             NaN  CHEBI:142437            NaN  \n",
       "1  C0585362  NaN  Approved    NaN             NaN           NaN  MONDO:0004958  \n",
       "2  C3163899  NaN  Approved    NaN             NaN           NaN            NaN  \n",
       "3  C1319317  NaN  Approved    NaN             NaN           NaN  MONDO:0000536  \n",
       "4  C0280324  NaN  Approved    NaN             NaN           NaN  MONDO:0005595  "
      ]
     },
     "execution_count": 17,
     "metadata": {},
     "output_type": "execute_result"
    }
   ],
   "source": [
    "## read in data\n",
    "repodb = pd.read_csv('../resources/processed_data/unprocessed_data/repodb_approved_mapped_20230804.tsv', sep='\\t')\n",
    "repodb.head()"
   ]
  },
  {
   "cell_type": "code",
   "execution_count": 18,
   "id": "62192c37",
   "metadata": {},
   "outputs": [
    {
     "name": "stdout",
     "output_type": "stream",
     "text": [
      "<class 'pandas.core.frame.DataFrame'>\n",
      "RangeIndex: 6677 entries, 0 to 6676\n",
      "Data columns (total 10 columns):\n",
      " #   Column          Non-Null Count  Dtype  \n",
      "---  ------          --------------  -----  \n",
      " 0   drug_name       6677 non-null   object \n",
      " 1   drug_id         6677 non-null   object \n",
      " 2   ind_name        6677 non-null   object \n",
      " 3   ind_id          6677 non-null   object \n",
      " 4   nct             0 non-null      float64\n",
      " 5   status          6677 non-null   object \n",
      " 6   phase           0 non-null      float64\n",
      " 7   detailedstatus  0 non-null      float64\n",
      " 8   drug_obo_id     6299 non-null   object \n",
      " 9   ind_obo_id      4296 non-null   object \n",
      "dtypes: float64(3), object(7)\n",
      "memory usage: 521.8+ KB\n"
     ]
    }
   ],
   "source": [
    "repodb.info()"
   ]
  },
  {
   "cell_type": "code",
   "execution_count": 20,
   "id": "f42f860f",
   "metadata": {},
   "outputs": [
    {
     "name": "stdout",
     "output_type": "stream",
     "text": [
      "<class 'pandas.core.frame.DataFrame'>\n",
      "Int64Index: 4017 entries, 7 to 6676\n",
      "Data columns (total 10 columns):\n",
      " #   Column          Non-Null Count  Dtype  \n",
      "---  ------          --------------  -----  \n",
      " 0   drug_name       4017 non-null   object \n",
      " 1   drug_id         4017 non-null   object \n",
      " 2   ind_name        4017 non-null   object \n",
      " 3   ind_id          4017 non-null   object \n",
      " 4   nct             0 non-null      float64\n",
      " 5   status          4017 non-null   object \n",
      " 6   phase           0 non-null      float64\n",
      " 7   detailedstatus  0 non-null      float64\n",
      " 8   drug_obo_id     4017 non-null   object \n",
      " 9   ind_obo_id      4017 non-null   object \n",
      "dtypes: float64(3), object(7)\n",
      "memory usage: 345.2+ KB\n"
     ]
    }
   ],
   "source": [
    "## drop rows where drug obo id and indication obo id is NA\n",
    "repodb = repodb.dropna(subset=['drug_obo_id', 'ind_obo_id'])\n",
    "repodb.info()"
   ]
  },
  {
   "cell_type": "code",
   "execution_count": 21,
   "id": "3a748ee8",
   "metadata": {},
   "outputs": [
    {
     "data": {
      "text/html": [
       "<div>\n",
       "<style scoped>\n",
       "    .dataframe tbody tr th:only-of-type {\n",
       "        vertical-align: middle;\n",
       "    }\n",
       "\n",
       "    .dataframe tbody tr th {\n",
       "        vertical-align: top;\n",
       "    }\n",
       "\n",
       "    .dataframe thead th {\n",
       "        text-align: right;\n",
       "    }\n",
       "</style>\n",
       "<table border=\"1\" class=\"dataframe\">\n",
       "  <thead>\n",
       "    <tr style=\"text-align: right;\">\n",
       "      <th></th>\n",
       "      <th>drug_obo_id</th>\n",
       "      <th>ind_obo_id</th>\n",
       "    </tr>\n",
       "  </thead>\n",
       "  <tbody>\n",
       "    <tr>\n",
       "      <th>0</th>\n",
       "      <td>CHEBI:4875</td>\n",
       "      <td>MONDO:0008383</td>\n",
       "    </tr>\n",
       "    <tr>\n",
       "      <th>1</th>\n",
       "      <td>CHEBI:4875</td>\n",
       "      <td>MONDO:0011849</td>\n",
       "    </tr>\n",
       "    <tr>\n",
       "      <th>2</th>\n",
       "      <td>CHEBI:6427</td>\n",
       "      <td>MONDO:0000088</td>\n",
       "    </tr>\n",
       "    <tr>\n",
       "      <th>3</th>\n",
       "      <td>CHEBI:9118</td>\n",
       "      <td>MONDO:0006909</td>\n",
       "    </tr>\n",
       "    <tr>\n",
       "      <th>4</th>\n",
       "      <td>CHEBI:3306</td>\n",
       "      <td>MONDO:0008159</td>\n",
       "    </tr>\n",
       "  </tbody>\n",
       "</table>\n",
       "</div>"
      ],
      "text/plain": [
       "  drug_obo_id     ind_obo_id\n",
       "0  CHEBI:4875  MONDO:0008383\n",
       "1  CHEBI:4875  MONDO:0011849\n",
       "2  CHEBI:6427  MONDO:0000088\n",
       "3  CHEBI:9118  MONDO:0006909\n",
       "4  CHEBI:3306  MONDO:0008159"
      ]
     },
     "execution_count": 21,
     "metadata": {},
     "output_type": "execute_result"
    }
   ],
   "source": [
    "repodb = repodb[['drug_obo_id', 'ind_obo_id']]\n",
    "repodb = repodb.reset_index(drop=True)\n",
    "repodb.head()"
   ]
  },
  {
   "cell_type": "code",
   "execution_count": 22,
   "id": "1b155ea9",
   "metadata": {},
   "outputs": [],
   "source": [
    "##relationship = treats\n",
    "##replace : with _\n",
    "def process(text):\n",
    "    text = text.replace(':', '_')\n",
    "    return text"
   ]
  },
  {
   "cell_type": "code",
   "execution_count": 23,
   "id": "cd207548",
   "metadata": {},
   "outputs": [
    {
     "data": {
      "text/html": [
       "<div>\n",
       "<style scoped>\n",
       "    .dataframe tbody tr th:only-of-type {\n",
       "        vertical-align: middle;\n",
       "    }\n",
       "\n",
       "    .dataframe tbody tr th {\n",
       "        vertical-align: top;\n",
       "    }\n",
       "\n",
       "    .dataframe thead th {\n",
       "        text-align: right;\n",
       "    }\n",
       "</style>\n",
       "<table border=\"1\" class=\"dataframe\">\n",
       "  <thead>\n",
       "    <tr style=\"text-align: right;\">\n",
       "      <th></th>\n",
       "      <th>drug_obo_id</th>\n",
       "      <th>ind_obo_id</th>\n",
       "    </tr>\n",
       "  </thead>\n",
       "  <tbody>\n",
       "    <tr>\n",
       "      <th>0</th>\n",
       "      <td>CHEBI_4875</td>\n",
       "      <td>MONDO:0008383</td>\n",
       "    </tr>\n",
       "    <tr>\n",
       "      <th>1</th>\n",
       "      <td>CHEBI_4875</td>\n",
       "      <td>MONDO:0011849</td>\n",
       "    </tr>\n",
       "    <tr>\n",
       "      <th>2</th>\n",
       "      <td>CHEBI_6427</td>\n",
       "      <td>MONDO:0000088</td>\n",
       "    </tr>\n",
       "    <tr>\n",
       "      <th>3</th>\n",
       "      <td>CHEBI_9118</td>\n",
       "      <td>MONDO:0006909</td>\n",
       "    </tr>\n",
       "    <tr>\n",
       "      <th>4</th>\n",
       "      <td>CHEBI_3306</td>\n",
       "      <td>MONDO:0008159</td>\n",
       "    </tr>\n",
       "  </tbody>\n",
       "</table>\n",
       "</div>"
      ],
      "text/plain": [
       "  drug_obo_id     ind_obo_id\n",
       "0  CHEBI_4875  MONDO:0008383\n",
       "1  CHEBI_4875  MONDO:0011849\n",
       "2  CHEBI_6427  MONDO:0000088\n",
       "3  CHEBI_9118  MONDO:0006909\n",
       "4  CHEBI_3306  MONDO:0008159"
      ]
     },
     "execution_count": 23,
     "metadata": {},
     "output_type": "execute_result"
    }
   ],
   "source": [
    "repodb['drug_obo_id'] = repodb['drug_obo_id'].apply(process)\n",
    "repodb.head()"
   ]
  },
  {
   "cell_type": "code",
   "execution_count": 24,
   "id": "c32c92ef",
   "metadata": {},
   "outputs": [],
   "source": [
    "repodb['ind_obo_id'] = repodb['ind_obo_id'].apply(process)\n"
   ]
  },
  {
   "cell_type": "code",
   "execution_count": 25,
   "id": "6374a4c2",
   "metadata": {},
   "outputs": [
    {
     "name": "stdout",
     "output_type": "stream",
     "text": [
      "<class 'pandas.core.frame.DataFrame'>\n",
      "Int64Index: 3996 entries, 0 to 4016\n",
      "Data columns (total 2 columns):\n",
      " #   Column       Non-Null Count  Dtype \n",
      "---  ------       --------------  ----- \n",
      " 0   drug_obo_id  3996 non-null   object\n",
      " 1   ind_obo_id   3996 non-null   object\n",
      "dtypes: object(2)\n",
      "memory usage: 93.7+ KB\n"
     ]
    }
   ],
   "source": [
    "repodb = repodb.drop_duplicates()\n",
    "repodb.info()"
   ]
  },
  {
   "cell_type": "code",
   "execution_count": null,
   "id": "46279fdc",
   "metadata": {},
   "outputs": [],
   "source": [
    "repodb.to_csv(processed_data_loc+'CHEMICAL_INDICATION.tsv', sep='\\t', index=False)"
   ]
  },
  {
   "attachments": {},
   "cell_type": "markdown",
   "id": "95f9ca63",
   "metadata": {},
   "source": [
    "### MEDLINE"
   ]
  },
  {
   "cell_type": "code",
   "execution_count": null,
   "id": "97e4dc74",
   "metadata": {},
   "outputs": [],
   "source": [
    "#TO DO"
   ]
  },
  {
   "attachments": {},
   "cell_type": "markdown",
   "id": "dc078a64",
   "metadata": {},
   "source": [
    "### SPLICER"
   ]
  },
  {
   "cell_type": "code",
   "execution_count": null,
   "id": "dcd43e8a",
   "metadata": {},
   "outputs": [],
   "source": [
    "#TO DO"
   ]
  }
 ],
 "metadata": {
  "kernelspec": {
   "display_name": "Python 3",
   "language": "python",
   "name": "python3"
  },
  "language_info": {
   "codemirror_mode": {
    "name": "ipython",
    "version": 3
   },
   "file_extension": ".py",
   "mimetype": "text/x-python",
   "name": "python",
   "nbconvert_exporter": "python",
   "pygments_lexer": "ipython3",
   "version": "3.8.0"
  }
 },
 "nbformat": 4,
 "nbformat_minor": 5
}
