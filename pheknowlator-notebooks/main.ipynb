{
 "cells": [
  {
   "cell_type": "markdown",
   "metadata": {},
   "source": [
    "_____\n",
    "***\n",
    "\n",
    "<img width='700' src=\"https://user-images.githubusercontent.com/8030363/108961534-b9a66980-7634-11eb-96e2-cc46589dcb8c.png\" style=\"vertical-align:middle\">\n",
    "\n",
    "***\n",
    "***\n",
    "\n",
    "**Author:** [TJCallahan](https://mail.google.com/mail/u/0/?view=cm&fs=1&tf=1&to=callahantiff@gmail.com)  \n",
    "**GitHub Repository:** [PheKnowLator](https://github.com/callahantiff/PheKnowLator/wiki)  \n",
    "**Current Release:** **[`v2.0.0`](https://github.com/callahantiff/PheKnowLator/wiki/v2.0.0)**\n",
    "\n",
    "<br>\n",
    "\n",
    "**Objective:** Knowledge graphs provide meaningful ways to integrate heterogeneous biological data and represent complex biological mechanisms. This work seeks to explore the utility of incorporating existing knowledge of molecular mechanism from ontologies, publicly available data, and the literature to construct a biomedical knowledge graph that models unbiased molecular mechanisms of human disease.\n",
    "\n",
    "<a target=\"_blank\" href=\"https://user-images.githubusercontent.com/8030363/103158881-11813b00-4780-11eb-8b45-5063765e7645.png\"> <img src=\"https://user-images.githubusercontent.com/8030363/103158881-11813b00-4780-11eb-8b45-5063765e7645.png\"></a> \n",
    "\n",
    "(*Click Figure to Enlarge Image in Current Browser Tab*)\n",
    "\n",
    "<br>\n",
    "\n",
    "***\n",
    "***"
   ]
  },
  {
   "cell_type": "markdown",
   "metadata": {},
   "source": [
    "## Notebook Purpose\n",
    "**Wiki Page:** **[`Release v2.0.0`](https://github.com/callahantiff/PheKnowLator/wiki/v2.0.0)**\n",
    "\n",
    "<br>\n",
    "\n",
    "**Purpose:** This notebook serves as a `main` file for the PheKnowLator project. This scripts walks through this program step-by-step and generates the knowledge graph shown above. There is also a command line version of this file ([`main.py`](https://github.com/callahantiff/PheKnowLator/blob/master/main.py)). Please see the [README](https://github.com/callahantiff/PheKnowLator/blob/master/README.md) for more information.\n",
    "\n",
    "<br>\n",
    "\n",
    "**Assumptions:**\n",
    "1. Hyperlinks to all downloaded and generated data sources are provided through [this](https://console.cloud.google.com/storage/browser/pheknowlator/release_v2.0.0?project=pheknowlator) dedicated Google Cloud Storage Bucket. <u>This includes examples, from prior builds, of the required input documents mentioned below</u>.     \n",
    "2. Make sure that the following input documents have been constructed (see the [Dependencies Wiki](https://github.com/callahantiff/PheKnowLator/wiki/Dependencies) for more information):  \n",
    "  - [`resource_info.txt`](https://github.com/callahantiff/PheKnowLator/blob/master/resources/resource_info.txt)\n",
    "  - [`ontology_source_list.txt`](https://github.com/callahantiff/PheKnowLator/blob/master/resources/ontology_source_list.txt)\n",
    "  - [`edge_source_list.txt`](https://github.com/callahantiff/PheKnowLator/blob/master/resources/edge_source_list.txt)   \n",
    "\n",
    "3. Prepare [relations](https://github.com/callahantiff/PheKnowLator/wiki/Dependencies#relations-data) and [node metadata](https://github.com/callahantiff/PheKnowLator/wiki/Dependencies#node-metadata) files prior to running the scripts.  \n",
    "\n",
    "4. Select a knowledge graph build type (i.e. `full`, `partial`, or `post-closure`) and construction method (i.e. `instance-based` or `subclass-based`).  \n",
    "\n",
    "<br>\n",
    "\n",
    "***\n",
    "### Table of Contents\n",
    "***\n",
    "The three primary steps involved in building a knowledge graph are `Downloading Data Sources`, `Creating Edge Lists`, and `Building the knowledge graphs`.\n",
    "\n",
    "* [Data Sources](#data-source)  \n",
    "* [Create Edge Lists](#create-edges)  \n",
    "* [Build Knowledge Graph](#build-kg)  \n",
    "\n",
    "***\n",
    "\n",
    "***"
   ]
  },
  {
   "cell_type": "markdown",
   "metadata": {
    "collapsed": true,
    "pycharm": {
     "is_executing": false
    }
   },
   "source": [
    "_____\n",
    "### Set-Up Environment"
   ]
  },
  {
   "cell_type": "code",
   "execution_count": 1,
   "metadata": {},
   "outputs": [],
   "source": [
    "# import needed libraries\n",
    "import glob\n",
    "import json\n",
    "import pandas\n",
    "import ray\n",
    "import time\n",
    "\n",
    "# import module\n",
    "from pkt_kg import downloads, edge_list, knowledge_graph"
   ]
  },
  {
   "cell_type": "markdown",
   "metadata": {},
   "source": [
    "***\n",
    "## Download Data Sources <a class=\"anchor\" id=\"data-source\"></a>\n",
    "\n",
    "**Wiki Page:** **[`Dependencies`](https://github.com/callahantiff/PheKnowLator/wiki/Dependencies)**  \n",
    "\n",
    "**Purpose:**\n",
    "This portion of this portion of the algorithm is to download:\n",
    "1. [Download Ontology Data](#download-ontology-data)  \n",
    "2. [Download Edge Data](#download-edge-data)   \n",
    "\n",
    "<br>\n",
    "\n",
    "**Input Files:**\n",
    "  - [`resource_info.txt`](https://github.com/callahantiff/PheKnowLator/blob/master/resources/resource_info.txt)\n",
    "  - [`ontology_source_list.txt`](https://github.com/callahantiff/PheKnowLator/blob/master/resources/ontology_source_list.txt)\n",
    "  - [`edge_source_list.txt`](https://github.com/callahantiff/PheKnowLator/blob/master/resources/edge_source_list.txt)\n",
    "\n",
    "<br>\n",
    "\n",
    "**Assumptions:**  \n",
    "- All sources used to construct our knowledge graph need to be preprocessed and ready to download prior to running this code. All mapping, filtering, and label data have been generated prior to this step. For assistance with creating these datasets, see the [`Data_Preparation.ipynb`](https://github.com/callahantiff/PheKnowLator/blob/master/notebooks/Data_Preparation.ipynb) Jupyter Notebook.  \n",
    "- All downloaded and generated data sources for all PheKnowLator builds can be accessed through [this](https://console.cloud.google.com/storage/browser/pheknowlator/release_v2.0.0?project=pheknowlator) dedicated Google Cloud Storage Bucket.\n"
   ]
  },
  {
   "cell_type": "markdown",
   "metadata": {},
   "source": [
    "***\n",
    "***\n",
    "### Ontology Data  <a class=\"anchor\" id=\"download-ontology-data\"></a>\n",
    "Ontologies are the core data structure used when building PheKnowLator. In the figure above, ontology data are shown in yellow boxes."
   ]
  },
  {
   "cell_type": "code",
   "execution_count": 2,
   "metadata": {},
   "outputs": [],
   "source": [
    "from pkt_kg.downloads import OntData, LinkedData\n",
    "from pkt_kg.edge_list import CreatesEdgeList\n",
    "from pkt_kg.knowledge_graph import FullBuild, PartialBuild, PostClosureBuild"
   ]
  },
  {
   "cell_type": "code",
   "execution_count": 3,
   "metadata": {},
   "outputs": [],
   "source": [
    "ont = OntData('resources/ontology_source_list.txt', 'resources/resource_info.txt')\n",
    "#ont.writes_source_metadata_locally()"
   ]
  },
  {
   "cell_type": "code",
   "execution_count": 4,
   "metadata": {},
   "outputs": [],
   "source": [
    "ont.parses_resource_file()"
   ]
  },
  {
   "cell_type": "code",
   "execution_count": 5,
   "metadata": {},
   "outputs": [
    {
     "data": {
      "text/plain": [
       "{'disease': 'resources/ontologies/mondo_with_imports.owl',\n",
       " 'napdichem': 'resources/ontologies/chebi_lite_merged_with_imports.owl',\n",
       " 'protein': 'resources/ontologies/pr_with_imports.owl',\n",
       " 'pathway': 'resources/ontologies/pw_with_imports.owl',\n",
       " 'relation': 'resources/ontologies/ro_with_imports.owl',\n",
       " 'go': 'resources/ontologies/go_with_imports.owl',\n",
       " 'chemical': 'resources/ontologies/chebi_with_imports.owl',\n",
       " 'phenotype': 'resources/ontologies/hp_with_imports.owl',\n",
       " 'anatomy': 'resources/ontologies/uberon_with_imports.owl',\n",
       " 'cell': 'resources/ontologies/clo_with_imports.owl',\n",
       " 'genomic': 'resources/ontologies/so_with_imports.owl',\n",
       " 'oae': 'resources/ontologies/oae_merged_with_imports.owl',\n",
       " 'plant': 'resources/ontologies/po_with_imports.owl',\n",
       " 'dideo': 'resources/ontologies/dideo_with_imports.owl'}"
      ]
     },
     "execution_count": 5,
     "metadata": {},
     "output_type": "execute_result"
    }
   ],
   "source": [
    "ont.source_list"
   ]
  },
  {
   "cell_type": "code",
   "execution_count": 6,
   "metadata": {},
   "outputs": [
    {
     "name": "stdout",
     "output_type": "stream",
     "text": [
      "\n",
      "*** Generating Metadata ***\n",
      "\n"
     ]
    },
    {
     "name": "stderr",
     "output_type": "stream",
     "text": [
      "100%|██████████| 14/14 [00:00<00:00, 15335.66it/s]\n",
      "100%|██████████| 14/14 [00:00<00:00, 36314.32it/s]\n"
     ]
    }
   ],
   "source": [
    "ont.data_files = ont.source_list\n",
    "ont.generates_source_metadata()"
   ]
  },
  {
   "cell_type": "code",
   "execution_count": 7,
   "metadata": {},
   "outputs": [
    {
     "name": "stderr",
     "output_type": "stream",
     "text": [
      "100%|██████████| 14/14 [00:00<00:00, 27988.68it/s]\n"
     ]
    }
   ],
   "source": [
    "ont._writes_source_metadata_locally()"
   ]
  },
  {
   "cell_type": "code",
   "execution_count": 8,
   "metadata": {},
   "outputs": [
    {
     "data": {
      "text/plain": [
       "['chemical-diseasetherapeutic|:;MESH_;|class-class|RO_0002606|http://purl.obolibrary.org/obo/|http://purl.obolibrary.org/obo/|t|1;4|0:./resources/processed_data/MESH_CHEBI_MAP.txt;1:./resources/processed_data/DISEASE_MONDO_MAP.txt|5;==;therapeutic|None',\n",
       " 'chemical-disease|:;MESH_;|class-class|RO_0002610|http://purl.obolibrary.org/obo/|http://purl.obolibrary.org/obo/|t|1;4|0:./resources/processed_data/MESH_CHEBI_MAP.txt;1:./resources/processed_data/DISEASE_MONDO_MAP.txt|5;==;marker/mechanism|None',\n",
       " \"chemical-gene|;MESH_;|class-entity|RO_0002434|http://purl.obolibrary.org/obo/|http://www.ncbi.nlm.nih.gov/gene/|t|1;4|0:./resources/processed_data/MESH_CHEBI_MAP.txt|9;affects;not in x|6;==;Homo sapiens::5;.startswith('gene');\",\n",
       " 'chemical-gobp|:;MESH_;GO_|class-class|RO_0002436|http://purl.obolibrary.org/obo/|http://purl.obolibrary.org/obo/|t|1;5|0:./resources/processed_data/MESH_CHEBI_MAP.txt|8;<=;1.04e-47|3;==;Biological Process',\n",
       " 'chemical-gocc|:;MESH_;GO_|class-class|RO_0002436|http://purl.obolibrary.org/obo/|http://purl.obolibrary.org/obo/|t|1;5|0:./resources/processed_data/MESH_CHEBI_MAP.txt|8;<=;1.04e-47|3;==;Cellular Component',\n",
       " 'chemical-gomf|:;MESH_;GO_|class-class|RO_0002436|http://purl.obolibrary.org/obo/|http://purl.obolibrary.org/obo/|t|1;5|0:./resources/processed_data/MESH_CHEBI_MAP.txt|8;<=;1.04e-47|3;==;Molecular Function',\n",
       " 'chemical-pathway|;CHEBI_;|class-entity|RO_0000056|http://purl.obolibrary.org/obo/|https://reactome.org/content/detail/|t|0;1|None|None|5;==;Homo sapiens',\n",
       " 'chemical-phenotypetherapeutic|:;MESH_;|class-class|RO_0002606|http://purl.obolibrary.org/obo/|http://purl.obolibrary.org/obo/|t|1;4|0:./resources/processed_data/MESH_CHEBI_MAP.txt;1:./resources/processed_data/PHENOTYPE_HPO_MAP.txt|5;==;therapeutic|None',\n",
       " 'chemical-phenotype|:;MESH_;|class-class|RO_0002610|http://purl.obolibrary.org/obo/|http://purl.obolibrary.org/obo/|t|1;4|0:./resources/processed_data/MESH_CHEBI_MAP.txt;1:./resources/processed_data/PHENOTYPE_HPO_MAP.txt|5;==;marker/mechanism|None',\n",
       " \"chemical-protein|;MESH_;|class-class|RO_0002434|http://purl.obolibrary.org/obo/|http://purl.obolibrary.org/obo/|t|1;4|0:./resources/processed_data/MESH_CHEBI_MAP.txt;1:./resources/processed_data/ENTREZ_GENE_PRO_ONTOLOGY_MAP.txt|9;affects;not in x|6;==;Homo sapiens::5;.startswith('protein');\",\n",
       " 'disease-phenotype|:;;HP_|class-class|RO_0002200|http://purl.obolibrary.org/obo/|http://purl.obolibrary.org/obo/|t|0;3|0:./resources/processed_data/DISEASE_MONDO_MAP.txt|None|None|None',\n",
       " 'gene-disease|;;|entity-class|RO_0003302|http://www.ncbi.nlm.nih.gov/gene/|http://purl.obolibrary.org/obo/|t|0;4|1:./resources/processed_data/DISEASE_MONDO_MAP.txt|10;>=;1.0|None',\n",
       " 'gene-gene|;;|entity-entity|RO_0002435|http://www.ncbi.nlm.nih.gov/gene/|http://www.ncbi.nlm.nih.gov/gene/|t|0;1|0:./resources/processed_data/ENSEMBL_GENE_ENTREZ_GENE_MAP.txt;1:./resources/processed_data/ENSEMBL_GENE_ENTREZ_GENE_MAP.txt|None|None',\n",
       " \"gene-pathway|:;;|entity-entity|RO_0000056|http://www.ncbi.nlm.nih.gov/gene/|https://reactome.org/content/detail/|t|1;3|None|None|3;.startswith('REACT:R-HSA-');\",\n",
       " 'gene-phenotype|;;|entity-class|RO_0003302|http://www.ncbi.nlm.nih.gov/gene/|http://purl.obolibrary.org/obo/|t|0;4|1:./resources/processed_data/PHENOTYPE_HPO_MAP.txt|10;>=;1.0|None',\n",
       " 'gene-protein|;;|entity-class|RO_0002205|http://www.ncbi.nlm.nih.gov/gene/|http://purl.obolibrary.org/obo/|t|0;1|None|None|4;==;protein-coding',\n",
       " 'gene-rna|;;|entity-entity|RO_0002511|http://www.ncbi.nlm.nih.gov/gene/|https://uswest.ensembl.org/Homo_sapiens/Transcript/Summary?t=|t|0;1|None|None|None',\n",
       " \"gobp-pathway|:;GO_;|class-entity|RO_0009501|http://purl.obolibrary.org/obo/|https://reactome.org/content/detail/|t|4;5|None|None|8;==;P::12;==;taxon:9606::5;.startswith('REACTOME');\",\n",
       " \"pathway-gocc|:;;GO_|entity-class|RO_0002180|https://reactome.org/content/detail/|http://purl.obolibrary.org/obo/|t|5;4|None|None|8;==;C::12;==;taxon:9606::5;.startswith('REACTOME');\",\n",
       " \"pathway-gomf|:;;GO_|entity-class|RO_0000085|https://reactome.org/content/detail/|http://purl.obolibrary.org/obo/|t|5;4|None|None|8;==;F::12;==;taxon:9606::5;.startswith('REACTOME');\",\n",
       " 'protein-anatomy|;;|class-class|RO_0001025|http://purl.obolibrary.org/obo/|http://purl.obolibrary.org/obo/|t|2;5|0:./resources/processed_data/UNIPROT_ACCESSION_PRO_ONTOLOGY_MAP.txt;1:./resources/processed_data/HPA_GTEx_TISSUE_CELL_MAP.txt|None|3;==;Evidence at protein level::4;==;anatomy',\n",
       " 'protein-catalyst|;;|class-class|RO_0002436|http://purl.obolibrary.org/obo/|http://purl.obolibrary.org/obo/|t|0;1|None|None|None|None',\n",
       " 'protein-cell|;;|class-class|RO_0001025|http://purl.obolibrary.org/obo/|http://purl.obolibrary.org/obo/|t|2;5|0:./resources/processed_data/UNIPROT_ACCESSION_PRO_ONTOLOGY_MAP.txt;1:./resources/processed_data/HPA_GTEx_TISSUE_CELL_MAP.txt|None|3;==;Evidence at protein level::4;==;cell line',\n",
       " 'protein-cofactor|;;|class-class|RO_0002436|http://purl.obolibrary.org/obo/|http://purl.obolibrary.org/obo/|t|0;1|None|None|None|None',\n",
       " 'protein-gobp|:;;GO_|class-class|RO_0000056|http://purl.obolibrary.org/obo/|http://purl.obolibrary.org/obo/|t|1;4|0:./resources/processed_data/UNIPROT_ACCESSION_PRO_ONTOLOGY_MAP.txt|None|8;==;P::12;==;taxon:9606',\n",
       " 'protein-gocc|:;;GO_|class-class|RO_0001025|http://purl.obolibrary.org/obo/|http://purl.obolibrary.org/obo/|t|1;4|0:./resources/processed_data/UNIPROT_ACCESSION_PRO_ONTOLOGY_MAP.txt|None|8;==;C::12;==;taxon:9606',\n",
       " 'protein-gomf|:;;GO_|class-class|RO_0000085|http://purl.obolibrary.org/obo/|http://purl.obolibrary.org/obo/|t|1;4|0:./resources/processed_data/UNIPROT_ACCESSION_PRO_ONTOLOGY_MAP.txt|None|8;==;F::12;==;taxon:9606',\n",
       " 'protein-pathway|;;|class-entity|RO_0000056|http://purl.obolibrary.org/obo/|https://reactome.org/content/detail/|t|0;1|0:./resources/processed_data/UNIPROT_ACCESSION_PRO_ONTOLOGY_MAP.txt|None|5;==;Homo sapiens',\n",
       " \"protein-protein|9606.;;|class-class|RO_0002436|http://purl.obolibrary.org/obo/|http://purl.obolibrary.org/obo/|''|0;1|0:./resources/processed_data/STRING_PRO_ONTOLOGY_MAP.txt;1:./resources/processed_data/STRING_PRO_ONTOLOGY_MAP.txt|2;>=;700|None\",\n",
       " 'rna-anatomy|;;|entity-class|RO_0001025|https://uswest.ensembl.org/Homo_sapiens/Transcript/Summary?t=|http://purl.obolibrary.org/obo/|t|1;5|0:./resources/processed_data/GENE_SYMBOL_ENSEMBL_TRANSCRIPT_MAP.txt;1:./resources/processed_data/HPA_GTEx_TISSUE_CELL_MAP.txt|None|3;==;Evidence at transcript level::4;==;anatomy',\n",
       " 'rna-cell|;;|entity-class|RO_0001025|https://uswest.ensembl.org/Homo_sapiens/Transcript/Summary?t=|http://purl.obolibrary.org/obo/|t|1;5|0:./resources/processed_data/GENE_SYMBOL_ENSEMBL_TRANSCRIPT_MAP.txt;1:./resources/processed_data/HPA_GTEx_TISSUE_CELL_MAP.txt|None|3;==;Evidence at transcript level::4;==;cell line',\n",
       " 'rna-protein|;;|entity-class|RO_0002513|https://uswest.ensembl.org/Homo_sapiens/Transcript/Summary?t=|http://purl.obolibrary.org/obo/|t|0;1|None|None|4;==;protein-coding',\n",
       " 'variant-disease|:;rs;|entity-class|RO_0003302|https://www.ncbi.nlm.nih.gov/snp/|http://purl.obolibrary.org/obo/|t|9;12|1:./resources/processed_data/DISEASE_MONDO_MAP.txt|24;in;[\"criteria provided, multiple submitters, no conflicts\", \"reviewed by expert panel\", \"practice guideline\"]::7;==;1|9;!=;-1::16;==;GRCh38::8-9;dedup;desc',\n",
       " 'variant-gene|;rs;|entity-entity|RO_0002566|https://www.ncbi.nlm.nih.gov/snp/|http://www.ncbi.nlm.nih.gov/gene/|t|9;3|None|24;in;[\"criteria provided, multiple submitters, no conflicts\", \"reviewed by expert panel\", \"practice guideline\"]|9;!=;-1::3;!=;-1::16;==;GRCh38::8-9;dedup;desc',\n",
       " 'variant-phenotype|:;rs;|entity-class|RO_0003302|https://www.ncbi.nlm.nih.gov/snp/|http://purl.obolibrary.org/obo/|t|9;12|1:./resources/processed_data/PHENOTYPE_HPO_MAP.txt|24;in;[\"criteria provided, multiple submitters, no conflicts\", \"reviewed by expert panel\", \"practice guideline\"]::7;==;1|9;!=;-1::16;==;GRCh38::8-9;dedup;desc',\n",
       " 'chemical-inhibitor|;;|class-class|RO_0002449|http://purl.obolibrary.org/obo/|http://purl.obolibrary.org/obo/|t|0;1|None|None|None|None',\n",
       " 'chemical-molecule|;;|class-class|RO_0002436|http://purl.obolibrary.org/obo/|http://purl.obolibrary.org/obo/|t|0;1|None|None|None|None',\n",
       " 'transporter-chemical|;;|class-class|RO_0002020|http://purl.obolibrary.org/obo/|http://purl.obolibrary.org/obo/|t|1;0|None|None|None|None',\n",
       " 'chemical-substrate|;;|class-class|DIDEO_00000041|http://purl.obolibrary.org/obo/|http://purl.obolibrary.org/obo/|t|0;1|None|None|None|None',\n",
       " 'chemical-indication|;;|class-class|RO_0002610|http://purl.obolibrary.org/obo/|http://purl.obolibrary.org/obo/|t|0;1|None|None|None|None']"
      ]
     },
     "execution_count": 8,
     "metadata": {},
     "output_type": "execute_result"
    }
   ],
   "source": [
    "ont.resource_info"
   ]
  },
  {
   "cell_type": "markdown",
   "metadata": {},
   "source": [
    "<br>\n",
    "\n",
    "### Edge Data   <a class=\"anchor\" id=\"download-edge-data\"></a>\n",
    "In PheKnowLator, classes are nodes that originate from ontologies. Class data sources are Linked Data sources that are used to create edges in the knowledge graph and thus can connect to other class data sources. Sometimes we want to add data that is not already part of an ontology. In that case, data either be added as an `instance` of an existing ontology class or as its own `owl:class` by being added to the knowledge graph as a `subclass` of an existing `owl:class`."
   ]
  },
  {
   "cell_type": "code",
   "execution_count": 19,
   "metadata": {},
   "outputs": [
    {
     "name": "stdout",
     "output_type": "stream",
     "text": [
      "\n",
      "*** Downloading Data: edge_source_list_TC to \"resources/edge_data/\" ***\n",
      "\n"
     ]
    },
    {
     "name": "stderr",
     "output_type": "stream",
     "text": [
      "  0%|          | 0/33 [00:00<?, ?it/s]"
     ]
    },
    {
     "name": "stdout",
     "output_type": "stream",
     "text": [
      "\n",
      "Edge: chemical-disease\n",
      "Downloading Data from https://storage.googleapis.com/pheknowlator/current_build/data/original_data/CTD_chemicals_diseases.tsv\n"
     ]
    },
    {
     "name": "stderr",
     "output_type": "stream",
     "text": [
      "  3%|▎         | 1/33 [00:10<05:34, 10.46s/it]"
     ]
    },
    {
     "name": "stdout",
     "output_type": "stream",
     "text": [
      "\n",
      "Edge: chemical-gene\n",
      "Downloading Data from https://storage.googleapis.com/pheknowlator/current_build/data/original_data/CTD_chem_gene_ixns.tsv\n"
     ]
    },
    {
     "name": "stderr",
     "output_type": "stream",
     "text": [
      "  6%|▌         | 2/33 [00:17<04:19,  8.39s/it]"
     ]
    },
    {
     "name": "stdout",
     "output_type": "stream",
     "text": [
      "\n",
      "Edge: chemical-gobp\n",
      "Downloading Data from https://storage.googleapis.com/pheknowlator/current_build/data/original_data/CTD_chem_go_enriched.tsv\n"
     ]
    },
    {
     "name": "stderr",
     "output_type": "stream",
     "text": [
      "  9%|▉         | 3/33 [00:28<04:53,  9.80s/it]"
     ]
    },
    {
     "name": "stdout",
     "output_type": "stream",
     "text": [
      "\n",
      "Edge: chemical-gocc\n"
     ]
    },
    {
     "name": "stderr",
     "output_type": "stream",
     "text": [
      " 12%|█▏        | 4/33 [00:30<03:07,  6.47s/it]"
     ]
    },
    {
     "name": "stdout",
     "output_type": "stream",
     "text": [
      "\n",
      "Edge: chemical-gomf\n"
     ]
    },
    {
     "name": "stderr",
     "output_type": "stream",
     "text": [
      " 15%|█▌        | 5/33 [00:31<02:09,  4.64s/it]"
     ]
    },
    {
     "name": "stdout",
     "output_type": "stream",
     "text": [
      "\n",
      "Edge: chemical-pathway\n",
      "Downloading Data from https://storage.googleapis.com/pheknowlator/current_build/data/original_data/ChEBI2Reactome_All_Levels.txt\n"
     ]
    },
    {
     "name": "stderr",
     "output_type": "stream",
     "text": [
      " 18%|█▊        | 6/33 [00:32<01:30,  3.35s/it]"
     ]
    },
    {
     "name": "stdout",
     "output_type": "stream",
     "text": [
      "\n",
      "Edge: chemical-phenotype\n"
     ]
    },
    {
     "name": "stderr",
     "output_type": "stream",
     "text": [
      " 21%|██        | 7/33 [00:33<01:09,  2.66s/it]"
     ]
    },
    {
     "name": "stdout",
     "output_type": "stream",
     "text": [
      "\n",
      "Edge: chemical-protein\n"
     ]
    },
    {
     "name": "stderr",
     "output_type": "stream",
     "text": [
      " 24%|██▍       | 8/33 [00:34<00:51,  2.05s/it]"
     ]
    },
    {
     "name": "stdout",
     "output_type": "stream",
     "text": [
      "\n",
      "Edge: disease-phenotype\n",
      "Downloading Data from https://storage.googleapis.com/pheknowlator/current_build/data/original_data/phenotype.hpoa\n"
     ]
    },
    {
     "name": "stderr",
     "output_type": "stream",
     "text": [
      " 27%|██▋       | 9/33 [00:35<00:38,  1.62s/it]"
     ]
    },
    {
     "name": "stdout",
     "output_type": "stream",
     "text": [
      "\n",
      "Edge: gene-disease\n",
      "Downloading Data from https://storage.googleapis.com/pheknowlator/current_build/data/original_data/curated_gene_disease_associations.tsv\n"
     ]
    },
    {
     "name": "stderr",
     "output_type": "stream",
     "text": [
      " 30%|███       | 10/33 [00:35<00:28,  1.23s/it]"
     ]
    },
    {
     "name": "stdout",
     "output_type": "stream",
     "text": [
      "\n",
      "Edge: gene-gene\n",
      "Downloading Data from https://storage.googleapis.com/pheknowlator/current_build/data/original_data/COMBINED.DEFAULT_NETWORKS.BP_COMBINING.txt\n"
     ]
    },
    {
     "name": "stderr",
     "output_type": "stream",
     "text": [
      " 33%|███▎      | 11/33 [00:40<00:51,  2.33s/it]"
     ]
    },
    {
     "name": "stdout",
     "output_type": "stream",
     "text": [
      "\n",
      "Edge: gene-pathway\n",
      "Downloading Data from https://storage.googleapis.com/pheknowlator/current_build/data/original_data/CTD_genes_pathways.tsv\n"
     ]
    },
    {
     "name": "stderr",
     "output_type": "stream",
     "text": [
      " 36%|███▋      | 12/33 [00:40<00:36,  1.75s/it]"
     ]
    },
    {
     "name": "stdout",
     "output_type": "stream",
     "text": [
      "\n",
      "Edge: gene-phenotype\n",
      "\n",
      "Edge: gene-protein\n",
      "Downloading Data from https://storage.googleapis.com/pheknowlator/current_build/data/processed_data/ENTREZ_GENE_PRO_ONTOLOGY_MAP.txt\n"
     ]
    },
    {
     "name": "stderr",
     "output_type": "stream",
     "text": [
      " 42%|████▏     | 14/33 [00:40<00:18,  1.02it/s]"
     ]
    },
    {
     "name": "stdout",
     "output_type": "stream",
     "text": [
      "\n",
      "Edge: gene-rna\n",
      "Downloading Data from https://storage.googleapis.com/pheknowlator/current_build/data/processed_data/ENTREZ_GENE_ENSEMBL_TRANSCRIPT_MAP.txt\n"
     ]
    },
    {
     "name": "stderr",
     "output_type": "stream",
     "text": [
      " 45%|████▌     | 15/33 [00:41<00:15,  1.17it/s]"
     ]
    },
    {
     "name": "stdout",
     "output_type": "stream",
     "text": [
      "\n",
      "Edge: gobp-pathway\n",
      "Downloading Data from https://storage.googleapis.com/pheknowlator/current_build/data/original_data/gene_association.reactome\n"
     ]
    },
    {
     "name": "stderr",
     "output_type": "stream",
     "text": [
      " 48%|████▊     | 16/33 [00:41<00:12,  1.38it/s]"
     ]
    },
    {
     "name": "stdout",
     "output_type": "stream",
     "text": [
      "\n",
      "Edge: pathway-gocc\n",
      "\n",
      "Edge: pathway-gomf\n",
      "\n",
      "Edge: protein-anatomy\n",
      "Downloading Data from https://storage.googleapis.com/pheknowlator/current_build/data/processed_data/HPA_GTEX_RNA_GENE_PROTEIN_EDGES.txt\n"
     ]
    },
    {
     "name": "stderr",
     "output_type": "stream",
     "text": [
      " 58%|█████▊    | 19/33 [00:42<00:06,  2.31it/s]"
     ]
    },
    {
     "name": "stdout",
     "output_type": "stream",
     "text": [
      "\n",
      "Edge: protein-catalyst\n",
      "Downloading Data from https://storage.googleapis.com/pheknowlator/current_build/data/processed_data/UNIPROT_PROTEIN_CATALYST.txt\n"
     ]
    },
    {
     "name": "stderr",
     "output_type": "stream",
     "text": [
      " 61%|██████    | 20/33 [00:42<00:05,  2.56it/s]"
     ]
    },
    {
     "name": "stdout",
     "output_type": "stream",
     "text": [
      "\n",
      "Edge: protein-cell\n",
      "\n",
      "Edge: protein-cofactor\n",
      "Downloading Data from https://storage.googleapis.com/pheknowlator/current_build/data/processed_data/UNIPROT_PROTEIN_COFACTOR.txt\n"
     ]
    },
    {
     "name": "stderr",
     "output_type": "stream",
     "text": [
      " 67%|██████▋   | 22/33 [00:42<00:03,  3.47it/s]"
     ]
    },
    {
     "name": "stdout",
     "output_type": "stream",
     "text": [
      "\n",
      "Edge: protein-gobp\n",
      "Downloading Data from https://storage.googleapis.com/pheknowlator/current_build/data/original_data/goa_human.gaf\n"
     ]
    },
    {
     "name": "stderr",
     "output_type": "stream",
     "text": [
      " 73%|███████▎  | 24/33 [00:45<00:05,  1.75it/s]"
     ]
    },
    {
     "name": "stdout",
     "output_type": "stream",
     "text": [
      "\n",
      "Edge: protein-gocc\n",
      "\n",
      "Edge: protein-gomf\n"
     ]
    },
    {
     "name": "stderr",
     "output_type": "stream",
     "text": [
      " 76%|███████▌  | 25/33 [00:45<00:03,  2.07it/s]"
     ]
    },
    {
     "name": "stdout",
     "output_type": "stream",
     "text": [
      "\n",
      "Edge: protein-pathway\n",
      "Downloading Data from https://storage.googleapis.com/pheknowlator/current_build/data/original_data/UniProt2Reactome_All_Levels.txt\n"
     ]
    },
    {
     "name": "stderr",
     "output_type": "stream",
     "text": [
      " 79%|███████▉  | 26/33 [00:46<00:05,  1.40it/s]"
     ]
    },
    {
     "name": "stdout",
     "output_type": "stream",
     "text": [
      "\n",
      "Edge: protein-protein\n",
      "Downloading Data from https://storage.googleapis.com/pheknowlator/current_build/data/original_data/9606.protein.links.v11.0.txt\n"
     ]
    },
    {
     "name": "stderr",
     "output_type": "stream",
     "text": [
      " 82%|████████▏ | 27/33 [00:53<00:14,  2.49s/it]"
     ]
    },
    {
     "name": "stdout",
     "output_type": "stream",
     "text": [
      "\n",
      "Edge: rna-anatomy\n",
      "\n",
      "Edge: rna-cell\n",
      "\n",
      "Edge: rna-protein\n",
      "Downloading Data from https://storage.googleapis.com/pheknowlator/current_build/data/processed_data/ENSEMBL_TRANSCRIPT_PROTEIN_ONTOLOGY_MAP.txt\n"
     ]
    },
    {
     "name": "stderr",
     "output_type": "stream",
     "text": [
      " 91%|█████████ | 30/33 [00:54<00:03,  1.21s/it]"
     ]
    },
    {
     "name": "stdout",
     "output_type": "stream",
     "text": [
      "\n",
      "Edge: variant-disease\n",
      "Downloading Data from https://storage.googleapis.com/pheknowlator/current_build/data/processed_data/CLINVAR_VARIANT_GENE_DISEASE_PHENOTYPE_EDGES.txt\n"
     ]
    },
    {
     "name": "stderr",
     "output_type": "stream",
     "text": [
      " 94%|█████████▍| 31/33 [01:41<00:21, 10.59s/it]"
     ]
    },
    {
     "name": "stdout",
     "output_type": "stream",
     "text": [
      "\n",
      "Edge: variant-gene\n"
     ]
    },
    {
     "name": "stderr",
     "output_type": "stream",
     "text": [
      " 97%|█████████▋| 32/33 [01:47<00:09,  9.60s/it]"
     ]
    },
    {
     "name": "stdout",
     "output_type": "stream",
     "text": [
      "\n",
      "Edge: variant-phenotype\n"
     ]
    },
    {
     "name": "stderr",
     "output_type": "stream",
     "text": [
      "100%|██████████| 33/33 [01:54<00:00,  3.46s/it]\n"
     ]
    },
    {
     "name": "stdout",
     "output_type": "stream",
     "text": [
      "\n",
      "*** Generating Metadata ***\n",
      "\n"
     ]
    },
    {
     "name": "stderr",
     "output_type": "stream",
     "text": [
      "100%|██████████| 33/33 [00:00<00:00, 13070.07it/s]\n",
      "100%|██████████| 33/33 [00:00<00:00, 35014.43it/s]\n"
     ]
    }
   ],
   "source": [
    "#do this the first time to download all the edge data\n",
    "\n",
    "## Data versions for original_data/: Jan 2022\n",
    "## Data versions for processed_data/: Aug 2023\n",
    "edges = LinkedData('resources/edge_source_list_TC.txt', 'resources/resource_info.txt')\n",
    "edges.downloads_data_from_url()\n",
    "#edges.writes_source_metadata_locally()"
   ]
  },
  {
   "cell_type": "code",
   "execution_count": 9,
   "metadata": {},
   "outputs": [],
   "source": [
    "edges = LinkedData('resources/edge_source_list.txt', 'resources/resource_info.txt')"
   ]
  },
  {
   "cell_type": "code",
   "execution_count": 10,
   "metadata": {},
   "outputs": [],
   "source": [
    "edges.parses_resource_file()"
   ]
  },
  {
   "cell_type": "code",
   "execution_count": 11,
   "metadata": {},
   "outputs": [
    {
     "data": {
      "text/plain": [
       "{'chemical-diseasetherapeutic': 'resources/edge_data/chemical-disease_CTD_chemicals_diseases.tsv',\n",
       " 'chemical-disease': 'resources/edge_data/chemical-disease_CTD_chemicals_diseases.tsv',\n",
       " 'chemical-gene': 'resources/edge_data/chemical-gene_CTD_chem_gene_ixns.tsv',\n",
       " 'chemical-gobp': 'resources/edge_data/chemical-gobp_CTD_chem_go_enriched.tsv',\n",
       " 'chemical-gocc': 'resources/edge_data/chemical-gocc_CTD_chem_go_enriched.tsv',\n",
       " 'chemical-gomf': 'resources/edge_data/chemical-gomf_CTD_chem_go_enriched.tsv',\n",
       " 'chemical-pathway': 'resources/edge_data/chemical-pathway_ChEBI2Reactome_All_Levels.txt',\n",
       " 'chemical-protein': 'resources/edge_data/chemical-protein_CTD_chem_gene_ixns.tsv',\n",
       " 'chemical-phenotypetherapeutic': 'resources/edge_data/chemical-disease_CTD_chemicals_diseases.tsv',\n",
       " 'chemical-phenotype': 'resources/edge_data/chemical-disease_CTD_chemicals_diseases.tsv',\n",
       " 'disease-phenotype': 'resources/edge_data/disease-phenotype_phenotype.hpoa',\n",
       " 'gene-disease': 'resources/edge_data/gene-disease_curated_gene_disease_associations.tsv',\n",
       " 'gene-gene': 'resources/edge_data/gene-gene_COMBINED.DEFAULT_NETWORKS.BP_COMBINING.txt',\n",
       " 'gene-pathway': 'resources/edge_data/gene-pathway_CTD_genes_pathways.tsv',\n",
       " 'gene-phenotype': 'resources/edge_data/gene-disease_curated_gene_disease_associations.tsv',\n",
       " 'gene-protein': 'resources/processed_data/ENTREZ_GENE_PRO_ONTOLOGY_MAP.txt',\n",
       " 'gene-rna': 'resources/processed_data/ENTREZ_GENE_ENSEMBL_TRANSCRIPT_MAP.txt',\n",
       " 'gobp-pathway': 'resources/edge_data/gobp-pathway_gene_association.reactome',\n",
       " 'pathway-gocc': 'resources/edge_data/pathway-gocc_gene_association.reactome',\n",
       " 'pathway-gomf': 'resources/edge_data/pathway-gomf_gene_association.reactome',\n",
       " 'protein-anatomy': 'resources/processed_data/HPA_GTEX_RNA_GENE_PROTEIN_EDGES.txt',\n",
       " 'protein-catalyst': 'resources/processed_data/UNIPROT_PROTEIN_CATALYST.txt',\n",
       " 'protein-cofactor': 'resources/processed_data/UNIPROT_PROTEIN_COFACTOR.txt',\n",
       " 'protein-cell': 'resources/edge_data/protein-cell_HPA_GTEX_RNA_GENE_PROTEIN_EDGES.txt',\n",
       " 'protein-gobp': 'resources/edge_data/protein-gobp_goa_human.gaf',\n",
       " 'protein-gocc': 'resources/edge_data/protein-gocc_goa_human.gaf',\n",
       " 'protein-gomf': 'resources/edge_data/protein-gomf_goa_human.gaf',\n",
       " 'protein-pathway': 'resources/edge_data/protein-pathway_UniProt2Reactome_All_Levels.txt',\n",
       " 'protein-protein': 'resources/edge_data/protein-protein_9606.protein.links.v11.0.txt',\n",
       " 'rna-anatomy': 'resources/processed_data/HPA_GTEX_RNA_GENE_PROTEIN_EDGES.txt',\n",
       " 'rna-cell': 'resources/processed_data/HPA_GTEX_RNA_GENE_PROTEIN_EDGES.txt',\n",
       " 'rna-protein': 'resources/processed_data/ENSEMBL_TRANSCRIPT_PROTEIN_ONTOLOGY_MAP.txt',\n",
       " 'variant-disease': 'resources/processed_data/CLINVAR_VARIANT_GENE_DISEASE_PHENOTYPE_EDGES.txt',\n",
       " 'variant-gene': 'resources/processed_data/CLINVAR_VARIANT_GENE_DISEASE_PHENOTYPE_EDGES.txt',\n",
       " 'variant-phenotype': 'resources/processed_data/CLINVAR_VARIANT_GENE_DISEASE_PHENOTYPE_EDGES.txt',\n",
       " 'transporter-chemical': 'resources/processed_data/CHEMICAL_TRANSPORTER.tsv',\n",
       " 'chemical-molecule': 'resources/processed_data/CHEMICAL_MOLECULE.tsv',\n",
       " 'chemical-substrate': 'resources/processed_data/CHEMICAL_SUBSTRATE.tsv',\n",
       " 'chemical-inhibitor': 'resources/processed_data/CHEMICAL_INHIBITOR.tsv',\n",
       " 'chemical-indication': 'resources/processed_data/CHEMICAL_INDICATION.tsv'}"
      ]
     },
     "execution_count": 11,
     "metadata": {},
     "output_type": "execute_result"
    }
   ],
   "source": [
    "edges.source_list"
   ]
  },
  {
   "cell_type": "code",
   "execution_count": 12,
   "metadata": {},
   "outputs": [
    {
     "name": "stdout",
     "output_type": "stream",
     "text": [
      "\n",
      "*** Generating Metadata ***\n",
      "\n"
     ]
    },
    {
     "name": "stderr",
     "output_type": "stream",
     "text": [
      "100%|██████████| 40/40 [00:00<00:00, 10835.20it/s]\n",
      "100%|██████████| 40/40 [00:00<00:00, 19786.79it/s]\n"
     ]
    }
   ],
   "source": [
    "edges.data_files = edges.source_list\n",
    "edges.generates_source_metadata()"
   ]
  },
  {
   "cell_type": "code",
   "execution_count": 13,
   "metadata": {},
   "outputs": [
    {
     "name": "stderr",
     "output_type": "stream",
     "text": [
      "100%|██████████| 40/40 [00:00<00:00, 25255.48it/s]\n"
     ]
    }
   ],
   "source": [
    "edges._writes_source_metadata_locally()"
   ]
  },
  {
   "cell_type": "code",
   "execution_count": 14,
   "metadata": {},
   "outputs": [
    {
     "data": {
      "text/plain": [
       "dict_keys(['chemical-diseasetherapeutic', 'chemical-disease', 'chemical-gene', 'chemical-gobp', 'chemical-gocc', 'chemical-gomf', 'chemical-pathway', 'chemical-protein', 'chemical-phenotypetherapeutic', 'chemical-phenotype', 'disease-phenotype', 'gene-disease', 'gene-gene', 'gene-pathway', 'gene-phenotype', 'gene-protein', 'gene-rna', 'gobp-pathway', 'pathway-gocc', 'pathway-gomf', 'protein-anatomy', 'protein-catalyst', 'protein-cofactor', 'protein-cell', 'protein-gobp', 'protein-gocc', 'protein-gomf', 'protein-pathway', 'protein-protein', 'rna-anatomy', 'rna-cell', 'rna-protein', 'variant-disease', 'variant-gene', 'variant-phenotype', 'transporter-chemical', 'chemical-molecule', 'chemical-substrate', 'chemical-inhibitor', 'chemical-indication'])"
      ]
     },
     "execution_count": 14,
     "metadata": {},
     "output_type": "execute_result"
    }
   ],
   "source": [
    "edges.source_list.keys()"
   ]
  },
  {
   "cell_type": "markdown",
   "metadata": {},
   "source": [
    "<br>"
   ]
  },
  {
   "cell_type": "markdown",
   "metadata": {},
   "source": [
    "***\n",
    "\n",
    "## Create Edge Lists <a class=\"anchor\" id=\"create-edges\"></a>\n",
    "\n",
    "**Wiki Page:** **[`Data Sources`](https://github.com/callahantiff/PheKnowLator/wiki/v2-Data-Sources)**\n",
    "\n",
    "<br>\n",
    "\n",
    "**Purpose:** The code below will take the dictionaries of processed data described above and use them to create edge lists for each of the edge types specified in the [`resource_info.txt`](https://github.com/callahantiff/PheKnowLator/blob/master/resources/resource_info.txt). Each edge list will be appended to a nested dictionary (see details below).\n",
    "\n",
    "<br>\n",
    "\n",
    "**Assumptions:**  \n",
    "1. All `ontology` and `edge` data sources have been downloaded.   \n",
    "\n",
    "2. All code in the [`Data_Preparation.ipynb`](https://github.com/callahantiff/PheKnowLator/blob/master/notebooks/Data_Preparation.ipynb) Jupyter Notebook has been run. This Notebook contains code needed to generate all mapping, filtering, and label data.\n",
    "\n",
    "<br>\n",
    "\n",
    "**Output:** `Master_Edge_List_Dict.json`. Below is an example of what the `Master Edge Dictionary` contains for each processed resource:  \n",
    "```python\n",
    "master_edges = {'chemical-disease'  :\n",
    "                {'source_labels'    : ';MESH_;',\n",
    "                 'data_type'        : 'class-class',\n",
    "                 'edge_relation'    : 'RO_0002606',\n",
    "                 'uri'              : ('http://purl.obolibrary.org/obo/',\n",
    "                                       'http://purl.obolibrary.org/obo/'),\n",
    "                 'delimiter'        : '#',\n",
    "                 'column_idx'       : '1;4',\n",
    "                 'identifier_maps'  : '0:./MESH_CHEBI_MAP.txt;1:disease-dbxref-map',\n",
    "                 'evidence_criteria': \"5;!=;' \",\n",
    "                 'filter_criteria'  : 'None',\n",
    "                 'edge_list'        : ['...']}\n",
    "```\n",
    "\n",
    "***"
   ]
  },
  {
   "cell_type": "code",
   "execution_count": 15,
   "metadata": {},
   "outputs": [
    {
     "name": "stderr",
     "output_type": "stream",
     "text": [
      "/home/sanya/.conda/envs/sanya_kg/lib/python3.6/site-packages/ray/_private/services.py:238: UserWarning: Not all Ray Dashboard dependencies were found. To use the dashboard please install Ray using `pip install ray[default]`. To disable this message, set RAY_DISABLE_IMPORT_WARNING env var to '1'.\n",
      "  warnings.warn(warning_message)\n"
     ]
    },
    {
     "data": {
      "text/plain": [
       "{'node_ip_address': '10.226.40.229',\n",
       " 'raylet_ip_address': '10.226.40.229',\n",
       " 'redis_address': '10.226.40.229:6379',\n",
       " 'object_store_address': '/tmp/ray/session_2023-08-24_06-04-19_970670_944679/sockets/plasma_store',\n",
       " 'raylet_socket_name': '/tmp/ray/session_2023-08-24_06-04-19_970670_944679/sockets/raylet',\n",
       " 'webui_url': None,\n",
       " 'session_dir': '/tmp/ray/session_2023-08-24_06-04-19_970670_944679',\n",
       " 'metrics_export_port': 51599,\n",
       " 'node_id': 'ceecebe4169dfdc23a28dfe4160f90ab62c95598860867efb3560c2d'}"
      ]
     },
     "execution_count": 15,
     "metadata": {},
     "output_type": "execute_result"
    }
   ],
   "source": [
    "# set-up environment for parallel processing -- even if running program serially these steps are needed\n",
    "import psutil\n",
    "cpus = psutil.cpu_count(logical=True)\n",
    "ray.init()"
   ]
  },
  {
   "cell_type": "code",
   "execution_count": 17,
   "metadata": {},
   "outputs": [
    {
     "name": "stdout",
     "output_type": "stream",
     "text": [
      "\u001b[2m\u001b[36m(pid=947522)\u001b[0m Finished Edge: gene-protein (gene = 19324, protein = 19129); 19527 unique edges\n",
      "\u001b[2m\u001b[36m(pid=947522)\u001b[0m Finished Edge: rna-protein (rna = 28220, protein = 18936); 28220 unique edges\n",
      "\u001b[2m\u001b[36m(pid=947508)\u001b[0m Finished Edge: gene-disease (gene = 5059, disease = 4484); 13344 unique edges\n",
      "\u001b[2m\u001b[36m(pid=947493)\u001b[0m Finished Edge: chemical-pathway (chemical = 2247, pathway = 2243); 29988 unique edges\n",
      "\u001b[2m\u001b[36m(pid=947493)\u001b[0m Finished Edge: protein-cofactor (protein = 1584, cofactor = 44); 1998 unique edges\n",
      "\u001b[2m\u001b[36m(pid=947493)\u001b[0m Finished Edge: chemical-inhibitor (chemical = 129, inhibitor = 29); 273 unique edges\n",
      "\u001b[2m\u001b[36m(pid=947520)\u001b[0m Finished Edge: gene-phenotype (gene = 6787, phenotype = 1595); 24695 unique edges\n",
      "\u001b[2m\u001b[36m(pid=947516)\u001b[0m Finished Edge: gene-pathway (gene = 10369, pathway = 1860); 107009 unique edges\n",
      "\u001b[2m\u001b[36m(pid=947507)\u001b[0m Finished Edge: disease-phenotype (disease = 12100, phenotype = 10129); 444807 unique edges\n",
      "\u001b[2m\u001b[36m(pid=947520)\u001b[0m Finished Edge: rna-cell (rna = 10052, cell = 4); 33152 unique edges\n",
      "\u001b[2m\u001b[36m(pid=947516)\u001b[0m Finished Edge: rna-anatomy (rna = 26704, anatomy = 98); 474073 unique edges\n",
      "\u001b[2m\u001b[36m(pid=947508)\u001b[0m Finished Edge: protein-pathway (protein = 10540, pathway = 2508); 117707 unique edges\n",
      "\u001b[2m\u001b[36m(pid=947507)\u001b[0m Finished Edge: protein-gomf (protein = 17807, gomf = 4430); 69816 unique edges\n",
      "\u001b[2m\u001b[36m(pid=947513)\u001b[0m Finished Edge: gene-gene (gene = 239, gene = 251); 1715 unique edges\n",
      "\u001b[2m\u001b[36m(pid=947481)\u001b[0m Finished Edge: chemical-gene (chemical = 472, gene = 11978); 16718 unique edges\n",
      "\u001b[2m\u001b[36m(pid=947481)\u001b[0m Finished Edge: pathway-gocc (pathway = 11252, gocc = 99); 16014 unique edges\n",
      "\u001b[2m\u001b[36m(pid=947494)\u001b[0m Finished Edge: chemical-protein (chemical = 4347, protein = 7960); 72564 unique edges\n",
      "\u001b[2m\u001b[36m(pid=947494)\u001b[0m Finished Edge: protein-cell (protein = 10044, cell = 128); 75311 unique edges\n",
      "\u001b[2m\u001b[36m(pid=947494)\u001b[0m Finished Edge: chemical-indication (chemical = 1179, indication = 706); 3996 unique edges\n",
      "\u001b[2m\u001b[36m(pid=947488)\u001b[0m Finished Edge: chemical-gomf (chemical = 1141, gomf = 214); 28181 unique edges\n",
      "\u001b[2m\u001b[36m(pid=947488)\u001b[0m Finished Edge: protein-catalyst (protein = 3049, catalyst = 3758); 25136 unique edges\n",
      "\u001b[2m\u001b[36m(pid=947488)\u001b[0m Finished Edge: chemical-substrate (chemical = 292, substrate = 33); 514 unique edges\n",
      "\u001b[2m\u001b[36m(pid=944978)\u001b[0m Finished Edge: variant-phenotype (variant = 3221, phenotype = 524); 4855 unique edges\n",
      "\u001b[2m\u001b[36m(pid=947485)\u001b[0m Finished Edge: chemical-gocc (chemical = 1126, gocc = 262); 47920 unique edges\n",
      "\u001b[2m\u001b[36m(pid=947485)\u001b[0m Finished Edge: protein-anatomy (protein = 11116, anatomy = 63); 26815 unique edges\n",
      "\u001b[2m\u001b[36m(pid=947485)\u001b[0m Finished Edge: chemical-molecule (chemical = 212, molecule = 39); 393 unique edges\n",
      "\u001b[2m\u001b[36m(pid=947501)\u001b[0m Finished Edge: chemical-phenotype (chemical = 3258, phenotype = 1611); 81939 unique edges\n",
      "\u001b[2m\u001b[36m(pid=947480)\u001b[0m Finished Edge: chemical-disease (chemical = 3432, disease = 3792); 112863 unique edges\n",
      "\u001b[2m\u001b[36m(pid=947476)\u001b[0m Finished Edge: chemical-diseasetherapeutic (chemical = 2961, diseasetherapeutic = 3709); 72463 unique edges\n",
      "\u001b[2m\u001b[36m(pid=947480)\u001b[0m Finished Edge: gobp-pathway (gobp = 479, pathway = 672); 672 unique edges\n",
      "\u001b[2m\u001b[36m(pid=947476)\u001b[0m Finished Edge: gene-rna (gene = 25392, rna = 194965); 197370 unique edges\n",
      "\u001b[2m\u001b[36m(pid=947499)\u001b[0m Finished Edge: chemical-phenotypetherapeutic (chemical = 2797, phenotypetherapeutic = 1385); 37369 unique edges\n",
      "\u001b[2m\u001b[36m(pid=947501)\u001b[0m Finished Edge: protein-gocc (protein = 18451, gocc = 1752); 82524 unique edges\n",
      "\u001b[2m\u001b[36m(pid=947499)\u001b[0m Finished Edge: protein-gobp (protein = 17410, gobp = 12329); 129426 unique edges\n",
      "\u001b[2m\u001b[36m(pid=947482)\u001b[0m Finished Edge: chemical-gobp (chemical = 1359, gobp = 1510); 290258 unique edges\n",
      "\u001b[2m\u001b[36m(pid=947482)\u001b[0m Finished Edge: pathway-gomf (pathway = 2422, gomf = 728); 2426 unique edges\n",
      "\u001b[2m\u001b[36m(pid=947482)\u001b[0m Finished Edge: transporter-chemical (transporter = 11, chemical = 58); 91 unique edges\n",
      "\u001b[2m\u001b[36m(pid=944992)\u001b[0m Finished Edge: variant-disease (variant = 22751, disease = 4882); 69965 unique edges\n",
      "\u001b[2m\u001b[36m(pid=947513)\u001b[0m Finished Edge: protein-protein (protein = 14141, protein = 14141); 617499 unique edges\n",
      "\u001b[2m\u001b[36m(pid=944991)\u001b[0m Finished Edge: variant-gene (variant = 236121, gene = 4233); 236121 unique edges\n",
      "\u001b[2m\u001b[36m(pid=944991)\u001b[0m \n",
      "\u001b[2m\u001b[36m(pid=947481)\u001b[0m Finished Edge: variant-phenotype (variant = 3221, phenotype = 524); 4855 unique edges\n",
      "\u001b[2m\u001b[36m(pid=947476)\u001b[0m Finished Edge: variant-disease (variant = 22751, disease = 4882); 69965 unique edges\n",
      "\u001b[2m\u001b[36m(pid=947480)\u001b[0m Finished Edge: variant-gene (variant = 236121, gene = 4233); 236121 unique edges\n"
     ]
    }
   ],
   "source": [
    "# combine data sources\n",
    "combined_edges = dict(edges.data_files, **ont.data_files)\n",
    "resource_info_loc = './resources/resource_info.txt'\n",
    "\n",
    "# initialize edge dictionary class\n",
    "master_edges = CreatesEdgeList(data_files=combined_edges, source_file=resource_info_loc)\n",
    "master_edges.runs_creates_knowledge_graph_edges(source_file=resource_info_loc, data_files=combined_edges, cpus=cpus)"
   ]
  },
  {
   "cell_type": "markdown",
   "metadata": {},
   "source": [
    "**Preview Master Edge Data**  \n",
    "Generate a table that includes each `edge-type`, its primary `relation`, example identifiers, and count of unique edges."
   ]
  },
  {
   "cell_type": "code",
   "execution_count": 18,
   "metadata": {},
   "outputs": [
    {
     "data": {
      "text/plain": [
       "dict_keys(['chemical-molecule', 'chemical-gocc', 'protein-gocc', 'chemical-diseasetherapeutic', 'gene-rna', 'variant-disease', 'chemical-phenotype', 'protein-gomf', 'protein-pathway', 'rna-protein', 'variant-gene', 'chemical-protein', 'pathway-gomf', 'protein-gobp', 'protein-protein', 'chemical-gobp', 'transporter-chemical', 'chemical-phenotypetherapeutic', 'chemical-indication', 'rna-anatomy', 'gene-protein', 'protein-anatomy', 'chemical-gene', 'chemical-inhibitor', 'disease-phenotype', 'gene-gene', 'gene-disease', 'chemical-substrate', 'rna-cell', 'chemical-gomf', 'pathway-gocc', 'chemical-disease', 'gobp-pathway', 'chemical-pathway', 'protein-cell', 'gene-phenotype', 'gene-pathway', 'protein-cofactor', 'protein-catalyst', 'variant-phenotype'])"
      ]
     },
     "execution_count": 18,
     "metadata": {},
     "output_type": "execute_result"
    }
   ],
   "source": [
    "# # read in master edge dictionary\n",
    "master_edges = json.load(open('resources/Master_Edge_List_Dict.json', 'r'))\n",
    "master_edges.keys()"
   ]
  },
  {
   "cell_type": "code",
   "execution_count": 19,
   "metadata": {},
   "outputs": [
    {
     "data": {
      "text/plain": [
       "685"
      ]
     },
     "execution_count": 19,
     "metadata": {},
     "output_type": "execute_result"
    }
   ],
   "source": [
    "# read in relation data\n",
    "relation_data = open('./resources/relations_data/RELATIONS_LABELS.txt').readlines()\n",
    "relation_dict = {x.split('\\t')[0]: x.split('\\t')[1].strip('\\n') for x in relation_data}\n",
    "len(relation_dict.keys())"
   ]
  },
  {
   "cell_type": "code",
   "execution_count": 20,
   "metadata": {},
   "outputs": [],
   "source": [
    "##add substrate of relation\n",
    "relation_dict['DIDEO_00000041'] = 'is substrate of'"
   ]
  },
  {
   "cell_type": "code",
   "execution_count": 21,
   "metadata": {},
   "outputs": [
    {
     "data": {
      "text/html": [
       "<div>\n",
       "<style scoped>\n",
       "    .dataframe tbody tr th:only-of-type {\n",
       "        vertical-align: middle;\n",
       "    }\n",
       "\n",
       "    .dataframe tbody tr th {\n",
       "        vertical-align: top;\n",
       "    }\n",
       "\n",
       "    .dataframe thead th {\n",
       "        text-align: right;\n",
       "    }\n",
       "</style>\n",
       "<table border=\"1\" class=\"dataframe\">\n",
       "  <thead>\n",
       "    <tr style=\"text-align: right;\">\n",
       "      <th></th>\n",
       "      <th>Edge Type</th>\n",
       "      <th>Relation</th>\n",
       "      <th>Example Edge</th>\n",
       "      <th>Unique Edges</th>\n",
       "    </tr>\n",
       "  </thead>\n",
       "  <tbody>\n",
       "    <tr>\n",
       "      <th>0</th>\n",
       "      <td>chemical-molecule</td>\n",
       "      <td>molecularly interacts with</td>\n",
       "      <td>CHEBI_35553, PR_P10635</td>\n",
       "      <td>393</td>\n",
       "    </tr>\n",
       "    <tr>\n",
       "      <th>1</th>\n",
       "      <td>chemical-gocc</td>\n",
       "      <td>molecularly interacts with</td>\n",
       "      <td>CHEBI_34568, GO_0005623</td>\n",
       "      <td>47920</td>\n",
       "    </tr>\n",
       "    <tr>\n",
       "      <th>2</th>\n",
       "      <td>protein-gocc</td>\n",
       "      <td>located in</td>\n",
       "      <td>PR_A0A024RBG1, GO_0005829</td>\n",
       "      <td>82524</td>\n",
       "    </tr>\n",
       "    <tr>\n",
       "      <th>3</th>\n",
       "      <td>chemical-diseasetherapeutic</td>\n",
       "      <td>is substance that treats</td>\n",
       "      <td>CHEBI_701, MONDO_0005027</td>\n",
       "      <td>72463</td>\n",
       "    </tr>\n",
       "    <tr>\n",
       "      <th>4</th>\n",
       "      <td>gene-rna</td>\n",
       "      <td>transcribed to</td>\n",
       "      <td>81623, ENST00000382398</td>\n",
       "      <td>197370</td>\n",
       "    </tr>\n",
       "    <tr>\n",
       "      <th>5</th>\n",
       "      <td>variant-disease</td>\n",
       "      <td>causes or contributes to condition</td>\n",
       "      <td>rs146691368, MONDO_0018477</td>\n",
       "      <td>69965</td>\n",
       "    </tr>\n",
       "    <tr>\n",
       "      <th>6</th>\n",
       "      <td>chemical-phenotype</td>\n",
       "      <td>correlated with</td>\n",
       "      <td>CHEBI_34026, HP_0000137</td>\n",
       "      <td>81939</td>\n",
       "    </tr>\n",
       "    <tr>\n",
       "      <th>7</th>\n",
       "      <td>protein-gomf</td>\n",
       "      <td>has function</td>\n",
       "      <td>PR_A0A024RBG1, GO_0003723</td>\n",
       "      <td>69816</td>\n",
       "    </tr>\n",
       "    <tr>\n",
       "      <th>8</th>\n",
       "      <td>protein-pathway</td>\n",
       "      <td>participates in</td>\n",
       "      <td>PR_A0A075B6P5, R-HSA-109582</td>\n",
       "      <td>117707</td>\n",
       "    </tr>\n",
       "    <tr>\n",
       "      <th>9</th>\n",
       "      <td>rna-protein</td>\n",
       "      <td>ribosomally translates to</td>\n",
       "      <td>ENST00000499023, PR_O43660</td>\n",
       "      <td>28220</td>\n",
       "    </tr>\n",
       "    <tr>\n",
       "      <th>10</th>\n",
       "      <td>variant-gene</td>\n",
       "      <td>causally influences</td>\n",
       "      <td>rs367697256, 7476</td>\n",
       "      <td>236121</td>\n",
       "    </tr>\n",
       "    <tr>\n",
       "      <th>11</th>\n",
       "      <td>chemical-protein</td>\n",
       "      <td>interacts with</td>\n",
       "      <td>CHEBI_4592, PR_P07099</td>\n",
       "      <td>72564</td>\n",
       "    </tr>\n",
       "    <tr>\n",
       "      <th>12</th>\n",
       "      <td>pathway-gomf</td>\n",
       "      <td>has function</td>\n",
       "      <td>R-HSA-8876283, GO_0015370</td>\n",
       "      <td>2426</td>\n",
       "    </tr>\n",
       "    <tr>\n",
       "      <th>13</th>\n",
       "      <td>protein-gobp</td>\n",
       "      <td>participates in</td>\n",
       "      <td>PR_A0A075B6H7, GO_0002250</td>\n",
       "      <td>129426</td>\n",
       "    </tr>\n",
       "    <tr>\n",
       "      <th>14</th>\n",
       "      <td>protein-protein</td>\n",
       "      <td>molecularly interacts with</td>\n",
       "      <td>PR_P84085, PR_O15020</td>\n",
       "      <td>617499</td>\n",
       "    </tr>\n",
       "    <tr>\n",
       "      <th>15</th>\n",
       "      <td>chemical-gobp</td>\n",
       "      <td>molecularly interacts with</td>\n",
       "      <td>CHEBI_35299, GO_0048856</td>\n",
       "      <td>290258</td>\n",
       "    </tr>\n",
       "    <tr>\n",
       "      <th>16</th>\n",
       "      <td>transporter-chemical</td>\n",
       "      <td>transports</td>\n",
       "      <td>PR_Q9NPD5, CHEBI_38545</td>\n",
       "      <td>91</td>\n",
       "    </tr>\n",
       "    <tr>\n",
       "      <th>17</th>\n",
       "      <td>chemical-phenotypetherapeutic</td>\n",
       "      <td>is substance that treats</td>\n",
       "      <td>CHEBI_701, HP_0001250</td>\n",
       "      <td>37369</td>\n",
       "    </tr>\n",
       "    <tr>\n",
       "      <th>18</th>\n",
       "      <td>chemical-indication</td>\n",
       "      <td>correlated with</td>\n",
       "      <td>CHEBI_4875, MONDO_0008383</td>\n",
       "      <td>3996</td>\n",
       "    </tr>\n",
       "    <tr>\n",
       "      <th>19</th>\n",
       "      <td>rna-anatomy</td>\n",
       "      <td>located in</td>\n",
       "      <td>ENST00000359318, UBERON_0001987</td>\n",
       "      <td>474073</td>\n",
       "    </tr>\n",
       "    <tr>\n",
       "      <th>20</th>\n",
       "      <td>gene-protein</td>\n",
       "      <td>has gene product</td>\n",
       "      <td>4836, PR_P30419</td>\n",
       "      <td>19527</td>\n",
       "    </tr>\n",
       "    <tr>\n",
       "      <th>21</th>\n",
       "      <td>protein-anatomy</td>\n",
       "      <td>located in</td>\n",
       "      <td>PR_P04217, UBERON_0001114</td>\n",
       "      <td>26815</td>\n",
       "    </tr>\n",
       "    <tr>\n",
       "      <th>22</th>\n",
       "      <td>chemical-gene</td>\n",
       "      <td>interacts with</td>\n",
       "      <td>CHEBI_28667, 348</td>\n",
       "      <td>16718</td>\n",
       "    </tr>\n",
       "    <tr>\n",
       "      <th>23</th>\n",
       "      <td>chemical-inhibitor</td>\n",
       "      <td>directly negatively regulates activity of</td>\n",
       "      <td>CHEBI_28901, PR_P11509</td>\n",
       "      <td>273</td>\n",
       "    </tr>\n",
       "    <tr>\n",
       "      <th>24</th>\n",
       "      <td>disease-phenotype</td>\n",
       "      <td>has phenotype</td>\n",
       "      <td>MONDO_0010761, HP_0000510</td>\n",
       "      <td>444807</td>\n",
       "    </tr>\n",
       "    <tr>\n",
       "      <th>25</th>\n",
       "      <td>gene-gene</td>\n",
       "      <td>genetically interacts with</td>\n",
       "      <td>84220, 729540</td>\n",
       "      <td>1715</td>\n",
       "    </tr>\n",
       "    <tr>\n",
       "      <th>26</th>\n",
       "      <td>gene-disease</td>\n",
       "      <td>causes or contributes to condition</td>\n",
       "      <td>2, MONDO_0010200</td>\n",
       "      <td>13344</td>\n",
       "    </tr>\n",
       "    <tr>\n",
       "      <th>27</th>\n",
       "      <td>chemical-substrate</td>\n",
       "      <td>is substrate of</td>\n",
       "      <td>CHEBI_135737, PR_P33261</td>\n",
       "      <td>514</td>\n",
       "    </tr>\n",
       "    <tr>\n",
       "      <th>28</th>\n",
       "      <td>rna-cell</td>\n",
       "      <td>located in</td>\n",
       "      <td>ENST00000488147, CL_0000057</td>\n",
       "      <td>33152</td>\n",
       "    </tr>\n",
       "    <tr>\n",
       "      <th>29</th>\n",
       "      <td>chemical-gomf</td>\n",
       "      <td>molecularly interacts with</td>\n",
       "      <td>CHEBI_34568, GO_0005488</td>\n",
       "      <td>28181</td>\n",
       "    </tr>\n",
       "    <tr>\n",
       "      <th>30</th>\n",
       "      <td>pathway-gocc</td>\n",
       "      <td>has component</td>\n",
       "      <td>R-HSA-166753, GO_0005576</td>\n",
       "      <td>16014</td>\n",
       "    </tr>\n",
       "    <tr>\n",
       "      <th>31</th>\n",
       "      <td>chemical-disease</td>\n",
       "      <td>correlated with</td>\n",
       "      <td>CHEBI_71223, MONDO_0018229</td>\n",
       "      <td>112863</td>\n",
       "    </tr>\n",
       "    <tr>\n",
       "      <th>32</th>\n",
       "      <td>gobp-pathway</td>\n",
       "      <td>realized in response to</td>\n",
       "      <td>GO_0016567, R-HSA-8866654</td>\n",
       "      <td>672</td>\n",
       "    </tr>\n",
       "    <tr>\n",
       "      <th>33</th>\n",
       "      <td>chemical-pathway</td>\n",
       "      <td>participates in</td>\n",
       "      <td>CHEBI_10033, R-HSA-1430728</td>\n",
       "      <td>29988</td>\n",
       "    </tr>\n",
       "    <tr>\n",
       "      <th>34</th>\n",
       "      <td>protein-cell</td>\n",
       "      <td>located in</td>\n",
       "      <td>PR_P04217, UBERON_0002113</td>\n",
       "      <td>75311</td>\n",
       "    </tr>\n",
       "    <tr>\n",
       "      <th>35</th>\n",
       "      <td>gene-phenotype</td>\n",
       "      <td>causes or contributes to condition</td>\n",
       "      <td>1, HP_0002240</td>\n",
       "      <td>24695</td>\n",
       "    </tr>\n",
       "    <tr>\n",
       "      <th>36</th>\n",
       "      <td>gene-pathway</td>\n",
       "      <td>participates in</td>\n",
       "      <td>1, R-HSA-109582</td>\n",
       "      <td>107009</td>\n",
       "    </tr>\n",
       "    <tr>\n",
       "      <th>37</th>\n",
       "      <td>protein-cofactor</td>\n",
       "      <td>molecularly interacts with</td>\n",
       "      <td>PR_Q00266, CHEBI_18420</td>\n",
       "      <td>1998</td>\n",
       "    </tr>\n",
       "    <tr>\n",
       "      <th>38</th>\n",
       "      <td>protein-catalyst</td>\n",
       "      <td>molecularly interacts with</td>\n",
       "      <td>PR_Q00266, CHEBI_15377</td>\n",
       "      <td>25136</td>\n",
       "    </tr>\n",
       "    <tr>\n",
       "      <th>39</th>\n",
       "      <td>variant-phenotype</td>\n",
       "      <td>causes or contributes to condition</td>\n",
       "      <td>rs527236137, HP_0000556</td>\n",
       "      <td>4855</td>\n",
       "    </tr>\n",
       "  </tbody>\n",
       "</table>\n",
       "</div>"
      ],
      "text/plain": [
       "                        Edge Type                                   Relation  \\\n",
       "0               chemical-molecule                 molecularly interacts with   \n",
       "1                   chemical-gocc                 molecularly interacts with   \n",
       "2                    protein-gocc                                 located in   \n",
       "3     chemical-diseasetherapeutic                   is substance that treats   \n",
       "4                        gene-rna                             transcribed to   \n",
       "5                 variant-disease         causes or contributes to condition   \n",
       "6              chemical-phenotype                            correlated with   \n",
       "7                    protein-gomf                               has function   \n",
       "8                 protein-pathway                            participates in   \n",
       "9                     rna-protein                  ribosomally translates to   \n",
       "10                   variant-gene                        causally influences   \n",
       "11               chemical-protein                             interacts with   \n",
       "12                   pathway-gomf                               has function   \n",
       "13                   protein-gobp                            participates in   \n",
       "14                protein-protein                 molecularly interacts with   \n",
       "15                  chemical-gobp                 molecularly interacts with   \n",
       "16           transporter-chemical                                 transports   \n",
       "17  chemical-phenotypetherapeutic                   is substance that treats   \n",
       "18            chemical-indication                            correlated with   \n",
       "19                    rna-anatomy                                 located in   \n",
       "20                   gene-protein                           has gene product   \n",
       "21                protein-anatomy                                 located in   \n",
       "22                  chemical-gene                             interacts with   \n",
       "23             chemical-inhibitor  directly negatively regulates activity of   \n",
       "24              disease-phenotype                              has phenotype   \n",
       "25                      gene-gene                 genetically interacts with   \n",
       "26                   gene-disease         causes or contributes to condition   \n",
       "27             chemical-substrate                            is substrate of   \n",
       "28                       rna-cell                                 located in   \n",
       "29                  chemical-gomf                 molecularly interacts with   \n",
       "30                   pathway-gocc                              has component   \n",
       "31               chemical-disease                            correlated with   \n",
       "32                   gobp-pathway                    realized in response to   \n",
       "33               chemical-pathway                            participates in   \n",
       "34                   protein-cell                                 located in   \n",
       "35                 gene-phenotype         causes or contributes to condition   \n",
       "36                   gene-pathway                            participates in   \n",
       "37               protein-cofactor                 molecularly interacts with   \n",
       "38               protein-catalyst                 molecularly interacts with   \n",
       "39              variant-phenotype         causes or contributes to condition   \n",
       "\n",
       "                       Example Edge  Unique Edges  \n",
       "0            CHEBI_35553, PR_P10635           393  \n",
       "1           CHEBI_34568, GO_0005623         47920  \n",
       "2         PR_A0A024RBG1, GO_0005829         82524  \n",
       "3          CHEBI_701, MONDO_0005027         72463  \n",
       "4            81623, ENST00000382398        197370  \n",
       "5        rs146691368, MONDO_0018477         69965  \n",
       "6           CHEBI_34026, HP_0000137         81939  \n",
       "7         PR_A0A024RBG1, GO_0003723         69816  \n",
       "8       PR_A0A075B6P5, R-HSA-109582        117707  \n",
       "9        ENST00000499023, PR_O43660         28220  \n",
       "10                rs367697256, 7476        236121  \n",
       "11            CHEBI_4592, PR_P07099         72564  \n",
       "12        R-HSA-8876283, GO_0015370          2426  \n",
       "13        PR_A0A075B6H7, GO_0002250        129426  \n",
       "14             PR_P84085, PR_O15020        617499  \n",
       "15          CHEBI_35299, GO_0048856        290258  \n",
       "16           PR_Q9NPD5, CHEBI_38545            91  \n",
       "17            CHEBI_701, HP_0001250         37369  \n",
       "18        CHEBI_4875, MONDO_0008383          3996  \n",
       "19  ENST00000359318, UBERON_0001987        474073  \n",
       "20                  4836, PR_P30419         19527  \n",
       "21        PR_P04217, UBERON_0001114         26815  \n",
       "22                 CHEBI_28667, 348         16718  \n",
       "23           CHEBI_28901, PR_P11509           273  \n",
       "24        MONDO_0010761, HP_0000510        444807  \n",
       "25                    84220, 729540          1715  \n",
       "26                 2, MONDO_0010200         13344  \n",
       "27          CHEBI_135737, PR_P33261           514  \n",
       "28      ENST00000488147, CL_0000057         33152  \n",
       "29          CHEBI_34568, GO_0005488         28181  \n",
       "30         R-HSA-166753, GO_0005576         16014  \n",
       "31       CHEBI_71223, MONDO_0018229        112863  \n",
       "32        GO_0016567, R-HSA-8866654           672  \n",
       "33       CHEBI_10033, R-HSA-1430728         29988  \n",
       "34        PR_P04217, UBERON_0002113         75311  \n",
       "35                    1, HP_0002240         24695  \n",
       "36                  1, R-HSA-109582        107009  \n",
       "37           PR_Q00266, CHEBI_18420          1998  \n",
       "38           PR_Q00266, CHEBI_15377         25136  \n",
       "39          rs527236137, HP_0000556          4855  "
      ]
     },
     "execution_count": 21,
     "metadata": {},
     "output_type": "execute_result"
    }
   ],
   "source": [
    "# print basic stats on each resource\n",
    "edge_data = [[key,\n",
    "              relation_dict[master_edges[key]['edge_relation']],\n",
    "              ', '.join(master_edges[key]['edge_list'][0]),\n",
    "              len(master_edges[key]['edge_list'])]\n",
    "             for key in master_edges.keys()]\n",
    "\n",
    "# convert dict to pandas df for nice printing\n",
    "df = pandas.DataFrame(edge_data, columns = ['Edge Type', 'Relation', 'Example Edge', 'Unique Edges']) \n",
    "df"
   ]
  },
  {
   "cell_type": "code",
   "execution_count": 22,
   "metadata": {},
   "outputs": [],
   "source": [
    "df.to_csv('resources/edge_data/edge_counts.tsv', sep='\\t', index=False)"
   ]
  },
  {
   "cell_type": "markdown",
   "metadata": {},
   "source": [
    "<br><br>"
   ]
  },
  {
   "cell_type": "markdown",
   "metadata": {},
   "source": [
    "***\n",
    "\n",
    "## Build Knowledge Graph  <a class=\"anchor\" id=\"build-kg\"></a>\n",
    "**Wiki Pages:**  \n",
    "- **[`KG-Construction`](https://github.com/callahantiff/PheKnowLator/wiki/KG-Construction)**  \n",
    "- **[`relations-data`](https://github.com/callahantiff/PheKnowLator/wiki/Dependencies#relations-data)**  \n",
    "- **[`node-metadata`](https://github.com/callahantiff/PheKnowLator/wiki/Dependencies#node-metadata)** \n",
    "\n",
    "**Jupyter Notebooks:**  \n",
    "- [`Data_Preparation.ipynb`](https://github.com/callahantiff/PheKnowLator/blob/master/notebooks/Data_Preparation.ipynb)  \n",
    "[`Ontology_Cleaning.ipynb`](https://github.com/callahantiff/PheKnowLator/blob/master/notebooks/Ontology_Cleaning.ipynb)  \n",
    "\n",
    "\n",
    "<br>\n",
    "\n",
    "**Assumptions:**  \n",
    "- <u>Construction Approach</u>. If using the `subclass-based` construction approach, please make sure that a `pickled` dictionary mapping each non-ontology data node to an existing ontology class is created and added to the `./resources/knowledge_graph` directory (please see [here](https://github.com/callahantiff/PheKnowLator/tree/master/resources/knowledge_graphs#construction-method) for additional information).   \n",
    "- <u>Relations Data</u>. If inverse relation data is going to be used to build the knowledge graph, that it has been generated and added to the `./resources/relations_data` directory (please see [here](https://github.com/callahantiff/PheKnowLator/blob/master/resources/relations_data/README.md) for additional information).  \n",
    "- <u>Node Metadata</u>. If node metadata is going to be used to build the knowledge graph, that it has been generated and added to the `./resources/node_metadata` directory (please see [here](https://github.com/callahantiff/PheKnowLator/blob/master/resources/node_data/README.md) for additional information).  \n",
    "- <u>Decoding OWL Semantics</u>. If decoding OWL-Semantics, please make sure to provide a list of owl:Property types to keep is created and added to the `./resources/knowledge_graph` directory (please see [here](https://github.com/callahantiff/PheKnowLator/wiki/OWL-NETS-2.0) for additional information). \n",
    "\n",
    "<br>\n",
    "\n",
    "**Input:** \n",
    "- `Master_Edge_List_Dict.json`  \n",
    "- Directory of relations data sources - see [here](https://github.com/callahantiff/PheKnowLator/wiki/Dependencies#relations-data) for more information\n",
    "- Directory of node data sources - see [here](https://github.com/callahantiff/PheKnowLator/wiki/Dependencies#node-metadata) for more information\n",
    "\n",
    "<br>\n",
    "\n",
    "**Output:** Please see [`Release v2.0.0 Wiki`](https://github.com/callahantiff/PheKnowLator/wiki/v2.0.0) for access to all generated output files.   \n",
    "- `Knowledge Graph` (`.owl` and Networkx MultiDiGraph `.pkl`)  \n",
    "- `Class Instance URI-UUID Map` (if \"instance\" construction approach)   \n",
    "- `Triple List - Integer`  \n",
    "- `Triple List - Identifier`  \n",
    "- `Node Integer-Identifier Map`  \n",
    "- `Node Attribute Data`  \n",
    "\n",
    "<br>\n",
    "\n",
    "The process to build the knowledge graph is somewhat time consuming and can be broken into the following steps:  \n",
    "\n",
    "1. Merge Ontologies. See [here](https://github.com/callahantiff/PheKnowLator/blob/master/resources/ontologies/README.md) for additional information on how to preprocess the ontologies prior to merging them.    \n",
    "\n",
    "2. Create Edges. Add edge lists to merged ontologies.  \n",
    "\n",
    "3. Add Inverse Relations and Node Data. See the [Dependencies](https://github.com/callahantiff/PheKnowLator/wiki/Dependencies) Wiki page for details on how to construct these resources.  \n",
    "\n",
    "4. Filter OWL Semantics. Filter the knowledge graph with the goal of removing all edges that contain entities that are needed to support owl semantics, but are not biologically meaningful (please see [here](https://github.com/callahantiff/PheKnowLator/wiki/OWL-NETS-2.0) for additional information).\n",
    "\n",
    "5. Save Edge Lists and Node Metadata. Several versions of the knowledge graph are saved, including: the full knowledge graph (`owl` or Networkx MultiDiGraph `pickle`), triple lists (i.e. integer index and identifier labeled edge lists with a dictionary that maps between the integer indices and node identifiers), and a file of metadata (i.e. identifiers, labels, synonyms, and descriptions) for all nodes in the knowledge graph.  \n",
    "\n",
    "<br>\n",
    "\n",
    "**‼ IMPORTANT:**  \n",
    "- The file containing the merged ontologies is quite large and can take up to 30 minutes to read in.  This is not a limitation of the code directly, but rather a function of the [`RDFLib Library`](https://github.com/RDFLib). While there are other ways to read in this data, we maintain reliance on this library as it is the most user-friendly for non-RDF users.   \n",
    "- If you'd like to include [node metadata](https://github.com/callahantiff/PheKnowLator/wiki/Dependencies#node-metadata) when building the knowledge graph, please hold off on building the knowledge graph until you have generated the node data. For details on how to do this see the [node metadata](https://github.com/callahantiff/PheKnowLator/wiki/Dependencies#node-metadata) section of the `Dependencies` Wiki Page or help for help with generating the data, please see the []() section of the [`Data_Preparation.ipynb`](https://github.com/callahantiff/PheKnowLator/blob/master/notebooks/Data_Preparation.ipynb) Jupyter Notebook.\n",
    "\n",
    "***\n"
   ]
  },
  {
   "cell_type": "code",
   "execution_count": 23,
   "metadata": {},
   "outputs": [],
   "source": [
    "# specify input arguments\n",
    "build = 'full'\n",
    "construction_approach = 'instance'\n",
    "add_node_data_to_kg = 'yes'\n",
    "add_inverse_relations_to_kg = 'yes'\n",
    "decode_owl_semantics = 'yes'\n",
    "kg_directory_location = './resources/knowledge_graphs'\n"
   ]
  },
  {
   "cell_type": "code",
   "execution_count": 24,
   "metadata": {},
   "outputs": [
    {
     "name": "stdout",
     "output_type": "stream",
     "text": [
      "\n",
      "### Starting Knowledge Graph Build: FULL ###\n",
      "*** Loading Relations Data ***\n",
      "Loading and Processing Relation Data\n",
      "*** Loading Merged Ontologies ***\n",
      "Merged Ontologies Graph Stats: 23996958 triples, 8901531 nodes, 330 predicates, 835991 classes, 36 individuals, 867 object props, 700 annotation props\n",
      "*** Loading Node Metadata Data ***\n",
      "Loading and Processing Node Metadata\n",
      "\n",
      "Extracting Class and Relation Metadata\n"
     ]
    },
    {
     "name": "stderr",
     "output_type": "stream",
     "text": [
      "100%|██████████| 654239/654239 [02:15<00:00, 4821.84it/s]\n",
      "100%|██████████| 867/867 [00:00<00:00, 4056.26it/s]\n"
     ]
    },
    {
     "name": "stdout",
     "output_type": "stream",
     "text": [
      "*** Splitting Graph ***\n",
      "Adding Namespace to BNodes\n",
      "Creating Logic and Annotation Subsets of Graph\n"
     ]
    },
    {
     "name": "stderr",
     "output_type": "stream",
     "text": [
      "100%|██████████| 2731462/2731462 [36:11<00:00, 1257.79it/s] \n"
     ]
    },
    {
     "name": "stdout",
     "output_type": "stream",
     "text": [
      "Annotation Assertions (n=17718241 Triples)\n",
      "Creating Logic Graph (n=6278717 Triples)\n"
     ]
    },
    {
     "name": "stderr",
     "output_type": "stream",
     "text": [
      "100%|██████████| 6278717/6278717 [03:25<00:00, 30519.31it/s] \n"
     ]
    },
    {
     "name": "stdout",
     "output_type": "stream",
     "text": [
      "Merged Ontologies - Logic Subset Graph Stats: 6278717 triples, 2152142 nodes, 49 predicates, 835991 classes, 36 individuals, 867 object props, 700 annotation props\n",
      "\n",
      "*** Building Knowledge Graph Edges ***\n",
      "\u001b[2m\u001b[36m(pid=980975)\u001b[0m \n",
      "\u001b[2m\u001b[36m(pid=980975)\u001b[0m Created CHEMICAL-PROTEIN (class-class) Edges: 362751 OWL Edges, 72550 Original Edges; 157407 OWL Nodes, Original Nodes: 4345 chemical(s), 7959 protein(s)\n",
      "\u001b[2m\u001b[36m(pid=980875)\u001b[0m \n",
      "\u001b[2m\u001b[36m(pid=980875)\u001b[0m Created CHEMICAL-PHENOTYPE (class-class) Edges: 406391 OWL Edges, 81278 Original Edges; 167410 OWL Nodes, Original Nodes: 3254 chemical(s), 1597 phenotype(s)\n",
      "\u001b[2m\u001b[36m(pid=980915)\u001b[0m \n",
      "\u001b[2m\u001b[36m(pid=980915)\u001b[0m Created PROTEIN-CELL (class-class) Edges: 441140 OWL Edges, 147046 Original Edges; 157219 OWL Nodes, Original Nodes: 10044 protein(s), 125 cell(s)\n",
      "\u001b[2m\u001b[36m(pid=981029)\u001b[0m \n",
      "\u001b[2m\u001b[36m(pid=981029)\u001b[0m Created CHEMICAL-DISEASETHERAPEUTIC (class-class) Edges: 420344 OWL Edges, 140114 Original Edges; 146662 OWL Nodes, Original Nodes: 2957 chemical(s), 3587 diseasetherapeutic(s)\n",
      "\u001b[2m\u001b[36m(pid=980840)\u001b[0m \n",
      "\u001b[2m\u001b[36m(pid=980840)\u001b[0m Created PROTEIN-GOCC (class-class) Edges: 490670 OWL Edges, 163556 Original Edges; 183696 OWL Nodes, Original Nodes: 18435 protein(s), 1701 gocc(s)\n",
      "\u001b[2m\u001b[36m(pid=980711)\u001b[0m \n",
      "\u001b[2m\u001b[36m(pid=980711)\u001b[0m Created CHEMICAL-DISEASE (class-class) Edges: 547246 OWL Edges, 109449 Original Edges; 225984 OWL Nodes, Original Nodes: 3425 chemical(s), 3658 disease(s)\n",
      "\u001b[2m\u001b[36m(pid=981117)\u001b[0m \n",
      "\u001b[2m\u001b[36m(pid=981117)\u001b[0m Created VARIANT-DISEASE (entity-class) Edges: 389052 OWL Edges, 68634 Original Edges; 164782 OWL Nodes, Original Nodes: 22746 variant(s), 4758 disease(s)\n",
      "\u001b[2m\u001b[36m(pid=980975)\u001b[0m \n",
      "\u001b[2m\u001b[36m(pid=980975)\u001b[0m Created CHEMICAL-PHENOTYPETHERAPEUTIC (class-class) Edges: 221678 OWL Edges, 73892 Original Edges; 78062 OWL Nodes, Original Nodes: 2793 chemical(s), 1373 phenotypetherapeutic(s)\n",
      "\u001b[2m\u001b[36m(pid=981029)\u001b[0m \n",
      "\u001b[2m\u001b[36m(pid=981029)\u001b[0m Created CHEMICAL-GOCC (class-class) Edges: 179276 OWL Edges, 35855 Original Edges; 73027 OWL Nodes, Original Nodes: 1092 chemical(s), 222 gocc(s)\n",
      "\u001b[2m\u001b[36m(pid=980711)\u001b[0m \n",
      "\u001b[2m\u001b[36m(pid=980711)\u001b[0m Created CHEMICAL-GENE (class-entity) Edges: 107082 OWL Edges, 16661 Original Edges; 45702 OWL Nodes, Original Nodes: 472 chemical(s), 11923 gene(s)\n",
      "\u001b[2m\u001b[36m(pid=980711)\u001b[0m \n",
      "\u001b[2m\u001b[36m(pid=980711)\u001b[0m Created CHEMICAL-INDICATION (class-class) Edges: 19891 OWL Edges, 3978 Original Edges; 9835 OWL Nodes, Original Nodes: 1176 chemical(s), 700 indication(s)\n",
      "\u001b[2m\u001b[36m(pid=980875)\u001b[0m \n",
      "\u001b[2m\u001b[36m(pid=980875)\u001b[0m Created CHEMICAL-PATHWAY (class-entity) Edges: 186159 OWL Edges, 59904 Original Edges; 65135 OWL Nodes, Original Nodes: 2245 chemical(s), 2240 pathway(s)\n",
      "\u001b[2m\u001b[36m(pid=980711)\u001b[0m \n",
      "\u001b[2m\u001b[36m(pid=980711)\u001b[0m Created PROTEIN-COFACTOR (class-class) Edges: 9791 OWL Edges, 1958 Original Edges; 5544 OWL Nodes, Original Nodes: 1581 protein(s), 44 cofactor(s)\n",
      "\u001b[2m\u001b[36m(pid=980915)\u001b[0m \n",
      "\u001b[2m\u001b[36m(pid=980915)\u001b[0m Created RNA-CELL (entity-class) Edges: 228492 OWL Edges, 66304 Original Edges; 76189 OWL Nodes, Original Nodes: 10052 rna(s), 4 cell(s)\n",
      "\u001b[2m\u001b[36m(pid=981029)\u001b[0m \n",
      "\u001b[2m\u001b[36m(pid=981029)\u001b[0m Created GENE-DISEASE (entity-class) Edges: 76747 OWL Edges, 13341 Original Edges; 36192 OWL Nodes, Original Nodes: 5056 gene(s), 4482 disease(s)\n",
      "\u001b[2m\u001b[36m(pid=980840)\u001b[0m \n",
      "\u001b[2m\u001b[36m(pid=980840)\u001b[0m Created RNA-PROTEIN (entity-class) Edges: 253988 OWL Edges, 56440 Original Edges; 103607 OWL Nodes, Original Nodes: 28220 rna(s), 18936 protein(s)\n",
      "\u001b[2m\u001b[36m(pid=980975)\u001b[0m \n",
      "\u001b[2m\u001b[36m(pid=980975)\u001b[0m Created PROTEIN-CATALYST (class-class) Edges: 118891 OWL Edges, 23778 Original Edges; 54352 OWL Nodes, Original Nodes: 3045 protein(s), 3748 catalyst(s)\n",
      "\u001b[2m\u001b[36m(pid=981029)\u001b[0m \n",
      "\u001b[2m\u001b[36m(pid=981029)\u001b[0m Created GOBP-PATHWAY (class-entity) Edges: 5839 OWL Edges, 666 Original Edges; 2505 OWL Nodes, Original Nodes: 474 gobp(s), 666 pathway(s)\n",
      "\u001b[2m\u001b[36m(pid=981029)\u001b[0m \n",
      "\u001b[2m\u001b[36m(pid=981029)\u001b[0m Created TRANSPORTER-CHEMICAL (class-class) Edges: 456 OWL Edges, 91 Original Edges; 254 OWL Nodes, Original Nodes: 11 transporter(s), 58 chemical(s)\n",
      "\u001b[2m\u001b[36m(pid=980595)\u001b[0m \n",
      "\u001b[2m\u001b[36m(pid=980595)\u001b[0m Created PROTEIN-GOBP (class-class) Edges: 772310 OWL Edges, 257436 Original Edges; 286976 OWL Nodes, Original Nodes: 17395 protein(s), 12141 gobp(s)\n",
      "\u001b[2m\u001b[36m(pid=980595)\u001b[0m \n",
      "\u001b[2m\u001b[36m(pid=980595)\u001b[0m Created VARIANT-PHENOTYPE (entity-class) Edges: 30044 OWL Edges, 4713 Original Edges; 13172 OWL Nodes, Original Nodes: 3216 variant(s), 520 phenotype(s)\n",
      "\u001b[2m\u001b[36m(pid=980595)\u001b[0m \n",
      "\u001b[2m\u001b[36m(pid=980595)\u001b[0m Created CHEMICAL-MOLECULE (class-class) Edges: 1921 OWL Edges, 384 Original Edges; 1016 OWL Nodes, Original Nodes: 208 chemical(s), 37 molecule(s)\n",
      "\u001b[2m\u001b[36m(pid=980875)\u001b[0m \n",
      "\u001b[2m\u001b[36m(pid=980875)\u001b[0m Created GENE-PROTEIN (entity-class) Edges: 155817 OWL Edges, 39054 Original Edges; 77517 OWL Nodes, Original Nodes: 19324 gene(s), 19129 protein(s)\n",
      "\u001b[2m\u001b[36m(pid=980915)\u001b[0m \n",
      "\u001b[2m\u001b[36m(pid=980915)\u001b[0m Created PROTEIN-ANATOMY (class-class) Edges: 160892 OWL Edges, 53630 Original Edges; 64813 OWL Nodes, Original Nodes: 11116 protein(s), 63 anatomy(s)\n",
      "\u001b[2m\u001b[36m(pid=980875)\u001b[0m \n",
      "\u001b[2m\u001b[36m(pid=980875)\u001b[0m Created PATHWAY-GOMF (entity-class) Edges: 19334 OWL Edges, 4798 Original Edges; 7978 OWL Nodes, Original Nodes: 2395 pathway(s), 721 gomf(s)\n",
      "\u001b[2m\u001b[36m(pid=980875)\u001b[0m \n",
      "\u001b[2m\u001b[36m(pid=980875)\u001b[0m Created CHEMICAL-SUBSTRATE (class-class) Edges: 2511 OWL Edges, 502 Original Edges; 1323 OWL Nodes, Original Nodes: 283 chemical(s), 33 substrate(s)\n",
      "\u001b[2m\u001b[36m(pid=980840)\u001b[0m \n",
      "\u001b[2m\u001b[36m(pid=980840)\u001b[0m Created GENE-PHENOTYPE (entity-class) Edges: 136407 OWL Edges, 24587 Original Edges; 57519 OWL Nodes, Original Nodes: 6783 gene(s), 1590 phenotype(s)\n",
      "\u001b[2m\u001b[36m(pid=980875)\u001b[0m \n",
      "\u001b[2m\u001b[36m(pid=980875)\u001b[0m Created CHEMICAL-INHIBITOR (class-class) Edges: 1316 OWL Edges, 263 Original Edges; 681 OWL Nodes, Original Nodes: 123 chemical(s), 29 inhibitor(s)\n",
      "\u001b[2m\u001b[36m(pid=981117)\u001b[0m \n",
      "\u001b[2m\u001b[36m(pid=981117)\u001b[0m Created PROTEIN-GOMF (class-class) Edges: 414956 OWL Edges, 138318 Original Edges; 160500 OWL Nodes, Original Nodes: 17805 protein(s), 4373 gomf(s)\n",
      "\u001b[2m\u001b[36m(pid=980649)\u001b[0m \n",
      "\u001b[2m\u001b[36m(pid=980649)\u001b[0m Created PROTEIN-PATHWAY (class-entity) Edges: 712538 OWL Edges, 235148 Original Edges; 248976 OWL Nodes, Original Nodes: 10540 protein(s), 2505 pathway(s)\n",
      "\u001b[2m\u001b[36m(pid=980743)\u001b[0m \n",
      "\u001b[2m\u001b[36m(pid=980743)\u001b[0m Created GENE-PATHWAY (entity-entity) Edges: 654911 OWL Edges, 209606 Original Edges; 222445 OWL Nodes, Original Nodes: 10367 gene(s), 1807 pathway(s)\n",
      "\u001b[2m\u001b[36m(pid=980649)\u001b[0m \n",
      "\u001b[2m\u001b[36m(pid=980649)\u001b[0m Created PATHWAY-GOCC (entity-class) Edges: 102828 OWL Edges, 15960 Original Edges; 43423 OWL Nodes, Original Nodes: 11222 pathway(s), 98 gocc(s)\n",
      "\u001b[2m\u001b[36m(pid=980649)\u001b[0m \n",
      "\u001b[2m\u001b[36m(pid=980649)\u001b[0m Created GENE-GENE (entity-entity) Edges: 9191 OWL Edges, 1715 Original Edges; 3744 OWL Nodes, Original Nodes: 239 gene(s), 251 gene(s)\n",
      "\u001b[2m\u001b[36m(pid=980743)\u001b[0m \n",
      "\u001b[2m\u001b[36m(pid=980743)\u001b[0m Created CHEMICAL-GOMF (class-class) Edges: 134376 OWL Edges, 26875 Original Edges; 55096 OWL Nodes, Original Nodes: 1141 chemical(s), 202 gomf(s)\n",
      "\u001b[2m\u001b[36m(pid=980421)\u001b[0m \n",
      "\u001b[2m\u001b[36m(pid=980421)\u001b[0m Created CHEMICAL-GOBP (class-class) Edges: 1417936 OWL Edges, 283587 Original Edges; 570008 OWL Nodes, Original Nodes: 1359 chemical(s), 1472 gobp(s)\n",
      "\u001b[2m\u001b[36m(pid=980556)\u001b[0m \n",
      "\u001b[2m\u001b[36m(pid=980556)\u001b[0m Created GENE-RNA (entity-entity) Edges: 1581181 OWL Edges, 394740 Original Edges; 535539 OWL Nodes, Original Nodes: 25392 gene(s), 194965 rna(s)\n",
      "\u001b[2m\u001b[36m(pid=980491)\u001b[0m \n",
      "\u001b[2m\u001b[36m(pid=980491)\u001b[0m Created VARIANT-GENE (entity-entity) Edges: 1898331 OWL Edges, 472242 Original Edges; 712617 OWL Nodes, Original Nodes: 236121 variant(s), 4233 gene(s)\n",
      "\u001b[2m\u001b[36m(pid=980364)\u001b[0m \n",
      "\u001b[2m\u001b[36m(pid=980364)\u001b[0m Created DISEASE-PHENOTYPE (class-class) Edges: 2601518 OWL Edges, 867172 Original Edges; 889148 OWL Nodes, Original Nodes: 11892 disease(s), 10080 phenotype(s)\n",
      "\u001b[2m\u001b[36m(pid=980249)\u001b[0m \n",
      "\u001b[2m\u001b[36m(pid=980249)\u001b[0m Created PROTEIN-PROTEIN (class-class) Edges: 3087496 OWL Edges, 617499 Original Edges; 1249142 OWL Nodes, Original Nodes: 14141 protein(s), 14141 protein(s)\n",
      "\u001b[2m\u001b[36m(pid=980298)\u001b[0m \n",
      "\u001b[2m\u001b[36m(pid=980298)\u001b[0m Created RNA-ANATOMY (entity-class) Edges: 2881998 OWL Edges, 937674 Original Edges; 960788 OWL Nodes, Original Nodes: 26693 rna(s), 97 anatomy(s)\n",
      "Full Logic Graph Stats: 27123239 triples, 9652792 nodes, 76 predicates, 1270547 classes, 7066130 individuals, 867 object props, 700 annotation props\n",
      "Converting Knowledge Graph to MultiDiGraph\n"
     ]
    },
    {
     "name": "stderr",
     "output_type": "stream",
     "text": [
      "100%|██████████| 27123239/27123239 [1:11:08<00:00, 6354.43it/s] \n"
     ]
    },
    {
     "name": "stdout",
     "output_type": "stream",
     "text": [
      "Pickling MultiDiGraph\n",
      "Generating Network Statistics\n",
      "Full Logic Subset (OWL) Graph Stats: 9652792 nodes, 27123239 edges, 3 self-loops, 5 most most common edges: http://www.w3.org/1999/02/22-rdf-syntax-ns#type:16310146, http://www.w3.org/2000/01/rdf-schema#subClassOf:2129602, http://purl.obolibrary.org/obo/RO_0002436:989918, http://www.w3.org/2002/07/owl#onProperty:848255, http://www.w3.org/2002/07/owl#someValuesFrom:845093, http://purl.obolibrary.org/obo/RO_0001015:681180, average degree 2.809885367881127, 5 highest degree nodes: http://www.w3.org/2002/07/owl#NamedIndividual:7066130, http://www.w3.org/2002/07/owl#Class:1270547, http://www.w3.org/2002/07/owl#Restriction:848255, http://purl.obolibrary.org/obo/RO_0002160:410559, http://purl.obolibrary.org/obo/SO_0001483:214262, http://purl.obolibrary.org/obo/SO_0001217:189456, density: 2.9109563937322655e-07, 2 component(s): {0: 9652785, 1: '7 nodes: http://purl.obolibrary.org/obo/iao/2017-03-24/iao.owl | http://purl.obolibrary.org/obo/clo.owl | http://www.w3.org/2002/07/owl#Ontology | http://purl.obolibrary.org/obo/ro/core.owl | http://purl.obolibrary.org/obo/po/imports/ro_import.owl | http://purl.obolibrary.org/obo/bfo/2014-05-03/classes-only.owl | http://purl.obolibrary.org/obo/po/imports/ncbitaxon_import.owl'}\n",
      "Post-processing pkt-kg-Namespaced Anonymous Nodes\n",
      "Identifying BNodes with Namespace: https://github.com/callahantiff/PheKnowLator/pkt/bnode/\n",
      "Identifying BNodes\n",
      "Removing Namespace from BNodes\n",
      "Finalizing Updated Graph\n",
      "\n",
      "*** Running OWL-NETS ***\n"
     ]
    },
    {
     "name": "stderr",
     "output_type": "stream",
     "text": [
      "  0%|          | 0/17 [00:00<?, ?it/s]"
     ]
    },
    {
     "name": "stdout",
     "output_type": "stream",
     "text": [
      "Removing owl:disjointWith Axioms\n",
      "Filtering Triples\n"
     ]
    },
    {
     "name": "stderr",
     "output_type": "stream",
     "text": [
      "100%|██████████| 6276301/6276301 [05:42<00:00, 18308.45it/s]\n"
     ]
    },
    {
     "name": "stdout",
     "output_type": "stream",
     "text": [
      "\u001b[2m\u001b[36m(pid=1005350)\u001b[0m Decoding 43096 OWL Classes and Axioms\n",
      "\u001b[2m\u001b[36m(pid=1005476)\u001b[0m Decoding 43096 OWL Classes and Axioms\n",
      "\u001b[2m\u001b[36m(pid=1005562)\u001b[0m Decoding 43096 OWL Classes and Axioms\n",
      "\u001b[2m\u001b[36m(pid=1005703)\u001b[0m Decoding 43095 OWL Classes and Axioms\n",
      "\u001b[2m\u001b[36m(pid=1005816)\u001b[0m Decoding 43095 OWL Classes and Axioms\n",
      "\u001b[2m\u001b[36m(pid=1006054)\u001b[0m Decoding 43095 OWL Classes and Axioms\n",
      "\u001b[2m\u001b[36m(pid=1006139)\u001b[0m Decoding 43095 OWL Classes and Axioms\n",
      "\u001b[2m\u001b[36m(pid=1006416)\u001b[0m Decoding 43095 OWL Classes and Axioms\n",
      "\u001b[2m\u001b[36m(pid=1006491)\u001b[0m Decoding 43095 OWL Classes and Axioms\n",
      "\u001b[2m\u001b[36m(pid=1006599)\u001b[0m Decoding 43095 OWL Classes and Axioms\n",
      "\u001b[2m\u001b[36m(pid=1006677)\u001b[0m Decoding 43095 OWL Classes and Axioms\n",
      "\u001b[2m\u001b[36m(pid=1006765)\u001b[0m Decoding 43095 OWL Classes and Axioms\n",
      "\u001b[2m\u001b[36m(pid=1006855)\u001b[0m Decoding 43095 OWL Classes and Axioms\n",
      "\u001b[2m\u001b[36m(pid=1006948)\u001b[0m Decoding 43095 OWL Classes and Axioms\n",
      "\u001b[2m\u001b[36m(pid=1007082)\u001b[0m Decoding 43095 OWL Classes and Axioms\n",
      "\u001b[2m\u001b[36m(pid=1005476)\u001b[0m Filtering Triples\n",
      "\u001b[2m\u001b[36m(pid=1005562)\u001b[0m Filtering Triples\n",
      "\u001b[2m\u001b[36m(pid=1005350)\u001b[0m Filtering Triples\n",
      "\u001b[2m\u001b[36m(pid=1005703)\u001b[0m Filtering Triples\n",
      "\u001b[2m\u001b[36m(pid=1005816)\u001b[0m Filtering Triples\n",
      "\u001b[2m\u001b[36m(pid=1006054)\u001b[0m Filtering Triples\n",
      "\u001b[2m\u001b[36m(pid=1006139)\u001b[0m Filtering Triples\n",
      "\u001b[2m\u001b[36m(pid=1006416)\u001b[0m Filtering Triples\n",
      "\u001b[2m\u001b[36m(pid=1006677)\u001b[0m Filtering Triples\n",
      "\u001b[2m\u001b[36m(pid=1006599)\u001b[0m Filtering Triples\n",
      "\u001b[2m\u001b[36m(pid=1006765)\u001b[0m Filtering Triples\n",
      "\u001b[2m\u001b[36m(pid=1006491)\u001b[0m Filtering Triples\n",
      "\u001b[2m\u001b[36m(pid=1006855)\u001b[0m Filtering Triples\n",
      "\u001b[2m\u001b[36m(pid=1006948)\u001b[0m Filtering Triples\n",
      "\u001b[2m\u001b[36m(pid=1007082)\u001b[0m Filtering Triples\n",
      "\u001b[2m\u001b[36m(pid=1007276)\u001b[0m Decoding 43095 OWL Classes and Axioms\n",
      "\u001b[2m\u001b[36m(pid=1007276)\u001b[0m Filtering Triples\n"
     ]
    },
    {
     "name": "stderr",
     "output_type": "stream",
     "text": [
      "  6%|▌         | 1/17 [23:51<6:21:41, 1431.35s/it]"
     ]
    },
    {
     "name": "stdout",
     "output_type": "stream",
     "text": [
      "Removing owl:disjointWith Axioms\n",
      "Filtering Triples\n"
     ]
    },
    {
     "name": "stderr",
     "output_type": "stream",
     "text": [
      "100%|██████████| 631606/631606 [02:57<00:00, 3559.95it/s]\n",
      " 12%|█▏        | 2/17 [27:14<2:57:16, 709.07s/it] "
     ]
    },
    {
     "name": "stdout",
     "output_type": "stream",
     "text": [
      "Removing owl:disjointWith Axioms\n",
      "Filtering Triples\n"
     ]
    },
    {
     "name": "stderr",
     "output_type": "stream",
     "text": [
      "100%|██████████| 1013315/1013315 [13:20<00:00, 1266.59it/s]\n"
     ]
    },
    {
     "name": "stdout",
     "output_type": "stream",
     "text": [
      "\u001b[2m\u001b[36m(pid=1009889)\u001b[0m Decoding 1644 OWL Classes and Axioms\n",
      "\u001b[2m\u001b[36m(pid=1009915)\u001b[0m Decoding 1644 OWL Classes and Axioms\n",
      "\u001b[2m\u001b[36m(pid=1009941)\u001b[0m Decoding 1644 OWL Classes and Axioms\n",
      "\u001b[2m\u001b[36m(pid=1009973)\u001b[0m Decoding 1644 OWL Classes and Axioms\n",
      "\u001b[2m\u001b[36m(pid=1009996)\u001b[0m Decoding 1644 OWL Classes and Axioms\n",
      "\u001b[2m\u001b[36m(pid=1010021)\u001b[0m Decoding 1644 OWL Classes and Axioms\n",
      "\u001b[2m\u001b[36m(pid=1010057)\u001b[0m Decoding 1644 OWL Classes and Axioms\n",
      "\u001b[2m\u001b[36m(pid=1010084)\u001b[0m Decoding 1644 OWL Classes and Axioms\n",
      "\u001b[2m\u001b[36m(pid=1010112)\u001b[0m Decoding 1643 OWL Classes and Axioms\n",
      "\u001b[2m\u001b[36m(pid=1010139)\u001b[0m Decoding 1643 OWL Classes and Axioms\n",
      "\u001b[2m\u001b[36m(pid=1010180)\u001b[0m Decoding 1643 OWL Classes and Axioms\n",
      "\u001b[2m\u001b[36m(pid=1010206)\u001b[0m Decoding 1643 OWL Classes and Axioms\n",
      "\u001b[2m\u001b[36m(pid=1010232)\u001b[0m Decoding 1643 OWL Classes and Axioms\n",
      "\u001b[2m\u001b[36m(pid=1009889)\u001b[0m Filtering Triples\n",
      "\u001b[2m\u001b[36m(pid=1009915)\u001b[0m Filtering Triples\n",
      "\u001b[2m\u001b[36m(pid=1009941)\u001b[0m Filtering Triples\n",
      "\u001b[2m\u001b[36m(pid=1010021)\u001b[0m Filtering Triples\n",
      "\u001b[2m\u001b[36m(pid=1009996)\u001b[0m Filtering Triples\n",
      "\u001b[2m\u001b[36m(pid=1010112)\u001b[0m Filtering Triples\n",
      "\u001b[2m\u001b[36m(pid=1010139)\u001b[0m Filtering Triples\n",
      "\u001b[2m\u001b[36m(pid=1010232)\u001b[0m Filtering Triples\n",
      "\u001b[2m\u001b[36m(pid=1010206)\u001b[0m Filtering Triples\n",
      "\u001b[2m\u001b[36m(pid=1009973)\u001b[0m Filtering Triples\n",
      "\u001b[2m\u001b[36m(pid=1010057)\u001b[0m Filtering Triples\n",
      "\u001b[2m\u001b[36m(pid=1010180)\u001b[0m Filtering Triples\n",
      "\u001b[2m\u001b[36m(pid=1010084)\u001b[0m Filtering Triples\n",
      "\u001b[2m\u001b[36m(pid=1010257)\u001b[0m Decoding 1643 OWL Classes and Axioms\n",
      "\u001b[2m\u001b[36m(pid=1010257)\u001b[0m Filtering Triples\n",
      "\u001b[2m\u001b[36m(pid=1010283)\u001b[0m Decoding 1643 OWL Classes and Axioms\n",
      "\u001b[2m\u001b[36m(pid=1010283)\u001b[0m Filtering Triples\n",
      "\u001b[2m\u001b[36m(pid=1010306)\u001b[0m Decoding 1643 OWL Classes and Axioms\n"
     ]
    },
    {
     "name": "stderr",
     "output_type": "stream",
     "text": [
      " 18%|█▊        | 3/17 [42:52<3:09:45, 813.25s/it]"
     ]
    },
    {
     "name": "stdout",
     "output_type": "stream",
     "text": [
      "Removing owl:disjointWith Axioms\n",
      "Filtering Triples\n"
     ]
    },
    {
     "name": "stderr",
     "output_type": "stream",
     "text": []
    },
    {
     "name": "stdout",
     "output_type": "stream",
     "text": [
      "\u001b[2m\u001b[36m(pid=1010306)\u001b[0m Filtering Triples\n"
     ]
    },
    {
     "name": "stderr",
     "output_type": "stream",
     "text": [
      "100%|██████████| 889146/889146 [04:26<00:00, 3333.84it/s]\n",
      " 24%|██▎       | 4/17 [47:56<2:12:38, 612.20s/it]"
     ]
    },
    {
     "name": "stdout",
     "output_type": "stream",
     "text": [
      "Removing owl:disjointWith Axioms\n",
      "Filtering Triples\n"
     ]
    },
    {
     "name": "stderr",
     "output_type": "stream",
     "text": [
      "100%|██████████| 286419/286419 [01:21<00:00, 3508.35it/s]\n",
      " 29%|██▉       | 5/17 [49:29<1:25:00, 425.08s/it]"
     ]
    },
    {
     "name": "stdout",
     "output_type": "stream",
     "text": [
      "Removing owl:disjointWith Axioms\n",
      "Filtering Triples\n"
     ]
    },
    {
     "name": "stderr",
     "output_type": "stream",
     "text": [
      "100%|██████████| 953847/953847 [04:29<00:00, 3538.66it/s]\n"
     ]
    },
    {
     "name": "stdout",
     "output_type": "stream",
     "text": [
      "\u001b[2m\u001b[36m(pid=1011590)\u001b[0m Decoding 15024 OWL Classes and Axioms\n",
      "\u001b[2m\u001b[36m(pid=1011617)\u001b[0m Decoding 15024 OWL Classes and Axioms\n",
      "\u001b[2m\u001b[36m(pid=1011646)\u001b[0m Decoding 15023 OWL Classes and Axioms\n",
      "\u001b[2m\u001b[36m(pid=1011673)\u001b[0m Decoding 15023 OWL Classes and Axioms\n",
      "\u001b[2m\u001b[36m(pid=1011708)\u001b[0m Decoding 15023 OWL Classes and Axioms\n",
      "\u001b[2m\u001b[36m(pid=1011735)\u001b[0m Decoding 15023 OWL Classes and Axioms\n",
      "\u001b[2m\u001b[36m(pid=1011590)\u001b[0m Filtering Triples\n",
      "\u001b[2m\u001b[36m(pid=1011617)\u001b[0m Filtering Triples\n",
      "\u001b[2m\u001b[36m(pid=1011763)\u001b[0m Decoding 15023 OWL Classes and Axioms\n",
      "\u001b[2m\u001b[36m(pid=1011824)\u001b[0m Decoding 15023 OWL Classes and Axioms\n",
      "\u001b[2m\u001b[36m(pid=1011673)\u001b[0m Filtering Triples\n",
      "\u001b[2m\u001b[36m(pid=1011646)\u001b[0m Filtering Triples\n",
      "\u001b[2m\u001b[36m(pid=1011851)\u001b[0m Decoding 15023 OWL Classes and Axioms\n",
      "\u001b[2m\u001b[36m(pid=1011884)\u001b[0m Decoding 15023 OWL Classes and Axioms\n",
      "\u001b[2m\u001b[36m(pid=1011708)\u001b[0m Filtering Triples\n",
      "\u001b[2m\u001b[36m(pid=1011735)\u001b[0m Filtering Triples\n",
      "\u001b[2m\u001b[36m(pid=1011921)\u001b[0m Decoding 15023 OWL Classes and Axioms\n",
      "\u001b[2m\u001b[36m(pid=1011961)\u001b[0m Decoding 15023 OWL Classes and Axioms\n",
      "\u001b[2m\u001b[36m(pid=1011824)\u001b[0m Filtering Triples\n",
      "\u001b[2m\u001b[36m(pid=1011763)\u001b[0m Filtering Triples\n",
      "\u001b[2m\u001b[36m(pid=1011989)\u001b[0m Decoding 15023 OWL Classes and Axioms\n",
      "\u001b[2m\u001b[36m(pid=1012015)\u001b[0m Decoding 15023 OWL Classes and Axioms\n",
      "\u001b[2m\u001b[36m(pid=1011884)\u001b[0m Filtering Triples\n",
      "\u001b[2m\u001b[36m(pid=1011851)\u001b[0m Filtering Triples\n",
      "\u001b[2m\u001b[36m(pid=1011921)\u001b[0m Filtering Triples\n",
      "\u001b[2m\u001b[36m(pid=1011961)\u001b[0m Filtering Triples\n",
      "\u001b[2m\u001b[36m(pid=1012015)\u001b[0m Filtering Triples\n",
      "\u001b[2m\u001b[36m(pid=1011989)\u001b[0m Filtering Triples\n",
      "\u001b[2m\u001b[36m(pid=1012042)\u001b[0m Decoding 15023 OWL Classes and Axioms\n",
      "\u001b[2m\u001b[36m(pid=1012042)\u001b[0m Filtering Triples\n",
      "\u001b[2m\u001b[36m(pid=1012071)\u001b[0m Decoding 15023 OWL Classes and Axioms\n"
     ]
    },
    {
     "name": "stderr",
     "output_type": "stream",
     "text": [
      " 35%|███▌      | 6/17 [56:04<1:16:02, 414.82s/it]"
     ]
    },
    {
     "name": "stdout",
     "output_type": "stream",
     "text": [
      "Removing owl:disjointWith Axioms\n",
      "Filtering Triples\n"
     ]
    },
    {
     "name": "stderr",
     "output_type": "stream",
     "text": []
    },
    {
     "name": "stdout",
     "output_type": "stream",
     "text": [
      "\u001b[2m\u001b[36m(pid=1012071)\u001b[0m Filtering Triples\n"
     ]
    },
    {
     "name": "stderr",
     "output_type": "stream",
     "text": [
      "100%|██████████| 898089/898089 [02:35<00:00, 5758.80it/s]\n"
     ]
    },
    {
     "name": "stdout",
     "output_type": "stream",
     "text": [
      "\u001b[2m\u001b[36m(pid=1012413)\u001b[0m Decoding 12125 OWL Classes and Axioms\n",
      "\u001b[2m\u001b[36m(pid=1012446)\u001b[0m Decoding 12125 OWL Classes and Axioms\n",
      "\u001b[2m\u001b[36m(pid=1012472)\u001b[0m Decoding 12125 OWL Classes and Axioms\n",
      "\u001b[2m\u001b[36m(pid=1012512)\u001b[0m Decoding 12125 OWL Classes and Axioms\n",
      "\u001b[2m\u001b[36m(pid=1012539)\u001b[0m Decoding 12124 OWL Classes and Axioms\n",
      "\u001b[2m\u001b[36m(pid=1012569)\u001b[0m Decoding 12124 OWL Classes and Axioms\n",
      "\u001b[2m\u001b[36m(pid=1012413)\u001b[0m Filtering Triples\n",
      "\u001b[2m\u001b[36m(pid=1012596)\u001b[0m Decoding 12124 OWL Classes and Axioms\n",
      "\u001b[2m\u001b[36m(pid=1012446)\u001b[0m Filtering Triples\n",
      "\u001b[2m\u001b[36m(pid=1012621)\u001b[0m Decoding 12124 OWL Classes and Axioms\n",
      "\u001b[2m\u001b[36m(pid=1012512)\u001b[0m Filtering Triples\n",
      "\u001b[2m\u001b[36m(pid=1012647)\u001b[0m Decoding 12124 OWL Classes and Axioms\n",
      "\u001b[2m\u001b[36m(pid=1012674)\u001b[0m Decoding 12124 OWL Classes and Axioms\n",
      "\u001b[2m\u001b[36m(pid=1012472)\u001b[0m Filtering Triples\n",
      "\u001b[2m\u001b[36m(pid=1012709)\u001b[0m Decoding 12124 OWL Classes and Axioms\n",
      "\u001b[2m\u001b[36m(pid=1012539)\u001b[0m Filtering Triples\n",
      "\u001b[2m\u001b[36m(pid=1012734)\u001b[0m Decoding 12124 OWL Classes and Axioms\n",
      "\u001b[2m\u001b[36m(pid=1012569)\u001b[0m Filtering Triples\n",
      "\u001b[2m\u001b[36m(pid=1012761)\u001b[0m Decoding 12124 OWL Classes and Axioms\n",
      "\u001b[2m\u001b[36m(pid=1012596)\u001b[0m Filtering Triples\n",
      "\u001b[2m\u001b[36m(pid=1012621)\u001b[0m Filtering Triples\n",
      "\u001b[2m\u001b[36m(pid=1012647)\u001b[0m Filtering Triples\n",
      "\u001b[2m\u001b[36m(pid=1012674)\u001b[0m Filtering Triples\n",
      "\u001b[2m\u001b[36m(pid=1012709)\u001b[0m Filtering Triples\n",
      "\u001b[2m\u001b[36m(pid=1012734)\u001b[0m Filtering Triples\n",
      "\u001b[2m\u001b[36m(pid=1012761)\u001b[0m Filtering Triples\n",
      "\u001b[2m\u001b[36m(pid=1012802)\u001b[0m Decoding 12124 OWL Classes and Axioms\n",
      "\u001b[2m\u001b[36m(pid=1012802)\u001b[0m Filtering Triples\n",
      "\u001b[2m\u001b[36m(pid=1012828)\u001b[0m Decoding 12124 OWL Classes and Axioms\n",
      "\u001b[2m\u001b[36m(pid=1012828)\u001b[0m Filtering Triples\n",
      "\u001b[2m\u001b[36m(pid=1012861)\u001b[0m Decoding 12124 OWL Classes and Axioms\n"
     ]
    },
    {
     "name": "stderr",
     "output_type": "stream",
     "text": [
      " 41%|████      | 7/17 [1:00:34<1:01:15, 367.53s/it]"
     ]
    },
    {
     "name": "stdout",
     "output_type": "stream",
     "text": [
      "Removing owl:disjointWith Axioms\n",
      "Filtering Triples\n"
     ]
    },
    {
     "name": "stderr",
     "output_type": "stream",
     "text": []
    },
    {
     "name": "stdout",
     "output_type": "stream",
     "text": [
      "\u001b[2m\u001b[36m(pid=1012861)\u001b[0m Filtering Triples\n"
     ]
    },
    {
     "name": "stderr",
     "output_type": "stream",
     "text": [
      "100%|██████████| 299281/299281 [02:17<00:00, 2171.57it/s]\n"
     ]
    },
    {
     "name": "stdout",
     "output_type": "stream",
     "text": [
      "\u001b[2m\u001b[36m(pid=1013310)\u001b[0m Decoding 202 OWL Classes and Axioms\n",
      "\u001b[2m\u001b[36m(pid=1013337)\u001b[0m Decoding 202 OWL Classes and Axioms\n",
      "\u001b[2m\u001b[36m(pid=1013337)\u001b[0m Filtering Triples\n",
      "\u001b[2m\u001b[36m(pid=1013365)\u001b[0m Decoding 202 OWL Classes and Axioms\n",
      "\u001b[2m\u001b[36m(pid=1013365)\u001b[0m Filtering Triples\n",
      "\u001b[2m\u001b[36m(pid=1013390)\u001b[0m Decoding 202 OWL Classes and Axioms\n",
      "\u001b[2m\u001b[36m(pid=1013390)\u001b[0m Filtering Triples\n",
      "\u001b[2m\u001b[36m(pid=1013415)\u001b[0m Decoding 202 OWL Classes and Axioms\n",
      "\u001b[2m\u001b[36m(pid=1013415)\u001b[0m Filtering Triples\n",
      "\u001b[2m\u001b[36m(pid=1013447)\u001b[0m Decoding 202 OWL Classes and Axioms\n",
      "\u001b[2m\u001b[36m(pid=1013447)\u001b[0m Filtering Triples\n",
      "\u001b[2m\u001b[36m(pid=1013479)\u001b[0m Decoding 201 OWL Classes and Axioms\n",
      "\u001b[2m\u001b[36m(pid=1013479)\u001b[0m Filtering Triples\n",
      "\u001b[2m\u001b[36m(pid=1013505)\u001b[0m Decoding 201 OWL Classes and Axioms\n",
      "\u001b[2m\u001b[36m(pid=1013530)\u001b[0m Decoding 201 OWL Classes and Axioms\n",
      "\u001b[2m\u001b[36m(pid=1013555)\u001b[0m Decoding 201 OWL Classes and Axioms\n",
      "\u001b[2m\u001b[36m(pid=1013590)\u001b[0m Decoding 201 OWL Classes and Axioms\n",
      "\u001b[2m\u001b[36m(pid=1013615)\u001b[0m Decoding 201 OWL Classes and Axioms\n",
      "\u001b[2m\u001b[36m(pid=1013505)\u001b[0m Filtering Triples\n",
      "\u001b[2m\u001b[36m(pid=1013530)\u001b[0m Filtering Triples\n",
      "\u001b[2m\u001b[36m(pid=1013310)\u001b[0m Filtering Triples\n",
      "\u001b[2m\u001b[36m(pid=1013615)\u001b[0m Filtering Triples\n",
      "\u001b[2m\u001b[36m(pid=1013555)\u001b[0m Filtering Triples\n",
      "\u001b[2m\u001b[36m(pid=1013590)\u001b[0m Filtering Triples\n",
      "\u001b[2m\u001b[36m(pid=1013641)\u001b[0m Decoding 201 OWL Classes and Axioms\n",
      "\u001b[2m\u001b[36m(pid=1013641)\u001b[0m Filtering Triples\n",
      "\u001b[2m\u001b[36m(pid=1013666)\u001b[0m Decoding 201 OWL Classes and Axioms\n",
      "\u001b[2m\u001b[36m(pid=1013666)\u001b[0m Filtering Triples\n",
      "\u001b[2m\u001b[36m(pid=1013692)\u001b[0m Decoding 201 OWL Classes and Axioms\n",
      "\u001b[2m\u001b[36m(pid=1013692)\u001b[0m Filtering Triples\n"
     ]
    },
    {
     "name": "stderr",
     "output_type": "stream",
     "text": [
      " 47%|████▋     | 8/17 [1:03:22<45:37, 304.15s/it]  "
     ]
    },
    {
     "name": "stdout",
     "output_type": "stream",
     "text": [
      "\u001b[2m\u001b[36m(pid=1013717)\u001b[0m Decoding 201 OWL Classes and Axioms\n",
      "Removing owl:disjointWith Axioms\n",
      "Filtering Triples\n"
     ]
    },
    {
     "name": "stderr",
     "output_type": "stream",
     "text": []
    },
    {
     "name": "stdout",
     "output_type": "stream",
     "text": [
      "\u001b[2m\u001b[36m(pid=1013717)\u001b[0m Filtering Triples\n"
     ]
    },
    {
     "name": "stderr",
     "output_type": "stream",
     "text": [
      "100%|██████████| 294142/294142 [01:14<00:00, 3926.07it/s]\n"
     ]
    },
    {
     "name": "stdout",
     "output_type": "stream",
     "text": [
      "\u001b[2m\u001b[36m(pid=1013922)\u001b[0m Decoding 934 OWL Classes and Axioms\n",
      "\u001b[2m\u001b[36m(pid=1013926)\u001b[0m Decoding 934 OWL Classes and Axioms\n",
      "\u001b[2m\u001b[36m(pid=1013968)\u001b[0m Decoding 934 OWL Classes and Axioms\n",
      "\u001b[2m\u001b[36m(pid=1013993)\u001b[0m Decoding 934 OWL Classes and Axioms\n",
      "\u001b[2m\u001b[36m(pid=1013922)\u001b[0m Filtering Triples\n",
      "\u001b[2m\u001b[36m(pid=1013926)\u001b[0m Filtering Triples\n",
      "\u001b[2m\u001b[36m(pid=1014021)\u001b[0m Decoding 934 OWL Classes and Axioms\n",
      "\u001b[2m\u001b[36m(pid=1014044)\u001b[0m Decoding 934 OWL Classes and Axioms\n",
      "\u001b[2m\u001b[36m(pid=1014072)\u001b[0m Decoding 934 OWL Classes and Axioms\n",
      "\u001b[2m\u001b[36m(pid=1014095)\u001b[0m Decoding 934 OWL Classes and Axioms\n",
      "\u001b[2m\u001b[36m(pid=1014120)\u001b[0m Decoding 934 OWL Classes and Axioms\n",
      "\u001b[2m\u001b[36m(pid=1014145)\u001b[0m Decoding 934 OWL Classes and Axioms\n",
      "\u001b[2m\u001b[36m(pid=1014170)\u001b[0m Decoding 934 OWL Classes and Axioms\n",
      "\u001b[2m\u001b[36m(pid=1014044)\u001b[0m Filtering Triples\n",
      "\u001b[2m\u001b[36m(pid=1014021)\u001b[0m Filtering Triples\n",
      "\u001b[2m\u001b[36m(pid=1014120)\u001b[0m Filtering Triples\n",
      "\u001b[2m\u001b[36m(pid=1014145)\u001b[0m Filtering Triples\n",
      "\u001b[2m\u001b[36m(pid=1014170)\u001b[0m Filtering Triples\n",
      "\u001b[2m\u001b[36m(pid=1013993)\u001b[0m Filtering Triples\n",
      "\u001b[2m\u001b[36m(pid=1013968)\u001b[0m Filtering Triples\n",
      "\u001b[2m\u001b[36m(pid=1014072)\u001b[0m Filtering Triples\n",
      "\u001b[2m\u001b[36m(pid=1014095)\u001b[0m Filtering Triples\n",
      "\u001b[2m\u001b[36m(pid=1014195)\u001b[0m Decoding 933 OWL Classes and Axioms\n",
      "\u001b[2m\u001b[36m(pid=1014195)\u001b[0m Filtering Triples\n",
      "\u001b[2m\u001b[36m(pid=1014221)\u001b[0m Decoding 933 OWL Classes and Axioms\n",
      "\u001b[2m\u001b[36m(pid=1014221)\u001b[0m Filtering Triples\n",
      "\u001b[2m\u001b[36m(pid=1014255)\u001b[0m Decoding 933 OWL Classes and Axioms\n",
      "\u001b[2m\u001b[36m(pid=1014255)\u001b[0m Filtering Triples\n",
      "\u001b[2m\u001b[36m(pid=1014280)\u001b[0m Decoding 933 OWL Classes and Axioms\n",
      "\u001b[2m\u001b[36m(pid=1014280)\u001b[0m Filtering Triples\n"
     ]
    },
    {
     "name": "stderr",
     "output_type": "stream",
     "text": [
      " 53%|█████▎    | 9/17 [1:05:06<32:11, 241.44s/it]"
     ]
    },
    {
     "name": "stdout",
     "output_type": "stream",
     "text": [
      "\u001b[2m\u001b[36m(pid=1014305)\u001b[0m Decoding 933 OWL Classes and Axioms\n",
      "Removing owl:disjointWith Axioms\n",
      "Filtering Triples\n"
     ]
    },
    {
     "name": "stderr",
     "output_type": "stream",
     "text": []
    },
    {
     "name": "stdout",
     "output_type": "stream",
     "text": [
      "\u001b[2m\u001b[36m(pid=1014305)\u001b[0m Filtering Triples\n"
     ]
    },
    {
     "name": "stderr",
     "output_type": "stream",
     "text": [
      "100%|██████████| 165326/165326 [00:47<00:00, 3490.26it/s]\n",
      "2023-08-24 14:39:17,145\tWARNING import_thread.py:133 -- The actor 'OwlNets' has been exported 100 times. It's possible that this warning is accidental, but this may indicate that the same remote function is being defined repeatedly from within many tasks and exported to all of the workers. This can be a performance issue and can be resolved by defining the remote function on the driver instead. See https://github.com/ray-project/ray/issues/6240 for more discussion.\n"
     ]
    },
    {
     "name": "stdout",
     "output_type": "stream",
     "text": [
      "\u001b[2m\u001b[36m(pid=1014432)\u001b[0m Decoding 746 OWL Classes and Axioms\n",
      "\u001b[2m\u001b[36m(pid=1014436)\u001b[0m Decoding 746 OWL Classes and Axioms\n",
      "\u001b[2m\u001b[36m(pid=1014461)\u001b[0m Decoding 746 OWL Classes and Axioms\n",
      "\u001b[2m\u001b[36m(pid=1014486)\u001b[0m Decoding 746 OWL Classes and Axioms\n",
      "\u001b[2m\u001b[36m(pid=1014511)\u001b[0m Decoding 746 OWL Classes and Axioms\n",
      "\u001b[2m\u001b[36m(pid=1014432)\u001b[0m Filtering Triples\n",
      "\u001b[2m\u001b[36m(pid=1014436)\u001b[0m Filtering Triples\n",
      "\u001b[2m\u001b[36m(pid=1014461)\u001b[0m Filtering Triples\n",
      "\u001b[2m\u001b[36m(pid=1014486)\u001b[0m Filtering Triples\n",
      "\u001b[2m\u001b[36m(pid=1014511)\u001b[0m Filtering Triples\n",
      "\u001b[2m\u001b[36m(pid=1014536)\u001b[0m Decoding 746 OWL Classes and Axioms\n",
      "\u001b[2m\u001b[36m(pid=1014536)\u001b[0m Filtering Triples\n",
      "\u001b[2m\u001b[36m(pid=1014561)\u001b[0m Decoding 746 OWL Classes and Axioms\n",
      "\u001b[2m\u001b[36m(pid=1014561)\u001b[0m Filtering Triples\n",
      "\u001b[2m\u001b[36m(pid=1014586)\u001b[0m Decoding 746 OWL Classes and Axioms\n",
      "\u001b[2m\u001b[36m(pid=1014586)\u001b[0m Filtering Triples\n",
      "\u001b[2m\u001b[36m(pid=1014612)\u001b[0m Decoding 746 OWL Classes and Axioms\n",
      "\u001b[2m\u001b[36m(pid=1014638)\u001b[0m Decoding 746 OWL Classes and Axioms\n",
      "\u001b[2m\u001b[36m(pid=1014612)\u001b[0m Filtering Triples\n",
      "\u001b[2m\u001b[36m(pid=1014638)\u001b[0m Filtering Triples\n",
      "\u001b[2m\u001b[36m(pid=1014663)\u001b[0m Decoding 746 OWL Classes and Axioms\n",
      "\u001b[2m\u001b[36m(pid=1014663)\u001b[0m Filtering Triples\n",
      "\u001b[2m\u001b[36m(pid=1014688)\u001b[0m Decoding 746 OWL Classes and Axioms\n",
      "\u001b[2m\u001b[36m(pid=1014688)\u001b[0m Filtering Triples\n",
      "\u001b[2m\u001b[36m(pid=1014713)\u001b[0m Decoding 746 OWL Classes and Axioms\n",
      "\u001b[2m\u001b[36m(pid=1014713)\u001b[0m Filtering Triples\n",
      "\u001b[2m\u001b[36m(pid=1014738)\u001b[0m Decoding 746 OWL Classes and Axioms\n",
      "\u001b[2m\u001b[36m(pid=1014738)\u001b[0m Filtering Triples\n",
      "\u001b[2m\u001b[36m(pid=1014760)\u001b[0m Decoding 746 OWL Classes and Axioms\n",
      "\u001b[2m\u001b[36m(pid=1014760)\u001b[0m Filtering Triples\n"
     ]
    },
    {
     "name": "stderr",
     "output_type": "stream",
     "text": [
      " 59%|█████▉    | 10/17 [1:06:12<21:50, 187.28s/it]"
     ]
    },
    {
     "name": "stdout",
     "output_type": "stream",
     "text": [
      "\u001b[2m\u001b[36m(pid=1014785)\u001b[0m Decoding 746 OWL Classes and Axioms\n",
      "Removing owl:disjointWith Axioms\n",
      "Filtering Triples\n"
     ]
    },
    {
     "name": "stderr",
     "output_type": "stream",
     "text": []
    },
    {
     "name": "stdout",
     "output_type": "stream",
     "text": [
      "\u001b[2m\u001b[36m(pid=1014785)\u001b[0m Filtering Triples\n"
     ]
    },
    {
     "name": "stderr",
     "output_type": "stream",
     "text": [
      "100%|██████████| 263918/263918 [01:04<00:00, 4102.08it/s]\n"
     ]
    },
    {
     "name": "stdout",
     "output_type": "stream",
     "text": [
      "\u001b[2m\u001b[36m(pid=1015368)\u001b[0m Decoding 803 OWL Classes and Axioms\n",
      "\u001b[2m\u001b[36m(pid=1015372)\u001b[0m Decoding 803 OWL Classes and Axioms\n",
      "\u001b[2m\u001b[36m(pid=1015425)\u001b[0m Decoding 802 OWL Classes and Axioms\n",
      "\u001b[2m\u001b[36m(pid=1015474)\u001b[0m Decoding 802 OWL Classes and Axioms\n",
      "\u001b[2m\u001b[36m(pid=1015513)\u001b[0m Decoding 802 OWL Classes and Axioms\n",
      "\u001b[2m\u001b[36m(pid=1015538)\u001b[0m Decoding 802 OWL Classes and Axioms\n",
      "\u001b[2m\u001b[36m(pid=1015571)\u001b[0m Decoding 802 OWL Classes and Axioms\n",
      "\u001b[2m\u001b[36m(pid=1015622)\u001b[0m Decoding 802 OWL Classes and Axioms\n",
      "\u001b[2m\u001b[36m(pid=1015650)\u001b[0m Decoding 802 OWL Classes and Axioms\n",
      "\u001b[2m\u001b[36m(pid=1015691)\u001b[0m Decoding 802 OWL Classes and Axioms\n",
      "\u001b[2m\u001b[36m(pid=1015368)\u001b[0m Filtering Triples\n",
      "\u001b[2m\u001b[36m(pid=1015372)\u001b[0m Filtering Triples\n",
      "\u001b[2m\u001b[36m(pid=1015425)\u001b[0m Filtering Triples\n",
      "\u001b[2m\u001b[36m(pid=1015474)\u001b[0m Filtering Triples\n",
      "\u001b[2m\u001b[36m(pid=1015538)\u001b[0m Filtering Triples\n",
      "\u001b[2m\u001b[36m(pid=1015513)\u001b[0m Filtering Triples\n",
      "\u001b[2m\u001b[36m(pid=1015571)\u001b[0m Filtering Triples\n",
      "\u001b[2m\u001b[36m(pid=1015622)\u001b[0m Filtering Triples\n",
      "\u001b[2m\u001b[36m(pid=1015713)\u001b[0m Decoding 802 OWL Classes and Axioms\n",
      "\u001b[2m\u001b[36m(pid=1015650)\u001b[0m Filtering Triples\n",
      "\u001b[2m\u001b[36m(pid=1015691)\u001b[0m Filtering Triples\n",
      "\u001b[2m\u001b[36m(pid=1015713)\u001b[0m Filtering Triples\n",
      "\u001b[2m\u001b[36m(pid=1015738)\u001b[0m Decoding 802 OWL Classes and Axioms\n",
      "\u001b[2m\u001b[36m(pid=1015738)\u001b[0m Filtering Triples\n",
      "\u001b[2m\u001b[36m(pid=1015763)\u001b[0m Decoding 802 OWL Classes and Axioms\n",
      "\u001b[2m\u001b[36m(pid=1015763)\u001b[0m Filtering Triples\n",
      "\u001b[2m\u001b[36m(pid=1015789)\u001b[0m Decoding 802 OWL Classes and Axioms\n",
      "\u001b[2m\u001b[36m(pid=1015789)\u001b[0m Filtering Triples\n",
      "\u001b[2m\u001b[36m(pid=1015814)\u001b[0m Decoding 802 OWL Classes and Axioms\n",
      "\u001b[2m\u001b[36m(pid=1015814)\u001b[0m Filtering Triples\n",
      "\u001b[2m\u001b[36m(pid=1015837)\u001b[0m Decoding 802 OWL Classes and Axioms\n"
     ]
    },
    {
     "name": "stderr",
     "output_type": "stream",
     "text": [
      " 65%|██████▍   | 11/17 [1:07:41<15:43, 157.24s/it]"
     ]
    },
    {
     "name": "stdout",
     "output_type": "stream",
     "text": [
      "Removing owl:disjointWith Axioms\n",
      "Filtering Triples\n"
     ]
    },
    {
     "name": "stderr",
     "output_type": "stream",
     "text": []
    },
    {
     "name": "stdout",
     "output_type": "stream",
     "text": [
      "\u001b[2m\u001b[36m(pid=1015837)\u001b[0m Filtering Triples\n"
     ]
    },
    {
     "name": "stderr",
     "output_type": "stream",
     "text": [
      "100%|██████████| 365672/365672 [01:44<00:00, 3498.69it/s]\n"
     ]
    },
    {
     "name": "stdout",
     "output_type": "stream",
     "text": [
      "\u001b[2m\u001b[36m(pid=1016132)\u001b[0m Decoding 2189 OWL Classes and Axioms\n",
      "\u001b[2m\u001b[36m(pid=1016170)\u001b[0m Decoding 2189 OWL Classes and Axioms\n",
      "\u001b[2m\u001b[36m(pid=1016200)\u001b[0m Decoding 2189 OWL Classes and Axioms\n",
      "\u001b[2m\u001b[36m(pid=1016233)\u001b[0m Decoding 2189 OWL Classes and Axioms\n",
      "\u001b[2m\u001b[36m(pid=1016273)\u001b[0m Decoding 2189 OWL Classes and Axioms\n",
      "\u001b[2m\u001b[36m(pid=1016307)\u001b[0m Decoding 2189 OWL Classes and Axioms\n",
      "\u001b[2m\u001b[36m(pid=1016346)\u001b[0m Decoding 2189 OWL Classes and Axioms\n",
      "\u001b[2m\u001b[36m(pid=1016383)\u001b[0m Decoding 2189 OWL Classes and Axioms\n",
      "\u001b[2m\u001b[36m(pid=1016416)\u001b[0m Decoding 2188 OWL Classes and Axioms\n",
      "\u001b[2m\u001b[36m(pid=1016132)\u001b[0m Filtering Triples\n",
      "\u001b[2m\u001b[36m(pid=1016170)\u001b[0m Filtering Triples\n",
      "\u001b[2m\u001b[36m(pid=1016233)\u001b[0m Filtering Triples\n",
      "\u001b[2m\u001b[36m(pid=1016273)\u001b[0m Filtering Triples\n",
      "\u001b[2m\u001b[36m(pid=1016466)\u001b[0m Decoding 2188 OWL Classes and Axioms\n",
      "\u001b[2m\u001b[36m(pid=1016508)\u001b[0m Decoding 2188 OWL Classes and Axioms\n",
      "\u001b[2m\u001b[36m(pid=1016533)\u001b[0m Decoding 2188 OWL Classes and Axioms\n",
      "\u001b[2m\u001b[36m(pid=1016200)\u001b[0m Filtering Triples\n",
      "\u001b[2m\u001b[36m(pid=1016346)\u001b[0m Filtering Triples\n",
      "\u001b[2m\u001b[36m(pid=1016416)\u001b[0m Filtering Triples\n",
      "\u001b[2m\u001b[36m(pid=1016307)\u001b[0m Filtering Triples\n",
      "\u001b[2m\u001b[36m(pid=1016466)\u001b[0m Filtering Triples\n",
      "\u001b[2m\u001b[36m(pid=1016508)\u001b[0m Filtering Triples\n",
      "\u001b[2m\u001b[36m(pid=1016533)\u001b[0m Filtering Triples\n",
      "\u001b[2m\u001b[36m(pid=1016383)\u001b[0m Filtering Triples\n",
      "\u001b[2m\u001b[36m(pid=1016558)\u001b[0m Decoding 2188 OWL Classes and Axioms\n",
      "\u001b[2m\u001b[36m(pid=1016558)\u001b[0m Filtering Triples\n",
      "\u001b[2m\u001b[36m(pid=1016584)\u001b[0m Decoding 2188 OWL Classes and Axioms\n",
      "\u001b[2m\u001b[36m(pid=1016584)\u001b[0m Filtering Triples\n",
      "\u001b[2m\u001b[36m(pid=1016609)\u001b[0m Decoding 2188 OWL Classes and Axioms\n",
      "\u001b[2m\u001b[36m(pid=1016609)\u001b[0m Filtering Triples\n"
     ]
    },
    {
     "name": "stderr",
     "output_type": "stream",
     "text": [
      " 71%|███████   | 12/17 [1:10:07<12:48, 153.79s/it]"
     ]
    },
    {
     "name": "stdout",
     "output_type": "stream",
     "text": [
      "\u001b[2m\u001b[36m(pid=1016643)\u001b[0m Decoding 2188 OWL Classes and Axioms\n",
      "Removing owl:disjointWith Axioms\u001b[2m\u001b[36m(pid=1016643)\u001b[0m Filtering Triples\n",
      "\n",
      "Filtering Triples\n"
     ]
    },
    {
     "name": "stderr",
     "output_type": "stream",
     "text": [
      "100%|██████████| 262432/262432 [00:59<00:00, 4387.70it/s]\n"
     ]
    },
    {
     "name": "stdout",
     "output_type": "stream",
     "text": [
      "\u001b[2m\u001b[36m(pid=1017168)\u001b[0m Decoding 1547 OWL Classes and Axioms\n",
      "\u001b[2m\u001b[36m(pid=1017193)\u001b[0m Decoding 1547 OWL Classes and Axioms\n",
      "\u001b[2m\u001b[36m(pid=1017218)\u001b[0m Decoding 1547 OWL Classes and Axioms\n",
      "\u001b[2m\u001b[36m(pid=1017243)\u001b[0m Decoding 1547 OWL Classes and Axioms\n",
      "\u001b[2m\u001b[36m(pid=1017270)\u001b[0m Decoding 1547 OWL Classes and Axioms\n",
      "\u001b[2m\u001b[36m(pid=1017297)\u001b[0m Decoding 1547 OWL Classes and Axioms\n",
      "\u001b[2m\u001b[36m(pid=1017323)\u001b[0m Decoding 1547 OWL Classes and Axioms\n",
      "\u001b[2m\u001b[36m(pid=1017351)\u001b[0m Decoding 1547 OWL Classes and Axioms\n",
      "\u001b[2m\u001b[36m(pid=1017377)\u001b[0m Decoding 1547 OWL Classes and Axioms\n",
      "\u001b[2m\u001b[36m(pid=1017168)\u001b[0m Filtering Triples\n",
      "\u001b[2m\u001b[36m(pid=1017193)\u001b[0m Filtering Triples\n",
      "\u001b[2m\u001b[36m(pid=1017218)\u001b[0m Filtering Triples\n",
      "\u001b[2m\u001b[36m(pid=1017243)\u001b[0m Filtering Triples\n",
      "\u001b[2m\u001b[36m(pid=1017270)\u001b[0m Filtering Triples\n",
      "\u001b[2m\u001b[36m(pid=1017297)\u001b[0m Filtering Triples\n",
      "\u001b[2m\u001b[36m(pid=1017402)\u001b[0m Decoding 1547 OWL Classes and Axioms\n",
      "\u001b[2m\u001b[36m(pid=1017427)\u001b[0m Decoding 1546 OWL Classes and Axioms\n",
      "\u001b[2m\u001b[36m(pid=1017462)\u001b[0m Decoding 1546 OWL Classes and Axioms\n",
      "\u001b[2m\u001b[36m(pid=1017351)\u001b[0m Filtering Triples\n",
      "\u001b[2m\u001b[36m(pid=1017323)\u001b[0m Filtering Triples\n",
      "\u001b[2m\u001b[36m(pid=1017377)\u001b[0m Filtering Triples\n",
      "\u001b[2m\u001b[36m(pid=1017402)\u001b[0m Filtering Triples\n",
      "\u001b[2m\u001b[36m(pid=1017427)\u001b[0m Filtering Triples\n",
      "\u001b[2m\u001b[36m(pid=1017462)\u001b[0m Filtering Triples\n",
      "\u001b[2m\u001b[36m(pid=1017489)\u001b[0m Decoding 1546 OWL Classes and Axioms\n",
      "\u001b[2m\u001b[36m(pid=1017489)\u001b[0m Filtering Triples\n",
      "\u001b[2m\u001b[36m(pid=1017514)\u001b[0m Decoding 1546 OWL Classes and Axioms\n",
      "\u001b[2m\u001b[36m(pid=1017514)\u001b[0m Filtering Triples\n",
      "\u001b[2m\u001b[36m(pid=1017540)\u001b[0m Decoding 1546 OWL Classes and Axioms\n",
      "\u001b[2m\u001b[36m(pid=1017540)\u001b[0m Filtering Triples\n"
     ]
    },
    {
     "name": "stderr",
     "output_type": "stream",
     "text": [
      " 76%|███████▋  | 13/17 [1:12:42<10:16, 154.05s/it]"
     ]
    },
    {
     "name": "stdout",
     "output_type": "stream",
     "text": [
      "\u001b[2m\u001b[36m(pid=1017566)\u001b[0m Decoding 1546 OWL Classes and Axioms\n",
      "Removing owl:disjointWith Axioms\n",
      "Filtering Triples\n"
     ]
    },
    {
     "name": "stderr",
     "output_type": "stream",
     "text": []
    },
    {
     "name": "stdout",
     "output_type": "stream",
     "text": [
      "\u001b[2m\u001b[36m(pid=1017566)\u001b[0m Filtering Triples\n"
     ]
    },
    {
     "name": "stderr",
     "output_type": "stream",
     "text": [
      "100%|██████████| 307598/307598 [01:58<00:00, 2606.03it/s]\n"
     ]
    },
    {
     "name": "stdout",
     "output_type": "stream",
     "text": [
      "\u001b[2m\u001b[36m(pid=1017805)\u001b[0m Decoding 629 OWL Classes and Axioms\n",
      "\u001b[2m\u001b[36m(pid=1017820)\u001b[0m Decoding 629 OWL Classes and Axioms\n",
      "\u001b[2m\u001b[36m(pid=1017848)\u001b[0m Decoding 629 OWL Classes and Axioms\n",
      "\u001b[2m\u001b[36m(pid=1017873)\u001b[0m Decoding 629 OWL Classes and Axioms\n",
      "\u001b[2m\u001b[36m(pid=1017898)\u001b[0m Decoding 628 OWL Classes and Axioms\n",
      "\u001b[2m\u001b[36m(pid=1017931)\u001b[0m Decoding 628 OWL Classes and Axioms\n",
      "\u001b[2m\u001b[36m(pid=1017948)\u001b[0m Decoding 628 OWL Classes and Axioms\n",
      "\u001b[2m\u001b[36m(pid=1017973)\u001b[0m Decoding 628 OWL Classes and Axioms\n",
      "\u001b[2m\u001b[36m(pid=1017996)\u001b[0m Decoding 628 OWL Classes and Axioms\n",
      "\u001b[2m\u001b[36m(pid=1018024)\u001b[0m Decoding 628 OWL Classes and Axioms\n",
      "\u001b[2m\u001b[36m(pid=1017805)\u001b[0m Filtering Triples\n",
      "\u001b[2m\u001b[36m(pid=1017820)\u001b[0m Filtering Triples\n",
      "\u001b[2m\u001b[36m(pid=1017848)\u001b[0m Filtering Triples\n",
      "\u001b[2m\u001b[36m(pid=1017873)\u001b[0m Filtering Triples\n",
      "\u001b[2m\u001b[36m(pid=1017898)\u001b[0m Filtering Triples\n",
      "\u001b[2m\u001b[36m(pid=1017931)\u001b[0m Filtering Triples\n",
      "\u001b[2m\u001b[36m(pid=1017948)\u001b[0m Filtering Triples\n",
      "\u001b[2m\u001b[36m(pid=1017973)\u001b[0m Filtering Triples\n",
      "\u001b[2m\u001b[36m(pid=1017996)\u001b[0m Filtering Triples\n",
      "\u001b[2m\u001b[36m(pid=1018049)\u001b[0m Decoding 628 OWL Classes and Axioms\n",
      "\u001b[2m\u001b[36m(pid=1018049)\u001b[0m Filtering Triples\n",
      "\u001b[2m\u001b[36m(pid=1018024)\u001b[0m Filtering Triples\n",
      "\u001b[2m\u001b[36m(pid=1018066)\u001b[0m Decoding 628 OWL Classes and Axioms\n",
      "\u001b[2m\u001b[36m(pid=1018066)\u001b[0m Filtering Triples\n",
      "\u001b[2m\u001b[36m(pid=1018105)\u001b[0m Decoding 628 OWL Classes and Axioms\n",
      "\u001b[2m\u001b[36m(pid=1018105)\u001b[0m Filtering Triples\n",
      "\u001b[2m\u001b[36m(pid=1018130)\u001b[0m Decoding 628 OWL Classes and Axioms\n",
      "\u001b[2m\u001b[36m(pid=1018130)\u001b[0m Filtering Triples\n",
      "\u001b[2m\u001b[36m(pid=1018155)\u001b[0m Decoding 628 OWL Classes and Axioms\n",
      "\u001b[2m\u001b[36m(pid=1018155)\u001b[0m Filtering Triples\n"
     ]
    },
    {
     "name": "stderr",
     "output_type": "stream",
     "text": [
      " 82%|████████▏ | 14/17 [1:15:09<07:36, 152.10s/it]"
     ]
    },
    {
     "name": "stdout",
     "output_type": "stream",
     "text": [
      "\u001b[2m\u001b[36m(pid=1018181)\u001b[0m Decoding 628 OWL Classes and Axioms\n",
      "Removing owl:disjointWith Axioms\n",
      "Filtering Triples\n"
     ]
    },
    {
     "name": "stderr",
     "output_type": "stream",
     "text": []
    },
    {
     "name": "stdout",
     "output_type": "stream",
     "text": [
      "\u001b[2m\u001b[36m(pid=1018181)\u001b[0m Filtering Triples\n"
     ]
    },
    {
     "name": "stderr",
     "output_type": "stream",
     "text": [
      "100%|██████████| 189191/189191 [00:50<00:00, 3725.15it/s]\n",
      " 88%|████████▊ | 15/17 [1:16:08<04:07, 123.97s/it]"
     ]
    },
    {
     "name": "stdout",
     "output_type": "stream",
     "text": [
      "Removing owl:disjointWith Axioms\n",
      "Filtering Triples\n"
     ]
    },
    {
     "name": "stderr",
     "output_type": "stream",
     "text": [
      "100%|██████████| 213340/213340 [00:54<00:00, 3897.21it/s]\n"
     ]
    },
    {
     "name": "stdout",
     "output_type": "stream",
     "text": [
      "\u001b[2m\u001b[36m(pid=1018415)\u001b[0m Decoding 389 OWL Classes and Axioms\n",
      "\u001b[2m\u001b[36m(pid=1018415)\u001b[0m Filtering Triples\n",
      "\u001b[2m\u001b[36m(pid=1018419)\u001b[0m Decoding 388 OWL Classes and Axioms\n",
      "\u001b[2m\u001b[36m(pid=1018419)\u001b[0m Filtering Triples\n",
      "\u001b[2m\u001b[36m(pid=1018444)\u001b[0m Decoding 388 OWL Classes and Axioms\n",
      "\u001b[2m\u001b[36m(pid=1018444)\u001b[0m Filtering Triples\n",
      "\u001b[2m\u001b[36m(pid=1018471)\u001b[0m Decoding 388 OWL Classes and Axioms\n",
      "\u001b[2m\u001b[36m(pid=1018496)\u001b[0m Decoding 388 OWL Classes and Axioms\n",
      "\u001b[2m\u001b[36m(pid=1018518)\u001b[0m Decoding 388 OWL Classes and Axioms\n",
      "\u001b[2m\u001b[36m(pid=1018548)\u001b[0m Decoding 388 OWL Classes and Axioms\n",
      "\u001b[2m\u001b[36m(pid=1018573)\u001b[0m Decoding 388 OWL Classes and Axioms\n",
      "\u001b[2m\u001b[36m(pid=1018573)\u001b[0m Filtering Triples\n",
      "\u001b[2m\u001b[36m(pid=1018598)\u001b[0m Decoding 388 OWL Classes and Axioms\n",
      "\u001b[2m\u001b[36m(pid=1018624)\u001b[0m Decoding 388 OWL Classes and Axioms\n",
      "\u001b[2m\u001b[36m(pid=1018471)\u001b[0m Filtering Triples\n",
      "\u001b[2m\u001b[36m(pid=1018496)\u001b[0m Filtering Triples\n",
      "\u001b[2m\u001b[36m(pid=1018518)\u001b[0m Filtering Triples\n",
      "\u001b[2m\u001b[36m(pid=1018548)\u001b[0m Filtering Triples\n",
      "\u001b[2m\u001b[36m(pid=1018598)\u001b[0m Filtering Triples\n",
      "\u001b[2m\u001b[36m(pid=1018624)\u001b[0m Filtering Triples\n",
      "\u001b[2m\u001b[36m(pid=1018652)\u001b[0m Decoding 388 OWL Classes and Axioms\n",
      "\u001b[2m\u001b[36m(pid=1018652)\u001b[0m Filtering Triples\n",
      "\u001b[2m\u001b[36m(pid=1018677)\u001b[0m Decoding 388 OWL Classes and Axioms\n",
      "\u001b[2m\u001b[36m(pid=1018677)\u001b[0m Filtering Triples\n",
      "\u001b[2m\u001b[36m(pid=1018702)\u001b[0m Decoding 388 OWL Classes and Axioms\n",
      "\u001b[2m\u001b[36m(pid=1018702)\u001b[0m Filtering Triples\n",
      "\u001b[2m\u001b[36m(pid=1018727)\u001b[0m Decoding 388 OWL Classes and Axioms\n",
      "\u001b[2m\u001b[36m(pid=1018727)\u001b[0m Filtering Triples\n",
      "\u001b[2m\u001b[36m(pid=1018759)\u001b[0m Decoding 388 OWL Classes and Axioms\n",
      "\u001b[2m\u001b[36m(pid=1018759)\u001b[0m Filtering Triples\n"
     ]
    },
    {
     "name": "stderr",
     "output_type": "stream",
     "text": [
      " 94%|█████████▍| 16/17 [1:17:24<01:49, 109.42s/it]"
     ]
    },
    {
     "name": "stdout",
     "output_type": "stream",
     "text": [
      "\u001b[2m\u001b[36m(pid=1018784)\u001b[0m Decoding 388 OWL Classes and Axioms\n",
      "Removing owl:disjointWith Axioms\n",
      "Filtering Triples\n"
     ]
    },
    {
     "name": "stderr",
     "output_type": "stream",
     "text": []
    },
    {
     "name": "stdout",
     "output_type": "stream",
     "text": [
      "\u001b[2m\u001b[36m(pid=1018784)\u001b[0m Filtering Triples\n"
     ]
    },
    {
     "name": "stderr",
     "output_type": "stream",
     "text": [
      "100%|██████████| 279772/279772 [01:25<00:00, 3271.86it/s]\n"
     ]
    },
    {
     "name": "stdout",
     "output_type": "stream",
     "text": [
      "\u001b[2m\u001b[36m(pid=1019112)\u001b[0m Decoding 1422 OWL Classes and Axioms\n",
      "\u001b[2m\u001b[36m(pid=1019147)\u001b[0m Decoding 1422 OWL Classes and Axioms\n",
      "\u001b[2m\u001b[36m(pid=1019188)\u001b[0m Decoding 1422 OWL Classes and Axioms\n",
      "\u001b[2m\u001b[36m(pid=1019224)\u001b[0m Decoding 1422 OWL Classes and Axioms\n",
      "\u001b[2m\u001b[36m(pid=1019257)\u001b[0m Decoding 1422 OWL Classes and Axioms\n",
      "\u001b[2m\u001b[36m(pid=1019291)\u001b[0m Decoding 1422 OWL Classes and Axioms\n",
      "\u001b[2m\u001b[36m(pid=1019355)\u001b[0m Decoding 1422 OWL Classes and Axioms\n",
      "\u001b[2m\u001b[36m(pid=1019112)\u001b[0m Filtering Triples\n",
      "\u001b[2m\u001b[36m(pid=1019147)\u001b[0m Filtering Triples\n",
      "\u001b[2m\u001b[36m(pid=1019188)\u001b[0m Filtering Triples\n",
      "\u001b[2m\u001b[36m(pid=1019257)\u001b[0m Filtering Triples\n",
      "\u001b[2m\u001b[36m(pid=1019394)\u001b[0m Decoding 1422 OWL Classes and Axioms\n",
      "\u001b[2m\u001b[36m(pid=1019420)\u001b[0m Decoding 1422 OWL Classes and Axioms\n",
      "\u001b[2m\u001b[36m(pid=1019445)\u001b[0m Decoding 1422 OWL Classes and Axioms\n",
      "\u001b[2m\u001b[36m(pid=1019470)\u001b[0m Decoding 1422 OWL Classes and Axioms\n",
      "\u001b[2m\u001b[36m(pid=1019495)\u001b[0m Decoding 1422 OWL Classes and Axioms\n",
      "\u001b[2m\u001b[36m(pid=1019224)\u001b[0m Filtering Triples\n",
      "\u001b[2m\u001b[36m(pid=1019291)\u001b[0m Filtering Triples\n",
      "\u001b[2m\u001b[36m(pid=1019355)\u001b[0m Filtering Triples\n",
      "\u001b[2m\u001b[36m(pid=1019420)\u001b[0m Filtering Triples\n",
      "\u001b[2m\u001b[36m(pid=1019445)\u001b[0m Filtering Triples\n",
      "\u001b[2m\u001b[36m(pid=1019470)\u001b[0m Filtering Triples\n",
      "\u001b[2m\u001b[36m(pid=1019394)\u001b[0m Filtering Triples\n",
      "\u001b[2m\u001b[36m(pid=1019495)\u001b[0m Filtering Triples\n",
      "\u001b[2m\u001b[36m(pid=1019520)\u001b[0m Decoding 1422 OWL Classes and Axioms\n",
      "\u001b[2m\u001b[36m(pid=1019520)\u001b[0m Filtering Triples\n",
      "\u001b[2m\u001b[36m(pid=1019546)\u001b[0m Decoding 1422 OWL Classes and Axioms\n",
      "\u001b[2m\u001b[36m(pid=1019546)\u001b[0m Filtering Triples\n",
      "\u001b[2m\u001b[36m(pid=1019572)\u001b[0m Decoding 1422 OWL Classes and Axioms\n",
      "\u001b[2m\u001b[36m(pid=1019572)\u001b[0m Filtering Triples\n"
     ]
    },
    {
     "name": "stderr",
     "output_type": "stream",
     "text": [
      "100%|██████████| 17/17 [1:19:23<00:00, 280.20s/it]"
     ]
    },
    {
     "name": "stdout",
     "output_type": "stream",
     "text": [
      "\u001b[2m\u001b[36m(pid=1019598)\u001b[0m Decoding 1422 OWL Classes and Axioms\n",
      "Ensuring OWL-NETS Graph Contains a Single Connected Component\n",
      "Obtaining node list\n"
     ]
    },
    {
     "name": "stderr",
     "output_type": "stream",
     "text": [
      "\n"
     ]
    },
    {
     "name": "stdout",
     "output_type": "stream",
     "text": [
      "\u001b[2m\u001b[36m(pid=1019598)\u001b[0m Filtering Triples\n"
     ]
    },
    {
     "name": "stderr",
     "output_type": "stream",
     "text": [
      "100%|██████████| 15698762/15698762 [00:11<00:00, 1399671.02it/s]\n"
     ]
    },
    {
     "name": "stdout",
     "output_type": "stream",
     "text": [
      "Identifying root nodes\n"
     ]
    },
    {
     "name": "stderr",
     "output_type": "stream",
     "text": [
      "100%|██████████| 1089613/1089613 [1:28:18<00:00, 205.66it/s] \n"
     ]
    },
    {
     "name": "stdout",
     "output_type": "stream",
     "text": [
      "Updating graph connectivity\n",
      "925 triples added to make connected\n",
      "Serializing OWL-NETS Graph\n",
      "Converting Knowledge Graph to MultiDiGraph\n"
     ]
    },
    {
     "name": "stderr",
     "output_type": "stream",
     "text": [
      "100%|██████████| 7850306/7850306 [15:52<00:00, 8242.72it/s] \n"
     ]
    },
    {
     "name": "stdout",
     "output_type": "stream",
     "text": [
      "Pickling MultiDiGraph\n",
      "Generating Network Statistics\n",
      "OWL-NETS Graph Stats: 1089614 nodes, 7850306 edges, 13 self-loops, 5 most most common edges: http://www.w3.org/2000/01/rdf-schema#subClassOf:1564872, http://purl.obolibrary.org/obo/RO_0002436:989883, http://purl.obolibrary.org/obo/RO_0001025:681381, http://purl.obolibrary.org/obo/RO_0001015:681190, http://purl.obolibrary.org/obo/RO_0002201:433586, http://purl.obolibrary.org/obo/RO_0002200:433586, average degree 7.204666973809074, 5 highest degree nodes: http://purl.obolibrary.org/obo/SO_0001483:214261, http://purl.obolibrary.org/obo/SO_0001217:189449, http://purl.obolibrary.org/obo/SO_0000673:178283, http://purl.obolibrary.org/obo/NCBITaxon_9606:90973, http://purl.obolibrary.org/obo/PR_000000001:56145, http://purl.obolibrary.org/obo/NCBITaxon_10090:53645, density: 6.612133825320617e-06, 1 component(s): {0: 1089614}\n",
      "Purifying Graph Based on Construction Approach\n",
      "Determining what triples need purification\n",
      "Processing 1564872 http://www.w3.org/2000/01/rdf-schema#subClassOf triples\n"
     ]
    },
    {
     "name": "stderr",
     "output_type": "stream",
     "text": [
      "100%|██████████| 1564872/1564872 [31:21<00:00, 831.82it/s]  \n"
     ]
    },
    {
     "name": "stdout",
     "output_type": "stream",
     "text": [
      "Serializing Instance-Purified OWL-NETS Graph\n",
      "Converting Knowledge Graph to MultiDiGraph\n"
     ]
    },
    {
     "name": "stderr",
     "output_type": "stream",
     "text": [
      "100%|██████████| 15886728/15886728 [32:13<00:00, 8216.25it/s] \n"
     ]
    },
    {
     "name": "stdout",
     "output_type": "stream",
     "text": [
      "Pickling MultiDiGraph\n",
      "Generating Network Statistics\n",
      "Instance-Purified OWL-NETS Graph Stats: 1089614 nodes, 15886728 edges, 180 self-loops, 5 most most common edges: http://www.w3.org/1999/02/22-rdf-syntax-ns#type:9602227, http://purl.obolibrary.org/obo/RO_0002436:989883, http://purl.obolibrary.org/obo/RO_0001025:681381, http://purl.obolibrary.org/obo/RO_0001015:681190, http://purl.obolibrary.org/obo/RO_0002201:433586, http://purl.obolibrary.org/obo/RO_0002200:433586, average degree 14.58014305983587, 5 highest degree nodes: http://purl.obolibrary.org/obo/SO_0000110:251333, http://purl.obolibrary.org/obo/SO_0001411:235340, http://purl.obolibrary.org/obo/SO_0000001:235286, http://purl.obolibrary.org/obo/SO_0001483:214263, http://purl.obolibrary.org/obo/SO_1000002:206979, http://purl.obolibrary.org/obo/SO_0001217:189457, density: 1.3381028915620379e-05, 1 component(s): {0: 1089614}\n",
      "\n",
      "\n",
      "OWL-NETS Graph Stats: 7850306 triples, 1089614 nodes, 335 predicates, 0 classes, 0 individuals, 0 object props, 0 annotation props;\n",
      "Purified OWL-NETS Graph Stats: 15886728 triples, 1089614 nodes, 334 predicates, 0 classes, 0 individuals, 0 object props, 0 annotation props\n",
      "===========================================================================================================================================================\n",
      "Decoded 422882 owl-encoded classes and axioms. Note the following:\n",
      "Partially processed 527 cardinality elements\n",
      "Removed 2416 owl:disjointWith axioms\n",
      "Ignored: 165626 misc classes; 346 classes constructed with owl:complementOf; 6494 classes containing negation (e.g. pr#lacks_part, cl#has_not_completed)\n",
      "Filtering removed 5894421 semantic support triples\n",
      "===========================================================================================================================================================\n",
      "\n",
      "*** Writing Knowledge Graph Edge Lists ***\n",
      "\n",
      "*** Processing OWL Graph ***\n",
      "Mapping Node and Relation Identifiers to Integers\n"
     ]
    },
    {
     "name": "stderr",
     "output_type": "stream",
     "text": [
      "100%|██████████| 27123239/27123239 [41:30<00:00, 10890.66it/s] \n"
     ]
    },
    {
     "name": "stdout",
     "output_type": "stream",
     "text": [
      "Writing Class Metadata\n"
     ]
    },
    {
     "name": "stderr",
     "output_type": "stream",
     "text": [
      "100%|██████████| 2/2 [00:27<00:00, 13.66s/it]\n",
      "100%|██████████| 27123239/27123239 [00:39<00:00, 692925.63it/s]\n",
      "100%|██████████| 9652831/9652831 [12:50<00:00, 12520.45it/s]\n"
     ]
    },
    {
     "name": "stdout",
     "output_type": "stream",
     "text": [
      "\n",
      "*** Processing OWL-NETS Graph ***\n",
      "Mapping Node and Relation Identifiers to Integers\n"
     ]
    },
    {
     "name": "stderr",
     "output_type": "stream",
     "text": [
      "100%|██████████| 7850306/7850306 [09:14<00:00, 14160.28it/s]\n"
     ]
    },
    {
     "name": "stdout",
     "output_type": "stream",
     "text": [
      "Writing Class Metadata\n"
     ]
    },
    {
     "name": "stderr",
     "output_type": "stream",
     "text": [
      "100%|██████████| 2/2 [00:27<00:00, 13.53s/it]\n",
      "100%|██████████| 7850306/7850306 [00:10<00:00, 726558.13it/s]\n",
      "100%|██████████| 1089949/1089949 [00:55<00:00, 19493.51it/s]\n"
     ]
    },
    {
     "name": "stdout",
     "output_type": "stream",
     "text": [
      "\n",
      "*** Processing Purified OWL-NETS Graph ***\n",
      "Mapping Node and Relation Identifiers to Integers\n"
     ]
    },
    {
     "name": "stderr",
     "output_type": "stream",
     "text": [
      "100%|██████████| 15886728/15886728 [18:57<00:00, 13963.26it/s]\n"
     ]
    },
    {
     "name": "stdout",
     "output_type": "stream",
     "text": [
      "Writing Class Metadata\n"
     ]
    },
    {
     "name": "stderr",
     "output_type": "stream",
     "text": [
      "100%|██████████| 2/2 [00:27<00:00, 13.81s/it]\n",
      "100%|██████████| 15886728/15886728 [00:21<00:00, 739016.89it/s]\n",
      "100%|██████████| 1089948/1089948 [00:54<00:00, 19898.51it/s]\n"
     ]
    },
    {
     "name": "stdout",
     "output_type": "stream",
     "text": [
      "Depduplicating File: ./resources/knowledge_graphs/PheKnowLator_v3.1.0_full_instance_inverseRelations_OWL_AnnotationsOnly.nt\n"
     ]
    },
    {
     "name": "stderr",
     "output_type": "stream",
     "text": [
      "100%|██████████| 29831129/29831129 [04:45<00:00, 104476.26it/s]\n"
     ]
    },
    {
     "name": "stdout",
     "output_type": "stream",
     "text": [
      "Depduplicating File: ./resources/knowledge_graphs/PheKnowLator_v3.1.0_full_instance_inverseRelations_OWL_LogicOnly.nt\n"
     ]
    },
    {
     "name": "stderr",
     "output_type": "stream",
     "text": [
      "100%|██████████| 32273306/32273306 [03:41<00:00, 145393.44it/s]\n"
     ]
    },
    {
     "name": "stdout",
     "output_type": "stream",
     "text": [
      "Merging Files: ./resources/knowledge_graphs/PheKnowLator_v3.1.0_full_instance_inverseRelations_OWL_AnnotationsOnly.nt and ./resources/knowledge_graphs/PheKnowLator_v3.1.0_full_instance_inverseRelations_OWL_LogicOnly.nt\n",
      "\n",
      "\n",
      "Loading Full (Logic + Annotation) Graph\n",
      "\n",
      "Deriving Stats\n",
      "\n",
      "Processing pkt-namespaced BNodes in Full (Logic + Annotation) graph\n",
      "Identifying BNodes with Namespace: https://github.com/callahantiff/PheKnowLator/pkt/bnode/\n",
      "Identifying BNodes\n",
      "Removing Namespace from BNodes\n",
      "Finalizing Updated Graph\n",
      "Identifying BNodes with Namespace: https://github.com/callahantiff/PheKnowLator/pkt/\n",
      "Identifying BNodes\n",
      "Removing Namespace from BNodes\n",
      "Finalizing Updated Graph\n",
      "Applying OWL API Formatting to Knowledge Graph OWL File\n",
      "None\n",
      "\n",
      "Full (Logic + Annotation) Graph Stats: 62104435 triples, 21042379 nodes, 357 predicates, 1451310 classes, 7213772 individuals, 867 object props, 700 annotation props\n"
     ]
    }
   ],
   "source": [
    "# construct knowledge graphs\n",
    "# run sed command - sed\n",
    "if build == 'partial':\n",
    "    kg = PartialBuild(construction=construction_approach,\n",
    "                      node_data=add_node_data_to_kg,\n",
    "                      inverse_relations=add_inverse_relations_to_kg,\n",
    "                      decode_owl=decode_owl_semantics,\n",
    "                      cpus=cpus,\n",
    "                      write_location=kg_directory_location)\n",
    "elif build == 'post-closure':\n",
    "    kg = PostClosureBuild(construction=construction_approach,\n",
    "                          node_data=add_node_data_to_kg,\n",
    "                          inverse_relations=add_inverse_relations_to_kg,\n",
    "                          decode_owl=decode_owl_semantics,\n",
    "                          cpus=cpus,\n",
    "                          write_location=kg_directory_location)\n",
    "else:\n",
    "    kg = FullBuild(construction=construction_approach,\n",
    "                   node_data=add_node_data_to_kg,\n",
    "                   inverse_relations=add_inverse_relations_to_kg,\n",
    "                   decode_owl=decode_owl_semantics,\n",
    "                   cpus=cpus,\n",
    "                   write_location=kg_directory_location)\n",
    "\n",
    "kg.construct_knowledge_graph()\n",
    "ray.shutdown()"
   ]
  },
  {
   "cell_type": "markdown",
   "metadata": {},
   "source": [
    "<br>\n",
    "\n",
    "***\n",
    "***\n",
    "\n",
    "```\n",
    "@misc{callahan_tj_2019_3401437,\n",
    "  author       = {Callahan, TJ},\n",
    "  title        = {PheKnowLator},\n",
    "  month        = mar,\n",
    "  year         = 2019,\n",
    "  doi          = {10.5281/zenodo.3401437},\n",
    "  url          = {https://doi.org/10.5281/zenodo.3401437}\n",
    "}\n",
    "```"
   ]
  }
 ],
 "metadata": {
  "kernelspec": {
   "display_name": "Python 3.6.13 ('sanya_kg')",
   "language": "python",
   "name": "python3"
  },
  "language_info": {
   "codemirror_mode": {
    "name": "ipython",
    "version": 3
   },
   "file_extension": ".py",
   "mimetype": "text/x-python",
   "name": "python",
   "nbconvert_exporter": "python",
   "pygments_lexer": "ipython3",
   "version": "3.6.13"
  },
  "latex_envs": {
   "LaTeX_envs_menu_present": true,
   "autoclose": false,
   "autocomplete": true,
   "bibliofile": "biblio.bib",
   "cite_by": "apalike",
   "current_citInitial": 1,
   "eqLabelWithNumbers": true,
   "eqNumInitial": 1,
   "hotkeys": {
    "equation": "Ctrl-E",
    "itemize": "Ctrl-I"
   },
   "labels_anchors": false,
   "latex_user_defs": false,
   "report_style_numbering": false,
   "user_envs_cfg": false
  },
  "pycharm": {
   "stem_cell": {
    "cell_type": "raw",
    "metadata": {
     "collapsed": false
    },
    "source": []
   }
  },
  "toc": {
   "base_numbering": 1,
   "nav_menu": {},
   "number_sections": false,
   "sideBar": false,
   "skip_h1_title": false,
   "title_cell": "Table of Contents",
   "title_sidebar": "Contents",
   "toc_cell": false,
   "toc_position": {},
   "toc_section_display": false,
   "toc_window_display": false
  },
  "vscode": {
   "interpreter": {
    "hash": "41f6dbb4620f1287d918c6d619d0adb09c41576ea2dff392e8096d45e1460f3a"
   }
  }
 },
 "nbformat": 4,
 "nbformat_minor": 1
}
