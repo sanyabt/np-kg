{
 "cells": [
  {
   "cell_type": "markdown",
   "metadata": {},
   "source": [
    "_____\n",
    "***\n",
    "\n",
    "<img width='700' src=\"https://user-images.githubusercontent.com/8030363/108961534-b9a66980-7634-11eb-96e2-cc46589dcb8c.png\" style=\"vertical-align:middle\">\n",
    "\n",
    "***\n",
    "***\n",
    "\n",
    "**Author:** [TJCallahan](https://mail.google.com/mail/u/0/?view=cm&fs=1&tf=1&to=callahantiff@gmail.com)  \n",
    "**GitHub Repository:** [PheKnowLator](https://github.com/callahantiff/PheKnowLator/wiki)  \n",
    "**Current Release:** **[`v2.0.0`](https://github.com/callahantiff/PheKnowLator/wiki/v2.0.0)**\n",
    "\n",
    "<br>\n",
    "\n",
    "**Objective:** Knowledge graphs provide meaningful ways to integrate heterogeneous biological data and represent complex biological mechanisms. This work seeks to explore the utility of incorporating existing knowledge of molecular mechanism from ontologies, publicly available data, and the literature to construct a biomedical knowledge graph that models unbiased molecular mechanisms of human disease.\n",
    "\n",
    "<a target=\"_blank\" href=\"https://user-images.githubusercontent.com/8030363/103158881-11813b00-4780-11eb-8b45-5063765e7645.png\"> <img src=\"https://user-images.githubusercontent.com/8030363/103158881-11813b00-4780-11eb-8b45-5063765e7645.png\"></a> \n",
    "\n",
    "(*Click Figure to Enlarge Image in Current Browser Tab*)\n",
    "\n",
    "<br>\n",
    "\n",
    "***\n",
    "***"
   ]
  },
  {
   "cell_type": "markdown",
   "metadata": {},
   "source": [
    "## Notebook Purpose\n",
    "**Wiki Page:** **[`Release v2.0.0`](https://github.com/callahantiff/PheKnowLator/wiki/v2.0.0)**\n",
    "\n",
    "<br>\n",
    "\n",
    "**Purpose:** This notebook serves as a `main` file for the PheKnowLator project. This scripts walks through this program step-by-step and generates the knowledge graph shown above. There is also a command line version of this file ([`main.py`](https://github.com/callahantiff/PheKnowLator/blob/master/main.py)). Please see the [README](https://github.com/callahantiff/PheKnowLator/blob/master/README.md) for more information.\n",
    "\n",
    "<br>\n",
    "\n",
    "**Assumptions:**\n",
    "1. Hyperlinks to all downloaded and generated data sources are provided through [this](https://console.cloud.google.com/storage/browser/pheknowlator/release_v2.0.0?project=pheknowlator) dedicated Google Cloud Storage Bucket. <u>This includes examples, from prior builds, of the required input documents mentioned below</u>.     \n",
    "2. Make sure that the following input documents have been constructed (see the [Dependencies Wiki](https://github.com/callahantiff/PheKnowLator/wiki/Dependencies) for more information):  \n",
    "  - [`resource_info.txt`](https://github.com/callahantiff/PheKnowLator/blob/master/resources/resource_info.txt)\n",
    "  - [`ontology_source_list.txt`](https://github.com/callahantiff/PheKnowLator/blob/master/resources/ontology_source_list.txt)\n",
    "  - [`edge_source_list.txt`](https://github.com/callahantiff/PheKnowLator/blob/master/resources/edge_source_list.txt)   \n",
    "\n",
    "3. Prepare [relations](https://github.com/callahantiff/PheKnowLator/wiki/Dependencies#relations-data) and [node metadata](https://github.com/callahantiff/PheKnowLator/wiki/Dependencies#node-metadata) files prior to running the scripts.  \n",
    "\n",
    "4. Select a knowledge graph build type (i.e. `full`, `partial`, or `post-closure`) and construction method (i.e. `instance-based` or `subclass-based`).  \n",
    "\n",
    "<br>\n",
    "\n",
    "***\n",
    "### Table of Contents\n",
    "***\n",
    "The three primary steps involved in building a knowledge graph are `Downloading Data Sources`, `Creating Edge Lists`, and `Building the knowledge graphs`.\n",
    "\n",
    "* [Data Sources](#data-source)  \n",
    "* [Create Edge Lists](#create-edges)  \n",
    "* [Build Knowledge Graph](#build-kg)  \n",
    "\n",
    "***\n",
    "\n",
    "***"
   ]
  },
  {
   "cell_type": "markdown",
   "metadata": {
    "collapsed": true,
    "pycharm": {
     "is_executing": false
    }
   },
   "source": [
    "_____\n",
    "### Set-Up Environment"
   ]
  },
  {
   "cell_type": "code",
   "execution_count": 1,
   "metadata": {},
   "outputs": [],
   "source": [
    "# import needed libraries\n",
    "import glob\n",
    "import json\n",
    "import pandas\n",
    "import ray\n",
    "import time\n",
    "\n",
    "# import module\n",
    "from pkt_kg import downloads, edge_list, knowledge_graph"
   ]
  },
  {
   "cell_type": "markdown",
   "metadata": {},
   "source": [
    "***\n",
    "## Download Data Sources <a class=\"anchor\" id=\"data-source\"></a>\n",
    "\n",
    "**Wiki Page:** **[`Dependencies`](https://github.com/callahantiff/PheKnowLator/wiki/Dependencies)**  \n",
    "\n",
    "**Purpose:**\n",
    "This portion of this portion of the algorithm is to download:\n",
    "1. [Download Ontology Data](#download-ontology-data)  \n",
    "2. [Download Edge Data](#download-edge-data)   \n",
    "\n",
    "<br>\n",
    "\n",
    "**Input Files:**\n",
    "  - [`resource_info.txt`](https://github.com/callahantiff/PheKnowLator/blob/master/resources/resource_info.txt)\n",
    "  - [`ontology_source_list.txt`](https://github.com/callahantiff/PheKnowLator/blob/master/resources/ontology_source_list.txt)\n",
    "  - [`edge_source_list.txt`](https://github.com/callahantiff/PheKnowLator/blob/master/resources/edge_source_list.txt)\n",
    "\n",
    "<br>\n",
    "\n",
    "**Assumptions:**  \n",
    "- All sources used to construct our knowledge graph need to be preprocessed and ready to download prior to running this code. All mapping, filtering, and label data have been generated prior to this step. For assistance with creating these datasets, see the [`Data_Preparation.ipynb`](https://github.com/callahantiff/PheKnowLator/blob/master/notebooks/Data_Preparation.ipynb) Jupyter Notebook.  \n",
    "- All downloaded and generated data sources for all PheKnowLator builds can be accessed through [this](https://console.cloud.google.com/storage/browser/pheknowlator/release_v2.0.0?project=pheknowlator) dedicated Google Cloud Storage Bucket.\n"
   ]
  },
  {
   "cell_type": "markdown",
   "metadata": {},
   "source": [
    "***\n",
    "***\n",
    "### Ontology Data  <a class=\"anchor\" id=\"download-ontology-data\"></a>\n",
    "Ontologies are the core data structure used when building PheKnowLator. In the figure above, ontology data are shown in yellow boxes."
   ]
  },
  {
   "cell_type": "code",
   "execution_count": 2,
   "metadata": {},
   "outputs": [],
   "source": [
    "from pkt_kg.downloads import OntData, LinkedData\n",
    "from pkt_kg.edge_list import CreatesEdgeList\n",
    "from pkt_kg.knowledge_graph import FullBuild, PartialBuild, PostClosureBuild"
   ]
  },
  {
   "cell_type": "code",
   "execution_count": 3,
   "metadata": {},
   "outputs": [],
   "source": [
    "ont = OntData('resources/ontology_source_list.txt', 'resources/resource_info.txt')\n",
    "#ont.writes_source_metadata_locally()"
   ]
  },
  {
   "cell_type": "code",
   "execution_count": 4,
   "metadata": {},
   "outputs": [],
   "source": [
    "ont.parses_resource_file()"
   ]
  },
  {
   "cell_type": "code",
   "execution_count": 5,
   "metadata": {},
   "outputs": [
    {
     "data": {
      "text/plain": [
       "{'disease': 'resources/ontologies/mondo_with_imports.owl',\n",
       " 'napdichem': 'resources/ontologies/chebi_lite_merged_with_imports.owl',\n",
       " 'protein': 'resources/ontologies/pr_with_imports.owl',\n",
       " 'pathway': 'resources/ontologies/pw_with_imports.owl',\n",
       " 'relation': 'resources/ontologies/ro_with_imports.owl',\n",
       " 'go': 'resources/ontologies/go_with_imports.owl',\n",
       " 'chemical': 'resources/ontologies/chebi_with_imports.owl',\n",
       " 'phenotype': 'resources/ontologies/hp_with_imports.owl',\n",
       " 'anatomy': 'resources/ontologies/uberon_with_imports.owl',\n",
       " 'cell': 'resources/ontologies/clo_with_imports.owl',\n",
       " 'genomic': 'resources/ontologies/so_with_imports.owl',\n",
       " 'oae': 'resources/ontologies/oae_merged_with_imports.owl',\n",
       " 'plant': 'resources/ontologies/po_with_imports.owl',\n",
       " 'dideo': 'resources/ontologies/dideo_with_imports.owl'}"
      ]
     },
     "execution_count": 5,
     "metadata": {},
     "output_type": "execute_result"
    }
   ],
   "source": [
    "ont.source_list"
   ]
  },
  {
   "cell_type": "code",
   "execution_count": 6,
   "metadata": {},
   "outputs": [
    {
     "name": "stdout",
     "output_type": "stream",
     "text": [
      "\n",
      "*** Generating Metadata ***\n",
      "\n"
     ]
    },
    {
     "name": "stderr",
     "output_type": "stream",
     "text": [
      "100%|██████████| 14/14 [00:00<00:00, 15477.14it/s]\n",
      "100%|██████████| 14/14 [00:00<00:00, 37141.21it/s]\n"
     ]
    }
   ],
   "source": [
    "ont.data_files = ont.source_list\n",
    "ont.generates_source_metadata()"
   ]
  },
  {
   "cell_type": "code",
   "execution_count": 7,
   "metadata": {},
   "outputs": [
    {
     "name": "stderr",
     "output_type": "stream",
     "text": [
      "100%|██████████| 14/14 [00:00<00:00, 46938.65it/s]\n"
     ]
    }
   ],
   "source": [
    "ont._writes_source_metadata_locally()"
   ]
  },
  {
   "cell_type": "code",
   "execution_count": 8,
   "metadata": {},
   "outputs": [
    {
     "data": {
      "text/plain": [
       "['chemical-diseasetherapeutic|:;MESH_;|class-class|RO_0002606|http://purl.obolibrary.org/obo/|http://purl.obolibrary.org/obo/|t|1;4|0:./resources/processed_data/MESH_CHEBI_MAP.txt;1:./resources/processed_data/DISEASE_MONDO_MAP.txt|5;==;therapeutic|None',\n",
       " 'chemical-disease|:;MESH_;|class-class|RO_0003302|http://purl.obolibrary.org/obo/|http://purl.obolibrary.org/obo/|t|1;4|0:./resources/processed_data/MESH_CHEBI_MAP.txt;1:./resources/processed_data/DISEASE_MONDO_MAP.txt|5;==;marker/mechanism|None',\n",
       " \"chemical-gene|;MESH_;|class-entity|RO_0002434|http://purl.obolibrary.org/obo/|http://www.ncbi.nlm.nih.gov/gene/|t|1;4|0:./resources/processed_data/MESH_CHEBI_MAP.txt|9;affects;not in x|6;==;Homo sapiens::5;.startswith('gene');\",\n",
       " 'chemical-gobp|:;MESH_;GO_|class-class|RO_0002436|http://purl.obolibrary.org/obo/|http://purl.obolibrary.org/obo/|t|1;5|0:./resources/processed_data/MESH_CHEBI_MAP.txt|8;<=;1.04e-47|3;==;Biological Process',\n",
       " 'chemical-gocc|:;MESH_;GO_|class-class|RO_0002436|http://purl.obolibrary.org/obo/|http://purl.obolibrary.org/obo/|t|1;5|0:./resources/processed_data/MESH_CHEBI_MAP.txt|8;<=;1.04e-47|3;==;Cellular Component',\n",
       " 'chemical-gomf|:;MESH_;GO_|class-class|RO_0002436|http://purl.obolibrary.org/obo/|http://purl.obolibrary.org/obo/|t|1;5|0:./resources/processed_data/MESH_CHEBI_MAP.txt|8;<=;1.04e-47|3;==;Molecular Function',\n",
       " 'chemical-pathway|;CHEBI_;|class-entity|RO_0000056|http://purl.obolibrary.org/obo/|https://reactome.org/content/detail/|t|0;1|None|None|5;==;Homo sapiens',\n",
       " 'chemical-phenotypetherapeutic|:;MESH_;|class-class|RO_0002606|http://purl.obolibrary.org/obo/|http://purl.obolibrary.org/obo/|t|1;4|0:./resources/processed_data/MESH_CHEBI_MAP.txt;1:./resources/processed_data/PHENOTYPE_HPO_MAP.txt|5;==;therapeutic|None',\n",
       " 'chemical-phenotype|:;MESH_;|class-class|RO_0003302|http://purl.obolibrary.org/obo/|http://purl.obolibrary.org/obo/|t|1;4|0:./resources/processed_data/MESH_CHEBI_MAP.txt;1:./resources/processed_data/PHENOTYPE_HPO_MAP.txt|5;==;marker/mechanism|None',\n",
       " \"chemical-protein|;MESH_;|class-class|RO_0002434|http://purl.obolibrary.org/obo/|http://purl.obolibrary.org/obo/|t|1;4|0:./resources/processed_data/MESH_CHEBI_MAP.txt;1:./resources/processed_data/ENTREZ_GENE_PRO_ONTOLOGY_MAP.txt|9;affects;not in x|6;==;Homo sapiens::5;.startswith('protein');\",\n",
       " 'disease-phenotype|:;;HP_|class-class|RO_0002200|http://purl.obolibrary.org/obo/|http://purl.obolibrary.org/obo/|t|0;3|0:./resources/processed_data/DISEASE_MONDO_MAP.txt|None|None|None',\n",
       " 'gene-disease|;;|entity-class|RO_0003302|http://www.ncbi.nlm.nih.gov/gene/|http://purl.obolibrary.org/obo/|t|0;4|1:./resources/processed_data/DISEASE_MONDO_MAP.txt|10;>=;1.0|None',\n",
       " 'gene-gene|;;|entity-entity|RO_0002435|http://www.ncbi.nlm.nih.gov/gene/|http://www.ncbi.nlm.nih.gov/gene/|t|0;1|0:./resources/processed_data/ENSEMBL_GENE_ENTREZ_GENE_MAP.txt;1:./resources/processed_data/ENSEMBL_GENE_ENTREZ_GENE_MAP.txt|None|None',\n",
       " \"gene-pathway|:;;|entity-entity|RO_0000056|http://www.ncbi.nlm.nih.gov/gene/|https://reactome.org/content/detail/|t|1;3|None|None|3;.startswith('REACT:R-HSA-');\",\n",
       " 'gene-phenotype|;;|entity-class|RO_0003302|http://www.ncbi.nlm.nih.gov/gene/|http://purl.obolibrary.org/obo/|t|0;4|1:./resources/processed_data/PHENOTYPE_HPO_MAP.txt|10;>=;1.0|None',\n",
       " 'gene-protein|;;|entity-class|RO_0002205|http://www.ncbi.nlm.nih.gov/gene/|http://purl.obolibrary.org/obo/|t|0;1|None|None|4;==;protein-coding',\n",
       " 'gene-rna|;;|entity-entity|RO_0002511|http://www.ncbi.nlm.nih.gov/gene/|https://uswest.ensembl.org/Homo_sapiens/Transcript/Summary?t=|t|0;1|None|None|None',\n",
       " \"gobp-pathway|:;GO_;|class-entity|RO_0009501|http://purl.obolibrary.org/obo/|https://reactome.org/content/detail/|t|4;5|None|None|8;==;P::12;==;taxon:9606::5;.startswith('REACTOME');\",\n",
       " \"pathway-gocc|:;;GO_|entity-class|RO_0002180|https://reactome.org/content/detail/|http://purl.obolibrary.org/obo/|t|5;4|None|None|8;==;C::12;==;taxon:9606::5;.startswith('REACTOME');\",\n",
       " \"pathway-gomf|:;;GO_|entity-class|RO_0000085|https://reactome.org/content/detail/|http://purl.obolibrary.org/obo/|t|5;4|None|None|8;==;F::12;==;taxon:9606::5;.startswith('REACTOME');\",\n",
       " 'protein-anatomy|;;|class-class|RO_0001025|http://purl.obolibrary.org/obo/|http://purl.obolibrary.org/obo/|t|2;5|0:./resources/processed_data/UNIPROT_ACCESSION_PRO_ONTOLOGY_MAP.txt;1:./resources/processed_data/HPA_GTEx_TISSUE_CELL_MAP.txt|None|3;==;Evidence at protein level::4;==;anatomy',\n",
       " 'protein-catalyst|;;|class-class|RO_0002436|http://purl.obolibrary.org/obo/|http://purl.obolibrary.org/obo/|t|0;1|None|None|None|None',\n",
       " 'protein-cell|;;|class-class|RO_0001025|http://purl.obolibrary.org/obo/|http://purl.obolibrary.org/obo/|t|2;5|0:./resources/processed_data/UNIPROT_ACCESSION_PRO_ONTOLOGY_MAP.txt;1:./resources/processed_data/HPA_GTEx_TISSUE_CELL_MAP.txt|None|3;==;Evidence at protein level::4;==;cell line',\n",
       " 'protein-cofactor|;;|class-class|RO_0002436|http://purl.obolibrary.org/obo/|http://purl.obolibrary.org/obo/|t|0;1|None|None|None|None',\n",
       " 'protein-gobp|:;;GO_|class-class|RO_0000056|http://purl.obolibrary.org/obo/|http://purl.obolibrary.org/obo/|t|1;4|0:./resources/processed_data/UNIPROT_ACCESSION_PRO_ONTOLOGY_MAP.txt|None|8;==;P::12;==;taxon:9606',\n",
       " 'protein-gocc|:;;GO_|class-class|RO_0001025|http://purl.obolibrary.org/obo/|http://purl.obolibrary.org/obo/|t|1;4|0:./resources/processed_data/UNIPROT_ACCESSION_PRO_ONTOLOGY_MAP.txt|None|8;==;C::12;==;taxon:9606',\n",
       " 'protein-gomf|:;;GO_|class-class|RO_0000085|http://purl.obolibrary.org/obo/|http://purl.obolibrary.org/obo/|t|1;4|0:./resources/processed_data/UNIPROT_ACCESSION_PRO_ONTOLOGY_MAP.txt|None|8;==;F::12;==;taxon:9606',\n",
       " 'protein-pathway|;;|class-entity|RO_0000056|http://purl.obolibrary.org/obo/|https://reactome.org/content/detail/|t|0;1|0:./resources/processed_data/UNIPROT_ACCESSION_PRO_ONTOLOGY_MAP.txt|None|5;==;Homo sapiens',\n",
       " \"protein-protein|9606.;;|class-class|RO_0002436|http://purl.obolibrary.org/obo/|http://purl.obolibrary.org/obo/|''|0;1|0:./resources/processed_data/STRING_PRO_ONTOLOGY_MAP.txt;1:./resources/processed_data/STRING_PRO_ONTOLOGY_MAP.txt|2;>=;700|None\",\n",
       " 'rna-anatomy|;;|entity-class|RO_0001025|https://uswest.ensembl.org/Homo_sapiens/Transcript/Summary?t=|http://purl.obolibrary.org/obo/|t|1;5|0:./resources/processed_data/GENE_SYMBOL_ENSEMBL_TRANSCRIPT_MAP.txt;1:./resources/processed_data/HPA_GTEx_TISSUE_CELL_MAP.txt|None|3;==;Evidence at transcript level::4;==;anatomy',\n",
       " 'rna-cell|;;|entity-class|RO_0001025|https://uswest.ensembl.org/Homo_sapiens/Transcript/Summary?t=|http://purl.obolibrary.org/obo/|t|1;5|0:./resources/processed_data/GENE_SYMBOL_ENSEMBL_TRANSCRIPT_MAP.txt;1:./resources/processed_data/HPA_GTEx_TISSUE_CELL_MAP.txt|None|3;==;Evidence at transcript level::4;==;cell line',\n",
       " 'rna-protein|;;|entity-class|RO_0002513|https://uswest.ensembl.org/Homo_sapiens/Transcript/Summary?t=|http://purl.obolibrary.org/obo/|t|0;1|None|None|4;==;protein-coding',\n",
       " 'variant-disease|:;rs;|entity-class|RO_0003302|https://www.ncbi.nlm.nih.gov/snp/|http://purl.obolibrary.org/obo/|t|9;12|1:./resources/processed_data/DISEASE_MONDO_MAP.txt|24;in;[\"criteria provided, multiple submitters, no conflicts\", \"reviewed by expert panel\", \"practice guideline\"]::7;==;1|9;!=;-1::16;==;GRCh38::8-9;dedup;desc',\n",
       " 'variant-gene|;rs;|entity-entity|RO_0002566|https://www.ncbi.nlm.nih.gov/snp/|http://www.ncbi.nlm.nih.gov/gene/|t|9;3|None|24;in;[\"criteria provided, multiple submitters, no conflicts\", \"reviewed by expert panel\", \"practice guideline\"]|9;!=;-1::3;!=;-1::16;==;GRCh38::8-9;dedup;desc',\n",
       " 'variant-phenotype|:;rs;|entity-class|RO_0003302|https://www.ncbi.nlm.nih.gov/snp/|http://purl.obolibrary.org/obo/|t|9;12|1:./resources/processed_data/PHENOTYPE_HPO_MAP.txt|24;in;[\"criteria provided, multiple submitters, no conflicts\", \"reviewed by expert panel\", \"practice guideline\"]::7;==;1|9;!=;-1::16;==;GRCh38::8-9;dedup;desc',\n",
       " 'chemical-inhibitor|;;|class-class|RO_0002449|http://purl.obolibrary.org/obo/|http://purl.obolibrary.org/obo/|t|0;1|None|None|None|None',\n",
       " 'chemical-molecule|;;|class-class|RO_0002436|http://purl.obolibrary.org/obo/|http://purl.obolibrary.org/obo/|t|0;1|None|None|None|None',\n",
       " 'transporter-chemical|;;|class-class|RO_0002020|http://purl.obolibrary.org/obo/|http://purl.obolibrary.org/obo/|t|1;0|None|None|None|None',\n",
       " 'chemical-substrate|;;|class-class|DIDEO_00000041|http://purl.obolibrary.org/obo/|http://purl.obolibrary.org/obo/|t|0;1|None|None|None|None',\n",
       " 'chemical-indication|;;|class-class|RO_0003302|http://purl.obolibrary.org/obo/|http://purl.obolibrary.org/obo/|t|0;1|None|None|None|None']"
      ]
     },
     "execution_count": 8,
     "metadata": {},
     "output_type": "execute_result"
    }
   ],
   "source": [
    "ont.resource_info"
   ]
  },
  {
   "cell_type": "markdown",
   "metadata": {},
   "source": [
    "<br>\n",
    "\n",
    "### Edge Data   <a class=\"anchor\" id=\"download-edge-data\"></a>\n",
    "In PheKnowLator, classes are nodes that originate from ontologies. Class data sources are Linked Data sources that are used to create edges in the knowledge graph and thus can connect to other class data sources. Sometimes we want to add data that is not already part of an ontology. In that case, data either be added as an `instance` of an existing ontology class or as its own `owl:class` by being added to the knowledge graph as a `subclass` of an existing `owl:class`."
   ]
  },
  {
   "cell_type": "code",
   "execution_count": null,
   "metadata": {},
   "outputs": [],
   "source": [
    "#do this the first time to download all the edge data\n",
    "\n",
    "## Data versions for original_data/: Jan 2022\n",
    "## Data versions for processed_data/: Aug 2023\n",
    "edges = LinkedData('resources/edge_source_list_TC.txt', 'resources/resource_info.txt')\n",
    "edges.downloads_data_from_url()\n",
    "#edges.writes_source_metadata_locally()"
   ]
  },
  {
   "cell_type": "code",
   "execution_count": 9,
   "metadata": {},
   "outputs": [],
   "source": [
    "edges = LinkedData('resources/edge_source_list.txt', 'resources/resource_info.txt')"
   ]
  },
  {
   "cell_type": "code",
   "execution_count": 10,
   "metadata": {},
   "outputs": [],
   "source": [
    "edges.parses_resource_file()"
   ]
  },
  {
   "cell_type": "code",
   "execution_count": 11,
   "metadata": {},
   "outputs": [
    {
     "data": {
      "text/plain": [
       "{'chemical-diseasetherapeutic': 'resources/edge_data/chemical-disease_CTD_chemicals_diseases.tsv',\n",
       " 'chemical-disease': 'resources/edge_data/chemical-disease_CTD_chemicals_diseases.tsv',\n",
       " 'chemical-gene': 'resources/edge_data/chemical-gene_CTD_chem_gene_ixns.tsv',\n",
       " 'chemical-gobp': 'resources/edge_data/chemical-gobp_CTD_chem_go_enriched.tsv',\n",
       " 'chemical-gocc': 'resources/edge_data/chemical-gocc_CTD_chem_go_enriched.tsv',\n",
       " 'chemical-gomf': 'resources/edge_data/chemical-gomf_CTD_chem_go_enriched.tsv',\n",
       " 'chemical-pathway': 'resources/edge_data/chemical-pathway_ChEBI2Reactome_All_Levels.txt',\n",
       " 'chemical-protein': 'resources/edge_data/chemical-protein_CTD_chem_gene_ixns.tsv',\n",
       " 'chemical-phenotypetherapeutic': 'resources/edge_data/chemical-disease_CTD_chemicals_diseases.tsv',\n",
       " 'chemical-phenotype': 'resources/edge_data/chemical-disease_CTD_chemicals_diseases.tsv',\n",
       " 'disease-phenotype': 'resources/edge_data/disease-phenotype_phenotype.hpoa',\n",
       " 'gene-disease': 'resources/edge_data/gene-disease_curated_gene_disease_associations.tsv',\n",
       " 'gene-gene': 'resources/edge_data/gene-gene_COMBINED.DEFAULT_NETWORKS.BP_COMBINING.txt',\n",
       " 'gene-pathway': 'resources/edge_data/gene-pathway_CTD_genes_pathways.tsv',\n",
       " 'gene-phenotype': 'resources/edge_data/gene-disease_curated_gene_disease_associations.tsv',\n",
       " 'gene-protein': 'resources/processed_data/ENTREZ_GENE_PRO_ONTOLOGY_MAP.txt',\n",
       " 'gene-rna': 'resources/processed_data/ENTREZ_GENE_ENSEMBL_TRANSCRIPT_MAP.txt',\n",
       " 'gobp-pathway': 'resources/edge_data/gobp-pathway_gene_association.reactome',\n",
       " 'pathway-gocc': 'resources/edge_data/pathway-gocc_gene_association.reactome',\n",
       " 'pathway-gomf': 'resources/edge_data/pathway-gomf_gene_association.reactome',\n",
       " 'protein-anatomy': 'resources/processed_data/HPA_GTEX_RNA_GENE_PROTEIN_EDGES.txt',\n",
       " 'protein-catalyst': 'resources/processed_data/UNIPROT_PROTEIN_CATALYST.txt',\n",
       " 'protein-cofactor': 'resources/processed_data/UNIPROT_PROTEIN_COFACTOR.txt',\n",
       " 'protein-cell': 'resources/edge_data/protein-cell_HPA_GTEX_RNA_GENE_PROTEIN_EDGES.txt',\n",
       " 'protein-gobp': 'resources/edge_data/protein-gobp_goa_human.gaf',\n",
       " 'protein-gocc': 'resources/edge_data/protein-gocc_goa_human.gaf',\n",
       " 'protein-gomf': 'resources/edge_data/protein-gomf_goa_human.gaf',\n",
       " 'protein-pathway': 'resources/edge_data/protein-pathway_UniProt2Reactome_All_Levels.txt',\n",
       " 'protein-protein': 'resources/edge_data/protein-protein_9606.protein.links.v11.0.txt',\n",
       " 'rna-anatomy': 'resources/processed_data/HPA_GTEX_RNA_GENE_PROTEIN_EDGES.txt',\n",
       " 'rna-cell': 'resources/processed_data/HPA_GTEX_RNA_GENE_PROTEIN_EDGES.txt',\n",
       " 'rna-protein': 'resources/processed_data/ENSEMBL_TRANSCRIPT_PROTEIN_ONTOLOGY_MAP.txt',\n",
       " 'variant-disease': 'resources/processed_data/CLINVAR_VARIANT_GENE_DISEASE_PHENOTYPE_EDGES.txt',\n",
       " 'variant-gene': 'resources/processed_data/CLINVAR_VARIANT_GENE_DISEASE_PHENOTYPE_EDGES.txt',\n",
       " 'variant-phenotype': 'resources/processed_data/CLINVAR_VARIANT_GENE_DISEASE_PHENOTYPE_EDGES.txt',\n",
       " 'transporter-chemical': 'resources/processed_data/CHEMICAL_TRANSPORTER.tsv',\n",
       " 'chemical-molecule': 'resources/processed_data/CHEMICAL_MOLECULE.tsv',\n",
       " 'chemical-substrate': 'resources/processed_data/CHEMICAL_SUBSTRATE.tsv',\n",
       " 'chemical-inhibitor': 'resources/processed_data/CHEMICAL_INHIBITOR.tsv',\n",
       " 'chemical-indication': 'resources/processed_data/CHEMICAL_INDICATION.tsv'}"
      ]
     },
     "execution_count": 11,
     "metadata": {},
     "output_type": "execute_result"
    }
   ],
   "source": [
    "edges.source_list"
   ]
  },
  {
   "cell_type": "code",
   "execution_count": 12,
   "metadata": {},
   "outputs": [
    {
     "name": "stdout",
     "output_type": "stream",
     "text": [
      "\n",
      "*** Generating Metadata ***\n",
      "\n"
     ]
    },
    {
     "name": "stderr",
     "output_type": "stream",
     "text": [
      "100%|██████████| 40/40 [00:00<00:00, 18861.40it/s]\n",
      "100%|██████████| 40/40 [00:00<00:00, 24877.25it/s]\n"
     ]
    }
   ],
   "source": [
    "edges.data_files = edges.source_list\n",
    "edges.generates_source_metadata()"
   ]
  },
  {
   "cell_type": "code",
   "execution_count": 13,
   "metadata": {},
   "outputs": [
    {
     "name": "stderr",
     "output_type": "stream",
     "text": [
      "100%|██████████| 40/40 [00:00<00:00, 60219.73it/s]\n"
     ]
    }
   ],
   "source": [
    "edges._writes_source_metadata_locally()"
   ]
  },
  {
   "cell_type": "code",
   "execution_count": 14,
   "metadata": {},
   "outputs": [
    {
     "data": {
      "text/plain": [
       "dict_keys(['chemical-diseasetherapeutic', 'chemical-disease', 'chemical-gene', 'chemical-gobp', 'chemical-gocc', 'chemical-gomf', 'chemical-pathway', 'chemical-protein', 'chemical-phenotypetherapeutic', 'chemical-phenotype', 'disease-phenotype', 'gene-disease', 'gene-gene', 'gene-pathway', 'gene-phenotype', 'gene-protein', 'gene-rna', 'gobp-pathway', 'pathway-gocc', 'pathway-gomf', 'protein-anatomy', 'protein-catalyst', 'protein-cofactor', 'protein-cell', 'protein-gobp', 'protein-gocc', 'protein-gomf', 'protein-pathway', 'protein-protein', 'rna-anatomy', 'rna-cell', 'rna-protein', 'variant-disease', 'variant-gene', 'variant-phenotype', 'transporter-chemical', 'chemical-molecule', 'chemical-substrate', 'chemical-inhibitor', 'chemical-indication'])"
      ]
     },
     "execution_count": 14,
     "metadata": {},
     "output_type": "execute_result"
    }
   ],
   "source": [
    "edges.source_list.keys()"
   ]
  },
  {
   "cell_type": "markdown",
   "metadata": {},
   "source": [
    "<br>"
   ]
  },
  {
   "cell_type": "markdown",
   "metadata": {},
   "source": [
    "***\n",
    "\n",
    "## Create Edge Lists <a class=\"anchor\" id=\"create-edges\"></a>\n",
    "\n",
    "**Wiki Page:** **[`Data Sources`](https://github.com/callahantiff/PheKnowLator/wiki/v2-Data-Sources)**\n",
    "\n",
    "<br>\n",
    "\n",
    "**Purpose:** The code below will take the dictionaries of processed data described above and use them to create edge lists for each of the edge types specified in the [`resource_info.txt`](https://github.com/callahantiff/PheKnowLator/blob/master/resources/resource_info.txt). Each edge list will be appended to a nested dictionary (see details below).\n",
    "\n",
    "<br>\n",
    "\n",
    "**Assumptions:**  \n",
    "1. All `ontology` and `edge` data sources have been downloaded.   \n",
    "\n",
    "2. All code in the [`Data_Preparation.ipynb`](https://github.com/callahantiff/PheKnowLator/blob/master/notebooks/Data_Preparation.ipynb) Jupyter Notebook has been run. This Notebook contains code needed to generate all mapping, filtering, and label data.\n",
    "\n",
    "<br>\n",
    "\n",
    "**Output:** `Master_Edge_List_Dict.json`. Below is an example of what the `Master Edge Dictionary` contains for each processed resource:  \n",
    "```python\n",
    "master_edges = {'chemical-disease'  :\n",
    "                {'source_labels'    : ';MESH_;',\n",
    "                 'data_type'        : 'class-class',\n",
    "                 'edge_relation'    : 'RO_0002606',\n",
    "                 'uri'              : ('http://purl.obolibrary.org/obo/',\n",
    "                                       'http://purl.obolibrary.org/obo/'),\n",
    "                 'delimiter'        : '#',\n",
    "                 'column_idx'       : '1;4',\n",
    "                 'identifier_maps'  : '0:./MESH_CHEBI_MAP.txt;1:disease-dbxref-map',\n",
    "                 'evidence_criteria': \"5;!=;' \",\n",
    "                 'filter_criteria'  : 'None',\n",
    "                 'edge_list'        : ['...']}\n",
    "```\n",
    "\n",
    "***"
   ]
  },
  {
   "cell_type": "code",
   "execution_count": 15,
   "metadata": {},
   "outputs": [
    {
     "name": "stderr",
     "output_type": "stream",
     "text": [
      "/home/sanya/.conda/envs/sanya_kg/lib/python3.6/site-packages/ray/_private/services.py:238: UserWarning: Not all Ray Dashboard dependencies were found. To use the dashboard please install Ray using `pip install ray[default]`. To disable this message, set RAY_DISABLE_IMPORT_WARNING env var to '1'.\n",
      "  warnings.warn(warning_message)\n"
     ]
    },
    {
     "data": {
      "text/plain": [
       "{'node_ip_address': '10.226.40.229',\n",
       " 'raylet_ip_address': '10.226.40.229',\n",
       " 'redis_address': '10.226.40.229:6379',\n",
       " 'object_store_address': '/tmp/ray/session_2023-09-11_02-34-44_567749_1571370/sockets/plasma_store',\n",
       " 'raylet_socket_name': '/tmp/ray/session_2023-09-11_02-34-44_567749_1571370/sockets/raylet',\n",
       " 'webui_url': None,\n",
       " 'session_dir': '/tmp/ray/session_2023-09-11_02-34-44_567749_1571370',\n",
       " 'metrics_export_port': 59166,\n",
       " 'node_id': '314e51cf2d20f05aba3b960ef008b365750df9807562327e0fe55e85'}"
      ]
     },
     "execution_count": 15,
     "metadata": {},
     "output_type": "execute_result"
    }
   ],
   "source": [
    "# set-up environment for parallel processing -- even if running program serially these steps are needed\n",
    "import psutil\n",
    "cpus = psutil.cpu_count(logical=True)\n",
    "ray.init()"
   ]
  },
  {
   "cell_type": "code",
   "execution_count": 16,
   "metadata": {},
   "outputs": [
    {
     "name": "stdout",
     "output_type": "stream",
     "text": [
      "\u001b[2m\u001b[36m(pid=1571738)\u001b[0m Finished Edge: gene-protein (gene = 19324, protein = 19129); 19527 unique edges\n",
      "\u001b[2m\u001b[36m(pid=1571738)\u001b[0m Finished Edge: rna-protein (rna = 28220, protein = 18936); 28220 unique edges\n",
      "\u001b[2m\u001b[36m(pid=1571743)\u001b[0m Finished Edge: gene-phenotype (gene = 6787, phenotype = 1595); 24695 unique edges\n",
      "\u001b[2m\u001b[36m(pid=1571733)\u001b[0m Finished Edge: gene-disease (gene = 5059, disease = 4484); 13344 unique edges\n",
      "\u001b[2m\u001b[36m(pid=1571742)\u001b[0m Finished Edge: gene-pathway (gene = 10369, pathway = 1860); 107009 unique edges\n",
      "\u001b[2m\u001b[36m(pid=1571739)\u001b[0m Finished Edge: chemical-pathway (chemical = 2247, pathway = 2243); 29988 unique edges\n",
      "\u001b[2m\u001b[36m(pid=1571739)\u001b[0m Finished Edge: protein-cofactor (protein = 1584, cofactor = 44); 1998 unique edges\n",
      "\u001b[2m\u001b[36m(pid=1571739)\u001b[0m Finished Edge: chemical-inhibitor (chemical = 129, inhibitor = 29); 273 unique edges\n",
      "\u001b[2m\u001b[36m(pid=1571746)\u001b[0m Finished Edge: disease-phenotype (disease = 12100, phenotype = 10129); 444807 unique edges\n",
      "\u001b[2m\u001b[36m(pid=1571743)\u001b[0m Finished Edge: rna-cell (rna = 10052, cell = 4); 33152 unique edges\n",
      "\u001b[2m\u001b[36m(pid=1571742)\u001b[0m Finished Edge: rna-anatomy (rna = 26704, anatomy = 98); 474073 unique edges\n",
      "\u001b[2m\u001b[36m(pid=1571733)\u001b[0m Finished Edge: protein-pathway (protein = 10540, pathway = 2508); 117707 unique edges\n",
      "\u001b[2m\u001b[36m(pid=1571746)\u001b[0m Finished Edge: protein-gomf (protein = 17807, gomf = 4430); 69816 unique edges\n",
      "\u001b[2m\u001b[36m(pid=1571741)\u001b[0m Finished Edge: gene-gene (gene = 239, gene = 251); 1715 unique edges\n",
      "\u001b[2m\u001b[36m(pid=1571745)\u001b[0m Finished Edge: chemical-gene (chemical = 472, gene = 11978); 16718 unique edges\n",
      "\u001b[2m\u001b[36m(pid=1571745)\u001b[0m Finished Edge: pathway-gocc (pathway = 11252, gocc = 99); 16014 unique edges\n",
      "\u001b[2m\u001b[36m(pid=1571736)\u001b[0m Finished Edge: chemical-protein (chemical = 4347, protein = 7960); 72564 unique edges\n",
      "\u001b[2m\u001b[36m(pid=1571736)\u001b[0m Finished Edge: protein-cell (protein = 10044, cell = 128); 75311 unique edges\n",
      "\u001b[2m\u001b[36m(pid=1571736)\u001b[0m Finished Edge: chemical-indication (chemical = 1179, indication = 706); 3996 unique edges\n",
      "\u001b[2m\u001b[36m(pid=1571737)\u001b[0m Finished Edge: chemical-gocc (chemical = 1126, gocc = 262); 47920 unique edges\n",
      "\u001b[2m\u001b[36m(pid=1571737)\u001b[0m Finished Edge: protein-anatomy (protein = 11116, anatomy = 63); 26815 unique edges\n",
      "\u001b[2m\u001b[36m(pid=1571737)\u001b[0m Finished Edge: chemical-molecule (chemical = 212, molecule = 39); 393 unique edges\n",
      "\u001b[2m\u001b[36m(pid=1571735)\u001b[0m Finished Edge: chemical-gomf (chemical = 1141, gomf = 214); 28181 unique edges\n",
      "\u001b[2m\u001b[36m(pid=1571735)\u001b[0m Finished Edge: protein-catalyst (protein = 3049, catalyst = 3758); 25136 unique edges\n",
      "\u001b[2m\u001b[36m(pid=1571735)\u001b[0m Finished Edge: chemical-substrate (chemical = 292, substrate = 33); 514 unique edges\n",
      "\u001b[2m\u001b[36m(pid=1571734)\u001b[0m Finished Edge: chemical-phenotypetherapeutic (chemical = 2797, phenotypetherapeutic = 1385); 37369 unique edges\n",
      "\u001b[2m\u001b[36m(pid=1571732)\u001b[0m Finished Edge: chemical-phenotype (chemical = 3258, phenotype = 1611); 81939 unique edges\n",
      "\u001b[2m\u001b[36m(pid=1571747)\u001b[0m Finished Edge: chemical-disease (chemical = 3432, disease = 3792); 112863 unique edges\n",
      "\u001b[2m\u001b[36m(pid=1571740)\u001b[0m Finished Edge: chemical-diseasetherapeutic (chemical = 2961, diseasetherapeutic = 3709); 72463 unique edges\n",
      "\u001b[2m\u001b[36m(pid=1571747)\u001b[0m Finished Edge: gobp-pathway (gobp = 479, pathway = 672); 672 unique edges\n",
      "\u001b[2m\u001b[36m(pid=1571740)\u001b[0m Finished Edge: gene-rna (gene = 25392, rna = 194965); 197370 unique edges\n",
      "\u001b[2m\u001b[36m(pid=1571734)\u001b[0m Finished Edge: protein-gobp (protein = 17410, gobp = 12329); 129426 unique edges\n",
      "\u001b[2m\u001b[36m(pid=1571732)\u001b[0m Finished Edge: protein-gocc (protein = 18451, gocc = 1752); 82524 unique edges\n",
      "\u001b[2m\u001b[36m(pid=1571744)\u001b[0m Finished Edge: chemical-gobp (chemical = 1282, gobp = 1510); 276381 unique edges\n",
      "\u001b[2m\u001b[36m(pid=1571744)\u001b[0m Finished Edge: pathway-gomf (pathway = 2422, gomf = 728); 2426 unique edges\n",
      "\u001b[2m\u001b[36m(pid=1571744)\u001b[0m Finished Edge: transporter-chemical (transporter = 11, chemical = 58); 91 unique edges\n",
      "\u001b[2m\u001b[36m(pid=1571741)\u001b[0m Finished Edge: protein-protein (protein = 14141, protein = 14141); 617499 unique edges\n",
      "\u001b[2m\u001b[36m(pid=1571745)\u001b[0m Finished Edge: variant-phenotype (variant = 3221, phenotype = 524); 4855 unique edges\n",
      "\u001b[2m\u001b[36m(pid=1571740)\u001b[0m Finished Edge: variant-disease (variant = 22751, disease = 4882); 69965 unique edges\n",
      "\u001b[2m\u001b[36m(pid=1571747)\u001b[0m Finished Edge: variant-gene (variant = 236121, gene = 4233); 236121 unique edges\n"
     ]
    }
   ],
   "source": [
    "# combine data sources\n",
    "combined_edges = dict(edges.data_files, **ont.data_files)\n",
    "resource_info_loc = './resources/resource_info.txt'\n",
    "\n",
    "# initialize edge dictionary class\n",
    "master_edges = CreatesEdgeList(data_files=combined_edges, source_file=resource_info_loc)\n",
    "master_edges.runs_creates_knowledge_graph_edges(source_file=resource_info_loc, data_files=combined_edges, cpus=cpus)"
   ]
  },
  {
   "cell_type": "markdown",
   "metadata": {},
   "source": [
    "**Preview Master Edge Data**  \n",
    "Generate a table that includes each `edge-type`, its primary `relation`, example identifiers, and count of unique edges."
   ]
  },
  {
   "cell_type": "code",
   "execution_count": 17,
   "metadata": {},
   "outputs": [
    {
     "data": {
      "text/plain": [
       "dict_keys(['gobp-pathway', 'chemical-phenotypetherapeutic', 'gene-disease', 'protein-pathway', 'protein-gocc', 'rna-anatomy', 'transporter-chemical', 'rna-protein', 'variant-phenotype', 'pathway-gocc', 'chemical-gobp', 'chemical-gene', 'chemical-gomf', 'chemical-diseasetherapeutic', 'gene-gene', 'variant-gene', 'chemical-phenotype', 'protein-gobp', 'protein-catalyst', 'protein-anatomy', 'chemical-indication', 'disease-phenotype', 'protein-cofactor', 'chemical-substrate', 'chemical-inhibitor', 'gene-rna', 'chemical-disease', 'chemical-pathway', 'protein-protein', 'protein-cell', 'variant-disease', 'protein-gomf', 'chemical-protein', 'gene-phenotype', 'chemical-gocc', 'rna-cell', 'chemical-molecule', 'gene-protein', 'gene-pathway', 'pathway-gomf'])"
      ]
     },
     "execution_count": 17,
     "metadata": {},
     "output_type": "execute_result"
    }
   ],
   "source": [
    "# # read in master edge dictionary\n",
    "master_edges = json.load(open('resources/Master_Edge_List_Dict.json', 'r'))\n",
    "master_edges.keys()"
   ]
  },
  {
   "cell_type": "code",
   "execution_count": 18,
   "metadata": {},
   "outputs": [
    {
     "data": {
      "text/plain": [
       "685"
      ]
     },
     "execution_count": 18,
     "metadata": {},
     "output_type": "execute_result"
    }
   ],
   "source": [
    "# read in relation data\n",
    "relation_data = open('./resources/relations_data/RELATIONS_LABELS.txt').readlines()\n",
    "relation_dict = {x.split('\\t')[0]: x.split('\\t')[1].strip('\\n') for x in relation_data}\n",
    "len(relation_dict.keys())"
   ]
  },
  {
   "cell_type": "code",
   "execution_count": 19,
   "metadata": {},
   "outputs": [],
   "source": [
    "##add substrate of relation\n",
    "relation_dict['DIDEO_00000041'] = 'is substrate of'"
   ]
  },
  {
   "cell_type": "code",
   "execution_count": 20,
   "metadata": {},
   "outputs": [
    {
     "data": {
      "text/html": [
       "<div>\n",
       "<style scoped>\n",
       "    .dataframe tbody tr th:only-of-type {\n",
       "        vertical-align: middle;\n",
       "    }\n",
       "\n",
       "    .dataframe tbody tr th {\n",
       "        vertical-align: top;\n",
       "    }\n",
       "\n",
       "    .dataframe thead th {\n",
       "        text-align: right;\n",
       "    }\n",
       "</style>\n",
       "<table border=\"1\" class=\"dataframe\">\n",
       "  <thead>\n",
       "    <tr style=\"text-align: right;\">\n",
       "      <th></th>\n",
       "      <th>Edge Type</th>\n",
       "      <th>Relation</th>\n",
       "      <th>Example Edge</th>\n",
       "      <th>Unique Edges</th>\n",
       "    </tr>\n",
       "  </thead>\n",
       "  <tbody>\n",
       "    <tr>\n",
       "      <th>0</th>\n",
       "      <td>gobp-pathway</td>\n",
       "      <td>realized in response to</td>\n",
       "      <td>GO_0016567, R-HSA-8866654</td>\n",
       "      <td>672</td>\n",
       "    </tr>\n",
       "    <tr>\n",
       "      <th>1</th>\n",
       "      <td>chemical-phenotypetherapeutic</td>\n",
       "      <td>is substance that treats</td>\n",
       "      <td>CHEBI_701, HP_0001250</td>\n",
       "      <td>37369</td>\n",
       "    </tr>\n",
       "    <tr>\n",
       "      <th>2</th>\n",
       "      <td>gene-disease</td>\n",
       "      <td>causes or contributes to condition</td>\n",
       "      <td>2, MONDO_0010200</td>\n",
       "      <td>13344</td>\n",
       "    </tr>\n",
       "    <tr>\n",
       "      <th>3</th>\n",
       "      <td>protein-pathway</td>\n",
       "      <td>participates in</td>\n",
       "      <td>PR_A0A075B6P5, R-HSA-109582</td>\n",
       "      <td>117707</td>\n",
       "    </tr>\n",
       "    <tr>\n",
       "      <th>4</th>\n",
       "      <td>protein-gocc</td>\n",
       "      <td>located in</td>\n",
       "      <td>PR_A0A024RBG1, GO_0005829</td>\n",
       "      <td>82524</td>\n",
       "    </tr>\n",
       "    <tr>\n",
       "      <th>5</th>\n",
       "      <td>rna-anatomy</td>\n",
       "      <td>located in</td>\n",
       "      <td>ENST00000359318, UBERON_0001987</td>\n",
       "      <td>474073</td>\n",
       "    </tr>\n",
       "    <tr>\n",
       "      <th>6</th>\n",
       "      <td>transporter-chemical</td>\n",
       "      <td>transports</td>\n",
       "      <td>PR_Q9NPD5, CHEBI_38545</td>\n",
       "      <td>91</td>\n",
       "    </tr>\n",
       "    <tr>\n",
       "      <th>7</th>\n",
       "      <td>rna-protein</td>\n",
       "      <td>ribosomally translates to</td>\n",
       "      <td>ENST00000499023, PR_O43660</td>\n",
       "      <td>28220</td>\n",
       "    </tr>\n",
       "    <tr>\n",
       "      <th>8</th>\n",
       "      <td>variant-phenotype</td>\n",
       "      <td>causes or contributes to condition</td>\n",
       "      <td>rs527236137, HP_0000556</td>\n",
       "      <td>4855</td>\n",
       "    </tr>\n",
       "    <tr>\n",
       "      <th>9</th>\n",
       "      <td>pathway-gocc</td>\n",
       "      <td>has component</td>\n",
       "      <td>R-HSA-166753, GO_0005576</td>\n",
       "      <td>16014</td>\n",
       "    </tr>\n",
       "    <tr>\n",
       "      <th>10</th>\n",
       "      <td>chemical-gobp</td>\n",
       "      <td>molecularly interacts with</td>\n",
       "      <td>CHEBI_35299, GO_0048856</td>\n",
       "      <td>276381</td>\n",
       "    </tr>\n",
       "    <tr>\n",
       "      <th>11</th>\n",
       "      <td>chemical-gene</td>\n",
       "      <td>interacts with</td>\n",
       "      <td>CHEBI_28667, 348</td>\n",
       "      <td>16718</td>\n",
       "    </tr>\n",
       "    <tr>\n",
       "      <th>12</th>\n",
       "      <td>chemical-gomf</td>\n",
       "      <td>molecularly interacts with</td>\n",
       "      <td>CHEBI_34568, GO_0005488</td>\n",
       "      <td>28181</td>\n",
       "    </tr>\n",
       "    <tr>\n",
       "      <th>13</th>\n",
       "      <td>chemical-diseasetherapeutic</td>\n",
       "      <td>is substance that treats</td>\n",
       "      <td>CHEBI_701, MONDO_0005027</td>\n",
       "      <td>72463</td>\n",
       "    </tr>\n",
       "    <tr>\n",
       "      <th>14</th>\n",
       "      <td>gene-gene</td>\n",
       "      <td>genetically interacts with</td>\n",
       "      <td>84220, 729540</td>\n",
       "      <td>1715</td>\n",
       "    </tr>\n",
       "    <tr>\n",
       "      <th>15</th>\n",
       "      <td>variant-gene</td>\n",
       "      <td>causally influences</td>\n",
       "      <td>rs367697256, 7476</td>\n",
       "      <td>236121</td>\n",
       "    </tr>\n",
       "    <tr>\n",
       "      <th>16</th>\n",
       "      <td>chemical-phenotype</td>\n",
       "      <td>causes or contributes to condition</td>\n",
       "      <td>CHEBI_34026, HP_0000137</td>\n",
       "      <td>81939</td>\n",
       "    </tr>\n",
       "    <tr>\n",
       "      <th>17</th>\n",
       "      <td>protein-gobp</td>\n",
       "      <td>participates in</td>\n",
       "      <td>PR_A0A075B6H7, GO_0002250</td>\n",
       "      <td>129426</td>\n",
       "    </tr>\n",
       "    <tr>\n",
       "      <th>18</th>\n",
       "      <td>protein-catalyst</td>\n",
       "      <td>molecularly interacts with</td>\n",
       "      <td>PR_Q00266, CHEBI_15377</td>\n",
       "      <td>25136</td>\n",
       "    </tr>\n",
       "    <tr>\n",
       "      <th>19</th>\n",
       "      <td>protein-anatomy</td>\n",
       "      <td>located in</td>\n",
       "      <td>PR_P04217, UBERON_0001114</td>\n",
       "      <td>26815</td>\n",
       "    </tr>\n",
       "    <tr>\n",
       "      <th>20</th>\n",
       "      <td>chemical-indication</td>\n",
       "      <td>causes or contributes to condition</td>\n",
       "      <td>CHEBI_4875, MONDO_0008383</td>\n",
       "      <td>3996</td>\n",
       "    </tr>\n",
       "    <tr>\n",
       "      <th>21</th>\n",
       "      <td>disease-phenotype</td>\n",
       "      <td>has phenotype</td>\n",
       "      <td>MONDO_0010761, HP_0000510</td>\n",
       "      <td>444807</td>\n",
       "    </tr>\n",
       "    <tr>\n",
       "      <th>22</th>\n",
       "      <td>protein-cofactor</td>\n",
       "      <td>molecularly interacts with</td>\n",
       "      <td>PR_Q00266, CHEBI_18420</td>\n",
       "      <td>1998</td>\n",
       "    </tr>\n",
       "    <tr>\n",
       "      <th>23</th>\n",
       "      <td>chemical-substrate</td>\n",
       "      <td>is substrate of</td>\n",
       "      <td>CHEBI_135737, PR_P33261</td>\n",
       "      <td>514</td>\n",
       "    </tr>\n",
       "    <tr>\n",
       "      <th>24</th>\n",
       "      <td>chemical-inhibitor</td>\n",
       "      <td>directly negatively regulates activity of</td>\n",
       "      <td>CHEBI_28901, PR_P11509</td>\n",
       "      <td>273</td>\n",
       "    </tr>\n",
       "    <tr>\n",
       "      <th>25</th>\n",
       "      <td>gene-rna</td>\n",
       "      <td>transcribed to</td>\n",
       "      <td>81623, ENST00000382398</td>\n",
       "      <td>197370</td>\n",
       "    </tr>\n",
       "    <tr>\n",
       "      <th>26</th>\n",
       "      <td>chemical-disease</td>\n",
       "      <td>causes or contributes to condition</td>\n",
       "      <td>CHEBI_71223, MONDO_0018229</td>\n",
       "      <td>112863</td>\n",
       "    </tr>\n",
       "    <tr>\n",
       "      <th>27</th>\n",
       "      <td>chemical-pathway</td>\n",
       "      <td>participates in</td>\n",
       "      <td>CHEBI_10033, R-HSA-1430728</td>\n",
       "      <td>29988</td>\n",
       "    </tr>\n",
       "    <tr>\n",
       "      <th>28</th>\n",
       "      <td>protein-protein</td>\n",
       "      <td>molecularly interacts with</td>\n",
       "      <td>PR_P84085, PR_O15020</td>\n",
       "      <td>617499</td>\n",
       "    </tr>\n",
       "    <tr>\n",
       "      <th>29</th>\n",
       "      <td>protein-cell</td>\n",
       "      <td>located in</td>\n",
       "      <td>PR_P04217, UBERON_0002113</td>\n",
       "      <td>75311</td>\n",
       "    </tr>\n",
       "    <tr>\n",
       "      <th>30</th>\n",
       "      <td>variant-disease</td>\n",
       "      <td>causes or contributes to condition</td>\n",
       "      <td>rs146691368, MONDO_0018477</td>\n",
       "      <td>69965</td>\n",
       "    </tr>\n",
       "    <tr>\n",
       "      <th>31</th>\n",
       "      <td>protein-gomf</td>\n",
       "      <td>has function</td>\n",
       "      <td>PR_A0A024RBG1, GO_0003723</td>\n",
       "      <td>69816</td>\n",
       "    </tr>\n",
       "    <tr>\n",
       "      <th>32</th>\n",
       "      <td>chemical-protein</td>\n",
       "      <td>interacts with</td>\n",
       "      <td>CHEBI_4592, PR_P07099</td>\n",
       "      <td>72564</td>\n",
       "    </tr>\n",
       "    <tr>\n",
       "      <th>33</th>\n",
       "      <td>gene-phenotype</td>\n",
       "      <td>causes or contributes to condition</td>\n",
       "      <td>1, HP_0002240</td>\n",
       "      <td>24695</td>\n",
       "    </tr>\n",
       "    <tr>\n",
       "      <th>34</th>\n",
       "      <td>chemical-gocc</td>\n",
       "      <td>molecularly interacts with</td>\n",
       "      <td>CHEBI_34568, GO_0005623</td>\n",
       "      <td>47920</td>\n",
       "    </tr>\n",
       "    <tr>\n",
       "      <th>35</th>\n",
       "      <td>rna-cell</td>\n",
       "      <td>located in</td>\n",
       "      <td>ENST00000488147, CL_0000057</td>\n",
       "      <td>33152</td>\n",
       "    </tr>\n",
       "    <tr>\n",
       "      <th>36</th>\n",
       "      <td>chemical-molecule</td>\n",
       "      <td>molecularly interacts with</td>\n",
       "      <td>CHEBI_35553, PR_P10635</td>\n",
       "      <td>393</td>\n",
       "    </tr>\n",
       "    <tr>\n",
       "      <th>37</th>\n",
       "      <td>gene-protein</td>\n",
       "      <td>has gene product</td>\n",
       "      <td>4836, PR_P30419</td>\n",
       "      <td>19527</td>\n",
       "    </tr>\n",
       "    <tr>\n",
       "      <th>38</th>\n",
       "      <td>gene-pathway</td>\n",
       "      <td>participates in</td>\n",
       "      <td>1, R-HSA-109582</td>\n",
       "      <td>107009</td>\n",
       "    </tr>\n",
       "    <tr>\n",
       "      <th>39</th>\n",
       "      <td>pathway-gomf</td>\n",
       "      <td>has function</td>\n",
       "      <td>R-HSA-8876283, GO_0015370</td>\n",
       "      <td>2426</td>\n",
       "    </tr>\n",
       "  </tbody>\n",
       "</table>\n",
       "</div>"
      ],
      "text/plain": [
       "                        Edge Type                                   Relation  \\\n",
       "0                    gobp-pathway                    realized in response to   \n",
       "1   chemical-phenotypetherapeutic                   is substance that treats   \n",
       "2                    gene-disease         causes or contributes to condition   \n",
       "3                 protein-pathway                            participates in   \n",
       "4                    protein-gocc                                 located in   \n",
       "5                     rna-anatomy                                 located in   \n",
       "6            transporter-chemical                                 transports   \n",
       "7                     rna-protein                  ribosomally translates to   \n",
       "8               variant-phenotype         causes or contributes to condition   \n",
       "9                    pathway-gocc                              has component   \n",
       "10                  chemical-gobp                 molecularly interacts with   \n",
       "11                  chemical-gene                             interacts with   \n",
       "12                  chemical-gomf                 molecularly interacts with   \n",
       "13    chemical-diseasetherapeutic                   is substance that treats   \n",
       "14                      gene-gene                 genetically interacts with   \n",
       "15                   variant-gene                        causally influences   \n",
       "16             chemical-phenotype         causes or contributes to condition   \n",
       "17                   protein-gobp                            participates in   \n",
       "18               protein-catalyst                 molecularly interacts with   \n",
       "19                protein-anatomy                                 located in   \n",
       "20            chemical-indication         causes or contributes to condition   \n",
       "21              disease-phenotype                              has phenotype   \n",
       "22               protein-cofactor                 molecularly interacts with   \n",
       "23             chemical-substrate                            is substrate of   \n",
       "24             chemical-inhibitor  directly negatively regulates activity of   \n",
       "25                       gene-rna                             transcribed to   \n",
       "26               chemical-disease         causes or contributes to condition   \n",
       "27               chemical-pathway                            participates in   \n",
       "28                protein-protein                 molecularly interacts with   \n",
       "29                   protein-cell                                 located in   \n",
       "30                variant-disease         causes or contributes to condition   \n",
       "31                   protein-gomf                               has function   \n",
       "32               chemical-protein                             interacts with   \n",
       "33                 gene-phenotype         causes or contributes to condition   \n",
       "34                  chemical-gocc                 molecularly interacts with   \n",
       "35                       rna-cell                                 located in   \n",
       "36              chemical-molecule                 molecularly interacts with   \n",
       "37                   gene-protein                           has gene product   \n",
       "38                   gene-pathway                            participates in   \n",
       "39                   pathway-gomf                               has function   \n",
       "\n",
       "                       Example Edge  Unique Edges  \n",
       "0         GO_0016567, R-HSA-8866654           672  \n",
       "1             CHEBI_701, HP_0001250         37369  \n",
       "2                  2, MONDO_0010200         13344  \n",
       "3       PR_A0A075B6P5, R-HSA-109582        117707  \n",
       "4         PR_A0A024RBG1, GO_0005829         82524  \n",
       "5   ENST00000359318, UBERON_0001987        474073  \n",
       "6            PR_Q9NPD5, CHEBI_38545            91  \n",
       "7        ENST00000499023, PR_O43660         28220  \n",
       "8           rs527236137, HP_0000556          4855  \n",
       "9          R-HSA-166753, GO_0005576         16014  \n",
       "10          CHEBI_35299, GO_0048856        276381  \n",
       "11                 CHEBI_28667, 348         16718  \n",
       "12          CHEBI_34568, GO_0005488         28181  \n",
       "13         CHEBI_701, MONDO_0005027         72463  \n",
       "14                    84220, 729540          1715  \n",
       "15                rs367697256, 7476        236121  \n",
       "16          CHEBI_34026, HP_0000137         81939  \n",
       "17        PR_A0A075B6H7, GO_0002250        129426  \n",
       "18           PR_Q00266, CHEBI_15377         25136  \n",
       "19        PR_P04217, UBERON_0001114         26815  \n",
       "20        CHEBI_4875, MONDO_0008383          3996  \n",
       "21        MONDO_0010761, HP_0000510        444807  \n",
       "22           PR_Q00266, CHEBI_18420          1998  \n",
       "23          CHEBI_135737, PR_P33261           514  \n",
       "24           CHEBI_28901, PR_P11509           273  \n",
       "25           81623, ENST00000382398        197370  \n",
       "26       CHEBI_71223, MONDO_0018229        112863  \n",
       "27       CHEBI_10033, R-HSA-1430728         29988  \n",
       "28             PR_P84085, PR_O15020        617499  \n",
       "29        PR_P04217, UBERON_0002113         75311  \n",
       "30       rs146691368, MONDO_0018477         69965  \n",
       "31        PR_A0A024RBG1, GO_0003723         69816  \n",
       "32            CHEBI_4592, PR_P07099         72564  \n",
       "33                    1, HP_0002240         24695  \n",
       "34          CHEBI_34568, GO_0005623         47920  \n",
       "35      ENST00000488147, CL_0000057         33152  \n",
       "36           CHEBI_35553, PR_P10635           393  \n",
       "37                  4836, PR_P30419         19527  \n",
       "38                  1, R-HSA-109582        107009  \n",
       "39        R-HSA-8876283, GO_0015370          2426  "
      ]
     },
     "execution_count": 20,
     "metadata": {},
     "output_type": "execute_result"
    }
   ],
   "source": [
    "# print basic stats on each resource\n",
    "edge_data = [[key,\n",
    "              relation_dict[master_edges[key]['edge_relation']],\n",
    "              ', '.join(master_edges[key]['edge_list'][0]),\n",
    "              len(master_edges[key]['edge_list'])]\n",
    "             for key in master_edges.keys()]\n",
    "\n",
    "# convert dict to pandas df for nice printing\n",
    "df = pandas.DataFrame(edge_data, columns = ['Edge Type', 'Relation', 'Example Edge', 'Unique Edges']) \n",
    "df"
   ]
  },
  {
   "cell_type": "code",
   "execution_count": 21,
   "metadata": {},
   "outputs": [],
   "source": [
    "df.to_csv('resources/edge_data/edge_counts.tsv', sep='\\t', index=False)"
   ]
  },
  {
   "cell_type": "markdown",
   "metadata": {},
   "source": [
    "<br><br>"
   ]
  },
  {
   "cell_type": "markdown",
   "metadata": {},
   "source": [
    "***\n",
    "\n",
    "## Build Knowledge Graph  <a class=\"anchor\" id=\"build-kg\"></a>\n",
    "**Wiki Pages:**  \n",
    "- **[`KG-Construction`](https://github.com/callahantiff/PheKnowLator/wiki/KG-Construction)**  \n",
    "- **[`relations-data`](https://github.com/callahantiff/PheKnowLator/wiki/Dependencies#relations-data)**  \n",
    "- **[`node-metadata`](https://github.com/callahantiff/PheKnowLator/wiki/Dependencies#node-metadata)** \n",
    "\n",
    "**Jupyter Notebooks:**  \n",
    "- [`Data_Preparation.ipynb`](https://github.com/callahantiff/PheKnowLator/blob/master/notebooks/Data_Preparation.ipynb)  \n",
    "[`Ontology_Cleaning.ipynb`](https://github.com/callahantiff/PheKnowLator/blob/master/notebooks/Ontology_Cleaning.ipynb)  \n",
    "\n",
    "\n",
    "<br>\n",
    "\n",
    "**Assumptions:**  \n",
    "- <u>Construction Approach</u>. If using the `subclass-based` construction approach, please make sure that a `pickled` dictionary mapping each non-ontology data node to an existing ontology class is created and added to the `./resources/knowledge_graph` directory (please see [here](https://github.com/callahantiff/PheKnowLator/tree/master/resources/knowledge_graphs#construction-method) for additional information).   \n",
    "- <u>Relations Data</u>. If inverse relation data is going to be used to build the knowledge graph, that it has been generated and added to the `./resources/relations_data` directory (please see [here](https://github.com/callahantiff/PheKnowLator/blob/master/resources/relations_data/README.md) for additional information).  \n",
    "- <u>Node Metadata</u>. If node metadata is going to be used to build the knowledge graph, that it has been generated and added to the `./resources/node_metadata` directory (please see [here](https://github.com/callahantiff/PheKnowLator/blob/master/resources/node_data/README.md) for additional information).  \n",
    "- <u>Decoding OWL Semantics</u>. If decoding OWL-Semantics, please make sure to provide a list of owl:Property types to keep is created and added to the `./resources/knowledge_graph` directory (please see [here](https://github.com/callahantiff/PheKnowLator/wiki/OWL-NETS-2.0) for additional information). \n",
    "\n",
    "<br>\n",
    "\n",
    "**Input:** \n",
    "- `Master_Edge_List_Dict.json`  \n",
    "- Directory of relations data sources - see [here](https://github.com/callahantiff/PheKnowLator/wiki/Dependencies#relations-data) for more information\n",
    "- Directory of node data sources - see [here](https://github.com/callahantiff/PheKnowLator/wiki/Dependencies#node-metadata) for more information\n",
    "\n",
    "<br>\n",
    "\n",
    "**Output:** Please see [`Release v2.0.0 Wiki`](https://github.com/callahantiff/PheKnowLator/wiki/v2.0.0) for access to all generated output files.   \n",
    "- `Knowledge Graph` (`.owl` and Networkx MultiDiGraph `.pkl`)  \n",
    "- `Class Instance URI-UUID Map` (if \"instance\" construction approach)   \n",
    "- `Triple List - Integer`  \n",
    "- `Triple List - Identifier`  \n",
    "- `Node Integer-Identifier Map`  \n",
    "- `Node Attribute Data`  \n",
    "\n",
    "<br>\n",
    "\n",
    "The process to build the knowledge graph is somewhat time consuming and can be broken into the following steps:  \n",
    "\n",
    "1. Merge Ontologies. See [here](https://github.com/callahantiff/PheKnowLator/blob/master/resources/ontologies/README.md) for additional information on how to preprocess the ontologies prior to merging them.    \n",
    "\n",
    "2. Create Edges. Add edge lists to merged ontologies.  \n",
    "\n",
    "3. Add Inverse Relations and Node Data. See the [Dependencies](https://github.com/callahantiff/PheKnowLator/wiki/Dependencies) Wiki page for details on how to construct these resources.  \n",
    "\n",
    "4. Filter OWL Semantics. Filter the knowledge graph with the goal of removing all edges that contain entities that are needed to support owl semantics, but are not biologically meaningful (please see [here](https://github.com/callahantiff/PheKnowLator/wiki/OWL-NETS-2.0) for additional information).\n",
    "\n",
    "5. Save Edge Lists and Node Metadata. Several versions of the knowledge graph are saved, including: the full knowledge graph (`owl` or Networkx MultiDiGraph `pickle`), triple lists (i.e. integer index and identifier labeled edge lists with a dictionary that maps between the integer indices and node identifiers), and a file of metadata (i.e. identifiers, labels, synonyms, and descriptions) for all nodes in the knowledge graph.  \n",
    "\n",
    "<br>\n",
    "\n",
    "**‼ IMPORTANT:**  \n",
    "- The file containing the merged ontologies is quite large and can take up to 30 minutes to read in.  This is not a limitation of the code directly, but rather a function of the [`RDFLib Library`](https://github.com/RDFLib). While there are other ways to read in this data, we maintain reliance on this library as it is the most user-friendly for non-RDF users.   \n",
    "- If you'd like to include [node metadata](https://github.com/callahantiff/PheKnowLator/wiki/Dependencies#node-metadata) when building the knowledge graph, please hold off on building the knowledge graph until you have generated the node data. For details on how to do this see the [node metadata](https://github.com/callahantiff/PheKnowLator/wiki/Dependencies#node-metadata) section of the `Dependencies` Wiki Page or help for help with generating the data, please see the []() section of the [`Data_Preparation.ipynb`](https://github.com/callahantiff/PheKnowLator/blob/master/notebooks/Data_Preparation.ipynb) Jupyter Notebook.\n",
    "\n",
    "***\n"
   ]
  },
  {
   "cell_type": "code",
   "execution_count": 22,
   "metadata": {},
   "outputs": [],
   "source": [
    "# specify input arguments\n",
    "build = 'full'\n",
    "construction_approach = 'instance'\n",
    "add_node_data_to_kg = 'yes'\n",
    "add_inverse_relations_to_kg = 'yes'\n",
    "decode_owl_semantics = 'yes'\n",
    "kg_directory_location = './resources/knowledge_graphs'\n"
   ]
  },
  {
   "cell_type": "code",
   "execution_count": 23,
   "metadata": {},
   "outputs": [
    {
     "name": "stdout",
     "output_type": "stream",
     "text": [
      "\n",
      "### Starting Knowledge Graph Build: FULL ###\n",
      "*** Loading Relations Data ***\n",
      "Loading and Processing Relation Data\n",
      "*** Loading Merged Ontologies ***\n",
      "Merged Ontologies Graph Stats: 23996958 triples, 8901531 nodes, 330 predicates, 835991 classes, 36 individuals, 867 object props, 700 annotation props\n",
      "*** Loading Node Metadata Data ***\n",
      "Loading and Processing Node Metadata\n",
      "\n",
      "Extracting Class and Relation Metadata\n"
     ]
    },
    {
     "name": "stderr",
     "output_type": "stream",
     "text": [
      "100%|██████████| 654239/654239 [02:47<00:00, 3901.41it/s] \n",
      "100%|██████████| 867/867 [00:00<00:00, 3536.79it/s]\n"
     ]
    },
    {
     "name": "stdout",
     "output_type": "stream",
     "text": [
      "*** Splitting Graph ***\n",
      "Adding Namespace to BNodes\n",
      "Creating Logic and Annotation Subsets of Graph\n"
     ]
    },
    {
     "name": "stderr",
     "output_type": "stream",
     "text": [
      "100%|██████████| 2731462/2731462 [36:45<00:00, 1238.73it/s] \n"
     ]
    },
    {
     "name": "stdout",
     "output_type": "stream",
     "text": [
      "Annotation Assertions (n=17718241 Triples)\n",
      "Creating Logic Graph (n=6278717 Triples)\n"
     ]
    },
    {
     "name": "stderr",
     "output_type": "stream",
     "text": [
      "100%|██████████| 6278717/6278717 [02:13<00:00, 47090.74it/s]\n"
     ]
    },
    {
     "name": "stdout",
     "output_type": "stream",
     "text": [
      "Merged Ontologies - Logic Subset Graph Stats: 6278717 triples, 2152142 nodes, 49 predicates, 835991 classes, 36 individuals, 867 object props, 700 annotation props\n",
      "\n",
      "*** Building Knowledge Graph Edges ***\n",
      "\u001b[2m\u001b[36m(pid=1604631)\u001b[0m \n",
      "\u001b[2m\u001b[36m(pid=1604631)\u001b[0m Created CHEMICAL-PROTEIN (class-class) Edges: 362751 OWL Edges, 72550 Original Edges; 157407 OWL Nodes, Original Nodes: 4345 chemical(s), 7959 protein(s)\n",
      "\u001b[2m\u001b[36m(pid=1604501)\u001b[0m \n",
      "\u001b[2m\u001b[36m(pid=1604501)\u001b[0m Created CHEMICAL-PHENOTYPE (class-class) Edges: 406391 OWL Edges, 81278 Original Edges; 167410 OWL Nodes, Original Nodes: 3254 chemical(s), 1597 phenotype(s)\n",
      "\u001b[2m\u001b[36m(pid=1604673)\u001b[0m \n",
      "\u001b[2m\u001b[36m(pid=1604673)\u001b[0m Created CHEMICAL-DISEASETHERAPEUTIC (class-class) Edges: 420344 OWL Edges, 140114 Original Edges; 146662 OWL Nodes, Original Nodes: 2957 chemical(s), 3587 diseasetherapeutic(s)\n",
      "\u001b[2m\u001b[36m(pid=1604549)\u001b[0m \n",
      "\u001b[2m\u001b[36m(pid=1604549)\u001b[0m Created PROTEIN-CELL (class-class) Edges: 441140 OWL Edges, 147046 Original Edges; 157219 OWL Nodes, Original Nodes: 10044 protein(s), 125 cell(s)\n",
      "\u001b[2m\u001b[36m(pid=1604440)\u001b[0m \n",
      "\u001b[2m\u001b[36m(pid=1604440)\u001b[0m Created PROTEIN-GOCC (class-class) Edges: 490670 OWL Edges, 163556 Original Edges; 183696 OWL Nodes, Original Nodes: 18435 protein(s), 1701 gocc(s)\n",
      "\u001b[2m\u001b[36m(pid=1604325)\u001b[0m \n",
      "\u001b[2m\u001b[36m(pid=1604325)\u001b[0m Created CHEMICAL-DISEASE (class-class) Edges: 547246 OWL Edges, 109449 Original Edges; 225984 OWL Nodes, Original Nodes: 3425 chemical(s), 3658 disease(s)\n",
      "\u001b[2m\u001b[36m(pid=1604719)\u001b[0m \n",
      "\u001b[2m\u001b[36m(pid=1604719)\u001b[0m Created VARIANT-DISEASE (entity-class) Edges: 389052 OWL Edges, 68634 Original Edges; 164782 OWL Nodes, Original Nodes: 22746 variant(s), 4758 disease(s)\n",
      "\u001b[2m\u001b[36m(pid=1604673)\u001b[0m \n",
      "\u001b[2m\u001b[36m(pid=1604673)\u001b[0m Created CHEMICAL-GOCC (class-class) Edges: 179276 OWL Edges, 35855 Original Edges; 73027 OWL Nodes, Original Nodes: 1092 chemical(s), 222 gocc(s)\n",
      "\u001b[2m\u001b[36m(pid=1604631)\u001b[0m \n",
      "\u001b[2m\u001b[36m(pid=1604631)\u001b[0m Created CHEMICAL-PHENOTYPETHERAPEUTIC (class-class) Edges: 221678 OWL Edges, 73892 Original Edges; 78062 OWL Nodes, Original Nodes: 2793 chemical(s), 1373 phenotypetherapeutic(s)\n",
      "\u001b[2m\u001b[36m(pid=1604325)\u001b[0m \n",
      "\u001b[2m\u001b[36m(pid=1604325)\u001b[0m Created CHEMICAL-GENE (class-entity) Edges: 107082 OWL Edges, 16661 Original Edges; 45702 OWL Nodes, Original Nodes: 472 chemical(s), 11923 gene(s)\n",
      "\u001b[2m\u001b[36m(pid=1604325)\u001b[0m \n",
      "\u001b[2m\u001b[36m(pid=1604325)\u001b[0m Created CHEMICAL-INDICATION (class-class) Edges: 19891 OWL Edges, 3978 Original Edges; 9835 OWL Nodes, Original Nodes: 1176 chemical(s), 700 indication(s)\n",
      "\u001b[2m\u001b[36m(pid=1604673)\u001b[0m \n",
      "\u001b[2m\u001b[36m(pid=1604673)\u001b[0m Created GENE-DISEASE (entity-class) Edges: 76747 OWL Edges, 13341 Original Edges; 36192 OWL Nodes, Original Nodes: 5056 gene(s), 4482 disease(s)\n",
      "\u001b[2m\u001b[36m(pid=1604501)\u001b[0m \n",
      "\u001b[2m\u001b[36m(pid=1604501)\u001b[0m Created CHEMICAL-PATHWAY (class-entity) Edges: 186159 OWL Edges, 59904 Original Edges; 65135 OWL Nodes, Original Nodes: 2245 chemical(s), 2240 pathway(s)\n",
      "\u001b[2m\u001b[36m(pid=1604673)\u001b[0m \n",
      "\u001b[2m\u001b[36m(pid=1604673)\u001b[0m Created GOBP-PATHWAY (class-entity) Edges: 5839 OWL Edges, 666 Original Edges; 2505 OWL Nodes, Original Nodes: 474 gobp(s), 666 pathway(s)\n",
      "\u001b[2m\u001b[36m(pid=1604325)\u001b[0m \n",
      "\u001b[2m\u001b[36m(pid=1604325)\u001b[0m Created PROTEIN-COFACTOR (class-class) Edges: 9791 OWL Edges, 1958 Original Edges; 5544 OWL Nodes, Original Nodes: 1581 protein(s), 44 cofactor(s)\n",
      "\u001b[2m\u001b[36m(pid=1604673)\u001b[0m \n",
      "\u001b[2m\u001b[36m(pid=1604673)\u001b[0m Created TRANSPORTER-CHEMICAL (class-class) Edges: 456 OWL Edges, 91 Original Edges; 254 OWL Nodes, Original Nodes: 11 transporter(s), 58 chemical(s)\n",
      "\u001b[2m\u001b[36m(pid=1604549)\u001b[0m \n",
      "\u001b[2m\u001b[36m(pid=1604549)\u001b[0m Created RNA-CELL (entity-class) Edges: 228492 OWL Edges, 66304 Original Edges; 76189 OWL Nodes, Original Nodes: 10052 rna(s), 4 cell(s)\n",
      "\u001b[2m\u001b[36m(pid=1604440)\u001b[0m \n",
      "\u001b[2m\u001b[36m(pid=1604440)\u001b[0m Created RNA-PROTEIN (entity-class) Edges: 253988 OWL Edges, 56440 Original Edges; 103607 OWL Nodes, Original Nodes: 28220 rna(s), 18936 protein(s)\n",
      "\u001b[2m\u001b[36m(pid=1604631)\u001b[0m \n",
      "\u001b[2m\u001b[36m(pid=1604631)\u001b[0m Created PROTEIN-CATALYST (class-class) Edges: 118891 OWL Edges, 23778 Original Edges; 54352 OWL Nodes, Original Nodes: 3045 protein(s), 3748 catalyst(s)\n",
      "\u001b[2m\u001b[36m(pid=1604214)\u001b[0m \n",
      "\u001b[2m\u001b[36m(pid=1604214)\u001b[0m Created PROTEIN-GOBP (class-class) Edges: 772310 OWL Edges, 257436 Original Edges; 286976 OWL Nodes, Original Nodes: 17395 protein(s), 12141 gobp(s)\n",
      "\u001b[2m\u001b[36m(pid=1604214)\u001b[0m \n",
      "\u001b[2m\u001b[36m(pid=1604214)\u001b[0m Created VARIANT-PHENOTYPE (entity-class) Edges: 30044 OWL Edges, 4713 Original Edges; 13172 OWL Nodes, Original Nodes: 3216 variant(s), 520 phenotype(s)\n",
      "\u001b[2m\u001b[36m(pid=1604214)\u001b[0m \n",
      "\u001b[2m\u001b[36m(pid=1604214)\u001b[0m Created CHEMICAL-MOLECULE (class-class) Edges: 1921 OWL Edges, 384 Original Edges; 1016 OWL Nodes, Original Nodes: 208 chemical(s), 37 molecule(s)\n",
      "\u001b[2m\u001b[36m(pid=1604501)\u001b[0m \n",
      "\u001b[2m\u001b[36m(pid=1604501)\u001b[0m Created GENE-PROTEIN (entity-class) Edges: 155817 OWL Edges, 39054 Original Edges; 77517 OWL Nodes, Original Nodes: 19324 gene(s), 19129 protein(s)\n",
      "\u001b[2m\u001b[36m(pid=1604501)\u001b[0m \n",
      "\u001b[2m\u001b[36m(pid=1604501)\u001b[0m Created PATHWAY-GOMF (entity-class) Edges: 19334 OWL Edges, 4798 Original Edges; 7978 OWL Nodes, Original Nodes: 2395 pathway(s), 721 gomf(s)\n",
      "\u001b[2m\u001b[36m(pid=1604549)\u001b[0m \n",
      "\u001b[2m\u001b[36m(pid=1604549)\u001b[0m Created PROTEIN-ANATOMY (class-class) Edges: 160892 OWL Edges, 53630 Original Edges; 64813 OWL Nodes, Original Nodes: 11116 protein(s), 63 anatomy(s)\n",
      "\u001b[2m\u001b[36m(pid=1604501)\u001b[0m \n",
      "\u001b[2m\u001b[36m(pid=1604501)\u001b[0m Created CHEMICAL-SUBSTRATE (class-class) Edges: 2511 OWL Edges, 502 Original Edges; 1323 OWL Nodes, Original Nodes: 283 chemical(s), 33 substrate(s)\n",
      "\u001b[2m\u001b[36m(pid=1604501)\u001b[0m \n",
      "\u001b[2m\u001b[36m(pid=1604501)\u001b[0m Created CHEMICAL-INHIBITOR (class-class) Edges: 1316 OWL Edges, 263 Original Edges; 681 OWL Nodes, Original Nodes: 123 chemical(s), 29 inhibitor(s)\n",
      "\u001b[2m\u001b[36m(pid=1604440)\u001b[0m \n",
      "\u001b[2m\u001b[36m(pid=1604440)\u001b[0m Created GENE-PHENOTYPE (entity-class) Edges: 136407 OWL Edges, 24587 Original Edges; 57519 OWL Nodes, Original Nodes: 6783 gene(s), 1590 phenotype(s)\n",
      "\u001b[2m\u001b[36m(pid=1604719)\u001b[0m \n",
      "\u001b[2m\u001b[36m(pid=1604719)\u001b[0m Created PROTEIN-GOMF (class-class) Edges: 414956 OWL Edges, 138318 Original Edges; 160500 OWL Nodes, Original Nodes: 17805 protein(s), 4373 gomf(s)\n",
      "\u001b[2m\u001b[36m(pid=1604378)\u001b[0m \n",
      "\u001b[2m\u001b[36m(pid=1604378)\u001b[0m Created GENE-PATHWAY (entity-entity) Edges: 654911 OWL Edges, 209606 Original Edges; 222445 OWL Nodes, Original Nodes: 10367 gene(s), 1807 pathway(s)\n",
      "\u001b[2m\u001b[36m(pid=1604276)\u001b[0m \n",
      "\u001b[2m\u001b[36m(pid=1604276)\u001b[0m Created PROTEIN-PATHWAY (class-entity) Edges: 712538 OWL Edges, 235148 Original Edges; 248976 OWL Nodes, Original Nodes: 10540 protein(s), 2505 pathway(s)\n",
      "\u001b[2m\u001b[36m(pid=1604276)\u001b[0m \n",
      "\u001b[2m\u001b[36m(pid=1604276)\u001b[0m Created PATHWAY-GOCC (entity-class) Edges: 102828 OWL Edges, 15960 Original Edges; 43423 OWL Nodes, Original Nodes: 11222 pathway(s), 98 gocc(s)\n",
      "\u001b[2m\u001b[36m(pid=1604378)\u001b[0m \n",
      "\u001b[2m\u001b[36m(pid=1604378)\u001b[0m Created CHEMICAL-GOMF (class-class) Edges: 134376 OWL Edges, 26875 Original Edges; 55096 OWL Nodes, Original Nodes: 1141 chemical(s), 202 gomf(s)\n",
      "\u001b[2m\u001b[36m(pid=1604276)\u001b[0m \n",
      "\u001b[2m\u001b[36m(pid=1604276)\u001b[0m Created GENE-GENE (entity-entity) Edges: 9191 OWL Edges, 1715 Original Edges; 3744 OWL Nodes, Original Nodes: 239 gene(s), 251 gene(s)\n",
      "\u001b[2m\u001b[36m(pid=1604046)\u001b[0m \n",
      "\u001b[2m\u001b[36m(pid=1604046)\u001b[0m Created CHEMICAL-GOBP (class-class) Edges: 1349976 OWL Edges, 269995 Original Edges; 542747 OWL Nodes, Original Nodes: 1282 chemical(s), 1472 gobp(s)\n",
      "\u001b[2m\u001b[36m(pid=1604144)\u001b[0m \n",
      "\u001b[2m\u001b[36m(pid=1604144)\u001b[0m Created GENE-RNA (entity-entity) Edges: 1581181 OWL Edges, 394740 Original Edges; 535539 OWL Nodes, Original Nodes: 25392 gene(s), 194965 rna(s)\n",
      "\u001b[2m\u001b[36m(pid=1604079)\u001b[0m \n",
      "\u001b[2m\u001b[36m(pid=1604079)\u001b[0m Created VARIANT-GENE (entity-entity) Edges: 1898331 OWL Edges, 472242 Original Edges; 712617 OWL Nodes, Original Nodes: 236121 variant(s), 4233 gene(s)\n",
      "\u001b[2m\u001b[36m(pid=1604000)\u001b[0m \n",
      "\u001b[2m\u001b[36m(pid=1604000)\u001b[0m Created DISEASE-PHENOTYPE (class-class) Edges: 2601518 OWL Edges, 867172 Original Edges; 889148 OWL Nodes, Original Nodes: 11892 disease(s), 10080 phenotype(s)\n",
      "\u001b[2m\u001b[36m(pid=1603877)\u001b[0m \n",
      "\u001b[2m\u001b[36m(pid=1603877)\u001b[0m Created PROTEIN-PROTEIN (class-class) Edges: 3087496 OWL Edges, 617499 Original Edges; 1249142 OWL Nodes, Original Nodes: 14141 protein(s), 14141 protein(s)\n",
      "\u001b[2m\u001b[36m(pid=1603941)\u001b[0m \n",
      "\u001b[2m\u001b[36m(pid=1603941)\u001b[0m Created RNA-ANATOMY (entity-class) Edges: 2881998 OWL Edges, 937674 Original Edges; 960788 OWL Nodes, Original Nodes: 26693 rna(s), 97 anatomy(s)\n",
      "Full Logic Graph Stats: 27055279 triples, 9625608 nodes, 75 predicates, 1270547 classes, 7038946 individuals, 867 object props, 700 annotation props\n",
      "Converting Knowledge Graph to MultiDiGraph\n"
     ]
    },
    {
     "name": "stderr",
     "output_type": "stream",
     "text": [
      "100%|██████████| 27055279/27055279 [1:11:18<00:00, 6323.14it/s] \n"
     ]
    },
    {
     "name": "stdout",
     "output_type": "stream",
     "text": [
      "Pickling MultiDiGraph\n",
      "Generating Network Statistics\n",
      "Full Logic Subset (OWL) Graph Stats: 9625608 nodes, 27055279 edges, 3 self-loops, 5 most most common edges: http://www.w3.org/1999/02/22-rdf-syntax-ns#type:16255778, http://www.w3.org/2000/01/rdf-schema#subClassOf:2129602, http://purl.obolibrary.org/obo/RO_0002436:976326, http://www.w3.org/2002/07/owl#onProperty:848255, http://www.w3.org/2002/07/owl#someValuesFrom:845093, http://purl.obolibrary.org/obo/RO_0001015:681180, average degree 2.810760525464989, 5 highest degree nodes: http://www.w3.org/2002/07/owl#NamedIndividual:7038946, http://www.w3.org/2002/07/owl#Class:1270547, http://www.w3.org/2002/07/owl#Restriction:848255, http://purl.obolibrary.org/obo/RO_0002160:410559, http://purl.obolibrary.org/obo/SO_0001483:214262, http://purl.obolibrary.org/obo/SO_0001217:189456, density: 2.920086520740966e-07, 2 component(s): {0: 9625601, 1: '7 nodes: http://purl.obolibrary.org/obo/po/imports/ncbitaxon_import.owl | http://purl.obolibrary.org/obo/bfo/2014-05-03/classes-only.owl | http://www.w3.org/2002/07/owl#Ontology | http://purl.obolibrary.org/obo/ro/core.owl | http://purl.obolibrary.org/obo/clo.owl | http://purl.obolibrary.org/obo/iao/2017-03-24/iao.owl | http://purl.obolibrary.org/obo/po/imports/ro_import.owl'}\n",
      "Post-processing pkt-kg-Namespaced Anonymous Nodes\n",
      "Identifying BNodes with Namespace: https://github.com/callahantiff/PheKnowLator/pkt/bnode/\n",
      "Identifying BNodes\n",
      "Removing Namespace from BNodes\n",
      "Finalizing Updated Graph\n",
      "\n",
      "*** Running OWL-NETS ***\n"
     ]
    },
    {
     "name": "stderr",
     "output_type": "stream",
     "text": [
      "  0%|          | 0/17 [00:00<?, ?it/s]"
     ]
    },
    {
     "name": "stdout",
     "output_type": "stream",
     "text": [
      "Removing owl:disjointWith Axioms\n",
      "Filtering Triples\n"
     ]
    },
    {
     "name": "stderr",
     "output_type": "stream",
     "text": [
      "100%|██████████| 6276301/6276301 [04:56<00:00, 21149.91it/s]\n"
     ]
    },
    {
     "name": "stdout",
     "output_type": "stream",
     "text": [
      "\u001b[2m\u001b[36m(pid=1629877)\u001b[0m Decoding 43096 OWL Classes and Axioms\n",
      "\u001b[2m\u001b[36m(pid=1630037)\u001b[0m Decoding 43096 OWL Classes and Axioms\n",
      "\u001b[2m\u001b[36m(pid=1630116)\u001b[0m Decoding 43096 OWL Classes and Axioms\n",
      "\u001b[2m\u001b[36m(pid=1630229)\u001b[0m Decoding 43095 OWL Classes and Axioms\n",
      "\u001b[2m\u001b[36m(pid=1630318)\u001b[0m Decoding 43095 OWL Classes and Axioms\n",
      "\u001b[2m\u001b[36m(pid=1630404)\u001b[0m Decoding 43095 OWL Classes and Axioms\n",
      "\u001b[2m\u001b[36m(pid=1630507)\u001b[0m Decoding 43095 OWL Classes and Axioms\n",
      "\u001b[2m\u001b[36m(pid=1630650)\u001b[0m Decoding 43095 OWL Classes and Axioms\n",
      "\u001b[2m\u001b[36m(pid=1630749)\u001b[0m Decoding 43095 OWL Classes and Axioms\n",
      "\u001b[2m\u001b[36m(pid=1630844)\u001b[0m Decoding 43095 OWL Classes and Axioms\n",
      "\u001b[2m\u001b[36m(pid=1631349)\u001b[0m Decoding 43095 OWL Classes and Axioms\n",
      "\u001b[2m\u001b[36m(pid=1631126)\u001b[0m Decoding 43095 OWL Classes and Axioms\n",
      "\u001b[2m\u001b[36m(pid=1631468)\u001b[0m Decoding 43095 OWL Classes and Axioms\n",
      "\u001b[2m\u001b[36m(pid=1631567)\u001b[0m Decoding 43095 OWL Classes and Axioms\n",
      "\u001b[2m\u001b[36m(pid=1631673)\u001b[0m Decoding 43095 OWL Classes and Axioms\n",
      "\u001b[2m\u001b[36m(pid=1629877)\u001b[0m Filtering Triples\n",
      "\u001b[2m\u001b[36m(pid=1630037)\u001b[0m Filtering Triples\n",
      "\u001b[2m\u001b[36m(pid=1630116)\u001b[0m Filtering Triples\n",
      "\u001b[2m\u001b[36m(pid=1630507)\u001b[0m Filtering Triples\n",
      "\u001b[2m\u001b[36m(pid=1630229)\u001b[0m Filtering Triples\n",
      "\u001b[2m\u001b[36m(pid=1630404)\u001b[0m Filtering Triples\n",
      "\u001b[2m\u001b[36m(pid=1630650)\u001b[0m Filtering Triples\n",
      "\u001b[2m\u001b[36m(pid=1630318)\u001b[0m Filtering Triples\n",
      "\u001b[2m\u001b[36m(pid=1630844)\u001b[0m Filtering Triples\n",
      "\u001b[2m\u001b[36m(pid=1630749)\u001b[0m Filtering Triples\n",
      "\u001b[2m\u001b[36m(pid=1631349)\u001b[0m Filtering Triples\n",
      "\u001b[2m\u001b[36m(pid=1631126)\u001b[0m Filtering Triples\n",
      "\u001b[2m\u001b[36m(pid=1631468)\u001b[0m Filtering Triples\n",
      "\u001b[2m\u001b[36m(pid=1631567)\u001b[0m Filtering Triples\n",
      "\u001b[2m\u001b[36m(pid=1631673)\u001b[0m Filtering Triples\n",
      "\u001b[2m\u001b[36m(pid=1631766)\u001b[0m Decoding 43095 OWL Classes and Axioms\n",
      "\u001b[2m\u001b[36m(pid=1631766)\u001b[0m Filtering Triples\n"
     ]
    },
    {
     "name": "stderr",
     "output_type": "stream",
     "text": [
      "  6%|▌         | 1/17 [24:07<6:25:57, 1447.36s/it]"
     ]
    },
    {
     "name": "stdout",
     "output_type": "stream",
     "text": [
      "Removing owl:disjointWith Axioms\n",
      "Filtering Triples\n"
     ]
    },
    {
     "name": "stderr",
     "output_type": "stream",
     "text": [
      "100%|██████████| 631606/631606 [03:54<00:00, 2690.94it/s]\n",
      " 12%|█▏        | 2/17 [28:27<3:07:16, 749.09s/it] "
     ]
    },
    {
     "name": "stdout",
     "output_type": "stream",
     "text": [
      "Removing owl:disjointWith Axioms\n",
      "Filtering Triples\n"
     ]
    },
    {
     "name": "stderr",
     "output_type": "stream",
     "text": [
      "100%|██████████| 1013315/1013315 [13:08<00:00, 1284.66it/s]\n"
     ]
    },
    {
     "name": "stdout",
     "output_type": "stream",
     "text": [
      "\u001b[2m\u001b[36m(pid=1634072)\u001b[0m Decoding 1644 OWL Classes and Axioms\n",
      "\u001b[2m\u001b[36m(pid=1634111)\u001b[0m Decoding 1644 OWL Classes and Axioms\n",
      "\u001b[2m\u001b[36m(pid=1634138)\u001b[0m Decoding 1644 OWL Classes and Axioms\n",
      "\u001b[2m\u001b[36m(pid=1634172)\u001b[0m Decoding 1644 OWL Classes and Axioms\n",
      "\u001b[2m\u001b[36m(pid=1634199)\u001b[0m Decoding 1644 OWL Classes and Axioms\n",
      "\u001b[2m\u001b[36m(pid=1634228)\u001b[0m Decoding 1644 OWL Classes and Axioms\n",
      "\u001b[2m\u001b[36m(pid=1634260)\u001b[0m Decoding 1644 OWL Classes and Axioms\n",
      "\u001b[2m\u001b[36m(pid=1634286)\u001b[0m Decoding 1644 OWL Classes and Axioms\n",
      "\u001b[2m\u001b[36m(pid=1634311)\u001b[0m Decoding 1643 OWL Classes and Axioms\n",
      "\u001b[2m\u001b[36m(pid=1634337)\u001b[0m Decoding 1643 OWL Classes and Axioms\n",
      "\u001b[2m\u001b[36m(pid=1634361)\u001b[0m Decoding 1643 OWL Classes and Axioms\n",
      "\u001b[2m\u001b[36m(pid=1634386)\u001b[0m Decoding 1643 OWL Classes and Axioms\n",
      "\u001b[2m\u001b[36m(pid=1634072)\u001b[0m Filtering Triples\n",
      "\u001b[2m\u001b[36m(pid=1634111)\u001b[0m Filtering Triples\n",
      "\u001b[2m\u001b[36m(pid=1634286)\u001b[0m Filtering Triples\n",
      "\u001b[2m\u001b[36m(pid=1634260)\u001b[0m Filtering Triples\n",
      "\u001b[2m\u001b[36m(pid=1634138)\u001b[0m Filtering Triples\n",
      "\u001b[2m\u001b[36m(pid=1634172)\u001b[0m Filtering Triples\n",
      "\u001b[2m\u001b[36m(pid=1634199)\u001b[0m Filtering Triples\n",
      "\u001b[2m\u001b[36m(pid=1634228)\u001b[0m Filtering Triples\n",
      "\u001b[2m\u001b[36m(pid=1634337)\u001b[0m Filtering Triples\n",
      "\u001b[2m\u001b[36m(pid=1634361)\u001b[0m Filtering Triples\n",
      "\u001b[2m\u001b[36m(pid=1634386)\u001b[0m Filtering Triples\n",
      "\u001b[2m\u001b[36m(pid=1634311)\u001b[0m Filtering Triples\n",
      "\u001b[2m\u001b[36m(pid=1634412)\u001b[0m Decoding 1643 OWL Classes and Axioms\n",
      "\u001b[2m\u001b[36m(pid=1634412)\u001b[0m Filtering Triples\n",
      "\u001b[2m\u001b[36m(pid=1634446)\u001b[0m Decoding 1643 OWL Classes and Axioms\n",
      "\u001b[2m\u001b[36m(pid=1634446)\u001b[0m Filtering Triples\n",
      "\u001b[2m\u001b[36m(pid=1634471)\u001b[0m Decoding 1643 OWL Classes and Axioms\n",
      "\u001b[2m\u001b[36m(pid=1634471)\u001b[0m Filtering Triples\n",
      "\u001b[2m\u001b[36m(pid=1634497)\u001b[0m Decoding 1643 OWL Classes and Axioms\n"
     ]
    },
    {
     "name": "stderr",
     "output_type": "stream",
     "text": [
      " 18%|█▊        | 3/17 [42:58<3:07:44, 804.60s/it]"
     ]
    },
    {
     "name": "stdout",
     "output_type": "stream",
     "text": [
      "Removing owl:disjointWith Axioms\n",
      "Filtering Triples\n"
     ]
    },
    {
     "name": "stderr",
     "output_type": "stream",
     "text": []
    },
    {
     "name": "stdout",
     "output_type": "stream",
     "text": [
      "\u001b[2m\u001b[36m(pid=1634497)\u001b[0m Filtering Triples\n"
     ]
    },
    {
     "name": "stderr",
     "output_type": "stream",
     "text": [
      "100%|██████████| 889146/889146 [05:12<00:00, 2846.98it/s]\n",
      " 24%|██▎       | 4/17 [48:47<2:15:22, 624.77s/it]"
     ]
    },
    {
     "name": "stdout",
     "output_type": "stream",
     "text": [
      "Removing owl:disjointWith Axioms\n",
      "Filtering Triples\n"
     ]
    },
    {
     "name": "stderr",
     "output_type": "stream",
     "text": [
      "100%|██████████| 272750/272750 [01:17<00:00, 3537.21it/s]\n",
      " 29%|██▉       | 5/17 [50:15<1:26:16, 431.36s/it]"
     ]
    },
    {
     "name": "stdout",
     "output_type": "stream",
     "text": [
      "Removing owl:disjointWith Axioms\n",
      "Filtering Triples\n"
     ]
    },
    {
     "name": "stderr",
     "output_type": "stream",
     "text": [
      "100%|██████████| 953847/953847 [03:29<00:00, 4544.53it/s]\n"
     ]
    },
    {
     "name": "stdout",
     "output_type": "stream",
     "text": [
      "\u001b[2m\u001b[36m(pid=1636112)\u001b[0m Decoding 15024 OWL Classes and Axioms\n",
      "\u001b[2m\u001b[36m(pid=1636204)\u001b[0m Decoding 15024 OWL Classes and Axioms\n",
      "\u001b[2m\u001b[36m(pid=1636270)\u001b[0m Decoding 15023 OWL Classes and Axioms\n",
      "\u001b[2m\u001b[36m(pid=1636339)\u001b[0m Decoding 15023 OWL Classes and Axioms\n",
      "\u001b[2m\u001b[36m(pid=1636402)\u001b[0m Decoding 15023 OWL Classes and Axioms\n",
      "\u001b[2m\u001b[36m(pid=1636112)\u001b[0m Filtering Triples\n",
      "\u001b[2m\u001b[36m(pid=1636458)\u001b[0m Decoding 15023 OWL Classes and Axioms\n",
      "\u001b[2m\u001b[36m(pid=1636204)\u001b[0m Filtering Triples\n",
      "\u001b[2m\u001b[36m(pid=1636485)\u001b[0m Decoding 15023 OWL Classes and Axioms\n",
      "\u001b[2m\u001b[36m(pid=1636270)\u001b[0m Filtering Triples\n",
      "\u001b[2m\u001b[36m(pid=1636522)\u001b[0m Decoding 15023 OWL Classes and Axioms\n",
      "\u001b[2m\u001b[36m(pid=1636550)\u001b[0m Decoding 15023 OWL Classes and Axioms\n",
      "\u001b[2m\u001b[36m(pid=1636339)\u001b[0m Filtering Triples\n",
      "\u001b[2m\u001b[36m(pid=1636576)\u001b[0m Decoding 15023 OWL Classes and Axioms\n",
      "\u001b[2m\u001b[36m(pid=1636656)\u001b[0m Decoding 15023 OWL Classes and Axioms\n",
      "\u001b[2m\u001b[36m(pid=1636402)\u001b[0m Filtering Triples\n",
      "\u001b[2m\u001b[36m(pid=1636607)\u001b[0m Decoding 15023 OWL Classes and Axioms\n",
      "\u001b[2m\u001b[36m(pid=1636485)\u001b[0m Filtering Triples\n",
      "\u001b[2m\u001b[36m(pid=1636458)\u001b[0m Filtering Triples\n",
      "\u001b[2m\u001b[36m(pid=1636522)\u001b[0m Filtering Triples\n",
      "\u001b[2m\u001b[36m(pid=1636550)\u001b[0m Filtering Triples\n",
      "\u001b[2m\u001b[36m(pid=1636576)\u001b[0m Filtering Triples\n",
      "\u001b[2m\u001b[36m(pid=1636656)\u001b[0m Filtering Triples\n",
      "\u001b[2m\u001b[36m(pid=1636607)\u001b[0m Filtering Triples\n",
      "\u001b[2m\u001b[36m(pid=1636683)\u001b[0m Decoding 15023 OWL Classes and Axioms\n",
      "\u001b[2m\u001b[36m(pid=1636726)\u001b[0m Decoding 15023 OWL Classes and Axioms\n",
      "\u001b[2m\u001b[36m(pid=1636752)\u001b[0m Decoding 15023 OWL Classes and Axioms\n",
      "\u001b[2m\u001b[36m(pid=1636776)\u001b[0m Decoding 15023 OWL Classes and Axioms\n",
      "\u001b[2m\u001b[36m(pid=1636683)\u001b[0m Filtering Triples\n",
      "\u001b[2m\u001b[36m(pid=1636726)\u001b[0m Filtering Triples\n",
      "\u001b[2m\u001b[36m(pid=1636752)\u001b[0m Filtering Triples\n"
     ]
    },
    {
     "name": "stderr",
     "output_type": "stream",
     "text": [
      " 35%|███▌      | 6/17 [56:49<1:16:42, 418.44s/it]"
     ]
    },
    {
     "name": "stdout",
     "output_type": "stream",
     "text": [
      "Removing owl:disjointWith Axioms\n",
      "Filtering Triples\n"
     ]
    },
    {
     "name": "stderr",
     "output_type": "stream",
     "text": []
    },
    {
     "name": "stdout",
     "output_type": "stream",
     "text": [
      "\u001b[2m\u001b[36m(pid=1636776)\u001b[0m Filtering Triples\n"
     ]
    },
    {
     "name": "stderr",
     "output_type": "stream",
     "text": [
      "100%|██████████| 898089/898089 [02:39<00:00, 5621.45it/s]\n"
     ]
    },
    {
     "name": "stdout",
     "output_type": "stream",
     "text": [
      "\u001b[2m\u001b[36m(pid=1637273)\u001b[0m Decoding 12125 OWL Classes and Axioms\n",
      "\u001b[2m\u001b[36m(pid=1637300)\u001b[0m Decoding 12125 OWL Classes and Axioms\n",
      "\u001b[2m\u001b[36m(pid=1637327)\u001b[0m Decoding 12125 OWL Classes and Axioms\n",
      "\u001b[2m\u001b[36m(pid=1637368)\u001b[0m Decoding 12125 OWL Classes and Axioms\n",
      "\u001b[2m\u001b[36m(pid=1637398)\u001b[0m Decoding 12124 OWL Classes and Axioms\n",
      "\u001b[2m\u001b[36m(pid=1637425)\u001b[0m Decoding 12124 OWL Classes and Axioms\n",
      "\u001b[2m\u001b[36m(pid=1637273)\u001b[0m Filtering Triples\n",
      "\u001b[2m\u001b[36m(pid=1637467)\u001b[0m Decoding 12124 OWL Classes and Axioms\n",
      "\u001b[2m\u001b[36m(pid=1637327)\u001b[0m Filtering Triples\n",
      "\u001b[2m\u001b[36m(pid=1637492)\u001b[0m Decoding 12124 OWL Classes and Axioms\n",
      "\u001b[2m\u001b[36m(pid=1637300)\u001b[0m Filtering Triples\n",
      "\u001b[2m\u001b[36m(pid=1637519)\u001b[0m Decoding 12124 OWL Classes and Axioms\n",
      "\u001b[2m\u001b[36m(pid=1637368)\u001b[0m Filtering Triples\n",
      "\u001b[2m\u001b[36m(pid=1637398)\u001b[0m Filtering Triples\n",
      "\u001b[2m\u001b[36m(pid=1637545)\u001b[0m Decoding 12124 OWL Classes and Axioms\n",
      "\u001b[2m\u001b[36m(pid=1637571)\u001b[0m Decoding 12124 OWL Classes and Axioms\n",
      "\u001b[2m\u001b[36m(pid=1637467)\u001b[0m Filtering Triples\n",
      "\u001b[2m\u001b[36m(pid=1637597)\u001b[0m Decoding 12124 OWL Classes and Axioms\n",
      "\u001b[2m\u001b[36m(pid=1637425)\u001b[0m Filtering Triples\n",
      "\u001b[2m\u001b[36m(pid=1637625)\u001b[0m Decoding 12124 OWL Classes and Axioms\n",
      "\u001b[2m\u001b[36m(pid=1637492)\u001b[0m Filtering Triples\n",
      "\u001b[2m\u001b[36m(pid=1637519)\u001b[0m Filtering Triples\n",
      "\u001b[2m\u001b[36m(pid=1637545)\u001b[0m Filtering Triples\n",
      "\u001b[2m\u001b[36m(pid=1637571)\u001b[0m Filtering Triples\n",
      "\u001b[2m\u001b[36m(pid=1637668)\u001b[0m Decoding 12124 OWL Classes and Axioms\n",
      "\u001b[2m\u001b[36m(pid=1637597)\u001b[0m Filtering Triples\n",
      "\u001b[2m\u001b[36m(pid=1637625)\u001b[0m Filtering Triples\n",
      "\u001b[2m\u001b[36m(pid=1637668)\u001b[0m Filtering Triples\n",
      "\u001b[2m\u001b[36m(pid=1637700)\u001b[0m Decoding 12124 OWL Classes and Axioms\n",
      "\u001b[2m\u001b[36m(pid=1637700)\u001b[0m Filtering Triples\n",
      "\u001b[2m\u001b[36m(pid=1637727)\u001b[0m Decoding 12124 OWL Classes and Axioms\n"
     ]
    },
    {
     "name": "stderr",
     "output_type": "stream",
     "text": [
      " 41%|████      | 7/17 [1:01:25<1:01:58, 371.83s/it]"
     ]
    },
    {
     "name": "stdout",
     "output_type": "stream",
     "text": [
      "Removing owl:disjointWith Axioms\n",
      "Filtering Triples\n"
     ]
    },
    {
     "name": "stderr",
     "output_type": "stream",
     "text": []
    },
    {
     "name": "stdout",
     "output_type": "stream",
     "text": [
      "\u001b[2m\u001b[36m(pid=1637727)\u001b[0m Filtering Triples\n"
     ]
    },
    {
     "name": "stderr",
     "output_type": "stream",
     "text": [
      "100%|██████████| 299281/299281 [01:15<00:00, 3940.03it/s]\n"
     ]
    },
    {
     "name": "stdout",
     "output_type": "stream",
     "text": [
      "\u001b[2m\u001b[36m(pid=1637939)\u001b[0m Decoding 202 OWL Classes and Axioms\n",
      "\u001b[2m\u001b[36m(pid=1637966)\u001b[0m Decoding 202 OWL Classes and Axioms\n",
      "\u001b[2m\u001b[36m(pid=1637966)\u001b[0m Filtering Triples\n",
      "\u001b[2m\u001b[36m(pid=1637991)\u001b[0m Decoding 202 OWL Classes and Axioms\n",
      "\u001b[2m\u001b[36m(pid=1637991)\u001b[0m Filtering Triples\n",
      "\u001b[2m\u001b[36m(pid=1638016)\u001b[0m Decoding 202 OWL Classes and Axioms\n",
      "\u001b[2m\u001b[36m(pid=1638044)\u001b[0m Decoding 202 OWL Classes and Axioms\n",
      "\u001b[2m\u001b[36m(pid=1638069)\u001b[0m Decoding 202 OWL Classes and Axioms\n",
      "\u001b[2m\u001b[36m(pid=1638069)\u001b[0m Filtering Triples\n",
      "\u001b[2m\u001b[36m(pid=1638094)\u001b[0m Decoding 201 OWL Classes and Axioms\n",
      "\u001b[2m\u001b[36m(pid=1638120)\u001b[0m Decoding 201 OWL Classes and Axioms\n",
      "\u001b[2m\u001b[36m(pid=1638120)\u001b[0m Filtering Triples\n",
      "\u001b[2m\u001b[36m(pid=1638145)\u001b[0m Decoding 201 OWL Classes and Axioms\n",
      "\u001b[2m\u001b[36m(pid=1638170)\u001b[0m Decoding 201 OWL Classes and Axioms\n",
      "\u001b[2m\u001b[36m(pid=1638204)\u001b[0m Decoding 201 OWL Classes and Axioms\n",
      "\u001b[2m\u001b[36m(pid=1637939)\u001b[0m Filtering Triples\n",
      "\u001b[2m\u001b[36m(pid=1638016)\u001b[0m Filtering Triples\n",
      "\u001b[2m\u001b[36m(pid=1638044)\u001b[0m Filtering Triples\n",
      "\u001b[2m\u001b[36m(pid=1638094)\u001b[0m Filtering Triples\n",
      "\u001b[2m\u001b[36m(pid=1638145)\u001b[0m Filtering Triples\n",
      "\u001b[2m\u001b[36m(pid=1638170)\u001b[0m Filtering Triples\n",
      "\u001b[2m\u001b[36m(pid=1638204)\u001b[0m Filtering Triples\n",
      "\u001b[2m\u001b[36m(pid=1638230)\u001b[0m Decoding 201 OWL Classes and Axioms\n",
      "\u001b[2m\u001b[36m(pid=1638230)\u001b[0m Filtering Triples\n",
      "\u001b[2m\u001b[36m(pid=1638255)\u001b[0m Decoding 201 OWL Classes and Axioms\n",
      "\u001b[2m\u001b[36m(pid=1638255)\u001b[0m Filtering Triples\n",
      "\u001b[2m\u001b[36m(pid=1638282)\u001b[0m Decoding 201 OWL Classes and Axioms\n",
      "\u001b[2m\u001b[36m(pid=1638282)\u001b[0m Filtering Triples\n",
      "\u001b[2m\u001b[36m(pid=1638307)\u001b[0m Decoding 201 OWL Classes and Axioms\n",
      "\u001b[2m\u001b[36m(pid=1638307)\u001b[0m Filtering Triples\n"
     ]
    },
    {
     "name": "stderr",
     "output_type": "stream",
     "text": [
      " 47%|████▋     | 8/17 [1:03:12<43:08, 287.56s/it]  "
     ]
    },
    {
     "name": "stdout",
     "output_type": "stream",
     "text": [
      "\u001b[2m\u001b[36m(pid=1638332)\u001b[0m Decoding 201 OWL Classes and Axioms\n",
      "Removing owl:disjointWith Axioms\n",
      "Filtering Triples\n"
     ]
    },
    {
     "name": "stderr",
     "output_type": "stream",
     "text": []
    },
    {
     "name": "stdout",
     "output_type": "stream",
     "text": [
      "\u001b[2m\u001b[36m(pid=1638332)\u001b[0m Filtering Triples\n"
     ]
    },
    {
     "name": "stderr",
     "output_type": "stream",
     "text": [
      "100%|██████████| 294142/294142 [01:13<00:00, 3992.17it/s]\n"
     ]
    },
    {
     "name": "stdout",
     "output_type": "stream",
     "text": [
      "\u001b[2m\u001b[36m(pid=1638686)\u001b[0m Decoding 934 OWL Classes and Axioms\n",
      "\u001b[2m\u001b[36m(pid=1638704)\u001b[0m Decoding 934 OWL Classes and Axioms\n",
      "\u001b[2m\u001b[36m(pid=1638729)\u001b[0m Decoding 934 OWL Classes and Axioms\n",
      "\u001b[2m\u001b[36m(pid=1638755)\u001b[0m Decoding 934 OWL Classes and Axioms\n",
      "\u001b[2m\u001b[36m(pid=1638780)\u001b[0m Decoding 934 OWL Classes and Axioms\n",
      "\u001b[2m\u001b[36m(pid=1638805)\u001b[0m Decoding 934 OWL Classes and Axioms\n",
      "\u001b[2m\u001b[36m(pid=1638838)\u001b[0m Decoding 934 OWL Classes and Axioms\n",
      "\u001b[2m\u001b[36m(pid=1638855)\u001b[0m Decoding 934 OWL Classes and Axioms\n",
      "\u001b[2m\u001b[36m(pid=1638686)\u001b[0m Filtering Triples\n",
      "\u001b[2m\u001b[36m(pid=1638704)\u001b[0m Filtering Triples\n",
      "\u001b[2m\u001b[36m(pid=1638729)\u001b[0m Filtering Triples\n",
      "\u001b[2m\u001b[36m(pid=1638755)\u001b[0m Filtering Triples\n",
      "\u001b[2m\u001b[36m(pid=1638780)\u001b[0m Filtering Triples\n",
      "\u001b[2m\u001b[36m(pid=1638881)\u001b[0m Decoding 934 OWL Classes and Axioms\n",
      "\u001b[2m\u001b[36m(pid=1638906)\u001b[0m Decoding 934 OWL Classes and Axioms\n",
      "\u001b[2m\u001b[36m(pid=1638933)\u001b[0m Decoding 934 OWL Classes and Axioms\n",
      "\u001b[2m\u001b[36m(pid=1638805)\u001b[0m Filtering Triples\n",
      "\u001b[2m\u001b[36m(pid=1638838)\u001b[0m Filtering Triples\n",
      "\u001b[2m\u001b[36m(pid=1638855)\u001b[0m Filtering Triples\n",
      "\u001b[2m\u001b[36m(pid=1638881)\u001b[0m Filtering Triples\n",
      "\u001b[2m\u001b[36m(pid=1638933)\u001b[0m Filtering Triples\n",
      "\u001b[2m\u001b[36m(pid=1638906)\u001b[0m Filtering Triples\n",
      "\u001b[2m\u001b[36m(pid=1638957)\u001b[0m Decoding 933 OWL Classes and Axioms\n",
      "\u001b[2m\u001b[36m(pid=1638957)\u001b[0m Filtering Triples\n",
      "\u001b[2m\u001b[36m(pid=1638982)\u001b[0m Decoding 933 OWL Classes and Axioms\n",
      "\u001b[2m\u001b[36m(pid=1638982)\u001b[0m Filtering Triples\n",
      "\u001b[2m\u001b[36m(pid=1639007)\u001b[0m Decoding 933 OWL Classes and Axioms\n",
      "\u001b[2m\u001b[36m(pid=1639007)\u001b[0m Filtering Triples\n",
      "\u001b[2m\u001b[36m(pid=1639033)\u001b[0m Decoding 933 OWL Classes and Axioms\n",
      "\u001b[2m\u001b[36m(pid=1639033)\u001b[0m Filtering Triples\n"
     ]
    },
    {
     "name": "stderr",
     "output_type": "stream",
     "text": [
      " 53%|█████▎    | 9/17 [1:04:54<30:37, 229.65s/it]"
     ]
    },
    {
     "name": "stdout",
     "output_type": "stream",
     "text": [
      "\u001b[2m\u001b[36m(pid=1639058)\u001b[0m Decoding 933 OWL Classes and Axioms\n",
      "Removing owl:disjointWith Axioms\n",
      "Filtering Triples\n"
     ]
    },
    {
     "name": "stderr",
     "output_type": "stream",
     "text": []
    },
    {
     "name": "stdout",
     "output_type": "stream",
     "text": [
      "\u001b[2m\u001b[36m(pid=1639058)\u001b[0m Filtering Triples\n"
     ]
    },
    {
     "name": "stderr",
     "output_type": "stream",
     "text": [
      "100%|██████████| 165326/165326 [00:47<00:00, 3472.98it/s]\n",
      "2023-09-11 11:15:53,988\tWARNING import_thread.py:133 -- The actor 'OwlNets' has been exported 100 times. It's possible that this warning is accidental, but this may indicate that the same remote function is being defined repeatedly from within many tasks and exported to all of the workers. This can be a performance issue and can be resolved by defining the remote function on the driver instead. See https://github.com/ray-project/ray/issues/6240 for more discussion.\n"
     ]
    },
    {
     "name": "stdout",
     "output_type": "stream",
     "text": [
      "\u001b[2m\u001b[36m(pid=1639281)\u001b[0m Decoding 746 OWL Classes and Axioms\n",
      "\u001b[2m\u001b[36m(pid=1639285)\u001b[0m Decoding 746 OWL Classes and Axioms\n",
      "\u001b[2m\u001b[36m(pid=1639310)\u001b[0m Decoding 746 OWL Classes and Axioms\n",
      "\u001b[2m\u001b[36m(pid=1639281)\u001b[0m Filtering Triples\n",
      "\u001b[2m\u001b[36m(pid=1639310)\u001b[0m Filtering Triples\n",
      "\u001b[2m\u001b[36m(pid=1639338)\u001b[0m Decoding 746 OWL Classes and Axioms\n",
      "\u001b[2m\u001b[36m(pid=1639363)\u001b[0m Decoding 746 OWL Classes and Axioms\n",
      "\u001b[2m\u001b[36m(pid=1639388)\u001b[0m Decoding 746 OWL Classes and Axioms\n",
      "\u001b[2m\u001b[36m(pid=1639388)\u001b[0m Filtering Triples\n",
      "\u001b[2m\u001b[36m(pid=1639413)\u001b[0m Decoding 746 OWL Classes and Axioms\n",
      "\u001b[2m\u001b[36m(pid=1639439)\u001b[0m Decoding 746 OWL Classes and Axioms\n",
      "\u001b[2m\u001b[36m(pid=1639464)\u001b[0m Decoding 746 OWL Classes and Axioms\n",
      "\u001b[2m\u001b[36m(pid=1639489)\u001b[0m Decoding 746 OWL Classes and Axioms\n",
      "\u001b[2m\u001b[36m(pid=1639285)\u001b[0m Filtering Triples\n",
      "\u001b[2m\u001b[36m(pid=1639338)\u001b[0m Filtering Triples\n",
      "\u001b[2m\u001b[36m(pid=1639363)\u001b[0m Filtering Triples\n",
      "\u001b[2m\u001b[36m(pid=1639413)\u001b[0m Filtering Triples\n",
      "\u001b[2m\u001b[36m(pid=1639439)\u001b[0m Filtering Triples\n",
      "\u001b[2m\u001b[36m(pid=1639464)\u001b[0m Filtering Triples\n",
      "\u001b[2m\u001b[36m(pid=1639489)\u001b[0m Filtering Triples\n",
      "\u001b[2m\u001b[36m(pid=1639514)\u001b[0m Decoding 746 OWL Classes and Axioms\n",
      "\u001b[2m\u001b[36m(pid=1639514)\u001b[0m Filtering Triples\n",
      "\u001b[2m\u001b[36m(pid=1639539)\u001b[0m Decoding 746 OWL Classes and Axioms\n",
      "\u001b[2m\u001b[36m(pid=1639539)\u001b[0m Filtering Triples\n",
      "\u001b[2m\u001b[36m(pid=1639564)\u001b[0m Decoding 746 OWL Classes and Axioms\n",
      "\u001b[2m\u001b[36m(pid=1639564)\u001b[0m Filtering Triples\n",
      "\u001b[2m\u001b[36m(pid=1639590)\u001b[0m Decoding 746 OWL Classes and Axioms\n",
      "\u001b[2m\u001b[36m(pid=1639590)\u001b[0m Filtering Triples\n",
      "\u001b[2m\u001b[36m(pid=1639612)\u001b[0m Decoding 746 OWL Classes and Axioms\n",
      "\u001b[2m\u001b[36m(pid=1639612)\u001b[0m Filtering Triples\n"
     ]
    },
    {
     "name": "stderr",
     "output_type": "stream",
     "text": [
      " 59%|█████▉    | 10/17 [1:06:59<23:01, 197.41s/it]"
     ]
    },
    {
     "name": "stdout",
     "output_type": "stream",
     "text": [
      "\u001b[2m\u001b[36m(pid=1639637)\u001b[0m Decoding 746 OWL Classes and Axioms\n",
      "Removing owl:disjointWith Axioms\n",
      "Filtering Triples\n"
     ]
    },
    {
     "name": "stderr",
     "output_type": "stream",
     "text": []
    },
    {
     "name": "stdout",
     "output_type": "stream",
     "text": [
      "\u001b[2m\u001b[36m(pid=1639637)\u001b[0m Filtering Triples\n"
     ]
    },
    {
     "name": "stderr",
     "output_type": "stream",
     "text": [
      "100%|██████████| 263918/263918 [01:05<00:00, 4042.59it/s]\n"
     ]
    },
    {
     "name": "stdout",
     "output_type": "stream",
     "text": [
      "\u001b[2m\u001b[36m(pid=1639820)\u001b[0m Decoding 803 OWL Classes and Axioms\n",
      "\u001b[2m\u001b[36m(pid=1639824)\u001b[0m Decoding 803 OWL Classes and Axioms\n",
      "\u001b[2m\u001b[36m(pid=1639860)\u001b[0m Decoding 802 OWL Classes and Axioms\n",
      "\u001b[2m\u001b[36m(pid=1639885)\u001b[0m Decoding 802 OWL Classes and Axioms\n",
      "\u001b[2m\u001b[36m(pid=1639910)\u001b[0m Decoding 802 OWL Classes and Axioms\n",
      "\u001b[2m\u001b[36m(pid=1639935)\u001b[0m Decoding 802 OWL Classes and Axioms\n",
      "\u001b[2m\u001b[36m(pid=1639964)\u001b[0m Decoding 802 OWL Classes and Axioms\n",
      "\u001b[2m\u001b[36m(pid=1639996)\u001b[0m Decoding 802 OWL Classes and Axioms\n",
      "\u001b[2m\u001b[36m(pid=1640021)\u001b[0m Decoding 802 OWL Classes and Axioms\n",
      "\u001b[2m\u001b[36m(pid=1640046)\u001b[0m Decoding 802 OWL Classes and Axioms\n",
      "\u001b[2m\u001b[36m(pid=1639820)\u001b[0m Filtering Triples\n",
      "\u001b[2m\u001b[36m(pid=1639824)\u001b[0m Filtering Triples\n",
      "\u001b[2m\u001b[36m(pid=1639860)\u001b[0m Filtering Triples\n",
      "\u001b[2m\u001b[36m(pid=1639885)\u001b[0m Filtering Triples\n",
      "\u001b[2m\u001b[36m(pid=1639910)\u001b[0m Filtering Triples\n",
      "\u001b[2m\u001b[36m(pid=1639964)\u001b[0m Filtering Triples\n",
      "\u001b[2m\u001b[36m(pid=1639996)\u001b[0m Filtering Triples\n",
      "\u001b[2m\u001b[36m(pid=1640046)\u001b[0m Filtering Triples\n",
      "\u001b[2m\u001b[36m(pid=1639935)\u001b[0m Filtering Triples\n",
      "\u001b[2m\u001b[36m(pid=1640021)\u001b[0m Filtering Triples\n",
      "\u001b[2m\u001b[36m(pid=1640072)\u001b[0m Decoding 802 OWL Classes and Axioms\n",
      "\u001b[2m\u001b[36m(pid=1640072)\u001b[0m Filtering Triples\n",
      "\u001b[2m\u001b[36m(pid=1640097)\u001b[0m Decoding 802 OWL Classes and Axioms\n",
      "\u001b[2m\u001b[36m(pid=1640097)\u001b[0m Filtering Triples\n",
      "\u001b[2m\u001b[36m(pid=1640119)\u001b[0m Decoding 802 OWL Classes and Axioms\n",
      "\u001b[2m\u001b[36m(pid=1640119)\u001b[0m Filtering Triples\n",
      "\u001b[2m\u001b[36m(pid=1640144)\u001b[0m Decoding 802 OWL Classes and Axioms\n",
      "\u001b[2m\u001b[36m(pid=1640144)\u001b[0m Filtering Triples\n",
      "\u001b[2m\u001b[36m(pid=1640170)\u001b[0m Decoding 802 OWL Classes and Axioms\n",
      "\u001b[2m\u001b[36m(pid=1640170)\u001b[0m Filtering Triples\n"
     ]
    },
    {
     "name": "stderr",
     "output_type": "stream",
     "text": [
      " 65%|██████▍   | 11/17 [1:08:29<16:26, 164.39s/it]"
     ]
    },
    {
     "name": "stdout",
     "output_type": "stream",
     "text": [
      "\u001b[2m\u001b[36m(pid=1640195)\u001b[0m Decoding 802 OWL Classes and Axioms\n",
      "Removing owl:disjointWith Axioms\n",
      "Filtering Triples\n"
     ]
    },
    {
     "name": "stderr",
     "output_type": "stream",
     "text": []
    },
    {
     "name": "stdout",
     "output_type": "stream",
     "text": [
      "\u001b[2m\u001b[36m(pid=1640195)\u001b[0m Filtering Triples\n"
     ]
    },
    {
     "name": "stderr",
     "output_type": "stream",
     "text": [
      "100%|██████████| 365672/365672 [01:42<00:00, 3568.24it/s]\n"
     ]
    },
    {
     "name": "stdout",
     "output_type": "stream",
     "text": [
      "\u001b[2m\u001b[36m(pid=1640402)\u001b[0m Decoding 2189 OWL Classes and Axioms\n",
      "\u001b[2m\u001b[36m(pid=1640427)\u001b[0m Decoding 2189 OWL Classes and Axioms\n",
      "\u001b[2m\u001b[36m(pid=1640459)\u001b[0m Decoding 2189 OWL Classes and Axioms\n",
      "\u001b[2m\u001b[36m(pid=1640488)\u001b[0m Decoding 2189 OWL Classes and Axioms\n",
      "\u001b[2m\u001b[36m(pid=1640514)\u001b[0m Decoding 2189 OWL Classes and Axioms\n",
      "\u001b[2m\u001b[36m(pid=1640402)\u001b[0m Filtering Triples\n",
      "\u001b[2m\u001b[36m(pid=1640427)\u001b[0m Filtering Triples\n",
      "\u001b[2m\u001b[36m(pid=1640539)\u001b[0m Decoding 2189 OWL Classes and Axioms\n",
      "\u001b[2m\u001b[36m(pid=1640573)\u001b[0m Decoding 2189 OWL Classes and Axioms\n",
      "\u001b[2m\u001b[36m(pid=1640598)\u001b[0m Decoding 2189 OWL Classes and Axioms\n",
      "\u001b[2m\u001b[36m(pid=1640459)\u001b[0m Filtering Triples\n",
      "\u001b[2m\u001b[36m(pid=1640488)\u001b[0m Filtering Triples\n",
      "\u001b[2m\u001b[36m(pid=1640623)\u001b[0m Decoding 2188 OWL Classes and Axioms\n",
      "\u001b[2m\u001b[36m(pid=1640649)\u001b[0m Decoding 2188 OWL Classes and Axioms\n",
      "\u001b[2m\u001b[36m(pid=1640675)\u001b[0m Decoding 2188 OWL Classes and Axioms\n",
      "\u001b[2m\u001b[36m(pid=1640700)\u001b[0m Decoding 2188 OWL Classes and Axioms\n",
      "\u001b[2m\u001b[36m(pid=1640514)\u001b[0m Filtering Triples\n",
      "\u001b[2m\u001b[36m(pid=1640539)\u001b[0m Filtering Triples\n",
      "\u001b[2m\u001b[36m(pid=1640573)\u001b[0m Filtering Triples\n",
      "\u001b[2m\u001b[36m(pid=1640598)\u001b[0m Filtering Triples\n",
      "\u001b[2m\u001b[36m(pid=1640623)\u001b[0m Filtering Triples\n",
      "\u001b[2m\u001b[36m(pid=1640649)\u001b[0m Filtering Triples\n",
      "\u001b[2m\u001b[36m(pid=1640675)\u001b[0m Filtering Triples\n",
      "\u001b[2m\u001b[36m(pid=1640700)\u001b[0m Filtering Triples\n",
      "\u001b[2m\u001b[36m(pid=1640725)\u001b[0m Decoding 2188 OWL Classes and Axioms\n",
      "\u001b[2m\u001b[36m(pid=1640725)\u001b[0m Filtering Triples\n",
      "\u001b[2m\u001b[36m(pid=1640751)\u001b[0m Decoding 2188 OWL Classes and Axioms\n",
      "\u001b[2m\u001b[36m(pid=1640751)\u001b[0m Filtering Triples\n",
      "\u001b[2m\u001b[36m(pid=1640776)\u001b[0m Decoding 2188 OWL Classes and Axioms\n",
      "\u001b[2m\u001b[36m(pid=1640776)\u001b[0m Filtering Triples\n"
     ]
    },
    {
     "name": "stderr",
     "output_type": "stream",
     "text": [
      " 71%|███████   | 12/17 [1:10:53<13:10, 158.17s/it]"
     ]
    },
    {
     "name": "stdout",
     "output_type": "stream",
     "text": [
      "\u001b[2m\u001b[36m(pid=1640801)\u001b[0m Decoding 2188 OWL Classes and Axioms\n",
      "Removing owl:disjointWith Axioms\n",
      "Filtering Triples\n"
     ]
    },
    {
     "name": "stderr",
     "output_type": "stream",
     "text": []
    },
    {
     "name": "stdout",
     "output_type": "stream",
     "text": [
      "\u001b[2m\u001b[36m(pid=1640801)\u001b[0m Filtering Triples\n"
     ]
    },
    {
     "name": "stderr",
     "output_type": "stream",
     "text": [
      "100%|██████████| 262432/262432 [00:59<00:00, 4387.49it/s]\n"
     ]
    },
    {
     "name": "stdout",
     "output_type": "stream",
     "text": [
      "\u001b[2m\u001b[36m(pid=1640986)\u001b[0m Decoding 1547 OWL Classes and Axioms\n",
      "\u001b[2m\u001b[36m(pid=1641013)\u001b[0m Decoding 1547 OWL Classes and Axioms\n",
      "\u001b[2m\u001b[36m(pid=1641047)\u001b[0m Decoding 1547 OWL Classes and Axioms\n",
      "\u001b[2m\u001b[36m(pid=1641072)\u001b[0m Decoding 1547 OWL Classes and Axioms\n",
      "\u001b[2m\u001b[36m(pid=1641097)\u001b[0m Decoding 1547 OWL Classes and Axioms\n",
      "\u001b[2m\u001b[36m(pid=1641122)\u001b[0m Decoding 1547 OWL Classes and Axioms\n",
      "\u001b[2m\u001b[36m(pid=1641149)\u001b[0m Decoding 1547 OWL Classes and Axioms\n",
      "\u001b[2m\u001b[36m(pid=1641174)\u001b[0m Decoding 1547 OWL Classes and Axioms\n",
      "\u001b[2m\u001b[36m(pid=1641047)\u001b[0m Filtering Triples\n",
      "\u001b[2m\u001b[36m(pid=1641199)\u001b[0m Decoding 1547 OWL Classes and Axioms\n",
      "\u001b[2m\u001b[36m(pid=1640986)\u001b[0m Filtering Triples\n",
      "\u001b[2m\u001b[36m(pid=1641224)\u001b[0m Decoding 1547 OWL Classes and Axioms\n",
      "\u001b[2m\u001b[36m(pid=1641013)\u001b[0m Filtering Triples\n",
      "\u001b[2m\u001b[36m(pid=1641072)\u001b[0m Filtering Triples\n",
      "\u001b[2m\u001b[36m(pid=1641097)\u001b[0m Filtering Triples\n",
      "\u001b[2m\u001b[36m(pid=1641122)\u001b[0m Filtering Triples\n",
      "\u001b[2m\u001b[36m(pid=1641149)\u001b[0m Filtering Triples\n",
      "\u001b[2m\u001b[36m(pid=1641249)\u001b[0m Decoding 1546 OWL Classes and Axioms\n",
      "\u001b[2m\u001b[36m(pid=1641276)\u001b[0m Decoding 1546 OWL Classes and Axioms\n",
      "\u001b[2m\u001b[36m(pid=1641174)\u001b[0m Filtering Triples\n",
      "\u001b[2m\u001b[36m(pid=1641224)\u001b[0m Filtering Triples\n",
      "\u001b[2m\u001b[36m(pid=1641249)\u001b[0m Filtering Triples\n",
      "\u001b[2m\u001b[36m(pid=1641276)\u001b[0m Filtering Triples\n",
      "\u001b[2m\u001b[36m(pid=1641199)\u001b[0m Filtering Triples\n",
      "\u001b[2m\u001b[36m(pid=1641301)\u001b[0m Decoding 1546 OWL Classes and Axioms\n",
      "\u001b[2m\u001b[36m(pid=1641301)\u001b[0m Filtering Triples\n",
      "\u001b[2m\u001b[36m(pid=1641327)\u001b[0m Decoding 1546 OWL Classes and Axioms\n",
      "\u001b[2m\u001b[36m(pid=1641327)\u001b[0m Filtering Triples\n",
      "\u001b[2m\u001b[36m(pid=1641360)\u001b[0m Decoding 1546 OWL Classes and Axioms\n",
      "\u001b[2m\u001b[36m(pid=1641360)\u001b[0m Filtering Triples\n"
     ]
    },
    {
     "name": "stderr",
     "output_type": "stream",
     "text": [
      " 76%|███████▋  | 13/17 [1:12:25<09:13, 138.30s/it]"
     ]
    },
    {
     "name": "stdout",
     "output_type": "stream",
     "text": [
      "\u001b[2m\u001b[36m(pid=1641392)\u001b[0m Decoding 1546 OWL Classes and Axioms\n",
      "Removing owl:disjointWith Axioms\n",
      "Filtering Triples\n"
     ]
    },
    {
     "name": "stderr",
     "output_type": "stream",
     "text": [
      "\n",
      "  0%|          | 622/307598 [00:00<02:16, 2248.26it/s]"
     ]
    },
    {
     "name": "stdout",
     "output_type": "stream",
     "text": [
      "\u001b[2m\u001b[36m(pid=1641392)\u001b[0m Filtering Triples\n"
     ]
    },
    {
     "name": "stderr",
     "output_type": "stream",
     "text": [
      "100%|██████████| 307598/307598 [01:56<00:00, 2645.65it/s]\n"
     ]
    },
    {
     "name": "stdout",
     "output_type": "stream",
     "text": [
      "\u001b[2m\u001b[36m(pid=1641856)\u001b[0m Decoding 629 OWL Classes and Axioms\n",
      "\u001b[2m\u001b[36m(pid=1641870)\u001b[0m Decoding 629 OWL Classes and Axioms\n",
      "\u001b[2m\u001b[36m(pid=1641904)\u001b[0m Decoding 629 OWL Classes and Axioms\n",
      "\u001b[2m\u001b[36m(pid=1641929)\u001b[0m Decoding 629 OWL Classes and Axioms\n",
      "\u001b[2m\u001b[36m(pid=1641955)\u001b[0m Decoding 628 OWL Classes and Axioms\n",
      "\u001b[2m\u001b[36m(pid=1641980)\u001b[0m Decoding 628 OWL Classes and Axioms\n",
      "\u001b[2m\u001b[36m(pid=1642006)\u001b[0m Decoding 628 OWL Classes and Axioms\n",
      "\u001b[2m\u001b[36m(pid=1642031)\u001b[0m Decoding 628 OWL Classes and Axioms\n",
      "\u001b[2m\u001b[36m(pid=1642048)\u001b[0m Decoding 628 OWL Classes and Axioms\n",
      "\u001b[2m\u001b[36m(pid=1642078)\u001b[0m Decoding 628 OWL Classes and Axioms\n",
      "\u001b[2m\u001b[36m(pid=1642111)\u001b[0m Decoding 628 OWL Classes and Axioms\n",
      "\u001b[2m\u001b[36m(pid=1641856)\u001b[0m Filtering Triples\n",
      "\u001b[2m\u001b[36m(pid=1641904)\u001b[0m Filtering Triples\n",
      "\u001b[2m\u001b[36m(pid=1641929)\u001b[0m Filtering Triples\n",
      "\u001b[2m\u001b[36m(pid=1641870)\u001b[0m Filtering Triples\n",
      "\u001b[2m\u001b[36m(pid=1642031)\u001b[0m Filtering Triples\n",
      "\u001b[2m\u001b[36m(pid=1642048)\u001b[0m Filtering Triples\n",
      "\u001b[2m\u001b[36m(pid=1642078)\u001b[0m Filtering Triples\n",
      "\u001b[2m\u001b[36m(pid=1642111)\u001b[0m Filtering Triples\n",
      "\u001b[2m\u001b[36m(pid=1641955)\u001b[0m Filtering Triples\n",
      "\u001b[2m\u001b[36m(pid=1641980)\u001b[0m Filtering Triples\n",
      "\u001b[2m\u001b[36m(pid=1642006)\u001b[0m Filtering Triples\n",
      "\u001b[2m\u001b[36m(pid=1642129)\u001b[0m Decoding 628 OWL Classes and Axioms\n",
      "\u001b[2m\u001b[36m(pid=1642129)\u001b[0m Filtering Triples\n",
      "\u001b[2m\u001b[36m(pid=1642154)\u001b[0m Decoding 628 OWL Classes and Axioms\n",
      "\u001b[2m\u001b[36m(pid=1642154)\u001b[0m Filtering Triples\n",
      "\u001b[2m\u001b[36m(pid=1642179)\u001b[0m Decoding 628 OWL Classes and Axioms\n",
      "\u001b[2m\u001b[36m(pid=1642179)\u001b[0m Filtering Triples\n",
      "\u001b[2m\u001b[36m(pid=1642204)\u001b[0m Decoding 628 OWL Classes and Axioms\n",
      "\u001b[2m\u001b[36m(pid=1642204)\u001b[0m Filtering Triples\n"
     ]
    },
    {
     "name": "stderr",
     "output_type": "stream",
     "text": [
      " 82%|████████▏ | 14/17 [1:14:51<07:01, 140.56s/it]"
     ]
    },
    {
     "name": "stdout",
     "output_type": "stream",
     "text": [
      "\u001b[2m\u001b[36m(pid=1642229)\u001b[0m Decoding 628 OWL Classes and Axioms\n",
      "Removing owl:disjointWith Axioms\n",
      "Filtering Triples\n"
     ]
    },
    {
     "name": "stderr",
     "output_type": "stream",
     "text": []
    },
    {
     "name": "stdout",
     "output_type": "stream",
     "text": [
      "\u001b[2m\u001b[36m(pid=1642229)\u001b[0m Filtering Triples\n"
     ]
    },
    {
     "name": "stderr",
     "output_type": "stream",
     "text": [
      "100%|██████████| 189191/189191 [00:50<00:00, 3728.27it/s]\n",
      " 88%|████████▊ | 15/17 [1:16:52<04:29, 134.73s/it]"
     ]
    },
    {
     "name": "stdout",
     "output_type": "stream",
     "text": [
      "Removing owl:disjointWith Axioms\n",
      "Filtering Triples\n"
     ]
    },
    {
     "name": "stderr",
     "output_type": "stream",
     "text": [
      "100%|██████████| 213340/213340 [00:55<00:00, 3852.36it/s]\n"
     ]
    },
    {
     "name": "stdout",
     "output_type": "stream",
     "text": [
      "\u001b[2m\u001b[36m(pid=1642581)\u001b[0m Decoding 389 OWL Classes and Axioms\n",
      "\u001b[2m\u001b[36m(pid=1642585)\u001b[0m Decoding 388 OWL Classes and Axioms\n",
      "\u001b[2m\u001b[36m(pid=1642610)\u001b[0m Decoding 388 OWL Classes and Axioms\n",
      "\u001b[2m\u001b[36m(pid=1642635)\u001b[0m Decoding 388 OWL Classes and Axioms\n",
      "\u001b[2m\u001b[36m(pid=1642660)\u001b[0m Decoding 388 OWL Classes and Axioms\n",
      "\u001b[2m\u001b[36m(pid=1642682)\u001b[0m Decoding 388 OWL Classes and Axioms\n",
      "\u001b[2m\u001b[36m(pid=1642708)\u001b[0m Decoding 388 OWL Classes and Axioms\n",
      "\u001b[2m\u001b[36m(pid=1642733)\u001b[0m Decoding 388 OWL Classes and Axioms\n",
      "\u001b[2m\u001b[36m(pid=1642758)\u001b[0m Decoding 388 OWL Classes and Axioms\n",
      "\u001b[2m\u001b[36m(pid=1642783)\u001b[0m Decoding 388 OWL Classes and Axioms\n",
      "\u001b[2m\u001b[36m(pid=1642581)\u001b[0m Filtering Triples\n",
      "\u001b[2m\u001b[36m(pid=1642585)\u001b[0m Filtering Triples\n",
      "\u001b[2m\u001b[36m(pid=1642610)\u001b[0m Filtering Triples\n",
      "\u001b[2m\u001b[36m(pid=1642635)\u001b[0m Filtering Triples\n",
      "\u001b[2m\u001b[36m(pid=1642660)\u001b[0m Filtering Triples\n",
      "\u001b[2m\u001b[36m(pid=1642682)\u001b[0m Filtering Triples\n",
      "\u001b[2m\u001b[36m(pid=1642708)\u001b[0m Filtering Triples\n",
      "\u001b[2m\u001b[36m(pid=1642733)\u001b[0m Filtering Triples\n",
      "\u001b[2m\u001b[36m(pid=1642758)\u001b[0m Filtering Triples\n",
      "\u001b[2m\u001b[36m(pid=1642783)\u001b[0m Filtering Triples\n",
      "\u001b[2m\u001b[36m(pid=1642808)\u001b[0m Decoding 388 OWL Classes and Axioms\n",
      "\u001b[2m\u001b[36m(pid=1642808)\u001b[0m Filtering Triples\n",
      "\u001b[2m\u001b[36m(pid=1642833)\u001b[0m Decoding 388 OWL Classes and Axioms\n",
      "\u001b[2m\u001b[36m(pid=1642833)\u001b[0m Filtering Triples\n",
      "\u001b[2m\u001b[36m(pid=1642859)\u001b[0m Decoding 388 OWL Classes and Axioms\n",
      "\u001b[2m\u001b[36m(pid=1642859)\u001b[0m Filtering Triples\n",
      "\u001b[2m\u001b[36m(pid=1642884)\u001b[0m Decoding 388 OWL Classes and Axioms\n",
      "\u001b[2m\u001b[36m(pid=1642884)\u001b[0m Filtering Triples\n",
      "\u001b[2m\u001b[36m(pid=1642906)\u001b[0m Decoding 388 OWL Classes and Axioms\n",
      "\u001b[2m\u001b[36m(pid=1642906)\u001b[0m Filtering Triples\n"
     ]
    },
    {
     "name": "stderr",
     "output_type": "stream",
     "text": [
      " 94%|█████████▍| 16/17 [1:18:09<01:57, 117.21s/it]"
     ]
    },
    {
     "name": "stdout",
     "output_type": "stream",
     "text": [
      "\u001b[2m\u001b[36m(pid=1642932)\u001b[0m Decoding 388 OWL Classes and Axioms\n",
      "\u001b[2m\u001b[36m(pid=1642932)\u001b[0m Filtering Triples\n",
      "Removing owl:disjointWith Axioms\n",
      "Filtering Triples\n"
     ]
    },
    {
     "name": "stderr",
     "output_type": "stream",
     "text": [
      "100%|██████████| 279772/279772 [01:25<00:00, 3254.68it/s]\n"
     ]
    },
    {
     "name": "stdout",
     "output_type": "stream",
     "text": [
      "\u001b[2m\u001b[36m(pid=1643140)\u001b[0m Decoding 1422 OWL Classes and Axioms\n",
      "\u001b[2m\u001b[36m(pid=1643165)\u001b[0m Decoding 1422 OWL Classes and Axioms\n",
      "\u001b[2m\u001b[36m(pid=1643191)\u001b[0m Decoding 1422 OWL Classes and Axioms\n",
      "\u001b[2m\u001b[36m(pid=1643216)\u001b[0m Decoding 1422 OWL Classes and Axioms\n",
      "\u001b[2m\u001b[36m(pid=1643140)\u001b[0m Filtering Triples\n",
      "\u001b[2m\u001b[36m(pid=1643165)\u001b[0m Filtering Triples\n",
      "\u001b[2m\u001b[36m(pid=1643242)\u001b[0m Decoding 1422 OWL Classes and Axioms\n",
      "\u001b[2m\u001b[36m(pid=1643267)\u001b[0m Decoding 1422 OWL Classes and Axioms\n",
      "\u001b[2m\u001b[36m(pid=1643292)\u001b[0m Decoding 1422 OWL Classes and Axioms\n",
      "\u001b[2m\u001b[36m(pid=1643318)\u001b[0m Decoding 1422 OWL Classes and Axioms\n",
      "\u001b[2m\u001b[36m(pid=1643191)\u001b[0m Filtering Triples\n",
      "\u001b[2m\u001b[36m(pid=1643216)\u001b[0m Filtering Triples\n",
      "\u001b[2m\u001b[36m(pid=1643343)\u001b[0m Decoding 1422 OWL Classes and Axioms\n",
      "\u001b[2m\u001b[36m(pid=1643242)\u001b[0m Filtering Triples\n",
      "\u001b[2m\u001b[36m(pid=1643267)\u001b[0m Filtering Triples\n",
      "\u001b[2m\u001b[36m(pid=1643318)\u001b[0m Filtering Triples\n",
      "\u001b[2m\u001b[36m(pid=1643370)\u001b[0m Decoding 1422 OWL Classes and Axioms\n",
      "\u001b[2m\u001b[36m(pid=1643399)\u001b[0m Decoding 1422 OWL Classes and Axioms\n",
      "\u001b[2m\u001b[36m(pid=1643424)\u001b[0m Decoding 1422 OWL Classes and Axioms\n",
      "\u001b[2m\u001b[36m(pid=1643343)\u001b[0m Filtering Triples\n",
      "\u001b[2m\u001b[36m(pid=1643292)\u001b[0m Filtering Triples\n",
      "\u001b[2m\u001b[36m(pid=1643370)\u001b[0m Filtering Triples\n",
      "\u001b[2m\u001b[36m(pid=1643399)\u001b[0m Filtering Triples\n",
      "\u001b[2m\u001b[36m(pid=1643424)\u001b[0m Filtering Triples\n",
      "\u001b[2m\u001b[36m(pid=1643450)\u001b[0m Decoding 1422 OWL Classes and Axioms\n",
      "\u001b[2m\u001b[36m(pid=1643450)\u001b[0m Filtering Triples\n",
      "\u001b[2m\u001b[36m(pid=1643475)\u001b[0m Decoding 1422 OWL Classes and Axioms\n",
      "\u001b[2m\u001b[36m(pid=1643475)\u001b[0m Filtering Triples\n",
      "\u001b[2m\u001b[36m(pid=1643497)\u001b[0m Decoding 1422 OWL Classes and Axioms\n",
      "\u001b[2m\u001b[36m(pid=1643497)\u001b[0m Filtering Triples\n"
     ]
    },
    {
     "name": "stderr",
     "output_type": "stream",
     "text": [
      "100%|██████████| 17/17 [1:20:08<00:00, 282.85s/it]"
     ]
    },
    {
     "name": "stdout",
     "output_type": "stream",
     "text": [
      "\u001b[2m\u001b[36m(pid=1643523)\u001b[0m Decoding 1422 OWL Classes and Axioms\n",
      "Ensuring OWL-NETS Graph Contains a Single Connected Component\n",
      "Obtaining node list\n"
     ]
    },
    {
     "name": "stderr",
     "output_type": "stream",
     "text": [
      "\n"
     ]
    },
    {
     "name": "stdout",
     "output_type": "stream",
     "text": [
      "\u001b[2m\u001b[36m(pid=1643523)\u001b[0m Filtering Triples\n"
     ]
    },
    {
     "name": "stderr",
     "output_type": "stream",
     "text": [
      "100%|██████████| 15671468/15671468 [00:11<00:00, 1356217.35it/s]\n"
     ]
    },
    {
     "name": "stdout",
     "output_type": "stream",
     "text": [
      "Identifying root nodes\n"
     ]
    },
    {
     "name": "stderr",
     "output_type": "stream",
     "text": [
      "100%|██████████| 1089612/1089612 [1:28:34<00:00, 205.02it/s] \n"
     ]
    },
    {
     "name": "stdout",
     "output_type": "stream",
     "text": [
      "Updating graph connectivity\n",
      "928 triples added to make connected\n",
      "Serializing OWL-NETS Graph\n",
      "Converting Knowledge Graph to MultiDiGraph\n"
     ]
    },
    {
     "name": "stderr",
     "output_type": "stream",
     "text": [
      "100%|██████████| 7836662/7836662 [16:05<00:00, 8118.99it/s]  \n"
     ]
    },
    {
     "name": "stdout",
     "output_type": "stream",
     "text": [
      "Pickling MultiDiGraph\n",
      "Generating Network Statistics\n",
      "OWL-NETS Graph Stats: 1089613 nodes, 7836662 edges, 13 self-loops, 5 most most common edges: http://www.w3.org/2000/01/rdf-schema#subClassOf:1564872, http://purl.obolibrary.org/obo/RO_0002436:976291, http://purl.obolibrary.org/obo/RO_0001025:681381, http://purl.obolibrary.org/obo/RO_0001015:681189, http://purl.obolibrary.org/obo/RO_0002200:433586, http://purl.obolibrary.org/obo/RO_0002201:433586, average degree 7.192151708909494, 5 highest degree nodes: http://purl.obolibrary.org/obo/SO_0001483:214261, http://purl.obolibrary.org/obo/SO_0001217:189449, http://purl.obolibrary.org/obo/SO_0000673:178283, http://purl.obolibrary.org/obo/NCBITaxon_9606:90973, http://purl.obolibrary.org/obo/PR_000000001:56145, http://purl.obolibrary.org/obo/NCBITaxon_10090:53645, density: 6.600653910666818e-06, 1 component(s): {0: 1089613}\n",
      "Purifying Graph Based on Construction Approach\n",
      "Determining what triples need purification\n",
      "Processing 1564872 http://www.w3.org/2000/01/rdf-schema#subClassOf triples\n"
     ]
    },
    {
     "name": "stderr",
     "output_type": "stream",
     "text": [
      "100%|██████████| 1564872/1564872 [37:10<00:00, 701.64it/s]  \n"
     ]
    },
    {
     "name": "stdout",
     "output_type": "stream",
     "text": [
      "Serializing Instance-Purified OWL-NETS Graph\n",
      "Converting Knowledge Graph to MultiDiGraph\n"
     ]
    },
    {
     "name": "stderr",
     "output_type": "stream",
     "text": [
      "100%|██████████| 16222847/16222847 [32:58<00:00, 8199.53it/s] \n"
     ]
    },
    {
     "name": "stdout",
     "output_type": "stream",
     "text": [
      "Pickling MultiDiGraph\n",
      "Generating Network Statistics\n",
      "Instance-Purified OWL-NETS Graph Stats: 1089613 nodes, 16222847 edges, 182 self-loops, 5 most most common edges: http://www.w3.org/1999/02/22-rdf-syntax-ns#type:9951993, http://purl.obolibrary.org/obo/RO_0002436:976291, http://purl.obolibrary.org/obo/RO_0001025:681381, http://purl.obolibrary.org/obo/RO_0001015:681189, http://purl.obolibrary.org/obo/RO_0002201:433586, http://purl.obolibrary.org/obo/RO_0002200:433586, average degree 14.88863201889111, 5 highest degree nodes: http://purl.obolibrary.org/obo/SO_0001411:235795, http://purl.obolibrary.org/obo/SO_0001483:214272, http://purl.obolibrary.org/obo/SO_0001217:189455, http://purl.obolibrary.org/obo/SO_0000673:179476, http://purl.obolibrary.org/obo/SO_0000831:175054, http://purl.obolibrary.org/obo/DIDEO_00000053:168082, density: 1.3664159369473823e-05, 1 component(s): {0: 1089613}\n",
      "\n",
      "\n",
      "OWL-NETS Graph Stats: 7836662 triples, 1089613 nodes, 337 predicates, 0 classes, 0 individuals, 0 object props, 0 annotation props;\n",
      "Purified OWL-NETS Graph Stats: 16222847 triples, 1089613 nodes, 336 predicates, 0 classes, 0 individuals, 0 object props, 0 annotation props\n",
      "===========================================================================================================================================================\n",
      "Decoded 422882 owl-encoded classes and axioms. Note the following:\n",
      "Partially processed 527 cardinality elements\n",
      "Removed 2416 owl:disjointWith axioms\n",
      "Ignored: 165626 misc classes; 346 classes constructed with owl:complementOf; 6494 classes containing negation (e.g. pr#lacks_part, cl#has_not_completed)\n",
      "Filtering removed 5894477 semantic support triples\n",
      "===========================================================================================================================================================\n",
      "\n",
      "*** Writing Knowledge Graph Edge Lists ***\n",
      "\n",
      "*** Processing OWL Graph ***\n",
      "Mapping Node and Relation Identifiers to Integers\n"
     ]
    },
    {
     "name": "stderr",
     "output_type": "stream",
     "text": [
      "100%|██████████| 27055279/27055279 [44:07<00:00, 10219.84it/s] \n"
     ]
    },
    {
     "name": "stdout",
     "output_type": "stream",
     "text": [
      "Writing Class Metadata\n"
     ]
    },
    {
     "name": "stderr",
     "output_type": "stream",
     "text": [
      "100%|██████████| 2/2 [00:27<00:00, 13.65s/it]\n",
      "100%|██████████| 27055279/27055279 [00:39<00:00, 692331.31it/s]\n",
      "100%|██████████| 9625647/9625647 [12:53<00:00, 12436.28it/s] \n"
     ]
    },
    {
     "name": "stdout",
     "output_type": "stream",
     "text": [
      "\n",
      "*** Processing OWL-NETS Graph ***\n",
      "Mapping Node and Relation Identifiers to Integers\n"
     ]
    },
    {
     "name": "stderr",
     "output_type": "stream",
     "text": [
      "100%|██████████| 7836662/7836662 [09:21<00:00, 13955.74it/s] \n"
     ]
    },
    {
     "name": "stdout",
     "output_type": "stream",
     "text": [
      "Writing Class Metadata\n"
     ]
    },
    {
     "name": "stderr",
     "output_type": "stream",
     "text": [
      "100%|██████████| 2/2 [00:27<00:00, 13.68s/it]\n",
      "100%|██████████| 7836662/7836662 [00:11<00:00, 687842.31it/s]\n",
      "100%|██████████| 1089950/1089950 [00:58<00:00, 18647.66it/s]\n"
     ]
    },
    {
     "name": "stdout",
     "output_type": "stream",
     "text": [
      "\n",
      "*** Processing Purified OWL-NETS Graph ***\n",
      "Mapping Node and Relation Identifiers to Integers\n"
     ]
    },
    {
     "name": "stderr",
     "output_type": "stream",
     "text": [
      "100%|██████████| 16222847/16222847 [19:35<00:00, 13797.54it/s]\n"
     ]
    },
    {
     "name": "stdout",
     "output_type": "stream",
     "text": [
      "Writing Class Metadata\n"
     ]
    },
    {
     "name": "stderr",
     "output_type": "stream",
     "text": [
      "100%|██████████| 2/2 [00:27<00:00, 13.57s/it]\n",
      "100%|██████████| 16222847/16222847 [01:19<00:00, 203770.84it/s]\n",
      "100%|██████████| 1089949/1089949 [00:57<00:00, 18942.81it/s]\n"
     ]
    },
    {
     "name": "stdout",
     "output_type": "stream",
     "text": [
      "Depduplicating File: ./resources/knowledge_graphs/PheKnowLator_v3.1.1_full_instance_inverseRelations_OWL_AnnotationsOnly.nt\n"
     ]
    },
    {
     "name": "stderr",
     "output_type": "stream",
     "text": [
      "100%|██████████| 18688005/18688005 [01:45<00:00, 177815.17it/s]\n"
     ]
    },
    {
     "name": "stdout",
     "output_type": "stream",
     "text": [
      "Depduplicating File: ./resources/knowledge_graphs/PheKnowLator_v3.1.1_full_instance_inverseRelations_OWL_LogicOnly.nt\n"
     ]
    },
    {
     "name": "stderr",
     "output_type": "stream",
     "text": [
      "100%|██████████| 27055279/27055279 [03:31<00:00, 127885.03it/s]\n"
     ]
    },
    {
     "name": "stdout",
     "output_type": "stream",
     "text": [
      "Merging Files: ./resources/knowledge_graphs/PheKnowLator_v3.1.1_full_instance_inverseRelations_OWL_AnnotationsOnly.nt and ./resources/knowledge_graphs/PheKnowLator_v3.1.1_full_instance_inverseRelations_OWL_LogicOnly.nt\n",
      "\n",
      "\n",
      "Loading Full (Logic + Annotation) Graph\n",
      "\n",
      "Deriving Stats\n",
      "\n",
      "Processing pkt-namespaced BNodes in Full (Logic + Annotation) graph\n",
      "Identifying BNodes with Namespace: https://github.com/callahantiff/PheKnowLator/pkt/bnode/\n",
      "Identifying BNodes\n",
      "Removing Namespace from BNodes\n",
      "Finalizing Updated Graph\n",
      "Identifying BNodes with Namespace: https://github.com/callahantiff/PheKnowLator/pkt/\n",
      "Identifying BNodes\n",
      "Removing Namespace from BNodes\n",
      "Finalizing Updated Graph\n",
      "Applying OWL API Formatting to Knowledge Graph OWL File\n",
      "\n",
      "Full (Logic + Annotation) Graph Stats: 45743284 triples, 17351837 nodes, 356 predicates, 1270547 classes, 7038946 individuals, 867 object props, 700 annotation props\n"
     ]
    }
   ],
   "source": [
    "# construct knowledge graphs\n",
    "# run sed command - sed -i 's/_:genid/_genid/g' resources/knowledge_graphs/PheKnowLator_MergedOntologies.owl\n",
    "if build == 'partial':\n",
    "    kg = PartialBuild(construction=construction_approach,\n",
    "                      node_data=add_node_data_to_kg,\n",
    "                      inverse_relations=add_inverse_relations_to_kg,\n",
    "                      decode_owl=decode_owl_semantics,\n",
    "                      cpus=cpus,\n",
    "                      write_location=kg_directory_location)\n",
    "elif build == 'post-closure':\n",
    "    kg = PostClosureBuild(construction=construction_approach,\n",
    "                          node_data=add_node_data_to_kg,\n",
    "                          inverse_relations=add_inverse_relations_to_kg,\n",
    "                          decode_owl=decode_owl_semantics,\n",
    "                          cpus=cpus,\n",
    "                          write_location=kg_directory_location)\n",
    "else:\n",
    "    kg = FullBuild(construction=construction_approach,\n",
    "                   node_data=add_node_data_to_kg,\n",
    "                   inverse_relations=add_inverse_relations_to_kg,\n",
    "                   decode_owl=decode_owl_semantics,\n",
    "                   cpus=cpus,\n",
    "                   write_location=kg_directory_location)\n",
    "\n",
    "kg.construct_knowledge_graph()\n",
    "ray.shutdown()"
   ]
  },
  {
   "cell_type": "markdown",
   "metadata": {},
   "source": [
    "<br>\n",
    "\n",
    "***\n",
    "***\n",
    "\n",
    "```\n",
    "@misc{callahan_tj_2019_3401437,\n",
    "  author       = {Callahan, TJ},\n",
    "  title        = {PheKnowLator},\n",
    "  month        = mar,\n",
    "  year         = 2019,\n",
    "  doi          = {10.5281/zenodo.3401437},\n",
    "  url          = {https://doi.org/10.5281/zenodo.3401437}\n",
    "}\n",
    "```"
   ]
  }
 ],
 "metadata": {
  "kernelspec": {
   "display_name": "Python 3.6.13 ('sanya_kg')",
   "language": "python",
   "name": "python3"
  },
  "language_info": {
   "codemirror_mode": {
    "name": "ipython",
    "version": 3
   },
   "file_extension": ".py",
   "mimetype": "text/x-python",
   "name": "python",
   "nbconvert_exporter": "python",
   "pygments_lexer": "ipython3",
   "version": "3.6.13"
  },
  "latex_envs": {
   "LaTeX_envs_menu_present": true,
   "autoclose": false,
   "autocomplete": true,
   "bibliofile": "biblio.bib",
   "cite_by": "apalike",
   "current_citInitial": 1,
   "eqLabelWithNumbers": true,
   "eqNumInitial": 1,
   "hotkeys": {
    "equation": "Ctrl-E",
    "itemize": "Ctrl-I"
   },
   "labels_anchors": false,
   "latex_user_defs": false,
   "report_style_numbering": false,
   "user_envs_cfg": false
  },
  "pycharm": {
   "stem_cell": {
    "cell_type": "raw",
    "metadata": {
     "collapsed": false
    },
    "source": []
   }
  },
  "toc": {
   "base_numbering": 1,
   "nav_menu": {},
   "number_sections": false,
   "sideBar": false,
   "skip_h1_title": false,
   "title_cell": "Table of Contents",
   "title_sidebar": "Contents",
   "toc_cell": false,
   "toc_position": {},
   "toc_section_display": false,
   "toc_window_display": false
  },
  "vscode": {
   "interpreter": {
    "hash": "41f6dbb4620f1287d918c6d619d0adb09c41576ea2dff392e8096d45e1460f3a"
   }
  }
 },
 "nbformat": 4,
 "nbformat_minor": 1
}
