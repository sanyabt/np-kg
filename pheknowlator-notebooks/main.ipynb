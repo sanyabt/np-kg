{
 "cells": [
  {
   "cell_type": "markdown",
   "metadata": {},
   "source": [
    "_____\n",
    "***\n",
    "\n",
    "<img width='700' src=\"https://user-images.githubusercontent.com/8030363/108961534-b9a66980-7634-11eb-96e2-cc46589dcb8c.png\" style=\"vertical-align:middle\">\n",
    "\n",
    "***\n",
    "***\n",
    "\n",
    "**Author:** [TJCallahan](https://mail.google.com/mail/u/0/?view=cm&fs=1&tf=1&to=callahantiff@gmail.com)  \n",
    "**GitHub Repository:** [PheKnowLator](https://github.com/callahantiff/PheKnowLator/wiki)  \n",
    "**Current Release:** **[`v2.0.0`](https://github.com/callahantiff/PheKnowLator/wiki/v2.0.0)**\n",
    "\n",
    "<br>\n",
    "\n",
    "**Objective:** Knowledge graphs provide meaningful ways to integrate heterogeneous biological data and represent complex biological mechanisms. This work seeks to explore the utility of incorporating existing knowledge of molecular mechanism from ontologies, publicly available data, and the literature to construct a biomedical knowledge graph that models unbiased molecular mechanisms of human disease.\n",
    "\n",
    "<a target=\"_blank\" href=\"https://user-images.githubusercontent.com/8030363/103158881-11813b00-4780-11eb-8b45-5063765e7645.png\"> <img src=\"https://user-images.githubusercontent.com/8030363/103158881-11813b00-4780-11eb-8b45-5063765e7645.png\"></a> \n",
    "\n",
    "(*Click Figure to Enlarge Image in Current Browser Tab*)\n",
    "\n",
    "<br>\n",
    "\n",
    "***\n",
    "***"
   ]
  },
  {
   "cell_type": "markdown",
   "metadata": {},
   "source": [
    "## Notebook Purpose\n",
    "**Wiki Page:** **[`Release v2.0.0`](https://github.com/callahantiff/PheKnowLator/wiki/v2.0.0)**\n",
    "\n",
    "<br>\n",
    "\n",
    "**Purpose:** This notebook serves as a `main` file for the PheKnowLator project. This scripts walks through this program step-by-step and generates the knowledge graph shown above. There is also a command line version of this file ([`main.py`](https://github.com/callahantiff/PheKnowLator/blob/master/main.py)). Please see the [README](https://github.com/callahantiff/PheKnowLator/blob/master/README.md) for more information.\n",
    "\n",
    "<br>\n",
    "\n",
    "**Assumptions:**     \n",
    "1. Make sure that the following input documents have been constructed (see the [Dependencies Wiki](https://github.com/callahantiff/PheKnowLator/wiki/Dependencies) for more information):  \n",
    "  - [`resource_info.txt`](https://github.com/callahantiff/PheKnowLator/blob/master/resources/resource_info.txt)\n",
    "  - [`ontology_source_list.txt`](https://github.com/callahantiff/PheKnowLator/blob/master/resources/ontology_source_list.txt)\n",
    "  - [`edge_source_list.txt`](https://github.com/callahantiff/PheKnowLator/blob/master/resources/edge_source_list.txt)   \n",
    "\n",
    "2. Prepare [relations](https://github.com/callahantiff/PheKnowLator/wiki/Dependencies#relations-data) and [node metadata](https://github.com/callahantiff/PheKnowLator/wiki/Dependencies#node-metadata) files prior to running the scripts.  \n",
    "\n",
    "3. Select a knowledge graph build type (i.e. `full`, `partial`, or `post-closure`) and construction method (i.e. `instance-based` or `subclass-based`).  \n",
    "\n",
    "<br>\n",
    "\n",
    "***\n",
    "### Table of Contents\n",
    "***\n",
    "The three primary steps involved in building a knowledge graph are `Downloading Data Sources`, `Creating Edge Lists`, and `Building the knowledge graphs`.\n",
    "\n",
    "* [Data Sources](#data-source)  \n",
    "* [Create Edge Lists](#create-edges)  \n",
    "* [Build Knowledge Graph](#build-kg)  \n",
    "\n",
    "***\n",
    "\n",
    "***"
   ]
  },
  {
   "cell_type": "markdown",
   "metadata": {
    "collapsed": true,
    "pycharm": {
     "is_executing": false
    }
   },
   "source": [
    "_____\n",
    "### Set-Up Environment"
   ]
  },
  {
   "cell_type": "code",
   "execution_count": 31,
   "metadata": {},
   "outputs": [],
   "source": [
    "# import needed libraries\n",
    "import glob\n",
    "import json\n",
    "import pandas\n",
    "import psutil\n",
    "import ray\n",
    "import time\n",
    "\n",
    "# import module\n",
    "from pkt_kg.downloads import OntData, LinkedData\n",
    "from pkt_kg.edge_list import CreatesEdgeList\n",
    "from pkt_kg.knowledge_graph import FullBuild, PartialBuild, PostClosureBuild"
   ]
  },
  {
   "cell_type": "markdown",
   "metadata": {},
   "source": [
    "***\n",
    "## Download Data Sources <a class=\"anchor\" id=\"data-source\"></a>\n",
    "\n",
    "**Wiki Page:** **[`Dependencies`](https://github.com/callahantiff/PheKnowLator/wiki/Dependencies)**  \n",
    "\n",
    "**Purpose:**\n",
    "This portion of this portion of the algorithm is to download:\n",
    "1. [Download Ontology Data](#download-ontology-data)  \n",
    "2. [Download Edge Data](#download-edge-data)   \n",
    "\n",
    "<br>\n",
    "\n",
    "**Input Files:**\n",
    "  - [`resource_info.txt`](https://github.com/callahantiff/PheKnowLator/blob/master/resources/resource_info.txt)\n",
    "  - [`ontology_source_list.txt`](https://github.com/callahantiff/PheKnowLator/blob/master/resources/ontology_source_list.txt)\n",
    "  - [`edge_source_list.txt`](https://github.com/callahantiff/PheKnowLator/blob/master/resources/edge_source_list.txt)\n",
    "\n",
    "<br>\n",
    "\n",
    "**Assumptions:**  \n",
    "- All sources used to construct our knowledge graph need to be preprocessed and ready to download prior to running this code. All mapping, filtering, and label data have been generated prior to this step. For assistance with creating these datasets, see the [`Data_Preparation.ipynb`](https://github.com/callahantiff/PheKnowLator/blob/master/notebooks/Data_Preparation.ipynb) Jupyter Notebook.  \n",
    "- All downloaded and generated data sources for all PheKnowLator builds can be accessed through [Zenodo](https://zenodo.org/doi/10.5281/zenodo.7030039).\n"
   ]
  },
  {
   "cell_type": "markdown",
   "metadata": {},
   "source": [
    "***\n",
    "***\n",
    "### Ontology Data  <a class=\"anchor\" id=\"download-ontology-data\"></a>\n",
    "Ontologies are the core data structure used when building PheKnowLator. In the figure above, ontology data are shown in yellow boxes."
   ]
  },
  {
   "cell_type": "code",
   "execution_count": 32,
   "metadata": {},
   "outputs": [],
   "source": [
    "ont = OntData('resources/ontology_source_list.txt', 'resources/resource_info.txt')\n",
    "#ont.downloads_data_from_url()"
   ]
  },
  {
   "cell_type": "code",
   "execution_count": 33,
   "metadata": {},
   "outputs": [],
   "source": [
    "ont.parses_resource_file()"
   ]
  },
  {
   "cell_type": "code",
   "execution_count": 34,
   "metadata": {},
   "outputs": [
    {
     "data": {
      "text/plain": [
       "{'disease': 'resources/ontologies/mondo_with_imports.owl',\n",
       " 'napdichem': 'resources/ontologies/chebi_lite_merged_with_imports.owl',\n",
       " 'protein': 'resources/ontologies/pr_with_imports.owl',\n",
       " 'pathway': 'resources/ontologies/pw_with_imports.owl',\n",
       " 'relation': 'resources/ontologies/ro_with_imports.owl',\n",
       " 'go': 'resources/ontologies/go_with_imports.owl',\n",
       " 'chemical': 'resources/ontologies/chebi_with_imports.owl',\n",
       " 'phenotype': 'resources/ontologies/hp_with_imports.owl',\n",
       " 'anatomy': 'resources/ontologies/uberon_with_imports.owl',\n",
       " 'cell': 'resources/ontologies/clo_with_imports.owl',\n",
       " 'genomic': 'resources/ontologies/so_with_imports.owl',\n",
       " 'oae': 'resources/ontologies/oae_merged_with_imports.owl',\n",
       " 'plant': 'resources/ontologies/po_with_imports.owl',\n",
       " 'dideo': 'resources/ontologies/dideo_with_imports.owl'}"
      ]
     },
     "execution_count": 34,
     "metadata": {},
     "output_type": "execute_result"
    }
   ],
   "source": [
    "ont.source_list"
   ]
  },
  {
   "cell_type": "code",
   "execution_count": 35,
   "metadata": {},
   "outputs": [
    {
     "name": "stdout",
     "output_type": "stream",
     "text": [
      "\n",
      "*** Generating Metadata ***\n",
      "\n"
     ]
    },
    {
     "name": "stderr",
     "output_type": "stream",
     "text": [
      "100%|██████████| 14/14 [00:00<00:00, 15713.21it/s]\n",
      "100%|██████████| 14/14 [00:00<00:00, 56461.78it/s]\n"
     ]
    }
   ],
   "source": [
    "ont.data_files = ont.source_list\n",
    "ont.generates_source_metadata()"
   ]
  },
  {
   "cell_type": "code",
   "execution_count": 36,
   "metadata": {},
   "outputs": [
    {
     "name": "stderr",
     "output_type": "stream",
     "text": [
      "100%|██████████| 14/14 [00:00<00:00, 37957.50it/s]\n"
     ]
    }
   ],
   "source": [
    "ont._writes_source_metadata_locally()"
   ]
  },
  {
   "cell_type": "code",
   "execution_count": 37,
   "metadata": {},
   "outputs": [
    {
     "data": {
      "text/plain": [
       "['chemical-disease|:;MESH_;|class-class|RO_0002610|http://purl.obolibrary.org/obo/|http://purl.obolibrary.org/obo/|t|1;4|0:./resources/processed_data/MESH_CHEBI_MAP.txt;1:./resources/processed_data/DISEASE_MONDO_MAP.txt|5;==;marker/mechanism|None',\n",
       " \"chemical-gene|;MESH_;|class-entity|RO_0002434|http://purl.obolibrary.org/obo/|http://www.ncbi.nlm.nih.gov/gene/|t|1;4|0:./resources/processed_data/MESH_CHEBI_MAP.txt|9;affects;not in x|6;==;Homo sapiens::5;.startswith('gene');\",\n",
       " 'chemical-gobp|:;MESH_;GO_|class-class|RO_0002436|http://purl.obolibrary.org/obo/|http://purl.obolibrary.org/obo/|t|1;5|0:./resources/processed_data/MESH_CHEBI_MAP.txt|8;<=;1.04e-47|3;==;Biological Process',\n",
       " 'chemical-gocc|:;MESH_;GO_|class-class|RO_0002436|http://purl.obolibrary.org/obo/|http://purl.obolibrary.org/obo/|t|1;5|0:./resources/processed_data/MESH_CHEBI_MAP.txt|8;<=;1.04e-47|3;==;Cellular Component',\n",
       " 'chemical-gomf|:;MESH_;GO_|class-class|RO_0002436|http://purl.obolibrary.org/obo/|http://purl.obolibrary.org/obo/|t|1;5|0:./resources/processed_data/MESH_CHEBI_MAP.txt|8;<=;1.04e-47|3;==;Molecular Function',\n",
       " 'chemical-pathway|;CHEBI_;|class-entity|RO_0000056|http://purl.obolibrary.org/obo/|https://reactome.org/content/detail/|t|0;1|None|None|5;==;Homo sapiens',\n",
       " 'chemical-phenotype|:;MESH_;|class-class|RO_0002610|http://purl.obolibrary.org/obo/|http://purl.obolibrary.org/obo/|t|1;4|0:./resources/processed_data/MESH_CHEBI_MAP.txt;1:./resources/processed_data/PHENOTYPE_HPO_MAP.txt|5;==;marker/mechanism|None',\n",
       " \"chemical-protein|;MESH_;|class-class|RO_0002434|http://purl.obolibrary.org/obo/|http://purl.obolibrary.org/obo/|t|1;4|0:./resources/processed_data/MESH_CHEBI_MAP.txt;1:./resources/processed_data/ENTREZ_GENE_PRO_ONTOLOGY_MAP.txt|9;affects;not in x|6;==;Homo sapiens::5;.startswith('protein');\",\n",
       " 'disease-phenotype|:;;HP_|class-class|RO_0002200|http://purl.obolibrary.org/obo/|http://purl.obolibrary.org/obo/|t|0;3|0:./resources/processed_data/DISEASE_MONDO_MAP.txt|None|None|None',\n",
       " 'gene-disease|;;|entity-class|RO_0003302|http://www.ncbi.nlm.nih.gov/gene/|http://purl.obolibrary.org/obo/|t|0;4|1:./resources/processed_data/DISEASE_MONDO_MAP.txt|10;>=;1.0|None',\n",
       " 'gene-gene|;;|entity-entity|RO_0002435|http://www.ncbi.nlm.nih.gov/gene/|http://www.ncbi.nlm.nih.gov/gene/|t|0;1|0:./resources/processed_data/ENSEMBL_GENE_ENTREZ_GENE_MAP.txt;1:./resources/processed_data/ENSEMBL_GENE_ENTREZ_GENE_MAP.txt|None|None',\n",
       " \"gene-pathway|:;;|entity-entity|RO_0000056|http://www.ncbi.nlm.nih.gov/gene/|https://reactome.org/content/detail/|t|1;3|None|None|3;.startswith('REACT:R-HSA-');\",\n",
       " 'gene-phenotype|;;|entity-class|RO_0003302|http://www.ncbi.nlm.nih.gov/gene/|http://purl.obolibrary.org/obo/|t|0;4|1:./resources/processed_data/PHENOTYPE_HPO_MAP.txt|10;>=;1.0|None',\n",
       " 'gene-protein|;;|entity-class|RO_0002205|http://www.ncbi.nlm.nih.gov/gene/|http://purl.obolibrary.org/obo/|t|0;1|None|None|4;==;protein-coding',\n",
       " 'gene-rna|;;|entity-entity|RO_0002511|http://www.ncbi.nlm.nih.gov/gene/|https://uswest.ensembl.org/Homo_sapiens/Transcript/Summary?t=|t|0;1|None|None|None',\n",
       " \"gobp-pathway|:;GO_;|class-entity|RO_0009501|http://purl.obolibrary.org/obo/|https://reactome.org/content/detail/|t|4;5|None|None|8;==;P::12;==;taxon:9606::5;.startswith('REACTOME');\",\n",
       " \"pathway-gocc|:;;GO_|entity-class|RO_0002180|https://reactome.org/content/detail/|http://purl.obolibrary.org/obo/|t|5;4|None|None|8;==;C::12;==;taxon:9606::5;.startswith('REACTOME');\",\n",
       " \"pathway-gomf|:;;GO_|entity-class|RO_0000085|https://reactome.org/content/detail/|http://purl.obolibrary.org/obo/|t|5;4|None|None|8;==;F::12;==;taxon:9606::5;.startswith('REACTOME');\",\n",
       " 'protein-anatomy|;;|class-class|RO_0001025|http://purl.obolibrary.org/obo/|http://purl.obolibrary.org/obo/|t|2;5|0:./resources/processed_data/UNIPROT_ACCESSION_PRO_ONTOLOGY_MAP.txt;1:./resources/processed_data/HPA_GTEx_TISSUE_CELL_MAP.txt|None|3;==;Evidence at protein level::4;==;anatomy',\n",
       " 'protein-catalyst|;;|class-class|RO_0002436|http://purl.obolibrary.org/obo/|http://purl.obolibrary.org/obo/|t|0;1|None|None|None|None',\n",
       " 'protein-cell|;;|class-class|RO_0001025|http://purl.obolibrary.org/obo/|http://purl.obolibrary.org/obo/|t|2;5|0:./resources/processed_data/UNIPROT_ACCESSION_PRO_ONTOLOGY_MAP.txt;1:./resources/processed_data/HPA_GTEx_TISSUE_CELL_MAP.txt|None|3;==;Evidence at protein level::4;==;cell line',\n",
       " 'protein-cofactor|;;|class-class|RO_0002436|http://purl.obolibrary.org/obo/|http://purl.obolibrary.org/obo/|t|0;1|None|None|None|None',\n",
       " 'protein-gobp|:;;GO_|class-class|RO_0000056|http://purl.obolibrary.org/obo/|http://purl.obolibrary.org/obo/|t|1;4|0:./resources/processed_data/UNIPROT_ACCESSION_PRO_ONTOLOGY_MAP.txt|None|8;==;P::12;==;taxon:9606',\n",
       " 'protein-gocc|:;;GO_|class-class|RO_0001025|http://purl.obolibrary.org/obo/|http://purl.obolibrary.org/obo/|t|1;4|0:./resources/processed_data/UNIPROT_ACCESSION_PRO_ONTOLOGY_MAP.txt|None|8;==;C::12;==;taxon:9606',\n",
       " 'protein-gomf|:;;GO_|class-class|RO_0000085|http://purl.obolibrary.org/obo/|http://purl.obolibrary.org/obo/|t|1;4|0:./resources/processed_data/UNIPROT_ACCESSION_PRO_ONTOLOGY_MAP.txt|None|8;==;F::12;==;taxon:9606',\n",
       " 'protein-pathway|;;|class-entity|RO_0000056|http://purl.obolibrary.org/obo/|https://reactome.org/content/detail/|t|0;1|0:./resources/processed_data/UNIPROT_ACCESSION_PRO_ONTOLOGY_MAP.txt|None|5;==;Homo sapiens',\n",
       " \"protein-protein|9606.;;|class-class|RO_0002436|http://purl.obolibrary.org/obo/|http://purl.obolibrary.org/obo/|''|0;1|0:./resources/processed_data/STRING_PRO_ONTOLOGY_MAP.txt;1:./resources/processed_data/STRING_PRO_ONTOLOGY_MAP.txt|2;>=;700|None\",\n",
       " 'rna-anatomy|;;|entity-class|RO_0001025|https://uswest.ensembl.org/Homo_sapiens/Transcript/Summary?t=|http://purl.obolibrary.org/obo/|t|1;5|0:./resources/processed_data/GENE_SYMBOL_ENSEMBL_TRANSCRIPT_MAP.txt;1:./resources/processed_data/HPA_GTEx_TISSUE_CELL_MAP.txt|None|3;==;Evidence at transcript level::4;==;anatomy',\n",
       " 'rna-cell|;;|entity-class|RO_0001025|https://uswest.ensembl.org/Homo_sapiens/Transcript/Summary?t=|http://purl.obolibrary.org/obo/|t|1;5|0:./resources/processed_data/GENE_SYMBOL_ENSEMBL_TRANSCRIPT_MAP.txt;1:./resources/processed_data/HPA_GTEx_TISSUE_CELL_MAP.txt|None|3;==;Evidence at transcript level::4;==;cell line',\n",
       " 'rna-protein|;;|entity-class|RO_0002513|https://uswest.ensembl.org/Homo_sapiens/Transcript/Summary?t=|http://purl.obolibrary.org/obo/|t|0;1|None|None|4;==;protein-coding',\n",
       " 'variant-disease|:;rs;|entity-class|RO_0003302|https://www.ncbi.nlm.nih.gov/snp/|http://purl.obolibrary.org/obo/|t|9;12|1:./resources/processed_data/DISEASE_MONDO_MAP.txt|24;in;[\"criteria provided, multiple submitters, no conflicts\", \"reviewed by expert panel\", \"practice guideline\"]::7;==;1|9;!=;-1::16;==;GRCh38::8-9;dedup;desc',\n",
       " 'variant-gene|;rs;|entity-entity|RO_0002566|https://www.ncbi.nlm.nih.gov/snp/|http://www.ncbi.nlm.nih.gov/gene/|t|9;3|None|24;in;[\"criteria provided, multiple submitters, no conflicts\", \"reviewed by expert panel\", \"practice guideline\"]|9;!=;-1::3;!=;-1::16;==;GRCh38::8-9;dedup;desc',\n",
       " 'variant-phenotype|:;rs;|entity-class|RO_0003302|https://www.ncbi.nlm.nih.gov/snp/|http://purl.obolibrary.org/obo/|t|9;12|1:./resources/processed_data/PHENOTYPE_HPO_MAP.txt|24;in;[\"criteria provided, multiple submitters, no conflicts\", \"reviewed by expert panel\", \"practice guideline\"]::7;==;1|9;!=;-1::16;==;GRCh38::8-9;dedup;desc',\n",
       " 'chemical-inhibitor|;;|class-class|RO_0002449|http://purl.obolibrary.org/obo/|http://purl.obolibrary.org/obo/|t|0;1|None|None|None|None',\n",
       " 'chemical-molecule|;;|class-class|RO_0002436|http://purl.obolibrary.org/obo/|http://purl.obolibrary.org/obo/|t|0;1|None|None|None|None',\n",
       " 'transporter-chemical|;;|class-class|RO_0002020|http://purl.obolibrary.org/obo/|http://purl.obolibrary.org/obo/|t|1;0|None|None|None|None',\n",
       " 'chemical-substrate|;;|class-class|DIDEO_00000041|http://purl.obolibrary.org/obo/|http://purl.obolibrary.org/obo/|t|0;1|None|None|None|None',\n",
       " 'chemical-indication|;;|class-class|RO_0002606|http://purl.obolibrary.org/obo/|http://purl.obolibrary.org/obo/|t|0;1|None|None|None|None',\n",
       " 'chemical-adr|;;|class-class|RO_0003302|http://purl.obolibrary.org/obo/|http://purl.obolibrary.org/obo/|t|0;1|None|None|None|None']"
      ]
     },
     "execution_count": 37,
     "metadata": {},
     "output_type": "execute_result"
    }
   ],
   "source": [
    "ont.resource_info"
   ]
  },
  {
   "cell_type": "markdown",
   "metadata": {},
   "source": [
    "<br>\n",
    "\n",
    "### Edge Data   <a class=\"anchor\" id=\"download-edge-data\"></a>\n",
    "In PheKnowLator, classes are nodes that originate from ontologies. Class data sources are Linked Data sources that are used to create edges in the knowledge graph and thus can connect to other class data sources. Sometimes we want to add data that is not already part of an ontology. In that case, data either be added as an `instance` of an existing ontology class or as its own `owl:class` by being added to the knowledge graph as a `subclass` of an existing `owl:class`."
   ]
  },
  {
   "cell_type": "code",
   "execution_count": 38,
   "metadata": {},
   "outputs": [],
   "source": [
    "#edges = LinkedData('resources/edge_source_list.txt', 'resources/resource_info.txt')\n",
    "#edges.downloads_data_from_url()"
   ]
  },
  {
   "cell_type": "code",
   "execution_count": 39,
   "metadata": {},
   "outputs": [],
   "source": [
    "edges = LinkedData('resources/edge_source_list.txt', 'resources/resource_info.txt')"
   ]
  },
  {
   "cell_type": "code",
   "execution_count": 40,
   "metadata": {},
   "outputs": [],
   "source": [
    "edges.parses_resource_file()"
   ]
  },
  {
   "cell_type": "code",
   "execution_count": 41,
   "metadata": {},
   "outputs": [
    {
     "data": {
      "text/plain": [
       "{'chemical-disease': 'resources/edge_data/chemical-disease_CTD_chemicals_diseases.tsv',\n",
       " 'chemical-gene': 'resources/edge_data/chemical-gene_CTD_chem_gene_ixns.tsv',\n",
       " 'chemical-gobp': 'resources/edge_data/chemical-gobp_CTD_chem_go_enriched.tsv',\n",
       " 'chemical-gocc': 'resources/edge_data/chemical-gocc_CTD_chem_go_enriched.tsv',\n",
       " 'chemical-gomf': 'resources/edge_data/chemical-gomf_CTD_chem_go_enriched.tsv',\n",
       " 'chemical-pathway': 'resources/edge_data/chemical-pathway_ChEBI2Reactome_All_Levels.txt',\n",
       " 'chemical-protein': 'resources/edge_data/chemical-protein_CTD_chem_gene_ixns.tsv',\n",
       " 'chemical-phenotype': 'resources/edge_data/chemical-disease_CTD_chemicals_diseases.tsv',\n",
       " 'disease-phenotype': 'resources/edge_data/disease-phenotype_phenotype.hpoa',\n",
       " 'gene-disease': 'resources/edge_data/gene-disease_curated_gene_disease_associations.tsv',\n",
       " 'gene-gene': 'resources/edge_data/gene-gene_COMBINED.DEFAULT_NETWORKS.BP_COMBINING.txt',\n",
       " 'gene-pathway': 'resources/edge_data/gene-pathway_CTD_genes_pathways.tsv',\n",
       " 'gene-phenotype': 'resources/edge_data/gene-disease_curated_gene_disease_associations.tsv',\n",
       " 'gene-protein': 'resources/processed_data/ENTREZ_GENE_PRO_ONTOLOGY_MAP.txt',\n",
       " 'gene-rna': 'resources/processed_data/ENTREZ_GENE_ENSEMBL_TRANSCRIPT_MAP.txt',\n",
       " 'gobp-pathway': 'resources/edge_data/gobp-pathway_gene_association.reactome',\n",
       " 'pathway-gocc': 'resources/edge_data/pathway-gocc_gene_association.reactome',\n",
       " 'pathway-gomf': 'resources/edge_data/pathway-gomf_gene_association.reactome',\n",
       " 'protein-anatomy': 'resources/processed_data/HPA_GTEX_RNA_GENE_PROTEIN_EDGES.txt',\n",
       " 'protein-catalyst': 'resources/processed_data/UNIPROT_PROTEIN_CATALYST.txt',\n",
       " 'protein-cofactor': 'resources/processed_data/UNIPROT_PROTEIN_COFACTOR.txt',\n",
       " 'protein-cell': 'resources/edge_data/protein-cell_HPA_GTEX_RNA_GENE_PROTEIN_EDGES.txt',\n",
       " 'protein-gobp': 'resources/edge_data/protein-gobp_goa_human.gaf',\n",
       " 'protein-gocc': 'resources/edge_data/protein-gocc_goa_human.gaf',\n",
       " 'protein-gomf': 'resources/edge_data/protein-gomf_goa_human.gaf',\n",
       " 'protein-pathway': 'resources/edge_data/protein-pathway_UniProt2Reactome_All_Levels.txt',\n",
       " 'protein-protein': 'resources/edge_data/protein-protein_9606.protein.links.v11.0.txt',\n",
       " 'rna-anatomy': 'resources/processed_data/HPA_GTEX_RNA_GENE_PROTEIN_EDGES.txt',\n",
       " 'rna-cell': 'resources/processed_data/HPA_GTEX_RNA_GENE_PROTEIN_EDGES.txt',\n",
       " 'rna-protein': 'resources/processed_data/ENSEMBL_TRANSCRIPT_PROTEIN_ONTOLOGY_MAP.txt',\n",
       " 'variant-disease': 'resources/processed_data/CLINVAR_VARIANT_GENE_DISEASE_PHENOTYPE_EDGES.txt',\n",
       " 'variant-gene': 'resources/processed_data/CLINVAR_VARIANT_GENE_DISEASE_PHENOTYPE_EDGES.txt',\n",
       " 'variant-phenotype': 'resources/processed_data/CLINVAR_VARIANT_GENE_DISEASE_PHENOTYPE_EDGES.txt',\n",
       " 'transporter-chemical': 'resources/processed_data/CHEMICAL_TRANSPORTER.tsv',\n",
       " 'chemical-molecule': 'resources/processed_data/CHEMICAL_MOLECULE.tsv',\n",
       " 'chemical-substrate': 'resources/processed_data/CHEMICAL_SUBSTRATE.tsv',\n",
       " 'chemical-inhibitor': 'resources/processed_data/CHEMICAL_INHIBITOR.tsv',\n",
       " 'chemical-indication': 'resources/processed_data/CHEMICAL_INDICATION.tsv',\n",
       " 'chemical-adr': 'resources/processed_data/CHEMICAL_ADR.tsv'}"
      ]
     },
     "execution_count": 41,
     "metadata": {},
     "output_type": "execute_result"
    }
   ],
   "source": [
    "edges.source_list"
   ]
  },
  {
   "cell_type": "code",
   "execution_count": 42,
   "metadata": {},
   "outputs": [
    {
     "name": "stdout",
     "output_type": "stream",
     "text": [
      "\n",
      "*** Generating Metadata ***\n",
      "\n"
     ]
    },
    {
     "name": "stderr",
     "output_type": "stream",
     "text": [
      "100%|██████████| 39/39 [00:00<00:00, 13093.56it/s]\n",
      "100%|██████████| 39/39 [00:00<00:00, 8941.61it/s]\n"
     ]
    }
   ],
   "source": [
    "edges.data_files = edges.source_list\n",
    "edges.generates_source_metadata()"
   ]
  },
  {
   "cell_type": "code",
   "execution_count": 43,
   "metadata": {},
   "outputs": [
    {
     "name": "stderr",
     "output_type": "stream",
     "text": [
      "100%|██████████| 39/39 [00:00<00:00, 35291.88it/s]\n"
     ]
    }
   ],
   "source": [
    "edges._writes_source_metadata_locally()"
   ]
  },
  {
   "cell_type": "code",
   "execution_count": 44,
   "metadata": {},
   "outputs": [
    {
     "data": {
      "text/plain": [
       "dict_keys(['chemical-disease', 'chemical-gene', 'chemical-gobp', 'chemical-gocc', 'chemical-gomf', 'chemical-pathway', 'chemical-protein', 'chemical-phenotype', 'disease-phenotype', 'gene-disease', 'gene-gene', 'gene-pathway', 'gene-phenotype', 'gene-protein', 'gene-rna', 'gobp-pathway', 'pathway-gocc', 'pathway-gomf', 'protein-anatomy', 'protein-catalyst', 'protein-cofactor', 'protein-cell', 'protein-gobp', 'protein-gocc', 'protein-gomf', 'protein-pathway', 'protein-protein', 'rna-anatomy', 'rna-cell', 'rna-protein', 'variant-disease', 'variant-gene', 'variant-phenotype', 'transporter-chemical', 'chemical-molecule', 'chemical-substrate', 'chemical-inhibitor', 'chemical-indication', 'chemical-adr'])"
      ]
     },
     "execution_count": 44,
     "metadata": {},
     "output_type": "execute_result"
    }
   ],
   "source": [
    "edges.source_list.keys()"
   ]
  },
  {
   "cell_type": "markdown",
   "metadata": {},
   "source": [
    "<br>"
   ]
  },
  {
   "cell_type": "markdown",
   "metadata": {},
   "source": [
    "***\n",
    "\n",
    "## Create Edge Lists <a class=\"anchor\" id=\"create-edges\"></a>\n",
    "\n",
    "**Wiki Page:** **[`Data Sources`](https://github.com/callahantiff/PheKnowLator/wiki/v2-Data-Sources)**\n",
    "\n",
    "<br>\n",
    "\n",
    "**Purpose:** The code below will take the dictionaries of processed data described above and use them to create edge lists for each of the edge types specified in the [`resource_info.txt`](https://github.com/callahantiff/PheKnowLator/blob/master/resources/resource_info.txt). Each edge list will be appended to a nested dictionary (see details below).\n",
    "\n",
    "<br>\n",
    "\n",
    "**Assumptions:**  \n",
    "1. All `ontology` and `edge` data sources have been downloaded.   \n",
    "\n",
    "2. All code in the [`Data_Preparation.ipynb`](https://github.com/callahantiff/PheKnowLator/blob/master/notebooks/Data_Preparation.ipynb) Jupyter Notebook has been run. This Notebook contains code needed to generate all mapping, filtering, and label data.\n",
    "\n",
    "<br>\n",
    "\n",
    "**Output:** `Master_Edge_List_Dict.json`. Below is an example of what the `Master Edge Dictionary` contains for each processed resource:  \n",
    "```python\n",
    "master_edges = {'chemical-disease'  :\n",
    "                {'source_labels'    : ';MESH_;',\n",
    "                 'data_type'        : 'class-class',\n",
    "                 'edge_relation'    : 'RO_0002606',\n",
    "                 'uri'              : ('http://purl.obolibrary.org/obo/',\n",
    "                                       'http://purl.obolibrary.org/obo/'),\n",
    "                 'delimiter'        : '#',\n",
    "                 'column_idx'       : '1;4',\n",
    "                 'identifier_maps'  : '0:./MESH_CHEBI_MAP.txt;1:disease-dbxref-map',\n",
    "                 'evidence_criteria': \"5;!=;' \",\n",
    "                 'filter_criteria'  : 'None',\n",
    "                 'edge_list'        : ['...']}\n",
    "```\n",
    "\n",
    "***"
   ]
  },
  {
   "cell_type": "code",
   "execution_count": 45,
   "metadata": {},
   "outputs": [
    {
     "data": {
      "text/plain": [
       "{'node_ip_address': '10.226.40.229',\n",
       " 'raylet_ip_address': '10.226.40.229',\n",
       " 'redis_address': '10.226.40.229:6379',\n",
       " 'object_store_address': '/tmp/ray/session_2024-06-01_11-59-03_551688_507698/sockets/plasma_store',\n",
       " 'raylet_socket_name': '/tmp/ray/session_2024-06-01_11-59-03_551688_507698/sockets/raylet',\n",
       " 'webui_url': None,\n",
       " 'session_dir': '/tmp/ray/session_2024-06-01_11-59-03_551688_507698',\n",
       " 'metrics_export_port': 55378,\n",
       " 'node_id': '1143f74b55c13b786447f244b523fb0d5c8a20621b5ea714532934fc'}"
      ]
     },
     "execution_count": 45,
     "metadata": {},
     "output_type": "execute_result"
    }
   ],
   "source": [
    "# set-up environment for parallel processing -- even if running program serially these steps are needed\n",
    "import psutil\n",
    "cpus = psutil.cpu_count(logical=True)\n",
    "ray.init()"
   ]
  },
  {
   "cell_type": "code",
   "execution_count": 46,
   "metadata": {},
   "outputs": [
    {
     "name": "stdout",
     "output_type": "stream",
     "text": [
      "\u001b[2m\u001b[36m(pid=748150)\u001b[0m Finished Edge: gene-protein (gene = 19324, protein = 19129); 19527 unique edges\n",
      "\u001b[2m\u001b[36m(pid=748147)\u001b[0m Finished Edge: gobp-pathway (gobp = 479, pathway = 672); 672 unique edges\n",
      "\u001b[2m\u001b[36m(pid=748150)\u001b[0m Finished Edge: rna-protein (rna = 28220, protein = 18936); 28220 unique edges\n",
      "\u001b[2m\u001b[36m(pid=748159)\u001b[0m Finished Edge: gene-rna (gene = 25392, rna = 194965); 197370 unique edges\n",
      "\u001b[2m\u001b[36m(pid=748146)\u001b[0m Finished Edge: gene-disease (gene = 5059, disease = 4484); 13344 unique edges\n",
      "\u001b[2m\u001b[36m(pid=748152)\u001b[0m Finished Edge: gene-pathway (gene = 10369, pathway = 1860); 107009 unique edges\n",
      "\u001b[2m\u001b[36m(pid=748155)\u001b[0m Finished Edge: gene-phenotype (gene = 6787, phenotype = 1595); 24695 unique edges\n",
      "\u001b[2m\u001b[36m(pid=748163)\u001b[0m Finished Edge: chemical-pathway (chemical = 2247, pathway = 2243); 29988 unique edges\n",
      "\u001b[2m\u001b[36m(pid=748154)\u001b[0m Finished Edge: disease-phenotype (disease = 12100, phenotype = 10129); 444807 unique edges\n",
      "\u001b[2m\u001b[36m(pid=748155)\u001b[0m Finished Edge: rna-cell (rna = 10052, cell = 4); 33152 unique edges\n",
      "\u001b[2m\u001b[36m(pid=748163)\u001b[0m Finished Edge: protein-cell (protein = 10044, cell = 128); 75311 unique edges\n",
      "\u001b[2m\u001b[36m(pid=748163)\u001b[0m Finished Edge: chemical-indication (chemical = 1742, indication = 792); 6505 unique edges\n",
      "\u001b[2m\u001b[36m(pid=748152)\u001b[0m Finished Edge: rna-anatomy (rna = 26704, anatomy = 98); 474073 unique edges\n"
     ]
    },
    {
     "ename": "KeyboardInterrupt",
     "evalue": "",
     "output_type": "error",
     "traceback": [
      "\u001b[0;31m---------------------------------------------------------------------------\u001b[0m",
      "\u001b[0;31mKeyboardInterrupt\u001b[0m                         Traceback (most recent call last)",
      "\u001b[0;32m<ipython-input-46-ba356a393b92>\u001b[0m in \u001b[0;36m<module>\u001b[0;34m\u001b[0m\n\u001b[1;32m      5\u001b[0m \u001b[0;31m# initialize edge dictionary class\u001b[0m\u001b[0;34m\u001b[0m\u001b[0;34m\u001b[0m\u001b[0;34m\u001b[0m\u001b[0m\n\u001b[1;32m      6\u001b[0m \u001b[0mmaster_edges\u001b[0m \u001b[0;34m=\u001b[0m \u001b[0mCreatesEdgeList\u001b[0m\u001b[0;34m(\u001b[0m\u001b[0mdata_files\u001b[0m\u001b[0;34m=\u001b[0m\u001b[0mcombined_edges\u001b[0m\u001b[0;34m,\u001b[0m \u001b[0msource_file\u001b[0m\u001b[0;34m=\u001b[0m\u001b[0mresource_info_loc\u001b[0m\u001b[0;34m)\u001b[0m\u001b[0;34m\u001b[0m\u001b[0;34m\u001b[0m\u001b[0m\n\u001b[0;32m----> 7\u001b[0;31m \u001b[0mmaster_edges\u001b[0m\u001b[0;34m.\u001b[0m\u001b[0mruns_creates_knowledge_graph_edges\u001b[0m\u001b[0;34m(\u001b[0m\u001b[0msource_file\u001b[0m\u001b[0;34m=\u001b[0m\u001b[0mresource_info_loc\u001b[0m\u001b[0;34m,\u001b[0m \u001b[0mdata_files\u001b[0m\u001b[0;34m=\u001b[0m\u001b[0mcombined_edges\u001b[0m\u001b[0;34m,\u001b[0m \u001b[0mcpus\u001b[0m\u001b[0;34m=\u001b[0m\u001b[0mcpus\u001b[0m\u001b[0;34m)\u001b[0m\u001b[0;34m\u001b[0m\u001b[0;34m\u001b[0m\u001b[0m\n\u001b[0m",
      "\u001b[0;32m~/PheKnowLator/pkt_kg/edge_list.py\u001b[0m in \u001b[0;36mruns_creates_knowledge_graph_edges\u001b[0;34m(source_file, data_files, cpus)\u001b[0m\n\u001b[1;32m    409\u001b[0m \u001b[0;34m\u001b[0m\u001b[0m\n\u001b[1;32m    410\u001b[0m         \u001b[0;31m# extract results, aggregate actor dictionaries into single dictionary, and write data to json file\u001b[0m\u001b[0;34m\u001b[0m\u001b[0;34m\u001b[0m\u001b[0;34m\u001b[0m\u001b[0m\n\u001b[0;32m--> 411\u001b[0;31m         \u001b[0m_\u001b[0m \u001b[0;34m=\u001b[0m \u001b[0mray\u001b[0m\u001b[0;34m.\u001b[0m\u001b[0mwait\u001b[0m\u001b[0;34m(\u001b[0m\u001b[0;34m[\u001b[0m\u001b[0mx\u001b[0m\u001b[0;34m.\u001b[0m\u001b[0mgets_source_info\u001b[0m\u001b[0;34m.\u001b[0m\u001b[0mremote\u001b[0m\u001b[0;34m(\u001b[0m\u001b[0;34m)\u001b[0m \u001b[0;32mfor\u001b[0m \u001b[0mx\u001b[0m \u001b[0;32min\u001b[0m \u001b[0mactors\u001b[0m\u001b[0;34m]\u001b[0m\u001b[0;34m,\u001b[0m \u001b[0mnum_returns\u001b[0m\u001b[0;34m=\u001b[0m\u001b[0mlen\u001b[0m\u001b[0;34m(\u001b[0m\u001b[0mactors\u001b[0m\u001b[0;34m)\u001b[0m\u001b[0;34m)\u001b[0m  \u001b[0;31m# type: ignore\u001b[0m\u001b[0;34m\u001b[0m\u001b[0;34m\u001b[0m\u001b[0m\n\u001b[0m\u001b[1;32m    412\u001b[0m         \u001b[0mresults\u001b[0m \u001b[0;34m=\u001b[0m \u001b[0mray\u001b[0m\u001b[0;34m.\u001b[0m\u001b[0mget\u001b[0m\u001b[0;34m(\u001b[0m\u001b[0;34m[\u001b[0m\u001b[0mx\u001b[0m\u001b[0;34m.\u001b[0m\u001b[0mgets_source_info\u001b[0m\u001b[0;34m.\u001b[0m\u001b[0mremote\u001b[0m\u001b[0;34m(\u001b[0m\u001b[0;34m)\u001b[0m \u001b[0;32mfor\u001b[0m \u001b[0mx\u001b[0m \u001b[0;32min\u001b[0m \u001b[0mactors\u001b[0m\u001b[0;34m]\u001b[0m\u001b[0;34m)\u001b[0m\u001b[0;34m;\u001b[0m \u001b[0;32mdel\u001b[0m \u001b[0mactors\u001b[0m  \u001b[0;31m# type: ignore\u001b[0m\u001b[0;34m\u001b[0m\u001b[0;34m\u001b[0m\u001b[0m\n\u001b[1;32m    413\u001b[0m         \u001b[0mactor_result_dicts\u001b[0m \u001b[0;34m=\u001b[0m \u001b[0;34m[\u001b[0m\u001b[0;34m{\u001b[0m\u001b[0mk\u001b[0m\u001b[0;34m:\u001b[0m \u001b[0mv\u001b[0m \u001b[0;32mfor\u001b[0m \u001b[0mk\u001b[0m\u001b[0;34m,\u001b[0m \u001b[0mv\u001b[0m \u001b[0;32min\u001b[0m \u001b[0mx\u001b[0m\u001b[0;34m.\u001b[0m\u001b[0mitems\u001b[0m\u001b[0;34m(\u001b[0m\u001b[0;34m)\u001b[0m \u001b[0;32mif\u001b[0m \u001b[0mlen\u001b[0m\u001b[0;34m(\u001b[0m\u001b[0mv\u001b[0m\u001b[0;34m[\u001b[0m\u001b[0;34m'edge_list'\u001b[0m\u001b[0;34m]\u001b[0m\u001b[0;34m)\u001b[0m \u001b[0;34m>\u001b[0m \u001b[0;36m0\u001b[0m\u001b[0;34m}\u001b[0m \u001b[0;32mfor\u001b[0m \u001b[0mx\u001b[0m \u001b[0;32min\u001b[0m \u001b[0mresults\u001b[0m\u001b[0;34m]\u001b[0m\u001b[0;34m\u001b[0m\u001b[0;34m\u001b[0m\u001b[0m\n",
      "\u001b[0;32m~/.conda/envs/sanya_kg/lib/python3.6/site-packages/ray/_private/client_mode_hook.py\u001b[0m in \u001b[0;36mwrapper\u001b[0;34m(*args, **kwargs)\u001b[0m\n\u001b[1;32m     80\u001b[0m         \u001b[0;32mif\u001b[0m \u001b[0mclient_mode_should_convert\u001b[0m\u001b[0;34m(\u001b[0m\u001b[0;34m)\u001b[0m\u001b[0;34m:\u001b[0m\u001b[0;34m\u001b[0m\u001b[0;34m\u001b[0m\u001b[0m\n\u001b[1;32m     81\u001b[0m             \u001b[0;32mreturn\u001b[0m \u001b[0mgetattr\u001b[0m\u001b[0;34m(\u001b[0m\u001b[0mray\u001b[0m\u001b[0;34m,\u001b[0m \u001b[0mfunc\u001b[0m\u001b[0;34m.\u001b[0m\u001b[0m__name__\u001b[0m\u001b[0;34m)\u001b[0m\u001b[0;34m(\u001b[0m\u001b[0;34m*\u001b[0m\u001b[0margs\u001b[0m\u001b[0;34m,\u001b[0m \u001b[0;34m**\u001b[0m\u001b[0mkwargs\u001b[0m\u001b[0;34m)\u001b[0m\u001b[0;34m\u001b[0m\u001b[0;34m\u001b[0m\u001b[0m\n\u001b[0;32m---> 82\u001b[0;31m         \u001b[0;32mreturn\u001b[0m \u001b[0mfunc\u001b[0m\u001b[0;34m(\u001b[0m\u001b[0;34m*\u001b[0m\u001b[0margs\u001b[0m\u001b[0;34m,\u001b[0m \u001b[0;34m**\u001b[0m\u001b[0mkwargs\u001b[0m\u001b[0;34m)\u001b[0m\u001b[0;34m\u001b[0m\u001b[0;34m\u001b[0m\u001b[0m\n\u001b[0m\u001b[1;32m     83\u001b[0m \u001b[0;34m\u001b[0m\u001b[0m\n\u001b[1;32m     84\u001b[0m     \u001b[0;32mreturn\u001b[0m \u001b[0mwrapper\u001b[0m\u001b[0;34m\u001b[0m\u001b[0;34m\u001b[0m\u001b[0m\n",
      "\u001b[0;32m~/.conda/envs/sanya_kg/lib/python3.6/site-packages/ray/worker.py\u001b[0m in \u001b[0;36mwait\u001b[0;34m(object_refs, num_returns, timeout, fetch_local)\u001b[0m\n\u001b[1;32m   1791\u001b[0m             \u001b[0mtimeout_milliseconds\u001b[0m\u001b[0;34m,\u001b[0m\u001b[0;34m\u001b[0m\u001b[0;34m\u001b[0m\u001b[0m\n\u001b[1;32m   1792\u001b[0m             \u001b[0mworker\u001b[0m\u001b[0;34m.\u001b[0m\u001b[0mcurrent_task_id\u001b[0m\u001b[0;34m,\u001b[0m\u001b[0;34m\u001b[0m\u001b[0;34m\u001b[0m\u001b[0m\n\u001b[0;32m-> 1793\u001b[0;31m             \u001b[0mfetch_local\u001b[0m\u001b[0;34m,\u001b[0m\u001b[0;34m\u001b[0m\u001b[0;34m\u001b[0m\u001b[0m\n\u001b[0m\u001b[1;32m   1794\u001b[0m         )\n\u001b[1;32m   1795\u001b[0m         \u001b[0;32mreturn\u001b[0m \u001b[0mready_ids\u001b[0m\u001b[0;34m,\u001b[0m \u001b[0mremaining_ids\u001b[0m\u001b[0;34m\u001b[0m\u001b[0;34m\u001b[0m\u001b[0m\n",
      "\u001b[0;32mpython/ray/_raylet.pyx\u001b[0m in \u001b[0;36mray._raylet.CoreWorker.wait\u001b[0;34m()\u001b[0m\n",
      "\u001b[0;32mpython/ray/_raylet.pyx\u001b[0m in \u001b[0;36mray._raylet.check_status\u001b[0;34m()\u001b[0m\n",
      "\u001b[0;31mKeyboardInterrupt\u001b[0m: "
     ]
    },
    {
     "name": "stdout",
     "output_type": "stream",
     "text": [
      "\u001b[2m\u001b[36m(pid=748146)\u001b[0m Finished Edge: protein-pathway (protein = 10540, pathway = 2508); 117707 unique edges\n",
      "\u001b[2m\u001b[36m(pid=748154)\u001b[0m Finished Edge: protein-gomf (protein = 17807, gomf = 4430); 69816 unique edges\n"
     ]
    }
   ],
   "source": [
    "# combine data sources\n",
    "combined_edges = dict(edges.data_files, **ont.data_files)\n",
    "resource_info_loc = './resources/resource_info.txt'\n",
    "\n",
    "# initialize edge dictionary class\n",
    "master_edges = CreatesEdgeList(data_files=combined_edges, source_file=resource_info_loc)\n",
    "master_edges.runs_creates_knowledge_graph_edges(source_file=resource_info_loc, data_files=combined_edges, cpus=cpus)"
   ]
  },
  {
   "cell_type": "markdown",
   "metadata": {},
   "source": [
    "**Preview Master Edge Data**  \n",
    "Generate a table that includes each `edge-type`, its primary `relation`, example identifiers, and count of unique edges."
   ]
  },
  {
   "cell_type": "code",
   "execution_count": null,
   "metadata": {},
   "outputs": [
    {
     "data": {
      "text/plain": [
       "dict_keys(['chemical-protein', 'gene-disease', 'chemical-disease', 'rna-protein', 'variant-gene', 'chemical-molecule', 'protein-anatomy', 'protein-gocc', 'variant-phenotype', 'disease-phenotype', 'protein-cell', 'gene-rna', 'protein-gobp', 'protein-protein', 'rna-anatomy', 'protein-catalyst', 'chemical-pathway', 'chemical-inhibitor', 'gene-gene', 'transporter-chemical', 'gene-protein', 'chemical-gobp', 'gobp-pathway', 'chemical-gocc', 'protein-pathway', 'pathway-gomf', 'chemical-adr', 'protein-gomf', 'chemical-gene', 'rna-cell', 'chemical-phenotype', 'protein-cofactor', 'gene-pathway', 'chemical-indication', 'pathway-gocc', 'gene-phenotype', 'variant-disease', 'chemical-substrate', 'chemical-gomf'])"
      ]
     },
     "execution_count": 19,
     "metadata": {},
     "output_type": "execute_result"
    }
   ],
   "source": [
    "# # read in master edge dictionary\n",
    "master_edges = json.load(open('resources/Master_Edge_List_Dict.json', 'r'))\n",
    "master_edges.keys()"
   ]
  },
  {
   "cell_type": "code",
   "execution_count": null,
   "metadata": {},
   "outputs": [
    {
     "data": {
      "text/plain": [
       "685"
      ]
     },
     "execution_count": 20,
     "metadata": {},
     "output_type": "execute_result"
    }
   ],
   "source": [
    "# read in relation data\n",
    "relation_data = open('./resources/relations_data/RELATIONS_LABELS.txt').readlines()\n",
    "relation_dict = {x.split('\\t')[0]: x.split('\\t')[1].strip('\\n') for x in relation_data}\n",
    "len(relation_dict.keys())\n"
   ]
  },
  {
   "cell_type": "code",
   "execution_count": null,
   "metadata": {},
   "outputs": [],
   "source": [
    "relation_dict['DIDEO_00000041'] = 'is substrate of'"
   ]
  },
  {
   "cell_type": "code",
   "execution_count": null,
   "metadata": {},
   "outputs": [
    {
     "data": {
      "text/html": [
       "<div>\n",
       "<style scoped>\n",
       "    .dataframe tbody tr th:only-of-type {\n",
       "        vertical-align: middle;\n",
       "    }\n",
       "\n",
       "    .dataframe tbody tr th {\n",
       "        vertical-align: top;\n",
       "    }\n",
       "\n",
       "    .dataframe thead th {\n",
       "        text-align: right;\n",
       "    }\n",
       "</style>\n",
       "<table border=\"1\" class=\"dataframe\">\n",
       "  <thead>\n",
       "    <tr style=\"text-align: right;\">\n",
       "      <th></th>\n",
       "      <th>Edge Type</th>\n",
       "      <th>Relation</th>\n",
       "      <th>Example Edge</th>\n",
       "      <th>Unique Edges</th>\n",
       "    </tr>\n",
       "  </thead>\n",
       "  <tbody>\n",
       "    <tr>\n",
       "      <th>0</th>\n",
       "      <td>chemical-protein</td>\n",
       "      <td>RO_0002434</td>\n",
       "      <td>CHEBI_4592, PR_P07099</td>\n",
       "      <td>72564</td>\n",
       "    </tr>\n",
       "    <tr>\n",
       "      <th>1</th>\n",
       "      <td>gene-disease</td>\n",
       "      <td>RO_0003302</td>\n",
       "      <td>2, MONDO_0010200</td>\n",
       "      <td>13344</td>\n",
       "    </tr>\n",
       "    <tr>\n",
       "      <th>2</th>\n",
       "      <td>chemical-disease</td>\n",
       "      <td>RO_0002610</td>\n",
       "      <td>CHEBI_71223, MONDO_0018229</td>\n",
       "      <td>112863</td>\n",
       "    </tr>\n",
       "    <tr>\n",
       "      <th>3</th>\n",
       "      <td>rna-protein</td>\n",
       "      <td>RO_0002513</td>\n",
       "      <td>ENST00000499023, PR_O43660</td>\n",
       "      <td>28220</td>\n",
       "    </tr>\n",
       "    <tr>\n",
       "      <th>4</th>\n",
       "      <td>variant-gene</td>\n",
       "      <td>RO_0002566</td>\n",
       "      <td>rs367697256, 7476</td>\n",
       "      <td>236121</td>\n",
       "    </tr>\n",
       "    <tr>\n",
       "      <th>5</th>\n",
       "      <td>chemical-molecule</td>\n",
       "      <td>RO_0002436</td>\n",
       "      <td>CHEBI_35553, PR_P10635</td>\n",
       "      <td>393</td>\n",
       "    </tr>\n",
       "    <tr>\n",
       "      <th>6</th>\n",
       "      <td>protein-anatomy</td>\n",
       "      <td>RO_0001025</td>\n",
       "      <td>PR_P04217, UBERON_0001114</td>\n",
       "      <td>26815</td>\n",
       "    </tr>\n",
       "    <tr>\n",
       "      <th>7</th>\n",
       "      <td>protein-gocc</td>\n",
       "      <td>RO_0001025</td>\n",
       "      <td>PR_A0A024RBG1, GO_0005829</td>\n",
       "      <td>82524</td>\n",
       "    </tr>\n",
       "    <tr>\n",
       "      <th>8</th>\n",
       "      <td>variant-phenotype</td>\n",
       "      <td>RO_0003302</td>\n",
       "      <td>rs527236137, HP_0000556</td>\n",
       "      <td>4855</td>\n",
       "    </tr>\n",
       "    <tr>\n",
       "      <th>9</th>\n",
       "      <td>disease-phenotype</td>\n",
       "      <td>RO_0002200</td>\n",
       "      <td>MONDO_0010761, HP_0000510</td>\n",
       "      <td>444807</td>\n",
       "    </tr>\n",
       "    <tr>\n",
       "      <th>10</th>\n",
       "      <td>protein-cell</td>\n",
       "      <td>RO_0001025</td>\n",
       "      <td>PR_P04217, UBERON_0002113</td>\n",
       "      <td>75311</td>\n",
       "    </tr>\n",
       "    <tr>\n",
       "      <th>11</th>\n",
       "      <td>gene-rna</td>\n",
       "      <td>RO_0002511</td>\n",
       "      <td>81623, ENST00000382398</td>\n",
       "      <td>197370</td>\n",
       "    </tr>\n",
       "    <tr>\n",
       "      <th>12</th>\n",
       "      <td>protein-gobp</td>\n",
       "      <td>RO_0000056</td>\n",
       "      <td>PR_A0A075B6H7, GO_0002250</td>\n",
       "      <td>129426</td>\n",
       "    </tr>\n",
       "    <tr>\n",
       "      <th>13</th>\n",
       "      <td>protein-protein</td>\n",
       "      <td>RO_0002436</td>\n",
       "      <td>PR_P84085, PR_O15020</td>\n",
       "      <td>617499</td>\n",
       "    </tr>\n",
       "    <tr>\n",
       "      <th>14</th>\n",
       "      <td>rna-anatomy</td>\n",
       "      <td>RO_0001025</td>\n",
       "      <td>ENST00000359318, UBERON_0001987</td>\n",
       "      <td>474073</td>\n",
       "    </tr>\n",
       "    <tr>\n",
       "      <th>15</th>\n",
       "      <td>protein-catalyst</td>\n",
       "      <td>RO_0002436</td>\n",
       "      <td>PR_Q00266, CHEBI_15377</td>\n",
       "      <td>25136</td>\n",
       "    </tr>\n",
       "    <tr>\n",
       "      <th>16</th>\n",
       "      <td>chemical-pathway</td>\n",
       "      <td>RO_0000056</td>\n",
       "      <td>CHEBI_10033, R-HSA-1430728</td>\n",
       "      <td>29988</td>\n",
       "    </tr>\n",
       "    <tr>\n",
       "      <th>17</th>\n",
       "      <td>chemical-inhibitor</td>\n",
       "      <td>RO_0002449</td>\n",
       "      <td>CHEBI_28901, PR_P11509</td>\n",
       "      <td>273</td>\n",
       "    </tr>\n",
       "    <tr>\n",
       "      <th>18</th>\n",
       "      <td>gene-gene</td>\n",
       "      <td>RO_0002435</td>\n",
       "      <td>84220, 729540</td>\n",
       "      <td>1715</td>\n",
       "    </tr>\n",
       "    <tr>\n",
       "      <th>19</th>\n",
       "      <td>transporter-chemical</td>\n",
       "      <td>RO_0002020</td>\n",
       "      <td>PR_Q9NPD5, CHEBI_38545</td>\n",
       "      <td>91</td>\n",
       "    </tr>\n",
       "    <tr>\n",
       "      <th>20</th>\n",
       "      <td>gene-protein</td>\n",
       "      <td>RO_0002205</td>\n",
       "      <td>4836, PR_P30419</td>\n",
       "      <td>19527</td>\n",
       "    </tr>\n",
       "    <tr>\n",
       "      <th>21</th>\n",
       "      <td>chemical-gobp</td>\n",
       "      <td>RO_0002436</td>\n",
       "      <td>CHEBI_35299, GO_0048856</td>\n",
       "      <td>276381</td>\n",
       "    </tr>\n",
       "    <tr>\n",
       "      <th>22</th>\n",
       "      <td>gobp-pathway</td>\n",
       "      <td>RO_0009501</td>\n",
       "      <td>GO_0016567, R-HSA-8866654</td>\n",
       "      <td>672</td>\n",
       "    </tr>\n",
       "    <tr>\n",
       "      <th>23</th>\n",
       "      <td>chemical-gocc</td>\n",
       "      <td>RO_0002436</td>\n",
       "      <td>CHEBI_34568, GO_0005623</td>\n",
       "      <td>47920</td>\n",
       "    </tr>\n",
       "    <tr>\n",
       "      <th>24</th>\n",
       "      <td>protein-pathway</td>\n",
       "      <td>RO_0000056</td>\n",
       "      <td>PR_A0A075B6P5, R-HSA-109582</td>\n",
       "      <td>117707</td>\n",
       "    </tr>\n",
       "    <tr>\n",
       "      <th>25</th>\n",
       "      <td>pathway-gomf</td>\n",
       "      <td>RO_0000085</td>\n",
       "      <td>R-HSA-8876283, GO_0015370</td>\n",
       "      <td>2426</td>\n",
       "    </tr>\n",
       "    <tr>\n",
       "      <th>26</th>\n",
       "      <td>chemical-adr</td>\n",
       "      <td>RO_0003302</td>\n",
       "      <td>CHEBI_9648, HP_0003270</td>\n",
       "      <td>97720</td>\n",
       "    </tr>\n",
       "    <tr>\n",
       "      <th>27</th>\n",
       "      <td>protein-gomf</td>\n",
       "      <td>RO_0000085</td>\n",
       "      <td>PR_A0A024RBG1, GO_0003723</td>\n",
       "      <td>69816</td>\n",
       "    </tr>\n",
       "    <tr>\n",
       "      <th>28</th>\n",
       "      <td>chemical-gene</td>\n",
       "      <td>RO_0002434</td>\n",
       "      <td>CHEBI_28667, 348</td>\n",
       "      <td>16718</td>\n",
       "    </tr>\n",
       "    <tr>\n",
       "      <th>29</th>\n",
       "      <td>rna-cell</td>\n",
       "      <td>RO_0001025</td>\n",
       "      <td>ENST00000488147, CL_0000057</td>\n",
       "      <td>33152</td>\n",
       "    </tr>\n",
       "    <tr>\n",
       "      <th>30</th>\n",
       "      <td>chemical-phenotype</td>\n",
       "      <td>RO_0002610</td>\n",
       "      <td>CHEBI_34026, HP_0000137</td>\n",
       "      <td>81939</td>\n",
       "    </tr>\n",
       "    <tr>\n",
       "      <th>31</th>\n",
       "      <td>protein-cofactor</td>\n",
       "      <td>RO_0002436</td>\n",
       "      <td>PR_Q00266, CHEBI_18420</td>\n",
       "      <td>1998</td>\n",
       "    </tr>\n",
       "    <tr>\n",
       "      <th>32</th>\n",
       "      <td>gene-pathway</td>\n",
       "      <td>RO_0000056</td>\n",
       "      <td>1, R-HSA-109582</td>\n",
       "      <td>107009</td>\n",
       "    </tr>\n",
       "    <tr>\n",
       "      <th>33</th>\n",
       "      <td>chemical-indication</td>\n",
       "      <td>RO_0002606</td>\n",
       "      <td>CHEBI_157175, MONDO_0001080</td>\n",
       "      <td>6505</td>\n",
       "    </tr>\n",
       "    <tr>\n",
       "      <th>34</th>\n",
       "      <td>pathway-gocc</td>\n",
       "      <td>RO_0002180</td>\n",
       "      <td>R-HSA-166753, GO_0005576</td>\n",
       "      <td>16014</td>\n",
       "    </tr>\n",
       "    <tr>\n",
       "      <th>35</th>\n",
       "      <td>gene-phenotype</td>\n",
       "      <td>RO_0003302</td>\n",
       "      <td>1, HP_0002240</td>\n",
       "      <td>24695</td>\n",
       "    </tr>\n",
       "    <tr>\n",
       "      <th>36</th>\n",
       "      <td>variant-disease</td>\n",
       "      <td>RO_0003302</td>\n",
       "      <td>rs146691368, MONDO_0018477</td>\n",
       "      <td>69965</td>\n",
       "    </tr>\n",
       "    <tr>\n",
       "      <th>37</th>\n",
       "      <td>chemical-substrate</td>\n",
       "      <td>DIDEO_00000041</td>\n",
       "      <td>CHEBI_135737, PR_P33261</td>\n",
       "      <td>514</td>\n",
       "    </tr>\n",
       "    <tr>\n",
       "      <th>38</th>\n",
       "      <td>chemical-gomf</td>\n",
       "      <td>RO_0002436</td>\n",
       "      <td>CHEBI_34568, GO_0005488</td>\n",
       "      <td>28181</td>\n",
       "    </tr>\n",
       "  </tbody>\n",
       "</table>\n",
       "</div>"
      ],
      "text/plain": [
       "               Edge Type        Relation                     Example Edge  \\\n",
       "0       chemical-protein      RO_0002434            CHEBI_4592, PR_P07099   \n",
       "1           gene-disease      RO_0003302                 2, MONDO_0010200   \n",
       "2       chemical-disease      RO_0002610       CHEBI_71223, MONDO_0018229   \n",
       "3            rna-protein      RO_0002513       ENST00000499023, PR_O43660   \n",
       "4           variant-gene      RO_0002566                rs367697256, 7476   \n",
       "5      chemical-molecule      RO_0002436           CHEBI_35553, PR_P10635   \n",
       "6        protein-anatomy      RO_0001025        PR_P04217, UBERON_0001114   \n",
       "7           protein-gocc      RO_0001025        PR_A0A024RBG1, GO_0005829   \n",
       "8      variant-phenotype      RO_0003302          rs527236137, HP_0000556   \n",
       "9      disease-phenotype      RO_0002200        MONDO_0010761, HP_0000510   \n",
       "10          protein-cell      RO_0001025        PR_P04217, UBERON_0002113   \n",
       "11              gene-rna      RO_0002511           81623, ENST00000382398   \n",
       "12          protein-gobp      RO_0000056        PR_A0A075B6H7, GO_0002250   \n",
       "13       protein-protein      RO_0002436             PR_P84085, PR_O15020   \n",
       "14           rna-anatomy      RO_0001025  ENST00000359318, UBERON_0001987   \n",
       "15      protein-catalyst      RO_0002436           PR_Q00266, CHEBI_15377   \n",
       "16      chemical-pathway      RO_0000056       CHEBI_10033, R-HSA-1430728   \n",
       "17    chemical-inhibitor      RO_0002449           CHEBI_28901, PR_P11509   \n",
       "18             gene-gene      RO_0002435                    84220, 729540   \n",
       "19  transporter-chemical      RO_0002020           PR_Q9NPD5, CHEBI_38545   \n",
       "20          gene-protein      RO_0002205                  4836, PR_P30419   \n",
       "21         chemical-gobp      RO_0002436          CHEBI_35299, GO_0048856   \n",
       "22          gobp-pathway      RO_0009501        GO_0016567, R-HSA-8866654   \n",
       "23         chemical-gocc      RO_0002436          CHEBI_34568, GO_0005623   \n",
       "24       protein-pathway      RO_0000056      PR_A0A075B6P5, R-HSA-109582   \n",
       "25          pathway-gomf      RO_0000085        R-HSA-8876283, GO_0015370   \n",
       "26          chemical-adr      RO_0003302           CHEBI_9648, HP_0003270   \n",
       "27          protein-gomf      RO_0000085        PR_A0A024RBG1, GO_0003723   \n",
       "28         chemical-gene      RO_0002434                 CHEBI_28667, 348   \n",
       "29              rna-cell      RO_0001025      ENST00000488147, CL_0000057   \n",
       "30    chemical-phenotype      RO_0002610          CHEBI_34026, HP_0000137   \n",
       "31      protein-cofactor      RO_0002436           PR_Q00266, CHEBI_18420   \n",
       "32          gene-pathway      RO_0000056                  1, R-HSA-109582   \n",
       "33   chemical-indication      RO_0002606      CHEBI_157175, MONDO_0001080   \n",
       "34          pathway-gocc      RO_0002180         R-HSA-166753, GO_0005576   \n",
       "35        gene-phenotype      RO_0003302                    1, HP_0002240   \n",
       "36       variant-disease      RO_0003302       rs146691368, MONDO_0018477   \n",
       "37    chemical-substrate  DIDEO_00000041          CHEBI_135737, PR_P33261   \n",
       "38         chemical-gomf      RO_0002436          CHEBI_34568, GO_0005488   \n",
       "\n",
       "    Unique Edges  \n",
       "0          72564  \n",
       "1          13344  \n",
       "2         112863  \n",
       "3          28220  \n",
       "4         236121  \n",
       "5            393  \n",
       "6          26815  \n",
       "7          82524  \n",
       "8           4855  \n",
       "9         444807  \n",
       "10         75311  \n",
       "11        197370  \n",
       "12        129426  \n",
       "13        617499  \n",
       "14        474073  \n",
       "15         25136  \n",
       "16         29988  \n",
       "17           273  \n",
       "18          1715  \n",
       "19            91  \n",
       "20         19527  \n",
       "21        276381  \n",
       "22           672  \n",
       "23         47920  \n",
       "24        117707  \n",
       "25          2426  \n",
       "26         97720  \n",
       "27         69816  \n",
       "28         16718  \n",
       "29         33152  \n",
       "30         81939  \n",
       "31          1998  \n",
       "32        107009  \n",
       "33          6505  \n",
       "34         16014  \n",
       "35         24695  \n",
       "36         69965  \n",
       "37           514  \n",
       "38         28181  "
      ]
     },
     "execution_count": 22,
     "metadata": {},
     "output_type": "execute_result"
    }
   ],
   "source": [
    "# print basic stats on each resource\n",
    "edge_data = [[key, master_edges[key]['edge_relation'],\n",
    "              ', '.join(master_edges[key]['edge_list'][0]),\n",
    "              len(master_edges[key]['edge_list'])]\n",
    "             for key in master_edges.keys()]\n",
    "\n",
    "# convert dict to pandas df for nice printing\n",
    "df = pandas.DataFrame(edge_data, columns = ['Edge Type', 'Relation', 'Example Edge', 'Unique Edges']) \n",
    "df  "
   ]
  },
  {
   "cell_type": "code",
   "execution_count": null,
   "metadata": {},
   "outputs": [],
   "source": [
    "df.to_csv('resources/edge_data/edge_counts.tsv', sep='\\t', index=False)"
   ]
  },
  {
   "cell_type": "markdown",
   "metadata": {},
   "source": [
    "<br><br>"
   ]
  },
  {
   "cell_type": "markdown",
   "metadata": {},
   "source": [
    "***\n",
    "\n",
    "## Build Knowledge Graph  <a class=\"anchor\" id=\"build-kg\"></a>\n",
    "**Wiki Pages:**  \n",
    "- **[`KG-Construction`](https://github.com/callahantiff/PheKnowLator/wiki/KG-Construction)**  \n",
    "- **[`relations-data`](https://github.com/callahantiff/PheKnowLator/wiki/Dependencies#relations-data)**  \n",
    "- **[`node-metadata`](https://github.com/callahantiff/PheKnowLator/wiki/Dependencies#node-metadata)** \n",
    "\n",
    "**Jupyter Notebooks:**  \n",
    "- [`Data_Preparation.ipynb`](https://github.com/callahantiff/PheKnowLator/blob/master/notebooks/Data_Preparation.ipynb)  \n",
    "[`Ontology_Cleaning.ipynb`](https://github.com/callahantiff/PheKnowLator/blob/master/notebooks/Ontology_Cleaning.ipynb)  \n",
    "\n",
    "\n",
    "<br>\n",
    "\n",
    "**Assumptions:**  \n",
    "- <u>Construction Approach</u>. If using the `subclass-based` construction approach, please make sure that a `pickled` dictionary mapping each non-ontology data node to an existing ontology class is created and added to the `./resources/knowledge_graph` directory (please see [here](https://github.com/callahantiff/PheKnowLator/tree/master/resources/knowledge_graphs#construction-method) for additional information).   \n",
    "- <u>Relations Data</u>. If inverse relation data is going to be used to build the knowledge graph, that it has been generated and added to the `./resources/relations_data` directory (please see [here](https://github.com/callahantiff/PheKnowLator/blob/master/resources/relations_data/README.md) for additional information).  \n",
    "- <u>Node Metadata</u>. If node metadata is going to be used to build the knowledge graph, that it has been generated and added to the `./resources/node_metadata` directory (please see [here](https://github.com/callahantiff/PheKnowLator/blob/master/resources/node_data/README.md) for additional information).  \n",
    "- <u>Decoding OWL Semantics</u>. If decoding OWL-Semantics, please make sure to provide a list of owl:Property types to keep is created and added to the `./resources/knowledge_graph` directory (please see [here](https://github.com/callahantiff/PheKnowLator/wiki/OWL-NETS-2.0) for additional information). \n",
    "\n",
    "<br>\n",
    "\n",
    "**Input:** \n",
    "- `Master_Edge_List_Dict.json`  \n",
    "- Directory of relations data sources - see [here](https://github.com/callahantiff/PheKnowLator/wiki/Dependencies#relations-data) for more information\n",
    "- Directory of node data sources - see [here](https://github.com/callahantiff/PheKnowLator/wiki/Dependencies#node-metadata) for more information\n",
    "\n",
    "<br>\n",
    "\n",
    "**Output:** Please see [`Release v2.0.0 Wiki`](https://github.com/callahantiff/PheKnowLator/wiki/v2.0.0) for access to all generated output files.   \n",
    "- `Knowledge Graph` (`.owl` and Networkx MultiDiGraph `.pkl`)  \n",
    "- `Class Instance URI-UUID Map` (if \"instance\" construction approach)   \n",
    "- `Triple List - Integer`  \n",
    "- `Triple List - Identifier`  \n",
    "- `Node Integer-Identifier Map`  \n",
    "- `Node Attribute Data`  \n",
    "\n",
    "<br>\n",
    "\n",
    "The process to build the knowledge graph is somewhat time consuming and can be broken into the following steps:  \n",
    "\n",
    "1. Merge Ontologies. See [here](https://github.com/callahantiff/PheKnowLator/blob/master/resources/ontologies/README.md) for additional information on how to preprocess the ontologies prior to merging them.    \n",
    "\n",
    "2. Create Edges. Add edge lists to merged ontologies.  \n",
    "\n",
    "3. Add Inverse Relations and Node Data. See the [Dependencies](https://github.com/callahantiff/PheKnowLator/wiki/Dependencies) Wiki page for details on how to construct these resources.  \n",
    "\n",
    "4. Filter OWL Semantics. Filter the knowledge graph with the goal of removing all edges that contain entities that are needed to support owl semantics, but are not biologically meaningful (please see [here](https://github.com/callahantiff/PheKnowLator/wiki/OWL-NETS-2.0) for additional information).\n",
    "\n",
    "5. Save Edge Lists and Node Metadata. Several versions of the knowledge graph are saved, including: the full knowledge graph (`owl` or Networkx MultiDiGraph `pickle`), triple lists (i.e. integer index and identifier labeled edge lists with a dictionary that maps between the integer indices and node identifiers), and a file of metadata (i.e. identifiers, labels, synonyms, and descriptions) for all nodes in the knowledge graph.  \n",
    "\n",
    "<br>\n",
    "\n",
    "**‼ IMPORTANT:**  \n",
    "- The file containing the merged ontologies is quite large and can take up to 30 minutes to read in.  This is not a limitation of the code directly, but rather a function of the [`RDFLib Library`](https://github.com/RDFLib). While there are other ways to read in this data, we maintain reliance on this library as it is the most user-friendly for non-RDF users.   \n",
    "- If you'd like to include [node metadata](https://github.com/callahantiff/PheKnowLator/wiki/Dependencies#node-metadata) when building the knowledge graph, please hold off on building the knowledge graph until you have generated the node data. For details on how to do this see the [node metadata](https://github.com/callahantiff/PheKnowLator/wiki/Dependencies#node-metadata) section of the `Dependencies` Wiki Page or help for help with generating the data, please see the []() section of the [`Data_Preparation.ipynb`](https://github.com/callahantiff/PheKnowLator/blob/master/notebooks/Data_Preparation.ipynb) Jupyter Notebook.\n",
    "\n",
    "***\n"
   ]
  },
  {
   "cell_type": "code",
   "execution_count": null,
   "metadata": {},
   "outputs": [],
   "source": [
    "# specify input arguments\n",
    "build = 'full'\n",
    "construction_approach = 'instance'\n",
    "add_node_data_to_kg = 'yes'\n",
    "add_inverse_relations_to_kg = 'yes'\n",
    "decode_owl_semantics = 'yes'\n",
    "kg_directory_location = './resources/knowledge_graphs'"
   ]
  },
  {
   "cell_type": "code",
   "execution_count": null,
   "metadata": {},
   "outputs": [
    {
     "name": "stdout",
     "output_type": "stream",
     "text": [
      "\n",
      "### Starting Knowledge Graph Build: FULL ###\n",
      "*** Loading Relations Data ***\n",
      "Loading and Processing Relation Data\n",
      "*** Loading Merged Ontologies ***\n",
      "Merged Ontologies Graph Stats: 19408225 triples, 7111264 nodes, 330 predicates, 834761 classes, 36 individuals, 867 object props, 700 annotation props\n",
      "*** Loading Node Metadata Data ***\n",
      "Loading and Processing Node Metadata\n",
      "\n",
      "Extracting Class and Relation Metadata\n"
     ]
    },
    {
     "name": "stderr",
     "output_type": "stream",
     "text": [
      "100%|██████████| 653154/653154 [01:53<00:00, 5762.66it/s]\n",
      "100%|██████████| 867/867 [00:00<00:00, 4118.58it/s]\n"
     ]
    },
    {
     "name": "stdout",
     "output_type": "stream",
     "text": [
      "*** Splitting Graph ***\n",
      "Adding Namespace to BNodes\n",
      "Creating Logic and Annotation Subsets of Graph\n"
     ]
    },
    {
     "name": "stderr",
     "output_type": "stream",
     "text": [
      "100%|██████████| 2185081/2185081 [26:25<00:00, 1378.60it/s] \n"
     ]
    },
    {
     "name": "stdout",
     "output_type": "stream",
     "text": [
      "Annotation Assertions (n=13123839 Triples)\n",
      "Creating Logic Graph (n=6284386 Triples)\n"
     ]
    },
    {
     "name": "stderr",
     "output_type": "stream",
     "text": [
      "100%|██████████| 6284386/6284386 [03:15<00:00, 32143.96it/s] \n"
     ]
    },
    {
     "name": "stdout",
     "output_type": "stream",
     "text": [
      "Merged Ontologies - Logic Subset Graph Stats: 6284386 triples, 2150113 nodes, 49 predicates, 834761 classes, 36 individuals, 867 object props, 700 annotation props\n",
      "\n",
      "*** Building Knowledge Graph Edges ***\n",
      "\u001b[2m\u001b[36m(pid=548079)\u001b[0m \n",
      "\u001b[2m\u001b[36m(pid=548079)\u001b[0m Created CHEMICAL-PROTEIN (class-class) Edges: 362676 OWL Edges, 72535 Original Edges; 157375 OWL Nodes, Original Nodes: 4345 chemical(s), 7957 protein(s)\n",
      "\u001b[2m\u001b[36m(pid=547749)\u001b[0m \n",
      "\u001b[2m\u001b[36m(pid=547749)\u001b[0m Created CHEMICAL-ADR (class-class) Edges: 388151 OWL Edges, 77630 Original Edges; 158459 OWL Nodes, Original Nodes: 974 chemical(s), 2222 adr(s)\n",
      "\u001b[2m\u001b[36m(pid=547905)\u001b[0m \n",
      "\u001b[2m\u001b[36m(pid=547905)\u001b[0m Created CHEMICAL-PHENOTYPE (class-class) Edges: 406391 OWL Edges, 81278 Original Edges; 167410 OWL Nodes, Original Nodes: 3254 chemical(s), 1597 phenotype(s)\n",
      "\u001b[2m\u001b[36m(pid=547989)\u001b[0m \n",
      "\u001b[2m\u001b[36m(pid=547989)\u001b[0m Created PROTEIN-CELL (class-class) Edges: 441140 OWL Edges, 147046 Original Edges; 157219 OWL Nodes, Original Nodes: 10044 protein(s), 125 cell(s)\n",
      "\u001b[2m\u001b[36m(pid=547841)\u001b[0m \n",
      "\u001b[2m\u001b[36m(pid=547841)\u001b[0m Created PROTEIN-GOCC (class-class) Edges: 490664 OWL Edges, 163554 Original Edges; 183693 OWL Nodes, Original Nodes: 18434 protein(s), 1701 gocc(s)\n",
      "\u001b[2m\u001b[36m(pid=547749)\u001b[0m \n",
      "\u001b[2m\u001b[36m(pid=547749)\u001b[0m Created CHEMICAL-GOMF (class-class) Edges: 134376 OWL Edges, 26875 Original Edges; 55096 OWL Nodes, Original Nodes: 1141 chemical(s), 202 gomf(s)\n",
      "\u001b[2m\u001b[36m(pid=548079)\u001b[0m \n",
      "\u001b[2m\u001b[36m(pid=548079)\u001b[0m Created CHEMICAL-GOCC (class-class) Edges: 179276 OWL Edges, 35855 Original Edges; 73027 OWL Nodes, Original Nodes: 1092 chemical(s), 222 gocc(s)\n",
      "\u001b[2m\u001b[36m(pid=548265)\u001b[0m \n",
      "\u001b[2m\u001b[36m(pid=548265)\u001b[0m Created VARIANT-DISEASE (entity-class) Edges: 389052 OWL Edges, 68634 Original Edges; 164782 OWL Nodes, Original Nodes: 22746 variant(s), 4758 disease(s)\n",
      "\u001b[2m\u001b[36m(pid=547749)\u001b[0m \n",
      "\u001b[2m\u001b[36m(pid=547749)\u001b[0m Created CHEMICAL-INDICATION (class-class) Edges: 37700 OWL Edges, 12566 Original Edges; 15052 OWL Nodes, Original Nodes: 1719 chemical(s), 763 indication(s)\n",
      "\u001b[2m\u001b[36m(pid=547580)\u001b[0m \n",
      "\u001b[2m\u001b[36m(pid=547580)\u001b[0m Created CHEMICAL-DISEASE (class-class) Edges: 547246 OWL Edges, 109449 Original Edges; 225984 OWL Nodes, Original Nodes: 3425 chemical(s), 3658 disease(s)\n",
      "\u001b[2m\u001b[36m(pid=547749)\u001b[0m \n",
      "\u001b[2m\u001b[36m(pid=547749)\u001b[0m Created GOBP-PATHWAY (class-entity) Edges: 5839 OWL Edges, 666 Original Edges; 2505 OWL Nodes, Original Nodes: 474 gobp(s), 666 pathway(s)\n",
      "\u001b[2m\u001b[36m(pid=547749)\u001b[0m \n",
      "\u001b[2m\u001b[36m(pid=547749)\u001b[0m Created CHEMICAL-SUBSTRATE (class-class) Edges: 2511 OWL Edges, 502 Original Edges; 1323 OWL Nodes, Original Nodes: 283 chemical(s), 33 substrate(s)\n",
      "\u001b[2m\u001b[36m(pid=547749)\u001b[0m \n",
      "\u001b[2m\u001b[36m(pid=547749)\u001b[0m Created CHEMICAL-INHIBITOR (class-class) Edges: 1316 OWL Edges, 263 Original Edges; 681 OWL Nodes, Original Nodes: 123 chemical(s), 29 inhibitor(s)\n",
      "\u001b[2m\u001b[36m(pid=548079)\u001b[0m \n",
      "\u001b[2m\u001b[36m(pid=548079)\u001b[0m Created GENE-DISEASE (entity-class) Edges: 76747 OWL Edges, 13341 Original Edges; 36192 OWL Nodes, Original Nodes: 5056 gene(s), 4482 disease(s)\n",
      "\u001b[2m\u001b[36m(pid=547905)\u001b[0m \n",
      "\u001b[2m\u001b[36m(pid=547905)\u001b[0m Created CHEMICAL-PATHWAY (class-entity) Edges: 186159 OWL Edges, 59904 Original Edges; 65135 OWL Nodes, Original Nodes: 2245 chemical(s), 2240 pathway(s)\n",
      "\u001b[2m\u001b[36m(pid=547580)\u001b[0m \n",
      "\u001b[2m\u001b[36m(pid=547580)\u001b[0m Created CHEMICAL-GENE (class-entity) Edges: 107082 OWL Edges, 16661 Original Edges; 45702 OWL Nodes, Original Nodes: 472 chemical(s), 11923 gene(s)\n",
      "\u001b[2m\u001b[36m(pid=547580)\u001b[0m \n",
      "\u001b[2m\u001b[36m(pid=547580)\u001b[0m Created PATHWAY-GOMF (entity-class) Edges: 19334 OWL Edges, 4798 Original Edges; 7978 OWL Nodes, Original Nodes: 2395 pathway(s), 721 gomf(s)\n",
      "\u001b[2m\u001b[36m(pid=547841)\u001b[0m \n",
      "\u001b[2m\u001b[36m(pid=547841)\u001b[0m Created RNA-PROTEIN (entity-class) Edges: 253934 OWL Edges, 56428 Original Edges; 103584 OWL Nodes, Original Nodes: 28214 rna(s), 18931 protein(s)\n",
      "\u001b[2m\u001b[36m(pid=547989)\u001b[0m \n",
      "\u001b[2m\u001b[36m(pid=547989)\u001b[0m Created RNA-CELL (entity-class) Edges: 228492 OWL Edges, 66304 Original Edges; 76189 OWL Nodes, Original Nodes: 10052 rna(s), 4 cell(s)\n",
      "\u001b[2m\u001b[36m(pid=547580)\u001b[0m \n",
      "\u001b[2m\u001b[36m(pid=547580)\u001b[0m Created GENE-GENE (entity-entity) Edges: 9191 OWL Edges, 1715 Original Edges; 3744 OWL Nodes, Original Nodes: 239 gene(s), 251 gene(s)\n",
      "\u001b[2m\u001b[36m(pid=547406)\u001b[0m \n",
      "\u001b[2m\u001b[36m(pid=547406)\u001b[0m Created PROTEIN-GOBP (class-class) Edges: 772310 OWL Edges, 257436 Original Edges; 286976 OWL Nodes, Original Nodes: 17395 protein(s), 12141 gobp(s)\n",
      "\u001b[2m\u001b[36m(pid=547406)\u001b[0m \n",
      "\u001b[2m\u001b[36m(pid=547406)\u001b[0m Created VARIANT-PHENOTYPE (entity-class) Edges: 30044 OWL Edges, 4713 Original Edges; 13172 OWL Nodes, Original Nodes: 3216 variant(s), 520 phenotype(s)\n",
      "\u001b[2m\u001b[36m(pid=547905)\u001b[0m \n",
      "\u001b[2m\u001b[36m(pid=547905)\u001b[0m Created GENE-PROTEIN (entity-class) Edges: 155687 OWL Edges, 39020 Original Edges; 77454 OWL Nodes, Original Nodes: 19310 gene(s), 19114 protein(s)\n",
      "\u001b[2m\u001b[36m(pid=547905)\u001b[0m \n",
      "\u001b[2m\u001b[36m(pid=547905)\u001b[0m Created PROTEIN-COFACTOR (class-class) Edges: 9791 OWL Edges, 1958 Original Edges; 5544 OWL Nodes, Original Nodes: 1581 protein(s), 44 cofactor(s)\n",
      "\u001b[2m\u001b[36m(pid=547989)\u001b[0m \n",
      "\u001b[2m\u001b[36m(pid=547989)\u001b[0m Created PROTEIN-CATALYST (class-class) Edges: 118891 OWL Edges, 23778 Original Edges; 54352 OWL Nodes, Original Nodes: 3045 protein(s), 3748 catalyst(s)\n",
      "\u001b[2m\u001b[36m(pid=547905)\u001b[0m \n",
      "\u001b[2m\u001b[36m(pid=547905)\u001b[0m Created CHEMICAL-MOLECULE (class-class) Edges: 1921 OWL Edges, 384 Original Edges; 1016 OWL Nodes, Original Nodes: 208 chemical(s), 37 molecule(s)\n",
      "\u001b[2m\u001b[36m(pid=547989)\u001b[0m \n",
      "\u001b[2m\u001b[36m(pid=547989)\u001b[0m Created TRANSPORTER-CHEMICAL (class-class) Edges: 456 OWL Edges, 91 Original Edges; 254 OWL Nodes, Original Nodes: 11 transporter(s), 58 chemical(s)\n",
      "\u001b[2m\u001b[36m(pid=547841)\u001b[0m \n",
      "\u001b[2m\u001b[36m(pid=547841)\u001b[0m Created GENE-PHENOTYPE (entity-class) Edges: 136407 OWL Edges, 24587 Original Edges; 57519 OWL Nodes, Original Nodes: 6783 gene(s), 1590 phenotype(s)\n",
      "\u001b[2m\u001b[36m(pid=548265)\u001b[0m \n",
      "\u001b[2m\u001b[36m(pid=548265)\u001b[0m Created PROTEIN-GOMF (class-class) Edges: 414956 OWL Edges, 138318 Original Edges; 160500 OWL Nodes, Original Nodes: 17805 protein(s), 4373 gomf(s)\n",
      "\u001b[2m\u001b[36m(pid=547487)\u001b[0m \n",
      "\u001b[2m\u001b[36m(pid=547487)\u001b[0m Created PROTEIN-PATHWAY (class-entity) Edges: 712538 OWL Edges, 235148 Original Edges; 248976 OWL Nodes, Original Nodes: 10540 protein(s), 2505 pathway(s)\n",
      "\u001b[2m\u001b[36m(pid=547664)\u001b[0m \n",
      "\u001b[2m\u001b[36m(pid=547664)\u001b[0m Created GENE-PATHWAY (entity-entity) Edges: 654911 OWL Edges, 209606 Original Edges; 222445 OWL Nodes, Original Nodes: 10367 gene(s), 1807 pathway(s)\n",
      "\u001b[2m\u001b[36m(pid=547487)\u001b[0m \n",
      "\u001b[2m\u001b[36m(pid=547487)\u001b[0m Created PATHWAY-GOCC (entity-class) Edges: 102828 OWL Edges, 15960 Original Edges; 43423 OWL Nodes, Original Nodes: 11222 pathway(s), 98 gocc(s)\n",
      "\u001b[2m\u001b[36m(pid=547664)\u001b[0m \n",
      "\u001b[2m\u001b[36m(pid=547664)\u001b[0m Created PROTEIN-ANATOMY (class-class) Edges: 160880 OWL Edges, 53626 Original Edges; 64808 OWL Nodes, Original Nodes: 11115 protein(s), 63 anatomy(s)\n",
      "\u001b[2m\u001b[36m(pid=547174)\u001b[0m \n",
      "\u001b[2m\u001b[36m(pid=547174)\u001b[0m Created CHEMICAL-GOBP (class-class) Edges: 1349976 OWL Edges, 269995 Original Edges; 542747 OWL Nodes, Original Nodes: 1282 chemical(s), 1472 gobp(s)\n",
      "\u001b[2m\u001b[36m(pid=547341)\u001b[0m \n",
      "\u001b[2m\u001b[36m(pid=547341)\u001b[0m Created GENE-RNA (entity-entity) Edges: 1581181 OWL Edges, 394740 Original Edges; 535539 OWL Nodes, Original Nodes: 25392 gene(s), 194965 rna(s)\n",
      "\u001b[2m\u001b[36m(pid=547254)\u001b[0m \n",
      "\u001b[2m\u001b[36m(pid=547254)\u001b[0m Created VARIANT-GENE (entity-entity) Edges: 1898331 OWL Edges, 472242 Original Edges; 712617 OWL Nodes, Original Nodes: 236121 variant(s), 4233 gene(s)\n",
      "\u001b[2m\u001b[36m(pid=547112)\u001b[0m \n",
      "\u001b[2m\u001b[36m(pid=547112)\u001b[0m Created DISEASE-PHENOTYPE (class-class) Edges: 2601518 OWL Edges, 867172 Original Edges; 889148 OWL Nodes, Original Nodes: 11892 disease(s), 10080 phenotype(s)\n",
      "\u001b[2m\u001b[36m(pid=546968)\u001b[0m \n",
      "\u001b[2m\u001b[36m(pid=546968)\u001b[0m Created PROTEIN-PROTEIN (class-class) Edges: 3087496 OWL Edges, 617499 Original Edges; 1249142 OWL Nodes, Original Nodes: 14141 protein(s), 14141 protein(s)\n",
      "\u001b[2m\u001b[36m(pid=547027)\u001b[0m \n",
      "\u001b[2m\u001b[36m(pid=547027)\u001b[0m Created RNA-ANATOMY (entity-class) Edges: 2881998 OWL Edges, 937674 Original Edges; 960788 OWL Nodes, Original Nodes: 26693 rna(s), 97 anatomy(s)\n",
      "Full Logic Graph Stats: 26825799 triples, 9569816 nodes, 76 predicates, 1269316 classes, 6985184 individuals, 867 object props, 700 annotation props\n",
      "Converting Knowledge Graph to MultiDiGraph\n"
     ]
    },
    {
     "name": "stderr",
     "output_type": "stream",
     "text": [
      "100%|██████████| 26825799/26825799 [1:08:24<00:00, 6535.85it/s] \n"
     ]
    },
    {
     "name": "stdout",
     "output_type": "stream",
     "text": [
      "Pickling MultiDiGraph\n",
      "Generating Network Statistics\n",
      "Full Logic Subset (OWL) Graph Stats: 9569816 nodes, 26825799 edges, 3 self-loops, 5 most most common edges: http://www.w3.org/1999/02/22-rdf-syntax-ns#type:16146584, http://www.w3.org/2000/01/rdf-schema#subClassOf:2137920, http://purl.obolibrary.org/obo/RO_0002436:976326, http://www.w3.org/2002/07/owl#onProperty:847767, http://www.w3.org/2002/07/owl#someValuesFrom:845648, http://purl.obolibrary.org/obo/RO_0001015:681177, average degree 2.8031676889085433, 5 highest degree nodes: http://www.w3.org/2002/07/owl#NamedIndividual:6985184, http://www.w3.org/2002/07/owl#Class:1269316, http://www.w3.org/2002/07/owl#Restriction:847767, http://purl.obolibrary.org/obo/RO_0002160:410053, http://purl.obolibrary.org/obo/SO_0001483:214262, http://purl.obolibrary.org/obo/SO_0001217:189353, density: 2.929176466743133e-07, 2 component(s): {0: 9569809, 1: '7 nodes: http://purl.obolibrary.org/obo/bfo/2014-05-03/classes-only.owl | http://purl.obolibrary.org/obo/iao/2017-03-24/iao.owl | http://purl.obolibrary.org/obo/clo.owl | http://www.w3.org/2002/07/owl#Ontology | http://purl.obolibrary.org/obo/po/imports/ro_import.owl | http://purl.obolibrary.org/obo/po/imports/ncbitaxon_import.owl | http://purl.obolibrary.org/obo/ro/core.owl'}\n",
      "Post-processing pkt-kg-Namespaced Anonymous Nodes\n",
      "Identifying BNodes with Namespace: https://github.com/callahantiff/PheKnowLator/pkt/bnode/\n",
      "Identifying BNodes\n",
      "Removing Namespace from BNodes\n",
      "Finalizing Updated Graph\n",
      "\n",
      "*** Running OWL-NETS ***\n"
     ]
    },
    {
     "name": "stderr",
     "output_type": "stream",
     "text": [
      "  0%|          | 0/17 [00:00<?, ?it/s]"
     ]
    },
    {
     "name": "stdout",
     "output_type": "stream",
     "text": [
      "Removing owl:disjointWith Axioms\n",
      "Filtering Triples\n"
     ]
    },
    {
     "name": "stderr",
     "output_type": "stream",
     "text": [
      "100%|██████████| 6281970/6281970 [05:23<00:00, 19389.36it/s]\n"
     ]
    },
    {
     "name": "stdout",
     "output_type": "stream",
     "text": [
      "\u001b[2m\u001b[36m(pid=583162)\u001b[0m Decoding 43028 OWL Classes and Axioms\n",
      "\u001b[2m\u001b[36m(pid=583290)\u001b[0m Decoding 43028 OWL Classes and Axioms\n",
      "\u001b[2m\u001b[36m(pid=583437)\u001b[0m Decoding 43028 OWL Classes and Axioms\n",
      "\u001b[2m\u001b[36m(pid=583595)\u001b[0m Decoding 43028 OWL Classes and Axioms\n",
      "\u001b[2m\u001b[36m(pid=583753)\u001b[0m Decoding 43028 OWL Classes and Axioms\n",
      "\u001b[2m\u001b[36m(pid=583971)\u001b[0m Decoding 43028 OWL Classes and Axioms\n",
      "\u001b[2m\u001b[36m(pid=584261)\u001b[0m Decoding 43027 OWL Classes and Axioms\n",
      "\u001b[2m\u001b[36m(pid=584394)\u001b[0m Decoding 43027 OWL Classes and Axioms\n",
      "\u001b[2m\u001b[36m(pid=585158)\u001b[0m Decoding 43027 OWL Classes and Axioms\n",
      "\u001b[2m\u001b[36m(pid=584848)\u001b[0m Decoding 43027 OWL Classes and Axioms\n",
      "\u001b[2m\u001b[36m(pid=584984)\u001b[0m Decoding 43027 OWL Classes and Axioms\n",
      "\u001b[2m\u001b[36m(pid=585337)\u001b[0m Decoding 43027 OWL Classes and Axioms\n",
      "\u001b[2m\u001b[36m(pid=585493)\u001b[0m Decoding 43027 OWL Classes and Axioms\n",
      "\u001b[2m\u001b[36m(pid=585642)\u001b[0m Decoding 43027 OWL Classes and Axioms\n",
      "\u001b[2m\u001b[36m(pid=585803)\u001b[0m Decoding 43027 OWL Classes and Axioms\n",
      "\u001b[2m\u001b[36m(pid=583162)\u001b[0m Filtering Triples\n",
      "\u001b[2m\u001b[36m(pid=583290)\u001b[0m Filtering Triples\n",
      "\u001b[2m\u001b[36m(pid=583753)\u001b[0m Filtering Triples\n",
      "\u001b[2m\u001b[36m(pid=583595)\u001b[0m Filtering Triples\n",
      "\u001b[2m\u001b[36m(pid=583437)\u001b[0m Filtering Triples\n",
      "\u001b[2m\u001b[36m(pid=584261)\u001b[0m Filtering Triples\n",
      "\u001b[2m\u001b[36m(pid=584394)\u001b[0m Filtering Triples\n",
      "\u001b[2m\u001b[36m(pid=583971)\u001b[0m Filtering Triples\n",
      "\u001b[2m\u001b[36m(pid=585158)\u001b[0m Filtering Triples\n",
      "\u001b[2m\u001b[36m(pid=584848)\u001b[0m Filtering Triples\n",
      "\u001b[2m\u001b[36m(pid=585493)\u001b[0m Filtering Triples\n",
      "\u001b[2m\u001b[36m(pid=584984)\u001b[0m Filtering Triples\n",
      "\u001b[2m\u001b[36m(pid=585642)\u001b[0m Filtering Triples\n",
      "\u001b[2m\u001b[36m(pid=585337)\u001b[0m Filtering Triples\n",
      "\u001b[2m\u001b[36m(pid=585803)\u001b[0m Filtering Triples\n",
      "\u001b[2m\u001b[36m(pid=586128)\u001b[0m Decoding 43027 OWL Classes and Axioms\n",
      "\u001b[2m\u001b[36m(pid=586128)\u001b[0m Filtering Triples\n"
     ]
    },
    {
     "name": "stderr",
     "output_type": "stream",
     "text": [
      "  6%|▌         | 1/17 [25:38<6:50:10, 1538.16s/it]"
     ]
    },
    {
     "name": "stdout",
     "output_type": "stream",
     "text": [
      "Removing owl:disjointWith Axioms\n",
      "Filtering Triples\n"
     ]
    },
    {
     "name": "stderr",
     "output_type": "stream",
     "text": [
      "100%|██████████| 631606/631606 [02:45<00:00, 3805.95it/s]\n",
      " 12%|█▏        | 2/17 [28:48<3:06:18, 745.22s/it] "
     ]
    },
    {
     "name": "stdout",
     "output_type": "stream",
     "text": [
      "Removing owl:disjointWith Axioms\n",
      "Filtering Triples\n"
     ]
    },
    {
     "name": "stderr",
     "output_type": "stream",
     "text": [
      "100%|██████████| 1013315/1013315 [12:30<00:00, 1349.90it/s]\n"
     ]
    },
    {
     "name": "stdout",
     "output_type": "stream",
     "text": [
      "\u001b[2m\u001b[36m(pid=589903)\u001b[0m Decoding 1644 OWL Classes and Axioms\n",
      "\u001b[2m\u001b[36m(pid=589947)\u001b[0m Decoding 1644 OWL Classes and Axioms\n",
      "\u001b[2m\u001b[36m(pid=589975)\u001b[0m Decoding 1644 OWL Classes and Axioms\n",
      "\u001b[2m\u001b[36m(pid=590004)\u001b[0m Decoding 1644 OWL Classes and Axioms\n",
      "\u001b[2m\u001b[36m(pid=590031)\u001b[0m Decoding 1644 OWL Classes and Axioms\n",
      "\u001b[2m\u001b[36m(pid=590057)\u001b[0m Decoding 1644 OWL Classes and Axioms\n",
      "\u001b[2m\u001b[36m(pid=590084)\u001b[0m Decoding 1644 OWL Classes and Axioms\n",
      "\u001b[2m\u001b[36m(pid=590130)\u001b[0m Decoding 1644 OWL Classes and Axioms\n",
      "\u001b[2m\u001b[36m(pid=590156)\u001b[0m Decoding 1643 OWL Classes and Axioms\n",
      "\u001b[2m\u001b[36m(pid=590183)\u001b[0m Decoding 1643 OWL Classes and Axioms\n",
      "\u001b[2m\u001b[36m(pid=590209)\u001b[0m Decoding 1643 OWL Classes and Axioms\n",
      "\u001b[2m\u001b[36m(pid=590236)\u001b[0m Decoding 1643 OWL Classes and Axioms\n",
      "\u001b[2m\u001b[36m(pid=589903)\u001b[0m Filtering Triples\n",
      "\u001b[2m\u001b[36m(pid=589947)\u001b[0m Filtering Triples\n",
      "\u001b[2m\u001b[36m(pid=589975)\u001b[0m Filtering Triples\n",
      "\u001b[2m\u001b[36m(pid=590004)\u001b[0m Filtering Triples\n",
      "\u001b[2m\u001b[36m(pid=590031)\u001b[0m Filtering Triples\n",
      "\u001b[2m\u001b[36m(pid=590084)\u001b[0m Filtering Triples\n",
      "\u001b[2m\u001b[36m(pid=590130)\u001b[0m Filtering Triples\n",
      "\u001b[2m\u001b[36m(pid=590264)\u001b[0m Decoding 1643 OWL Classes and Axioms\n",
      "\u001b[2m\u001b[36m(pid=590183)\u001b[0m Filtering Triples\n",
      "\u001b[2m\u001b[36m(pid=590057)\u001b[0m Filtering Triples\n",
      "\u001b[2m\u001b[36m(pid=590156)\u001b[0m Filtering Triples\n",
      "\u001b[2m\u001b[36m(pid=590236)\u001b[0m Filtering Triples\n",
      "\u001b[2m\u001b[36m(pid=590209)\u001b[0m Filtering Triples\n",
      "\u001b[2m\u001b[36m(pid=590264)\u001b[0m Filtering Triples\n",
      "\u001b[2m\u001b[36m(pid=590308)\u001b[0m Decoding 1643 OWL Classes and Axioms\n",
      "\u001b[2m\u001b[36m(pid=590308)\u001b[0m Filtering Triples\n",
      "\u001b[2m\u001b[36m(pid=590335)\u001b[0m Decoding 1643 OWL Classes and Axioms\n",
      "\u001b[2m\u001b[36m(pid=590335)\u001b[0m Filtering Triples\n",
      "\u001b[2m\u001b[36m(pid=590361)\u001b[0m Decoding 1643 OWL Classes and Axioms\n"
     ]
    },
    {
     "name": "stderr",
     "output_type": "stream",
     "text": [
      " 18%|█▊        | 3/17 [42:37<3:02:48, 783.47s/it]"
     ]
    },
    {
     "name": "stdout",
     "output_type": "stream",
     "text": [
      "Removing owl:disjointWith Axioms\n",
      "Filtering Triples\n"
     ]
    },
    {
     "name": "stderr",
     "output_type": "stream",
     "text": []
    },
    {
     "name": "stdout",
     "output_type": "stream",
     "text": [
      "\u001b[2m\u001b[36m(pid=590361)\u001b[0m Filtering Triples\n"
     ]
    },
    {
     "name": "stderr",
     "output_type": "stream",
     "text": [
      "100%|██████████| 889146/889146 [05:03<00:00, 2934.23it/s]\n",
      " 24%|██▎       | 4/17 [48:15<2:11:42, 607.87s/it]"
     ]
    },
    {
     "name": "stdout",
     "output_type": "stream",
     "text": [
      "Removing owl:disjointWith Axioms\n",
      "Filtering Triples\n"
     ]
    },
    {
     "name": "stderr",
     "output_type": "stream",
     "text": [
      "100%|██████████| 272750/272750 [01:12<00:00, 3770.13it/s]\n",
      " 29%|██▉       | 5/17 [49:38<1:23:41, 418.46s/it]"
     ]
    },
    {
     "name": "stdout",
     "output_type": "stream",
     "text": [
      "Removing owl:disjointWith Axioms\n",
      "Filtering Triples\n"
     ]
    },
    {
     "name": "stderr",
     "output_type": "stream",
     "text": [
      "100%|██████████| 953847/953847 [03:15<00:00, 4880.68it/s]\n"
     ]
    },
    {
     "name": "stdout",
     "output_type": "stream",
     "text": [
      "\u001b[2m\u001b[36m(pid=592495)\u001b[0m Decoding 15024 OWL Classes and Axioms\n",
      "\u001b[2m\u001b[36m(pid=592526)\u001b[0m Decoding 15024 OWL Classes and Axioms\n",
      "\u001b[2m\u001b[36m(pid=592580)\u001b[0m Decoding 15023 OWL Classes and Axioms\n",
      "\u001b[2m\u001b[36m(pid=592620)\u001b[0m Decoding 15023 OWL Classes and Axioms\n",
      "\u001b[2m\u001b[36m(pid=592650)\u001b[0m Decoding 15023 OWL Classes and Axioms\n",
      "\u001b[2m\u001b[36m(pid=592699)\u001b[0m Decoding 15023 OWL Classes and Axioms\n",
      "\u001b[2m\u001b[36m(pid=592495)\u001b[0m Filtering Triples\n",
      "\u001b[2m\u001b[36m(pid=592729)\u001b[0m Decoding 15023 OWL Classes and Axioms\n",
      "\u001b[2m\u001b[36m(pid=592526)\u001b[0m Filtering Triples\n",
      "\u001b[2m\u001b[36m(pid=592775)\u001b[0m Decoding 15023 OWL Classes and Axioms\n",
      "\u001b[2m\u001b[36m(pid=592580)\u001b[0m Filtering Triples\n",
      "\u001b[2m\u001b[36m(pid=592620)\u001b[0m Filtering Triples\n",
      "\u001b[2m\u001b[36m(pid=592805)\u001b[0m Decoding 15023 OWL Classes and Axioms\n",
      "\u001b[2m\u001b[36m(pid=592650)\u001b[0m Filtering Triples\n",
      "\u001b[2m\u001b[36m(pid=592834)\u001b[0m Decoding 15023 OWL Classes and Axioms\n",
      "\u001b[2m\u001b[36m(pid=592881)\u001b[0m Decoding 15023 OWL Classes and Axioms\n",
      "\u001b[2m\u001b[36m(pid=592699)\u001b[0m Filtering Triples\n",
      "\u001b[2m\u001b[36m(pid=592729)\u001b[0m Filtering Triples\n",
      "\u001b[2m\u001b[36m(pid=592910)\u001b[0m Decoding 15023 OWL Classes and Axioms\n",
      "\u001b[2m\u001b[36m(pid=592942)\u001b[0m Decoding 15023 OWL Classes and Axioms\n",
      "\u001b[2m\u001b[36m(pid=592775)\u001b[0m Filtering Triples\n",
      "\u001b[2m\u001b[36m(pid=592989)\u001b[0m Decoding 15023 OWL Classes and Axioms\n",
      "\u001b[2m\u001b[36m(pid=592805)\u001b[0m Filtering Triples\n",
      "\u001b[2m\u001b[36m(pid=592834)\u001b[0m Filtering Triples\n",
      "\u001b[2m\u001b[36m(pid=592881)\u001b[0m Filtering Triples\n",
      "\u001b[2m\u001b[36m(pid=592910)\u001b[0m Filtering Triples\n",
      "\u001b[2m\u001b[36m(pid=592942)\u001b[0m Filtering Triples\n",
      "\u001b[2m\u001b[36m(pid=592989)\u001b[0m Filtering Triples\n",
      "\u001b[2m\u001b[36m(pid=593019)\u001b[0m Decoding 15023 OWL Classes and Axioms\n",
      "\u001b[2m\u001b[36m(pid=593019)\u001b[0m Filtering Triples\n",
      "\u001b[2m\u001b[36m(pid=593073)\u001b[0m Decoding 15023 OWL Classes and Axioms\n"
     ]
    },
    {
     "name": "stderr",
     "output_type": "stream",
     "text": [
      " 35%|███▌      | 6/17 [55:51<1:13:52, 402.95s/it]"
     ]
    },
    {
     "name": "stdout",
     "output_type": "stream",
     "text": [
      "Removing owl:disjointWith Axioms\n",
      "Filtering Triples\n"
     ]
    },
    {
     "name": "stderr",
     "output_type": "stream",
     "text": []
    },
    {
     "name": "stdout",
     "output_type": "stream",
     "text": [
      "\u001b[2m\u001b[36m(pid=593073)\u001b[0m Filtering Triples\n"
     ]
    },
    {
     "name": "stderr",
     "output_type": "stream",
     "text": [
      "100%|██████████| 898089/898089 [02:26<00:00, 6142.86it/s]\n"
     ]
    },
    {
     "name": "stdout",
     "output_type": "stream",
     "text": [
      "\u001b[2m\u001b[36m(pid=593810)\u001b[0m Decoding 12125 OWL Classes and Axioms\n",
      "\u001b[2m\u001b[36m(pid=593840)\u001b[0m Decoding 12125 OWL Classes and Axioms\n",
      "\u001b[2m\u001b[36m(pid=593887)\u001b[0m Decoding 12125 OWL Classes and Axioms\n",
      "\u001b[2m\u001b[36m(pid=593915)\u001b[0m Decoding 12125 OWL Classes and Axioms\n",
      "\u001b[2m\u001b[36m(pid=593945)\u001b[0m Decoding 12124 OWL Classes and Axioms\n",
      "\u001b[2m\u001b[36m(pid=593991)\u001b[0m Decoding 12124 OWL Classes and Axioms\n",
      "\u001b[2m\u001b[36m(pid=593810)\u001b[0m Filtering Triples\n",
      "\u001b[2m\u001b[36m(pid=594019)\u001b[0m Decoding 12124 OWL Classes and Axioms\n",
      "\u001b[2m\u001b[36m(pid=594066)\u001b[0m Decoding 12124 OWL Classes and Axioms\n",
      "\u001b[2m\u001b[36m(pid=593840)\u001b[0m Filtering Triples\n",
      "\u001b[2m\u001b[36m(pid=593887)\u001b[0m Filtering Triples\n",
      "\u001b[2m\u001b[36m(pid=594096)\u001b[0m Decoding 12124 OWL Classes and Axioms\n",
      "\u001b[2m\u001b[36m(pid=593915)\u001b[0m Filtering Triples\n",
      "\u001b[2m\u001b[36m(pid=594126)\u001b[0m Decoding 12124 OWL Classes and Axioms\n",
      "\u001b[2m\u001b[36m(pid=594179)\u001b[0m Decoding 12124 OWL Classes and Axioms\n",
      "\u001b[2m\u001b[36m(pid=593945)\u001b[0m Filtering Triples\n",
      "\u001b[2m\u001b[36m(pid=594208)\u001b[0m Decoding 12124 OWL Classes and Axioms\n",
      "\u001b[2m\u001b[36m(pid=593991)\u001b[0m Filtering Triples\n",
      "\u001b[2m\u001b[36m(pid=594019)\u001b[0m Filtering Triples\n",
      "\u001b[2m\u001b[36m(pid=594237)\u001b[0m Decoding 12124 OWL Classes and Axioms\n",
      "\u001b[2m\u001b[36m(pid=594066)\u001b[0m Filtering Triples\n",
      "\u001b[2m\u001b[36m(pid=594096)\u001b[0m Filtering Triples\n",
      "\u001b[2m\u001b[36m(pid=594126)\u001b[0m Filtering Triples\n",
      "\u001b[2m\u001b[36m(pid=594179)\u001b[0m Filtering Triples\n",
      "\u001b[2m\u001b[36m(pid=594284)\u001b[0m Decoding 12124 OWL Classes and Axioms\n",
      "\u001b[2m\u001b[36m(pid=594208)\u001b[0m Filtering Triples\n",
      "\u001b[2m\u001b[36m(pid=594237)\u001b[0m Filtering Triples\n",
      "\u001b[2m\u001b[36m(pid=594284)\u001b[0m Filtering Triples\n",
      "\u001b[2m\u001b[36m(pid=594314)\u001b[0m Decoding 12124 OWL Classes and Axioms\n",
      "\u001b[2m\u001b[36m(pid=594314)\u001b[0m Filtering Triples\n",
      "\u001b[2m\u001b[36m(pid=594345)\u001b[0m Decoding 12124 OWL Classes and Axioms\n"
     ]
    },
    {
     "name": "stderr",
     "output_type": "stream",
     "text": [
      " 41%|████      | 7/17 [1:00:11<59:21, 356.18s/it]"
     ]
    },
    {
     "name": "stdout",
     "output_type": "stream",
     "text": [
      "Removing owl:disjointWith Axioms\n",
      "Filtering Triples\n"
     ]
    },
    {
     "name": "stderr",
     "output_type": "stream",
     "text": []
    },
    {
     "name": "stdout",
     "output_type": "stream",
     "text": [
      "\u001b[2m\u001b[36m(pid=594345)\u001b[0m Filtering Triples\n"
     ]
    },
    {
     "name": "stderr",
     "output_type": "stream",
     "text": [
      "100%|██████████| 298686/298686 [01:11<00:00, 4197.11it/s]\n"
     ]
    },
    {
     "name": "stdout",
     "output_type": "stream",
     "text": [
      "\u001b[2m\u001b[36m(pid=594627)\u001b[0m Decoding 202 OWL Classes and Axioms\n",
      "\u001b[2m\u001b[36m(pid=594684)\u001b[0m Decoding 202 OWL Classes and Axioms\n",
      "\u001b[2m\u001b[36m(pid=594711)\u001b[0m Decoding 202 OWL Classes and Axioms\n",
      "\u001b[2m\u001b[36m(pid=594729)\u001b[0m Decoding 202 OWL Classes and Axioms\n",
      "\u001b[2m\u001b[36m(pid=594763)\u001b[0m Decoding 202 OWL Classes and Axioms\n",
      "\u001b[2m\u001b[36m(pid=594788)\u001b[0m Decoding 202 OWL Classes and Axioms\n",
      "\u001b[2m\u001b[36m(pid=594808)\u001b[0m Decoding 201 OWL Classes and Axioms\n",
      "\u001b[2m\u001b[36m(pid=594840)\u001b[0m Decoding 201 OWL Classes and Axioms\n",
      "\u001b[2m\u001b[36m(pid=594865)\u001b[0m Decoding 201 OWL Classes and Axioms\n",
      "\u001b[2m\u001b[36m(pid=594892)\u001b[0m Decoding 201 OWL Classes and Axioms\n",
      "\u001b[2m\u001b[36m(pid=594918)\u001b[0m Decoding 201 OWL Classes and Axioms\n",
      "\u001b[2m\u001b[36m(pid=594944)\u001b[0m Decoding 201 OWL Classes and Axioms\n",
      "\u001b[2m\u001b[36m(pid=594627)\u001b[0m Filtering Triples\n",
      "\u001b[2m\u001b[36m(pid=594684)\u001b[0m Filtering Triples\n",
      "\u001b[2m\u001b[36m(pid=594711)\u001b[0m Filtering Triples\n",
      "\u001b[2m\u001b[36m(pid=594729)\u001b[0m Filtering Triples\n",
      "\u001b[2m\u001b[36m(pid=594763)\u001b[0m Filtering Triples\n",
      "\u001b[2m\u001b[36m(pid=594788)\u001b[0m Filtering Triples\n",
      "\u001b[2m\u001b[36m(pid=594808)\u001b[0m Filtering Triples\n",
      "\u001b[2m\u001b[36m(pid=594840)\u001b[0m Filtering Triples\n",
      "\u001b[2m\u001b[36m(pid=594865)\u001b[0m Filtering Triples\n",
      "\u001b[2m\u001b[36m(pid=594892)\u001b[0m Filtering Triples\n",
      "\u001b[2m\u001b[36m(pid=594918)\u001b[0m Filtering Triples\n",
      "\u001b[2m\u001b[36m(pid=594944)\u001b[0m Filtering Triples\n",
      "\u001b[2m\u001b[36m(pid=594969)\u001b[0m Decoding 201 OWL Classes and Axioms\n",
      "\u001b[2m\u001b[36m(pid=594969)\u001b[0m Filtering Triples\n",
      "\u001b[2m\u001b[36m(pid=594996)\u001b[0m Decoding 201 OWL Classes and Axioms\n",
      "\u001b[2m\u001b[36m(pid=594996)\u001b[0m Filtering Triples\n",
      "\u001b[2m\u001b[36m(pid=595024)\u001b[0m Decoding 201 OWL Classes and Axioms\n",
      "\u001b[2m\u001b[36m(pid=595024)\u001b[0m Filtering Triples\n"
     ]
    },
    {
     "name": "stderr",
     "output_type": "stream",
     "text": [
      " 47%|████▋     | 8/17 [1:01:52<41:15, 275.06s/it]"
     ]
    },
    {
     "name": "stdout",
     "output_type": "stream",
     "text": [
      "\u001b[2m\u001b[36m(pid=595068)\u001b[0m Decoding 201 OWL Classes and Axioms\n",
      "\u001b[2m\u001b[36m(pid=595068)\u001b[0m Filtering Triples\n",
      "Removing owl:disjointWith Axioms\n",
      "Filtering Triples\n"
     ]
    },
    {
     "name": "stderr",
     "output_type": "stream",
     "text": [
      "100%|██████████| 291813/291813 [01:08<00:00, 4248.89it/s]\n"
     ]
    },
    {
     "name": "stdout",
     "output_type": "stream",
     "text": [
      "\u001b[2m\u001b[36m(pid=595321)\u001b[0m Decoding 915 OWL Classes and Axioms\n",
      "\u001b[2m\u001b[36m(pid=595339)\u001b[0m Decoding 915 OWL Classes and Axioms\n",
      "\u001b[2m\u001b[36m(pid=595373)\u001b[0m Decoding 915 OWL Classes and Axioms\n",
      "\u001b[2m\u001b[36m(pid=595392)\u001b[0m Decoding 915 OWL Classes and Axioms\n",
      "\u001b[2m\u001b[36m(pid=595424)\u001b[0m Decoding 915 OWL Classes and Axioms\n",
      "\u001b[2m\u001b[36m(pid=595444)\u001b[0m Decoding 914 OWL Classes and Axioms\n",
      "\u001b[2m\u001b[36m(pid=595475)\u001b[0m Decoding 914 OWL Classes and Axioms\n",
      "\u001b[2m\u001b[36m(pid=595501)\u001b[0m Decoding 914 OWL Classes and Axioms\n",
      "\u001b[2m\u001b[36m(pid=595519)\u001b[0m Decoding 914 OWL Classes and Axioms\n",
      "\u001b[2m\u001b[36m(pid=595713)\u001b[0m Decoding 914 OWL Classes and Axioms\n",
      "\u001b[2m\u001b[36m(pid=595321)\u001b[0m Filtering Triples\n",
      "\u001b[2m\u001b[36m(pid=595339)\u001b[0m Filtering Triples\n",
      "\u001b[2m\u001b[36m(pid=595731)\u001b[0m Decoding 914 OWL Classes and Axioms\n",
      "\u001b[2m\u001b[36m(pid=595392)\u001b[0m Filtering Triples\n",
      "\u001b[2m\u001b[36m(pid=595373)\u001b[0m Filtering Triples\n",
      "\u001b[2m\u001b[36m(pid=595424)\u001b[0m Filtering Triples\n",
      "\u001b[2m\u001b[36m(pid=595444)\u001b[0m Filtering Triples\n",
      "\u001b[2m\u001b[36m(pid=595475)\u001b[0m Filtering Triples\n",
      "\u001b[2m\u001b[36m(pid=595713)\u001b[0m Filtering Triples\n",
      "\u001b[2m\u001b[36m(pid=595501)\u001b[0m Filtering Triples\n",
      "\u001b[2m\u001b[36m(pid=595519)\u001b[0m Filtering Triples\n",
      "\u001b[2m\u001b[36m(pid=595731)\u001b[0m Filtering Triples\n",
      "\u001b[2m\u001b[36m(pid=595754)\u001b[0m Decoding 914 OWL Classes and Axioms\n",
      "\u001b[2m\u001b[36m(pid=595754)\u001b[0m Filtering Triples\n",
      "\u001b[2m\u001b[36m(pid=595785)\u001b[0m Decoding 914 OWL Classes and Axioms\n",
      "\u001b[2m\u001b[36m(pid=595785)\u001b[0m Filtering Triples\n",
      "\u001b[2m\u001b[36m(pid=595809)\u001b[0m Decoding 914 OWL Classes and Axioms\n",
      "\u001b[2m\u001b[36m(pid=595809)\u001b[0m Filtering Triples\n",
      "\u001b[2m\u001b[36m(pid=595853)\u001b[0m Decoding 914 OWL Classes and Axioms\n",
      "\u001b[2m\u001b[36m(pid=595853)\u001b[0m Filtering Triples\n"
     ]
    },
    {
     "name": "stderr",
     "output_type": "stream",
     "text": [
      " 53%|█████▎    | 9/17 [1:04:29<31:45, 238.16s/it]"
     ]
    },
    {
     "name": "stdout",
     "output_type": "stream",
     "text": [
      "\u001b[2m\u001b[36m(pid=595878)\u001b[0m Decoding 914 OWL Classes and Axioms\n",
      "Removing owl:disjointWith Axioms\n",
      "Filtering Triples\n"
     ]
    },
    {
     "name": "stderr",
     "output_type": "stream",
     "text": [
      "\n"
     ]
    },
    {
     "name": "stdout",
     "output_type": "stream",
     "text": [
      "\u001b[2m\u001b[36m(pid=595878)\u001b[0m Filtering Triples\n"
     ]
    },
    {
     "name": "stderr",
     "output_type": "stream",
     "text": [
      "100%|██████████| 169621/169621 [00:42<00:00, 3955.90it/s]\n",
      "2024-05-31 22:26:05,347\tWARNING import_thread.py:133 -- The actor 'OwlNets' has been exported 100 times. It's possible that this warning is accidental, but this may indicate that the same remote function is being defined repeatedly from within many tasks and exported to all of the workers. This can be a performance issue and can be resolved by defining the remote function on the driver instead. See https://github.com/ray-project/ray/issues/6240 for more discussion.\n"
     ]
    },
    {
     "name": "stdout",
     "output_type": "stream",
     "text": [
      "\u001b[2m\u001b[36m(pid=596049)\u001b[0m Decoding 911 OWL Classes and Axioms\n",
      "\u001b[2m\u001b[36m(pid=596053)\u001b[0m Decoding 911 OWL Classes and Axioms\n",
      "\u001b[2m\u001b[36m(pid=596079)\u001b[0m Decoding 911 OWL Classes and Axioms\n",
      "\u001b[2m\u001b[36m(pid=596104)\u001b[0m Decoding 911 OWL Classes and Axioms\n",
      "\u001b[2m\u001b[36m(pid=596130)\u001b[0m Decoding 911 OWL Classes and Axioms\n",
      "\u001b[2m\u001b[36m(pid=596155)\u001b[0m Decoding 911 OWL Classes and Axioms\n",
      "\u001b[2m\u001b[36m(pid=596049)\u001b[0m Filtering Triples\n",
      "\u001b[2m\u001b[36m(pid=596183)\u001b[0m Decoding 911 OWL Classes and Axioms\n",
      "\u001b[2m\u001b[36m(pid=596209)\u001b[0m Decoding 911 OWL Classes and Axioms\n",
      "\u001b[2m\u001b[36m(pid=596053)\u001b[0m Filtering Triples\n",
      "\u001b[2m\u001b[36m(pid=596234)\u001b[0m Decoding 911 OWL Classes and Axioms\n",
      "\u001b[2m\u001b[36m(pid=596260)\u001b[0m Decoding 911 OWL Classes and Axioms\n",
      "\u001b[2m\u001b[36m(pid=596104)\u001b[0m Filtering Triples\n",
      "\u001b[2m\u001b[36m(pid=596079)\u001b[0m Filtering Triples\n",
      "\u001b[2m\u001b[36m(pid=596130)\u001b[0m Filtering Triples\n",
      "\u001b[2m\u001b[36m(pid=596155)\u001b[0m Filtering Triples\n",
      "\u001b[2m\u001b[36m(pid=596183)\u001b[0m Filtering Triples\n",
      "\u001b[2m\u001b[36m(pid=596209)\u001b[0m Filtering Triples\n",
      "\u001b[2m\u001b[36m(pid=596234)\u001b[0m Filtering Triples\n",
      "\u001b[2m\u001b[36m(pid=596260)\u001b[0m Filtering Triples\n",
      "\u001b[2m\u001b[36m(pid=596303)\u001b[0m Decoding 911 OWL Classes and Axioms\n",
      "\u001b[2m\u001b[36m(pid=596303)\u001b[0m Filtering Triples\n",
      "\u001b[2m\u001b[36m(pid=596329)\u001b[0m Decoding 910 OWL Classes and Axioms\n",
      "\u001b[2m\u001b[36m(pid=596329)\u001b[0m Filtering Triples\n",
      "\u001b[2m\u001b[36m(pid=596354)\u001b[0m Decoding 910 OWL Classes and Axioms\n",
      "\u001b[2m\u001b[36m(pid=596354)\u001b[0m Filtering Triples\n",
      "\u001b[2m\u001b[36m(pid=596380)\u001b[0m Decoding 910 OWL Classes and Axioms\n",
      "\u001b[2m\u001b[36m(pid=596380)\u001b[0m Filtering Triples\n",
      "\u001b[2m\u001b[36m(pid=596405)\u001b[0m Decoding 910 OWL Classes and Axioms\n",
      "\u001b[2m\u001b[36m(pid=596405)\u001b[0m Filtering Triples\n"
     ]
    },
    {
     "name": "stderr",
     "output_type": "stream",
     "text": [
      " 59%|█████▉    | 10/17 [1:05:30<21:24, 183.49s/it]"
     ]
    },
    {
     "name": "stdout",
     "output_type": "stream",
     "text": [
      "Removing owl:disjointWith Axioms\n",
      "Filtering Triples\n"
     ]
    },
    {
     "name": "stderr",
     "output_type": "stream",
     "text": []
    },
    {
     "name": "stdout",
     "output_type": "stream",
     "text": [
      "\u001b[2m\u001b[36m(pid=596431)\u001b[0m Decoding 910 OWL Classes and Axioms\n",
      "\u001b[2m\u001b[36m(pid=596431)\u001b[0m Filtering Triples\n"
     ]
    },
    {
     "name": "stderr",
     "output_type": "stream",
     "text": [
      "100%|██████████| 300505/300505 [01:09<00:00, 4334.07it/s]\n"
     ]
    },
    {
     "name": "stdout",
     "output_type": "stream",
     "text": [
      "\u001b[2m\u001b[36m(pid=596724)\u001b[0m Decoding 803 OWL Classes and Axioms\n",
      "\u001b[2m\u001b[36m(pid=596740)\u001b[0m Decoding 803 OWL Classes and Axioms\n",
      "\u001b[2m\u001b[36m(pid=596765)\u001b[0m Decoding 802 OWL Classes and Axioms\n",
      "\u001b[2m\u001b[36m(pid=596795)\u001b[0m Decoding 802 OWL Classes and Axioms\n",
      "\u001b[2m\u001b[36m(pid=596835)\u001b[0m Decoding 802 OWL Classes and Axioms\n",
      "\u001b[2m\u001b[36m(pid=596863)\u001b[0m Decoding 802 OWL Classes and Axioms\n",
      "\u001b[2m\u001b[36m(pid=596889)\u001b[0m Decoding 802 OWL Classes and Axioms\n",
      "\u001b[2m\u001b[36m(pid=596914)\u001b[0m Decoding 802 OWL Classes and Axioms\n",
      "\u001b[2m\u001b[36m(pid=596940)\u001b[0m Decoding 802 OWL Classes and Axioms\n",
      "\u001b[2m\u001b[36m(pid=596966)\u001b[0m Decoding 802 OWL Classes and Axioms\n",
      "\u001b[2m\u001b[36m(pid=597009)\u001b[0m Decoding 802 OWL Classes and Axioms\n",
      "\u001b[2m\u001b[36m(pid=596724)\u001b[0m Filtering Triples\n",
      "\u001b[2m\u001b[36m(pid=596740)\u001b[0m Filtering Triples\n",
      "\u001b[2m\u001b[36m(pid=596835)\u001b[0m Filtering Triples\n",
      "\u001b[2m\u001b[36m(pid=596863)\u001b[0m Filtering Triples\n",
      "\u001b[2m\u001b[36m(pid=596889)\u001b[0m Filtering Triples\n",
      "\u001b[2m\u001b[36m(pid=596940)\u001b[0m Filtering Triples\n",
      "\u001b[2m\u001b[36m(pid=596966)\u001b[0m Filtering Triples\n",
      "\u001b[2m\u001b[36m(pid=596795)\u001b[0m Filtering Triples\n",
      "\u001b[2m\u001b[36m(pid=597009)\u001b[0m Filtering Triples\n",
      "\u001b[2m\u001b[36m(pid=597035)\u001b[0m Decoding 802 OWL Classes and Axioms\n",
      "\u001b[2m\u001b[36m(pid=596765)\u001b[0m Filtering Triples\n",
      "\u001b[2m\u001b[36m(pid=596914)\u001b[0m Filtering Triples\n",
      "\u001b[2m\u001b[36m(pid=597035)\u001b[0m Filtering Triples\n",
      "\u001b[2m\u001b[36m(pid=597061)\u001b[0m Decoding 802 OWL Classes and Axioms\n",
      "\u001b[2m\u001b[36m(pid=597061)\u001b[0m Filtering Triples\n",
      "\u001b[2m\u001b[36m(pid=597087)\u001b[0m Decoding 802 OWL Classes and Axioms\n",
      "\u001b[2m\u001b[36m(pid=597087)\u001b[0m Filtering Triples\n",
      "\u001b[2m\u001b[36m(pid=597105)\u001b[0m Decoding 802 OWL Classes and Axioms\n",
      "\u001b[2m\u001b[36m(pid=597105)\u001b[0m Filtering Triples\n"
     ]
    },
    {
     "name": "stderr",
     "output_type": "stream",
     "text": [
      " 65%|██████▍   | 11/17 [1:07:08<15:44, 157.37s/it]"
     ]
    },
    {
     "name": "stdout",
     "output_type": "stream",
     "text": [
      "\u001b[2m\u001b[36m(pid=597139)\u001b[0m Decoding 802 OWL Classes and Axioms\n",
      "Removing owl:disjointWith Axioms\n",
      "Filtering Triples\n"
     ]
    },
    {
     "name": "stderr",
     "output_type": "stream",
     "text": []
    },
    {
     "name": "stdout",
     "output_type": "stream",
     "text": [
      "\u001b[2m\u001b[36m(pid=597139)\u001b[0m Filtering Triples\n"
     ]
    },
    {
     "name": "stderr",
     "output_type": "stream",
     "text": [
      "100%|██████████| 126780/126780 [00:30<00:00, 4160.21it/s]\n"
     ]
    },
    {
     "name": "stdout",
     "output_type": "stream",
     "text": [
      "\u001b[2m\u001b[36m(pid=597444)\u001b[0m Decoding 73 OWL Classes and Axioms\n",
      "\u001b[2m\u001b[36m(pid=597444)\u001b[0m Filtering Triples\n",
      "\u001b[2m\u001b[36m(pid=597449)\u001b[0m Decoding 72 OWL Classes and Axioms\n",
      "\u001b[2m\u001b[36m(pid=597449)\u001b[0m Filtering Triples\n",
      "\u001b[2m\u001b[36m(pid=597453)\u001b[0m Decoding 72 OWL Classes and Axioms\n",
      "\u001b[2m\u001b[36m(pid=597453)\u001b[0m Filtering Triples\n",
      "\u001b[2m\u001b[36m(pid=597470)\u001b[0m Decoding 72 OWL Classes and Axioms\n",
      "\u001b[2m\u001b[36m(pid=597470)\u001b[0m Filtering Triples\n",
      "\u001b[2m\u001b[36m(pid=597495)\u001b[0m Decoding 72 OWL Classes and Axioms\n",
      "\u001b[2m\u001b[36m(pid=597495)\u001b[0m Filtering Triples\n",
      "\u001b[2m\u001b[36m(pid=597520)\u001b[0m Decoding 72 OWL Classes and Axioms\n",
      "\u001b[2m\u001b[36m(pid=597520)\u001b[0m Filtering Triples\n",
      "\u001b[2m\u001b[36m(pid=597546)\u001b[0m Decoding 72 OWL Classes and Axioms\n",
      "\u001b[2m\u001b[36m(pid=597546)\u001b[0m Filtering Triples\n",
      "\u001b[2m\u001b[36m(pid=597571)\u001b[0m Decoding 72 OWL Classes and Axioms\n",
      "\u001b[2m\u001b[36m(pid=597571)\u001b[0m Filtering Triples\n",
      "\u001b[2m\u001b[36m(pid=597604)\u001b[0m Decoding 72 OWL Classes and Axioms\n",
      "\u001b[2m\u001b[36m(pid=597604)\u001b[0m Filtering Triples\n",
      "\u001b[2m\u001b[36m(pid=597629)\u001b[0m Decoding 72 OWL Classes and Axioms\n",
      "\u001b[2m\u001b[36m(pid=597629)\u001b[0m Filtering Triples\n",
      "\u001b[2m\u001b[36m(pid=597655)\u001b[0m Decoding 72 OWL Classes and Axioms\n",
      "\u001b[2m\u001b[36m(pid=597655)\u001b[0m Filtering Triples\n",
      "\u001b[2m\u001b[36m(pid=597680)\u001b[0m Decoding 72 OWL Classes and Axioms\n",
      "\u001b[2m\u001b[36m(pid=597680)\u001b[0m Filtering Triples\n",
      "\u001b[2m\u001b[36m(pid=597698)\u001b[0m Decoding 72 OWL Classes and Axioms\n",
      "\u001b[2m\u001b[36m(pid=597698)\u001b[0m Filtering Triples\n",
      "\u001b[2m\u001b[36m(pid=597740)\u001b[0m Decoding 72 OWL Classes and Axioms\n",
      "\u001b[2m\u001b[36m(pid=597740)\u001b[0m Filtering Triples\n",
      "\u001b[2m\u001b[36m(pid=597775)\u001b[0m Decoding 72 OWL Classes and Axioms\n",
      "\u001b[2m\u001b[36m(pid=597775)\u001b[0m Filtering Triples\n"
     ]
    },
    {
     "name": "stderr",
     "output_type": "stream",
     "text": [
      " 71%|███████   | 12/17 [1:07:51<10:12, 122.58s/it]"
     ]
    },
    {
     "name": "stdout",
     "output_type": "stream",
     "text": [
      "Removing owl:disjointWith Axioms\n",
      "Filtering Triples\n",
      "\u001b[2m\u001b[36m(pid=597791)\u001b[0m Decoding 72 OWL Classes and Axioms\n",
      "\u001b[2m\u001b[36m(pid=597791)\u001b[0m Filtering Triples\n"
     ]
    },
    {
     "name": "stderr",
     "output_type": "stream",
     "text": [
      "100%|██████████| 365635/365635 [01:36<00:00, 3781.36it/s]\n"
     ]
    },
    {
     "name": "stdout",
     "output_type": "stream",
     "text": [
      "\u001b[2m\u001b[36m(pid=598181)\u001b[0m Decoding 2189 OWL Classes and Axioms\n",
      "\u001b[2m\u001b[36m(pid=598207)\u001b[0m Decoding 2189 OWL Classes and Axioms\n",
      "\u001b[2m\u001b[36m(pid=598233)\u001b[0m Decoding 2188 OWL Classes and Axioms\n",
      "\u001b[2m\u001b[36m(pid=598275)\u001b[0m Decoding 2188 OWL Classes and Axioms\n",
      "\u001b[2m\u001b[36m(pid=598304)\u001b[0m Decoding 2188 OWL Classes and Axioms\n",
      "\u001b[2m\u001b[36m(pid=598330)\u001b[0m Decoding 2188 OWL Classes and Axioms\n",
      "\u001b[2m\u001b[36m(pid=598358)\u001b[0m Decoding 2188 OWL Classes and Axioms\n",
      "\u001b[2m\u001b[36m(pid=598181)\u001b[0m Filtering Triples\n",
      "\u001b[2m\u001b[36m(pid=598233)\u001b[0m Filtering Triples\n",
      "\u001b[2m\u001b[36m(pid=598275)\u001b[0m Filtering Triples\n",
      "\u001b[2m\u001b[36m(pid=598385)\u001b[0m Decoding 2188 OWL Classes and Axioms\n",
      "\u001b[2m\u001b[36m(pid=598411)\u001b[0m Decoding 2188 OWL Classes and Axioms\n",
      "\u001b[2m\u001b[36m(pid=598437)\u001b[0m Decoding 2188 OWL Classes and Axioms\n",
      "\u001b[2m\u001b[36m(pid=598304)\u001b[0m Filtering Triples\n",
      "\u001b[2m\u001b[36m(pid=598463)\u001b[0m Decoding 2188 OWL Classes and Axioms\n",
      "\u001b[2m\u001b[36m(pid=598207)\u001b[0m Filtering Triples\n",
      "\u001b[2m\u001b[36m(pid=598358)\u001b[0m Filtering Triples\n",
      "\u001b[2m\u001b[36m(pid=598489)\u001b[0m Decoding 2188 OWL Classes and Axioms\n",
      "\u001b[2m\u001b[36m(pid=598330)\u001b[0m Filtering Triples\n",
      "\u001b[2m\u001b[36m(pid=598385)\u001b[0m Filtering Triples\n",
      "\u001b[2m\u001b[36m(pid=598411)\u001b[0m Filtering Triples\n",
      "\u001b[2m\u001b[36m(pid=598437)\u001b[0m Filtering Triples\n",
      "\u001b[2m\u001b[36m(pid=598463)\u001b[0m Filtering Triples\n",
      "\u001b[2m\u001b[36m(pid=598489)\u001b[0m Filtering Triples\n",
      "\u001b[2m\u001b[36m(pid=598532)\u001b[0m Decoding 2188 OWL Classes and Axioms\n",
      "\u001b[2m\u001b[36m(pid=598532)\u001b[0m Filtering Triples\n",
      "\u001b[2m\u001b[36m(pid=598559)\u001b[0m Decoding 2188 OWL Classes and Axioms\n",
      "\u001b[2m\u001b[36m(pid=598559)\u001b[0m Filtering Triples\n",
      "\u001b[2m\u001b[36m(pid=598586)\u001b[0m Decoding 2188 OWL Classes and Axioms\n",
      "\u001b[2m\u001b[36m(pid=598586)\u001b[0m Filtering Triples\n"
     ]
    },
    {
     "name": "stderr",
     "output_type": "stream",
     "text": [
      " 76%|███████▋  | 13/17 [1:10:09<08:28, 127.16s/it]"
     ]
    },
    {
     "name": "stdout",
     "output_type": "stream",
     "text": [
      "\u001b[2m\u001b[36m(pid=598613)\u001b[0m Decoding 2188 OWL Classes and Axioms\n",
      "Removing owl:disjointWith Axioms\n",
      "Filtering Triples\n"
     ]
    },
    {
     "name": "stderr",
     "output_type": "stream",
     "text": []
    },
    {
     "name": "stdout",
     "output_type": "stream",
     "text": [
      "\u001b[2m\u001b[36m(pid=598613)\u001b[0m Filtering Triples\n"
     ]
    },
    {
     "name": "stderr",
     "output_type": "stream",
     "text": [
      "100%|██████████| 253475/253475 [00:54<00:00, 4658.01it/s]\n"
     ]
    },
    {
     "name": "stdout",
     "output_type": "stream",
     "text": [
      "\u001b[2m\u001b[36m(pid=598830)\u001b[0m Decoding 1394 OWL Classes and Axioms\n",
      "\u001b[2m\u001b[36m(pid=598856)\u001b[0m Decoding 1394 OWL Classes and Axioms\n",
      "\u001b[2m\u001b[36m(pid=598883)\u001b[0m Decoding 1394 OWL Classes and Axioms\n",
      "\u001b[2m\u001b[36m(pid=598830)\u001b[0m Filtering Triples\n",
      "\u001b[2m\u001b[36m(pid=598856)\u001b[0m Filtering Triples\n",
      "\u001b[2m\u001b[36m(pid=598909)\u001b[0m Decoding 1394 OWL Classes and Axioms\n",
      "\u001b[2m\u001b[36m(pid=598936)\u001b[0m Decoding 1394 OWL Classes and Axioms\n",
      "\u001b[2m\u001b[36m(pid=598962)\u001b[0m Decoding 1394 OWL Classes and Axioms\n",
      "\u001b[2m\u001b[36m(pid=598988)\u001b[0m Decoding 1394 OWL Classes and Axioms\n",
      "\u001b[2m\u001b[36m(pid=599013)\u001b[0m Decoding 1394 OWL Classes and Axioms\n",
      "\u001b[2m\u001b[36m(pid=599040)\u001b[0m Decoding 1393 OWL Classes and Axioms\n",
      "\u001b[2m\u001b[36m(pid=599082)\u001b[0m Decoding 1393 OWL Classes and Axioms\n",
      "\u001b[2m\u001b[36m(pid=599110)\u001b[0m Decoding 1393 OWL Classes and Axioms\n",
      "\u001b[2m\u001b[36m(pid=599040)\u001b[0m Filtering Triples\n",
      "\u001b[2m\u001b[36m(pid=599082)\u001b[0m Filtering Triples\n",
      "\u001b[2m\u001b[36m(pid=598883)\u001b[0m Filtering Triples\n",
      "\u001b[2m\u001b[36m(pid=598909)\u001b[0m Filtering Triples\n",
      "\u001b[2m\u001b[36m(pid=598936)\u001b[0m Filtering Triples\n",
      "\u001b[2m\u001b[36m(pid=598962)\u001b[0m Filtering Triples\n",
      "\u001b[2m\u001b[36m(pid=599136)\u001b[0m Decoding 1393 OWL Classes and Axioms\n",
      "\u001b[2m\u001b[36m(pid=599013)\u001b[0m Filtering Triples\n",
      "\u001b[2m\u001b[36m(pid=599110)\u001b[0m Filtering Triples\n",
      "\u001b[2m\u001b[36m(pid=598988)\u001b[0m Filtering Triples\n",
      "\u001b[2m\u001b[36m(pid=599136)\u001b[0m Filtering Triples\n",
      "\u001b[2m\u001b[36m(pid=599162)\u001b[0m Decoding 1393 OWL Classes and Axioms\n",
      "\u001b[2m\u001b[36m(pid=599162)\u001b[0m Filtering Triples\n",
      "\u001b[2m\u001b[36m(pid=599188)\u001b[0m Decoding 1393 OWL Classes and Axioms\n",
      "\u001b[2m\u001b[36m(pid=599188)\u001b[0m Filtering Triples\n",
      "\u001b[2m\u001b[36m(pid=599213)\u001b[0m Decoding 1393 OWL Classes and Axioms\n",
      "\u001b[2m\u001b[36m(pid=599213)\u001b[0m Filtering Triples\n"
     ]
    },
    {
     "name": "stderr",
     "output_type": "stream",
     "text": [
      " 82%|████████▏ | 14/17 [1:11:34<05:43, 114.51s/it]"
     ]
    },
    {
     "name": "stdout",
     "output_type": "stream",
     "text": [
      "\u001b[2m\u001b[36m(pid=599239)\u001b[0m Decoding 1393 OWL Classes and Axioms\n",
      "Removing owl:disjointWith Axioms\n",
      "Filtering Triples\n"
     ]
    },
    {
     "name": "stderr",
     "output_type": "stream",
     "text": [
      "\n"
     ]
    },
    {
     "name": "stdout",
     "output_type": "stream",
     "text": [
      "\u001b[2m\u001b[36m(pid=599239)\u001b[0m Filtering Triples\n"
     ]
    },
    {
     "name": "stderr",
     "output_type": "stream",
     "text": [
      "100%|██████████| 282565/282565 [01:43<00:00, 2729.58it/s]\n"
     ]
    },
    {
     "name": "stdout",
     "output_type": "stream",
     "text": [
      "\u001b[2m\u001b[36m(pid=599754)\u001b[0m Decoding 629 OWL Classes and Axioms\n",
      "\u001b[2m\u001b[36m(pid=599798)\u001b[0m Decoding 629 OWL Classes and Axioms\n",
      "\u001b[2m\u001b[36m(pid=599759)\u001b[0m Decoding 629 OWL Classes and Axioms\n",
      "\u001b[2m\u001b[36m(pid=599754)\u001b[0m Filtering Triples\n",
      "\u001b[2m\u001b[36m(pid=599824)\u001b[0m Decoding 629 OWL Classes and Axioms\n",
      "\u001b[2m\u001b[36m(pid=599850)\u001b[0m Decoding 628 OWL Classes and Axioms\n",
      "\u001b[2m\u001b[36m(pid=599875)\u001b[0m Decoding 628 OWL Classes and Axioms\n",
      "\u001b[2m\u001b[36m(pid=599901)\u001b[0m Decoding 628 OWL Classes and Axioms\n",
      "\u001b[2m\u001b[36m(pid=599950)\u001b[0m Decoding 628 OWL Classes and Axioms\n",
      "\u001b[2m\u001b[36m(pid=599976)\u001b[0m Decoding 628 OWL Classes and Axioms\n",
      "\u001b[2m\u001b[36m(pid=600003)\u001b[0m Decoding 628 OWL Classes and Axioms\n",
      "\u001b[2m\u001b[36m(pid=600029)\u001b[0m Decoding 628 OWL Classes and Axioms\n",
      "\u001b[2m\u001b[36m(pid=599798)\u001b[0m Filtering Triples\n",
      "\u001b[2m\u001b[36m(pid=599850)\u001b[0m Filtering Triples\n",
      "\u001b[2m\u001b[36m(pid=599759)\u001b[0m Filtering Triples\n",
      "\u001b[2m\u001b[36m(pid=599824)\u001b[0m Filtering Triples\n",
      "\u001b[2m\u001b[36m(pid=599875)\u001b[0m Filtering Triples\n",
      "\u001b[2m\u001b[36m(pid=599901)\u001b[0m Filtering Triples\n",
      "\u001b[2m\u001b[36m(pid=599976)\u001b[0m Filtering Triples\n",
      "\u001b[2m\u001b[36m(pid=600003)\u001b[0m Filtering Triples\n",
      "\u001b[2m\u001b[36m(pid=600029)\u001b[0m Filtering Triples\n",
      "\u001b[2m\u001b[36m(pid=599950)\u001b[0m Filtering Triples\n",
      "\u001b[2m\u001b[36m(pid=600054)\u001b[0m Decoding 628 OWL Classes and Axioms\n",
      "\u001b[2m\u001b[36m(pid=600054)\u001b[0m Filtering Triples\n",
      "\u001b[2m\u001b[36m(pid=600080)\u001b[0m Decoding 628 OWL Classes and Axioms\n",
      "\u001b[2m\u001b[36m(pid=600080)\u001b[0m Filtering Triples\n",
      "\u001b[2m\u001b[36m(pid=600105)\u001b[0m Decoding 628 OWL Classes and Axioms\n",
      "\u001b[2m\u001b[36m(pid=600105)\u001b[0m Filtering Triples\n",
      "\u001b[2m\u001b[36m(pid=600132)\u001b[0m Decoding 628 OWL Classes and Axioms\n",
      "\u001b[2m\u001b[36m(pid=600132)\u001b[0m Filtering Triples\n"
     ]
    },
    {
     "name": "stderr",
     "output_type": "stream",
     "text": [
      " 88%|████████▊ | 15/17 [1:14:46<04:35, 137.81s/it]"
     ]
    },
    {
     "name": "stdout",
     "output_type": "stream",
     "text": [
      "\u001b[2m\u001b[36m(pid=600155)\u001b[0m Decoding 628 OWL Classes and Axioms\n",
      "Removing owl:disjointWith Axioms\n",
      "Filtering Triples\n"
     ]
    },
    {
     "name": "stderr",
     "output_type": "stream",
     "text": []
    },
    {
     "name": "stdout",
     "output_type": "stream",
     "text": [
      "\u001b[2m\u001b[36m(pid=600155)\u001b[0m Filtering Triples\n"
     ]
    },
    {
     "name": "stderr",
     "output_type": "stream",
     "text": [
      "100%|██████████| 149028/149028 [00:35<00:00, 4215.29it/s]\n"
     ]
    },
    {
     "name": "stdout",
     "output_type": "stream",
     "text": [
      "\u001b[2m\u001b[36m(pid=600313)\u001b[0m Decoding 316 OWL Classes and Axioms\n",
      "\u001b[2m\u001b[36m(pid=600317)\u001b[0m Decoding 316 OWL Classes and Axioms\n",
      "\u001b[2m\u001b[36m(pid=600342)\u001b[0m Decoding 316 OWL Classes and Axioms\n",
      "\u001b[2m\u001b[36m(pid=600368)\u001b[0m Decoding 316 OWL Classes and Axioms\n",
      "\u001b[2m\u001b[36m(pid=600393)\u001b[0m Decoding 316 OWL Classes and Axioms\n",
      "\u001b[2m\u001b[36m(pid=600419)\u001b[0m Decoding 316 OWL Classes and Axioms\n",
      "\u001b[2m\u001b[36m(pid=600445)\u001b[0m Decoding 316 OWL Classes and Axioms\n",
      "\u001b[2m\u001b[36m(pid=600471)\u001b[0m Decoding 316 OWL Classes and Axioms\n",
      "\u001b[2m\u001b[36m(pid=600497)\u001b[0m Decoding 316 OWL Classes and Axioms\n",
      "\u001b[2m\u001b[36m(pid=600522)\u001b[0m Decoding 316 OWL Classes and Axioms\n",
      "\u001b[2m\u001b[36m(pid=600313)\u001b[0m Filtering Triples\n",
      "\u001b[2m\u001b[36m(pid=600317)\u001b[0m Filtering Triples\n",
      "\u001b[2m\u001b[36m(pid=600342)\u001b[0m Filtering Triples\n",
      "\u001b[2m\u001b[36m(pid=600368)\u001b[0m Filtering Triples\n",
      "\u001b[2m\u001b[36m(pid=600393)\u001b[0m Filtering Triples\n",
      "\u001b[2m\u001b[36m(pid=600419)\u001b[0m Filtering Triples\n",
      "\u001b[2m\u001b[36m(pid=600445)\u001b[0m Filtering Triples\n",
      "\u001b[2m\u001b[36m(pid=600471)\u001b[0m Filtering Triples\n",
      "\u001b[2m\u001b[36m(pid=600497)\u001b[0m Filtering Triples\n",
      "\u001b[2m\u001b[36m(pid=600522)\u001b[0m Filtering Triples\n",
      "\u001b[2m\u001b[36m(pid=600551)\u001b[0m Decoding 316 OWL Classes and Axioms\n",
      "\u001b[2m\u001b[36m(pid=600551)\u001b[0m Filtering Triples\n",
      "\u001b[2m\u001b[36m(pid=600577)\u001b[0m Decoding 316 OWL Classes and Axioms\n",
      "\u001b[2m\u001b[36m(pid=600577)\u001b[0m Filtering Triples\n",
      "\u001b[2m\u001b[36m(pid=600619)\u001b[0m Decoding 316 OWL Classes and Axioms\n",
      "\u001b[2m\u001b[36m(pid=600619)\u001b[0m Filtering Triples\n",
      "\u001b[2m\u001b[36m(pid=600649)\u001b[0m Decoding 316 OWL Classes and Axioms\n",
      "\u001b[2m\u001b[36m(pid=600649)\u001b[0m Filtering Triples\n",
      "\u001b[2m\u001b[36m(pid=600674)\u001b[0m Decoding 316 OWL Classes and Axioms\n",
      "\u001b[2m\u001b[36m(pid=600674)\u001b[0m Filtering Triples\n"
     ]
    },
    {
     "name": "stderr",
     "output_type": "stream",
     "text": [
      " 94%|█████████▍| 16/17 [1:15:39<01:52, 112.33s/it]"
     ]
    },
    {
     "name": "stdout",
     "output_type": "stream",
     "text": [
      "\u001b[2m\u001b[36m(pid=600707)\u001b[0m Decoding 316 OWL Classes and Axioms\n",
      "\u001b[2m\u001b[36m(pid=600707)\u001b[0m Filtering Triples\n",
      "Removing owl:disjointWith Axioms\n",
      "Filtering Triples\n"
     ]
    },
    {
     "name": "stderr",
     "output_type": "stream",
     "text": [
      "100%|██████████| 279772/279772 [01:21<00:00, 3437.74it/s]\n"
     ]
    },
    {
     "name": "stdout",
     "output_type": "stream",
     "text": [
      "\u001b[2m\u001b[36m(pid=601210)\u001b[0m Decoding 1422 OWL Classes and Axioms\n",
      "\u001b[2m\u001b[36m(pid=601236)\u001b[0m Decoding 1422 OWL Classes and Axioms\n",
      "\u001b[2m\u001b[36m(pid=601262)\u001b[0m Decoding 1422 OWL Classes and Axioms\n",
      "\u001b[2m\u001b[36m(pid=601288)\u001b[0m Decoding 1422 OWL Classes and Axioms\n",
      "\u001b[2m\u001b[36m(pid=601314)\u001b[0m Decoding 1422 OWL Classes and Axioms\n",
      "\u001b[2m\u001b[36m(pid=601210)\u001b[0m Filtering Triples\n",
      "\u001b[2m\u001b[36m(pid=601236)\u001b[0m Filtering Triples\n",
      "\u001b[2m\u001b[36m(pid=601262)\u001b[0m Filtering Triples\n",
      "\u001b[2m\u001b[36m(pid=601288)\u001b[0m Filtering Triples\n",
      "\u001b[2m\u001b[36m(pid=601340)\u001b[0m Decoding 1422 OWL Classes and Axioms\n",
      "\u001b[2m\u001b[36m(pid=601365)\u001b[0m Decoding 1422 OWL Classes and Axioms\n",
      "\u001b[2m\u001b[36m(pid=601391)\u001b[0m Decoding 1422 OWL Classes and Axioms\n",
      "\u001b[2m\u001b[36m(pid=601417)\u001b[0m Decoding 1422 OWL Classes and Axioms\n",
      "\u001b[2m\u001b[36m(pid=601444)\u001b[0m Decoding 1422 OWL Classes and Axioms\n",
      "\u001b[2m\u001b[36m(pid=601471)\u001b[0m Decoding 1422 OWL Classes and Axioms\n",
      "\u001b[2m\u001b[36m(pid=601314)\u001b[0m Filtering Triples\n",
      "\u001b[2m\u001b[36m(pid=601497)\u001b[0m Decoding 1422 OWL Classes and Axioms\n",
      "\u001b[2m\u001b[36m(pid=601417)\u001b[0m Filtering Triples\n",
      "\u001b[2m\u001b[36m(pid=601444)\u001b[0m Filtering Triples\n",
      "\u001b[2m\u001b[36m(pid=601471)\u001b[0m Filtering Triples\n",
      "\u001b[2m\u001b[36m(pid=601497)\u001b[0m Filtering Triples\n",
      "\u001b[2m\u001b[36m(pid=601340)\u001b[0m Filtering Triples\n",
      "\u001b[2m\u001b[36m(pid=601391)\u001b[0m Filtering Triples\n",
      "\u001b[2m\u001b[36m(pid=601365)\u001b[0m Filtering Triples\n",
      "\u001b[2m\u001b[36m(pid=601540)\u001b[0m Decoding 1422 OWL Classes and Axioms\n",
      "\u001b[2m\u001b[36m(pid=601540)\u001b[0m Filtering Triples\n",
      "\u001b[2m\u001b[36m(pid=601566)\u001b[0m Decoding 1422 OWL Classes and Axioms\n",
      "\u001b[2m\u001b[36m(pid=601566)\u001b[0m Filtering Triples\n",
      "\u001b[2m\u001b[36m(pid=601592)\u001b[0m Decoding 1422 OWL Classes and Axioms\n",
      "\u001b[2m\u001b[36m(pid=601592)\u001b[0m Filtering Triples\n"
     ]
    },
    {
     "name": "stderr",
     "output_type": "stream",
     "text": [
      "100%|██████████| 17/17 [1:17:33<00:00, 273.74s/it]"
     ]
    },
    {
     "name": "stdout",
     "output_type": "stream",
     "text": [
      "\u001b[2m\u001b[36m(pid=601618)\u001b[0m Decoding 1422 OWL Classes and Axioms\n",
      "Ensuring OWL-NETS Graph Contains a Single Connected Component\n",
      "Obtaining node list\n"
     ]
    },
    {
     "name": "stderr",
     "output_type": "stream",
     "text": [
      "\n"
     ]
    },
    {
     "name": "stdout",
     "output_type": "stream",
     "text": [
      "\u001b[2m\u001b[36m(pid=601618)\u001b[0m Filtering Triples\n"
     ]
    },
    {
     "name": "stderr",
     "output_type": "stream",
     "text": [
      "100%|██████████| 15430188/15430188 [00:10<00:00, 1479547.60it/s]\n"
     ]
    },
    {
     "name": "stdout",
     "output_type": "stream",
     "text": [
      "Identifying root nodes\n"
     ]
    },
    {
     "name": "stderr",
     "output_type": "stream",
     "text": [
      "100%|██████████| 1088530/1088530 [1:22:34<00:00, 219.71it/s] \n"
     ]
    },
    {
     "name": "stdout",
     "output_type": "stream",
     "text": [
      "Updating graph connectivity\n",
      "938 triples added to make connected\n",
      "Serializing OWL-NETS Graph\n",
      "Converting Knowledge Graph to MultiDiGraph\n"
     ]
    },
    {
     "name": "stderr",
     "output_type": "stream",
     "text": [
      "100%|██████████| 7716032/7716032 [14:25<00:00, 8912.76it/s] \n"
     ]
    },
    {
     "name": "stdout",
     "output_type": "stream",
     "text": [
      "Pickling MultiDiGraph\n",
      "Generating Network Statistics\n",
      "OWL-NETS Graph Stats: 1088531 nodes, 7716032 edges, 13 self-loops, 5 most most common edges: http://www.w3.org/2000/01/rdf-schema#subClassOf:1572603, http://purl.obolibrary.org/obo/RO_0002436:976291, http://purl.obolibrary.org/obo/RO_0001025:681379, http://purl.obolibrary.org/obo/RO_0001015:681186, http://purl.obolibrary.org/obo/RO_0002201:433586, http://purl.obolibrary.org/obo/RO_0002200:433586, average degree 7.088481632585567, 5 highest degree nodes: http://purl.obolibrary.org/obo/SO_0001483:214261, http://purl.obolibrary.org/obo/SO_0001217:189346, http://purl.obolibrary.org/obo/SO_0000673:178283, http://purl.obolibrary.org/obo/NCBITaxon_9606:90965, http://purl.obolibrary.org/obo/PR_000000001:56070, http://purl.obolibrary.org/obo/NCBITaxon_10090:53597, density: 6.511976364992758e-06, 1 component(s): {0: 1088531}\n",
      "Purifying Graph Based on Construction Approach\n",
      "Determining what triples need purification\n",
      "Processing 1572603 http://www.w3.org/2000/01/rdf-schema#subClassOf triples\n"
     ]
    },
    {
     "name": "stderr",
     "output_type": "stream",
     "text": [
      "100%|██████████| 1572603/1572603 [33:31<00:00, 781.94it/s]  \n"
     ]
    },
    {
     "name": "stdout",
     "output_type": "stream",
     "text": [
      "Serializing Instance-Purified OWL-NETS Graph\n",
      "Converting Knowledge Graph to MultiDiGraph\n"
     ]
    },
    {
     "name": "stderr",
     "output_type": "stream",
     "text": [
      "100%|██████████| 16625093/16625093 [31:23<00:00, 8828.60it/s]  \n"
     ]
    },
    {
     "name": "stdout",
     "output_type": "stream",
     "text": [
      "Pickling MultiDiGraph\n",
      "Generating Network Statistics\n",
      "Instance-Purified OWL-NETS Graph Stats: 1088531 nodes, 16625093 edges, 181 self-loops, 5 most most common edges: http://www.w3.org/1999/02/22-rdf-syntax-ns#type:10482610, http://purl.obolibrary.org/obo/RO_0002436:976291, http://purl.obolibrary.org/obo/RO_0001025:681379, http://purl.obolibrary.org/obo/RO_0001015:681186, http://purl.obolibrary.org/obo/RO_0002200:433586, http://purl.obolibrary.org/obo/RO_0002201:433586, average degree 15.272962368549909, 5 highest degree nodes: http://purl.obolibrary.org/obo/SO_0001411:220832, http://purl.obolibrary.org/obo/SO_0000110:220468, http://purl.obolibrary.org/obo/SO_0001483:214271, http://purl.obolibrary.org/obo/CHEBI_50860:198255, http://purl.obolibrary.org/obo/CHEBI_33285:194136, http://purl.obolibrary.org/obo/SO_0001217:189352, density: 1.4030814372180747e-05, 1 component(s): {0: 1088531}\n",
      "\n",
      "\n",
      "OWL-NETS Graph Stats: 7716032 triples, 1088531 nodes, 339 predicates, 0 classes, 0 individuals, 0 object props, 0 annotation props;\n",
      "Purified OWL-NETS Graph Stats: 16625093 triples, 1088531 nodes, 338 predicates, 0 classes, 0 individuals, 0 object props, 0 annotation props\n",
      "===========================================================================================================================================================\n",
      "Decoded 422462 owl-encoded classes and axioms. Note the following:\n",
      "Partially processed 497 cardinality elements\n",
      "Removed 2416 owl:disjointWith axioms\n",
      "Ignored: 165486 misc classes; 346 classes constructed with owl:complementOf; 6487 classes containing negation (e.g. pr#lacks_part, cl#has_not_completed)\n",
      "Filtering removed 5892502 semantic support triples\n",
      "===========================================================================================================================================================\n",
      "\n",
      "*** Writing Knowledge Graph Edge Lists ***\n",
      "\n",
      "*** Processing OWL Graph ***\n",
      "Mapping Node and Relation Identifiers to Integers\n"
     ]
    },
    {
     "name": "stderr",
     "output_type": "stream",
     "text": [
      "100%|██████████| 26825799/26825799 [35:06<00:00, 12735.10it/s] \n"
     ]
    },
    {
     "name": "stdout",
     "output_type": "stream",
     "text": [
      "Writing Class Metadata\n"
     ]
    },
    {
     "name": "stderr",
     "output_type": "stream",
     "text": [
      "100%|██████████| 2/2 [01:27<00:00, 43.52s/it]\n",
      "100%|██████████| 26825799/26825799 [00:34<00:00, 769937.81it/s]\n",
      "100%|██████████| 9569855/9569855 [10:56<00:00, 14586.80it/s]\n"
     ]
    },
    {
     "name": "stdout",
     "output_type": "stream",
     "text": [
      "\n",
      "*** Processing OWL-NETS Graph ***\n",
      "Mapping Node and Relation Identifiers to Integers\n"
     ]
    },
    {
     "name": "stderr",
     "output_type": "stream",
     "text": [
      "100%|██████████| 7716032/7716032 [08:13<00:00, 15649.79it/s]\n"
     ]
    },
    {
     "name": "stdout",
     "output_type": "stream",
     "text": [
      "Writing Class Metadata\n"
     ]
    },
    {
     "name": "stderr",
     "output_type": "stream",
     "text": [
      "100%|██████████| 2/2 [00:25<00:00, 12.71s/it]\n",
      "100%|██████████| 7716032/7716032 [00:09<00:00, 814538.50it/s] \n",
      "100%|██████████| 1088870/1088870 [00:49<00:00, 21910.95it/s]\n"
     ]
    },
    {
     "name": "stdout",
     "output_type": "stream",
     "text": [
      "\n",
      "*** Processing Purified OWL-NETS Graph ***\n",
      "Mapping Node and Relation Identifiers to Integers\n"
     ]
    },
    {
     "name": "stderr",
     "output_type": "stream",
     "text": [
      "100%|██████████| 16625093/16625093 [17:08<00:00, 16163.76it/s]\n"
     ]
    },
    {
     "name": "stdout",
     "output_type": "stream",
     "text": [
      "Writing Class Metadata\n"
     ]
    },
    {
     "name": "stderr",
     "output_type": "stream",
     "text": [
      "100%|██████████| 2/2 [00:25<00:00, 12.67s/it]\n",
      "100%|██████████| 16625093/16625093 [00:22<00:00, 736531.59it/s]\n",
      "100%|██████████| 1088869/1088869 [00:50<00:00, 21772.55it/s]\n"
     ]
    },
    {
     "name": "stdout",
     "output_type": "stream",
     "text": [
      "Depduplicating File: ./resources/knowledge_graphs/PheKnowLator_v3.1.2_full_instance_inverseRelations_OWL_AnnotationsOnly.nt\n"
     ]
    },
    {
     "name": "stderr",
     "output_type": "stream",
     "text": [
      "100%|██████████| 14093577/14093577 [01:02<00:00, 224386.58it/s]\n"
     ]
    },
    {
     "name": "stdout",
     "output_type": "stream",
     "text": [
      "Depduplicating File: ./resources/knowledge_graphs/PheKnowLator_v3.1.2_full_instance_inverseRelations_OWL_LogicOnly.nt\n"
     ]
    },
    {
     "name": "stderr",
     "output_type": "stream",
     "text": [
      "100%|██████████| 26825799/26825799 [02:44<00:00, 163212.37it/s]\n"
     ]
    },
    {
     "name": "stdout",
     "output_type": "stream",
     "text": [
      "Merging Files: ./resources/knowledge_graphs/PheKnowLator_v3.1.2_full_instance_inverseRelations_OWL_AnnotationsOnly.nt and ./resources/knowledge_graphs/PheKnowLator_v3.1.2_full_instance_inverseRelations_OWL_LogicOnly.nt\n",
      "\n",
      "\n",
      "Loading Full (Logic + Annotation) Graph\n",
      "\n",
      "Deriving Stats\n",
      "\n",
      "Processing pkt-namespaced BNodes in Full (Logic + Annotation) graph\n",
      "Identifying BNodes with Namespace: https://github.com/callahantiff/PheKnowLator/pkt/bnode/\n",
      "Identifying BNodes\n",
      "Removing Namespace from BNodes\n",
      "Finalizing Updated Graph\n",
      "Identifying BNodes with Namespace: https://github.com/callahantiff/PheKnowLator/pkt/\n",
      "Identifying BNodes\n",
      "Removing Namespace from BNodes\n",
      "Finalizing Updated Graph\n",
      "Applying OWL API Formatting to Knowledge Graph OWL File\n",
      "None\n",
      "\n",
      "Full (Logic + Annotation) Graph Stats: 40919376 triples, 15507789 nodes, 357 predicates, 1269316 classes, 6985184 individuals, 867 object props, 700 annotation props\n",
      "CPU times: user 17h 20min 50s, sys: 1h 47min 35s, total: 19h 8min 26s\n",
      "Wall time: 19h 22min 8s\n"
     ]
    }
   ],
   "source": [
    "%%time\n",
    "# construct knowledge graphs\n",
    "##Run sed command here again for PheKnowLator_MergedOntologies.owl\n",
    "if build == 'partial':\n",
    "    kg = PartialBuild(construction=construction_approach,\n",
    "                      node_data=add_node_data_to_kg,\n",
    "                      inverse_relations=add_inverse_relations_to_kg,\n",
    "                      decode_owl=decode_owl_semantics,\n",
    "                      cpus=cpus,\n",
    "                      write_location=kg_directory_location)\n",
    "elif build == 'post-closure':\n",
    "    kg = PostClosureBuild(construction=construction_approach,\n",
    "                          node_data=add_node_data_to_kg,\n",
    "                          inverse_relations=add_inverse_relations_to_kg,\n",
    "                          decode_owl=decode_owl_semantics,\n",
    "                          cpus=cpus,\n",
    "                          write_location=kg_directory_location)\n",
    "else:\n",
    "    kg = FullBuild(construction=construction_approach,\n",
    "                   node_data=add_node_data_to_kg,\n",
    "                   inverse_relations=add_inverse_relations_to_kg,\n",
    "                   decode_owl=decode_owl_semantics,\n",
    "                   cpus=cpus,\n",
    "                   write_location=kg_directory_location)\n",
    "\n",
    "kg.construct_knowledge_graph()\n",
    "ray.shutdown()"
   ]
  },
  {
   "cell_type": "code",
   "execution_count": null,
   "metadata": {},
   "outputs": [
    {
     "data": {
      "text/plain": [
       "['/home/sanya/PheKnowLator/resources/ontologies/clo_with_imports.owl',\n",
       " '/home/sanya/PheKnowLator/resources/ontologies/chebi_lite_merged_with_imports.owl',\n",
       " '/home/sanya/PheKnowLator/resources/ontologies/chebi_with_imports.owl',\n",
       " '/home/sanya/PheKnowLator/resources/ontologies/ro_with_imports.owl',\n",
       " '/home/sanya/PheKnowLator/resources/ontologies/dideo_with_imports.owl',\n",
       " '/home/sanya/PheKnowLator/resources/ontologies/oae_merged_with_imports.owl',\n",
       " '/home/sanya/PheKnowLator/resources/ontologies/pr_with_imports.owl',\n",
       " '/home/sanya/PheKnowLator/resources/ontologies/po_with_imports.owl',\n",
       " '/home/sanya/PheKnowLator/resources/ontologies/cl_with_imports.owl',\n",
       " '/home/sanya/PheKnowLator/resources/ontologies/so_with_imports.owl',\n",
       " '/home/sanya/PheKnowLator/resources/ontologies/hp_with_imports.owl',\n",
       " '/home/sanya/PheKnowLator/resources/ontologies/mondo_with_imports.owl',\n",
       " '/home/sanya/PheKnowLator/resources/ontologies/uberon_with_imports.owl',\n",
       " '/home/sanya/PheKnowLator/resources/ontologies/pw_with_imports.owl',\n",
       " '/home/sanya/PheKnowLator/resources/ontologies/go_with_imports.owl']"
      ]
     },
     "execution_count": 29,
     "metadata": {},
     "output_type": "execute_result"
    }
   ],
   "source": [
    "kg.ontologies"
   ]
  },
  {
   "cell_type": "markdown",
   "metadata": {},
   "source": [
    "<br>\n",
    "\n",
    "***\n",
    "***\n",
    "\n",
    "```\n",
    "@misc{callahan_tj_2019_3401437,\n",
    "  author       = {Callahan, TJ},\n",
    "  title        = {PheKnowLator},\n",
    "  month        = mar,\n",
    "  year         = 2019,\n",
    "  doi          = {10.5281/zenodo.3401437},\n",
    "  url          = {https://doi.org/10.5281/zenodo.3401437}\n",
    "}\n",
    "```"
   ]
  }
 ],
 "metadata": {
  "kernelspec": {
   "display_name": "sanya_kg",
   "language": "python",
   "name": "python3"
  },
  "language_info": {
   "codemirror_mode": {
    "name": "ipython",
    "version": 3
   },
   "file_extension": ".py",
   "mimetype": "text/x-python",
   "name": "python",
   "nbconvert_exporter": "python",
   "pygments_lexer": "ipython3",
   "version": "3.6.13"
  },
  "latex_envs": {
   "LaTeX_envs_menu_present": true,
   "autoclose": false,
   "autocomplete": true,
   "bibliofile": "biblio.bib",
   "cite_by": "apalike",
   "current_citInitial": 1,
   "eqLabelWithNumbers": true,
   "eqNumInitial": 1,
   "hotkeys": {
    "equation": "Ctrl-E",
    "itemize": "Ctrl-I"
   },
   "labels_anchors": false,
   "latex_user_defs": false,
   "report_style_numbering": false,
   "user_envs_cfg": false
  },
  "pycharm": {
   "stem_cell": {
    "cell_type": "raw",
    "metadata": {
     "collapsed": false
    },
    "source": []
   }
  },
  "toc": {
   "base_numbering": 1,
   "nav_menu": {},
   "number_sections": false,
   "sideBar": false,
   "skip_h1_title": false,
   "title_cell": "Table of Contents",
   "title_sidebar": "Contents",
   "toc_cell": false,
   "toc_position": {},
   "toc_section_display": false,
   "toc_window_display": false
  }
 },
 "nbformat": 4,
 "nbformat_minor": 1
}
