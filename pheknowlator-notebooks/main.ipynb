{
 "cells": [
  {
   "cell_type": "markdown",
   "metadata": {},
   "source": [
    "_____\n",
    "***\n",
    "\n",
    "<img width='700' src=\"https://user-images.githubusercontent.com/8030363/108961534-b9a66980-7634-11eb-96e2-cc46589dcb8c.png\" style=\"vertical-align:middle\">\n",
    "\n",
    "***\n",
    "***\n",
    "\n",
    "**Author:** [TJCallahan](https://mail.google.com/mail/u/0/?view=cm&fs=1&tf=1&to=callahantiff@gmail.com)  \n",
    "**GitHub Repository:** [PheKnowLator](https://github.com/callahantiff/PheKnowLator/wiki)  \n",
    "**Current Release:** **[`v2.0.0`](https://github.com/callahantiff/PheKnowLator/wiki/v2.0.0)**\n",
    "\n",
    "<br>\n",
    "\n",
    "**Objective:** Knowledge graphs provide meaningful ways to integrate heterogeneous biological data and represent complex biological mechanisms. This work seeks to explore the utility of incorporating existing knowledge of molecular mechanism from ontologies, publicly available data, and the literature to construct a biomedical knowledge graph that models unbiased molecular mechanisms of human disease.\n",
    "\n",
    "<a target=\"_blank\" href=\"https://user-images.githubusercontent.com/8030363/103158881-11813b00-4780-11eb-8b45-5063765e7645.png\"> <img src=\"https://user-images.githubusercontent.com/8030363/103158881-11813b00-4780-11eb-8b45-5063765e7645.png\"></a> \n",
    "\n",
    "(*Click Figure to Enlarge Image in Current Browser Tab*)\n",
    "\n",
    "<br>\n",
    "\n",
    "***\n",
    "***"
   ]
  },
  {
   "cell_type": "markdown",
   "metadata": {},
   "source": [
    "## Notebook Purpose\n",
    "**Wiki Page:** **[`Release v2.0.0`](https://github.com/callahantiff/PheKnowLator/wiki/v2.0.0)**\n",
    "\n",
    "<br>\n",
    "\n",
    "**Purpose:** This notebook serves as a `main` file for the PheKnowLator project. This scripts walks through this program step-by-step and generates the knowledge graph shown above. There is also a command line version of this file ([`main.py`](https://github.com/callahantiff/PheKnowLator/blob/master/main.py)). Please see the [README](https://github.com/callahantiff/PheKnowLator/blob/master/README.md) for more information.\n",
    "\n",
    "<br>\n",
    "\n",
    "**Assumptions:**\n",
    "1. Hyperlinks to all downloaded and generated data sources are provided through [this](https://console.cloud.google.com/storage/browser/pheknowlator/release_v2.0.0?project=pheknowlator) dedicated Google Cloud Storage Bucket. <u>This includes examples, from prior builds, of the required input documents mentioned below</u>.     \n",
    "2. Make sure that the following input documents have been constructed (see the [Dependencies Wiki](https://github.com/callahantiff/PheKnowLator/wiki/Dependencies) for more information):  \n",
    "  - [`resource_info.txt`](https://github.com/callahantiff/PheKnowLator/blob/master/resources/resource_info.txt)\n",
    "  - [`ontology_source_list.txt`](https://github.com/callahantiff/PheKnowLator/blob/master/resources/ontology_source_list.txt)\n",
    "  - [`edge_source_list.txt`](https://github.com/callahantiff/PheKnowLator/blob/master/resources/edge_source_list.txt)   \n",
    "\n",
    "3. Prepare [relations](https://github.com/callahantiff/PheKnowLator/wiki/Dependencies#relations-data) and [node metadata](https://github.com/callahantiff/PheKnowLator/wiki/Dependencies#node-metadata) files prior to running the scripts.  \n",
    "\n",
    "4. Select a knowledge graph build type (i.e. `full`, `partial`, or `post-closure`) and construction method (i.e. `instance-based` or `subclass-based`).  \n",
    "\n",
    "<br>\n",
    "\n",
    "***\n",
    "### Table of Contents\n",
    "***\n",
    "The three primary steps involved in building a knowledge graph are `Downloading Data Sources`, `Creating Edge Lists`, and `Building the knowledge graphs`.\n",
    "\n",
    "* [Data Sources](#data-source)  \n",
    "* [Create Edge Lists](#create-edges)  \n",
    "* [Build Knowledge Graph](#build-kg)  \n",
    "\n",
    "***\n",
    "\n",
    "***"
   ]
  },
  {
   "cell_type": "markdown",
   "metadata": {
    "pycharm": {
     "is_executing": false
    }
   },
   "source": [
    "_____\n",
    "### Set-Up Environment"
   ]
  },
  {
   "cell_type": "code",
   "execution_count": 20,
   "metadata": {},
   "outputs": [],
   "source": [
    "# import needed libraries\n",
    "import glob\n",
    "import json\n",
    "import pandas\n",
    "import ray\n",
    "import time\n",
    "\n",
    "# import module\n",
    "from pkt_kg import downloads, edge_list, knowledge_graph"
   ]
  },
  {
   "cell_type": "markdown",
   "metadata": {},
   "source": [
    "***\n",
    "## Download Data Sources <a class=\"anchor\" id=\"data-source\"></a>\n",
    "\n",
    "**Wiki Page:** **[`Dependencies`](https://github.com/callahantiff/PheKnowLator/wiki/Dependencies)**  \n",
    "\n",
    "**Purpose:**\n",
    "This portion of this portion of the algorithm is to download:\n",
    "1. [Download Ontology Data](#download-ontology-data)  \n",
    "2. [Download Edge Data](#download-edge-data)   \n",
    "\n",
    "<br>\n",
    "\n",
    "**Input Files:**\n",
    "  - [`resource_info.txt`](https://github.com/callahantiff/PheKnowLator/blob/master/resources/resource_info.txt)\n",
    "  - [`ontology_source_list.txt`](https://github.com/callahantiff/PheKnowLator/blob/master/resources/ontology_source_list.txt)\n",
    "  - [`edge_source_list.txt`](https://github.com/callahantiff/PheKnowLator/blob/master/resources/edge_source_list.txt)\n",
    "\n",
    "<br>\n",
    "\n",
    "**Assumptions:**  \n",
    "- All sources used to construct our knowledge graph need to be preprocessed and ready to download prior to running this code. All mapping, filtering, and label data have been generated prior to this step. For assistance with creating these datasets, see the [`Data_Preparation.ipynb`](https://github.com/callahantiff/PheKnowLator/blob/master/notebooks/Data_Preparation.ipynb) Jupyter Notebook.  \n",
    "- All downloaded and generated data sources for all PheKnowLator builds can be accessed through [this](https://console.cloud.google.com/storage/browser/pheknowlator/release_v2.0.0?project=pheknowlator) dedicated Google Cloud Storage Bucket.\n"
   ]
  },
  {
   "cell_type": "markdown",
   "metadata": {},
   "source": [
    "***\n",
    "***\n",
    "### Ontology Data  <a class=\"anchor\" id=\"download-ontology-data\"></a>\n",
    "Ontologies are the core data structure used when building PheKnowLator. In the figure above, ontology data are shown in yellow boxes."
   ]
  },
  {
   "cell_type": "code",
   "execution_count": 1,
   "metadata": {},
   "outputs": [],
   "source": [
    "from pkt_kg.downloads import OntData, LinkedData\n",
    "from pkt_kg.edge_list import CreatesEdgeList\n",
    "from pkt_kg.knowledge_graph import FullBuild, PartialBuild, PostClosureBuild"
   ]
  },
  {
   "cell_type": "code",
   "execution_count": 2,
   "metadata": {},
   "outputs": [],
   "source": [
    "ont = OntData('resources/ontology_source_list.txt', 'resources/resource_info.txt')\n",
    "#not a function of OntData\n",
    "#ont._writes_source_metadata_locally()"
   ]
  },
  {
   "cell_type": "code",
   "execution_count": 3,
   "metadata": {},
   "outputs": [
    {
     "data": {
      "text/plain": [
       "'resources/ontology_source_list.txt'"
      ]
     },
     "execution_count": 3,
     "metadata": {},
     "output_type": "execute_result"
    }
   ],
   "source": [
    "ont.data_path"
   ]
  },
  {
   "cell_type": "code",
   "execution_count": 4,
   "metadata": {},
   "outputs": [],
   "source": [
    "ont.parses_resource_file()"
   ]
  },
  {
   "cell_type": "code",
   "execution_count": 5,
   "metadata": {},
   "outputs": [
    {
     "data": {
      "text/plain": [
       "'Ontology Data'"
      ]
     },
     "execution_count": 5,
     "metadata": {},
     "output_type": "execute_result"
    }
   ],
   "source": [
    "ont.gets_data_type()"
   ]
  },
  {
   "cell_type": "code",
   "execution_count": 6,
   "metadata": {},
   "outputs": [
    {
     "data": {
      "text/plain": [
       "{'disease': 'resources/ontologies/mondo_with_imports.owl',\n",
       " 'napdichem': 'resources/ontologies/chebi_lite_merged_with_imports.owl',\n",
       " 'protein': 'resources/ontologies/pr_with_imports.owl',\n",
       " 'pathway': 'resources/ontologies/pw_with_imports.owl',\n",
       " 'relation': 'resources/ontologies/ro_with_imports_AD_mods.owl',\n",
       " 'go': 'resources/ontologies/go_with_imports.owl',\n",
       " 'chemical': 'resources/ontologies/chebi_lite_with_imports.owl',\n",
       " 'phenotype': 'resources/ontologies/hp_with_imports.owl',\n",
       " 'anatomy': 'resources/ontologies/ext_with_imports.owl',\n",
       " 'cell': 'resources/ontologies/clo_with_imports.owl',\n",
       " 'genomic': 'resources/ontologies/so_with_imports.owl',\n",
       " 'oae': 'resources/ontologies/oae_merged_with_imports.owl'}"
      ]
     },
     "execution_count": 6,
     "metadata": {},
     "output_type": "execute_result"
    }
   ],
   "source": [
    "ont.source_list"
   ]
  },
  {
   "cell_type": "code",
   "execution_count": 7,
   "metadata": {},
   "outputs": [
    {
     "name": "stdout",
     "output_type": "stream",
     "text": [
      "\n",
      "*** Generating Metadata ***\n",
      "\n"
     ]
    },
    {
     "name": "stderr",
     "output_type": "stream",
     "text": [
      "100%|██████████| 12/12 [00:00<00:00, 16589.21it/s]\n",
      "100%|██████████| 12/12 [00:00<00:00, 60061.63it/s]\n"
     ]
    }
   ],
   "source": [
    "ont.data_files = ont.source_list\n",
    "ont.generates_source_metadata()"
   ]
  },
  {
   "cell_type": "code",
   "execution_count": 35,
   "metadata": {},
   "outputs": [
    {
     "data": {
      "text/plain": [
       "['__class__',\n",
       " '__delattr__',\n",
       " '__dict__',\n",
       " '__dir__',\n",
       " '__doc__',\n",
       " '__eq__',\n",
       " '__format__',\n",
       " '__ge__',\n",
       " '__getattribute__',\n",
       " '__gt__',\n",
       " '__hash__',\n",
       " '__init__',\n",
       " '__init_subclass__',\n",
       " '__le__',\n",
       " '__lt__',\n",
       " '__metaclass__',\n",
       " '__module__',\n",
       " '__ne__',\n",
       " '__new__',\n",
       " '__reduce__',\n",
       " '__reduce_ex__',\n",
       " '__repr__',\n",
       " '__setattr__',\n",
       " '__sizeof__',\n",
       " '__str__',\n",
       " '__subclasshook__',\n",
       " '__weakref__',\n",
       " '_writes_source_metadata_locally',\n",
       " 'data_files',\n",
       " 'data_path',\n",
       " 'data_type',\n",
       " 'downloads_data_from_url',\n",
       " 'extracts_edge_metadata',\n",
       " 'generates_source_metadata',\n",
       " 'gets_data_type',\n",
       " 'metadata',\n",
       " 'parses_resource_file',\n",
       " 'resource_data',\n",
       " 'resource_dict',\n",
       " 'resource_info',\n",
       " 'source_list']"
      ]
     },
     "execution_count": 35,
     "metadata": {},
     "output_type": "execute_result"
    }
   ],
   "source": [
    "dir(ont)"
   ]
  },
  {
   "cell_type": "code",
   "execution_count": 63,
   "metadata": {},
   "outputs": [
    {
     "name": "stderr",
     "output_type": "stream",
     "text": [
      "100%|██████████| 12/12 [00:00<00:00, 54887.29it/s]\n"
     ]
    }
   ],
   "source": [
    "ont._writes_source_metadata_locally()"
   ]
  },
  {
   "cell_type": "code",
   "execution_count": 8,
   "metadata": {},
   "outputs": [
    {
     "data": {
      "text/plain": [
       "[\"chemical-disease|:;MESH_;|class-class|RO_0002606|http://purl.obolibrary.org/obo/|http://purl.obolibrary.org/obo/|t|1;4|0:./resources/processed_data/MESH_CHEBI_MAP.txt;1:./resources/processed_data/DISEASE_MONDO_MAP.txt|5;!=;''|None\",\n",
       " \"chemical-gene|;MESH_;|class-entity|RO_0002434|http://purl.obolibrary.org/obo/|http://www.ncbi.nlm.nih.gov/gene/|t|1;4|0:./resources/processed_data/MESH_CHEBI_MAP.txt|9;affects;not in x|6;==;Homo sapiens::5;.startswith('gene');\",\n",
       " 'chemical-gobp|:;MESH_;GO_|class-class|RO_0002436|http://purl.obolibrary.org/obo/|http://purl.obolibrary.org/obo/|t|1;5|0:./resources/processed_data/MESH_CHEBI_MAP.txt|8;<=;1.04e-47|3;==;Biological Process',\n",
       " 'chemical-gocc|:;MESH_;GO_|class-class|RO_0002436|http://purl.obolibrary.org/obo/|http://purl.obolibrary.org/obo/|t|1;5|0:./resources/processed_data/MESH_CHEBI_MAP.txt|8;<=;1.04e-47|3;==;Cellular Component',\n",
       " 'chemical-gomf|:;MESH_;GO_|class-class|RO_0002436|http://purl.obolibrary.org/obo/|http://purl.obolibrary.org/obo/|t|1;5|0:./resources/processed_data/MESH_CHEBI_MAP.txt|8;<=;1.04e-47|3;==;Molecular Function',\n",
       " 'chemical-pathway|;CHEBI_;|class-entity|RO_0000056|http://purl.obolibrary.org/obo/|https://reactome.org/content/detail/|t|0;1|None|None|5;==;Homo sapiens',\n",
       " \"chemical-phenotype|:;MESH_;|class-class|RO_0002606|http://purl.obolibrary.org/obo/|http://purl.obolibrary.org/obo/|t|1;4|0:./resources/processed_data/MESH_CHEBI_MAP.txt;1:./resources/processed_data/PHENOTYPE_HPO_MAP.txt|5;!=;''|None\",\n",
       " \"chemical-protein|;MESH_;|class-class|RO_0002434|http://purl.obolibrary.org/obo/|http://purl.obolibrary.org/obo/|t|1;4|0:./resources/processed_data/MESH_CHEBI_MAP.txt;1:./resources/processed_data/ENTREZ_GENE_PRO_ONTOLOGY_MAP.txt|9;affects;not in x|6;==;Homo sapiens::5;.startswith('protein');\",\n",
       " 'disease-phenotype|:;;HP_|class-class|RO_0002200|http://purl.obolibrary.org/obo/|http://purl.obolibrary.org/obo/|t|0;3|0:./resources/processed_data/DISEASE_MONDO_MAP.txt|None|None|None',\n",
       " 'gene-disease|;;|entity-class|RO_0003302|http://www.ncbi.nlm.nih.gov/gene/|http://purl.obolibrary.org/obo/|t|0;4|1:./resources/processed_data/DISEASE_MONDO_MAP.txt|10;>=;1.0|None',\n",
       " 'gene-gene|;;|entity-entity|RO_0002435|http://www.ncbi.nlm.nih.gov/gene/|http://www.ncbi.nlm.nih.gov/gene/|t|0;1|0:./resources/processed_data/ENSEMBL_GENE_ENTREZ_GENE_MAP.txt;1:./resources/processed_data/ENSEMBL_GENE_ENTREZ_GENE_MAP.txt|None|None',\n",
       " \"gene-pathway|:;;|entity-entity|RO_0000056|http://www.ncbi.nlm.nih.gov/gene/|https://reactome.org/content/detail/|t|1;3|None|None|3;.startswith('REACT:R-HSA-');\",\n",
       " 'gene-phenotype|;;|entity-class|RO_0003302|http://www.ncbi.nlm.nih.gov/gene/|http://purl.obolibrary.org/obo/|t|0;4|1:./resources/processed_data/PHENOTYPE_HPO_MAP.txt|10;>=;1.0|None',\n",
       " 'gene-protein|;;|entity-class|RO_0002205|http://www.ncbi.nlm.nih.gov/gene/|http://purl.obolibrary.org/obo/|t|0;1|None|None|4;==;protein-coding',\n",
       " 'gene-rna|;;|entity-entity|RO_0002511|http://www.ncbi.nlm.nih.gov/gene/|https://uswest.ensembl.org/Homo_sapiens/Transcript/Summary?t=|t|0;1|None|None|None',\n",
       " \"gobp-pathway|:;GO_;|class-entity|RO_0009501|http://purl.obolibrary.org/obo/|https://reactome.org/content/detail/|t|4;5|None|None|8;==;P::12;==;taxon:9606::5;.startswith('REACTOME');\",\n",
       " \"pathway-gocc|:;;GO_|entity-class|RO_0002180|https://reactome.org/content/detail/|http://purl.obolibrary.org/obo/|t|5;4|None|None|8;==;C::12;==;taxon:9606::5;.startswith('REACTOME');\",\n",
       " \"pathway-gomf|:;;GO_|entity-class|RO_0000085|https://reactome.org/content/detail/|http://purl.obolibrary.org/obo/|t|5;4|None|None|8;==;F::12;==;taxon:9606::5;.startswith('REACTOME');\",\n",
       " 'protein-anatomy|;;|class-class|RO_0001025|http://purl.obolibrary.org/obo/|http://purl.obolibrary.org/obo/|t|2;5|0:./resources/processed_data/UNIPROT_ACCESSION_PRO_ONTOLOGY_MAP.txt;1:./resources/processed_data/HPA_GTEx_TISSUE_CELL_MAP.txt|None|3;==;Evidence at protein level::4;==;anatomy',\n",
       " 'protein-catalyst|;;|class-class|RO_0002436|http://purl.obolibrary.org/obo/|http://purl.obolibrary.org/obo/|t|0;1|None|None|None|None',\n",
       " 'protein-cell|;;|class-class|RO_0001025|http://purl.obolibrary.org/obo/|http://purl.obolibrary.org/obo/|t|2;5|0:./resources/processed_data/UNIPROT_ACCESSION_PRO_ONTOLOGY_MAP.txt;1:./resources/processed_data/HPA_GTEx_TISSUE_CELL_MAP.txt|None|3;==;Evidence at protein level::4;==;cell line',\n",
       " 'protein-cofactor|;;|class-class|RO_0002436|http://purl.obolibrary.org/obo/|http://purl.obolibrary.org/obo/|t|0;1|None|None|None|None',\n",
       " 'protein-gobp|:;;GO_|class-class|RO_0000056|http://purl.obolibrary.org/obo/|http://purl.obolibrary.org/obo/|t|1;4|0:./resources/processed_data/UNIPROT_ACCESSION_PRO_ONTOLOGY_MAP.txt|None|8;==;P::12;==;taxon:9606',\n",
       " 'protein-gocc|:;;GO_|class-class|RO_0001025|http://purl.obolibrary.org/obo/|http://purl.obolibrary.org/obo/|t|1;4|0:./resources/processed_data/UNIPROT_ACCESSION_PRO_ONTOLOGY_MAP.txt|None|8;==;C::12;==;taxon:9606',\n",
       " 'protein-gomf|:;;GO_|class-class|RO_0000085|http://purl.obolibrary.org/obo/|http://purl.obolibrary.org/obo/|t|1;4|0:./resources/processed_data/UNIPROT_ACCESSION_PRO_ONTOLOGY_MAP.txt|None|8;==;F::12;==;taxon:9606',\n",
       " 'protein-pathway|;;|class-entity|RO_0000056|http://purl.obolibrary.org/obo/|https://reactome.org/content/detail/|t|0;1|0:./resources/processed_data/UNIPROT_ACCESSION_PRO_ONTOLOGY_MAP.txt|None|5;==;Homo sapiens',\n",
       " \"protein-protein|9606.;;|class-class|RO_0002436|http://purl.obolibrary.org/obo/|http://purl.obolibrary.org/obo/|''|0;1|0:./resources/processed_data/STRING_PRO_ONTOLOGY_MAP.txt;1:./resources/processed_data/STRING_PRO_ONTOLOGY_MAP.txt|2;>=;700|None\",\n",
       " 'rna-anatomy|;;|entity-class|RO_0001025|https://uswest.ensembl.org/Homo_sapiens/Transcript/Summary?t=|http://purl.obolibrary.org/obo/|t|1;5|0:./resources/processed_data/GENE_SYMBOL_ENSEMBL_TRANSCRIPT_MAP.txt;1:./resources/processed_data/HPA_GTEx_TISSUE_CELL_MAP.txt|None|3;==;Evidence at transcript level::4;==;anatomy',\n",
       " 'rna-cell|;;|entity-class|RO_0001025|https://uswest.ensembl.org/Homo_sapiens/Transcript/Summary?t=|http://purl.obolibrary.org/obo/|t|1;5|0:./resources/processed_data/GENE_SYMBOL_ENSEMBL_TRANSCRIPT_MAP.txt;1:./resources/processed_data/HPA_GTEx_TISSUE_CELL_MAP.txt|None|3;==;Evidence at transcript level::4;==;cell line',\n",
       " 'rna-protein|;;|entity-class|RO_0002513|https://uswest.ensembl.org/Homo_sapiens/Transcript/Summary?t=|http://purl.obolibrary.org/obo/|t|0;1|None|None|4;==;protein-coding',\n",
       " 'variant-disease|:;rs;|entity-class|RO_0003302|https://www.ncbi.nlm.nih.gov/snp/|http://purl.obolibrary.org/obo/|t|9;12|1:./resources/processed_data/DISEASE_MONDO_MAP.txt|24;in;[\"criteria provided, multiple submitters, no conflicts\", \"reviewed by expert panel\", \"practice guideline\"]::7;==;1|9;!=;-1::16;==;GRCh38::8-9;dedup;desc',\n",
       " 'variant-gene|;rs;|entity-entity|RO_0002566|https://www.ncbi.nlm.nih.gov/snp/|http://www.ncbi.nlm.nih.gov/gene/|t|9;3|None|24;in;[\"criteria provided, multiple submitters, no conflicts\", \"reviewed by expert panel\", \"practice guideline\"]|9;!=;-1::3;!=;-1::16;==;GRCh38::8-9;dedup;desc',\n",
       " 'variant-phenotype|:;rs;|entity-class|RO_0003302|https://www.ncbi.nlm.nih.gov/snp/|http://purl.obolibrary.org/obo/|t|9;12|1:./resources/processed_data/PHENOTYPE_HPO_MAP.txt|24;in;[\"criteria provided, multiple submitters, no conflicts\", \"reviewed by expert panel\", \"practice guideline\"]::7;==;1|9;!=;-1::16;==;GRCh38::8-9;dedup;desc',\n",
       " 'chemical-inhibitor|;;|class-class|RO_0002449|http://purl.obolibrary.org/obo/|http://purl.obolibrary.org/obo/|t|0;1|None|None|None|None',\n",
       " 'chemical-molecule|;;|class-class|RO_0002436|http://purl.obolibrary.org/obo/|http://purl.obolibrary.org/obo/|t|0;1|None|None|None|None',\n",
       " 'chemical-transporter|;;|class-class|RO_0002020|http://purl.obolibrary.org/obo/|http://purl.obolibrary.org/obo/|t|0;1|None|None|None|None',\n",
       " 'chemical-substrate|;;|class-class|DIDEO_00000041|http://purl.obolibrary.org/obo/|http://purl.obolibrary.org/obo/|t|0;1|None|None|None|None']"
      ]
     },
     "execution_count": 8,
     "metadata": {},
     "output_type": "execute_result"
    }
   ],
   "source": [
    "ont.resource_info"
   ]
  },
  {
   "cell_type": "code",
   "execution_count": 65,
   "metadata": {},
   "outputs": [
    {
     "data": {
      "text/plain": [
       "'resources/resource_info.txt'"
      ]
     },
     "execution_count": 65,
     "metadata": {},
     "output_type": "execute_result"
    }
   ],
   "source": [
    "ont.resource_data"
   ]
  },
  {
   "cell_type": "markdown",
   "metadata": {},
   "source": [
    "<br>\n",
    "\n",
    "### Edge Data   <a class=\"anchor\" id=\"download-edge-data\"></a>\n",
    "In PheKnowLator, classes are nodes that originate from ontologies. Class data sources are Linked Data sources that are used to create edges in the knowledge graph and thus can connect to other class data sources. Sometimes we want to add data that is not already part of an ontology. In that case, data either be added as an `instance` of an existing ontology class or as its own `owl:class` by being added to the knowledge graph as a `subclass` of an existing `owl:class`."
   ]
  },
  {
   "cell_type": "code",
   "execution_count": 14,
   "metadata": {},
   "outputs": [
    {
     "name": "stdout",
     "output_type": "stream",
     "text": [
      "\n",
      "*** Downloading Data: edge_source_list_TC to \"resources/edge_data/\" ***\n",
      "\n"
     ]
    },
    {
     "name": "stderr",
     "output_type": "stream",
     "text": [
      "  0%|          | 0/33 [00:00<?, ?it/s]"
     ]
    },
    {
     "name": "stdout",
     "output_type": "stream",
     "text": [
      "\n",
      "Edge: chemical-disease\n",
      "\n",
      "Edge: chemical-gene\n",
      "\n",
      "Edge: chemical-gobp\n"
     ]
    },
    {
     "name": "stderr",
     "output_type": "stream",
     "text": [
      "  9%|▉         | 3/33 [00:04<00:43,  1.45s/it]"
     ]
    },
    {
     "name": "stdout",
     "output_type": "stream",
     "text": [
      "\n",
      "Edge: chemical-gocc\n",
      "\n",
      "Edge: chemical-gomf\n"
     ]
    },
    {
     "name": "stderr",
     "output_type": "stream",
     "text": [
      " 15%|█▌        | 5/33 [00:09<00:57,  2.04s/it]"
     ]
    },
    {
     "name": "stdout",
     "output_type": "stream",
     "text": [
      "\n",
      "Edge: chemical-pathway\n"
     ]
    },
    {
     "name": "stderr",
     "output_type": "stream",
     "text": [
      " 18%|█▊        | 6/33 [00:10<00:43,  1.63s/it]"
     ]
    },
    {
     "name": "stdout",
     "output_type": "stream",
     "text": [
      "\n",
      "Edge: chemical-phenotype\n"
     ]
    },
    {
     "name": "stderr",
     "output_type": "stream",
     "text": [
      " 21%|██        | 7/33 [00:20<01:45,  4.05s/it]"
     ]
    },
    {
     "name": "stdout",
     "output_type": "stream",
     "text": [
      "\n",
      "Edge: chemical-protein\n"
     ]
    },
    {
     "name": "stderr",
     "output_type": "stream",
     "text": [
      " 30%|███       | 10/33 [00:28<01:07,  2.92s/it]"
     ]
    },
    {
     "name": "stdout",
     "output_type": "stream",
     "text": [
      "\n",
      "Edge: disease-phenotype\n",
      "\n",
      "Edge: gene-disease\n",
      "\n",
      "Edge: gene-gene\n",
      "\n",
      "Edge: gene-pathway\n",
      "\n",
      "Edge: gene-phenotype\n",
      "\n",
      "Edge: gene-protein\n",
      "\n",
      "Edge: gene-rna\n",
      "\n",
      "Edge: gobp-pathway\n",
      "\n",
      "Edge: pathway-gocc\n"
     ]
    },
    {
     "name": "stderr",
     "output_type": "stream",
     "text": [
      " 52%|█████▏    | 17/33 [00:29<00:14,  1.07it/s]"
     ]
    },
    {
     "name": "stdout",
     "output_type": "stream",
     "text": [
      "\n",
      "Edge: pathway-gomf\n",
      "\n",
      "Edge: protein-anatomy\n",
      "\n",
      "Edge: protein-catalyst\n",
      "\n",
      "Edge: protein-cell\n"
     ]
    },
    {
     "name": "stderr",
     "output_type": "stream",
     "text": [
      " 64%|██████▎   | 21/33 [00:29<00:07,  1.56it/s]"
     ]
    },
    {
     "name": "stdout",
     "output_type": "stream",
     "text": [
      "\n",
      "Edge: protein-cofactor\n",
      "\n",
      "Edge: protein-gobp\n"
     ]
    },
    {
     "name": "stderr",
     "output_type": "stream",
     "text": [
      " 76%|███████▌  | 25/33 [00:31<00:04,  1.75it/s]"
     ]
    },
    {
     "name": "stdout",
     "output_type": "stream",
     "text": [
      "\n",
      "Edge: protein-gocc\n",
      "\n",
      "Edge: protein-gomf\n",
      "\n",
      "Edge: protein-pathway\n",
      "\n",
      "Edge: protein-protein\n",
      "\n",
      "Edge: rna-anatomy\n",
      "\n",
      "Edge: rna-cell\n",
      "\n",
      "Edge: rna-protein\n",
      "\n",
      "Edge: variant-disease\n",
      "\n",
      "Edge: variant-gene\n"
     ]
    },
    {
     "name": "stderr",
     "output_type": "stream",
     "text": [
      " 97%|█████████▋| 32/33 [00:53<00:01,  1.93s/it]"
     ]
    },
    {
     "name": "stdout",
     "output_type": "stream",
     "text": [
      "\n",
      "Edge: variant-phenotype\n"
     ]
    },
    {
     "name": "stderr",
     "output_type": "stream",
     "text": [
      "100%|██████████| 33/33 [01:07<00:00,  2.06s/it]\n"
     ]
    },
    {
     "name": "stdout",
     "output_type": "stream",
     "text": [
      "\n",
      "*** Generating Metadata ***\n",
      "\n"
     ]
    },
    {
     "name": "stderr",
     "output_type": "stream",
     "text": [
      "100%|██████████| 33/33 [00:00<00:00, 13740.89it/s]\n",
      "100%|██████████| 33/33 [00:00<00:00, 35112.13it/s]\n"
     ]
    },
    {
     "ename": "AttributeError",
     "evalue": "'LinkedData' object has no attribute 'writes_source_metadata_locally'",
     "output_type": "error",
     "traceback": [
      "\u001b[0;31m---------------------------------------------------------------------------\u001b[0m",
      "\u001b[0;31mAttributeError\u001b[0m                            Traceback (most recent call last)",
      "\u001b[0;32m<ipython-input-14-203811959c49>\u001b[0m in \u001b[0;36m<module>\u001b[0;34m\u001b[0m\n\u001b[1;32m      2\u001b[0m \u001b[0;31m#do this the first time to download all the edge data\u001b[0m\u001b[0;34m\u001b[0m\u001b[0;34m\u001b[0m\u001b[0;34m\u001b[0m\u001b[0m\n\u001b[1;32m      3\u001b[0m \u001b[0medges\u001b[0m\u001b[0;34m.\u001b[0m\u001b[0mdownloads_data_from_url\u001b[0m\u001b[0;34m(\u001b[0m\u001b[0;34m)\u001b[0m\u001b[0;34m\u001b[0m\u001b[0;34m\u001b[0m\u001b[0m\n\u001b[0;32m----> 4\u001b[0;31m \u001b[0medges\u001b[0m\u001b[0;34m.\u001b[0m\u001b[0mwrites_source_metadata_locally\u001b[0m\u001b[0;34m(\u001b[0m\u001b[0;34m)\u001b[0m\u001b[0;34m\u001b[0m\u001b[0;34m\u001b[0m\u001b[0m\n\u001b[0m",
      "\u001b[0;31mAttributeError\u001b[0m: 'LinkedData' object has no attribute 'writes_source_metadata_locally'"
     ]
    }
   ],
   "source": [
    "edges = LinkedData('resources/edge_source_list_TC.txt', 'resources/resource_info.txt')\n",
    "#do this the first time to download all the edge data\n",
    "edges.downloads_data_from_url()\n",
    "edges.writes_source_metadata_locally()"
   ]
  },
  {
   "cell_type": "code",
   "execution_count": 9,
   "metadata": {},
   "outputs": [],
   "source": [
    "edges = LinkedData('resources/edge_source_list.txt', 'resources/resource_info.txt')"
   ]
  },
  {
   "cell_type": "code",
   "execution_count": 10,
   "metadata": {},
   "outputs": [
    {
     "data": {
      "text/plain": [
       "'resources/resource_info.txt'"
      ]
     },
     "execution_count": 10,
     "metadata": {},
     "output_type": "execute_result"
    }
   ],
   "source": [
    "edges.resource_data"
   ]
  },
  {
   "cell_type": "code",
   "execution_count": 11,
   "metadata": {},
   "outputs": [],
   "source": [
    "edges.parses_resource_file()"
   ]
  },
  {
   "cell_type": "code",
   "execution_count": 12,
   "metadata": {},
   "outputs": [
    {
     "data": {
      "text/plain": [
       "{'chemical-disease': 'resources/edge_data/chemical-disease_CTD_chemicals_diseases.tsv',\n",
       " 'chemical-gene': 'resources/edge_data/chemical-gene_CTD_chem_gene_ixns.tsv',\n",
       " 'chemical-gobp': 'resources/edge_data/chemical-gobp_CTD_chem_go_enriched.tsv',\n",
       " 'chemical-gocc': 'resources/edge_data/chemical-gocc_CTD_chem_go_enriched.tsv',\n",
       " 'chemical-gomf': 'resources/edge_data/chemical-gomf_CTD_chem_go_enriched.tsv',\n",
       " 'chemical-pathway': 'resources/edge_data/chemical-pathway_ChEBI2Reactome_All_Levels.txt',\n",
       " 'chemical-protein': 'resources/edge_data/chemical-protein_CTD_chem_gene_ixns.tsv',\n",
       " 'chemical-phenotype': 'resources/edge_data/CTD_chemicals_diseases.tsv',\n",
       " 'disease-phenotype': 'resources/edge_data/phenotype.hpoa',\n",
       " 'gene-disease': 'resources/edge_data/gene-disease_curated_gene_disease_associations.tsv',\n",
       " 'gene-gene': 'resources/edge_data/gene-gene_COMBINED.DEFAULT_NETWORKS.BP_COMBINING.txt',\n",
       " 'gene-pathway': 'resources/edge_data/gene-pathway_CTD_genes_pathways.tsv',\n",
       " 'gene-phenotype': 'resources/edge_data/curated_gene_disease_associations.tsv',\n",
       " 'gene-protein': 'resources/processed_data/ENTREZ_GENE_PRO_ONTOLOGY_MAP.txt',\n",
       " 'gene-rna': 'resources/processed_data/ENTREZ_GENE_ENSEMBL_TRANSCRIPT_MAP.txt',\n",
       " 'gobp-pathway': 'resources/edge_data/gobp-pathway_gene_association.reactome',\n",
       " 'pathway-gocc': 'resources/edge_data/pathway-gocc_gene_association.reactome',\n",
       " 'pathway-gomf': 'resources/edge_data/pathway-gomf_gene_association.reactome',\n",
       " 'protein-anatomy': 'resources/processed_data/HPA_GTEX_RNA_GENE_PROTEIN_EDGES.txt',\n",
       " 'protein-catalyst': 'resources/processed_data/UNIPROT_PROTEIN_CATALYST.txt',\n",
       " 'protein-cofactor': 'resources/processed_data/UNIPROT_PROTEIN_COFACTOR.txt',\n",
       " 'protein-cell': 'resources/processed_data/HPA_GTEX_RNA_GENE_PROTEIN_EDGES.txt',\n",
       " 'protein-gobp': 'resources/edge_data/protein-gobp_goa_human.gaf',\n",
       " 'protein-gocc': 'resources/edge_data/protein-gocc_goa_human.gaf',\n",
       " 'protein-gomf': 'resources/edge_data/protein-gomf_goa_human.gaf',\n",
       " 'protein-pathway': 'resources/edge_data/protein-pathway_UniProt2Reactome_All_Levels.txt',\n",
       " 'protein-protein': 'resources/edge_data/protein-protein_9606.protein.links.v11.0.txt',\n",
       " 'rna-anatomy': 'resources/processed_data/HPA_GTEX_RNA_GENE_PROTEIN_EDGES.txt',\n",
       " 'rna-cell': 'resources/processed_data/HPA_GTEX_RNA_GENE_PROTEIN_EDGES.txt',\n",
       " 'rna-protein': 'resources/processed_data/ENSEMBL_TRANSCRIPT_PROTEIN_ONTOLOGY_MAP.txt',\n",
       " 'variant-disease': 'resources/processed_data/CLINVAR_VARIANT_GENE_DISEASE_PHENOTYPE_EDGES.txt',\n",
       " 'variant-gene': 'resources/processed_data/CLINVAR_VARIANT_GENE_DISEASE_PHENOTYPE_EDGES.txt',\n",
       " 'variant-phenotype': 'resources/processed_data/CLINVAR_VARIANT_GENE_DISEASE_PHENOTYPE_EDGES.txt',\n",
       " 'chemical-transporter': 'resources/processed_data/CHEMICAL_TRANSPORTER.tsv',\n",
       " 'chemical-molecule': 'resources/processed_data/CHEMICAL_MOLECULE.tsv',\n",
       " 'chemical-substrate': 'resources/processed_data/CHEMICAL_SUBSTRATE.tsv',\n",
       " 'chemical-inhibitor': 'resources/processed_data/CHEMICAL_INHIBITOR.tsv'}"
      ]
     },
     "execution_count": 12,
     "metadata": {},
     "output_type": "execute_result"
    }
   ],
   "source": [
    "edges.source_list"
   ]
  },
  {
   "cell_type": "code",
   "execution_count": 13,
   "metadata": {},
   "outputs": [
    {
     "name": "stdout",
     "output_type": "stream",
     "text": [
      "\n",
      "*** Generating Metadata ***\n",
      "\n"
     ]
    },
    {
     "name": "stderr",
     "output_type": "stream",
     "text": [
      "100%|██████████| 37/37 [00:00<00:00, 21536.12it/s]\n",
      "100%|██████████| 37/37 [00:00<00:00, 51626.50it/s]\n"
     ]
    }
   ],
   "source": [
    "edges.data_files = edges.source_list\n",
    "edges.generates_source_metadata()"
   ]
  },
  {
   "cell_type": "code",
   "execution_count": 20,
   "metadata": {},
   "outputs": [
    {
     "data": {
      "text/plain": [
       "['__class__',\n",
       " '__delattr__',\n",
       " '__dict__',\n",
       " '__dir__',\n",
       " '__doc__',\n",
       " '__eq__',\n",
       " '__format__',\n",
       " '__ge__',\n",
       " '__getattribute__',\n",
       " '__gt__',\n",
       " '__hash__',\n",
       " '__init__',\n",
       " '__init_subclass__',\n",
       " '__le__',\n",
       " '__lt__',\n",
       " '__metaclass__',\n",
       " '__module__',\n",
       " '__ne__',\n",
       " '__new__',\n",
       " '__reduce__',\n",
       " '__reduce_ex__',\n",
       " '__repr__',\n",
       " '__setattr__',\n",
       " '__sizeof__',\n",
       " '__str__',\n",
       " '__subclasshook__',\n",
       " '__weakref__',\n",
       " '_writes_source_metadata_locally',\n",
       " 'data_files',\n",
       " 'data_path',\n",
       " 'data_type',\n",
       " 'downloads_data_from_url',\n",
       " 'extracts_edge_metadata',\n",
       " 'generates_source_metadata',\n",
       " 'gets_data_type',\n",
       " 'metadata',\n",
       " 'parses_resource_file',\n",
       " 'resource_data',\n",
       " 'resource_dict',\n",
       " 'resource_info',\n",
       " 'source_list']"
      ]
     },
     "execution_count": 20,
     "metadata": {},
     "output_type": "execute_result"
    }
   ],
   "source": [
    "dir(edges)"
   ]
  },
  {
   "cell_type": "code",
   "execution_count": 14,
   "metadata": {},
   "outputs": [
    {
     "name": "stderr",
     "output_type": "stream",
     "text": [
      "100%|██████████| 37/37 [00:00<00:00, 46715.61it/s]\n"
     ]
    }
   ],
   "source": [
    "edges._writes_source_metadata_locally()"
   ]
  },
  {
   "cell_type": "code",
   "execution_count": 15,
   "metadata": {},
   "outputs": [
    {
     "data": {
      "text/plain": [
       "'resources/edge_source_list.txt'"
      ]
     },
     "execution_count": 15,
     "metadata": {},
     "output_type": "execute_result"
    }
   ],
   "source": [
    "edges.data_path"
   ]
  },
  {
   "cell_type": "code",
   "execution_count": 16,
   "metadata": {},
   "outputs": [
    {
     "data": {
      "text/plain": [
       "dict_keys(['chemical-disease', 'chemical-gene', 'chemical-gobp', 'chemical-gocc', 'chemical-gomf', 'chemical-pathway', 'chemical-protein', 'chemical-phenotype', 'disease-phenotype', 'gene-disease', 'gene-gene', 'gene-pathway', 'gene-phenotype', 'gene-protein', 'gene-rna', 'gobp-pathway', 'pathway-gocc', 'pathway-gomf', 'protein-anatomy', 'protein-catalyst', 'protein-cofactor', 'protein-cell', 'protein-gobp', 'protein-gocc', 'protein-gomf', 'protein-pathway', 'protein-protein', 'rna-anatomy', 'rna-cell', 'rna-protein', 'variant-disease', 'variant-gene', 'variant-phenotype', 'chemical-transporter', 'chemical-molecule', 'chemical-substrate', 'chemical-inhibitor'])"
      ]
     },
     "execution_count": 16,
     "metadata": {},
     "output_type": "execute_result"
    }
   ],
   "source": [
    "edges.source_list.keys()"
   ]
  },
  {
   "cell_type": "code",
   "execution_count": 17,
   "metadata": {},
   "outputs": [
    {
     "data": {
      "text/plain": [
       "{'disease': 'resources/ontologies/mondo_with_imports.owl',\n",
       " 'napdichem': 'resources/ontologies/chebi_lite_merged_with_imports.owl',\n",
       " 'protein': 'resources/ontologies/pr_with_imports.owl',\n",
       " 'pathway': 'resources/ontologies/pw_with_imports.owl',\n",
       " 'relation': 'resources/ontologies/ro_with_imports_AD_mods.owl',\n",
       " 'go': 'resources/ontologies/go_with_imports.owl',\n",
       " 'chemical': 'resources/ontologies/chebi_lite_with_imports.owl',\n",
       " 'phenotype': 'resources/ontologies/hp_with_imports.owl',\n",
       " 'anatomy': 'resources/ontologies/ext_with_imports.owl',\n",
       " 'cell': 'resources/ontologies/clo_with_imports.owl',\n",
       " 'genomic': 'resources/ontologies/so_with_imports.owl',\n",
       " 'oae': 'resources/ontologies/oae_merged_with_imports.owl'}"
      ]
     },
     "execution_count": 17,
     "metadata": {},
     "output_type": "execute_result"
    }
   ],
   "source": [
    "ont.data_files"
   ]
  },
  {
   "cell_type": "code",
   "execution_count": 18,
   "metadata": {},
   "outputs": [
    {
     "data": {
      "text/plain": [
       "{'chemical-disease': 'resources/edge_data/chemical-disease_CTD_chemicals_diseases.tsv',\n",
       " 'chemical-gene': 'resources/edge_data/chemical-gene_CTD_chem_gene_ixns.tsv',\n",
       " 'chemical-gobp': 'resources/edge_data/chemical-gobp_CTD_chem_go_enriched.tsv',\n",
       " 'chemical-gocc': 'resources/edge_data/chemical-gocc_CTD_chem_go_enriched.tsv',\n",
       " 'chemical-gomf': 'resources/edge_data/chemical-gomf_CTD_chem_go_enriched.tsv',\n",
       " 'chemical-pathway': 'resources/edge_data/chemical-pathway_ChEBI2Reactome_All_Levels.txt',\n",
       " 'chemical-protein': 'resources/edge_data/chemical-protein_CTD_chem_gene_ixns.tsv',\n",
       " 'chemical-phenotype': 'resources/edge_data/CTD_chemicals_diseases.tsv',\n",
       " 'disease-phenotype': 'resources/edge_data/phenotype.hpoa',\n",
       " 'gene-disease': 'resources/edge_data/gene-disease_curated_gene_disease_associations.tsv',\n",
       " 'gene-gene': 'resources/edge_data/gene-gene_COMBINED.DEFAULT_NETWORKS.BP_COMBINING.txt',\n",
       " 'gene-pathway': 'resources/edge_data/gene-pathway_CTD_genes_pathways.tsv',\n",
       " 'gene-phenotype': 'resources/edge_data/curated_gene_disease_associations.tsv',\n",
       " 'gene-protein': 'resources/processed_data/ENTREZ_GENE_PRO_ONTOLOGY_MAP.txt',\n",
       " 'gene-rna': 'resources/processed_data/ENTREZ_GENE_ENSEMBL_TRANSCRIPT_MAP.txt',\n",
       " 'gobp-pathway': 'resources/edge_data/gobp-pathway_gene_association.reactome',\n",
       " 'pathway-gocc': 'resources/edge_data/pathway-gocc_gene_association.reactome',\n",
       " 'pathway-gomf': 'resources/edge_data/pathway-gomf_gene_association.reactome',\n",
       " 'protein-anatomy': 'resources/processed_data/HPA_GTEX_RNA_GENE_PROTEIN_EDGES.txt',\n",
       " 'protein-catalyst': 'resources/processed_data/UNIPROT_PROTEIN_CATALYST.txt',\n",
       " 'protein-cofactor': 'resources/processed_data/UNIPROT_PROTEIN_COFACTOR.txt',\n",
       " 'protein-cell': 'resources/processed_data/HPA_GTEX_RNA_GENE_PROTEIN_EDGES.txt',\n",
       " 'protein-gobp': 'resources/edge_data/protein-gobp_goa_human.gaf',\n",
       " 'protein-gocc': 'resources/edge_data/protein-gocc_goa_human.gaf',\n",
       " 'protein-gomf': 'resources/edge_data/protein-gomf_goa_human.gaf',\n",
       " 'protein-pathway': 'resources/edge_data/protein-pathway_UniProt2Reactome_All_Levels.txt',\n",
       " 'protein-protein': 'resources/edge_data/protein-protein_9606.protein.links.v11.0.txt',\n",
       " 'rna-anatomy': 'resources/processed_data/HPA_GTEX_RNA_GENE_PROTEIN_EDGES.txt',\n",
       " 'rna-cell': 'resources/processed_data/HPA_GTEX_RNA_GENE_PROTEIN_EDGES.txt',\n",
       " 'rna-protein': 'resources/processed_data/ENSEMBL_TRANSCRIPT_PROTEIN_ONTOLOGY_MAP.txt',\n",
       " 'variant-disease': 'resources/processed_data/CLINVAR_VARIANT_GENE_DISEASE_PHENOTYPE_EDGES.txt',\n",
       " 'variant-gene': 'resources/processed_data/CLINVAR_VARIANT_GENE_DISEASE_PHENOTYPE_EDGES.txt',\n",
       " 'variant-phenotype': 'resources/processed_data/CLINVAR_VARIANT_GENE_DISEASE_PHENOTYPE_EDGES.txt',\n",
       " 'chemical-transporter': 'resources/processed_data/CHEMICAL_TRANSPORTER.tsv',\n",
       " 'chemical-molecule': 'resources/processed_data/CHEMICAL_MOLECULE.tsv',\n",
       " 'chemical-substrate': 'resources/processed_data/CHEMICAL_SUBSTRATE.tsv',\n",
       " 'chemical-inhibitor': 'resources/processed_data/CHEMICAL_INHIBITOR.tsv'}"
      ]
     },
     "execution_count": 18,
     "metadata": {},
     "output_type": "execute_result"
    }
   ],
   "source": [
    "edges.data_files"
   ]
  },
  {
   "cell_type": "markdown",
   "metadata": {},
   "source": [
    "<br>"
   ]
  },
  {
   "cell_type": "markdown",
   "metadata": {},
   "source": [
    "***\n",
    "\n",
    "## Create Edge Lists <a class=\"anchor\" id=\"create-edges\"></a>\n",
    "\n",
    "**Wiki Page:** **[`Data Sources`](https://github.com/callahantiff/PheKnowLator/wiki/v2-Data-Sources)**\n",
    "\n",
    "<br>\n",
    "\n",
    "**Purpose:** The code below will take the dictionaries of processed data described above and use them to create edge lists for each of the edge types specified in the [`resource_info.txt`](https://github.com/callahantiff/PheKnowLator/blob/master/resources/resource_info.txt). Each edge list will be appended to a nested dictionary (see details below).\n",
    "\n",
    "<br>\n",
    "\n",
    "**Assumptions:**  \n",
    "1. All `ontology` and `edge` data sources have been downloaded.   \n",
    "\n",
    "2. All code in the [`Data_Preparation.ipynb`](https://github.com/callahantiff/PheKnowLator/blob/master/notebooks/Data_Preparation.ipynb) Jupyter Notebook has been run. This Notebook contains code needed to generate all mapping, filtering, and label data.\n",
    "\n",
    "<br>\n",
    "\n",
    "**Output:** `Master_Edge_List_Dict.json`. Below is an example of what the `Master Edge Dictionary` contains for each processed resource:  \n",
    "```python\n",
    "master_edges = {'chemical-disease'  :\n",
    "                {'source_labels'    : ';MESH_;',\n",
    "                 'data_type'        : 'class-class',\n",
    "                 'edge_relation'    : 'RO_0002606',\n",
    "                 'uri'              : ('http://purl.obolibrary.org/obo/',\n",
    "                                       'http://purl.obolibrary.org/obo/'),\n",
    "                 'delimiter'        : '#',\n",
    "                 'column_idx'       : '1;4',\n",
    "                 'identifier_maps'  : '0:./MESH_CHEBI_MAP.txt;1:disease-dbxref-map',\n",
    "                 'evidence_criteria': \"5;!=;' \",\n",
    "                 'filter_criteria'  : 'None',\n",
    "                 'edge_list'        : ['...']}\n",
    "```\n",
    "\n",
    "***"
   ]
  },
  {
   "cell_type": "code",
   "execution_count": 21,
   "metadata": {},
   "outputs": [
    {
     "name": "stderr",
     "output_type": "stream",
     "text": [
      "/home/sanya/.conda/envs/sanya_kg/lib/python3.6/site-packages/ray/_private/services.py:238: UserWarning: Not all Ray Dashboard dependencies were found. To use the dashboard please install Ray using `pip install ray[default]`. To disable this message, set RAY_DISABLE_IMPORT_WARNING env var to '1'.\n",
      "  warnings.warn(warning_message)\n"
     ]
    },
    {
     "data": {
      "text/plain": [
       "{'node_ip_address': '130.49.206.138',\n",
       " 'raylet_ip_address': '130.49.206.138',\n",
       " 'redis_address': '130.49.206.138:6379',\n",
       " 'object_store_address': '/tmp/ray/session_2022-03-30_12-41-46_342243_3555/sockets/plasma_store',\n",
       " 'raylet_socket_name': '/tmp/ray/session_2022-03-30_12-41-46_342243_3555/sockets/raylet',\n",
       " 'webui_url': None,\n",
       " 'session_dir': '/tmp/ray/session_2022-03-30_12-41-46_342243_3555',\n",
       " 'metrics_export_port': 56008,\n",
       " 'node_id': 'c23430e46bbfab3ff7dde3fa63aab2bb9ab0360dc7a9f7e0a5d77941'}"
      ]
     },
     "execution_count": 21,
     "metadata": {},
     "output_type": "execute_result"
    }
   ],
   "source": [
    "# set-up environment for parallel processing -- even if running program serially these steps are needed\n",
    "import psutil\n",
    "cpus = psutil.cpu_count(logical=True)\n",
    "ray.init()"
   ]
  },
  {
   "cell_type": "code",
   "execution_count": 22,
   "metadata": {},
   "outputs": [
    {
     "name": "stdout",
     "output_type": "stream",
     "text": [
      "\u001b[2m\u001b[36m(pid=22131)\u001b[0m Finished Edge: gene-protein (gene = 19318, protein = 19135); 19523 unique edges\n",
      "\u001b[2m\u001b[36m(pid=22131)\u001b[0m Finished Edge: rna-protein (rna = 44199, protein = 19197); 44202 unique edges\n",
      "\u001b[2m\u001b[36m(pid=22135)\u001b[0m Finished Edge: gobp-pathway (gobp = 478, pathway = 671); 671 unique edges\n",
      "\u001b[2m\u001b[36m(pid=22145)\u001b[0m Finished Edge: gene-pathway (gene = 10371, pathway = 1860); 107025 unique edges\n",
      "\u001b[2m\u001b[36m(pid=22137)\u001b[0m Finished Edge: gene-rna (gene = 25529, rna = 179874); 182717 unique edges\n",
      "\u001b[2m\u001b[36m(pid=22133)\u001b[0m Finished Edge: gene-disease (gene = 5037, disease = 4431); 12738 unique edges\n",
      "\u001b[2m\u001b[36m(pid=22136)\u001b[0m Finished Edge: gene-phenotype (gene = 6785, phenotype = 1531); 23525 unique edges\n",
      "\u001b[2m\u001b[36m(pid=22143)\u001b[0m Finished Edge: chemical-pathway (chemical = 2169, pathway = 2232); 29248 unique edges\n",
      "\u001b[2m\u001b[36m(pid=22138)\u001b[0m Finished Edge: disease-phenotype (disease = 11864, phenotype = 9964); 427477 unique edges\n",
      "\u001b[2m\u001b[36m(pid=22143)\u001b[0m Finished Edge: protein-cell (protein = 10045, cell = 128); 75318 unique edges\n",
      "\u001b[2m\u001b[36m(pid=22136)\u001b[0m Finished Edge: rna-cell (rna = 14044, cell = 130); 65180 unique edges\n",
      "\u001b[2m\u001b[36m(pid=22145)\u001b[0m Finished Edge: rna-anatomy (rna = 29121, anatomy = 103); 444974 unique edges\n",
      "\u001b[2m\u001b[36m(pid=22133)\u001b[0m Finished Edge: protein-pathway (protein = 10897, pathway = 2500); 118158 unique edges\n",
      "\u001b[2m\u001b[36m(pid=22138)\u001b[0m Finished Edge: protein-gomf (protein = 17799, gomf = 4447); 70085 unique edges\n",
      "\u001b[2m\u001b[36m(pid=22130)\u001b[0m Finished Edge: gene-gene (gene = 250, gene = 266); 1691 unique edges\n",
      "\u001b[2m\u001b[36m(pid=22139)\u001b[0m Finished Edge: chemical-gene (chemical = 463, gene = 11980); 16701 unique edges\n",
      "\u001b[2m\u001b[36m(pid=22139)\u001b[0m Finished Edge: pathway-gomf (pathway = 2420, gomf = 727); 2424 unique edges\n",
      "\u001b[2m\u001b[36m(pid=22139)\u001b[0m Finished Edge: chemical-transporter (chemical = 58, transporter = 10); 90 unique edges\n",
      "\u001b[2m\u001b[36m(pid=22140)\u001b[0m Finished Edge: chemical-protein (chemical = 4224, protein = 6625); 66828 unique edges\n",
      "\u001b[2m\u001b[36m(pid=22140)\u001b[0m Finished Edge: protein-gobp (protein = 17379, gobp = 12365); 129408 unique edges\n",
      "\u001b[2m\u001b[36m(pid=22132)\u001b[0m Finished Edge: chemical-gomf (chemical = 1113, gomf = 209); 26788 unique edges\n",
      "\u001b[2m\u001b[36m(pid=22132)\u001b[0m Finished Edge: protein-cofactor (protein = 1584, cofactor = 44); 1998 unique edges\n",
      "\u001b[2m\u001b[36m(pid=22132)\u001b[0m Finished Edge: chemical-inhibitor (chemical = 128, inhibitor = 29); 272 unique edges\n",
      "\u001b[2m\u001b[36m(pid=22141)\u001b[0m Finished Edge: chemical-gocc (chemical = 1106, gocc = 258); 46372 unique edges\n",
      "\u001b[2m\u001b[36m(pid=22141)\u001b[0m Finished Edge: protein-catalyst (protein = 3049, catalyst = 3758); 25136 unique edges\n",
      "\u001b[2m\u001b[36m(pid=22141)\u001b[0m Finished Edge: chemical-substrate (chemical = 292, substrate = 33); 514 unique edges\n",
      "\u001b[2m\u001b[36m(pid=22144)\u001b[0m Finished Edge: chemical-phenotype (chemical = 4068, phenotype = 1721); 108366 unique edges\n",
      "\u001b[2m\u001b[36m(pid=22142)\u001b[0m Finished Edge: chemical-disease (chemical = 4309, disease = 4577); 171506 unique edges\n",
      "\u001b[2m\u001b[36m(pid=22142)\u001b[0m Finished Edge: pathway-gocc (pathway = 11219, gocc = 99); 15982 unique edges\n",
      "\u001b[2m\u001b[36m(pid=22144)\u001b[0m Finished Edge: protein-gocc (protein = 18443, gocc = 1756); 82366 unique edges\n",
      "\u001b[2m\u001b[36m(pid=22134)\u001b[0m Finished Edge: chemical-gobp (chemical = 1360, gobp = 1635); 304686 unique edges\n",
      "\u001b[2m\u001b[36m(pid=22134)\u001b[0m Finished Edge: protein-anatomy (protein = 10747, anatomy = 68); 30682 unique edges\n",
      "\u001b[2m\u001b[36m(pid=22134)\u001b[0m Finished Edge: chemical-molecule (chemical = 212, molecule = 38); 391 unique edges\n",
      "\u001b[2m\u001b[36m(pid=22130)\u001b[0m Finished Edge: protein-protein (protein = 14230, protein = 14230); 618069 unique edges\n",
      "\u001b[2m\u001b[36m(pid=22137)\u001b[0m Finished Edge: variant-disease (variant = 14643, disease = 3716); 40956 unique edges\n",
      "\u001b[2m\u001b[36m(pid=22142)\u001b[0m Finished Edge: variant-phenotype (variant = 1985, phenotype = 428); 2764 unique edges\n",
      "\u001b[2m\u001b[36m(pid=22135)\u001b[0m Finished Edge: variant-gene (variant = 134665, gene = 3357); 134665 unique edges\n"
     ]
    }
   ],
   "source": [
    "# combine data sources\n",
    "combined_edges = dict(edges.data_files, **ont.data_files)\n",
    "resource_info_loc = './resources/resource_info.txt'\n",
    "\n",
    "# initialize edge dictionary class\n",
    "master_edges = CreatesEdgeList(data_files=combined_edges, source_file=resource_info_loc)\n",
    "master_edges.runs_creates_knowledge_graph_edges(source_file=resource_info_loc, data_files=combined_edges, cpus=cpus)"
   ]
  },
  {
   "cell_type": "markdown",
   "metadata": {},
   "source": [
    "**Preview Master Edge Data**  \n",
    "Generate a table that includes each `edge-type`, its primary `relation`, example identifiers, and count of unique edges."
   ]
  },
  {
   "cell_type": "code",
   "execution_count": 23,
   "metadata": {},
   "outputs": [
    {
     "data": {
      "text/plain": [
       "dict_keys(['chemical-transporter', 'chemical-gobp', 'pathway-gomf', 'chemical-phenotype', 'chemical-molecule', 'chemical-substrate', 'protein-protein', 'variant-phenotype', 'rna-cell', 'gene-protein', 'chemical-inhibitor', 'pathway-gocc', 'chemical-gocc', 'chemical-disease', 'protein-gocc', 'gene-disease', 'chemical-gomf', 'gene-pathway', 'rna-anatomy', 'protein-catalyst', 'gene-gene', 'disease-phenotype', 'chemical-pathway', 'variant-gene', 'protein-pathway', 'protein-gomf', 'variant-disease', 'chemical-gene', 'protein-anatomy', 'gobp-pathway', 'protein-cofactor', 'gene-rna', 'rna-protein', 'chemical-protein', 'protein-gobp', 'gene-phenotype', 'protein-cell'])"
      ]
     },
     "execution_count": 23,
     "metadata": {},
     "output_type": "execute_result"
    }
   ],
   "source": [
    "master_edges = json.load(open('resources/Master_Edge_List_Dict.json', 'r'))\n",
    "master_edges.keys()"
   ]
  },
  {
   "cell_type": "code",
   "execution_count": 24,
   "metadata": {},
   "outputs": [
    {
     "data": {
      "text/html": [
       "<div>\n",
       "<style scoped>\n",
       "    .dataframe tbody tr th:only-of-type {\n",
       "        vertical-align: middle;\n",
       "    }\n",
       "\n",
       "    .dataframe tbody tr th {\n",
       "        vertical-align: top;\n",
       "    }\n",
       "\n",
       "    .dataframe thead th {\n",
       "        text-align: right;\n",
       "    }\n",
       "</style>\n",
       "<table border=\"1\" class=\"dataframe\">\n",
       "  <thead>\n",
       "    <tr style=\"text-align: right;\">\n",
       "      <th></th>\n",
       "      <th>Edge Type</th>\n",
       "      <th>Relation</th>\n",
       "      <th>Example Edge</th>\n",
       "      <th>Unique Edges</th>\n",
       "    </tr>\n",
       "  </thead>\n",
       "  <tbody>\n",
       "    <tr>\n",
       "      <th>0</th>\n",
       "      <td>chemical-transporter</td>\n",
       "      <td>transports</td>\n",
       "      <td>CHEBI_51141, PR_Q14242</td>\n",
       "      <td>90</td>\n",
       "    </tr>\n",
       "    <tr>\n",
       "      <th>1</th>\n",
       "      <td>chemical-gobp</td>\n",
       "      <td>molecularly interacts with</td>\n",
       "      <td>CHEBI_35299, GO_0048856</td>\n",
       "      <td>304686</td>\n",
       "    </tr>\n",
       "    <tr>\n",
       "      <th>2</th>\n",
       "      <td>pathway-gomf</td>\n",
       "      <td>has function</td>\n",
       "      <td>R-HSA-8876283, GO_0015370</td>\n",
       "      <td>2424</td>\n",
       "    </tr>\n",
       "    <tr>\n",
       "      <th>3</th>\n",
       "      <td>chemical-phenotype</td>\n",
       "      <td>is substance that treats</td>\n",
       "      <td>CHEBI_701, HP_0001250</td>\n",
       "      <td>108366</td>\n",
       "    </tr>\n",
       "    <tr>\n",
       "      <th>4</th>\n",
       "      <td>chemical-molecule</td>\n",
       "      <td>molecularly interacts with</td>\n",
       "      <td>CHEBI_6030, PR_P08684</td>\n",
       "      <td>391</td>\n",
       "    </tr>\n",
       "    <tr>\n",
       "      <th>5</th>\n",
       "      <td>chemical-substrate</td>\n",
       "      <td>is substrate of</td>\n",
       "      <td>CHEBI_8871, PR_P08684</td>\n",
       "      <td>514</td>\n",
       "    </tr>\n",
       "    <tr>\n",
       "      <th>6</th>\n",
       "      <td>protein-protein</td>\n",
       "      <td>molecularly interacts with</td>\n",
       "      <td>PR_P84085, PR_O15020</td>\n",
       "      <td>618069</td>\n",
       "    </tr>\n",
       "    <tr>\n",
       "      <th>7</th>\n",
       "      <td>variant-phenotype</td>\n",
       "      <td>causes or contributes to condition</td>\n",
       "      <td>rs121909005, HP_0012873</td>\n",
       "      <td>2764</td>\n",
       "    </tr>\n",
       "    <tr>\n",
       "      <th>8</th>\n",
       "      <td>rna-cell</td>\n",
       "      <td>located in</td>\n",
       "      <td>ENST00000442999, UBERON_0000002</td>\n",
       "      <td>65180</td>\n",
       "    </tr>\n",
       "    <tr>\n",
       "      <th>9</th>\n",
       "      <td>gene-protein</td>\n",
       "      <td>has gene product</td>\n",
       "      <td>9988, PR_Q9Y222</td>\n",
       "      <td>19523</td>\n",
       "    </tr>\n",
       "    <tr>\n",
       "      <th>10</th>\n",
       "      <td>chemical-inhibitor</td>\n",
       "      <td>directly negatively regulates activity of</td>\n",
       "      <td>CHEBI_87681, PR_Q14242</td>\n",
       "      <td>272</td>\n",
       "    </tr>\n",
       "    <tr>\n",
       "      <th>11</th>\n",
       "      <td>pathway-gocc</td>\n",
       "      <td>has component</td>\n",
       "      <td>R-HSA-166753, GO_0005576</td>\n",
       "      <td>15982</td>\n",
       "    </tr>\n",
       "    <tr>\n",
       "      <th>12</th>\n",
       "      <td>chemical-gocc</td>\n",
       "      <td>molecularly interacts with</td>\n",
       "      <td>CHEBI_34568, GO_0005623</td>\n",
       "      <td>46372</td>\n",
       "    </tr>\n",
       "    <tr>\n",
       "      <th>13</th>\n",
       "      <td>chemical-disease</td>\n",
       "      <td>is substance that treats</td>\n",
       "      <td>CHEBI_701, MONDO_0005027</td>\n",
       "      <td>171506</td>\n",
       "    </tr>\n",
       "    <tr>\n",
       "      <th>14</th>\n",
       "      <td>protein-gocc</td>\n",
       "      <td>located in</td>\n",
       "      <td>PR_A0A024RBG1, GO_0005829</td>\n",
       "      <td>82366</td>\n",
       "    </tr>\n",
       "    <tr>\n",
       "      <th>15</th>\n",
       "      <td>gene-disease</td>\n",
       "      <td>causes or contributes to condition</td>\n",
       "      <td>2, MONDO_0010200</td>\n",
       "      <td>12738</td>\n",
       "    </tr>\n",
       "    <tr>\n",
       "      <th>16</th>\n",
       "      <td>chemical-gomf</td>\n",
       "      <td>molecularly interacts with</td>\n",
       "      <td>CHEBI_34568, GO_0005488</td>\n",
       "      <td>26788</td>\n",
       "    </tr>\n",
       "    <tr>\n",
       "      <th>17</th>\n",
       "      <td>gene-pathway</td>\n",
       "      <td>participates in</td>\n",
       "      <td>1, R-HSA-109582</td>\n",
       "      <td>107025</td>\n",
       "    </tr>\n",
       "    <tr>\n",
       "      <th>18</th>\n",
       "      <td>rna-anatomy</td>\n",
       "      <td>located in</td>\n",
       "      <td>ENST00000442999, CL_0000775</td>\n",
       "      <td>444974</td>\n",
       "    </tr>\n",
       "    <tr>\n",
       "      <th>19</th>\n",
       "      <td>protein-catalyst</td>\n",
       "      <td>molecularly interacts with</td>\n",
       "      <td>PR_Q00266, CHEBI_15377</td>\n",
       "      <td>25136</td>\n",
       "    </tr>\n",
       "    <tr>\n",
       "      <th>20</th>\n",
       "      <td>gene-gene</td>\n",
       "      <td>genetically interacts with</td>\n",
       "      <td>84220, 729540</td>\n",
       "      <td>1691</td>\n",
       "    </tr>\n",
       "    <tr>\n",
       "      <th>21</th>\n",
       "      <td>disease-phenotype</td>\n",
       "      <td>has phenotype</td>\n",
       "      <td>MONDO_0010761, HP_0000510</td>\n",
       "      <td>427477</td>\n",
       "    </tr>\n",
       "    <tr>\n",
       "      <th>22</th>\n",
       "      <td>chemical-pathway</td>\n",
       "      <td>participates in</td>\n",
       "      <td>CHEBI_10033, R-HSA-1430728</td>\n",
       "      <td>29248</td>\n",
       "    </tr>\n",
       "    <tr>\n",
       "      <th>23</th>\n",
       "      <td>variant-gene</td>\n",
       "      <td>causally influences</td>\n",
       "      <td>rs63750723, 2896</td>\n",
       "      <td>134665</td>\n",
       "    </tr>\n",
       "    <tr>\n",
       "      <th>24</th>\n",
       "      <td>protein-pathway</td>\n",
       "      <td>participates in</td>\n",
       "      <td>PR_A0A075B6P5, R-HSA-109582</td>\n",
       "      <td>118158</td>\n",
       "    </tr>\n",
       "    <tr>\n",
       "      <th>25</th>\n",
       "      <td>protein-gomf</td>\n",
       "      <td>has function</td>\n",
       "      <td>PR_A0A024RBG1, GO_0003723</td>\n",
       "      <td>70085</td>\n",
       "    </tr>\n",
       "    <tr>\n",
       "      <th>26</th>\n",
       "      <td>variant-disease</td>\n",
       "      <td>causes or contributes to condition</td>\n",
       "      <td>rs11540654, MONDO_0007903</td>\n",
       "      <td>40956</td>\n",
       "    </tr>\n",
       "    <tr>\n",
       "      <th>27</th>\n",
       "      <td>chemical-gene</td>\n",
       "      <td>interacts with</td>\n",
       "      <td>CHEBI_28667, 348</td>\n",
       "      <td>16701</td>\n",
       "    </tr>\n",
       "    <tr>\n",
       "      <th>28</th>\n",
       "      <td>protein-anatomy</td>\n",
       "      <td>located in</td>\n",
       "      <td>PR_P04217, UBERON_0001114</td>\n",
       "      <td>30682</td>\n",
       "    </tr>\n",
       "    <tr>\n",
       "      <th>29</th>\n",
       "      <td>gobp-pathway</td>\n",
       "      <td>realized in response to</td>\n",
       "      <td>GO_0016567, R-HSA-8866654</td>\n",
       "      <td>671</td>\n",
       "    </tr>\n",
       "    <tr>\n",
       "      <th>30</th>\n",
       "      <td>protein-cofactor</td>\n",
       "      <td>molecularly interacts with</td>\n",
       "      <td>PR_Q00266, CHEBI_18420</td>\n",
       "      <td>1998</td>\n",
       "    </tr>\n",
       "    <tr>\n",
       "      <th>31</th>\n",
       "      <td>gene-rna</td>\n",
       "      <td>transcribed to</td>\n",
       "      <td>92291, ENST00000458085</td>\n",
       "      <td>182717</td>\n",
       "    </tr>\n",
       "    <tr>\n",
       "      <th>32</th>\n",
       "      <td>rna-protein</td>\n",
       "      <td>ribosomally translates to</td>\n",
       "      <td>ENST00000652315, PR_Q9BZ29</td>\n",
       "      <td>44202</td>\n",
       "    </tr>\n",
       "    <tr>\n",
       "      <th>33</th>\n",
       "      <td>chemical-protein</td>\n",
       "      <td>interacts with</td>\n",
       "      <td>CHEBI_4592, PR_P07099</td>\n",
       "      <td>66828</td>\n",
       "    </tr>\n",
       "    <tr>\n",
       "      <th>34</th>\n",
       "      <td>protein-gobp</td>\n",
       "      <td>participates in</td>\n",
       "      <td>PR_A0A075B6H7, GO_0002250</td>\n",
       "      <td>129408</td>\n",
       "    </tr>\n",
       "    <tr>\n",
       "      <th>35</th>\n",
       "      <td>gene-phenotype</td>\n",
       "      <td>causes or contributes to condition</td>\n",
       "      <td>1, HP_0002240</td>\n",
       "      <td>23525</td>\n",
       "    </tr>\n",
       "    <tr>\n",
       "      <th>36</th>\n",
       "      <td>protein-cell</td>\n",
       "      <td>located in</td>\n",
       "      <td>PR_P04217, UBERON_0002113</td>\n",
       "      <td>75318</td>\n",
       "    </tr>\n",
       "  </tbody>\n",
       "</table>\n",
       "</div>"
      ],
      "text/plain": [
       "               Edge Type                                   Relation  \\\n",
       "0   chemical-transporter                                 transports   \n",
       "1          chemical-gobp                 molecularly interacts with   \n",
       "2           pathway-gomf                               has function   \n",
       "3     chemical-phenotype                   is substance that treats   \n",
       "4      chemical-molecule                 molecularly interacts with   \n",
       "5     chemical-substrate                            is substrate of   \n",
       "6        protein-protein                 molecularly interacts with   \n",
       "7      variant-phenotype         causes or contributes to condition   \n",
       "8               rna-cell                                 located in   \n",
       "9           gene-protein                           has gene product   \n",
       "10    chemical-inhibitor  directly negatively regulates activity of   \n",
       "11          pathway-gocc                              has component   \n",
       "12         chemical-gocc                 molecularly interacts with   \n",
       "13      chemical-disease                   is substance that treats   \n",
       "14          protein-gocc                                 located in   \n",
       "15          gene-disease         causes or contributes to condition   \n",
       "16         chemical-gomf                 molecularly interacts with   \n",
       "17          gene-pathway                            participates in   \n",
       "18           rna-anatomy                                 located in   \n",
       "19      protein-catalyst                 molecularly interacts with   \n",
       "20             gene-gene                 genetically interacts with   \n",
       "21     disease-phenotype                              has phenotype   \n",
       "22      chemical-pathway                            participates in   \n",
       "23          variant-gene                        causally influences   \n",
       "24       protein-pathway                            participates in   \n",
       "25          protein-gomf                               has function   \n",
       "26       variant-disease         causes or contributes to condition   \n",
       "27         chemical-gene                             interacts with   \n",
       "28       protein-anatomy                                 located in   \n",
       "29          gobp-pathway                    realized in response to   \n",
       "30      protein-cofactor                 molecularly interacts with   \n",
       "31              gene-rna                             transcribed to   \n",
       "32           rna-protein                  ribosomally translates to   \n",
       "33      chemical-protein                             interacts with   \n",
       "34          protein-gobp                            participates in   \n",
       "35        gene-phenotype         causes or contributes to condition   \n",
       "36          protein-cell                                 located in   \n",
       "\n",
       "                       Example Edge  Unique Edges  \n",
       "0            CHEBI_51141, PR_Q14242            90  \n",
       "1           CHEBI_35299, GO_0048856        304686  \n",
       "2         R-HSA-8876283, GO_0015370          2424  \n",
       "3             CHEBI_701, HP_0001250        108366  \n",
       "4             CHEBI_6030, PR_P08684           391  \n",
       "5             CHEBI_8871, PR_P08684           514  \n",
       "6              PR_P84085, PR_O15020        618069  \n",
       "7           rs121909005, HP_0012873          2764  \n",
       "8   ENST00000442999, UBERON_0000002         65180  \n",
       "9                   9988, PR_Q9Y222         19523  \n",
       "10           CHEBI_87681, PR_Q14242           272  \n",
       "11         R-HSA-166753, GO_0005576         15982  \n",
       "12          CHEBI_34568, GO_0005623         46372  \n",
       "13         CHEBI_701, MONDO_0005027        171506  \n",
       "14        PR_A0A024RBG1, GO_0005829         82366  \n",
       "15                 2, MONDO_0010200         12738  \n",
       "16          CHEBI_34568, GO_0005488         26788  \n",
       "17                  1, R-HSA-109582        107025  \n",
       "18      ENST00000442999, CL_0000775        444974  \n",
       "19           PR_Q00266, CHEBI_15377         25136  \n",
       "20                    84220, 729540          1691  \n",
       "21        MONDO_0010761, HP_0000510        427477  \n",
       "22       CHEBI_10033, R-HSA-1430728         29248  \n",
       "23                 rs63750723, 2896        134665  \n",
       "24      PR_A0A075B6P5, R-HSA-109582        118158  \n",
       "25        PR_A0A024RBG1, GO_0003723         70085  \n",
       "26        rs11540654, MONDO_0007903         40956  \n",
       "27                 CHEBI_28667, 348         16701  \n",
       "28        PR_P04217, UBERON_0001114         30682  \n",
       "29        GO_0016567, R-HSA-8866654           671  \n",
       "30           PR_Q00266, CHEBI_18420          1998  \n",
       "31           92291, ENST00000458085        182717  \n",
       "32       ENST00000652315, PR_Q9BZ29         44202  \n",
       "33            CHEBI_4592, PR_P07099         66828  \n",
       "34        PR_A0A075B6H7, GO_0002250        129408  \n",
       "35                    1, HP_0002240         23525  \n",
       "36        PR_P04217, UBERON_0002113         75318  "
      ]
     },
     "execution_count": 24,
     "metadata": {},
     "output_type": "execute_result"
    }
   ],
   "source": [
    "# # read in master edge dictionary\n",
    "#master_edges = json.load(open('resources/Master_Edge_List_Dict.json', 'r'))\n",
    "\n",
    "# read in relation data\n",
    "relation_data = open('./resources/relations_data/RELATIONS_LABELS.txt').readlines()\n",
    "relation_dict = {x.split('\\t')[0]: x.split('\\t')[1].strip('\\n') for x in relation_data}\n",
    "\n",
    "# print basic stats on each resource\n",
    "edge_data = [[key,\n",
    "              relation_dict[master_edges[key]['edge_relation']],\n",
    "              ', '.join(master_edges[key]['edge_list'][0]),\n",
    "              len(master_edges[key]['edge_list'])]\n",
    "             for key in master_edges.keys()]\n",
    "\n",
    "# convert dict to pandas df for nice printing\n",
    "df = pandas.DataFrame(edge_data, columns = ['Edge Type', 'Relation', 'Example Edge', 'Unique Edges']) \n",
    "df                "
   ]
  },
  {
   "cell_type": "markdown",
   "metadata": {},
   "source": [
    "<br><br>"
   ]
  },
  {
   "cell_type": "markdown",
   "metadata": {},
   "source": [
    "***\n",
    "\n",
    "## Build Knowledge Graph  <a class=\"anchor\" id=\"build-kg\"></a>\n",
    "**Wiki Pages:**  \n",
    "- **[`KG-Construction`](https://github.com/callahantiff/PheKnowLator/wiki/KG-Construction)**  \n",
    "- **[`relations-data`](https://github.com/callahantiff/PheKnowLator/wiki/Dependencies#relations-data)**  \n",
    "- **[`node-metadata`](https://github.com/callahantiff/PheKnowLator/wiki/Dependencies#node-metadata)** \n",
    "\n",
    "**Jupyter Notebooks:**  \n",
    "- [`Data_Preparation.ipynb`](https://github.com/callahantiff/PheKnowLator/blob/master/notebooks/Data_Preparation.ipynb)  \n",
    "[`Ontology_Cleaning.ipynb`](https://github.com/callahantiff/PheKnowLator/blob/master/notebooks/Ontology_Cleaning.ipynb)  \n",
    "\n",
    "\n",
    "<br>\n",
    "\n",
    "**Assumptions:**  \n",
    "- <u>Construction Approach</u>. If using the `subclass-based` construction approach, please make sure that a `pickled` dictionary mapping each non-ontology data node to an existing ontology class is created and added to the `./resources/knowledge_graph` directory (please see [here](https://github.com/callahantiff/PheKnowLator/tree/master/resources/knowledge_graphs#construction-method) for additional information).   \n",
    "- <u>Relations Data</u>. If inverse relation data is going to be used to build the knowledge graph, that it has been generated and added to the `./resources/relations_data` directory (please see [here](https://github.com/callahantiff/PheKnowLator/blob/master/resources/relations_data/README.md) for additional information).  \n",
    "- <u>Node Metadata</u>. If node metadata is going to be used to build the knowledge graph, that it has been generated and added to the `./resources/node_metadata` directory (please see [here](https://github.com/callahantiff/PheKnowLator/blob/master/resources/node_data/README.md) for additional information).  \n",
    "- <u>Decoding OWL Semantics</u>. If decoding OWL-Semantics, please make sure to provide a list of owl:Property types to keep is created and added to the `./resources/knowledge_graph` directory (please see [here](https://github.com/callahantiff/PheKnowLator/wiki/OWL-NETS-2.0) for additional information). \n",
    "\n",
    "<br>\n",
    "\n",
    "**Input:** \n",
    "- `Master_Edge_List_Dict.json`  \n",
    "- Directory of relations data sources - see [here](https://github.com/callahantiff/PheKnowLator/wiki/Dependencies#relations-data) for more information\n",
    "- Directory of node data sources - see [here](https://github.com/callahantiff/PheKnowLator/wiki/Dependencies#node-metadata) for more information\n",
    "\n",
    "<br>\n",
    "\n",
    "**Output:** Please see [`Release v2.0.0 Wiki`](https://github.com/callahantiff/PheKnowLator/wiki/v2.0.0) for access to all generated output files.   \n",
    "- `Knowledge Graph` (`.owl` and Networkx MultiDiGraph `.pkl`)  \n",
    "- `Class Instance URI-UUID Map` (if \"instance\" construction approach)   \n",
    "- `Triple List - Integer`  \n",
    "- `Triple List - Identifier`  \n",
    "- `Node Integer-Identifier Map`  \n",
    "- `Node Attribute Data`  \n",
    "\n",
    "<br>\n",
    "\n",
    "The process to build the knowledge graph is somewhat time consuming and can be broken into the following steps:  \n",
    "\n",
    "1. Merge Ontologies. See [here](https://github.com/callahantiff/PheKnowLator/blob/master/resources/ontologies/README.md) for additional information on how to preprocess the ontologies prior to merging them.    \n",
    "\n",
    "2. Create Edges. Add edge lists to merged ontologies.  \n",
    "\n",
    "3. Add Inverse Relations and Node Data. See the [Dependencies](https://github.com/callahantiff/PheKnowLator/wiki/Dependencies) Wiki page for details on how to construct these resources.  \n",
    "\n",
    "4. Filter OWL Semantics. Filter the knowledge graph with the goal of removing all edges that contain entities that are needed to support owl semantics, but are not biologically meaningful (please see [here](https://github.com/callahantiff/PheKnowLator/wiki/OWL-NETS-2.0) for additional information).\n",
    "\n",
    "5. Save Edge Lists and Node Metadata. Several versions of the knowledge graph are saved, including: the full knowledge graph (`owl` or Networkx MultiDiGraph `pickle`), triple lists (i.e. integer index and identifier labeled edge lists with a dictionary that maps between the integer indices and node identifiers), and a file of metadata (i.e. identifiers, labels, synonyms, and descriptions) for all nodes in the knowledge graph.  \n",
    "\n",
    "<br>\n",
    "\n",
    "**‼ IMPORTANT:**  \n",
    "- The file containing the merged ontologies is quite large and can take up to 30 minutes to read in.  This is not a limitation of the code directly, but rather a function of the [`RDFLib Library`](https://github.com/RDFLib). While there are other ways to read in this data, we maintain reliance on this library as it is the most user-friendly for non-RDF users.   \n",
    "- If you'd like to include [node metadata](https://github.com/callahantiff/PheKnowLator/wiki/Dependencies#node-metadata) when building the knowledge graph, please hold off on building the knowledge graph until you have generated the node data. For details on how to do this see the [node metadata](https://github.com/callahantiff/PheKnowLator/wiki/Dependencies#node-metadata) section of the `Dependencies` Wiki Page or help for help with generating the data, please see the []() section of the [`Data_Preparation.ipynb`](https://github.com/callahantiff/PheKnowLator/blob/master/notebooks/Data_Preparation.ipynb) Jupyter Notebook.\n",
    "\n",
    "***\n"
   ]
  },
  {
   "cell_type": "code",
   "execution_count": 27,
   "metadata": {},
   "outputs": [],
   "source": [
    "# specify input arguments\n",
    "build = 'full'\n",
    "construction_approach = 'instance'\n",
    "add_node_data_to_kg = 'yes'\n",
    "add_inverse_relations_to_kg = 'yes'\n",
    "decode_owl_semantics = 'yes'\n",
    "kg_directory_location = './resources/knowledge_graphs'"
   ]
  },
  {
   "cell_type": "code",
   "execution_count": null,
   "metadata": {},
   "outputs": [],
   "source": [
    "# construct knowledge graphs, run sed command before this\n",
    "if build == 'partial':\n",
    "    kg = PartialBuild(construction=construction_approach,\n",
    "                      node_data=add_node_data_to_kg,\n",
    "                      inverse_relations=add_inverse_relations_to_kg,\n",
    "                      decode_owl=decode_owl_semantics,\n",
    "                      cpus=cpus,\n",
    "                      write_location=kg_directory_location)\n",
    "elif build == 'post-closure':\n",
    "    kg = PostClosureBuild(construction=construction_approach,\n",
    "                          node_data=add_node_data_to_kg,\n",
    "                          inverse_relations=add_inverse_relations_to_kg,\n",
    "                          decode_owl=decode_owl_semantics,\n",
    "                          cpus=cpus,\n",
    "                          write_location=kg_directory_location)\n",
    "else:\n",
    "    kg = FullBuild(construction=construction_approach,\n",
    "                   node_data=add_node_data_to_kg,\n",
    "                   inverse_relations=add_inverse_relations_to_kg,\n",
    "                   decode_owl=decode_owl_semantics,\n",
    "                   cpus=cpus,\n",
    "                   write_location=kg_directory_location)\n",
    "\n",
    "kg.construct_knowledge_graph()\n",
    "ray.shutdown()"
   ]
  },
  {
   "cell_type": "code",
   "execution_count": null,
   "metadata": {},
   "outputs": [],
   "source": [
    "###MODIFIED/ADDITIONS BELOW -- Sanya (09/16/2021)\n",
    "###Last run - 2022-03-30"
   ]
  },
  {
   "cell_type": "code",
   "execution_count": null,
   "metadata": {},
   "outputs": [],
   "source": [
    "## create dictionary from NodeLabels and serialize it\n",
    "## do with the pickle file (patched nodes - to remove foreign characters)"
   ]
  },
  {
   "cell_type": "code",
   "execution_count": 2,
   "metadata": {},
   "outputs": [],
   "source": [
    "import os\n",
    "import os.path\n",
    "from tqdm import tqdm\n",
    "import networkx as nx \n",
    "from rdflib import Graph, URIRef, BNode, Namespace, Literal  \n",
    "from rdflib.namespace import RDF, OWL  "
   ]
  },
  {
   "cell_type": "code",
   "execution_count": 1,
   "metadata": {},
   "outputs": [],
   "source": [
    "import pandas as pd\n",
    "import pickle"
   ]
  },
  {
   "cell_type": "code",
   "execution_count": 3,
   "metadata": {},
   "outputs": [],
   "source": [
    "NX_GRAPH_PATH = '/home/sanya/PheKnowLatorv2/resources/knowledge_graphs/'\n",
    "OUT_NX_GRAPH_NAME = 'PheKnowLator_v3.0.0_full_instance_inverseRelations_OWLNETS_NodeLabels.nt'"
   ]
  },
  {
   "cell_type": "code",
   "execution_count": 4,
   "metadata": {},
   "outputs": [
    {
     "name": "stdout",
     "output_type": "stream",
     "text": [
      "<class 'pandas.core.frame.DataFrame'>\n",
      "RangeIndex: 752949 entries, 0 to 752948\n",
      "Data columns (total 6 columns):\n",
      " #   Column                  Non-Null Count   Dtype \n",
      "---  ------                  --------------   ----- \n",
      " 0   entity_type             752838 non-null  object\n",
      " 1   integer_id              752917 non-null  object\n",
      " 2   entity_uri              752868 non-null  object\n",
      " 3   label                   752767 non-null  object\n",
      " 4   description/definition  752761 non-null  object\n",
      " 5   synonym                 752711 non-null  object\n",
      "dtypes: object(6)\n",
      "memory usage: 34.5+ MB\n"
     ]
    }
   ],
   "source": [
    "#nodedf = pd.read_csv(NX_GRAPH_PATH+'PheKnowLator_v3.0.0_full_instance_inverseRelations_OWLNETS_NodeLabels.txt', sep='\\t')\n",
    "##nodedf.info()"
   ]
  },
  {
   "cell_type": "code",
   "execution_count": 9,
   "metadata": {},
   "outputs": [
    {
     "name": "stdout",
     "output_type": "stream",
     "text": [
      "<class 'pandas.core.frame.DataFrame'>\n",
      "RangeIndex: 745701 entries, 0 to 745700\n",
      "Data columns (total 6 columns):\n",
      " #   Column                  Non-Null Count   Dtype \n",
      "---  ------                  --------------   ----- \n",
      " 0   entity_type             691490 non-null  object\n",
      " 1   integer_id              745649 non-null  object\n",
      " 2   entity_uri              745598 non-null  object\n",
      " 3   label                   691394 non-null  object\n",
      " 4   description/definition  691394 non-null  object\n",
      " 5   synonym                 691341 non-null  object\n",
      "dtypes: object(6)\n",
      "memory usage: 34.1+ MB\n"
     ]
    }
   ],
   "source": [
    "#nodedf2 = pd.read_csv('/home/sanya/kg_test/pl-build_tc/PheKnowLator_v3.0.0_full_instance_inverseRelations_OWLNETS_NodeLabels.txt', sep='\\t')\n",
    "#nodedf2.info()"
   ]
  },
  {
   "cell_type": "code",
   "execution_count": null,
   "metadata": {},
   "outputs": [],
   "source": []
  },
  {
   "cell_type": "code",
   "execution_count": 4,
   "metadata": {},
   "outputs": [
    {
     "data": {
      "text/plain": [
       "753219"
      ]
     },
     "execution_count": 4,
     "metadata": {},
     "output_type": "execute_result"
    }
   ],
   "source": [
    "##create nodelabels nt file from pickle dictionary\n",
    "##save nodelabels as ntriples\n",
    "##save nodelabels as TSV - use next build\n",
    "with open('/home/sanya/PheKnowLatorv2/resources/knowledge_graphs/nodeLabels_20220329.pickle', 'rb') as filen:\n",
    "    nods = pickle.load(filen)\n",
    "len(nods)"
   ]
  },
  {
   "cell_type": "code",
   "execution_count": 5,
   "metadata": {},
   "outputs": [
    {
     "name": "stdout",
     "output_type": "stream",
     "text": [
      "https://uswest.ensembl.org/Homo_sapiens/Transcript/Summary?t=ENST00000558233\n",
      "IPO4-205\n"
     ]
    }
   ],
   "source": [
    "for key in nods:\n",
    "    print(key)\n",
    "    print(nods[key])\n",
    "    break"
   ]
  },
  {
   "cell_type": "code",
   "execution_count": 6,
   "metadata": {},
   "outputs": [],
   "source": [
    "##serialize as ntriples\n",
    "graph  = Graph()\n",
    "pred_label = URIRef(\"http://www.w3.org/2000/01/rdf-schema#label\")\n",
    "for key in nods:\n",
    "    node = URIRef(key)\n",
    "    nodelabel = nods[key]\n",
    "    graph.add((node, pred_label, Literal(nodelabel)))"
   ]
  },
  {
   "cell_type": "code",
   "execution_count": 7,
   "metadata": {},
   "outputs": [],
   "source": [
    "graph.serialize('/home/sanya/PheKnowLatorv2/resources/knowledge_graphs/PheKnowLator_v3.0.0_full_instance_inverseRelations_OWLNETS_NodeLabels.nt', format='nt')"
   ]
  },
  {
   "cell_type": "code",
   "execution_count": null,
   "metadata": {},
   "outputs": [],
   "source": []
  },
  {
   "cell_type": "code",
   "execution_count": 10,
   "metadata": {},
   "outputs": [
    {
     "data": {
      "text/html": [
       "<div>\n",
       "<style scoped>\n",
       "    .dataframe tbody tr th:only-of-type {\n",
       "        vertical-align: middle;\n",
       "    }\n",
       "\n",
       "    .dataframe tbody tr th {\n",
       "        vertical-align: top;\n",
       "    }\n",
       "\n",
       "    .dataframe thead th {\n",
       "        text-align: right;\n",
       "    }\n",
       "</style>\n",
       "<table border=\"1\" class=\"dataframe\">\n",
       "  <thead>\n",
       "    <tr style=\"text-align: right;\">\n",
       "      <th></th>\n",
       "      <th>entity_type</th>\n",
       "      <th>integer_id</th>\n",
       "      <th>entity_uri</th>\n",
       "      <th>label</th>\n",
       "      <th>description/definition</th>\n",
       "      <th>synonym</th>\n",
       "    </tr>\n",
       "  </thead>\n",
       "  <tbody>\n",
       "    <tr>\n",
       "      <th>472103</th>\n",
       "      <td>NODES</td>\n",
       "      <td>4024</td>\n",
       "      <td>&lt;http://purl.obolibrary.org/obo/SO_0000704&gt;</td>\n",
       "      <td>gene</td>\n",
       "      <td>A region (or regions) that includes all of the...</td>\n",
       "      <td>INSDC_feature:gene|INSDC_feature:gene</td>\n",
       "    </tr>\n",
       "  </tbody>\n",
       "</table>\n",
       "</div>"
      ],
      "text/plain": [
       "       entity_type integer_id                                   entity_uri  \\\n",
       "472103       NODES       4024  <http://purl.obolibrary.org/obo/SO_0000704>   \n",
       "\n",
       "       label                             description/definition  \\\n",
       "472103  gene  A region (or regions) that includes all of the...   \n",
       "\n",
       "                                      synonym  \n",
       "472103  INSDC_feature:gene|INSDC_feature:gene  "
      ]
     },
     "execution_count": 10,
     "metadata": {},
     "output_type": "execute_result"
    }
   ],
   "source": [
    "#checking for foreign characters\n",
    "nodedf2.loc[nodedf2['entity_uri'] == '<http://purl.obolibrary.org/obo/SO_0000704>']"
   ]
  },
  {
   "cell_type": "code",
   "execution_count": 6,
   "metadata": {},
   "outputs": [
    {
     "data": {
      "text/html": [
       "<div>\n",
       "<style scoped>\n",
       "    .dataframe tbody tr th:only-of-type {\n",
       "        vertical-align: middle;\n",
       "    }\n",
       "\n",
       "    .dataframe tbody tr th {\n",
       "        vertical-align: top;\n",
       "    }\n",
       "\n",
       "    .dataframe thead th {\n",
       "        text-align: right;\n",
       "    }\n",
       "</style>\n",
       "<table border=\"1\" class=\"dataframe\">\n",
       "  <thead>\n",
       "    <tr style=\"text-align: right;\">\n",
       "      <th></th>\n",
       "      <th>entity_type</th>\n",
       "      <th>integer_id</th>\n",
       "      <th>entity_uri</th>\n",
       "      <th>label</th>\n",
       "      <th>description/definition</th>\n",
       "      <th>synonym</th>\n",
       "    </tr>\n",
       "  </thead>\n",
       "  <tbody>\n",
       "    <tr>\n",
       "      <th>686102</th>\n",
       "      <td>NODES</td>\n",
       "      <td>10467</td>\n",
       "      <td>&lt;http://purl.obolibrary.org/obo/GO_0002682&gt;</td>\n",
       "      <td>免疫系统过程调控</td>\n",
       "      <td>Any process that modulates the frequency, rate...</td>\n",
       "      <td>None</td>\n",
       "    </tr>\n",
       "  </tbody>\n",
       "</table>\n",
       "</div>"
      ],
      "text/plain": [
       "       entity_type integer_id                                   entity_uri  \\\n",
       "686102       NODES      10467  <http://purl.obolibrary.org/obo/GO_0002682>   \n",
       "\n",
       "           label                             description/definition synonym  \n",
       "686102  免疫系统过程调控  Any process that modulates the frequency, rate...    None  "
      ]
     },
     "execution_count": 6,
     "metadata": {},
     "output_type": "execute_result"
    }
   ],
   "source": [
    "nodedf.loc[nodedf['entity_uri'] == '<http://purl.obolibrary.org/obo/GO_0002682>']"
   ]
  },
  {
   "cell_type": "code",
   "execution_count": 14,
   "metadata": {},
   "outputs": [
    {
     "data": {
      "text/plain": [
       "'pantothenic acid metabolic pathway'"
      ]
     },
     "execution_count": 14,
     "metadata": {},
     "output_type": "execute_result"
    }
   ],
   "source": [
    "nodedf2.at[1, 'label']"
   ]
  },
  {
   "cell_type": "code",
   "execution_count": 7,
   "metadata": {},
   "outputs": [
    {
     "data": {
      "text/plain": [
       "1974"
      ]
     },
     "execution_count": 7,
     "metadata": {},
     "output_type": "execute_result"
    }
   ],
   "source": [
    "import re\n",
    "import numpy as np\n",
    "nodes = []\n",
    "\n",
    "for i in range(len(nodedf.index)):\n",
    "    label = nodedf.at[i, 'label']\n",
    "    if isinstance(label, str):\n",
    "        uri = nodedf.at[i, 'entity_uri']\n",
    "        if re.search(\"[\\u4e00-\\u9FFF]\", label):\n",
    "            nodes.append(uri)\n",
    "\n",
    "len(nodes)"
   ]
  },
  {
   "cell_type": "code",
   "execution_count": 21,
   "metadata": {},
   "outputs": [
    {
     "data": {
      "text/plain": [
       "['<http://purl.obolibrary.org/obo/CLO_0053675>',\n",
       " '<http://purl.obolibrary.org/obo/CLO_0051777>',\n",
       " '<http://purl.obolibrary.org/obo/CLO_0054281>',\n",
       " '<http://purl.obolibrary.org/obo/GO_0051179>',\n",
       " '<http://purl.obolibrary.org/obo/CLO_0001952>',\n",
       " '<http://purl.obolibrary.org/obo/CLO_0052720>',\n",
       " '<http://purl.obolibrary.org/obo/CLO_0051921>',\n",
       " '<http://purl.obolibrary.org/obo/CLO_0054124>',\n",
       " '<http://purl.obolibrary.org/obo/CLO_0053444>',\n",
       " '<http://purl.obolibrary.org/obo/CLO_0051848>']"
      ]
     },
     "execution_count": 21,
     "metadata": {},
     "output_type": "execute_result"
    }
   ],
   "source": [
    "nodes[10:20]"
   ]
  },
  {
   "cell_type": "code",
   "execution_count": 8,
   "metadata": {},
   "outputs": [
    {
     "data": {
      "text/html": [
       "<div>\n",
       "<style scoped>\n",
       "    .dataframe tbody tr th:only-of-type {\n",
       "        vertical-align: middle;\n",
       "    }\n",
       "\n",
       "    .dataframe tbody tr th {\n",
       "        vertical-align: top;\n",
       "    }\n",
       "\n",
       "    .dataframe thead th {\n",
       "        text-align: right;\n",
       "    }\n",
       "</style>\n",
       "<table border=\"1\" class=\"dataframe\">\n",
       "  <thead>\n",
       "    <tr style=\"text-align: right;\">\n",
       "      <th></th>\n",
       "      <th>entity_type</th>\n",
       "      <th>integer_id</th>\n",
       "      <th>entity_uri</th>\n",
       "      <th>label</th>\n",
       "      <th>description/definition</th>\n",
       "      <th>synonym</th>\n",
       "    </tr>\n",
       "  </thead>\n",
       "  <tbody>\n",
       "    <tr>\n",
       "      <th>226058</th>\n",
       "      <td>NODES</td>\n",
       "      <td>4394</td>\n",
       "      <td>&lt;http://purl.obolibrary.org/obo/SO_0000704&gt;</td>\n",
       "      <td>基因</td>\n",
       "      <td>A region (or regions) that includes all of the...</td>\n",
       "      <td>INSDC_feature:gene|INSDC_feature:gene</td>\n",
       "    </tr>\n",
       "  </tbody>\n",
       "</table>\n",
       "</div>"
      ],
      "text/plain": [
       "       entity_type integer_id                                   entity_uri  \\\n",
       "226058       NODES       4394  <http://purl.obolibrary.org/obo/SO_0000704>   \n",
       "\n",
       "       label                             description/definition  \\\n",
       "226058    基因  A region (or regions) that includes all of the...   \n",
       "\n",
       "                                      synonym  \n",
       "226058  INSDC_feature:gene|INSDC_feature:gene  "
      ]
     },
     "execution_count": 8,
     "metadata": {},
     "output_type": "execute_result"
    }
   ],
   "source": [
    "nodedf.loc[nodedf['entity_uri'] == '<http://purl.obolibrary.org/obo/SO_0000704>']"
   ]
  },
  {
   "cell_type": "code",
   "execution_count": 25,
   "metadata": {},
   "outputs": [
    {
     "data": {
      "text/html": [
       "<div>\n",
       "<style scoped>\n",
       "    .dataframe tbody tr th:only-of-type {\n",
       "        vertical-align: middle;\n",
       "    }\n",
       "\n",
       "    .dataframe tbody tr th {\n",
       "        vertical-align: top;\n",
       "    }\n",
       "\n",
       "    .dataframe thead th {\n",
       "        text-align: right;\n",
       "    }\n",
       "</style>\n",
       "<table border=\"1\" class=\"dataframe\">\n",
       "  <thead>\n",
       "    <tr style=\"text-align: right;\">\n",
       "      <th></th>\n",
       "      <th>entity_type</th>\n",
       "      <th>integer_id</th>\n",
       "      <th>entity_uri</th>\n",
       "      <th>label</th>\n",
       "      <th>description/definition</th>\n",
       "      <th>synonym</th>\n",
       "    </tr>\n",
       "  </thead>\n",
       "  <tbody>\n",
       "    <tr>\n",
       "      <th>1077</th>\n",
       "      <td>NODES</td>\n",
       "      <td>742600</td>\n",
       "      <td>&lt;http://purl.obolibrary.org/obo/CLO_0052035&gt;</td>\n",
       "      <td>NICR295 细胞</td>\n",
       "      <td>None</td>\n",
       "      <td>None</td>\n",
       "    </tr>\n",
       "  </tbody>\n",
       "</table>\n",
       "</div>"
      ],
      "text/plain": [
       "     entity_type integer_id                                    entity_uri  \\\n",
       "1077       NODES     742600  <http://purl.obolibrary.org/obo/CLO_0052035>   \n",
       "\n",
       "           label description/definition synonym  \n",
       "1077  NICR295 细胞                   None    None  "
      ]
     },
     "execution_count": 25,
     "metadata": {},
     "output_type": "execute_result"
    }
   ],
   "source": [
    "nodedf.loc[nodedf2['entity_uri'] == nodes[0]]"
   ]
  },
  {
   "cell_type": "code",
   "execution_count": null,
   "metadata": {},
   "outputs": [],
   "source": []
  },
  {
   "cell_type": "code",
   "execution_count": null,
   "metadata": {},
   "outputs": [],
   "source": []
  },
  {
   "cell_type": "code",
   "execution_count": null,
   "metadata": {},
   "outputs": [],
   "source": []
  },
  {
   "cell_type": "code",
   "execution_count": null,
   "metadata": {},
   "outputs": [],
   "source": []
  },
  {
   "cell_type": "code",
   "execution_count": null,
   "metadata": {},
   "outputs": [],
   "source": []
  },
  {
   "cell_type": "code",
   "execution_count": null,
   "metadata": {},
   "outputs": [],
   "source": []
  },
  {
   "cell_type": "code",
   "execution_count": null,
   "metadata": {},
   "outputs": [],
   "source": []
  },
  {
   "cell_type": "markdown",
   "metadata": {},
   "source": [
    "<br>\n",
    "\n",
    "***\n",
    "***\n",
    "\n",
    "```\n",
    "@misc{callahan_tj_2019_3401437,\n",
    "  author       = {Callahan, TJ},\n",
    "  title        = {PheKnowLator},\n",
    "  month        = mar,\n",
    "  year         = 2019,\n",
    "  doi          = {10.5281/zenodo.3401437},\n",
    "  url          = {https://doi.org/10.5281/zenodo.3401437}\n",
    "}\n",
    "```"
   ]
  }
 ],
 "metadata": {
  "kernelspec": {
   "display_name": "Python 3",
   "language": "python",
   "name": "python3"
  },
  "language_info": {
   "codemirror_mode": {
    "name": "ipython",
    "version": 3
   },
   "file_extension": ".py",
   "mimetype": "text/x-python",
   "name": "python",
   "nbconvert_exporter": "python",
   "pygments_lexer": "ipython3",
   "version": "3.6.13"
  },
  "latex_envs": {
   "LaTeX_envs_menu_present": true,
   "autoclose": false,
   "autocomplete": true,
   "bibliofile": "biblio.bib",
   "cite_by": "apalike",
   "current_citInitial": 1,
   "eqLabelWithNumbers": true,
   "eqNumInitial": 1,
   "hotkeys": {
    "equation": "Ctrl-E",
    "itemize": "Ctrl-I"
   },
   "labels_anchors": false,
   "latex_user_defs": false,
   "report_style_numbering": false,
   "user_envs_cfg": false
  },
  "pycharm": {
   "stem_cell": {
    "cell_type": "raw",
    "metadata": {
     "collapsed": false
    },
    "source": []
   }
  },
  "toc": {
   "base_numbering": 1,
   "nav_menu": {},
   "number_sections": false,
   "sideBar": false,
   "skip_h1_title": false,
   "title_cell": "Table of Contents",
   "title_sidebar": "Contents",
   "toc_cell": false,
   "toc_position": {},
   "toc_section_display": false,
   "toc_window_display": false
  }
 },
 "nbformat": 4,
 "nbformat_minor": 4
}
