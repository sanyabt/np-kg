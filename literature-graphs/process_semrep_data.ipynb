{
 "cells": [
  {
   "cell_type": "markdown",
   "metadata": {},
   "source": [
    "## Process SemRep data for all NPs after extraction and CUI mapping\n",
    "\n",
    "Steps:\n",
    "1. Read in TSV data\n",
    "2. Process data\n",
    "3. Mappings\n",
    "4. Add prefixes\n",
    "5. Create graphs\n",
    "\n",
    "TODO:\n",
    "1. Add error files\n",
    "2. Run NER over new unmapped\n",
    "3. Metadata new file"
   ]
  },
  {
   "cell_type": "code",
   "execution_count": 1,
   "metadata": {},
   "outputs": [],
   "source": [
    "import pandas as pd\n",
    "import numpy as np\n",
    "import pickle\n",
    "from rdflib.namespace import OWL, RDF, RDFS\n",
    "import os, re"
   ]
  },
  {
   "cell_type": "markdown",
   "metadata": {},
   "source": [
    "### Input data"
   ]
  },
  {
   "cell_type": "code",
   "execution_count": 4,
   "metadata": {},
   "outputs": [
    {
     "data": {
      "text/plain": [
       "58"
      ]
     },
     "execution_count": 4,
     "metadata": {},
     "output_type": "execute_result"
    }
   ],
   "source": [
    "files = os.listdir('semrep_data')\n",
    "tsv_files = [file for file in files if file.endswith('.tsv')]\n",
    "len(tsv_files)"
   ]
  },
  {
   "cell_type": "code",
   "execution_count": 5,
   "metadata": {},
   "outputs": [
    {
     "name": "stdout",
     "output_type": "stream",
     "text": [
      "<class 'pandas.core.frame.DataFrame'>\n",
      "RangeIndex: 538819 entries, 0 to 538818\n",
      "Data columns (total 14 columns):\n",
      " #   Column               Non-Null Count   Dtype \n",
      "---  ------               --------------   ----- \n",
      " 0   index                538819 non-null  int64 \n",
      " 1   pmid                 538819 non-null  int64 \n",
      " 2   subject_cui          524007 non-null  object\n",
      " 3   subject_name         524007 non-null  object\n",
      " 4   subject_type         538819 non-null  object\n",
      " 5   relation             538819 non-null  object\n",
      " 6   object_cui           515492 non-null  object\n",
      " 7   object_name          515492 non-null  object\n",
      " 8   object_type          538819 non-null  object\n",
      " 9   year                 538819 non-null  object\n",
      " 10  sentence             538819 non-null  object\n",
      " 11  source_section       135119 non-null  object\n",
      " 12  pub_type             279137 non-null  object\n",
      " 13  related_common_name  538819 non-null  object\n",
      "dtypes: int64(2), object(12)\n",
      "memory usage: 57.6+ MB\n"
     ]
    }
   ],
   "source": [
    "##input all TSV files from semrep_data folder as pandas dataframes\n",
    "# get all files in the folder\n",
    "df = pd.DataFrame()\n",
    "for filename in tsv_files:\n",
    "    # read the file as a pandas dataframe\n",
    "    dfnp = pd.read_csv('semrep_data/' + filename, sep='\\t')\n",
    "    # get the name of the file without the extension\n",
    "    dfnp['related_common_name'] = filename.split('_')[0]\n",
    "    dfnp = dfnp.drop_duplicates()\n",
    "    df = pd.concat([df, dfnp], ignore_index=True)\n",
    "df = df.drop_duplicates()\n",
    "df = df.reset_index(drop=True)\n",
    "df.info()"
   ]
  },
  {
   "cell_type": "code",
   "execution_count": 6,
   "metadata": {},
   "outputs": [],
   "source": [
    "def save_data_statistics(df):\n",
    "    nps = df['related_common_name'].unique()\n",
    "    info = {\n",
    "        'related_common_name': [],\n",
    "        'PMIDs': [],\n",
    "        'statements': []\n",
    "    }\n",
    "    for np_name in nps:\n",
    "        dfnp = df.loc[df['related_common_name'] == np_name]\n",
    "        info['related_common_name'].append(np_name)\n",
    "        info['PMIDs'].append(len(dfnp['pmid'].unique()))\n",
    "        info['statements'].append(len(dfnp))\n",
    "    df_stats = pd.DataFrame.from_dict(info)\n",
    "    df_stats.to_csv('semrep_data/semrep_data_statistics.tsv', sep='\\t', index=False)"
   ]
  },
  {
   "cell_type": "code",
   "execution_count": 7,
   "metadata": {},
   "outputs": [
    {
     "data": {
      "text/html": [
       "<div>\n",
       "<style scoped>\n",
       "    .dataframe tbody tr th:only-of-type {\n",
       "        vertical-align: middle;\n",
       "    }\n",
       "\n",
       "    .dataframe tbody tr th {\n",
       "        vertical-align: top;\n",
       "    }\n",
       "\n",
       "    .dataframe thead th {\n",
       "        text-align: right;\n",
       "    }\n",
       "</style>\n",
       "<table border=\"1\" class=\"dataframe\">\n",
       "  <thead>\n",
       "    <tr style=\"text-align: right;\">\n",
       "      <th></th>\n",
       "      <th>index</th>\n",
       "      <th>pmid</th>\n",
       "      <th>subject_cui</th>\n",
       "      <th>subject_name</th>\n",
       "      <th>subject_type</th>\n",
       "      <th>relation</th>\n",
       "      <th>object_cui</th>\n",
       "      <th>object_name</th>\n",
       "      <th>object_type</th>\n",
       "      <th>year</th>\n",
       "      <th>sentence</th>\n",
       "      <th>source_section</th>\n",
       "      <th>pub_type</th>\n",
       "      <th>related_common_name</th>\n",
       "    </tr>\n",
       "  </thead>\n",
       "  <tbody>\n",
       "    <tr>\n",
       "      <th>0</th>\n",
       "      <td>0</td>\n",
       "      <td>18064444</td>\n",
       "      <td>C0010206</td>\n",
       "      <td>coumarin</td>\n",
       "      <td>orch,phsu</td>\n",
       "      <td>INTERACTS_WITH</td>\n",
       "      <td></td>\n",
       "      <td></td>\n",
       "      <td>gngm,aapp</td>\n",
       "      <td>2008 Mar</td>\n",
       "      <td>18064444_ascii.txt.tx.1 Abstract Objective To ...</td>\n",
       "      <td></td>\n",
       "      <td>['Journal Article', 'Randomized Controlled Tri...</td>\n",
       "      <td>cinnamon</td>\n",
       "    </tr>\n",
       "    <tr>\n",
       "      <th>1</th>\n",
       "      <td>1</td>\n",
       "      <td>18064444</td>\n",
       "      <td>C0010206</td>\n",
       "      <td>coumarin</td>\n",
       "      <td>orch,phsu</td>\n",
       "      <td>compared_with</td>\n",
       "      <td>C0028040</td>\n",
       "      <td>Nicotine</td>\n",
       "      <td>hops,orch</td>\n",
       "      <td>2008 Mar</td>\n",
       "      <td>18064444_ascii.txt.tx.1 Abstract Objective To ...</td>\n",
       "      <td></td>\n",
       "      <td>['Journal Article', 'Randomized Controlled Tri...</td>\n",
       "      <td>cinnamon</td>\n",
       "    </tr>\n",
       "    <tr>\n",
       "      <th>2</th>\n",
       "      <td>2</td>\n",
       "      <td>18064444</td>\n",
       "      <td>C0028040</td>\n",
       "      <td>Nicotine</td>\n",
       "      <td>hops,orch</td>\n",
       "      <td>INTERACTS_WITH</td>\n",
       "      <td></td>\n",
       "      <td></td>\n",
       "      <td>gngm,aapp</td>\n",
       "      <td>2008 Mar</td>\n",
       "      <td>18064444_ascii.txt.tx.1 Abstract Objective To ...</td>\n",
       "      <td></td>\n",
       "      <td>['Journal Article', 'Randomized Controlled Tri...</td>\n",
       "      <td>cinnamon</td>\n",
       "    </tr>\n",
       "    <tr>\n",
       "      <th>3</th>\n",
       "      <td>3</td>\n",
       "      <td>18064444</td>\n",
       "      <td>C0052430</td>\n",
       "      <td>artemisinine</td>\n",
       "      <td>orch,phsu</td>\n",
       "      <td>INTERACTS_WITH</td>\n",
       "      <td></td>\n",
       "      <td></td>\n",
       "      <td>gngm,aapp</td>\n",
       "      <td>2008 Mar</td>\n",
       "      <td>18064444_ascii.txt.tx.1 Abstract Objective To ...</td>\n",
       "      <td></td>\n",
       "      <td>['Journal Article', 'Randomized Controlled Tri...</td>\n",
       "      <td>cinnamon</td>\n",
       "    </tr>\n",
       "    <tr>\n",
       "      <th>4</th>\n",
       "      <td>4</td>\n",
       "      <td>18064444</td>\n",
       "      <td>C1708335</td>\n",
       "      <td>Healthy Volunteers</td>\n",
       "      <td>popg,humn</td>\n",
       "      <td>LOCATION_OF</td>\n",
       "      <td></td>\n",
       "      <td></td>\n",
       "      <td>gngm,aapp</td>\n",
       "      <td>2008 Mar</td>\n",
       "      <td>18064444_ascii.txt.tx.1 Abstract Objective To ...</td>\n",
       "      <td></td>\n",
       "      <td>['Journal Article', 'Randomized Controlled Tri...</td>\n",
       "      <td>cinnamon</td>\n",
       "    </tr>\n",
       "  </tbody>\n",
       "</table>\n",
       "</div>"
      ],
      "text/plain": [
       "   index      pmid subject_cui        subject_name subject_type  \\\n",
       "0      0  18064444    C0010206            coumarin    orch,phsu   \n",
       "1      1  18064444    C0010206            coumarin    orch,phsu   \n",
       "2      2  18064444    C0028040            Nicotine    hops,orch   \n",
       "3      3  18064444    C0052430        artemisinine    orch,phsu   \n",
       "4      4  18064444    C1708335  Healthy Volunteers    popg,humn   \n",
       "\n",
       "         relation object_cui object_name object_type      year  \\\n",
       "0  INTERACTS_WITH                          gngm,aapp  2008 Mar   \n",
       "1   compared_with   C0028040    Nicotine   hops,orch  2008 Mar   \n",
       "2  INTERACTS_WITH                          gngm,aapp  2008 Mar   \n",
       "3  INTERACTS_WITH                          gngm,aapp  2008 Mar   \n",
       "4     LOCATION_OF                          gngm,aapp  2008 Mar   \n",
       "\n",
       "                                            sentence source_section  \\\n",
       "0  18064444_ascii.txt.tx.1 Abstract Objective To ...                  \n",
       "1  18064444_ascii.txt.tx.1 Abstract Objective To ...                  \n",
       "2  18064444_ascii.txt.tx.1 Abstract Objective To ...                  \n",
       "3  18064444_ascii.txt.tx.1 Abstract Objective To ...                  \n",
       "4  18064444_ascii.txt.tx.1 Abstract Objective To ...                  \n",
       "\n",
       "                                            pub_type related_common_name  \n",
       "0  ['Journal Article', 'Randomized Controlled Tri...            cinnamon  \n",
       "1  ['Journal Article', 'Randomized Controlled Tri...            cinnamon  \n",
       "2  ['Journal Article', 'Randomized Controlled Tri...            cinnamon  \n",
       "3  ['Journal Article', 'Randomized Controlled Tri...            cinnamon  \n",
       "4  ['Journal Article', 'Randomized Controlled Tri...            cinnamon  "
      ]
     },
     "execution_count": 7,
     "metadata": {},
     "output_type": "execute_result"
    }
   ],
   "source": [
    "df = df.fillna('')\n",
    "save_data_statistics(df)\n",
    "df.head()"
   ]
  },
  {
   "cell_type": "markdown",
   "metadata": {},
   "source": [
    "### Process data"
   ]
  },
  {
   "cell_type": "code",
   "execution_count": 8,
   "metadata": {},
   "outputs": [
    {
     "data": {
      "text/html": [
       "<div>\n",
       "<style scoped>\n",
       "    .dataframe tbody tr th:only-of-type {\n",
       "        vertical-align: middle;\n",
       "    }\n",
       "\n",
       "    .dataframe tbody tr th {\n",
       "        vertical-align: top;\n",
       "    }\n",
       "\n",
       "    .dataframe thead th {\n",
       "        text-align: right;\n",
       "    }\n",
       "</style>\n",
       "<table border=\"1\" class=\"dataframe\">\n",
       "  <thead>\n",
       "    <tr style=\"text-align: right;\">\n",
       "      <th></th>\n",
       "      <th>index</th>\n",
       "      <th>pmid</th>\n",
       "      <th>subject_cui</th>\n",
       "      <th>subject_name</th>\n",
       "      <th>subject_type</th>\n",
       "      <th>relation</th>\n",
       "      <th>object_cui</th>\n",
       "      <th>object_name</th>\n",
       "      <th>object_type</th>\n",
       "      <th>year</th>\n",
       "      <th>sentence</th>\n",
       "      <th>source_section</th>\n",
       "      <th>pub_type</th>\n",
       "      <th>related_common_name</th>\n",
       "    </tr>\n",
       "  </thead>\n",
       "  <tbody>\n",
       "    <tr>\n",
       "      <th>0</th>\n",
       "      <td>0</td>\n",
       "      <td>18064444</td>\n",
       "      <td>C0010206</td>\n",
       "      <td>coumarin</td>\n",
       "      <td>orch,phsu</td>\n",
       "      <td>INTERACTS_WITH</td>\n",
       "      <td></td>\n",
       "      <td></td>\n",
       "      <td>gngm,aapp</td>\n",
       "      <td>2008</td>\n",
       "      <td>18064444_ascii.txt.tx.1 Abstract Objective To ...</td>\n",
       "      <td></td>\n",
       "      <td>['Journal Article', 'Randomized Controlled Tri...</td>\n",
       "      <td>cinnamon</td>\n",
       "    </tr>\n",
       "    <tr>\n",
       "      <th>1</th>\n",
       "      <td>1</td>\n",
       "      <td>18064444</td>\n",
       "      <td>C0010206</td>\n",
       "      <td>coumarin</td>\n",
       "      <td>orch,phsu</td>\n",
       "      <td>compared_with</td>\n",
       "      <td>C0028040</td>\n",
       "      <td>Nicotine</td>\n",
       "      <td>hops,orch</td>\n",
       "      <td>2008</td>\n",
       "      <td>18064444_ascii.txt.tx.1 Abstract Objective To ...</td>\n",
       "      <td></td>\n",
       "      <td>['Journal Article', 'Randomized Controlled Tri...</td>\n",
       "      <td>cinnamon</td>\n",
       "    </tr>\n",
       "    <tr>\n",
       "      <th>2</th>\n",
       "      <td>2</td>\n",
       "      <td>18064444</td>\n",
       "      <td>C0028040</td>\n",
       "      <td>Nicotine</td>\n",
       "      <td>hops,orch</td>\n",
       "      <td>INTERACTS_WITH</td>\n",
       "      <td></td>\n",
       "      <td></td>\n",
       "      <td>gngm,aapp</td>\n",
       "      <td>2008</td>\n",
       "      <td>18064444_ascii.txt.tx.1 Abstract Objective To ...</td>\n",
       "      <td></td>\n",
       "      <td>['Journal Article', 'Randomized Controlled Tri...</td>\n",
       "      <td>cinnamon</td>\n",
       "    </tr>\n",
       "    <tr>\n",
       "      <th>3</th>\n",
       "      <td>3</td>\n",
       "      <td>18064444</td>\n",
       "      <td>C0052430</td>\n",
       "      <td>artemisinine</td>\n",
       "      <td>orch,phsu</td>\n",
       "      <td>INTERACTS_WITH</td>\n",
       "      <td></td>\n",
       "      <td></td>\n",
       "      <td>gngm,aapp</td>\n",
       "      <td>2008</td>\n",
       "      <td>18064444_ascii.txt.tx.1 Abstract Objective To ...</td>\n",
       "      <td></td>\n",
       "      <td>['Journal Article', 'Randomized Controlled Tri...</td>\n",
       "      <td>cinnamon</td>\n",
       "    </tr>\n",
       "    <tr>\n",
       "      <th>4</th>\n",
       "      <td>4</td>\n",
       "      <td>18064444</td>\n",
       "      <td>C1708335</td>\n",
       "      <td>Healthy Volunteers</td>\n",
       "      <td>popg,humn</td>\n",
       "      <td>LOCATION_OF</td>\n",
       "      <td></td>\n",
       "      <td></td>\n",
       "      <td>gngm,aapp</td>\n",
       "      <td>2008</td>\n",
       "      <td>18064444_ascii.txt.tx.1 Abstract Objective To ...</td>\n",
       "      <td></td>\n",
       "      <td>['Journal Article', 'Randomized Controlled Tri...</td>\n",
       "      <td>cinnamon</td>\n",
       "    </tr>\n",
       "  </tbody>\n",
       "</table>\n",
       "</div>"
      ],
      "text/plain": [
       "   index      pmid subject_cui        subject_name subject_type  \\\n",
       "0      0  18064444    C0010206            coumarin    orch,phsu   \n",
       "1      1  18064444    C0010206            coumarin    orch,phsu   \n",
       "2      2  18064444    C0028040            Nicotine    hops,orch   \n",
       "3      3  18064444    C0052430        artemisinine    orch,phsu   \n",
       "4      4  18064444    C1708335  Healthy Volunteers    popg,humn   \n",
       "\n",
       "         relation object_cui object_name object_type  year  \\\n",
       "0  INTERACTS_WITH                          gngm,aapp  2008   \n",
       "1   compared_with   C0028040    Nicotine   hops,orch  2008   \n",
       "2  INTERACTS_WITH                          gngm,aapp  2008   \n",
       "3  INTERACTS_WITH                          gngm,aapp  2008   \n",
       "4     LOCATION_OF                          gngm,aapp  2008   \n",
       "\n",
       "                                            sentence source_section  \\\n",
       "0  18064444_ascii.txt.tx.1 Abstract Objective To ...                  \n",
       "1  18064444_ascii.txt.tx.1 Abstract Objective To ...                  \n",
       "2  18064444_ascii.txt.tx.1 Abstract Objective To ...                  \n",
       "3  18064444_ascii.txt.tx.1 Abstract Objective To ...                  \n",
       "4  18064444_ascii.txt.tx.1 Abstract Objective To ...                  \n",
       "\n",
       "                                            pub_type related_common_name  \n",
       "0  ['Journal Article', 'Randomized Controlled Tri...            cinnamon  \n",
       "1  ['Journal Article', 'Randomized Controlled Tri...            cinnamon  \n",
       "2  ['Journal Article', 'Randomized Controlled Tri...            cinnamon  \n",
       "3  ['Journal Article', 'Randomized Controlled Tri...            cinnamon  \n",
       "4  ['Journal Article', 'Randomized Controlled Tri...            cinnamon  "
      ]
     },
     "execution_count": 8,
     "metadata": {},
     "output_type": "execute_result"
    }
   ],
   "source": [
    "#use re to fix year as format is not consistent\n",
    "for i in range(len(df.index)):\n",
    "    try:\n",
    "        pub_date = str(df.at[i, 'year'])\n",
    "        x = re.findall(r'\\d+', pub_date)\n",
    "        if x:\n",
    "            df.at[i, 'year'] = x[0]\n",
    "    except Exception as e:\n",
    "        print('Error at index:', i, e)\n",
    "        continue\n",
    "df.head()"
   ]
  },
  {
   "cell_type": "code",
   "execution_count": 9,
   "metadata": {},
   "outputs": [],
   "source": [
    "preds = ['affects', \n",
    "'affects(spec)',\n",
    "'associated_with',\n",
    "'associated_with(spec)',\n",
    "'associated_with(infer)',\n",
    "'augments',\n",
    "'augments(spec)',\n",
    "'causes',\n",
    "'causes(spec)',\n",
    "'coexists_with',\n",
    "'coexists_with(spec)',\n",
    "'complicates',\n",
    "'disrupts',\n",
    "'disrupts(spec)',\n",
    "'inhibits',\n",
    "'inhibits(spec)',\n",
    "'inhibits(infer)',\n",
    "'interacts_with',\n",
    "'interacts_with(spec)',\n",
    "'interacts_with(infer)',\n",
    "'part_of',\n",
    "'part_of(spec)',\n",
    "'precedes',\n",
    "'precedes(spec)',\n",
    "'predisposes',\n",
    "'predisposes(spec)',\n",
    "'prevents',\n",
    "'prevents(spec)',\n",
    "'produces',\n",
    "'produces(spec)',\n",
    "'stimulates',\n",
    "'stimulates(spec)',\n",
    "'treats',\n",
    "'treats(spec)',\n",
    "'treats(infer)'\n",
    "]"
   ]
  },
  {
   "cell_type": "code",
   "execution_count": 10,
   "metadata": {},
   "outputs": [
    {
     "name": "stdout",
     "output_type": "stream",
     "text": [
      "<class 'pandas.core.frame.DataFrame'>\n",
      "Int64Index: 329060 entries, 0 to 538817\n",
      "Data columns (total 14 columns):\n",
      " #   Column               Non-Null Count   Dtype \n",
      "---  ------               --------------   ----- \n",
      " 0   index                329060 non-null  int64 \n",
      " 1   pmid                 329060 non-null  int64 \n",
      " 2   subject_cui          329060 non-null  object\n",
      " 3   subject_name         329060 non-null  object\n",
      " 4   subject_type         329060 non-null  object\n",
      " 5   object_cui           329060 non-null  object\n",
      " 6   object_name          329060 non-null  object\n",
      " 7   object_type          329060 non-null  object\n",
      " 8   year                 329060 non-null  object\n",
      " 9   sentence             329060 non-null  object\n",
      " 10  source_section       329060 non-null  object\n",
      " 11  pub_type             329060 non-null  object\n",
      " 12  related_common_name  329060 non-null  object\n",
      " 13  predicate            329060 non-null  object\n",
      "dtypes: int64(2), object(12)\n",
      "memory usage: 37.7+ MB\n"
     ]
    }
   ],
   "source": [
    "df['predicate'] = df['relation'].str.lower()\n",
    "df = df.drop(['relation'], axis=1)\n",
    "dfn = df[df['predicate'].isin(preds)]\n",
    "dfn.info()"
   ]
  },
  {
   "cell_type": "code",
   "execution_count": 11,
   "metadata": {},
   "outputs": [
    {
     "data": {
      "text/plain": [
       "interacts_with            62960\n",
       "part_of                   44931\n",
       "affects                   35633\n",
       "coexists_with             32715\n",
       "inhibits                  32125\n",
       "stimulates                29875\n",
       "treats                    28055\n",
       "causes                    15688\n",
       "disrupts                  13563\n",
       "augments                  12055\n",
       "associated_with            7403\n",
       "produces                   6080\n",
       "prevents                   2889\n",
       "predisposes                2359\n",
       "treats(infer)              1274\n",
       "precedes                    690\n",
       "associated_with(infer)       97\n",
       "interacts_with(infer)        97\n",
       "interacts_with(spec)         94\n",
       "treats(spec)                 82\n",
       "coexists_with(spec)          67\n",
       "inhibits(spec)               51\n",
       "complicates                  49\n",
       "affects(spec)                43\n",
       "causes(spec)                 38\n",
       "stimulates(spec)             32\n",
       "part_of(spec)                23\n",
       "associated_with(spec)        20\n",
       "disrupts(spec)               19\n",
       "augments(spec)               19\n",
       "prevents(spec)               16\n",
       "produces(spec)               10\n",
       "precedes(spec)                4\n",
       "predisposes(spec)             4\n",
       "Name: predicate, dtype: int64"
      ]
     },
     "execution_count": 11,
     "metadata": {},
     "output_type": "execute_result"
    }
   ],
   "source": [
    "dfn['predicate'].value_counts()"
   ]
  },
  {
   "cell_type": "code",
   "execution_count": 12,
   "metadata": {},
   "outputs": [
    {
     "name": "stderr",
     "output_type": "stream",
     "text": [
      "/home/sanya/.conda/envs/sanya_kg/lib/python3.6/site-packages/ipykernel_launcher.py:1: SettingWithCopyWarning: \n",
      "A value is trying to be set on a copy of a slice from a DataFrame.\n",
      "Try using .loc[row_indexer,col_indexer] = value instead\n",
      "\n",
      "See the caveats in the documentation: https://pandas.pydata.org/pandas-docs/stable/user_guide/indexing.html#returning-a-view-versus-a-copy\n",
      "  \"\"\"Entry point for launching an IPython kernel.\n",
      "/home/sanya/.conda/envs/sanya_kg/lib/python3.6/site-packages/ipykernel_launcher.py:2: SettingWithCopyWarning: \n",
      "A value is trying to be set on a copy of a slice from a DataFrame.\n",
      "Try using .loc[row_indexer,col_indexer] = value instead\n",
      "\n",
      "See the caveats in the documentation: https://pandas.pydata.org/pandas-docs/stable/user_guide/indexing.html#returning-a-view-versus-a-copy\n",
      "  \n",
      "/home/sanya/.conda/envs/sanya_kg/lib/python3.6/site-packages/ipykernel_launcher.py:3: SettingWithCopyWarning: \n",
      "A value is trying to be set on a copy of a slice from a DataFrame.\n",
      "Try using .loc[row_indexer,col_indexer] = value instead\n",
      "\n",
      "See the caveats in the documentation: https://pandas.pydata.org/pandas-docs/stable/user_guide/indexing.html#returning-a-view-versus-a-copy\n",
      "  This is separate from the ipykernel package so we can avoid doing imports until\n",
      "/home/sanya/.conda/envs/sanya_kg/lib/python3.6/site-packages/ipykernel_launcher.py:4: SettingWithCopyWarning: \n",
      "A value is trying to be set on a copy of a slice from a DataFrame.\n",
      "Try using .loc[row_indexer,col_indexer] = value instead\n",
      "\n",
      "See the caveats in the documentation: https://pandas.pydata.org/pandas-docs/stable/user_guide/indexing.html#returning-a-view-versus-a-copy\n",
      "  after removing the cwd from sys.path.\n",
      "/home/sanya/.conda/envs/sanya_kg/lib/python3.6/site-packages/ipykernel_launcher.py:5: SettingWithCopyWarning: \n",
      "A value is trying to be set on a copy of a slice from a DataFrame.\n",
      "Try using .loc[row_indexer,col_indexer] = value instead\n",
      "\n",
      "See the caveats in the documentation: https://pandas.pydata.org/pandas-docs/stable/user_guide/indexing.html#returning-a-view-versus-a-copy\n",
      "  \"\"\"\n"
     ]
    }
   ],
   "source": [
    "dfn['subject_map'] = None\n",
    "dfn['object_map'] = None\n",
    "dfn['predicate_obo'] = None\n",
    "dfn['subject_obo'] = None\n",
    "dfn['object_obo'] = None"
   ]
  },
  {
   "cell_type": "code",
   "execution_count": 13,
   "metadata": {},
   "outputs": [],
   "source": [
    "predMapSemRep = {\n",
    "'affects': 'RO_0002596',\n",
    "'affects(spec)': 'RO_0002596',\n",
    "'associated_with': 'RO_0002610',\n",
    "'associated_with(spec)': 'RO_0002610',\n",
    "'associated_with(infer)': 'RO_0002610',\n",
    "'augments': 'RO_0002598',\n",
    "'augments(spec)': 'RO_0002598',\n",
    "'causes': 'RO_0002566',\n",
    "'causes(spec)': 'RO_0002566',\n",
    "'coexists_with': 'RO_0002490',\n",
    "'coexists_with(spec)': 'RO_0002490',\n",
    "'complicates': 'RO_0003309',\n",
    "'disrupts': 'RO_0002212',\n",
    "'disrupts(spec)': 'RO_0002212',\n",
    "'inhibits': 'RO_0002449',\n",
    "'inhibits(spec)': 'RO_0002449',\n",
    "'inhibits(infer)': 'RO_0002449',\n",
    "'interacts_with': 'RO_0002434',\n",
    "'interacts_with(spec)': 'RO_0002434',\n",
    "'interacts_with(infer)': 'RO_0002434',\n",
    "'part_of': 'BFO_0000050',\n",
    "'part_of(spec)': 'BFO_0000050',\n",
    "'precedes': 'BFO_0000063',\n",
    "'precedes(spec)': 'BFO_0000063',\n",
    "'predisposes': 'RO_0003302',\n",
    "'predisposes(spec)': 'RO_0003302',\n",
    "'prevents': 'RO_0002599',\n",
    "'prevents(spec)': 'RO_0002599',\n",
    "'produces': 'RO_0003000',\n",
    "'produces(spec)': 'RO_0003000',\n",
    "'stimulates': 'RO_0002213',\n",
    "'stimulates(spec)': 'RO_0002213',\n",
    "'treats': 'RO_0002606',\n",
    "'treats(spec)': 'RO_0002606',\n",
    "'treats(infer)': 'RO_0002606'\n",
    "}"
   ]
  },
  {
   "cell_type": "code",
   "execution_count": 14,
   "metadata": {},
   "outputs": [],
   "source": [
    "def relation_mapping(row):\n",
    "    rel = row['predicate'].lower()\n",
    "    if rel in predMapSemRep:\n",
    "        return predMapSemRep[rel]\n",
    "    else:\n",
    "        return ''"
   ]
  },
  {
   "cell_type": "code",
   "execution_count": 15,
   "metadata": {},
   "outputs": [
    {
     "name": "stderr",
     "output_type": "stream",
     "text": [
      "/home/sanya/.conda/envs/sanya_kg/lib/python3.6/site-packages/ipykernel_launcher.py:1: SettingWithCopyWarning: \n",
      "A value is trying to be set on a copy of a slice from a DataFrame.\n",
      "Try using .loc[row_indexer,col_indexer] = value instead\n",
      "\n",
      "See the caveats in the documentation: https://pandas.pydata.org/pandas-docs/stable/user_guide/indexing.html#returning-a-view-versus-a-copy\n",
      "  \"\"\"Entry point for launching an IPython kernel.\n"
     ]
    },
    {
     "name": "stdout",
     "output_type": "stream",
     "text": [
      "<class 'pandas.core.frame.DataFrame'>\n",
      "RangeIndex: 329060 entries, 0 to 329059\n",
      "Data columns (total 19 columns):\n",
      " #   Column               Non-Null Count   Dtype \n",
      "---  ------               --------------   ----- \n",
      " 0   index                329060 non-null  int64 \n",
      " 1   pmid                 329060 non-null  int64 \n",
      " 2   subject_cui          329060 non-null  object\n",
      " 3   subject_name         329060 non-null  object\n",
      " 4   subject_type         329060 non-null  object\n",
      " 5   object_cui           329060 non-null  object\n",
      " 6   object_name          329060 non-null  object\n",
      " 7   object_type          329060 non-null  object\n",
      " 8   year                 329060 non-null  object\n",
      " 9   sentence             329060 non-null  object\n",
      " 10  source_section       329060 non-null  object\n",
      " 11  pub_type             329060 non-null  object\n",
      " 12  related_common_name  329060 non-null  object\n",
      " 13  predicate            329060 non-null  object\n",
      " 14  subject_map          0 non-null       object\n",
      " 15  object_map           0 non-null       object\n",
      " 16  predicate_obo        329060 non-null  object\n",
      " 17  subject_obo          0 non-null       object\n",
      " 18  object_obo           0 non-null       object\n",
      "dtypes: int64(2), object(17)\n",
      "memory usage: 47.7+ MB\n"
     ]
    }
   ],
   "source": [
    "dfn['predicate_obo'] = dfn.apply(relation_mapping, axis=1)\n",
    "dfn = dfn.reset_index(drop=True)\n",
    "dfn.info()"
   ]
  },
  {
   "cell_type": "code",
   "execution_count": 16,
   "metadata": {},
   "outputs": [],
   "source": [
    "#filter by semantic types here and then start mapping\n",
    "excluded_semtype = ['acty','bhvr','evnt','gora','mcha','ocac', #Occupational Activity\n",
    "'clas',\n",
    "'cnce',\n",
    "'ftcn',\n",
    "'grpa',\n",
    "'idcn',\n",
    "'inpr',\n",
    "'lang',\n",
    "'qlco',\n",
    "'qnco',\n",
    "'rnlw',\n",
    "'spco',\n",
    "'tmco',\n",
    "'enty',\n",
    "'mnob',\n",
    "'phob',\n",
    "'bmod',\n",
    "'ocdi',\n",
    "'hcro',\n",
    "'orgt',\n",
    "'pros',\n",
    "'shro',\n",
    "'eehu',\n",
    "'hcpp']"
   ]
  },
  {
   "cell_type": "code",
   "execution_count": 17,
   "metadata": {},
   "outputs": [],
   "source": [
    "dfn1 = dfn[~dfn['subject_type'].isin(excluded_semtype)]\n",
    "dfn2 = dfn1[~dfn1['object_type'].isin(excluded_semtype)]"
   ]
  },
  {
   "cell_type": "code",
   "execution_count": 18,
   "metadata": {},
   "outputs": [
    {
     "name": "stdout",
     "output_type": "stream",
     "text": [
      "<class 'pandas.core.frame.DataFrame'>\n",
      "RangeIndex: 259 entries, 0 to 258\n",
      "Data columns (total 3 columns):\n",
      " #   Column  Non-Null Count  Dtype \n",
      "---  ------  --------------  ----- \n",
      " 0   0       259 non-null    int64 \n",
      " 1   1       259 non-null    object\n",
      " 2   2       259 non-null    object\n",
      "dtypes: int64(1), object(2)\n",
      "memory usage: 6.2+ KB\n"
     ]
    }
   ],
   "source": [
    "##exclude all concepts that occur in SemMedDB GENERIC.CONCEPT table\n",
    "#Get CSV file - https://lhncbc.nlm.nih.gov/ii/tools/SemRep_SemMedDB_SKR/SemMedDB_download.html -- doesn't work\n",
    "#download from halil covid-19 repository - \n",
    "semmed = pd.read_csv('cui_to_ontology_maps/semmedVER43_2020_R_GENERIC_CONCEPT.csv', header=None)\n",
    "semmed.info()"
   ]
  },
  {
   "cell_type": "code",
   "execution_count": 19,
   "metadata": {},
   "outputs": [],
   "source": [
    "semmed = semmed.rename(columns={1: 'CUI', 2: 'concept_name'})\n",
    "semmed = semmed.drop([0], axis=1)\n",
    "generic_cui = semmed.CUI.tolist()\n",
    "dfn3 = dfn2[~dfn2['subject_cui'].isin(generic_cui)]\n",
    "dfn4 = dfn3[~dfn3['object_cui'].isin(generic_cui)]\n"
   ]
  },
  {
   "cell_type": "code",
   "execution_count": 20,
   "metadata": {},
   "outputs": [],
   "source": [
    "#handle subclassof when mapping to obo??"
   ]
  },
  {
   "cell_type": "code",
   "execution_count": 21,
   "metadata": {},
   "outputs": [
    {
     "data": {
      "text/plain": [
       "87745"
      ]
     },
     "execution_count": 21,
     "metadata": {},
     "output_type": "execute_result"
    }
   ],
   "source": [
    "#map from UMLS to GO, HPO\n",
    "with open('cui_to_ontology_maps/go_hpo_map_dict.pickle', 'rb') as filep:\n",
    "    go_hpo_mapping_dict = pickle.load(filep)\n",
    "len(go_hpo_mapping_dict)"
   ]
  },
  {
   "cell_type": "code",
   "execution_count": 22,
   "metadata": {},
   "outputs": [],
   "source": [
    "##MAPPING #1\n",
    "def umls_go_hpo_map(row, col):\n",
    "    if col == 'subject':\n",
    "        cui = row['subject_cui']\n",
    "    elif col == 'object':\n",
    "        cui = row['object_cui']\n",
    "    else:\n",
    "        print('specify if subject or object mapping required')\n",
    "        exit(0)\n",
    "    if cui in go_hpo_mapping_dict:\n",
    "        if len(go_hpo_mapping_dict):\n",
    "            return go_hpo_mapping_dict[cui][0]\n",
    "    return None"
   ]
  },
  {
   "cell_type": "code",
   "execution_count": 23,
   "metadata": {},
   "outputs": [
    {
     "name": "stderr",
     "output_type": "stream",
     "text": [
      "/home/sanya/.conda/envs/sanya_kg/lib/python3.6/site-packages/ipykernel_launcher.py:1: SettingWithCopyWarning: \n",
      "A value is trying to be set on a copy of a slice from a DataFrame.\n",
      "Try using .loc[row_indexer,col_indexer] = value instead\n",
      "\n",
      "See the caveats in the documentation: https://pandas.pydata.org/pandas-docs/stable/user_guide/indexing.html#returning-a-view-versus-a-copy\n",
      "  \"\"\"Entry point for launching an IPython kernel.\n",
      "/home/sanya/.conda/envs/sanya_kg/lib/python3.6/site-packages/ipykernel_launcher.py:2: SettingWithCopyWarning: \n",
      "A value is trying to be set on a copy of a slice from a DataFrame.\n",
      "Try using .loc[row_indexer,col_indexer] = value instead\n",
      "\n",
      "See the caveats in the documentation: https://pandas.pydata.org/pandas-docs/stable/user_guide/indexing.html#returning-a-view-versus-a-copy\n",
      "  \n"
     ]
    },
    {
     "name": "stdout",
     "output_type": "stream",
     "text": [
      "<class 'pandas.core.frame.DataFrame'>\n",
      "RangeIndex: 291682 entries, 0 to 291681\n",
      "Data columns (total 19 columns):\n",
      " #   Column               Non-Null Count   Dtype \n",
      "---  ------               --------------   ----- \n",
      " 0   index                291682 non-null  int64 \n",
      " 1   pmid                 291682 non-null  int64 \n",
      " 2   subject_cui          291682 non-null  object\n",
      " 3   subject_name         291682 non-null  object\n",
      " 4   subject_type         291682 non-null  object\n",
      " 5   object_cui           291682 non-null  object\n",
      " 6   object_name          291682 non-null  object\n",
      " 7   object_type          291682 non-null  object\n",
      " 8   year                 291682 non-null  object\n",
      " 9   sentence             291682 non-null  object\n",
      " 10  source_section       291682 non-null  object\n",
      " 11  pub_type             291682 non-null  object\n",
      " 12  related_common_name  291682 non-null  object\n",
      " 13  predicate            291682 non-null  object\n",
      " 14  subject_map          0 non-null       object\n",
      " 15  object_map           0 non-null       object\n",
      " 16  predicate_obo        291682 non-null  object\n",
      " 17  subject_obo          10396 non-null   object\n",
      " 18  object_obo           50823 non-null   object\n",
      "dtypes: int64(2), object(17)\n",
      "memory usage: 42.3+ MB\n"
     ]
    }
   ],
   "source": [
    "dfn4['subject_obo'] = dfn4.apply(umls_go_hpo_map, axis=1, col='subject')\n",
    "dfn4['object_obo'] = dfn4.apply(umls_go_hpo_map, axis=1, col='object')\n",
    "dfn4 = dfn4.reset_index(drop=True)\n",
    "dfn4.info()"
   ]
  },
  {
   "cell_type": "code",
   "execution_count": 24,
   "metadata": {},
   "outputs": [],
   "source": [
    "dfn_subset = dfn4"
   ]
  },
  {
   "cell_type": "code",
   "execution_count": 25,
   "metadata": {},
   "outputs": [
    {
     "data": {
      "text/plain": [
       "8552"
      ]
     },
     "execution_count": 25,
     "metadata": {},
     "output_type": "execute_result"
    }
   ],
   "source": [
    "##existing ontorunner mapping (updated in 2024 with new gilda and ontorunner mappings (see NER-OBO), updated dictionary in process_reach_data.ipynb)\n",
    "with open('cui_to_ontology_maps/CUItoOBO_with_genes_20240528.pickle', 'rb') as filep:\n",
    "    obomap_dict = pickle.load(filep)\n",
    "len(obomap_dict)"
   ]
  },
  {
   "cell_type": "code",
   "execution_count": 26,
   "metadata": {},
   "outputs": [],
   "source": [
    "##MAPPING #2\n",
    "def get_obo_mapping(row, col):\n",
    "    if col == 'subject':\n",
    "        cui = row['subject_cui']\n",
    "        obomap = row['subject_obo']\n",
    "    elif col == 'object':\n",
    "        cui = row['object_cui']\n",
    "        obomap = row['object_obo']\n",
    "    else:\n",
    "        print('specify if subject or object mapping required')\n",
    "        exit(0)\n",
    "    if isinstance(obomap, str):\n",
    "        return obomap\n",
    "    elif cui in obomap_dict:\n",
    "        return obomap_dict[cui]\n",
    "    return None"
   ]
  },
  {
   "cell_type": "code",
   "execution_count": 27,
   "metadata": {},
   "outputs": [
    {
     "name": "stdout",
     "output_type": "stream",
     "text": [
      "<class 'pandas.core.frame.DataFrame'>\n",
      "RangeIndex: 291682 entries, 0 to 291681\n",
      "Data columns (total 19 columns):\n",
      " #   Column               Non-Null Count   Dtype \n",
      "---  ------               --------------   ----- \n",
      " 0   index                291682 non-null  int64 \n",
      " 1   pmid                 291682 non-null  int64 \n",
      " 2   subject_cui          291682 non-null  object\n",
      " 3   subject_name         291682 non-null  object\n",
      " 4   subject_type         291682 non-null  object\n",
      " 5   object_cui           291682 non-null  object\n",
      " 6   object_name          291682 non-null  object\n",
      " 7   object_type          291682 non-null  object\n",
      " 8   year                 291682 non-null  object\n",
      " 9   sentence             291682 non-null  object\n",
      " 10  source_section       291682 non-null  object\n",
      " 11  pub_type             291682 non-null  object\n",
      " 12  related_common_name  291682 non-null  object\n",
      " 13  predicate            291682 non-null  object\n",
      " 14  subject_map          0 non-null       object\n",
      " 15  object_map           0 non-null       object\n",
      " 16  predicate_obo        291682 non-null  object\n",
      " 17  subject_obo          208812 non-null  object\n",
      " 18  object_obo           199210 non-null  object\n",
      "dtypes: int64(2), object(17)\n",
      "memory usage: 42.3+ MB\n"
     ]
    }
   ],
   "source": [
    "dfn_subset['subject_obo'] = dfn_subset.apply(get_obo_mapping, axis=1, col='subject')\n",
    "dfn_subset['object_obo'] = dfn_subset.apply(get_obo_mapping, axis=1, col='object')\n",
    "dfn_subset.info()"
   ]
  },
  {
   "cell_type": "code",
   "execution_count": 28,
   "metadata": {},
   "outputs": [
    {
     "data": {
      "text/html": [
       "<div>\n",
       "<style scoped>\n",
       "    .dataframe tbody tr th:only-of-type {\n",
       "        vertical-align: middle;\n",
       "    }\n",
       "\n",
       "    .dataframe tbody tr th {\n",
       "        vertical-align: top;\n",
       "    }\n",
       "\n",
       "    .dataframe thead th {\n",
       "        text-align: right;\n",
       "    }\n",
       "</style>\n",
       "<table border=\"1\" class=\"dataframe\">\n",
       "  <thead>\n",
       "    <tr style=\"text-align: right;\">\n",
       "      <th></th>\n",
       "      <th>constituent_name</th>\n",
       "      <th>URI</th>\n",
       "    </tr>\n",
       "  </thead>\n",
       "  <tbody>\n",
       "    <tr>\n",
       "      <th>0</th>\n",
       "      <td>12beta-acetoxycimigenol 3-o-beta-d-xylopyranoside</td>\n",
       "      <td>http://napdi.org/napdi_srs_imports:12beta_acet...</td>\n",
       "    </tr>\n",
       "    <tr>\n",
       "      <th>1</th>\n",
       "      <td>2'-o-acetylactein</td>\n",
       "      <td>http://napdi.org/napdi_srs_imports:2_o_acetyla...</td>\n",
       "    </tr>\n",
       "    <tr>\n",
       "      <th>2</th>\n",
       "      <td>2'-o-acetylcimicifugoside h1</td>\n",
       "      <td>http://napdi.org/napdi_srs_imports:2_o_acetylc...</td>\n",
       "    </tr>\n",
       "    <tr>\n",
       "      <th>3</th>\n",
       "      <td>23-epi-26-deoxyactein</td>\n",
       "      <td>http://purl.obolibrary.org/obo/CHEBI_70243</td>\n",
       "    </tr>\n",
       "    <tr>\n",
       "      <th>4</th>\n",
       "      <td>23-o-acetylshengmanol</td>\n",
       "      <td>http://napdi.org/napdi_srs_imports:23_o_acetyl...</td>\n",
       "    </tr>\n",
       "  </tbody>\n",
       "</table>\n",
       "</div>"
      ],
      "text/plain": [
       "                                    constituent_name  \\\n",
       "0  12beta-acetoxycimigenol 3-o-beta-d-xylopyranoside   \n",
       "1                                  2'-o-acetylactein   \n",
       "2                       2'-o-acetylcimicifugoside h1   \n",
       "3                              23-epi-26-deoxyactein   \n",
       "4                              23-o-acetylshengmanol   \n",
       "\n",
       "                                                 URI  \n",
       "0  http://napdi.org/napdi_srs_imports:12beta_acet...  \n",
       "1  http://napdi.org/napdi_srs_imports:2_o_acetyla...  \n",
       "2  http://napdi.org/napdi_srs_imports:2_o_acetylc...  \n",
       "3         http://purl.obolibrary.org/obo/CHEBI_70243  \n",
       "4  http://napdi.org/napdi_srs_imports:23_o_acetyl...  "
      ]
     },
     "execution_count": 28,
     "metadata": {},
     "output_type": "execute_result"
    }
   ],
   "source": [
    "##add constituent mappings\n",
    "constituent_mapping_dict = {}\n",
    "dfcons = pd.read_csv('cui_to_ontology_maps/chebi-extensions-constituents-NP-20240229.tsv', sep='\\t')\n",
    "dfcons.head()"
   ]
  },
  {
   "cell_type": "code",
   "execution_count": 29,
   "metadata": {},
   "outputs": [
    {
     "data": {
      "text/plain": [
       "671"
      ]
     },
     "execution_count": 29,
     "metadata": {},
     "output_type": "execute_result"
    }
   ],
   "source": [
    "##use for mapping after prefixing\n",
    "for i in range(len(dfcons.index)):\n",
    "    constituent_name = dfcons.at[i, 'constituent_name']\n",
    "    uri = dfcons.at[i, 'URI']\n",
    "    constituent_mapping_dict[constituent_name] = uri\n",
    "len(constituent_mapping_dict)"
   ]
  },
  {
   "cell_type": "code",
   "execution_count": 30,
   "metadata": {},
   "outputs": [],
   "source": [
    "##MAPPING #3\n",
    "def map_constituents(row, col):\n",
    "    if col == 'subject':\n",
    "        label = row['subject_name'].lower()\n",
    "        obomap = row['subject_obo']\n",
    "    elif col == 'object':\n",
    "        label = row['object_name'].lower()\n",
    "        obomap = row['object_obo']\n",
    "    else:\n",
    "        print('specify if subject or object mapping required')\n",
    "        exit(0)\n",
    "    if isinstance(obomap, str):\n",
    "        if label in constituent_mapping_dict:\n",
    "            return constituent_mapping_dict[label]\n",
    "        else:\n",
    "            return obomap\n",
    "    else:\n",
    "        if label in constituent_mapping_dict:\n",
    "            return constituent_mapping_dict[label]\n",
    "    return None"
   ]
  },
  {
   "cell_type": "code",
   "execution_count": 31,
   "metadata": {},
   "outputs": [
    {
     "name": "stdout",
     "output_type": "stream",
     "text": [
      "<class 'pandas.core.frame.DataFrame'>\n",
      "RangeIndex: 291682 entries, 0 to 291681\n",
      "Data columns (total 19 columns):\n",
      " #   Column               Non-Null Count   Dtype \n",
      "---  ------               --------------   ----- \n",
      " 0   index                291682 non-null  int64 \n",
      " 1   pmid                 291682 non-null  int64 \n",
      " 2   subject_cui          291682 non-null  object\n",
      " 3   subject_name         291682 non-null  object\n",
      " 4   subject_type         291682 non-null  object\n",
      " 5   object_cui           291682 non-null  object\n",
      " 6   object_name          291682 non-null  object\n",
      " 7   object_type          291682 non-null  object\n",
      " 8   year                 291682 non-null  object\n",
      " 9   sentence             291682 non-null  object\n",
      " 10  source_section       291682 non-null  object\n",
      " 11  pub_type             291682 non-null  object\n",
      " 12  related_common_name  291682 non-null  object\n",
      " 13  predicate            291682 non-null  object\n",
      " 14  subject_map          0 non-null       object\n",
      " 15  object_map           0 non-null       object\n",
      " 16  predicate_obo        291682 non-null  object\n",
      " 17  subject_obo          210505 non-null  object\n",
      " 18  object_obo           199710 non-null  object\n",
      "dtypes: int64(2), object(17)\n",
      "memory usage: 42.3+ MB\n"
     ]
    }
   ],
   "source": [
    "dfn_subset['subject_obo'] = dfn_subset.apply(map_constituents, axis=1, col='subject')\n",
    "dfn_subset['object_obo'] = dfn_subset.apply(map_constituents, axis=1, col='object')\n",
    "dfn_subset.info()"
   ]
  },
  {
   "cell_type": "code",
   "execution_count": 32,
   "metadata": {},
   "outputs": [
    {
     "name": "stdout",
     "output_type": "stream",
     "text": [
      "9054\n"
     ]
    }
   ],
   "source": [
    "#unmapped_cui = []\n",
    "#unmapped_string_umls = []\n",
    "unmapped_terms_dict = {}\n",
    "for i in range(len(dfn_subset.index)):\n",
    "    if not dfn_subset.at[i, 'subject_obo']:\n",
    "        subcui = dfn_subset.at[i, 'subject_cui']\n",
    "        if subcui not in unmapped_terms_dict:\n",
    "            unmapped_terms_dict[subcui] = dfn_subset.at[i, 'subject_name']\n",
    "    if not dfn_subset.at[i, 'object_obo']:\n",
    "        objcui = dfn_subset.at[i, 'object_cui']\n",
    "        if objcui not in unmapped_terms_dict:\n",
    "            unmapped_terms_dict[objcui] = dfn_subset.at[i, 'object_name']\n",
    "print(len(unmapped_terms_dict))"
   ]
  },
  {
   "cell_type": "code",
   "execution_count": 33,
   "metadata": {},
   "outputs": [
    {
     "data": {
      "text/plain": [
       "{'': '',\n",
       " 'C0443640': 'Specific antibody',\n",
       " 'C0301630': 'Reduction (chemical)',\n",
       " 'C3536832': 'Air',\n",
       " 'C0026030': 'Microsomes, Liver',\n",
       " 'C0031591': 'Phosgene',\n",
       " 'C0600688': 'Toxic effect',\n",
       " 'C0036492': 'Seals (Animal)',\n",
       " 'C1505125': 'RRAD protein, human',\n",
       " 'C0597298': 'Protein Isoforms',\n",
       " 'C2946261': 'Level',\n",
       " 'C0150312': 'Present',\n",
       " 'C0360100': 'Organic solvent product',\n",
       " 'C0596040': 'adduct',\n",
       " 'C3887559': 'Recombinant Human Macrophage Inflammatory Protein-1 Beta',\n",
       " 'C1882726': 'Rat Liver',\n",
       " 'C1517914': 'Mouse Liver',\n",
       " 'C0440731': 'Fetal brain',\n",
       " 'C1828472': 'Cytochrome p450 CYP2A6 enzyme',\n",
       " 'C0042333': 'Variation (Genetics)'}"
      ]
     },
     "execution_count": 33,
     "metadata": {},
     "output_type": "execute_result"
    }
   ],
   "source": [
    "##print 10 keys and values of unmapped terms dict\n",
    "{k: unmapped_terms_dict[k] for k in list(unmapped_terms_dict)[:20]}"
   ]
  },
  {
   "cell_type": "code",
   "execution_count": 34,
   "metadata": {},
   "outputs": [
    {
     "name": "stdout",
     "output_type": "stream",
     "text": [
      "<class 'pandas.core.frame.DataFrame'>\n",
      "RangeIndex: 9054 entries, 0 to 9053\n",
      "Data columns (total 2 columns):\n",
      " #   Column        Non-Null Count  Dtype \n",
      "---  ------        --------------  ----- \n",
      " 0   CUI           9054 non-null   object\n",
      " 1   concept_name  9054 non-null   object\n",
      "dtypes: object(2)\n",
      "memory usage: 141.6+ KB\n"
     ]
    }
   ],
   "source": [
    "##rename columns\n",
    "dfunmap = pd.DataFrame.from_dict(unmapped_terms_dict, orient='index')\n",
    "dfunmap = dfunmap.reset_index()\n",
    "dfunmap = dfunmap.rename(columns={'index': 'CUI', 0: 'concept_name'})\n",
    "dfunmap.info()"
   ]
  },
  {
   "cell_type": "code",
   "execution_count": 35,
   "metadata": {},
   "outputs": [],
   "source": [
    "##save dfunmap as TSV\n",
    "dfunmap.to_csv('semrep_data/unmapped_semrep_subset_2024.tsv', sep='\\t', index=False)"
   ]
  },
  {
   "cell_type": "code",
   "execution_count": 36,
   "metadata": {},
   "outputs": [],
   "source": [
    "dfn_subset.to_csv('semrep_data/semrep_all_predications_mapped_20240528.tsv', sep='\\t', index=False)"
   ]
  },
  {
   "cell_type": "markdown",
   "metadata": {},
   "source": [
    "### Add prefix"
   ]
  },
  {
   "cell_type": "code",
   "execution_count": 37,
   "metadata": {},
   "outputs": [],
   "source": [
    "def add_prefix(row, col):\n",
    "    obo_prefix = 'http://purl.obolibrary.org/obo/'\n",
    "    napdi_prefix = 'http://napdi.org/'\n",
    "    if col == 'predicate':\n",
    "        predicate_obo = row['predicate_obo']\n",
    "        if isinstance(predicate_obo, str):\n",
    "            return obo_prefix+predicate_obo\n",
    "        else:\n",
    "            return ''\n",
    "            \n",
    "    elif col == 'subject':\n",
    "        \n",
    "        subject_obo = row['subject_obo']\n",
    "        if isinstance(subject_obo, str):\n",
    "            if subject_obo == None:\n",
    "                return ''\n",
    "            if 'http' not in subject_obo:\n",
    "                if 'napdi' in subject_obo:\n",
    "                    return napdi_prefix+subject_obo\n",
    "                else:\n",
    "                    return obo_prefix+subject_obo\n",
    "            else:\n",
    "                return subject_obo\n",
    "        else:\n",
    "            return ''\n",
    "    elif col == 'object':\n",
    "        object_obo = row['object_obo']\n",
    "        if isinstance(object_obo, str):\n",
    "            if object_obo == None:\n",
    "                return ''\n",
    "            if 'http' not in object_obo:\n",
    "                if 'napdi' in object_obo:\n",
    "                    return napdi_prefix+object_obo\n",
    "                else:\n",
    "                    return obo_prefix+object_obo\n",
    "            else:\n",
    "                return object_obo\n",
    "        else:\n",
    "            return ''"
   ]
  },
  {
   "cell_type": "code",
   "execution_count": 38,
   "metadata": {},
   "outputs": [],
   "source": [
    "dfn_subset['subject_obo'] = dfn_subset.apply(add_prefix, axis=1, col='subject')\n",
    "dfn_subset['object_obo'] = dfn_subset.apply(add_prefix, axis=1, col='object')\n",
    "dfn_subset['predicate_obo'] = dfn_subset.apply(add_prefix, axis=1, col='predicate')"
   ]
  },
  {
   "cell_type": "code",
   "execution_count": 39,
   "metadata": {},
   "outputs": [
    {
     "name": "stdout",
     "output_type": "stream",
     "text": [
      "<class 'pandas.core.frame.DataFrame'>\n",
      "RangeIndex: 291682 entries, 0 to 291681\n",
      "Data columns (total 19 columns):\n",
      " #   Column               Non-Null Count   Dtype \n",
      "---  ------               --------------   ----- \n",
      " 0   index                291682 non-null  int64 \n",
      " 1   pmid                 291682 non-null  int64 \n",
      " 2   subject_cui          291682 non-null  object\n",
      " 3   subject_name         291682 non-null  object\n",
      " 4   subject_type         291682 non-null  object\n",
      " 5   object_cui           291682 non-null  object\n",
      " 6   object_name          291682 non-null  object\n",
      " 7   object_type          291682 non-null  object\n",
      " 8   year                 291682 non-null  object\n",
      " 9   sentence             291682 non-null  object\n",
      " 10  source_section       291682 non-null  object\n",
      " 11  pub_type             291682 non-null  object\n",
      " 12  related_common_name  291682 non-null  object\n",
      " 13  predicate            291682 non-null  object\n",
      " 14  subject_map          0 non-null       object\n",
      " 15  object_map           0 non-null       object\n",
      " 16  predicate_obo        291682 non-null  object\n",
      " 17  subject_obo          291682 non-null  object\n",
      " 18  object_obo           291682 non-null  object\n",
      "dtypes: int64(2), object(17)\n",
      "memory usage: 42.3+ MB\n"
     ]
    }
   ],
   "source": [
    "dfn_subset.info()"
   ]
  },
  {
   "cell_type": "code",
   "execution_count": 40,
   "metadata": {},
   "outputs": [
    {
     "data": {
      "text/html": [
       "<div>\n",
       "<style scoped>\n",
       "    .dataframe tbody tr th:only-of-type {\n",
       "        vertical-align: middle;\n",
       "    }\n",
       "\n",
       "    .dataframe tbody tr th {\n",
       "        vertical-align: top;\n",
       "    }\n",
       "\n",
       "    .dataframe thead th {\n",
       "        text-align: right;\n",
       "    }\n",
       "</style>\n",
       "<table border=\"1\" class=\"dataframe\">\n",
       "  <thead>\n",
       "    <tr style=\"text-align: right;\">\n",
       "      <th></th>\n",
       "      <th>index</th>\n",
       "      <th>pmid</th>\n",
       "      <th>subject_cui</th>\n",
       "      <th>subject_name</th>\n",
       "      <th>subject_type</th>\n",
       "      <th>object_cui</th>\n",
       "      <th>object_name</th>\n",
       "      <th>object_type</th>\n",
       "      <th>year</th>\n",
       "      <th>sentence</th>\n",
       "      <th>source_section</th>\n",
       "      <th>pub_type</th>\n",
       "      <th>related_common_name</th>\n",
       "      <th>predicate</th>\n",
       "      <th>subject_map</th>\n",
       "      <th>object_map</th>\n",
       "      <th>predicate_obo</th>\n",
       "      <th>subject_obo</th>\n",
       "      <th>object_obo</th>\n",
       "    </tr>\n",
       "  </thead>\n",
       "  <tbody>\n",
       "    <tr>\n",
       "      <th>0</th>\n",
       "      <td>0</td>\n",
       "      <td>18064444</td>\n",
       "      <td>C0010206</td>\n",
       "      <td>coumarin</td>\n",
       "      <td>orch,phsu</td>\n",
       "      <td></td>\n",
       "      <td></td>\n",
       "      <td>gngm,aapp</td>\n",
       "      <td>2008</td>\n",
       "      <td>18064444_ascii.txt.tx.1 Abstract Objective To ...</td>\n",
       "      <td></td>\n",
       "      <td>['Journal Article', 'Randomized Controlled Tri...</td>\n",
       "      <td>cinnamon</td>\n",
       "      <td>interacts_with</td>\n",
       "      <td>None</td>\n",
       "      <td>None</td>\n",
       "      <td>http://purl.obolibrary.org/obo/RO_0002434</td>\n",
       "      <td>http://purl.obolibrary.org/obo/CHEBI_28794</td>\n",
       "      <td></td>\n",
       "    </tr>\n",
       "    <tr>\n",
       "      <th>1</th>\n",
       "      <td>2</td>\n",
       "      <td>18064444</td>\n",
       "      <td>C0028040</td>\n",
       "      <td>Nicotine</td>\n",
       "      <td>hops,orch</td>\n",
       "      <td></td>\n",
       "      <td></td>\n",
       "      <td>gngm,aapp</td>\n",
       "      <td>2008</td>\n",
       "      <td>18064444_ascii.txt.tx.1 Abstract Objective To ...</td>\n",
       "      <td></td>\n",
       "      <td>['Journal Article', 'Randomized Controlled Tri...</td>\n",
       "      <td>cinnamon</td>\n",
       "      <td>interacts_with</td>\n",
       "      <td>None</td>\n",
       "      <td>None</td>\n",
       "      <td>http://purl.obolibrary.org/obo/RO_0002434</td>\n",
       "      <td>http://purl.obolibrary.org/obo/CHEBI_18723</td>\n",
       "      <td></td>\n",
       "    </tr>\n",
       "    <tr>\n",
       "      <th>2</th>\n",
       "      <td>3</td>\n",
       "      <td>18064444</td>\n",
       "      <td>C0052430</td>\n",
       "      <td>artemisinine</td>\n",
       "      <td>orch,phsu</td>\n",
       "      <td></td>\n",
       "      <td></td>\n",
       "      <td>gngm,aapp</td>\n",
       "      <td>2008</td>\n",
       "      <td>18064444_ascii.txt.tx.1 Abstract Objective To ...</td>\n",
       "      <td></td>\n",
       "      <td>['Journal Article', 'Randomized Controlled Tri...</td>\n",
       "      <td>cinnamon</td>\n",
       "      <td>interacts_with</td>\n",
       "      <td>None</td>\n",
       "      <td>None</td>\n",
       "      <td>http://purl.obolibrary.org/obo/RO_0002434</td>\n",
       "      <td>http://purl.obolibrary.org/obo/CHEBI_223316</td>\n",
       "      <td></td>\n",
       "    </tr>\n",
       "    <tr>\n",
       "      <th>3</th>\n",
       "      <td>11</td>\n",
       "      <td>12584152</td>\n",
       "      <td></td>\n",
       "      <td></td>\n",
       "      <td>gngm,aapp</td>\n",
       "      <td>C0086418</td>\n",
       "      <td>Homo sapiens</td>\n",
       "      <td>grup,humn</td>\n",
       "      <td>2003</td>\n",
       "      <td>12584152_ascii.txt.tx.1 ABSTRACT: The oxidativ...</td>\n",
       "      <td></td>\n",
       "      <td>['Journal Article']</td>\n",
       "      <td>cinnamon</td>\n",
       "      <td>part_of</td>\n",
       "      <td>None</td>\n",
       "      <td>None</td>\n",
       "      <td>http://purl.obolibrary.org/obo/BFO_0000050</td>\n",
       "      <td></td>\n",
       "      <td>http://purl.obolibrary.org/obo/NCBITaxon_9606</td>\n",
       "    </tr>\n",
       "    <tr>\n",
       "      <th>4</th>\n",
       "      <td>12</td>\n",
       "      <td>12584152</td>\n",
       "      <td>C0006556</td>\n",
       "      <td>DNA, Complementary</td>\n",
       "      <td>nnon</td>\n",
       "      <td></td>\n",
       "      <td></td>\n",
       "      <td>gngm,aapp</td>\n",
       "      <td>2003</td>\n",
       "      <td>12584152_ascii.txt.tx.1 ABSTRACT: The oxidativ...</td>\n",
       "      <td></td>\n",
       "      <td>['Journal Article']</td>\n",
       "      <td>cinnamon</td>\n",
       "      <td>interacts_with</td>\n",
       "      <td>None</td>\n",
       "      <td>None</td>\n",
       "      <td>http://purl.obolibrary.org/obo/RO_0002434</td>\n",
       "      <td>http://purl.obolibrary.org/obo/SO_0000352</td>\n",
       "      <td></td>\n",
       "    </tr>\n",
       "  </tbody>\n",
       "</table>\n",
       "</div>"
      ],
      "text/plain": [
       "   index      pmid subject_cui        subject_name subject_type object_cui  \\\n",
       "0      0  18064444    C0010206            coumarin    orch,phsu              \n",
       "1      2  18064444    C0028040            Nicotine    hops,orch              \n",
       "2      3  18064444    C0052430        artemisinine    orch,phsu              \n",
       "3     11  12584152                                    gngm,aapp   C0086418   \n",
       "4     12  12584152    C0006556  DNA, Complementary         nnon              \n",
       "\n",
       "    object_name object_type  year  \\\n",
       "0                 gngm,aapp  2008   \n",
       "1                 gngm,aapp  2008   \n",
       "2                 gngm,aapp  2008   \n",
       "3  Homo sapiens   grup,humn  2003   \n",
       "4                 gngm,aapp  2003   \n",
       "\n",
       "                                            sentence source_section  \\\n",
       "0  18064444_ascii.txt.tx.1 Abstract Objective To ...                  \n",
       "1  18064444_ascii.txt.tx.1 Abstract Objective To ...                  \n",
       "2  18064444_ascii.txt.tx.1 Abstract Objective To ...                  \n",
       "3  12584152_ascii.txt.tx.1 ABSTRACT: The oxidativ...                  \n",
       "4  12584152_ascii.txt.tx.1 ABSTRACT: The oxidativ...                  \n",
       "\n",
       "                                            pub_type related_common_name  \\\n",
       "0  ['Journal Article', 'Randomized Controlled Tri...            cinnamon   \n",
       "1  ['Journal Article', 'Randomized Controlled Tri...            cinnamon   \n",
       "2  ['Journal Article', 'Randomized Controlled Tri...            cinnamon   \n",
       "3                                ['Journal Article']            cinnamon   \n",
       "4                                ['Journal Article']            cinnamon   \n",
       "\n",
       "        predicate subject_map object_map  \\\n",
       "0  interacts_with        None       None   \n",
       "1  interacts_with        None       None   \n",
       "2  interacts_with        None       None   \n",
       "3         part_of        None       None   \n",
       "4  interacts_with        None       None   \n",
       "\n",
       "                                predicate_obo  \\\n",
       "0   http://purl.obolibrary.org/obo/RO_0002434   \n",
       "1   http://purl.obolibrary.org/obo/RO_0002434   \n",
       "2   http://purl.obolibrary.org/obo/RO_0002434   \n",
       "3  http://purl.obolibrary.org/obo/BFO_0000050   \n",
       "4   http://purl.obolibrary.org/obo/RO_0002434   \n",
       "\n",
       "                                   subject_obo  \\\n",
       "0   http://purl.obolibrary.org/obo/CHEBI_28794   \n",
       "1   http://purl.obolibrary.org/obo/CHEBI_18723   \n",
       "2  http://purl.obolibrary.org/obo/CHEBI_223316   \n",
       "3                                                \n",
       "4    http://purl.obolibrary.org/obo/SO_0000352   \n",
       "\n",
       "                                      object_obo  \n",
       "0                                                 \n",
       "1                                                 \n",
       "2                                                 \n",
       "3  http://purl.obolibrary.org/obo/NCBITaxon_9606  \n",
       "4                                                 "
      ]
     },
     "execution_count": 40,
     "metadata": {},
     "output_type": "execute_result"
    }
   ],
   "source": [
    "dfn_subset.head()"
   ]
  },
  {
   "cell_type": "code",
   "execution_count": 41,
   "metadata": {},
   "outputs": [],
   "source": [
    "dfn_subset = dfn_subset.drop(columns=['subject_map', 'object_map'])"
   ]
  },
  {
   "cell_type": "code",
   "execution_count": 42,
   "metadata": {},
   "outputs": [],
   "source": [
    "dfn_subset.to_csv('semrep_data/semrep_all_predications_mapped_with_prefix_20240528.tsv', sep='\\t', index=False)"
   ]
  },
  {
   "cell_type": "code",
   "execution_count": 43,
   "metadata": {},
   "outputs": [
    {
     "name": "stdout",
     "output_type": "stream",
     "text": [
      "<class 'pandas.core.frame.DataFrame'>\n",
      "RangeIndex: 143641 entries, 0 to 143640\n",
      "Data columns (total 17 columns):\n",
      " #   Column               Non-Null Count   Dtype \n",
      "---  ------               --------------   ----- \n",
      " 0   index                143641 non-null  int64 \n",
      " 1   pmid                 143641 non-null  int64 \n",
      " 2   subject_cui          143641 non-null  object\n",
      " 3   subject_name         143641 non-null  object\n",
      " 4   subject_type         143641 non-null  object\n",
      " 5   object_cui           143641 non-null  object\n",
      " 6   object_name          143641 non-null  object\n",
      " 7   object_type          143641 non-null  object\n",
      " 8   year                 143641 non-null  object\n",
      " 9   sentence             143641 non-null  object\n",
      " 10  source_section       143641 non-null  object\n",
      " 11  pub_type             143641 non-null  object\n",
      " 12  related_common_name  143641 non-null  object\n",
      " 13  predicate            143641 non-null  object\n",
      " 14  predicate_obo        143641 non-null  object\n",
      " 15  subject_obo          143641 non-null  object\n",
      " 16  object_obo           143641 non-null  object\n",
      "dtypes: int64(2), object(15)\n",
      "memory usage: 18.6+ MB\n"
     ]
    }
   ],
   "source": [
    "##drop unmapped concepts - only 37% left so needs mapping\n",
    "df_new = dfn_subset[dfn_subset['subject_obo'] != '']\n",
    "df_new = df_new[df_new['object_obo'] != '']\n",
    "df_new = df_new[df_new['predicate_obo'] != '']\n",
    "df_new = df_new.drop_duplicates()\n",
    "df_new = df_new.reset_index(drop=True)\n",
    "df_new.info()"
   ]
  },
  {
   "cell_type": "code",
   "execution_count": 44,
   "metadata": {},
   "outputs": [
    {
     "data": {
      "text/plain": [
       "interacts_with            28318\n",
       "part_of                   21489\n",
       "coexists_with             15912\n",
       "inhibits                  15091\n",
       "stimulates                14449\n",
       "affects                   13770\n",
       "treats                     7673\n",
       "disrupts                   6887\n",
       "causes                     5970\n",
       "augments                   5546\n",
       "associated_with            3230\n",
       "produces                   2531\n",
       "prevents                   1083\n",
       "predisposes                 719\n",
       "treats(infer)               454\n",
       "precedes                    118\n",
       "interacts_with(infer)        48\n",
       "coexists_with(spec)          46\n",
       "interacts_with(spec)         45\n",
       "associated_with(infer)       41\n",
       "inhibits(spec)               35\n",
       "treats(spec)                 32\n",
       "affects(spec)                28\n",
       "causes(spec)                 25\n",
       "stimulates(spec)             16\n",
       "complicates                  15\n",
       "associated_with(spec)        15\n",
       "disrupts(spec)               14\n",
       "prevents(spec)               11\n",
       "part_of(spec)                10\n",
       "augments(spec)                9\n",
       "produces(spec)                6\n",
       "precedes(spec)                4\n",
       "predisposes(spec)             1\n",
       "Name: predicate, dtype: int64"
      ]
     },
     "execution_count": 44,
     "metadata": {},
     "output_type": "execute_result"
    }
   ],
   "source": [
    "df_new['predicate'].value_counts()"
   ]
  },
  {
   "cell_type": "code",
   "execution_count": 45,
   "metadata": {},
   "outputs": [],
   "source": [
    "df_new.to_csv('semrep_data/semrep_all_predicates_mapped_processed_20240528.tsv', sep='\\t', index=False)"
   ]
  },
  {
   "cell_type": "code",
   "execution_count": 2,
   "metadata": {},
   "outputs": [
    {
     "name": "stdout",
     "output_type": "stream",
     "text": [
      "<class 'pandas.core.frame.DataFrame'>\n",
      "RangeIndex: 143641 entries, 0 to 143640\n",
      "Data columns (total 17 columns):\n",
      " #   Column               Non-Null Count   Dtype \n",
      "---  ------               --------------   ----- \n",
      " 0   index                143641 non-null  int64 \n",
      " 1   pmid                 143641 non-null  int64 \n",
      " 2   subject_cui          143641 non-null  object\n",
      " 3   subject_name         143641 non-null  object\n",
      " 4   subject_type         143641 non-null  object\n",
      " 5   object_cui           143641 non-null  object\n",
      " 6   object_name          143641 non-null  object\n",
      " 7   object_type          143641 non-null  object\n",
      " 8   year                 143641 non-null  int64 \n",
      " 9   sentence             143641 non-null  object\n",
      " 10  source_section       34642 non-null   object\n",
      " 11  pub_type             74612 non-null   object\n",
      " 12  related_common_name  143641 non-null  object\n",
      " 13  predicate            143641 non-null  object\n",
      " 14  predicate_obo        143641 non-null  object\n",
      " 15  subject_obo          143641 non-null  object\n",
      " 16  object_obo           143641 non-null  object\n",
      "dtypes: int64(3), object(14)\n",
      "memory usage: 18.6+ MB\n"
     ]
    }
   ],
   "source": [
    "import pandas as pd\n",
    "df_new = pd.read_csv('semrep_data/semrep_all_predicates_mapped_processed_20240528.tsv', sep='\\t')\n",
    "df_new.info()"
   ]
  },
  {
   "cell_type": "code",
   "execution_count": null,
   "metadata": {},
   "outputs": [],
   "source": []
  },
  {
   "cell_type": "markdown",
   "metadata": {},
   "source": [
    "### Create graphs"
   ]
  },
  {
   "cell_type": "code",
   "execution_count": 2,
   "metadata": {},
   "outputs": [],
   "source": [
    "#Create networkx graph from triples\n",
    "import glob\n",
    "import hashlib\n",
    "import json\n",
    "import networkx as nx  # type: ignore\n",
    "import os\n",
    "import os.path\n",
    "\n",
    "from collections import Counter  # type: ignore\n",
    "from more_itertools import unique_everseen  # type: ignore\n",
    "from rdflib import BNode, Graph, Literal, Namespace, URIRef  # type: ignore\n",
    "from rdflib.namespace import OWL, RDF, RDFS  # type: ignore\n",
    "from rdflib.plugins.serializers.nt import _quoteLiteral  # type: ignore\n",
    "import subprocess\n",
    "\n",
    "from tqdm import tqdm  # type: ignore\n",
    "from typing import Dict, List, Optional, Set, Tuple, Union\n",
    "import ast\n",
    "# set-up environment variables\n",
    "obo = Namespace('http://purl.obolibrary.org/obo/')\n",
    "oboinowl = Namespace('http://www.geneontology.org/formats/oboInOwl#')\n",
    "schema = Namespace('http://www.w3.org/2001/XMLSchema#')\n",
    "napdi = Namespace('http://napdi.org/napdi_srs_imports:')"
   ]
  },
  {
   "cell_type": "code",
   "execution_count": 4,
   "metadata": {},
   "outputs": [
    {
     "name": "stdout",
     "output_type": "stream",
     "text": [
      "<class 'pandas.core.frame.DataFrame'>\n",
      "RangeIndex: 58810 entries, 0 to 58809\n",
      "Data columns (total 3 columns):\n",
      " #   Column         Non-Null Count  Dtype \n",
      "---  ------         --------------  ----- \n",
      " 0   subject_obo    58810 non-null  object\n",
      " 1   predicate_obo  58810 non-null  object\n",
      " 2   object_obo     58810 non-null  object\n",
      "dtypes: object(3)\n",
      "memory usage: 1.3+ MB\n"
     ]
    }
   ],
   "source": [
    "dfres = df_new[['subject_obo', 'predicate_obo', 'object_obo']]\n",
    "dfres = dfres.drop_duplicates()\n",
    "dfres = dfres.reset_index(drop=True)\n",
    "dfres.info()"
   ]
  },
  {
   "cell_type": "code",
   "execution_count": 5,
   "metadata": {},
   "outputs": [
    {
     "data": {
      "text/html": [
       "<div>\n",
       "<style scoped>\n",
       "    .dataframe tbody tr th:only-of-type {\n",
       "        vertical-align: middle;\n",
       "    }\n",
       "\n",
       "    .dataframe tbody tr th {\n",
       "        vertical-align: top;\n",
       "    }\n",
       "\n",
       "    .dataframe thead th {\n",
       "        text-align: right;\n",
       "    }\n",
       "</style>\n",
       "<table border=\"1\" class=\"dataframe\">\n",
       "  <thead>\n",
       "    <tr style=\"text-align: right;\">\n",
       "      <th></th>\n",
       "      <th>subject_obo</th>\n",
       "      <th>predicate_obo</th>\n",
       "      <th>object_obo</th>\n",
       "    </tr>\n",
       "  </thead>\n",
       "  <tbody>\n",
       "    <tr>\n",
       "      <th>0</th>\n",
       "      <td>http://purl.obolibrary.org/obo/CHEBI_38559</td>\n",
       "      <td>http://purl.obolibrary.org/obo/RO_0002434</td>\n",
       "      <td>http://purl.obolibrary.org/obo/CHEBI_35255</td>\n",
       "    </tr>\n",
       "    <tr>\n",
       "      <th>1</th>\n",
       "      <td>http://purl.obolibrary.org/obo/UBERON_0002107</td>\n",
       "      <td>http://purl.obolibrary.org/obo/BFO_0000050</td>\n",
       "      <td>http://purl.obolibrary.org/obo/NCBITaxon_9606</td>\n",
       "    </tr>\n",
       "    <tr>\n",
       "      <th>2</th>\n",
       "      <td>http://purl.obolibrary.org/obo/PR_P05181</td>\n",
       "      <td>http://purl.obolibrary.org/obo/BFO_0000050</td>\n",
       "      <td>http://purl.obolibrary.org/obo/NCBITaxon_9606</td>\n",
       "    </tr>\n",
       "    <tr>\n",
       "      <th>3</th>\n",
       "      <td>http://purl.obolibrary.org/obo/CHEBI_16526</td>\n",
       "      <td>http://purl.obolibrary.org/obo/RO_0002610</td>\n",
       "      <td>http://purl.obolibrary.org/obo/NCBITaxon_1207117</td>\n",
       "    </tr>\n",
       "    <tr>\n",
       "      <th>4</th>\n",
       "      <td>http://purl.obolibrary.org/obo/CHEBI_16526</td>\n",
       "      <td>http://purl.obolibrary.org/obo/RO_0002610</td>\n",
       "      <td>http://purl.obolibrary.org/obo/HP_0012418</td>\n",
       "    </tr>\n",
       "  </tbody>\n",
       "</table>\n",
       "</div>"
      ],
      "text/plain": [
       "                                     subject_obo  \\\n",
       "0     http://purl.obolibrary.org/obo/CHEBI_38559   \n",
       "1  http://purl.obolibrary.org/obo/UBERON_0002107   \n",
       "2       http://purl.obolibrary.org/obo/PR_P05181   \n",
       "3     http://purl.obolibrary.org/obo/CHEBI_16526   \n",
       "4     http://purl.obolibrary.org/obo/CHEBI_16526   \n",
       "\n",
       "                                predicate_obo  \\\n",
       "0   http://purl.obolibrary.org/obo/RO_0002434   \n",
       "1  http://purl.obolibrary.org/obo/BFO_0000050   \n",
       "2  http://purl.obolibrary.org/obo/BFO_0000050   \n",
       "3   http://purl.obolibrary.org/obo/RO_0002610   \n",
       "4   http://purl.obolibrary.org/obo/RO_0002610   \n",
       "\n",
       "                                         object_obo  \n",
       "0        http://purl.obolibrary.org/obo/CHEBI_35255  \n",
       "1     http://purl.obolibrary.org/obo/NCBITaxon_9606  \n",
       "2     http://purl.obolibrary.org/obo/NCBITaxon_9606  \n",
       "3  http://purl.obolibrary.org/obo/NCBITaxon_1207117  \n",
       "4         http://purl.obolibrary.org/obo/HP_0012418  "
      ]
     },
     "execution_count": 5,
     "metadata": {},
     "output_type": "execute_result"
    }
   ],
   "source": [
    "dfres.head()"
   ]
  },
  {
   "cell_type": "markdown",
   "metadata": {},
   "source": [
    "#### Fix prefixes"
   ]
  },
  {
   "cell_type": "code",
   "execution_count": 6,
   "metadata": {},
   "outputs": [
    {
     "data": {
      "text/plain": [
       "18"
      ]
     },
     "execution_count": 6,
     "metadata": {},
     "output_type": "execute_result"
    }
   ],
   "source": [
    "##get unique prefixes for subjects and objects\n",
    "prefixes = []\n",
    "for i in range(len(df_new.index)):\n",
    "    subj = df_new.at[i, 'subject_obo']\n",
    "    obj = df_new.at[i, 'object_obo']\n",
    "    prefixes.append(subj.split('/')[-1].split('_')[0])\n",
    "    prefixes.append(obj.split('/')[-1].split('_')[0])\n",
    "prefixes = list(set(prefixes))\n",
    "len(prefixes)"
   ]
  },
  {
   "cell_type": "code",
   "execution_count": 7,
   "metadata": {},
   "outputs": [
    {
     "data": {
      "text/plain": [
       "['NCBITaxon',\n",
       " 'CL',\n",
       " 'napdi',\n",
       " 'UBERON',\n",
       " 'MONDO',\n",
       " 'PR',\n",
       " 'GO',\n",
       " 'OBO',\n",
       " 'RO',\n",
       " 'SLC47A1[SYNONYM',\n",
       " 'CLO',\n",
       " 'DOID',\n",
       " 'cellline#human',\n",
       " 'CHEBI',\n",
       " 'PW',\n",
       " 'HP',\n",
       " 'SO',\n",
       " 'PATO']"
      ]
     },
     "execution_count": 7,
     "metadata": {},
     "output_type": "execute_result"
    }
   ],
   "source": [
    "prefixes"
   ]
  },
  {
   "cell_type": "code",
   "execution_count": 8,
   "metadata": {},
   "outputs": [
    {
     "name": "stdout",
     "output_type": "stream",
     "text": [
      "http://purl.obolibrary.org/obo/SLC47A1[SYNONYM\n"
     ]
    }
   ],
   "source": [
    "problems = ['SLC47A1[SYNONYM']\n",
    "for i in range(len(df_new.index)):\n",
    "    subj = df_new.at[i, 'subject_obo']\n",
    "    obj = df_new.at[i, 'object_obo']\n",
    "    subjpref = subj.split('/')[-1].split('_')[0]\n",
    "    objpref = obj.split('/')[-1].split('_')[0]\n",
    "    if subjpref in problems:\n",
    "        print(subj)\n",
    "        break\n",
    "    if objpref in problems:\n",
    "        print(obj)\n",
    "        break"
   ]
  },
  {
   "cell_type": "code",
   "execution_count": 9,
   "metadata": {},
   "outputs": [],
   "source": [
    "##drop rows where subject_obo or object_obo = http_//www.ebi.ac.uk/cellline#human_cell_line\n",
    "df_new = df_new[df_new['subject_obo'] != 'http_//www.ebi.ac.uk/cellline#human_cell_line']\n",
    "df_new = df_new[df_new['object_obo'] != 'http_//www.ebi.ac.uk/cellline#human_cell_line']\n",
    "df_new = df_new.reset_index(drop=True)"
   ]
  },
  {
   "cell_type": "code",
   "execution_count": 10,
   "metadata": {},
   "outputs": [
    {
     "name": "stdout",
     "output_type": "stream",
     "text": [
      "<class 'pandas.core.frame.DataFrame'>\n",
      "RangeIndex: 143478 entries, 0 to 143477\n",
      "Data columns (total 17 columns):\n",
      " #   Column               Non-Null Count   Dtype \n",
      "---  ------               --------------   ----- \n",
      " 0   index                143478 non-null  int64 \n",
      " 1   pmid                 143478 non-null  int64 \n",
      " 2   subject_cui          143478 non-null  object\n",
      " 3   subject_name         143478 non-null  object\n",
      " 4   subject_type         143478 non-null  object\n",
      " 5   object_cui           143478 non-null  object\n",
      " 6   object_name          143478 non-null  object\n",
      " 7   object_type          143478 non-null  object\n",
      " 8   year                 143478 non-null  int64 \n",
      " 9   sentence             143478 non-null  object\n",
      " 10  source_section       34610 non-null   object\n",
      " 11  pub_type             74534 non-null   object\n",
      " 12  related_common_name  143478 non-null  object\n",
      " 13  predicate            143478 non-null  object\n",
      " 14  predicate_obo        143478 non-null  object\n",
      " 15  subject_obo          143478 non-null  object\n",
      " 16  object_obo           143478 non-null  object\n",
      "dtypes: int64(3), object(14)\n",
      "memory usage: 18.6+ MB\n"
     ]
    }
   ],
   "source": [
    "#drop rows where subject_obo or object_obo prefix = RO\n",
    "df_new = df_new[df_new['subject_obo'].str.split('/').str[-1].str.split('_').str[0] != 'RO']\n",
    "df_new = df_new[df_new['object_obo'].str.split('/').str[-1].str.split('_').str[0] != 'RO']\n",
    "df_new = df_new.reset_index(drop=True)\n",
    "df_new.info()"
   ]
  },
  {
   "cell_type": "code",
   "execution_count": 11,
   "metadata": {},
   "outputs": [],
   "source": [
    "problems = ['OBO', 'cellline#human', 'RO', 'SLC47A1[SYNONYM']\n",
    "for i in range(len(df_new.index)):\n",
    "    subj = df_new.at[i, 'subject_obo']\n",
    "    obj = df_new.at[i, 'object_obo']\n",
    "    subjpref = subj.split('/')[-1].split('_')[0]\n",
    "    objpref = obj.split('/')[-1].split('_')[0]\n",
    "    if subjpref in problems:\n",
    "        if subjpref == 'OBO':\n",
    "            df_new.at[i, 'subject_obo'] = subj.replace('OBO_', '')\n",
    "        elif subjpref == 'SLC47A1[SYNONYM':\n",
    "            df_new.at[i, 'subject_obo'] = 'http://purl.obolibrary.org/obo/PR_000015152'\n",
    "    if objpref in problems:\n",
    "        if objpref == 'OBO':\n",
    "            df_new.at[i, 'object_obo'] = obj.replace('OBO_', '')\n",
    "        elif objpref == 'SLC47A1[SYNONYM':\n",
    "            df_new.at[i, 'object_obo'] = 'http://purl.obolibrary.org/obo/PR_000015152'"
   ]
  },
  {
   "cell_type": "code",
   "execution_count": 12,
   "metadata": {},
   "outputs": [
    {
     "data": {
      "text/plain": [
       "['NCBITaxon',\n",
       " 'CL',\n",
       " 'napdi',\n",
       " 'PATO',\n",
       " 'UBERON',\n",
       " 'MONDO',\n",
       " 'PR',\n",
       " 'GO',\n",
       " 'CLO',\n",
       " 'DOID',\n",
       " 'CHEBI',\n",
       " 'VO',\n",
       " 'PW',\n",
       " 'HP',\n",
       " 'SO',\n",
       " 'OAE']"
      ]
     },
     "execution_count": 12,
     "metadata": {},
     "output_type": "execute_result"
    }
   ],
   "source": [
    "##check prefix again\n",
    "prefixes = []\n",
    "for i in range(len(df_new.index)):\n",
    "    subj = df_new.at[i, 'subject_obo']\n",
    "    obj = df_new.at[i, 'object_obo']\n",
    "    prefixes.append(subj.split('/')[-1].split('_')[0])\n",
    "    prefixes.append(obj.split('/')[-1].split('_')[0])\n",
    "prefixes = list(set(prefixes))\n",
    "prefixes"
   ]
  },
  {
   "cell_type": "code",
   "execution_count": 13,
   "metadata": {},
   "outputs": [],
   "source": [
    "##save to file\n",
    "df_new.to_csv('semrep_data/semrep_all_predicates_mapped_processed_new_20240528.tsv', sep='\\t', index=False)"
   ]
  },
  {
   "cell_type": "code",
   "execution_count": 3,
   "metadata": {},
   "outputs": [],
   "source": [
    "import pandas as pd\n",
    "df_new = pd.read_csv('semrep_data/semrep_all_predicates_mapped_processed_new_20240528.tsv', sep='\\t')"
   ]
  },
  {
   "cell_type": "code",
   "execution_count": 4,
   "metadata": {},
   "outputs": [],
   "source": [
    "typedict = {\n",
    "    'CHEBI': 'chemical',\n",
    "    'PR': 'protein',\n",
    "    'GO': 'process',\n",
    "    'DOID': 'disease',\n",
    "    'HP': 'phenotype',\n",
    "    'UBERON': 'anatomy',\n",
    "    'SO': 'sequence',\n",
    "    'CL': 'cell',\n",
    "    'VO': 'vaccine',\n",
    "    'NCBITaxon': 'organism',\n",
    "    'MONDO': 'disease',\n",
    "    'napdi': 'natural_product',\n",
    "    'OAE': 'adverse_event',\n",
    "    'NCBIGene': 'gene',\n",
    "    'PW': 'pathway',\n",
    "    'CLO': 'cell_line',\n",
    "    'PATO': 'phenotype'\n",
    "}"
   ]
  },
  {
   "cell_type": "code",
   "execution_count": 5,
   "metadata": {},
   "outputs": [],
   "source": [
    "#create rdflib graph from dataframe triples and serialize as ntriples file\n",
    "graph  = Graph()\n",
    "pred_label = URIRef(\"http://www.w3.org/2000/01/rdf-schema#label\")\n",
    "for i in range(len(df_new.index)):\n",
    "    subj = df_new.at[i, 'subject_obo']\n",
    "    obj = df_new.at[i, 'object_obo']\n",
    "    pred = df_new.at[i, 'predicate_obo']\n",
    "    subj_node = URIRef(subj)\n",
    "    obj_node = URIRef(obj)\n",
    "    predicate = URIRef(pred)\n",
    "    subj_name = df_new.at[i, 'subject_name']\n",
    "    obj_name = df_new.at[i, 'object_name']\n",
    "    graph.add((subj_node, predicate, obj_node))\n",
    "    graph.add((subj_node, pred_label, Literal(subj_name)))\n",
    "    graph.add((obj_node, pred_label, Literal(obj_name)))"
   ]
  },
  {
   "cell_type": "code",
   "execution_count": 6,
   "metadata": {},
   "outputs": [],
   "source": [
    "graph.serialize('output_graphs/machineread_semrep_version2.nt', format='nt')"
   ]
  },
  {
   "cell_type": "code",
   "execution_count": 7,
   "metadata": {},
   "outputs": [
    {
     "data": {
      "text/plain": [
       "67802"
      ]
     },
     "execution_count": 7,
     "metadata": {},
     "output_type": "execute_result"
    }
   ],
   "source": [
    "len(graph)"
   ]
  },
  {
   "cell_type": "code",
   "execution_count": 8,
   "metadata": {},
   "outputs": [],
   "source": [
    "import ast"
   ]
  },
  {
   "cell_type": "code",
   "execution_count": 9,
   "metadata": {},
   "outputs": [],
   "source": [
    "def n3(node: Union[URIRef, BNode, Literal]) -> str:\n",
    "    \"\"\"Method takes an RDFLib node of type BNode, URIRef, or Literal and serializes it to meet the RDF 1.1 NTriples\n",
    "    format.\n",
    "    Src: https://github.com/RDFLib/rdflib/blob/c11f7b503b50b7c3cdeec0f36261fa09b0615380/rdflib/plugins/serializers/nt.py\n",
    "    Args:\n",
    "        node: An RDFLib\n",
    "    Returns:\n",
    "        serialized_node: A string containing the serialized\n",
    "    \"\"\"\n",
    "    if isinstance(node, Literal): serialized_node = \"%s\" % _quoteLiteral(node)\n",
    "    else: serialized_node = \"%s\" % node.n3()\n",
    "    return serialized_node"
   ]
  },
  {
   "cell_type": "code",
   "execution_count": 10,
   "metadata": {},
   "outputs": [
    {
     "data": {
      "text/plain": [
       "36252"
      ]
     },
     "execution_count": 10,
     "metadata": {},
     "output_type": "execute_result"
    }
   ],
   "source": [
    "##read in edge metadata dict\n",
    "import pickle\n",
    "with open('output_graphs/edge_metadata_reach_version2.pickle', 'rb') as fp:\n",
    "    edge_metadata = pickle.load(fp)\n",
    "len(edge_metadata)"
   ]
  },
  {
   "cell_type": "code",
   "execution_count": 11,
   "metadata": {},
   "outputs": [
    {
     "data": {
      "text/plain": [
       "6529"
      ]
     },
     "execution_count": 11,
     "metadata": {},
     "output_type": "execute_result"
    }
   ],
   "source": [
    "#read in uri_to_curie_map_reach\n",
    "with open('output_graphs/uri_to_curie_map_reach.pickle', 'rb') as fp:\n",
    "    uri_to_curie_map = pickle.load(fp)\n",
    "len(uri_to_curie_map)"
   ]
  },
  {
   "cell_type": "code",
   "execution_count": 12,
   "metadata": {},
   "outputs": [],
   "source": [
    "df_new = df_new.fillna('')"
   ]
  },
  {
   "cell_type": "code",
   "execution_count": 13,
   "metadata": {},
   "outputs": [],
   "source": [
    "##create edge metadata df for semrep\n",
    "edge_metadata_df = pd.DataFrame(columns=['subject_uri', 'object_uri', 'relation', 'subject_curie', 'object_curie', 'source', 'edge_type', 'year', 'pmid', 'sentence', 'belief', 'pubtype', 'source_section'])"
   ]
  },
  {
   "cell_type": "code",
   "execution_count": 14,
   "metadata": {},
   "outputs": [],
   "source": [
    "#convert rdflib graph to multidigraph - code borrowed from PheKnowLator: kg_utils.py\n",
    "#use the pred key to also create a dictionary with metadata about the edge - \n",
    "#pub_year, pmid, source graph, belief\n",
    "nx_mdg = nx.MultiDiGraph()"
   ]
  },
  {
   "cell_type": "code",
   "execution_count": 15,
   "metadata": {},
   "outputs": [
    {
     "name": "stderr",
     "output_type": "stream",
     "text": [
      "  0%|          | 0/67802 [00:00<?, ?it/s]"
     ]
    },
    {
     "name": "stderr",
     "output_type": "stream",
     "text": [
      "100%|██████████| 67802/67802 [4:12:51<00:00,  4.47it/s]  \n"
     ]
    }
   ],
   "source": [
    "for s, p, o in tqdm(graph):\n",
    "    #do not save label predicate to gpickle\n",
    "    subj = str(s)\n",
    "    obj = str(o)\n",
    "    pred = str(p)\n",
    "    if pred == 'http://www.w3.org/2000/01/rdf-schema#label':\n",
    "        continue\n",
    "    else:\n",
    "        ##defining metadata dict for edge type\n",
    "        subj_type = typedict[subj.split('/')[-1].split('_')[0]]\n",
    "        obj_type = typedict[obj.split('/')[-1].split('_')[0]]\n",
    "        subj_curie = subj.split('/')[-1]\n",
    "        obj_curie = obj.split('/')[-1]\n",
    "        if subj not in uri_to_curie_map:\n",
    "            uri_to_curie_map[subj] = subj_curie\n",
    "        if obj not in uri_to_curie_map:\n",
    "            uri_to_curie_map[obj] = obj_curie\n",
    "        edge_key = subj_curie + '-' + obj_curie\n",
    "        if edge_key not in edge_metadata:\n",
    "            edge_metadata[edge_key] = {\n",
    "            'type': subj_type + '-' + obj_type,\n",
    "            'relations': {}\n",
    "            }\n",
    "        pred_curie = pred.split('/')[-1]\n",
    "        pred_key = hashlib.md5('{}{}{}'.format(n3(s), n3(p), n3(o)).encode()).hexdigest()\n",
    "        pmid = str(df_new.loc[(df_new['subject_obo'] == subj) & (df_new['object_obo'] == obj) & (df_new['predicate_obo'] == pred)]['pmid'].values[0])\n",
    "        timestamp = str(df_new.loc[(df_new['subject_obo'] == subj) & (df_new['object_obo'] == obj) & (df_new['predicate_obo'] == pred)]['year'].values[0])\n",
    "        belief_score = 0.8\n",
    "        sentence = df_new.loc[(df_new['subject_obo'] == subj) & (df_new['object_obo'] == obj) & (df_new['predicate_obo'] == pred)]['sentence'].values[0]\n",
    "        source_section = df_new.loc[(df_new['subject_obo'] == subj) & (df_new['object_obo'] == obj) & (df_new['predicate_obo'] == pred)]['source_section'].values[0]\n",
    "        pub_type_list = df_new.loc[(df_new['subject_obo'] == subj) & (df_new['object_obo'] == obj) & (df_new['predicate_obo'] == pred)]['pub_type'].values[0]\n",
    "        if pub_type_list == '':\n",
    "            pub_type = ''\n",
    "        else:\n",
    "            pub_type = ast.literal_eval(pub_type_list)\n",
    "            pub_type = ' '.join(pub_type)\n",
    "        #add edge to graph\n",
    "        nx_mdg.add_node(s, key=n3(s))\n",
    "        nx_mdg.add_node(o, key=n3(o))\n",
    "        nx_mdg.add_edge(s, o, **{'key': p, 'predicate_key': pred_key, 'weight':0.0, 'source_graph': 'machine_read'})\n",
    "\n",
    "        #add edge metadata to edge_metadict\n",
    "        if pred_curie not in edge_metadata[edge_key]['relations']:\n",
    "            edge_metadata[edge_key]['relations'][pred_curie] = {\n",
    "                'source': [],\n",
    "                'year': [],\n",
    "                'pmid': [],\n",
    "                'sentence': [],\n",
    "                'belief': [],\n",
    "                'weight': [],\n",
    "                'pubtype': [],\n",
    "                'source_section': [],\n",
    "                }\n",
    "        edge_metadata[edge_key]['relations'][pred_curie]['source'].append('semrep')\n",
    "        edge_metadata[edge_key]['relations'][pred_curie]['year'].append(timestamp)\n",
    "        edge_metadata[edge_key]['relations'][pred_curie]['pmid'].append(pmid)\n",
    "        edge_metadata[edge_key]['relations'][pred_curie]['sentence'].append(sentence)\n",
    "        edge_metadata[edge_key]['relations'][pred_curie]['belief'].append(belief_score)\n",
    "        edge_metadata[edge_key]['relations'][pred_curie]['weight'].append(0.0)\n",
    "        edge_metadata[edge_key]['relations'][pred_curie]['pubtype'].append(pub_type)\n",
    "        edge_metadata[edge_key]['relations'][pred_curie]['source_section'].append(source_section)\n",
    "\n",
    "        temp_df = pd.DataFrame([[subj, obj, pred_curie, subj_curie, obj_curie, 'semrep', pred_curie, timestamp, pmid, sentence, belief_score, pub_type, source_section]], columns=edge_metadata_df.columns)\n",
    "        edge_metadata_df = pd.concat([edge_metadata_df, temp_df], ignore_index=True)\n",
    "nx.write_gpickle(nx_mdg, 'output_graphs/machineread_semrep_version2.gpickle')"
   ]
  },
  {
   "cell_type": "code",
   "execution_count": 16,
   "metadata": {},
   "outputs": [],
   "source": [
    "##write edge metadata to pickle\n",
    "with open('output_graphs/edge_metadata_reach_semrep_version2.pickle', 'wb') as filep:\n",
    "    pickle.dump(edge_metadata, filep)"
   ]
  },
  {
   "cell_type": "code",
   "execution_count": 17,
   "metadata": {},
   "outputs": [],
   "source": [
    "with open('output_graphs/uri_to_curie_map_reach_semrep.pickle', 'wb') as filep2:\n",
    "    pickle.dump(uri_to_curie_map, filep2)"
   ]
  },
  {
   "cell_type": "code",
   "execution_count": 18,
   "metadata": {},
   "outputs": [
    {
     "name": "stdout",
     "output_type": "stream",
     "text": [
      "<class 'pandas.core.frame.DataFrame'>\n",
      "RangeIndex: 58754 entries, 0 to 58753\n",
      "Data columns (total 13 columns):\n",
      " #   Column          Non-Null Count  Dtype  \n",
      "---  ------          --------------  -----  \n",
      " 0   subject_uri     58754 non-null  object \n",
      " 1   object_uri      58754 non-null  object \n",
      " 2   relation        58754 non-null  object \n",
      " 3   subject_curie   58754 non-null  object \n",
      " 4   object_curie    58754 non-null  object \n",
      " 5   source          58754 non-null  object \n",
      " 6   edge_type       58754 non-null  object \n",
      " 7   year            58754 non-null  object \n",
      " 8   pmid            58754 non-null  object \n",
      " 9   sentence        58754 non-null  object \n",
      " 10  belief          58754 non-null  float64\n",
      " 11  pubtype         58754 non-null  object \n",
      " 12  source_section  58754 non-null  object \n",
      "dtypes: float64(1), object(12)\n",
      "memory usage: 5.8+ MB\n"
     ]
    }
   ],
   "source": [
    "edge_metadata_df.info()"
   ]
  },
  {
   "cell_type": "code",
   "execution_count": 19,
   "metadata": {},
   "outputs": [],
   "source": [
    "edge_metadata_df.to_csv('output_graphs/edge_metadata_semrep_version2.tsv', sep='\\t', index=False)"
   ]
  },
  {
   "cell_type": "code",
   "execution_count": 20,
   "metadata": {},
   "outputs": [
    {
     "name": "stdout",
     "output_type": "stream",
     "text": [
      "67802 17447 17\n"
     ]
    }
   ],
   "source": [
    "triples = len(graph)\n",
    "nodes = len(set(list(graph.subjects()) + list(graph.objects())))\n",
    "rels = len(set(list(graph.predicates())))\n",
    "print(triples, nodes, rels)"
   ]
  },
  {
   "cell_type": "code",
   "execution_count": 21,
   "metadata": {},
   "outputs": [
    {
     "name": "stdout",
     "output_type": "stream",
     "text": [
      "8399 58754 0.0008329788747404438 6.995356590070246\n"
     ]
    }
   ],
   "source": [
    "#this should have less edges than rdflib graph after removing 'labels'\n",
    "nodes = nx.number_of_nodes(nx_mdg)\n",
    "edges = nx.number_of_edges(nx_mdg)\n",
    "density = nx.density(nx_mdg)\n",
    "avg_deg = float(edges)/nodes\n",
    "print(nodes, edges, density, avg_deg)"
   ]
  },
  {
   "cell_type": "code",
   "execution_count": 22,
   "metadata": {},
   "outputs": [
    {
     "data": {
      "text/plain": [
       "8415"
      ]
     },
     "execution_count": 22,
     "metadata": {},
     "output_type": "execute_result"
    }
   ],
   "source": [
    "#save node labels as dictionary\n",
    "#key: URI, value is label\n",
    "label_dict = {}\n",
    "for i in range(len(df_new.index)):\n",
    "    subj = str(df_new.at[i, 'subject_obo'])\n",
    "    obj = str(df_new.at[i, 'object_obo'])\n",
    "    pred = str(df_new.at[i, 'predicate_obo'])\n",
    "    if subj not in label_dict:\n",
    "        label_dict[subj] = {}\n",
    "        label_dict[subj]['entity_type'] = 'NODES'\n",
    "        label_dict[subj]['label'] = df_new.at[i, 'subject_name']\n",
    "        label_dict[subj]['cui'] = df_new.at[i, 'subject_cui']\n",
    "    if obj not in label_dict:\n",
    "        label_dict[obj] = {}\n",
    "        label_dict[obj]['entity_type'] = 'NODES'\n",
    "        label_dict[obj]['label'] = df_new.at[i, 'object_name']\n",
    "        label_dict[obj]['cui'] = df_new.at[i, 'object_cui']\n",
    "    if pred not in label_dict:\n",
    "        label_dict[pred] = {}\n",
    "        label_dict[pred]['entity_type'] = 'RELATIONS'\n",
    "        label_dict[pred]['label'] = df_new.at[i, 'predicate']\n",
    "len(label_dict)"
   ]
  },
  {
   "cell_type": "code",
   "execution_count": 23,
   "metadata": {},
   "outputs": [],
   "source": [
    "with open('output_graphs/machineread_semrep_NodeLabels.pickle', 'wb') as file_p:\n",
    "    pickle.dump(label_dict, file_p)"
   ]
  },
  {
   "cell_type": "code",
   "execution_count": 24,
   "metadata": {},
   "outputs": [],
   "source": [
    "dfmap = pd.DataFrame.from_dict(label_dict, orient='index')\n",
    "dfmap = dfmap.reset_index()\n",
    "dfmap = dfmap.rename(columns={\"index\":\"entity_uri\"})\n",
    "dfmap.to_csv('output_graphs/machineread_semrep_NodeLabels.tsv', index=False, sep='\\t')"
   ]
  },
  {
   "cell_type": "code",
   "execution_count": null,
   "metadata": {},
   "outputs": [],
   "source": []
  }
 ],
 "metadata": {
  "kernelspec": {
   "display_name": "Python 3.6.13 ('sanya_kg')",
   "language": "python",
   "name": "python3"
  },
  "language_info": {
   "codemirror_mode": {
    "name": "ipython",
    "version": 3
   },
   "file_extension": ".py",
   "mimetype": "text/x-python",
   "name": "python",
   "nbconvert_exporter": "python",
   "pygments_lexer": "ipython3",
   "version": "3.6.13"
  },
  "orig_nbformat": 4,
  "vscode": {
   "interpreter": {
    "hash": "41f6dbb4620f1287d918c6d619d0adb09c41576ea2dff392e8096d45e1460f3a"
   }
  }
 },
 "nbformat": 4,
 "nbformat_minor": 2
}
