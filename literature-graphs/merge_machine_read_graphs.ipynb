{
 "cells": [
  {
   "cell_type": "markdown",
   "id": "399cb0ac-ee8b-4387-82b4-06ba0818fadc",
   "metadata": {},
   "source": [
    "### Notebook to merge machine read triples after extraction and processing from INDRA/REACH and SemRep"
   ]
  },
  {
   "cell_type": "code",
   "execution_count": 1,
   "id": "7b31f7b3-64a5-4cd1-b861-c37df7f56b68",
   "metadata": {},
   "outputs": [],
   "source": [
    "import pandas as pd\n",
    "from rdflib.namespace import OWL, RDF, RDFS\n",
    "import networkx as nx"
   ]
  },
  {
   "cell_type": "code",
   "execution_count": null,
   "id": "f5ea1e63-8999-4e8b-88f2-45ba6d6ecda7",
   "metadata": {},
   "outputs": [],
   "source": [
    "##Previous run v1.0.1 - 2022-06-16\n",
    "##Previous run v2.0.0 - 2023-04-23\n",
    "##Latest run v3.0.0 - 2024-06-01"
   ]
  },
  {
   "cell_type": "code",
   "execution_count": 4,
   "id": "31a711e5-1d2c-4a7b-aec9-97350d0a1704",
   "metadata": {},
   "outputs": [],
   "source": [
    "##read in machine reading graphs\n",
    "g1 = '/home/sanya/PheKnowLator/literature_graphs/output_graphs/machineread_semrep_version2.nt'\n",
    "g2 = '/home/sanya/PheKnowLator/literature_graphs/output_graphs/machineread_reach_version2.nt'"
   ]
  },
  {
   "cell_type": "code",
   "execution_count": 5,
   "id": "b7bbe99f-10ac-40f8-afcc-b56ec056df8d",
   "metadata": {},
   "outputs": [],
   "source": [
    "#if merging ntriples - concatenate files\n",
    "#if merging gpickle - use nx.compose function. Also merge nodelabels and fix labels"
   ]
  },
  {
   "cell_type": "code",
   "execution_count": 7,
   "id": "6f045777-b151-43fd-9fdb-0fd8dee81300",
   "metadata": {},
   "outputs": [
    {
     "data": {
      "text/plain": [
       "67804"
      ]
     },
     "execution_count": 7,
     "metadata": {},
     "output_type": "execute_result"
    }
   ],
   "source": [
    "with open(g1,'r') as file1:\n",
    "    g = file1.read()\n",
    "graph1 = g.split('\\n')\n",
    "len(graph1)"
   ]
  },
  {
   "cell_type": "code",
   "execution_count": 8,
   "id": "6525bebd-3073-4197-85dd-b928f311f1c1",
   "metadata": {},
   "outputs": [
    {
     "data": {
      "text/plain": [
       "'<http://purl.obolibrary.org/obo/CHEBI_3429> <http://purl.obolibrary.org/obo/RO_0002434> <http://napdi.org/napdi_srs_imports:rosmarinus_officinalis> .'"
      ]
     },
     "execution_count": 8,
     "metadata": {},
     "output_type": "execute_result"
    }
   ],
   "source": [
    "graph1[0]"
   ]
  },
  {
   "cell_type": "code",
   "execution_count": 9,
   "id": "5a84afbc-9896-4754-bc3b-676c38b21bff",
   "metadata": {},
   "outputs": [
    {
     "data": {
      "text/plain": [
       "49569"
      ]
     },
     "execution_count": 9,
     "metadata": {},
     "output_type": "execute_result"
    }
   ],
   "source": [
    "with open(g2,'r') as file2:\n",
    "    g = file2.read()\n",
    "graph2 = g.split('\\n')\n",
    "len(graph2)"
   ]
  },
  {
   "cell_type": "code",
   "execution_count": 10,
   "id": "5d02ecd2-a71a-4a3b-9347-0cebe6b836b2",
   "metadata": {},
   "outputs": [
    {
     "name": "stdout",
     "output_type": "stream",
     "text": [
      "67804 49569\n"
     ]
    }
   ],
   "source": [
    "print(len(graph1), len(graph2))"
   ]
  },
  {
   "cell_type": "code",
   "execution_count": 11,
   "id": "b07c1b89-752a-4beb-b760-b8c019be7b26",
   "metadata": {},
   "outputs": [],
   "source": [
    "output_file = '/home/sanya/PheKnowLator/literature_graphs/output_graphs/machine_read_merged_20240601.nt'"
   ]
  },
  {
   "cell_type": "code",
   "execution_count": 12,
   "id": "e80234b3-5406-48db-b4e9-3d0d9634a335",
   "metadata": {},
   "outputs": [],
   "source": [
    "with open(output_file, 'w') as fileo:\n",
    "    for gt1 in graph1:\n",
    "        fileo.write(gt1)\n",
    "        fileo.write('\\n')\n",
    "    for gt2 in graph2:\n",
    "        fileo.write(gt2)\n",
    "        fileo.write('\\n')\n",
    "file1.close()\n",
    "file2.close()\n",
    "fileo.close()"
   ]
  },
  {
   "cell_type": "code",
   "execution_count": 13,
   "id": "ff2da621-dd4c-4727-9927-d575d75e8555",
   "metadata": {},
   "outputs": [
    {
     "data": {
      "text/plain": [
       "117374"
      ]
     },
     "execution_count": 13,
     "metadata": {},
     "output_type": "execute_result"
    }
   ],
   "source": [
    "with open(output_file,'r') as filei:\n",
    "    g = filei.read()\n",
    "mr = g.split('\\n')\n",
    "len(mr)"
   ]
  },
  {
   "cell_type": "code",
   "execution_count": 15,
   "id": "5cf6f9ce-21d4-4f2e-a8a0-96653583292f",
   "metadata": {},
   "outputs": [
    {
     "data": {
      "text/plain": [
       "38373"
      ]
     },
     "execution_count": 15,
     "metadata": {},
     "output_type": "execute_result"
    }
   ],
   "source": [
    "inferred_file = '/home/sanya/PheKnowLator/literature_graphs/closure_output/inferred-transitive-and-symmetric.ntriples'\n",
    "with open(inferred_file,'r') as file2:\n",
    "    g2 = file2.read()\n",
    "mrinf = g2.split('\\n')\n",
    "len(mrinf)"
   ]
  },
  {
   "cell_type": "code",
   "execution_count": 16,
   "id": "95c33bb6-a3ce-413c-a6c4-d0e6b528dc78",
   "metadata": {},
   "outputs": [
    {
     "data": {
      "text/plain": [
       "'<http://purl.obolibrary.org/obo/CHEBI_3429> <http://purl.obolibrary.org/obo/RO_0002434> <http://napdi.org/napdi_srs_imports:rosmarinus_officinalis> .'"
      ]
     },
     "execution_count": 16,
     "metadata": {},
     "output_type": "execute_result"
    }
   ],
   "source": [
    "mr[0]"
   ]
  },
  {
   "cell_type": "code",
   "execution_count": 17,
   "id": "3f01b6f9-eed6-44e2-89b0-dc5f3f295093",
   "metadata": {},
   "outputs": [
    {
     "data": {
      "text/plain": [
       "38373"
      ]
     },
     "execution_count": 17,
     "metadata": {},
     "output_type": "execute_result"
    }
   ],
   "source": [
    "mrinf_new = []\n",
    "for item in mrinf:\n",
    "    if mrinf != '':\n",
    "        temp = item.replace('>', '> ')\n",
    "        mrinf_new.append(temp)\n",
    "len(mrinf_new)"
   ]
  },
  {
   "cell_type": "code",
   "execution_count": 18,
   "id": "bd601fd4-5666-4d83-9fb2-e20ed263fac7",
   "metadata": {},
   "outputs": [],
   "source": [
    "outmerged = '/home/sanya/PheKnowLator/literature_graphs/output_graphs/machine_read_merged_with_closure_20240601.nt'\n",
    "with open(outmerged, 'w') as fileo:\n",
    "    for gt1 in mr:\n",
    "        if gt1 != '':\n",
    "            fileo.write(gt1)\n",
    "            fileo.write('\\n')\n",
    "    for gt2 in mrinf_new:\n",
    "        if gt2 != '':\n",
    "            fileo.write(gt2)\n",
    "            fileo.write('\\n')\n",
    "fileo.close()\n",
    "filei.close()\n",
    "file2.close()"
   ]
  },
  {
   "cell_type": "code",
   "execution_count": 19,
   "id": "f96918ff-0b90-479e-aa67-4acf0a510e9f",
   "metadata": {},
   "outputs": [
    {
     "data": {
      "text/plain": [
       "155742"
      ]
     },
     "execution_count": 19,
     "metadata": {},
     "output_type": "execute_result"
    }
   ],
   "source": [
    "outmerged = '/home/sanya/PheKnowLator/literature_graphs/output_graphs/machine_read_merged_with_closure_20240601.nt'\n",
    "with open(outmerged,'r') as filei:\n",
    "    g = filei.read()\n",
    "mr = g.split('\\n')\n",
    "len(mr)"
   ]
  },
  {
   "cell_type": "code",
   "execution_count": 22,
   "id": "af6305f1-02df-418b-bed9-af65f7a2d51e",
   "metadata": {},
   "outputs": [
    {
     "data": {
      "text/plain": [
       "'<http://purl.obolibrary.org/obo/CHEBI_17347> <http://purl.obolibrary.org/obo/RO_0002436> <http://purl.obolibrary.org/obo/GO_0006412'"
      ]
     },
     "execution_count": 22,
     "metadata": {},
     "output_type": "execute_result"
    }
   ],
   "source": [
    "mr[-2]"
   ]
  },
  {
   "cell_type": "markdown",
   "id": "ea3ac5b4",
   "metadata": {},
   "source": [
    "#### Merge gpickle files"
   ]
  },
  {
   "cell_type": "code",
   "execution_count": 23,
   "id": "9fe8767e",
   "metadata": {},
   "outputs": [],
   "source": [
    "import networkx as nx\n",
    "g1 = nx.read_gpickle('/home/sanya/PheKnowLator/literature_graphs/output_graphs/machineread_semrep_version2.gpickle')\n",
    "g2 = nx.read_gpickle('/home/sanya/PheKnowLator/literature_graphs/output_graphs/machineread_reach_version2.gpickle')\n",
    "ginf = nx.read_gpickle('/home/sanya/PheKnowLator/literature_graphs/closure_output/machineread_inferred_symmetric_transitive.gpickle')"
   ]
  },
  {
   "cell_type": "code",
   "execution_count": 24,
   "id": "00f8c6c3",
   "metadata": {},
   "outputs": [
    {
     "name": "stdout",
     "output_type": "stream",
     "text": [
      "8399 6529 4123\n"
     ]
    }
   ],
   "source": [
    "print(len(g1), len(g2), len(ginf))"
   ]
  },
  {
   "cell_type": "code",
   "execution_count": 25,
   "id": "03b69790",
   "metadata": {},
   "outputs": [],
   "source": [
    "def get_stats(g):\n",
    "    nodes = nx.number_of_nodes(g)\n",
    "    edges = nx.number_of_edges(g)\n",
    "    density = nx.density(g)\n",
    "    avg_deg = float(edges)/nodes\n",
    "    print(nodes, edges, density, avg_deg)"
   ]
  },
  {
   "cell_type": "code",
   "execution_count": 26,
   "id": "0e0f99cd",
   "metadata": {},
   "outputs": [],
   "source": [
    "##compose graphs\n",
    "g3 = nx.compose(g1,g2)\n",
    "g_all = nx.compose(g3,ginf)"
   ]
  },
  {
   "cell_type": "markdown",
   "id": "c824ae82",
   "metadata": {},
   "source": [
    "Was version 1 -\n",
    "SemRep graph\n",
    "4288 33594 0.0018274834713764975 7.834421641791045\n",
    "Reach graph\n",
    "6217 40245 0.0010414059593728245 6.473379443461477\n",
    "Inferred graph\n",
    "2174 18450 0.003905504157192203 8.486660533578657\n",
    "Combined graphs\n",
    "8782 84569 0.0010966645002845241 9.629810976998407"
   ]
  },
  {
   "cell_type": "code",
   "execution_count": 27,
   "id": "5535b0f9",
   "metadata": {},
   "outputs": [
    {
     "name": "stdout",
     "output_type": "stream",
     "text": [
      "SemRep graph\n",
      "8399 58754 0.0008329788747404438 6.995356590070246\n",
      "Reach graph\n",
      "6529 42178 0.0009895988185441124 6.460101087455966\n",
      "Inferred graph\n",
      "4123 33333 0.0019613408786086925 8.08464710162503\n",
      "Combined graphs\n",
      "12190 120371 0.0008101213650926268 9.874569319114029\n"
     ]
    }
   ],
   "source": [
    "print('SemRep graph')\n",
    "get_stats(g1)\n",
    "print('Reach graph')\n",
    "get_stats(g2)\n",
    "print('Inferred graph')\n",
    "get_stats(ginf)\n",
    "print('Combined graphs')\n",
    "get_stats(g_all)"
   ]
  },
  {
   "cell_type": "code",
   "execution_count": 28,
   "id": "8198d28d",
   "metadata": {},
   "outputs": [],
   "source": [
    "##save graph\n",
    "nx.write_gpickle(g_all, '/home/sanya/PheKnowLator/literature_graphs/output_graphs/machine_read_merged_20240601.gpickle')"
   ]
  },
  {
   "cell_type": "markdown",
   "id": "9c17c666",
   "metadata": {},
   "source": [
    "### Merge nodelabels for reach and semrep"
   ]
  },
  {
   "cell_type": "code",
   "execution_count": 29,
   "id": "587c63ea",
   "metadata": {},
   "outputs": [
    {
     "data": {
      "text/plain": [
       "1"
      ]
     },
     "execution_count": 29,
     "metadata": {},
     "output_type": "execute_result"
    }
   ],
   "source": [
    "import json\n",
    "with open('/home/sanya/ontologies/ro.json', 'r') as file:\n",
    "    ro = json.load(file)\n",
    "len(ro)"
   ]
  },
  {
   "cell_type": "code",
   "execution_count": 30,
   "id": "6bd5d78b",
   "metadata": {},
   "outputs": [
    {
     "data": {
      "text/plain": [
       "767"
      ]
     },
     "execution_count": 30,
     "metadata": {},
     "output_type": "execute_result"
    }
   ],
   "source": [
    "relation_labels = {}\n",
    "for node in ro['graphs'][0]['nodes']:\n",
    "    try:\n",
    "        if 'lbl' in node.keys():\n",
    "            relation_labels[node['id']] = node['lbl']\n",
    "    except:\n",
    "        print(node)\n",
    "        break\n",
    "len(relation_labels)"
   ]
  },
  {
   "cell_type": "code",
   "execution_count": 31,
   "id": "ee03ff4d",
   "metadata": {},
   "outputs": [
    {
     "data": {
      "text/plain": [
       "'interacts with'"
      ]
     },
     "execution_count": 31,
     "metadata": {},
     "output_type": "execute_result"
    }
   ],
   "source": [
    "relation_labels['http://purl.obolibrary.org/obo/RO_0002434']"
   ]
  },
  {
   "cell_type": "code",
   "execution_count": 32,
   "id": "f35db984",
   "metadata": {},
   "outputs": [],
   "source": [
    "import pickle"
   ]
  },
  {
   "cell_type": "code",
   "execution_count": 33,
   "id": "dbc47e1f",
   "metadata": {},
   "outputs": [],
   "source": [
    "nodelabels_sem = 'output_graphs/machineread_semrep_NodeLabels.pickle'\n",
    "nodelabels_r = 'output_graphs/reach_version2_NodeLabels.pickle'"
   ]
  },
  {
   "cell_type": "code",
   "execution_count": 34,
   "id": "79410455",
   "metadata": {},
   "outputs": [
    {
     "data": {
      "text/plain": [
       "8415"
      ]
     },
     "execution_count": 34,
     "metadata": {},
     "output_type": "execute_result"
    }
   ],
   "source": [
    "with open(nodelabels_sem, 'rb') as filep1:\n",
    "    sem_labels = pickle.load(filep1)\n",
    "len(sem_labels)"
   ]
  },
  {
   "cell_type": "code",
   "execution_count": 35,
   "id": "ee67d6ea",
   "metadata": {},
   "outputs": [
    {
     "data": {
      "text/plain": [
       "6542"
      ]
     },
     "execution_count": 35,
     "metadata": {},
     "output_type": "execute_result"
    }
   ],
   "source": [
    "with open(nodelabels_r, 'rb') as filep2:\n",
    "    r_labels = pickle.load(filep2)\n",
    "len(r_labels)"
   ]
  },
  {
   "cell_type": "code",
   "execution_count": 36,
   "id": "5c7cc8e8",
   "metadata": {},
   "outputs": [
    {
     "data": {
      "text/plain": [
       "12201"
      ]
     },
     "execution_count": 36,
     "metadata": {},
     "output_type": "execute_result"
    }
   ],
   "source": [
    "##combine labels\n",
    "all_labels = {**sem_labels, **r_labels}\n",
    "len(all_labels)"
   ]
  },
  {
   "cell_type": "code",
   "execution_count": 37,
   "id": "14a8a376",
   "metadata": {},
   "outputs": [
    {
     "data": {
      "text/plain": [
       "12201"
      ]
     },
     "execution_count": 37,
     "metadata": {},
     "output_type": "execute_result"
    }
   ],
   "source": [
    "##fix labels of relations using relation_labels\n",
    "for key in all_labels:\n",
    "    if key in relation_labels.keys():\n",
    "        all_labels[key]['label'] = relation_labels[key]\n",
    "len(all_labels)"
   ]
  },
  {
   "cell_type": "code",
   "execution_count": 38,
   "id": "64963b28",
   "metadata": {},
   "outputs": [
    {
     "data": {
      "text/plain": [
       "{'entity_type': 'RELATIONS', 'label': 'directly regulates activity of'}"
      ]
     },
     "execution_count": 38,
     "metadata": {},
     "output_type": "execute_result"
    }
   ],
   "source": [
    "all_labels['http://purl.obolibrary.org/obo/RO_0002448']"
   ]
  },
  {
   "cell_type": "code",
   "execution_count": 39,
   "id": "a904d8e8",
   "metadata": {},
   "outputs": [],
   "source": [
    "##save labels\n",
    "with open('output_graphs/machine_read_merged_NodeLabels_20240601.pickle', 'wb') as filep:\n",
    "    pickle.dump(all_labels, filep)"
   ]
  },
  {
   "cell_type": "code",
   "execution_count": null,
   "id": "5c4fe14c-a41c-4868-aa07-5461382713a2",
   "metadata": {},
   "outputs": [],
   "source": []
  }
 ],
 "metadata": {
  "kernelspec": {
   "display_name": "Python 3.8.0 ('kg-embed')",
   "language": "python",
   "name": "python3"
  },
  "language_info": {
   "codemirror_mode": {
    "name": "ipython",
    "version": 3
   },
   "file_extension": ".py",
   "mimetype": "text/x-python",
   "name": "python",
   "nbconvert_exporter": "python",
   "pygments_lexer": "ipython3",
   "version": "3.6.13"
  },
  "vscode": {
   "interpreter": {
    "hash": "96e4f617bfd8d41f7b09e4ea5db07380f9a5a2c21add6996766b0d6e42ab68c1"
   }
  }
 },
 "nbformat": 4,
 "nbformat_minor": 5
}
