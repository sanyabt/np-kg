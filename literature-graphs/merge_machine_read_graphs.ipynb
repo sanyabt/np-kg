{
 "cells": [
  {
   "cell_type": "markdown",
   "id": "399cb0ac-ee8b-4387-82b4-06ba0818fadc",
   "metadata": {},
   "source": [
    "### Notebook to merge machine read triples after extraction and processing from INDRA/REACH and SemRep"
   ]
  },
  {
   "cell_type": "code",
   "execution_count": 1,
   "id": "7b31f7b3-64a5-4cd1-b861-c37df7f56b68",
   "metadata": {},
   "outputs": [],
   "source": [
    "import pandas as pd\n",
    "import numpy as np\n",
    "import pickle\n",
    "from rdflib.namespace import OWL, RDF, RDFS\n",
    "import os\n",
    "import pickle, json\n",
    "\n",
    "#Create networkx graph from triples\n",
    "import glob\n",
    "import hashlib\n",
    "import json\n",
    "import networkx as nx  # type: ignore\n",
    "import os\n",
    "import os.path\n",
    "\n",
    "from collections import Counter  # type: ignore\n",
    "from more_itertools import unique_everseen  # type: ignore\n",
    "from rdflib import BNode, Graph, Literal, Namespace, URIRef  # type: ignore\n",
    "from rdflib.namespace import OWL, RDF, RDFS  # type: ignore\n",
    "from rdflib.plugins.serializers.nt import _quoteLiteral  # type: ignore\n",
    "import subprocess\n",
    "\n",
    "from tqdm import tqdm  # type: ignore\n",
    "from typing import Dict, List, Optional, Set, Tuple, Union"
   ]
  },
  {
   "cell_type": "code",
   "execution_count": null,
   "id": "f5ea1e63-8999-4e8b-88f2-45ba6d6ecda7",
   "metadata": {},
   "outputs": [],
   "source": [
    "##Previous run v1.0.1 - 2022-06-16\n",
    "##Latest run v2.0.0 - 2023-04-23"
   ]
  },
  {
   "cell_type": "code",
   "execution_count": 4,
   "id": "31a711e5-1d2c-4a7b-aec9-97350d0a1704",
   "metadata": {},
   "outputs": [],
   "source": [
    "##read in machine reading graphs\n",
    "g1 = '/home/sanya/PheKnowLatorv3/literature_graphs/output_graphs/machineread_semrep_version1.nt'\n",
    "g2 = '/home/sanya/PheKnowLatorv3/literature_graphs/output_graphs/machineread_reach_version1.nt'"
   ]
  },
  {
   "cell_type": "code",
   "execution_count": 2,
   "id": "b7bbe99f-10ac-40f8-afcc-b56ec056df8d",
   "metadata": {},
   "outputs": [],
   "source": [
    "#if merging ntriples - concatenate files\n",
    "#if merging gpickle - use nx.compose function. Also merge nodelabels and fix labels"
   ]
  },
  {
   "cell_type": "code",
   "execution_count": 5,
   "id": "6f045777-b151-43fd-9fdb-0fd8dee81300",
   "metadata": {},
   "outputs": [
    {
     "data": {
      "text/plain": [
       "list"
      ]
     },
     "execution_count": 5,
     "metadata": {},
     "output_type": "execute_result"
    }
   ],
   "source": [
    "with open(g1,'r') as file1:\n",
    "    g = file1.read()\n",
    "graph1 = g.split('\\n')\n",
    "type(graph1)"
   ]
  },
  {
   "cell_type": "code",
   "execution_count": 6,
   "id": "6525bebd-3073-4197-85dd-b928f311f1c1",
   "metadata": {},
   "outputs": [
    {
     "data": {
      "text/plain": [
       "'<http://purl.obolibrary.org/obo/CHEBI_28748> <http://purl.obolibrary.org/obo/RO_0002213> <http://purl.obolibrary.org/obo/CHEBI_9948> .'"
      ]
     },
     "execution_count": 6,
     "metadata": {},
     "output_type": "execute_result"
    }
   ],
   "source": [
    "graph1[0]"
   ]
  },
  {
   "cell_type": "code",
   "execution_count": 7,
   "id": "5a84afbc-9896-4754-bc3b-676c38b21bff",
   "metadata": {},
   "outputs": [
    {
     "data": {
      "text/plain": [
       "'<http://purl.obolibrary.org/obo/CHEBI_16057> <http://www.w3.org/2000/01/rdf-schema#label> \"Dimethylphenylpiperazinium_Iodide\" .'"
      ]
     },
     "execution_count": 7,
     "metadata": {},
     "output_type": "execute_result"
    }
   ],
   "source": [
    "with open(g2,'r') as file2:\n",
    "    g = file2.read()\n",
    "graph2 = g.split('\\n')\n",
    "graph2[0]"
   ]
  },
  {
   "cell_type": "code",
   "execution_count": 8,
   "id": "5d02ecd2-a71a-4a3b-9347-0cebe6b836b2",
   "metadata": {},
   "outputs": [
    {
     "name": "stdout",
     "output_type": "stream",
     "text": [
      "38141 47287\n"
     ]
    }
   ],
   "source": [
    "print(len(graph1), len(graph2))"
   ]
  },
  {
   "cell_type": "code",
   "execution_count": 9,
   "id": "b07c1b89-752a-4beb-b760-b8c019be7b26",
   "metadata": {},
   "outputs": [],
   "source": [
    "output_file = '/home/sanya/PheKnowLatorv3/literature_graphs/output_graphs/machine_read_merged_20230423.nt'"
   ]
  },
  {
   "cell_type": "code",
   "execution_count": 10,
   "id": "e80234b3-5406-48db-b4e9-3d0d9634a335",
   "metadata": {},
   "outputs": [],
   "source": [
    "with open(output_file, 'w') as fileo:\n",
    "    for gt1 in graph1:\n",
    "        fileo.write(gt1)\n",
    "        fileo.write('\\n')\n",
    "    for gt2 in graph2:\n",
    "        fileo.write(gt2)\n",
    "        fileo.write('\\n')\n",
    "file1.close()\n",
    "file2.close()\n",
    "fileo.close()"
   ]
  },
  {
   "cell_type": "code",
   "execution_count": 11,
   "id": "ff2da621-dd4c-4727-9927-d575d75e8555",
   "metadata": {},
   "outputs": [
    {
     "data": {
      "text/plain": [
       "85429"
      ]
     },
     "execution_count": 11,
     "metadata": {},
     "output_type": "execute_result"
    }
   ],
   "source": [
    "with open(output_file,'r') as filei:\n",
    "    g = filei.read()\n",
    "mr = g.split('\\n')\n",
    "len(mr)"
   ]
  },
  {
   "cell_type": "code",
   "execution_count": 13,
   "id": "5cf6f9ce-21d4-4f2e-a8a0-96653583292f",
   "metadata": {},
   "outputs": [
    {
     "data": {
      "text/plain": [
       "21633"
      ]
     },
     "execution_count": 13,
     "metadata": {},
     "output_type": "execute_result"
    }
   ],
   "source": [
    "inferred_file = '/home/sanya/PheKnowLatorv3/literature_graphs/closure_output/inferred-transitive-and-symmetric.ntriples'\n",
    "with open(inferred_file,'r') as file2:\n",
    "    g2 = file2.read()\n",
    "mrinf = g2.split('\\n')\n",
    "len(mrinf)"
   ]
  },
  {
   "cell_type": "code",
   "execution_count": 14,
   "id": "95c33bb6-a3ce-413c-a6c4-d0e6b528dc78",
   "metadata": {},
   "outputs": [
    {
     "data": {
      "text/plain": [
       "'<http://purl.obolibrary.org/obo/CHEBI_28748> <http://purl.obolibrary.org/obo/RO_0002213> <http://purl.obolibrary.org/obo/CHEBI_9948> .'"
      ]
     },
     "execution_count": 14,
     "metadata": {},
     "output_type": "execute_result"
    }
   ],
   "source": [
    "mr[0]"
   ]
  },
  {
   "cell_type": "code",
   "execution_count": 15,
   "id": "3f01b6f9-eed6-44e2-89b0-dc5f3f295093",
   "metadata": {},
   "outputs": [
    {
     "data": {
      "text/plain": [
       "21633"
      ]
     },
     "execution_count": 15,
     "metadata": {},
     "output_type": "execute_result"
    }
   ],
   "source": [
    "mrinf_new = []\n",
    "for item in mrinf:\n",
    "    if mrinf != '':\n",
    "        temp = item.replace('>', '> ')\n",
    "        mrinf_new.append(temp)\n",
    "len(mrinf_new)"
   ]
  },
  {
   "cell_type": "code",
   "execution_count": null,
   "id": "74e005c7-39ef-4a4f-8101-a9b10ecf7028",
   "metadata": {},
   "outputs": [],
   "source": []
  },
  {
   "cell_type": "code",
   "execution_count": 16,
   "id": "bd601fd4-5666-4d83-9fb2-e20ed263fac7",
   "metadata": {},
   "outputs": [],
   "source": [
    "outmerged = '/home/sanya/PheKnowLatorv3/literature_graphs/output_graphs/machine_read_merged_with_closure_20230423.nt'\n",
    "with open(outmerged, 'w') as fileo:\n",
    "    for gt1 in mr:\n",
    "        if gt1 != '':\n",
    "            fileo.write(gt1)\n",
    "            fileo.write('\\n')\n",
    "    for gt2 in mrinf_new:\n",
    "        if gt2 != '':\n",
    "            fileo.write(gt2)\n",
    "            fileo.write('\\n')\n",
    "fileo.close()\n",
    "filei.close()\n",
    "file2.close()"
   ]
  },
  {
   "cell_type": "code",
   "execution_count": null,
   "id": "176476cd-ec0e-4c78-b606-c2fffbc4f5d5",
   "metadata": {},
   "outputs": [],
   "source": [
    "##all graphs merged -"
   ]
  },
  {
   "cell_type": "code",
   "execution_count": 17,
   "id": "f96918ff-0b90-479e-aa67-4acf0a510e9f",
   "metadata": {},
   "outputs": [
    {
     "data": {
      "text/plain": [
       "107057"
      ]
     },
     "execution_count": 17,
     "metadata": {},
     "output_type": "execute_result"
    }
   ],
   "source": [
    "outmerged = '/home/sanya/PheKnowLatorv3/literature_graphs/output_graphs/machine_read_merged_with_closure_20230423.nt'\n",
    "with open(outmerged,'r') as filei:\n",
    "    g = filei.read()\n",
    "mr = g.split('\\n')\n",
    "len(mr)"
   ]
  },
  {
   "cell_type": "code",
   "execution_count": 21,
   "id": "af6305f1-02df-418b-bed9-af65f7a2d51e",
   "metadata": {},
   "outputs": [
    {
     "data": {
      "text/plain": [
       "'<http://purl.obolibrary.org/obo/CHEBI_47519> <http://purl.obolibrary.org/ob'"
      ]
     },
     "execution_count": 21,
     "metadata": {},
     "output_type": "execute_result"
    }
   ],
   "source": [
    "mr[-2]"
   ]
  },
  {
   "cell_type": "code",
   "execution_count": 23,
   "id": "c9a7d9ab-b906-4c68-b526-57cc10f41adc",
   "metadata": {},
   "outputs": [],
   "source": [
    "outfile = '/home/sanya/PheKnowLatorv3/literature_graphs/output_graphs/machine_read_merged_with_closure_20230423.nt'\n",
    "with open(outfile,'w') as fileo:\n",
    "    for i in range(0, len(mr)-2):\n",
    "        fileo.write(mr[i])\n",
    "        fileo.write('\\n')\n",
    "fileo.close()"
   ]
  },
  {
   "cell_type": "code",
   "execution_count": 25,
   "id": "e32e5851-9d39-48f7-adf1-d03b10732e6d",
   "metadata": {},
   "outputs": [
    {
     "data": {
      "text/plain": [
       "'<http://purl.obolibrary.org/obo/CHEBI_47519> <http://purl.obolibrary.org/ob'"
      ]
     },
     "execution_count": 25,
     "metadata": {},
     "output_type": "execute_result"
    }
   ],
   "source": [
    "mr[-2]"
   ]
  },
  {
   "cell_type": "code",
   "execution_count": null,
   "id": "ffac3a69",
   "metadata": {},
   "outputs": [],
   "source": []
  },
  {
   "cell_type": "markdown",
   "id": "ea3ac5b4",
   "metadata": {},
   "source": [
    "#### Merge gpickle files"
   ]
  },
  {
   "cell_type": "code",
   "execution_count": 1,
   "id": "9fe8767e",
   "metadata": {},
   "outputs": [],
   "source": [
    "import networkx as nx\n",
    "g1 = nx.read_gpickle('/home/sanya/PheKnowLatorv3/literature_graphs/output_graphs/machineread_semrep_version1.gpickle')\n",
    "g2 = nx.read_gpickle('/home/sanya/PheKnowLatorv3/literature_graphs/output_graphs/machineread_reach_version1.gpickle')\n",
    "ginf = nx.read_gpickle('/home/sanya/PheKnowLatorv3/literature_graphs/closure_output/machineread_inferred_symmetric_transitive.gpickle')"
   ]
  },
  {
   "cell_type": "code",
   "execution_count": 2,
   "id": "00f8c6c3",
   "metadata": {},
   "outputs": [
    {
     "name": "stdout",
     "output_type": "stream",
     "text": [
      "4288 6217 2174\n"
     ]
    }
   ],
   "source": [
    "print(len(g1), len(g2), len(ginf))"
   ]
  },
  {
   "cell_type": "code",
   "execution_count": 3,
   "id": "03b69790",
   "metadata": {},
   "outputs": [],
   "source": [
    "def get_stats(g):\n",
    "    nodes = nx.number_of_nodes(g)\n",
    "    edges = nx.number_of_edges(g)\n",
    "    density = nx.density(g)\n",
    "    avg_deg = float(edges)/nodes\n",
    "    print(nodes, edges, density, avg_deg)"
   ]
  },
  {
   "cell_type": "code",
   "execution_count": 4,
   "id": "0e0f99cd",
   "metadata": {},
   "outputs": [],
   "source": [
    "##compose graphs\n",
    "g3 = nx.compose(g1,g2)\n",
    "g_all = nx.compose(g3,ginf)"
   ]
  },
  {
   "cell_type": "code",
   "execution_count": 33,
   "id": "5535b0f9",
   "metadata": {},
   "outputs": [
    {
     "name": "stdout",
     "output_type": "stream",
     "text": [
      "SemRep graph\n",
      "4288 33594 0.0018274834713764975 7.834421641791045\n",
      "Reach graph\n",
      "6217 40245 0.0010414059593728245 6.473379443461477\n",
      "Inferred graph\n",
      "2174 18450 0.003905504157192203 8.486660533578657\n",
      "Combined graphs\n",
      "8782 84569 0.0010966645002845241 9.629810976998407\n"
     ]
    }
   ],
   "source": [
    "print('SemRep graph')\n",
    "get_stats(g1)\n",
    "print('Reach graph')\n",
    "get_stats(g2)\n",
    "print('Inferred graph')\n",
    "get_stats(ginf)\n",
    "print('Combined graphs')\n",
    "get_stats(g_all)"
   ]
  },
  {
   "cell_type": "code",
   "execution_count": 5,
   "id": "8198d28d",
   "metadata": {},
   "outputs": [],
   "source": [
    "##save graph\n",
    "nx.write_gpickle(g_all, '/home/sanya/PheKnowLatorv3/literature_graphs/output_graphs/machine_read_merged_20230423.gpickle')"
   ]
  },
  {
   "cell_type": "markdown",
   "id": "9c17c666",
   "metadata": {},
   "source": [
    "### Merge nodelabels for reach and semrep"
   ]
  },
  {
   "cell_type": "code",
   "execution_count": 2,
   "id": "587c63ea",
   "metadata": {},
   "outputs": [
    {
     "data": {
      "text/plain": [
       "1"
      ]
     },
     "execution_count": 2,
     "metadata": {},
     "output_type": "execute_result"
    }
   ],
   "source": [
    "import json\n",
    "with open('/home/sanya/ontologies/ro.json', 'r') as file:\n",
    "    ro = json.load(file)\n",
    "len(ro)"
   ]
  },
  {
   "cell_type": "code",
   "execution_count": 17,
   "id": "6bd5d78b",
   "metadata": {},
   "outputs": [
    {
     "data": {
      "text/plain": [
       "767"
      ]
     },
     "execution_count": 17,
     "metadata": {},
     "output_type": "execute_result"
    }
   ],
   "source": [
    "relation_labels = {}\n",
    "for node in ro['graphs'][0]['nodes']:\n",
    "    try:\n",
    "        if 'lbl' in node.keys():\n",
    "            relation_labels[node['id']] = node['lbl']\n",
    "    except:\n",
    "        print(node)\n",
    "        break\n",
    "len(relation_labels)"
   ]
  },
  {
   "cell_type": "code",
   "execution_count": 21,
   "id": "ee03ff4d",
   "metadata": {},
   "outputs": [
    {
     "data": {
      "text/plain": [
       "'interacts with'"
      ]
     },
     "execution_count": 21,
     "metadata": {},
     "output_type": "execute_result"
    }
   ],
   "source": [
    "relation_labels['http://purl.obolibrary.org/obo/RO_0002434']"
   ]
  },
  {
   "cell_type": "code",
   "execution_count": 22,
   "id": "f35db984",
   "metadata": {},
   "outputs": [],
   "source": [
    "import pickle"
   ]
  },
  {
   "cell_type": "code",
   "execution_count": 23,
   "id": "dbc47e1f",
   "metadata": {},
   "outputs": [],
   "source": [
    "nodelabels_sem = 'output_graphs/machineread_semrep_NodeLabels.pickle'\n",
    "nodelabels_r = 'output_graphs/reach_version1_NodeLabels.pickle'"
   ]
  },
  {
   "cell_type": "code",
   "execution_count": 24,
   "id": "79410455",
   "metadata": {},
   "outputs": [
    {
     "data": {
      "text/plain": [
       "4304"
      ]
     },
     "execution_count": 24,
     "metadata": {},
     "output_type": "execute_result"
    }
   ],
   "source": [
    "with open(nodelabels_sem, 'rb') as filep1:\n",
    "    sem_labels = pickle.load(filep1)\n",
    "len(sem_labels)"
   ]
  },
  {
   "cell_type": "code",
   "execution_count": 25,
   "id": "ee67d6ea",
   "metadata": {},
   "outputs": [
    {
     "data": {
      "text/plain": [
       "6230"
      ]
     },
     "execution_count": 25,
     "metadata": {},
     "output_type": "execute_result"
    }
   ],
   "source": [
    "with open(nodelabels_r, 'rb') as filep2:\n",
    "    r_labels = pickle.load(filep2)\n",
    "len(r_labels)"
   ]
  },
  {
   "cell_type": "code",
   "execution_count": 26,
   "id": "5c7cc8e8",
   "metadata": {},
   "outputs": [
    {
     "data": {
      "text/plain": [
       "8758"
      ]
     },
     "execution_count": 26,
     "metadata": {},
     "output_type": "execute_result"
    }
   ],
   "source": [
    "##combine labels\n",
    "all_labels = {**sem_labels, **r_labels}\n",
    "len(all_labels)"
   ]
  },
  {
   "cell_type": "code",
   "execution_count": 27,
   "id": "14a8a376",
   "metadata": {},
   "outputs": [
    {
     "data": {
      "text/plain": [
       "8758"
      ]
     },
     "execution_count": 27,
     "metadata": {},
     "output_type": "execute_result"
    }
   ],
   "source": [
    "##fix labels of relations using relation_labels\n",
    "for key in all_labels:\n",
    "    if key in relation_labels.keys():\n",
    "        all_labels[key]['label'] = relation_labels[key]\n",
    "len(all_labels)"
   ]
  },
  {
   "cell_type": "code",
   "execution_count": 30,
   "id": "64963b28",
   "metadata": {},
   "outputs": [
    {
     "data": {
      "text/plain": [
       "{'entity_type': 'RELATIONS', 'label': 'directly regulates activity of'}"
      ]
     },
     "execution_count": 30,
     "metadata": {},
     "output_type": "execute_result"
    }
   ],
   "source": [
    "all_labels['http://purl.obolibrary.org/obo/RO_0002448']"
   ]
  },
  {
   "cell_type": "code",
   "execution_count": 31,
   "id": "a904d8e8",
   "metadata": {},
   "outputs": [],
   "source": [
    "##save labels\n",
    "with open('output_graphs/machine_read_merged_20230423_NodeLabels.pickle', 'wb') as filep:\n",
    "    pickle.dump(all_labels, filep)"
   ]
  },
  {
   "cell_type": "markdown",
   "id": "12fd7686-6041-4a2f-8ef8-6265ead7dbd4",
   "metadata": {},
   "source": [
    "## Merge ntriples files for PheKnowLator and machine read\n",
    "\n",
    "Not run in 2023 update yet"
   ]
  },
  {
   "cell_type": "code",
   "execution_count": 2,
   "id": "d8ee0b36-fd85-44f1-9499-05875ce80c32",
   "metadata": {},
   "outputs": [],
   "source": [
    "pl_file = '/home/sanya/PheKnowLatorv2/resources/knowledge_graphs/PheKnowLator_v3.0.0_full_instance_inverseRelations_OWLNETS.nt'\n",
    "mr_file = '/home/sanya/PheKnowLatorv2/machine_read/output_graphs/machine_read_merged_with_closure_20220616.nt'\n",
    "outfile_merged = '/home/sanya/PheKnowLatorv2/resources/knowledge_graphs/merged_graphs/PheKnowLator_machine_read_merged_instance_based_OWLNETS_no_labels_20220616.nt'"
   ]
  },
  {
   "cell_type": "code",
   "execution_count": 3,
   "id": "f954d304-f74a-4b4d-9543-f56d87a18784",
   "metadata": {},
   "outputs": [],
   "source": [
    "with open(pl_file,'r') as filep:\n",
    "    g = filep.read()\n",
    "pl = g.split('\\n')"
   ]
  },
  {
   "cell_type": "code",
   "execution_count": 4,
   "id": "693d6d9b-8958-4b6d-8ef8-1873e2edb5ae",
   "metadata": {},
   "outputs": [
    {
     "data": {
      "text/plain": [
       "21691793"
      ]
     },
     "execution_count": 4,
     "metadata": {},
     "output_type": "execute_result"
    }
   ],
   "source": [
    "len(pl)"
   ]
  },
  {
   "cell_type": "code",
   "execution_count": 5,
   "id": "a9604eb6-6c2b-4aa6-a4ef-b977f44109df",
   "metadata": {},
   "outputs": [],
   "source": [
    "with open(mr_file,'r') as filem:\n",
    "    g = filem.read()\n",
    "mr = g.split('\\n')"
   ]
  },
  {
   "cell_type": "code",
   "execution_count": 6,
   "id": "b139b32c-a49b-4031-9d1e-90a0a6aebfee",
   "metadata": {},
   "outputs": [
    {
     "data": {
      "text/plain": [
       "33844"
      ]
     },
     "execution_count": 6,
     "metadata": {},
     "output_type": "execute_result"
    }
   ],
   "source": [
    "len(mr)"
   ]
  },
  {
   "cell_type": "code",
   "execution_count": 11,
   "id": "b9dd07ed-3c7d-4239-9e45-1f515a864f59",
   "metadata": {},
   "outputs": [
    {
     "data": {
      "text/plain": [
       "'<http://purl.obolibrary.org/obo/CHEBI_48705> <http://purl.obolibrary.org/obo/RO_0002213> <http://purl.obolibrary.org/obo/PR_000015800> .'"
      ]
     },
     "execution_count": 11,
     "metadata": {},
     "output_type": "execute_result"
    }
   ],
   "source": [
    "mr[-2]"
   ]
  },
  {
   "cell_type": "code",
   "execution_count": 7,
   "id": "ab870d0c-f4eb-471b-b79b-d83c591f32dc",
   "metadata": {},
   "outputs": [],
   "source": [
    "##not writing labels to file\n",
    "with open(outfile_merged, 'w') as fileout:\n",
    "    newline = ''\n",
    "    for i in range(0, len(pl)-1):\n",
    "        if pl[i] == '':\n",
    "            continue\n",
    "        else:\n",
    "            fileout.write(newline+pl[i])\n",
    "            newline = '\\n'\n",
    "    newline = '\\n'\n",
    "    for i in range(0, len(mr)-1):\n",
    "        if 'label' in mr[i] or mr[i] == '':\n",
    "            continue\n",
    "        else:\n",
    "            fileout.write(newline+mr[i])\n",
    "            newline = '\\n'\n",
    "fileout.close()"
   ]
  },
  {
   "cell_type": "code",
   "execution_count": null,
   "id": "26101ec1-5e0b-4080-b671-d7d283dd842d",
   "metadata": {},
   "outputs": [],
   "source": [
    "#merged == 21725642 ()\n",
    "#no labels = 21720940"
   ]
  },
  {
   "cell_type": "code",
   "execution_count": 8,
   "id": "5086255d-0392-473d-b2ea-a9b827bc877a",
   "metadata": {},
   "outputs": [
    {
     "data": {
      "text/plain": [
       "21720940"
      ]
     },
     "execution_count": 8,
     "metadata": {},
     "output_type": "execute_result"
    }
   ],
   "source": [
    "##check file\n",
    "with open(outfile_merged, 'r') as filein:\n",
    "    g = filein.read()\n",
    "merged = g.split('\\n')\n",
    "len(merged)"
   ]
  },
  {
   "cell_type": "code",
   "execution_count": 15,
   "id": "088ee974-4646-457c-891f-d19d35d788ee",
   "metadata": {},
   "outputs": [
    {
     "data": {
      "text/plain": [
       "'<http://purl.obolibrary.org/obo/CHEBI_48705> <http://purl.obolibrary.org/obo/RO_0002213> <http://purl.obolibrary.org/obo/PR_000015800> .'"
      ]
     },
     "execution_count": 15,
     "metadata": {},
     "output_type": "execute_result"
    }
   ],
   "source": [
    "merged[-1]"
   ]
  },
  {
   "cell_type": "code",
   "execution_count": 16,
   "id": "588e1ba2-1bf7-4649-a60b-9c7b01fec1c7",
   "metadata": {},
   "outputs": [
    {
     "data": {
      "text/plain": [
       "'<http://purl.obolibrary.org/obo/CLO_0005160> <http://purl.obolibrary.org/obo/BFO_0000050> <http://purl.obolibrary.org/obo/NCBITaxon_9606> .'"
      ]
     },
     "execution_count": 16,
     "metadata": {},
     "output_type": "execute_result"
    }
   ],
   "source": [
    "merged[0]"
   ]
  },
  {
   "cell_type": "code",
   "execution_count": 18,
   "id": "1181e322-194d-4aab-9040-0bc43bebe716",
   "metadata": {},
   "outputs": [],
   "source": [
    "##remove last line from PL graph\n",
    "pl_file_new = '/home/sanya/PheKnowLatorv2/resources/knowledge_graphs/PheKnowLator_v3.0.0_full_instance_inverseRelations_OWLNETS_20220616.nt'"
   ]
  },
  {
   "cell_type": "code",
   "execution_count": 20,
   "id": "f23a3056-f470-40bf-8c08-bd87c6d29525",
   "metadata": {},
   "outputs": [],
   "source": [
    "with open(pl_file_new, 'w') as filepl:\n",
    "    newline = ''\n",
    "    for item in pl:\n",
    "        if item != '':\n",
    "            filepl.write(newline+item)\n",
    "            newline = '\\n'\n",
    "filepl.close()"
   ]
  },
  {
   "cell_type": "code",
   "execution_count": null,
   "id": "68596deb-4a8f-4462-b167-b42165696f10",
   "metadata": {},
   "outputs": [],
   "source": []
  },
  {
   "cell_type": "code",
   "execution_count": null,
   "id": "de62c9ee-de24-4897-8e6f-52c70ef77175",
   "metadata": {},
   "outputs": [],
   "source": []
  },
  {
   "cell_type": "markdown",
   "id": "6f2e34b2-0539-4e22-9c90-de0ce561ddf8",
   "metadata": {},
   "source": [
    "### Get details on metanodes and metaedges in MR graphs (with inferred and without)"
   ]
  },
  {
   "cell_type": "code",
   "execution_count": null,
   "id": "8dc4f723-1ce3-457b-baca-76dfb18d5c87",
   "metadata": {},
   "outputs": [],
   "source": [
    "mr_file = '/home/sanya/PheKnowLatorv2/machine_read/output_graphs/machine_read_merged_with_closure_20220616.nt'"
   ]
  },
  {
   "cell_type": "code",
   "execution_count": 3,
   "id": "60d21a35-dcf9-4096-9404-2872f19d6176",
   "metadata": {},
   "outputs": [
    {
     "data": {
      "text/plain": [
       "19361"
      ]
     },
     "execution_count": 3,
     "metadata": {},
     "output_type": "execute_result"
    }
   ],
   "source": [
    "with open(file1,'r') as filei:\n",
    "    g = filei.read()\n",
    "mr = g.split('\\n')\n",
    "len(mr)"
   ]
  },
  {
   "cell_type": "code",
   "execution_count": 46,
   "id": "b9f8a6a2-dd03-4f7d-b447-9aea55804027",
   "metadata": {},
   "outputs": [
    {
     "data": {
      "text/plain": [
       "33851"
      ]
     },
     "execution_count": 46,
     "metadata": {},
     "output_type": "execute_result"
    }
   ],
   "source": [
    "with open(file2,'r') as fileo:\n",
    "    g = fileo.read()\n",
    "mr_inf = g.split('\\n')\n",
    "len(mr_inf)"
   ]
  },
  {
   "cell_type": "code",
   "execution_count": 4,
   "id": "6049b8fa-bde1-498a-820c-f7bcdd0dff5f",
   "metadata": {},
   "outputs": [
    {
     "data": {
      "text/plain": [
       "33844"
      ]
     },
     "execution_count": 4,
     "metadata": {},
     "output_type": "execute_result"
    }
   ],
   "source": [
    "with open(mr_file,'r') as filem:\n",
    "    g = filem.read()\n",
    "mr = g.split('\\n')\n",
    "len(mr)"
   ]
  },
  {
   "cell_type": "code",
   "execution_count": 5,
   "id": "41819f4c-69b2-4a3b-ac05-b81364d192b4",
   "metadata": {},
   "outputs": [
    {
     "data": {
      "text/plain": [
       "'<http://purl.obolibrary.org/obo/CHEBI_22586> <http://purl.obolibrary.org/obo/RO_0002434> <http://purl.obolibrary.org/obo/CHEBI_16261> .'"
      ]
     },
     "execution_count": 5,
     "metadata": {},
     "output_type": "execute_result"
    }
   ],
   "source": [
    "mr[0]"
   ]
  },
  {
   "cell_type": "code",
   "execution_count": 6,
   "id": "76062201-2ba8-4bdd-9852-4690bac64029",
   "metadata": {},
   "outputs": [],
   "source": [
    "#find all unique metanodes and metaedges\n",
    "\n",
    "subjects = {}\n",
    "objects = {}\n",
    "rels = {}\n",
    "for triple in mr:\n",
    "    if triple == '':\n",
    "        continue\n",
    "    triple_list = triple.split(' ')\n",
    "    subj = triple_list[0].replace('>', '')\n",
    "    obj = triple_list[2].replace('>', '')\n",
    "    pred = triple_list[1].replace('>','')\n",
    "    \n",
    "    subj_id = subj.split('/')[-1].split('_')[0]\n",
    "    if subj_id not in subjects:\n",
    "        subjects[subj_id] = 1\n",
    "    else:\n",
    "        subjects[subj_id] += 1\n",
    "    pred_id = pred.split('/')[-1]\n",
    "    if pred_id not in rels:\n",
    "        rels[pred_id] = 1\n",
    "    else:\n",
    "        rels[pred_id] += 1\n",
    "    \n",
    "    if triple_list[1] == '<http://www.w3.org/2000/01/rdf-schema#label>':\n",
    "        obj_id = 'Literal_Object'\n",
    "    else:\n",
    "        obj_id = obj.split('/')[-1].split('_')[0]\n",
    "    \n",
    "    if obj_id not in objects:\n",
    "        objects[obj_id] = 1\n",
    "    else:\n",
    "        objects[obj_id] += 1\n"
   ]
  },
  {
   "cell_type": "code",
   "execution_count": 7,
   "id": "7b1cbc83-40ea-4880-b441-221d44896a72",
   "metadata": {},
   "outputs": [
    {
     "data": {
      "text/plain": [
       "{'CHEBI': 24029,\n",
       " 'UBERON': 872,\n",
       " 'DOID': 11,\n",
       " 'PR': 3668,\n",
       " 'napdi': 1735,\n",
       " 'MONDO': 371,\n",
       " 'NCBITaxon': 468,\n",
       " 'CL': 699,\n",
       " 'GO': 1067,\n",
       " 'SO': 454,\n",
       " 'CLO': 66,\n",
       " 'cellline#human': 50,\n",
       " 'HP': 278,\n",
       " 'PW': 8,\n",
       " 'PATO': 59,\n",
       " 'OBO': 4,\n",
       " 'SLC47A1[SYNONYM': 1,\n",
       " 'SLC47A1SYNONYM': 3}"
      ]
     },
     "execution_count": 7,
     "metadata": {},
     "output_type": "execute_result"
    }
   ],
   "source": [
    "subjects"
   ]
  },
  {
   "cell_type": "code",
   "execution_count": 8,
   "id": "f6bb8daf-8ec9-485b-af29-da01f8fa4ee3",
   "metadata": {},
   "outputs": [
    {
     "data": {
      "text/plain": [
       "{'CHEBI': 11023,\n",
       " 'Literal_Object': 4695,\n",
       " 'NCBITaxon': 1736,\n",
       " 'PR': 10774,\n",
       " 'napdi': 722,\n",
       " 'MONDO': 689,\n",
       " 'UBERON': 1095,\n",
       " 'GO': 2071,\n",
       " 'CL': 350,\n",
       " 'CLO': 53,\n",
       " 'PW': 19,\n",
       " 'SO': 219,\n",
       " 'HP': 357,\n",
       " 'DOID': 27,\n",
       " 'OBO': 2,\n",
       " 'PATO': 3,\n",
       " 'SLC47A1[SYNONYM': 6,\n",
       " 'cellline#human': 1,\n",
       " 'SLC47A1SYNONYM': 1}"
      ]
     },
     "execution_count": 8,
     "metadata": {},
     "output_type": "execute_result"
    }
   ],
   "source": [
    "objects"
   ]
  },
  {
   "cell_type": "code",
   "execution_count": 9,
   "id": "7fa03f94-c206-41c0-98c7-884e230b91bf",
   "metadata": {},
   "outputs": [
    {
     "data": {
      "text/plain": [
       "{'RO_0002434': 4796,\n",
       " 'rdf-schema#label': 4695,\n",
       " 'BFO_0000050': 2243,\n",
       " 'RO_0002606': 505,\n",
       " 'RO_0002213': 11971,\n",
       " 'RO_0002449': 3458,\n",
       " 'RO_0002599': 53,\n",
       " 'RO_0002598': 236,\n",
       " 'RO_0002490': 1434,\n",
       " 'RO_0002610': 110,\n",
       " 'RO_0002596': 353,\n",
       " 'RO_0002212': 153,\n",
       " 'RO_0002566': 126,\n",
       " 'RO_0003000': 248,\n",
       " 'RO_0003302': 27,\n",
       " 'BFO_0000063': 1,\n",
       " 'RO_0003309': 1,\n",
       " 'RO_0002448': 2518,\n",
       " 'RO_0011010': 354,\n",
       " 'RO_0011009': 438,\n",
       " 'RO_0002447': 64,\n",
       " 'GO_0006470': 25,\n",
       " 'GO_0006479': 7,\n",
       " 'GO_0006486': 6,\n",
       " 'GO_0006473': 3,\n",
       " 'GO_0018126': 8,\n",
       " 'GO_0006482': 3,\n",
       " 'RO_0002436': 5,\n",
       " 'RO_0002480': 1,\n",
       " 'GO_0016579': 1}"
      ]
     },
     "execution_count": 9,
     "metadata": {},
     "output_type": "execute_result"
    }
   ],
   "source": [
    "rels"
   ]
  },
  {
   "cell_type": "code",
   "execution_count": 19,
   "id": "920bde11-2862-406e-ae40-00688adbb4b2",
   "metadata": {},
   "outputs": [
    {
     "data": {
      "text/plain": [
       "{'CHEBI_CHEBI': 5968,\n",
       " 'UBERON_NCBITaxon': 211,\n",
       " 'CHEBI_PR': 3664,\n",
       " 'CHEBI_NCBITaxon': 548,\n",
       " 'CHEBI_napdi': 393,\n",
       " 'CHEBI_MONDO': 509,\n",
       " 'CHEBI_UBERON': 324,\n",
       " 'napdi_CHEBI': 627,\n",
       " 'MONDO_MONDO': 47,\n",
       " 'napdi_MONDO': 73,\n",
       " 'NCBITaxon_MONDO': 63,\n",
       " 'CL_NCBITaxon': 72,\n",
       " 'CHEBI_GO': 1408,\n",
       " 'NCBITaxon_NCBITaxon': 63,\n",
       " 'napdi_GO': 88,\n",
       " 'GO_UBERON': 26,\n",
       " 'GO_PR': 131,\n",
       " 'napdi_PR': 557,\n",
       " 'PR_NCBITaxon': 54,\n",
       " 'PR_CHEBI': 678,\n",
       " 'GO_CL': 19,\n",
       " 'CL_UBERON': 100,\n",
       " 'UBERON_UBERON': 148,\n",
       " 'GO_CHEBI': 164,\n",
       " 'napdi_CLO': 2,\n",
       " 'CL_PR': 114,\n",
       " 'UBERON_CHEBI': 36,\n",
       " 'SO_CHEBI': 51,\n",
       " 'CL_CL': 18,\n",
       " 'SO_PR': 96,\n",
       " 'PR_napdi': 48,\n",
       " 'GO_NCBITaxon': 25,\n",
       " 'PR_UBERON': 53,\n",
       " 'SO_napdi': 6,\n",
       " 'CHEBI_CL': 149,\n",
       " 'CLO_UBERON': 2,\n",
       " 'CHEBI_PW': 7,\n",
       " 'CL_MONDO': 2,\n",
       " 'GO_napdi': 19,\n",
       " 'UBERON_CL': 1,\n",
       " 'PR_MONDO': 50,\n",
       " 'PR_PR': 634,\n",
       " 'PR_SO': 16,\n",
       " 'cellline#human_PR': 6,\n",
       " 'MONDO_HP': 13,\n",
       " 'CHEBI_SO': 58,\n",
       " 'SO_SO': 6,\n",
       " 'CHEBI_CLO': 35,\n",
       " 'cellline#human_UBERON': 6,\n",
       " 'PR_CL': 70,\n",
       " 'CHEBI_DOID': 20,\n",
       " 'napdi_OBO': 1,\n",
       " 'CLO_PR': 41,\n",
       " 'MONDO_CHEBI': 48,\n",
       " 'napdi_napdi': 7,\n",
       " 'SO_MONDO': 13,\n",
       " 'CL_CHEBI': 58,\n",
       " 'PR_DOID': 1,\n",
       " 'napdi_SO': 13,\n",
       " 'napdi_NCBITaxon': 32,\n",
       " 'CHEBI_OBO': 1,\n",
       " 'GO_CLO': 3,\n",
       " 'GO_SO': 3,\n",
       " 'NCBITaxon_DOID': 4,\n",
       " 'GO_GO': 142,\n",
       " 'PR_GO': 421,\n",
       " 'napdi_UBERON': 30,\n",
       " 'NCBITaxon_CHEBI': 77,\n",
       " 'MONDO_NCBITaxon': 15,\n",
       " 'CHEBI_PATO': 3,\n",
       " 'NCBITaxon_PR': 49,\n",
       " 'napdi_DOID': 5,\n",
       " 'CL_napdi': 1,\n",
       " 'PATO_CHEBI': 11,\n",
       " 'MONDO_GO': 17,\n",
       " 'PR_CLO': 5,\n",
       " 'CL_GO': 5,\n",
       " 'SO_NCBITaxon': 14,\n",
       " 'UBERON_MONDO': 8,\n",
       " 'CHEBI_HP': 311,\n",
       " 'HP_NCBITaxon': 10,\n",
       " 'MONDO_CL': 2,\n",
       " 'NCBITaxon_UBERON': 5,\n",
       " 'napdi_HP': 48,\n",
       " 'MONDO_PR': 18,\n",
       " 'HP_GO': 65,\n",
       " 'UBERON_PR': 13,\n",
       " 'GO_SLC47A1[SYNONYM': 2,\n",
       " 'CLO_NCBITaxon': 4,\n",
       " 'MONDO_PW': 1,\n",
       " 'OBO_NCBITaxon': 1,\n",
       " 'SO_CL': 3,\n",
       " 'SO_GO': 12,\n",
       " 'SO_UBERON': 3,\n",
       " 'napdi_CL': 19,\n",
       " 'NCBITaxon_GO': 35,\n",
       " 'GO_MONDO': 16,\n",
       " 'PATO_PR': 3,\n",
       " 'UBERON_GO': 5,\n",
       " 'HP_MONDO': 11,\n",
       " 'UBERON_CLO': 1,\n",
       " 'napdi_SLC47A1[SYNONYM': 2,\n",
       " 'PW_PR': 3,\n",
       " 'PATO_napdi': 2,\n",
       " 'MONDO_SO': 1,\n",
       " 'MONDO_UBERON': 4,\n",
       " 'napdi_PW': 4,\n",
       " 'GO_HP': 7,\n",
       " 'PR_HP': 63,\n",
       " 'CL_SO': 1,\n",
       " 'PATO_MONDO': 2,\n",
       " 'PW_PW': 1,\n",
       " 'PATO_NCBITaxon': 3,\n",
       " 'CL_SLC47A1[SYNONYM': 1,\n",
       " 'CHEBI_SLC47A1[SYNONYM': 1,\n",
       " 'CLO_CHEBI': 1,\n",
       " 'OBO_MONDO': 1,\n",
       " 'GO_DOID': 2,\n",
       " 'NCBITaxon_PW': 1,\n",
       " 'PR_PW': 2,\n",
       " 'CLO_MONDO': 1,\n",
       " 'CHEBI_cellline#human': 1,\n",
       " 'HP_CHEBI': 52,\n",
       " 'HP_PR': 53,\n",
       " 'HP_HP': 23,\n",
       " 'NCBITaxon_napdi': 2,\n",
       " 'NCBITaxon_HP': 22,\n",
       " 'SLC47A1SYNONYM_CHEBI': 2,\n",
       " 'HP_UBERON': 1,\n",
       " 'napdi_SLC47A1SYNONYM': 1}"
      ]
     },
     "execution_count": 19,
     "metadata": {},
     "output_type": "execute_result"
    }
   ],
   "source": [
    "#get number of each metaedge per subject and object metanode - at node level \n",
    "##don't include labels\n",
    "metaedge_nodeonly = {}\n",
    "for triple in mr:\n",
    "    if triple == '':\n",
    "        continue\n",
    "    triple_list = triple.split(' ')\n",
    "    subj = triple_list[0].replace('>', '')\n",
    "    obj = triple_list[2].replace('>', '')\n",
    "    \n",
    "    subj_id = subj.split('/')[-1].split('_')[0]\n",
    "    if triple_list[1] == '<http://www.w3.org/2000/01/rdf-schema#label>':\n",
    "        obj_id = ''\n",
    "    else:\n",
    "        obj_id = obj.split('/')[-1].split('_')[0]\n",
    "    \n",
    "    if obj_id != '':\n",
    "        edgeinfo = subj_id + '_'+ obj_id\n",
    "    \n",
    "    if edgeinfo not in metaedge_nodeonly:\n",
    "        metaedge_nodeonly[edgeinfo] = 1\n",
    "    else:\n",
    "        metaedge_nodeonly[edgeinfo] += 1\n",
    "metaedge_nodeonly"
   ]
  },
  {
   "cell_type": "code",
   "execution_count": null,
   "id": "0529f476-00ef-483a-a3e0-46430ffefbc0",
   "metadata": {},
   "outputs": [],
   "source": [
    "#get number of each metaedge per subject and object metanode\n",
    "##don't include labels\n",
    "metaedge = {}\n",
    "for triple in mr:\n",
    "    if triple == '':\n",
    "        continue\n",
    "    triple_list = triple.split(' ')\n",
    "    subj = triple_list[0].replace('>', '')\n",
    "    obj = triple_list[2].replace('>', '')\n",
    "    pred = triple_list[1].replace('>','')\n",
    "    \n",
    "    subj_id = subj.split('/')[-1].split('_')[0]\n",
    "    pred_id = pred.split('/')[-1]\n",
    "    if triple_list[1] == '<http://www.w3.org/2000/01/rdf-schema#label>':\n",
    "        obj_id = ''\n",
    "    else:\n",
    "        obj_id = obj.split('/')[-1].split('_')[0]\n",
    "    \n",
    "    if obj_id != '':\n",
    "        edgeinfo = subj_id + '-'+ pred_id + '-' + obj_id\n",
    "    \n",
    "    if edgeinfo not in metaedge:\n",
    "        metaedge[edgeinfo] = 1\n",
    "    else:\n",
    "        metaedge[edgeinfo] += 1\n",
    "metaedge"
   ]
  },
  {
   "cell_type": "code",
   "execution_count": 21,
   "id": "ebd4a500-36e2-42ca-a9e2-c003b0014db3",
   "metadata": {},
   "outputs": [
    {
     "name": "stdout",
     "output_type": "stream",
     "text": [
      "CHEBI-RO_0002434-CHEBI 1393\n",
      "UBERON-BFO_0000050-NCBITaxon 207\n",
      "CHEBI-RO_0002434-PR 585\n",
      "CHEBI-RO_0002606-NCBITaxon 380\n",
      "CHEBI-RO_0002213-CHEBI 592\n",
      "CHEBI-RO_0002490-PR 246\n",
      "CHEBI-RO_0002449-PR 1147\n",
      "CHEBI-RO_0002490-CHEBI 1176\n",
      "CHEBI-RO_0002449-CHEBI 1487\n",
      "napdi-RO_0002434-CHEBI 165\n",
      "CHEBI-RO_0002213-PR 628\n",
      "CHEBI-RO_0002606-MONDO 144\n",
      "napdi-RO_0002449-PR 178\n",
      "napdi-RO_0002213-PR 123\n",
      "UBERON-BFO_0000050-UBERON 146\n",
      "napdi-RO_0002449-CHEBI 216\n",
      "CHEBI-RO_0002449-GO 497\n",
      "napdi-RO_0002434-PR 124\n",
      "PR-RO_0002449-CHEBI 175\n",
      "CHEBI-RO_0002596-UBERON 116\n",
      "PR-RO_0002449-PR 152\n",
      "CHEBI-RO_0002434-napdi 170\n",
      "PR-RO_0002449-GO 137\n",
      "CHEBI-RO_0002448-PR 478\n",
      "CHEBI-RO_0011010-CHEBI 118\n",
      "CHEBI-RO_0011009-PR 280\n",
      "CHEBI-RO_0002448-CHEBI 849\n",
      "CHEBI-RO_0002448-GO 535\n",
      "CHEBI-RO_0011010-PR 187\n",
      "CHEBI-RO_0002448-HP 160\n",
      "PR-RO_0002448-GO 250\n",
      "PR-RO_0002448-PR 141\n",
      "PR-RO_0002448-CHEBI 264\n",
      "CHEBI-RO_0011009-CHEBI 157\n",
      "CHEBI-RO_0002449-HP 130\n"
     ]
    }
   ],
   "source": [
    "for key in metaedge:\n",
    "    if metaedge[key] >= 100:\n",
    "        print(key, metaedge[key])"
   ]
  },
  {
   "cell_type": "code",
   "execution_count": 22,
   "id": "a8d64aac-c590-4f0a-b97a-34f5bdd590cb",
   "metadata": {},
   "outputs": [
    {
     "data": {
      "text/plain": [
       "14491"
      ]
     },
     "execution_count": 22,
     "metadata": {},
     "output_type": "execute_result"
    }
   ],
   "source": [
    "##edges in inferred\n",
    "inferred_file = '/home/sanya/PheKnowLatorv2/machine_read/closure_output/inferred-transitive-and-symmetric.ntriples'\n",
    "with open(inferred_file,'r') as file2:\n",
    "    g2 = file2.read()\n",
    "mrinf = g2.split('\\n')\n",
    "len(mrinf)"
   ]
  },
  {
   "cell_type": "code",
   "execution_count": 39,
   "id": "ad869c4c-8298-43e8-99f8-9ee0722b9a2a",
   "metadata": {},
   "outputs": [
    {
     "data": {
      "text/plain": [
       "['<http://purl.obolibrary.org/obo/NCBITaxon_1224',\n",
       " '<http://purl.obolibrary.org/obo/RO_0002434',\n",
       " '<http://purl.obolibrary.org/obo/NCBITaxon_2',\n",
       " '.']"
      ]
     },
     "execution_count": 39,
     "metadata": {},
     "output_type": "execute_result"
    }
   ],
   "source": [
    "mrinf[0].split('>')."
   ]
  },
  {
   "cell_type": "code",
   "execution_count": 48,
   "id": "03253e2a-897b-4474-b203-97282d631fa5",
   "metadata": {},
   "outputs": [
    {
     "data": {
      "text/plain": [
       "'<http://purl.obolibrary.org/obo/CHEBI_22586> <http://purl.obolibrary.org/obo/RO_0002434> <http://purl.obolibrary.org/obo/CHEBI_16261> .'"
      ]
     },
     "execution_count": 48,
     "metadata": {},
     "output_type": "execute_result"
    }
   ],
   "source": [
    "mr_inf[]"
   ]
  },
  {
   "cell_type": "code",
   "execution_count": 55,
   "id": "0b28b3f1-bf10-4fb7-9c47-a9b416d0e458",
   "metadata": {},
   "outputs": [
    {
     "data": {
      "text/plain": [
       "{'NCBITaxon-RO_0002434-NCBITaxon': 42,\n",
       " 'UBERON-BFO_0000050-UBERON': 96,\n",
       " 'UBERON-BFO_0000050-NCBITaxon': 251,\n",
       " 'UBERON-BFO_0000050-CLO': 1,\n",
       " 'CHEBI-RO_0002434-CHEBI': 1067,\n",
       " 'CHEBI-RO_0002434-PR': 425,\n",
       " 'CHEBI-RO_0002213-CHEBI': 3368,\n",
       " 'CHEBI-RO_0002213-CL': 58,\n",
       " 'CHEBI-RO_0002213-PR': 5283,\n",
       " 'CHEBI-RO_0002213-napdi': 170,\n",
       " 'GO-RO_0002434-PR': 25,\n",
       " 'CHEBI-BFO_0000050-UBERON': 228,\n",
       " 'GO-BFO_0000050-UBERON': 13,\n",
       " 'PR-BFO_0000050-UBERON': 74,\n",
       " 'napdi-BFO_0000050-UBERON': 3,\n",
       " 'NCBITaxon-RO_0002434-CHEBI': 10,\n",
       " 'CL-BFO_0000050-NCBITaxon': 162,\n",
       " 'CL-BFO_0000050-UBERON': 84,\n",
       " 'CHEBI-RO_0002213-GO': 252,\n",
       " 'CHEBI-BFO_0000050-NCBITaxon': 272,\n",
       " 'PR-BFO_0000050-NCBITaxon': 105,\n",
       " 'CL-RO_0002434-CL': 16,\n",
       " 'NCBITaxon-BFO_0000050-UBERON': 3,\n",
       " 'PR-BFO_0000050-DOID': 1,\n",
       " 'PR-BFO_0000050-CL': 2,\n",
       " 'PR-BFO_0000050-SO': 1,\n",
       " 'CHEBI-RO_0002434-MONDO': 6,\n",
       " 'cellline#human-BFO_0000050-NCBITaxon': 25,\n",
       " 'cellline#human-RO_0002434-PR': 1,\n",
       " 'GO-RO_0002434-CL': 8,\n",
       " 'GO-RO_0002434-CHEBI': 30,\n",
       " 'CL-RO_0002434-PR': 29,\n",
       " 'PR-RO_0002434-GO': 4,\n",
       " 'PR-RO_0002434-CHEBI': 51,\n",
       " 'PR-RO_0002434-PR': 53,\n",
       " 'SO-RO_0002434-CL': 2,\n",
       " 'MONDO-BFO_0000050-UBERON': 13,\n",
       " 'PR-RO_0002213-CHEBI': 168,\n",
       " 'SO-RO_0002434-CHEBI': 18,\n",
       " 'PR-RO_0002213-PR': 371,\n",
       " 'PR-RO_0002213-SO': 5,\n",
       " 'MONDO-BFO_0000050-NCBITaxon': 3,\n",
       " 'CHEBI-RO_0002434-GO': 68,\n",
       " 'GO-BFO_0000050-NCBITaxon': 31,\n",
       " 'PR-RO_0002434-CLO': 1,\n",
       " 'napdi-RO_0002213-PR': 137,\n",
       " 'napdi-RO_0002213-CHEBI': 126,\n",
       " 'napdi-RO_0002434-GO': 12,\n",
       " 'CHEBI-RO_0002213-MONDO': 35,\n",
       " 'GO-RO_0002213-CL': 1,\n",
       " 'GO-RO_0002213-PR': 100,\n",
       " 'napdi-RO_0002434-CHEBI': 122,\n",
       " 'CL-RO_0002434-GO': 3,\n",
       " 'CHEBI-RO_0002434-SO': 20,\n",
       " 'UBERON-BFO_0000050-MONDO': 9,\n",
       " 'GO-RO_0002434-SLC47A1[SYNONYM': 1,\n",
       " 'CHEBI-RO_0002434-napdi': 123,\n",
       " 'napdi-RO_0002213-CL': 6,\n",
       " 'SO-BFO_0000050-NCBITaxon': 4,\n",
       " 'napdi-RO_0002434-PR': 97,\n",
       " 'CHEBI-RO_0002213-UBERON': 14,\n",
       " 'SO-BFO_0000050-PR': 7,\n",
       " 'PR-BFO_0000050-PR': 9,\n",
       " 'PR-BFO_0000050-MONDO': 5,\n",
       " 'GO-BFO_0000050-PR': 2,\n",
       " 'SO-RO_0002213-CHEBI': 70,\n",
       " 'CHEBI-RO_0002213-SO': 98,\n",
       " 'CHEBI-RO_0002434-UBERON': 2,\n",
       " 'PATO-RO_0002434-CHEBI': 4,\n",
       " 'PR-RO_0002213-CL': 6,\n",
       " 'PR-RO_0002213-napdi': 10,\n",
       " 'MONDO-RO_0002213-CHEBI': 19,\n",
       " 'SO-RO_0002213-PR': 121,\n",
       " 'SO-RO_0002434-PR': 26,\n",
       " 'UBERON-RO_0002434-CHEBI': 2,\n",
       " 'SO-BFO_0000050-UBERON': 3,\n",
       " 'PR-RO_0002434-CL': 19,\n",
       " 'GO-RO_0002213-CHEBI': 57,\n",
       " 'CHEBI-BFO_0000050-PR': 8,\n",
       " 'CL-RO_0002434-SO': 1,\n",
       " 'PATO-RO_0002213-CHEBI': 11,\n",
       " 'PATO-RO_0002213-PR': 21,\n",
       " 'PATO-RO_0002213-napdi': 1,\n",
       " 'NCBITaxon-RO_0002434-PR': 5,\n",
       " 'NCBITaxon-BFO_0000050-NCBITaxon': 4,\n",
       " 'SO-BFO_0000050-CLO': 1,\n",
       " 'CLO-RO_0002434-PR': 6,\n",
       " 'PR-RO_0002434-NCBITaxon': 1,\n",
       " 'CLO-BFO_0000050-UBERON': 2,\n",
       " 'CHEBI-BFO_0000050-CHEBI': 6,\n",
       " 'cellline#human-BFO_0000050-UBERON': 9,\n",
       " 'CHEBI-RO_0002213-CLO': 9,\n",
       " 'PR-RO_0002434-SO': 7,\n",
       " 'CHEBI-BFO_0000050-CLO': 2,\n",
       " 'CL-BFO_0000050-MONDO': 4,\n",
       " 'CHEBI-RO_0002434-NCBITaxon': 2,\n",
       " 'UBERON-BFO_0000050-CL': 1,\n",
       " 'CHEBI-BFO_0000050-CL': 3,\n",
       " 'CHEBI-BFO_0000050-MONDO': 13,\n",
       " 'GO-BFO_0000050-MONDO': 1,\n",
       " 'PR-RO_0002213-GO': 18,\n",
       " 'napdi-RO_0002213-GO': 9,\n",
       " 'CHEBI-RO_0002213-PW': 3,\n",
       " 'CHEBI-RO_0002434-PW': 1,\n",
       " 'CHEBI-RO_0002213-NCBITaxon': 4,\n",
       " 'CL-RO_0002434-CHEBI': 10,\n",
       " 'napdi-RO_0002213-napdi': 16,\n",
       " 'GO-RO_0002213-napdi': 4,\n",
       " 'napdi-RO_0002213-MONDO': 3,\n",
       " 'GO-RO_0002434-SO': 2,\n",
       " 'napdi-BFO_0000050-NCBITaxon': 7,\n",
       " 'PR-RO_0002213-UBERON': 2,\n",
       " 'SO-BFO_0000050-GO': 1,\n",
       " 'SO-RO_0002434-napdi': 2,\n",
       " 'GO-RO_0002434-napdi': 7,\n",
       " 'MONDO-RO_0002213-PR': 12,\n",
       " 'napdi-RO_0002213-CLO': 1,\n",
       " 'GO-RO_0002213-GO': 7,\n",
       " 'SO-RO_0002213-GO': 7,\n",
       " 'PR-BFO_0000050-GO': 1,\n",
       " 'PR-RO_0002434-napdi': 19,\n",
       " 'CHEBI-RO_0002434-CL': 6,\n",
       " 'CLO-BFO_0000050-NCBITaxon': 9,\n",
       " 'PATO-RO_0002434-napdi': 2,\n",
       " 'MONDO-RO_0002213-napdi': 1,\n",
       " 'napdi-RO_0002434-SO': 4,\n",
       " 'SO-RO_0002213-CL': 1,\n",
       " 'GO-BFO_0000050-DOID': 1,\n",
       " 'cellline#human-BFO_0000050-MONDO': 2,\n",
       " 'PATO-RO_0002434-PR': 2,\n",
       " 'GO-RO_0002434-CLO': 1,\n",
       " 'MONDO-RO_0002434-CHEBI': 3,\n",
       " 'CHEBI-RO_0002434-SLC47A1[SYNONYM': 1,\n",
       " 'napdi-RO_0002434-napdi': 2,\n",
       " 'PR-RO_0002213-PW': 1,\n",
       " 'CLO-BFO_0000050-MONDO': 1,\n",
       " 'CHEBI-RO_0002434-CLO': 2,\n",
       " 'MONDO-RO_0002434-PR': 1,\n",
       " 'SO-RO_0002213-napdi': 3,\n",
       " 'napdi-RO_0002213-SO': 1,\n",
       " 'GO-BFO_0000050-CL': 1,\n",
       " 'GO-BFO_0000050-SO': 1,\n",
       " 'SO-RO_0002434-GO': 2,\n",
       " 'GO-RO_0002213-MONDO': 1,\n",
       " 'GO-RO_0002213-SO': 3,\n",
       " 'PR-RO_0002213-CLO': 1,\n",
       " 'PR-RO_0002213-NCBITaxon': 2,\n",
       " 'SO-RO_0002213-SO': 2,\n",
       " 'PR-RO_0002213-MONDO': 3,\n",
       " 'SO-RO_0002213-MONDO': 1,\n",
       " 'MONDO-RO_0002434-CL': 1,\n",
       " 'GO-RO_0002434-MONDO': 1,\n",
       " 'CL-RO_0002434-napdi': 1,\n",
       " 'UBERON-RO_0002434-GO': 1,\n",
       " 'GO-RO_0002434-GO': 1}"
      ]
     },
     "execution_count": 55,
     "metadata": {},
     "output_type": "execute_result"
    }
   ],
   "source": [
    "#get number of each metaedge per subject and object metanode\n",
    "##don't include labels\n",
    "metaedgeinf = {}\n",
    "for triple in mrinf[0:14489]:\n",
    "    if triple == '':\n",
    "        continue\n",
    "    triple_list = triple.split('>')\n",
    "    subj = triple_list[0]\n",
    "    obj = triple_list[2]\n",
    "    pred = triple_list[1]\n",
    "    \n",
    "    subj_id = subj.split('/')[-1].split('_')[0]\n",
    "    pred_id = pred.split('/')[-1]\n",
    "    if triple_list[1] == '<http://www.w3.org/2000/01/rdf-schema#label>':\n",
    "        obj_id = ''\n",
    "    else:\n",
    "        obj_id = obj.split('/')[-1].split('_')[0]\n",
    "    \n",
    "    if obj_id != '':\n",
    "        edgeinfo = subj_id + '-'+ pred_id + '-' + obj_id\n",
    "    \n",
    "    if edgeinfo not in metaedgeinf:\n",
    "        metaedgeinf[edgeinfo] = 1\n",
    "    else:\n",
    "        metaedgeinf[edgeinfo] += 1\n",
    "metaedgeinf"
   ]
  },
  {
   "cell_type": "code",
   "execution_count": 59,
   "id": "7fbcd0e2-8ca9-4174-b81f-bc3348de3c06",
   "metadata": {},
   "outputs": [
    {
     "name": "stdout",
     "output_type": "stream",
     "text": [
      "UBERON-BFO_0000050-UBERON 96\n",
      "UBERON-BFO_0000050-NCBITaxon 251\n",
      "CHEBI-RO_0002434-CHEBI 1067\n",
      "CHEBI-RO_0002434-PR 425\n",
      "CHEBI-RO_0002213-CHEBI 3368\n",
      "CHEBI-RO_0002213-CL 58\n",
      "CHEBI-RO_0002213-PR 5283\n",
      "CHEBI-RO_0002213-napdi 170\n",
      "CHEBI-BFO_0000050-UBERON 228\n",
      "PR-BFO_0000050-UBERON 74\n",
      "CL-BFO_0000050-NCBITaxon 162\n",
      "CL-BFO_0000050-UBERON 84\n",
      "CHEBI-RO_0002213-GO 252\n",
      "CHEBI-BFO_0000050-NCBITaxon 272\n",
      "PR-BFO_0000050-NCBITaxon 105\n",
      "PR-RO_0002434-CHEBI 51\n",
      "PR-RO_0002434-PR 53\n",
      "PR-RO_0002213-CHEBI 168\n",
      "PR-RO_0002213-PR 371\n",
      "CHEBI-RO_0002434-GO 68\n",
      "napdi-RO_0002213-PR 137\n",
      "napdi-RO_0002213-CHEBI 126\n",
      "GO-RO_0002213-PR 100\n",
      "napdi-RO_0002434-CHEBI 122\n",
      "CHEBI-RO_0002434-napdi 123\n",
      "napdi-RO_0002434-PR 97\n",
      "SO-RO_0002213-CHEBI 70\n",
      "CHEBI-RO_0002213-SO 98\n",
      "SO-RO_0002213-PR 121\n",
      "GO-RO_0002213-CHEBI 57\n"
     ]
    }
   ],
   "source": [
    "for key in metaedgeinf:\n",
    "    if metaedgeinf[key] >= 50:\n",
    "        print(key, metaedgeinf[key])"
   ]
  },
  {
   "cell_type": "code",
   "execution_count": 58,
   "id": "6fe4501a-8ed1-458a-8b0a-79a7f0d3142f",
   "metadata": {},
   "outputs": [
    {
     "data": {
      "text/plain": [
       "{'RO_0002434': 2381, 'BFO_0000050': 1485, 'RO_0002213': 10623}"
      ]
     },
     "execution_count": 58,
     "metadata": {},
     "output_type": "execute_result"
    }
   ],
   "source": [
    "relations = {}\n",
    "for triple in mrinf[0:14489]:\n",
    "    if triple == '':\n",
    "        continue\n",
    "    triple_list = triple.split('>')\n",
    "\n",
    "    pred = triple_list[1]\n",
    "    pred_id = pred.split('/')[-1]\n",
    "    \n",
    "    if pred_id not in relations:\n",
    "        relations[pred_id] = 1\n",
    "    else:\n",
    "        relations[pred_id] += 1\n",
    "relations"
   ]
  },
  {
   "cell_type": "code",
   "execution_count": 2,
   "id": "9873bcdc-0fe2-43ae-876e-24476b39b2a3",
   "metadata": {},
   "outputs": [],
   "source": [
    "##Scratch"
   ]
  },
  {
   "cell_type": "code",
   "execution_count": 56,
   "id": "a825a851-6db4-411e-8aef-5814afdffd32",
   "metadata": {},
   "outputs": [
    {
     "name": "stdout",
     "output_type": "stream",
     "text": [
      "<class 'pandas.core.frame.DataFrame'>\n",
      "RangeIndex: 145638 entries, 0 to 145637\n",
      "Data columns (total 15 columns):\n",
      " #   Column         Non-Null Count   Dtype  \n",
      "---  ------         --------------   -----  \n",
      " 0   pmid           145638 non-null  int64  \n",
      " 1   subject_cui    141153 non-null  object \n",
      " 2   subject_type   145638 non-null  object \n",
      " 3   object_cui     141410 non-null  object \n",
      " 4   object_type    145638 non-null  object \n",
      " 5   year           145492 non-null  float64\n",
      " 6   subject_name   141153 non-null  object \n",
      " 7   object_name    141410 non-null  object \n",
      " 8   source_text    145638 non-null  object \n",
      " 9   predicate      145638 non-null  object \n",
      " 10  subject_map    0 non-null       float64\n",
      " 11  object_map     0 non-null       float64\n",
      " 12  predicate_obo  145638 non-null  object \n",
      " 13  subject_obo    103194 non-null  object \n",
      " 14  object_obo     75713 non-null   object \n",
      "dtypes: float64(3), int64(1), object(11)\n",
      "memory usage: 16.7+ MB\n"
     ]
    }
   ],
   "source": [
    "sem = pd.read_csv('semrep_data/semrep_all_predications_mapped_with_prefix_20220505.csv')\n",
    "sem.info()"
   ]
  },
  {
   "cell_type": "code",
   "execution_count": 45,
   "id": "ee00889a-63e1-491e-bb6d-6a5e48ab791f",
   "metadata": {},
   "outputs": [
    {
     "name": "stdout",
     "output_type": "stream",
     "text": [
      "<class 'pandas.core.frame.DataFrame'>\n",
      "RangeIndex: 334 entries, 0 to 333\n",
      "Data columns (total 16 columns):\n",
      " #   Column                Non-Null Count  Dtype  \n",
      "---  ------                --------------  -----  \n",
      " 0   subject_cui           322 non-null    object \n",
      " 1   subject_name          322 non-null    object \n",
      " 2   subject_source        334 non-null    object \n",
      " 3   predicate             334 non-null    object \n",
      " 4   object_source         334 non-null    object \n",
      " 5   object_cui            327 non-null    object \n",
      " 6   object_name           327 non-null    object \n",
      " 7   subj_reach_grounding  334 non-null    object \n",
      " 8   obj_reach_grounding   334 non-null    object \n",
      " 9   pmid                  334 non-null    int64  \n",
      " 10  year                  334 non-null    object \n",
      " 11  belief                334 non-null    float64\n",
      " 12  sentence              334 non-null    object \n",
      " 13  predicate_obo         334 non-null    object \n",
      " 14  subject_obo           334 non-null    object \n",
      " 15  object_obo            334 non-null    object \n",
      "dtypes: float64(1), int64(1), object(14)\n",
      "memory usage: 41.9+ KB\n"
     ]
    }
   ],
   "source": [
    "reach = pd.read_csv('predication_files/kratom_pmid_all_predicates_umls_processed.tsv', sep='\\t')\n",
    "reach.info()"
   ]
  },
  {
   "cell_type": "code",
   "execution_count": 63,
   "id": "177652d1-e470-4200-8a47-dde728dac6a9",
   "metadata": {},
   "outputs": [],
   "source": [
    "x = sem.loc[sem['subject_name'] == 'mitragynine']['object_name'].tolist()"
   ]
  },
  {
   "cell_type": "code",
   "execution_count": 64,
   "id": "aed81daf-d505-47a9-bf6d-1013484aed60",
   "metadata": {},
   "outputs": [
    {
     "data": {
      "text/plain": [
       "{'4-methylumbelliferyl glucuronide',\n",
       " 'ABCG2 gene',\n",
       " 'Adenosine Triphosphatases',\n",
       " 'Analgesics',\n",
       " 'Atenolol',\n",
       " 'Avoidance Learning',\n",
       " 'Azithromycin',\n",
       " 'Blockade',\n",
       " 'Buffers',\n",
       " 'CNS disorder',\n",
       " 'CYP1A2 gene',\n",
       " 'CYP2C9 protein, human',\n",
       " 'CYP2D6 gene',\n",
       " 'Calcium ion',\n",
       " 'Cause of death.underlying',\n",
       " 'Choroid Plexus Papilloma',\n",
       " 'Cytochrome P450',\n",
       " 'Cytochrome P450 2D6, human',\n",
       " 'Dextromethorphan',\n",
       " 'Did not receive therapy or drug for',\n",
       " 'Digoxin',\n",
       " 'Dimethyl Sulfoxide',\n",
       " 'Dinoprostone',\n",
       " 'Enzymatic Activity',\n",
       " 'Enzymes, hematological',\n",
       " 'Genus Homo',\n",
       " 'Glutathione',\n",
       " 'Glycine dehydrogenase (decarboxylating)',\n",
       " 'Green Fluorescent Proteins',\n",
       " 'Herb-Drug Interactions',\n",
       " 'Homo sapiens',\n",
       " 'Inflammation',\n",
       " 'Insomnia, CTCAE 3.0',\n",
       " 'KCNH2 gene',\n",
       " 'KCNJ2 gene',\n",
       " 'Kinetics',\n",
       " 'Locomotion',\n",
       " 'Loss of appetite (finding)',\n",
       " 'Metabolism',\n",
       " 'Methanol',\n",
       " 'Midazolam',\n",
       " 'Nerve',\n",
       " 'Nicotine',\n",
       " 'Norepinephrine',\n",
       " 'Opioid Receptor',\n",
       " 'P-Glycoproteins',\n",
       " 'PHOSPHATE BUFFERS',\n",
       " 'Palmitic Acid',\n",
       " 'Potassium Channel',\n",
       " 'Prazosin',\n",
       " 'Present',\n",
       " 'Propranolol',\n",
       " 'Psychotic Disorders',\n",
       " 'RNA, Messenger',\n",
       " 'Rattus norvegicus',\n",
       " 'Stimulation (motivation)',\n",
       " 'Tail',\n",
       " 'Testosterone',\n",
       " 'Thiones (chemical)',\n",
       " 'Transcription, Genetic',\n",
       " 'Tyramine',\n",
       " 'UGT1A1 gene',\n",
       " 'UGT2B7 gene',\n",
       " 'Weight decreased',\n",
       " 'alkyl',\n",
       " 'human plasma',\n",
       " 'mRNA Expression',\n",
       " nan,\n",
       " 'neurotransmitter release',\n",
       " 'protein expression',\n",
       " 'receptor',\n",
       " 'user - individual'}"
      ]
     },
     "execution_count": 64,
     "metadata": {},
     "output_type": "execute_result"
    }
   ],
   "source": [
    "set(x)"
   ]
  },
  {
   "cell_type": "code",
   "execution_count": 69,
   "id": "0ca3594d-92b5-4d66-847d-16afd0845027",
   "metadata": {},
   "outputs": [
    {
     "data": {
      "text/plain": [
       "'26692748_ascii.txt.tx.4 However,  the  IC50  values  for the mitragynine and 7-hydroxymitragynine could not be determined  accurately  since  their  inhibitions  on  4-MU glucuronidation were <50%.4-MU glucuronidation was reduced by 7-hydroxymitragynine ranged from 6% +/- 2% to 46% +/- 1% and mitragynine ranged from 14% +/- 4% to 40% +/- 5% at concentrations of 0.01-100 uM [Figure 2].'"
      ]
     },
     "execution_count": 69,
     "metadata": {},
     "output_type": "execute_result"
    }
   ],
   "source": [
    "sem.loc[(sem['subject_obo'] == 'http://purl.obolibrary.org/obo/CHEBI_180536')]['source_text'][139612]"
   ]
  },
  {
   "cell_type": "code",
   "execution_count": null,
   "id": "5c4fe14c-a41c-4868-aa07-5461382713a2",
   "metadata": {},
   "outputs": [],
   "source": []
  }
 ],
 "metadata": {
  "kernelspec": {
   "display_name": "Python 3.8.0 ('kg-embed')",
   "language": "python",
   "name": "python3"
  },
  "language_info": {
   "codemirror_mode": {
    "name": "ipython",
    "version": 3
   },
   "file_extension": ".py",
   "mimetype": "text/x-python",
   "name": "python",
   "nbconvert_exporter": "python",
   "pygments_lexer": "ipython3",
   "version": "3.8.0"
  },
  "vscode": {
   "interpreter": {
    "hash": "96e4f617bfd8d41f7b09e4ea5db07380f9a5a2c21add6996766b0d6e42ab68c1"
   }
  }
 },
 "nbformat": 4,
 "nbformat_minor": 5
}
