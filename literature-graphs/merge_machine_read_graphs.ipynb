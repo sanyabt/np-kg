{
 "cells": [
  {
   "cell_type": "markdown",
   "id": "399cb0ac-ee8b-4387-82b4-06ba0818fadc",
   "metadata": {},
   "source": [
    "### Notebook to merge machine read triples after extraction and processing from INDRA/REACH and SemRep"
   ]
  },
  {
   "cell_type": "code",
   "execution_count": null,
   "id": "7b31f7b3-64a5-4cd1-b861-c37df7f56b68",
   "metadata": {},
   "outputs": [],
   "source": [
    "import pandas as pd\n",
    "import numpy as np\n",
    "import pickle\n",
    "from rdflib.namespace import OWL, RDF, RDFS\n",
    "import os\n",
    "import pickle, json\n",
    "\n",
    "#Create networkx graph from triples\n",
    "import glob\n",
    "import hashlib\n",
    "import json\n",
    "import networkx as nx  # type: ignore\n",
    "import os\n",
    "import os.path\n",
    "\n",
    "from collections import Counter  # type: ignore\n",
    "from more_itertools import unique_everseen  # type: ignore\n",
    "from rdflib import BNode, Graph, Literal, Namespace, URIRef  # type: ignore\n",
    "from rdflib.namespace import OWL, RDF, RDFS  # type: ignore\n",
    "from rdflib.plugins.serializers.nt import _quoteLiteral  # type: ignore\n",
    "import subprocess\n",
    "\n",
    "from tqdm import tqdm  # type: ignore\n",
    "from typing import Dict, List, Optional, Set, Tuple, Union"
   ]
  },
  {
   "cell_type": "code",
   "execution_count": null,
   "id": "31a711e5-1d2c-4a7b-aec9-97350d0a1704",
   "metadata": {},
   "outputs": [],
   "source": [
    "##read in machine reading graphs\n",
    "g1 = '/output_graphs/machineread_semrep.nt'\n",
    "g2 = '/output_graphs/machineread_greentea_INDRA.nt'\n",
    "g3 = '/output_graphs/machineread_kratom_INDRA.nt'"
   ]
  },
  {
   "cell_type": "code",
   "execution_count": null,
   "id": "b7bbe99f-10ac-40f8-afcc-b56ec056df8d",
   "metadata": {},
   "outputs": [],
   "source": [
    "#if merging ntriples - concatenate files\n",
    "#if merging gpickle - use nx.compose function. Also merge nodelabels"
   ]
  },
  {
   "cell_type": "code",
   "execution_count": null,
   "id": "6f045777-b151-43fd-9fdb-0fd8dee81300",
   "metadata": {},
   "outputs": [],
   "source": [
    "with open(g1,'r') as file1:\n",
    "    g = file1.read()\n",
    "graph1 = g.split('\\n')\n",
    "type(graph1)"
   ]
  },
  {
   "cell_type": "code",
   "execution_count": null,
   "id": "6525bebd-3073-4197-85dd-b928f311f1c1",
   "metadata": {},
   "outputs": [],
   "source": [
    "graph1[0]"
   ]
  },
  {
   "cell_type": "code",
   "execution_count": null,
   "id": "5a84afbc-9896-4754-bc3b-676c38b21bff",
   "metadata": {},
   "outputs": [],
   "source": [
    "with open(g2,'r') as file2:\n",
    "    g = file2.read()\n",
    "graph2 = g.split('\\n')\n",
    "graph2[0]"
   ]
  },
  {
   "cell_type": "code",
   "execution_count": null,
   "id": "ed26e8ef-e845-4614-9ee3-5db94b1297f0",
   "metadata": {},
   "outputs": [],
   "source": [
    "with open(g3,'r') as file3:\n",
    "    g = file3.read()\n",
    "graph3 = g.split('\\n')\n",
    "graph3[0]"
   ]
  },
  {
   "cell_type": "code",
   "execution_count": null,
   "id": "5d02ecd2-a71a-4a3b-9347-0cebe6b836b2",
   "metadata": {},
   "outputs": [],
   "source": [
    "print(len(graph1), len(graph2), len(graph3))"
   ]
  },
  {
   "cell_type": "code",
   "execution_count": null,
   "id": "b07c1b89-752a-4beb-b760-b8c019be7b26",
   "metadata": {},
   "outputs": [],
   "source": [
    "output_file = '/output_graphs/machine_read_merged.nt'"
   ]
  },
  {
   "cell_type": "code",
   "execution_count": null,
   "id": "e80234b3-5406-48db-b4e9-3d0d9634a335",
   "metadata": {},
   "outputs": [],
   "source": [
    "with open(output_file, 'w') as fileo:\n",
    "    for gt1 in graph1:\n",
    "        fileo.write(gt1)\n",
    "        fileo.write('\\n')\n",
    "    for gt2 in graph2:\n",
    "        fileo.write(gt2)\n",
    "        fileo.write('\\n')\n",
    "    for gt3 in graph3:\n",
    "        fileo.write(gt3)\n",
    "        fileo.write('\\n')\n",
    "file1.close()\n",
    "file2.close()\n",
    "file3.close()\n",
    "fileo.close()"
   ]
  },
  {
   "cell_type": "code",
   "execution_count": null,
   "id": "ff2da621-dd4c-4727-9927-d575d75e8555",
   "metadata": {},
   "outputs": [],
   "source": [
    "with open(output_file,'r') as filei:\n",
    "    g = filei.read()\n",
    "mr = g.split('\\n')\n",
    "len(mr)"
   ]
  },
  {
   "cell_type": "code",
   "execution_count": null,
   "id": "5cf6f9ce-21d4-4f2e-a8a0-96653583292f",
   "metadata": {},
   "outputs": [],
   "source": [
    "inferred_file = '/closure_output/inferred-transitive-and-symmetric.ntriples'\n",
    "with open(inferred_file,'r') as file2:\n",
    "    g2 = file2.read()\n",
    "mrinf = g2.split('\\n')\n",
    "len(mrinf)"
   ]
  },
  {
   "cell_type": "code",
   "execution_count": null,
   "id": "3f01b6f9-eed6-44e2-89b0-dc5f3f295093",
   "metadata": {},
   "outputs": [],
   "source": [
    "mrinf_new = []\n",
    "for item in mrinf:\n",
    "    if mrinf != '':\n",
    "        temp = item.replace('>', '> ')\n",
    "        mrinf_new.append(temp)\n",
    "len(mrinf_new)"
   ]
  },
  {
   "cell_type": "code",
   "execution_count": null,
   "id": "74e005c7-39ef-4a4f-8101-a9b10ecf7028",
   "metadata": {},
   "outputs": [],
   "source": []
  },
  {
   "cell_type": "code",
   "execution_count": null,
   "id": "bd601fd4-5666-4d83-9fb2-e20ed263fac7",
   "metadata": {},
   "outputs": [],
   "source": [
    "outmerged = '/output_graphs/machine_read_merged_with_closure.nt'\n",
    "with open(outmerged, 'w') as fileo:\n",
    "    for gt1 in mr:\n",
    "        if gt1 != '':\n",
    "            fileo.write(gt1)\n",
    "            fileo.write('\\n')\n",
    "    for gt2 in mrinf_new:\n",
    "        if gt2 != '':\n",
    "            fileo.write(gt2)\n",
    "            fileo.write('\\n')\n",
    "fileo.close()\n",
    "filei.close()\n",
    "file2.close()"
   ]
  },
  {
   "cell_type": "code",
   "execution_count": null,
   "id": "af6305f1-02df-418b-bed9-af65f7a2d51e",
   "metadata": {},
   "outputs": [],
   "source": [
    "mr[-2]"
   ]
  }
 ],
 "metadata": {
  "kernelspec": {
   "display_name": "Python 3",
   "language": "python",
   "name": "python3"
  },
  "language_info": {
   "codemirror_mode": {
    "name": "ipython",
    "version": 3
   },
   "file_extension": ".py",
   "mimetype": "text/x-python",
   "name": "python",
   "nbconvert_exporter": "python",
   "pygments_lexer": "ipython3",
   "version": "3.6.13"
  }
 },
 "nbformat": 4,
 "nbformat_minor": 5
}
