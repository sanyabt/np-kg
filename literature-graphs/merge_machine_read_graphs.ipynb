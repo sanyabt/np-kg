{
 "cells": [
  {
   "cell_type": "markdown",
   "id": "399cb0ac-ee8b-4387-82b4-06ba0818fadc",
   "metadata": {},
   "source": [
    "### Notebook to merge machine read triples after extraction and processing from INDRA/REACH and SemRep"
   ]
  },
  {
   "cell_type": "code",
   "execution_count": 1,
   "id": "7b31f7b3-64a5-4cd1-b861-c37df7f56b68",
   "metadata": {},
   "outputs": [],
   "source": [
    "import pandas as pd\n",
    "import numpy as np\n",
    "import pickle\n",
    "from rdflib.namespace import OWL, RDF, RDFS\n",
    "import os\n",
    "import pickle, json\n",
    "\n",
    "#Create networkx graph from triples\n",
    "import glob\n",
    "import hashlib\n",
    "import json\n",
    "import networkx as nx  # type: ignore\n",
    "import os\n",
    "import os.path\n",
    "\n",
    "from collections import Counter  # type: ignore\n",
    "from more_itertools import unique_everseen  # type: ignore\n",
    "from rdflib import BNode, Graph, Literal, Namespace, URIRef  # type: ignore\n",
    "from rdflib.namespace import OWL, RDF, RDFS  # type: ignore\n",
    "from rdflib.plugins.serializers.nt import _quoteLiteral  # type: ignore\n",
    "import subprocess\n",
    "\n",
    "from tqdm import tqdm  # type: ignore\n",
    "from typing import Dict, List, Optional, Set, Tuple, Union"
   ]
  },
  {
   "cell_type": "code",
   "execution_count": 4,
   "id": "31a711e5-1d2c-4a7b-aec9-97350d0a1704",
   "metadata": {},
   "outputs": [],
   "source": [
    "##read in machine reading graphs\n",
    "g1 = '../literature_graphs/output_graphs/machineread_semrep_version1.nt'\n",
    "g2 = '../literature_graphs/output_graphs/machineread_reach_version1.nt'"
   ]
  },
  {
   "cell_type": "code",
   "execution_count": 2,
   "id": "b7bbe99f-10ac-40f8-afcc-b56ec056df8d",
   "metadata": {},
   "outputs": [],
   "source": [
    "#if merging ntriples - concatenate files\n",
    "#if merging gpickle - use nx.compose function. Also merge nodelabels and fix labels"
   ]
  },
  {
   "cell_type": "code",
   "execution_count": 5,
   "id": "6f045777-b151-43fd-9fdb-0fd8dee81300",
   "metadata": {},
   "outputs": [
    {
     "data": {
      "text/plain": [
       "list"
      ]
     },
     "execution_count": 5,
     "metadata": {},
     "output_type": "execute_result"
    }
   ],
   "source": [
    "with open(g1,'r') as file1:\n",
    "    g = file1.read()\n",
    "graph1 = g.split('\\n')\n",
    "type(graph1)"
   ]
  },
  {
   "cell_type": "code",
   "execution_count": 6,
   "id": "6525bebd-3073-4197-85dd-b928f311f1c1",
   "metadata": {},
   "outputs": [
    {
     "data": {
      "text/plain": [
       "'<http://purl.obolibrary.org/obo/CHEBI_28748> <http://purl.obolibrary.org/obo/RO_0002213> <http://purl.obolibrary.org/obo/CHEBI_9948> .'"
      ]
     },
     "execution_count": 6,
     "metadata": {},
     "output_type": "execute_result"
    }
   ],
   "source": [
    "graph1[0]"
   ]
  },
  {
   "cell_type": "code",
   "execution_count": 7,
   "id": "5a84afbc-9896-4754-bc3b-676c38b21bff",
   "metadata": {},
   "outputs": [
    {
     "data": {
      "text/plain": [
       "'<http://purl.obolibrary.org/obo/CHEBI_16057> <http://www.w3.org/2000/01/rdf-schema#label> \"Dimethylphenylpiperazinium_Iodide\" .'"
      ]
     },
     "execution_count": 7,
     "metadata": {},
     "output_type": "execute_result"
    }
   ],
   "source": [
    "with open(g2,'r') as file2:\n",
    "    g = file2.read()\n",
    "graph2 = g.split('\\n')\n",
    "graph2[0]"
   ]
  },
  {
   "cell_type": "code",
   "execution_count": 8,
   "id": "5d02ecd2-a71a-4a3b-9347-0cebe6b836b2",
   "metadata": {},
   "outputs": [
    {
     "name": "stdout",
     "output_type": "stream",
     "text": [
      "38141 47287\n"
     ]
    }
   ],
   "source": [
    "print(len(graph1), len(graph2))"
   ]
  },
  {
   "cell_type": "code",
   "execution_count": 9,
   "id": "b07c1b89-752a-4beb-b760-b8c019be7b26",
   "metadata": {},
   "outputs": [],
   "source": [
    "output_file = '../literature_graphs/output_graphs/machine_read_merged_v2.0.0.nt'"
   ]
  },
  {
   "cell_type": "code",
   "execution_count": 10,
   "id": "e80234b3-5406-48db-b4e9-3d0d9634a335",
   "metadata": {},
   "outputs": [],
   "source": [
    "with open(output_file, 'w') as fileo:\n",
    "    for gt1 in graph1:\n",
    "        fileo.write(gt1)\n",
    "        fileo.write('\\n')\n",
    "    for gt2 in graph2:\n",
    "        fileo.write(gt2)\n",
    "        fileo.write('\\n')\n",
    "file1.close()\n",
    "file2.close()\n",
    "fileo.close()"
   ]
  },
  {
   "cell_type": "code",
   "execution_count": 11,
   "id": "ff2da621-dd4c-4727-9927-d575d75e8555",
   "metadata": {},
   "outputs": [
    {
     "data": {
      "text/plain": [
       "85429"
      ]
     },
     "execution_count": 11,
     "metadata": {},
     "output_type": "execute_result"
    }
   ],
   "source": [
    "with open(output_file,'r') as filei:\n",
    "    g = filei.read()\n",
    "mr = g.split('\\n')\n",
    "len(mr)"
   ]
  },
  {
   "cell_type": "code",
   "execution_count": 13,
   "id": "5cf6f9ce-21d4-4f2e-a8a0-96653583292f",
   "metadata": {},
   "outputs": [
    {
     "data": {
      "text/plain": [
       "21633"
      ]
     },
     "execution_count": 13,
     "metadata": {},
     "output_type": "execute_result"
    }
   ],
   "source": [
    "inferred_file = '../literature_graphs/closure_output/inferred-transitive-and-symmetric.ntriples'\n",
    "with open(inferred_file,'r') as file2:\n",
    "    g2 = file2.read()\n",
    "mrinf = g2.split('\\n')\n",
    "len(mrinf)"
   ]
  },
  {
   "cell_type": "code",
   "execution_count": 14,
   "id": "95c33bb6-a3ce-413c-a6c4-d0e6b528dc78",
   "metadata": {},
   "outputs": [
    {
     "data": {
      "text/plain": [
       "'<http://purl.obolibrary.org/obo/CHEBI_28748> <http://purl.obolibrary.org/obo/RO_0002213> <http://purl.obolibrary.org/obo/CHEBI_9948> .'"
      ]
     },
     "execution_count": 14,
     "metadata": {},
     "output_type": "execute_result"
    }
   ],
   "source": [
    "mr[0]"
   ]
  },
  {
   "cell_type": "code",
   "execution_count": 15,
   "id": "3f01b6f9-eed6-44e2-89b0-dc5f3f295093",
   "metadata": {},
   "outputs": [
    {
     "data": {
      "text/plain": [
       "21633"
      ]
     },
     "execution_count": 15,
     "metadata": {},
     "output_type": "execute_result"
    }
   ],
   "source": [
    "mrinf_new = []\n",
    "for item in mrinf:\n",
    "    if mrinf != '':\n",
    "        temp = item.replace('>', '> ')\n",
    "        mrinf_new.append(temp)\n",
    "len(mrinf_new)"
   ]
  },
  {
   "cell_type": "code",
   "execution_count": null,
   "id": "74e005c7-39ef-4a4f-8101-a9b10ecf7028",
   "metadata": {},
   "outputs": [],
   "source": []
  },
  {
   "cell_type": "code",
   "execution_count": 16,
   "id": "bd601fd4-5666-4d83-9fb2-e20ed263fac7",
   "metadata": {},
   "outputs": [],
   "source": [
    "outmerged = '../literature_graphs/output_graphs/machine_read_merged_with_closure_v2.0.0.nt'\n",
    "with open(outmerged, 'w') as fileo:\n",
    "    for gt1 in mr:\n",
    "        if gt1 != '':\n",
    "            fileo.write(gt1)\n",
    "            fileo.write('\\n')\n",
    "    for gt2 in mrinf_new:\n",
    "        if gt2 != '':\n",
    "            fileo.write(gt2)\n",
    "            fileo.write('\\n')\n",
    "fileo.close()\n",
    "filei.close()\n",
    "file2.close()"
   ]
  },
  {
   "cell_type": "code",
   "execution_count": null,
   "id": "176476cd-ec0e-4c78-b606-c2fffbc4f5d5",
   "metadata": {},
   "outputs": [],
   "source": [
    "##all graphs merged -"
   ]
  },
  {
   "cell_type": "code",
   "execution_count": 17,
   "id": "f96918ff-0b90-479e-aa67-4acf0a510e9f",
   "metadata": {},
   "outputs": [
    {
     "data": {
      "text/plain": [
       "107057"
      ]
     },
     "execution_count": 17,
     "metadata": {},
     "output_type": "execute_result"
    }
   ],
   "source": [
    "outmerged = '../literature_graphs/output_graphs/machine_read_merged_with_closure_v2.0.0.nt'\n",
    "with open(outmerged,'r') as filei:\n",
    "    g = filei.read()\n",
    "mr = g.split('\\n')\n",
    "len(mr)"
   ]
  },
  {
   "cell_type": "code",
   "execution_count": 21,
   "id": "af6305f1-02df-418b-bed9-af65f7a2d51e",
   "metadata": {},
   "outputs": [
    {
     "data": {
      "text/plain": [
       "'<http://purl.obolibrary.org/obo/CHEBI_47519> <http://purl.obolibrary.org/ob'"
      ]
     },
     "execution_count": 21,
     "metadata": {},
     "output_type": "execute_result"
    }
   ],
   "source": [
    "mr[-2]"
   ]
  },
  {
   "cell_type": "code",
   "execution_count": 23,
   "id": "c9a7d9ab-b906-4c68-b526-57cc10f41adc",
   "metadata": {},
   "outputs": [],
   "source": [
    "outfile = '../literature_graphs/output_graphs/machine_read_merged_with_closure_v2.0.0.nt'\n",
    "with open(outfile,'w') as fileo:\n",
    "    for i in range(0, len(mr)-2):\n",
    "        fileo.write(mr[i])\n",
    "        fileo.write('\\n')\n",
    "fileo.close()"
   ]
  },
  {
   "cell_type": "code",
   "execution_count": 25,
   "id": "e32e5851-9d39-48f7-adf1-d03b10732e6d",
   "metadata": {},
   "outputs": [
    {
     "data": {
      "text/plain": [
       "'<http://purl.obolibrary.org/obo/CHEBI_47519> <http://purl.obolibrary.org/ob'"
      ]
     },
     "execution_count": 25,
     "metadata": {},
     "output_type": "execute_result"
    }
   ],
   "source": [
    "mr[-2]"
   ]
  },
  {
   "cell_type": "code",
   "execution_count": null,
   "id": "ffac3a69",
   "metadata": {},
   "outputs": [],
   "source": []
  },
  {
   "cell_type": "markdown",
   "id": "ea3ac5b4",
   "metadata": {},
   "source": [
    "#### Merge gpickle files"
   ]
  },
  {
   "cell_type": "code",
   "execution_count": 1,
   "id": "9fe8767e",
   "metadata": {},
   "outputs": [],
   "source": [
    "import networkx as nx\n",
    "g1 = nx.read_gpickle('../literature_graphs/output_graphs/machineread_semrep_version1.gpickle')\n",
    "g2 = nx.read_gpickle('../literature_graphs/output_graphs/machineread_reach_version1.gpickle')\n",
    "ginf = nx.read_gpickle('../literature_graphs/closure_output/machineread_inferred_symmetric_transitive.gpickle')"
   ]
  },
  {
   "cell_type": "code",
   "execution_count": 2,
   "id": "00f8c6c3",
   "metadata": {},
   "outputs": [
    {
     "name": "stdout",
     "output_type": "stream",
     "text": [
      "4288 6217 2174\n"
     ]
    }
   ],
   "source": [
    "print(len(g1), len(g2), len(ginf))"
   ]
  },
  {
   "cell_type": "code",
   "execution_count": 3,
   "id": "03b69790",
   "metadata": {},
   "outputs": [],
   "source": [
    "def get_stats(g):\n",
    "    nodes = nx.number_of_nodes(g)\n",
    "    edges = nx.number_of_edges(g)\n",
    "    density = nx.density(g)\n",
    "    avg_deg = float(edges)/nodes\n",
    "    print(nodes, edges, density, avg_deg)"
   ]
  },
  {
   "cell_type": "code",
   "execution_count": 4,
   "id": "0e0f99cd",
   "metadata": {},
   "outputs": [],
   "source": [
    "##compose graphs\n",
    "g3 = nx.compose(g1,g2)\n",
    "g_all = nx.compose(g3,ginf)"
   ]
  },
  {
   "cell_type": "code",
   "execution_count": 33,
   "id": "5535b0f9",
   "metadata": {},
   "outputs": [
    {
     "name": "stdout",
     "output_type": "stream",
     "text": [
      "SemRep graph\n",
      "4288 33594 0.0018274834713764975 7.834421641791045\n",
      "Reach graph\n",
      "6217 40245 0.0010414059593728245 6.473379443461477\n",
      "Inferred graph\n",
      "2174 18450 0.003905504157192203 8.486660533578657\n",
      "Combined graphs\n",
      "8782 84569 0.0010966645002845241 9.629810976998407\n"
     ]
    }
   ],
   "source": [
    "print('SemRep graph')\n",
    "get_stats(g1)\n",
    "print('Reach graph')\n",
    "get_stats(g2)\n",
    "print('Inferred graph')\n",
    "get_stats(ginf)\n",
    "print('Combined graphs')\n",
    "get_stats(g_all)"
   ]
  },
  {
   "cell_type": "code",
   "execution_count": 5,
   "id": "8198d28d",
   "metadata": {},
   "outputs": [],
   "source": [
    "##save graph\n",
    "nx.write_gpickle(g_all, '../literature_graphs/output_graphs/machine_read_merged_v2.0.0.gpickle')"
   ]
  },
  {
   "cell_type": "markdown",
   "id": "9c17c666",
   "metadata": {},
   "source": [
    "### Merge nodelabels for reach and semrep"
   ]
  },
  {
   "cell_type": "code",
   "execution_count": 2,
   "id": "587c63ea",
   "metadata": {},
   "outputs": [
    {
     "data": {
      "text/plain": [
       "1"
      ]
     },
     "execution_count": 2,
     "metadata": {},
     "output_type": "execute_result"
    }
   ],
   "source": [
    "import json\n",
    "with open('ro.json', 'r') as file:\n",
    "    ro = json.load(file)\n",
    "len(ro)"
   ]
  },
  {
   "cell_type": "code",
   "execution_count": 17,
   "id": "6bd5d78b",
   "metadata": {},
   "outputs": [
    {
     "data": {
      "text/plain": [
       "767"
      ]
     },
     "execution_count": 17,
     "metadata": {},
     "output_type": "execute_result"
    }
   ],
   "source": [
    "relation_labels = {}\n",
    "for node in ro['graphs'][0]['nodes']:\n",
    "    try:\n",
    "        if 'lbl' in node.keys():\n",
    "            relation_labels[node['id']] = node['lbl']\n",
    "    except:\n",
    "        print(node)\n",
    "        break\n",
    "len(relation_labels)"
   ]
  },
  {
   "cell_type": "code",
   "execution_count": 21,
   "id": "ee03ff4d",
   "metadata": {},
   "outputs": [
    {
     "data": {
      "text/plain": [
       "'interacts with'"
      ]
     },
     "execution_count": 21,
     "metadata": {},
     "output_type": "execute_result"
    }
   ],
   "source": [
    "relation_labels['http://purl.obolibrary.org/obo/RO_0002434']"
   ]
  },
  {
   "cell_type": "code",
   "execution_count": 22,
   "id": "f35db984",
   "metadata": {},
   "outputs": [],
   "source": [
    "import pickle"
   ]
  },
  {
   "cell_type": "code",
   "execution_count": 23,
   "id": "dbc47e1f",
   "metadata": {},
   "outputs": [],
   "source": [
    "nodelabels_sem = '../literature_graphs/output_graphs/machineread_semrep_NodeLabels.pickle'\n",
    "nodelabels_r = '../literature_graphs/output_graphs/reach_version1_NodeLabels.pickle'"
   ]
  },
  {
   "cell_type": "code",
   "execution_count": 24,
   "id": "79410455",
   "metadata": {},
   "outputs": [
    {
     "data": {
      "text/plain": [
       "4304"
      ]
     },
     "execution_count": 24,
     "metadata": {},
     "output_type": "execute_result"
    }
   ],
   "source": [
    "with open(nodelabels_sem, 'rb') as filep1:\n",
    "    sem_labels = pickle.load(filep1)\n",
    "len(sem_labels)"
   ]
  },
  {
   "cell_type": "code",
   "execution_count": 25,
   "id": "ee67d6ea",
   "metadata": {},
   "outputs": [
    {
     "data": {
      "text/plain": [
       "6230"
      ]
     },
     "execution_count": 25,
     "metadata": {},
     "output_type": "execute_result"
    }
   ],
   "source": [
    "with open(nodelabels_r, 'rb') as filep2:\n",
    "    r_labels = pickle.load(filep2)\n",
    "len(r_labels)"
   ]
  },
  {
   "cell_type": "code",
   "execution_count": 26,
   "id": "5c7cc8e8",
   "metadata": {},
   "outputs": [
    {
     "data": {
      "text/plain": [
       "8758"
      ]
     },
     "execution_count": 26,
     "metadata": {},
     "output_type": "execute_result"
    }
   ],
   "source": [
    "##combine labels\n",
    "all_labels = {**sem_labels, **r_labels}\n",
    "len(all_labels)"
   ]
  },
  {
   "cell_type": "code",
   "execution_count": 27,
   "id": "14a8a376",
   "metadata": {},
   "outputs": [
    {
     "data": {
      "text/plain": [
       "8758"
      ]
     },
     "execution_count": 27,
     "metadata": {},
     "output_type": "execute_result"
    }
   ],
   "source": [
    "##fix labels of relations using relation_labels\n",
    "for key in all_labels:\n",
    "    if key in relation_labels.keys():\n",
    "        all_labels[key]['label'] = relation_labels[key]\n",
    "len(all_labels)"
   ]
  },
  {
   "cell_type": "code",
   "execution_count": 30,
   "id": "64963b28",
   "metadata": {},
   "outputs": [
    {
     "data": {
      "text/plain": [
       "{'entity_type': 'RELATIONS', 'label': 'directly regulates activity of'}"
      ]
     },
     "execution_count": 30,
     "metadata": {},
     "output_type": "execute_result"
    }
   ],
   "source": [
    "all_labels['http://purl.obolibrary.org/obo/RO_0002448']"
   ]
  },
  {
   "cell_type": "code",
   "execution_count": 31,
   "id": "a904d8e8",
   "metadata": {},
   "outputs": [],
   "source": [
    "##save labels\n",
    "with open('../literature_graphs/output_graphs/machine_read_merged_20230423_NodeLabels.pickle', 'wb') as filep:\n",
    "    pickle.dump(all_labels, filep)"
   ]
  },
  {
   "cell_type": "code",
   "execution_count": null,
   "id": "68596deb-4a8f-4462-b167-b42165696f10",
   "metadata": {},
   "outputs": [],
   "source": []
  },
  {
   "cell_type": "code",
   "execution_count": null,
   "id": "de62c9ee-de24-4897-8e6f-52c70ef77175",
   "metadata": {},
   "outputs": [],
   "source": []
  },
  {
   "cell_type": "code",
   "execution_count": 69,
   "id": "0ca3594d-92b5-4d66-847d-16afd0845027",
   "metadata": {},
   "outputs": [
    {
     "data": {
      "text/plain": [
       "'26692748_ascii.txt.tx.4 However,  the  IC50  values  for the mitragynine and 7-hydroxymitragynine could not be determined  accurately  since  their  inhibitions  on  4-MU glucuronidation were <50%.4-MU glucuronidation was reduced by 7-hydroxymitragynine ranged from 6% +/- 2% to 46% +/- 1% and mitragynine ranged from 14% +/- 4% to 40% +/- 5% at concentrations of 0.01-100 uM [Figure 2].'"
      ]
     },
     "execution_count": 69,
     "metadata": {},
     "output_type": "execute_result"
    }
   ],
   "source": [
    "sem.loc[(sem['subject_obo'] == 'http://purl.obolibrary.org/obo/CHEBI_180536')]['source_text'][139612]"
   ]
  },
  {
   "cell_type": "code",
   "execution_count": null,
   "id": "5c4fe14c-a41c-4868-aa07-5461382713a2",
   "metadata": {},
   "outputs": [],
   "source": []
  }
 ],
 "metadata": {
  "kernelspec": {
   "display_name": "Python 3.8.0 ('kg-embed')",
   "language": "python",
   "name": "python3"
  },
  "language_info": {
   "codemirror_mode": {
    "name": "ipython",
    "version": 3
   },
   "file_extension": ".py",
   "mimetype": "text/x-python",
   "name": "python",
   "nbconvert_exporter": "python",
   "pygments_lexer": "ipython3",
   "version": "3.8.0"
  },
  "vscode": {
   "interpreter": {
    "hash": "96e4f617bfd8d41f7b09e4ea5db07380f9a5a2c21add6996766b0d6e42ab68c1"
   }
  }
 },
 "nbformat": 4,
 "nbformat_minor": 5
}
