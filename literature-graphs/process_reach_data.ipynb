{
 "cells": [
  {
   "cell_type": "markdown",
   "metadata": {},
   "source": [
    "## Notebook to process all INDRA/REACH output\n",
    "\n",
    "Steps:\n",
    "1. Input all predications (after JSON extraction and CUI mapping) from reach_data/\n",
    "2. Preprocess data\n",
    "3. Mapping to CURIEs\n",
    "4. Add prefixes \n",
    "5. Create RDF and Networkx graph\n",
    "\n",
    "TODO:\n",
    "1. NER on unmapped for all data\n",
    "2. Metadata dict/file separate from graph"
   ]
  },
  {
   "cell_type": "code",
   "execution_count": 25,
   "metadata": {},
   "outputs": [],
   "source": [
    "import pandas as pd\n",
    "# import built-in namespaces\n",
    "from rdflib.namespace import OWL, RDF, RDFS\n",
    "import numpy as np\n",
    "import os\n",
    "import pickle"
   ]
  },
  {
   "cell_type": "markdown",
   "metadata": {},
   "source": [
    "### Input data and save counts"
   ]
  },
  {
   "cell_type": "code",
   "execution_count": 2,
   "metadata": {},
   "outputs": [
    {
     "name": "stdout",
     "output_type": "stream",
     "text": [
      "<class 'pandas.core.frame.DataFrame'>\n",
      "RangeIndex: 63640 entries, 0 to 63639\n",
      "Data columns (total 24 columns):\n",
      " #   Column                Non-Null Count  Dtype  \n",
      "---  ------                --------------  -----  \n",
      " 0   seq                   63640 non-null  int64  \n",
      " 1   pmid                  63640 non-null  int64  \n",
      " 2   subject_cui           55344 non-null  object \n",
      " 3   subject_name          55344 non-null  object \n",
      " 4   subject_type          55344 non-null  object \n",
      " 5   subject_source        63403 non-null  object \n",
      " 6   subj_map_reach        63516 non-null  object \n",
      " 7   predicate             63640 non-null  object \n",
      " 8   object_source         63538 non-null  object \n",
      " 9   object_cui            56717 non-null  object \n",
      " 10  object_name           56717 non-null  object \n",
      " 11  object_type           56717 non-null  object \n",
      " 12  obj_map_reach         63640 non-null  object \n",
      " 13  belief                63640 non-null  float64\n",
      " 14  sentence              63640 non-null  object \n",
      " 15  year                  63640 non-null  object \n",
      " 16  subject_score         55344 non-null  float64\n",
      " 17  object_score          56717 non-null  float64\n",
      " 18  umls_flag             63640 non-null  int64  \n",
      " 19  subj_reach_grounding  63516 non-null  object \n",
      " 20  obj_reach_grounding   63640 non-null  object \n",
      " 21  pub_type              63640 non-null  object \n",
      " 22  source_section        2034 non-null   object \n",
      " 23  related_common_name   63640 non-null  object \n",
      "dtypes: float64(3), int64(3), object(18)\n",
      "memory usage: 11.7+ MB\n"
     ]
    }
   ],
   "source": [
    "##input all TSV files from reach_data folder as pandas dataframes\n",
    "# get all files in the folder\n",
    "files = os.listdir('reach_data')\n",
    "df = pd.DataFrame()\n",
    "# get only the tsv files\n",
    "tsv_files = [file for file in files if file.endswith('.tsv')]\n",
    "for filename in tsv_files:\n",
    "    # read the file as a pandas dataframe\n",
    "    dfnp = pd.read_csv('reach_data/' + filename, sep='\\t')\n",
    "    # get the name of the file without the extension\n",
    "    dfnp['related_common_name'] = filename.split('_')[0]\n",
    "    dfnp = dfnp.drop_duplicates()\n",
    "    df = pd.concat([df, dfnp], ignore_index=True)\n",
    "df = df.drop_duplicates()\n",
    "df = df.reset_index(drop=True)\n",
    "df.info()\n"
   ]
  },
  {
   "cell_type": "code",
   "execution_count": 5,
   "metadata": {},
   "outputs": [],
   "source": [
    "def save_data_statistics(df):\n",
    "    nps = df['related_common_name'].unique()\n",
    "    info = {\n",
    "        'related_common_name': [],\n",
    "        'PMIDs': [],\n",
    "        'statements': []\n",
    "    }\n",
    "    for np_name in nps:\n",
    "        dfnp = df.loc[df['related_common_name'] == np_name]\n",
    "        info['related_common_name'].append(np_name)\n",
    "        info['PMIDs'].append(len(dfnp['pmid'].unique()))\n",
    "        info['statements'].append(len(dfnp))\n",
    "    df_stats = pd.DataFrame.from_dict(info)\n",
    "    df_stats.to_csv('reach_data/reach_data_statistics.tsv', sep='\\t', index=False)"
   ]
  },
  {
   "cell_type": "code",
   "execution_count": 6,
   "metadata": {},
   "outputs": [
    {
     "data": {
      "text/html": [
       "<div>\n",
       "<style scoped>\n",
       "    .dataframe tbody tr th:only-of-type {\n",
       "        vertical-align: middle;\n",
       "    }\n",
       "\n",
       "    .dataframe tbody tr th {\n",
       "        vertical-align: top;\n",
       "    }\n",
       "\n",
       "    .dataframe thead th {\n",
       "        text-align: right;\n",
       "    }\n",
       "</style>\n",
       "<table border=\"1\" class=\"dataframe\">\n",
       "  <thead>\n",
       "    <tr style=\"text-align: right;\">\n",
       "      <th></th>\n",
       "      <th>seq</th>\n",
       "      <th>pmid</th>\n",
       "      <th>subject_cui</th>\n",
       "      <th>subject_name</th>\n",
       "      <th>subject_type</th>\n",
       "      <th>subject_source</th>\n",
       "      <th>subj_map_reach</th>\n",
       "      <th>predicate</th>\n",
       "      <th>object_source</th>\n",
       "      <th>object_cui</th>\n",
       "      <th>...</th>\n",
       "      <th>sentence</th>\n",
       "      <th>year</th>\n",
       "      <th>subject_score</th>\n",
       "      <th>object_score</th>\n",
       "      <th>umls_flag</th>\n",
       "      <th>subj_reach_grounding</th>\n",
       "      <th>obj_reach_grounding</th>\n",
       "      <th>pub_type</th>\n",
       "      <th>source_section</th>\n",
       "      <th>related_common_name</th>\n",
       "    </tr>\n",
       "  </thead>\n",
       "  <tbody>\n",
       "    <tr>\n",
       "      <th>0</th>\n",
       "      <td>0</td>\n",
       "      <td>23674609</td>\n",
       "      <td></td>\n",
       "      <td></td>\n",
       "      <td></td>\n",
       "      <td>A-792611</td>\n",
       "      <td>{'TEXT': 'A-792611'}</td>\n",
       "      <td>Activation</td>\n",
       "      <td>CYP3A4</td>\n",
       "      <td>C3714798</td>\n",
       "      <td>...</td>\n",
       "      <td>Compared with the 32 and 49% inhibition of CYP...</td>\n",
       "      <td>2013 Aug</td>\n",
       "      <td></td>\n",
       "      <td>27.26</td>\n",
       "      <td>1</td>\n",
       "      <td>(None, None)</td>\n",
       "      <td>('HGNC', '2637')</td>\n",
       "      <td>['Journal Article']</td>\n",
       "      <td></td>\n",
       "      <td>valerian</td>\n",
       "    </tr>\n",
       "    <tr>\n",
       "      <th>1</th>\n",
       "      <td>1</td>\n",
       "      <td>17910620</td>\n",
       "      <td>C0057223</td>\n",
       "      <td>Cytochrome_P-450_CYP2D6</td>\n",
       "      <td>['aapp', 'enzy']</td>\n",
       "      <td>CYP2D6- IC</td>\n",
       "      <td>{'TEXT': 'CYP2D6- IC'}</td>\n",
       "      <td>Activation</td>\n",
       "      <td>metabolic process</td>\n",
       "      <td>C0025520</td>\n",
       "      <td>...</td>\n",
       "      <td>St. John’s wort inhibited CYP2D6- IC mediated ...</td>\n",
       "      <td>2007 Nov</td>\n",
       "      <td>25.58</td>\n",
       "      <td>14.64</td>\n",
       "      <td>1</td>\n",
       "      <td>(None, None)</td>\n",
       "      <td>('GO', 'GO:0008152')</td>\n",
       "      <td>['Journal Article']</td>\n",
       "      <td></td>\n",
       "      <td>valerian</td>\n",
       "    </tr>\n",
       "    <tr>\n",
       "      <th>2</th>\n",
       "      <td>2</td>\n",
       "      <td>33932511</td>\n",
       "      <td></td>\n",
       "      <td></td>\n",
       "      <td></td>\n",
       "      <td>HPG</td>\n",
       "      <td>{'TEXT': 'HPG'}</td>\n",
       "      <td>Activation</td>\n",
       "      <td>papF</td>\n",
       "      <td>C0030428</td>\n",
       "      <td>...</td>\n",
       "      <td>10 μM, 30 μM, and 50 μM of HPG caused outward ...</td>\n",
       "      <td>2021 Aug 10</td>\n",
       "      <td></td>\n",
       "      <td>12.96</td>\n",
       "      <td>1</td>\n",
       "      <td>(None, None)</td>\n",
       "      <td>('UP', 'P08408')</td>\n",
       "      <td>['Journal Article']</td>\n",
       "      <td></td>\n",
       "      <td>valerian</td>\n",
       "    </tr>\n",
       "    <tr>\n",
       "      <th>3</th>\n",
       "      <td>3</td>\n",
       "      <td>18331390</td>\n",
       "      <td>C3898062</td>\n",
       "      <td>P-glycoprotein_Inhibitor</td>\n",
       "      <td>['chvf']</td>\n",
       "      <td>P-gp  inhibitor</td>\n",
       "      <td>{'TEXT': 'P-gp  inhibitor'}</td>\n",
       "      <td>Activation</td>\n",
       "      <td>digoxin</td>\n",
       "      <td>C0012265</td>\n",
       "      <td>...</td>\n",
       "      <td>Verapamil, the classical P-gp  inhibitor,  dec...</td>\n",
       "      <td>2008 May</td>\n",
       "      <td>5.18</td>\n",
       "      <td>27.26</td>\n",
       "      <td>1</td>\n",
       "      <td>(None, None)</td>\n",
       "      <td>('CHEBI', 'CHEBI:4551')</td>\n",
       "      <td>['Journal Article']</td>\n",
       "      <td></td>\n",
       "      <td>valerian</td>\n",
       "    </tr>\n",
       "    <tr>\n",
       "      <th>4</th>\n",
       "      <td>4</td>\n",
       "      <td>18331390</td>\n",
       "      <td>C3898062</td>\n",
       "      <td>P-glycoprotein_Inhibitor</td>\n",
       "      <td>['chvf']</td>\n",
       "      <td>P-gp  inhibitor</td>\n",
       "      <td>{'TEXT': 'P-gp  inhibitor'}</td>\n",
       "      <td>Activation</td>\n",
       "      <td>transport</td>\n",
       "      <td>C0005528</td>\n",
       "      <td>...</td>\n",
       "      <td>Verapamil, the classical P-gp  inhibitor,  dec...</td>\n",
       "      <td>2008 May</td>\n",
       "      <td>5.18</td>\n",
       "      <td>8.34</td>\n",
       "      <td>1</td>\n",
       "      <td>(None, None)</td>\n",
       "      <td>('GO', 'GO:0006810')</td>\n",
       "      <td>['Journal Article']</td>\n",
       "      <td></td>\n",
       "      <td>valerian</td>\n",
       "    </tr>\n",
       "  </tbody>\n",
       "</table>\n",
       "<p>5 rows × 24 columns</p>\n",
       "</div>"
      ],
      "text/plain": [
       "   seq      pmid subject_cui              subject_name      subject_type  \\\n",
       "0    0  23674609                                                           \n",
       "1    1  17910620    C0057223   Cytochrome_P-450_CYP2D6  ['aapp', 'enzy']   \n",
       "2    2  33932511                                                           \n",
       "3    3  18331390    C3898062  P-glycoprotein_Inhibitor          ['chvf']   \n",
       "4    4  18331390    C3898062  P-glycoprotein_Inhibitor          ['chvf']   \n",
       "\n",
       "    subject_source               subj_map_reach   predicate  \\\n",
       "0         A-792611         {'TEXT': 'A-792611'}  Activation   \n",
       "1       CYP2D6- IC       {'TEXT': 'CYP2D6- IC'}  Activation   \n",
       "2              HPG              {'TEXT': 'HPG'}  Activation   \n",
       "3  P-gp  inhibitor  {'TEXT': 'P-gp  inhibitor'}  Activation   \n",
       "4  P-gp  inhibitor  {'TEXT': 'P-gp  inhibitor'}  Activation   \n",
       "\n",
       "       object_source object_cui  ...  \\\n",
       "0             CYP3A4   C3714798  ...   \n",
       "1  metabolic process   C0025520  ...   \n",
       "2               papF   C0030428  ...   \n",
       "3            digoxin   C0012265  ...   \n",
       "4          transport   C0005528  ...   \n",
       "\n",
       "                                            sentence         year  \\\n",
       "0  Compared with the 32 and 49% inhibition of CYP...     2013 Aug   \n",
       "1  St. John’s wort inhibited CYP2D6- IC mediated ...     2007 Nov   \n",
       "2  10 μM, 30 μM, and 50 μM of HPG caused outward ...  2021 Aug 10   \n",
       "3  Verapamil, the classical P-gp  inhibitor,  dec...     2008 May   \n",
       "4  Verapamil, the classical P-gp  inhibitor,  dec...     2008 May   \n",
       "\n",
       "  subject_score  object_score umls_flag subj_reach_grounding  \\\n",
       "0                       27.26         1         (None, None)   \n",
       "1         25.58         14.64         1         (None, None)   \n",
       "2                       12.96         1         (None, None)   \n",
       "3          5.18         27.26         1         (None, None)   \n",
       "4          5.18          8.34         1         (None, None)   \n",
       "\n",
       "       obj_reach_grounding             pub_type  source_section  \\\n",
       "0         ('HGNC', '2637')  ['Journal Article']                   \n",
       "1     ('GO', 'GO:0008152')  ['Journal Article']                   \n",
       "2         ('UP', 'P08408')  ['Journal Article']                   \n",
       "3  ('CHEBI', 'CHEBI:4551')  ['Journal Article']                   \n",
       "4     ('GO', 'GO:0006810')  ['Journal Article']                   \n",
       "\n",
       "  related_common_name  \n",
       "0            valerian  \n",
       "1            valerian  \n",
       "2            valerian  \n",
       "3            valerian  \n",
       "4            valerian  \n",
       "\n",
       "[5 rows x 24 columns]"
      ]
     },
     "execution_count": 6,
     "metadata": {},
     "output_type": "execute_result"
    }
   ],
   "source": [
    "df = df.fillna('')\n",
    "save_data_statistics(df)\n",
    "df.head()"
   ]
  },
  {
   "cell_type": "markdown",
   "metadata": {},
   "source": [
    "### Mappings \n",
    "1. REACH existing mappings\n",
    "2. HPO and GO mappings\n",
    "3. Existing OntoRunNER\n",
    "4. New Gilda and OntoRunNER"
   ]
  },
  {
   "cell_type": "code",
   "execution_count": 7,
   "metadata": {},
   "outputs": [],
   "source": [
    "#fixes reach mappings to OBO (if available) and adds text if no mapping or blank name of entity\n",
    "for i in range(len(df.index)):\n",
    "    subj_ground = df.at[i, 'subj_reach_grounding']\n",
    "    obj_ground = df.at[i, 'obj_reach_grounding']\n",
    "    subj_map = df.at[i, 'subj_map_reach']\n",
    "    obj_map = df.at[i, 'obj_map_reach']\n",
    "    if subj_ground == '(None, None)' or subj_ground == np.nan:\n",
    "        temp = subj_map.split(',')\n",
    "        if 'GO' in subj_map or 'CHEBI' in subj_map:\n",
    "            for item in temp:\n",
    "                if 'GO' in item or 'CHEBI' in item:\n",
    "                    df.at[i, 'subj_reach_grounding'] = item\n",
    "        elif 'UP' in subj_map:\n",
    "            for item in temp:\n",
    "                if 'UP' in item:\n",
    "                    df.at[i, 'subj_reach_grounding'] = item\n",
    "        elif 'TEXT' in subj_map:\n",
    "            if df.at[i, 'subject_source'] == '':\n",
    "                for item in temp:\n",
    "                    if 'TEXT' in item:\n",
    "                        df.at[i, 'subject_source'] = item.split(':')[-1]\n",
    "    elif 'GO' not in subj_ground and 'CHEBI' not in subj_ground and 'UP' not in subj_ground:\n",
    "        temp = subj_map.split(',')\n",
    "        if 'GO' in subj_map or 'CHEBI' in subj_map:\n",
    "            for item in temp:\n",
    "                if 'GO' in item or 'CHEBI' in item:\n",
    "                    df.at[i, 'subj_reach_grounding'] = item\n",
    "        elif 'UP' in subj_map:\n",
    "            for item in temp:\n",
    "                if 'UP' in item:\n",
    "                    df.at[i, 'subj_reach_grounding'] = item\n",
    "        elif 'TEXT' in subj_map:\n",
    "            if df.at[i, 'subject_source'] == '':\n",
    "                for item in temp:\n",
    "                    if 'TEXT' in item:\n",
    "                        df.at[i, 'subject_source'] = item.split(':')[-1]\n",
    "    \n",
    "    #same for object mapping\n",
    "    if obj_ground == '(None, None)' or obj_ground == np.nan:\n",
    "        temp = obj_map.split(',')\n",
    "        if 'GO' in obj_map or 'CHEBI' in obj_map:\n",
    "            for item in temp:\n",
    "                if 'GO' in item or 'CHEBI' in item:\n",
    "                    df.at[i, 'obj_reach_grounding'] = item\n",
    "        elif 'UP' in obj_map:\n",
    "            for item in temp:\n",
    "                if 'UP' in item:\n",
    "                    df.at[i, 'obj_reach_grounding'] = item\n",
    "        elif 'TEXT' in obj_map:\n",
    "            if df.at[i, 'object_source'] == '':\n",
    "                for item in temp:\n",
    "                    if 'TEXT' in item:\n",
    "                        df.at[i, 'object_source'] = item.split(':')[-1]\n",
    "    elif 'GO' not in obj_ground and 'CHEBI' not in obj_ground and 'UP' not in obj_ground:\n",
    "        temp = obj_map.split(',')\n",
    "        if 'GO' in obj_map or 'CHEBI' in obj_map:\n",
    "            for item in temp:\n",
    "                if 'GO' in item or 'CHEBI' in item:\n",
    "                    df.at[i, 'obj_reach_grounding'] = item\n",
    "        elif 'UP' in obj_map:\n",
    "            for item in temp:\n",
    "                if 'UP' in item:\n",
    "                    df.at[i, 'obj_reach_grounding'] = item\n",
    "        elif 'TEXT' in obj_map:\n",
    "            if df.at[i, 'object_source'] == '':\n",
    "                for item in temp:\n",
    "                    if 'TEXT' in item:\n",
    "                        df.at[i, 'object_source'] = item.split(':')[-1]"
   ]
  },
  {
   "cell_type": "code",
   "execution_count": 8,
   "metadata": {},
   "outputs": [
    {
     "name": "stdout",
     "output_type": "stream",
     "text": [
      "<class 'pandas.core.frame.DataFrame'>\n",
      "RangeIndex: 63640 entries, 0 to 63639\n",
      "Data columns (total 16 columns):\n",
      " #   Column                Non-Null Count  Dtype  \n",
      "---  ------                --------------  -----  \n",
      " 0   related_common_name   63640 non-null  object \n",
      " 1   subject_cui           63640 non-null  object \n",
      " 2   subject_name          63640 non-null  object \n",
      " 3   subject_source        63640 non-null  object \n",
      " 4   predicate             63640 non-null  object \n",
      " 5   object_source         63640 non-null  object \n",
      " 6   object_cui            63640 non-null  object \n",
      " 7   object_name           63640 non-null  object \n",
      " 8   subj_reach_grounding  63640 non-null  object \n",
      " 9   obj_reach_grounding   63640 non-null  object \n",
      " 10  pmid                  63640 non-null  int64  \n",
      " 11  year                  63640 non-null  object \n",
      " 12  belief                63640 non-null  float64\n",
      " 13  sentence              63640 non-null  object \n",
      " 14  pub_type              63640 non-null  object \n",
      " 15  source_section        63640 non-null  object \n",
      "dtypes: float64(1), int64(1), object(14)\n",
      "memory usage: 7.8+ MB\n"
     ]
    }
   ],
   "source": [
    "df = df[['related_common_name', 'subject_cui', 'subject_name', 'subject_source', 'predicate', 'object_source',\n",
    "       'object_cui', 'object_name', 'subj_reach_grounding', 'obj_reach_grounding', 'pmid', \n",
    "           'year', 'belief', 'sentence', 'pub_type', 'source_section']]\n",
    "df.info()"
   ]
  },
  {
   "cell_type": "code",
   "execution_count": 9,
   "metadata": {},
   "outputs": [],
   "source": [
    "df['predicate_obo'] = None\n",
    "df['subject_obo'] = None\n",
    "df['object_obo'] = None"
   ]
  },
  {
   "cell_type": "code",
   "execution_count": 10,
   "metadata": {},
   "outputs": [
    {
     "name": "stdout",
     "output_type": "stream",
     "text": [
      "12560\n"
     ]
    }
   ],
   "source": [
    "#map cui to reach grounding\n",
    "reach_grounding_dict = {}\n",
    "for i in range(len(df.index)):\n",
    "    sub_cui = df.at[i, 'subject_cui']\n",
    "    sub_source = df.at[i, 'subject_source']\n",
    "    obj_cui = df.at[i, 'object_cui']\n",
    "    obj_source = df.at[i, 'object_source']\n",
    "    sub_ground = df.at[i, 'subj_reach_grounding']\n",
    "    obj_ground = df.at[i, 'obj_reach_grounding']\n",
    "    sub_key = i\n",
    "    obj_key = i\n",
    "    if sub_cui != '':\n",
    "        sub_key = sub_cui\n",
    "    elif sub_source != '':\n",
    "        sub_key = sub_source\n",
    "    if obj_cui != '':\n",
    "        obj_key = obj_cui\n",
    "    elif obj_source != '':\n",
    "        obj_key = obj_source\n",
    "    if sub_key not in reach_grounding_dict:\n",
    "        reach_grounding_dict[sub_key] = []\n",
    "    if obj_key not in reach_grounding_dict:\n",
    "        reach_grounding_dict[obj_key] = []\n",
    "    if sub_ground != np.nan:\n",
    "        if 'CHEBI' in sub_ground or 'GO' in sub_ground:\n",
    "            subject_map = sub_ground.split(\"'\")[-2]\n",
    "            subject_map = subject_map.replace(':', '_')\n",
    "            reach_grounding_dict[sub_key].append(subject_map)\n",
    "        elif 'UP' in sub_ground:\n",
    "            subject_map = sub_ground.split(\"'\")[-2]\n",
    "            subject_map = 'PR_' + subject_map\n",
    "            reach_grounding_dict[sub_key].append(subject_map)\n",
    "    if obj_ground != np.nan:\n",
    "        if 'CHEBI' in obj_ground or 'GO' in obj_ground:\n",
    "            object_map = obj_ground.split(\"'\")[-2]\n",
    "            object_map = object_map.replace(':', '_')\n",
    "            reach_grounding_dict[obj_key].append(object_map)\n",
    "        elif 'UP' in obj_ground:\n",
    "            object_map = obj_ground.split(\"'\")[-2]\n",
    "            object_map = 'PR_' + object_map\n",
    "            reach_grounding_dict[obj_key].append(object_map)\n",
    "print(len(reach_grounding_dict))"
   ]
  },
  {
   "cell_type": "code",
   "execution_count": 13,
   "metadata": {},
   "outputs": [
    {
     "data": {
      "text/html": [
       "<div>\n",
       "<style scoped>\n",
       "    .dataframe tbody tr th:only-of-type {\n",
       "        vertical-align: middle;\n",
       "    }\n",
       "\n",
       "    .dataframe tbody tr th {\n",
       "        vertical-align: top;\n",
       "    }\n",
       "\n",
       "    .dataframe thead th {\n",
       "        text-align: right;\n",
       "    }\n",
       "</style>\n",
       "<table border=\"1\" class=\"dataframe\">\n",
       "  <thead>\n",
       "    <tr style=\"text-align: right;\">\n",
       "      <th></th>\n",
       "      <th>constituent_name</th>\n",
       "      <th>URI</th>\n",
       "    </tr>\n",
       "  </thead>\n",
       "  <tbody>\n",
       "    <tr>\n",
       "      <th>0</th>\n",
       "      <td>12beta-acetoxycimigenol 3-o-beta-d-xylopyranoside</td>\n",
       "      <td>http://napdi.org/napdi_srs_imports:12beta_acet...</td>\n",
       "    </tr>\n",
       "    <tr>\n",
       "      <th>1</th>\n",
       "      <td>2'-o-acetylactein</td>\n",
       "      <td>http://napdi.org/napdi_srs_imports:2_o_acetyla...</td>\n",
       "    </tr>\n",
       "    <tr>\n",
       "      <th>2</th>\n",
       "      <td>2'-o-acetylcimicifugoside h1</td>\n",
       "      <td>http://napdi.org/napdi_srs_imports:2_o_acetylc...</td>\n",
       "    </tr>\n",
       "    <tr>\n",
       "      <th>3</th>\n",
       "      <td>23-o-acetylshengmanol</td>\n",
       "      <td>http://napdi.org/napdi_srs_imports:23_o_acetyl...</td>\n",
       "    </tr>\n",
       "    <tr>\n",
       "      <th>4</th>\n",
       "      <td>23-o-acetylshengmanol-3-o-alpha-l-arabinoside</td>\n",
       "      <td>http://napdi.org/napdi_srs_imports:23_o_acetyl...</td>\n",
       "    </tr>\n",
       "  </tbody>\n",
       "</table>\n",
       "</div>"
      ],
      "text/plain": [
       "                                    constituent_name  \\\n",
       "0  12beta-acetoxycimigenol 3-o-beta-d-xylopyranoside   \n",
       "1                                  2'-o-acetylactein   \n",
       "2                       2'-o-acetylcimicifugoside h1   \n",
       "3                              23-o-acetylshengmanol   \n",
       "4      23-o-acetylshengmanol-3-o-alpha-l-arabinoside   \n",
       "\n",
       "                                                 URI  \n",
       "0  http://napdi.org/napdi_srs_imports:12beta_acet...  \n",
       "1  http://napdi.org/napdi_srs_imports:2_o_acetyla...  \n",
       "2  http://napdi.org/napdi_srs_imports:2_o_acetylc...  \n",
       "3  http://napdi.org/napdi_srs_imports:23_o_acetyl...  \n",
       "4  http://napdi.org/napdi_srs_imports:23_o_acetyl...  "
      ]
     },
     "execution_count": 13,
     "metadata": {},
     "output_type": "execute_result"
    }
   ],
   "source": [
    "constituent_mapping_dict = {}\n",
    "dfcons = pd.read_csv('cui_to_ontology_maps/chebi-extensions-constituents-and-NP-20230405.tsv', sep='\\t')\n",
    "dfcons.head()"
   ]
  },
  {
   "cell_type": "code",
   "execution_count": 14,
   "metadata": {},
   "outputs": [
    {
     "data": {
      "text/plain": [
       "629"
      ]
     },
     "execution_count": 14,
     "metadata": {},
     "output_type": "execute_result"
    }
   ],
   "source": [
    "##use for mapping after prefixing\n",
    "for i in range(len(dfcons.index)):\n",
    "    constituent_name = dfcons.at[i, 'constituent_name']\n",
    "    uri = dfcons.at[i, 'URI']\n",
    "    constituent_mapping_dict[constituent_name] = uri\n",
    "len(constituent_mapping_dict)"
   ]
  },
  {
   "cell_type": "code",
   "execution_count": 15,
   "metadata": {},
   "outputs": [],
   "source": [
    "predMapD = {\n",
    "    'regulateactivity':'RO_0011002',\n",
    "    'regulateamount':'RO_0011003',\n",
    "    'phosphorylation':'RO_0002447',\n",
    "    'dephosphorylation':'GO_0006470',\n",
    "    'ubiquitination':'RO_0002480',\n",
    "    'deubiquitination':'GO_0016579',\n",
    "    'sumoylation':'RO_0002436',\n",
    "    'desumoylation':'RO_0002436',\n",
    "    'hydroxylation':'GO_0018126',\n",
    "    'dehydroxylation':'RO_0002436',\n",
    "    'acetylation':'GO_0006473',\n",
    "    'deacetylation':'GO_0006476',\n",
    "    'glycosylation':'GO_0006486',\n",
    "    'deglycosylation':'GO_0006517',\n",
    "    'farnesylation':'RO_0002436',\n",
    "    'defarnesylation':'RO_0002436',\n",
    "    'geranylgeranylation':'RO_0002436',\n",
    "    'degeranylgeranylation':'RO_0002436',\n",
    "    'palmitoylation':'RO_0002436',\n",
    "    'depalmitoylation':'RO_0002436',\n",
    "    'myristoylation':'RO_0002436',\n",
    "    'demyristoylation':'RO_0002436',\n",
    "    'ribosylation':'RO_0002436',\n",
    "    'deribosylation':'RO_0002436',\n",
    "    'methylation':'GO_0006479',\n",
    "    'demethylation':'GO_0006482',\n",
    "    'activation':'RO_0002448',\n",
    "    'inhibition':'RO_0002449',\n",
    "    'increaseamount':'RO_0011009',\n",
    "    'decreaseamount':'RO_0011010'\n",
    "}"
   ]
  },
  {
   "cell_type": "code",
   "execution_count": 16,
   "metadata": {},
   "outputs": [
    {
     "data": {
      "text/plain": [
       "87745"
      ]
     },
     "execution_count": 16,
     "metadata": {},
     "output_type": "execute_result"
    }
   ],
   "source": [
    "with open('cui_to_ontology_maps/go_hpo_map_dict.pickle', 'rb') as filep:\n",
    "    go_hpo_mapping_dict = pickle.load(filep)\n",
    "len(go_hpo_mapping_dict)"
   ]
  },
  {
   "cell_type": "code",
   "execution_count": 22,
   "metadata": {},
   "outputs": [],
   "source": [
    "#if reach_grounding has multiple values, currently only first one is taken -- assess if this is the best option\n",
    "def get_obo_mapping(row, col):\n",
    "    if col == 'subject':\n",
    "        cui = row['subject_cui']\n",
    "        source = row['subject_source']\n",
    "    elif col == 'object':\n",
    "        cui = row['object_cui']\n",
    "        source = row['object_source']\n",
    "    else:\n",
    "        print('specify if subject or object mapping required')\n",
    "        exit(0)\n",
    "    if cui in go_hpo_mapping_dict:\n",
    "        if len(go_hpo_mapping_dict):\n",
    "            return go_hpo_mapping_dict[cui][0]\n",
    "    if cui in reach_grounding_dict:\n",
    "        if len(reach_grounding_dict[cui]):\n",
    "            return reach_grounding_dict[cui][0]\n",
    "    if source in reach_grounding_dict:\n",
    "        if len(reach_grounding_dict[source]):\n",
    "            return reach_grounding_dict[source][0]\n",
    "    if source.lower() in constituent_mapping_dict:\n",
    "        return constituent_mapping_dict[source.lower()]\n",
    "    return ''"
   ]
  },
  {
   "cell_type": "code",
   "execution_count": 18,
   "metadata": {},
   "outputs": [],
   "source": [
    "def relation_mapping(row):\n",
    "    rel = row['predicate'].lower()\n",
    "    if rel in predMapD:\n",
    "        return predMapD[rel]\n",
    "    else:\n",
    "        return ''"
   ]
  },
  {
   "cell_type": "code",
   "execution_count": 20,
   "metadata": {},
   "outputs": [
    {
     "data": {
      "text/html": [
       "<div>\n",
       "<style scoped>\n",
       "    .dataframe tbody tr th:only-of-type {\n",
       "        vertical-align: middle;\n",
       "    }\n",
       "\n",
       "    .dataframe tbody tr th {\n",
       "        vertical-align: top;\n",
       "    }\n",
       "\n",
       "    .dataframe thead th {\n",
       "        text-align: right;\n",
       "    }\n",
       "</style>\n",
       "<table border=\"1\" class=\"dataframe\">\n",
       "  <thead>\n",
       "    <tr style=\"text-align: right;\">\n",
       "      <th></th>\n",
       "      <th>related_common_name</th>\n",
       "      <th>subject_cui</th>\n",
       "      <th>subject_name</th>\n",
       "      <th>subject_source</th>\n",
       "      <th>predicate</th>\n",
       "      <th>object_source</th>\n",
       "      <th>object_cui</th>\n",
       "      <th>object_name</th>\n",
       "      <th>subj_reach_grounding</th>\n",
       "      <th>obj_reach_grounding</th>\n",
       "      <th>pmid</th>\n",
       "      <th>year</th>\n",
       "      <th>belief</th>\n",
       "      <th>sentence</th>\n",
       "      <th>pub_type</th>\n",
       "      <th>source_section</th>\n",
       "      <th>predicate_obo</th>\n",
       "      <th>subject_obo</th>\n",
       "      <th>object_obo</th>\n",
       "    </tr>\n",
       "  </thead>\n",
       "  <tbody>\n",
       "    <tr>\n",
       "      <th>0</th>\n",
       "      <td>valerian</td>\n",
       "      <td></td>\n",
       "      <td></td>\n",
       "      <td>A-792611</td>\n",
       "      <td>Activation</td>\n",
       "      <td>CYP3A4</td>\n",
       "      <td>C3714798</td>\n",
       "      <td>Cytochrome_P-450_CYP3A4</td>\n",
       "      <td>(None, None)</td>\n",
       "      <td>{'UP': 'P08684'</td>\n",
       "      <td>23674609</td>\n",
       "      <td>2013 Aug</td>\n",
       "      <td>0.65</td>\n",
       "      <td>Compared with the 32 and 49% inhibition of CYP...</td>\n",
       "      <td>['Journal Article']</td>\n",
       "      <td></td>\n",
       "      <td>RO_0002448</td>\n",
       "      <td>None</td>\n",
       "      <td>None</td>\n",
       "    </tr>\n",
       "    <tr>\n",
       "      <th>1</th>\n",
       "      <td>valerian</td>\n",
       "      <td>C0057223</td>\n",
       "      <td>Cytochrome_P-450_CYP2D6</td>\n",
       "      <td>CYP2D6- IC</td>\n",
       "      <td>Activation</td>\n",
       "      <td>metabolic process</td>\n",
       "      <td>C0025520</td>\n",
       "      <td>metabolic_aspects</td>\n",
       "      <td>(None, None)</td>\n",
       "      <td>('GO', 'GO:0008152')</td>\n",
       "      <td>17910620</td>\n",
       "      <td>2007 Nov</td>\n",
       "      <td>0.65</td>\n",
       "      <td>St. John’s wort inhibited CYP2D6- IC mediated ...</td>\n",
       "      <td>['Journal Article']</td>\n",
       "      <td></td>\n",
       "      <td>RO_0002448</td>\n",
       "      <td>None</td>\n",
       "      <td>None</td>\n",
       "    </tr>\n",
       "    <tr>\n",
       "      <th>2</th>\n",
       "      <td>valerian</td>\n",
       "      <td></td>\n",
       "      <td></td>\n",
       "      <td>HPG</td>\n",
       "      <td>Activation</td>\n",
       "      <td>papF</td>\n",
       "      <td>C0030428</td>\n",
       "      <td>Paraguay</td>\n",
       "      <td>(None, None)</td>\n",
       "      <td>('UP', 'P08408')</td>\n",
       "      <td>33932511</td>\n",
       "      <td>2021 Aug 10</td>\n",
       "      <td>0.65</td>\n",
       "      <td>10 μM, 30 μM, and 50 μM of HPG caused outward ...</td>\n",
       "      <td>['Journal Article']</td>\n",
       "      <td></td>\n",
       "      <td>RO_0002448</td>\n",
       "      <td>None</td>\n",
       "      <td>None</td>\n",
       "    </tr>\n",
       "    <tr>\n",
       "      <th>3</th>\n",
       "      <td>valerian</td>\n",
       "      <td>C3898062</td>\n",
       "      <td>P-glycoprotein_Inhibitor</td>\n",
       "      <td>P-gp  inhibitor</td>\n",
       "      <td>Activation</td>\n",
       "      <td>digoxin</td>\n",
       "      <td>C0012265</td>\n",
       "      <td>Digoxin</td>\n",
       "      <td>(None, None)</td>\n",
       "      <td>('CHEBI', 'CHEBI:4551')</td>\n",
       "      <td>18331390</td>\n",
       "      <td>2008 May</td>\n",
       "      <td>0.65</td>\n",
       "      <td>Verapamil, the classical P-gp  inhibitor,  dec...</td>\n",
       "      <td>['Journal Article']</td>\n",
       "      <td></td>\n",
       "      <td>RO_0002448</td>\n",
       "      <td>None</td>\n",
       "      <td>None</td>\n",
       "    </tr>\n",
       "    <tr>\n",
       "      <th>4</th>\n",
       "      <td>valerian</td>\n",
       "      <td>C3898062</td>\n",
       "      <td>P-glycoprotein_Inhibitor</td>\n",
       "      <td>P-gp  inhibitor</td>\n",
       "      <td>Activation</td>\n",
       "      <td>transport</td>\n",
       "      <td>C0005528</td>\n",
       "      <td>Biological_Transport</td>\n",
       "      <td>(None, None)</td>\n",
       "      <td>('GO', 'GO:0006810')</td>\n",
       "      <td>18331390</td>\n",
       "      <td>2008 May</td>\n",
       "      <td>0.65</td>\n",
       "      <td>Verapamil, the classical P-gp  inhibitor,  dec...</td>\n",
       "      <td>['Journal Article']</td>\n",
       "      <td></td>\n",
       "      <td>RO_0002448</td>\n",
       "      <td>None</td>\n",
       "      <td>None</td>\n",
       "    </tr>\n",
       "  </tbody>\n",
       "</table>\n",
       "</div>"
      ],
      "text/plain": [
       "  related_common_name subject_cui              subject_name   subject_source  \\\n",
       "0            valerian                                               A-792611   \n",
       "1            valerian    C0057223   Cytochrome_P-450_CYP2D6       CYP2D6- IC   \n",
       "2            valerian                                                    HPG   \n",
       "3            valerian    C3898062  P-glycoprotein_Inhibitor  P-gp  inhibitor   \n",
       "4            valerian    C3898062  P-glycoprotein_Inhibitor  P-gp  inhibitor   \n",
       "\n",
       "    predicate      object_source object_cui              object_name  \\\n",
       "0  Activation             CYP3A4   C3714798  Cytochrome_P-450_CYP3A4   \n",
       "1  Activation  metabolic process   C0025520        metabolic_aspects   \n",
       "2  Activation               papF   C0030428                 Paraguay   \n",
       "3  Activation            digoxin   C0012265                  Digoxin   \n",
       "4  Activation          transport   C0005528     Biological_Transport   \n",
       "\n",
       "  subj_reach_grounding      obj_reach_grounding      pmid         year  \\\n",
       "0         (None, None)          {'UP': 'P08684'  23674609     2013 Aug   \n",
       "1         (None, None)     ('GO', 'GO:0008152')  17910620     2007 Nov   \n",
       "2         (None, None)         ('UP', 'P08408')  33932511  2021 Aug 10   \n",
       "3         (None, None)  ('CHEBI', 'CHEBI:4551')  18331390     2008 May   \n",
       "4         (None, None)     ('GO', 'GO:0006810')  18331390     2008 May   \n",
       "\n",
       "   belief                                           sentence  \\\n",
       "0    0.65  Compared with the 32 and 49% inhibition of CYP...   \n",
       "1    0.65  St. John’s wort inhibited CYP2D6- IC mediated ...   \n",
       "2    0.65  10 μM, 30 μM, and 50 μM of HPG caused outward ...   \n",
       "3    0.65  Verapamil, the classical P-gp  inhibitor,  dec...   \n",
       "4    0.65  Verapamil, the classical P-gp  inhibitor,  dec...   \n",
       "\n",
       "              pub_type source_section predicate_obo subject_obo object_obo  \n",
       "0  ['Journal Article']                   RO_0002448        None       None  \n",
       "1  ['Journal Article']                   RO_0002448        None       None  \n",
       "2  ['Journal Article']                   RO_0002448        None       None  \n",
       "3  ['Journal Article']                   RO_0002448        None       None  \n",
       "4  ['Journal Article']                   RO_0002448        None       None  "
      ]
     },
     "execution_count": 20,
     "metadata": {},
     "output_type": "execute_result"
    }
   ],
   "source": [
    "df['predicate_obo'] = df.apply(relation_mapping, axis=1)\n",
    "df.head()"
   ]
  },
  {
   "cell_type": "code",
   "execution_count": 23,
   "metadata": {},
   "outputs": [
    {
     "data": {
      "text/html": [
       "<div>\n",
       "<style scoped>\n",
       "    .dataframe tbody tr th:only-of-type {\n",
       "        vertical-align: middle;\n",
       "    }\n",
       "\n",
       "    .dataframe tbody tr th {\n",
       "        vertical-align: top;\n",
       "    }\n",
       "\n",
       "    .dataframe thead th {\n",
       "        text-align: right;\n",
       "    }\n",
       "</style>\n",
       "<table border=\"1\" class=\"dataframe\">\n",
       "  <thead>\n",
       "    <tr style=\"text-align: right;\">\n",
       "      <th></th>\n",
       "      <th>related_common_name</th>\n",
       "      <th>subject_cui</th>\n",
       "      <th>subject_name</th>\n",
       "      <th>subject_source</th>\n",
       "      <th>predicate</th>\n",
       "      <th>object_source</th>\n",
       "      <th>object_cui</th>\n",
       "      <th>object_name</th>\n",
       "      <th>subj_reach_grounding</th>\n",
       "      <th>obj_reach_grounding</th>\n",
       "      <th>pmid</th>\n",
       "      <th>year</th>\n",
       "      <th>belief</th>\n",
       "      <th>sentence</th>\n",
       "      <th>pub_type</th>\n",
       "      <th>source_section</th>\n",
       "      <th>predicate_obo</th>\n",
       "      <th>subject_obo</th>\n",
       "      <th>object_obo</th>\n",
       "    </tr>\n",
       "  </thead>\n",
       "  <tbody>\n",
       "    <tr>\n",
       "      <th>0</th>\n",
       "      <td>valerian</td>\n",
       "      <td></td>\n",
       "      <td></td>\n",
       "      <td>A-792611</td>\n",
       "      <td>Activation</td>\n",
       "      <td>CYP3A4</td>\n",
       "      <td>C3714798</td>\n",
       "      <td>Cytochrome_P-450_CYP3A4</td>\n",
       "      <td>(None, None)</td>\n",
       "      <td>{'UP': 'P08684'</td>\n",
       "      <td>23674609</td>\n",
       "      <td>2013 Aug</td>\n",
       "      <td>0.65</td>\n",
       "      <td>Compared with the 32 and 49% inhibition of CYP...</td>\n",
       "      <td>['Journal Article']</td>\n",
       "      <td></td>\n",
       "      <td>RO_0002448</td>\n",
       "      <td></td>\n",
       "      <td>PR_P08684</td>\n",
       "    </tr>\n",
       "    <tr>\n",
       "      <th>1</th>\n",
       "      <td>valerian</td>\n",
       "      <td>C0057223</td>\n",
       "      <td>Cytochrome_P-450_CYP2D6</td>\n",
       "      <td>CYP2D6- IC</td>\n",
       "      <td>Activation</td>\n",
       "      <td>metabolic process</td>\n",
       "      <td>C0025520</td>\n",
       "      <td>metabolic_aspects</td>\n",
       "      <td>(None, None)</td>\n",
       "      <td>('GO', 'GO:0008152')</td>\n",
       "      <td>17910620</td>\n",
       "      <td>2007 Nov</td>\n",
       "      <td>0.65</td>\n",
       "      <td>St. John’s wort inhibited CYP2D6- IC mediated ...</td>\n",
       "      <td>['Journal Article']</td>\n",
       "      <td></td>\n",
       "      <td>RO_0002448</td>\n",
       "      <td>PR_P10635</td>\n",
       "      <td>GO_0008152</td>\n",
       "    </tr>\n",
       "    <tr>\n",
       "      <th>2</th>\n",
       "      <td>valerian</td>\n",
       "      <td></td>\n",
       "      <td></td>\n",
       "      <td>HPG</td>\n",
       "      <td>Activation</td>\n",
       "      <td>papF</td>\n",
       "      <td>C0030428</td>\n",
       "      <td>Paraguay</td>\n",
       "      <td>(None, None)</td>\n",
       "      <td>('UP', 'P08408')</td>\n",
       "      <td>33932511</td>\n",
       "      <td>2021 Aug 10</td>\n",
       "      <td>0.65</td>\n",
       "      <td>10 μM, 30 μM, and 50 μM of HPG caused outward ...</td>\n",
       "      <td>['Journal Article']</td>\n",
       "      <td></td>\n",
       "      <td>RO_0002448</td>\n",
       "      <td></td>\n",
       "      <td>PR_P08408</td>\n",
       "    </tr>\n",
       "    <tr>\n",
       "      <th>3</th>\n",
       "      <td>valerian</td>\n",
       "      <td>C3898062</td>\n",
       "      <td>P-glycoprotein_Inhibitor</td>\n",
       "      <td>P-gp  inhibitor</td>\n",
       "      <td>Activation</td>\n",
       "      <td>digoxin</td>\n",
       "      <td>C0012265</td>\n",
       "      <td>Digoxin</td>\n",
       "      <td>(None, None)</td>\n",
       "      <td>('CHEBI', 'CHEBI:4551')</td>\n",
       "      <td>18331390</td>\n",
       "      <td>2008 May</td>\n",
       "      <td>0.65</td>\n",
       "      <td>Verapamil, the classical P-gp  inhibitor,  dec...</td>\n",
       "      <td>['Journal Article']</td>\n",
       "      <td></td>\n",
       "      <td>RO_0002448</td>\n",
       "      <td></td>\n",
       "      <td>CHEBI_4551</td>\n",
       "    </tr>\n",
       "    <tr>\n",
       "      <th>4</th>\n",
       "      <td>valerian</td>\n",
       "      <td>C3898062</td>\n",
       "      <td>P-glycoprotein_Inhibitor</td>\n",
       "      <td>P-gp  inhibitor</td>\n",
       "      <td>Activation</td>\n",
       "      <td>transport</td>\n",
       "      <td>C0005528</td>\n",
       "      <td>Biological_Transport</td>\n",
       "      <td>(None, None)</td>\n",
       "      <td>('GO', 'GO:0006810')</td>\n",
       "      <td>18331390</td>\n",
       "      <td>2008 May</td>\n",
       "      <td>0.65</td>\n",
       "      <td>Verapamil, the classical P-gp  inhibitor,  dec...</td>\n",
       "      <td>['Journal Article']</td>\n",
       "      <td></td>\n",
       "      <td>RO_0002448</td>\n",
       "      <td></td>\n",
       "      <td>GO_0006810</td>\n",
       "    </tr>\n",
       "  </tbody>\n",
       "</table>\n",
       "</div>"
      ],
      "text/plain": [
       "  related_common_name subject_cui              subject_name   subject_source  \\\n",
       "0            valerian                                               A-792611   \n",
       "1            valerian    C0057223   Cytochrome_P-450_CYP2D6       CYP2D6- IC   \n",
       "2            valerian                                                    HPG   \n",
       "3            valerian    C3898062  P-glycoprotein_Inhibitor  P-gp  inhibitor   \n",
       "4            valerian    C3898062  P-glycoprotein_Inhibitor  P-gp  inhibitor   \n",
       "\n",
       "    predicate      object_source object_cui              object_name  \\\n",
       "0  Activation             CYP3A4   C3714798  Cytochrome_P-450_CYP3A4   \n",
       "1  Activation  metabolic process   C0025520        metabolic_aspects   \n",
       "2  Activation               papF   C0030428                 Paraguay   \n",
       "3  Activation            digoxin   C0012265                  Digoxin   \n",
       "4  Activation          transport   C0005528     Biological_Transport   \n",
       "\n",
       "  subj_reach_grounding      obj_reach_grounding      pmid         year  \\\n",
       "0         (None, None)          {'UP': 'P08684'  23674609     2013 Aug   \n",
       "1         (None, None)     ('GO', 'GO:0008152')  17910620     2007 Nov   \n",
       "2         (None, None)         ('UP', 'P08408')  33932511  2021 Aug 10   \n",
       "3         (None, None)  ('CHEBI', 'CHEBI:4551')  18331390     2008 May   \n",
       "4         (None, None)     ('GO', 'GO:0006810')  18331390     2008 May   \n",
       "\n",
       "   belief                                           sentence  \\\n",
       "0    0.65  Compared with the 32 and 49% inhibition of CYP...   \n",
       "1    0.65  St. John’s wort inhibited CYP2D6- IC mediated ...   \n",
       "2    0.65  10 μM, 30 μM, and 50 μM of HPG caused outward ...   \n",
       "3    0.65  Verapamil, the classical P-gp  inhibitor,  dec...   \n",
       "4    0.65  Verapamil, the classical P-gp  inhibitor,  dec...   \n",
       "\n",
       "              pub_type source_section predicate_obo subject_obo  object_obo  \n",
       "0  ['Journal Article']                   RO_0002448               PR_P08684  \n",
       "1  ['Journal Article']                   RO_0002448   PR_P10635  GO_0008152  \n",
       "2  ['Journal Article']                   RO_0002448               PR_P08408  \n",
       "3  ['Journal Article']                   RO_0002448              CHEBI_4551  \n",
       "4  ['Journal Article']                   RO_0002448              GO_0006810  "
      ]
     },
     "execution_count": 23,
     "metadata": {},
     "output_type": "execute_result"
    }
   ],
   "source": [
    "df['subject_obo'] = df.apply(get_obo_mapping, axis=1, col='subject')\n",
    "df['object_obo'] = df.apply(get_obo_mapping, axis=1, col='object')\n",
    "df.head()"
   ]
  },
  {
   "cell_type": "code",
   "execution_count": 24,
   "metadata": {},
   "outputs": [
    {
     "data": {
      "text/plain": [
       "3951"
      ]
     },
     "execution_count": 24,
     "metadata": {},
     "output_type": "execute_result"
    }
   ],
   "source": [
    "import pickle\n",
    "with open('cui_to_ontology_maps/CUItoOBO_20220505.pickle', 'rb') as filep:\n",
    "    onto_dict = pickle.load(filep)\n",
    "len(onto_dict)"
   ]
  },
  {
   "cell_type": "code",
   "execution_count": 25,
   "metadata": {},
   "outputs": [],
   "source": [
    "#get ontorunner mappings and add to df\n",
    "def get_obo_onto_mapping(row, col):\n",
    "    if col == 'subject':\n",
    "        cui = row['subject_cui']\n",
    "        mapping = row['subject_obo']\n",
    "    elif col == 'object':\n",
    "        cui = row['object_cui']\n",
    "        mapping = row['object_obo']\n",
    "    else:\n",
    "        print('specify if subject or object mapping required')\n",
    "        exit(0)\n",
    "    if mapping == '':\n",
    "        if cui in onto_dict:\n",
    "            return onto_dict[cui]\n",
    "    else:\n",
    "        return mapping"
   ]
  },
  {
   "cell_type": "code",
   "execution_count": 26,
   "metadata": {},
   "outputs": [],
   "source": [
    "##for unmapped - try gilda and run ontorunner again\n",
    "df['subject_obo'] = df.apply(get_obo_onto_mapping, axis=1, col='subject')\n",
    "df['object_obo'] = df.apply(get_obo_onto_mapping, axis=1, col='object')"
   ]
  },
  {
   "cell_type": "code",
   "execution_count": 33,
   "metadata": {},
   "outputs": [
    {
     "data": {
      "text/plain": [
       "''"
      ]
     },
     "execution_count": 33,
     "metadata": {},
     "output_type": "execute_result"
    }
   ],
   "source": [
    "df = df.fillna('')"
   ]
  },
  {
   "cell_type": "code",
   "execution_count": 34,
   "metadata": {},
   "outputs": [
    {
     "name": "stdout",
     "output_type": "stream",
     "text": [
      "<class 'pandas.core.frame.DataFrame'>\n",
      "Int64Index: 9302 entries, 0 to 63639\n",
      "Data columns (total 19 columns):\n",
      " #   Column                Non-Null Count  Dtype  \n",
      "---  ------                --------------  -----  \n",
      " 0   related_common_name   9302 non-null   object \n",
      " 1   subject_cui           9302 non-null   object \n",
      " 2   subject_name          9302 non-null   object \n",
      " 3   subject_source        9302 non-null   object \n",
      " 4   predicate             9302 non-null   object \n",
      " 5   object_source         9302 non-null   object \n",
      " 6   object_cui            9302 non-null   object \n",
      " 7   object_name           9302 non-null   object \n",
      " 8   subj_reach_grounding  9302 non-null   object \n",
      " 9   obj_reach_grounding   9302 non-null   object \n",
      " 10  pmid                  9302 non-null   int64  \n",
      " 11  year                  9302 non-null   object \n",
      " 12  belief                9302 non-null   float64\n",
      " 13  sentence              9302 non-null   object \n",
      " 14  pub_type              9302 non-null   object \n",
      " 15  source_section        9302 non-null   object \n",
      " 16  predicate_obo         9302 non-null   object \n",
      " 17  subject_obo           9302 non-null   object \n",
      " 18  object_obo            9302 non-null   object \n",
      "dtypes: float64(1), int64(1), object(17)\n",
      "memory usage: 1.4+ MB\n"
     ]
    }
   ],
   "source": [
    "##finish mappings\n",
    "##get unmapped terms\n",
    "dfsubj_unmap = df.loc[df['subject_obo'] == '']\n",
    "dfsubj_unmap.info()"
   ]
  },
  {
   "cell_type": "code",
   "execution_count": 35,
   "metadata": {},
   "outputs": [
    {
     "name": "stdout",
     "output_type": "stream",
     "text": [
      "<class 'pandas.core.frame.DataFrame'>\n",
      "Int64Index: 8520 entries, 6 to 63623\n",
      "Data columns (total 19 columns):\n",
      " #   Column                Non-Null Count  Dtype  \n",
      "---  ------                --------------  -----  \n",
      " 0   related_common_name   8520 non-null   object \n",
      " 1   subject_cui           8520 non-null   object \n",
      " 2   subject_name          8520 non-null   object \n",
      " 3   subject_source        8520 non-null   object \n",
      " 4   predicate             8520 non-null   object \n",
      " 5   object_source         8520 non-null   object \n",
      " 6   object_cui            8520 non-null   object \n",
      " 7   object_name           8520 non-null   object \n",
      " 8   subj_reach_grounding  8520 non-null   object \n",
      " 9   obj_reach_grounding   8520 non-null   object \n",
      " 10  pmid                  8520 non-null   int64  \n",
      " 11  year                  8520 non-null   object \n",
      " 12  belief                8520 non-null   float64\n",
      " 13  sentence              8520 non-null   object \n",
      " 14  pub_type              8520 non-null   object \n",
      " 15  source_section        8520 non-null   object \n",
      " 16  predicate_obo         8520 non-null   object \n",
      " 17  subject_obo           8520 non-null   object \n",
      " 18  object_obo            8520 non-null   object \n",
      "dtypes: float64(1), int64(1), object(17)\n",
      "memory usage: 1.3+ MB\n"
     ]
    }
   ],
   "source": [
    "dfobj_unmap = df.loc[df['object_obo'] == '']\n",
    "dfobj_unmap.info()"
   ]
  },
  {
   "cell_type": "code",
   "execution_count": 37,
   "metadata": {},
   "outputs": [],
   "source": [
    "dfsubj_unmap = dfsubj_unmap[['subject_cui', 'subject_source', 'subject_name']]\n",
    "dfsubj_unmap = dfsubj_unmap.rename(columns=\n",
    "{'subject_cui':'cui', 'subject_source':'source', 'subject_name':'pref_name'})\n",
    "dfobj_unmap = dfobj_unmap[['object_cui', 'object_source', 'object_name']]\n",
    "dfobj_unmap = dfobj_unmap.rename(columns=\n",
    "{'object_cui':'cui', 'object_source':'source', 'object_name':'pref_name'})"
   ]
  },
  {
   "cell_type": "code",
   "execution_count": 40,
   "metadata": {},
   "outputs": [
    {
     "name": "stdout",
     "output_type": "stream",
     "text": [
      "<class 'pandas.core.frame.DataFrame'>\n",
      "RangeIndex: 5894 entries, 0 to 5893\n",
      "Data columns (total 3 columns):\n",
      " #   Column     Non-Null Count  Dtype \n",
      "---  ------     --------------  ----- \n",
      " 0   cui        5894 non-null   object\n",
      " 1   source     5894 non-null   object\n",
      " 2   pref_name  5894 non-null   object\n",
      "dtypes: object(3)\n",
      "memory usage: 138.3+ KB\n"
     ]
    }
   ],
   "source": [
    "dfunmap = pd.concat([dfsubj_unmap, dfobj_unmap])\n",
    "dfunmap = dfunmap.drop_duplicates()\n",
    "dfunmap = dfunmap.reset_index(drop=True)\n",
    "dfunmap.info()"
   ]
  },
  {
   "cell_type": "code",
   "execution_count": 41,
   "metadata": {},
   "outputs": [],
   "source": [
    "dfunmap.to_csv('reach_data/unmapped_reach_terms_20230412.tsv', sep='\\t', index=False)"
   ]
  },
  {
   "cell_type": "code",
   "execution_count": null,
   "metadata": {},
   "outputs": [],
   "source": [
    "##get unmapped subjects and objects and run gilda/ontorunner - add mappings back"
   ]
  },
  {
   "cell_type": "code",
   "execution_count": 42,
   "metadata": {},
   "outputs": [],
   "source": [
    "df.to_csv('reach_data/reach_all_predications_mapped_20230412.tsv', sep='\\t', index=False)"
   ]
  },
  {
   "cell_type": "markdown",
   "metadata": {},
   "source": [
    "### Add prefixes and process - run from here after mapping"
   ]
  },
  {
   "cell_type": "code",
   "execution_count": 44,
   "metadata": {},
   "outputs": [],
   "source": [
    "def add_prefix(row, col):\n",
    "    ##check for prefix before adding\n",
    "\n",
    "    obo_prefix = 'http://purl.obolibrary.org/obo/'\n",
    "    if col == 'predicate':\n",
    "        predicate_obo = row['predicate_obo']\n",
    "        if obo_prefix in predicate_obo:\n",
    "            return predicate_obo\n",
    "        else:\n",
    "            return obo_prefix+predicate_obo\n",
    "    elif col == 'subject':\n",
    "        subject_obo = row['subject_obo']\n",
    "        if isinstance(subject_obo, list) and subject_obo:\n",
    "            subject_obo = subject_obo[0]\n",
    "        if subject_obo == '':\n",
    "            return ''\n",
    "        subject_obo = subject_obo.replace(']', '')\n",
    "        subject_obo = subject_obo.replace('[', '')\n",
    "        subject_obo = subject_obo.replace(')', '')\n",
    "        subject_obo = subject_obo.replace('(', '')\n",
    "        if 'http' not in subject_obo:\n",
    "            return obo_prefix+subject_obo\n",
    "        else:\n",
    "            return subject_obo\n",
    "    elif col == 'object':\n",
    "        object_obo = row['object_obo']\n",
    "        if isinstance(object_obo, list) and object_obo:\n",
    "            object_obo = object_obo[0]\n",
    "        if object_obo == '':\n",
    "            return ''\n",
    "        object_obo = object_obo.replace(']', '')\n",
    "        object_obo = object_obo.replace('[', '')\n",
    "        object_obo = object_obo.replace(')', '')\n",
    "        object_obo = object_obo.replace('(', '')\n",
    "        if 'http' not in object_obo:\n",
    "            return obo_prefix+object_obo\n",
    "        else:\n",
    "            return object_obo"
   ]
  },
  {
   "cell_type": "code",
   "execution_count": 45,
   "metadata": {},
   "outputs": [],
   "source": [
    "#add OBO identifiers to the OBO mappings (where not present) - see df\n",
    "#drop rows with no mappings\n",
    "df['subject_obo'] = df.apply(add_prefix, axis=1, col='subject')\n",
    "df['object_obo'] = df.apply(add_prefix, axis=1, col='object')\n",
    "df['predicate_obo'] = df.apply(add_prefix, axis=1, col='predicate')"
   ]
  },
  {
   "cell_type": "code",
   "execution_count": 46,
   "metadata": {},
   "outputs": [],
   "source": [
    "##fix napdi identifiers\n",
    "for i in range(len(df.index)):\n",
    "    subj = df.at[i, 'subject_obo']\n",
    "    obj = df.at[i, 'object_obo']\n",
    "    if 'napdi' in subj:\n",
    "        subjnew = subj.replace('http://purl.obolibrary.org/obo/', 'http://napdi.org/')\n",
    "        df.at[i, 'subject_obo'] = subjnew\n",
    "    if 'napdi' in obj:\n",
    "        objnew = obj.replace('http://purl.obolibrary.org/obo/', 'http://napdi.org/')\n",
    "        df.at[i, 'object_obo'] = objnew"
   ]
  },
  {
   "cell_type": "code",
   "execution_count": 47,
   "metadata": {},
   "outputs": [],
   "source": [
    "df.to_csv('reach_data/reach_all_predications_mapped_prefixes_20230412.tsv', sep='\\t', index=False)"
   ]
  },
  {
   "cell_type": "code",
   "execution_count": 2,
   "metadata": {},
   "outputs": [],
   "source": [
    "df = pd.read_csv('reach_data/reach_all_predications_mapped_prefixes_20230412.tsv', sep='\\t')"
   ]
  },
  {
   "cell_type": "code",
   "execution_count": 3,
   "metadata": {},
   "outputs": [
    {
     "name": "stdout",
     "output_type": "stream",
     "text": [
      "<class 'pandas.core.frame.DataFrame'>\n",
      "RangeIndex: 63640 entries, 0 to 63639\n",
      "Data columns (total 19 columns):\n",
      " #   Column                Non-Null Count  Dtype  \n",
      "---  ------                --------------  -----  \n",
      " 0   related_common_name   63640 non-null  object \n",
      " 1   subject_cui           55344 non-null  object \n",
      " 2   subject_name          55344 non-null  object \n",
      " 3   subject_source        63516 non-null  object \n",
      " 4   predicate             63640 non-null  object \n",
      " 5   object_source         63640 non-null  object \n",
      " 6   object_cui            56717 non-null  object \n",
      " 7   object_name           56717 non-null  object \n",
      " 8   subj_reach_grounding  63516 non-null  object \n",
      " 9   obj_reach_grounding   63640 non-null  object \n",
      " 10  pmid                  63640 non-null  int64  \n",
      " 11  year                  63640 non-null  object \n",
      " 12  belief                63640 non-null  float64\n",
      " 13  sentence              63640 non-null  object \n",
      " 14  pub_type              63640 non-null  object \n",
      " 15  source_section        2034 non-null   object \n",
      " 16  predicate_obo         63640 non-null  object \n",
      " 17  subject_obo           54338 non-null  object \n",
      " 18  object_obo            55120 non-null  object \n",
      "dtypes: float64(1), int64(1), object(17)\n",
      "memory usage: 9.2+ MB\n"
     ]
    }
   ],
   "source": [
    "df.info()"
   ]
  },
  {
   "cell_type": "code",
   "execution_count": 8,
   "metadata": {},
   "outputs": [],
   "source": [
    "df = df.fillna('')"
   ]
  },
  {
   "cell_type": "code",
   "execution_count": 9,
   "metadata": {},
   "outputs": [
    {
     "name": "stdout",
     "output_type": "stream",
     "text": [
      "<class 'pandas.core.frame.DataFrame'>\n",
      "Int64Index: 54338 entries, 1 to 63638\n",
      "Data columns (total 19 columns):\n",
      " #   Column                Non-Null Count  Dtype  \n",
      "---  ------                --------------  -----  \n",
      " 0   related_common_name   54338 non-null  object \n",
      " 1   subject_cui           54338 non-null  object \n",
      " 2   subject_name          54338 non-null  object \n",
      " 3   subject_source        54338 non-null  object \n",
      " 4   predicate             54338 non-null  object \n",
      " 5   object_source         54338 non-null  object \n",
      " 6   object_cui            54338 non-null  object \n",
      " 7   object_name           54338 non-null  object \n",
      " 8   subj_reach_grounding  54338 non-null  object \n",
      " 9   obj_reach_grounding   54338 non-null  object \n",
      " 10  pmid                  54338 non-null  int64  \n",
      " 11  year                  54338 non-null  object \n",
      " 12  belief                54338 non-null  float64\n",
      " 13  sentence              54338 non-null  object \n",
      " 14  pub_type              54338 non-null  object \n",
      " 15  source_section        54338 non-null  object \n",
      " 16  predicate_obo         54338 non-null  object \n",
      " 17  subject_obo           54338 non-null  object \n",
      " 18  object_obo            54338 non-null  object \n",
      "dtypes: float64(1), int64(1), object(17)\n",
      "memory usage: 8.3+ MB\n"
     ]
    }
   ],
   "source": [
    "obo_prefix = 'http://purl.obolibrary.org/obo/'\n",
    "#remove all rows with blank obo mappings and only prefix rows\n",
    "df_new = df[df['subject_obo'] != '']\n",
    "df_new = df_new[df_new['subject_obo'] != obo_prefix]\n",
    "df_new.info()"
   ]
  },
  {
   "cell_type": "code",
   "execution_count": 10,
   "metadata": {},
   "outputs": [
    {
     "name": "stdout",
     "output_type": "stream",
     "text": [
      "<class 'pandas.core.frame.DataFrame'>\n",
      "Int64Index: 47206 entries, 1 to 63638\n",
      "Data columns (total 19 columns):\n",
      " #   Column                Non-Null Count  Dtype  \n",
      "---  ------                --------------  -----  \n",
      " 0   related_common_name   47206 non-null  object \n",
      " 1   subject_cui           47206 non-null  object \n",
      " 2   subject_name          47206 non-null  object \n",
      " 3   subject_source        47206 non-null  object \n",
      " 4   predicate             47206 non-null  object \n",
      " 5   object_source         47206 non-null  object \n",
      " 6   object_cui            47206 non-null  object \n",
      " 7   object_name           47206 non-null  object \n",
      " 8   subj_reach_grounding  47206 non-null  object \n",
      " 9   obj_reach_grounding   47206 non-null  object \n",
      " 10  pmid                  47206 non-null  int64  \n",
      " 11  year                  47206 non-null  object \n",
      " 12  belief                47206 non-null  float64\n",
      " 13  sentence              47206 non-null  object \n",
      " 14  pub_type              47206 non-null  object \n",
      " 15  source_section        47206 non-null  object \n",
      " 16  predicate_obo         47206 non-null  object \n",
      " 17  subject_obo           47206 non-null  object \n",
      " 18  object_obo            47206 non-null  object \n",
      "dtypes: float64(1), int64(1), object(17)\n",
      "memory usage: 7.2+ MB\n"
     ]
    }
   ],
   "source": [
    "df_new = df_new[df_new['object_obo'] != '']\n",
    "df_new = df_new[df_new['object_obo'] != obo_prefix]\n",
    "df_new.info()"
   ]
  },
  {
   "cell_type": "code",
   "execution_count": 11,
   "metadata": {},
   "outputs": [
    {
     "name": "stdout",
     "output_type": "stream",
     "text": [
      "<class 'pandas.core.frame.DataFrame'>\n",
      "RangeIndex: 47125 entries, 0 to 47124\n",
      "Data columns (total 19 columns):\n",
      " #   Column                Non-Null Count  Dtype  \n",
      "---  ------                --------------  -----  \n",
      " 0   related_common_name   47125 non-null  object \n",
      " 1   subject_cui           47125 non-null  object \n",
      " 2   subject_name          47125 non-null  object \n",
      " 3   subject_source        47125 non-null  object \n",
      " 4   predicate             47125 non-null  object \n",
      " 5   object_source         47125 non-null  object \n",
      " 6   object_cui            47125 non-null  object \n",
      " 7   object_name           47125 non-null  object \n",
      " 8   subj_reach_grounding  47125 non-null  object \n",
      " 9   obj_reach_grounding   47125 non-null  object \n",
      " 10  pmid                  47125 non-null  int64  \n",
      " 11  year                  47125 non-null  object \n",
      " 12  belief                47125 non-null  float64\n",
      " 13  sentence              47125 non-null  object \n",
      " 14  pub_type              47125 non-null  object \n",
      " 15  source_section        47125 non-null  object \n",
      " 16  predicate_obo         47125 non-null  object \n",
      " 17  subject_obo           47125 non-null  object \n",
      " 18  object_obo            47125 non-null  object \n",
      "dtypes: float64(1), int64(1), object(17)\n",
      "memory usage: 6.8+ MB\n"
     ]
    }
   ],
   "source": [
    "df_new = df_new.drop_duplicates()\n",
    "df_new = df_new.reset_index(drop=True)\n",
    "df_new.info()"
   ]
  },
  {
   "cell_type": "code",
   "execution_count": 12,
   "metadata": {},
   "outputs": [],
   "source": [
    "##new mappings not included yet - 74% mapped\n",
    "df_new.to_csv('reach_data/reach_all_predicates_mapped_processed_20230412.tsv', sep='\\t', index=False)"
   ]
  },
  {
   "cell_type": "code",
   "execution_count": 26,
   "metadata": {},
   "outputs": [
    {
     "name": "stdout",
     "output_type": "stream",
     "text": [
      "<class 'pandas.core.frame.DataFrame'>\n",
      "RangeIndex: 47125 entries, 0 to 47124\n",
      "Data columns (total 19 columns):\n",
      " #   Column                Non-Null Count  Dtype  \n",
      "---  ------                --------------  -----  \n",
      " 0   related_common_name   47125 non-null  object \n",
      " 1   subject_cui           44264 non-null  object \n",
      " 2   subject_name          44264 non-null  object \n",
      " 3   subject_source        47125 non-null  object \n",
      " 4   predicate             47125 non-null  object \n",
      " 5   object_source         47125 non-null  object \n",
      " 6   object_cui            44729 non-null  object \n",
      " 7   object_name           44729 non-null  object \n",
      " 8   subj_reach_grounding  47125 non-null  object \n",
      " 9   obj_reach_grounding   47125 non-null  object \n",
      " 10  pmid                  47125 non-null  int64  \n",
      " 11  year                  47125 non-null  object \n",
      " 12  belief                47125 non-null  float64\n",
      " 13  sentence              47125 non-null  object \n",
      " 14  pub_type              47125 non-null  object \n",
      " 15  source_section        1587 non-null   object \n",
      " 16  predicate_obo         47125 non-null  object \n",
      " 17  subject_obo           47125 non-null  object \n",
      " 18  object_obo            47125 non-null  object \n",
      "dtypes: float64(1), int64(1), object(17)\n",
      "memory usage: 6.8+ MB\n"
     ]
    },
    {
     "name": "stderr",
     "output_type": "stream",
     "text": [
      "/home/sanya/.conda/envs/sanya_kg/lib/python3.6/site-packages/IPython/core/interactiveshell.py:3072: DtypeWarning: Columns (15) have mixed types.Specify dtype option on import or set low_memory=False.\n",
      "  interactivity=interactivity, compiler=compiler, result=result)\n"
     ]
    }
   ],
   "source": [
    "import pandas as pd\n",
    "df_new = pd.read_csv('reach_data/reach_all_predicates_mapped_processed_20230412.tsv', sep='\\t')\n",
    "df_new.info()"
   ]
  },
  {
   "cell_type": "markdown",
   "metadata": {},
   "source": [
    "### Create graph"
   ]
  },
  {
   "cell_type": "code",
   "execution_count": 27,
   "metadata": {},
   "outputs": [],
   "source": [
    "#Create networkx graph from triples\n",
    "import glob\n",
    "import hashlib\n",
    "import json\n",
    "import networkx as nx  # type: ignore\n",
    "import os\n",
    "import os.path\n",
    "\n",
    "from collections import Counter  # type: ignore\n",
    "from more_itertools import unique_everseen  # type: ignore\n",
    "from rdflib import BNode, Graph, Literal, Namespace, URIRef  # type: ignore\n",
    "from rdflib.namespace import OWL, RDF, RDFS  # type: ignore\n",
    "from rdflib.plugins.serializers.nt import _quoteLiteral  # type: ignore\n",
    "import subprocess\n",
    "\n",
    "from tqdm import tqdm  # type: ignore\n",
    "from typing import Dict, List, Optional, Set, Tuple, Union\n",
    "\n",
    "# set-up environment variables\n",
    "obo = Namespace('http://purl.obolibrary.org/obo/')\n",
    "oboinowl = Namespace('http://www.geneontology.org/formats/oboInOwl#')\n",
    "schema = Namespace('http://www.w3.org/2001/XMLSchema#')"
   ]
  },
  {
   "cell_type": "code",
   "execution_count": 3,
   "metadata": {},
   "outputs": [
    {
     "name": "stdout",
     "output_type": "stream",
     "text": [
      "<class 'pandas.core.frame.DataFrame'>\n",
      "RangeIndex: 40245 entries, 0 to 40244\n",
      "Data columns (total 3 columns):\n",
      " #   Column         Non-Null Count  Dtype \n",
      "---  ------         --------------  ----- \n",
      " 0   subject_obo    40245 non-null  object\n",
      " 1   predicate_obo  40245 non-null  object\n",
      " 2   object_obo     40245 non-null  object\n",
      "dtypes: object(3)\n",
      "memory usage: 943.4+ KB\n"
     ]
    }
   ],
   "source": [
    "dfres = df_new[['subject_obo', 'predicate_obo', 'object_obo']]\n",
    "dfres = dfres.drop_duplicates()\n",
    "dfres = dfres.reset_index(drop=True)\n",
    "dfres.info()"
   ]
  },
  {
   "cell_type": "code",
   "execution_count": 4,
   "metadata": {},
   "outputs": [],
   "source": [
    "#N = 40245\n",
    "dfres.to_csv('reach_data/reach_pmid_all_predicates_processed_triples_20230412.tsv', sep='\\t', index=False)"
   ]
  },
  {
   "cell_type": "code",
   "execution_count": 5,
   "metadata": {},
   "outputs": [
    {
     "data": {
      "text/plain": [
       "Activation           21974\n",
       "Inhibition           16506\n",
       "IncreaseAmount        3838\n",
       "DecreaseAmount        2785\n",
       "Phosphorylation        725\n",
       "Hydroxylation          462\n",
       "Dephosphorylation      286\n",
       "Dehydroxylation        160\n",
       "Demethylation          145\n",
       "Methylation            104\n",
       "Glycosylation           42\n",
       "Acetylation             40\n",
       "Deacetylation           20\n",
       "Ubiquitination          17\n",
       "Deglycosylation          8\n",
       "Deubiquitination         8\n",
       "Ribosylation             3\n",
       "Sumoylation              2\n",
       "Name: predicate, dtype: int64"
      ]
     },
     "execution_count": 5,
     "metadata": {},
     "output_type": "execute_result"
    }
   ],
   "source": [
    "df_new['predicate'].value_counts()"
   ]
  },
  {
   "cell_type": "code",
   "execution_count": 6,
   "metadata": {},
   "outputs": [
    {
     "data": {
      "text/plain": [
       "http://purl.obolibrary.org/obo/RO_0002448    21974\n",
       "http://purl.obolibrary.org/obo/RO_0002449    16506\n",
       "http://purl.obolibrary.org/obo/RO_0011009     3838\n",
       "http://purl.obolibrary.org/obo/RO_0011010     2785\n",
       "http://purl.obolibrary.org/obo/RO_0002447      725\n",
       "http://purl.obolibrary.org/obo/GO_0018126      462\n",
       "http://purl.obolibrary.org/obo/GO_0006470      286\n",
       "http://purl.obolibrary.org/obo/RO_0002436      165\n",
       "http://purl.obolibrary.org/obo/GO_0006482      145\n",
       "http://purl.obolibrary.org/obo/GO_0006479      104\n",
       "http://purl.obolibrary.org/obo/GO_0006486       42\n",
       "http://purl.obolibrary.org/obo/GO_0006473       40\n",
       "http://purl.obolibrary.org/obo/GO_0006476       20\n",
       "http://purl.obolibrary.org/obo/RO_0002480       17\n",
       "http://purl.obolibrary.org/obo/GO_0016579        8\n",
       "http://purl.obolibrary.org/obo/GO_0006517        8\n",
       "Name: predicate_obo, dtype: int64"
      ]
     },
     "execution_count": 6,
     "metadata": {},
     "output_type": "execute_result"
    }
   ],
   "source": [
    "df_new['predicate_obo'].value_counts()"
   ]
  },
  {
   "cell_type": "code",
   "execution_count": 28,
   "metadata": {},
   "outputs": [],
   "source": [
    "import ast\n"
   ]
  },
  {
   "cell_type": "markdown",
   "metadata": {},
   "source": [
    "#### Fix prefixes and nodes"
   ]
  },
  {
   "cell_type": "code",
   "execution_count": 29,
   "metadata": {},
   "outputs": [
    {
     "data": {
      "text/plain": [
       "14"
      ]
     },
     "execution_count": 29,
     "metadata": {},
     "output_type": "execute_result"
    }
   ],
   "source": [
    "##get unique prefixes for subjects and objects\n",
    "prefixes = []\n",
    "for i in range(len(df_new.index)):\n",
    "    subj = df_new.at[i, 'subject_obo']\n",
    "    obj = df_new.at[i, 'object_obo']\n",
    "    prefixes.append(subj.split('/')[-1].split('_')[0])\n",
    "    prefixes.append(obj.split('/')[-1].split('_')[0])\n",
    "prefixes = list(set(prefixes))\n",
    "len(prefixes)"
   ]
  },
  {
   "cell_type": "code",
   "execution_count": 30,
   "metadata": {},
   "outputs": [
    {
     "data": {
      "text/plain": [
       "['PR',\n",
       " 'SO',\n",
       " 'OBO',\n",
       " 'GOT',\n",
       " 'napdi',\n",
       " 'NCBITaxon',\n",
       " 'GO',\n",
       " 'CHEBI',\n",
       " 'MONDO',\n",
       " 'UBERON',\n",
       " 'DOID',\n",
       " 'CL',\n",
       " 'HP',\n",
       " 'SGOT']"
      ]
     },
     "execution_count": 30,
     "metadata": {},
     "output_type": "execute_result"
    }
   ],
   "source": [
    "prefixes"
   ]
  },
  {
   "cell_type": "code",
   "execution_count": null,
   "metadata": {},
   "outputs": [
    {
     "data": {
      "text/plain": [
       "'Journal Article'"
      ]
     },
     "metadata": {},
     "output_type": "display_data"
    }
   ],
   "source": []
  },
  {
   "cell_type": "code",
   "execution_count": 31,
   "metadata": {},
   "outputs": [],
   "source": [
    "problems = ['OBO', 'SGOT', 'GOT']\n",
    "for i in range(len(df_new.index)):\n",
    "    subj = df_new.at[i, 'subject_obo']\n",
    "    obj = df_new.at[i, 'object_obo']\n",
    "    subjpref = subj.split('/')[-1].split('_')[0]\n",
    "    objpref = obj.split('/')[-1].split('_')[0]\n",
    "    if subjpref in problems:\n",
    "        if subjpref == 'OBO':\n",
    "            df_new.at[i, 'subject_obo'] = subj.replace('OBO_', '')\n",
    "        elif subjpref == 'SGOT':\n",
    "            df_new.at[i, 'subject_obo'] = subj.replace('SGOT', 'PR_000008153')\n",
    "        elif subjpref == 'GOT':\n",
    "            df_new.at[i, 'subject_obo'] = subj.replace('GOT', 'PR_000008153')\n",
    "    if objpref in problems:\n",
    "        if objpref == 'OBO':\n",
    "            df_new.at[i, 'object_obo'] = obj.replace('OBO_', '')\n",
    "        elif objpref == 'SGOT':\n",
    "            df_new.at[i, 'object_obo'] = obj.replace('SGOT', 'PR_000008153')\n",
    "        elif objpref == 'GOT':\n",
    "            df_new.at[i, 'object_obo'] = obj.replace('GOT', 'PR_000008153')"
   ]
  },
  {
   "cell_type": "code",
   "execution_count": 32,
   "metadata": {},
   "outputs": [],
   "source": [
    "df_new.to_csv('reach_data/reach_all_predicates_mapped_processed_new_20230423.tsv', sep='\\t', index=False)"
   ]
  },
  {
   "cell_type": "code",
   "execution_count": 33,
   "metadata": {},
   "outputs": [
    {
     "name": "stderr",
     "output_type": "stream",
     "text": [
      "/home/sanya/.conda/envs/sanya_kg/lib/python3.6/site-packages/IPython/core/interactiveshell.py:3072: DtypeWarning: Columns (15) have mixed types.Specify dtype option on import or set low_memory=False.\n",
      "  interactivity=interactivity, compiler=compiler, result=result)\n"
     ]
    }
   ],
   "source": [
    "import pandas as pd\n",
    "df_new = pd.read_csv('reach_data/reach_all_predicates_mapped_processed_new_20230423.tsv', sep='\\t')"
   ]
  },
  {
   "cell_type": "code",
   "execution_count": 15,
   "metadata": {},
   "outputs": [],
   "source": [
    "typedict = {\n",
    "    'CHEBI': 'chemical',\n",
    "    'PR': 'protein',\n",
    "    'GO': 'GO_process',\n",
    "    'DOID': 'disease',\n",
    "    'HP': 'phenotype',\n",
    "    'UBERON': 'anatomical_entity',\n",
    "    'SO': 'sequence',\n",
    "    'CL': 'cell',\n",
    "    'NCBITaxon': 'organism',\n",
    "    'MONDO': 'disease',\n",
    "    'napdi': 'natural_product',\n",
    "    'OAE': 'adverse_event',\n",
    "    'NCBIGene': 'gene'\n",
    "}"
   ]
  },
  {
   "cell_type": "code",
   "execution_count": 7,
   "metadata": {},
   "outputs": [
    {
     "data": {
      "text/plain": [
       "['PR',\n",
       " 'SO',\n",
       " 'OAE',\n",
       " 'napdi',\n",
       " 'NCBITaxon',\n",
       " 'GO',\n",
       " 'CHEBI',\n",
       " 'MONDO',\n",
       " 'UBERON',\n",
       " 'DOID',\n",
       " 'CL',\n",
       " 'HP']"
      ]
     },
     "execution_count": 7,
     "metadata": {},
     "output_type": "execute_result"
    }
   ],
   "source": [
    "#check prefixes\n",
    "prefixes = []\n",
    "for i in range(len(df_new.index)):\n",
    "    subj = df_new.at[i, 'subject_obo']\n",
    "    obj = df_new.at[i, 'object_obo']\n",
    "    prefixes.append(subj.split('/')[-1].split('_')[0])\n",
    "    prefixes.append(obj.split('/')[-1].split('_')[0])\n",
    "prefixes = list(set(prefixes))\n",
    "prefixes"
   ]
  },
  {
   "cell_type": "code",
   "execution_count": 8,
   "metadata": {},
   "outputs": [],
   "source": [
    "#create rdflib graph from dataframe triples and serialize as ntriples file\n",
    "graph  = Graph()\n",
    "pred_label = URIRef(\"http://www.w3.org/2000/01/rdf-schema#label\")\n",
    "for i in range(len(df_new.index)):\n",
    "    subj = df_new.at[i, 'subject_obo']\n",
    "    obj = df_new.at[i, 'object_obo']\n",
    "    pred = df_new.at[i, 'predicate_obo']\n",
    "    subj_node = URIRef(subj)\n",
    "    obj_node = URIRef(obj)\n",
    "    predicate = URIRef(pred)\n",
    "    subj_name = df_new.at[i, 'subject_name']\n",
    "    obj_name = df_new.at[i, 'object_name']\n",
    "    graph.add((subj_node, predicate, obj_node))\n",
    "    graph.add((subj_node, pred_label, Literal(subj_name)))\n",
    "    graph.add((obj_node, pred_label, Literal(obj_name)))"
   ]
  },
  {
   "cell_type": "code",
   "execution_count": 10,
   "metadata": {},
   "outputs": [],
   "source": [
    "graph.serialize('output_graphs/machinread_reach_version1.nt', format='nt')"
   ]
  },
  {
   "cell_type": "code",
   "execution_count": 9,
   "metadata": {},
   "outputs": [
    {
     "data": {
      "text/plain": [
       "47285"
      ]
     },
     "execution_count": 9,
     "metadata": {},
     "output_type": "execute_result"
    }
   ],
   "source": [
    "len(graph)"
   ]
  },
  {
   "cell_type": "code",
   "execution_count": 11,
   "metadata": {},
   "outputs": [],
   "source": [
    "def n3(node: Union[URIRef, BNode, Literal]) -> str:\n",
    "    \"\"\"Method takes an RDFLib node of type BNode, URIRef, or Literal and serializes it to meet the RDF 1.1 NTriples\n",
    "    format.\n",
    "    Src: https://github.com/RDFLib/rdflib/blob/c11f7b503b50b7c3cdeec0f36261fa09b0615380/rdflib/plugins/serializers/nt.py\n",
    "    Args:\n",
    "        node: An RDFLib\n",
    "    Returns:\n",
    "        serialized_node: A string containing the serialized\n",
    "    \"\"\"\n",
    "    if isinstance(node, Literal): serialized_node = \"%s\" % _quoteLiteral(node)\n",
    "    else: serialized_node = \"%s\" % node.n3()\n",
    "    return serialized_node"
   ]
  },
  {
   "cell_type": "code",
   "execution_count": 12,
   "metadata": {},
   "outputs": [
    {
     "name": "stdout",
     "output_type": "stream",
     "text": [
      "<class 'pandas.core.frame.DataFrame'>\n",
      "RangeIndex: 47125 entries, 0 to 47124\n",
      "Data columns (total 19 columns):\n",
      " #   Column                Non-Null Count  Dtype  \n",
      "---  ------                --------------  -----  \n",
      " 0   related_common_name   47125 non-null  object \n",
      " 1   subject_cui           44264 non-null  object \n",
      " 2   subject_name          44264 non-null  object \n",
      " 3   subject_source        47125 non-null  object \n",
      " 4   predicate             47125 non-null  object \n",
      " 5   object_source         47125 non-null  object \n",
      " 6   object_cui            44729 non-null  object \n",
      " 7   object_name           44729 non-null  object \n",
      " 8   subj_reach_grounding  47125 non-null  object \n",
      " 9   obj_reach_grounding   47125 non-null  object \n",
      " 10  pmid                  47125 non-null  int64  \n",
      " 11  year                  47125 non-null  object \n",
      " 12  belief                47125 non-null  float64\n",
      " 13  sentence              47125 non-null  object \n",
      " 14  pub_type              47125 non-null  object \n",
      " 15  source_section        1587 non-null   object \n",
      " 16  predicate_obo         47125 non-null  object \n",
      " 17  subject_obo           47125 non-null  object \n",
      " 18  object_obo            47125 non-null  object \n",
      "dtypes: float64(1), int64(1), object(17)\n",
      "memory usage: 6.8+ MB\n"
     ]
    }
   ],
   "source": [
    "df_new.info()"
   ]
  },
  {
   "cell_type": "code",
   "execution_count": null,
   "metadata": {},
   "outputs": [],
   "source": [
    "##Creating edge metadata dict of format:\n",
    "#'CHEBI_xx-NCBITaxon_xx':\n",
    "# {\n",
    "#    'type': 'chemical_substance-organism',\n",
    "#    'relations': {\n",
    "#       'r1': {\n",
    "#          'source': [],\n",
    "#          'year': [],\n",
    "#          'pmid': [],\n",
    "#          'sentence': [],\n",
    "#          'belief': [],\n",
    "#          'weight': [],\n",
    "#          'pubtype': [],\n",
    "#          'source_section': [],\n",
    "# }\n",
    "#       'r2': {\n",
    "# }\n",
    "#}"
   ]
  },
  {
   "cell_type": "code",
   "execution_count": 13,
   "metadata": {},
   "outputs": [],
   "source": [
    "df_new = df_new.fillna('')"
   ]
  },
  {
   "cell_type": "code",
   "execution_count": 16,
   "metadata": {},
   "outputs": [
    {
     "name": "stderr",
     "output_type": "stream",
     "text": [
      "100%|██████████| 47285/47285 [54:49<00:00, 14.38it/s] \n"
     ]
    }
   ],
   "source": [
    "#convert rdflib graph to multidigraph - code borrowed from PheKnowLator: kg_utils.py\n",
    "#use the pred key to also create a dictionary with metadata about the edge - \n",
    "#pub_year, pmid, source graph, belief\n",
    "nx_mdg = nx.MultiDiGraph()\n",
    "edge_metadict = {}\n",
    "\n",
    "for s, p, o in tqdm(graph):\n",
    "    #do not save label predicate to gpickle\n",
    "    subj = str(s)\n",
    "    obj = str(o)\n",
    "    pred = str(p)\n",
    "    if pred == 'http://www.w3.org/2000/01/rdf-schema#label':\n",
    "        continue\n",
    "    else:\n",
    "        ##defining metadata dict for edge type\n",
    "        subj_type = typedict[subj.split('/')[-1].split('_')[0]]\n",
    "        obj_type = typedict[obj.split('/')[-1].split('_')[0]]\n",
    "        subj_curie = subj.split('/')[-1]\n",
    "        obj_curie = obj.split('/')[-1]\n",
    "        edge_key = subj_curie + '-' + obj_curie\n",
    "        if edge_key not in edge_metadict:\n",
    "            edge_metadict[edge_key] = {\n",
    "                'type': subj_type + '-' + obj_type,\n",
    "                'relations': {}\n",
    "            }\n",
    "        pred_curie = pred.split('/')[-1]\n",
    "        pred_key = hashlib.md5('{}{}{}'.format(n3(s), n3(p), n3(o)).encode()).hexdigest()\n",
    "        pmid = str(df_new.loc[(df_new['subject_obo'] == subj) & (df_new['object_obo'] == obj)  & \n",
    "                       (df_new['predicate_obo'] == pred)]['pmid'].values[0])\n",
    "        timestamp = str(df_new.loc[(df_new['subject_obo'] == subj) & (df_new['object_obo'] == obj)  & \n",
    "                                   (df_new['predicate_obo'] == pred)]['year'].values[0])\n",
    "        belief_score = df_new.loc[(df_new['subject_obo'] == subj) & (df_new['object_obo'] == obj)  & \n",
    "                                   (df_new['predicate_obo'] == pred)]['belief'].values[0]\n",
    "        sentence = df_new.loc[(df_new['subject_obo'] == subj) & (df_new['object_obo'] == obj)  & \n",
    "                                   (df_new['predicate_obo'] == pred)]['sentence'].values[0]\n",
    "        source_section = df_new.loc[(df_new['subject_obo'] == subj) & (df_new['object_obo'] == obj)  \n",
    "                                & (df_new['predicate_obo'] == pred)]['source_section'].values[0]\n",
    "        pub_type_list = df_new.loc[(df_new['subject_obo'] == subj) & (df_new['object_obo'] == obj)\n",
    "                                & (df_new['predicate_obo'] == pred)]['pub_type'].values[0]\n",
    "        pub_type = ast.literal_eval(pub_type_list)\n",
    "        pub_type = ' '.join(pub_type)\n",
    "        #add edge to graph\n",
    "        nx_mdg.add_node(s, key=n3(s))\n",
    "        nx_mdg.add_node(o, key=n3(o))\n",
    "        nx_mdg.add_edge(s, o, **{'key': p, 'predicate_key': pred_key, 'weight':0.0,\n",
    "                                  'source_graph': 'machine_read'})\n",
    "        \n",
    "        #add edge metadata to edge_metadict\n",
    "        if pred_curie not in edge_metadict[edge_key]['relations']:\n",
    "            edge_metadict[edge_key]['relations'][pred_curie] = {\n",
    "                'source': [],\n",
    "                'year': [],\n",
    "                'pmid': [],\n",
    "                'sentence': [],\n",
    "                'belief': [],\n",
    "                'weight': [],\n",
    "                'pubtype': [],\n",
    "                'source_section': [],\n",
    "            }\n",
    "        edge_metadict[edge_key]['relations'][pred_curie]['source'].append('reach')\n",
    "        edge_metadict[edge_key]['relations'][pred_curie]['year'].append(timestamp)\n",
    "        edge_metadict[edge_key]['relations'][pred_curie]['pmid'].append(pmid)\n",
    "        edge_metadict[edge_key]['relations'][pred_curie]['sentence'].append(sentence)\n",
    "        edge_metadict[edge_key]['relations'][pred_curie]['belief'].append(belief_score)\n",
    "        edge_metadict[edge_key]['relations'][pred_curie]['weight'].append(0.0)\n",
    "        edge_metadict[edge_key]['relations'][pred_curie]['pubtype'].append(pub_type)\n",
    "        edge_metadict[edge_key]['relations'][pred_curie]['source_section'].append(source_section)\n",
    "            \n",
    "nx.write_gpickle(nx_mdg, \"output_graphs/machineread_reach_version1.gpickle\")"
   ]
  },
  {
   "cell_type": "code",
   "execution_count": 17,
   "metadata": {},
   "outputs": [
    {
     "name": "stdout",
     "output_type": "stream",
     "text": [
      "PR_287-PR_Q13507\n",
      "{'type': 'protein-protein', 'relations': {'RO_0002448': {'source': ['reach'], 'year': ['2000 Aug'], 'pmid': ['10983988'], 'sentence': ['<RESULTS> Ca21 Release by Activation of RyRs Activates hTrp3 and Icrac The parental HEK293 cells and the HEK 293 cells stably expressing the hTrp3 channels (T3 cells) used in the present study showed a similar Ca21 release in response to stimulation with the RyRs ligand caffeine (Figure 1, A1), which averaged 38.7 6 7.7% (n 5 5) and 37.2 6 3.8% (n 5 7) of that caused by stimulation of the Gq- coupled P2Y receptor with UTP.'], 'belief': [0.86], 'weight': [0.0], 'pubtype': ['Journal Article'], 'source_section': ['']}}}\n"
     ]
    }
   ],
   "source": [
    "for k, v in edge_metadict.items():\n",
    "    print(k)\n",
    "    print(v)\n",
    "    break"
   ]
  },
  {
   "cell_type": "code",
   "execution_count": 19,
   "metadata": {},
   "outputs": [],
   "source": [
    "##write edge metadata to pickle\n",
    "import pickle\n",
    "with open('output_graphs/edge_metadata_reach_version1.pickle', 'wb') as filep:\n",
    "    pickle.dump(edge_metadict, filep)"
   ]
  },
  {
   "cell_type": "code",
   "execution_count": 20,
   "metadata": {},
   "outputs": [
    {
     "name": "stdout",
     "output_type": "stream",
     "text": [
      "6217 40245 0.0010414059593728245 6.473379443461477\n"
     ]
    }
   ],
   "source": [
    "#this should have less edges than rdflib graph after removing 'labels'\n",
    "nodes = nx.number_of_nodes(nx_mdg)\n",
    "edges = nx.number_of_edges(nx_mdg)\n",
    "density = nx.density(nx_mdg)\n",
    "avg_deg = float(edges)/nodes\n",
    "print(nodes, edges, density, avg_deg)"
   ]
  },
  {
   "cell_type": "code",
   "execution_count": 21,
   "metadata": {},
   "outputs": [
    {
     "data": {
      "text/plain": [
       "6230"
      ]
     },
     "execution_count": 21,
     "metadata": {},
     "output_type": "execute_result"
    }
   ],
   "source": [
    "#save node labels as dictionary\n",
    "#key: URI, value is label\n",
    "label_dict = {}\n",
    "##change label for activation and inhibition, and make all lowercase\n",
    "for i in range(len(df_new.index)):\n",
    "    subj = str(df_new.at[i, 'subject_obo'])\n",
    "    obj = str(df_new.at[i, 'object_obo'])\n",
    "    pred = str(df_new.at[i, 'predicate_obo'])\n",
    "    if subj not in label_dict:\n",
    "        label_dict[subj] = {}\n",
    "        label_dict[subj]['entity_type'] = 'NODES'\n",
    "        label_dict[subj]['label'] = df_new.at[i, 'subject_name']\n",
    "        label_dict[subj]['cui'] = df_new.at[i, 'subject_cui']\n",
    "    if obj not in label_dict:\n",
    "        label_dict[obj] = {}\n",
    "        label_dict[obj]['entity_type'] = 'NODES'\n",
    "        label_dict[obj]['label'] = df_new.at[i, 'object_name']\n",
    "        label_dict[obj]['cui'] = df_new.at[i, 'object_cui']\n",
    "    if pred not in label_dict:\n",
    "        label_dict[pred] = {}\n",
    "        label_dict[pred]['entity_type'] = 'RELATIONS'\n",
    "        predlabel = df_new.at[i, 'predicate'].lower()\n",
    "        label_dict[pred]['label'] = df_new.at[i, 'predicate']\n",
    "len(label_dict)"
   ]
  },
  {
   "cell_type": "code",
   "execution_count": 22,
   "metadata": {},
   "outputs": [],
   "source": [
    "import pickle\n",
    "with open('output_graphs/reach_version1_NodeLabels.pickle', 'wb') as file_p2:\n",
    "    pickle.dump(label_dict, file_p2)"
   ]
  },
  {
   "cell_type": "code",
   "execution_count": 23,
   "metadata": {},
   "outputs": [
    {
     "data": {
      "text/html": [
       "<div>\n",
       "<style scoped>\n",
       "    .dataframe tbody tr th:only-of-type {\n",
       "        vertical-align: middle;\n",
       "    }\n",
       "\n",
       "    .dataframe tbody tr th {\n",
       "        vertical-align: top;\n",
       "    }\n",
       "\n",
       "    .dataframe thead th {\n",
       "        text-align: right;\n",
       "    }\n",
       "</style>\n",
       "<table border=\"1\" class=\"dataframe\">\n",
       "  <thead>\n",
       "    <tr style=\"text-align: right;\">\n",
       "      <th></th>\n",
       "      <th>index</th>\n",
       "      <th>entity_type</th>\n",
       "      <th>label</th>\n",
       "      <th>cui</th>\n",
       "    </tr>\n",
       "  </thead>\n",
       "  <tbody>\n",
       "    <tr>\n",
       "      <th>0</th>\n",
       "      <td>http://purl.obolibrary.org/obo/PR_P10635</td>\n",
       "      <td>NODES</td>\n",
       "      <td>Cytochrome_P-450_CYP2D6</td>\n",
       "      <td>C0057223</td>\n",
       "    </tr>\n",
       "    <tr>\n",
       "      <th>1</th>\n",
       "      <td>http://purl.obolibrary.org/obo/GO_0008152</td>\n",
       "      <td>NODES</td>\n",
       "      <td>metabolic_aspects</td>\n",
       "      <td>C0025520</td>\n",
       "    </tr>\n",
       "    <tr>\n",
       "      <th>2</th>\n",
       "      <td>http://purl.obolibrary.org/obo/RO_0002448</td>\n",
       "      <td>RELATIONS</td>\n",
       "      <td>Activation</td>\n",
       "      <td>NaN</td>\n",
       "    </tr>\n",
       "    <tr>\n",
       "      <th>3</th>\n",
       "      <td>http://purl.obolibrary.org/obo/CHEBI_77748</td>\n",
       "      <td>NODES</td>\n",
       "      <td>P-glycoprotein_Inhibitor</td>\n",
       "      <td>C3898062</td>\n",
       "    </tr>\n",
       "    <tr>\n",
       "      <th>4</th>\n",
       "      <td>http://purl.obolibrary.org/obo/CHEBI_4551</td>\n",
       "      <td>NODES</td>\n",
       "      <td>Digoxin</td>\n",
       "      <td>C0012265</td>\n",
       "    </tr>\n",
       "  </tbody>\n",
       "</table>\n",
       "</div>"
      ],
      "text/plain": [
       "                                        index entity_type  \\\n",
       "0    http://purl.obolibrary.org/obo/PR_P10635       NODES   \n",
       "1   http://purl.obolibrary.org/obo/GO_0008152       NODES   \n",
       "2   http://purl.obolibrary.org/obo/RO_0002448   RELATIONS   \n",
       "3  http://purl.obolibrary.org/obo/CHEBI_77748       NODES   \n",
       "4   http://purl.obolibrary.org/obo/CHEBI_4551       NODES   \n",
       "\n",
       "                      label       cui  \n",
       "0   Cytochrome_P-450_CYP2D6  C0057223  \n",
       "1         metabolic_aspects  C0025520  \n",
       "2                Activation       NaN  \n",
       "3  P-glycoprotein_Inhibitor  C3898062  \n",
       "4                   Digoxin  C0012265  "
      ]
     },
     "execution_count": 23,
     "metadata": {},
     "output_type": "execute_result"
    }
   ],
   "source": [
    "dfmap = pd.DataFrame.from_dict(label_dict, orient='index')\n",
    "dfmap = dfmap.rename(columns={\"index\":\"entity_uri\"})\n",
    "dfmap = dfmap.reset_index()\n",
    "dfmap.head()"
   ]
  },
  {
   "cell_type": "code",
   "execution_count": 24,
   "metadata": {},
   "outputs": [],
   "source": [
    "dfmap.to_csv('output_graphs/reach_NodeLabels.tsv', index=False, sep='\\t')"
   ]
  },
  {
   "cell_type": "code",
   "execution_count": null,
   "metadata": {},
   "outputs": [],
   "source": []
  }
 ],
 "metadata": {
  "kernelspec": {
   "display_name": "Python 3.6.13 ('sanya_kg')",
   "language": "python",
   "name": "python3"
  },
  "language_info": {
   "codemirror_mode": {
    "name": "ipython",
    "version": 3
   },
   "file_extension": ".py",
   "mimetype": "text/x-python",
   "name": "python",
   "nbconvert_exporter": "python",
   "pygments_lexer": "ipython3",
   "version": "3.6.13"
  },
  "orig_nbformat": 4,
  "vscode": {
   "interpreter": {
    "hash": "41f6dbb4620f1287d918c6d619d0adb09c41576ea2dff392e8096d45e1460f3a"
   }
  }
 },
 "nbformat": 4,
 "nbformat_minor": 2
}
