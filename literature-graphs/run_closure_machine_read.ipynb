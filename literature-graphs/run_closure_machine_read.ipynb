{
 "cells": [
  {
   "cell_type": "markdown",
   "metadata": {},
   "source": [
    "## NaPDI machine reading knowledge graph instance closure\n",
    "\n",
    "Closure run for SemRep and REACH predications in merged machine reading graph."
   ]
  },
  {
   "cell_type": "code",
   "execution_count": 1,
   "metadata": {},
   "outputs": [],
   "source": [
    "## Set up the CLIPS environment\n",
    "import clips\n",
    "env = clips.Environment()\n",
    "\n",
    "MIN_PREDICATION_BELIEF = 0\n",
    "MIN_TRANSITIVE_BELIEF = 0  # chosen because it retains most depth 1 transitive inferences over semmed  \n",
    "\n",
    "## NOTE: BE SURE TO CLEAR test-inference.ntriples EACH TIME BEFORE RUNNING!!\n",
    "## This accomplishes that\n",
    "f = open(\"closure_output/test-inference.ntriples\",'w')\n",
    "f.close()"
   ]
  },
  {
   "cell_type": "code",
   "execution_count": 2,
   "metadata": {},
   "outputs": [],
   "source": [
    "import pandas as pd\n",
    "import numpy as np"
   ]
  },
  {
   "cell_type": "code",
   "execution_count": 4,
   "metadata": {},
   "outputs": [],
   "source": [
    "#load merged machine reading graph - ntriples/gpickle - already mapped and processed - LOAD TSVs instead\n",
    "##load TSVs after mapping for all machine reading output\n",
    "mr_reach = 'reach_data/reach_all_predicates_mapped_processed_new_20230423.tsv'\n",
    "mr_semrep = 'semrep_data/semrep_all_predicates_mapped_processed_new_20230423.tsv'"
   ]
  },
  {
   "cell_type": "code",
   "execution_count": 5,
   "metadata": {},
   "outputs": [
    {
     "name": "stdout",
     "output_type": "stream",
     "text": [
      "<class 'pandas.core.frame.DataFrame'>\n",
      "RangeIndex: 47125 entries, 0 to 47124\n",
      "Data columns (total 19 columns):\n",
      " #   Column                Non-Null Count  Dtype  \n",
      "---  ------                --------------  -----  \n",
      " 0   related_common_name   47125 non-null  object \n",
      " 1   subject_cui           44264 non-null  object \n",
      " 2   subject_name          44264 non-null  object \n",
      " 3   subject_source        47125 non-null  object \n",
      " 4   predicate             47125 non-null  object \n",
      " 5   object_source         47125 non-null  object \n",
      " 6   object_cui            44729 non-null  object \n",
      " 7   object_name           44729 non-null  object \n",
      " 8   subj_reach_grounding  47125 non-null  object \n",
      " 9   obj_reach_grounding   47125 non-null  object \n",
      " 10  pmid                  47125 non-null  int64  \n",
      " 11  year                  47125 non-null  object \n",
      " 12  belief                47125 non-null  float64\n",
      " 13  sentence              47125 non-null  object \n",
      " 14  pub_type              47125 non-null  object \n",
      " 15  source_section        1587 non-null   object \n",
      " 16  predicate_obo         47125 non-null  object \n",
      " 17  subject_obo           47125 non-null  object \n",
      " 18  object_obo            47125 non-null  object \n",
      "dtypes: float64(1), int64(1), object(17)\n",
      "memory usage: 6.8+ MB\n"
     ]
    },
    {
     "name": "stderr",
     "output_type": "stream",
     "text": [
      "/home/sanya/.conda/envs/sanya_kg/lib/python3.6/site-packages/IPython/core/interactiveshell.py:3072: DtypeWarning: Columns (15) have mixed types.Specify dtype option on import or set low_memory=False.\n",
      "  interactivity=interactivity, compiler=compiler, result=result)\n"
     ]
    }
   ],
   "source": [
    "dfr = pd.read_csv(mr_reach, sep='\\t')\n",
    "dfr.info()"
   ]
  },
  {
   "cell_type": "code",
   "execution_count": 6,
   "metadata": {},
   "outputs": [
    {
     "name": "stdout",
     "output_type": "stream",
     "text": [
      "<class 'pandas.core.frame.DataFrame'>\n",
      "RangeIndex: 54348 entries, 0 to 54347\n",
      "Data columns (total 17 columns):\n",
      " #   Column               Non-Null Count  Dtype \n",
      "---  ------               --------------  ----- \n",
      " 0   index                54348 non-null  int64 \n",
      " 1   pmid                 54348 non-null  int64 \n",
      " 2   subject_cui          54348 non-null  object\n",
      " 3   subject_name         54348 non-null  object\n",
      " 4   subject_type         54348 non-null  object\n",
      " 5   object_cui           54348 non-null  object\n",
      " 6   object_name          54348 non-null  object\n",
      " 7   object_type          54348 non-null  object\n",
      " 8   year                 54348 non-null  int64 \n",
      " 9   sentence             54348 non-null  object\n",
      " 10  source_section       24088 non-null  object\n",
      " 11  pub_type             54348 non-null  object\n",
      " 12  related_common_name  54348 non-null  object\n",
      " 13  predicate            54348 non-null  object\n",
      " 14  predicate_obo        54348 non-null  object\n",
      " 15  subject_obo          54348 non-null  object\n",
      " 16  object_obo           54348 non-null  object\n",
      "dtypes: int64(3), object(14)\n",
      "memory usage: 7.0+ MB\n"
     ]
    }
   ],
   "source": [
    "dfsem = pd.read_csv(mr_semrep, sep='\\t')\n",
    "dfsem.info()"
   ]
  },
  {
   "cell_type": "code",
   "execution_count": 7,
   "metadata": {},
   "outputs": [],
   "source": [
    "dfr = dfr[['pmid', 'subject_cui', 'subject_name', 'object_cui', 'object_name', 'year', 'predicate', 'sentence', 'predicate_obo', 'subject_obo', 'object_obo', 'belief']]"
   ]
  },
  {
   "cell_type": "code",
   "execution_count": 8,
   "metadata": {},
   "outputs": [],
   "source": [
    "dfsem = dfsem[['pmid', 'subject_cui', 'subject_name', 'object_cui',  'object_name', 'year', 'predicate', 'sentence', 'predicate_obo', 'subject_obo', 'object_obo']]"
   ]
  },
  {
   "cell_type": "code",
   "execution_count": 9,
   "metadata": {},
   "outputs": [],
   "source": [
    "##all dataframes should have the same columns\n",
    "#add belief = 0.8 to semrep predications\n",
    "dfsem['belief'] = 0.8"
   ]
  },
  {
   "cell_type": "code",
   "execution_count": null,
   "metadata": {},
   "outputs": [],
   "source": []
  },
  {
   "cell_type": "code",
   "execution_count": 10,
   "metadata": {},
   "outputs": [
    {
     "name": "stdout",
     "output_type": "stream",
     "text": [
      "<class 'pandas.core.frame.DataFrame'>\n",
      "Int64Index: 101473 entries, 0 to 54347\n",
      "Data columns (total 12 columns):\n",
      " #   Column         Non-Null Count   Dtype  \n",
      "---  ------         --------------   -----  \n",
      " 0   pmid           101473 non-null  int64  \n",
      " 1   subject_cui    98612 non-null   object \n",
      " 2   subject_name   98612 non-null   object \n",
      " 3   object_cui     99077 non-null   object \n",
      " 4   object_name    99077 non-null   object \n",
      " 5   year           101473 non-null  object \n",
      " 6   predicate      101473 non-null  object \n",
      " 7   sentence       101473 non-null  object \n",
      " 8   predicate_obo  101473 non-null  object \n",
      " 9   subject_obo    101473 non-null  object \n",
      " 10  object_obo     101473 non-null  object \n",
      " 11  belief         101473 non-null  float64\n",
      "dtypes: float64(1), int64(1), object(10)\n",
      "memory usage: 10.1+ MB\n"
     ]
    }
   ],
   "source": [
    "df = pd.concat([dfr, dfsem])\n",
    "df.info()"
   ]
  },
  {
   "cell_type": "code",
   "execution_count": 11,
   "metadata": {},
   "outputs": [
    {
     "name": "stdout",
     "output_type": "stream",
     "text": [
      "<class 'pandas.core.frame.DataFrame'>\n",
      "Int64Index: 96441 entries, 0 to 54347\n",
      "Data columns (total 12 columns):\n",
      " #   Column         Non-Null Count  Dtype  \n",
      "---  ------         --------------  -----  \n",
      " 0   pmid           96441 non-null  int64  \n",
      " 1   subject_cui    93662 non-null  object \n",
      " 2   subject_name   93662 non-null  object \n",
      " 3   object_cui     94167 non-null  object \n",
      " 4   object_name    94167 non-null  object \n",
      " 5   year           96441 non-null  object \n",
      " 6   predicate      96441 non-null  object \n",
      " 7   sentence       96441 non-null  object \n",
      " 8   predicate_obo  96441 non-null  object \n",
      " 9   subject_obo    96441 non-null  object \n",
      " 10  object_obo     96441 non-null  object \n",
      " 11  belief         96441 non-null  float64\n",
      "dtypes: float64(1), int64(1), object(10)\n",
      "memory usage: 9.6+ MB\n"
     ]
    }
   ],
   "source": [
    "df = df.drop_duplicates()\n",
    "df.info()"
   ]
  },
  {
   "cell_type": "code",
   "execution_count": 12,
   "metadata": {},
   "outputs": [
    {
     "name": "stdout",
     "output_type": "stream",
     "text": [
      "<class 'pandas.core.frame.DataFrame'>\n",
      "RangeIndex: 96441 entries, 0 to 96440\n",
      "Data columns (total 12 columns):\n",
      " #   Column         Non-Null Count  Dtype  \n",
      "---  ------         --------------  -----  \n",
      " 0   pmid           96441 non-null  int64  \n",
      " 1   subject_cui    93662 non-null  object \n",
      " 2   subject_name   93662 non-null  object \n",
      " 3   object_cui     94167 non-null  object \n",
      " 4   object_name    94167 non-null  object \n",
      " 5   year           96441 non-null  object \n",
      " 6   predicate      96441 non-null  object \n",
      " 7   sentence       96441 non-null  object \n",
      " 8   predicate_obo  96441 non-null  object \n",
      " 9   subject_obo    96441 non-null  object \n",
      " 10  object_obo     96441 non-null  object \n",
      " 11  belief         96441 non-null  float64\n",
      "dtypes: float64(1), int64(1), object(10)\n",
      "memory usage: 8.8+ MB\n"
     ]
    }
   ],
   "source": [
    "df = df.reset_index(drop=True)\n",
    "df.info()"
   ]
  },
  {
   "cell_type": "code",
   "execution_count": 13,
   "metadata": {},
   "outputs": [
    {
     "data": {
      "text/plain": [
       "Activation                21145\n",
       "Inhibition                15811\n",
       "interacts_with             9181\n",
       "part_of                    8980\n",
       "coexists_with              5328\n",
       "affects                    5220\n",
       "stimulates                 4900\n",
       "inhibits                   4764\n",
       "IncreaseAmount             3732\n",
       "treats                     2907\n",
       "DecreaseAmount             2721\n",
       "disrupts                   2594\n",
       "causes                     2405\n",
       "augments                   2081\n",
       "associated_with            1059\n",
       "produces                    777\n",
       "Phosphorylation             716\n",
       "Hydroxylation               426\n",
       "prevents                    414\n",
       "Dephosphorylation           282\n",
       "predisposes                 260\n",
       "Dehydroxylation             153\n",
       "treats(infer)               138\n",
       "Demethylation               137\n",
       "Methylation                  94\n",
       "precedes                     54\n",
       "Acetylation                  40\n",
       "Glycosylation                40\n",
       "Deacetylation                20\n",
       "Ubiquitination               16\n",
       "interacts_with(infer)        11\n",
       "associated_with(infer)       11\n",
       "Deubiquitination              8\n",
       "complicates                   6\n",
       "Deglycosylation               5\n",
       "Ribosylation                  3\n",
       "Sumoylation                   2\n",
       "Name: predicate, dtype: int64"
      ]
     },
     "execution_count": 13,
     "metadata": {},
     "output_type": "execute_result"
    }
   ],
   "source": [
    "df['predicate'].value_counts()"
   ]
  },
  {
   "cell_type": "code",
   "execution_count": 14,
   "metadata": {},
   "outputs": [
    {
     "data": {
      "text/plain": [
       "http://purl.obolibrary.org/obo/RO_0002448     21145\n",
       "http://purl.obolibrary.org/obo/RO_0002449     20575\n",
       "http://purl.obolibrary.org/obo/RO_0002434      9192\n",
       "http://purl.obolibrary.org/obo/BFO_0000050     8980\n",
       "http://purl.obolibrary.org/obo/RO_0002490      5328\n",
       "http://purl.obolibrary.org/obo/RO_0002596      5220\n",
       "http://purl.obolibrary.org/obo/RO_0002213      4900\n",
       "http://purl.obolibrary.org/obo/RO_0011009      3732\n",
       "http://purl.obolibrary.org/obo/RO_0002606      3045\n",
       "http://purl.obolibrary.org/obo/RO_0011010      2721\n",
       "http://purl.obolibrary.org/obo/RO_0002212      2594\n",
       "http://purl.obolibrary.org/obo/RO_0002566      2405\n",
       "http://purl.obolibrary.org/obo/RO_0002598      2081\n",
       "http://purl.obolibrary.org/obo/RO_0002610      1070\n",
       "http://purl.obolibrary.org/obo/RO_0003000       777\n",
       "http://purl.obolibrary.org/obo/RO_0002447       716\n",
       "http://purl.obolibrary.org/obo/GO_0018126       426\n",
       "http://purl.obolibrary.org/obo/RO_0002599       414\n",
       "http://purl.obolibrary.org/obo/GO_0006470       282\n",
       "http://purl.obolibrary.org/obo/RO_0003302       260\n",
       "http://purl.obolibrary.org/obo/RO_0002436       158\n",
       "http://purl.obolibrary.org/obo/GO_0006482       137\n",
       "http://purl.obolibrary.org/obo/GO_0006479        94\n",
       "http://purl.obolibrary.org/obo/BFO_0000063       54\n",
       "http://purl.obolibrary.org/obo/GO_0006473        40\n",
       "http://purl.obolibrary.org/obo/GO_0006486        40\n",
       "http://purl.obolibrary.org/obo/GO_0006476        20\n",
       "http://purl.obolibrary.org/obo/RO_0002480        16\n",
       "http://purl.obolibrary.org/obo/GO_0016579         8\n",
       "http://purl.obolibrary.org/obo/RO_0003309         6\n",
       "http://purl.obolibrary.org/obo/GO_0006517         5\n",
       "Name: predicate_obo, dtype: int64"
      ]
     },
     "execution_count": 14,
     "metadata": {},
     "output_type": "execute_result"
    }
   ],
   "source": [
    "df['predicate_obo'].value_counts()"
   ]
  },
  {
   "cell_type": "markdown",
   "metadata": {},
   "source": [
    "### Rules"
   ]
  },
  {
   "cell_type": "code",
   "execution_count": 15,
   "metadata": {},
   "outputs": [],
   "source": [
    "## Example\n",
    "##Transitive predicates - part of, precedes\n",
    "##Symmetric predicates - interacts_with, moleculary_interacts_with\n",
    "###NPKG version 2: removed 'positively regulates' from transitive predicates\n",
    "env.clear()\n",
    "env.reset()\n",
    "\n",
    "env.eval('(open \"closure_output/test-inference.ntriples\" writeFile \"a\")')\n",
    "\n",
    "env.build(\"\"\"\n",
    "(deftemplate oav\n",
    " (slot object)\n",
    " (slot attribute)\n",
    " (slot value)\n",
    " (slot predNS)\n",
    " (slot inferred (default No))\n",
    " (slot belief (default 0.0)))\n",
    "\"\"\")\n",
    "\n",
    "## Transitive rule \n",
    "env.build(\"\"\"\n",
    "(defrule transitive\n",
    "  \"a simple transitivity rule\"\n",
    "  (oav (object ?o)\n",
    "       (attribute ?pred&:(member$ ?pred (create$ http://purl.obolibrary.org/obo/BFO_0000063 http://purl.obolibrary.org/obo/BFO_0000050)))\n",
    "       (value ?s)\n",
    "       (predNS RO)\n",
    "       (inferred No)\n",
    "       (belief ?b1))\n",
    "  (oav (object ?s)\n",
    "       (attribute ?pred)\n",
    "       (value ?q)\n",
    "       (predNS RO)\n",
    "       (inferred No)\n",
    "       (belief ?b2))\n",
    "   (test (>= (* ?b1 ?b2) {}))\n",
    "  =>\n",
    "  (assert (oav (object ?o)\n",
    "               (attribute ?pred)\n",
    "               (value ?q)\n",
    "               (inferred Yes)\n",
    "               (predNS RO)\n",
    "               (belief (* ?b1 ?b2))))\n",
    "  \n",
    "  (printout writeFile (format nil \"<%s><%s><%s>.%n\" ?o ?pred ?q))   \n",
    ")\n",
    "\"\"\".format(MIN_TRANSITIVE_BELIEF))\n",
    "# NOTE: add this line to RHS to see the belief scores:\n",
    "# (printout writeFile (format nil \"b1: %f, b2: %f, belief: %f>.%n\" ?b1 ?b2 (* ?b1 ?b2))) \n",
    "\n",
    "## simplerule for symmetric relationships \n",
    "env.build(\"\"\"\n",
    "(defrule symmetric\n",
    "  \"a simple symmetry rule\"\n",
    "  (oav (object ?o)\n",
    "       (attribute ?pred&:(member$ ?pred (create$ http://purl.obolibrary.org/obo/RO_0002434 http://purl.obolibrary.org/obo/RO_0002436)))\n",
    "       (value ?s)\n",
    "       (predNS RO)\n",
    "       (inferred No)\n",
    "       (belief ?b))\n",
    "  =>\n",
    "  (assert (oav (object ?s)\n",
    "               (attribute ?pred)\n",
    "               (value ?o)\n",
    "               (inferred Yes)\n",
    "               (predNS RO)\n",
    "               (belief ?b)))\n",
    "  \n",
    "  (printout writeFile (format nil \"<%s><%s><%s>.%n\" ?o ?pred ?s))  \n",
    ")\n",
    "\"\"\")\n"
   ]
  },
  {
   "cell_type": "code",
   "execution_count": 16,
   "metadata": {},
   "outputs": [],
   "source": [
    "predMapD = {\n",
    "    'regulateactivity':'RO_0011002',\n",
    "    'regulateamount':'RO_0011003',\n",
    "    'phosphorylation':'RO_0002447',\n",
    "    'dephosphorylation':'GO_0006470',\n",
    "    'ubiquitination':'RO_0002480',\n",
    "    'deubiquitination':'GO_0016579',\n",
    "    'sumoylation':'RO_0002436',\n",
    "    'desumoylation':'RO_0002436',\n",
    "    'hydroxylation':'GO_0018126',\n",
    "    'dehydroxylation':'RO_0002436',\n",
    "    'acetylation':'GO_0006473',\n",
    "    'deacetylation':'GO_0006476',\n",
    "    'glycosylation':'GO_0006486',\n",
    "    'deglycosylation':'GO_0006517',\n",
    "    'farnesylation':'RO_0002436',\n",
    "    'defarnesylation':'RO_0002436',\n",
    "    'geranylgeranylation':'RO_0002436',\n",
    "    'degeranylgeranylation':'RO_0002436',\n",
    "    'palmitoylation':'RO_0002436',\n",
    "    'depalmitoylation':'RO_0002436',\n",
    "    'myristoylation':'RO_0002436',\n",
    "    'demyristoylation':'RO_0002436',\n",
    "    'ribosylation':'RO_0002436',\n",
    "    'deribosylation':'RO_0002436',\n",
    "    'methylation':'GO_0006479',\n",
    "    'demethylation':'GO_0006482',\n",
    "    'activation':'RO_0002448',\n",
    "    'inhibition':'RO_0002449',\n",
    "    'increaseamount':'RO_0011009',\n",
    "    'decreaseamount':'RO_0011010',\n",
    "    'affects': 'RO_0002596',\n",
    "    'associated_with': 'RO_0002610',\n",
    "    'augments': 'RO_0002598',\n",
    "    'causes': 'RO_0002566',\n",
    "    'coexists_with': 'RO_0002490',\n",
    "    'complicates': 'RO_0003309',\n",
    "    'disrupts': 'RO_0002212',\n",
    "    'inhibits': 'RO_0002449',\n",
    "    'interacts_with': 'RO_0002434',\n",
    "    'part_of': 'BFO_0000050',\n",
    "    'precedes': 'BFO_0000063',\n",
    "    'predisposes': 'RO_0003302',\n",
    "    'prevents': 'RO_0002599',\n",
    "    'produces': 'RO_0003000',\n",
    "    'stimulates': 'RO_0002213',\n",
    "    'treats': 'RO_0002606'\n",
    "}\n"
   ]
  },
  {
   "cell_type": "markdown",
   "metadata": {},
   "source": [
    "### Facts "
   ]
  },
  {
   "cell_type": "code",
   "execution_count": 17,
   "metadata": {},
   "outputs": [],
   "source": [
    "originalTriplesF = open('closure_output/original-triples.ntriples','w')\n",
    "\n",
    "resourceD = {}\n",
    "resourceDinv = {}\n",
    "rcnt = 0\n",
    "fctStrD = {}\n",
    "#semTypeD = {}\n",
    "labelsD = {}\n",
    "\n",
    "for i in range(len(df.index)): \n",
    "   \n",
    "    belief = df.at[i, 'belief']\n",
    "    if belief < MIN_PREDICATION_BELIEF:\n",
    "        continue\n",
    "    \n",
    "    (subj_obo, pred_obo, obj_obo) = (df.at[i, 'subject_obo'],\n",
    "                                    df.at[i, 'predicate_obo'],\n",
    "                                    df.at[i, 'object_obo'])\n",
    "    (subj, pred, obj) = (df.at[i,'subject_name'],\n",
    "                        df.at[i,'predicate'].lower().strip(),\n",
    "                        df.at[i, 'object_name'])\n",
    "\n",
    "    # only write out and/or do inference over some predicates\n",
    "    if pred not in predMapD:        \n",
    "        continue\n",
    "        \n",
    "    # write the original triple to file, regardless of the predicate\n",
    "    originalTriplesF.write(\"<{}><{}><{}>.\\n\".format(subj_obo,pred_obo,obj_obo))\n",
    "        \n",
    "    # Track the subject and object names\n",
    "    subjName = subj\n",
    "    objName = obj\n",
    "    \n",
    "    \n",
    "    '''# Track the semantic types\n",
    "    semTypesStr = stmtSplt[SUBJECT_TYPE]\n",
    "    if semTypesStr.find('[') == -1:\n",
    "        if not semTypeD.get(subj):\n",
    "            semTypeD[subj] = [semTypesStr.strip()]\n",
    "        else:\n",
    "            semTypeD[subj] = semTypeD[subj].append(semTypesStr.strip())\n",
    "    else:\n",
    "        semTypesStr = semTypesStr.replace(\"'\",'').replace('[','').replace(']','')\n",
    "        semTypesL = [x.strip() for x in semTypesStr.split(',')]\n",
    "        if not semTypeD.get(subj):\n",
    "            semTypeD[subj] = semTypesL\n",
    "        else:\n",
    "            semTypeD[subj] = semTypeD[subj] + semTypesL\n",
    "            \n",
    "    semTypesStr = stmtSplt[OBJECT_TYPE]\n",
    "    if semTypesStr.find('[') == -1:\n",
    "        if not semTypeD.get(obj):\n",
    "            semTypeD[obj] = [semTypesStr.strip()]\n",
    "        else:\n",
    "            semTypeD[obj] = semTypeD[obj].append(semTypesStr.strip())\n",
    "    else:\n",
    "        semTypesStr = semTypesStr.replace(\"'\",'').replace('[','').replace(']','')\n",
    "        semTypesL = [x.strip() for x in semTypesStr.split(',')]\n",
    "        if not semTypeD.get(obj):\n",
    "            semTypeD[obj] = semTypesL\n",
    "        else:\n",
    "            semTypeD[obj] = semTypeD[obj] + semTypesL'''\n",
    "        \n",
    "    if not resourceD.get(subj_obo):\n",
    "        resourceD[subj_obo] = 'r{}'.format(rcnt)\n",
    "        resourceDinv['r{}'.format(rcnt)] = subj_obo\n",
    "        rcnt += 1\n",
    "    \n",
    "    if not resourceD.get(obj_obo):\n",
    "        resourceD[obj_obo] = 'r{}'.format(rcnt)\n",
    "        resourceDinv['r{}'.format(rcnt)] = obj_obo\n",
    "        rcnt += 1    \n",
    "    \n",
    "        \n",
    "    fctStr = \"\"\"\n",
    "(oav (object {})\n",
    "     (attribute {})\n",
    "     (value {})\n",
    "     (predNS {})\n",
    "     (belief {})\n",
    ")\"\"\".format(resourceD[subj_obo], pred_obo, resourceD[obj_obo], 'RO', belief)\n",
    "    \n",
    "    if not fctStrD.get(fctStr): \n",
    "        env.assert_string(fctStr)\n",
    "        fctStrD[fctStr] = 1\n",
    "    \n",
    "    \n",
    "    # write the human readable labels as triples\n",
    "    if isinstance(subj,str):\n",
    "        originalTriplesF.write('<{}><http://www.w3.org/2000/01/rdf-schema#label> \"{}\".\\n'.format(subj_obo,subj.replace('\"','')))\n",
    "    if isinstance(obj,str):\n",
    "        originalTriplesF.write('<{}><http://www.w3.org/2000/01/rdf-schema#label> \"{}\".\\n'.format(obj_obo,obj.replace('\"','')))\n",
    "\n",
    "'''# Write the semantic types as triples\n",
    "for (e,st) in semTypeD.items():\n",
    "    if st:\n",
    "        stSet = set(st)\n",
    "        for elt in stSet:\n",
    "            originalTriplesF.write(\"<http://dikb.org/ad#{}><http://www.w3.org/1999/02/22-rdf-syntax-ns#type><http://umls.org/st/#{}>.\\n\".format(e,elt.replace('\"','')))\n",
    "'''\n",
    "originalTriplesF.close()"
   ]
  },
  {
   "cell_type": "code",
   "execution_count": 18,
   "metadata": {},
   "outputs": [
    {
     "name": "stdout",
     "output_type": "stream",
     "text": [
      "(oav (object r0) (attribute http://purl.obolibrary.org/obo/RO_0002448) (value r1) (predNS RO) (inferred No) (belief 0.65))\n",
      "(oav (object r2) (attribute http://purl.obolibrary.org/obo/RO_0002448) (value r3) (predNS RO) (inferred No) (belief 0.65))\n",
      "(oav (object r2) (attribute http://purl.obolibrary.org/obo/RO_0002448) (value r4) (predNS RO) (inferred No) (belief 0.65))\n",
      "(oav (object r5) (attribute http://purl.obolibrary.org/obo/RO_0002448) (value r6) (predNS RO) (inferred No) (belief 0.65))\n",
      "(oav (object r7) (attribute http://purl.obolibrary.org/obo/RO_0002448) (value r7) (predNS RO) (inferred No) (belief 0.65))\n",
      "(oav (object r8) (attribute http://purl.obolibrary.org/obo/RO_0002448) (value r9) (predNS RO) (inferred No) (belief 0.65))\n",
      "(oav (object r10) (attribute http://purl.obolibrary.org/obo/RO_0002448) (value r11) (predNS RO) (inferred No) (belief 0.65))\n",
      "(oav (object r12) (attribute http://purl.obolibrary.org/obo/RO_0002448) (value r9) (predNS RO) (inferred No) (belief 0.65))\n",
      "(oav (object r12) (attribute http://purl.obolibrary.org/obo/RO_0002448) (value r13) (predNS RO) (inferred No) (belief 0.65))\n",
      "(oav (object r14) (attribute http://purl.obolibrary.org/obo/RO_0002448) (value r0) (predNS RO) (inferred No) (belief 0.65))\n",
      "(oav (object r15) (attribute http://purl.obolibrary.org/obo/RO_0002448) (value r16) (predNS RO) (inferred No) (belief 0.65))\n",
      "(oav (object r17) (attribute http://purl.obolibrary.org/obo/RO_0002448) (value r18) (predNS RO) (inferred No) (belief 0.65))\n",
      "(oav (object r19) (attribute http://purl.obolibrary.org/obo/RO_0002448) (value r18) (predNS RO) (inferred No) (belief 0.65))\n",
      "(oav (object r16) (attribute http://purl.obolibrary.org/obo/RO_0002448) (value r20) (predNS RO) (inferred No) (belief 0.65))\n",
      "(oav (object r21) (attribute http://purl.obolibrary.org/obo/RO_0002448) (value r22) (predNS RO) (inferred No) (belief 0.65))\n",
      "(oav (object r8) (attribute http://purl.obolibrary.org/obo/RO_0002448) (value r23) (predNS RO) (inferred No) (belief 0.65))\n",
      "(oav (object r8) (attribute http://purl.obolibrary.org/obo/RO_0002448) (value r9) (predNS RO) (inferred No) (belief 0.9497813))\n",
      "(oav (object r8) (attribute http://purl.obolibrary.org/obo/RO_0002448) (value r13) (predNS RO) (inferred No) (belief 0.65))\n",
      "(oav (object r24) (attribute http://purl.obolibrary.org/obo/RO_0002448) (value r6) (predNS RO) (inferred No) (belief 0.65))\n",
      "(oav (object r25) (attribute http://purl.obolibrary.org/obo/RO_0002448) (value r15) (predNS RO) (inferred No) (belief 0.65))\n",
      "(oav (object r26) (attribute http://purl.obolibrary.org/obo/RO_0002448) (value r22) (predNS RO) (inferred No) (belief 0.65))\n"
     ]
    }
   ],
   "source": [
    "i = 0\n",
    "for fact in env.facts():\n",
    "    print(fact)\n",
    "    if i == 20:\n",
    "        break\n",
    "    i += 1"
   ]
  },
  {
   "cell_type": "code",
   "execution_count": 19,
   "metadata": {},
   "outputs": [
    {
     "data": {
      "text/plain": [
       "21693"
      ]
     },
     "execution_count": 19,
     "metadata": {},
     "output_type": "execute_result"
    }
   ],
   "source": [
    "env.run()"
   ]
  },
  {
   "cell_type": "markdown",
   "metadata": {},
   "source": [
    "The output tells use how many RHS made changes to working memory"
   ]
  },
  {
   "cell_type": "code",
   "execution_count": 20,
   "metadata": {},
   "outputs": [
    {
     "name": "stdout",
     "output_type": "stream",
     "text": [
      "http://purl.obolibrary.org/obo/PR_P10635 r0\n"
     ]
    }
   ],
   "source": [
    "for k in resourceD:\n",
    "    print(k,resourceD[k])\n",
    "    break"
   ]
  },
  {
   "cell_type": "code",
   "execution_count": 21,
   "metadata": {},
   "outputs": [
    {
     "name": "stdout",
     "output_type": "stream",
     "text": [
      "r0 http://purl.obolibrary.org/obo/PR_P10635\n"
     ]
    }
   ],
   "source": [
    "for k in resourceDinv:\n",
    "    print(k,resourceDinv[k])\n",
    "    break"
   ]
  },
  {
   "cell_type": "code",
   "execution_count": 22,
   "metadata": {},
   "outputs": [],
   "source": [
    "import re\n",
    "\n",
    "f = open('closure_output/test-inference.ntriples','r')\n",
    "buf = f.read()\n",
    "f.close()\n",
    "rsL = buf.split('\\n')\n",
    "\n",
    "'''rgx = re.compile('(http://purl.obolibrary.org/obo/)([A-Z_0-9]+)')\n",
    "for i in range(0,len(rsL)):\n",
    "    if rsL[i] == \"\":\n",
    "        continue\n",
    "        \n",
    "    ml = rgx.findall(rsL[i])\n",
    "    if len(ml) != 1:\n",
    "        print('ERROR: could not match on predicate regex: {}'.format(rsL[i]))\n",
    "        continue\n",
    "        \n",
    "    (uri,predicate) = ml[0]\n",
    "    rsL[i] = rsL[i].replace(predicate, predMapD[predicate])'''\n",
    "    \n",
    "\n",
    "f = open('closure_output/inferred-transitive-and-symmetric.ntriples','w')\n",
    "rgx = re.compile('(r[0-9]+)')\n",
    "for it in rsL:\n",
    "    keyL = rgx.findall(it)\n",
    "    newTr = it\n",
    "    for k in keyL:\n",
    "        if resourceDinv.get(k):\n",
    "            newTr = newTr.replace(k, resourceDinv[k])            \n",
    "        else:\n",
    "            print('ERROR: key not found in resourceDinv: {}'.format(k))\n",
    "    f.write(newTr + '\\n')\n",
    "f.close()\n"
   ]
  },
  {
   "cell_type": "markdown",
   "metadata": {},
   "source": [
    "### Save as gpickle file with metadata"
   ]
  },
  {
   "cell_type": "code",
   "execution_count": 23,
   "metadata": {},
   "outputs": [],
   "source": [
    "import pandas as pd\n",
    "import numpy as np\n",
    "import pickle\n",
    "from rdflib.namespace import OWL, RDF, RDFS\n",
    "import os\n",
    "import pickle, json\n",
    "\n",
    "#Create networkx graph from triples\n",
    "import glob\n",
    "import hashlib\n",
    "import json\n",
    "import networkx as nx  # type: ignore\n",
    "import os\n",
    "import os.path\n",
    "\n",
    "from collections import Counter  # type: ignore\n",
    "from more_itertools import unique_everseen  # type: ignore\n",
    "from rdflib import BNode, Graph, Literal, Namespace, URIRef  # type: ignore\n",
    "from rdflib.namespace import OWL, RDF, RDFS  # type: ignore\n",
    "from rdflib.plugins.serializers.nt import _quoteLiteral  # type: ignore\n",
    "import subprocess\n",
    "\n",
    "from tqdm import tqdm  # type: ignore\n",
    "from typing import Dict, List, Optional, Set, Tuple, Union"
   ]
  },
  {
   "cell_type": "code",
   "execution_count": 24,
   "metadata": {},
   "outputs": [],
   "source": [
    "with open('closure_output/inferred-transitive-and-symmetric.ntriples','r') as file1:\n",
    "    g = file1.read()\n",
    "graph1 = g.split('\\n')"
   ]
  },
  {
   "cell_type": "code",
   "execution_count": 25,
   "metadata": {},
   "outputs": [],
   "source": [
    "obo = Namespace('http://purl.obolibrary.org/obo/')\n",
    "oboinowl = Namespace('http://www.geneontology.org/formats/oboInOwl#')\n",
    "schema = Namespace('http://www.w3.org/2001/XMLSchema#')\n",
    "napdi = Namespace('http://napdi.org/napdi_srs_imports:')"
   ]
  },
  {
   "cell_type": "code",
   "execution_count": 26,
   "metadata": {},
   "outputs": [],
   "source": [
    "def n3(node: Union[URIRef, BNode, Literal]) -> str:\n",
    "    \"\"\"Method takes an RDFLib node of type BNode, URIRef, or Literal and serializes it to meet the RDF 1.1 NTriples\n",
    "    format.\n",
    "    Src: https://github.com/RDFLib/rdflib/blob/c11f7b503b50b7c3cdeec0f36261fa09b0615380/rdflib/plugins/serializers/nt.py\n",
    "    Args:\n",
    "        node: An RDFLib\n",
    "    Returns:\n",
    "        serialized_node: A string containing the serialized\n",
    "    \"\"\"\n",
    "    if isinstance(node, Literal): serialized_node = \"%s\" % _quoteLiteral(node)\n",
    "    else: serialized_node = \"%s\" % node.n3()\n",
    "    return serialized_node"
   ]
  },
  {
   "cell_type": "code",
   "execution_count": 27,
   "metadata": {},
   "outputs": [
    {
     "data": {
      "text/plain": [
       "'<http://purl.obolibrary.org/obo/GO_0019814><http://purl.obolibrary.org/obo/RO_0002434><http://purl.obolibrary.org/obo/CHEBI_50904>.'"
      ]
     },
     "execution_count": 27,
     "metadata": {},
     "output_type": "execute_result"
    }
   ],
   "source": [
    "graph1[0]"
   ]
  },
  {
   "cell_type": "code",
   "execution_count": 28,
   "metadata": {},
   "outputs": [],
   "source": [
    "import re"
   ]
  },
  {
   "cell_type": "code",
   "execution_count": null,
   "metadata": {},
   "outputs": [],
   "source": [
    "x = '<http://napdi.org/napdi_srs_imports:epigallocatechin_gallate><http://purl.obolibrary.org/obo/RO_0002213><http://purl.obolibrary.org/obo/CHEBI_27843>.'\n",
    "rgx = re.compile('(http://[a-zA-Z0-9/._:]+)')\n",
    "rgx.findall(x)"
   ]
  },
  {
   "cell_type": "code",
   "execution_count": 29,
   "metadata": {},
   "outputs": [],
   "source": [
    "#convert rdflib graph to multidigraph - code borrowed from PheKnowLator: kg_utils.py\n",
    "#use the pred key to also create a dictionary with metadata about the edge - add INF tag for inferred triples\n",
    "errors = []\n",
    "nx_mdg = nx.MultiDiGraph()\n",
    "for triple in graph1:\n",
    "    #do not save label predicate to gpickle\n",
    "\n",
    "    rgx = re.compile('(http://[a-zA-Z0-9/._:]+)')\n",
    "    match = rgx.findall(triple)\n",
    "    if len(match)!=3:\n",
    "        errors.append(triple)\n",
    "        continue\n",
    "    subj = match[0]\n",
    "    obj = match[2]\n",
    "    pred = match[1]\n",
    "    s = URIRef(subj)\n",
    "    p = URIRef(pred)\n",
    "    o = URIRef(obj)\n",
    "\n",
    "    pred_key = hashlib.md5('{}{}{}'.format(n3(s), n3(p), n3(o)).encode()).hexdigest()\n",
    "    nx_mdg.add_node(s, key=n3(s))\n",
    "    nx_mdg.add_node(o, key=n3(o))\n",
    "    nx_mdg.add_edge(s, o, **{'key': p, 'predicate_key': pred_key, 'weight':0.0,\n",
    "                             'source_graph': 'machine_read_INF'})\n",
    "\n",
    "###add more metadata to the edges\n",
    "\n",
    "nx.write_gpickle(nx_mdg, \"closure_output/machineread_inferred_symmetric_transitive.gpickle\")"
   ]
  },
  {
   "cell_type": "code",
   "execution_count": 30,
   "metadata": {},
   "outputs": [
    {
     "name": "stdout",
     "output_type": "stream",
     "text": [
      "2174 18450 0.003905504157192203 8.486660533578657\n"
     ]
    }
   ],
   "source": [
    "#this should have less edges than rdflib graph after removing 'labels'\n",
    "nodes = nx.number_of_nodes(nx_mdg)\n",
    "edges = nx.number_of_edges(nx_mdg)\n",
    "density = nx.density(nx_mdg)\n",
    "avg_deg = float(edges)/nodes\n",
    "print(nodes, edges, density, avg_deg)"
   ]
  },
  {
   "cell_type": "code",
   "execution_count": 31,
   "metadata": {},
   "outputs": [
    {
     "data": {
      "text/plain": [
       "2"
      ]
     },
     "execution_count": 31,
     "metadata": {},
     "output_type": "execute_result"
    }
   ],
   "source": [
    "len(errors)"
   ]
  },
  {
   "cell_type": "code",
   "execution_count": 32,
   "metadata": {},
   "outputs": [
    {
     "data": {
      "text/plain": [
       "['<http://purl.obolibrary.org/obo/CHEBI_47519><http://purl.obolibrary.org/ob',\n",
       " '']"
      ]
     },
     "execution_count": 32,
     "metadata": {},
     "output_type": "execute_result"
    }
   ],
   "source": [
    "errors"
   ]
  },
  {
   "cell_type": "code",
   "execution_count": 33,
   "metadata": {},
   "outputs": [
    {
     "data": {
      "text/plain": [
       "21633"
      ]
     },
     "execution_count": 33,
     "metadata": {},
     "output_type": "execute_result"
    }
   ],
   "source": [
    "##get stats of inferred triples\n",
    "with open('closure_output/inferred-transitive-and-symmetric.ntriples') as filei:\n",
    "    g = filei.read()\n",
    "graph1 = g.split('\\n')\n",
    "len(graph1)"
   ]
  },
  {
   "cell_type": "code",
   "execution_count": 34,
   "metadata": {},
   "outputs": [
    {
     "data": {
      "text/plain": [
       "'<http://purl.obolibrary.org/obo/GO_0019814><http://purl.obolibrary.org/obo/RO_0002434><http://purl.obolibrary.org/obo/CHEBI_50904>.'"
      ]
     },
     "execution_count": 34,
     "metadata": {},
     "output_type": "execute_result"
    }
   ],
   "source": [
    "graph1[0]"
   ]
  },
  {
   "cell_type": "code",
   "execution_count": 35,
   "metadata": {},
   "outputs": [],
   "source": [
    "s = []\n",
    "p = []\n",
    "o = []\n",
    "for triple in graph1:\n",
    "    rgx = re.compile('(http://[a-zA-Z0-9/._:]+)')\n",
    "    match = rgx.findall(triple)\n",
    "    if len(match)!=3:\n",
    "        errors.append(triple)\n",
    "        continue\n",
    "    subj = match[0]\n",
    "    obj = match[2]\n",
    "    pred = match[1]\n",
    "    s.append(subj)\n",
    "    p.append(pred)\n",
    "    o.append(obj)"
   ]
  },
  {
   "cell_type": "code",
   "execution_count": 36,
   "metadata": {},
   "outputs": [
    {
     "data": {
      "text/html": [
       "<div>\n",
       "<style scoped>\n",
       "    .dataframe tbody tr th:only-of-type {\n",
       "        vertical-align: middle;\n",
       "    }\n",
       "\n",
       "    .dataframe tbody tr th {\n",
       "        vertical-align: top;\n",
       "    }\n",
       "\n",
       "    .dataframe thead th {\n",
       "        text-align: right;\n",
       "    }\n",
       "</style>\n",
       "<table border=\"1\" class=\"dataframe\">\n",
       "  <thead>\n",
       "    <tr style=\"text-align: right;\">\n",
       "      <th></th>\n",
       "      <th>subject_obo</th>\n",
       "      <th>pred_obo</th>\n",
       "      <th>object_obo</th>\n",
       "    </tr>\n",
       "  </thead>\n",
       "  <tbody>\n",
       "    <tr>\n",
       "      <th>0</th>\n",
       "      <td>http://purl.obolibrary.org/obo/GO_0019814</td>\n",
       "      <td>http://purl.obolibrary.org/obo/RO_0002434</td>\n",
       "      <td>http://purl.obolibrary.org/obo/CHEBI_50904</td>\n",
       "    </tr>\n",
       "    <tr>\n",
       "      <th>1</th>\n",
       "      <td>http://purl.obolibrary.org/obo/CHEBI_29014</td>\n",
       "      <td>http://purl.obolibrary.org/obo/RO_0002434</td>\n",
       "      <td>http://purl.obolibrary.org/obo/PR_P10635</td>\n",
       "    </tr>\n",
       "    <tr>\n",
       "      <th>2</th>\n",
       "      <td>http://purl.obolibrary.org/obo/CHEBI_29014</td>\n",
       "      <td>http://purl.obolibrary.org/obo/RO_0002434</td>\n",
       "      <td>http://purl.obolibrary.org/obo/CHEBI_4470</td>\n",
       "    </tr>\n",
       "    <tr>\n",
       "      <th>3</th>\n",
       "      <td>http://purl.obolibrary.org/obo/CHEBI_22586</td>\n",
       "      <td>http://purl.obolibrary.org/obo/RO_0002434</td>\n",
       "      <td>http://purl.obolibrary.org/obo/CHEBI_26519</td>\n",
       "    </tr>\n",
       "    <tr>\n",
       "      <th>4</th>\n",
       "      <td>http://purl.obolibrary.org/obo/CHEBI_17858</td>\n",
       "      <td>http://purl.obolibrary.org/obo/RO_0002434</td>\n",
       "      <td>http://purl.obolibrary.org/obo/CHEBI_25523</td>\n",
       "    </tr>\n",
       "  </tbody>\n",
       "</table>\n",
       "</div>"
      ],
      "text/plain": [
       "                                  subject_obo  \\\n",
       "0   http://purl.obolibrary.org/obo/GO_0019814   \n",
       "1  http://purl.obolibrary.org/obo/CHEBI_29014   \n",
       "2  http://purl.obolibrary.org/obo/CHEBI_29014   \n",
       "3  http://purl.obolibrary.org/obo/CHEBI_22586   \n",
       "4  http://purl.obolibrary.org/obo/CHEBI_17858   \n",
       "\n",
       "                                    pred_obo  \\\n",
       "0  http://purl.obolibrary.org/obo/RO_0002434   \n",
       "1  http://purl.obolibrary.org/obo/RO_0002434   \n",
       "2  http://purl.obolibrary.org/obo/RO_0002434   \n",
       "3  http://purl.obolibrary.org/obo/RO_0002434   \n",
       "4  http://purl.obolibrary.org/obo/RO_0002434   \n",
       "\n",
       "                                   object_obo  \n",
       "0  http://purl.obolibrary.org/obo/CHEBI_50904  \n",
       "1    http://purl.obolibrary.org/obo/PR_P10635  \n",
       "2   http://purl.obolibrary.org/obo/CHEBI_4470  \n",
       "3  http://purl.obolibrary.org/obo/CHEBI_26519  \n",
       "4  http://purl.obolibrary.org/obo/CHEBI_25523  "
      ]
     },
     "execution_count": 36,
     "metadata": {},
     "output_type": "execute_result"
    }
   ],
   "source": [
    "dfinf = pd.DataFrame()\n",
    "dfinf['subject_obo'] = s\n",
    "dfinf['pred_obo'] = p\n",
    "dfinf['object_obo'] = o\n",
    "dfinf.head()"
   ]
  },
  {
   "cell_type": "code",
   "execution_count": 37,
   "metadata": {},
   "outputs": [
    {
     "name": "stdout",
     "output_type": "stream",
     "text": [
      "<class 'pandas.core.frame.DataFrame'>\n",
      "RangeIndex: 21631 entries, 0 to 21630\n",
      "Data columns (total 3 columns):\n",
      " #   Column       Non-Null Count  Dtype \n",
      "---  ------       --------------  ----- \n",
      " 0   subject_obo  21631 non-null  object\n",
      " 1   pred_obo     21631 non-null  object\n",
      " 2   object_obo   21631 non-null  object\n",
      "dtypes: object(3)\n",
      "memory usage: 507.1+ KB\n"
     ]
    }
   ],
   "source": [
    "dfinf.info()"
   ]
  },
  {
   "cell_type": "code",
   "execution_count": 38,
   "metadata": {},
   "outputs": [
    {
     "data": {
      "text/plain": [
       "http://purl.obolibrary.org/obo/BFO_0000050    14807\n",
       "http://purl.obolibrary.org/obo/RO_0002434      6704\n",
       "http://purl.obolibrary.org/obo/RO_0002436        96\n",
       "http://purl.obolibrary.org/obo/BFO_0000063       24\n",
       "Name: pred_obo, dtype: int64"
      ]
     },
     "execution_count": 38,
     "metadata": {},
     "output_type": "execute_result"
    }
   ],
   "source": [
    "dfinf['pred_obo'].value_counts()"
   ]
  },
  {
   "cell_type": "code",
   "execution_count": null,
   "metadata": {},
   "outputs": [],
   "source": [
    "##Update April 2023\n",
    "14807 - part of\n",
    "6704 - interacts with\n",
    "96 - molecularly interacts with\n",
    "24 - precedes"
   ]
  }
 ],
 "metadata": {
  "kernelspec": {
   "display_name": "Python 3.6.13 ('sanya_kg')",
   "language": "python",
   "name": "python3"
  },
  "language_info": {
   "codemirror_mode": {
    "name": "ipython",
    "version": 3
   },
   "file_extension": ".py",
   "mimetype": "text/x-python",
   "name": "python",
   "nbconvert_exporter": "python",
   "pygments_lexer": "ipython3",
   "version": "3.6.13"
  },
  "vscode": {
   "interpreter": {
    "hash": "41f6dbb4620f1287d918c6d619d0adb09c41576ea2dff392e8096d45e1460f3a"
   }
  }
 },
 "nbformat": 4,
 "nbformat_minor": 4
}
