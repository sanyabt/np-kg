{
 "cells": [
  {
   "cell_type": "markdown",
   "metadata": {},
   "source": [
    "## NaPDI machine reading knowledge graph instance closure\n",
    "\n",
    "Closure run for SemRep and REACH predications in merged machine reading graph."
   ]
  },
  {
   "cell_type": "code",
   "execution_count": 1,
   "metadata": {},
   "outputs": [],
   "source": [
    "## Set up the CLIPS environment\n",
    "import clips\n",
    "env = clips.Environment()\n",
    "\n",
    "MIN_PREDICATION_BELIEF = 0\n",
    "MIN_TRANSITIVE_BELIEF = 0  # chosen because it retains most depth 1 transitive inferences over semmed  \n",
    "\n",
    "## NOTE: BE SURE TO CLEAR test-inference.ntriples EACH TIME BEFORE RUNNING!!\n",
    "## This accomplishes that\n",
    "f = open(\"closure_output/test-inference.ntriples\",'w')\n",
    "f.close()"
   ]
  },
  {
   "cell_type": "code",
   "execution_count": 2,
   "metadata": {},
   "outputs": [],
   "source": [
    "import pandas as pd\n",
    "import numpy as np"
   ]
  },
  {
   "cell_type": "code",
   "execution_count": 3,
   "metadata": {},
   "outputs": [],
   "source": [
    "#load merged machine reading graph - ntriples/gpickle - already mapped and processed - LOAD TSVs instead\n",
    "##load TSVs after mapping for all machine reading output\n",
    "mr_reach = 'reach_data/reach_all_predicates_mapped_processed_new_20240528.tsv'\n",
    "mr_semrep = 'semrep_data/semrep_all_predicates_mapped_processed_new_20240528.tsv'"
   ]
  },
  {
   "cell_type": "code",
   "execution_count": 4,
   "metadata": {},
   "outputs": [
    {
     "name": "stdout",
     "output_type": "stream",
     "text": [
      "<class 'pandas.core.frame.DataFrame'>\n",
      "RangeIndex: 49824 entries, 0 to 49823\n",
      "Data columns (total 19 columns):\n",
      " #   Column                Non-Null Count  Dtype  \n",
      "---  ------                --------------  -----  \n",
      " 0   related_common_name   49824 non-null  object \n",
      " 1   subject_cui           46864 non-null  object \n",
      " 2   subject_name          46864 non-null  object \n",
      " 3   subject_source        49824 non-null  object \n",
      " 4   predicate             49824 non-null  object \n",
      " 5   object_source         49824 non-null  object \n",
      " 6   object_cui            47341 non-null  object \n",
      " 7   object_name           47341 non-null  object \n",
      " 8   subj_reach_grounding  49824 non-null  object \n",
      " 9   obj_reach_grounding   49824 non-null  object \n",
      " 10  pmid                  49824 non-null  int64  \n",
      " 11  year                  49824 non-null  object \n",
      " 12  belief                49824 non-null  float64\n",
      " 13  sentence              49824 non-null  object \n",
      " 14  pub_type              49824 non-null  object \n",
      " 15  source_section        1616 non-null   object \n",
      " 16  predicate_obo         49824 non-null  object \n",
      " 17  subject_obo           49824 non-null  object \n",
      " 18  object_obo            49824 non-null  object \n",
      "dtypes: float64(1), int64(1), object(17)\n",
      "memory usage: 7.2+ MB\n"
     ]
    },
    {
     "name": "stderr",
     "output_type": "stream",
     "text": [
      "/home/sanya/.conda/envs/sanya_kg/lib/python3.6/site-packages/IPython/core/interactiveshell.py:3072: DtypeWarning: Columns (15) have mixed types.Specify dtype option on import or set low_memory=False.\n",
      "  interactivity=interactivity, compiler=compiler, result=result)\n"
     ]
    }
   ],
   "source": [
    "dfr = pd.read_csv(mr_reach, sep='\\t')\n",
    "dfr.info()"
   ]
  },
  {
   "cell_type": "code",
   "execution_count": 5,
   "metadata": {},
   "outputs": [
    {
     "name": "stdout",
     "output_type": "stream",
     "text": [
      "<class 'pandas.core.frame.DataFrame'>\n",
      "RangeIndex: 143478 entries, 0 to 143477\n",
      "Data columns (total 17 columns):\n",
      " #   Column               Non-Null Count   Dtype \n",
      "---  ------               --------------   ----- \n",
      " 0   index                143478 non-null  int64 \n",
      " 1   pmid                 143478 non-null  int64 \n",
      " 2   subject_cui          143478 non-null  object\n",
      " 3   subject_name         143478 non-null  object\n",
      " 4   subject_type         143478 non-null  object\n",
      " 5   object_cui           143478 non-null  object\n",
      " 6   object_name          143478 non-null  object\n",
      " 7   object_type          143478 non-null  object\n",
      " 8   year                 143478 non-null  int64 \n",
      " 9   sentence             143478 non-null  object\n",
      " 10  source_section       34610 non-null   object\n",
      " 11  pub_type             74534 non-null   object\n",
      " 12  related_common_name  143478 non-null  object\n",
      " 13  predicate            143478 non-null  object\n",
      " 14  predicate_obo        143478 non-null  object\n",
      " 15  subject_obo          143478 non-null  object\n",
      " 16  object_obo           143478 non-null  object\n",
      "dtypes: int64(3), object(14)\n",
      "memory usage: 18.6+ MB\n"
     ]
    }
   ],
   "source": [
    "dfsem = pd.read_csv(mr_semrep, sep='\\t')\n",
    "dfsem.info()"
   ]
  },
  {
   "cell_type": "code",
   "execution_count": 6,
   "metadata": {},
   "outputs": [],
   "source": [
    "dfr = dfr[['pmid', 'subject_cui', 'subject_name', 'object_cui', 'object_name', 'year', 'predicate', 'sentence', 'predicate_obo', 'subject_obo', 'object_obo', 'belief']]"
   ]
  },
  {
   "cell_type": "code",
   "execution_count": 7,
   "metadata": {},
   "outputs": [],
   "source": [
    "dfsem = dfsem[['pmid', 'subject_cui', 'subject_name', 'object_cui',  'object_name', 'year', 'predicate', 'sentence', 'predicate_obo', 'subject_obo', 'object_obo']]"
   ]
  },
  {
   "cell_type": "code",
   "execution_count": 8,
   "metadata": {},
   "outputs": [],
   "source": [
    "##all dataframes should have the same columns\n",
    "#add belief = 0.8 to semrep predications\n",
    "dfsem['belief'] = 0.8"
   ]
  },
  {
   "cell_type": "code",
   "execution_count": 9,
   "metadata": {},
   "outputs": [
    {
     "name": "stdout",
     "output_type": "stream",
     "text": [
      "<class 'pandas.core.frame.DataFrame'>\n",
      "Int64Index: 193302 entries, 0 to 143477\n",
      "Data columns (total 12 columns):\n",
      " #   Column         Non-Null Count   Dtype  \n",
      "---  ------         --------------   -----  \n",
      " 0   pmid           193302 non-null  int64  \n",
      " 1   subject_cui    190342 non-null  object \n",
      " 2   subject_name   190342 non-null  object \n",
      " 3   object_cui     190819 non-null  object \n",
      " 4   object_name    190819 non-null  object \n",
      " 5   year           193302 non-null  object \n",
      " 6   predicate      193302 non-null  object \n",
      " 7   sentence       193302 non-null  object \n",
      " 8   predicate_obo  193302 non-null  object \n",
      " 9   subject_obo    193302 non-null  object \n",
      " 10  object_obo     193302 non-null  object \n",
      " 11  belief         193302 non-null  float64\n",
      "dtypes: float64(1), int64(1), object(10)\n",
      "memory usage: 19.2+ MB\n"
     ]
    }
   ],
   "source": [
    "df = pd.concat([dfr, dfsem])\n",
    "df.info()"
   ]
  },
  {
   "cell_type": "code",
   "execution_count": 10,
   "metadata": {},
   "outputs": [
    {
     "name": "stdout",
     "output_type": "stream",
     "text": [
      "<class 'pandas.core.frame.DataFrame'>\n",
      "Int64Index: 168270 entries, 0 to 143477\n",
      "Data columns (total 12 columns):\n",
      " #   Column         Non-Null Count   Dtype  \n",
      "---  ------         --------------   -----  \n",
      " 0   pmid           168270 non-null  int64  \n",
      " 1   subject_cui    165418 non-null  object \n",
      " 2   subject_name   165418 non-null  object \n",
      " 3   object_cui     165917 non-null  object \n",
      " 4   object_name    165917 non-null  object \n",
      " 5   year           168270 non-null  object \n",
      " 6   predicate      168270 non-null  object \n",
      " 7   sentence       168270 non-null  object \n",
      " 8   predicate_obo  168270 non-null  object \n",
      " 9   subject_obo    168270 non-null  object \n",
      " 10  object_obo     168270 non-null  object \n",
      " 11  belief         168270 non-null  float64\n",
      "dtypes: float64(1), int64(1), object(10)\n",
      "memory usage: 16.7+ MB\n"
     ]
    }
   ],
   "source": [
    "df = df.drop_duplicates()\n",
    "df.info()"
   ]
  },
  {
   "cell_type": "code",
   "execution_count": 11,
   "metadata": {},
   "outputs": [
    {
     "name": "stdout",
     "output_type": "stream",
     "text": [
      "<class 'pandas.core.frame.DataFrame'>\n",
      "RangeIndex: 168270 entries, 0 to 168269\n",
      "Data columns (total 12 columns):\n",
      " #   Column         Non-Null Count   Dtype  \n",
      "---  ------         --------------   -----  \n",
      " 0   pmid           168270 non-null  int64  \n",
      " 1   subject_cui    165418 non-null  object \n",
      " 2   subject_name   165418 non-null  object \n",
      " 3   object_cui     165917 non-null  object \n",
      " 4   object_name    165917 non-null  object \n",
      " 5   year           168270 non-null  object \n",
      " 6   predicate      168270 non-null  object \n",
      " 7   sentence       168270 non-null  object \n",
      " 8   predicate_obo  168270 non-null  object \n",
      " 9   subject_obo    168270 non-null  object \n",
      " 10  object_obo     168270 non-null  object \n",
      " 11  belief         168270 non-null  float64\n",
      "dtypes: float64(1), int64(1), object(10)\n",
      "memory usage: 15.4+ MB\n"
     ]
    }
   ],
   "source": [
    "df = df.reset_index(drop=True)\n",
    "df.info()"
   ]
  },
  {
   "cell_type": "code",
   "execution_count": 12,
   "metadata": {},
   "outputs": [
    {
     "data": {
      "text/plain": [
       "interacts_with            23194\n",
       "Activation                22269\n",
       "part_of                   18004\n",
       "Inhibition                16853\n",
       "coexists_with             13511\n",
       "inhibits                  12184\n",
       "stimulates                12141\n",
       "affects                   11735\n",
       "treats                     6417\n",
       "disrupts                   5938\n",
       "causes                     5194\n",
       "augments                   4767\n",
       "IncreaseAmount             3842\n",
       "associated_with            2855\n",
       "DecreaseAmount             2789\n",
       "produces                   2176\n",
       "prevents                    906\n",
       "Phosphorylation             727\n",
       "predisposes                 605\n",
       "Hydroxylation               447\n",
       "treats(infer)               383\n",
       "Dephosphorylation           288\n",
       "Dehydroxylation             163\n",
       "Demethylation               156\n",
       "precedes                    100\n",
       "Methylation                  98\n",
       "coexists_with(spec)          46\n",
       "interacts_with(spec)         45\n",
       "Acetylation                  42\n",
       "interacts_with(infer)        42\n",
       "Glycosylation                40\n",
       "associated_with(infer)       37\n",
       "inhibits(spec)               35\n",
       "treats(spec)                 32\n",
       "affects(spec)                28\n",
       "causes(spec)                 25\n",
       "Deacetylation                21\n",
       "Ubiquitination               17\n",
       "stimulates(spec)             16\n",
       "associated_with(spec)        15\n",
       "disrupts(spec)               14\n",
       "complicates                  13\n",
       "prevents(spec)               11\n",
       "part_of(spec)                10\n",
       "Deubiquitination              9\n",
       "augments(spec)                9\n",
       "produces(spec)                6\n",
       "Deglycosylation               5\n",
       "precedes(spec)                4\n",
       "Ribosylation                  3\n",
       "Sumoylation                   2\n",
       "predisposes(spec)             1\n",
       "Name: predicate, dtype: int64"
      ]
     },
     "execution_count": 12,
     "metadata": {},
     "output_type": "execute_result"
    }
   ],
   "source": [
    "df['predicate'].value_counts()"
   ]
  },
  {
   "cell_type": "code",
   "execution_count": 15,
   "metadata": {},
   "outputs": [
    {
     "data": {
      "text/plain": [
       "array(['Acetylation', 'Activation', 'DecreaseAmount', 'Dehydroxylation',\n",
       "       'Demethylation', 'Hydroxylation', 'IncreaseAmount', 'Inhibition',\n",
       "       'Methylation', 'Phosphorylation', 'Dephosphorylation',\n",
       "       'Deacetylation', 'Deglycosylation', 'Glycosylation',\n",
       "       'Ubiquitination', 'Deubiquitination', 'Ribosylation',\n",
       "       'Sumoylation', 'interacts_with', 'part_of', 'associated_with',\n",
       "       'coexists_with', 'affects', 'produces', 'stimulates', 'causes',\n",
       "       'augments', 'disrupts', 'treats', 'inhibits', 'treats(infer)',\n",
       "       'complicates', 'prevents', 'predisposes', 'associated_with(infer)',\n",
       "       'interacts_with(infer)', 'interacts_with(spec)',\n",
       "       'stimulates(spec)', 'disrupts(spec)', 'precedes',\n",
       "       'coexists_with(spec)', 'affects(spec)', 'treats(spec)',\n",
       "       'predisposes(spec)', 'inhibits(spec)', 'associated_with(spec)',\n",
       "       'causes(spec)', 'part_of(spec)', 'augments(spec)',\n",
       "       'precedes(spec)', 'prevents(spec)', 'produces(spec)'], dtype=object)"
      ]
     },
     "execution_count": 15,
     "metadata": {},
     "output_type": "execute_result"
    }
   ],
   "source": [
    "df['predicate'].unique()"
   ]
  },
  {
   "cell_type": "code",
   "execution_count": 13,
   "metadata": {},
   "outputs": [
    {
     "data": {
      "text/plain": [
       "http://purl.obolibrary.org/obo/RO_0002449     29072\n",
       "http://purl.obolibrary.org/obo/RO_0002434     23281\n",
       "http://purl.obolibrary.org/obo/RO_0002448     22269\n",
       "http://purl.obolibrary.org/obo/BFO_0000050    18014\n",
       "http://purl.obolibrary.org/obo/RO_0002490     13557\n",
       "http://purl.obolibrary.org/obo/RO_0002213     12157\n",
       "http://purl.obolibrary.org/obo/RO_0002596     11763\n",
       "http://purl.obolibrary.org/obo/RO_0002606      6832\n",
       "http://purl.obolibrary.org/obo/RO_0002212      5952\n",
       "http://purl.obolibrary.org/obo/RO_0002566      5219\n",
       "http://purl.obolibrary.org/obo/RO_0002598      4776\n",
       "http://purl.obolibrary.org/obo/RO_0011009      3842\n",
       "http://purl.obolibrary.org/obo/RO_0002610      2907\n",
       "http://purl.obolibrary.org/obo/RO_0011010      2789\n",
       "http://purl.obolibrary.org/obo/RO_0003000      2182\n",
       "http://purl.obolibrary.org/obo/RO_0002599       917\n",
       "http://purl.obolibrary.org/obo/RO_0002447       727\n",
       "http://purl.obolibrary.org/obo/RO_0003302       606\n",
       "http://purl.obolibrary.org/obo/GO_0018126       447\n",
       "http://purl.obolibrary.org/obo/GO_0006470       288\n",
       "http://purl.obolibrary.org/obo/RO_0002436       168\n",
       "http://purl.obolibrary.org/obo/GO_0006482       156\n",
       "http://purl.obolibrary.org/obo/BFO_0000063      104\n",
       "http://purl.obolibrary.org/obo/GO_0006479        98\n",
       "http://purl.obolibrary.org/obo/GO_0006473        42\n",
       "http://purl.obolibrary.org/obo/GO_0006486        40\n",
       "http://purl.obolibrary.org/obo/GO_0006476        21\n",
       "http://purl.obolibrary.org/obo/RO_0002480        17\n",
       "http://purl.obolibrary.org/obo/RO_0003309        13\n",
       "http://purl.obolibrary.org/obo/GO_0016579         9\n",
       "http://purl.obolibrary.org/obo/GO_0006517         5\n",
       "Name: predicate_obo, dtype: int64"
      ]
     },
     "execution_count": 13,
     "metadata": {},
     "output_type": "execute_result"
    }
   ],
   "source": [
    "df['predicate_obo'].value_counts()"
   ]
  },
  {
   "cell_type": "markdown",
   "metadata": {},
   "source": [
    "### Rules"
   ]
  },
  {
   "cell_type": "code",
   "execution_count": 14,
   "metadata": {},
   "outputs": [],
   "source": [
    "## Example\n",
    "##Transitive predicates - part of, precedes\n",
    "##Symmetric predicates - interacts_with, moleculary_interacts_with\n",
    "###NPKG version 2: removed 'positively regulates' from transitive predicates\n",
    "env.clear()\n",
    "env.reset()\n",
    "\n",
    "env.eval('(open \"closure_output/test-inference.ntriples\" writeFile \"a\")')\n",
    "\n",
    "env.build(\"\"\"\n",
    "(deftemplate oav\n",
    " (slot object)\n",
    " (slot attribute)\n",
    " (slot value)\n",
    " (slot predNS)\n",
    " (slot inferred (default No))\n",
    " (slot belief (default 0.0)))\n",
    "\"\"\")\n",
    "\n",
    "## Transitive rule \n",
    "env.build(\"\"\"\n",
    "(defrule transitive\n",
    "  \"a simple transitivity rule\"\n",
    "  (oav (object ?o)\n",
    "       (attribute ?pred&:(member$ ?pred (create$ http://purl.obolibrary.org/obo/BFO_0000063 http://purl.obolibrary.org/obo/BFO_0000050)))\n",
    "       (value ?s)\n",
    "       (predNS RO)\n",
    "       (inferred No)\n",
    "       (belief ?b1))\n",
    "  (oav (object ?s)\n",
    "       (attribute ?pred)\n",
    "       (value ?q)\n",
    "       (predNS RO)\n",
    "       (inferred No)\n",
    "       (belief ?b2))\n",
    "   (test (>= (* ?b1 ?b2) {}))\n",
    "  =>\n",
    "  (assert (oav (object ?o)\n",
    "               (attribute ?pred)\n",
    "               (value ?q)\n",
    "               (inferred Yes)\n",
    "               (predNS RO)\n",
    "               (belief (* ?b1 ?b2))))\n",
    "  \n",
    "  (printout writeFile (format nil \"<%s><%s><%s>.%n\" ?o ?pred ?q))   \n",
    ")\n",
    "\"\"\".format(MIN_TRANSITIVE_BELIEF))\n",
    "# NOTE: add this line to RHS to see the belief scores:\n",
    "# (printout writeFile (format nil \"b1: %f, b2: %f, belief: %f>.%n\" ?b1 ?b2 (* ?b1 ?b2))) \n",
    "\n",
    "## simplerule for symmetric relationships \n",
    "env.build(\"\"\"\n",
    "(defrule symmetric\n",
    "  \"a simple symmetry rule\"\n",
    "  (oav (object ?o)\n",
    "       (attribute ?pred&:(member$ ?pred (create$ http://purl.obolibrary.org/obo/RO_0002434 http://purl.obolibrary.org/obo/RO_0002436)))\n",
    "       (value ?s)\n",
    "       (predNS RO)\n",
    "       (inferred No)\n",
    "       (belief ?b))\n",
    "  =>\n",
    "  (assert (oav (object ?s)\n",
    "               (attribute ?pred)\n",
    "               (value ?o)\n",
    "               (inferred Yes)\n",
    "               (predNS RO)\n",
    "               (belief ?b)))\n",
    "  \n",
    "  (printout writeFile (format nil \"<%s><%s><%s>.%n\" ?o ?pred ?s))  \n",
    ")\n",
    "\"\"\")\n"
   ]
  },
  {
   "cell_type": "code",
   "execution_count": 16,
   "metadata": {},
   "outputs": [],
   "source": [
    "##not adding spec and infer as they are already inferred in the data\n",
    "predMapD = {\n",
    "    'regulateactivity':'RO_0011002',\n",
    "    'regulateamount':'RO_0011003',\n",
    "    'phosphorylation':'RO_0002447',\n",
    "    'dephosphorylation':'GO_0006470',\n",
    "    'ubiquitination':'RO_0002480',\n",
    "    'deubiquitination':'GO_0016579',\n",
    "    'sumoylation':'RO_0002436',\n",
    "    'desumoylation':'RO_0002436',\n",
    "    'hydroxylation':'GO_0018126',\n",
    "    'dehydroxylation':'RO_0002436',\n",
    "    'acetylation':'GO_0006473',\n",
    "    'deacetylation':'GO_0006476',\n",
    "    'glycosylation':'GO_0006486',\n",
    "    'deglycosylation':'GO_0006517',\n",
    "    'farnesylation':'RO_0002436',\n",
    "    'defarnesylation':'RO_0002436',\n",
    "    'geranylgeranylation':'RO_0002436',\n",
    "    'degeranylgeranylation':'RO_0002436',\n",
    "    'palmitoylation':'RO_0002436',\n",
    "    'depalmitoylation':'RO_0002436',\n",
    "    'myristoylation':'RO_0002436',\n",
    "    'demyristoylation':'RO_0002436',\n",
    "    'ribosylation':'RO_0002436',\n",
    "    'deribosylation':'RO_0002436',\n",
    "    'methylation':'GO_0006479',\n",
    "    'demethylation':'GO_0006482',\n",
    "    'activation':'RO_0002448',\n",
    "    'inhibition':'RO_0002449',\n",
    "    'increaseamount':'RO_0011009',\n",
    "    'decreaseamount':'RO_0011010',\n",
    "    'affects': 'RO_0002596',\n",
    "    'associated_with': 'RO_0002610',\n",
    "    'augments': 'RO_0002598',\n",
    "    'causes': 'RO_0002566',\n",
    "    'coexists_with': 'RO_0002490',\n",
    "    'complicates': 'RO_0003309',\n",
    "    'disrupts': 'RO_0002212',\n",
    "    'inhibits': 'RO_0002449',\n",
    "    'interacts_with': 'RO_0002434',\n",
    "    'part_of': 'BFO_0000050',\n",
    "    'precedes': 'BFO_0000063',\n",
    "    'predisposes': 'RO_0003302',\n",
    "    'prevents': 'RO_0002599',\n",
    "    'produces': 'RO_0003000',\n",
    "    'stimulates': 'RO_0002213',\n",
    "    'treats': 'RO_0002606'\n",
    "}"
   ]
  },
  {
   "cell_type": "markdown",
   "metadata": {},
   "source": [
    "### Facts "
   ]
  },
  {
   "cell_type": "code",
   "execution_count": 17,
   "metadata": {},
   "outputs": [],
   "source": [
    "originalTriplesF = open('closure_output/original-triples.ntriples','w')\n",
    "\n",
    "resourceD = {}\n",
    "resourceDinv = {}\n",
    "rcnt = 0\n",
    "fctStrD = {}\n",
    "#semTypeD = {}\n",
    "labelsD = {}\n",
    "\n",
    "for i in range(len(df.index)): \n",
    "   \n",
    "    belief = df.at[i, 'belief']\n",
    "    if belief < MIN_PREDICATION_BELIEF:\n",
    "        continue\n",
    "    \n",
    "    (subj_obo, pred_obo, obj_obo) = (df.at[i, 'subject_obo'],\n",
    "                                    df.at[i, 'predicate_obo'],\n",
    "                                    df.at[i, 'object_obo'])\n",
    "    (subj, pred, obj) = (df.at[i,'subject_name'],\n",
    "                        df.at[i,'predicate'].lower().strip(),\n",
    "                        df.at[i, 'object_name'])\n",
    "\n",
    "    # only write out and/or do inference over some predicates\n",
    "    if pred not in predMapD:        \n",
    "        continue\n",
    "        \n",
    "    # write the original triple to file, regardless of the predicate\n",
    "    originalTriplesF.write(\"<{}><{}><{}>.\\n\".format(subj_obo,pred_obo,obj_obo))\n",
    "        \n",
    "    # Track the subject and object names\n",
    "    subjName = subj\n",
    "    objName = obj\n",
    "    \n",
    "    \n",
    "    '''# Track the semantic types\n",
    "    semTypesStr = stmtSplt[SUBJECT_TYPE]\n",
    "    if semTypesStr.find('[') == -1:\n",
    "        if not semTypeD.get(subj):\n",
    "            semTypeD[subj] = [semTypesStr.strip()]\n",
    "        else:\n",
    "            semTypeD[subj] = semTypeD[subj].append(semTypesStr.strip())\n",
    "    else:\n",
    "        semTypesStr = semTypesStr.replace(\"'\",'').replace('[','').replace(']','')\n",
    "        semTypesL = [x.strip() for x in semTypesStr.split(',')]\n",
    "        if not semTypeD.get(subj):\n",
    "            semTypeD[subj] = semTypesL\n",
    "        else:\n",
    "            semTypeD[subj] = semTypeD[subj] + semTypesL\n",
    "            \n",
    "    semTypesStr = stmtSplt[OBJECT_TYPE]\n",
    "    if semTypesStr.find('[') == -1:\n",
    "        if not semTypeD.get(obj):\n",
    "            semTypeD[obj] = [semTypesStr.strip()]\n",
    "        else:\n",
    "            semTypeD[obj] = semTypeD[obj].append(semTypesStr.strip())\n",
    "    else:\n",
    "        semTypesStr = semTypesStr.replace(\"'\",'').replace('[','').replace(']','')\n",
    "        semTypesL = [x.strip() for x in semTypesStr.split(',')]\n",
    "        if not semTypeD.get(obj):\n",
    "            semTypeD[obj] = semTypesL\n",
    "        else:\n",
    "            semTypeD[obj] = semTypeD[obj] + semTypesL'''\n",
    "        \n",
    "    if not resourceD.get(subj_obo):\n",
    "        resourceD[subj_obo] = 'r{}'.format(rcnt)\n",
    "        resourceDinv['r{}'.format(rcnt)] = subj_obo\n",
    "        rcnt += 1\n",
    "    \n",
    "    if not resourceD.get(obj_obo):\n",
    "        resourceD[obj_obo] = 'r{}'.format(rcnt)\n",
    "        resourceDinv['r{}'.format(rcnt)] = obj_obo\n",
    "        rcnt += 1    \n",
    "    \n",
    "        \n",
    "    fctStr = \"\"\"\n",
    "(oav (object {})\n",
    "     (attribute {})\n",
    "     (value {})\n",
    "     (predNS {})\n",
    "     (belief {})\n",
    ")\"\"\".format(resourceD[subj_obo], pred_obo, resourceD[obj_obo], 'RO', belief)\n",
    "    \n",
    "    if not fctStrD.get(fctStr): \n",
    "        env.assert_string(fctStr)\n",
    "        fctStrD[fctStr] = 1\n",
    "    \n",
    "    \n",
    "    # write the human readable labels as triples\n",
    "    if isinstance(subj,str):\n",
    "        originalTriplesF.write('<{}><http://www.w3.org/2000/01/rdf-schema#label> \"{}\".\\n'.format(subj_obo,subj.replace('\"','')))\n",
    "    if isinstance(obj,str):\n",
    "        originalTriplesF.write('<{}><http://www.w3.org/2000/01/rdf-schema#label> \"{}\".\\n'.format(obj_obo,obj.replace('\"','')))\n",
    "\n",
    "'''# Write the semantic types as triples\n",
    "for (e,st) in semTypeD.items():\n",
    "    if st:\n",
    "        stSet = set(st)\n",
    "        for elt in stSet:\n",
    "            originalTriplesF.write(\"<http://dikb.org/ad#{}><http://www.w3.org/1999/02/22-rdf-syntax-ns#type><http://umls.org/st/#{}>.\\n\".format(e,elt.replace('\"','')))\n",
    "'''\n",
    "originalTriplesF.close()"
   ]
  },
  {
   "cell_type": "code",
   "execution_count": 18,
   "metadata": {},
   "outputs": [
    {
     "name": "stdout",
     "output_type": "stream",
     "text": [
      "(oav (object r0) (attribute http://purl.obolibrary.org/obo/GO_0006473) (value r1) (predNS RO) (inferred No) (belief 0.65))\n",
      "(oav (object r0) (attribute http://purl.obolibrary.org/obo/GO_0006473) (value r2) (predNS RO) (inferred No) (belief 0.65))\n",
      "(oav (object r3) (attribute http://purl.obolibrary.org/obo/RO_0002448) (value r4) (predNS RO) (inferred No) (belief 0.65))\n",
      "(oav (object r5) (attribute http://purl.obolibrary.org/obo/RO_0002448) (value r6) (predNS RO) (inferred No) (belief 0.65))\n",
      "(oav (object r5) (attribute http://purl.obolibrary.org/obo/RO_0002448) (value r7) (predNS RO) (inferred No) (belief 0.65))\n",
      "(oav (object r8) (attribute http://purl.obolibrary.org/obo/RO_0002448) (value r9) (predNS RO) (inferred No) (belief 0.65))\n",
      "(oav (object r0) (attribute http://purl.obolibrary.org/obo/RO_0002448) (value r4) (predNS RO) (inferred No) (belief 0.65))\n",
      "(oav (object r10) (attribute http://purl.obolibrary.org/obo/RO_0002448) (value r5) (predNS RO) (inferred No) (belief 0.65))\n",
      "(oav (object r11) (attribute http://purl.obolibrary.org/obo/RO_0002448) (value r12) (predNS RO) (inferred No) (belief 0.65))\n",
      "(oav (object r11) (attribute http://purl.obolibrary.org/obo/RO_0002448) (value r13) (predNS RO) (inferred No) (belief 0.65))\n",
      "(oav (object r11) (attribute http://purl.obolibrary.org/obo/RO_0002448) (value r14) (predNS RO) (inferred No) (belief 0.65))\n",
      "(oav (object r11) (attribute http://purl.obolibrary.org/obo/RO_0002448) (value r15) (predNS RO) (inferred No) (belief 0.65))\n",
      "(oav (object r16) (attribute http://purl.obolibrary.org/obo/RO_0002448) (value r17) (predNS RO) (inferred No) (belief 0.65))\n",
      "(oav (object r16) (attribute http://purl.obolibrary.org/obo/RO_0002448) (value r18) (predNS RO) (inferred No) (belief 0.65))\n",
      "(oav (object r19) (attribute http://purl.obolibrary.org/obo/RO_0002448) (value r20) (predNS RO) (inferred No) (belief 0.65))\n",
      "(oav (object r21) (attribute http://purl.obolibrary.org/obo/RO_0002448) (value r22) (predNS RO) (inferred No) (belief 0.86))\n",
      "(oav (object r23) (attribute http://purl.obolibrary.org/obo/RO_0002448) (value r24) (predNS RO) (inferred No) (belief 0.65))\n",
      "(oav (object r25) (attribute http://purl.obolibrary.org/obo/RO_0002448) (value r26) (predNS RO) (inferred No) (belief 0.65))\n",
      "(oav (object r5) (attribute http://purl.obolibrary.org/obo/RO_0002448) (value r8) (predNS RO) (inferred No) (belief 0.65))\n",
      "(oav (object r5) (attribute http://purl.obolibrary.org/obo/RO_0002448) (value r27) (predNS RO) (inferred No) (belief 0.65))\n",
      "(oav (object r5) (attribute http://purl.obolibrary.org/obo/RO_0002448) (value r28) (predNS RO) (inferred No) (belief 0.65))\n"
     ]
    }
   ],
   "source": [
    "i = 0\n",
    "for fact in env.facts():\n",
    "    print(fact)\n",
    "    if i == 20:\n",
    "        break\n",
    "    i += 1"
   ]
  },
  {
   "cell_type": "code",
   "execution_count": 19,
   "metadata": {},
   "outputs": [
    {
     "data": {
      "text/plain": [
       "38408"
      ]
     },
     "execution_count": 19,
     "metadata": {},
     "output_type": "execute_result"
    }
   ],
   "source": [
    "env.run()"
   ]
  },
  {
   "cell_type": "markdown",
   "metadata": {},
   "source": [
    "The output tells use how many RHS made changes to working memory"
   ]
  },
  {
   "cell_type": "code",
   "execution_count": 20,
   "metadata": {},
   "outputs": [
    {
     "name": "stdout",
     "output_type": "stream",
     "text": [
      "http://purl.obolibrary.org/obo/CHEBI_17364 r0\n"
     ]
    }
   ],
   "source": [
    "for k in resourceD:\n",
    "    print(k,resourceD[k])\n",
    "    break"
   ]
  },
  {
   "cell_type": "code",
   "execution_count": 21,
   "metadata": {},
   "outputs": [
    {
     "name": "stdout",
     "output_type": "stream",
     "text": [
      "r0 http://purl.obolibrary.org/obo/CHEBI_17364\n"
     ]
    }
   ],
   "source": [
    "for k in resourceDinv:\n",
    "    print(k,resourceDinv[k])\n",
    "    break"
   ]
  },
  {
   "cell_type": "code",
   "execution_count": 22,
   "metadata": {},
   "outputs": [],
   "source": [
    "import re\n",
    "\n",
    "f = open('closure_output/test-inference.ntriples','r')\n",
    "buf = f.read()\n",
    "f.close()\n",
    "rsL = buf.split('\\n')\n",
    "\n",
    "'''rgx = re.compile('(http://purl.obolibrary.org/obo/)([A-Z_0-9]+)')\n",
    "for i in range(0,len(rsL)):\n",
    "    if rsL[i] == \"\":\n",
    "        continue\n",
    "        \n",
    "    ml = rgx.findall(rsL[i])\n",
    "    if len(ml) != 1:\n",
    "        print('ERROR: could not match on predicate regex: {}'.format(rsL[i]))\n",
    "        continue\n",
    "        \n",
    "    (uri,predicate) = ml[0]\n",
    "    rsL[i] = rsL[i].replace(predicate, predMapD[predicate])'''\n",
    "    \n",
    "\n",
    "f = open('closure_output/inferred-transitive-and-symmetric.ntriples','w')\n",
    "rgx = re.compile('(r[0-9]+)')\n",
    "for it in rsL:\n",
    "    keyL = rgx.findall(it)\n",
    "    newTr = it\n",
    "    for k in keyL:\n",
    "        if resourceDinv.get(k):\n",
    "            newTr = newTr.replace(k, resourceDinv[k])            \n",
    "        else:\n",
    "            print('ERROR: key not found in resourceDinv: {}'.format(k))\n",
    "    f.write(newTr + '\\n')\n",
    "f.close()\n"
   ]
  },
  {
   "cell_type": "markdown",
   "metadata": {},
   "source": [
    "### Save as gpickle file with metadata"
   ]
  },
  {
   "cell_type": "code",
   "execution_count": 23,
   "metadata": {},
   "outputs": [],
   "source": [
    "import pandas as pd\n",
    "import numpy as np\n",
    "import pickle\n",
    "from rdflib.namespace import OWL, RDF, RDFS\n",
    "import os\n",
    "import pickle, json\n",
    "\n",
    "#Create networkx graph from triples\n",
    "import glob\n",
    "import hashlib\n",
    "import json\n",
    "import networkx as nx  # type: ignore\n",
    "import os\n",
    "import os.path\n",
    "\n",
    "from collections import Counter  # type: ignore\n",
    "from more_itertools import unique_everseen  # type: ignore\n",
    "from rdflib import BNode, Graph, Literal, Namespace, URIRef  # type: ignore\n",
    "from rdflib.namespace import OWL, RDF, RDFS  # type: ignore\n",
    "from rdflib.plugins.serializers.nt import _quoteLiteral  # type: ignore\n",
    "import subprocess\n",
    "\n",
    "from tqdm import tqdm  # type: ignore\n",
    "from typing import Dict, List, Optional, Set, Tuple, Union"
   ]
  },
  {
   "cell_type": "code",
   "execution_count": 24,
   "metadata": {},
   "outputs": [],
   "source": [
    "with open('closure_output/inferred-transitive-and-symmetric.ntriples','r') as file1:\n",
    "    g = file1.read()\n",
    "graph1 = g.split('\\n')"
   ]
  },
  {
   "cell_type": "code",
   "execution_count": 25,
   "metadata": {},
   "outputs": [],
   "source": [
    "obo = Namespace('http://purl.obolibrary.org/obo/')\n",
    "oboinowl = Namespace('http://www.geneontology.org/formats/oboInOwl#')\n",
    "schema = Namespace('http://www.w3.org/2001/XMLSchema#')\n",
    "napdi = Namespace('http://napdi.org/napdi_srs_imports:')"
   ]
  },
  {
   "cell_type": "code",
   "execution_count": 26,
   "metadata": {},
   "outputs": [],
   "source": [
    "def n3(node: Union[URIRef, BNode, Literal]) -> str:\n",
    "    \"\"\"Method takes an RDFLib node of type BNode, URIRef, or Literal and serializes it to meet the RDF 1.1 NTriples\n",
    "    format.\n",
    "    Src: https://github.com/RDFLib/rdflib/blob/c11f7b503b50b7c3cdeec0f36261fa09b0615380/rdflib/plugins/serializers/nt.py\n",
    "    Args:\n",
    "        node: An RDFLib\n",
    "    Returns:\n",
    "        serialized_node: A string containing the serialized\n",
    "    \"\"\"\n",
    "    if isinstance(node, Literal): serialized_node = \"%s\" % _quoteLiteral(node)\n",
    "    else: serialized_node = \"%s\" % node.n3()\n",
    "    return serialized_node"
   ]
  },
  {
   "cell_type": "code",
   "execution_count": 27,
   "metadata": {},
   "outputs": [
    {
     "data": {
      "text/plain": [
       "'<http://purl.obolibrary.org/obo/CHEBI_27616><http://purl.obolibrary.org/obo/RO_0002434><http://purl.obolibrary.org/obo/SO_0000409>.'"
      ]
     },
     "execution_count": 27,
     "metadata": {},
     "output_type": "execute_result"
    }
   ],
   "source": [
    "graph1[0]"
   ]
  },
  {
   "cell_type": "code",
   "execution_count": 28,
   "metadata": {},
   "outputs": [],
   "source": [
    "import re"
   ]
  },
  {
   "cell_type": "code",
   "execution_count": 29,
   "metadata": {},
   "outputs": [],
   "source": [
    "#convert rdflib graph to multidigraph - code borrowed from PheKnowLator: kg_utils.py\n",
    "#use the pred key to also create a dictionary with metadata about the edge - add INF tag for inferred triples\n",
    "errors = []\n",
    "nx_mdg = nx.MultiDiGraph()\n",
    "for triple in graph1:\n",
    "    #do not save label predicate to gpickle\n",
    "\n",
    "    rgx = re.compile('(http://[a-zA-Z0-9/._:]+)')\n",
    "    match = rgx.findall(triple)\n",
    "    if len(match)!=3:\n",
    "        errors.append(triple)\n",
    "        continue\n",
    "    subj = match[0]\n",
    "    obj = match[2]\n",
    "    pred = match[1]\n",
    "    s = URIRef(subj)\n",
    "    p = URIRef(pred)\n",
    "    o = URIRef(obj)\n",
    "\n",
    "    pred_key = hashlib.md5('{}{}{}'.format(n3(s), n3(p), n3(o)).encode()).hexdigest()\n",
    "    nx_mdg.add_node(s, key=n3(s))\n",
    "    nx_mdg.add_node(o, key=n3(o))\n",
    "    nx_mdg.add_edge(s, o, **{'key': p, 'predicate_key': pred_key, 'weight':0.0,\n",
    "                             'source_graph': 'machine_read_INF'})\n",
    "\n",
    "###add more metadata to the edges\n",
    "\n",
    "nx.write_gpickle(nx_mdg, \"closure_output/machineread_inferred_symmetric_transitive.gpickle\")"
   ]
  },
  {
   "cell_type": "code",
   "execution_count": 30,
   "metadata": {},
   "outputs": [
    {
     "name": "stdout",
     "output_type": "stream",
     "text": [
      "4123 33333 0.0019613408786086925 8.08464710162503\n"
     ]
    }
   ],
   "source": [
    "#this should have less edges than rdflib graph after removing 'labels'\n",
    "nodes = nx.number_of_nodes(nx_mdg)\n",
    "edges = nx.number_of_edges(nx_mdg)\n",
    "density = nx.density(nx_mdg)\n",
    "avg_deg = float(edges)/nodes\n",
    "print(nodes, edges, density, avg_deg)"
   ]
  },
  {
   "cell_type": "code",
   "execution_count": 31,
   "metadata": {},
   "outputs": [
    {
     "data": {
      "text/plain": [
       "1"
      ]
     },
     "execution_count": 31,
     "metadata": {},
     "output_type": "execute_result"
    }
   ],
   "source": [
    "len(errors)"
   ]
  },
  {
   "cell_type": "code",
   "execution_count": 32,
   "metadata": {},
   "outputs": [
    {
     "data": {
      "text/plain": [
       "['']"
      ]
     },
     "execution_count": 32,
     "metadata": {},
     "output_type": "execute_result"
    }
   ],
   "source": [
    "errors"
   ]
  },
  {
   "cell_type": "code",
   "execution_count": 33,
   "metadata": {},
   "outputs": [
    {
     "data": {
      "text/plain": [
       "38373"
      ]
     },
     "execution_count": 33,
     "metadata": {},
     "output_type": "execute_result"
    }
   ],
   "source": [
    "##get stats of inferred triples\n",
    "with open('closure_output/inferred-transitive-and-symmetric.ntriples') as filei:\n",
    "    g = filei.read()\n",
    "graph1 = g.split('\\n')\n",
    "len(graph1)"
   ]
  },
  {
   "cell_type": "code",
   "execution_count": 34,
   "metadata": {},
   "outputs": [
    {
     "data": {
      "text/plain": [
       "'<http://purl.obolibrary.org/obo/CHEBI_27616><http://purl.obolibrary.org/obo/RO_0002434><http://purl.obolibrary.org/obo/SO_0000409>.'"
      ]
     },
     "execution_count": 34,
     "metadata": {},
     "output_type": "execute_result"
    }
   ],
   "source": [
    "graph1[0]"
   ]
  },
  {
   "cell_type": "code",
   "execution_count": 35,
   "metadata": {},
   "outputs": [],
   "source": [
    "s = []\n",
    "p = []\n",
    "o = []\n",
    "for triple in graph1:\n",
    "    rgx = re.compile('(http://[a-zA-Z0-9/._:]+)')\n",
    "    match = rgx.findall(triple)\n",
    "    if len(match)!=3:\n",
    "        errors.append(triple)\n",
    "        continue\n",
    "    subj = match[0]\n",
    "    obj = match[2]\n",
    "    pred = match[1]\n",
    "    s.append(subj)\n",
    "    p.append(pred)\n",
    "    o.append(obj)"
   ]
  },
  {
   "cell_type": "code",
   "execution_count": 36,
   "metadata": {},
   "outputs": [
    {
     "data": {
      "text/html": [
       "<div>\n",
       "<style scoped>\n",
       "    .dataframe tbody tr th:only-of-type {\n",
       "        vertical-align: middle;\n",
       "    }\n",
       "\n",
       "    .dataframe tbody tr th {\n",
       "        vertical-align: top;\n",
       "    }\n",
       "\n",
       "    .dataframe thead th {\n",
       "        text-align: right;\n",
       "    }\n",
       "</style>\n",
       "<table border=\"1\" class=\"dataframe\">\n",
       "  <thead>\n",
       "    <tr style=\"text-align: right;\">\n",
       "      <th></th>\n",
       "      <th>subject_obo</th>\n",
       "      <th>pred_obo</th>\n",
       "      <th>object_obo</th>\n",
       "    </tr>\n",
       "  </thead>\n",
       "  <tbody>\n",
       "    <tr>\n",
       "      <th>0</th>\n",
       "      <td>http://purl.obolibrary.org/obo/CHEBI_27616</td>\n",
       "      <td>http://purl.obolibrary.org/obo/RO_0002434</td>\n",
       "      <td>http://purl.obolibrary.org/obo/SO_0000409</td>\n",
       "    </tr>\n",
       "    <tr>\n",
       "      <th>1</th>\n",
       "      <td>http://purl.obolibrary.org/obo/CHEBI_47519</td>\n",
       "      <td>http://purl.obolibrary.org/obo/RO_0002434</td>\n",
       "      <td>http://purl.obolibrary.org/obo/CHEBI_8805</td>\n",
       "    </tr>\n",
       "    <tr>\n",
       "      <th>2</th>\n",
       "      <td>http://purl.obolibrary.org/obo/CHEBI_8107</td>\n",
       "      <td>http://purl.obolibrary.org/obo/RO_0002434</td>\n",
       "      <td>http://purl.obolibrary.org/obo/CHEBI_8805</td>\n",
       "    </tr>\n",
       "    <tr>\n",
       "      <th>3</th>\n",
       "      <td>http://purl.obolibrary.org/obo/CHEBI_8805</td>\n",
       "      <td>http://purl.obolibrary.org/obo/RO_0002434</td>\n",
       "      <td>http://purl.obolibrary.org/obo/PR_000006119</td>\n",
       "    </tr>\n",
       "    <tr>\n",
       "      <th>4</th>\n",
       "      <td>http://purl.obolibrary.org/obo/PR_000015227</td>\n",
       "      <td>http://purl.obolibrary.org/obo/RO_0002434</td>\n",
       "      <td>http://purl.obolibrary.org/obo/CHEBI_28527</td>\n",
       "    </tr>\n",
       "  </tbody>\n",
       "</table>\n",
       "</div>"
      ],
      "text/plain": [
       "                                   subject_obo  \\\n",
       "0   http://purl.obolibrary.org/obo/CHEBI_27616   \n",
       "1   http://purl.obolibrary.org/obo/CHEBI_47519   \n",
       "2    http://purl.obolibrary.org/obo/CHEBI_8107   \n",
       "3    http://purl.obolibrary.org/obo/CHEBI_8805   \n",
       "4  http://purl.obolibrary.org/obo/PR_000015227   \n",
       "\n",
       "                                    pred_obo  \\\n",
       "0  http://purl.obolibrary.org/obo/RO_0002434   \n",
       "1  http://purl.obolibrary.org/obo/RO_0002434   \n",
       "2  http://purl.obolibrary.org/obo/RO_0002434   \n",
       "3  http://purl.obolibrary.org/obo/RO_0002434   \n",
       "4  http://purl.obolibrary.org/obo/RO_0002434   \n",
       "\n",
       "                                    object_obo  \n",
       "0    http://purl.obolibrary.org/obo/SO_0000409  \n",
       "1    http://purl.obolibrary.org/obo/CHEBI_8805  \n",
       "2    http://purl.obolibrary.org/obo/CHEBI_8805  \n",
       "3  http://purl.obolibrary.org/obo/PR_000006119  \n",
       "4   http://purl.obolibrary.org/obo/CHEBI_28527  "
      ]
     },
     "execution_count": 36,
     "metadata": {},
     "output_type": "execute_result"
    }
   ],
   "source": [
    "dfinf = pd.DataFrame()\n",
    "dfinf['subject_obo'] = s\n",
    "dfinf['pred_obo'] = p\n",
    "dfinf['object_obo'] = o\n",
    "dfinf.head()"
   ]
  },
  {
   "cell_type": "code",
   "execution_count": 37,
   "metadata": {},
   "outputs": [
    {
     "name": "stdout",
     "output_type": "stream",
     "text": [
      "<class 'pandas.core.frame.DataFrame'>\n",
      "RangeIndex: 38372 entries, 0 to 38371\n",
      "Data columns (total 3 columns):\n",
      " #   Column       Non-Null Count  Dtype \n",
      "---  ------       --------------  ----- \n",
      " 0   subject_obo  38372 non-null  object\n",
      " 1   pred_obo     38372 non-null  object\n",
      " 2   object_obo   38372 non-null  object\n",
      "dtypes: object(3)\n",
      "memory usage: 899.5+ KB\n"
     ]
    }
   ],
   "source": [
    "dfinf.info()"
   ]
  },
  {
   "cell_type": "code",
   "execution_count": 38,
   "metadata": {},
   "outputs": [
    {
     "data": {
      "text/plain": [
       "http://purl.obolibrary.org/obo/BFO_0000050    25849\n",
       "http://purl.obolibrary.org/obo/RO_0002434     12354\n",
       "http://purl.obolibrary.org/obo/RO_0002436       132\n",
       "http://purl.obolibrary.org/obo/BFO_0000063       37\n",
       "Name: pred_obo, dtype: int64"
      ]
     },
     "execution_count": 38,
     "metadata": {},
     "output_type": "execute_result"
    }
   ],
   "source": [
    "dfinf['pred_obo'].value_counts()"
   ]
  },
  {
   "cell_type": "code",
   "execution_count": null,
   "metadata": {},
   "outputs": [],
   "source": [
    "##Update June 2024\n",
    "25849 - part of\n",
    "12354 - interacts with\n",
    "132 - molecularly interacts with\n",
    "37 - precedes"
   ]
  }
 ],
 "metadata": {
  "kernelspec": {
   "display_name": "Python 3.6.13 ('sanya_kg')",
   "language": "python",
   "name": "python3"
  },
  "language_info": {
   "codemirror_mode": {
    "name": "ipython",
    "version": 3
   },
   "file_extension": ".py",
   "mimetype": "text/x-python",
   "name": "python",
   "nbconvert_exporter": "python",
   "pygments_lexer": "ipython3",
   "version": "3.6.13"
  },
  "vscode": {
   "interpreter": {
    "hash": "41f6dbb4620f1287d918c6d619d0adb09c41576ea2dff392e8096d45e1460f3a"
   }
  }
 },
 "nbformat": 4,
 "nbformat_minor": 4
}
